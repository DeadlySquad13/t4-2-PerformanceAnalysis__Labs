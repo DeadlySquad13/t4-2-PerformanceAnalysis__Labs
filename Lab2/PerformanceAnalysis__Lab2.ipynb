{
  "nbformat": 4,
  "nbformat_minor": 0,
  "metadata": {
    "colab": {
      "provenance": [],
      "collapsed_sections": [
        "G9kpBkh-cJgO",
        "Z2LESa_K4LOt",
        "jmPRYfPp4PLk",
        "PHHJZyfD4Bsz",
        "Me6H7byw56sy",
        "auMFd3TO56s7",
        "TklxadB056s9",
        "hGLA9RTv7SGW",
        "55CQsIXX7vhy",
        "da414c21-adb1-4eca-9728-e16f19b2ba90",
        "GnnVVi2ucc4A",
        "df09bd25-2d9a-4373-82af-02771272d756"
      ]
    },
    "kernelspec": {
      "name": "ir",
      "display_name": "R"
    },
    "language_info": {
      "name": "R"
    }
  },
  "cells": [
    {
      "cell_type": "markdown",
      "source": [
        "# Лабораторная работа 2. Методы анализа параметров компонентов моделей функционирования КИС\n",
        "Выполнил: Пакало Александр Сергеевич РТ5-81Б\n",
        "\n",
        "Вариант: 5"
      ],
      "metadata": {
        "id": "Lnysmdgjb9ha"
      }
    },
    {
      "cell_type": "markdown",
      "source": [
        "## Задание 1"
      ],
      "metadata": {
        "id": "G9kpBkh-cJgO"
      }
    },
    {
      "cell_type": "markdown",
      "source": [
        "Подготовим датасет для исследования"
      ],
      "metadata": {
        "id": "5qN7ZZtLcQaf"
      }
    },
    {
      "cell_type": "code",
      "source": [
        "Variant <- 5\n",
        "NRows <- 5\n",
        "set.seed(Variant)\n",
        "X1 <- sample(c(1:20), NRows)\n",
        "X2 <- sample(c(3:100), NRows)\n",
        "X3 <- sample(c(0:40), NRows)\n",
        "\n",
        "pp1 <- runif(5)\n",
        "p1 <- pp1 / sum(pp1)\n",
        "\n",
        "pp2 <- runif(5)\n",
        "p2 <- pp2 / sum(pp2)\n",
        "\n",
        "pp3 <- runif(5)\n",
        "p3 <- pp3 / sum(pp3)"
      ],
      "metadata": {
        "id": "PSvKJkwyryUH"
      },
      "execution_count": 458,
      "outputs": []
    },
    {
      "cell_type": "code",
      "source": [
        "df <- data.frame(X1, X2, X3, p1, p2, p3)\n",
        "View(df)"
      ],
      "metadata": {
        "colab": {
          "base_uri": "https://localhost:8080/",
          "height": 254
        },
        "id": "UErh0B-hs1sH",
        "outputId": "f206c4cb-2244-4ce6-97d0-bbea18281750"
      },
      "execution_count": 459,
      "outputs": [
        {
          "output_type": "display_data",
          "data": {
            "text/plain": [
              "  X1 X2 X3 p1         p2        p3        \n",
              "1  2 43  2 0.40686825 0.1610350 0.53915046\n",
              "2 11 87 37 0.32939564 0.1467735 0.07196561\n",
              "3 15 96 11 0.09659285 0.3241292 0.33356559\n",
              "4 19 73 15 0.10316386 0.0476192 0.03776129\n",
              "5  9 21 25 0.06397940 0.3204431 0.01755706"
            ],
            "text/html": [
              "<table class=\"dataframe\">\n",
              "<caption>A data.frame: 5 × 6</caption>\n",
              "<thead>\n",
              "\t<tr><th scope=col>X1</th><th scope=col>X2</th><th scope=col>X3</th><th scope=col>p1</th><th scope=col>p2</th><th scope=col>p3</th></tr>\n",
              "\t<tr><th scope=col>&lt;int&gt;</th><th scope=col>&lt;int&gt;</th><th scope=col>&lt;int&gt;</th><th scope=col>&lt;dbl&gt;</th><th scope=col>&lt;dbl&gt;</th><th scope=col>&lt;dbl&gt;</th></tr>\n",
              "</thead>\n",
              "<tbody>\n",
              "\t<tr><td> 2</td><td>43</td><td> 2</td><td>0.40686825</td><td>0.1610350</td><td>0.53915046</td></tr>\n",
              "\t<tr><td>11</td><td>87</td><td>37</td><td>0.32939564</td><td>0.1467735</td><td>0.07196561</td></tr>\n",
              "\t<tr><td>15</td><td>96</td><td>11</td><td>0.09659285</td><td>0.3241292</td><td>0.33356559</td></tr>\n",
              "\t<tr><td>19</td><td>73</td><td>15</td><td>0.10316386</td><td>0.0476192</td><td>0.03776129</td></tr>\n",
              "\t<tr><td> 9</td><td>21</td><td>25</td><td>0.06397940</td><td>0.3204431</td><td>0.01755706</td></tr>\n",
              "</tbody>\n",
              "</table>\n"
            ],
            "text/markdown": "\nA data.frame: 5 × 6\n\n| X1 &lt;int&gt; | X2 &lt;int&gt; | X3 &lt;int&gt; | p1 &lt;dbl&gt; | p2 &lt;dbl&gt; | p3 &lt;dbl&gt; |\n|---|---|---|---|---|---|\n|  2 | 43 |  2 | 0.40686825 | 0.1610350 | 0.53915046 |\n| 11 | 87 | 37 | 0.32939564 | 0.1467735 | 0.07196561 |\n| 15 | 96 | 11 | 0.09659285 | 0.3241292 | 0.33356559 |\n| 19 | 73 | 15 | 0.10316386 | 0.0476192 | 0.03776129 |\n|  9 | 21 | 25 | 0.06397940 | 0.3204431 | 0.01755706 |\n\n",
            "text/latex": "A data.frame: 5 × 6\n\\begin{tabular}{llllll}\n X1 & X2 & X3 & p1 & p2 & p3\\\\\n <int> & <int> & <int> & <dbl> & <dbl> & <dbl>\\\\\n\\hline\n\t  2 & 43 &  2 & 0.40686825 & 0.1610350 & 0.53915046\\\\\n\t 11 & 87 & 37 & 0.32939564 & 0.1467735 & 0.07196561\\\\\n\t 15 & 96 & 11 & 0.09659285 & 0.3241292 & 0.33356559\\\\\n\t 19 & 73 & 15 & 0.10316386 & 0.0476192 & 0.03776129\\\\\n\t  9 & 21 & 25 & 0.06397940 & 0.3204431 & 0.01755706\\\\\n\\end{tabular}\n"
          },
          "metadata": {}
        }
      ]
    },
    {
      "cell_type": "markdown",
      "source": [
        "## Задание 1.1"
      ],
      "metadata": {
        "id": "9oy9wc5s4Hhe"
      }
    },
    {
      "cell_type": "markdown",
      "source": [
        "Для численного вычисления статистических характеристик понадобятся сгенерированные распределения. Реализуем это с помощью следующих функций."
      ],
      "metadata": {
        "id": "2f8l6K042PMj"
      }
    },
    {
      "cell_type": "markdown",
      "source": [
        "Разделяем отрезок на подотрезки длиной в $p_i$."
      ],
      "metadata": {
        "id": "WnpCaMxB3c5E"
      }
    },
    {
      "cell_type": "code",
      "source": [
        "# Получаем значение, соответствующее отрезку.\n",
        "# За отрезки отвечает параметр p, хранящий последовательность длин.\n",
        "getValueInRange <- function(v, X, p) {\n",
        "  border <- 0\n",
        "  for (i in 1:length(p)) {\n",
        "    border <- border + p[i]\n",
        "    if (v < border) {\n",
        "      return(X[i])\n",
        "    }\n",
        "  }\n",
        "}"
      ],
      "metadata": {
        "id": "6XPYDGY0wtKG"
      },
      "execution_count": 460,
      "outputs": []
    },
    {
      "cell_type": "markdown",
      "source": [
        "Генерируем N значений по распределению, заданному X и p векторами из датасета."
      ],
      "metadata": {
        "id": "z5ehcHQkdH3h"
      }
    },
    {
      "cell_type": "code",
      "source": [
        "N <- 100000\n",
        "\n",
        "# Генерируем случайную величину.\n",
        "generateValues <- function(X, p) {\n",
        "  generatedValues <- c()\n",
        "  for (i in 1:N) {\n",
        "    generatedValues <- append(generatedValues, getValueInRange(runif(1), X, p))\n",
        "  }\n",
        "\n",
        "  return(generatedValues)\n",
        "}"
      ],
      "metadata": {
        "id": "CHeZyEVM0epy"
      },
      "execution_count": 461,
      "outputs": []
    },
    {
      "cell_type": "markdown",
      "source": [
        "Далее сгенерированные распределения нам понадобятся много раз, поэтому заведем для них переменные заранее, чтобы не тратить время на генерацию каждый раз."
      ],
      "metadata": {
        "id": "6eI9rVz02FZC"
      }
    },
    {
      "cell_type": "code",
      "source": [
        "GeneratedX1 <- generateValues(X1, p1)"
      ],
      "metadata": {
        "id": "Dr3j79Ve2E0e"
      },
      "execution_count": 462,
      "outputs": []
    },
    {
      "cell_type": "code",
      "source": [
        "GeneratedX2 <- generateValues(X2, p2)"
      ],
      "metadata": {
        "id": "vzHIsxMr2zJl"
      },
      "execution_count": 463,
      "outputs": []
    },
    {
      "cell_type": "code",
      "source": [
        "GeneratedX3 <- generateValues(X3, p3)"
      ],
      "metadata": {
        "id": "L32svt0R217F"
      },
      "execution_count": 464,
      "outputs": []
    },
    {
      "cell_type": "code",
      "source": [
        "GeneratedValues <-list(GeneratedX1, GeneratedX2, GeneratedX3)"
      ],
      "metadata": {
        "id": "fMN67MIR3C3k"
      },
      "execution_count": 465,
      "outputs": []
    },
    {
      "cell_type": "markdown",
      "source": [
        "### Вычисление MX"
      ],
      "metadata": {
        "id": "Z2LESa_K4LOt"
      }
    },
    {
      "cell_type": "markdown",
      "source": [
        "#### Теоретически"
      ],
      "metadata": {
        "id": "jmPRYfPp4PLk"
      }
    },
    {
      "cell_type": "code",
      "source": [
        "TheoreticalMX <- c()"
      ],
      "metadata": {
        "id": "BV1oFXbSzlD4"
      },
      "execution_count": 466,
      "outputs": []
    },
    {
      "cell_type": "code",
      "source": [
        "TheoreticalMX <- append(TheoreticalMX, sum(X1 * p1))"
      ],
      "metadata": {
        "id": "Akg5Wp5R0M7q"
      },
      "execution_count": 467,
      "outputs": []
    },
    {
      "cell_type": "code",
      "source": [
        "TheoreticalMX <- append(TheoreticalMX, sum(X2 * p2))"
      ],
      "metadata": {
        "id": "dp2QieYc0Q5D"
      },
      "execution_count": 468,
      "outputs": []
    },
    {
      "cell_type": "code",
      "source": [
        "TheoreticalMX <- append(TheoreticalMX, sum(X3 * p3))"
      ],
      "metadata": {
        "id": "qi1-pLq90UYO"
      },
      "execution_count": 469,
      "outputs": []
    },
    {
      "cell_type": "code",
      "source": [
        "TheoreticalMX <- append(TheoreticalMX, sum(TheoreticalMX))"
      ],
      "metadata": {
        "id": "pKBn0jYhuYv9"
      },
      "execution_count": 470,
      "outputs": []
    },
    {
      "cell_type": "code",
      "source": [
        "resultsDf <- data.frame(TheoreticalMX)\n",
        "row.names(resultsDf) <- c('X1', 'X2', 'X3', 'X1+X2+X3')\n",
        "View(resultsDf)"
      ],
      "metadata": {
        "colab": {
          "base_uri": "https://localhost:8080/",
          "height": 223
        },
        "id": "CJ6Do5Nxsf0J",
        "outputId": "3e94b637-fadc-45db-866e-c6755afd2dca"
      },
      "execution_count": 471,
      "outputs": [
        {
          "output_type": "display_data",
          "data": {
            "text/plain": [
              "         TheoreticalMX\n",
              "X1        8.421909    \n",
              "X2       61.015709    \n",
              "X3        8.415596    \n",
              "X1+X2+X3 77.853214    "
            ],
            "text/html": [
              "<table class=\"dataframe\">\n",
              "<caption>A data.frame: 4 × 1</caption>\n",
              "<thead>\n",
              "\t<tr><th></th><th scope=col>TheoreticalMX</th></tr>\n",
              "\t<tr><th></th><th scope=col>&lt;dbl&gt;</th></tr>\n",
              "</thead>\n",
              "<tbody>\n",
              "\t<tr><th scope=row>X1</th><td> 8.421909</td></tr>\n",
              "\t<tr><th scope=row>X2</th><td>61.015709</td></tr>\n",
              "\t<tr><th scope=row>X3</th><td> 8.415596</td></tr>\n",
              "\t<tr><th scope=row>X1+X2+X3</th><td>77.853214</td></tr>\n",
              "</tbody>\n",
              "</table>\n"
            ],
            "text/markdown": "\nA data.frame: 4 × 1\n\n| <!--/--> | TheoreticalMX &lt;dbl&gt; |\n|---|---|\n| X1 |  8.421909 |\n| X2 | 61.015709 |\n| X3 |  8.415596 |\n| X1+X2+X3 | 77.853214 |\n\n",
            "text/latex": "A data.frame: 4 × 1\n\\begin{tabular}{r|l}\n  & TheoreticalMX\\\\\n  & <dbl>\\\\\n\\hline\n\tX1 &  8.421909\\\\\n\tX2 & 61.015709\\\\\n\tX3 &  8.415596\\\\\n\tX1+X2+X3 & 77.853214\\\\\n\\end{tabular}\n"
          },
          "metadata": {}
        }
      ]
    },
    {
      "cell_type": "markdown",
      "source": [
        "#### Численный"
      ],
      "metadata": {
        "id": "PHHJZyfD4Bsz"
      }
    },
    {
      "cell_type": "code",
      "source": [
        "ExperimentalMX <- lapply(GeneratedValues, mean)"
      ],
      "metadata": {
        "id": "3t41-1NN0Ois"
      },
      "execution_count": 472,
      "outputs": []
    },
    {
      "cell_type": "markdown",
      "source": [
        "Так как переменные независимы, можно просто сложить из математические ожидания."
      ],
      "metadata": {
        "id": "6sjgZskNfgHW"
      }
    },
    {
      "cell_type": "code",
      "source": [
        "ExperimentalMX <- append(ExperimentalMX, sum(unlist(ExperimentalMX)))"
      ],
      "metadata": {
        "id": "6KnhirPW4ydp"
      },
      "execution_count": 473,
      "outputs": []
    },
    {
      "cell_type": "code",
      "source": [
        "resultsDf$ExperimentalMX <- unlist(ExperimentalMX)\n",
        "View(resultsDf)"
      ],
      "metadata": {
        "colab": {
          "base_uri": "https://localhost:8080/",
          "height": 223
        },
        "id": "T-0RvxSYudD1",
        "outputId": "24871029-dc0f-4bd9-86df-15be9be8f2b1"
      },
      "execution_count": 474,
      "outputs": [
        {
          "output_type": "display_data",
          "data": {
            "text/plain": [
              "         TheoreticalMX ExperimentalMX\n",
              "X1        8.421909      8.35924      \n",
              "X2       61.015709     61.09165      \n",
              "X3        8.415596      8.40512      \n",
              "X1+X2+X3 77.853214     77.85601      "
            ],
            "text/html": [
              "<table class=\"dataframe\">\n",
              "<caption>A data.frame: 4 × 2</caption>\n",
              "<thead>\n",
              "\t<tr><th></th><th scope=col>TheoreticalMX</th><th scope=col>ExperimentalMX</th></tr>\n",
              "\t<tr><th></th><th scope=col>&lt;dbl&gt;</th><th scope=col>&lt;dbl&gt;</th></tr>\n",
              "</thead>\n",
              "<tbody>\n",
              "\t<tr><th scope=row>X1</th><td> 8.421909</td><td> 8.35924</td></tr>\n",
              "\t<tr><th scope=row>X2</th><td>61.015709</td><td>61.09165</td></tr>\n",
              "\t<tr><th scope=row>X3</th><td> 8.415596</td><td> 8.40512</td></tr>\n",
              "\t<tr><th scope=row>X1+X2+X3</th><td>77.853214</td><td>77.85601</td></tr>\n",
              "</tbody>\n",
              "</table>\n"
            ],
            "text/markdown": "\nA data.frame: 4 × 2\n\n| <!--/--> | TheoreticalMX &lt;dbl&gt; | ExperimentalMX &lt;dbl&gt; |\n|---|---|---|\n| X1 |  8.421909 |  8.35924 |\n| X2 | 61.015709 | 61.09165 |\n| X3 |  8.415596 |  8.40512 |\n| X1+X2+X3 | 77.853214 | 77.85601 |\n\n",
            "text/latex": "A data.frame: 4 × 2\n\\begin{tabular}{r|ll}\n  & TheoreticalMX & ExperimentalMX\\\\\n  & <dbl> & <dbl>\\\\\n\\hline\n\tX1 &  8.421909 &  8.35924\\\\\n\tX2 & 61.015709 & 61.09165\\\\\n\tX3 &  8.415596 &  8.40512\\\\\n\tX1+X2+X3 & 77.853214 & 77.85601\\\\\n\\end{tabular}\n"
          },
          "metadata": {}
        }
      ]
    },
    {
      "cell_type": "markdown",
      "source": [
        "### Вычисление DX"
      ],
      "metadata": {
        "id": "Me6H7byw56sy"
      }
    },
    {
      "cell_type": "markdown",
      "source": [
        "#### Теоретически"
      ],
      "metadata": {
        "id": "auMFd3TO56s7"
      }
    },
    {
      "cell_type": "code",
      "source": [
        "TheoreticalDX <- c()"
      ],
      "metadata": {
        "id": "FeYljKrf0g5a"
      },
      "execution_count": 475,
      "outputs": []
    },
    {
      "cell_type": "code",
      "source": [
        "TheoreticalDX <- append(TheoreticalDX, sum(df$p1 * (df$X1 - resultsDf$ExperimentalMX[1])^2))"
      ],
      "metadata": {
        "id": "mVttDQ0m56s7"
      },
      "execution_count": 476,
      "outputs": []
    },
    {
      "cell_type": "code",
      "source": [
        "TheoreticalDX <- append(TheoreticalDX, sum(df$p2 * (df$X2 - resultsDf$ExperimentalMX[2])^2))"
      ],
      "metadata": {
        "id": "awC5Dvw456s8"
      },
      "execution_count": 477,
      "outputs": []
    },
    {
      "cell_type": "code",
      "source": [
        "TheoreticalDX <- append(TheoreticalDX, sum(df$p3 * (df$X3 - resultsDf$ExperimentalMX[3])^2))"
      ],
      "metadata": {
        "id": "MQyNpTAI56s8"
      },
      "execution_count": 478,
      "outputs": []
    },
    {
      "cell_type": "markdown",
      "source": [
        "Так как переменные независимы, можно просто сложить их дисперсии."
      ],
      "metadata": {
        "id": "Md-vhBcj6zhx"
      }
    },
    {
      "cell_type": "code",
      "source": [
        "TheoreticalDX <- append(TheoreticalDX, sum(TheoreticalDX))"
      ],
      "metadata": {
        "id": "wIBW9vFR56s8"
      },
      "execution_count": 479,
      "outputs": []
    },
    {
      "cell_type": "code",
      "source": [
        "resultsDf$TheoreticalDX <- TheoreticalDX\n",
        "View(resultsDf)"
      ],
      "metadata": {
        "colab": {
          "base_uri": "https://localhost:8080/",
          "height": 223
        },
        "id": "EvsK3mBnybE3",
        "outputId": "990db7b0-fbb8-4aab-9b96-62fa6607ca4a"
      },
      "execution_count": 480,
      "outputs": [
        {
          "output_type": "display_data",
          "data": {
            "text/plain": [
              "         TheoreticalMX ExperimentalMX TheoreticalDX\n",
              "X1        8.421909      8.35924         34.71759   \n",
              "X2       61.015709     61.09165       1068.02409   \n",
              "X3        8.415596      8.40512         89.68627   \n",
              "X1+X2+X3 77.853214     77.85601       1192.42795   "
            ],
            "text/html": [
              "<table class=\"dataframe\">\n",
              "<caption>A data.frame: 4 × 3</caption>\n",
              "<thead>\n",
              "\t<tr><th></th><th scope=col>TheoreticalMX</th><th scope=col>ExperimentalMX</th><th scope=col>TheoreticalDX</th></tr>\n",
              "\t<tr><th></th><th scope=col>&lt;dbl&gt;</th><th scope=col>&lt;dbl&gt;</th><th scope=col>&lt;dbl&gt;</th></tr>\n",
              "</thead>\n",
              "<tbody>\n",
              "\t<tr><th scope=row>X1</th><td> 8.421909</td><td> 8.35924</td><td>  34.71759</td></tr>\n",
              "\t<tr><th scope=row>X2</th><td>61.015709</td><td>61.09165</td><td>1068.02409</td></tr>\n",
              "\t<tr><th scope=row>X3</th><td> 8.415596</td><td> 8.40512</td><td>  89.68627</td></tr>\n",
              "\t<tr><th scope=row>X1+X2+X3</th><td>77.853214</td><td>77.85601</td><td>1192.42795</td></tr>\n",
              "</tbody>\n",
              "</table>\n"
            ],
            "text/markdown": "\nA data.frame: 4 × 3\n\n| <!--/--> | TheoreticalMX &lt;dbl&gt; | ExperimentalMX &lt;dbl&gt; | TheoreticalDX &lt;dbl&gt; |\n|---|---|---|---|\n| X1 |  8.421909 |  8.35924 |   34.71759 |\n| X2 | 61.015709 | 61.09165 | 1068.02409 |\n| X3 |  8.415596 |  8.40512 |   89.68627 |\n| X1+X2+X3 | 77.853214 | 77.85601 | 1192.42795 |\n\n",
            "text/latex": "A data.frame: 4 × 3\n\\begin{tabular}{r|lll}\n  & TheoreticalMX & ExperimentalMX & TheoreticalDX\\\\\n  & <dbl> & <dbl> & <dbl>\\\\\n\\hline\n\tX1 &  8.421909 &  8.35924 &   34.71759\\\\\n\tX2 & 61.015709 & 61.09165 & 1068.02409\\\\\n\tX3 &  8.415596 &  8.40512 &   89.68627\\\\\n\tX1+X2+X3 & 77.853214 & 77.85601 & 1192.42795\\\\\n\\end{tabular}\n"
          },
          "metadata": {}
        }
      ]
    },
    {
      "cell_type": "markdown",
      "source": [
        "#### Численный"
      ],
      "metadata": {
        "id": "TklxadB056s9"
      }
    },
    {
      "cell_type": "code",
      "source": [
        "ExperimentalDX <- lapply(GeneratedValues, var)"
      ],
      "metadata": {
        "id": "V7bUdTuH6npm"
      },
      "execution_count": 481,
      "outputs": []
    },
    {
      "cell_type": "markdown",
      "source": [
        "Так как переменные независимы, можно просто сложить их дисперсии."
      ],
      "metadata": {
        "id": "yRcmGdeGy2Rp"
      }
    },
    {
      "cell_type": "code",
      "source": [
        "ExperimentalDX <- append(ExperimentalDX, sum(unlist(ExperimentalDX)))"
      ],
      "metadata": {
        "id": "cOAUqRUc56s_"
      },
      "execution_count": 482,
      "outputs": []
    },
    {
      "cell_type": "code",
      "source": [
        "resultsDf$ExperimentalDX <- unlist(ExperimentalDX)\n",
        "View(resultsDf)"
      ],
      "metadata": {
        "id": "Orn_Oljq56s_",
        "colab": {
          "base_uri": "https://localhost:8080/",
          "height": 223
        },
        "outputId": "4f6afaf4-4cef-4f50-ea4e-dd54006da1d7"
      },
      "execution_count": 483,
      "outputs": [
        {
          "output_type": "display_data",
          "data": {
            "text/plain": [
              "         TheoreticalMX ExperimentalMX TheoreticalDX ExperimentalDX\n",
              "X1        8.421909      8.35924         34.71759      34.76703    \n",
              "X2       61.015709     61.09165       1068.02409    1065.82789    \n",
              "X3        8.415596      8.40512         89.68627      88.97503    \n",
              "X1+X2+X3 77.853214     77.85601       1192.42795    1189.56995    "
            ],
            "text/html": [
              "<table class=\"dataframe\">\n",
              "<caption>A data.frame: 4 × 4</caption>\n",
              "<thead>\n",
              "\t<tr><th></th><th scope=col>TheoreticalMX</th><th scope=col>ExperimentalMX</th><th scope=col>TheoreticalDX</th><th scope=col>ExperimentalDX</th></tr>\n",
              "\t<tr><th></th><th scope=col>&lt;dbl&gt;</th><th scope=col>&lt;dbl&gt;</th><th scope=col>&lt;dbl&gt;</th><th scope=col>&lt;dbl&gt;</th></tr>\n",
              "</thead>\n",
              "<tbody>\n",
              "\t<tr><th scope=row>X1</th><td> 8.421909</td><td> 8.35924</td><td>  34.71759</td><td>  34.76703</td></tr>\n",
              "\t<tr><th scope=row>X2</th><td>61.015709</td><td>61.09165</td><td>1068.02409</td><td>1065.82789</td></tr>\n",
              "\t<tr><th scope=row>X3</th><td> 8.415596</td><td> 8.40512</td><td>  89.68627</td><td>  88.97503</td></tr>\n",
              "\t<tr><th scope=row>X1+X2+X3</th><td>77.853214</td><td>77.85601</td><td>1192.42795</td><td>1189.56995</td></tr>\n",
              "</tbody>\n",
              "</table>\n"
            ],
            "text/markdown": "\nA data.frame: 4 × 4\n\n| <!--/--> | TheoreticalMX &lt;dbl&gt; | ExperimentalMX &lt;dbl&gt; | TheoreticalDX &lt;dbl&gt; | ExperimentalDX &lt;dbl&gt; |\n|---|---|---|---|---|\n| X1 |  8.421909 |  8.35924 |   34.71759 |   34.76703 |\n| X2 | 61.015709 | 61.09165 | 1068.02409 | 1065.82789 |\n| X3 |  8.415596 |  8.40512 |   89.68627 |   88.97503 |\n| X1+X2+X3 | 77.853214 | 77.85601 | 1192.42795 | 1189.56995 |\n\n",
            "text/latex": "A data.frame: 4 × 4\n\\begin{tabular}{r|llll}\n  & TheoreticalMX & ExperimentalMX & TheoreticalDX & ExperimentalDX\\\\\n  & <dbl> & <dbl> & <dbl> & <dbl>\\\\\n\\hline\n\tX1 &  8.421909 &  8.35924 &   34.71759 &   34.76703\\\\\n\tX2 & 61.015709 & 61.09165 & 1068.02409 & 1065.82789\\\\\n\tX3 &  8.415596 &  8.40512 &   89.68627 &   88.97503\\\\\n\tX1+X2+X3 & 77.853214 & 77.85601 & 1192.42795 & 1189.56995\\\\\n\\end{tabular}\n"
          },
          "metadata": {}
        }
      ]
    },
    {
      "cell_type": "markdown",
      "source": [
        "### Вычисление dx\n",
        "Несложно высчитать dx из имеющихся столбцов DX"
      ],
      "metadata": {
        "id": "hGLA9RTv7SGW"
      }
    },
    {
      "cell_type": "code",
      "source": [
        "resultsDf$Theoreticaldx <- unlist(lapply(resultsDf$TheoreticalDX, sqrt))\n",
        "resultsDf$Experimentaldx <- unlist(lapply(resultsDf$ExperimentalDX, sqrt))\n",
        "View(resultsDf)"
      ],
      "metadata": {
        "colab": {
          "base_uri": "https://localhost:8080/",
          "height": 223
        },
        "id": "7DykBhHIzHuY",
        "outputId": "b169e09e-1da5-4eb8-a0d8-1d30ed90ad8e"
      },
      "execution_count": 484,
      "outputs": [
        {
          "output_type": "display_data",
          "data": {
            "text/plain": [
              "         TheoreticalMX ExperimentalMX TheoreticalDX ExperimentalDX\n",
              "X1        8.421909      8.35924         34.71759      34.76703    \n",
              "X2       61.015709     61.09165       1068.02409    1065.82789    \n",
              "X3        8.415596      8.40512         89.68627      88.97503    \n",
              "X1+X2+X3 77.853214     77.85601       1192.42795    1189.56995    \n",
              "         Theoreticaldx Experimentaldx\n",
              "X1        5.892164      5.896358     \n",
              "X2       32.680638     32.647020     \n",
              "X3        9.470283      9.432658     \n",
              "X1+X2+X3 34.531550     34.490143     "
            ],
            "text/html": [
              "<table class=\"dataframe\">\n",
              "<caption>A data.frame: 4 × 6</caption>\n",
              "<thead>\n",
              "\t<tr><th></th><th scope=col>TheoreticalMX</th><th scope=col>ExperimentalMX</th><th scope=col>TheoreticalDX</th><th scope=col>ExperimentalDX</th><th scope=col>Theoreticaldx</th><th scope=col>Experimentaldx</th></tr>\n",
              "\t<tr><th></th><th scope=col>&lt;dbl&gt;</th><th scope=col>&lt;dbl&gt;</th><th scope=col>&lt;dbl&gt;</th><th scope=col>&lt;dbl&gt;</th><th scope=col>&lt;dbl&gt;</th><th scope=col>&lt;dbl&gt;</th></tr>\n",
              "</thead>\n",
              "<tbody>\n",
              "\t<tr><th scope=row>X1</th><td> 8.421909</td><td> 8.35924</td><td>  34.71759</td><td>  34.76703</td><td> 5.892164</td><td> 5.896358</td></tr>\n",
              "\t<tr><th scope=row>X2</th><td>61.015709</td><td>61.09165</td><td>1068.02409</td><td>1065.82789</td><td>32.680638</td><td>32.647020</td></tr>\n",
              "\t<tr><th scope=row>X3</th><td> 8.415596</td><td> 8.40512</td><td>  89.68627</td><td>  88.97503</td><td> 9.470283</td><td> 9.432658</td></tr>\n",
              "\t<tr><th scope=row>X1+X2+X3</th><td>77.853214</td><td>77.85601</td><td>1192.42795</td><td>1189.56995</td><td>34.531550</td><td>34.490143</td></tr>\n",
              "</tbody>\n",
              "</table>\n"
            ],
            "text/markdown": "\nA data.frame: 4 × 6\n\n| <!--/--> | TheoreticalMX &lt;dbl&gt; | ExperimentalMX &lt;dbl&gt; | TheoreticalDX &lt;dbl&gt; | ExperimentalDX &lt;dbl&gt; | Theoreticaldx &lt;dbl&gt; | Experimentaldx &lt;dbl&gt; |\n|---|---|---|---|---|---|---|\n| X1 |  8.421909 |  8.35924 |   34.71759 |   34.76703 |  5.892164 |  5.896358 |\n| X2 | 61.015709 | 61.09165 | 1068.02409 | 1065.82789 | 32.680638 | 32.647020 |\n| X3 |  8.415596 |  8.40512 |   89.68627 |   88.97503 |  9.470283 |  9.432658 |\n| X1+X2+X3 | 77.853214 | 77.85601 | 1192.42795 | 1189.56995 | 34.531550 | 34.490143 |\n\n",
            "text/latex": "A data.frame: 4 × 6\n\\begin{tabular}{r|llllll}\n  & TheoreticalMX & ExperimentalMX & TheoreticalDX & ExperimentalDX & Theoreticaldx & Experimentaldx\\\\\n  & <dbl> & <dbl> & <dbl> & <dbl> & <dbl> & <dbl>\\\\\n\\hline\n\tX1 &  8.421909 &  8.35924 &   34.71759 &   34.76703 &  5.892164 &  5.896358\\\\\n\tX2 & 61.015709 & 61.09165 & 1068.02409 & 1065.82789 & 32.680638 & 32.647020\\\\\n\tX3 &  8.415596 &  8.40512 &   89.68627 &   88.97503 &  9.470283 &  9.432658\\\\\n\tX1+X2+X3 & 77.853214 & 77.85601 & 1192.42795 & 1189.56995 & 34.531550 & 34.490143\\\\\n\\end{tabular}\n"
          },
          "metadata": {}
        }
      ]
    },
    {
      "cell_type": "markdown",
      "source": [
        "### Вычисление K\n",
        "Вычислим K, коэффициент вариации, аналогично dx"
      ],
      "metadata": {
        "id": "55CQsIXX7vhy"
      }
    },
    {
      "cell_type": "code",
      "source": [
        "mapply(function(a, b) a / b, 1:4, c(2, 4, 3, 8))"
      ],
      "metadata": {
        "colab": {
          "base_uri": "https://localhost:8080/",
          "height": 34
        },
        "id": "JL-p_zI--eqM",
        "outputId": "be6caadf-edb3-46a4-8a26-2f0731db5e1f"
      },
      "execution_count": 485,
      "outputs": [
        {
          "output_type": "display_data",
          "data": {
            "text/html": [
              "<style>\n",
              ".list-inline {list-style: none; margin:0; padding: 0}\n",
              ".list-inline>li {display: inline-block}\n",
              ".list-inline>li:not(:last-child)::after {content: \"\\00b7\"; padding: 0 .5ex}\n",
              "</style>\n",
              "<ol class=list-inline><li>0.5</li><li>0.5</li><li>1</li><li>0.5</li></ol>\n"
            ],
            "text/markdown": "1. 0.5\n2. 0.5\n3. 1\n4. 0.5\n\n\n",
            "text/latex": "\\begin{enumerate*}\n\\item 0.5\n\\item 0.5\n\\item 1\n\\item 0.5\n\\end{enumerate*}\n",
            "text/plain": [
              "[1] 0.5 0.5 1.0 0.5"
            ]
          },
          "metadata": {}
        }
      ]
    },
    {
      "cell_type": "code",
      "source": [
        "calcK <- function(dx, mx) {\n",
        "  return(dx / mx * 100)\n",
        "}"
      ],
      "metadata": {
        "id": "wt_KJt5H_Pul"
      },
      "execution_count": 486,
      "outputs": []
    },
    {
      "cell_type": "code",
      "source": [
        "resultsDf$TheoreticalK <- mapply(calcK, resultsDf$Theoreticaldx, resultsDf$TheoreticalMX)\n",
        "View(resultsDf)"
      ],
      "metadata": {
        "colab": {
          "base_uri": "https://localhost:8080/",
          "height": 223
        },
        "id": "1nFNz0Gi8Tha",
        "outputId": "07a09522-aaa7-4394-f326-0d3eaf3bdaf8"
      },
      "execution_count": 487,
      "outputs": [
        {
          "output_type": "display_data",
          "data": {
            "text/plain": [
              "         TheoreticalMX ExperimentalMX TheoreticalDX ExperimentalDX\n",
              "X1        8.421909      8.35924         34.71759      34.76703    \n",
              "X2       61.015709     61.09165       1068.02409    1065.82789    \n",
              "X3        8.415596      8.40512         89.68627      88.97503    \n",
              "X1+X2+X3 77.853214     77.85601       1192.42795    1189.56995    \n",
              "         Theoreticaldx Experimentaldx TheoreticalK\n",
              "X1        5.892164      5.896358       69.96233   \n",
              "X2       32.680638     32.647020       53.56102   \n",
              "X3        9.470283      9.432658      112.53254   \n",
              "X1+X2+X3 34.531550     34.490143       44.35469   "
            ],
            "text/html": [
              "<table class=\"dataframe\">\n",
              "<caption>A data.frame: 4 × 7</caption>\n",
              "<thead>\n",
              "\t<tr><th></th><th scope=col>TheoreticalMX</th><th scope=col>ExperimentalMX</th><th scope=col>TheoreticalDX</th><th scope=col>ExperimentalDX</th><th scope=col>Theoreticaldx</th><th scope=col>Experimentaldx</th><th scope=col>TheoreticalK</th></tr>\n",
              "\t<tr><th></th><th scope=col>&lt;dbl&gt;</th><th scope=col>&lt;dbl&gt;</th><th scope=col>&lt;dbl&gt;</th><th scope=col>&lt;dbl&gt;</th><th scope=col>&lt;dbl&gt;</th><th scope=col>&lt;dbl&gt;</th><th scope=col>&lt;dbl&gt;</th></tr>\n",
              "</thead>\n",
              "<tbody>\n",
              "\t<tr><th scope=row>X1</th><td> 8.421909</td><td> 8.35924</td><td>  34.71759</td><td>  34.76703</td><td> 5.892164</td><td> 5.896358</td><td> 69.96233</td></tr>\n",
              "\t<tr><th scope=row>X2</th><td>61.015709</td><td>61.09165</td><td>1068.02409</td><td>1065.82789</td><td>32.680638</td><td>32.647020</td><td> 53.56102</td></tr>\n",
              "\t<tr><th scope=row>X3</th><td> 8.415596</td><td> 8.40512</td><td>  89.68627</td><td>  88.97503</td><td> 9.470283</td><td> 9.432658</td><td>112.53254</td></tr>\n",
              "\t<tr><th scope=row>X1+X2+X3</th><td>77.853214</td><td>77.85601</td><td>1192.42795</td><td>1189.56995</td><td>34.531550</td><td>34.490143</td><td> 44.35469</td></tr>\n",
              "</tbody>\n",
              "</table>\n"
            ],
            "text/markdown": "\nA data.frame: 4 × 7\n\n| <!--/--> | TheoreticalMX &lt;dbl&gt; | ExperimentalMX &lt;dbl&gt; | TheoreticalDX &lt;dbl&gt; | ExperimentalDX &lt;dbl&gt; | Theoreticaldx &lt;dbl&gt; | Experimentaldx &lt;dbl&gt; | TheoreticalK &lt;dbl&gt; |\n|---|---|---|---|---|---|---|---|\n| X1 |  8.421909 |  8.35924 |   34.71759 |   34.76703 |  5.892164 |  5.896358 |  69.96233 |\n| X2 | 61.015709 | 61.09165 | 1068.02409 | 1065.82789 | 32.680638 | 32.647020 |  53.56102 |\n| X3 |  8.415596 |  8.40512 |   89.68627 |   88.97503 |  9.470283 |  9.432658 | 112.53254 |\n| X1+X2+X3 | 77.853214 | 77.85601 | 1192.42795 | 1189.56995 | 34.531550 | 34.490143 |  44.35469 |\n\n",
            "text/latex": "A data.frame: 4 × 7\n\\begin{tabular}{r|lllllll}\n  & TheoreticalMX & ExperimentalMX & TheoreticalDX & ExperimentalDX & Theoreticaldx & Experimentaldx & TheoreticalK\\\\\n  & <dbl> & <dbl> & <dbl> & <dbl> & <dbl> & <dbl> & <dbl>\\\\\n\\hline\n\tX1 &  8.421909 &  8.35924 &   34.71759 &   34.76703 &  5.892164 &  5.896358 &  69.96233\\\\\n\tX2 & 61.015709 & 61.09165 & 1068.02409 & 1065.82789 & 32.680638 & 32.647020 &  53.56102\\\\\n\tX3 &  8.415596 &  8.40512 &   89.68627 &   88.97503 &  9.470283 &  9.432658 & 112.53254\\\\\n\tX1+X2+X3 & 77.853214 & 77.85601 & 1192.42795 & 1189.56995 & 34.531550 & 34.490143 &  44.35469\\\\\n\\end{tabular}\n"
          },
          "metadata": {}
        }
      ]
    },
    {
      "cell_type": "code",
      "source": [
        "resultsDf$ExperimentalK <- mapply(calcK, resultsDf$Experimentaldx, resultsDf$ExperimentalMX)\n",
        "View(resultsDf)"
      ],
      "metadata": {
        "colab": {
          "base_uri": "https://localhost:8080/",
          "height": 223
        },
        "id": "-m0d6q7774HM",
        "outputId": "27a6a8a1-586d-466b-eee9-d37b38ad7e9e"
      },
      "execution_count": 488,
      "outputs": [
        {
          "output_type": "display_data",
          "data": {
            "text/plain": [
              "         TheoreticalMX ExperimentalMX TheoreticalDX ExperimentalDX\n",
              "X1        8.421909      8.35924         34.71759      34.76703    \n",
              "X2       61.015709     61.09165       1068.02409    1065.82789    \n",
              "X3        8.415596      8.40512         89.68627      88.97503    \n",
              "X1+X2+X3 77.853214     77.85601       1192.42795    1189.56995    \n",
              "         Theoreticaldx Experimentaldx TheoreticalK ExperimentalK\n",
              "X1        5.892164      5.896358       69.96233     70.53701    \n",
              "X2       32.680638     32.647020       53.56102     53.43941    \n",
              "X3        9.470283      9.432658      112.53254    112.22514    \n",
              "X1+X2+X3 34.531550     34.490143       44.35469     44.29991    "
            ],
            "text/html": [
              "<table class=\"dataframe\">\n",
              "<caption>A data.frame: 4 × 8</caption>\n",
              "<thead>\n",
              "\t<tr><th></th><th scope=col>TheoreticalMX</th><th scope=col>ExperimentalMX</th><th scope=col>TheoreticalDX</th><th scope=col>ExperimentalDX</th><th scope=col>Theoreticaldx</th><th scope=col>Experimentaldx</th><th scope=col>TheoreticalK</th><th scope=col>ExperimentalK</th></tr>\n",
              "\t<tr><th></th><th scope=col>&lt;dbl&gt;</th><th scope=col>&lt;dbl&gt;</th><th scope=col>&lt;dbl&gt;</th><th scope=col>&lt;dbl&gt;</th><th scope=col>&lt;dbl&gt;</th><th scope=col>&lt;dbl&gt;</th><th scope=col>&lt;dbl&gt;</th><th scope=col>&lt;dbl&gt;</th></tr>\n",
              "</thead>\n",
              "<tbody>\n",
              "\t<tr><th scope=row>X1</th><td> 8.421909</td><td> 8.35924</td><td>  34.71759</td><td>  34.76703</td><td> 5.892164</td><td> 5.896358</td><td> 69.96233</td><td> 70.53701</td></tr>\n",
              "\t<tr><th scope=row>X2</th><td>61.015709</td><td>61.09165</td><td>1068.02409</td><td>1065.82789</td><td>32.680638</td><td>32.647020</td><td> 53.56102</td><td> 53.43941</td></tr>\n",
              "\t<tr><th scope=row>X3</th><td> 8.415596</td><td> 8.40512</td><td>  89.68627</td><td>  88.97503</td><td> 9.470283</td><td> 9.432658</td><td>112.53254</td><td>112.22514</td></tr>\n",
              "\t<tr><th scope=row>X1+X2+X3</th><td>77.853214</td><td>77.85601</td><td>1192.42795</td><td>1189.56995</td><td>34.531550</td><td>34.490143</td><td> 44.35469</td><td> 44.29991</td></tr>\n",
              "</tbody>\n",
              "</table>\n"
            ],
            "text/markdown": "\nA data.frame: 4 × 8\n\n| <!--/--> | TheoreticalMX &lt;dbl&gt; | ExperimentalMX &lt;dbl&gt; | TheoreticalDX &lt;dbl&gt; | ExperimentalDX &lt;dbl&gt; | Theoreticaldx &lt;dbl&gt; | Experimentaldx &lt;dbl&gt; | TheoreticalK &lt;dbl&gt; | ExperimentalK &lt;dbl&gt; |\n|---|---|---|---|---|---|---|---|---|\n| X1 |  8.421909 |  8.35924 |   34.71759 |   34.76703 |  5.892164 |  5.896358 |  69.96233 |  70.53701 |\n| X2 | 61.015709 | 61.09165 | 1068.02409 | 1065.82789 | 32.680638 | 32.647020 |  53.56102 |  53.43941 |\n| X3 |  8.415596 |  8.40512 |   89.68627 |   88.97503 |  9.470283 |  9.432658 | 112.53254 | 112.22514 |\n| X1+X2+X3 | 77.853214 | 77.85601 | 1192.42795 | 1189.56995 | 34.531550 | 34.490143 |  44.35469 |  44.29991 |\n\n",
            "text/latex": "A data.frame: 4 × 8\n\\begin{tabular}{r|llllllll}\n  & TheoreticalMX & ExperimentalMX & TheoreticalDX & ExperimentalDX & Theoreticaldx & Experimentaldx & TheoreticalK & ExperimentalK\\\\\n  & <dbl> & <dbl> & <dbl> & <dbl> & <dbl> & <dbl> & <dbl> & <dbl>\\\\\n\\hline\n\tX1 &  8.421909 &  8.35924 &   34.71759 &   34.76703 &  5.892164 &  5.896358 &  69.96233 &  70.53701\\\\\n\tX2 & 61.015709 & 61.09165 & 1068.02409 & 1065.82789 & 32.680638 & 32.647020 &  53.56102 &  53.43941\\\\\n\tX3 &  8.415596 &  8.40512 &   89.68627 &   88.97503 &  9.470283 &  9.432658 & 112.53254 & 112.22514\\\\\n\tX1+X2+X3 & 77.853214 & 77.85601 & 1192.42795 & 1189.56995 & 34.531550 & 34.490143 &  44.35469 &  44.29991\\\\\n\\end{tabular}\n"
          },
          "metadata": {}
        }
      ]
    },
    {
      "cell_type": "markdown",
      "source": [
        "### Итого\n",
        "Как видно, разница между соответствующими математическими величинами пренебрижимо мала. При увеличении числа N она будет только уменьшаться."
      ],
      "metadata": {
        "id": "3PFhIPdXgDGo"
      }
    },
    {
      "cell_type": "code",
      "source": [
        "View(resultsDf)"
      ],
      "metadata": {
        "colab": {
          "base_uri": "https://localhost:8080/",
          "height": 223
        },
        "id": "AEqCkL5pghVn",
        "outputId": "6208f354-c863-43f4-f81e-732e76fb3cdd"
      },
      "execution_count": 489,
      "outputs": [
        {
          "output_type": "display_data",
          "data": {
            "text/plain": [
              "         TheoreticalMX ExperimentalMX TheoreticalDX ExperimentalDX\n",
              "X1        8.421909      8.35924         34.71759      34.76703    \n",
              "X2       61.015709     61.09165       1068.02409    1065.82789    \n",
              "X3        8.415596      8.40512         89.68627      88.97503    \n",
              "X1+X2+X3 77.853214     77.85601       1192.42795    1189.56995    \n",
              "         Theoreticaldx Experimentaldx TheoreticalK ExperimentalK\n",
              "X1        5.892164      5.896358       69.96233     70.53701    \n",
              "X2       32.680638     32.647020       53.56102     53.43941    \n",
              "X3        9.470283      9.432658      112.53254    112.22514    \n",
              "X1+X2+X3 34.531550     34.490143       44.35469     44.29991    "
            ],
            "text/html": [
              "<table class=\"dataframe\">\n",
              "<caption>A data.frame: 4 × 8</caption>\n",
              "<thead>\n",
              "\t<tr><th></th><th scope=col>TheoreticalMX</th><th scope=col>ExperimentalMX</th><th scope=col>TheoreticalDX</th><th scope=col>ExperimentalDX</th><th scope=col>Theoreticaldx</th><th scope=col>Experimentaldx</th><th scope=col>TheoreticalK</th><th scope=col>ExperimentalK</th></tr>\n",
              "\t<tr><th></th><th scope=col>&lt;dbl&gt;</th><th scope=col>&lt;dbl&gt;</th><th scope=col>&lt;dbl&gt;</th><th scope=col>&lt;dbl&gt;</th><th scope=col>&lt;dbl&gt;</th><th scope=col>&lt;dbl&gt;</th><th scope=col>&lt;dbl&gt;</th><th scope=col>&lt;dbl&gt;</th></tr>\n",
              "</thead>\n",
              "<tbody>\n",
              "\t<tr><th scope=row>X1</th><td> 8.421909</td><td> 8.35924</td><td>  34.71759</td><td>  34.76703</td><td> 5.892164</td><td> 5.896358</td><td> 69.96233</td><td> 70.53701</td></tr>\n",
              "\t<tr><th scope=row>X2</th><td>61.015709</td><td>61.09165</td><td>1068.02409</td><td>1065.82789</td><td>32.680638</td><td>32.647020</td><td> 53.56102</td><td> 53.43941</td></tr>\n",
              "\t<tr><th scope=row>X3</th><td> 8.415596</td><td> 8.40512</td><td>  89.68627</td><td>  88.97503</td><td> 9.470283</td><td> 9.432658</td><td>112.53254</td><td>112.22514</td></tr>\n",
              "\t<tr><th scope=row>X1+X2+X3</th><td>77.853214</td><td>77.85601</td><td>1192.42795</td><td>1189.56995</td><td>34.531550</td><td>34.490143</td><td> 44.35469</td><td> 44.29991</td></tr>\n",
              "</tbody>\n",
              "</table>\n"
            ],
            "text/markdown": "\nA data.frame: 4 × 8\n\n| <!--/--> | TheoreticalMX &lt;dbl&gt; | ExperimentalMX &lt;dbl&gt; | TheoreticalDX &lt;dbl&gt; | ExperimentalDX &lt;dbl&gt; | Theoreticaldx &lt;dbl&gt; | Experimentaldx &lt;dbl&gt; | TheoreticalK &lt;dbl&gt; | ExperimentalK &lt;dbl&gt; |\n|---|---|---|---|---|---|---|---|---|\n| X1 |  8.421909 |  8.35924 |   34.71759 |   34.76703 |  5.892164 |  5.896358 |  69.96233 |  70.53701 |\n| X2 | 61.015709 | 61.09165 | 1068.02409 | 1065.82789 | 32.680638 | 32.647020 |  53.56102 |  53.43941 |\n| X3 |  8.415596 |  8.40512 |   89.68627 |   88.97503 |  9.470283 |  9.432658 | 112.53254 | 112.22514 |\n| X1+X2+X3 | 77.853214 | 77.85601 | 1192.42795 | 1189.56995 | 34.531550 | 34.490143 |  44.35469 |  44.29991 |\n\n",
            "text/latex": "A data.frame: 4 × 8\n\\begin{tabular}{r|llllllll}\n  & TheoreticalMX & ExperimentalMX & TheoreticalDX & ExperimentalDX & Theoreticaldx & Experimentaldx & TheoreticalK & ExperimentalK\\\\\n  & <dbl> & <dbl> & <dbl> & <dbl> & <dbl> & <dbl> & <dbl> & <dbl>\\\\\n\\hline\n\tX1 &  8.421909 &  8.35924 &   34.71759 &   34.76703 &  5.892164 &  5.896358 &  69.96233 &  70.53701\\\\\n\tX2 & 61.015709 & 61.09165 & 1068.02409 & 1065.82789 & 32.680638 & 32.647020 &  53.56102 &  53.43941\\\\\n\tX3 &  8.415596 &  8.40512 &   89.68627 &   88.97503 &  9.470283 &  9.432658 & 112.53254 & 112.22514\\\\\n\tX1+X2+X3 & 77.853214 & 77.85601 & 1192.42795 & 1189.56995 & 34.531550 & 34.490143 &  44.35469 &  44.29991\\\\\n\\end{tabular}\n"
          },
          "metadata": {}
        }
      ]
    },
    {
      "cell_type": "markdown",
      "source": [
        "Графики, по которым можно сравнить теоретически вычисленные величины с экспериментально вычисленными."
      ],
      "metadata": {
        "id": "r-2Ki0XtsQl9"
      }
    },
    {
      "cell_type": "code",
      "source": [
        "if (!require('reshape2')) {\n",
        "  install.packages('reshape2')\n",
        "  library(reshape2)\n",
        "}\n",
        "if (!require('ggplot2')) {\n",
        "  install.packages('ggplot2')\n",
        "  library(ggplot2)\n",
        "}\n",
        "\n",
        "PlotValues <- function(ValuesDf, YLabel) {\n",
        "  df <- data.frame(Distribution=row.names(ValuesDf), Theoretical = ValuesDf[,1], Experimental = ValuesDf[,2])\n",
        "  # View(df)\n",
        "  df <- melt(df, id.vars = 'Distribution')\n",
        "\n",
        "  ggplot(df, aes(Distribution, value, fill = variable)) +\n",
        "    geom_col(position = \"dodge\") + labs(y=YLabel)\n",
        "}\n",
        "\n",
        "\n",
        "PlotValues(subset(resultsDf, select=1:2), 'MX')\n",
        "PlotValues(subset(resultsDf, select=3:4), 'DX')\n",
        "PlotValues(subset(resultsDf, select=5:6), 'd')\n",
        "PlotValues(subset(resultsDf, select=7:8), 'K')"
      ],
      "metadata": {
        "colab": {
          "base_uri": "https://localhost:8080/",
          "height": 1000
        },
        "id": "EcWLVcyaLRuo",
        "outputId": "d80a9e00-5469-4338-c5be-869ff4eaa3d8"
      },
      "execution_count": 490,
      "outputs": [
        {
          "output_type": "display_data",
          "data": {
            "text/plain": [
              "plot without title"
            ],
            "image/png": "[encoded data removed]"
          },
          "metadata": {
            "image/png": {
              "width": 420,
              "height": 420
            }
          }
        },
        {
          "output_type": "display_data",
          "data": {
            "text/plain": [
              "plot without title"
            ],
            "image/png": "[encoded data removed]"
          },
          "metadata": {
            "image/png": {
              "width": 420,
              "height": 420
            }
          }
        },
        {
          "output_type": "display_data",
          "data": {
            "text/plain": [
              "plot without title"
            ],
            "image/png": "[encoded data removed]"
          },
          "metadata": {
            "image/png": {
              "width": 420,
              "height": 420
            }
          }
        },
        {
          "output_type": "display_data",
          "data": {
            "text/plain": [
              "plot without title"
            ],
            "image/png": "[encoded data removed]"
          },
          "metadata": {
            "image/png": {
              "width": 420,
              "height": 420
            }
          }
        }
      ]
    },
    {
      "cell_type": "markdown",
      "source": [
        "Так как количество значений N было выбрано большим, по верхним графикам сложно увидеть разницу в характеристиках. Построим графики, по которым можно сравнить теоретически вычисленные величины с экспериментально вычисленными в процентах."
      ],
      "metadata": {
        "id": "v1Kb9358seDy"
      }
    },
    {
      "cell_type": "code",
      "source": [
        "PlotPercentages <- function(ValuesDf, YLabel) {\n",
        "  df <- data.frame(Distribution=row.names(ValuesDf), Percentages=(ValuesDf[,1] - ValuesDf[,2]) / ValuesDf[,1] * 100)\n",
        "\n",
        "  ggplot(df, aes(x=Distribution, y=Percentages, fill = Distribution)) +\n",
        "    geom_col(position = \"dodge\") + labs(y=paste(YLabel, '%'))\n",
        "}\n",
        "\n",
        "PlotPercentages(subset(resultsDf, select=1:2), 'MX')\n",
        "PlotPercentages(subset(resultsDf, select=3:4), 'DX')\n",
        "PlotPercentages(subset(resultsDf, select=5:6), 'd')\n",
        "PlotPercentages(subset(resultsDf, select=7:8), 'K')"
      ],
      "metadata": {
        "colab": {
          "base_uri": "https://localhost:8080/",
          "height": 1000
        },
        "id": "7_u__2mqqq6I",
        "outputId": "dea09e56-c67c-4222-ec9d-0761b653c000"
      },
      "execution_count": 491,
      "outputs": [
        {
          "output_type": "display_data",
          "data": {
            "text/plain": [
              "plot without title"
            ],
            "image/png": "[encoded data removed]"
          },
          "metadata": {
            "image/png": {
              "width": 420,
              "height": 420
            }
          }
        },
        {
          "output_type": "display_data",
          "data": {
            "text/plain": [
              "plot without title"
            ],
            "image/png": "[encoded data removed]"
          },
          "metadata": {
            "image/png": {
              "width": 420,
              "height": 420
            }
          }
        },
        {
          "output_type": "display_data",
          "data": {
            "text/plain": [
              "plot without title"
            ],
            "image/png": "[encoded data removed]"
          },
          "metadata": {
            "image/png": {
              "width": 420,
              "height": 420
            }
          }
        },
        {
          "output_type": "display_data",
          "data": {
            "text/plain": [
              "plot without title"
            ],
            "image/png": "[encoded data removed]"
          },
          "metadata": {
            "image/png": {
              "width": 420,
              "height": 420
            }
          }
        }
      ]
    },
    {
      "cell_type": "markdown",
      "source": [
        "## Задание 1.2\n",
        "Вычисление методом производящих функций"
      ],
      "metadata": {
        "id": "_a9lSqG2EKP8"
      }
    },
    {
      "cell_type": "markdown",
      "source": [
        "По нашей таблице построим функцию по формуле:\n",
        "$P_{\\zeta}(z) = \\sum_{n}^{\\infty}(p_{n} \\cdot z^n)$, где n - значение переменной $\\zeta$ (например, 2 у X1), а $p_n$ - соответствующая вероятность величины (например, вероятность получения P(X1 = 2) по таблице равна 0.4)."
      ],
      "metadata": {
        "id": "RoliyXKWHBol"
      }
    },
    {
      "cell_type": "code",
      "source": [
        "View(df)"
      ],
      "metadata": {
        "colab": {
          "base_uri": "https://localhost:8080/",
          "height": 254
        },
        "id": "cbje8IvTEQYE",
        "outputId": "45f4deac-3721-4ee2-d69a-aa89e2efc6cd"
      },
      "execution_count": 492,
      "outputs": [
        {
          "output_type": "display_data",
          "data": {
            "text/plain": [
              "  X1 X2 X3 p1         p2        p3        \n",
              "1  2 43  2 0.40686825 0.1610350 0.53915046\n",
              "2 11 87 37 0.32939564 0.1467735 0.07196561\n",
              "3 15 96 11 0.09659285 0.3241292 0.33356559\n",
              "4 19 73 15 0.10316386 0.0476192 0.03776129\n",
              "5  9 21 25 0.06397940 0.3204431 0.01755706"
            ],
            "text/html": [
              "<table class=\"dataframe\">\n",
              "<caption>A data.frame: 5 × 6</caption>\n",
              "<thead>\n",
              "\t<tr><th scope=col>X1</th><th scope=col>X2</th><th scope=col>X3</th><th scope=col>p1</th><th scope=col>p2</th><th scope=col>p3</th></tr>\n",
              "\t<tr><th scope=col>&lt;int&gt;</th><th scope=col>&lt;int&gt;</th><th scope=col>&lt;int&gt;</th><th scope=col>&lt;dbl&gt;</th><th scope=col>&lt;dbl&gt;</th><th scope=col>&lt;dbl&gt;</th></tr>\n",
              "</thead>\n",
              "<tbody>\n",
              "\t<tr><td> 2</td><td>43</td><td> 2</td><td>0.40686825</td><td>0.1610350</td><td>0.53915046</td></tr>\n",
              "\t<tr><td>11</td><td>87</td><td>37</td><td>0.32939564</td><td>0.1467735</td><td>0.07196561</td></tr>\n",
              "\t<tr><td>15</td><td>96</td><td>11</td><td>0.09659285</td><td>0.3241292</td><td>0.33356559</td></tr>\n",
              "\t<tr><td>19</td><td>73</td><td>15</td><td>0.10316386</td><td>0.0476192</td><td>0.03776129</td></tr>\n",
              "\t<tr><td> 9</td><td>21</td><td>25</td><td>0.06397940</td><td>0.3204431</td><td>0.01755706</td></tr>\n",
              "</tbody>\n",
              "</table>\n"
            ],
            "text/markdown": "\nA data.frame: 5 × 6\n\n| X1 &lt;int&gt; | X2 &lt;int&gt; | X3 &lt;int&gt; | p1 &lt;dbl&gt; | p2 &lt;dbl&gt; | p3 &lt;dbl&gt; |\n|---|---|---|---|---|---|\n|  2 | 43 |  2 | 0.40686825 | 0.1610350 | 0.53915046 |\n| 11 | 87 | 37 | 0.32939564 | 0.1467735 | 0.07196561 |\n| 15 | 96 | 11 | 0.09659285 | 0.3241292 | 0.33356559 |\n| 19 | 73 | 15 | 0.10316386 | 0.0476192 | 0.03776129 |\n|  9 | 21 | 25 | 0.06397940 | 0.3204431 | 0.01755706 |\n\n",
            "text/latex": "A data.frame: 5 × 6\n\\begin{tabular}{llllll}\n X1 & X2 & X3 & p1 & p2 & p3\\\\\n <int> & <int> & <int> & <dbl> & <dbl> & <dbl>\\\\\n\\hline\n\t  2 & 43 &  2 & 0.40686825 & 0.1610350 & 0.53915046\\\\\n\t 11 & 87 & 37 & 0.32939564 & 0.1467735 & 0.07196561\\\\\n\t 15 & 96 & 11 & 0.09659285 & 0.3241292 & 0.33356559\\\\\n\t 19 & 73 & 15 & 0.10316386 & 0.0476192 & 0.03776129\\\\\n\t  9 & 21 & 25 & 0.06397940 & 0.3204431 & 0.01755706\\\\\n\\end{tabular}\n"
          },
          "metadata": {}
        }
      ]
    },
    {
      "cell_type": "markdown",
      "source": [
        "$P_1(z) = 0.4 \\cdot z^2 + 0.06 \\cdot z^9 + 0.32 \\cdot z^{11} + 0.09 \\cdot z^{15} + 0.1 \\cdot z^{19}$"
      ],
      "metadata": {
        "id": "zPYUP8vDFLFU"
      }
    },
    {
      "cell_type": "markdown",
      "source": [
        "$P_2(z) = 0.32 \\cdot z^{21} + 0.16 \\cdot z^{43} + 0.04 \\cdot z^{73} + 0.14 \\cdot z^{87} + 0.32 \\cdot z^{96}$"
      ],
      "metadata": {
        "id": "HPO_XcQJGGjE"
      }
    },
    {
      "cell_type": "markdown",
      "source": [
        "$P_3(z) = 0.53 \\cdot z^2 + 0.33 \\cdot z^{11} + 0.03 \\cdot z^{15} + 0.01 \\cdot z^{25} + 0.07 \\cdot z^{37}$"
      ],
      "metadata": {
        "id": "ZQMPUblrGYE8"
      }
    },
    {
      "cell_type": "markdown",
      "source": [
        "Посчитав в Maxima on line, получаем $P_{1+2+3}(z) = P_1(z) \\cdot P_2(z) \\cdot P_3(z)$:"
      ],
      "metadata": {
        "id": "rxiNEFlcJzTp"
      }
    },
    {
      "cell_type": "markdown",
      "source": [
        "\n",
        "$P_{1+2+3} = 0.00224\\,z^{152}+0.002016\\,z^{148}+0.007168\\,z^{144}+\n",
        " 9.8000000000000019 \\cdot 10^{-4}\\,z^{143}+0.001344\\,z^{142}+\n",
        " 3.2000000000000003 \\cdot 10^{-4}\\,z^{140}+\n",
        " 8.8200000000000008 \\cdot 10^{-4}\\,z^{139}+\n",
        " 2.8800000000000001 \\cdot 10^{-4}\\,z^{136}+0.012096\\,z^{135}+\n",
        " 5.8800000000000009 \\cdot 10^{-4}\\,z^{133}+0.001024\\,z^{132}+\n",
        " 1.4000000000000001 \\cdot 10^{-4}\\,z^{131}+0.001152\\,z^{130}+\n",
        " 2.8000000000000003 \\cdot 10^{-4}\\,z^{129}+1.26 \\cdot 10^{-4}\\,z^{\n",
        " 127}+0.015344\\,z^{126}+2.52 \\cdot 10^{-4}\\,z^{125}+0.001728\\,z^{123\n",
        " }+0.012576\\,z^{122}+0.0014\\,z^{121}+\n",
        " 5.7600000000000001 \\cdot 10^{-4}\\,z^{120}+\n",
        " 1.6800000000000002 \\cdot 10^{-4}\\,z^{119}+0.033792\\,z^{118}+\n",
        " 0.021998\\,z^{117}+0.006336\\,z^{116}+\n",
        " 5.6000000000000006 \\cdot 10^{-4}\\,z^{114}+0.024642\\,z^{113}+0.00112\n",
        " \\,z^{112}+2.52 \\cdot 10^{-4}\\,z^{111}+0.111424\\,z^{109}+0.00742\\,z\n",
        " ^{108}+0.013092\\,z^{107}+0.008358\\,z^{104}+0.001428\\,z^{103}+\n",
        " 0.110224\\,z^{100}+0.002692\\,z^{99}+0.004452\\,z^{98}+\n",
        " 7.2000000000000002 \\cdot 10^{-5}\\,z^{97}+0.005232\\,z^{95}+0.00212\\,\n",
        " z^{94}+7.9200000000000006 \\cdot 10^{-4}\\,z^{93}+0.033264\\,z^{91}+\n",
        " 0.002388\\,z^{90}+6.7200000000000007 \\cdot 10^{-4}\\,z^{89}+\n",
        " 1.6000000000000001 \\cdot 10^{-4}\\,z^{87}+0.012064\\,z^{86}+0.001272\n",
        " \\,z^{84}+1.44 \\cdot 10^{-4}\\,z^{83}+0.00448\\,z^{82}+\n",
        " 5.1200000000000009 \\cdot 10^{-4}\\,z^{79}+0.011296\\,z^{77}+0.007728\n",
        " \\,z^{73}+6.4000000000000005 \\cdot 10^{-4}\\,z^{70}+0.013456\\,z^{69}+\n",
        " 0.001632\\,z^{67}+0.017216\\,z^{65}+0.00848\\,z^{64}+0.003168\\,z^{63}+\n",
        " 2.8800000000000001 \\cdot 10^{-4}\\,z^{61}+0.018512\\,z^{60}+0.001024\n",
        " \\,z^{57}+0.048256\\,z^{56}+0.001152\\,z^{55}+0.005088\\,z^{54}+0.011424\n",
        " \\,z^{51}+0.00128\\,z^{48}+0.046496\\,z^{47}+\n",
        " 5.7600000000000001 \\cdot 10^{-4}\\,z^{45}+0.033792\\,z^{43}+0.01696\\,\n",
        " z^{42}+0.006336\\,z^{41}+0.019104\\,z^{38}+0.096512\\,z^{34}+0.010176\\,\n",
        " z^{32}+0.06784\\,z^{25}$\n"
      ],
      "metadata": {
        "id": "gcowXcJAJWKo"
      }
    },
    {
      "cell_type": "markdown",
      "source": [
        "К сожалению, взяв коэффициенты с такой точностью, результат дифференциала отличался на 6 единиц, поэтому перевел все это на expressions R языка\n",
        "https://adv-r.hadley.nz/evaluation.html\n",
        "https://stat.ethz.ch/R-manual/R-devel/library/stats/html/deriv.html:"
      ],
      "metadata": {
        "id": "xTfRCGCXy2Yj"
      }
    },
    {
      "cell_type": "code",
      "source": [
        "p1 <- df$p1\n",
        "p11 <- p1[1]\n",
        "p12 <- p1[2]\n",
        "p13 <- p1[3]\n",
        "p14 <- p1[4]\n",
        "p15 <- p1[5]\n",
        "\n",
        "x1 <- df$X1\n",
        "x11 <- x1[1]\n",
        "x12 <- x1[2]\n",
        "x13 <- x1[3]\n",
        "x14 <- x1[4]\n",
        "x15 <- x1[5]\n",
        "\n",
        "p2 <- df$p2\n",
        "p21 <- p2[1]\n",
        "p22 <- p2[2]\n",
        "p23 <- p2[3]\n",
        "p24 <- p2[4]\n",
        "p25 <- p2[5]\n",
        "\n",
        "x2 <- df$X2\n",
        "x21 <- x2[1]\n",
        "x22 <- x2[2]\n",
        "x23 <- x2[3]\n",
        "x24 <- x2[4]\n",
        "x25 <- x2[5]\n",
        "\n",
        "p3 <- df$p3\n",
        "p31 <- p3[1]\n",
        "p32 <- p3[2]\n",
        "p33 <- p3[3]\n",
        "p34 <- p3[4]\n",
        "p35 <- p3[5]\n",
        "\n",
        "x3 <- df$X3\n",
        "x31 <- x3[1]\n",
        "x32 <- x3[2]\n",
        "x33 <- x3[3]\n",
        "x34 <- x3[4]\n",
        "x35 <- x3[5]\n",
        "\n",
        "PSum <- expression(\n",
        "  (p11 * z^x11 + p12 * z^x12 + p13 * z^x13 + p14 * z^x14 + p15 * z^x15)\n",
        "  * (p21 * z^x21 + p22 * z^x22 + p23 * z^x23 + p24 * z^x24 + p25 * z^x25)\n",
        "  * (p31 * z^x31 + p32 * z^x32 + p33 * z^x33 + p34 * z^x34 + p35 * z^x35)\n",
        ")"
      ],
      "metadata": {
        "id": "zk1I-jQ0tLzR"
      },
      "execution_count": 493,
      "outputs": []
    },
    {
      "cell_type": "markdown",
      "source": [
        "Получим $MX$, продифференцировав выражение и подставив в переменную 1:"
      ],
      "metadata": {
        "id": "EpC-hHfJzh1f"
      }
    },
    {
      "cell_type": "code",
      "source": [
        "DPSum <- D(PSum, 'z')\n",
        "MX <- eval(DPSum, z<-1)\n",
        "MX"
      ],
      "metadata": {
        "colab": {
          "base_uri": "https://localhost:8080/",
          "height": 34
        },
        "id": "nGdC8EIzuGTU",
        "outputId": "e9e6498d-8bce-4a4f-9ab6-edaef4c6f82e"
      },
      "execution_count": 494,
      "outputs": [
        {
          "output_type": "display_data",
          "data": {
            "text/html": [
              "77.8532138107713"
            ],
            "text/markdown": "77.8532138107713",
            "text/latex": "77.8532138107713",
            "text/plain": [
              "[1] 77.85321"
            ]
          },
          "metadata": {}
        }
      ]
    },
    {
      "cell_type": "markdown",
      "source": [
        "Получим $DX$ по формуле: $$DX(\\zeta)=P''_{\\zeta}(z)|_{z=1}+P'_{\\zeta}(z)|_{z=1}-\\left(P'_{\\zeta}(z)\\right)^2|_{z=1}$$"
      ],
      "metadata": {
        "id": "0WNsiCae0CDk"
      }
    },
    {
      "cell_type": "code",
      "source": [
        "DX=eval(D(DPSum, 'z'), z<-1)+MX-eval(DPSum, z<-1)*eval(DPSum, z<-1)\n",
        "DX"
      ],
      "metadata": {
        "colab": {
          "base_uri": "https://localhost:8080/",
          "height": 34
        },
        "id": "Ey3w--MqNCcu",
        "outputId": "3681c6d1-7cb2-445b-fcb8-8b5bfa71ec2d"
      },
      "execution_count": 495,
      "outputs": [
        {
          "output_type": "display_data",
          "data": {
            "text/html": [
              "1192.41814193631"
            ],
            "text/markdown": "1192.41814193631",
            "text/latex": "1192.41814193631",
            "text/plain": [
              "[1] 1192.418"
            ]
          },
          "metadata": {}
        }
      ]
    },
    {
      "cell_type": "markdown",
      "source": [
        "Из $DX$ получим $dx$:"
      ],
      "metadata": {
        "id": "PmXA7vu57cIs"
      }
    },
    {
      "cell_type": "code",
      "source": [
        "dx <- sqrt(DX);\n",
        "dx"
      ],
      "metadata": {
        "id": "i-UxUvyaPH5t",
        "colab": {
          "base_uri": "https://localhost:8080/",
          "height": 34
        },
        "outputId": "2a6bc186-c347-46b9-a065-3b4e22560a4a"
      },
      "execution_count": 496,
      "outputs": [
        {
          "output_type": "display_data",
          "data": {
            "text/html": [
              "34.5314080502998"
            ],
            "text/markdown": "34.5314080502998",
            "text/latex": "34.5314080502998",
            "text/plain": [
              "[1] 34.53141"
            ]
          },
          "metadata": {}
        }
      ]
    },
    {
      "cell_type": "markdown",
      "source": [
        "И также $K$:"
      ],
      "metadata": {
        "id": "I9idERBb7frv"
      }
    },
    {
      "cell_type": "code",
      "source": [
        "K <- dx/MX*100\n",
        "K"
      ],
      "metadata": {
        "colab": {
          "base_uri": "https://localhost:8080/",
          "height": 34
        },
        "id": "WKDrG6Pl7aXq",
        "outputId": "9559bb21-f285-49a9-d9f1-c7b8d3ee3113"
      },
      "execution_count": 497,
      "outputs": [
        {
          "output_type": "display_data",
          "data": {
            "text/html": [
              "44.3545055625209"
            ],
            "text/markdown": "44.3545055625209",
            "text/latex": "44.3545055625209",
            "text/plain": [
              "[1] 44.35451"
            ]
          },
          "metadata": {}
        }
      ]
    },
    {
      "cell_type": "markdown",
      "source": [
        "### Вывод\n",
        "Сравним полученные с помощью производящей функции значения с теоретическими значениями, полученными по определению"
      ],
      "metadata": {
        "id": "zKkeOPya7shX"
      }
    },
    {
      "cell_type": "code",
      "source": [
        "df <- data.frame(\n",
        "  MX=c(resultsDf$TheoreticalMX[4], MX),\n",
        "  DX=c(resultsDf$TheoreticalDX[4], DX),\n",
        "  dx=c(resultsDf$Theoreticaldx[4], dx),\n",
        "   K=c(resultsDf$TheoreticalK[4],  K)\n",
        ")\n",
        "row.names(df) <- c('По определению', 'Производящая')\n",
        "df"
      ],
      "metadata": {
        "colab": {
          "base_uri": "https://localhost:8080/",
          "height": 160
        },
        "id": "8G_6eZ427yqM",
        "outputId": "fe4d524d-0165-4fe4-f1da-6fd3540fad13"
      },
      "execution_count": 498,
      "outputs": [
        {
          "output_type": "display_data",
          "data": {
            "text/html": [
              "<table class=\"dataframe\">\n",
              "<caption>A data.frame: 2 × 4</caption>\n",
              "<thead>\n",
              "\t<tr><th></th><th scope=col>MX</th><th scope=col>DX</th><th scope=col>dx</th><th scope=col>K</th></tr>\n",
              "\t<tr><th></th><th scope=col>&lt;dbl&gt;</th><th scope=col>&lt;dbl&gt;</th><th scope=col>&lt;dbl&gt;</th><th scope=col>&lt;dbl&gt;</th></tr>\n",
              "</thead>\n",
              "<tbody>\n",
              "\t<tr><th scope=row>По определению</th><td>77.85321</td><td>1192.428</td><td>34.53155</td><td>44.35469</td></tr>\n",
              "\t<tr><th scope=row>Производящая</th><td>77.85321</td><td>1192.418</td><td>34.53141</td><td>44.35451</td></tr>\n",
              "</tbody>\n",
              "</table>\n"
            ],
            "text/markdown": "\nA data.frame: 2 × 4\n\n| <!--/--> | MX &lt;dbl&gt; | DX &lt;dbl&gt; | dx &lt;dbl&gt; | K &lt;dbl&gt; |\n|---|---|---|---|---|\n| По определению | 77.85321 | 1192.428 | 34.53155 | 44.35469 |\n| Производящая | 77.85321 | 1192.418 | 34.53141 | 44.35451 |\n\n",
            "text/latex": "A data.frame: 2 × 4\n\\begin{tabular}{r|llll}\n  & MX & DX & dx & K\\\\\n  & <dbl> & <dbl> & <dbl> & <dbl>\\\\\n\\hline\n\tПо определению & 77.85321 & 1192.428 & 34.53155 & 44.35469\\\\\n\tПроизводящая & 77.85321 & 1192.418 & 34.53141 & 44.35451\\\\\n\\end{tabular}\n",
            "text/plain": [
              "               MX       DX       dx       K       \n",
              "По определению 77.85321 1192.428 34.53155 44.35469\n",
              "Производящая   77.85321 1192.418 34.53141 44.35451"
            ]
          },
          "metadata": {}
        }
      ]
    },
    {
      "cell_type": "markdown",
      "source": [
        "Как видно, точность очень высока."
      ],
      "metadata": {
        "id": "D5fF2YOZ9aT3"
      }
    },
    {
      "cell_type": "markdown",
      "metadata": {
        "id": "e6d621e3-5b20-4829-888d-c70323d5bdce"
      },
      "source": [
        "## Задание 2.\n",
        "\n",
        "Заданы три независимые целочисленные неотрицательные случайные величины $X_1, X_2, X_3$, распределенные по закону Пуассона, необходимо найти математическое ожидание, дисперсию, среднее квадратическое отклонение и коэффициент вариации случайной величины $X_1+X_2+X_3$ численно и теоретически.\n",
        "Пареметры закона Пуассона для $X_1, X_2, X_3$ определить в соответствии с вариантом."
      ]
    },
    {
      "cell_type": "code",
      "execution_count": 499,
      "metadata": {
        "id": "3ec37643-101e-4b3c-b666-021465d56f2c",
        "outputId": "36b995f8-8e07-4751-a09e-d64394170023",
        "colab": {
          "base_uri": "https://localhost:8080/",
          "height": 69
        }
      },
      "outputs": [
        {
          "output_type": "display_data",
          "data": {
            "text/html": [
              "0.200214452575892"
            ],
            "text/markdown": "0.200214452575892",
            "text/latex": "0.200214452575892",
            "text/plain": [
              "[1] 0.2002145"
            ]
          },
          "metadata": {}
        },
        {
          "output_type": "display_data",
          "data": {
            "text/html": [
              "0.685218595666811"
            ],
            "text/markdown": "0.685218595666811",
            "text/latex": "0.685218595666811",
            "text/plain": [
              "[1] 0.6852186"
            ]
          },
          "metadata": {}
        },
        {
          "output_type": "display_data",
          "data": {
            "text/html": [
              "0.91687577450648"
            ],
            "text/markdown": "0.91687577450648",
            "text/latex": "0.91687577450648",
            "text/plain": [
              "[1] 0.9168758"
            ]
          },
          "metadata": {}
        }
      ],
      "source": [
        "Variant <- 5\n",
        "set.seed(Variant) \n",
        "\n",
        "coefficients=runif(3)\n",
        "\n",
        "a1 <- coefficients[1]\n",
        "a2 <- coefficients[2]\n",
        "a3 <- coefficients[3]\n",
        "a1;a2;a3"
      ]
    },
    {
      "cell_type": "markdown",
      "source": [
        "### Теоретически"
      ],
      "metadata": {
        "id": "fbUpOtcBsOTi"
      }
    },
    {
      "cell_type": "markdown",
      "source": [
        "Распределение Пуассона:\n",
        "$$P_n=\\frac{\\left(\\lambda \\cdot \\tau\\right)^n}{n!}e^{-\\lambda\\cdot \\tau}$$"
      ],
      "metadata": {
        "id": "fuazkm1HbIs6"
      }
    },
    {
      "cell_type": "code",
      "source": [
        "library(stats)\n",
        "N <- 100000\n",
        "\n",
        "PoissonDf <- data.frame(X1 = rpois(N, a1), X2 = rpois(N, a2), X3 = rpois(N, a3))\n",
        "View(PoissonDf)"
      ],
      "metadata": {
        "colab": {
          "base_uri": "https://localhost:8080/",
          "height": 1000
        },
        "id": "OFOT7lzNZMgm",
        "outputId": "c8681736-8087-4455-cd04-77e894049e3f"
      },
      "execution_count": 500,
      "outputs": [
        {
          "output_type": "display_data",
          "data": {
            "text/plain": [
              "       X1 X2 X3\n",
              "1      0  1  0 \n",
              "2      0  0  2 \n",
              "3      0  0  2 \n",
              "4      0  0  0 \n",
              "5      0  1  2 \n",
              "6      1  0  1 \n",
              "7      0  0  2 \n",
              "8      0  1  1 \n",
              "9      0  0  0 \n",
              "10     0  0  3 \n",
              "11     0  1  1 \n",
              "12     0  1  1 \n",
              "13     0  0  1 \n",
              "14     0  0  0 \n",
              "15     1  0  0 \n",
              "16     0  2  1 \n",
              "17     1  0  2 \n",
              "18     1  1  1 \n",
              "19     0  3  0 \n",
              "20     0  0  2 \n",
              "21     0  0  1 \n",
              "22     0  1  0 \n",
              "23     0  2  0 \n",
              "24     0  0  1 \n",
              "25     1  2  1 \n",
              "26     0  1  1 \n",
              "27     1  0  0 \n",
              "28     0  0  2 \n",
              "29     0  1  1 \n",
              "30     0  1  1 \n",
              "⋮      ⋮  ⋮  ⋮ \n",
              "99971  1  2  0 \n",
              "99972  0  0  0 \n",
              "99973  0  0  2 \n",
              "99974  0  2  0 \n",
              "99975  0  1  1 \n",
              "99976  0  0  0 \n",
              "99977  0  0  2 \n",
              "99978  0  0  1 \n",
              "99979  0  1  1 \n",
              "99980  0  1  0 \n",
              "99981  0  0  1 \n",
              "99982  0  0  0 \n",
              "99983  0  1  1 \n",
              "99984  0  2  3 \n",
              "99985  0  0  0 \n",
              "99986  0  0  0 \n",
              "99987  0  1  0 \n",
              "99988  1  0  2 \n",
              "99989  0  1  0 \n",
              "99990  0  0  2 \n",
              "99991  0  0  1 \n",
              "99992  0  0  0 \n",
              "99993  0  1  1 \n",
              "99994  1  1  2 \n",
              "99995  0  0  2 \n",
              "99996  0  2  0 \n",
              "99997  0  2  0 \n",
              "99998  1  0  4 \n",
              "99999  1  1  2 \n",
              "100000 0  0  0 "
            ],
            "text/html": [
              "<table class=\"dataframe\">\n",
              "<caption>A data.frame: 100000 × 3</caption>\n",
              "<thead>\n",
              "\t<tr><th scope=col>X1</th><th scope=col>X2</th><th scope=col>X3</th></tr>\n",
              "\t<tr><th scope=col>&lt;int&gt;</th><th scope=col>&lt;int&gt;</th><th scope=col>&lt;int&gt;</th></tr>\n",
              "</thead>\n",
              "<tbody>\n",
              "\t<tr><td>0</td><td>1</td><td>0</td></tr>\n",
              "\t<tr><td>0</td><td>0</td><td>2</td></tr>\n",
              "\t<tr><td>0</td><td>0</td><td>2</td></tr>\n",
              "\t<tr><td>0</td><td>0</td><td>0</td></tr>\n",
              "\t<tr><td>0</td><td>1</td><td>2</td></tr>\n",
              "\t<tr><td>1</td><td>0</td><td>1</td></tr>\n",
              "\t<tr><td>0</td><td>0</td><td>2</td></tr>\n",
              "\t<tr><td>0</td><td>1</td><td>1</td></tr>\n",
              "\t<tr><td>0</td><td>0</td><td>0</td></tr>\n",
              "\t<tr><td>0</td><td>0</td><td>3</td></tr>\n",
              "\t<tr><td>0</td><td>1</td><td>1</td></tr>\n",
              "\t<tr><td>0</td><td>1</td><td>1</td></tr>\n",
              "\t<tr><td>0</td><td>0</td><td>1</td></tr>\n",
              "\t<tr><td>0</td><td>0</td><td>0</td></tr>\n",
              "\t<tr><td>1</td><td>0</td><td>0</td></tr>\n",
              "\t<tr><td>0</td><td>2</td><td>1</td></tr>\n",
              "\t<tr><td>1</td><td>0</td><td>2</td></tr>\n",
              "\t<tr><td>1</td><td>1</td><td>1</td></tr>\n",
              "\t<tr><td>0</td><td>3</td><td>0</td></tr>\n",
              "\t<tr><td>0</td><td>0</td><td>2</td></tr>\n",
              "\t<tr><td>0</td><td>0</td><td>1</td></tr>\n",
              "\t<tr><td>0</td><td>1</td><td>0</td></tr>\n",
              "\t<tr><td>0</td><td>2</td><td>0</td></tr>\n",
              "\t<tr><td>0</td><td>0</td><td>1</td></tr>\n",
              "\t<tr><td>1</td><td>2</td><td>1</td></tr>\n",
              "\t<tr><td>0</td><td>1</td><td>1</td></tr>\n",
              "\t<tr><td>1</td><td>0</td><td>0</td></tr>\n",
              "\t<tr><td>0</td><td>0</td><td>2</td></tr>\n",
              "\t<tr><td>0</td><td>1</td><td>1</td></tr>\n",
              "\t<tr><td>0</td><td>1</td><td>1</td></tr>\n",
              "\t<tr><td>⋮</td><td>⋮</td><td>⋮</td></tr>\n",
              "\t<tr><td>1</td><td>2</td><td>0</td></tr>\n",
              "\t<tr><td>0</td><td>0</td><td>0</td></tr>\n",
              "\t<tr><td>0</td><td>0</td><td>2</td></tr>\n",
              "\t<tr><td>0</td><td>2</td><td>0</td></tr>\n",
              "\t<tr><td>0</td><td>1</td><td>1</td></tr>\n",
              "\t<tr><td>0</td><td>0</td><td>0</td></tr>\n",
              "\t<tr><td>0</td><td>0</td><td>2</td></tr>\n",
              "\t<tr><td>0</td><td>0</td><td>1</td></tr>\n",
              "\t<tr><td>0</td><td>1</td><td>1</td></tr>\n",
              "\t<tr><td>0</td><td>1</td><td>0</td></tr>\n",
              "\t<tr><td>0</td><td>0</td><td>1</td></tr>\n",
              "\t<tr><td>0</td><td>0</td><td>0</td></tr>\n",
              "\t<tr><td>0</td><td>1</td><td>1</td></tr>\n",
              "\t<tr><td>0</td><td>2</td><td>3</td></tr>\n",
              "\t<tr><td>0</td><td>0</td><td>0</td></tr>\n",
              "\t<tr><td>0</td><td>0</td><td>0</td></tr>\n",
              "\t<tr><td>0</td><td>1</td><td>0</td></tr>\n",
              "\t<tr><td>1</td><td>0</td><td>2</td></tr>\n",
              "\t<tr><td>0</td><td>1</td><td>0</td></tr>\n",
              "\t<tr><td>0</td><td>0</td><td>2</td></tr>\n",
              "\t<tr><td>0</td><td>0</td><td>1</td></tr>\n",
              "\t<tr><td>0</td><td>0</td><td>0</td></tr>\n",
              "\t<tr><td>0</td><td>1</td><td>1</td></tr>\n",
              "\t<tr><td>1</td><td>1</td><td>2</td></tr>\n",
              "\t<tr><td>0</td><td>0</td><td>2</td></tr>\n",
              "\t<tr><td>0</td><td>2</td><td>0</td></tr>\n",
              "\t<tr><td>0</td><td>2</td><td>0</td></tr>\n",
              "\t<tr><td>1</td><td>0</td><td>4</td></tr>\n",
              "\t<tr><td>1</td><td>1</td><td>2</td></tr>\n",
              "\t<tr><td>0</td><td>0</td><td>0</td></tr>\n",
              "</tbody>\n",
              "</table>\n"
            ],
            "text/markdown": "\nA data.frame: 100000 × 3\n\n| X1 &lt;int&gt; | X2 &lt;int&gt; | X3 &lt;int&gt; |\n|---|---|---|\n| 0 | 1 | 0 |\n| 0 | 0 | 2 |\n| 0 | 0 | 2 |\n| 0 | 0 | 0 |\n| 0 | 1 | 2 |\n| 1 | 0 | 1 |\n| 0 | 0 | 2 |\n| 0 | 1 | 1 |\n| 0 | 0 | 0 |\n| 0 | 0 | 3 |\n| 0 | 1 | 1 |\n| 0 | 1 | 1 |\n| 0 | 0 | 1 |\n| 0 | 0 | 0 |\n| 1 | 0 | 0 |\n| 0 | 2 | 1 |\n| 1 | 0 | 2 |\n| 1 | 1 | 1 |\n| 0 | 3 | 0 |\n| 0 | 0 | 2 |\n| 0 | 0 | 1 |\n| 0 | 1 | 0 |\n| 0 | 2 | 0 |\n| 0 | 0 | 1 |\n| 1 | 2 | 1 |\n| 0 | 1 | 1 |\n| 1 | 0 | 0 |\n| 0 | 0 | 2 |\n| 0 | 1 | 1 |\n| 0 | 1 | 1 |\n| ⋮ | ⋮ | ⋮ |\n| 1 | 2 | 0 |\n| 0 | 0 | 0 |\n| 0 | 0 | 2 |\n| 0 | 2 | 0 |\n| 0 | 1 | 1 |\n| 0 | 0 | 0 |\n| 0 | 0 | 2 |\n| 0 | 0 | 1 |\n| 0 | 1 | 1 |\n| 0 | 1 | 0 |\n| 0 | 0 | 1 |\n| 0 | 0 | 0 |\n| 0 | 1 | 1 |\n| 0 | 2 | 3 |\n| 0 | 0 | 0 |\n| 0 | 0 | 0 |\n| 0 | 1 | 0 |\n| 1 | 0 | 2 |\n| 0 | 1 | 0 |\n| 0 | 0 | 2 |\n| 0 | 0 | 1 |\n| 0 | 0 | 0 |\n| 0 | 1 | 1 |\n| 1 | 1 | 2 |\n| 0 | 0 | 2 |\n| 0 | 2 | 0 |\n| 0 | 2 | 0 |\n| 1 | 0 | 4 |\n| 1 | 1 | 2 |\n| 0 | 0 | 0 |\n\n",
            "text/latex": "A data.frame: 100000 × 3\n\\begin{tabular}{lll}\n X1 & X2 & X3\\\\\n <int> & <int> & <int>\\\\\n\\hline\n\t 0 & 1 & 0\\\\\n\t 0 & 0 & 2\\\\\n\t 0 & 0 & 2\\\\\n\t 0 & 0 & 0\\\\\n\t 0 & 1 & 2\\\\\n\t 1 & 0 & 1\\\\\n\t 0 & 0 & 2\\\\\n\t 0 & 1 & 1\\\\\n\t 0 & 0 & 0\\\\\n\t 0 & 0 & 3\\\\\n\t 0 & 1 & 1\\\\\n\t 0 & 1 & 1\\\\\n\t 0 & 0 & 1\\\\\n\t 0 & 0 & 0\\\\\n\t 1 & 0 & 0\\\\\n\t 0 & 2 & 1\\\\\n\t 1 & 0 & 2\\\\\n\t 1 & 1 & 1\\\\\n\t 0 & 3 & 0\\\\\n\t 0 & 0 & 2\\\\\n\t 0 & 0 & 1\\\\\n\t 0 & 1 & 0\\\\\n\t 0 & 2 & 0\\\\\n\t 0 & 0 & 1\\\\\n\t 1 & 2 & 1\\\\\n\t 0 & 1 & 1\\\\\n\t 1 & 0 & 0\\\\\n\t 0 & 0 & 2\\\\\n\t 0 & 1 & 1\\\\\n\t 0 & 1 & 1\\\\\n\t ⋮ & ⋮ & ⋮\\\\\n\t 1 & 2 & 0\\\\\n\t 0 & 0 & 0\\\\\n\t 0 & 0 & 2\\\\\n\t 0 & 2 & 0\\\\\n\t 0 & 1 & 1\\\\\n\t 0 & 0 & 0\\\\\n\t 0 & 0 & 2\\\\\n\t 0 & 0 & 1\\\\\n\t 0 & 1 & 1\\\\\n\t 0 & 1 & 0\\\\\n\t 0 & 0 & 1\\\\\n\t 0 & 0 & 0\\\\\n\t 0 & 1 & 1\\\\\n\t 0 & 2 & 3\\\\\n\t 0 & 0 & 0\\\\\n\t 0 & 0 & 0\\\\\n\t 0 & 1 & 0\\\\\n\t 1 & 0 & 2\\\\\n\t 0 & 1 & 0\\\\\n\t 0 & 0 & 2\\\\\n\t 0 & 0 & 1\\\\\n\t 0 & 0 & 0\\\\\n\t 0 & 1 & 1\\\\\n\t 1 & 1 & 2\\\\\n\t 0 & 0 & 2\\\\\n\t 0 & 2 & 0\\\\\n\t 0 & 2 & 0\\\\\n\t 1 & 0 & 4\\\\\n\t 1 & 1 & 2\\\\\n\t 0 & 0 & 0\\\\\n\\end{tabular}\n"
          },
          "metadata": {}
        }
      ]
    },
    {
      "cell_type": "markdown",
      "source": [
        "Из определения, математическое ожидание и дисперсия\n",
        "$$D[X]=e^{-\\lambda\\tau}\\left(M[X]^2e^{\\lambda\\tau}+M[X]e^{\\lambda\\tau}\\right)-M[X]^2=M[X]=\\lambda\\tau$$"
      ],
      "metadata": {
        "id": "jMSTxpnqasVz"
      }
    },
    {
      "cell_type": "markdown",
      "source": [
        "Мат. ожидание суммы независимых случайных величин равно сумме их мат. ожиданий. Для дисперсии аналогично"
      ],
      "metadata": {
        "id": "nY_55F5CbeQ4"
      }
    },
    {
      "cell_type": "code",
      "source": [
        "MX <- a1 + a2 + a3\n",
        "DX <- MX\n",
        "dx <- sqrt(DX)\n",
        "K <- dx / MX * 100\n",
        "PoissonResultsDf <- data.frame(Theoretical=c(MX, DX, dx, K))\n",
        "rownames(PoissonResultsDf) <- c('MX', 'DX', 'dx', 'K')\n",
        "View(PoissonResultsDf)"
      ],
      "metadata": {
        "colab": {
          "base_uri": "https://localhost:8080/",
          "height": 223
        },
        "id": "PNo1qu5PbZJi",
        "outputId": "70a93124-16f3-436b-a473-e8c1578308a6"
      },
      "execution_count": 501,
      "outputs": [
        {
          "output_type": "display_data",
          "data": {
            "text/plain": [
              "   Theoretical\n",
              "MX  1.802309  \n",
              "DX  1.802309  \n",
              "dx  1.342501  \n",
              "K  74.487843  "
            ],
            "text/html": [
              "<table class=\"dataframe\">\n",
              "<caption>A data.frame: 4 × 1</caption>\n",
              "<thead>\n",
              "\t<tr><th></th><th scope=col>Theoretical</th></tr>\n",
              "\t<tr><th></th><th scope=col>&lt;dbl&gt;</th></tr>\n",
              "</thead>\n",
              "<tbody>\n",
              "\t<tr><th scope=row>MX</th><td> 1.802309</td></tr>\n",
              "\t<tr><th scope=row>DX</th><td> 1.802309</td></tr>\n",
              "\t<tr><th scope=row>dx</th><td> 1.342501</td></tr>\n",
              "\t<tr><th scope=row>K</th><td>74.487843</td></tr>\n",
              "</tbody>\n",
              "</table>\n"
            ],
            "text/markdown": "\nA data.frame: 4 × 1\n\n| <!--/--> | Theoretical &lt;dbl&gt; |\n|---|---|\n| MX |  1.802309 |\n| DX |  1.802309 |\n| dx |  1.342501 |\n| K | 74.487843 |\n\n",
            "text/latex": "A data.frame: 4 × 1\n\\begin{tabular}{r|l}\n  & Theoretical\\\\\n  & <dbl>\\\\\n\\hline\n\tMX &  1.802309\\\\\n\tDX &  1.802309\\\\\n\tdx &  1.342501\\\\\n\tK & 74.487843\\\\\n\\end{tabular}\n"
          },
          "metadata": {}
        }
      ]
    },
    {
      "cell_type": "markdown",
      "source": [
        "### Через производящие функции\n",
        "\n",
        "$$P(z)=\\sum_{n=0}^\\infty p_n z^n=\\sum_{n=0}^\\infty\\frac{(\\lambda t)^n}{n!}e^{-\\lambda t}z^n=e^{-\\lambda t}\\cdot e^{\\lambda t z}=e^{-\\lambda t(1-z)}$$\n",
        "$$P_1(z)=e^{-a_1(1-z)}$$\n",
        "$$P_2(z)=e^{-a_2(1-z)}$$\n",
        "$$P_3(z)=e^{-a_3(1-z)}$$\n",
        "$$P_{sum}=P_1(z)*P_2(z)*P_3(z)$$"
      ],
      "metadata": {
        "id": "qDTBJM_PsR5O"
      }
    },
    {
      "cell_type": "code",
      "source": [
        "e = exp(1)"
      ],
      "metadata": {
        "id": "_AWE8iT-s78K"
      },
      "execution_count": 502,
      "outputs": []
    },
    {
      "cell_type": "code",
      "source": [
        "P = expression(\n",
        "  (e^(-1 * a1 * (1-z))) *\n",
        "  (e^(-1 * a2 * (1-z))) *\n",
        "  (e^(-1 * a3 * (1-z)))\n",
        ")\n",
        "P"
      ],
      "metadata": {
        "colab": {
          "base_uri": "https://localhost:8080/",
          "height": 53
        },
        "id": "18A0d_oDtQey",
        "outputId": "762dc8b2-18c8-44ea-dfd1-9e6ec7fcc15f"
      },
      "execution_count": 503,
      "outputs": [
        {
          "output_type": "display_data",
          "data": {
            "text/plain": [
              "expression((e^(-1 * a1 * (1 - z))) * (e^(-1 * a2 * (1 - z))) * \n",
              "    (e^(-1 * a3 * (1 - z))))"
            ]
          },
          "metadata": {}
        }
      ]
    },
    {
      "cell_type": "markdown",
      "source": [
        "Аналогично заданию 1.2 вычисляем математические характеристики"
      ],
      "metadata": {
        "id": "JQ87-EhttnvV"
      }
    },
    {
      "cell_type": "code",
      "source": [
        "DP<-D(P, 'z')\n",
        "DP\n",
        "\n",
        "DDP<-D(DP, 'z')\n",
        "DDP"
      ],
      "metadata": {
        "colab": {
          "base_uri": "https://localhost:8080/",
          "height": 394
        },
        "id": "gRxqqcIetyvP",
        "outputId": "3571d331-c3d6-4ee4-816f-71e75791eaba"
      },
      "execution_count": 504,
      "outputs": [
        {
          "output_type": "display_data",
          "data": {
            "text/plain": [
              "-((e^(-1 * a1 * (1 - z))) * (e^(-1 * a2 * (1 - z))) * (e^(-1 * \n",
              "    a3 * (1 - z)) * (log(e) * (-1 * a3))) + ((e^(-1 * a1 * (1 - \n",
              "    z))) * (e^(-1 * a2 * (1 - z)) * (log(e) * (-1 * a2))) + e^(-1 * \n",
              "    a1 * (1 - z)) * (log(e) * (-1 * a1)) * (e^(-1 * a2 * (1 - \n",
              "    z)))) * (e^(-1 * a3 * (1 - z))))"
            ]
          },
          "metadata": {}
        },
        {
          "output_type": "display_data",
          "data": {
            "text/plain": [
              "((e^(-1 * a1 * (1 - z))) * (e^(-1 * a2 * (1 - z)) * (log(e) * \n",
              "    (-1 * a2))) + e^(-1 * a1 * (1 - z)) * (log(e) * (-1 * a1)) * \n",
              "    (e^(-1 * a2 * (1 - z)))) * (e^(-1 * a3 * (1 - z)) * (log(e) * \n",
              "    (-1 * a3))) + (e^(-1 * a1 * (1 - z)) * (log(e) * (-1 * a1)) * \n",
              "    (e^(-1 * a2 * (1 - z)) * (log(e) * (-1 * a2))) + e^(-1 * \n",
              "    a1 * (1 - z)) * (log(e) * (-1 * a1)) * (log(e) * (-1 * a1)) * \n",
              "    (e^(-1 * a2 * (1 - z))) + ((e^(-1 * a1 * (1 - z))) * (e^(-1 * \n",
              "    a2 * (1 - z)) * (log(e) * (-1 * a2)) * (log(e) * (-1 * a2))) + \n",
              "    e^(-1 * a1 * (1 - z)) * (log(e) * (-1 * a1)) * (e^(-1 * a2 * \n",
              "        (1 - z)) * (log(e) * (-1 * a2))))) * (e^(-1 * a3 * (1 - \n",
              "    z))) + ((e^(-1 * a1 * (1 - z))) * (e^(-1 * a2 * (1 - z))) * \n",
              "    (e^(-1 * a3 * (1 - z)) * (log(e) * (-1 * a3)) * (log(e) * \n",
              "        (-1 * a3))) + ((e^(-1 * a1 * (1 - z))) * (e^(-1 * a2 * \n",
              "    (1 - z)) * (log(e) * (-1 * a2))) + e^(-1 * a1 * (1 - z)) * \n",
              "    (log(e) * (-1 * a1)) * (e^(-1 * a2 * (1 - z)))) * (e^(-1 * \n",
              "    a3 * (1 - z)) * (log(e) * (-1 * a3))))"
            ]
          },
          "metadata": {}
        }
      ]
    },
    {
      "cell_type": "markdown",
      "source": [
        "$$M(\\zeta)=P'_{\\zeta}(z)|_{z=1}$$"
      ],
      "metadata": {
        "id": "rKCLuLJOuMlN"
      }
    },
    {
      "cell_type": "code",
      "source": [
        "MX<-eval(DP, z<-1)\n",
        "MX"
      ],
      "metadata": {
        "colab": {
          "base_uri": "https://localhost:8080/",
          "height": 34
        },
        "outputId": "4201546f-98c0-42c9-d9b3-71902adfdc17",
        "id": "zEk9ZAlKuMlN"
      },
      "execution_count": 505,
      "outputs": [
        {
          "output_type": "display_data",
          "data": {
            "text/html": [
              "1.80230882274918"
            ],
            "text/markdown": "1.80230882274918",
            "text/latex": "1.80230882274918",
            "text/plain": [
              "[1] 1.802309"
            ]
          },
          "metadata": {}
        }
      ]
    },
    {
      "cell_type": "markdown",
      "source": [
        "$$D(\\zeta)=P''_{\\zeta}(z)|_{z=1}+P'_{\\zeta}(z)|_{z=1}-\\left(P'_{\\zeta}(z)\\right)^2|_{z=1}$$"
      ],
      "metadata": {
        "id": "kvALqlqeuMlO"
      }
    },
    {
      "cell_type": "code",
      "source": [
        "DX <- eval(DDP, z<-1) + MX - eval(DP, z<-1) * eval(DP, z<-1)\n",
        "DX"
      ],
      "metadata": {
        "colab": {
          "base_uri": "https://localhost:8080/",
          "height": 34
        },
        "outputId": "af338d7e-bcbe-4da5-b73b-5641eefaeebf",
        "id": "DQxig9SiuMlO"
      },
      "execution_count": 506,
      "outputs": [
        {
          "output_type": "display_data",
          "data": {
            "text/html": [
              "1.80230882274918"
            ],
            "text/markdown": "1.80230882274918",
            "text/latex": "1.80230882274918",
            "text/plain": [
              "[1] 1.802309"
            ]
          },
          "metadata": {}
        }
      ]
    },
    {
      "cell_type": "markdown",
      "source": [
        "Заметим, что $MX = DX$"
      ],
      "metadata": {
        "id": "lXXCVRyIOz5v"
      }
    },
    {
      "cell_type": "markdown",
      "source": [
        "Среднеквадратичное отклонение посчитаем из $DX$:"
      ],
      "metadata": {
        "id": "lDcf4FQjuMlO"
      }
    },
    {
      "cell_type": "code",
      "source": [
        "dx <- sqrt(DX)\n",
        "dx"
      ],
      "metadata": {
        "colab": {
          "base_uri": "https://localhost:8080/",
          "height": 34
        },
        "outputId": "65f0b140-e4fa-4c0d-83b8-1057625ac728",
        "id": "ych5DD6RuMlO"
      },
      "execution_count": 507,
      "outputs": [
        {
          "output_type": "display_data",
          "data": {
            "text/html": [
              "1.34250095819302"
            ],
            "text/markdown": "1.34250095819302",
            "text/latex": "1.34250095819302",
            "text/plain": [
              "[1] 1.342501"
            ]
          },
          "metadata": {}
        }
      ]
    },
    {
      "cell_type": "markdown",
      "source": [
        "Коэфиициент вариации тоже посчитаем из $DX$:\n",
        "\n"
      ],
      "metadata": {
        "id": "bedjZ5ckuMlO"
      }
    },
    {
      "cell_type": "code",
      "source": [
        "K <- dx / MX * 100\n",
        "K"
      ],
      "metadata": {
        "colab": {
          "base_uri": "https://localhost:8080/",
          "height": 34
        },
        "outputId": "dce00516-4f14-4cc7-829d-eece4f4ccd5d",
        "id": "rdkkoyzduMlO"
      },
      "execution_count": 508,
      "outputs": [
        {
          "output_type": "display_data",
          "data": {
            "text/html": [
              "74.4878425521557"
            ],
            "text/markdown": "74.4878425521557",
            "text/latex": "74.4878425521557",
            "text/plain": [
              "[1] 74.48784"
            ]
          },
          "metadata": {}
        }
      ]
    },
    {
      "cell_type": "markdown",
      "source": [
        "В итоге получили:"
      ],
      "metadata": {
        "id": "po5CSstnPITF"
      }
    },
    {
      "cell_type": "code",
      "source": [
        "PoissonResultsDf$P <- c(MX, DX, dx, K)\n",
        "View(PoissonResultsDf)"
      ],
      "metadata": {
        "colab": {
          "base_uri": "https://localhost:8080/",
          "height": 223
        },
        "id": "qQ9PZMOwPNIt",
        "outputId": "09a14582-7461-46db-a3b2-68a8e0132f4d"
      },
      "execution_count": 509,
      "outputs": [
        {
          "output_type": "display_data",
          "data": {
            "text/plain": [
              "   Theoretical P        \n",
              "MX  1.802309    1.802309\n",
              "DX  1.802309    1.802309\n",
              "dx  1.342501    1.342501\n",
              "K  74.487843   74.487843"
            ],
            "text/html": [
              "<table class=\"dataframe\">\n",
              "<caption>A data.frame: 4 × 2</caption>\n",
              "<thead>\n",
              "\t<tr><th></th><th scope=col>Theoretical</th><th scope=col>P</th></tr>\n",
              "\t<tr><th></th><th scope=col>&lt;dbl&gt;</th><th scope=col>&lt;dbl&gt;</th></tr>\n",
              "</thead>\n",
              "<tbody>\n",
              "\t<tr><th scope=row>MX</th><td> 1.802309</td><td> 1.802309</td></tr>\n",
              "\t<tr><th scope=row>DX</th><td> 1.802309</td><td> 1.802309</td></tr>\n",
              "\t<tr><th scope=row>dx</th><td> 1.342501</td><td> 1.342501</td></tr>\n",
              "\t<tr><th scope=row>K</th><td>74.487843</td><td>74.487843</td></tr>\n",
              "</tbody>\n",
              "</table>\n"
            ],
            "text/markdown": "\nA data.frame: 4 × 2\n\n| <!--/--> | Theoretical &lt;dbl&gt; | P &lt;dbl&gt; |\n|---|---|---|\n| MX |  1.802309 |  1.802309 |\n| DX |  1.802309 |  1.802309 |\n| dx |  1.342501 |  1.342501 |\n| K | 74.487843 | 74.487843 |\n\n",
            "text/latex": "A data.frame: 4 × 2\n\\begin{tabular}{r|ll}\n  & Theoretical & P\\\\\n  & <dbl> & <dbl>\\\\\n\\hline\n\tMX &  1.802309 &  1.802309\\\\\n\tDX &  1.802309 &  1.802309\\\\\n\tdx &  1.342501 &  1.342501\\\\\n\tK & 74.487843 & 74.487843\\\\\n\\end{tabular}\n"
          },
          "metadata": {}
        }
      ]
    },
    {
      "cell_type": "markdown",
      "source": [
        "### Экспериментально"
      ],
      "metadata": {
        "id": "7_IgT8igvNdn"
      }
    },
    {
      "cell_type": "code",
      "source": [
        "PoissonDf$Sum <- rowSums(PoissonDf)\n",
        "View(PoissonDf)"
      ],
      "metadata": {
        "colab": {
          "base_uri": "https://localhost:8080/",
          "height": 1000
        },
        "id": "NMD7-e0Qb-eJ",
        "outputId": "c7988b74-0d1d-436b-c833-1f8d9082e0dc"
      },
      "execution_count": 510,
      "outputs": [
        {
          "output_type": "display_data",
          "data": {
            "text/plain": [
              "       X1 X2 X3 Sum\n",
              "1      0  1  0  1  \n",
              "2      0  0  2  2  \n",
              "3      0  0  2  2  \n",
              "4      0  0  0  0  \n",
              "5      0  1  2  3  \n",
              "6      1  0  1  2  \n",
              "7      0  0  2  2  \n",
              "8      0  1  1  2  \n",
              "9      0  0  0  0  \n",
              "10     0  0  3  3  \n",
              "11     0  1  1  2  \n",
              "12     0  1  1  2  \n",
              "13     0  0  1  1  \n",
              "14     0  0  0  0  \n",
              "15     1  0  0  1  \n",
              "16     0  2  1  3  \n",
              "17     1  0  2  3  \n",
              "18     1  1  1  3  \n",
              "19     0  3  0  3  \n",
              "20     0  0  2  2  \n",
              "21     0  0  1  1  \n",
              "22     0  1  0  1  \n",
              "23     0  2  0  2  \n",
              "24     0  0  1  1  \n",
              "25     1  2  1  4  \n",
              "26     0  1  1  2  \n",
              "27     1  0  0  1  \n",
              "28     0  0  2  2  \n",
              "29     0  1  1  2  \n",
              "30     0  1  1  2  \n",
              "⋮      ⋮  ⋮  ⋮  ⋮  \n",
              "99971  1  2  0  3  \n",
              "99972  0  0  0  0  \n",
              "99973  0  0  2  2  \n",
              "99974  0  2  0  2  \n",
              "99975  0  1  1  2  \n",
              "99976  0  0  0  0  \n",
              "99977  0  0  2  2  \n",
              "99978  0  0  1  1  \n",
              "99979  0  1  1  2  \n",
              "99980  0  1  0  1  \n",
              "99981  0  0  1  1  \n",
              "99982  0  0  0  0  \n",
              "99983  0  1  1  2  \n",
              "99984  0  2  3  5  \n",
              "99985  0  0  0  0  \n",
              "99986  0  0  0  0  \n",
              "99987  0  1  0  1  \n",
              "99988  1  0  2  3  \n",
              "99989  0  1  0  1  \n",
              "99990  0  0  2  2  \n",
              "99991  0  0  1  1  \n",
              "99992  0  0  0  0  \n",
              "99993  0  1  1  2  \n",
              "99994  1  1  2  4  \n",
              "99995  0  0  2  2  \n",
              "99996  0  2  0  2  \n",
              "99997  0  2  0  2  \n",
              "99998  1  0  4  5  \n",
              "99999  1  1  2  4  \n",
              "100000 0  0  0  0  "
            ],
            "text/html": [
              "<table class=\"dataframe\">\n",
              "<caption>A data.frame: 100000 × 4</caption>\n",
              "<thead>\n",
              "\t<tr><th scope=col>X1</th><th scope=col>X2</th><th scope=col>X3</th><th scope=col>Sum</th></tr>\n",
              "\t<tr><th scope=col>&lt;int&gt;</th><th scope=col>&lt;int&gt;</th><th scope=col>&lt;int&gt;</th><th scope=col>&lt;dbl&gt;</th></tr>\n",
              "</thead>\n",
              "<tbody>\n",
              "\t<tr><td>0</td><td>1</td><td>0</td><td>1</td></tr>\n",
              "\t<tr><td>0</td><td>0</td><td>2</td><td>2</td></tr>\n",
              "\t<tr><td>0</td><td>0</td><td>2</td><td>2</td></tr>\n",
              "\t<tr><td>0</td><td>0</td><td>0</td><td>0</td></tr>\n",
              "\t<tr><td>0</td><td>1</td><td>2</td><td>3</td></tr>\n",
              "\t<tr><td>1</td><td>0</td><td>1</td><td>2</td></tr>\n",
              "\t<tr><td>0</td><td>0</td><td>2</td><td>2</td></tr>\n",
              "\t<tr><td>0</td><td>1</td><td>1</td><td>2</td></tr>\n",
              "\t<tr><td>0</td><td>0</td><td>0</td><td>0</td></tr>\n",
              "\t<tr><td>0</td><td>0</td><td>3</td><td>3</td></tr>\n",
              "\t<tr><td>0</td><td>1</td><td>1</td><td>2</td></tr>\n",
              "\t<tr><td>0</td><td>1</td><td>1</td><td>2</td></tr>\n",
              "\t<tr><td>0</td><td>0</td><td>1</td><td>1</td></tr>\n",
              "\t<tr><td>0</td><td>0</td><td>0</td><td>0</td></tr>\n",
              "\t<tr><td>1</td><td>0</td><td>0</td><td>1</td></tr>\n",
              "\t<tr><td>0</td><td>2</td><td>1</td><td>3</td></tr>\n",
              "\t<tr><td>1</td><td>0</td><td>2</td><td>3</td></tr>\n",
              "\t<tr><td>1</td><td>1</td><td>1</td><td>3</td></tr>\n",
              "\t<tr><td>0</td><td>3</td><td>0</td><td>3</td></tr>\n",
              "\t<tr><td>0</td><td>0</td><td>2</td><td>2</td></tr>\n",
              "\t<tr><td>0</td><td>0</td><td>1</td><td>1</td></tr>\n",
              "\t<tr><td>0</td><td>1</td><td>0</td><td>1</td></tr>\n",
              "\t<tr><td>0</td><td>2</td><td>0</td><td>2</td></tr>\n",
              "\t<tr><td>0</td><td>0</td><td>1</td><td>1</td></tr>\n",
              "\t<tr><td>1</td><td>2</td><td>1</td><td>4</td></tr>\n",
              "\t<tr><td>0</td><td>1</td><td>1</td><td>2</td></tr>\n",
              "\t<tr><td>1</td><td>0</td><td>0</td><td>1</td></tr>\n",
              "\t<tr><td>0</td><td>0</td><td>2</td><td>2</td></tr>\n",
              "\t<tr><td>0</td><td>1</td><td>1</td><td>2</td></tr>\n",
              "\t<tr><td>0</td><td>1</td><td>1</td><td>2</td></tr>\n",
              "\t<tr><td>⋮</td><td>⋮</td><td>⋮</td><td>⋮</td></tr>\n",
              "\t<tr><td>1</td><td>2</td><td>0</td><td>3</td></tr>\n",
              "\t<tr><td>0</td><td>0</td><td>0</td><td>0</td></tr>\n",
              "\t<tr><td>0</td><td>0</td><td>2</td><td>2</td></tr>\n",
              "\t<tr><td>0</td><td>2</td><td>0</td><td>2</td></tr>\n",
              "\t<tr><td>0</td><td>1</td><td>1</td><td>2</td></tr>\n",
              "\t<tr><td>0</td><td>0</td><td>0</td><td>0</td></tr>\n",
              "\t<tr><td>0</td><td>0</td><td>2</td><td>2</td></tr>\n",
              "\t<tr><td>0</td><td>0</td><td>1</td><td>1</td></tr>\n",
              "\t<tr><td>0</td><td>1</td><td>1</td><td>2</td></tr>\n",
              "\t<tr><td>0</td><td>1</td><td>0</td><td>1</td></tr>\n",
              "\t<tr><td>0</td><td>0</td><td>1</td><td>1</td></tr>\n",
              "\t<tr><td>0</td><td>0</td><td>0</td><td>0</td></tr>\n",
              "\t<tr><td>0</td><td>1</td><td>1</td><td>2</td></tr>\n",
              "\t<tr><td>0</td><td>2</td><td>3</td><td>5</td></tr>\n",
              "\t<tr><td>0</td><td>0</td><td>0</td><td>0</td></tr>\n",
              "\t<tr><td>0</td><td>0</td><td>0</td><td>0</td></tr>\n",
              "\t<tr><td>0</td><td>1</td><td>0</td><td>1</td></tr>\n",
              "\t<tr><td>1</td><td>0</td><td>2</td><td>3</td></tr>\n",
              "\t<tr><td>0</td><td>1</td><td>0</td><td>1</td></tr>\n",
              "\t<tr><td>0</td><td>0</td><td>2</td><td>2</td></tr>\n",
              "\t<tr><td>0</td><td>0</td><td>1</td><td>1</td></tr>\n",
              "\t<tr><td>0</td><td>0</td><td>0</td><td>0</td></tr>\n",
              "\t<tr><td>0</td><td>1</td><td>1</td><td>2</td></tr>\n",
              "\t<tr><td>1</td><td>1</td><td>2</td><td>4</td></tr>\n",
              "\t<tr><td>0</td><td>0</td><td>2</td><td>2</td></tr>\n",
              "\t<tr><td>0</td><td>2</td><td>0</td><td>2</td></tr>\n",
              "\t<tr><td>0</td><td>2</td><td>0</td><td>2</td></tr>\n",
              "\t<tr><td>1</td><td>0</td><td>4</td><td>5</td></tr>\n",
              "\t<tr><td>1</td><td>1</td><td>2</td><td>4</td></tr>\n",
              "\t<tr><td>0</td><td>0</td><td>0</td><td>0</td></tr>\n",
              "</tbody>\n",
              "</table>\n"
            ],
            "text/markdown": "\nA data.frame: 100000 × 4\n\n| X1 &lt;int&gt; | X2 &lt;int&gt; | X3 &lt;int&gt; | Sum &lt;dbl&gt; |\n|---|---|---|---|\n| 0 | 1 | 0 | 1 |\n| 0 | 0 | 2 | 2 |\n| 0 | 0 | 2 | 2 |\n| 0 | 0 | 0 | 0 |\n| 0 | 1 | 2 | 3 |\n| 1 | 0 | 1 | 2 |\n| 0 | 0 | 2 | 2 |\n| 0 | 1 | 1 | 2 |\n| 0 | 0 | 0 | 0 |\n| 0 | 0 | 3 | 3 |\n| 0 | 1 | 1 | 2 |\n| 0 | 1 | 1 | 2 |\n| 0 | 0 | 1 | 1 |\n| 0 | 0 | 0 | 0 |\n| 1 | 0 | 0 | 1 |\n| 0 | 2 | 1 | 3 |\n| 1 | 0 | 2 | 3 |\n| 1 | 1 | 1 | 3 |\n| 0 | 3 | 0 | 3 |\n| 0 | 0 | 2 | 2 |\n| 0 | 0 | 1 | 1 |\n| 0 | 1 | 0 | 1 |\n| 0 | 2 | 0 | 2 |\n| 0 | 0 | 1 | 1 |\n| 1 | 2 | 1 | 4 |\n| 0 | 1 | 1 | 2 |\n| 1 | 0 | 0 | 1 |\n| 0 | 0 | 2 | 2 |\n| 0 | 1 | 1 | 2 |\n| 0 | 1 | 1 | 2 |\n| ⋮ | ⋮ | ⋮ | ⋮ |\n| 1 | 2 | 0 | 3 |\n| 0 | 0 | 0 | 0 |\n| 0 | 0 | 2 | 2 |\n| 0 | 2 | 0 | 2 |\n| 0 | 1 | 1 | 2 |\n| 0 | 0 | 0 | 0 |\n| 0 | 0 | 2 | 2 |\n| 0 | 0 | 1 | 1 |\n| 0 | 1 | 1 | 2 |\n| 0 | 1 | 0 | 1 |\n| 0 | 0 | 1 | 1 |\n| 0 | 0 | 0 | 0 |\n| 0 | 1 | 1 | 2 |\n| 0 | 2 | 3 | 5 |\n| 0 | 0 | 0 | 0 |\n| 0 | 0 | 0 | 0 |\n| 0 | 1 | 0 | 1 |\n| 1 | 0 | 2 | 3 |\n| 0 | 1 | 0 | 1 |\n| 0 | 0 | 2 | 2 |\n| 0 | 0 | 1 | 1 |\n| 0 | 0 | 0 | 0 |\n| 0 | 1 | 1 | 2 |\n| 1 | 1 | 2 | 4 |\n| 0 | 0 | 2 | 2 |\n| 0 | 2 | 0 | 2 |\n| 0 | 2 | 0 | 2 |\n| 1 | 0 | 4 | 5 |\n| 1 | 1 | 2 | 4 |\n| 0 | 0 | 0 | 0 |\n\n",
            "text/latex": "A data.frame: 100000 × 4\n\\begin{tabular}{llll}\n X1 & X2 & X3 & Sum\\\\\n <int> & <int> & <int> & <dbl>\\\\\n\\hline\n\t 0 & 1 & 0 & 1\\\\\n\t 0 & 0 & 2 & 2\\\\\n\t 0 & 0 & 2 & 2\\\\\n\t 0 & 0 & 0 & 0\\\\\n\t 0 & 1 & 2 & 3\\\\\n\t 1 & 0 & 1 & 2\\\\\n\t 0 & 0 & 2 & 2\\\\\n\t 0 & 1 & 1 & 2\\\\\n\t 0 & 0 & 0 & 0\\\\\n\t 0 & 0 & 3 & 3\\\\\n\t 0 & 1 & 1 & 2\\\\\n\t 0 & 1 & 1 & 2\\\\\n\t 0 & 0 & 1 & 1\\\\\n\t 0 & 0 & 0 & 0\\\\\n\t 1 & 0 & 0 & 1\\\\\n\t 0 & 2 & 1 & 3\\\\\n\t 1 & 0 & 2 & 3\\\\\n\t 1 & 1 & 1 & 3\\\\\n\t 0 & 3 & 0 & 3\\\\\n\t 0 & 0 & 2 & 2\\\\\n\t 0 & 0 & 1 & 1\\\\\n\t 0 & 1 & 0 & 1\\\\\n\t 0 & 2 & 0 & 2\\\\\n\t 0 & 0 & 1 & 1\\\\\n\t 1 & 2 & 1 & 4\\\\\n\t 0 & 1 & 1 & 2\\\\\n\t 1 & 0 & 0 & 1\\\\\n\t 0 & 0 & 2 & 2\\\\\n\t 0 & 1 & 1 & 2\\\\\n\t 0 & 1 & 1 & 2\\\\\n\t ⋮ & ⋮ & ⋮ & ⋮\\\\\n\t 1 & 2 & 0 & 3\\\\\n\t 0 & 0 & 0 & 0\\\\\n\t 0 & 0 & 2 & 2\\\\\n\t 0 & 2 & 0 & 2\\\\\n\t 0 & 1 & 1 & 2\\\\\n\t 0 & 0 & 0 & 0\\\\\n\t 0 & 0 & 2 & 2\\\\\n\t 0 & 0 & 1 & 1\\\\\n\t 0 & 1 & 1 & 2\\\\\n\t 0 & 1 & 0 & 1\\\\\n\t 0 & 0 & 1 & 1\\\\\n\t 0 & 0 & 0 & 0\\\\\n\t 0 & 1 & 1 & 2\\\\\n\t 0 & 2 & 3 & 5\\\\\n\t 0 & 0 & 0 & 0\\\\\n\t 0 & 0 & 0 & 0\\\\\n\t 0 & 1 & 0 & 1\\\\\n\t 1 & 0 & 2 & 3\\\\\n\t 0 & 1 & 0 & 1\\\\\n\t 0 & 0 & 2 & 2\\\\\n\t 0 & 0 & 1 & 1\\\\\n\t 0 & 0 & 0 & 0\\\\\n\t 0 & 1 & 1 & 2\\\\\n\t 1 & 1 & 2 & 4\\\\\n\t 0 & 0 & 2 & 2\\\\\n\t 0 & 2 & 0 & 2\\\\\n\t 0 & 2 & 0 & 2\\\\\n\t 1 & 0 & 4 & 5\\\\\n\t 1 & 1 & 2 & 4\\\\\n\t 0 & 0 & 0 & 0\\\\\n\\end{tabular}\n"
          },
          "metadata": {}
        }
      ]
    },
    {
      "cell_type": "markdown",
      "source": [
        "На основе последнего столбца посчитаем мат. характеристики:"
      ],
      "metadata": {
        "id": "kV67v6oBQQIH"
      }
    },
    {
      "cell_type": "code",
      "source": [
        "S <- PoissonDf$Sum\n",
        "\n",
        "MX <- mean(S)\n",
        "DX <- var(S)\n",
        "dx <- sqrt(DX)\n",
        "K <- dx / MX * 100\n",
        "\n",
        "PoissonResultsDf$Experimental <- c(MX, DX, dx, K)\n",
        "\n",
        "PoissonResultsDf"
      ],
      "metadata": {
        "colab": {
          "base_uri": "https://localhost:8080/",
          "height": 223
        },
        "id": "Sp0GIbJ0dFJI",
        "outputId": "1e6798bc-e55f-4f1e-938f-d2affd988c76"
      },
      "execution_count": 511,
      "outputs": [
        {
          "output_type": "display_data",
          "data": {
            "text/html": [
              "<table class=\"dataframe\">\n",
              "<caption>A data.frame: 4 × 3</caption>\n",
              "<thead>\n",
              "\t<tr><th></th><th scope=col>Theoretical</th><th scope=col>P</th><th scope=col>Experimental</th></tr>\n",
              "\t<tr><th></th><th scope=col>&lt;dbl&gt;</th><th scope=col>&lt;dbl&gt;</th><th scope=col>&lt;dbl&gt;</th></tr>\n",
              "</thead>\n",
              "<tbody>\n",
              "\t<tr><th scope=row>MX</th><td> 1.802309</td><td> 1.802309</td><td> 1.802560</td></tr>\n",
              "\t<tr><th scope=row>DX</th><td> 1.802309</td><td> 1.802309</td><td> 1.816336</td></tr>\n",
              "\t<tr><th scope=row>dx</th><td> 1.342501</td><td> 1.342501</td><td> 1.347715</td></tr>\n",
              "\t<tr><th scope=row>K</th><td>74.487843</td><td>74.487843</td><td>74.766718</td></tr>\n",
              "</tbody>\n",
              "</table>\n"
            ],
            "text/markdown": "\nA data.frame: 4 × 3\n\n| <!--/--> | Theoretical &lt;dbl&gt; | P &lt;dbl&gt; | Experimental &lt;dbl&gt; |\n|---|---|---|---|\n| MX |  1.802309 |  1.802309 |  1.802560 |\n| DX |  1.802309 |  1.802309 |  1.816336 |\n| dx |  1.342501 |  1.342501 |  1.347715 |\n| K | 74.487843 | 74.487843 | 74.766718 |\n\n",
            "text/latex": "A data.frame: 4 × 3\n\\begin{tabular}{r|lll}\n  & Theoretical & P & Experimental\\\\\n  & <dbl> & <dbl> & <dbl>\\\\\n\\hline\n\tMX &  1.802309 &  1.802309 &  1.802560\\\\\n\tDX &  1.802309 &  1.802309 &  1.816336\\\\\n\tdx &  1.342501 &  1.342501 &  1.347715\\\\\n\tK & 74.487843 & 74.487843 & 74.766718\\\\\n\\end{tabular}\n",
            "text/plain": [
              "   Theoretical P         Experimental\n",
              "MX  1.802309    1.802309  1.802560   \n",
              "DX  1.802309    1.802309  1.816336   \n",
              "dx  1.342501    1.342501  1.347715   \n",
              "K  74.487843   74.487843 74.766718   "
            ]
          },
          "metadata": {}
        }
      ]
    },
    {
      "cell_type": "markdown",
      "source": [
        "### Итого"
      ],
      "metadata": {
        "id": "0nqW3ljdSxDL"
      }
    },
    {
      "cell_type": "markdown",
      "source": [
        "Характеристики, вычисленные различными способами сошлись:"
      ],
      "metadata": {
        "id": "6PyzUnefSzNt"
      }
    },
    {
      "cell_type": "code",
      "source": [
        "View(PoissonResultsDf)"
      ],
      "metadata": {
        "colab": {
          "base_uri": "https://localhost:8080/",
          "height": 223
        },
        "id": "hVnIx62US2dI",
        "outputId": "f3d35377-a74e-47ac-98aa-b511ddd86618"
      },
      "execution_count": 512,
      "outputs": [
        {
          "output_type": "display_data",
          "data": {
            "text/plain": [
              "   Theoretical P         Experimental\n",
              "MX  1.802309    1.802309  1.802560   \n",
              "DX  1.802309    1.802309  1.816336   \n",
              "dx  1.342501    1.342501  1.347715   \n",
              "K  74.487843   74.487843 74.766718   "
            ],
            "text/html": [
              "<table class=\"dataframe\">\n",
              "<caption>A data.frame: 4 × 3</caption>\n",
              "<thead>\n",
              "\t<tr><th></th><th scope=col>Theoretical</th><th scope=col>P</th><th scope=col>Experimental</th></tr>\n",
              "\t<tr><th></th><th scope=col>&lt;dbl&gt;</th><th scope=col>&lt;dbl&gt;</th><th scope=col>&lt;dbl&gt;</th></tr>\n",
              "</thead>\n",
              "<tbody>\n",
              "\t<tr><th scope=row>MX</th><td> 1.802309</td><td> 1.802309</td><td> 1.802560</td></tr>\n",
              "\t<tr><th scope=row>DX</th><td> 1.802309</td><td> 1.802309</td><td> 1.816336</td></tr>\n",
              "\t<tr><th scope=row>dx</th><td> 1.342501</td><td> 1.342501</td><td> 1.347715</td></tr>\n",
              "\t<tr><th scope=row>K</th><td>74.487843</td><td>74.487843</td><td>74.766718</td></tr>\n",
              "</tbody>\n",
              "</table>\n"
            ],
            "text/markdown": "\nA data.frame: 4 × 3\n\n| <!--/--> | Theoretical &lt;dbl&gt; | P &lt;dbl&gt; | Experimental &lt;dbl&gt; |\n|---|---|---|---|\n| MX |  1.802309 |  1.802309 |  1.802560 |\n| DX |  1.802309 |  1.802309 |  1.816336 |\n| dx |  1.342501 |  1.342501 |  1.347715 |\n| K | 74.487843 | 74.487843 | 74.766718 |\n\n",
            "text/latex": "A data.frame: 4 × 3\n\\begin{tabular}{r|lll}\n  & Theoretical & P & Experimental\\\\\n  & <dbl> & <dbl> & <dbl>\\\\\n\\hline\n\tMX &  1.802309 &  1.802309 &  1.802560\\\\\n\tDX &  1.802309 &  1.802309 &  1.816336\\\\\n\tdx &  1.342501 &  1.342501 &  1.347715\\\\\n\tK & 74.487843 & 74.487843 & 74.766718\\\\\n\\end{tabular}\n"
          },
          "metadata": {}
        }
      ]
    },
    {
      "cell_type": "code",
      "source": [
        "#   Делает то же, что и PlotValues, но нет жесткого хардкода на 2 колонки,\n",
        "# так как в данном случае колонок немного и график читаем.\n",
        "PlotValuesByColumns <- function(ValuesDf, YLabel) {\n",
        "  df <- cbind(ValuesDf, Characteristic=row.names(ValuesDf))\n",
        "  df <- melt(df, id.vars = 'Characteristic')\n",
        "\n",
        "  ggplot(df, aes(Characteristic, value, fill = variable)) +\n",
        "    geom_col(position = \"dodge\") + labs(y=YLabel)\n",
        "}\n",
        "\n",
        "PlotValuesByColumns(PoissonResultsDf, 'Value')"
      ],
      "metadata": {
        "colab": {
          "base_uri": "https://localhost:8080/",
          "height": 437
        },
        "id": "3rr4t7DGRKfm",
        "outputId": "63597428-95fd-4168-b2f7-6f0b7d88f936"
      },
      "execution_count": 513,
      "outputs": [
        {
          "output_type": "display_data",
          "data": {
            "text/plain": [
              "plot without title"
            ],
            "image/png": "[encoded data removed]"
          },
          "metadata": {
            "image/png": {
              "width": 420,
              "height": 420
            }
          }
        }
      ]
    },
    {
      "cell_type": "markdown",
      "metadata": {
        "id": "da414c21-adb1-4eca-9728-e16f19b2ba90"
      },
      "source": [
        "## Задание 3.\n",
        "Обработка сообщения в специализированной ВС осуществляется K последовательными программами. Длительность работы\n",
        "каждой программы представляет собой случайную величину, распределенную экспоненциально со средним значением $T=\\frac{1}{\\lambda}$. Найти преобразование Лапласа-Стилтьеса распределения длительности обработки сообщения в ВС, его математическое ожидание и дисперсию."
      ]
    },
    {
      "cell_type": "code",
      "execution_count": 514,
      "metadata": {
        "id": "de51dab9-11c2-4174-b3e7-2dbb6aece235",
        "outputId": "95a5d321-2c75-4657-b92a-fdb950b5345c",
        "colab": {
          "base_uri": "https://localhost:8080/",
          "height": 34
        }
      },
      "outputs": [
        {
          "output_type": "display_data",
          "data": {
            "text/html": [
              "0.0686030669603497"
            ],
            "text/markdown": "0.0686030669603497",
            "text/latex": "0.0686030669603497",
            "text/plain": [
              "[1] 0.06860307"
            ]
          },
          "metadata": {}
        }
      ],
      "source": [
        "alpha<-runif(7)[7]\n",
        "alpha"
      ]
    },
    {
      "cell_type": "markdown",
      "source": [
        "Пусть $\\zeta$ - случайная величина, $F(t)=P(\\zeta<t)$  - функция распределения вероятностей случайной величины $\\zeta$,\n",
        "$$B(F(t))=\\beta(s)=\\int_0^\\infty e^{-st}dF(t)$$\n",
        "$$F(t) = 1- e^{-\\lambda t}$$\n",
        "$$dF(t) = \\lambda e^{-\\lambda t} dt $$\n",
        "$$\\beta(s)=\\int_0^\\infty e^{-st} \\lambda e^{-\\lambda t} dt = \\frac{\\lambda}{(\\lambda+s)}$$"
      ],
      "metadata": {
        "id": "WhfbUfOrM9e_"
      }
    },
    {
      "cell_type": "code",
      "source": [
        "B <- function(s) {\n",
        "  return (alpha / (alpha + s))\n",
        "}"
      ],
      "metadata": {
        "id": "C0Q-q0TrO6QD"
      },
      "execution_count": 515,
      "outputs": []
    },
    {
      "cell_type": "markdown",
      "source": [
        "Математическое ожидание случайной величины $\\zeta$:\n",
        "$$M(\\zeta)=-\\beta'(0)$$\n",
        "\n",
        "Дисперсия\n",
        "$$D(\\zeta)=\\beta''(0)-\\left(\\beta'(0)\\right)^2$$"
      ],
      "metadata": {
        "id": "C5CcamJmPYAw"
      }
    },
    {
      "cell_type": "markdown",
      "source": [
        "$$M(\\zeta)= - (- \\frac{\\lambda}{(s+\\lambda)^2}), s=0$$\n",
        "$$M(\\zeta)= \\frac{1} \\lambda $$\n",
        "\n",
        "\n",
        "$$D(\\zeta)=  \\frac{\\lambda (2 s + 2 \\lambda)} {(s + \\lambda)^4} -(-\\frac\\lambda {(s+\\lambda)^2)})^2, s=0$$\n",
        "$$D(\\zeta)= \\frac2 {\\lambda^2} - \\frac1 {\\lambda^2} = \\frac1 {\\lambda^2} $$"
      ],
      "metadata": {
        "id": "P3j8iB2lRmpT"
      }
    },
    {
      "cell_type": "code",
      "source": [
        "math <- 1/alpha\n",
        "DX <- 1/alpha^2\n",
        "MX;DX"
      ],
      "metadata": {
        "colab": {
          "base_uri": "https://localhost:8080/",
          "height": 52
        },
        "id": "vMO-387fV3y_",
        "outputId": "3e0fbb45-62df-4198-bb52-bd0d70a6ca38"
      },
      "execution_count": 516,
      "outputs": [
        {
          "output_type": "display_data",
          "data": {
            "text/html": [
              "1.80256"
            ],
            "text/markdown": "1.80256",
            "text/latex": "1.80256",
            "text/plain": [
              "[1] 1.80256"
            ]
          },
          "metadata": {}
        },
        {
          "output_type": "display_data",
          "data": {
            "text/html": [
              "212.477494547848"
            ],
            "text/markdown": "212.477494547848",
            "text/latex": "212.477494547848",
            "text/plain": [
              "[1] 212.4775"
            ]
          },
          "metadata": {}
        }
      ]
    },
    {
      "cell_type": "markdown",
      "source": [
        "Проверим экспериментально полученые значения для одной случайной величины"
      ],
      "metadata": {
        "id": "vrLYApTGWFnr"
      }
    },
    {
      "cell_type": "code",
      "source": [
        "N=100000\n",
        "X <- rexp(N,alpha) \n",
        "mean(X)\n",
        "var(X)"
      ],
      "metadata": {
        "colab": {
          "base_uri": "https://localhost:8080/",
          "height": 52
        },
        "id": "gtgTnbkHWL-s",
        "outputId": "2b3a1627-80ec-4e1a-f073-fecf0d54ab0b"
      },
      "execution_count": 517,
      "outputs": [
        {
          "output_type": "display_data",
          "data": {
            "text/html": [
              "14.6316772933369"
            ],
            "text/markdown": "14.6316772933369",
            "text/latex": "14.6316772933369",
            "text/plain": [
              "[1] 14.63168"
            ]
          },
          "metadata": {}
        },
        {
          "output_type": "display_data",
          "data": {
            "text/html": [
              "215.042387264168"
            ],
            "text/markdown": "215.042387264168",
            "text/latex": "215.042387264168",
            "text/plain": [
              "[1] 215.0424"
            ]
          },
          "metadata": {}
        }
      ]
    },
    {
      "cell_type": "markdown",
      "source": [
        "Теперь выведем формулы и проведем вычисления для суммы случайных величин"
      ],
      "metadata": {
        "id": "VkBQ0x2rWloq"
      }
    },
    {
      "cell_type": "markdown",
      "source": [
        "$$\\beta_{sum}=\\beta_{t1}(s) * \\beta_{t2}(s)*...*\\beta_{tk}(s) = (\\beta_t(s))^k$$"
      ],
      "metadata": {
        "id": "LLsjZN1mWvrn"
      }
    },
    {
      "cell_type": "markdown",
      "source": [
        "Примем K произвольным."
      ],
      "metadata": {
        "id": "Jevfg8H1LC-C"
      }
    },
    {
      "cell_type": "code",
      "source": [
        "P<-expression((alpha / (alpha + s))^k)\n",
        "P"
      ],
      "metadata": {
        "colab": {
          "base_uri": "https://localhost:8080/",
          "height": 35
        },
        "id": "TxNtQStsXb2w",
        "outputId": "288c700f-bb22-46c1-e95f-62d61729732e"
      },
      "execution_count": 518,
      "outputs": [
        {
          "output_type": "display_data",
          "data": {
            "text/plain": [
              "expression((alpha/(alpha + s))^k)"
            ]
          },
          "metadata": {}
        }
      ]
    },
    {
      "cell_type": "code",
      "source": [
        "DP=D(P, 's')\n",
        "DP\n",
        "\n",
        "DDP=D(DP,'s')\n",
        "DDP"
      ],
      "metadata": {
        "colab": {
          "base_uri": "https://localhost:8080/",
          "height": 89
        },
        "id": "llUmfV_RX6dG",
        "outputId": "383e0abe-e1fd-471a-b473-a53d8894d03b"
      },
      "execution_count": 519,
      "outputs": [
        {
          "output_type": "display_data",
          "data": {
            "text/plain": [
              "-((alpha/(alpha + s))^(k - 1) * (k * (alpha/(alpha + s)^2)))"
            ]
          },
          "metadata": {}
        },
        {
          "output_type": "display_data",
          "data": {
            "text/plain": [
              "(alpha/(alpha + s))^(k - 1) * (k * (alpha * (2 * (alpha + s))/((alpha + \n",
              "    s)^2)^2)) + (alpha/(alpha + s))^((k - 1) - 1) * ((k - 1) * \n",
              "    (alpha/(alpha + s)^2)) * (k * (alpha/(alpha + s)^2))"
            ]
          },
          "metadata": {}
        }
      ]
    },
    {
      "cell_type": "code",
      "source": [
        "MX <- 1/alpha\n",
        "DX <- 1/alpha^2\n",
        "MX;DX"
      ],
      "metadata": {
        "colab": {
          "base_uri": "https://localhost:8080/",
          "height": 52
        },
        "outputId": "4c798057-d102-4aec-bf48-5c33a1916bb3",
        "id": "poRwes7f_cHz"
      },
      "execution_count": 520,
      "outputs": [
        {
          "output_type": "display_data",
          "data": {
            "text/html": [
              "14.5766077860333"
            ],
            "text/markdown": "14.5766077860333",
            "text/latex": "14.5766077860333",
            "text/plain": [
              "[1] 14.57661"
            ]
          },
          "metadata": {}
        },
        {
          "output_type": "display_data",
          "data": {
            "text/html": [
              "212.477494547848"
            ],
            "text/markdown": "212.477494547848",
            "text/latex": "212.477494547848",
            "text/plain": [
              "[1] 212.4775"
            ]
          },
          "metadata": {}
        }
      ]
    },
    {
      "cell_type": "markdown",
      "source": [
        "Проверим экспериментально полученые значения для одной случайной величины"
      ],
      "metadata": {
        "id": "qRmEkzsf_cHz"
      }
    },
    {
      "cell_type": "code",
      "source": [
        "N=100000\n",
        "X<-rexp(N,alpha) \n",
        "mean(X)\n",
        "sd(X)^2"
      ],
      "metadata": {
        "colab": {
          "base_uri": "https://localhost:8080/",
          "height": 52
        },
        "outputId": "434305c9-7f82-4d3d-8fc5-c1d61341deae",
        "id": "QOzSJCqO_cHz"
      },
      "execution_count": 521,
      "outputs": [
        {
          "output_type": "display_data",
          "data": {
            "text/html": [
              "14.6029190954626"
            ],
            "text/markdown": "14.6029190954626",
            "text/latex": "14.6029190954626",
            "text/plain": [
              "[1] 14.60292"
            ]
          },
          "metadata": {}
        },
        {
          "output_type": "display_data",
          "data": {
            "text/html": [
              "211.17316950739"
            ],
            "text/markdown": "211.17316950739",
            "text/latex": "211.17316950739",
            "text/plain": [
              "[1] 211.1732"
            ]
          },
          "metadata": {}
        }
      ]
    },
    {
      "cell_type": "code",
      "source": [
        "MX <- -1*eval(DP, s<-0)\n",
        "MX\n",
        "\n",
        "DX <- eval(DDP, s<-0) - (eval(DP, s<-0)^2)\n",
        "DX"
      ],
      "metadata": {
        "colab": {
          "base_uri": "https://localhost:8080/",
          "height": 52
        },
        "id": "p7x4pwIqYQiL",
        "outputId": "3da28677-a056-4725-94cc-28d48a9635f2"
      },
      "execution_count": 522,
      "outputs": [
        {
          "output_type": "display_data",
          "data": {
            "text/html": [
              "145.766077860333"
            ],
            "text/markdown": "145.766077860333",
            "text/latex": "145.766077860333",
            "text/plain": [
              "[1] 145.7661"
            ]
          },
          "metadata": {}
        },
        {
          "output_type": "display_data",
          "data": {
            "text/html": [
              "2124.77494547848"
            ],
            "text/markdown": "2124.77494547848",
            "text/latex": "2124.77494547848",
            "text/plain": [
              "[1] 2124.775"
            ]
          },
          "metadata": {}
        }
      ]
    },
    {
      "cell_type": "markdown",
      "source": [
        "Проверим полученные значения экспериментально"
      ],
      "metadata": {
        "id": "occeQokQZYCV"
      }
    },
    {
      "cell_type": "markdown",
      "source": [
        "Выберем произвольный K."
      ],
      "metadata": {
        "id": "858NezIgFqtj"
      }
    },
    {
      "cell_type": "code",
      "source": [
        "k = 10\n",
        "RexpDf <- data.frame(X1=rexp(N, alpha))\n",
        "\n",
        "for (i in 1:(k-1)) {\n",
        "  RexpDf <- cbind(RexpDf, rexp(N, alpha))\n",
        "}\n",
        "\n",
        "colnames(RexpDf) <- lapply(1:k, function(i) paste('X', i, sep=''))\n",
        "\n",
        "RexpDf$Sum <- rowSums(RexpDf)\n",
        "View(RexpDf)"
      ],
      "metadata": {
        "colab": {
          "base_uri": "https://localhost:8080/",
          "height": 1000
        },
        "id": "BRNESx5xCeon",
        "outputId": "ce62c1b3-cff2-488f-ed74-d93f2e65a872"
      },
      "execution_count": 523,
      "outputs": [
        {
          "output_type": "display_data",
          "data": {
            "text/plain": [
              "       X1          X2         X3         X4         X5         X6        \n",
              "1      15.2374064  27.0973905 14.271465  12.7561203 23.4337208 11.567228 \n",
              "2      18.1905200  15.6967398  9.866914  14.1622981  0.5168812  3.677484 \n",
              "3       9.7004120   0.5240162  6.369415   5.1252024  7.6637622 23.174958 \n",
              "4      50.8001174  28.9086502 23.923565  19.7326114 62.3221314  2.431435 \n",
              "5      19.6019421   1.5039653 22.904735   0.9617597  8.5944180 20.547476 \n",
              "6       4.9196059   6.7645486 18.497122  33.2236273 10.8654151 11.565958 \n",
              "7      11.9156155   1.0619482  7.674059   3.5041384  5.5080578 14.677836 \n",
              "8       5.2796379   9.8511943 12.808660  16.6761687  3.7400998 26.858509 \n",
              "9       2.7903154   0.9049463  4.470044   0.9800326  2.6729404 18.838361 \n",
              "10      3.3964292   4.6348362 16.777042  22.4238051 50.2960817  3.432839 \n",
              "11      0.5822463  13.0027595 23.356286  41.5977316  5.1439160  0.263117 \n",
              "12     15.4380822  45.5668750 17.280683   0.1527708 15.4444358 11.356773 \n",
              "13     17.0486180   3.2754676 15.383194   0.3140294  9.9971988  2.966450 \n",
              "14      6.7622813   7.2698092 15.443838  18.2360482  3.0821071  6.988361 \n",
              "15      5.6563762  26.9285945  6.832790   0.4470244  0.2875482 15.520037 \n",
              "16     12.3159739  16.5977437  9.983755   0.9270349  3.5002378 17.530651 \n",
              "17      1.0214015   2.0133377 24.248643   3.9915186  0.2203618 14.921228 \n",
              "18      2.2924184  12.2049515  1.825441  33.4329993  6.3159910  5.450787 \n",
              "19      4.5741769  18.4048730 30.952307  14.4009740 30.6222347  1.829184 \n",
              "20     19.3007826   2.2901994 43.065298   1.9703168  3.7159841  4.977445 \n",
              "21      9.7879262  31.9692156  2.889576   3.1332402  6.5829005 18.473599 \n",
              "22      4.7986356  15.8907203  8.045831  12.7701329 27.1938386 15.387122 \n",
              "23      7.4290002   1.6331027 29.442552   5.3793273 10.5221148  6.081187 \n",
              "24      2.2667400  10.4607829 16.260090  14.9109410 18.4935184 18.383787 \n",
              "25     10.4239861  14.7235713  9.054540  50.6681566 24.5260685 12.851520 \n",
              "26      1.5551405  19.7573744  5.575482  33.1091984  1.8199195 17.521197 \n",
              "27     52.6241453   0.1557068 21.059090  29.1113402  9.6771594 43.380870 \n",
              "28     26.2359126  20.4995056  9.045749  23.4742320  2.6130794 22.397125 \n",
              "29     25.7481337   1.2010616  2.986937   8.4734300  3.6727974  2.691699 \n",
              "30      5.2300439  17.7650720 31.512835   5.5838215 21.7497472  9.973338 \n",
              "⋮      ⋮           ⋮          ⋮          ⋮          ⋮          ⋮         \n",
              "99971   3.81646115  2.9098662  8.5271354  1.3458151  9.4766321 18.0494134\n",
              "99972  14.16949498  8.6971820 43.1934789  8.4233830 14.9376338 10.3393233\n",
              "99973   9.15416743  4.1685028  0.8320641 10.3632370 14.0484084 22.9408671\n",
              "99974   1.69885627 12.2321119 15.4656904  3.9466914 25.1855744  2.2715141\n",
              "99975  21.04985764  5.1601127 10.8092370 14.1436436  5.9428171  4.2650224\n",
              "99976  36.80685633  7.0846656 37.5790611  0.2670091 35.9549609  6.6066846\n",
              "99977   2.65776779 21.6893051 14.2613153 46.8656335 23.6196121  7.6535035\n",
              "99978  17.70483225 55.1068264  0.3836163 16.8635536  1.1516542  0.4138847\n",
              "99979   4.79757439  4.5158631  8.6012804  0.3468150 13.8766803 20.1643982\n",
              "99980  37.97176248 26.3934081 14.0601104 13.6797017  1.4970169  3.0138117\n",
              "99981   4.53026545  7.7157206  0.7528498 22.8727978  5.9675057  0.2804990\n",
              "99982  47.36680080  3.6201563 10.0466254  5.0137894 13.6901852 11.1257795\n",
              "99983  24.75443704 12.2668255 10.4144223  7.0156794 19.5534228 17.6184196\n",
              "99984  18.05231444 17.8204063  4.1648146  4.1044260 26.9417726 28.0754209\n",
              "99985   5.77121396 15.7527649  6.9278471  2.0716051  0.3766095  2.8614106\n",
              "99986   3.73846861 21.9121041 57.2478297 40.7586822 19.8449967  4.7247032\n",
              "99987   3.12171804 20.9213800  0.4289085 18.5628046  6.7037067 13.4155204\n",
              "99988   1.46726956  2.9895343  6.1327851  1.8304050  3.2276362 31.8118450\n",
              "99989   9.93436755 21.2308044 13.0951066  0.8981818 15.5963818  0.7436393\n",
              "99990   9.39247430  0.0557056  7.3838200  9.8523959 17.8939478  9.6183027\n",
              "99991   5.82674468 40.4280160  0.1574049 11.9401076  7.3582892  6.8392224\n",
              "99992   9.33367125  1.7579826 15.5944937 47.1928566  0.6482188  6.7662240\n",
              "99993  12.19552189  5.5270364 22.5927857  4.6940677  7.2237916 18.3362421\n",
              "99994  40.29046658 66.7538496  8.0945927  3.6305258 20.7386822 38.1784165\n",
              "99995  21.97545462 25.3874939  5.1208826 15.2472530  3.2911767 43.0568587\n",
              "99996   8.99311280 48.2000549 15.6751259 19.9987861 36.6144744  1.5035459\n",
              "99997  22.62791875  0.8553873 21.8097118 15.0387301 27.4414596 12.9967582\n",
              "99998   5.70960165  3.4595350  2.6996541 32.2774505  7.6917471 24.1484531\n",
              "99999  15.45363308  0.9080777 19.1983480  3.4200477  4.7644130  3.8963841\n",
              "100000  0.01664002  6.1566044 80.1692844  2.8277271 33.4872743  1.5901930\n",
              "       X7          X8        X9          X10         Sum      \n",
              "1       9.3371880   3.979520  5.85324642 10.5578902  134.09118\n",
              "2       9.1984651   6.411930  3.11123999  1.7706813   82.60315\n",
              "3      10.5878393   4.800460 39.13875627 18.2676230  125.35244\n",
              "4       0.3431034   1.610839 10.57802214 63.9053919  264.55587\n",
              "5      17.6129448  16.069421  3.63232903  5.3510906  116.78008\n",
              "6       7.7703795   1.181128  1.67546730  9.8239468  106.28720\n",
              "7       9.9836593   4.146765 16.88370949 32.4999666  107.85576\n",
              "8      10.5172552  19.974354 17.59223795  5.9569038  129.25502\n",
              "9      16.3633914   8.988102 23.38108725 18.5205502   97.90977\n",
              "10      1.0922362  41.225258  5.23473712  7.5930802  156.10634\n",
              "11      5.6586571   1.601406 14.67470508 48.7526438  154.63347\n",
              "12     40.0785516  13.903330  0.02493669  1.7515311  160.99797\n",
              "13      5.3198403  15.853087  5.14806219  6.1185226   81.42447\n",
              "14      3.2231625  41.276300  0.44500995  0.9882347  103.71515\n",
              "15     16.6838111  11.411522 10.27815802  7.8247953  101.87066\n",
              "16      9.8082611  14.244635  8.23047109 52.4945587  145.63332\n",
              "17      2.3329063  36.563371 12.45861134  2.3438709  100.11525\n",
              "18     21.2726884  15.781072 14.92793123  1.1376798  114.64196\n",
              "19     21.1018561   6.113430 16.04552278 37.7501378  181.79470\n",
              "20     17.3440750  17.644380 19.91449504  5.7022119  135.92519\n",
              "21      1.0355677  16.794907 24.45514233  8.1017857  123.22386\n",
              "22     16.3232863  78.644895  4.94868944  0.8924540  184.89560\n",
              "23     10.5835221   1.529150 34.86135838 10.8992569  118.36057\n",
              "24     11.4907891  36.874388 16.62688363  4.9579956  150.72592\n",
              "25     13.9543646  54.303613 23.47215032  5.0649009  219.04287\n",
              "26     28.9026298  21.862376  8.12340234  9.3843696  147.61109\n",
              "27      4.3957221   5.780639 48.82352489 16.5760641  231.58426\n",
              "28     29.2204185  48.771531  9.78168058 11.0277339  203.06697\n",
              "29      3.4232646  70.132701  7.82839058 24.2286941  150.38711\n",
              "30      7.9098591   1.211883 14.29560769  1.6449989  116.87721\n",
              "⋮      ⋮           ⋮         ⋮           ⋮           ⋮        \n",
              "99971   3.94268515 30.055613 12.702761   23.97485770 114.80124\n",
              "99972  27.55648719 12.288123 20.187924   31.03890424 190.83194\n",
              "99973  24.27234465  5.565680  7.918303    2.27365306 101.53723\n",
              "99974   9.98066615 28.596746  3.495887    8.77552657 111.64926\n",
              "99975  12.48565315 18.406627  6.581154   21.93764318 120.78177\n",
              "99976   3.56284057 14.272571 10.453956   11.96171724 164.55032\n",
              "99977  28.83109836  6.546944 11.520355   63.61449036 227.26003\n",
              "99978   1.98148734  7.426357 18.697625    9.84672190 129.57656\n",
              "99979   5.08898814 53.822923  9.945155   11.14196619 132.30164\n",
              "99980  13.07444381 46.132241  7.785340    5.66388047 169.27172\n",
              "99981   5.59525496 24.723004 37.612036    2.64043828 112.69037\n",
              "99982   7.52430668  2.298744 74.057507    8.92425689 183.66815\n",
              "99983  34.34024967 21.207926  4.496368    0.06243531 151.73019\n",
              "99984  14.59538904 13.619400 11.795742   11.26168510 150.43137\n",
              "99985   1.74899114 17.477824 34.623151    8.02961837  95.64104\n",
              "99986  19.06883954  3.917101  1.058010   20.42595092 192.69669\n",
              "99987  30.70419196 10.800928 17.128041    1.41377767 123.20098\n",
              "99988   5.58245132 24.826690 24.689637   32.61412501 135.17238\n",
              "99989   0.07596525 17.023340  4.026852   22.98195662 105.60660\n",
              "99990  23.63606631  8.759301 10.093022   43.37835033 140.06339\n",
              "99991   2.29081644 28.526508 15.420075    3.30279986 122.08998\n",
              "99992  30.01761699  4.447816 17.845209   11.11010068 144.71419\n",
              "99993  20.01528645  4.421887  1.748520   51.68411622 148.43925\n",
              "99994   8.90336558 51.209011 28.786510    4.61220382 271.19762\n",
              "99995  47.72558114 15.724421  2.803296   13.15912557 193.49154\n",
              "99996   4.09304090  4.265497 29.967782    5.45557680 174.76700\n",
              "99997  74.31669660  1.214283  0.859632   11.49057367 188.65115\n",
              "99998   5.47651641 13.625263  6.718196   18.77926668 120.58568\n",
              "99999   3.56240871  2.193278  7.617474   18.10162898  79.11569\n",
              "100000  7.17367351 11.278497  0.840471    8.65244945 152.19281"
            ],
            "text/html": [
              "<table class=\"dataframe\">\n",
              "<caption>A data.frame: 100000 × 11</caption>\n",
              "<thead>\n",
              "\t<tr><th scope=col>X1</th><th scope=col>X2</th><th scope=col>X3</th><th scope=col>X4</th><th scope=col>X5</th><th scope=col>X6</th><th scope=col>X7</th><th scope=col>X8</th><th scope=col>X9</th><th scope=col>X10</th><th scope=col>Sum</th></tr>\n",
              "\t<tr><th scope=col>&lt;dbl&gt;</th><th scope=col>&lt;dbl&gt;</th><th scope=col>&lt;dbl&gt;</th><th scope=col>&lt;dbl&gt;</th><th scope=col>&lt;dbl&gt;</th><th scope=col>&lt;dbl&gt;</th><th scope=col>&lt;dbl&gt;</th><th scope=col>&lt;dbl&gt;</th><th scope=col>&lt;dbl&gt;</th><th scope=col>&lt;dbl&gt;</th><th scope=col>&lt;dbl&gt;</th></tr>\n",
              "</thead>\n",
              "<tbody>\n",
              "\t<tr><td>15.2374064</td><td>27.0973905</td><td>14.271465</td><td>12.7561203</td><td>23.4337208</td><td>11.567228</td><td> 9.3371880</td><td> 3.979520</td><td> 5.85324642</td><td>10.5578902</td><td>134.09118</td></tr>\n",
              "\t<tr><td>18.1905200</td><td>15.6967398</td><td> 9.866914</td><td>14.1622981</td><td> 0.5168812</td><td> 3.677484</td><td> 9.1984651</td><td> 6.411930</td><td> 3.11123999</td><td> 1.7706813</td><td> 82.60315</td></tr>\n",
              "\t<tr><td> 9.7004120</td><td> 0.5240162</td><td> 6.369415</td><td> 5.1252024</td><td> 7.6637622</td><td>23.174958</td><td>10.5878393</td><td> 4.800460</td><td>39.13875627</td><td>18.2676230</td><td>125.35244</td></tr>\n",
              "\t<tr><td>50.8001174</td><td>28.9086502</td><td>23.923565</td><td>19.7326114</td><td>62.3221314</td><td> 2.431435</td><td> 0.3431034</td><td> 1.610839</td><td>10.57802214</td><td>63.9053919</td><td>264.55587</td></tr>\n",
              "\t<tr><td>19.6019421</td><td> 1.5039653</td><td>22.904735</td><td> 0.9617597</td><td> 8.5944180</td><td>20.547476</td><td>17.6129448</td><td>16.069421</td><td> 3.63232903</td><td> 5.3510906</td><td>116.78008</td></tr>\n",
              "\t<tr><td> 4.9196059</td><td> 6.7645486</td><td>18.497122</td><td>33.2236273</td><td>10.8654151</td><td>11.565958</td><td> 7.7703795</td><td> 1.181128</td><td> 1.67546730</td><td> 9.8239468</td><td>106.28720</td></tr>\n",
              "\t<tr><td>11.9156155</td><td> 1.0619482</td><td> 7.674059</td><td> 3.5041384</td><td> 5.5080578</td><td>14.677836</td><td> 9.9836593</td><td> 4.146765</td><td>16.88370949</td><td>32.4999666</td><td>107.85576</td></tr>\n",
              "\t<tr><td> 5.2796379</td><td> 9.8511943</td><td>12.808660</td><td>16.6761687</td><td> 3.7400998</td><td>26.858509</td><td>10.5172552</td><td>19.974354</td><td>17.59223795</td><td> 5.9569038</td><td>129.25502</td></tr>\n",
              "\t<tr><td> 2.7903154</td><td> 0.9049463</td><td> 4.470044</td><td> 0.9800326</td><td> 2.6729404</td><td>18.838361</td><td>16.3633914</td><td> 8.988102</td><td>23.38108725</td><td>18.5205502</td><td> 97.90977</td></tr>\n",
              "\t<tr><td> 3.3964292</td><td> 4.6348362</td><td>16.777042</td><td>22.4238051</td><td>50.2960817</td><td> 3.432839</td><td> 1.0922362</td><td>41.225258</td><td> 5.23473712</td><td> 7.5930802</td><td>156.10634</td></tr>\n",
              "\t<tr><td> 0.5822463</td><td>13.0027595</td><td>23.356286</td><td>41.5977316</td><td> 5.1439160</td><td> 0.263117</td><td> 5.6586571</td><td> 1.601406</td><td>14.67470508</td><td>48.7526438</td><td>154.63347</td></tr>\n",
              "\t<tr><td>15.4380822</td><td>45.5668750</td><td>17.280683</td><td> 0.1527708</td><td>15.4444358</td><td>11.356773</td><td>40.0785516</td><td>13.903330</td><td> 0.02493669</td><td> 1.7515311</td><td>160.99797</td></tr>\n",
              "\t<tr><td>17.0486180</td><td> 3.2754676</td><td>15.383194</td><td> 0.3140294</td><td> 9.9971988</td><td> 2.966450</td><td> 5.3198403</td><td>15.853087</td><td> 5.14806219</td><td> 6.1185226</td><td> 81.42447</td></tr>\n",
              "\t<tr><td> 6.7622813</td><td> 7.2698092</td><td>15.443838</td><td>18.2360482</td><td> 3.0821071</td><td> 6.988361</td><td> 3.2231625</td><td>41.276300</td><td> 0.44500995</td><td> 0.9882347</td><td>103.71515</td></tr>\n",
              "\t<tr><td> 5.6563762</td><td>26.9285945</td><td> 6.832790</td><td> 0.4470244</td><td> 0.2875482</td><td>15.520037</td><td>16.6838111</td><td>11.411522</td><td>10.27815802</td><td> 7.8247953</td><td>101.87066</td></tr>\n",
              "\t<tr><td>12.3159739</td><td>16.5977437</td><td> 9.983755</td><td> 0.9270349</td><td> 3.5002378</td><td>17.530651</td><td> 9.8082611</td><td>14.244635</td><td> 8.23047109</td><td>52.4945587</td><td>145.63332</td></tr>\n",
              "\t<tr><td> 1.0214015</td><td> 2.0133377</td><td>24.248643</td><td> 3.9915186</td><td> 0.2203618</td><td>14.921228</td><td> 2.3329063</td><td>36.563371</td><td>12.45861134</td><td> 2.3438709</td><td>100.11525</td></tr>\n",
              "\t<tr><td> 2.2924184</td><td>12.2049515</td><td> 1.825441</td><td>33.4329993</td><td> 6.3159910</td><td> 5.450787</td><td>21.2726884</td><td>15.781072</td><td>14.92793123</td><td> 1.1376798</td><td>114.64196</td></tr>\n",
              "\t<tr><td> 4.5741769</td><td>18.4048730</td><td>30.952307</td><td>14.4009740</td><td>30.6222347</td><td> 1.829184</td><td>21.1018561</td><td> 6.113430</td><td>16.04552278</td><td>37.7501378</td><td>181.79470</td></tr>\n",
              "\t<tr><td>19.3007826</td><td> 2.2901994</td><td>43.065298</td><td> 1.9703168</td><td> 3.7159841</td><td> 4.977445</td><td>17.3440750</td><td>17.644380</td><td>19.91449504</td><td> 5.7022119</td><td>135.92519</td></tr>\n",
              "\t<tr><td> 9.7879262</td><td>31.9692156</td><td> 2.889576</td><td> 3.1332402</td><td> 6.5829005</td><td>18.473599</td><td> 1.0355677</td><td>16.794907</td><td>24.45514233</td><td> 8.1017857</td><td>123.22386</td></tr>\n",
              "\t<tr><td> 4.7986356</td><td>15.8907203</td><td> 8.045831</td><td>12.7701329</td><td>27.1938386</td><td>15.387122</td><td>16.3232863</td><td>78.644895</td><td> 4.94868944</td><td> 0.8924540</td><td>184.89560</td></tr>\n",
              "\t<tr><td> 7.4290002</td><td> 1.6331027</td><td>29.442552</td><td> 5.3793273</td><td>10.5221148</td><td> 6.081187</td><td>10.5835221</td><td> 1.529150</td><td>34.86135838</td><td>10.8992569</td><td>118.36057</td></tr>\n",
              "\t<tr><td> 2.2667400</td><td>10.4607829</td><td>16.260090</td><td>14.9109410</td><td>18.4935184</td><td>18.383787</td><td>11.4907891</td><td>36.874388</td><td>16.62688363</td><td> 4.9579956</td><td>150.72592</td></tr>\n",
              "\t<tr><td>10.4239861</td><td>14.7235713</td><td> 9.054540</td><td>50.6681566</td><td>24.5260685</td><td>12.851520</td><td>13.9543646</td><td>54.303613</td><td>23.47215032</td><td> 5.0649009</td><td>219.04287</td></tr>\n",
              "\t<tr><td> 1.5551405</td><td>19.7573744</td><td> 5.575482</td><td>33.1091984</td><td> 1.8199195</td><td>17.521197</td><td>28.9026298</td><td>21.862376</td><td> 8.12340234</td><td> 9.3843696</td><td>147.61109</td></tr>\n",
              "\t<tr><td>52.6241453</td><td> 0.1557068</td><td>21.059090</td><td>29.1113402</td><td> 9.6771594</td><td>43.380870</td><td> 4.3957221</td><td> 5.780639</td><td>48.82352489</td><td>16.5760641</td><td>231.58426</td></tr>\n",
              "\t<tr><td>26.2359126</td><td>20.4995056</td><td> 9.045749</td><td>23.4742320</td><td> 2.6130794</td><td>22.397125</td><td>29.2204185</td><td>48.771531</td><td> 9.78168058</td><td>11.0277339</td><td>203.06697</td></tr>\n",
              "\t<tr><td>25.7481337</td><td> 1.2010616</td><td> 2.986937</td><td> 8.4734300</td><td> 3.6727974</td><td> 2.691699</td><td> 3.4232646</td><td>70.132701</td><td> 7.82839058</td><td>24.2286941</td><td>150.38711</td></tr>\n",
              "\t<tr><td> 5.2300439</td><td>17.7650720</td><td>31.512835</td><td> 5.5838215</td><td>21.7497472</td><td> 9.973338</td><td> 7.9098591</td><td> 1.211883</td><td>14.29560769</td><td> 1.6449989</td><td>116.87721</td></tr>\n",
              "\t<tr><td>⋮</td><td>⋮</td><td>⋮</td><td>⋮</td><td>⋮</td><td>⋮</td><td>⋮</td><td>⋮</td><td>⋮</td><td>⋮</td><td>⋮</td></tr>\n",
              "\t<tr><td> 3.81646115</td><td> 2.9098662</td><td> 8.5271354</td><td> 1.3458151</td><td> 9.4766321</td><td>18.0494134</td><td> 3.94268515</td><td>30.055613</td><td>12.702761</td><td>23.97485770</td><td>114.80124</td></tr>\n",
              "\t<tr><td>14.16949498</td><td> 8.6971820</td><td>43.1934789</td><td> 8.4233830</td><td>14.9376338</td><td>10.3393233</td><td>27.55648719</td><td>12.288123</td><td>20.187924</td><td>31.03890424</td><td>190.83194</td></tr>\n",
              "\t<tr><td> 9.15416743</td><td> 4.1685028</td><td> 0.8320641</td><td>10.3632370</td><td>14.0484084</td><td>22.9408671</td><td>24.27234465</td><td> 5.565680</td><td> 7.918303</td><td> 2.27365306</td><td>101.53723</td></tr>\n",
              "\t<tr><td> 1.69885627</td><td>12.2321119</td><td>15.4656904</td><td> 3.9466914</td><td>25.1855744</td><td> 2.2715141</td><td> 9.98066615</td><td>28.596746</td><td> 3.495887</td><td> 8.77552657</td><td>111.64926</td></tr>\n",
              "\t<tr><td>21.04985764</td><td> 5.1601127</td><td>10.8092370</td><td>14.1436436</td><td> 5.9428171</td><td> 4.2650224</td><td>12.48565315</td><td>18.406627</td><td> 6.581154</td><td>21.93764318</td><td>120.78177</td></tr>\n",
              "\t<tr><td>36.80685633</td><td> 7.0846656</td><td>37.5790611</td><td> 0.2670091</td><td>35.9549609</td><td> 6.6066846</td><td> 3.56284057</td><td>14.272571</td><td>10.453956</td><td>11.96171724</td><td>164.55032</td></tr>\n",
              "\t<tr><td> 2.65776779</td><td>21.6893051</td><td>14.2613153</td><td>46.8656335</td><td>23.6196121</td><td> 7.6535035</td><td>28.83109836</td><td> 6.546944</td><td>11.520355</td><td>63.61449036</td><td>227.26003</td></tr>\n",
              "\t<tr><td>17.70483225</td><td>55.1068264</td><td> 0.3836163</td><td>16.8635536</td><td> 1.1516542</td><td> 0.4138847</td><td> 1.98148734</td><td> 7.426357</td><td>18.697625</td><td> 9.84672190</td><td>129.57656</td></tr>\n",
              "\t<tr><td> 4.79757439</td><td> 4.5158631</td><td> 8.6012804</td><td> 0.3468150</td><td>13.8766803</td><td>20.1643982</td><td> 5.08898814</td><td>53.822923</td><td> 9.945155</td><td>11.14196619</td><td>132.30164</td></tr>\n",
              "\t<tr><td>37.97176248</td><td>26.3934081</td><td>14.0601104</td><td>13.6797017</td><td> 1.4970169</td><td> 3.0138117</td><td>13.07444381</td><td>46.132241</td><td> 7.785340</td><td> 5.66388047</td><td>169.27172</td></tr>\n",
              "\t<tr><td> 4.53026545</td><td> 7.7157206</td><td> 0.7528498</td><td>22.8727978</td><td> 5.9675057</td><td> 0.2804990</td><td> 5.59525496</td><td>24.723004</td><td>37.612036</td><td> 2.64043828</td><td>112.69037</td></tr>\n",
              "\t<tr><td>47.36680080</td><td> 3.6201563</td><td>10.0466254</td><td> 5.0137894</td><td>13.6901852</td><td>11.1257795</td><td> 7.52430668</td><td> 2.298744</td><td>74.057507</td><td> 8.92425689</td><td>183.66815</td></tr>\n",
              "\t<tr><td>24.75443704</td><td>12.2668255</td><td>10.4144223</td><td> 7.0156794</td><td>19.5534228</td><td>17.6184196</td><td>34.34024967</td><td>21.207926</td><td> 4.496368</td><td> 0.06243531</td><td>151.73019</td></tr>\n",
              "\t<tr><td>18.05231444</td><td>17.8204063</td><td> 4.1648146</td><td> 4.1044260</td><td>26.9417726</td><td>28.0754209</td><td>14.59538904</td><td>13.619400</td><td>11.795742</td><td>11.26168510</td><td>150.43137</td></tr>\n",
              "\t<tr><td> 5.77121396</td><td>15.7527649</td><td> 6.9278471</td><td> 2.0716051</td><td> 0.3766095</td><td> 2.8614106</td><td> 1.74899114</td><td>17.477824</td><td>34.623151</td><td> 8.02961837</td><td> 95.64104</td></tr>\n",
              "\t<tr><td> 3.73846861</td><td>21.9121041</td><td>57.2478297</td><td>40.7586822</td><td>19.8449967</td><td> 4.7247032</td><td>19.06883954</td><td> 3.917101</td><td> 1.058010</td><td>20.42595092</td><td>192.69669</td></tr>\n",
              "\t<tr><td> 3.12171804</td><td>20.9213800</td><td> 0.4289085</td><td>18.5628046</td><td> 6.7037067</td><td>13.4155204</td><td>30.70419196</td><td>10.800928</td><td>17.128041</td><td> 1.41377767</td><td>123.20098</td></tr>\n",
              "\t<tr><td> 1.46726956</td><td> 2.9895343</td><td> 6.1327851</td><td> 1.8304050</td><td> 3.2276362</td><td>31.8118450</td><td> 5.58245132</td><td>24.826690</td><td>24.689637</td><td>32.61412501</td><td>135.17238</td></tr>\n",
              "\t<tr><td> 9.93436755</td><td>21.2308044</td><td>13.0951066</td><td> 0.8981818</td><td>15.5963818</td><td> 0.7436393</td><td> 0.07596525</td><td>17.023340</td><td> 4.026852</td><td>22.98195662</td><td>105.60660</td></tr>\n",
              "\t<tr><td> 9.39247430</td><td> 0.0557056</td><td> 7.3838200</td><td> 9.8523959</td><td>17.8939478</td><td> 9.6183027</td><td>23.63606631</td><td> 8.759301</td><td>10.093022</td><td>43.37835033</td><td>140.06339</td></tr>\n",
              "\t<tr><td> 5.82674468</td><td>40.4280160</td><td> 0.1574049</td><td>11.9401076</td><td> 7.3582892</td><td> 6.8392224</td><td> 2.29081644</td><td>28.526508</td><td>15.420075</td><td> 3.30279986</td><td>122.08998</td></tr>\n",
              "\t<tr><td> 9.33367125</td><td> 1.7579826</td><td>15.5944937</td><td>47.1928566</td><td> 0.6482188</td><td> 6.7662240</td><td>30.01761699</td><td> 4.447816</td><td>17.845209</td><td>11.11010068</td><td>144.71419</td></tr>\n",
              "\t<tr><td>12.19552189</td><td> 5.5270364</td><td>22.5927857</td><td> 4.6940677</td><td> 7.2237916</td><td>18.3362421</td><td>20.01528645</td><td> 4.421887</td><td> 1.748520</td><td>51.68411622</td><td>148.43925</td></tr>\n",
              "\t<tr><td>40.29046658</td><td>66.7538496</td><td> 8.0945927</td><td> 3.6305258</td><td>20.7386822</td><td>38.1784165</td><td> 8.90336558</td><td>51.209011</td><td>28.786510</td><td> 4.61220382</td><td>271.19762</td></tr>\n",
              "\t<tr><td>21.97545462</td><td>25.3874939</td><td> 5.1208826</td><td>15.2472530</td><td> 3.2911767</td><td>43.0568587</td><td>47.72558114</td><td>15.724421</td><td> 2.803296</td><td>13.15912557</td><td>193.49154</td></tr>\n",
              "\t<tr><td> 8.99311280</td><td>48.2000549</td><td>15.6751259</td><td>19.9987861</td><td>36.6144744</td><td> 1.5035459</td><td> 4.09304090</td><td> 4.265497</td><td>29.967782</td><td> 5.45557680</td><td>174.76700</td></tr>\n",
              "\t<tr><td>22.62791875</td><td> 0.8553873</td><td>21.8097118</td><td>15.0387301</td><td>27.4414596</td><td>12.9967582</td><td>74.31669660</td><td> 1.214283</td><td> 0.859632</td><td>11.49057367</td><td>188.65115</td></tr>\n",
              "\t<tr><td> 5.70960165</td><td> 3.4595350</td><td> 2.6996541</td><td>32.2774505</td><td> 7.6917471</td><td>24.1484531</td><td> 5.47651641</td><td>13.625263</td><td> 6.718196</td><td>18.77926668</td><td>120.58568</td></tr>\n",
              "\t<tr><td>15.45363308</td><td> 0.9080777</td><td>19.1983480</td><td> 3.4200477</td><td> 4.7644130</td><td> 3.8963841</td><td> 3.56240871</td><td> 2.193278</td><td> 7.617474</td><td>18.10162898</td><td> 79.11569</td></tr>\n",
              "\t<tr><td> 0.01664002</td><td> 6.1566044</td><td>80.1692844</td><td> 2.8277271</td><td>33.4872743</td><td> 1.5901930</td><td> 7.17367351</td><td>11.278497</td><td> 0.840471</td><td> 8.65244945</td><td>152.19281</td></tr>\n",
              "</tbody>\n",
              "</table>\n"
            ],
            "text/markdown": "\nA data.frame: 100000 × 11\n\n| X1 &lt;dbl&gt; | X2 &lt;dbl&gt; | X3 &lt;dbl&gt; | X4 &lt;dbl&gt; | X5 &lt;dbl&gt; | X6 &lt;dbl&gt; | X7 &lt;dbl&gt; | X8 &lt;dbl&gt; | X9 &lt;dbl&gt; | X10 &lt;dbl&gt; | Sum &lt;dbl&gt; |\n|---|---|---|---|---|---|---|---|---|---|---|\n| 15.2374064 | 27.0973905 | 14.271465 | 12.7561203 | 23.4337208 | 11.567228 |  9.3371880 |  3.979520 |  5.85324642 | 10.5578902 | 134.09118 |\n| 18.1905200 | 15.6967398 |  9.866914 | 14.1622981 |  0.5168812 |  3.677484 |  9.1984651 |  6.411930 |  3.11123999 |  1.7706813 |  82.60315 |\n|  9.7004120 |  0.5240162 |  6.369415 |  5.1252024 |  7.6637622 | 23.174958 | 10.5878393 |  4.800460 | 39.13875627 | 18.2676230 | 125.35244 |\n| 50.8001174 | 28.9086502 | 23.923565 | 19.7326114 | 62.3221314 |  2.431435 |  0.3431034 |  1.610839 | 10.57802214 | 63.9053919 | 264.55587 |\n| 19.6019421 |  1.5039653 | 22.904735 |  0.9617597 |  8.5944180 | 20.547476 | 17.6129448 | 16.069421 |  3.63232903 |  5.3510906 | 116.78008 |\n|  4.9196059 |  6.7645486 | 18.497122 | 33.2236273 | 10.8654151 | 11.565958 |  7.7703795 |  1.181128 |  1.67546730 |  9.8239468 | 106.28720 |\n| 11.9156155 |  1.0619482 |  7.674059 |  3.5041384 |  5.5080578 | 14.677836 |  9.9836593 |  4.146765 | 16.88370949 | 32.4999666 | 107.85576 |\n|  5.2796379 |  9.8511943 | 12.808660 | 16.6761687 |  3.7400998 | 26.858509 | 10.5172552 | 19.974354 | 17.59223795 |  5.9569038 | 129.25502 |\n|  2.7903154 |  0.9049463 |  4.470044 |  0.9800326 |  2.6729404 | 18.838361 | 16.3633914 |  8.988102 | 23.38108725 | 18.5205502 |  97.90977 |\n|  3.3964292 |  4.6348362 | 16.777042 | 22.4238051 | 50.2960817 |  3.432839 |  1.0922362 | 41.225258 |  5.23473712 |  7.5930802 | 156.10634 |\n|  0.5822463 | 13.0027595 | 23.356286 | 41.5977316 |  5.1439160 |  0.263117 |  5.6586571 |  1.601406 | 14.67470508 | 48.7526438 | 154.63347 |\n| 15.4380822 | 45.5668750 | 17.280683 |  0.1527708 | 15.4444358 | 11.356773 | 40.0785516 | 13.903330 |  0.02493669 |  1.7515311 | 160.99797 |\n| 17.0486180 |  3.2754676 | 15.383194 |  0.3140294 |  9.9971988 |  2.966450 |  5.3198403 | 15.853087 |  5.14806219 |  6.1185226 |  81.42447 |\n|  6.7622813 |  7.2698092 | 15.443838 | 18.2360482 |  3.0821071 |  6.988361 |  3.2231625 | 41.276300 |  0.44500995 |  0.9882347 | 103.71515 |\n|  5.6563762 | 26.9285945 |  6.832790 |  0.4470244 |  0.2875482 | 15.520037 | 16.6838111 | 11.411522 | 10.27815802 |  7.8247953 | 101.87066 |\n| 12.3159739 | 16.5977437 |  9.983755 |  0.9270349 |  3.5002378 | 17.530651 |  9.8082611 | 14.244635 |  8.23047109 | 52.4945587 | 145.63332 |\n|  1.0214015 |  2.0133377 | 24.248643 |  3.9915186 |  0.2203618 | 14.921228 |  2.3329063 | 36.563371 | 12.45861134 |  2.3438709 | 100.11525 |\n|  2.2924184 | 12.2049515 |  1.825441 | 33.4329993 |  6.3159910 |  5.450787 | 21.2726884 | 15.781072 | 14.92793123 |  1.1376798 | 114.64196 |\n|  4.5741769 | 18.4048730 | 30.952307 | 14.4009740 | 30.6222347 |  1.829184 | 21.1018561 |  6.113430 | 16.04552278 | 37.7501378 | 181.79470 |\n| 19.3007826 |  2.2901994 | 43.065298 |  1.9703168 |  3.7159841 |  4.977445 | 17.3440750 | 17.644380 | 19.91449504 |  5.7022119 | 135.92519 |\n|  9.7879262 | 31.9692156 |  2.889576 |  3.1332402 |  6.5829005 | 18.473599 |  1.0355677 | 16.794907 | 24.45514233 |  8.1017857 | 123.22386 |\n|  4.7986356 | 15.8907203 |  8.045831 | 12.7701329 | 27.1938386 | 15.387122 | 16.3232863 | 78.644895 |  4.94868944 |  0.8924540 | 184.89560 |\n|  7.4290002 |  1.6331027 | 29.442552 |  5.3793273 | 10.5221148 |  6.081187 | 10.5835221 |  1.529150 | 34.86135838 | 10.8992569 | 118.36057 |\n|  2.2667400 | 10.4607829 | 16.260090 | 14.9109410 | 18.4935184 | 18.383787 | 11.4907891 | 36.874388 | 16.62688363 |  4.9579956 | 150.72592 |\n| 10.4239861 | 14.7235713 |  9.054540 | 50.6681566 | 24.5260685 | 12.851520 | 13.9543646 | 54.303613 | 23.47215032 |  5.0649009 | 219.04287 |\n|  1.5551405 | 19.7573744 |  5.575482 | 33.1091984 |  1.8199195 | 17.521197 | 28.9026298 | 21.862376 |  8.12340234 |  9.3843696 | 147.61109 |\n| 52.6241453 |  0.1557068 | 21.059090 | 29.1113402 |  9.6771594 | 43.380870 |  4.3957221 |  5.780639 | 48.82352489 | 16.5760641 | 231.58426 |\n| 26.2359126 | 20.4995056 |  9.045749 | 23.4742320 |  2.6130794 | 22.397125 | 29.2204185 | 48.771531 |  9.78168058 | 11.0277339 | 203.06697 |\n| 25.7481337 |  1.2010616 |  2.986937 |  8.4734300 |  3.6727974 |  2.691699 |  3.4232646 | 70.132701 |  7.82839058 | 24.2286941 | 150.38711 |\n|  5.2300439 | 17.7650720 | 31.512835 |  5.5838215 | 21.7497472 |  9.973338 |  7.9098591 |  1.211883 | 14.29560769 |  1.6449989 | 116.87721 |\n| ⋮ | ⋮ | ⋮ | ⋮ | ⋮ | ⋮ | ⋮ | ⋮ | ⋮ | ⋮ | ⋮ |\n|  3.81646115 |  2.9098662 |  8.5271354 |  1.3458151 |  9.4766321 | 18.0494134 |  3.94268515 | 30.055613 | 12.702761 | 23.97485770 | 114.80124 |\n| 14.16949498 |  8.6971820 | 43.1934789 |  8.4233830 | 14.9376338 | 10.3393233 | 27.55648719 | 12.288123 | 20.187924 | 31.03890424 | 190.83194 |\n|  9.15416743 |  4.1685028 |  0.8320641 | 10.3632370 | 14.0484084 | 22.9408671 | 24.27234465 |  5.565680 |  7.918303 |  2.27365306 | 101.53723 |\n|  1.69885627 | 12.2321119 | 15.4656904 |  3.9466914 | 25.1855744 |  2.2715141 |  9.98066615 | 28.596746 |  3.495887 |  8.77552657 | 111.64926 |\n| 21.04985764 |  5.1601127 | 10.8092370 | 14.1436436 |  5.9428171 |  4.2650224 | 12.48565315 | 18.406627 |  6.581154 | 21.93764318 | 120.78177 |\n| 36.80685633 |  7.0846656 | 37.5790611 |  0.2670091 | 35.9549609 |  6.6066846 |  3.56284057 | 14.272571 | 10.453956 | 11.96171724 | 164.55032 |\n|  2.65776779 | 21.6893051 | 14.2613153 | 46.8656335 | 23.6196121 |  7.6535035 | 28.83109836 |  6.546944 | 11.520355 | 63.61449036 | 227.26003 |\n| 17.70483225 | 55.1068264 |  0.3836163 | 16.8635536 |  1.1516542 |  0.4138847 |  1.98148734 |  7.426357 | 18.697625 |  9.84672190 | 129.57656 |\n|  4.79757439 |  4.5158631 |  8.6012804 |  0.3468150 | 13.8766803 | 20.1643982 |  5.08898814 | 53.822923 |  9.945155 | 11.14196619 | 132.30164 |\n| 37.97176248 | 26.3934081 | 14.0601104 | 13.6797017 |  1.4970169 |  3.0138117 | 13.07444381 | 46.132241 |  7.785340 |  5.66388047 | 169.27172 |\n|  4.53026545 |  7.7157206 |  0.7528498 | 22.8727978 |  5.9675057 |  0.2804990 |  5.59525496 | 24.723004 | 37.612036 |  2.64043828 | 112.69037 |\n| 47.36680080 |  3.6201563 | 10.0466254 |  5.0137894 | 13.6901852 | 11.1257795 |  7.52430668 |  2.298744 | 74.057507 |  8.92425689 | 183.66815 |\n| 24.75443704 | 12.2668255 | 10.4144223 |  7.0156794 | 19.5534228 | 17.6184196 | 34.34024967 | 21.207926 |  4.496368 |  0.06243531 | 151.73019 |\n| 18.05231444 | 17.8204063 |  4.1648146 |  4.1044260 | 26.9417726 | 28.0754209 | 14.59538904 | 13.619400 | 11.795742 | 11.26168510 | 150.43137 |\n|  5.77121396 | 15.7527649 |  6.9278471 |  2.0716051 |  0.3766095 |  2.8614106 |  1.74899114 | 17.477824 | 34.623151 |  8.02961837 |  95.64104 |\n|  3.73846861 | 21.9121041 | 57.2478297 | 40.7586822 | 19.8449967 |  4.7247032 | 19.06883954 |  3.917101 |  1.058010 | 20.42595092 | 192.69669 |\n|  3.12171804 | 20.9213800 |  0.4289085 | 18.5628046 |  6.7037067 | 13.4155204 | 30.70419196 | 10.800928 | 17.128041 |  1.41377767 | 123.20098 |\n|  1.46726956 |  2.9895343 |  6.1327851 |  1.8304050 |  3.2276362 | 31.8118450 |  5.58245132 | 24.826690 | 24.689637 | 32.61412501 | 135.17238 |\n|  9.93436755 | 21.2308044 | 13.0951066 |  0.8981818 | 15.5963818 |  0.7436393 |  0.07596525 | 17.023340 |  4.026852 | 22.98195662 | 105.60660 |\n|  9.39247430 |  0.0557056 |  7.3838200 |  9.8523959 | 17.8939478 |  9.6183027 | 23.63606631 |  8.759301 | 10.093022 | 43.37835033 | 140.06339 |\n|  5.82674468 | 40.4280160 |  0.1574049 | 11.9401076 |  7.3582892 |  6.8392224 |  2.29081644 | 28.526508 | 15.420075 |  3.30279986 | 122.08998 |\n|  9.33367125 |  1.7579826 | 15.5944937 | 47.1928566 |  0.6482188 |  6.7662240 | 30.01761699 |  4.447816 | 17.845209 | 11.11010068 | 144.71419 |\n| 12.19552189 |  5.5270364 | 22.5927857 |  4.6940677 |  7.2237916 | 18.3362421 | 20.01528645 |  4.421887 |  1.748520 | 51.68411622 | 148.43925 |\n| 40.29046658 | 66.7538496 |  8.0945927 |  3.6305258 | 20.7386822 | 38.1784165 |  8.90336558 | 51.209011 | 28.786510 |  4.61220382 | 271.19762 |\n| 21.97545462 | 25.3874939 |  5.1208826 | 15.2472530 |  3.2911767 | 43.0568587 | 47.72558114 | 15.724421 |  2.803296 | 13.15912557 | 193.49154 |\n|  8.99311280 | 48.2000549 | 15.6751259 | 19.9987861 | 36.6144744 |  1.5035459 |  4.09304090 |  4.265497 | 29.967782 |  5.45557680 | 174.76700 |\n| 22.62791875 |  0.8553873 | 21.8097118 | 15.0387301 | 27.4414596 | 12.9967582 | 74.31669660 |  1.214283 |  0.859632 | 11.49057367 | 188.65115 |\n|  5.70960165 |  3.4595350 |  2.6996541 | 32.2774505 |  7.6917471 | 24.1484531 |  5.47651641 | 13.625263 |  6.718196 | 18.77926668 | 120.58568 |\n| 15.45363308 |  0.9080777 | 19.1983480 |  3.4200477 |  4.7644130 |  3.8963841 |  3.56240871 |  2.193278 |  7.617474 | 18.10162898 |  79.11569 |\n|  0.01664002 |  6.1566044 | 80.1692844 |  2.8277271 | 33.4872743 |  1.5901930 |  7.17367351 | 11.278497 |  0.840471 |  8.65244945 | 152.19281 |\n\n",
            "text/latex": "A data.frame: 100000 × 11\n\\begin{tabular}{lllllllllll}\n X1 & X2 & X3 & X4 & X5 & X6 & X7 & X8 & X9 & X10 & Sum\\\\\n <dbl> & <dbl> & <dbl> & <dbl> & <dbl> & <dbl> & <dbl> & <dbl> & <dbl> & <dbl> & <dbl>\\\\\n\\hline\n\t 15.2374064 & 27.0973905 & 14.271465 & 12.7561203 & 23.4337208 & 11.567228 &  9.3371880 &  3.979520 &  5.85324642 & 10.5578902 & 134.09118\\\\\n\t 18.1905200 & 15.6967398 &  9.866914 & 14.1622981 &  0.5168812 &  3.677484 &  9.1984651 &  6.411930 &  3.11123999 &  1.7706813 &  82.60315\\\\\n\t  9.7004120 &  0.5240162 &  6.369415 &  5.1252024 &  7.6637622 & 23.174958 & 10.5878393 &  4.800460 & 39.13875627 & 18.2676230 & 125.35244\\\\\n\t 50.8001174 & 28.9086502 & 23.923565 & 19.7326114 & 62.3221314 &  2.431435 &  0.3431034 &  1.610839 & 10.57802214 & 63.9053919 & 264.55587\\\\\n\t 19.6019421 &  1.5039653 & 22.904735 &  0.9617597 &  8.5944180 & 20.547476 & 17.6129448 & 16.069421 &  3.63232903 &  5.3510906 & 116.78008\\\\\n\t  4.9196059 &  6.7645486 & 18.497122 & 33.2236273 & 10.8654151 & 11.565958 &  7.7703795 &  1.181128 &  1.67546730 &  9.8239468 & 106.28720\\\\\n\t 11.9156155 &  1.0619482 &  7.674059 &  3.5041384 &  5.5080578 & 14.677836 &  9.9836593 &  4.146765 & 16.88370949 & 32.4999666 & 107.85576\\\\\n\t  5.2796379 &  9.8511943 & 12.808660 & 16.6761687 &  3.7400998 & 26.858509 & 10.5172552 & 19.974354 & 17.59223795 &  5.9569038 & 129.25502\\\\\n\t  2.7903154 &  0.9049463 &  4.470044 &  0.9800326 &  2.6729404 & 18.838361 & 16.3633914 &  8.988102 & 23.38108725 & 18.5205502 &  97.90977\\\\\n\t  3.3964292 &  4.6348362 & 16.777042 & 22.4238051 & 50.2960817 &  3.432839 &  1.0922362 & 41.225258 &  5.23473712 &  7.5930802 & 156.10634\\\\\n\t  0.5822463 & 13.0027595 & 23.356286 & 41.5977316 &  5.1439160 &  0.263117 &  5.6586571 &  1.601406 & 14.67470508 & 48.7526438 & 154.63347\\\\\n\t 15.4380822 & 45.5668750 & 17.280683 &  0.1527708 & 15.4444358 & 11.356773 & 40.0785516 & 13.903330 &  0.02493669 &  1.7515311 & 160.99797\\\\\n\t 17.0486180 &  3.2754676 & 15.383194 &  0.3140294 &  9.9971988 &  2.966450 &  5.3198403 & 15.853087 &  5.14806219 &  6.1185226 &  81.42447\\\\\n\t  6.7622813 &  7.2698092 & 15.443838 & 18.2360482 &  3.0821071 &  6.988361 &  3.2231625 & 41.276300 &  0.44500995 &  0.9882347 & 103.71515\\\\\n\t  5.6563762 & 26.9285945 &  6.832790 &  0.4470244 &  0.2875482 & 15.520037 & 16.6838111 & 11.411522 & 10.27815802 &  7.8247953 & 101.87066\\\\\n\t 12.3159739 & 16.5977437 &  9.983755 &  0.9270349 &  3.5002378 & 17.530651 &  9.8082611 & 14.244635 &  8.23047109 & 52.4945587 & 145.63332\\\\\n\t  1.0214015 &  2.0133377 & 24.248643 &  3.9915186 &  0.2203618 & 14.921228 &  2.3329063 & 36.563371 & 12.45861134 &  2.3438709 & 100.11525\\\\\n\t  2.2924184 & 12.2049515 &  1.825441 & 33.4329993 &  6.3159910 &  5.450787 & 21.2726884 & 15.781072 & 14.92793123 &  1.1376798 & 114.64196\\\\\n\t  4.5741769 & 18.4048730 & 30.952307 & 14.4009740 & 30.6222347 &  1.829184 & 21.1018561 &  6.113430 & 16.04552278 & 37.7501378 & 181.79470\\\\\n\t 19.3007826 &  2.2901994 & 43.065298 &  1.9703168 &  3.7159841 &  4.977445 & 17.3440750 & 17.644380 & 19.91449504 &  5.7022119 & 135.92519\\\\\n\t  9.7879262 & 31.9692156 &  2.889576 &  3.1332402 &  6.5829005 & 18.473599 &  1.0355677 & 16.794907 & 24.45514233 &  8.1017857 & 123.22386\\\\\n\t  4.7986356 & 15.8907203 &  8.045831 & 12.7701329 & 27.1938386 & 15.387122 & 16.3232863 & 78.644895 &  4.94868944 &  0.8924540 & 184.89560\\\\\n\t  7.4290002 &  1.6331027 & 29.442552 &  5.3793273 & 10.5221148 &  6.081187 & 10.5835221 &  1.529150 & 34.86135838 & 10.8992569 & 118.36057\\\\\n\t  2.2667400 & 10.4607829 & 16.260090 & 14.9109410 & 18.4935184 & 18.383787 & 11.4907891 & 36.874388 & 16.62688363 &  4.9579956 & 150.72592\\\\\n\t 10.4239861 & 14.7235713 &  9.054540 & 50.6681566 & 24.5260685 & 12.851520 & 13.9543646 & 54.303613 & 23.47215032 &  5.0649009 & 219.04287\\\\\n\t  1.5551405 & 19.7573744 &  5.575482 & 33.1091984 &  1.8199195 & 17.521197 & 28.9026298 & 21.862376 &  8.12340234 &  9.3843696 & 147.61109\\\\\n\t 52.6241453 &  0.1557068 & 21.059090 & 29.1113402 &  9.6771594 & 43.380870 &  4.3957221 &  5.780639 & 48.82352489 & 16.5760641 & 231.58426\\\\\n\t 26.2359126 & 20.4995056 &  9.045749 & 23.4742320 &  2.6130794 & 22.397125 & 29.2204185 & 48.771531 &  9.78168058 & 11.0277339 & 203.06697\\\\\n\t 25.7481337 &  1.2010616 &  2.986937 &  8.4734300 &  3.6727974 &  2.691699 &  3.4232646 & 70.132701 &  7.82839058 & 24.2286941 & 150.38711\\\\\n\t  5.2300439 & 17.7650720 & 31.512835 &  5.5838215 & 21.7497472 &  9.973338 &  7.9098591 &  1.211883 & 14.29560769 &  1.6449989 & 116.87721\\\\\n\t ⋮ & ⋮ & ⋮ & ⋮ & ⋮ & ⋮ & ⋮ & ⋮ & ⋮ & ⋮ & ⋮\\\\\n\t  3.81646115 &  2.9098662 &  8.5271354 &  1.3458151 &  9.4766321 & 18.0494134 &  3.94268515 & 30.055613 & 12.702761 & 23.97485770 & 114.80124\\\\\n\t 14.16949498 &  8.6971820 & 43.1934789 &  8.4233830 & 14.9376338 & 10.3393233 & 27.55648719 & 12.288123 & 20.187924 & 31.03890424 & 190.83194\\\\\n\t  9.15416743 &  4.1685028 &  0.8320641 & 10.3632370 & 14.0484084 & 22.9408671 & 24.27234465 &  5.565680 &  7.918303 &  2.27365306 & 101.53723\\\\\n\t  1.69885627 & 12.2321119 & 15.4656904 &  3.9466914 & 25.1855744 &  2.2715141 &  9.98066615 & 28.596746 &  3.495887 &  8.77552657 & 111.64926\\\\\n\t 21.04985764 &  5.1601127 & 10.8092370 & 14.1436436 &  5.9428171 &  4.2650224 & 12.48565315 & 18.406627 &  6.581154 & 21.93764318 & 120.78177\\\\\n\t 36.80685633 &  7.0846656 & 37.5790611 &  0.2670091 & 35.9549609 &  6.6066846 &  3.56284057 & 14.272571 & 10.453956 & 11.96171724 & 164.55032\\\\\n\t  2.65776779 & 21.6893051 & 14.2613153 & 46.8656335 & 23.6196121 &  7.6535035 & 28.83109836 &  6.546944 & 11.520355 & 63.61449036 & 227.26003\\\\\n\t 17.70483225 & 55.1068264 &  0.3836163 & 16.8635536 &  1.1516542 &  0.4138847 &  1.98148734 &  7.426357 & 18.697625 &  9.84672190 & 129.57656\\\\\n\t  4.79757439 &  4.5158631 &  8.6012804 &  0.3468150 & 13.8766803 & 20.1643982 &  5.08898814 & 53.822923 &  9.945155 & 11.14196619 & 132.30164\\\\\n\t 37.97176248 & 26.3934081 & 14.0601104 & 13.6797017 &  1.4970169 &  3.0138117 & 13.07444381 & 46.132241 &  7.785340 &  5.66388047 & 169.27172\\\\\n\t  4.53026545 &  7.7157206 &  0.7528498 & 22.8727978 &  5.9675057 &  0.2804990 &  5.59525496 & 24.723004 & 37.612036 &  2.64043828 & 112.69037\\\\\n\t 47.36680080 &  3.6201563 & 10.0466254 &  5.0137894 & 13.6901852 & 11.1257795 &  7.52430668 &  2.298744 & 74.057507 &  8.92425689 & 183.66815\\\\\n\t 24.75443704 & 12.2668255 & 10.4144223 &  7.0156794 & 19.5534228 & 17.6184196 & 34.34024967 & 21.207926 &  4.496368 &  0.06243531 & 151.73019\\\\\n\t 18.05231444 & 17.8204063 &  4.1648146 &  4.1044260 & 26.9417726 & 28.0754209 & 14.59538904 & 13.619400 & 11.795742 & 11.26168510 & 150.43137\\\\\n\t  5.77121396 & 15.7527649 &  6.9278471 &  2.0716051 &  0.3766095 &  2.8614106 &  1.74899114 & 17.477824 & 34.623151 &  8.02961837 &  95.64104\\\\\n\t  3.73846861 & 21.9121041 & 57.2478297 & 40.7586822 & 19.8449967 &  4.7247032 & 19.06883954 &  3.917101 &  1.058010 & 20.42595092 & 192.69669\\\\\n\t  3.12171804 & 20.9213800 &  0.4289085 & 18.5628046 &  6.7037067 & 13.4155204 & 30.70419196 & 10.800928 & 17.128041 &  1.41377767 & 123.20098\\\\\n\t  1.46726956 &  2.9895343 &  6.1327851 &  1.8304050 &  3.2276362 & 31.8118450 &  5.58245132 & 24.826690 & 24.689637 & 32.61412501 & 135.17238\\\\\n\t  9.93436755 & 21.2308044 & 13.0951066 &  0.8981818 & 15.5963818 &  0.7436393 &  0.07596525 & 17.023340 &  4.026852 & 22.98195662 & 105.60660\\\\\n\t  9.39247430 &  0.0557056 &  7.3838200 &  9.8523959 & 17.8939478 &  9.6183027 & 23.63606631 &  8.759301 & 10.093022 & 43.37835033 & 140.06339\\\\\n\t  5.82674468 & 40.4280160 &  0.1574049 & 11.9401076 &  7.3582892 &  6.8392224 &  2.29081644 & 28.526508 & 15.420075 &  3.30279986 & 122.08998\\\\\n\t  9.33367125 &  1.7579826 & 15.5944937 & 47.1928566 &  0.6482188 &  6.7662240 & 30.01761699 &  4.447816 & 17.845209 & 11.11010068 & 144.71419\\\\\n\t 12.19552189 &  5.5270364 & 22.5927857 &  4.6940677 &  7.2237916 & 18.3362421 & 20.01528645 &  4.421887 &  1.748520 & 51.68411622 & 148.43925\\\\\n\t 40.29046658 & 66.7538496 &  8.0945927 &  3.6305258 & 20.7386822 & 38.1784165 &  8.90336558 & 51.209011 & 28.786510 &  4.61220382 & 271.19762\\\\\n\t 21.97545462 & 25.3874939 &  5.1208826 & 15.2472530 &  3.2911767 & 43.0568587 & 47.72558114 & 15.724421 &  2.803296 & 13.15912557 & 193.49154\\\\\n\t  8.99311280 & 48.2000549 & 15.6751259 & 19.9987861 & 36.6144744 &  1.5035459 &  4.09304090 &  4.265497 & 29.967782 &  5.45557680 & 174.76700\\\\\n\t 22.62791875 &  0.8553873 & 21.8097118 & 15.0387301 & 27.4414596 & 12.9967582 & 74.31669660 &  1.214283 &  0.859632 & 11.49057367 & 188.65115\\\\\n\t  5.70960165 &  3.4595350 &  2.6996541 & 32.2774505 &  7.6917471 & 24.1484531 &  5.47651641 & 13.625263 &  6.718196 & 18.77926668 & 120.58568\\\\\n\t 15.45363308 &  0.9080777 & 19.1983480 &  3.4200477 &  4.7644130 &  3.8963841 &  3.56240871 &  2.193278 &  7.617474 & 18.10162898 &  79.11569\\\\\n\t  0.01664002 &  6.1566044 & 80.1692844 &  2.8277271 & 33.4872743 &  1.5901930 &  7.17367351 & 11.278497 &  0.840471 &  8.65244945 & 152.19281\\\\\n\\end{tabular}\n"
          },
          "metadata": {}
        }
      ]
    },
    {
      "cell_type": "code",
      "source": [
        "mean(RexpDf$Sum)\n",
        "var(RexpDf$Sum)"
      ],
      "metadata": {
        "colab": {
          "base_uri": "https://localhost:8080/",
          "height": 52
        },
        "id": "natozFQOaJ3s",
        "outputId": "5608fc8a-fe58-41ac-a822-6a962690d130"
      },
      "execution_count": 524,
      "outputs": [
        {
          "output_type": "display_data",
          "data": {
            "text/html": [
              "145.979010900051"
            ],
            "text/markdown": "145.979010900051",
            "text/latex": "145.979010900051",
            "text/plain": [
              "[1] 145.979"
            ]
          },
          "metadata": {}
        },
        {
          "output_type": "display_data",
          "data": {
            "text/html": [
              "2148.21365414189"
            ],
            "text/markdown": "2148.21365414189",
            "text/latex": "2148.21365414189",
            "text/plain": [
              "[1] 2148.214"
            ]
          },
          "metadata": {}
        }
      ]
    },
    {
      "cell_type": "markdown",
      "source": [
        "## Задание 4\n",
        "\n",
        "Доказать, что сумма величин, распределенных по закону Пуассона с параметрами $\\alpha_1, \\alpha_2,\\ldots$ , распределена по закону Пуассона."
      ],
      "metadata": {
        "id": "jnNOuEPUWToF"
      }
    },
    {
      "cell_type": "markdown",
      "source": [
        "### Теоретически"
      ],
      "metadata": {
        "id": "GnnVVi2ucc4A"
      }
    },
    {
      "cell_type": "markdown",
      "source": [
        "Производящая функция величины, распределенной по закону Пуассона с параметром $\\alpha_i$:\n",
        "$$E_i(t) = e^{\\alpha_i(t-1)}$$"
      ],
      "metadata": {
        "id": "SarLw4pgYVby"
      }
    },
    {
      "cell_type": "markdown",
      "source": [
        "Тогда производящая суммы величин:\n",
        "$$E_{sum}(t) = \\prod_i E_i(t) = \\prod_i e^{\\alpha_i(t-1)} = e^{\\alpha(t-1)}$$ где $\\alpha = \\sum_i \\alpha_i$"
      ],
      "metadata": {
        "id": "HH2Voxh9Z2df"
      }
    },
    {
      "cell_type": "markdown",
      "source": [
        "Как видно, производящая суммы схожа с производящей величины, распределенной по закону Пуассона с параметром $\\alpha$. Сумма величин, распределенных по закону Пуассона, тоже распределена по закону Пуассона."
      ],
      "metadata": {
        "id": "kdUynYp_bN_b"
      }
    },
    {
      "cell_type": "markdown",
      "source": [
        "### Экспериментально\n",
        "Проверим суждение эспериментально"
      ],
      "metadata": {
        "id": "IeMeMwKcabkf"
      }
    },
    {
      "cell_type": "markdown",
      "source": [
        "Аналогично заданию 2, составим датасет, например, из четырех величин, имеющих распределение Пуассона: "
      ],
      "metadata": {
        "id": "AnlU8wmNkWS_"
      }
    },
    {
      "cell_type": "code",
      "source": [
        "library(stats)\n",
        "N <- 100000\n",
        "\n",
        "MeanOccurence1 <- 50\n",
        "X1=rpois(N, MeanOccurence1)\n",
        "\n",
        "MeanOccurence2 <- 60\n",
        "X2=rpois(N, MeanOccurence2)\n",
        "\n",
        "MeanOccurence3 <- 70\n",
        "X3=rpois(N, MeanOccurence3)\n",
        "\n",
        "MeanOccurence4 <- 80\n",
        "X4=rpois(N, MeanOccurence4)\n",
        "\n",
        "PoissonDf <- data.frame(X1, X2, X3, X4)\n",
        "\n",
        "View(PoissonDf)"
      ],
      "metadata": {
        "colab": {
          "base_uri": "https://localhost:8080/",
          "height": 1000
        },
        "id": "X7Pzf_IJcg4P",
        "outputId": "b5d87bbe-d283-44b5-8c69-e1b53344fefb"
      },
      "execution_count": 525,
      "outputs": [
        {
          "output_type": "display_data",
          "data": {
            "text/plain": [
              "       X1 X2 X3 X4\n",
              "1      63 58 63 81\n",
              "2      38 53 69 79\n",
              "3      39 52 63 61\n",
              "4      47 57 65 73\n",
              "5      42 71 69 69\n",
              "6      45 59 67 75\n",
              "7      50 64 64 76\n",
              "8      43 64 68 79\n",
              "9      46 60 72 79\n",
              "10     60 65 62 80\n",
              "11     50 54 74 79\n",
              "12     52 61 74 80\n",
              "13     55 53 66 93\n",
              "14     44 55 90 89\n",
              "15     61 70 75 88\n",
              "16     50 66 68 83\n",
              "17     50 63 59 72\n",
              "18     51 64 64 81\n",
              "19     47 54 50 85\n",
              "20     48 40 74 90\n",
              "21     61 51 66 83\n",
              "22     53 63 78 77\n",
              "23     57 51 73 71\n",
              "24     60 70 79 87\n",
              "25     51 55 69 85\n",
              "26     45 53 83 89\n",
              "27     48 65 69 76\n",
              "28     44 57 74 77\n",
              "29     51 55 79 77\n",
              "30     54 53 62 74\n",
              "⋮      ⋮  ⋮  ⋮  ⋮ \n",
              "99971  50 73 60 73\n",
              "99972  40 62 63 85\n",
              "99973  48 57 67 91\n",
              "99974  54 74 79 85\n",
              "99975  59 60 87 83\n",
              "99976  45 60 67 78\n",
              "99977  37 70 63 71\n",
              "99978  60 59 79 84\n",
              "99979  51 46 70 88\n",
              "99980  54 53 74 85\n",
              "99981  46 61 79 77\n",
              "99982  56 52 58 78\n",
              "99983  37 74 78 91\n",
              "99984  59 47 56 82\n",
              "99985  57 62 63 81\n",
              "99986  42 51 73 76\n",
              "99987  37 66 66 60\n",
              "99988  41 62 56 83\n",
              "99989  53 65 75 66\n",
              "99990  51 70 76 94\n",
              "99991  47 63 63 73\n",
              "99992  46 57 59 89\n",
              "99993  58 65 66 78\n",
              "99994  48 49 92 84\n",
              "99995  68 67 71 75\n",
              "99996  58 72 81 72\n",
              "99997  46 66 65 85\n",
              "99998  38 61 83 85\n",
              "99999  51 55 69 88\n",
              "100000 53 66 68 65"
            ],
            "text/html": [
              "<table class=\"dataframe\">\n",
              "<caption>A data.frame: 100000 × 4</caption>\n",
              "<thead>\n",
              "\t<tr><th scope=col>X1</th><th scope=col>X2</th><th scope=col>X3</th><th scope=col>X4</th></tr>\n",
              "\t<tr><th scope=col>&lt;int&gt;</th><th scope=col>&lt;int&gt;</th><th scope=col>&lt;int&gt;</th><th scope=col>&lt;int&gt;</th></tr>\n",
              "</thead>\n",
              "<tbody>\n",
              "\t<tr><td>63</td><td>58</td><td>63</td><td>81</td></tr>\n",
              "\t<tr><td>38</td><td>53</td><td>69</td><td>79</td></tr>\n",
              "\t<tr><td>39</td><td>52</td><td>63</td><td>61</td></tr>\n",
              "\t<tr><td>47</td><td>57</td><td>65</td><td>73</td></tr>\n",
              "\t<tr><td>42</td><td>71</td><td>69</td><td>69</td></tr>\n",
              "\t<tr><td>45</td><td>59</td><td>67</td><td>75</td></tr>\n",
              "\t<tr><td>50</td><td>64</td><td>64</td><td>76</td></tr>\n",
              "\t<tr><td>43</td><td>64</td><td>68</td><td>79</td></tr>\n",
              "\t<tr><td>46</td><td>60</td><td>72</td><td>79</td></tr>\n",
              "\t<tr><td>60</td><td>65</td><td>62</td><td>80</td></tr>\n",
              "\t<tr><td>50</td><td>54</td><td>74</td><td>79</td></tr>\n",
              "\t<tr><td>52</td><td>61</td><td>74</td><td>80</td></tr>\n",
              "\t<tr><td>55</td><td>53</td><td>66</td><td>93</td></tr>\n",
              "\t<tr><td>44</td><td>55</td><td>90</td><td>89</td></tr>\n",
              "\t<tr><td>61</td><td>70</td><td>75</td><td>88</td></tr>\n",
              "\t<tr><td>50</td><td>66</td><td>68</td><td>83</td></tr>\n",
              "\t<tr><td>50</td><td>63</td><td>59</td><td>72</td></tr>\n",
              "\t<tr><td>51</td><td>64</td><td>64</td><td>81</td></tr>\n",
              "\t<tr><td>47</td><td>54</td><td>50</td><td>85</td></tr>\n",
              "\t<tr><td>48</td><td>40</td><td>74</td><td>90</td></tr>\n",
              "\t<tr><td>61</td><td>51</td><td>66</td><td>83</td></tr>\n",
              "\t<tr><td>53</td><td>63</td><td>78</td><td>77</td></tr>\n",
              "\t<tr><td>57</td><td>51</td><td>73</td><td>71</td></tr>\n",
              "\t<tr><td>60</td><td>70</td><td>79</td><td>87</td></tr>\n",
              "\t<tr><td>51</td><td>55</td><td>69</td><td>85</td></tr>\n",
              "\t<tr><td>45</td><td>53</td><td>83</td><td>89</td></tr>\n",
              "\t<tr><td>48</td><td>65</td><td>69</td><td>76</td></tr>\n",
              "\t<tr><td>44</td><td>57</td><td>74</td><td>77</td></tr>\n",
              "\t<tr><td>51</td><td>55</td><td>79</td><td>77</td></tr>\n",
              "\t<tr><td>54</td><td>53</td><td>62</td><td>74</td></tr>\n",
              "\t<tr><td>⋮</td><td>⋮</td><td>⋮</td><td>⋮</td></tr>\n",
              "\t<tr><td>50</td><td>73</td><td>60</td><td>73</td></tr>\n",
              "\t<tr><td>40</td><td>62</td><td>63</td><td>85</td></tr>\n",
              "\t<tr><td>48</td><td>57</td><td>67</td><td>91</td></tr>\n",
              "\t<tr><td>54</td><td>74</td><td>79</td><td>85</td></tr>\n",
              "\t<tr><td>59</td><td>60</td><td>87</td><td>83</td></tr>\n",
              "\t<tr><td>45</td><td>60</td><td>67</td><td>78</td></tr>\n",
              "\t<tr><td>37</td><td>70</td><td>63</td><td>71</td></tr>\n",
              "\t<tr><td>60</td><td>59</td><td>79</td><td>84</td></tr>\n",
              "\t<tr><td>51</td><td>46</td><td>70</td><td>88</td></tr>\n",
              "\t<tr><td>54</td><td>53</td><td>74</td><td>85</td></tr>\n",
              "\t<tr><td>46</td><td>61</td><td>79</td><td>77</td></tr>\n",
              "\t<tr><td>56</td><td>52</td><td>58</td><td>78</td></tr>\n",
              "\t<tr><td>37</td><td>74</td><td>78</td><td>91</td></tr>\n",
              "\t<tr><td>59</td><td>47</td><td>56</td><td>82</td></tr>\n",
              "\t<tr><td>57</td><td>62</td><td>63</td><td>81</td></tr>\n",
              "\t<tr><td>42</td><td>51</td><td>73</td><td>76</td></tr>\n",
              "\t<tr><td>37</td><td>66</td><td>66</td><td>60</td></tr>\n",
              "\t<tr><td>41</td><td>62</td><td>56</td><td>83</td></tr>\n",
              "\t<tr><td>53</td><td>65</td><td>75</td><td>66</td></tr>\n",
              "\t<tr><td>51</td><td>70</td><td>76</td><td>94</td></tr>\n",
              "\t<tr><td>47</td><td>63</td><td>63</td><td>73</td></tr>\n",
              "\t<tr><td>46</td><td>57</td><td>59</td><td>89</td></tr>\n",
              "\t<tr><td>58</td><td>65</td><td>66</td><td>78</td></tr>\n",
              "\t<tr><td>48</td><td>49</td><td>92</td><td>84</td></tr>\n",
              "\t<tr><td>68</td><td>67</td><td>71</td><td>75</td></tr>\n",
              "\t<tr><td>58</td><td>72</td><td>81</td><td>72</td></tr>\n",
              "\t<tr><td>46</td><td>66</td><td>65</td><td>85</td></tr>\n",
              "\t<tr><td>38</td><td>61</td><td>83</td><td>85</td></tr>\n",
              "\t<tr><td>51</td><td>55</td><td>69</td><td>88</td></tr>\n",
              "\t<tr><td>53</td><td>66</td><td>68</td><td>65</td></tr>\n",
              "</tbody>\n",
              "</table>\n"
            ],
            "text/markdown": "\nA data.frame: 100000 × 4\n\n| X1 &lt;int&gt; | X2 &lt;int&gt; | X3 &lt;int&gt; | X4 &lt;int&gt; |\n|---|---|---|---|\n| 63 | 58 | 63 | 81 |\n| 38 | 53 | 69 | 79 |\n| 39 | 52 | 63 | 61 |\n| 47 | 57 | 65 | 73 |\n| 42 | 71 | 69 | 69 |\n| 45 | 59 | 67 | 75 |\n| 50 | 64 | 64 | 76 |\n| 43 | 64 | 68 | 79 |\n| 46 | 60 | 72 | 79 |\n| 60 | 65 | 62 | 80 |\n| 50 | 54 | 74 | 79 |\n| 52 | 61 | 74 | 80 |\n| 55 | 53 | 66 | 93 |\n| 44 | 55 | 90 | 89 |\n| 61 | 70 | 75 | 88 |\n| 50 | 66 | 68 | 83 |\n| 50 | 63 | 59 | 72 |\n| 51 | 64 | 64 | 81 |\n| 47 | 54 | 50 | 85 |\n| 48 | 40 | 74 | 90 |\n| 61 | 51 | 66 | 83 |\n| 53 | 63 | 78 | 77 |\n| 57 | 51 | 73 | 71 |\n| 60 | 70 | 79 | 87 |\n| 51 | 55 | 69 | 85 |\n| 45 | 53 | 83 | 89 |\n| 48 | 65 | 69 | 76 |\n| 44 | 57 | 74 | 77 |\n| 51 | 55 | 79 | 77 |\n| 54 | 53 | 62 | 74 |\n| ⋮ | ⋮ | ⋮ | ⋮ |\n| 50 | 73 | 60 | 73 |\n| 40 | 62 | 63 | 85 |\n| 48 | 57 | 67 | 91 |\n| 54 | 74 | 79 | 85 |\n| 59 | 60 | 87 | 83 |\n| 45 | 60 | 67 | 78 |\n| 37 | 70 | 63 | 71 |\n| 60 | 59 | 79 | 84 |\n| 51 | 46 | 70 | 88 |\n| 54 | 53 | 74 | 85 |\n| 46 | 61 | 79 | 77 |\n| 56 | 52 | 58 | 78 |\n| 37 | 74 | 78 | 91 |\n| 59 | 47 | 56 | 82 |\n| 57 | 62 | 63 | 81 |\n| 42 | 51 | 73 | 76 |\n| 37 | 66 | 66 | 60 |\n| 41 | 62 | 56 | 83 |\n| 53 | 65 | 75 | 66 |\n| 51 | 70 | 76 | 94 |\n| 47 | 63 | 63 | 73 |\n| 46 | 57 | 59 | 89 |\n| 58 | 65 | 66 | 78 |\n| 48 | 49 | 92 | 84 |\n| 68 | 67 | 71 | 75 |\n| 58 | 72 | 81 | 72 |\n| 46 | 66 | 65 | 85 |\n| 38 | 61 | 83 | 85 |\n| 51 | 55 | 69 | 88 |\n| 53 | 66 | 68 | 65 |\n\n",
            "text/latex": "A data.frame: 100000 × 4\n\\begin{tabular}{llll}\n X1 & X2 & X3 & X4\\\\\n <int> & <int> & <int> & <int>\\\\\n\\hline\n\t 63 & 58 & 63 & 81\\\\\n\t 38 & 53 & 69 & 79\\\\\n\t 39 & 52 & 63 & 61\\\\\n\t 47 & 57 & 65 & 73\\\\\n\t 42 & 71 & 69 & 69\\\\\n\t 45 & 59 & 67 & 75\\\\\n\t 50 & 64 & 64 & 76\\\\\n\t 43 & 64 & 68 & 79\\\\\n\t 46 & 60 & 72 & 79\\\\\n\t 60 & 65 & 62 & 80\\\\\n\t 50 & 54 & 74 & 79\\\\\n\t 52 & 61 & 74 & 80\\\\\n\t 55 & 53 & 66 & 93\\\\\n\t 44 & 55 & 90 & 89\\\\\n\t 61 & 70 & 75 & 88\\\\\n\t 50 & 66 & 68 & 83\\\\\n\t 50 & 63 & 59 & 72\\\\\n\t 51 & 64 & 64 & 81\\\\\n\t 47 & 54 & 50 & 85\\\\\n\t 48 & 40 & 74 & 90\\\\\n\t 61 & 51 & 66 & 83\\\\\n\t 53 & 63 & 78 & 77\\\\\n\t 57 & 51 & 73 & 71\\\\\n\t 60 & 70 & 79 & 87\\\\\n\t 51 & 55 & 69 & 85\\\\\n\t 45 & 53 & 83 & 89\\\\\n\t 48 & 65 & 69 & 76\\\\\n\t 44 & 57 & 74 & 77\\\\\n\t 51 & 55 & 79 & 77\\\\\n\t 54 & 53 & 62 & 74\\\\\n\t ⋮ & ⋮ & ⋮ & ⋮\\\\\n\t 50 & 73 & 60 & 73\\\\\n\t 40 & 62 & 63 & 85\\\\\n\t 48 & 57 & 67 & 91\\\\\n\t 54 & 74 & 79 & 85\\\\\n\t 59 & 60 & 87 & 83\\\\\n\t 45 & 60 & 67 & 78\\\\\n\t 37 & 70 & 63 & 71\\\\\n\t 60 & 59 & 79 & 84\\\\\n\t 51 & 46 & 70 & 88\\\\\n\t 54 & 53 & 74 & 85\\\\\n\t 46 & 61 & 79 & 77\\\\\n\t 56 & 52 & 58 & 78\\\\\n\t 37 & 74 & 78 & 91\\\\\n\t 59 & 47 & 56 & 82\\\\\n\t 57 & 62 & 63 & 81\\\\\n\t 42 & 51 & 73 & 76\\\\\n\t 37 & 66 & 66 & 60\\\\\n\t 41 & 62 & 56 & 83\\\\\n\t 53 & 65 & 75 & 66\\\\\n\t 51 & 70 & 76 & 94\\\\\n\t 47 & 63 & 63 & 73\\\\\n\t 46 & 57 & 59 & 89\\\\\n\t 58 & 65 & 66 & 78\\\\\n\t 48 & 49 & 92 & 84\\\\\n\t 68 & 67 & 71 & 75\\\\\n\t 58 & 72 & 81 & 72\\\\\n\t 46 & 66 & 65 & 85\\\\\n\t 38 & 61 & 83 & 85\\\\\n\t 51 & 55 & 69 & 88\\\\\n\t 53 & 66 & 68 & 65\\\\\n\\end{tabular}\n"
          },
          "metadata": {}
        }
      ]
    },
    {
      "cell_type": "markdown",
      "source": [
        "Добавим в него столбец, соответствующий сумме величин."
      ],
      "metadata": {
        "id": "8vDc5NNtub09"
      }
    },
    {
      "cell_type": "code",
      "source": [
        "PoissonDf$Sum <- PoissonDf$X1 + PoissonDf$X2 + PoissonDf$X3 + PoissonDf$X4\n",
        "View(PoissonDf)"
      ],
      "metadata": {
        "colab": {
          "base_uri": "https://localhost:8080/",
          "height": 1000
        },
        "id": "TrMYAtcZ2DUN",
        "outputId": "c380bd2e-119b-497a-a091-86480a2c37be"
      },
      "execution_count": 526,
      "outputs": [
        {
          "output_type": "display_data",
          "data": {
            "text/plain": [
              "       X1 X2 X3 X4 Sum\n",
              "1      63 58 63 81 265\n",
              "2      38 53 69 79 239\n",
              "3      39 52 63 61 215\n",
              "4      47 57 65 73 242\n",
              "5      42 71 69 69 251\n",
              "6      45 59 67 75 246\n",
              "7      50 64 64 76 254\n",
              "8      43 64 68 79 254\n",
              "9      46 60 72 79 257\n",
              "10     60 65 62 80 267\n",
              "11     50 54 74 79 257\n",
              "12     52 61 74 80 267\n",
              "13     55 53 66 93 267\n",
              "14     44 55 90 89 278\n",
              "15     61 70 75 88 294\n",
              "16     50 66 68 83 267\n",
              "17     50 63 59 72 244\n",
              "18     51 64 64 81 260\n",
              "19     47 54 50 85 236\n",
              "20     48 40 74 90 252\n",
              "21     61 51 66 83 261\n",
              "22     53 63 78 77 271\n",
              "23     57 51 73 71 252\n",
              "24     60 70 79 87 296\n",
              "25     51 55 69 85 260\n",
              "26     45 53 83 89 270\n",
              "27     48 65 69 76 258\n",
              "28     44 57 74 77 252\n",
              "29     51 55 79 77 262\n",
              "30     54 53 62 74 243\n",
              "⋮      ⋮  ⋮  ⋮  ⋮  ⋮  \n",
              "99971  50 73 60 73 256\n",
              "99972  40 62 63 85 250\n",
              "99973  48 57 67 91 263\n",
              "99974  54 74 79 85 292\n",
              "99975  59 60 87 83 289\n",
              "99976  45 60 67 78 250\n",
              "99977  37 70 63 71 241\n",
              "99978  60 59 79 84 282\n",
              "99979  51 46 70 88 255\n",
              "99980  54 53 74 85 266\n",
              "99981  46 61 79 77 263\n",
              "99982  56 52 58 78 244\n",
              "99983  37 74 78 91 280\n",
              "99984  59 47 56 82 244\n",
              "99985  57 62 63 81 263\n",
              "99986  42 51 73 76 242\n",
              "99987  37 66 66 60 229\n",
              "99988  41 62 56 83 242\n",
              "99989  53 65 75 66 259\n",
              "99990  51 70 76 94 291\n",
              "99991  47 63 63 73 246\n",
              "99992  46 57 59 89 251\n",
              "99993  58 65 66 78 267\n",
              "99994  48 49 92 84 273\n",
              "99995  68 67 71 75 281\n",
              "99996  58 72 81 72 283\n",
              "99997  46 66 65 85 262\n",
              "99998  38 61 83 85 267\n",
              "99999  51 55 69 88 263\n",
              "100000 53 66 68 65 252"
            ],
            "text/html": [
              "<table class=\"dataframe\">\n",
              "<caption>A data.frame: 100000 × 5</caption>\n",
              "<thead>\n",
              "\t<tr><th scope=col>X1</th><th scope=col>X2</th><th scope=col>X3</th><th scope=col>X4</th><th scope=col>Sum</th></tr>\n",
              "\t<tr><th scope=col>&lt;int&gt;</th><th scope=col>&lt;int&gt;</th><th scope=col>&lt;int&gt;</th><th scope=col>&lt;int&gt;</th><th scope=col>&lt;int&gt;</th></tr>\n",
              "</thead>\n",
              "<tbody>\n",
              "\t<tr><td>63</td><td>58</td><td>63</td><td>81</td><td>265</td></tr>\n",
              "\t<tr><td>38</td><td>53</td><td>69</td><td>79</td><td>239</td></tr>\n",
              "\t<tr><td>39</td><td>52</td><td>63</td><td>61</td><td>215</td></tr>\n",
              "\t<tr><td>47</td><td>57</td><td>65</td><td>73</td><td>242</td></tr>\n",
              "\t<tr><td>42</td><td>71</td><td>69</td><td>69</td><td>251</td></tr>\n",
              "\t<tr><td>45</td><td>59</td><td>67</td><td>75</td><td>246</td></tr>\n",
              "\t<tr><td>50</td><td>64</td><td>64</td><td>76</td><td>254</td></tr>\n",
              "\t<tr><td>43</td><td>64</td><td>68</td><td>79</td><td>254</td></tr>\n",
              "\t<tr><td>46</td><td>60</td><td>72</td><td>79</td><td>257</td></tr>\n",
              "\t<tr><td>60</td><td>65</td><td>62</td><td>80</td><td>267</td></tr>\n",
              "\t<tr><td>50</td><td>54</td><td>74</td><td>79</td><td>257</td></tr>\n",
              "\t<tr><td>52</td><td>61</td><td>74</td><td>80</td><td>267</td></tr>\n",
              "\t<tr><td>55</td><td>53</td><td>66</td><td>93</td><td>267</td></tr>\n",
              "\t<tr><td>44</td><td>55</td><td>90</td><td>89</td><td>278</td></tr>\n",
              "\t<tr><td>61</td><td>70</td><td>75</td><td>88</td><td>294</td></tr>\n",
              "\t<tr><td>50</td><td>66</td><td>68</td><td>83</td><td>267</td></tr>\n",
              "\t<tr><td>50</td><td>63</td><td>59</td><td>72</td><td>244</td></tr>\n",
              "\t<tr><td>51</td><td>64</td><td>64</td><td>81</td><td>260</td></tr>\n",
              "\t<tr><td>47</td><td>54</td><td>50</td><td>85</td><td>236</td></tr>\n",
              "\t<tr><td>48</td><td>40</td><td>74</td><td>90</td><td>252</td></tr>\n",
              "\t<tr><td>61</td><td>51</td><td>66</td><td>83</td><td>261</td></tr>\n",
              "\t<tr><td>53</td><td>63</td><td>78</td><td>77</td><td>271</td></tr>\n",
              "\t<tr><td>57</td><td>51</td><td>73</td><td>71</td><td>252</td></tr>\n",
              "\t<tr><td>60</td><td>70</td><td>79</td><td>87</td><td>296</td></tr>\n",
              "\t<tr><td>51</td><td>55</td><td>69</td><td>85</td><td>260</td></tr>\n",
              "\t<tr><td>45</td><td>53</td><td>83</td><td>89</td><td>270</td></tr>\n",
              "\t<tr><td>48</td><td>65</td><td>69</td><td>76</td><td>258</td></tr>\n",
              "\t<tr><td>44</td><td>57</td><td>74</td><td>77</td><td>252</td></tr>\n",
              "\t<tr><td>51</td><td>55</td><td>79</td><td>77</td><td>262</td></tr>\n",
              "\t<tr><td>54</td><td>53</td><td>62</td><td>74</td><td>243</td></tr>\n",
              "\t<tr><td>⋮</td><td>⋮</td><td>⋮</td><td>⋮</td><td>⋮</td></tr>\n",
              "\t<tr><td>50</td><td>73</td><td>60</td><td>73</td><td>256</td></tr>\n",
              "\t<tr><td>40</td><td>62</td><td>63</td><td>85</td><td>250</td></tr>\n",
              "\t<tr><td>48</td><td>57</td><td>67</td><td>91</td><td>263</td></tr>\n",
              "\t<tr><td>54</td><td>74</td><td>79</td><td>85</td><td>292</td></tr>\n",
              "\t<tr><td>59</td><td>60</td><td>87</td><td>83</td><td>289</td></tr>\n",
              "\t<tr><td>45</td><td>60</td><td>67</td><td>78</td><td>250</td></tr>\n",
              "\t<tr><td>37</td><td>70</td><td>63</td><td>71</td><td>241</td></tr>\n",
              "\t<tr><td>60</td><td>59</td><td>79</td><td>84</td><td>282</td></tr>\n",
              "\t<tr><td>51</td><td>46</td><td>70</td><td>88</td><td>255</td></tr>\n",
              "\t<tr><td>54</td><td>53</td><td>74</td><td>85</td><td>266</td></tr>\n",
              "\t<tr><td>46</td><td>61</td><td>79</td><td>77</td><td>263</td></tr>\n",
              "\t<tr><td>56</td><td>52</td><td>58</td><td>78</td><td>244</td></tr>\n",
              "\t<tr><td>37</td><td>74</td><td>78</td><td>91</td><td>280</td></tr>\n",
              "\t<tr><td>59</td><td>47</td><td>56</td><td>82</td><td>244</td></tr>\n",
              "\t<tr><td>57</td><td>62</td><td>63</td><td>81</td><td>263</td></tr>\n",
              "\t<tr><td>42</td><td>51</td><td>73</td><td>76</td><td>242</td></tr>\n",
              "\t<tr><td>37</td><td>66</td><td>66</td><td>60</td><td>229</td></tr>\n",
              "\t<tr><td>41</td><td>62</td><td>56</td><td>83</td><td>242</td></tr>\n",
              "\t<tr><td>53</td><td>65</td><td>75</td><td>66</td><td>259</td></tr>\n",
              "\t<tr><td>51</td><td>70</td><td>76</td><td>94</td><td>291</td></tr>\n",
              "\t<tr><td>47</td><td>63</td><td>63</td><td>73</td><td>246</td></tr>\n",
              "\t<tr><td>46</td><td>57</td><td>59</td><td>89</td><td>251</td></tr>\n",
              "\t<tr><td>58</td><td>65</td><td>66</td><td>78</td><td>267</td></tr>\n",
              "\t<tr><td>48</td><td>49</td><td>92</td><td>84</td><td>273</td></tr>\n",
              "\t<tr><td>68</td><td>67</td><td>71</td><td>75</td><td>281</td></tr>\n",
              "\t<tr><td>58</td><td>72</td><td>81</td><td>72</td><td>283</td></tr>\n",
              "\t<tr><td>46</td><td>66</td><td>65</td><td>85</td><td>262</td></tr>\n",
              "\t<tr><td>38</td><td>61</td><td>83</td><td>85</td><td>267</td></tr>\n",
              "\t<tr><td>51</td><td>55</td><td>69</td><td>88</td><td>263</td></tr>\n",
              "\t<tr><td>53</td><td>66</td><td>68</td><td>65</td><td>252</td></tr>\n",
              "</tbody>\n",
              "</table>\n"
            ],
            "text/markdown": "\nA data.frame: 100000 × 5\n\n| X1 &lt;int&gt; | X2 &lt;int&gt; | X3 &lt;int&gt; | X4 &lt;int&gt; | Sum &lt;int&gt; |\n|---|---|---|---|---|\n| 63 | 58 | 63 | 81 | 265 |\n| 38 | 53 | 69 | 79 | 239 |\n| 39 | 52 | 63 | 61 | 215 |\n| 47 | 57 | 65 | 73 | 242 |\n| 42 | 71 | 69 | 69 | 251 |\n| 45 | 59 | 67 | 75 | 246 |\n| 50 | 64 | 64 | 76 | 254 |\n| 43 | 64 | 68 | 79 | 254 |\n| 46 | 60 | 72 | 79 | 257 |\n| 60 | 65 | 62 | 80 | 267 |\n| 50 | 54 | 74 | 79 | 257 |\n| 52 | 61 | 74 | 80 | 267 |\n| 55 | 53 | 66 | 93 | 267 |\n| 44 | 55 | 90 | 89 | 278 |\n| 61 | 70 | 75 | 88 | 294 |\n| 50 | 66 | 68 | 83 | 267 |\n| 50 | 63 | 59 | 72 | 244 |\n| 51 | 64 | 64 | 81 | 260 |\n| 47 | 54 | 50 | 85 | 236 |\n| 48 | 40 | 74 | 90 | 252 |\n| 61 | 51 | 66 | 83 | 261 |\n| 53 | 63 | 78 | 77 | 271 |\n| 57 | 51 | 73 | 71 | 252 |\n| 60 | 70 | 79 | 87 | 296 |\n| 51 | 55 | 69 | 85 | 260 |\n| 45 | 53 | 83 | 89 | 270 |\n| 48 | 65 | 69 | 76 | 258 |\n| 44 | 57 | 74 | 77 | 252 |\n| 51 | 55 | 79 | 77 | 262 |\n| 54 | 53 | 62 | 74 | 243 |\n| ⋮ | ⋮ | ⋮ | ⋮ | ⋮ |\n| 50 | 73 | 60 | 73 | 256 |\n| 40 | 62 | 63 | 85 | 250 |\n| 48 | 57 | 67 | 91 | 263 |\n| 54 | 74 | 79 | 85 | 292 |\n| 59 | 60 | 87 | 83 | 289 |\n| 45 | 60 | 67 | 78 | 250 |\n| 37 | 70 | 63 | 71 | 241 |\n| 60 | 59 | 79 | 84 | 282 |\n| 51 | 46 | 70 | 88 | 255 |\n| 54 | 53 | 74 | 85 | 266 |\n| 46 | 61 | 79 | 77 | 263 |\n| 56 | 52 | 58 | 78 | 244 |\n| 37 | 74 | 78 | 91 | 280 |\n| 59 | 47 | 56 | 82 | 244 |\n| 57 | 62 | 63 | 81 | 263 |\n| 42 | 51 | 73 | 76 | 242 |\n| 37 | 66 | 66 | 60 | 229 |\n| 41 | 62 | 56 | 83 | 242 |\n| 53 | 65 | 75 | 66 | 259 |\n| 51 | 70 | 76 | 94 | 291 |\n| 47 | 63 | 63 | 73 | 246 |\n| 46 | 57 | 59 | 89 | 251 |\n| 58 | 65 | 66 | 78 | 267 |\n| 48 | 49 | 92 | 84 | 273 |\n| 68 | 67 | 71 | 75 | 281 |\n| 58 | 72 | 81 | 72 | 283 |\n| 46 | 66 | 65 | 85 | 262 |\n| 38 | 61 | 83 | 85 | 267 |\n| 51 | 55 | 69 | 88 | 263 |\n| 53 | 66 | 68 | 65 | 252 |\n\n",
            "text/latex": "A data.frame: 100000 × 5\n\\begin{tabular}{lllll}\n X1 & X2 & X3 & X4 & Sum\\\\\n <int> & <int> & <int> & <int> & <int>\\\\\n\\hline\n\t 63 & 58 & 63 & 81 & 265\\\\\n\t 38 & 53 & 69 & 79 & 239\\\\\n\t 39 & 52 & 63 & 61 & 215\\\\\n\t 47 & 57 & 65 & 73 & 242\\\\\n\t 42 & 71 & 69 & 69 & 251\\\\\n\t 45 & 59 & 67 & 75 & 246\\\\\n\t 50 & 64 & 64 & 76 & 254\\\\\n\t 43 & 64 & 68 & 79 & 254\\\\\n\t 46 & 60 & 72 & 79 & 257\\\\\n\t 60 & 65 & 62 & 80 & 267\\\\\n\t 50 & 54 & 74 & 79 & 257\\\\\n\t 52 & 61 & 74 & 80 & 267\\\\\n\t 55 & 53 & 66 & 93 & 267\\\\\n\t 44 & 55 & 90 & 89 & 278\\\\\n\t 61 & 70 & 75 & 88 & 294\\\\\n\t 50 & 66 & 68 & 83 & 267\\\\\n\t 50 & 63 & 59 & 72 & 244\\\\\n\t 51 & 64 & 64 & 81 & 260\\\\\n\t 47 & 54 & 50 & 85 & 236\\\\\n\t 48 & 40 & 74 & 90 & 252\\\\\n\t 61 & 51 & 66 & 83 & 261\\\\\n\t 53 & 63 & 78 & 77 & 271\\\\\n\t 57 & 51 & 73 & 71 & 252\\\\\n\t 60 & 70 & 79 & 87 & 296\\\\\n\t 51 & 55 & 69 & 85 & 260\\\\\n\t 45 & 53 & 83 & 89 & 270\\\\\n\t 48 & 65 & 69 & 76 & 258\\\\\n\t 44 & 57 & 74 & 77 & 252\\\\\n\t 51 & 55 & 79 & 77 & 262\\\\\n\t 54 & 53 & 62 & 74 & 243\\\\\n\t ⋮ & ⋮ & ⋮ & ⋮ & ⋮\\\\\n\t 50 & 73 & 60 & 73 & 256\\\\\n\t 40 & 62 & 63 & 85 & 250\\\\\n\t 48 & 57 & 67 & 91 & 263\\\\\n\t 54 & 74 & 79 & 85 & 292\\\\\n\t 59 & 60 & 87 & 83 & 289\\\\\n\t 45 & 60 & 67 & 78 & 250\\\\\n\t 37 & 70 & 63 & 71 & 241\\\\\n\t 60 & 59 & 79 & 84 & 282\\\\\n\t 51 & 46 & 70 & 88 & 255\\\\\n\t 54 & 53 & 74 & 85 & 266\\\\\n\t 46 & 61 & 79 & 77 & 263\\\\\n\t 56 & 52 & 58 & 78 & 244\\\\\n\t 37 & 74 & 78 & 91 & 280\\\\\n\t 59 & 47 & 56 & 82 & 244\\\\\n\t 57 & 62 & 63 & 81 & 263\\\\\n\t 42 & 51 & 73 & 76 & 242\\\\\n\t 37 & 66 & 66 & 60 & 229\\\\\n\t 41 & 62 & 56 & 83 & 242\\\\\n\t 53 & 65 & 75 & 66 & 259\\\\\n\t 51 & 70 & 76 & 94 & 291\\\\\n\t 47 & 63 & 63 & 73 & 246\\\\\n\t 46 & 57 & 59 & 89 & 251\\\\\n\t 58 & 65 & 66 & 78 & 267\\\\\n\t 48 & 49 & 92 & 84 & 273\\\\\n\t 68 & 67 & 71 & 75 & 281\\\\\n\t 58 & 72 & 81 & 72 & 283\\\\\n\t 46 & 66 & 65 & 85 & 262\\\\\n\t 38 & 61 & 83 & 85 & 267\\\\\n\t 51 & 55 & 69 & 88 & 263\\\\\n\t 53 & 66 & 68 & 65 & 252\\\\\n\\end{tabular}\n"
          },
          "metadata": {}
        }
      ]
    },
    {
      "cell_type": "markdown",
      "source": [
        "Тогда, согласно утверждению, новая величина будет тоже распределена по Пуассону, причем с параметром $\\alpha = ∑_i \\alpha_i$"
      ],
      "metadata": {
        "id": "S1mmyCxTx6fy"
      }
    },
    {
      "cell_type": "code",
      "source": [
        "PoissonResultsDf <- data.frame(\n",
        "  X1=c(mean(PoissonDf$X1),var(PoissonDf$X1)),\n",
        "  X2=c(mean(PoissonDf$X2),var(PoissonDf$X2)),\n",
        "  X3=c(mean(PoissonDf$X3),var(PoissonDf$X3)),\n",
        "  X4=c(mean(PoissonDf$X4),var(PoissonDf$X4))\n",
        ")\n",
        "row.names(PoissonResultsDf) <- c('MX', 'DX')\n",
        "\n",
        "View(PoissonResultsDf)"
      ],
      "metadata": {
        "colab": {
          "base_uri": "https://localhost:8080/",
          "height": 160
        },
        "id": "r8hlMcls3LtE",
        "outputId": "20ad4b52-b232-454a-9308-cf1edf0bb8aa"
      },
      "execution_count": 527,
      "outputs": [
        {
          "output_type": "display_data",
          "data": {
            "text/plain": [
              "   X1       X2       X3       X4      \n",
              "MX 49.99769 59.98506 70.00758 79.97336\n",
              "DX 49.89244 59.75271 69.88264 79.30452"
            ],
            "text/html": [
              "<table class=\"dataframe\">\n",
              "<caption>A data.frame: 2 × 4</caption>\n",
              "<thead>\n",
              "\t<tr><th></th><th scope=col>X1</th><th scope=col>X2</th><th scope=col>X3</th><th scope=col>X4</th></tr>\n",
              "\t<tr><th></th><th scope=col>&lt;dbl&gt;</th><th scope=col>&lt;dbl&gt;</th><th scope=col>&lt;dbl&gt;</th><th scope=col>&lt;dbl&gt;</th></tr>\n",
              "</thead>\n",
              "<tbody>\n",
              "\t<tr><th scope=row>MX</th><td>49.99769</td><td>59.98506</td><td>70.00758</td><td>79.97336</td></tr>\n",
              "\t<tr><th scope=row>DX</th><td>49.89244</td><td>59.75271</td><td>69.88264</td><td>79.30452</td></tr>\n",
              "</tbody>\n",
              "</table>\n"
            ],
            "text/markdown": "\nA data.frame: 2 × 4\n\n| <!--/--> | X1 &lt;dbl&gt; | X2 &lt;dbl&gt; | X3 &lt;dbl&gt; | X4 &lt;dbl&gt; |\n|---|---|---|---|---|\n| MX | 49.99769 | 59.98506 | 70.00758 | 79.97336 |\n| DX | 49.89244 | 59.75271 | 69.88264 | 79.30452 |\n\n",
            "text/latex": "A data.frame: 2 × 4\n\\begin{tabular}{r|llll}\n  & X1 & X2 & X3 & X4\\\\\n  & <dbl> & <dbl> & <dbl> & <dbl>\\\\\n\\hline\n\tMX & 49.99769 & 59.98506 & 70.00758 & 79.97336\\\\\n\tDX & 49.89244 & 59.75271 & 69.88264 & 79.30452\\\\\n\\end{tabular}\n"
          },
          "metadata": {}
        }
      ]
    },
    {
      "cell_type": "markdown",
      "source": [
        "$MX$ и $DX$ новой величины:"
      ],
      "metadata": {
        "id": "QN6xmNxu-7xc"
      }
    },
    {
      "cell_type": "code",
      "source": [
        "mean(PoissonDf$Sum);var(PoissonDf$Sum)"
      ],
      "metadata": {
        "colab": {
          "base_uri": "https://localhost:8080/",
          "height": 52
        },
        "id": "1D6jCG3eoshC",
        "outputId": "7d58e821-8177-450a-8bf0-54b236f03828"
      },
      "execution_count": 528,
      "outputs": [
        {
          "output_type": "display_data",
          "data": {
            "text/html": [
              "259.96369"
            ],
            "text/markdown": "259.96369",
            "text/latex": "259.96369",
            "text/plain": [
              "[1] 259.9637"
            ]
          },
          "metadata": {}
        },
        {
          "output_type": "display_data",
          "data": {
            "text/html": [
              "259.199343577336"
            ],
            "text/markdown": "259.199343577336",
            "text/latex": "259.199343577336",
            "text/plain": [
              "[1] 259.1993"
            ]
          },
          "metadata": {}
        }
      ]
    },
    {
      "cell_type": "markdown",
      "source": [
        "Если сложить $MX_i$ и $DX_i$ величин $X_i$, получим:"
      ],
      "metadata": {
        "id": "4imqj1tG_Bit"
      }
    },
    {
      "cell_type": "code",
      "source": [
        "PoissonResultsDf$Sum <- PoissonResultsDf$X1 + PoissonResultsDf$X2 + PoissonResultsDf$X3 + PoissonResultsDf$X4\n",
        "View(PoissonResultsDf)"
      ],
      "metadata": {
        "colab": {
          "base_uri": "https://localhost:8080/",
          "height": 160
        },
        "id": "7J_2wrRX_OU5",
        "outputId": "7ca96e8f-06d7-4a9d-eae9-cc482fc682dc"
      },
      "execution_count": 529,
      "outputs": [
        {
          "output_type": "display_data",
          "data": {
            "text/plain": [
              "   X1       X2       X3       X4       Sum     \n",
              "MX 49.99769 59.98506 70.00758 79.97336 259.9637\n",
              "DX 49.89244 59.75271 69.88264 79.30452 258.8323"
            ],
            "text/html": [
              "<table class=\"dataframe\">\n",
              "<caption>A data.frame: 2 × 5</caption>\n",
              "<thead>\n",
              "\t<tr><th></th><th scope=col>X1</th><th scope=col>X2</th><th scope=col>X3</th><th scope=col>X4</th><th scope=col>Sum</th></tr>\n",
              "\t<tr><th></th><th scope=col>&lt;dbl&gt;</th><th scope=col>&lt;dbl&gt;</th><th scope=col>&lt;dbl&gt;</th><th scope=col>&lt;dbl&gt;</th><th scope=col>&lt;dbl&gt;</th></tr>\n",
              "</thead>\n",
              "<tbody>\n",
              "\t<tr><th scope=row>MX</th><td>49.99769</td><td>59.98506</td><td>70.00758</td><td>79.97336</td><td>259.9637</td></tr>\n",
              "\t<tr><th scope=row>DX</th><td>49.89244</td><td>59.75271</td><td>69.88264</td><td>79.30452</td><td>258.8323</td></tr>\n",
              "</tbody>\n",
              "</table>\n"
            ],
            "text/markdown": "\nA data.frame: 2 × 5\n\n| <!--/--> | X1 &lt;dbl&gt; | X2 &lt;dbl&gt; | X3 &lt;dbl&gt; | X4 &lt;dbl&gt; | Sum &lt;dbl&gt; |\n|---|---|---|---|---|---|\n| MX | 49.99769 | 59.98506 | 70.00758 | 79.97336 | 259.9637 |\n| DX | 49.89244 | 59.75271 | 69.88264 | 79.30452 | 258.8323 |\n\n",
            "text/latex": "A data.frame: 2 × 5\n\\begin{tabular}{r|lllll}\n  & X1 & X2 & X3 & X4 & Sum\\\\\n  & <dbl> & <dbl> & <dbl> & <dbl> & <dbl>\\\\\n\\hline\n\tMX & 49.99769 & 59.98506 & 70.00758 & 79.97336 & 259.9637\\\\\n\tDX & 49.89244 & 59.75271 & 69.88264 & 79.30452 & 258.8323\\\\\n\\end{tabular}\n"
          },
          "metadata": {}
        }
      ]
    },
    {
      "cell_type": "markdown",
      "source": [
        "Как видно, $MX = DX = \\alpha_1 + \\alpha_2 + \\alpha_3 + \\alpha_4$, теоретически выведенные утверждения сошлись с экспериментально полученными характеристиками."
      ],
      "metadata": {
        "id": "-cAP6lB54i-T"
      }
    },
    {
      "cell_type": "code",
      "source": [],
      "metadata": {
        "id": "beZi-sVeMaBM"
      },
      "execution_count": 530,
      "outputs": []
    },
    {
      "cell_type": "markdown",
      "metadata": {
        "id": "df09bd25-2d9a-4373-82af-02771272d756"
      },
      "source": [
        "## Задание 5.\n",
        "\n",
        "Серверная станция состоит из двух модулей питания. Время безотказной работы каждого из них распределено по показательному закону с одинаковыми параметрами:\n",
        "$$f(t)=\\lambda e^{-\\lambda t}$$\n",
        "$t$ - время работы одного модуля до первого отказа.\n",
        "Второй модуль питания включается сразу же после отказа первого. Определить плотность вероятности времени безотказной работы всей системы, а также математическое ожидание и дисперсию времени безотказной работы."
      ]
    },
    {
      "cell_type": "code",
      "execution_count": 531,
      "metadata": {
        "id": "3150048f-bacf-4e96-abec-857f1c874ce0",
        "colab": {
          "base_uri": "https://localhost:8080/",
          "height": 34
        },
        "outputId": "4c7bf1fa-7328-4417-bb9f-7a36a70d51f8"
      },
      "outputs": [
        {
          "output_type": "display_data",
          "data": {
            "text/html": [
              "0.658538821386173"
            ],
            "text/markdown": "0.658538821386173",
            "text/latex": "0.658538821386173",
            "text/plain": [
              "[1] 0.6585388"
            ]
          },
          "metadata": {}
        }
      ],
      "source": [
        "Variant<-5\n",
        "alpha<-runif(100)[77]\n",
        "alpha"
      ]
    },
    {
      "cell_type": "markdown",
      "source": [
        "Время безотказной работы всей системы равно сумме времени безотказной работы обоих модулей\n",
        "\n",
        "$$t=t1+t2$$\n",
        "\n",
        "$$F(t_i < T)=1-e^{-\\lambda t_i}$$\n"
      ],
      "metadata": {
        "id": "snFtJJK9bnbm"
      }
    },
    {
      "cell_type": "markdown",
      "source": [
        "Если заданы две независимые неотрицательные случайные величины $\\zeta_1, \\zeta_2$, то функция плотности распределения вероятностей композиции в виде суммы этих случайных величин $\\zeta=\\zeta_1+\\zeta_2$ выразится:\n",
        "$$f_{\\zeta}=\\int_{A(\\zeta)}^{B(\\zeta)} f_{\\zeta_1}(\\zeta_1)\\cdot f_{\\zeta_2}(\\zeta-\\zeta_1)d\\zeta_1$$\n",
        "\n",
        "Пределы интегрирования вычисляются:\n",
        "$$A(\\zeta)=a+\\frac{\\zeta-(a+d)+|\\zeta-(a+d)|}{2}$$\n",
        "$$B(\\zeta)=b+\\frac{\\zeta-(b+c)-|\\zeta-(b+c)|}{2}$$\n",
        "$$a\\leq \\zeta_1\\leq b, c\\leq \\zeta_2\\leq d$$"
      ],
      "metadata": {
        "id": "W8NdlPgOT0tx"
      }
    },
    {
      "cell_type": "markdown",
      "source": [
        "$$a=0$$\n",
        "\n",
        "$$b=\\infty$$\n",
        "\n",
        "$$c=0$$\n",
        "\n",
        "$$d=\\infty$$\n",
        "\n"
      ],
      "metadata": {
        "id": "B-1wmavGULpe"
      }
    },
    {
      "cell_type": "markdown",
      "source": [
        "$$A(\\zeta)=o+\\frac{\\zeta-(0+\\infty)+|\\zeta-(0+\\infty)|}{2}=\\frac{\\zeta-(0+\\infty)-(\\zeta-(0+\\infty))}{2}=0$$\n",
        "\n",
        "$$B(\\zeta)=\\infty+\\frac{\\zeta-(\\infty+0)-|\\zeta-(\\infty+0)|}{2}=\\infty+\\frac{\\zeta-\\infty +(\\zeta-\\infty)}{2}=\\zeta$$"
      ],
      "metadata": {
        "id": "Dx_HHBmOU7Lx"
      }
    },
    {
      "cell_type": "markdown",
      "source": [
        "$$f_{t_1}(t_1)=\\lambda \\cdot e^{-\\lambda t_1}$$\n",
        "$$f_{t_2}(t_2)=\\lambda \\cdot e^{-\\lambda (t-t1)}$$"
      ],
      "metadata": {
        "id": "yCxrq6_0V_x8"
      }
    },
    {
      "cell_type": "markdown",
      "source": [
        "$$f_{t}=\\int_{0}^{t} f_{t_1}(t_1)\\cdot f_{t_2}(t-t_1)dt_1$$\n",
        "$$f_{t}=\\int_{0}^{t} \\lambda \\cdot e^{-\\lambda t_1}\\cdot \\lambda \\cdot e^{-\\lambda (t-t1)}dt_1$$\n",
        "$$f_{t}=\\lambda ^2 \\int_{0}^{t} e^{-\\lambda t}dt_1$$\n",
        "$$f_{t}=\\lambda ^2 \\frac t {e^{\\lambda t}}$$\n",
        "$$f_{t}=\\lambda ^2  t \\cdot {e^{-\\lambda t}}$$\n",
        "\n",
        "Это действительно соответствует плотности распределения функции Эрланга второго порядка\n",
        "\n",
        "Таким образом мы определили плотность вероятности времени безотказной работы всей системы\n",
        "\n",
        "\n"
      ],
      "metadata": {
        "id": "NvA5vVZRcaAa"
      }
    },
    {
      "cell_type": "markdown",
      "source": [
        "Найдем математическое ожидание случайной величины, используя преобразование Лапласа-Стилтьеса.\n",
        "\n",
        "$$\\bar{f}_k(s)=\\int_0^\\infty e^{-st}\\frac{\\lambda\\left(\\lambda \\cdot t\\right)^k}{k!}e^{-\\lambda\\cdot t} dt=\\frac{\\lambda^{k+1}}{k!}\\int_0^\\infty e^{-(s+\\lambda)t}t^kdt=\\frac{\\lambda^{k+1}}{k!}\\frac{k!}{(s+\\lambda)^{k+1}}=\\frac{\\lambda^{k+1}}{(s+\\lambda)^{k+1}}$$"
      ],
      "metadata": {
        "id": "csgUNKFJnZ0V"
      }
    },
    {
      "cell_type": "markdown",
      "source": [
        "\n",
        "$$\\beta_t(s)=\\int_0^\\infty e^{-st}f_{t1}(t)dt$$\n",
        "\n",
        "\n",
        "$$\\beta_t(s)=\\int_0^\\infty e^{-st} \\lambda ^2  t \\cdot {e^{-\\lambda t}}dt$$\n",
        "$$\\beta_t(s)=\\lambda ^2 \\int_0^\\infty e^{-st} t \\cdot {e^{-\\lambda t}}dt$$\n",
        "$$\\beta_t(s)=\\lambda ^2 \\int_0^\\infty e^{-(s+\\lambda)t}tdt$$\n",
        "$$\\beta_t(s)=\\frac{\\lambda ^2}{(s+\\lambda)^2}$$\n",
        "\n",
        "$$M[X]=\\beta_t(s)|_{s=0}$$\n",
        "\n",
        "\n",
        "\n"
      ],
      "metadata": {
        "id": "j3odSgyXk5_1"
      }
    },
    {
      "cell_type": "code",
      "source": [
        "beta <- expression(alpha^2 / (s+alpha)^2)\n",
        "beta"
      ],
      "metadata": {
        "colab": {
          "base_uri": "https://localhost:8080/",
          "height": 35
        },
        "id": "mAa9PY5cqwPn",
        "outputId": "0b0cc059-815a-47a2-e116-009f7afae989"
      },
      "execution_count": 532,
      "outputs": [
        {
          "output_type": "display_data",
          "data": {
            "text/plain": [
              "expression(alpha^2/(s + alpha)^2)"
            ]
          },
          "metadata": {}
        }
      ]
    },
    {
      "cell_type": "code",
      "source": [
        "MX <- eval(beta, s<-0)\n",
        "MX"
      ],
      "metadata": {
        "colab": {
          "base_uri": "https://localhost:8080/",
          "height": 34
        },
        "id": "ndYLTBJHq5vK",
        "outputId": "60d3e9d0-df92-4b4b-88f8-ce795ee06e7c"
      },
      "execution_count": 533,
      "outputs": [
        {
          "output_type": "display_data",
          "data": {
            "text/html": [
              "1"
            ],
            "text/markdown": "1",
            "text/latex": "1",
            "text/plain": [
              "[1] 1"
            ]
          },
          "metadata": {}
        }
      ]
    },
    {
      "cell_type": "code",
      "source": [
        "dbeta <- D(beta, 's')\n",
        "dbeta\n",
        "\n",
        "ddbeta <- D(dbeta, 's')\n",
        "ddbeta"
      ],
      "metadata": {
        "colab": {
          "base_uri": "https://localhost:8080/",
          "height": 71
        },
        "id": "KNQMQqujd46q",
        "outputId": "cc669afd-83da-42ca-8841-52a5f33b92e0"
      },
      "execution_count": 534,
      "outputs": [
        {
          "output_type": "display_data",
          "data": {
            "text/plain": [
              "-(alpha^2 * (2 * (s + alpha))/((s + alpha)^2)^2)"
            ]
          },
          "metadata": {}
        },
        {
          "output_type": "display_data",
          "data": {
            "text/plain": [
              "-(alpha^2 * 2/((s + alpha)^2)^2 - alpha^2 * (2 * (s + alpha)) * \n",
              "    (2 * (2 * (s + alpha) * ((s + alpha)^2)))/(((s + alpha)^2)^2)^2)"
            ]
          },
          "metadata": {}
        }
      ]
    },
    {
      "cell_type": "code",
      "source": [
        "DX <- eval(ddbeta, s<-0) - MX^2\n",
        "DX"
      ],
      "metadata": {
        "colab": {
          "base_uri": "https://localhost:8080/",
          "height": 34
        },
        "id": "F1mu62YlrKXQ",
        "outputId": "7082e554-9fc0-41d0-dcd7-cd97f95da27f"
      },
      "execution_count": 536,
      "outputs": [
        {
          "output_type": "display_data",
          "data": {
            "text/html": [
              "12.835296992549"
            ],
            "text/markdown": "12.835296992549",
            "text/latex": "12.835296992549",
            "text/plain": [
              "[1] 12.8353"
            ]
          },
          "metadata": {}
        }
      ]
    }
  ]
}