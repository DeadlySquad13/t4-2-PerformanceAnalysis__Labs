{
    "cells": [
        {
            "cell_type": "markdown",
            "metadata": {},
            "source": "\u041a\u043e\u043d\u0442\u0440\u043e\u043b\u044c\u043d\u0430\u044f \u0440\u0430\u0431\u043e\u0442\u0430 \u2116 1\n\n\u0412\u044b\u043f\u043e\u043b\u043d\u0438\u043b: \u041f\u0430\u043a\u0430\u043b\u043e \u0410\u043b\u0435\u043a\u0441\u0430\u043d\u0434\u0440 \u0421\u0435\u0440\u0433\u0435\u0435\u0432\u0438\u0447, \u0441\u0442\u0443\u0434\u0435\u043d\u0442 \u0420\u04225-81\u0411\n\n\u0412\u0430\u0440\u0438\u0430\u043d\u0442 \u2116 2"
        },
        {
            "cell_type": "markdown",
            "metadata": {},
            "source": "## \u0417\u0430\u0434\u0430\u043d\u0438\u0435 \u2116 1"
        },
        {
            "cell_type": "markdown",
            "metadata": {},
            "source": "\u0420\u0435\u0448\u0435\u043d\u0438\u0435 \u043c\u0435\u0442\u043e\u0434\u043e\u043c \u043f\u0440\u043e\u0438\u0437\u0432\u043e\u0434\u044f\u0449\u0438\u0445 \u0444\u0443\u043d\u043a\u0446\u0438\u0439.\n\n\u0421\u043e\u0441\u0442\u0430\u0432\u0438\u043c \u0444\u0443\u043d\u043a\u0446\u0438\u0438 \u043e\u0442\u0432\u0435\u0447\u0430\u044e\u0449\u0438\u0435 \u0432\u0435\u0440\u043e\u044f\u0442\u043d\u043e\u0441\u0442\u044f\u043c \u0438\u0437\u0440\u0430\u0441\u0445\u043e\u0434\u043e\u0432\u0430\u043d\u0438\u044f \u043f\u0430\u0442\u0440\u043e\u043d\u043e\u0432 \u0434\u043b\u044f \u043f\u0435\u0440\u0432\u043e\u0433\u043e \u0438 \u0432\u0442\u043e\u0440\u043e\u0433\u043e \u0441\u0442\u0440\u0435\u043b\u043a\u0430 \u0441\u043e\u043e\u0442\u0432\u0435\u0442\u0441\u0442\u0432\u0435\u043d\u043d\u043e:\n$$\nP_1(z) = 0.4 \\cdot z^1 + 0.4 \\cdot 0.6 \\cdot z^2 + 0.4 \\cdot 0.6 \\cdot 0.6 \\cdot z^3 \\\\\nP_2(z) = 0.6 \\cdot z^1 + 0.6 \\cdot 0.4 \\cdot z^2\n$$"
        },
        {
            "cell_type": "markdown",
            "metadata": {},
            "source": "\u0422\u0430\u043a \u043a\u0430\u043a \u0441\u043e\u0431\u044b\u0442\u0438\u044f \u043d\u0435\u0437\u0430\u0432\u0438\u0441\u0438\u043c\u044b, $P_{1 + 2}(z) = P_1 \\cdot P_2$\n\n\u041f\u043e\u0441\u0447\u0438\u0442\u0430\u0435\u043c \u0441 \u043f\u043e\u043c\u043e\u0449\u044c\u044e Maxima:"
        },
        {
            "cell_type": "code",
            "execution_count": 31,
            "metadata": {
                "trusted": true
            },
            "outputs": [
                {
                    "data": {
                        "text/latex": "\\[\\tag{${\\it \\%o}_{66}$}0.144\\,z^3+0.24\\,z^2+0.4\\,z\\]",
                        "text/plain": "                                 3         2\n(%o66)                    0.144 z  + 0.24 z  + 0.4 z",
                        "text/x-maxima": "0.144*z^3+0.24*z^2+0.4*z"
                    },
                    "execution_count": 31,
                    "metadata": {},
                    "output_type": "execute_result"
                },
                {
                    "data": {
                        "text/latex": "\\[\\tag{${\\it \\%o}_{67}$}0.24\\,z^2+0.6\\,z\\]",
                        "text/plain": "                                      2\n(%o67)                          0.24 z  + 0.6 z",
                        "text/x-maxima": "0.24*z^2+0.6*z"
                    },
                    "execution_count": 31,
                    "metadata": {},
                    "output_type": "execute_result"
                }
            ],
            "source": "P1: 0.4 * z^1 + 0.4 * 0.6 * z^2 + 0.4 * 0.6 * 0.6 * z^3;\nP2: 0.6 * z^1 + 0.6 * 0.4 * z^2;"
        },
        {
            "cell_type": "markdown",
            "metadata": {},
            "source": "\u041f\u043e\u043b\u0443\u0447\u0438\u043b\u0438 \u0437\u0430\u043a\u043e\u043d \u0440\u0430\u0441\u043f\u0440\u0435\u0434\u0435\u043b\u0435\u043d\u0438\u044f \u0434\u043b\u044f \u0432\u0435\u043b\u0438\u0447\u0438\u043d\u044b $Z = X + Y$:"
        },
        {
            "cell_type": "code",
            "execution_count": 32,
            "metadata": {
                "trusted": true
            },
            "outputs": [
                {
                    "data": {
                        "text/latex": "\\[\\tag{${\\it \\%o}_{68}$}0.03455999999999999\\,z^5+0.144\\,z^4+0.24\\,z^3+0.24\\,z^2\\]",
                        "text/plain": "                                  5          4         3         2\n(%o68)       0.03455999999999999 z  + 0.144 z  + 0.24 z  + 0.24 z",
                        "text/x-maxima": "0.03455999999999999*z^5+0.144*z^4+0.24*z^3+0.24*z^2"
                    },
                    "execution_count": 32,
                    "metadata": {},
                    "output_type": "execute_result"
                }
            ],
            "source": "P: expand(P1 * P2);"
        },
        {
            "cell_type": "markdown",
            "metadata": {},
            "source": "\u0422\u043e\u0433\u0434\u0430:\n$$\nM(Z) = P'_{1+2}(1) \\\\\nD(Z)=P''_{1+2}(1) + P'_{1+2}(1) - \\left(P'_{1+2}(1)\\right)^2\n$$"
        },
        {
            "cell_type": "code",
            "execution_count": 33,
            "metadata": {
                "trusted": true
            },
            "outputs": [
                {
                    "data": {
                        "text/latex": "\\[\\tag{${\\it \\%o}_{69}$}0.1728\\,z^4+0.576\\,z^3+0.72\\,z^2+0.48\\,z\\]",
                        "text/plain": "                            4          3         2\n(%o69)              0.1728 z  + 0.576 z  + 0.72 z  + 0.48 z",
                        "text/x-maxima": "0.1728*z^4+0.576*z^3+0.72*z^2+0.48*z"
                    },
                    "execution_count": 33,
                    "metadata": {},
                    "output_type": "execute_result"
                },
                {
                    "data": {
                        "text/latex": "\\[\\tag{${\\it \\%o}_{70}$}-\\left(0.1728\\,z^4+0.576\\,z^3+0.72\\,z^2+0.48\\,z\\right)^2+0.1728\\,z^4+1.2672\\,z^3+2.448\\,z^2+1.92\\,z+0.48\\]",
                        "text/plain": "                   4          3         2          2            4           3\n(%o70) (- (0.1728 z  + 0.576 z  + 0.72 z  + 0.48 z) ) + 0.1728 z  + 1.2672 z\n                                                              2\n                                                     + 2.448 z  + 1.92 z + 0.48",
                        "text/x-maxima": "(-(0.1728*z^4+0.576*z^3+0.72*z^2+0.48*z)^2)\n +0.1728*z^4+1.2672*z^3+2.448*z^2+1.92*z+0.48"
                    },
                    "execution_count": 33,
                    "metadata": {},
                    "output_type": "execute_result"
                }
            ],
            "source": "MZ: diff(P, z, 1);\nDZ: diff(P, z, 2) + MZ - MZ^2;"
        },
        {
            "cell_type": "markdown",
            "metadata": {},
            "source": "\u041f\u043e\u043b\u0443\u0447\u0430\u0435\u043c \u0441\u043b\u0435\u0434\u0443\u044e\u0449\u0438\u0435 M(Z) \u0438 D(Z):"
        },
        {
            "cell_type": "code",
            "execution_count": 36,
            "metadata": {
                "trusted": true
            },
            "outputs": [
                {
                    "data": {
                        "text/latex": "\\[\\tag{${\\it \\%o}_{74}$}1.9488\\]",
                        "text/plain": "(%o74)                              1.9488",
                        "text/x-maxima": "1.9488"
                    },
                    "execution_count": 36,
                    "metadata": {},
                    "output_type": "execute_result"
                },
                {
                    "data": {
                        "text/latex": "\\[\\tag{${\\it \\%o}_{75}$}2.490178559999999\\]",
                        "text/plain": "(%o75)                         2.490178559999999",
                        "text/x-maxima": "2.490178559999999"
                    },
                    "execution_count": 36,
                    "metadata": {},
                    "output_type": "execute_result"
                }
            ],
            "source": "at(MZ, [z=1]);\nat(DZ, [z=1]);"
        },
        {
            "cell_type": "markdown",
            "metadata": {},
            "source": "## \u0417\u0430\u0434\u0430\u043d\u0438\u0435 \u2116 2\n\u0427\u0442\u043e\u0431\u044b \u043f\u043e\u043d\u044f\u0442\u044c, \u043a\u0430\u043a\u0430\u044f \u0441\u0438\u0441\u0442\u0435\u043c\u0430 \u0432\u044b\u0433\u043e\u0434\u043d\u0435\u0435, \u0441\u043b\u0435\u0434\u0443\u0435\u0442 \u0432\u044b\u0447\u0438\u0441\u043b\u0438\u0442\u044c \u0445\u0430\u0440\u0430\u043a\u0442\u0435\u0440\u0438\u0441\u0442\u0438\u043a\u0438 \u0434\u043b\u044f \u043a\u0430\u0436\u0434\u043e\u0439 \u0438\u0437 \u0441\u0438\u0441\u0442\u0435\u043c.\n\n### \u0414\u043b\u044f $M/M/n/\\infty$\n\u041a\u043e\u043b\u0438\u0447\u0435\u0441\u0442\u0432\u043e \u043a\u0430\u043d\u0430\u043b\u043e\u0432: $n = 3$,\n\n\u0418\u043d\u0442\u0435\u043d\u0441\u0438\u0432\u043d\u043e\u0441\u0442\u044c: $\\lambda = 4$,\n\n\u0421\u0440\u0435\u0434\u043d\u0435\u0435 \u0432\u0440\u0435\u043c\u044f \u043e\u0431\u0441\u043b\u0443\u0436\u0438\u0432\u0430\u043d\u0438\u044f: $t = 0.5$, \u0441\u043b\u0435\u0434\u043e\u0432\u0430\u0442\u0435\u043b\u044c\u043d\u043e \u0438\u043d\u0442\u0435\u043d\u0441\u0438\u0432\u043d\u043e\u0441\u0442\u044c \u043e\u0431\u0441\u043b\u0443\u0436\u0438\u0432\u0430\u043d\u0438\u044f $\\mu = \\frac{1}{t} = 2$\n\n#### a) \u0421\u0440\u0435\u0434\u043d\u044f\u044f \u0434\u043b\u0438\u043d\u0430 \u043e\u0447\u0435\u0440\u0435\u0434\u0438\n$$\nL_{\\text{\u043e\u0447}}=\\frac{y^{n+1}}{n!\\cdot n}\\cdot P_0\\cdot \\frac{1}{(1-y/n)^2} \\\\\n$$\n\u0433\u0434\u0435\n$$\ny = \\frac{\\lambda}{\\mu} \\\\\nP_0=\\left(\\sum_{i=0}^n\\frac{y^i}{i!}+\\frac{y^{n+1}}{n!(n-y)}\\right)^{-1}\n$$"
        },
        {
            "cell_type": "code",
            "execution_count": 37,
            "metadata": {
                "trusted": true
            },
            "outputs": [
                {
                    "data": {
                        "text/latex": "\\[\\tag{${\\it \\%o}_{76}$}3\\]",
                        "text/plain": "(%o76)                                 3",
                        "text/x-maxima": "3"
                    },
                    "execution_count": 37,
                    "metadata": {},
                    "output_type": "execute_result"
                },
                {
                    "data": {
                        "text/latex": "\\[\\tag{${\\it \\%o}_{77}$}2\\]",
                        "text/plain": "(%o77)                                 2",
                        "text/x-maxima": "2"
                    },
                    "execution_count": 37,
                    "metadata": {},
                    "output_type": "execute_result"
                },
                {
                    "data": {
                        "text/latex": "\\[\\tag{${\\it \\%o}_{78}$}\\frac{1}{9}\\]",
                        "text/plain": "                                       1\n(%o78)                                 -\n                                       9",
                        "text/x-maxima": "1/9"
                    },
                    "execution_count": 37,
                    "metadata": {},
                    "output_type": "execute_result"
                }
            ],
            "source": "n: 3;\ny: 4 / 2;\nP0: (\n    sum(y^i / i!, i, 0, n) +\n    y^(n+1) / (n! * (n - y))\n)^-1;"
        },
        {
            "cell_type": "markdown",
            "metadata": {},
            "source": "\u0422\u043e\u0433\u0434\u0430 $L_{\\text{\u043e\u0447}}$:"
        },
        {
            "cell_type": "code",
            "execution_count": 38,
            "metadata": {
                "trusted": true
            },
            "outputs": [
                {
                    "data": {
                        "text/latex": "\\[\\tag{${\\it \\%o}_{79}$}\\frac{8}{9}\\]",
                        "text/plain": "                                       8\n(%o79)                                 -\n                                       9",
                        "text/x-maxima": "8/9"
                    },
                    "execution_count": 38,
                    "metadata": {},
                    "output_type": "execute_result"
                }
            ],
            "source": "L: y^(n+1) / (n!*n) * P0 * 1/(1 - y / n)^2;"
        },
        {
            "cell_type": "markdown",
            "metadata": {},
            "source": "#### \u0431) \u0421\u0440\u0435\u0434\u043d\u0435\u0435 \u0432\u0440\u0435\u043c\u044f \u043f\u0440\u0435\u0431\u044b\u0432\u0430\u043d\u0438\u044f \u0432 \u043e\u0447\u0435\u0440\u0435\u0434\u0438\n$$W_{\\text{\u043e\u0447}}=\\frac{L_{\\text{\u043e\u0447}}}{\\lambda}$$"
        },
        {
            "cell_type": "code",
            "execution_count": 39,
            "metadata": {
                "trusted": true
            },
            "outputs": [
                {
                    "data": {
                        "text/latex": "\\[\\tag{${\\it \\%o}_{80}$}4\\]",
                        "text/plain": "(%o80)                                 4",
                        "text/x-maxima": "4"
                    },
                    "execution_count": 39,
                    "metadata": {},
                    "output_type": "execute_result"
                },
                {
                    "data": {
                        "text/latex": "\\[\\tag{${\\it \\%o}_{81}$}\\frac{2}{9}\\]",
                        "text/plain": "                                       2\n(%o81)                                 -\n                                       9",
                        "text/x-maxima": "2/9"
                    },
                    "execution_count": 39,
                    "metadata": {},
                    "output_type": "execute_result"
                }
            ],
            "source": "a: 4;\nL / a;"
        },
        {
            "cell_type": "markdown",
            "metadata": {},
            "source": "#### \u0432) \u0421\u0440\u0435\u0434\u043d\u0435\u0435 \u0432\u0440\u0435\u043c\u044f \u043f\u0440\u0435\u0431\u044b\u0432\u0430\u043d\u0438\u044f \u0432 \u0421\u041c\u041e\n$$\nL_{\\text{\u0441\u0438\u0441\u0442}}=L_{\\text{\u043e\u0447}}+y \\\\\n$$"
        },
        {
            "cell_type": "code",
            "execution_count": 40,
            "metadata": {
                "trusted": true
            },
            "outputs": [
                {
                    "data": {
                        "text/latex": "\\[\\tag{${\\it \\%o}_{82}$}\\frac{26}{9}\\]",
                        "text/plain": "                                      26\n(%o82)                                --\n                                      9",
                        "text/x-maxima": "26/9"
                    },
                    "execution_count": 40,
                    "metadata": {},
                    "output_type": "execute_result"
                }
            ],
            "source": "Lsys: L + y;"
        },
        {
            "cell_type": "markdown",
            "metadata": {},
            "source": "\u0422\u043e\u0433\u0434\u0430 $W_{\\text{\u0441\u0438\u0441\u0442}}=\\frac{L_{\\text{\u0441\u0438\u0441\u0442}}}{\\lambda}$:"
        },
        {
            "cell_type": "code",
            "execution_count": 41,
            "metadata": {
                "trusted": true
            },
            "outputs": [
                {
                    "data": {
                        "text/latex": "\\[\\tag{${\\it \\%o}_{83}$}\\frac{13}{18}\\]",
                        "text/plain": "                                      13\n(%o83)                                --\n                                      18",
                        "text/x-maxima": "13/18"
                    },
                    "execution_count": 41,
                    "metadata": {},
                    "output_type": "execute_result"
                }
            ],
            "source": "Lsys / a;"
        },
        {
            "cell_type": "markdown",
            "metadata": {},
            "source": "### \u0414\u043b\u044f \u0421\u041c\u041e $M/M/1/\\infty$\n\u0412\u0440\u0435\u043c\u044f \u043e\u0431\u0441\u043b\u0443\u0436\u0438\u0432\u0430\u043d\u0438\u044f \u0432 \u0442\u0440\u0438 \u0440\u0430\u0437\u0430 \u043c\u0435\u043d\u044c\u0448\u0435, \u0441\u043b\u0435\u0434\u043e\u0432\u0430\u0442\u0435\u043b\u044c\u043d\u043e \u0438\u043d\u0442\u0435\u043d\u0441\u0438\u0432\u043d\u043e\u0441\u0442\u044c \u043e\u0431\u0441\u043b\u0443\u0436\u0438\u0432\u0430\u043d\u0438\u044f \u0432 \u0442\u0440\u0438 \u0440\u0430\u0437\u0430 \u0431\u043e\u043b\u044c\u0448\u0435:\n$$\n\\mu = 6\n$$\n\n#### a) \u0421\u0440\u0435\u0434\u043d\u044f\u044f \u0434\u043b\u0438\u043d\u0430 \u043e\u0447\u0435\u0440\u0435\u0434\u0438\n$$\nL_{\\text{\u043e\u0447}}=\\frac{y^2}{(1-y)}\n$$\n\u0433\u0434\u0435\n$$\ny = \\frac{\\lambda}{\\mu} \\\\\n$$"
        },
        {
            "cell_type": "code",
            "execution_count": 42,
            "metadata": {
                "trusted": true
            },
            "outputs": [
                {
                    "data": {
                        "text/latex": "\\[\\tag{${\\it \\%o}_{84}$}\\frac{2}{3}\\]",
                        "text/plain": "                                       2\n(%o84)                                 -\n                                       3",
                        "text/x-maxima": "2/3"
                    },
                    "execution_count": 42,
                    "metadata": {},
                    "output_type": "execute_result"
                }
            ],
            "source": "y: 4 / 6;"
        },
        {
            "cell_type": "markdown",
            "metadata": {},
            "source": "\u0422\u043e\u0433\u0434\u0430 $L_{\\text{\u043e\u0447}}$:"
        },
        {
            "cell_type": "code",
            "execution_count": 43,
            "metadata": {
                "trusted": true
            },
            "outputs": [
                {
                    "data": {
                        "text/latex": "\\[\\tag{${\\it \\%o}_{85}$}\\frac{4}{3}\\]",
                        "text/plain": "                                       4\n(%o85)                                 -\n                                       3",
                        "text/x-maxima": "4/3"
                    },
                    "execution_count": 43,
                    "metadata": {},
                    "output_type": "execute_result"
                }
            ],
            "source": "L: y^2/(1-y);"
        },
        {
            "cell_type": "markdown",
            "metadata": {},
            "source": "#### \u0431) \u0421\u0440\u0435\u0434\u043d\u0435\u0435 \u0432\u0440\u0435\u043c\u044f \u043f\u0440\u0435\u0431\u044b\u0432\u0430\u043d\u0438\u044f \u0432 \u043e\u0447\u0435\u0440\u0435\u0434\u0438\n$$W_{\\text{\u043e\u0447}}=\\frac{y^2}{\\lambda(1-y)}$$"
        },
        {
            "cell_type": "code",
            "execution_count": 44,
            "metadata": {
                "trusted": true
            },
            "outputs": [
                {
                    "data": {
                        "text/latex": "\\[\\tag{${\\it \\%o}_{86}$}\\frac{1}{3}\\]",
                        "text/plain": "                                       1\n(%o86)                                 -\n                                       3",
                        "text/x-maxima": "1/3"
                    },
                    "execution_count": 44,
                    "metadata": {},
                    "output_type": "execute_result"
                }
            ],
            "source": "y^2 / (a * (1 - y));"
        },
        {
            "cell_type": "markdown",
            "metadata": {},
            "source": "#### \u0432) \u0421\u0440\u0435\u0434\u043d\u0435\u0435 \u0432\u0440\u0435\u043c\u044f \u043f\u0440\u0435\u0431\u044b\u0432\u0430\u043d\u0438\u044f \u0432 \u0421\u041c\u041e\n$$\nW_{\\text{\u0441\u0438\u0441\u0442}}=\\frac{y}{\\lambda(1-y)}\n$$"
        },
        {
            "cell_type": "code",
            "execution_count": 45,
            "metadata": {
                "trusted": true
            },
            "outputs": [
                {
                    "data": {
                        "text/latex": "\\[\\tag{${\\it \\%o}_{87}$}\\frac{1}{2}\\]",
                        "text/plain": "                                       1\n(%o87)                                 -\n                                       2",
                        "text/x-maxima": "1/2"
                    },
                    "execution_count": 45,
                    "metadata": {},
                    "output_type": "execute_result"
                }
            ],
            "source": "y / (a * (1 - y));"
        },
        {
            "cell_type": "markdown",
            "metadata": {},
            "source": "## \u0421\u0440\u0430\u0432\u043d\u0438\u043c \u0421\u041c\u041e\na) \u041f\u0435\u0440\u0432\u0430\u044f \u0421\u041c\u041e \u0432\u044b\u0433\u043e\u0434\u043d\u0435\u0435, \u0442\u0430\u043a \u043a\u0430\u043a $\\frac{8}{9} < \\frac{4}{3}$\n\n\u0431) \u0412\u0442\u043e\u0440\u0430\u044f \u0421\u041c\u041e \u0432\u044b\u0433\u043e\u0434\u043d\u0435\u0435, \u0442\u0430\u043a \u043a\u0430\u043a $\\frac{2}{9} > \\frac{1}{3}$\n\n\u0432) \u0412\u0442\u043e\u0440\u0430\u044f \u0421\u041c\u041e \u0432\u044b\u0433\u043e\u0434\u043d\u0435\u0435, \u0442\u0430\u043a \u043a\u0430\u043a $\\frac{13}{18} > \\frac{1}{2}$"
        },
        {
            "cell_type": "markdown",
            "metadata": {},
            "source": "### \u0417\u0430\u0434\u0430\u043d\u0438\u0435 \u2116 3\n\u041f\u0435\u0440\u0435\u0447\u0438\u0441\u043b\u0438\u0438\u043c \u0441\u043e\u0441\u0442\u043e\u044f\u043d\u0438\u044f \u0421\u041c\u041e:\n- $P_0$ - \u0432\u0441\u0435 \u043a\u0430\u043d\u0430\u043b\u044b \u0441\u0432\u043e\u0431\u043e\u0434\u043d\u044b,\n- $P_1$ - \u043e\u0434\u0438\u043d \u043a\u0430\u043d\u0430\u043b \u0437\u0430\u043d\u044f\u0442,\n- $P_2$ - \u0434\u0432\u0430 \u043a\u0430\u043d\u0430\u043b\u0430 \u0437\u0430\u043d\u044f\u0442\u044b,\n- $P_3$ - \u0442\u0440\u0438 \u043a\u0430\u043d\u0430\u043b\u0430 \u0437\u0430\u043d\u044f\u0442\u044b,\n- $P_4$ - \u0442\u0440\u0438 \u043a\u0430\u043d\u0430\u043b\u0430 \u0437\u0430\u043d\u044f\u0442\u044b, 1 \u0432 \u043e\u0447\u0435\u0440\u0435\u0434\u0438;\n- $P_5$ - \u0442\u0440\u0438 \u043a\u0430\u043d\u0430\u043b\u0430 \u0437\u0430\u043d\u044f\u0442\u044b, 2 \u0432 \u043e\u0447\u0435\u0440\u0435\u0434\u0438;\n- ...\n- $P_{k+3}$ - \u0442\u0440\u0438 \u043a\u0430\u043d\u0430\u043b\u0430 \u0437\u0430\u043d\u044f\u0442\u044b, k \u0432 \u043e\u0447\u0435\u0440\u0435\u0434\u0438;"
        },
        {
            "cell_type": "markdown",
            "metadata": {},
            "source": "\u0422\u043e\u0433\u0434\u0430 \u0433\u0440\u0430\u0444:\n![](./Task3States1.png)"
        },
        {
            "cell_type": "markdown",
            "metadata": {},
            "source": "\u041a\u0430\u043a \u043c\u043e\u0436\u043d\u043e \u0437\u0430\u043c\u0435\u0442\u0438\u0442\u044c, \u0431\u0443\u0434\u0443\u0442 \u0440\u0430\u0431\u043e\u0442\u0430\u0442\u044c \u0442\u0435 \u0436\u0435 \u0444\u043e\u0440\u043c\u0443\u043b\u044b, \u0442\u043e \u0438 \u0432 \u0437\u0430\u0434\u0430\u043d\u0438\u0438 \u21162, \u0442\u043e\u043b\u044c\u043a\u043e $y = \\frac{\\lambda}{\\mu p}$"
        },
        {
            "cell_type": "markdown",
            "metadata": {},
            "source": "$$\nL_{\\text{\u043e\u0447}}=\\frac{y^{n+1}}{n!\\cdot n}\\cdot P_0\\cdot \\frac{1}{(1-y/n)^2} \\\\\n$$\n\u0433\u0434\u0435\n$$\ny = \\frac{\\lambda}{\\mu p} \\\\\nP_0=\\left(\\sum_{i=0}^n\\frac{y^i}{i!}+\\frac{y^{n+1}}{n!(n-y)}\\right)^{-1}\n$$"
        },
        {
            "cell_type": "markdown",
            "metadata": {},
            "source": "#### \u0421\u0440\u0435\u0434\u043d\u044f\u044f \u0434\u043b\u0438\u043d\u0430 \u043e\u0447\u0435\u0440\u0435\u0434\u0438"
        },
        {
            "cell_type": "code",
            "execution_count": 46,
            "metadata": {
                "trusted": true
            },
            "outputs": [
                {
                    "data": {
                        "text/latex": "\\[\\tag{${\\it \\%o}_{88}$}3\\]",
                        "text/plain": "(%o88)                                 3",
                        "text/x-maxima": "3"
                    },
                    "execution_count": 46,
                    "metadata": {},
                    "output_type": "execute_result"
                },
                {
                    "data": {
                        "text/latex": "\\[\\tag{${\\it \\%o}_{89}$}0.7\\]",
                        "text/plain": "(%o89)                                0.7",
                        "text/x-maxima": "0.7"
                    },
                    "execution_count": 46,
                    "metadata": {},
                    "output_type": "execute_result"
                },
                {
                    "data": {
                        "text/latex": "\\[\\tag{${\\it \\%o}_{90}$}0.8\\]",
                        "text/plain": "(%o90)                                0.8",
                        "text/x-maxima": "0.8"
                    },
                    "execution_count": 46,
                    "metadata": {},
                    "output_type": "execute_result"
                },
                {
                    "data": {
                        "text/latex": "\\[\\tag{${\\it \\%o}_{91}$}0.5\\]",
                        "text/plain": "(%o91)                                0.5",
                        "text/x-maxima": "0.5"
                    },
                    "execution_count": 46,
                    "metadata": {},
                    "output_type": "execute_result"
                },
                {
                    "data": {
                        "text/latex": "\\[\\tag{${\\it \\%o}_{92}$}1.75\\]",
                        "text/plain": "(%o92)                               1.75",
                        "text/x-maxima": "1.75"
                    },
                    "execution_count": 46,
                    "metadata": {},
                    "output_type": "execute_result"
                }
            ],
            "source": "n: 3;\na: 0.7;\nm: 0.8;\np: 0.5;\ny: a / m / p;"
        },
        {
            "cell_type": "code",
            "execution_count": 47,
            "metadata": {
                "trusted": true
            },
            "outputs": [
                {
                    "data": {
                        "text/latex": "\\[\\tag{${\\it \\%o}_{93}$}0.1556420233463035\\]",
                        "text/plain": "(%o93)                        0.1556420233463035",
                        "text/x-maxima": "0.1556420233463035"
                    },
                    "execution_count": 47,
                    "metadata": {},
                    "output_type": "execute_result"
                }
            ],
            "source": "P0: (\n    sum(y^i / i!, i, 0, n) +\n    y^(n+1) / (n! * (n - y))\n)^-1;"
        },
        {
            "cell_type": "markdown",
            "metadata": {},
            "source": "\u0422\u043e\u0433\u0434\u0430 $L_{\\text{\u043e\u0447}}$:"
        },
        {
            "cell_type": "code",
            "execution_count": 48,
            "metadata": {
                "trusted": true
            },
            "outputs": [
                {
                    "data": {
                        "text/latex": "\\[\\tag{${\\it \\%o}_{94}$}0.4671206225680931\\]",
                        "text/plain": "(%o94)                        0.4671206225680931",
                        "text/x-maxima": "0.4671206225680931"
                    },
                    "execution_count": 48,
                    "metadata": {},
                    "output_type": "execute_result"
                }
            ],
            "source": "L: y^(n+1) / (n!*n) * P0 * 1/(1 - y / n)^2;"
        },
        {
            "cell_type": "markdown",
            "metadata": {},
            "source": "#### \u0421\u0440\u0435\u0434\u043d\u0435\u0435 \u0432\u0440\u0435\u043c\u044f \u043f\u0440\u0435\u0431\u044b\u0432\u0430\u043d\u0438\u044f \u0432 \u043e\u0447\u0435\u0440\u0435\u0434\u0438\n$$W_{\\text{\u043e\u0447}}=\\frac{L_{\\text{\u043e\u0447}}}{\\lambda}$$"
        },
        {
            "cell_type": "code",
            "execution_count": 49,
            "metadata": {
                "trusted": true
            },
            "outputs": [
                {
                    "data": {
                        "text/latex": "\\[\\tag{${\\it \\%o}_{95}$}0.6673151750972759\\]",
                        "text/plain": "(%o95)                        0.6673151750972759",
                        "text/x-maxima": "0.6673151750972759"
                    },
                    "execution_count": 49,
                    "metadata": {},
                    "output_type": "execute_result"
                }
            ],
            "source": "W: L / a;"
        },
        {
            "cell_type": "markdown",
            "metadata": {},
            "source": "#### \u0421\u0440\u0435\u0434\u043d\u0435\u0435 \u0432\u0440\u0435\u043c\u044f \u043f\u0440\u0435\u0431\u044b\u0432\u0430\u043d\u0438\u044f \u0432 \u0421\u041c\u041e\n$$\nL_{\\text{\u0441\u0438\u0441\u0442}}=L_{\\text{\u043e\u0447}}+y \\\\\n$$"
        },
        {
            "cell_type": "code",
            "execution_count": 50,
            "metadata": {
                "trusted": true
            },
            "outputs": [
                {
                    "data": {
                        "text/latex": "\\[\\tag{${\\it \\%o}_{96}$}2.217120622568093\\]",
                        "text/plain": "(%o96)                         2.217120622568093",
                        "text/x-maxima": "2.217120622568093"
                    },
                    "execution_count": 50,
                    "metadata": {},
                    "output_type": "execute_result"
                }
            ],
            "source": "Lsys: L + y;"
        },
        {
            "cell_type": "markdown",
            "metadata": {},
            "source": "\u0422\u043e\u0433\u0434\u0430 $T_{\\text{\u0441\u0438\u0441\u0442}}=\\frac{L_{\\text{\u0441\u0438\u0441\u0442}}}{\\lambda}$:"
        },
        {
            "cell_type": "code",
            "execution_count": 51,
            "metadata": {
                "trusted": true
            },
            "outputs": [
                {
                    "data": {
                        "text/latex": "\\[\\tag{${\\it \\%o}_{97}$}3.167315175097275\\]",
                        "text/plain": "(%o97)                         3.167315175097275",
                        "text/x-maxima": "3.167315175097275"
                    },
                    "execution_count": 51,
                    "metadata": {},
                    "output_type": "execute_result"
                }
            ],
            "source": "Lsys / a;"
        },
        {
            "cell_type": "markdown",
            "metadata": {},
            "source": "#### \u0410\u0431\u0441\u043e\u043b\u044e\u0442\u043d\u0430\u044f \u043f\u0440\u043e\u043f\u0443\u0441\u043a\u043d\u0430\u044f \u0441\u043f\u043e\u0441\u043e\u0431\u043d\u043e\u0441\u0442\u044c\n$$\\lambda'=\\lambda\\cdot \\left(1-\\frac{y^n}{n!}\\cdot P_0\\right)$$"
        },
        {
            "cell_type": "code",
            "execution_count": 52,
            "metadata": {
                "trusted": true
            },
            "outputs": [
                {
                    "data": {
                        "text/latex": "\\[\\tag{${\\it \\%o}_{98}$}0.6026832036316472\\]",
                        "text/plain": "(%o98)                        0.6026832036316472",
                        "text/x-maxima": "0.6026832036316472"
                    },
                    "execution_count": 52,
                    "metadata": {},
                    "output_type": "execute_result"
                }
            ],
            "source": "a * (1 - y^n / n! * P0);"
        },
        {
            "cell_type": "markdown",
            "metadata": {},
            "source": "#### \u0421\u0440\u0435\u0434\u043d\u0435\u0435 \u0432\u0440\u0435\u043c\u044f \u043f\u0440\u0435\u0431\u044b\u0432\u0430\u043d\u0438\u044f \u0437\u0430\u044f\u0432\u043a\u0438 \u0432 \u0441\u0438\u0441\u0442\u0435\u043c\u0435\n$$\nT_{\\text{\u0441\u0438\u0441\u0442}}=W_{\\text{\u043e\u0447}}+\\frac{1}{\\mu}\n$$"
        },
        {
            "cell_type": "code",
            "execution_count": 53,
            "metadata": {
                "trusted": true
            },
            "outputs": [
                {
                    "data": {
                        "text/latex": "\\[\\tag{${\\it \\%o}_{99}$}1.917315175097276\\]",
                        "text/plain": "(%o99)                         1.917315175097276",
                        "text/x-maxima": "1.917315175097276"
                    },
                    "execution_count": 53,
                    "metadata": {},
                    "output_type": "execute_result"
                }
            ],
            "source": "W + 1 / m;"
        },
        {
            "cell_type": "markdown",
            "metadata": {},
            "source": "## \u0417\u0430\u0434\u0430\u043d\u0438\u0435 \u2116 4\n### \u0413\u0440\u0430\u0444 \u0441\u043e\u0441\u0442\u043e\u044f\u043d\u0438\u0439\n![](./Task4States.png)"
        },
        {
            "cell_type": "markdown",
            "metadata": {},
            "source": "\u0412\u044b\u0432\u0435\u0434\u0435\u043c \u0443\u0440\u0430\u0432\u043d\u0435\u043d\u0438\u044f \u041a\u043e\u043b\u043c\u043e\u0433\u043e\u0440\u043e\u0432\u0430 \u0438 \u0432\u044b\u043f\u043e\u043b\u043d\u0438\u043c \u043f\u0440\u0435\u043e\u0431\u0440\u0430\u0437\u043e\u0432\u0430\u043d\u0438\u044f \u041b\u0430\u043f\u043b\u0430\u0441\u0430:\n$$sP_{0}(s) - 1 = \\mu_{1}P_{1}(s) + \\mu_{2}P_{4}(s) - \\lambda_{1}P_{0}(s) - \\lambda_{2}P_{0}(s)$$ \n\n\n$$sP_{1}(s) = \\mu_{1}P_{2}(s) + \\mu_{2}P_{5}(s) + \\lambda_{1}P_{0}(s) - \\mu_{1}P_{1}(s) - \\lambda_{1}P_{1}(s)  - \\lambda_{2}P_{1}(s)$$\n\n\n$$sP_{2}(s) = \\mu_{1}P_{3}(s) + \\mu_{2}P_{6}(s) + \\lambda_{1}P_{1}(s) - \\mu_{1}P_{2}(s) - \\lambda_{1}P_{2}(s)  - \\lambda_{2}P_{2}(s)$$\n\n\n$$sP_{3}(s) = \\lambda_{1}P_{2}(s) + \\lambda_{1}P_{6}(s) - \\mu_{1}P_{3}(s)$$\n\n\n$$sP_{4}(s) = \\mu_{1}P_{5}(s) + \\mu_{2}P_{7}(s) + \\lambda_{2}P_{0}(s) - \\mu_{2}P_{4}(s) - \\lambda_{1}P_{4}(s)  - \\lambda_{2}P_{4}(s)$$\n\n\n$$sP_{5}(s) = \\mu_{1}P_{6}(s) + \\mu_{2}P_{8}(s) + \\lambda_{1}P_{4}(s) + \\lambda_{2}P_{1}(s) - \\mu_{2}P_{5}(s) - \\lambda_{1}P_{5}(s)  - \\lambda_{2}P_{5}(s) - \\mu_{1}P_{5}(s)$$\n\n\n$$sP_{6}(s) = \\lambda_{1}P_{5}(s) + \\lambda_{2}P_{2}(s) + \\lambda_{1}P_{8}(s) - \\mu_{2}P_{6}(s) - \\mu_{1}P_{6}(s) - \\lambda_{1}P_{6}(s) $$\n\n\n$$sP_{7}(s) = \\mu_{1}P_{8}(s) + \\mu_{2}P_{9}(s) + \\lambda_{2}P_{4}(s) - \\mu_{2}P_{7}(s) - \\lambda_{1}P_{7}(s)  - \\lambda_{2}P_{7}(s)$$\n\n\n$$sP_{8}(s) = \\lambda_{1}P_{7}(s) + \\lambda_{2}P_{5}(s) + \\lambda_{1}P_{9}(s) - \\mu_{2}P_{8}(s) - \\mu_{1}P_{8}(s) - \\lambda_{1}P_{8}(s) $$\n\n\n$$sP_{9}(s) = \\lambda_{2}P_{7}(s) - \\mu_{2}P_{9}(s) - \\lambda_{1}P_{9}(s)$$"
        },
        {
            "cell_type": "code",
            "execution_count": null,
            "metadata": {
                "trusted": true
            },
            "outputs": [],
            "source": "mu1: 1.3;\nmu2: 2.2;\nlambda1: 1.1;\nlambda2: 1.4;\ns: 0;\n\nsolution: float(solve(\n    [\n        P0+P1+P2+P3+P4+P5+P6+P7+P8+P9=1, \n        s*P1=mu1*P2 + mu2*P5 + lambda1*P0 - mu1*P1 - lambda1*P1 - lambda2*P1, \n        s*P2=mu1*P3 + mu2*P6 + lambda1*P1 - mu1*P2 - lambda1*P2 - lambda2*P2, \n        s*P3=lambda1*P2 + lambda1*P6 - mu1*P3, \n        s*P4=mu1*P5 + mu2*P7 + lambda2*P0 - mu2*P4 - lambda1*P4 - lambda2*P4, \n        s*P5=mu1*P6 + mu2*P8 + lambda1*P4 + lambda2*P1 - mu2*P5 - lambda1*P5 - lambda2*P5 - mu1*P5, \n        s*P6=lambda1*P5 + lambda2*P2 + lambda1*P8 - mu2*P6 - mu1*P6 - lambda1*P6, \n        s*P7=mu1*P8 + mu2*P9 + lambda2*P4 - mu2*P7 - lambda1*P7 - lambda2*P7, \n        s*P8=lambda1*P7 + lambda2*P5 + lambda1*P9 - mu2*P8 - mu1*P8 - lambda1*P8, \n        s*P9=lambda2*P7 - mu2*P9 - lambda1*P9\n    ],\n    [P0, P1, P2, P3, P4, P5, P6, P7, P8, P9]\n))[1];"
        },
        {
            "cell_type": "markdown",
            "metadata": {},
            "source": "\u0412\u0435\u0440\u043e\u044f\u0442\u043d\u043e\u0441\u0442\u044c \u043e\u0442\u043a\u0430\u0437\u0430 \u0432 \u043c\u043e\u043c\u0435\u043d\u0442 \u043f\u043e\u0441\u0442\u0443\u043f\u043b\u0435\u043d\u0438\u044f \u0437\u0430\u044f\u0432\u043a\u0438 1:"
        },
        {
            "cell_type": "code",
            "execution_count": 54,
            "metadata": {
                "trusted": true
            },
            "outputs": [
                {
                    "data": {
                        "text/latex": "\\[\\tag{${\\it \\%o}_{100}$}P_{3}=0.191235632183908\\]",
                        "text/plain": "(%o100)                     P3 = 0.191235632183908",
                        "text/x-maxima": "P3 = 0.191235632183908"
                    },
                    "execution_count": 54,
                    "metadata": {},
                    "output_type": "execute_result"
                }
            ],
            "source": "solution[4];"
        },
        {
            "cell_type": "markdown",
            "metadata": {},
            "source": "\u0412\u0435\u0440\u043e\u044f\u0442\u043d\u043e\u0441\u0442\u044c \u043e\u0442\u043a\u0430\u0437\u0430 \u0432 \u043c\u043e\u043c\u0435\u043d\u0442 \u043f\u043e\u0441\u0442\u0443\u043f\u043b\u0435\u043d\u0438\u044f \u0437\u0430\u044f\u0432\u043a\u0438 2:"
        },
        {
            "cell_type": "code",
            "execution_count": 55,
            "metadata": {
                "trusted": true
            },
            "outputs": [
                {
                    "data": {
                        "text/latex": "\\[\\tag{${\\it \\%o}_{101}$}P_{9}+P_{8}+P_{6}+P_{3}=0.3283949573349926\\]",
                        "text/plain": "(%o101)             P9 + P8 + P6 + P3 = 0.3283949573349926",
                        "text/x-maxima": "P9+P8+P6+P3 = 0.3283949573349926"
                    },
                    "execution_count": 55,
                    "metadata": {},
                    "output_type": "execute_result"
                }
            ],
            "source": "solution[4] + solution[7] + solution[9] + solution[10];"
        },
        {
            "cell_type": "markdown",
            "metadata": {},
            "source": "\u0421\u0440\u0435\u0434\u043d\u0435\u0435\u0435 \u0447\u0438\u0441\u043b\u043e \u043a\u0430\u043d\u0430\u043b\u043e\u0432, \u043e\u0431\u0441\u043b\u0443\u0436\u0438\u0432\u0430\u044e\u0449\u0438\u0445 \u0437\u0430\u0434\u0430\u0447\u0443 1:"
        },
        {
            "cell_type": "code",
            "execution_count": 56,
            "metadata": {
                "trusted": true
            },
            "outputs": [
                {
                    "data": {
                        "text/latex": "\\[\\tag{${\\it \\%o}_{102}$}2\\,\\left(P_{8}+P_{7}\\right)+P_{6}+P_{5}+3\\,P_{3}+P_{1}=1.054054648185498\\]",
                        "text/plain": "(%o102)      2 (P8 + P7) + P6 + P5 + 3 P3 + P1 = 1.054054648185498",
                        "text/x-maxima": "2*(P8+P7)+P6+P5+3*P3+P1 = 1.054054648185498"
                    },
                    "execution_count": 56,
                    "metadata": {},
                    "output_type": "execute_result"
                }
            ],
            "source": "solution[2] + solution[6] + solution[7] + 2 * (solution[8] + solution[9]) + 3 * solution[4];"
        },
        {
            "cell_type": "markdown",
            "metadata": {},
            "source": "\u0421\u0440\u0435\u0434\u043d\u0435\u0435\u0435 \u0447\u0438\u0441\u043b\u043e \u043a\u0430\u043d\u0430\u043b\u043e\u0432, \u043e\u0431\u0441\u043b\u0443\u0436\u0438\u0432\u0430\u044e\u0449\u0438\u0445 \u0437\u0430\u0434\u0430\u0447\u0443 2:"
        },
        {
            "cell_type": "code",
            "execution_count": 57,
            "metadata": {
                "trusted": true
            },
            "outputs": [
                {
                    "data": {
                        "text/latex": "\\[\\tag{${\\it \\%o}_{103}$}3\\,P_{9}+2\\,\\left(P_{8}+P_{7}\\right)+P_{6}+P_{5}+P_{4}=0.4894190971509617\\]",
                        "text/plain": "(%o103)     3 P9 + 2 (P8 + P7) + P6 + P5 + P4 = 0.4894190971509617",
                        "text/x-maxima": "3*P9+2*(P8+P7)+P6+P5+P4 = 0.4894190971509617"
                    },
                    "execution_count": 57,
                    "metadata": {},
                    "output_type": "execute_result"
                }
            ],
            "source": "solution[5] + solution[6] + solution[7] + 2 * (solution[8] + solution[9]) + 3 * solution[10];"
        },
        {
            "cell_type": "markdown",
            "metadata": {},
            "source": "\u0412\u0435\u0440\u043e\u044f\u0442\u043d\u043e\u0441\u0442\u044c \u043e\u0442\u043a\u0430\u0437\u0430:"
        },
        {
            "cell_type": "code",
            "execution_count": 58,
            "metadata": {
                "trusted": true
            },
            "outputs": [
                {
                    "data": {
                        "text/latex": "\\[\\tag{${\\it \\%o}_{104}$}0.5599999999999999\\,\\left(P_{9}+P_{8}+P_{6}+P_{3}\\right)+0.4400000000000001\\,P_{3}=0.2680448542685154\\]",
                        "text/plain": "(%o104) 0.5599999999999999 (P9 + P8 + P6 + P3) + 0.4400000000000001 P3 = \n                                                             0.2680448542685154",
                        "text/x-maxima": "0.5599999999999999*(P9+P8+P6+P3)+0.4400000000000001*P3 = 0.2680448542685154"
                    },
                    "execution_count": 58,
                    "metadata": {},
                    "output_type": "execute_result"
                }
            ],
            "source": "lambda1 / (lambda1 + lambda2) * solution[4] + \nlambda2 / (lambda1 + lambda2) * (solution[4] + solution[7] + solution[9] + solution[10]);"
        },
        {
            "cell_type": "markdown",
            "metadata": {},
            "source": "\u0421\u0440\u0435\u0434\u043d\u0435\u0435 \u0447\u0438\u0441\u043b\u043e \u043a\u0430\u043d\u0430\u043b\u043e\u0432, \u043e\u0431\u0441\u043b\u0443\u0436\u0438\u0432\u0430\u044e\u0449\u0438\u0445 \u0437\u0430\u0434\u0430\u0447\u0438:"
        },
        {
            "cell_type": "code",
            "execution_count": 59,
            "metadata": {
                "trusted": true
            },
            "outputs": [
                {
                    "data": {
                        "text/latex": "\\[\\tag{${\\it \\%o}_{105}$}3\\,\\left(P_{9}+P_{8}+P_{6}+P_{3}\\right)+2\\,\\left(P_{7}+P_{5}+P_{2}\\right)+P_{4}+P_{1}=1.782235189104985\\]",
                        "text/plain": "(%o105) 3 (P9 + P8 + P6 + P3) + 2 (P7 + P5 + P2) + P4 + P1 = 1.782235189104985",
                        "text/x-maxima": "3*(P9+P8+P6+P3)+2*(P7+P5+P2)+P4+P1 = 1.782235189104985"
                    },
                    "execution_count": 59,
                    "metadata": {},
                    "output_type": "execute_result"
                }
            ],
            "source": "solution[5] + solution[2] + 2 * (solution[3] + solution[6] + solution[8]) + 3 * (solution[4] + solution[7] + solution[9] + solution[10]);"
        },
        {
            "cell_type": "markdown",
            "metadata": {},
            "source": "\u0421\u0440\u0435\u0434\u043d\u0435\u0435 \u0447\u0438\u0441\u043b\u043e \u0437\u0430\u044f\u0432\u043e\u043a 1 \u0438 2 \u0438 \u0434\u043b\u044f \u0441\u0438\u0441\u0442\u0435\u043c\u044b \u0432 \u0446\u0435\u043b\u043e\u043c \u0440\u0430\u0432\u043d\u043e \u0441\u0440\u0435\u0434\u043d\u0435\u043c\u0443 \u0447\u0438\u0441\u043b\u0443 \u043a\u0430\u043d\u0430\u043b\u043e\u0432 1 \u0438 2 \u0438 \u0441\u0438\u0441\u0442\u0435\u043c\u044b \u0432 \u0446\u0435\u043b\u043e\u043c, \u0442\u0430\u043a \u043a\u0430\u043a \u043e\u0447\u0435\u0440\u0435\u0434\u044c \u043e\u0442\u0441\u0443\u0442\u0441\u0432\u0443\u0435\u0442."
        }
    ],
    "metadata": {
        "kernelspec": {
            "display_name": "Maxima",
            "language": "maxima",
            "name": "maxima"
        },
        "language_info": {
            "codemirror_mode": "maxima",
            "file_extension": ".mac",
            "mimetype": "text/x-maxima",
            "name": "maxima",
            "pygments_lexer": "maxima",
            "version": "5.46.0"
        }
    },
    "nbformat": 4,
    "nbformat_minor": 5
}