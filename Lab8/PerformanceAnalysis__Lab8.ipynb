{
    "cells": [
        {
            "cell_type": "markdown",
            "metadata": {},
            "source": "# \u041b\u0430\u0431\u043e\u0440\u0430\u0442\u043e\u0440\u043d\u0430\u044f \u0440\u0430\u0431\u043e\u0442\u0430 8. \u0410\u043d\u0430\u043b\u0438\u0437 \u043e\u0434\u043d\u043e\u043a\u0430\u043d\u0430\u043b\u044c\u043d\u043e\u0439 \u0441\u0438\u0441\u0442\u0435\u043c\u044b \u043c\u0430\u0441\u0441\u043e\u0432\u043e\u0433\u043e \u043e\u0431\u0441\u043b\u0443\u0436\u0438\u0432\u0430\u043d\u0438\u044f \u0441 \u0443\u0447\u0435\u0442\u043e\u043c \u043f\u0440\u0438\u043e\u0440\u0438\u0442\u0435\u0442\u0430 \u0437\u0430\u044f\u0432\u043e\u043a\n\u0412\u044b\u043f\u043e\u043b\u043d\u0438\u043b \u0441\u0442\u0443\u0434\u0435\u043d\u0442 \u0420\u04225-81\u0411 \u041f\u0430\u043a\u0430\u043b\u043e \u0410\u043b\u0435\u043a\u0441\u0430\u043d\u0434\u0440 \u0421\u0435\u0440\u0433\u0435\u0435\u0432\u0438\u0447"
        },
        {
            "cell_type": "markdown",
            "metadata": {},
            "source": "\u0417\u0430\u0434\u0430\u043d\u0438\u0435 1.\n\u0421\u0438\u0441\u0442\u0435\u043c\u0430 \u044d\u043b\u0435\u043a\u0442\u0440\u043e\u043d\u043d\u043e\u0433\u043e \u0434\u043e\u043a\u0443\u043c\u0435\u043d\u0442\u043e\u043e\u0431\u043e\u0440\u043e\u0442\u0430 \u0441 \u0430\u0432\u0442\u043e\u043c\u0430\u0442\u0438\u0447\u0435\u0441\u043a\u0438\u043c \u043a\u043b\u0430\u0441\u0441\u0438\u0444\u0438\u043a\u0430\u0442\u043e\u0440\u043e\u043c\n\u043f\u043e\u0441\u0442\u0443\u043f\u0430\u044e\u0449\u0435\u0439 \u043a\u043e\u0440\u0440\u0435\u0441\u043f\u043e\u043d\u0434\u0435\u043d\u0446\u0438\u0438 \u0434\u043e\u043b\u0436\u043d\u0430 \u0443\u0447\u0438\u0442\u044b\u0432\u0430\u0442\u044c \u0440\u0430\u0437\u043b\u0438\u0447\u043d\u0443\u044e \u0432\u0430\u0436\u043d\u043e\u0441\u0442\u044c \u0434\u043e\u043a\u0443\u043c\u0435\u043d\u0442\u043e\u0432,\n\u043a\u043e\u043b\u0438\u0447\u0435\u0441\u0442\u0432\u043e \u0442\u0438\u043f\u043e\u0432 \u0434\u043e\u043a\u0443\u043c\u0435\u043d\u0442\u043e\u0432 $P$,\n\u0441\u0440\u0435\u0434\u043d\u044f\u044f \u0438\u043d\u0442\u0435\u043d\u0441\u0438\u0432\u043d\u043e\u0441\u0442\u044c \u043f\u043e\u0441\u0442\u0443\u043f\u043b\u0435\u043d\u0438\u044f \u0437\u0430\u044f\u0432\u043e\u043a\n$\\lambda_1, \\lambda_2, \\dots, \\lambda_P$,\n\u0441\u0440\u0435\u0434\u043d\u044f\u044f \u0438\u043d\u0442\u0435\u043d\u0441\u0438\u0432\u043d\u043e\u0441\u0442\u044c \u043e\u0431\u0441\u043b\u0443\u0436\u0438\u0432\u0430\u043d\u0438\u044f\n$\\mu_1, \\mu_2, \\dots, \\mu_P$ \u0441\u043e\u043e\u0442\u0432\u0435\u0442\u0441\u0442\u0432\u0435\u043d\u043d\u043e, \u043e\u0447\u0435\u0440\u0435\u0434\u044c \u043d\u0435\u043e\u0433\u0440\u0430\u043d\u0438\u0447\u0435\u043d\u0430.\n\u041f\u0440\u0438\u043e\u0440\u0438\u0442\u0435\u0442\u044b \u0437\u0430\u044f\u0432\u043e\u043a\n$p_1 < p_2 < \\dots < p_P$.\n\n\u041e\u0446\u0435\u043d\u0438\u0442\u044c \u0441\u0440\u0435\u0434\u043d\u0435\u0435 \u0432\u0440\u0435\u043c\u044f \u043d\u0430\u0445\u043e\u0436\u0434\u0435\u043d\u0438\u044f \u043a\u0430\u0436\u0434\u043e\u0433\u043e \u0442\u0438\u043f\u0430 \u0437\u0430\u044f\u0432\u043a\u0438 \u0432 \u043e\u0447\u0435\u0440\u0435\u0434\u0438 (\u0442\u0435\u043e\u0440\u0435\u0442\u0438\u0447\u0435\u0441\u043a\u0438\n\u0438 \u044d\u043a\u0441\u043f\u0435\u0440\u0438\u043c\u0435\u043d\u0442\u0430\u043b\u044c\u043d\u043e) \u0434\u043b\u044f \u043e\u0434\u043d\u043e\u0433\u043e \u0438\u0437 4 \u0441\u043b\u0443\u0447\u0430\u0435\u0432:\n\n- \u043e\u0442\u043d\u043e\u0441\u0438\u0442\u0435\u043b\u044c\u043d\u044b\u0439 \u0444\u0438\u043a\u0441\u0438\u0440\u043e\u0432\u0430\u043d\u043d\u044b\u0439 \u043f\u0440\u0438\u043e\u0440\u0438\u0442\u0435\u0442 (V1);\n- \u0430\u0431\u0441\u043e\u043b\u044e\u0442\u043d\u044b\u0439 \u0444\u0438\u043a\u0441\u0438\u0440\u043e\u0432\u0430\u043d\u043d\u044b\u0439 \u043f\u0440\u0438\u043e\u0440\u0438\u0442\u0435\u0442 (V2);\n- \u043f\u0440\u0438\u043e\u0440\u0438\u0442\u0435\u0442 \u0441 \u0437\u0430\u0432\u0438\u0441\u0438\u043c\u043e\u0439 \u0437\u0430\u0434\u0435\u0440\u0436\u043a\u043e\u0439 \u0431\u0435\u0437 \u043f\u0440\u0435\u0440\u044b\u0432\u0430\u043d\u0438\u044f (V3);\n- \u043f\u0440\u0438\u043e\u0440\u0438\u0442\u0435\u0442 \u0441 \u0437\u0430\u0432\u0438\u0441\u0438\u043c\u043e\u0439 \u0437\u0430\u0434\u0435\u0440\u0436\u043a\u043e\u0439 \u0441 \u043f\u0440\u0435\u0440\u044b\u0432\u0430\u043d\u0438\u044f\u043c\u0438 (V4);\n\n\u0432 \u0441\u043e\u043e\u0442\u0432\u0435\u0442\u0441\u0442\u0432\u0438\u0438 \u0441 \u0432\u0430\u0440\u0438\u0430\u043d\u0442\u043e\u043c."
        },
        {
            "cell_type": "code",
            "execution_count": 1,
            "metadata": {
                "trusted": true
            },
            "outputs": [
                {
                    "data": {
                        "text/html": "<table class=\"dataframe\">\n<caption>A data.frame: 1 \u00d7 2</caption>\n<thead>\n\t<tr><th scope=col>P</th><th scope=col>V</th></tr>\n\t<tr><th scope=col>&lt;dbl&gt;</th><th scope=col>&lt;chr&gt;</th></tr>\n</thead>\n<tbody>\n\t<tr><td>4</td><td>V2</td></tr>\n</tbody>\n</table>\n",
                        "text/latex": "A data.frame: 1 \u00d7 2\n\\begin{tabular}{ll}\n P & V\\\\\n <dbl> & <chr>\\\\\n\\hline\n\t 4 & V2\\\\\n\\end{tabular}\n",
                        "text/markdown": "\nA data.frame: 1 \u00d7 2\n\n| P &lt;dbl&gt; | V &lt;chr&gt; |\n|---|---|\n| 4 | V2 |\n\n",
                        "text/plain": "  P V \n1 4 V2"
                    },
                    "metadata": {},
                    "output_type": "display_data"
                },
                {
                    "data": {
                        "text/html": "<table class=\"dataframe\">\n<caption>A data.frame: 4 \u00d7 2</caption>\n<thead>\n\t<tr><th scope=col>lambda</th><th scope=col>mu</th></tr>\n\t<tr><th scope=col>&lt;dbl&gt;</th><th scope=col>&lt;dbl&gt;</th></tr>\n</thead>\n<tbody>\n\t<tr><td>0.9168758</td><td>2.055920</td></tr>\n\t<tr><td>0.2843995</td><td>2.615870</td></tr>\n\t<tr><td>0.1046501</td><td>2.913000</td></tr>\n\t<tr><td>0.7010575</td><td>1.220906</td></tr>\n</tbody>\n</table>\n",
                        "text/latex": "A data.frame: 4 \u00d7 2\n\\begin{tabular}{ll}\n lambda & mu\\\\\n <dbl> & <dbl>\\\\\n\\hline\n\t 0.9168758 & 2.055920\\\\\n\t 0.2843995 & 2.615870\\\\\n\t 0.1046501 & 2.913000\\\\\n\t 0.7010575 & 1.220906\\\\\n\\end{tabular}\n",
                        "text/markdown": "\nA data.frame: 4 \u00d7 2\n\n| lambda &lt;dbl&gt; | mu &lt;dbl&gt; |\n|---|---|\n| 0.9168758 | 2.055920 |\n| 0.2843995 | 2.615870 |\n| 0.1046501 | 2.913000 |\n| 0.7010575 | 1.220906 |\n\n",
                        "text/plain": "  lambda    mu      \n1 0.9168758 2.055920\n2 0.2843995 2.615870\n3 0.1046501 2.913000\n4 0.7010575 1.220906"
                    },
                    "metadata": {},
                    "output_type": "display_data"
                }
            ],
            "source": "Variant <- 5\nset.seed(Variant)\nV <- sample(c(\"V1\", \"V2\", \"V3\", \"V4\"), 1)\nP <- sample(c(4, 6), 1)\nif ((V == \"V3\") | (V == \"V4\")) {\n    b <- sort(sample(c(1:10), P))\n}\nlambda <- runif(P)\nmu <- runif(P, 1, 3)\nView(data.frame(P, V))\nif ((V == \"V3\") | (V == \"V4\")) {\n    View(data.frame(lambda, mu, b))\n}\nif ((V == \"V1\") | (V == \"V2\")) {\n    View(data.frame(lambda, mu))\n}"
        },
        {
            "cell_type": "code",
            "execution_count": 2,
            "metadata": {
                "trusted": true
            },
            "outputs": [
                {
                    "data": {
                        "text/html": "1.16482541267779",
                        "text/latex": "1.16482541267779",
                        "text/markdown": "1.16482541267779",
                        "text/plain": "[1] 1.164825"
                    },
                    "metadata": {},
                    "output_type": "display_data"
                }
            ],
            "source": "sum(lambda / mu)"
        },
        {
            "cell_type": "markdown",
            "metadata": {},
            "source": "\u041a\u0430\u043a \u0432\u0438\u0434\u043d\u043e, \u0441\u0443\u043c\u043c\u0430\u0440\u043d\u0430\u044f \u043d\u0430\u0433\u0440\u0443\u0437\u043a\u0430 \u043d\u0430 \u0441\u0438\u0441\u0442\u0435\u043c\u0443 \u043f\u0440\u0435\u0432\u044b\u0448\u0430\u0435\u0442 1, \u0441\u043b\u0435\u0434\u043e\u0432\u0430\u0442\u0435\u043b\u044c\u043d\u043e \u0431\u0443\u0434\u0435\u0442\n\u043d\u0430\u043a\u0430\u043f\u043b\u0438\u0432\u0430\u0442\u044c\u0441\u044f \u0431\u0435\u0441\u043a\u043e\u043d\u0435\u0447\u043d\u0430\u044f \u043e\u0447\u0435\u0440\u0435\u0434\u044c. \u041d\u0435\u043c\u043d\u043e\u0433\u043e \u0438\u0437\u043c\u0435\u043d\u0438\u043c\n\u0438\u0441\u0445\u043e\u0434\u043d\u044b\u0435 \u0434\u0430\u043d\u043d\u044b\u0435."
        },
        {
            "cell_type": "code",
            "execution_count": 3,
            "metadata": {
                "trusted": true
            },
            "outputs": [
                {
                    "data": {
                        "text/html": "0.697004245023187",
                        "text/latex": "0.697004245023187",
                        "text/markdown": "0.697004245023187",
                        "text/plain": "[1] 0.6970042"
                    },
                    "metadata": {},
                    "output_type": "display_data"
                }
            ],
            "source": "lambda[1] <- 0.1\nlambda[2] <- 0.1\nro <- sum(lambda / mu)\nro"
        },
        {
            "cell_type": "markdown",
            "metadata": {},
            "source": "### \u0422\u0435\u043e\u0440\u0435\u0442\u0438\u0447\u0435\u0441\u043a\u0438\n$$\\lambda=\\sum_{p=1}^P\\lambda_p$$"
        },
        {
            "cell_type": "code",
            "execution_count": 4,
            "metadata": {
                "trusted": true
            },
            "outputs": [
                {
                    "data": {
                        "text/html": "1.00570758716203",
                        "text/latex": "1.00570758716203",
                        "text/markdown": "1.00570758716203",
                        "text/plain": "[1] 1.005708"
                    },
                    "metadata": {},
                    "output_type": "display_data"
                }
            ],
            "source": "lambda_ <- sum(lambda)\nlambda_"
        },
        {
            "cell_type": "markdown",
            "metadata": {},
            "source": "$$\\frac{1}{\\mu}=\\sum_{p=1}^P \\frac{\\lambda_p}{\\lambda}\\cdot \\frac{1}{\\mu_p}$$"
        },
        {
            "cell_type": "code",
            "execution_count": 5,
            "metadata": {
                "trusted": true
            },
            "outputs": [
                {
                    "data": {
                        "text/html": "0.700982457503963",
                        "text/latex": "0.700982457503963",
                        "text/markdown": "0.700982457503963",
                        "text/plain": "[1] 0.7009825"
                    },
                    "metadata": {},
                    "output_type": "display_data"
                }
            ],
            "source": "ro <- lambda / mu\n\nmu_ <- lambda_ * sum(ro)\nmu_"
        },
        {
            "cell_type": "markdown",
            "metadata": {},
            "source": "$$\\rho=\\frac{\\lambda}{\\mu}$$"
        },
        {
            "cell_type": "code",
            "execution_count": 6,
            "metadata": {
                "trusted": true
            },
            "outputs": [
                {
                    "data": {
                        "text/html": "1.43471149155875",
                        "text/latex": "1.43471149155875",
                        "text/markdown": "1.43471149155875",
                        "text/plain": "[1] 1.434711"
                    },
                    "metadata": {},
                    "output_type": "display_data"
                }
            ],
            "source": "ro_ <- lambda_ / mu_\nro_"
        },
        {
            "cell_type": "markdown",
            "metadata": {},
            "source": "$$W_0=\\sum_{p=1}^P\\frac{\\rho_p}{\\mu_p}$$"
        },
        {
            "cell_type": "code",
            "execution_count": 7,
            "metadata": {
                "trusted": true
            },
            "outputs": [
                {
                    "data": {
                        "text/html": "0.52092051124021",
                        "text/latex": "0.52092051124021",
                        "text/markdown": "0.52092051124021",
                        "text/plain": "[1] 0.5209205"
                    },
                    "metadata": {},
                    "output_type": "display_data"
                }
            ],
            "source": "W0 <- sum(ro / mu)\nW0"
        },
        {
            "cell_type": "markdown",
            "metadata": {},
            "source": "\u0414\u043b\u044f \u043f\u043e\u043b\u0443\u0447\u0435\u043d\u0438\u044f $W_p$ \u0432\u043e\u0441\u043f\u043e\u043b\u044c\u0437\u0443\u0435\u043c\u0441\u044f \u0444\u043e\u0440\u043c\u0443\u043b\u043e\u0439\n\n$$W_p= \\frac{\\frac{\\rho_p}{\\mu_p}+\\sum_{i=p+1}^P \\rho_i\\cdot \\left(\\frac{1}{\\mu_p}+\\frac{1}{\\mu_i}\\right)+\\sum_{i=p+1}^P\\rho_i\\cdot W_i}{1-\\sum_{i=p}^P \\rho_i}$$"
        },
        {
            "cell_type": "code",
            "execution_count": 8,
            "metadata": {
                "trusted": true
            },
            "outputs": [
                {
                    "data": {
                        "text/html": "<table class=\"dataframe\">\n<caption>A data.frame: 4 \u00d7 1</caption>\n<thead>\n\t<tr><th></th><th scope=col>theoretical</th></tr>\n\t<tr><th></th><th scope=col>&lt;dbl&gt;</th></tr>\n</thead>\n<tbody>\n\t<tr><th scope=row>1</th><td>5.786096</td></tr>\n\t<tr><th scope=row>2</th><td>4.225534</td></tr>\n\t<tr><th scope=row>3</th><td>3.370473</td></tr>\n\t<tr><th scope=row>4</th><td>1.104573</td></tr>\n</tbody>\n</table>\n",
                        "text/latex": "A data.frame: 4 \u00d7 1\n\\begin{tabular}{r|l}\n  & theoretical\\\\\n  & <dbl>\\\\\n\\hline\n\t1 & 5.786096\\\\\n\t2 & 4.225534\\\\\n\t3 & 3.370473\\\\\n\t4 & 1.104573\\\\\n\\end{tabular}\n",
                        "text/markdown": "\nA data.frame: 4 \u00d7 1\n\n| <!--/--> | theoretical &lt;dbl&gt; |\n|---|---|\n| 1 | 5.786096 |\n| 2 | 4.225534 |\n| 3 | 3.370473 |\n| 4 | 1.104573 |\n\n",
                        "text/plain": "  theoretical\n1 5.786096   \n2 4.225534   \n3 3.370473   \n4 1.104573   "
                    },
                    "metadata": {},
                    "output_type": "display_data"
                }
            ],
            "source": "get_Wqueue <- function(p) {\n    num <- ro[p] / mu[p]\n    den <- 1 - sum(ro[p:P])\n\n    if (p == P) {\n        return(num / den)\n    }\n\n\n    add1 <- sum(unlist(lapply(c((p + 1):P), function(i) ro[i] * (1 / mu[p] + 1 / mu[i]))))\n    add2 <- sum(unlist(lapply(c((p + 1):P), function(i) ro[i] * get_Wqueue(i))))\n\n    result <- (num + add1 + add2) / den\n\n    if (result < 0) {\n        return(Inf)\n    }\n\n    return(result)\n}\n\nresults <- data.frame(theoretical = unlist(lapply(1:P, get_Wqueue)))\nrow.names(results) <- 1:P\nresults"
        },
        {
            "cell_type": "markdown",
            "metadata": {},
            "source": "### \u0427\u0438\u0441\u043b\u0435\u043d\u043d\u043e"
        },
        {
            "cell_type": "code",
            "execution_count": 41,
            "metadata": {
                "trusted": true
            },
            "outputs": [
                {
                    "data": {
                        "text/plain": "simmer environment: SuperDuperSim | now: 0 | next: \n{ Monitor: in memory }"
                    },
                    "metadata": {},
                    "output_type": "display_data"
                }
            ],
            "source": "if (!require(\"simmer\")) {\n    install.packages(\"simmer\")\n}\nlibrary(simmer)\n\nenv <- simmer(\"SuperDuperSim\")\nenv"
        },
        {
            "cell_type": "code",
            "execution_count": 60,
            "metadata": {
                "trusted": true
            },
            "outputs": [],
            "source": "create_trajectory <- function(mu, name) {\n    return(trajectory(name) %>%\n        seize(\"server\", 1) %>%\n        timeout(function() rexp(1, mu)) %>%\n        release(\"server\", 1))\n}\n\ncreate_application_generator <- function(env, i) {\n    name <- gsub(\" \", \"\", paste(\"documents\", i))\n\n    env %>%\n        add_generator(\n            name_prefix = name,\n            trajectory = create_trajectory(mu[i], name),\n            distribution = function() rexp(1, lambda[i]),\n            priority = i,\n            preemptible = i + 1,\n        )\n}\n\nadd_generators <- function(env, n) {\n    for (i in 1:n) {\n        create_application_generator(env, i)\n    }\n}"
        },
        {
            "cell_type": "code",
            "execution_count": 43,
            "metadata": {
                "trusted": true
            },
            "outputs": [
                {
                    "data": {
                        "text/plain": "simmer environment: SuperDuperSim | now: 0 | next: \n{ Monitor: in memory }\n{ Resource: server | monitored: TRUE | server status: 0(1) | queue status: 0(Inf) }"
                    },
                    "metadata": {},
                    "output_type": "display_data"
                },
                {
                    "data": {
                        "text/plain": "simmer environment: SuperDuperSim | now: 10000 | next: 10000.2148647009\n{ Monitor: in memory }\n{ Resource: server | monitored: TRUE | server status: 0(1) | queue status: 0(Inf) }\n{ Source: Generator1_ | monitored: 1 | n_generated: 1047 }\n{ Source: Generator2_ | monitored: 1 | n_generated: 949 }\n{ Source: Generator3_ | monitored: 1 | n_generated: 1012 }\n{ Source: Generator4_ | monitored: 1 | n_generated: 7001 }"
                    },
                    "metadata": {},
                    "output_type": "display_data"
                }
            ],
            "source": "SIMULATION_TIME <- 10000\n\nenv %>%\n    add_resource(\"server\", preemptive = TRUE)\n\nadd_generators(env, P)\n\nenv %>% run(until = SIMULATION_TIME)"
        },
        {
            "cell_type": "code",
            "execution_count": 44,
            "metadata": {
                "trusted": true
            },
            "outputs": [],
            "source": "programmers <- trajectory(\"programmers' path\") %>%\n    ## add an intake activity\n    seize(\"server\", 1) %>%\n    timeout(function() rexp(1, 1 / t2)) %>%\n    release(\"server\", 1)"
        },
        {
            "cell_type": "code",
            "execution_count": 45,
            "metadata": {
                "trusted": true
            },
            "outputs": [
                {
                    "data": {
                        "text/html": "<table class=\"dataframe\">\n<caption>A data.frame: 10009 \u00d7 6</caption>\n<thead>\n\t<tr><th scope=col>name</th><th scope=col>start_time</th><th scope=col>end_time</th><th scope=col>activity_time</th><th scope=col>finished</th><th scope=col>replication</th></tr>\n\t<tr><th scope=col>&lt;chr&gt;</th><th scope=col>&lt;dbl&gt;</th><th scope=col>&lt;dbl&gt;</th><th scope=col>&lt;dbl&gt;</th><th scope=col>&lt;lgl&gt;</th><th scope=col>&lt;int&gt;</th></tr>\n</thead>\n<tbody>\n\t<tr><td>Generator4_0 </td><td> 0.7443853</td><td> 1.279765</td><td>0.53537991</td><td>TRUE</td><td>1</td></tr>\n\t<tr><td>Generator1_0 </td><td> 2.8573548</td><td> 4.594245</td><td>1.73689045</td><td>TRUE</td><td>1</td></tr>\n\t<tr><td>Generator1_1 </td><td> 4.1741940</td><td> 5.583334</td><td>0.98908923</td><td>TRUE</td><td>1</td></tr>\n\t<tr><td>Generator3_0 </td><td> 5.8921775</td><td> 5.927455</td><td>0.03527737</td><td>TRUE</td><td>1</td></tr>\n\t<tr><td>Generator4_1 </td><td> 7.9792124</td><td> 8.564903</td><td>0.58569086</td><td>TRUE</td><td>1</td></tr>\n\t<tr><td>Generator4_2 </td><td> 8.1434113</td><td> 8.582243</td><td>0.01733983</td><td>TRUE</td><td>1</td></tr>\n\t<tr><td>Generator3_1 </td><td> 8.5107356</td><td> 9.190093</td><td>0.60785018</td><td>TRUE</td><td>1</td></tr>\n\t<tr><td>Generator1_2 </td><td> 9.1699556</td><td> 9.680157</td><td>0.49006382</td><td>TRUE</td><td>1</td></tr>\n\t<tr><td>Generator4_3 </td><td> 9.9996312</td><td>10.274713</td><td>0.27508225</td><td>TRUE</td><td>1</td></tr>\n\t<tr><td>Generator3_2 </td><td>12.3101375</td><td>12.652634</td><td>0.34249646</td><td>TRUE</td><td>1</td></tr>\n\t<tr><td>Generator4_4 </td><td>12.9148821</td><td>12.945463</td><td>0.03058097</td><td>TRUE</td><td>1</td></tr>\n\t<tr><td>Generator4_5 </td><td>13.0831010</td><td>13.214863</td><td>0.13176231</td><td>TRUE</td><td>1</td></tr>\n\t<tr><td>Generator4_6 </td><td>15.2083833</td><td>15.592342</td><td>0.38395817</td><td>TRUE</td><td>1</td></tr>\n\t<tr><td>Generator4_7 </td><td>16.8650708</td><td>17.405987</td><td>0.54091608</td><td>TRUE</td><td>1</td></tr>\n\t<tr><td>Generator4_8 </td><td>17.7465680</td><td>18.123710</td><td>0.37714238</td><td>TRUE</td><td>1</td></tr>\n\t<tr><td>Generator4_9 </td><td>19.1865908</td><td>19.537102</td><td>0.35051148</td><td>TRUE</td><td>1</td></tr>\n\t<tr><td>Generator4_10</td><td>19.7862493</td><td>21.492538</td><td>1.70628866</td><td>TRUE</td><td>1</td></tr>\n\t<tr><td>Generator4_11</td><td>19.9386945</td><td>22.828286</td><td>1.33574819</td><td>TRUE</td><td>1</td></tr>\n\t<tr><td>Generator4_12</td><td>20.6692868</td><td>24.234865</td><td>1.40657903</td><td>TRUE</td><td>1</td></tr>\n\t<tr><td>Generator4_13</td><td>23.2286064</td><td>25.814244</td><td>1.57937864</td><td>TRUE</td><td>1</td></tr>\n\t<tr><td>Generator4_14</td><td>25.5394083</td><td>26.197970</td><td>0.38372572</td><td>TRUE</td><td>1</td></tr>\n\t<tr><td>Generator3_3 </td><td>20.9912044</td><td>26.450842</td><td>0.25287281</td><td>TRUE</td><td>1</td></tr>\n\t<tr><td>Generator4_15</td><td>26.2682710</td><td>26.843449</td><td>0.39260662</td><td>TRUE</td><td>1</td></tr>\n\t<tr><td>Generator1_3 </td><td>19.1361338</td><td>26.896563</td><td>0.35271801</td><td>TRUE</td><td>1</td></tr>\n\t<tr><td>Generator2_0 </td><td>20.5676050</td><td>27.416645</td><td>0.52008166</td><td>TRUE</td><td>1</td></tr>\n\t<tr><td>Generator2_1 </td><td>22.9668339</td><td>27.431849</td><td>0.01520439</td><td>TRUE</td><td>1</td></tr>\n\t<tr><td>Generator4_16</td><td>27.5237342</td><td>27.781750</td><td>0.25801576</td><td>TRUE</td><td>1</td></tr>\n\t<tr><td>Generator1_4 </td><td>24.2503199</td><td>28.139795</td><td>0.44992981</td><td>TRUE</td><td>1</td></tr>\n\t<tr><td>Generator4_17</td><td>28.1923413</td><td>28.369008</td><td>0.17666642</td><td>TRUE</td><td>1</td></tr>\n\t<tr><td>Generator4_18</td><td>28.3308540</td><td>30.594788</td><td>2.22578061</td><td>TRUE</td><td>1</td></tr>\n\t<tr><td>\u22ee</td><td>\u22ee</td><td>\u22ee</td><td>\u22ee</td><td>\u22ee</td><td>\u22ee</td></tr>\n\t<tr><td>Generator4_6980</td><td>9963.718</td><td>9969.853</td><td>0.95424253</td><td> TRUE</td><td>1</td></tr>\n\t<tr><td>Generator4_6981</td><td>9968.125</td><td>9972.161</td><td>2.30802132</td><td> TRUE</td><td>1</td></tr>\n\t<tr><td>Generator4_6982</td><td>9969.773</td><td>9972.400</td><td>0.23854298</td><td> TRUE</td><td>1</td></tr>\n\t<tr><td>Generator4_6983</td><td>9970.875</td><td>9973.033</td><td>0.63292082</td><td> TRUE</td><td>1</td></tr>\n\t<tr><td>Generator4_6984</td><td>9971.851</td><td>9975.039</td><td>2.00647029</td><td> TRUE</td><td>1</td></tr>\n\t<tr><td>Generator4_6985</td><td>9971.928</td><td>9976.150</td><td>1.11095616</td><td> TRUE</td><td>1</td></tr>\n\t<tr><td>Generator4_6986</td><td>9972.954</td><td>9977.618</td><td>1.46833214</td><td> TRUE</td><td>1</td></tr>\n\t<tr><td>Generator4_6987</td><td>9974.071</td><td>9979.155</td><td>1.53623726</td><td> TRUE</td><td>1</td></tr>\n\t<tr><td>Generator4_6988</td><td>9975.480</td><td>9979.239</td><td>0.08450643</td><td> TRUE</td><td>1</td></tr>\n\t<tr><td>Generator3_1008</td><td>9974.037</td><td>9979.456</td><td>0.21654893</td><td> TRUE</td><td>1</td></tr>\n\t<tr><td>Generator4_6989</td><td>9979.294</td><td>9980.355</td><td>0.89972758</td><td> TRUE</td><td>1</td></tr>\n\t<tr><td>Generator2_946 </td><td>9957.318</td><td>9981.295</td><td>0.93918184</td><td> TRUE</td><td>1</td></tr>\n\t<tr><td>Generator2_947 </td><td>9961.595</td><td>9981.749</td><td>0.45478470</td><td> TRUE</td><td>1</td></tr>\n\t<tr><td>Generator4_6990</td><td>9982.535</td><td>9982.732</td><td>0.19658787</td><td> TRUE</td><td>1</td></tr>\n\t<tr><td>Generator4_6991</td><td>9983.978</td><td>9984.221</td><td>0.24291025</td><td> TRUE</td><td>1</td></tr>\n\t<tr><td>Generator4_6992</td><td>9985.571</td><td>9985.603</td><td>0.03194152</td><td> TRUE</td><td>1</td></tr>\n\t<tr><td>Generator4_6993</td><td>9986.378</td><td>9987.699</td><td>1.32086215</td><td> TRUE</td><td>1</td></tr>\n\t<tr><td>Generator1_1045</td><td>9986.510</td><td>9988.080</td><td>0.38132498</td><td> TRUE</td><td>1</td></tr>\n\t<tr><td>Generator3_1009</td><td>9988.112</td><td>9989.662</td><td>1.54965018</td><td> TRUE</td><td>1</td></tr>\n\t<tr><td>Generator3_1010</td><td>9991.574</td><td>9992.184</td><td>0.60931574</td><td> TRUE</td><td>1</td></tr>\n\t<tr><td>Generator4_6994</td><td>9992.022</td><td>9993.061</td><td>0.87723166</td><td> TRUE</td><td>1</td></tr>\n\t<tr><td>Generator4_6995</td><td>9993.094</td><td>9993.911</td><td>0.81700575</td><td> TRUE</td><td>1</td></tr>\n\t<tr><td>Generator4_6996</td><td>9995.650</td><td>9997.337</td><td>1.68645534</td><td> TRUE</td><td>1</td></tr>\n\t<tr><td>Generator4_6997</td><td>9995.764</td><td>9998.314</td><td>0.97783097</td><td> TRUE</td><td>1</td></tr>\n\t<tr><td>Generator4_6998</td><td>9998.556</td><td>9999.022</td><td>0.46648090</td><td> TRUE</td><td>1</td></tr>\n\t<tr><td>Generator4_6999</td><td>9998.938</td><td>9999.052</td><td>0.02992951</td><td> TRUE</td><td>1</td></tr>\n\t<tr><td>Generator1_1046</td><td>  -1.000</td><td>      NA</td><td>        NA</td><td>FALSE</td><td>1</td></tr>\n\t<tr><td>Generator3_1011</td><td>  -1.000</td><td>      NA</td><td>        NA</td><td>FALSE</td><td>1</td></tr>\n\t<tr><td>Generator4_7000</td><td>  -1.000</td><td>      NA</td><td>        NA</td><td>FALSE</td><td>1</td></tr>\n\t<tr><td>Generator2_948 </td><td>  -1.000</td><td>      NA</td><td>        NA</td><td>FALSE</td><td>1</td></tr>\n</tbody>\n</table>\n",
                        "text/latex": "A data.frame: 10009 \u00d7 6\n\\begin{tabular}{llllll}\n name & start\\_time & end\\_time & activity\\_time & finished & replication\\\\\n <chr> & <dbl> & <dbl> & <dbl> & <lgl> & <int>\\\\\n\\hline\n\t Generator4\\_0  &  0.7443853 &  1.279765 & 0.53537991 & TRUE & 1\\\\\n\t Generator1\\_0  &  2.8573548 &  4.594245 & 1.73689045 & TRUE & 1\\\\\n\t Generator1\\_1  &  4.1741940 &  5.583334 & 0.98908923 & TRUE & 1\\\\\n\t Generator3\\_0  &  5.8921775 &  5.927455 & 0.03527737 & TRUE & 1\\\\\n\t Generator4\\_1  &  7.9792124 &  8.564903 & 0.58569086 & TRUE & 1\\\\\n\t Generator4\\_2  &  8.1434113 &  8.582243 & 0.01733983 & TRUE & 1\\\\\n\t Generator3\\_1  &  8.5107356 &  9.190093 & 0.60785018 & TRUE & 1\\\\\n\t Generator1\\_2  &  9.1699556 &  9.680157 & 0.49006382 & TRUE & 1\\\\\n\t Generator4\\_3  &  9.9996312 & 10.274713 & 0.27508225 & TRUE & 1\\\\\n\t Generator3\\_2  & 12.3101375 & 12.652634 & 0.34249646 & TRUE & 1\\\\\n\t Generator4\\_4  & 12.9148821 & 12.945463 & 0.03058097 & TRUE & 1\\\\\n\t Generator4\\_5  & 13.0831010 & 13.214863 & 0.13176231 & TRUE & 1\\\\\n\t Generator4\\_6  & 15.2083833 & 15.592342 & 0.38395817 & TRUE & 1\\\\\n\t Generator4\\_7  & 16.8650708 & 17.405987 & 0.54091608 & TRUE & 1\\\\\n\t Generator4\\_8  & 17.7465680 & 18.123710 & 0.37714238 & TRUE & 1\\\\\n\t Generator4\\_9  & 19.1865908 & 19.537102 & 0.35051148 & TRUE & 1\\\\\n\t Generator4\\_10 & 19.7862493 & 21.492538 & 1.70628866 & TRUE & 1\\\\\n\t Generator4\\_11 & 19.9386945 & 22.828286 & 1.33574819 & TRUE & 1\\\\\n\t Generator4\\_12 & 20.6692868 & 24.234865 & 1.40657903 & TRUE & 1\\\\\n\t Generator4\\_13 & 23.2286064 & 25.814244 & 1.57937864 & TRUE & 1\\\\\n\t Generator4\\_14 & 25.5394083 & 26.197970 & 0.38372572 & TRUE & 1\\\\\n\t Generator3\\_3  & 20.9912044 & 26.450842 & 0.25287281 & TRUE & 1\\\\\n\t Generator4\\_15 & 26.2682710 & 26.843449 & 0.39260662 & TRUE & 1\\\\\n\t Generator1\\_3  & 19.1361338 & 26.896563 & 0.35271801 & TRUE & 1\\\\\n\t Generator2\\_0  & 20.5676050 & 27.416645 & 0.52008166 & TRUE & 1\\\\\n\t Generator2\\_1  & 22.9668339 & 27.431849 & 0.01520439 & TRUE & 1\\\\\n\t Generator4\\_16 & 27.5237342 & 27.781750 & 0.25801576 & TRUE & 1\\\\\n\t Generator1\\_4  & 24.2503199 & 28.139795 & 0.44992981 & TRUE & 1\\\\\n\t Generator4\\_17 & 28.1923413 & 28.369008 & 0.17666642 & TRUE & 1\\\\\n\t Generator4\\_18 & 28.3308540 & 30.594788 & 2.22578061 & TRUE & 1\\\\\n\t \u22ee & \u22ee & \u22ee & \u22ee & \u22ee & \u22ee\\\\\n\t Generator4\\_6980 & 9963.718 & 9969.853 & 0.95424253 &  TRUE & 1\\\\\n\t Generator4\\_6981 & 9968.125 & 9972.161 & 2.30802132 &  TRUE & 1\\\\\n\t Generator4\\_6982 & 9969.773 & 9972.400 & 0.23854298 &  TRUE & 1\\\\\n\t Generator4\\_6983 & 9970.875 & 9973.033 & 0.63292082 &  TRUE & 1\\\\\n\t Generator4\\_6984 & 9971.851 & 9975.039 & 2.00647029 &  TRUE & 1\\\\\n\t Generator4\\_6985 & 9971.928 & 9976.150 & 1.11095616 &  TRUE & 1\\\\\n\t Generator4\\_6986 & 9972.954 & 9977.618 & 1.46833214 &  TRUE & 1\\\\\n\t Generator4\\_6987 & 9974.071 & 9979.155 & 1.53623726 &  TRUE & 1\\\\\n\t Generator4\\_6988 & 9975.480 & 9979.239 & 0.08450643 &  TRUE & 1\\\\\n\t Generator3\\_1008 & 9974.037 & 9979.456 & 0.21654893 &  TRUE & 1\\\\\n\t Generator4\\_6989 & 9979.294 & 9980.355 & 0.89972758 &  TRUE & 1\\\\\n\t Generator2\\_946  & 9957.318 & 9981.295 & 0.93918184 &  TRUE & 1\\\\\n\t Generator2\\_947  & 9961.595 & 9981.749 & 0.45478470 &  TRUE & 1\\\\\n\t Generator4\\_6990 & 9982.535 & 9982.732 & 0.19658787 &  TRUE & 1\\\\\n\t Generator4\\_6991 & 9983.978 & 9984.221 & 0.24291025 &  TRUE & 1\\\\\n\t Generator4\\_6992 & 9985.571 & 9985.603 & 0.03194152 &  TRUE & 1\\\\\n\t Generator4\\_6993 & 9986.378 & 9987.699 & 1.32086215 &  TRUE & 1\\\\\n\t Generator1\\_1045 & 9986.510 & 9988.080 & 0.38132498 &  TRUE & 1\\\\\n\t Generator3\\_1009 & 9988.112 & 9989.662 & 1.54965018 &  TRUE & 1\\\\\n\t Generator3\\_1010 & 9991.574 & 9992.184 & 0.60931574 &  TRUE & 1\\\\\n\t Generator4\\_6994 & 9992.022 & 9993.061 & 0.87723166 &  TRUE & 1\\\\\n\t Generator4\\_6995 & 9993.094 & 9993.911 & 0.81700575 &  TRUE & 1\\\\\n\t Generator4\\_6996 & 9995.650 & 9997.337 & 1.68645534 &  TRUE & 1\\\\\n\t Generator4\\_6997 & 9995.764 & 9998.314 & 0.97783097 &  TRUE & 1\\\\\n\t Generator4\\_6998 & 9998.556 & 9999.022 & 0.46648090 &  TRUE & 1\\\\\n\t Generator4\\_6999 & 9998.938 & 9999.052 & 0.02992951 &  TRUE & 1\\\\\n\t Generator1\\_1046 &   -1.000 &       NA &         NA & FALSE & 1\\\\\n\t Generator3\\_1011 &   -1.000 &       NA &         NA & FALSE & 1\\\\\n\t Generator4\\_7000 &   -1.000 &       NA &         NA & FALSE & 1\\\\\n\t Generator2\\_948  &   -1.000 &       NA &         NA & FALSE & 1\\\\\n\\end{tabular}\n",
                        "text/markdown": "\nA data.frame: 10009 \u00d7 6\n\n| name &lt;chr&gt; | start_time &lt;dbl&gt; | end_time &lt;dbl&gt; | activity_time &lt;dbl&gt; | finished &lt;lgl&gt; | replication &lt;int&gt; |\n|---|---|---|---|---|---|\n| Generator4_0  |  0.7443853 |  1.279765 | 0.53537991 | TRUE | 1 |\n| Generator1_0  |  2.8573548 |  4.594245 | 1.73689045 | TRUE | 1 |\n| Generator1_1  |  4.1741940 |  5.583334 | 0.98908923 | TRUE | 1 |\n| Generator3_0  |  5.8921775 |  5.927455 | 0.03527737 | TRUE | 1 |\n| Generator4_1  |  7.9792124 |  8.564903 | 0.58569086 | TRUE | 1 |\n| Generator4_2  |  8.1434113 |  8.582243 | 0.01733983 | TRUE | 1 |\n| Generator3_1  |  8.5107356 |  9.190093 | 0.60785018 | TRUE | 1 |\n| Generator1_2  |  9.1699556 |  9.680157 | 0.49006382 | TRUE | 1 |\n| Generator4_3  |  9.9996312 | 10.274713 | 0.27508225 | TRUE | 1 |\n| Generator3_2  | 12.3101375 | 12.652634 | 0.34249646 | TRUE | 1 |\n| Generator4_4  | 12.9148821 | 12.945463 | 0.03058097 | TRUE | 1 |\n| Generator4_5  | 13.0831010 | 13.214863 | 0.13176231 | TRUE | 1 |\n| Generator4_6  | 15.2083833 | 15.592342 | 0.38395817 | TRUE | 1 |\n| Generator4_7  | 16.8650708 | 17.405987 | 0.54091608 | TRUE | 1 |\n| Generator4_8  | 17.7465680 | 18.123710 | 0.37714238 | TRUE | 1 |\n| Generator4_9  | 19.1865908 | 19.537102 | 0.35051148 | TRUE | 1 |\n| Generator4_10 | 19.7862493 | 21.492538 | 1.70628866 | TRUE | 1 |\n| Generator4_11 | 19.9386945 | 22.828286 | 1.33574819 | TRUE | 1 |\n| Generator4_12 | 20.6692868 | 24.234865 | 1.40657903 | TRUE | 1 |\n| Generator4_13 | 23.2286064 | 25.814244 | 1.57937864 | TRUE | 1 |\n| Generator4_14 | 25.5394083 | 26.197970 | 0.38372572 | TRUE | 1 |\n| Generator3_3  | 20.9912044 | 26.450842 | 0.25287281 | TRUE | 1 |\n| Generator4_15 | 26.2682710 | 26.843449 | 0.39260662 | TRUE | 1 |\n| Generator1_3  | 19.1361338 | 26.896563 | 0.35271801 | TRUE | 1 |\n| Generator2_0  | 20.5676050 | 27.416645 | 0.52008166 | TRUE | 1 |\n| Generator2_1  | 22.9668339 | 27.431849 | 0.01520439 | TRUE | 1 |\n| Generator4_16 | 27.5237342 | 27.781750 | 0.25801576 | TRUE | 1 |\n| Generator1_4  | 24.2503199 | 28.139795 | 0.44992981 | TRUE | 1 |\n| Generator4_17 | 28.1923413 | 28.369008 | 0.17666642 | TRUE | 1 |\n| Generator4_18 | 28.3308540 | 30.594788 | 2.22578061 | TRUE | 1 |\n| \u22ee | \u22ee | \u22ee | \u22ee | \u22ee | \u22ee |\n| Generator4_6980 | 9963.718 | 9969.853 | 0.95424253 |  TRUE | 1 |\n| Generator4_6981 | 9968.125 | 9972.161 | 2.30802132 |  TRUE | 1 |\n| Generator4_6982 | 9969.773 | 9972.400 | 0.23854298 |  TRUE | 1 |\n| Generator4_6983 | 9970.875 | 9973.033 | 0.63292082 |  TRUE | 1 |\n| Generator4_6984 | 9971.851 | 9975.039 | 2.00647029 |  TRUE | 1 |\n| Generator4_6985 | 9971.928 | 9976.150 | 1.11095616 |  TRUE | 1 |\n| Generator4_6986 | 9972.954 | 9977.618 | 1.46833214 |  TRUE | 1 |\n| Generator4_6987 | 9974.071 | 9979.155 | 1.53623726 |  TRUE | 1 |\n| Generator4_6988 | 9975.480 | 9979.239 | 0.08450643 |  TRUE | 1 |\n| Generator3_1008 | 9974.037 | 9979.456 | 0.21654893 |  TRUE | 1 |\n| Generator4_6989 | 9979.294 | 9980.355 | 0.89972758 |  TRUE | 1 |\n| Generator2_946  | 9957.318 | 9981.295 | 0.93918184 |  TRUE | 1 |\n| Generator2_947  | 9961.595 | 9981.749 | 0.45478470 |  TRUE | 1 |\n| Generator4_6990 | 9982.535 | 9982.732 | 0.19658787 |  TRUE | 1 |\n| Generator4_6991 | 9983.978 | 9984.221 | 0.24291025 |  TRUE | 1 |\n| Generator4_6992 | 9985.571 | 9985.603 | 0.03194152 |  TRUE | 1 |\n| Generator4_6993 | 9986.378 | 9987.699 | 1.32086215 |  TRUE | 1 |\n| Generator1_1045 | 9986.510 | 9988.080 | 0.38132498 |  TRUE | 1 |\n| Generator3_1009 | 9988.112 | 9989.662 | 1.54965018 |  TRUE | 1 |\n| Generator3_1010 | 9991.574 | 9992.184 | 0.60931574 |  TRUE | 1 |\n| Generator4_6994 | 9992.022 | 9993.061 | 0.87723166 |  TRUE | 1 |\n| Generator4_6995 | 9993.094 | 9993.911 | 0.81700575 |  TRUE | 1 |\n| Generator4_6996 | 9995.650 | 9997.337 | 1.68645534 |  TRUE | 1 |\n| Generator4_6997 | 9995.764 | 9998.314 | 0.97783097 |  TRUE | 1 |\n| Generator4_6998 | 9998.556 | 9999.022 | 0.46648090 |  TRUE | 1 |\n| Generator4_6999 | 9998.938 | 9999.052 | 0.02992951 |  TRUE | 1 |\n| Generator1_1046 |   -1.000 |       NA |         NA | FALSE | 1 |\n| Generator3_1011 |   -1.000 |       NA |         NA | FALSE | 1 |\n| Generator4_7000 |   -1.000 |       NA |         NA | FALSE | 1 |\n| Generator2_948  |   -1.000 |       NA |         NA | FALSE | 1 |\n\n",
                        "text/plain": "      name            start_time end_time  activity_time finished replication\n1     Generator4_0     0.7443853  1.279765 0.53537991    TRUE     1          \n2     Generator1_0     2.8573548  4.594245 1.73689045    TRUE     1          \n3     Generator1_1     4.1741940  5.583334 0.98908923    TRUE     1          \n4     Generator3_0     5.8921775  5.927455 0.03527737    TRUE     1          \n5     Generator4_1     7.9792124  8.564903 0.58569086    TRUE     1          \n6     Generator4_2     8.1434113  8.582243 0.01733983    TRUE     1          \n7     Generator3_1     8.5107356  9.190093 0.60785018    TRUE     1          \n8     Generator1_2     9.1699556  9.680157 0.49006382    TRUE     1          \n9     Generator4_3     9.9996312 10.274713 0.27508225    TRUE     1          \n10    Generator3_2    12.3101375 12.652634 0.34249646    TRUE     1          \n11    Generator4_4    12.9148821 12.945463 0.03058097    TRUE     1          \n12    Generator4_5    13.0831010 13.214863 0.13176231    TRUE     1          \n13    Generator4_6    15.2083833 15.592342 0.38395817    TRUE     1          \n14    Generator4_7    16.8650708 17.405987 0.54091608    TRUE     1          \n15    Generator4_8    17.7465680 18.123710 0.37714238    TRUE     1          \n16    Generator4_9    19.1865908 19.537102 0.35051148    TRUE     1          \n17    Generator4_10   19.7862493 21.492538 1.70628866    TRUE     1          \n18    Generator4_11   19.9386945 22.828286 1.33574819    TRUE     1          \n19    Generator4_12   20.6692868 24.234865 1.40657903    TRUE     1          \n20    Generator4_13   23.2286064 25.814244 1.57937864    TRUE     1          \n21    Generator4_14   25.5394083 26.197970 0.38372572    TRUE     1          \n22    Generator3_3    20.9912044 26.450842 0.25287281    TRUE     1          \n23    Generator4_15   26.2682710 26.843449 0.39260662    TRUE     1          \n24    Generator1_3    19.1361338 26.896563 0.35271801    TRUE     1          \n25    Generator2_0    20.5676050 27.416645 0.52008166    TRUE     1          \n26    Generator2_1    22.9668339 27.431849 0.01520439    TRUE     1          \n27    Generator4_16   27.5237342 27.781750 0.25801576    TRUE     1          \n28    Generator1_4    24.2503199 28.139795 0.44992981    TRUE     1          \n29    Generator4_17   28.1923413 28.369008 0.17666642    TRUE     1          \n30    Generator4_18   28.3308540 30.594788 2.22578061    TRUE     1          \n\u22ee     \u22ee               \u22ee          \u22ee         \u22ee             \u22ee        \u22ee          \n9980  Generator4_6980 9963.718   9969.853  0.95424253     TRUE    1          \n9981  Generator4_6981 9968.125   9972.161  2.30802132     TRUE    1          \n9982  Generator4_6982 9969.773   9972.400  0.23854298     TRUE    1          \n9983  Generator4_6983 9970.875   9973.033  0.63292082     TRUE    1          \n9984  Generator4_6984 9971.851   9975.039  2.00647029     TRUE    1          \n9985  Generator4_6985 9971.928   9976.150  1.11095616     TRUE    1          \n9986  Generator4_6986 9972.954   9977.618  1.46833214     TRUE    1          \n9987  Generator4_6987 9974.071   9979.155  1.53623726     TRUE    1          \n9988  Generator4_6988 9975.480   9979.239  0.08450643     TRUE    1          \n9989  Generator3_1008 9974.037   9979.456  0.21654893     TRUE    1          \n9990  Generator4_6989 9979.294   9980.355  0.89972758     TRUE    1          \n9991  Generator2_946  9957.318   9981.295  0.93918184     TRUE    1          \n9992  Generator2_947  9961.595   9981.749  0.45478470     TRUE    1          \n9993  Generator4_6990 9982.535   9982.732  0.19658787     TRUE    1          \n9994  Generator4_6991 9983.978   9984.221  0.24291025     TRUE    1          \n9995  Generator4_6992 9985.571   9985.603  0.03194152     TRUE    1          \n9996  Generator4_6993 9986.378   9987.699  1.32086215     TRUE    1          \n9997  Generator1_1045 9986.510   9988.080  0.38132498     TRUE    1          \n9998  Generator3_1009 9988.112   9989.662  1.54965018     TRUE    1          \n9999  Generator3_1010 9991.574   9992.184  0.60931574     TRUE    1          \n10000 Generator4_6994 9992.022   9993.061  0.87723166     TRUE    1          \n10001 Generator4_6995 9993.094   9993.911  0.81700575     TRUE    1          \n10002 Generator4_6996 9995.650   9997.337  1.68645534     TRUE    1          \n10003 Generator4_6997 9995.764   9998.314  0.97783097     TRUE    1          \n10004 Generator4_6998 9998.556   9999.022  0.46648090     TRUE    1          \n10005 Generator4_6999 9998.938   9999.052  0.02992951     TRUE    1          \n10006 Generator1_1046   -1.000         NA          NA    FALSE    1          \n10007 Generator3_1011   -1.000         NA          NA    FALSE    1          \n10008 Generator4_7000   -1.000         NA          NA    FALSE    1          \n10009 Generator2_948    -1.000         NA          NA    FALSE    1          "
                    },
                    "metadata": {},
                    "output_type": "display_data"
                },
                {
                    "data": {
                        "text/html": "<table class=\"dataframe\">\n<caption>A data.frame: 20010 \u00d7 9</caption>\n<thead>\n\t<tr><th scope=col>resource</th><th scope=col>time</th><th scope=col>server</th><th scope=col>queue</th><th scope=col>capacity</th><th scope=col>queue_size</th><th scope=col>system</th><th scope=col>limit</th><th scope=col>replication</th></tr>\n\t<tr><th scope=col>&lt;chr&gt;</th><th scope=col>&lt;dbl&gt;</th><th scope=col>&lt;int&gt;</th><th scope=col>&lt;int&gt;</th><th scope=col>&lt;dbl&gt;</th><th scope=col>&lt;dbl&gt;</th><th scope=col>&lt;int&gt;</th><th scope=col>&lt;dbl&gt;</th><th scope=col>&lt;int&gt;</th></tr>\n</thead>\n<tbody>\n\t<tr><td>server</td><td> 0.7443853</td><td>1</td><td>0</td><td>1</td><td>Inf</td><td>1</td><td>Inf</td><td>1</td></tr>\n\t<tr><td>server</td><td> 1.2797652</td><td>0</td><td>0</td><td>1</td><td>Inf</td><td>0</td><td>Inf</td><td>1</td></tr>\n\t<tr><td>server</td><td> 2.8573548</td><td>1</td><td>0</td><td>1</td><td>Inf</td><td>1</td><td>Inf</td><td>1</td></tr>\n\t<tr><td>server</td><td> 4.1741940</td><td>1</td><td>1</td><td>1</td><td>Inf</td><td>2</td><td>Inf</td><td>1</td></tr>\n\t<tr><td>server</td><td> 4.5942453</td><td>1</td><td>0</td><td>1</td><td>Inf</td><td>1</td><td>Inf</td><td>1</td></tr>\n\t<tr><td>server</td><td> 5.5833345</td><td>0</td><td>0</td><td>1</td><td>Inf</td><td>0</td><td>Inf</td><td>1</td></tr>\n\t<tr><td>server</td><td> 5.8921775</td><td>1</td><td>0</td><td>1</td><td>Inf</td><td>1</td><td>Inf</td><td>1</td></tr>\n\t<tr><td>server</td><td> 5.9274548</td><td>0</td><td>0</td><td>1</td><td>Inf</td><td>0</td><td>Inf</td><td>1</td></tr>\n\t<tr><td>server</td><td> 7.9792124</td><td>1</td><td>0</td><td>1</td><td>Inf</td><td>1</td><td>Inf</td><td>1</td></tr>\n\t<tr><td>server</td><td> 8.1434113</td><td>1</td><td>1</td><td>1</td><td>Inf</td><td>2</td><td>Inf</td><td>1</td></tr>\n\t<tr><td>server</td><td> 8.5107356</td><td>1</td><td>2</td><td>1</td><td>Inf</td><td>3</td><td>Inf</td><td>1</td></tr>\n\t<tr><td>server</td><td> 8.5649033</td><td>1</td><td>1</td><td>1</td><td>Inf</td><td>2</td><td>Inf</td><td>1</td></tr>\n\t<tr><td>server</td><td> 8.5822431</td><td>1</td><td>0</td><td>1</td><td>Inf</td><td>1</td><td>Inf</td><td>1</td></tr>\n\t<tr><td>server</td><td> 9.1699556</td><td>1</td><td>1</td><td>1</td><td>Inf</td><td>2</td><td>Inf</td><td>1</td></tr>\n\t<tr><td>server</td><td> 9.1900933</td><td>1</td><td>0</td><td>1</td><td>Inf</td><td>1</td><td>Inf</td><td>1</td></tr>\n\t<tr><td>server</td><td> 9.6801571</td><td>0</td><td>0</td><td>1</td><td>Inf</td><td>0</td><td>Inf</td><td>1</td></tr>\n\t<tr><td>server</td><td> 9.9996312</td><td>1</td><td>0</td><td>1</td><td>Inf</td><td>1</td><td>Inf</td><td>1</td></tr>\n\t<tr><td>server</td><td>10.2747134</td><td>0</td><td>0</td><td>1</td><td>Inf</td><td>0</td><td>Inf</td><td>1</td></tr>\n\t<tr><td>server</td><td>12.3101375</td><td>1</td><td>0</td><td>1</td><td>Inf</td><td>1</td><td>Inf</td><td>1</td></tr>\n\t<tr><td>server</td><td>12.6526340</td><td>0</td><td>0</td><td>1</td><td>Inf</td><td>0</td><td>Inf</td><td>1</td></tr>\n\t<tr><td>server</td><td>12.9148821</td><td>1</td><td>0</td><td>1</td><td>Inf</td><td>1</td><td>Inf</td><td>1</td></tr>\n\t<tr><td>server</td><td>12.9454631</td><td>0</td><td>0</td><td>1</td><td>Inf</td><td>0</td><td>Inf</td><td>1</td></tr>\n\t<tr><td>server</td><td>13.0831010</td><td>1</td><td>0</td><td>1</td><td>Inf</td><td>1</td><td>Inf</td><td>1</td></tr>\n\t<tr><td>server</td><td>13.2148633</td><td>0</td><td>0</td><td>1</td><td>Inf</td><td>0</td><td>Inf</td><td>1</td></tr>\n\t<tr><td>server</td><td>15.2083833</td><td>1</td><td>0</td><td>1</td><td>Inf</td><td>1</td><td>Inf</td><td>1</td></tr>\n\t<tr><td>server</td><td>15.5923415</td><td>0</td><td>0</td><td>1</td><td>Inf</td><td>0</td><td>Inf</td><td>1</td></tr>\n\t<tr><td>server</td><td>16.8650708</td><td>1</td><td>0</td><td>1</td><td>Inf</td><td>1</td><td>Inf</td><td>1</td></tr>\n\t<tr><td>server</td><td>17.4059869</td><td>0</td><td>0</td><td>1</td><td>Inf</td><td>0</td><td>Inf</td><td>1</td></tr>\n\t<tr><td>server</td><td>17.7465680</td><td>1</td><td>0</td><td>1</td><td>Inf</td><td>1</td><td>Inf</td><td>1</td></tr>\n\t<tr><td>server</td><td>18.1237104</td><td>0</td><td>0</td><td>1</td><td>Inf</td><td>0</td><td>Inf</td><td>1</td></tr>\n\t<tr><td>\u22ee</td><td>\u22ee</td><td>\u22ee</td><td>\u22ee</td><td>\u22ee</td><td>\u22ee</td><td>\u22ee</td><td>\u22ee</td><td>\u22ee</td></tr>\n\t<tr><td>server</td><td>9979.456</td><td>1</td><td>2</td><td>1</td><td>Inf</td><td>3</td><td>Inf</td><td>1</td></tr>\n\t<tr><td>server</td><td>9980.355</td><td>1</td><td>1</td><td>1</td><td>Inf</td><td>2</td><td>Inf</td><td>1</td></tr>\n\t<tr><td>server</td><td>9981.295</td><td>1</td><td>0</td><td>1</td><td>Inf</td><td>1</td><td>Inf</td><td>1</td></tr>\n\t<tr><td>server</td><td>9981.749</td><td>0</td><td>0</td><td>1</td><td>Inf</td><td>0</td><td>Inf</td><td>1</td></tr>\n\t<tr><td>server</td><td>9982.535</td><td>1</td><td>0</td><td>1</td><td>Inf</td><td>1</td><td>Inf</td><td>1</td></tr>\n\t<tr><td>server</td><td>9982.732</td><td>0</td><td>0</td><td>1</td><td>Inf</td><td>0</td><td>Inf</td><td>1</td></tr>\n\t<tr><td>server</td><td>9983.978</td><td>1</td><td>0</td><td>1</td><td>Inf</td><td>1</td><td>Inf</td><td>1</td></tr>\n\t<tr><td>server</td><td>9984.221</td><td>0</td><td>0</td><td>1</td><td>Inf</td><td>0</td><td>Inf</td><td>1</td></tr>\n\t<tr><td>server</td><td>9985.571</td><td>1</td><td>0</td><td>1</td><td>Inf</td><td>1</td><td>Inf</td><td>1</td></tr>\n\t<tr><td>server</td><td>9985.603</td><td>0</td><td>0</td><td>1</td><td>Inf</td><td>0</td><td>Inf</td><td>1</td></tr>\n\t<tr><td>server</td><td>9986.378</td><td>1</td><td>0</td><td>1</td><td>Inf</td><td>1</td><td>Inf</td><td>1</td></tr>\n\t<tr><td>server</td><td>9986.510</td><td>1</td><td>1</td><td>1</td><td>Inf</td><td>2</td><td>Inf</td><td>1</td></tr>\n\t<tr><td>server</td><td>9987.699</td><td>1</td><td>0</td><td>1</td><td>Inf</td><td>1</td><td>Inf</td><td>1</td></tr>\n\t<tr><td>server</td><td>9988.080</td><td>0</td><td>0</td><td>1</td><td>Inf</td><td>0</td><td>Inf</td><td>1</td></tr>\n\t<tr><td>server</td><td>9988.112</td><td>1</td><td>0</td><td>1</td><td>Inf</td><td>1</td><td>Inf</td><td>1</td></tr>\n\t<tr><td>server</td><td>9989.662</td><td>0</td><td>0</td><td>1</td><td>Inf</td><td>0</td><td>Inf</td><td>1</td></tr>\n\t<tr><td>server</td><td>9991.574</td><td>1</td><td>0</td><td>1</td><td>Inf</td><td>1</td><td>Inf</td><td>1</td></tr>\n\t<tr><td>server</td><td>9992.022</td><td>1</td><td>1</td><td>1</td><td>Inf</td><td>2</td><td>Inf</td><td>1</td></tr>\n\t<tr><td>server</td><td>9992.184</td><td>1</td><td>0</td><td>1</td><td>Inf</td><td>1</td><td>Inf</td><td>1</td></tr>\n\t<tr><td>server</td><td>9993.061</td><td>0</td><td>0</td><td>1</td><td>Inf</td><td>0</td><td>Inf</td><td>1</td></tr>\n\t<tr><td>server</td><td>9993.094</td><td>1</td><td>0</td><td>1</td><td>Inf</td><td>1</td><td>Inf</td><td>1</td></tr>\n\t<tr><td>server</td><td>9993.911</td><td>0</td><td>0</td><td>1</td><td>Inf</td><td>0</td><td>Inf</td><td>1</td></tr>\n\t<tr><td>server</td><td>9995.650</td><td>1</td><td>0</td><td>1</td><td>Inf</td><td>1</td><td>Inf</td><td>1</td></tr>\n\t<tr><td>server</td><td>9995.764</td><td>1</td><td>1</td><td>1</td><td>Inf</td><td>2</td><td>Inf</td><td>1</td></tr>\n\t<tr><td>server</td><td>9997.337</td><td>1</td><td>0</td><td>1</td><td>Inf</td><td>1</td><td>Inf</td><td>1</td></tr>\n\t<tr><td>server</td><td>9998.314</td><td>0</td><td>0</td><td>1</td><td>Inf</td><td>0</td><td>Inf</td><td>1</td></tr>\n\t<tr><td>server</td><td>9998.556</td><td>1</td><td>0</td><td>1</td><td>Inf</td><td>1</td><td>Inf</td><td>1</td></tr>\n\t<tr><td>server</td><td>9998.938</td><td>1</td><td>1</td><td>1</td><td>Inf</td><td>2</td><td>Inf</td><td>1</td></tr>\n\t<tr><td>server</td><td>9999.022</td><td>1</td><td>0</td><td>1</td><td>Inf</td><td>1</td><td>Inf</td><td>1</td></tr>\n\t<tr><td>server</td><td>9999.052</td><td>0</td><td>0</td><td>1</td><td>Inf</td><td>0</td><td>Inf</td><td>1</td></tr>\n</tbody>\n</table>\n",
                        "text/latex": "A data.frame: 20010 \u00d7 9\n\\begin{tabular}{lllllllll}\n resource & time & server & queue & capacity & queue\\_size & system & limit & replication\\\\\n <chr> & <dbl> & <int> & <int> & <dbl> & <dbl> & <int> & <dbl> & <int>\\\\\n\\hline\n\t server &  0.7443853 & 1 & 0 & 1 & Inf & 1 & Inf & 1\\\\\n\t server &  1.2797652 & 0 & 0 & 1 & Inf & 0 & Inf & 1\\\\\n\t server &  2.8573548 & 1 & 0 & 1 & Inf & 1 & Inf & 1\\\\\n\t server &  4.1741940 & 1 & 1 & 1 & Inf & 2 & Inf & 1\\\\\n\t server &  4.5942453 & 1 & 0 & 1 & Inf & 1 & Inf & 1\\\\\n\t server &  5.5833345 & 0 & 0 & 1 & Inf & 0 & Inf & 1\\\\\n\t server &  5.8921775 & 1 & 0 & 1 & Inf & 1 & Inf & 1\\\\\n\t server &  5.9274548 & 0 & 0 & 1 & Inf & 0 & Inf & 1\\\\\n\t server &  7.9792124 & 1 & 0 & 1 & Inf & 1 & Inf & 1\\\\\n\t server &  8.1434113 & 1 & 1 & 1 & Inf & 2 & Inf & 1\\\\\n\t server &  8.5107356 & 1 & 2 & 1 & Inf & 3 & Inf & 1\\\\\n\t server &  8.5649033 & 1 & 1 & 1 & Inf & 2 & Inf & 1\\\\\n\t server &  8.5822431 & 1 & 0 & 1 & Inf & 1 & Inf & 1\\\\\n\t server &  9.1699556 & 1 & 1 & 1 & Inf & 2 & Inf & 1\\\\\n\t server &  9.1900933 & 1 & 0 & 1 & Inf & 1 & Inf & 1\\\\\n\t server &  9.6801571 & 0 & 0 & 1 & Inf & 0 & Inf & 1\\\\\n\t server &  9.9996312 & 1 & 0 & 1 & Inf & 1 & Inf & 1\\\\\n\t server & 10.2747134 & 0 & 0 & 1 & Inf & 0 & Inf & 1\\\\\n\t server & 12.3101375 & 1 & 0 & 1 & Inf & 1 & Inf & 1\\\\\n\t server & 12.6526340 & 0 & 0 & 1 & Inf & 0 & Inf & 1\\\\\n\t server & 12.9148821 & 1 & 0 & 1 & Inf & 1 & Inf & 1\\\\\n\t server & 12.9454631 & 0 & 0 & 1 & Inf & 0 & Inf & 1\\\\\n\t server & 13.0831010 & 1 & 0 & 1 & Inf & 1 & Inf & 1\\\\\n\t server & 13.2148633 & 0 & 0 & 1 & Inf & 0 & Inf & 1\\\\\n\t server & 15.2083833 & 1 & 0 & 1 & Inf & 1 & Inf & 1\\\\\n\t server & 15.5923415 & 0 & 0 & 1 & Inf & 0 & Inf & 1\\\\\n\t server & 16.8650708 & 1 & 0 & 1 & Inf & 1 & Inf & 1\\\\\n\t server & 17.4059869 & 0 & 0 & 1 & Inf & 0 & Inf & 1\\\\\n\t server & 17.7465680 & 1 & 0 & 1 & Inf & 1 & Inf & 1\\\\\n\t server & 18.1237104 & 0 & 0 & 1 & Inf & 0 & Inf & 1\\\\\n\t \u22ee & \u22ee & \u22ee & \u22ee & \u22ee & \u22ee & \u22ee & \u22ee & \u22ee\\\\\n\t server & 9979.456 & 1 & 2 & 1 & Inf & 3 & Inf & 1\\\\\n\t server & 9980.355 & 1 & 1 & 1 & Inf & 2 & Inf & 1\\\\\n\t server & 9981.295 & 1 & 0 & 1 & Inf & 1 & Inf & 1\\\\\n\t server & 9981.749 & 0 & 0 & 1 & Inf & 0 & Inf & 1\\\\\n\t server & 9982.535 & 1 & 0 & 1 & Inf & 1 & Inf & 1\\\\\n\t server & 9982.732 & 0 & 0 & 1 & Inf & 0 & Inf & 1\\\\\n\t server & 9983.978 & 1 & 0 & 1 & Inf & 1 & Inf & 1\\\\\n\t server & 9984.221 & 0 & 0 & 1 & Inf & 0 & Inf & 1\\\\\n\t server & 9985.571 & 1 & 0 & 1 & Inf & 1 & Inf & 1\\\\\n\t server & 9985.603 & 0 & 0 & 1 & Inf & 0 & Inf & 1\\\\\n\t server & 9986.378 & 1 & 0 & 1 & Inf & 1 & Inf & 1\\\\\n\t server & 9986.510 & 1 & 1 & 1 & Inf & 2 & Inf & 1\\\\\n\t server & 9987.699 & 1 & 0 & 1 & Inf & 1 & Inf & 1\\\\\n\t server & 9988.080 & 0 & 0 & 1 & Inf & 0 & Inf & 1\\\\\n\t server & 9988.112 & 1 & 0 & 1 & Inf & 1 & Inf & 1\\\\\n\t server & 9989.662 & 0 & 0 & 1 & Inf & 0 & Inf & 1\\\\\n\t server & 9991.574 & 1 & 0 & 1 & Inf & 1 & Inf & 1\\\\\n\t server & 9992.022 & 1 & 1 & 1 & Inf & 2 & Inf & 1\\\\\n\t server & 9992.184 & 1 & 0 & 1 & Inf & 1 & Inf & 1\\\\\n\t server & 9993.061 & 0 & 0 & 1 & Inf & 0 & Inf & 1\\\\\n\t server & 9993.094 & 1 & 0 & 1 & Inf & 1 & Inf & 1\\\\\n\t server & 9993.911 & 0 & 0 & 1 & Inf & 0 & Inf & 1\\\\\n\t server & 9995.650 & 1 & 0 & 1 & Inf & 1 & Inf & 1\\\\\n\t server & 9995.764 & 1 & 1 & 1 & Inf & 2 & Inf & 1\\\\\n\t server & 9997.337 & 1 & 0 & 1 & Inf & 1 & Inf & 1\\\\\n\t server & 9998.314 & 0 & 0 & 1 & Inf & 0 & Inf & 1\\\\\n\t server & 9998.556 & 1 & 0 & 1 & Inf & 1 & Inf & 1\\\\\n\t server & 9998.938 & 1 & 1 & 1 & Inf & 2 & Inf & 1\\\\\n\t server & 9999.022 & 1 & 0 & 1 & Inf & 1 & Inf & 1\\\\\n\t server & 9999.052 & 0 & 0 & 1 & Inf & 0 & Inf & 1\\\\\n\\end{tabular}\n",
                        "text/markdown": "\nA data.frame: 20010 \u00d7 9\n\n| resource &lt;chr&gt; | time &lt;dbl&gt; | server &lt;int&gt; | queue &lt;int&gt; | capacity &lt;dbl&gt; | queue_size &lt;dbl&gt; | system &lt;int&gt; | limit &lt;dbl&gt; | replication &lt;int&gt; |\n|---|---|---|---|---|---|---|---|---|\n| server |  0.7443853 | 1 | 0 | 1 | Inf | 1 | Inf | 1 |\n| server |  1.2797652 | 0 | 0 | 1 | Inf | 0 | Inf | 1 |\n| server |  2.8573548 | 1 | 0 | 1 | Inf | 1 | Inf | 1 |\n| server |  4.1741940 | 1 | 1 | 1 | Inf | 2 | Inf | 1 |\n| server |  4.5942453 | 1 | 0 | 1 | Inf | 1 | Inf | 1 |\n| server |  5.5833345 | 0 | 0 | 1 | Inf | 0 | Inf | 1 |\n| server |  5.8921775 | 1 | 0 | 1 | Inf | 1 | Inf | 1 |\n| server |  5.9274548 | 0 | 0 | 1 | Inf | 0 | Inf | 1 |\n| server |  7.9792124 | 1 | 0 | 1 | Inf | 1 | Inf | 1 |\n| server |  8.1434113 | 1 | 1 | 1 | Inf | 2 | Inf | 1 |\n| server |  8.5107356 | 1 | 2 | 1 | Inf | 3 | Inf | 1 |\n| server |  8.5649033 | 1 | 1 | 1 | Inf | 2 | Inf | 1 |\n| server |  8.5822431 | 1 | 0 | 1 | Inf | 1 | Inf | 1 |\n| server |  9.1699556 | 1 | 1 | 1 | Inf | 2 | Inf | 1 |\n| server |  9.1900933 | 1 | 0 | 1 | Inf | 1 | Inf | 1 |\n| server |  9.6801571 | 0 | 0 | 1 | Inf | 0 | Inf | 1 |\n| server |  9.9996312 | 1 | 0 | 1 | Inf | 1 | Inf | 1 |\n| server | 10.2747134 | 0 | 0 | 1 | Inf | 0 | Inf | 1 |\n| server | 12.3101375 | 1 | 0 | 1 | Inf | 1 | Inf | 1 |\n| server | 12.6526340 | 0 | 0 | 1 | Inf | 0 | Inf | 1 |\n| server | 12.9148821 | 1 | 0 | 1 | Inf | 1 | Inf | 1 |\n| server | 12.9454631 | 0 | 0 | 1 | Inf | 0 | Inf | 1 |\n| server | 13.0831010 | 1 | 0 | 1 | Inf | 1 | Inf | 1 |\n| server | 13.2148633 | 0 | 0 | 1 | Inf | 0 | Inf | 1 |\n| server | 15.2083833 | 1 | 0 | 1 | Inf | 1 | Inf | 1 |\n| server | 15.5923415 | 0 | 0 | 1 | Inf | 0 | Inf | 1 |\n| server | 16.8650708 | 1 | 0 | 1 | Inf | 1 | Inf | 1 |\n| server | 17.4059869 | 0 | 0 | 1 | Inf | 0 | Inf | 1 |\n| server | 17.7465680 | 1 | 0 | 1 | Inf | 1 | Inf | 1 |\n| server | 18.1237104 | 0 | 0 | 1 | Inf | 0 | Inf | 1 |\n| \u22ee | \u22ee | \u22ee | \u22ee | \u22ee | \u22ee | \u22ee | \u22ee | \u22ee |\n| server | 9979.456 | 1 | 2 | 1 | Inf | 3 | Inf | 1 |\n| server | 9980.355 | 1 | 1 | 1 | Inf | 2 | Inf | 1 |\n| server | 9981.295 | 1 | 0 | 1 | Inf | 1 | Inf | 1 |\n| server | 9981.749 | 0 | 0 | 1 | Inf | 0 | Inf | 1 |\n| server | 9982.535 | 1 | 0 | 1 | Inf | 1 | Inf | 1 |\n| server | 9982.732 | 0 | 0 | 1 | Inf | 0 | Inf | 1 |\n| server | 9983.978 | 1 | 0 | 1 | Inf | 1 | Inf | 1 |\n| server | 9984.221 | 0 | 0 | 1 | Inf | 0 | Inf | 1 |\n| server | 9985.571 | 1 | 0 | 1 | Inf | 1 | Inf | 1 |\n| server | 9985.603 | 0 | 0 | 1 | Inf | 0 | Inf | 1 |\n| server | 9986.378 | 1 | 0 | 1 | Inf | 1 | Inf | 1 |\n| server | 9986.510 | 1 | 1 | 1 | Inf | 2 | Inf | 1 |\n| server | 9987.699 | 1 | 0 | 1 | Inf | 1 | Inf | 1 |\n| server | 9988.080 | 0 | 0 | 1 | Inf | 0 | Inf | 1 |\n| server | 9988.112 | 1 | 0 | 1 | Inf | 1 | Inf | 1 |\n| server | 9989.662 | 0 | 0 | 1 | Inf | 0 | Inf | 1 |\n| server | 9991.574 | 1 | 0 | 1 | Inf | 1 | Inf | 1 |\n| server | 9992.022 | 1 | 1 | 1 | Inf | 2 | Inf | 1 |\n| server | 9992.184 | 1 | 0 | 1 | Inf | 1 | Inf | 1 |\n| server | 9993.061 | 0 | 0 | 1 | Inf | 0 | Inf | 1 |\n| server | 9993.094 | 1 | 0 | 1 | Inf | 1 | Inf | 1 |\n| server | 9993.911 | 0 | 0 | 1 | Inf | 0 | Inf | 1 |\n| server | 9995.650 | 1 | 0 | 1 | Inf | 1 | Inf | 1 |\n| server | 9995.764 | 1 | 1 | 1 | Inf | 2 | Inf | 1 |\n| server | 9997.337 | 1 | 0 | 1 | Inf | 1 | Inf | 1 |\n| server | 9998.314 | 0 | 0 | 1 | Inf | 0 | Inf | 1 |\n| server | 9998.556 | 1 | 0 | 1 | Inf | 1 | Inf | 1 |\n| server | 9998.938 | 1 | 1 | 1 | Inf | 2 | Inf | 1 |\n| server | 9999.022 | 1 | 0 | 1 | Inf | 1 | Inf | 1 |\n| server | 9999.052 | 0 | 0 | 1 | Inf | 0 | Inf | 1 |\n\n",
                        "text/plain": "      resource time       server queue capacity queue_size system limit\n1     server    0.7443853 1      0     1        Inf        1      Inf  \n2     server    1.2797652 0      0     1        Inf        0      Inf  \n3     server    2.8573548 1      0     1        Inf        1      Inf  \n4     server    4.1741940 1      1     1        Inf        2      Inf  \n5     server    4.5942453 1      0     1        Inf        1      Inf  \n6     server    5.5833345 0      0     1        Inf        0      Inf  \n7     server    5.8921775 1      0     1        Inf        1      Inf  \n8     server    5.9274548 0      0     1        Inf        0      Inf  \n9     server    7.9792124 1      0     1        Inf        1      Inf  \n10    server    8.1434113 1      1     1        Inf        2      Inf  \n11    server    8.5107356 1      2     1        Inf        3      Inf  \n12    server    8.5649033 1      1     1        Inf        2      Inf  \n13    server    8.5822431 1      0     1        Inf        1      Inf  \n14    server    9.1699556 1      1     1        Inf        2      Inf  \n15    server    9.1900933 1      0     1        Inf        1      Inf  \n16    server    9.6801571 0      0     1        Inf        0      Inf  \n17    server    9.9996312 1      0     1        Inf        1      Inf  \n18    server   10.2747134 0      0     1        Inf        0      Inf  \n19    server   12.3101375 1      0     1        Inf        1      Inf  \n20    server   12.6526340 0      0     1        Inf        0      Inf  \n21    server   12.9148821 1      0     1        Inf        1      Inf  \n22    server   12.9454631 0      0     1        Inf        0      Inf  \n23    server   13.0831010 1      0     1        Inf        1      Inf  \n24    server   13.2148633 0      0     1        Inf        0      Inf  \n25    server   15.2083833 1      0     1        Inf        1      Inf  \n26    server   15.5923415 0      0     1        Inf        0      Inf  \n27    server   16.8650708 1      0     1        Inf        1      Inf  \n28    server   17.4059869 0      0     1        Inf        0      Inf  \n29    server   17.7465680 1      0     1        Inf        1      Inf  \n30    server   18.1237104 0      0     1        Inf        0      Inf  \n\u22ee     \u22ee        \u22ee          \u22ee      \u22ee     \u22ee        \u22ee          \u22ee      \u22ee    \n19981 server   9979.456   1      2     1        Inf        3      Inf  \n19982 server   9980.355   1      1     1        Inf        2      Inf  \n19983 server   9981.295   1      0     1        Inf        1      Inf  \n19984 server   9981.749   0      0     1        Inf        0      Inf  \n19985 server   9982.535   1      0     1        Inf        1      Inf  \n19986 server   9982.732   0      0     1        Inf        0      Inf  \n19987 server   9983.978   1      0     1        Inf        1      Inf  \n19988 server   9984.221   0      0     1        Inf        0      Inf  \n19989 server   9985.571   1      0     1        Inf        1      Inf  \n19990 server   9985.603   0      0     1        Inf        0      Inf  \n19991 server   9986.378   1      0     1        Inf        1      Inf  \n19992 server   9986.510   1      1     1        Inf        2      Inf  \n19993 server   9987.699   1      0     1        Inf        1      Inf  \n19994 server   9988.080   0      0     1        Inf        0      Inf  \n19995 server   9988.112   1      0     1        Inf        1      Inf  \n19996 server   9989.662   0      0     1        Inf        0      Inf  \n19997 server   9991.574   1      0     1        Inf        1      Inf  \n19998 server   9992.022   1      1     1        Inf        2      Inf  \n19999 server   9992.184   1      0     1        Inf        1      Inf  \n20000 server   9993.061   0      0     1        Inf        0      Inf  \n20001 server   9993.094   1      0     1        Inf        1      Inf  \n20002 server   9993.911   0      0     1        Inf        0      Inf  \n20003 server   9995.650   1      0     1        Inf        1      Inf  \n20004 server   9995.764   1      1     1        Inf        2      Inf  \n20005 server   9997.337   1      0     1        Inf        1      Inf  \n20006 server   9998.314   0      0     1        Inf        0      Inf  \n20007 server   9998.556   1      0     1        Inf        1      Inf  \n20008 server   9998.938   1      1     1        Inf        2      Inf  \n20009 server   9999.022   1      0     1        Inf        1      Inf  \n20010 server   9999.052   0      0     1        Inf        0      Inf  \n      replication\n1     1          \n2     1          \n3     1          \n4     1          \n5     1          \n6     1          \n7     1          \n8     1          \n9     1          \n10    1          \n11    1          \n12    1          \n13    1          \n14    1          \n15    1          \n16    1          \n17    1          \n18    1          \n19    1          \n20    1          \n21    1          \n22    1          \n23    1          \n24    1          \n25    1          \n26    1          \n27    1          \n28    1          \n29    1          \n30    1          \n\u22ee     \u22ee          \n19981 1          \n19982 1          \n19983 1          \n19984 1          \n19985 1          \n19986 1          \n19987 1          \n19988 1          \n19989 1          \n19990 1          \n19991 1          \n19992 1          \n19993 1          \n19994 1          \n19995 1          \n19996 1          \n19997 1          \n19998 1          \n19999 1          \n20000 1          \n20001 1          \n20002 1          \n20003 1          \n20004 1          \n20005 1          \n20006 1          \n20007 1          \n20008 1          \n20009 1          \n20010 1          "
                    },
                    "metadata": {},
                    "output_type": "display_data"
                }
            ],
            "source": "arrivals <- env %>% get_mon_arrivals(ongoing = TRUE) # Show ongoing tasks too.\nresources <- env %>% get_mon_resources()\narrivals\nresources"
        },
        {
            "cell_type": "markdown",
            "metadata": {},
            "source": "\u041e\u0442\u0444\u0438\u043b\u044c\u0442\u0440\u0443\u0435\u043c NA \u0437\u043d\u0430\u0447\u0435\u043d\u0438\u044f:"
        },
        {
            "cell_type": "code",
            "execution_count": 46,
            "metadata": {
                "trusted": true
            },
            "outputs": [],
            "source": "arrivals[\"end_time\"][arrivals[\"start_time\"] == -1] <- SIMULATION_TIME\narrivals[\"start_time\"][arrivals[\"start_time\"] == -1] <- SIMULATION_TIME\narrivals[\"end_time\"][is.na(arrivals[\"end_time\"])] <- SIMULATION_TIME\narrivals[\"activity_time\"][is.na(arrivals[\"activity_time\"])] <- 0"
        },
        {
            "cell_type": "markdown",
            "metadata": {},
            "source": "\u0420\u0430\u0437\u0434\u0435\u043b\u0438\u043c \u0437\u0430\u044f\u0432\u043a\u0438 \u043f\u043e \u043f\u0440\u0438\u043e\u0440\u0438\u0442\u0435\u0442\u0443 \u0438 \u043f\u043e\u0434\u0441\u0447\u0438\u0442\u0430\u0435\u043c \u0434\u043b\u044f \u043a\u0430\u0436\u0434\u043e\u0433\u043e \u043d\u0430\u0431\u043e\u0440\u0430 \u0434\u0430\u043d\u043d\u044b\u0445 \u0432\u0440\u0435\u043c\u044f:"
        },
        {
            "cell_type": "code",
            "execution_count": 61,
            "metadata": {
                "trusted": true
            },
            "outputs": [
                {
                    "data": {
                        "text/html": "<table class=\"dataframe\">\n<caption>A data.frame: 4 \u00d7 2</caption>\n<thead>\n\t<tr><th></th><th scope=col>theoretical</th><th scope=col>practical</th></tr>\n\t<tr><th></th><th scope=col>&lt;dbl&gt;</th><th scope=col>&lt;list&gt;</th></tr>\n</thead>\n<tbody>\n\t<tr><th scope=row>1</th><td>5.786096</td><td>6.279072</td></tr>\n\t<tr><th scope=row>2</th><td>4.225534</td><td>5.36344</td></tr>\n\t<tr><th scope=row>3</th><td>3.370473</td><td>3.428539</td></tr>\n\t<tr><th scope=row>4</th><td>1.104573</td><td>1.157447</td></tr>\n</tbody>\n</table>\n",
                        "text/latex": "A data.frame: 4 \u00d7 2\n\\begin{tabular}{r|ll}\n  & theoretical & practical\\\\\n  & <dbl> & <list>\\\\\n\\hline\n\t1 & 5.786096 & 6.279072\\\\\n\t2 & 4.225534 & 5.36344\\\\\n\t3 & 3.370473 & 3.428539\\\\\n\t4 & 1.104573 & 1.157447\\\\\n\\end{tabular}\n",
                        "text/markdown": "\nA data.frame: 4 \u00d7 2\n\n| <!--/--> | theoretical &lt;dbl&gt; | practical &lt;list&gt; |\n|---|---|---|\n| 1 | 5.786096 | 6.279072 |\n| 2 | 4.225534 | 5.36344 |\n| 3 | 3.370473 | 3.428539 |\n| 4 | 1.104573 | 1.157447 |\n\n",
                        "text/plain": "  theoretical practical\n1 5.786096    6.279072 \n2 4.225534    5.36344  \n3 3.370473    3.428539 \n4 1.104573    1.157447 "
                    },
                    "metadata": {},
                    "output_type": "display_data"
                }
            ],
            "source": "patterns <- lapply(1:P, function(i) paste(\"documents\", 1))\n\nresults$practical <- lapply(A, function(pattern) {\n    arrivals[grepl(arrivals$name, pattern = pattern, fixed = TRUE), ] %>%\n        with(mean(end_time - activity_time - start_time))\n})\nresults"
        },
        {
            "cell_type": "markdown",
            "metadata": {},
            "source": "### \u0412\u044b\u0432\u043e\u0434\n\u041a\u0430\u043a \u0432\u0438\u0434\u043d\u043e, \u0442\u0435\u043e\u0440\u0435\u0442\u0438\u0447\u0435\u0441\u043a\u0438 \u0432\u044b\u0447\u0438\u0441\u043b\u0435\u043d\u043d\u043e\u0435 \u0437\u043d\u0430\u0447\u0435\u043d\u0438\u0435 \u0441 \u043d\u0435\u043a\u043e\u0442\u043e\u0440\u043e\u0439 \u0442\u043e\u0447\u043d\u043e\u0441\u0442\u044c\u044e \u0441\u043e\u0432\u043f\u0430\u0434\u0430\u0435\u0442\n\u0441\u043e \u0437\u043d\u0430\u0447\u0435\u043d\u0438\u0435\u043c, \u043f\u043e\u043b\u0443\u0447\u0435\u043d\u043d\u044b\u043c \u0442\u0435\u043e\u0440\u0435\u0442\u0438\u0447\u0435\u0441\u043a\u0438. \u041f\u0440\u0438 \u0443\u0432\u0435\u043b\u0438\u0447\u0435\u043d\u0438\u0438 \u043a\u043e\u043b\u0438\u0447\u0435\u0441\u0442\u0432\u0430\n\u044d\u043a\u0441\u043f\u0435\u0440\u0438\u043c\u0435\u043d\u0442\u043e\u0432 \ud835\udc41 \u0442\u043e\u0447\u043d\u043e\u0441\u0442\u044c \u0442\u043e\u043b\u044c\u043a\u043e \u0443\u0432\u0435\u043b\u0438\u0447\u0438\u0432\u0430\u0435\u0442\u0441\u044f."
        }
    ],
    "metadata": {
        "kernelspec": {
            "display_name": "R",
            "language": "R",
            "name": "ir"
        },
        "language_info": {
            "codemirror_mode": "r",
            "file_extension": ".r",
            "mimetype": "text/x-r-source",
            "name": "R",
            "pygments_lexer": "r",
            "version": "4.2.3"
        }
    },
    "nbformat": 4,
    "nbformat_minor": 5
}