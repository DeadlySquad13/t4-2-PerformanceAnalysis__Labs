{
    "cells": [
        {
            "cell_type": "markdown",
            "metadata": {},
            "source": "# \u041b\u0430\u0431\u043e\u0440\u0430\u0442\u043e\u0440\u043d\u0430\u044f \u0440\u0430\u0431\u043e\u0442\u0430 8. \u0410\u043d\u0430\u043b\u0438\u0437 \u043e\u0434\u043d\u043e\u043a\u0430\u043d\u0430\u043b\u044c\u043d\u043e\u0439 \u0441\u0438\u0441\u0442\u0435\u043c\u044b \u043c\u0430\u0441\u0441\u043e\u0432\u043e\u0433\u043e \u043e\u0431\u0441\u043b\u0443\u0436\u0438\u0432\u0430\u043d\u0438\u044f \u0441 \u0443\u0447\u0435\u0442\u043e\u043c \u043f\u0440\u0438\u043e\u0440\u0438\u0442\u0435\u0442\u0430 \u0437\u0430\u044f\u0432\u043e\u043a\n\u0412\u044b\u043f\u043e\u043b\u043d\u0438\u043b \u0441\u0442\u0443\u0434\u0435\u043d\u0442 \u0420\u04225-81\u0411 \u041f\u0430\u043a\u0430\u043b\u043e \u0410\u043b\u0435\u043a\u0441\u0430\u043d\u0434\u0440 \u0421\u0435\u0440\u0433\u0435\u0435\u0432\u0438\u0447"
        },
        {
            "cell_type": "markdown",
            "metadata": {},
            "source": "\u0417\u0430\u0434\u0430\u043d\u0438\u0435 1.\n\u0421\u0438\u0441\u0442\u0435\u043c\u0430 \u044d\u043b\u0435\u043a\u0442\u0440\u043e\u043d\u043d\u043e\u0433\u043e \u0434\u043e\u043a\u0443\u043c\u0435\u043d\u0442\u043e\u043e\u0431\u043e\u0440\u043e\u0442\u0430 \u0441 \u0430\u0432\u0442\u043e\u043c\u0430\u0442\u0438\u0447\u0435\u0441\u043a\u0438\u043c \u043a\u043b\u0430\u0441\u0441\u0438\u0444\u0438\u043a\u0430\u0442\u043e\u0440\u043e\u043c\n\u043f\u043e\u0441\u0442\u0443\u043f\u0430\u044e\u0449\u0435\u0439 \u043a\u043e\u0440\u0440\u0435\u0441\u043f\u043e\u043d\u0434\u0435\u043d\u0446\u0438\u0438 \u0434\u043e\u043b\u0436\u043d\u0430 \u0443\u0447\u0438\u0442\u044b\u0432\u0430\u0442\u044c \u0440\u0430\u0437\u043b\u0438\u0447\u043d\u0443\u044e \u0432\u0430\u0436\u043d\u043e\u0441\u0442\u044c \u0434\u043e\u043a\u0443\u043c\u0435\u043d\u0442\u043e\u0432,\n\u043a\u043e\u043b\u0438\u0447\u0435\u0441\u0442\u0432\u043e \u0442\u0438\u043f\u043e\u0432 \u0434\u043e\u043a\u0443\u043c\u0435\u043d\u0442\u043e\u0432 $P$,\n\u0441\u0440\u0435\u0434\u043d\u044f\u044f \u0438\u043d\u0442\u0435\u043d\u0441\u0438\u0432\u043d\u043e\u0441\u0442\u044c \u043f\u043e\u0441\u0442\u0443\u043f\u043b\u0435\u043d\u0438\u044f \u0437\u0430\u044f\u0432\u043e\u043a\n$\\lambda_1, \\lambda_2, \\dots, \\lambda_P$,\n\u0441\u0440\u0435\u0434\u043d\u044f\u044f \u0438\u043d\u0442\u0435\u043d\u0441\u0438\u0432\u043d\u043e\u0441\u0442\u044c \u043e\u0431\u0441\u043b\u0443\u0436\u0438\u0432\u0430\u043d\u0438\u044f\n$\\mu_1, \\mu_2, \\dots, \\mu_P$ \u0441\u043e\u043e\u0442\u0432\u0435\u0442\u0441\u0442\u0432\u0435\u043d\u043d\u043e, \u043e\u0447\u0435\u0440\u0435\u0434\u044c \u043d\u0435\u043e\u0433\u0440\u0430\u043d\u0438\u0447\u0435\u043d\u0430.\n\u041f\u0440\u0438\u043e\u0440\u0438\u0442\u0435\u0442\u044b \u0437\u0430\u044f\u0432\u043e\u043a\n$p_1 < p_2 < \\dots < p_P$.\n\n\u041e\u0446\u0435\u043d\u0438\u0442\u044c \u0441\u0440\u0435\u0434\u043d\u0435\u0435 \u0432\u0440\u0435\u043c\u044f \u043d\u0430\u0445\u043e\u0436\u0434\u0435\u043d\u0438\u044f \u043a\u0430\u0436\u0434\u043e\u0433\u043e \u0442\u0438\u043f\u0430 \u0437\u0430\u044f\u0432\u043a\u0438 \u0432 \u043e\u0447\u0435\u0440\u0435\u0434\u0438 (\u0442\u0435\u043e\u0440\u0435\u0442\u0438\u0447\u0435\u0441\u043a\u0438\n\u0438 \u044d\u043a\u0441\u043f\u0435\u0440\u0438\u043c\u0435\u043d\u0442\u0430\u043b\u044c\u043d\u043e) \u0434\u043b\u044f \u043e\u0434\u043d\u043e\u0433\u043e \u0438\u0437 4 \u0441\u043b\u0443\u0447\u0430\u0435\u0432:\n\n- \u043e\u0442\u043d\u043e\u0441\u0438\u0442\u0435\u043b\u044c\u043d\u044b\u0439 \u0444\u0438\u043a\u0441\u0438\u0440\u043e\u0432\u0430\u043d\u043d\u044b\u0439 \u043f\u0440\u0438\u043e\u0440\u0438\u0442\u0435\u0442 (V1);\n- \u0430\u0431\u0441\u043e\u043b\u044e\u0442\u043d\u044b\u0439 \u0444\u0438\u043a\u0441\u0438\u0440\u043e\u0432\u0430\u043d\u043d\u044b\u0439 \u043f\u0440\u0438\u043e\u0440\u0438\u0442\u0435\u0442 (V2);\n- \u043f\u0440\u0438\u043e\u0440\u0438\u0442\u0435\u0442 \u0441 \u0437\u0430\u0432\u0438\u0441\u0438\u043c\u043e\u0439 \u0437\u0430\u0434\u0435\u0440\u0436\u043a\u043e\u0439 \u0431\u0435\u0437 \u043f\u0440\u0435\u0440\u044b\u0432\u0430\u043d\u0438\u044f (V3);\n- \u043f\u0440\u0438\u043e\u0440\u0438\u0442\u0435\u0442 \u0441 \u0437\u0430\u0432\u0438\u0441\u0438\u043c\u043e\u0439 \u0437\u0430\u0434\u0435\u0440\u0436\u043a\u043e\u0439 \u0441 \u043f\u0440\u0435\u0440\u044b\u0432\u0430\u043d\u0438\u044f\u043c\u0438 (V4);\n\n\u0432 \u0441\u043e\u043e\u0442\u0432\u0435\u0442\u0441\u0442\u0432\u0438\u0438 \u0441 \u0432\u0430\u0440\u0438\u0430\u043d\u0442\u043e\u043c."
        },
        {
            "cell_type": "code",
            "execution_count": 1,
            "metadata": {
                "trusted": true
            },
            "outputs": [
                {
                    "data": {
                        "text/html": "<table class=\"dataframe\">\n<caption>A data.frame: 1 \u00d7 2</caption>\n<thead>\n\t<tr><th scope=col>P</th><th scope=col>V</th></tr>\n\t<tr><th scope=col>&lt;dbl&gt;</th><th scope=col>&lt;chr&gt;</th></tr>\n</thead>\n<tbody>\n\t<tr><td>4</td><td>V2</td></tr>\n</tbody>\n</table>\n",
                        "text/latex": "A data.frame: 1 \u00d7 2\n\\begin{tabular}{ll}\n P & V\\\\\n <dbl> & <chr>\\\\\n\\hline\n\t 4 & V2\\\\\n\\end{tabular}\n",
                        "text/markdown": "\nA data.frame: 1 \u00d7 2\n\n| P &lt;dbl&gt; | V &lt;chr&gt; |\n|---|---|\n| 4 | V2 |\n\n",
                        "text/plain": "  P V \n1 4 V2"
                    },
                    "metadata": {},
                    "output_type": "display_data"
                },
                {
                    "data": {
                        "text/html": "<table class=\"dataframe\">\n<caption>A data.frame: 4 \u00d7 2</caption>\n<thead>\n\t<tr><th scope=col>lambda</th><th scope=col>mu</th></tr>\n\t<tr><th scope=col>&lt;dbl&gt;</th><th scope=col>&lt;dbl&gt;</th></tr>\n</thead>\n<tbody>\n\t<tr><td>0.9168758</td><td>2.055920</td></tr>\n\t<tr><td>0.2843995</td><td>2.615870</td></tr>\n\t<tr><td>0.1046501</td><td>2.913000</td></tr>\n\t<tr><td>0.7010575</td><td>1.220906</td></tr>\n</tbody>\n</table>\n",
                        "text/latex": "A data.frame: 4 \u00d7 2\n\\begin{tabular}{ll}\n lambda & mu\\\\\n <dbl> & <dbl>\\\\\n\\hline\n\t 0.9168758 & 2.055920\\\\\n\t 0.2843995 & 2.615870\\\\\n\t 0.1046501 & 2.913000\\\\\n\t 0.7010575 & 1.220906\\\\\n\\end{tabular}\n",
                        "text/markdown": "\nA data.frame: 4 \u00d7 2\n\n| lambda &lt;dbl&gt; | mu &lt;dbl&gt; |\n|---|---|\n| 0.9168758 | 2.055920 |\n| 0.2843995 | 2.615870 |\n| 0.1046501 | 2.913000 |\n| 0.7010575 | 1.220906 |\n\n",
                        "text/plain": "  lambda    mu      \n1 0.9168758 2.055920\n2 0.2843995 2.615870\n3 0.1046501 2.913000\n4 0.7010575 1.220906"
                    },
                    "metadata": {},
                    "output_type": "display_data"
                }
            ],
            "source": "Variant <- 5\nset.seed(Variant)\nV <- sample(c(\"V1\", \"V2\", \"V3\", \"V4\"), 1)\nP <- sample(c(4, 6), 1)\nif ((V == \"V3\") | (V == \"V4\")) {\n    b <- sort(sample(c(1:10), P))\n}\nlambda <- runif(P)\nmu <- runif(P, 1, 3)\nView(data.frame(P, V))\nif ((V == \"V3\") | (V == \"V4\")) {\n    View(data.frame(lambda, mu, b))\n}\nif ((V == \"V1\") | (V == \"V2\")) {\n    View(data.frame(lambda, mu))\n}"
        },
        {
            "cell_type": "code",
            "execution_count": 3,
            "metadata": {
                "trusted": true
            },
            "outputs": [
                {
                    "data": {
                        "text/html": "0.697004245023187",
                        "text/latex": "0.697004245023187",
                        "text/markdown": "0.697004245023187",
                        "text/plain": "[1] 0.6970042"
                    },
                    "metadata": {},
                    "output_type": "display_data"
                }
            ],
            "source": "sum(lambda / mu)"
        },
        {
            "cell_type": "markdown",
            "metadata": {},
            "source": "\u041a\u0430\u043a \u0432\u0438\u0434\u043d\u043e, \u0441\u0443\u043c\u043c\u0430\u0440\u043d\u0430\u044f \u043d\u0430\u0433\u0440\u0443\u0437\u043a\u0430 \u043d\u0430 \u0441\u0438\u0441\u0442\u0435\u043c\u0443 \u043f\u0440\u0435\u0432\u044b\u0448\u0430\u0435\u0442 1, \u0441\u043b\u0435\u0434\u043e\u0432\u0430\u0442\u0435\u043b\u044c\u043d\u043e \u0431\u0443\u0434\u0435\u0442\n\u043d\u0430\u043a\u0430\u043f\u043b\u0438\u0432\u0430\u0442\u044c\u0441\u044f \u0431\u0435\u0441\u043a\u043e\u043d\u0435\u0447\u043d\u0430\u044f \u043e\u0447\u0435\u0440\u0435\u0434\u044c. \u041d\u0435\u043c\u043d\u043e\u0433\u043e \u0438\u0437\u043c\u0435\u043d\u0438\u043c\n\u0438\u0441\u0445\u043e\u0434\u043d\u044b\u0435 \u0434\u0430\u043d\u043d\u044b\u0435."
        },
        {
            "cell_type": "code",
            "execution_count": 4,
            "metadata": {
                "trusted": true
            },
            "outputs": [
                {
                    "data": {
                        "text/html": "0.697004245023187",
                        "text/latex": "0.697004245023187",
                        "text/markdown": "0.697004245023187",
                        "text/plain": "[1] 0.6970042"
                    },
                    "metadata": {},
                    "output_type": "display_data"
                }
            ],
            "source": "lambda[1] <- 0.1\nlambda[2] <- 0.1\nro <- sum(lambda / mu)\nro"
        },
        {
            "cell_type": "markdown",
            "metadata": {},
            "source": "### \u0422\u0435\u043e\u0440\u0435\u0442\u0438\u0447\u0435\u0441\u043a\u0438\n$$\\lambda=\\sum_{p=1}^P\\lambda_p$$"
        },
        {
            "cell_type": "code",
            "execution_count": 5,
            "metadata": {
                "trusted": true
            },
            "outputs": [
                {
                    "data": {
                        "text/html": "1.00570758716203",
                        "text/latex": "1.00570758716203",
                        "text/markdown": "1.00570758716203",
                        "text/plain": "[1] 1.005708"
                    },
                    "metadata": {},
                    "output_type": "display_data"
                }
            ],
            "source": "lambda_ <- sum(lambda)\nlambda_"
        },
        {
            "cell_type": "markdown",
            "metadata": {},
            "source": "$$\\frac{1}{\\mu}=\\sum_{p=1}^P \\frac{\\lambda_p}{\\lambda}\\cdot \\frac{1}{\\mu_p}$$"
        },
        {
            "cell_type": "code",
            "execution_count": 7,
            "metadata": {
                "trusted": true
            },
            "outputs": [
                {
                    "data": {
                        "text/html": "0.693048609675936",
                        "text/latex": "0.693048609675936",
                        "text/markdown": "0.693048609675936",
                        "text/plain": "[1] 0.6930486"
                    },
                    "metadata": {},
                    "output_type": "display_data"
                }
            ],
            "source": "ro <- lambda / mu\n\nmu_ <- sum(ro) / lambda_\nmu_"
        },
        {
            "cell_type": "markdown",
            "metadata": {},
            "source": "$$\\rho=\\frac{\\lambda}{\\mu}$$"
        },
        {
            "cell_type": "code",
            "execution_count": 8,
            "metadata": {
                "trusted": true
            },
            "outputs": [
                {
                    "data": {
                        "text/html": "1.45113571129202",
                        "text/latex": "1.45113571129202",
                        "text/markdown": "1.45113571129202",
                        "text/plain": "[1] 1.451136"
                    },
                    "metadata": {},
                    "output_type": "display_data"
                }
            ],
            "source": "ro_ <- lambda_ / mu_\nro_"
        },
        {
            "cell_type": "markdown",
            "metadata": {},
            "source": "$$W_0=\\sum_{p=1}^P\\frac{\\rho_p}{\\mu_p}$$"
        },
        {
            "cell_type": "code",
            "execution_count": 9,
            "metadata": {
                "trusted": true
            },
            "outputs": [
                {
                    "data": {
                        "text/html": "0.52092051124021",
                        "text/latex": "0.52092051124021",
                        "text/markdown": "0.52092051124021",
                        "text/plain": "[1] 0.5209205"
                    },
                    "metadata": {},
                    "output_type": "display_data"
                }
            ],
            "source": "W0 <- sum(ro / mu)\nW0"
        },
        {
            "cell_type": "markdown",
            "metadata": {},
            "source": "\u0414\u043b\u044f \u043f\u043e\u043b\u0443\u0447\u0435\u043d\u0438\u044f $W_p$ \u0432\u043e\u0441\u043f\u043e\u043b\u044c\u0437\u0443\u0435\u043c\u0441\u044f \u0444\u043e\u0440\u043c\u0443\u043b\u043e\u0439\n\n$$W_p= \\frac{\\frac{\\rho_p}{\\mu_p}+\\sum_{i=p+1}^P \\rho_i\\cdot \\left(\\frac{1}{\\mu_p}+\\frac{1}{\\mu_i}\\right)+\\sum_{i=p+1}^P\\rho_i\\cdot W_i}{1-\\sum_{i=p}^P \\rho_i}$$"
        },
        {
            "cell_type": "code",
            "execution_count": 10,
            "metadata": {
                "trusted": true
            },
            "outputs": [
                {
                    "data": {
                        "text/html": "<table class=\"dataframe\">\n<caption>A data.frame: 4 \u00d7 1</caption>\n<thead>\n\t<tr><th></th><th scope=col>theoretical</th></tr>\n\t<tr><th></th><th scope=col>&lt;dbl&gt;</th></tr>\n</thead>\n<tbody>\n\t<tr><th scope=row>1</th><td>5.786096</td></tr>\n\t<tr><th scope=row>2</th><td>4.225534</td></tr>\n\t<tr><th scope=row>3</th><td>3.370473</td></tr>\n\t<tr><th scope=row>4</th><td>1.104573</td></tr>\n</tbody>\n</table>\n",
                        "text/latex": "A data.frame: 4 \u00d7 1\n\\begin{tabular}{r|l}\n  & theoretical\\\\\n  & <dbl>\\\\\n\\hline\n\t1 & 5.786096\\\\\n\t2 & 4.225534\\\\\n\t3 & 3.370473\\\\\n\t4 & 1.104573\\\\\n\\end{tabular}\n",
                        "text/markdown": "\nA data.frame: 4 \u00d7 1\n\n| <!--/--> | theoretical &lt;dbl&gt; |\n|---|---|\n| 1 | 5.786096 |\n| 2 | 4.225534 |\n| 3 | 3.370473 |\n| 4 | 1.104573 |\n\n",
                        "text/plain": "  theoretical\n1 5.786096   \n2 4.225534   \n3 3.370473   \n4 1.104573   "
                    },
                    "metadata": {},
                    "output_type": "display_data"
                }
            ],
            "source": "get_Wqueue <- function(p) {\n    numerator <- ro[p] / mu[p]\n    denominator <- 1 - sum(ro[p:P])\n\n    if (p == P) {\n        return(numerator / denominator)\n    }\n\n    sum_part1 <- sum(unlist(\n        lapply(\n            c((p + 1):P),\n            function(i) ro[i] * (1 / mu[p] + 1 / mu[i])\n        )\n    ))\n\n    sum_part2 <- sum(unlist(\n        lapply(\n            c((p + 1):P),\n            function(i) ro[i] * get_Wqueue(i)\n        )\n    ))\n\n    result <- (numerator + sum_part1 + sum_part2) / denominator\n\n\n    if (result < 0) {\n        return(Inf)\n    }\n\n    return(result)\n}\n\nresults <- data.frame(theoretical = unlist(lapply(1:P, get_Wqueue)))\nrow.names(results) <- 1:P\nresults"
        },
        {
            "cell_type": "markdown",
            "metadata": {},
            "source": "### \u0427\u0438\u0441\u043b\u0435\u043d\u043d\u043e"
        },
        {
            "cell_type": "code",
            "execution_count": 11,
            "metadata": {
                "trusted": true
            },
            "outputs": [
                {
                    "name": "stderr",
                    "output_type": "stream",
                    "text": "Loading required package: simmer\n\n"
                },
                {
                    "data": {
                        "text/plain": "simmer environment: SuperDuperSim | now: 0 | next: \n{ Monitor: in memory }"
                    },
                    "metadata": {},
                    "output_type": "display_data"
                }
            ],
            "source": "if (!require(\"simmer\")) {\n    install.packages(\"simmer\")\n}\nlibrary(simmer)\n\nenv <- simmer(\"SuperDuperSim\")\nenv"
        },
        {
            "cell_type": "code",
            "execution_count": 12,
            "metadata": {
                "trusted": true
            },
            "outputs": [],
            "source": "create_trajectory <- function(mu, name) {\n    return(trajectory(name) %>%\n        seize(\"server\", 1) %>%\n        timeout(function() rexp(1, mu)) %>%\n        release(\"server\", 1))\n}\n\ncreate_application_generator <- function(env, i) {\n    name <- gsub(\" \", \"\", paste(\"documents\", i))\n\n    env %>%\n        add_generator(\n            name_prefix = name,\n            trajectory = create_trajectory(mu[i], name),\n            distribution = function() rexp(1, lambda[i]),\n            priority = i,\n            preemptible = i + 1,\n        )\n}\n\nadd_generators <- function(env, n) {\n    for (i in 1:n) {\n        create_application_generator(env, i)\n    }\n}"
        },
        {
            "cell_type": "code",
            "execution_count": 13,
            "metadata": {
                "trusted": true
            },
            "outputs": [
                {
                    "data": {
                        "text/plain": "simmer environment: SuperDuperSim | now: 0 | next: \n{ Monitor: in memory }\n{ Resource: server | monitored: TRUE | server status: 0(1) | queue status: 0(Inf) }"
                    },
                    "metadata": {},
                    "output_type": "display_data"
                },
                {
                    "data": {
                        "text/plain": "simmer environment: SuperDuperSim | now: 10000 | next: 10000.6691352204\n{ Monitor: in memory }\n{ Resource: server | monitored: TRUE | server status: 0(1) | queue status: 0(Inf) }\n{ Source: documents1 | monitored: 1 | n_generated: 949 }\n{ Source: documents2 | monitored: 1 | n_generated: 1007 }\n{ Source: documents3 | monitored: 1 | n_generated: 1026 }\n{ Source: documents4 | monitored: 1 | n_generated: 7068 }"
                    },
                    "metadata": {},
                    "output_type": "display_data"
                }
            ],
            "source": "SIMULATION_TIME <- 10000\n\nenv %>%\n    add_resource(\"server\", preemptive = TRUE)\n\nadd_generators(env, P)\n\nenv %>% run(until = SIMULATION_TIME)"
        },
        {
            "cell_type": "code",
            "execution_count": 14,
            "metadata": {
                "trusted": true
            },
            "outputs": [],
            "source": "programmers <- trajectory(\"programmers' path\") %>%\n    ## add an intake activity\n    seize(\"server\", 1) %>%\n    timeout(function() rexp(1, 1 / t2)) %>%\n    release(\"server\", 1)"
        },
        {
            "cell_type": "code",
            "execution_count": 15,
            "metadata": {
                "trusted": true
            },
            "outputs": [
                {
                    "data": {
                        "text/html": "<table class=\"dataframe\">\n<caption>A data.frame: 10050 \u00d7 6</caption>\n<thead>\n\t<tr><th scope=col>name</th><th scope=col>start_time</th><th scope=col>end_time</th><th scope=col>activity_time</th><th scope=col>finished</th><th scope=col>replication</th></tr>\n\t<tr><th scope=col>&lt;chr&gt;</th><th scope=col>&lt;dbl&gt;</th><th scope=col>&lt;dbl&gt;</th><th scope=col>&lt;dbl&gt;</th><th scope=col>&lt;lgl&gt;</th><th scope=col>&lt;int&gt;</th></tr>\n</thead>\n<tbody>\n\t<tr><td>documents40 </td><td> 1.773393</td><td> 1.893377</td><td>0.1199846</td><td>TRUE</td><td>1</td></tr>\n\t<tr><td>documents41 </td><td> 2.322054</td><td> 2.970355</td><td>0.6483008</td><td>TRUE</td><td>1</td></tr>\n\t<tr><td>documents42 </td><td> 4.437891</td><td> 5.088018</td><td>0.6501270</td><td>TRUE</td><td>1</td></tr>\n\t<tr><td>documents43 </td><td> 4.496584</td><td> 6.139589</td><td>1.0515709</td><td>TRUE</td><td>1</td></tr>\n\t<tr><td>documents10 </td><td> 7.862870</td><td> 8.170349</td><td>0.3074790</td><td>TRUE</td><td>1</td></tr>\n\t<tr><td>documents20 </td><td> 8.751629</td><td> 8.897312</td><td>0.1456833</td><td>TRUE</td><td>1</td></tr>\n\t<tr><td>documents44 </td><td> 9.454486</td><td> 9.935456</td><td>0.4809696</td><td>TRUE</td><td>1</td></tr>\n\t<tr><td>documents45 </td><td>12.557795</td><td>13.566435</td><td>1.0086402</td><td>TRUE</td><td>1</td></tr>\n\t<tr><td>documents46 </td><td>12.936661</td><td>14.563889</td><td>0.9974542</td><td>TRUE</td><td>1</td></tr>\n\t<tr><td>documents47 </td><td>13.125726</td><td>15.156140</td><td>0.5922503</td><td>TRUE</td><td>1</td></tr>\n\t<tr><td>documents48 </td><td>14.048232</td><td>16.366308</td><td>1.2101682</td><td>TRUE</td><td>1</td></tr>\n\t<tr><td>documents49 </td><td>15.068695</td><td>16.569381</td><td>0.2030730</td><td>TRUE</td><td>1</td></tr>\n\t<tr><td>documents410</td><td>17.866448</td><td>18.426593</td><td>0.5601445</td><td>TRUE</td><td>1</td></tr>\n\t<tr><td>documents30 </td><td>19.123685</td><td>19.320452</td><td>0.1967677</td><td>TRUE</td><td>1</td></tr>\n\t<tr><td>documents31 </td><td>20.165845</td><td>20.727867</td><td>0.5620224</td><td>TRUE</td><td>1</td></tr>\n\t<tr><td>documents411</td><td>20.400130</td><td>20.750020</td><td>0.0221523</td><td>TRUE</td><td>1</td></tr>\n\t<tr><td>documents11 </td><td>20.667557</td><td>21.192986</td><td>0.4429668</td><td>TRUE</td><td>1</td></tr>\n\t<tr><td>documents412</td><td>21.357145</td><td>23.057135</td><td>1.6999893</td><td>TRUE</td><td>1</td></tr>\n\t<tr><td>documents413</td><td>22.280737</td><td>23.653288</td><td>0.5961533</td><td>TRUE</td><td>1</td></tr>\n\t<tr><td>documents32 </td><td>24.319501</td><td>24.659051</td><td>0.3395499</td><td>TRUE</td><td>1</td></tr>\n\t<tr><td>documents414</td><td>25.911699</td><td>26.260650</td><td>0.3489508</td><td>TRUE</td><td>1</td></tr>\n\t<tr><td>documents415</td><td>26.229751</td><td>27.805889</td><td>1.5452390</td><td>TRUE</td><td>1</td></tr>\n\t<tr><td>documents416</td><td>27.709137</td><td>28.323465</td><td>0.5175769</td><td>TRUE</td><td>1</td></tr>\n\t<tr><td>documents21 </td><td>26.312346</td><td>28.978599</td><td>0.6551336</td><td>TRUE</td><td>1</td></tr>\n\t<tr><td>documents417</td><td>29.112486</td><td>29.234452</td><td>0.1219657</td><td>TRUE</td><td>1</td></tr>\n\t<tr><td>documents33 </td><td>29.730971</td><td>30.005969</td><td>0.2749981</td><td>TRUE</td><td>1</td></tr>\n\t<tr><td>documents418</td><td>30.813803</td><td>31.482305</td><td>0.6685014</td><td>TRUE</td><td>1</td></tr>\n\t<tr><td>documents419</td><td>30.869509</td><td>32.200498</td><td>0.7181928</td><td>TRUE</td><td>1</td></tr>\n\t<tr><td>documents420</td><td>30.913621</td><td>34.436262</td><td>2.2357639</td><td>TRUE</td><td>1</td></tr>\n\t<tr><td>documents421</td><td>31.696343</td><td>34.596082</td><td>0.1598205</td><td>TRUE</td><td>1</td></tr>\n\t<tr><td>\u22ee</td><td>\u22ee</td><td>\u22ee</td><td>\u22ee</td><td>\u22ee</td><td>\u22ee</td></tr>\n\t<tr><td>documents47050</td><td>9975.273</td><td>9976.023</td><td>0.74989504</td><td> TRUE</td><td>1</td></tr>\n\t<tr><td>documents47051</td><td>9975.899</td><td>9976.123</td><td>0.10041215</td><td> TRUE</td><td>1</td></tr>\n\t<tr><td>documents47052</td><td>9976.135</td><td>9976.490</td><td>0.35531316</td><td> TRUE</td><td>1</td></tr>\n\t<tr><td>documents47053</td><td>9978.388</td><td>9978.612</td><td>0.22350993</td><td> TRUE</td><td>1</td></tr>\n\t<tr><td>documents47054</td><td>9978.581</td><td>9979.438</td><td>0.82585047</td><td> TRUE</td><td>1</td></tr>\n\t<tr><td>documents47055</td><td>9980.037</td><td>9980.978</td><td>0.94113240</td><td> TRUE</td><td>1</td></tr>\n\t<tr><td>documents47056</td><td>9980.062</td><td>9981.315</td><td>0.33680995</td><td> TRUE</td><td>1</td></tr>\n\t<tr><td>documents21004</td><td>9979.885</td><td>9982.260</td><td>1.09706798</td><td> TRUE</td><td>1</td></tr>\n\t<tr><td>documents31020</td><td>9982.409</td><td>9982.751</td><td>0.34168452</td><td> TRUE</td><td>1</td></tr>\n\t<tr><td>documents47057</td><td>9982.415</td><td>9983.177</td><td>0.42628944</td><td> TRUE</td><td>1</td></tr>\n\t<tr><td>documents47058</td><td>9983.547</td><td>9983.687</td><td>0.13984958</td><td> TRUE</td><td>1</td></tr>\n\t<tr><td>documents47059</td><td>9986.973</td><td>9987.019</td><td>0.04576923</td><td> TRUE</td><td>1</td></tr>\n\t<tr><td>documents47060</td><td>9988.130</td><td>9988.687</td><td>0.55688259</td><td> TRUE</td><td>1</td></tr>\n\t<tr><td>documents47061</td><td>9988.415</td><td>9990.835</td><td>2.14794841</td><td> TRUE</td><td>1</td></tr>\n\t<tr><td>documents31021</td><td>9990.284</td><td>9991.513</td><td>0.67822102</td><td> TRUE</td><td>1</td></tr>\n\t<tr><td>documents21005</td><td>9990.246</td><td>9991.612</td><td>0.09846831</td><td> TRUE</td><td>1</td></tr>\n\t<tr><td>documents1946 </td><td>9989.155</td><td>9991.800</td><td>0.18835298</td><td> TRUE</td><td>1</td></tr>\n\t<tr><td>documents47062</td><td>9991.939</td><td>9992.549</td><td>0.61069691</td><td> TRUE</td><td>1</td></tr>\n\t<tr><td>documents47063</td><td>9993.580</td><td>9993.695</td><td>0.11457443</td><td> TRUE</td><td>1</td></tr>\n\t<tr><td>documents31022</td><td>9994.392</td><td>9994.603</td><td>0.21103884</td><td> TRUE</td><td>1</td></tr>\n\t<tr><td>documents47064</td><td>9995.578</td><td>9995.665</td><td>0.08753929</td><td> TRUE</td><td>1</td></tr>\n\t<tr><td>documents31023</td><td>9996.233</td><td>9996.502</td><td>0.26934729</td><td> TRUE</td><td>1</td></tr>\n\t<tr><td>documents1947 </td><td>9996.191</td><td>9996.552</td><td>0.09118023</td><td> TRUE</td><td>1</td></tr>\n\t<tr><td>documents31024</td><td>9996.757</td><td>9996.877</td><td>0.12040251</td><td> TRUE</td><td>1</td></tr>\n\t<tr><td>documents47065</td><td>9999.084</td><td>9999.894</td><td>0.81006940</td><td> TRUE</td><td>1</td></tr>\n\t<tr><td>documents47066</td><td>9999.241</td><td>9999.944</td><td>0.04984551</td><td> TRUE</td><td>1</td></tr>\n\t<tr><td>documents47067</td><td>  -1.000</td><td>      NA</td><td>        NA</td><td>FALSE</td><td>1</td></tr>\n\t<tr><td>documents31025</td><td>  -1.000</td><td>      NA</td><td>        NA</td><td>FALSE</td><td>1</td></tr>\n\t<tr><td>documents1948 </td><td>  -1.000</td><td>      NA</td><td>        NA</td><td>FALSE</td><td>1</td></tr>\n\t<tr><td>documents21006</td><td>  -1.000</td><td>      NA</td><td>        NA</td><td>FALSE</td><td>1</td></tr>\n</tbody>\n</table>\n",
                        "text/latex": "A data.frame: 10050 \u00d7 6\n\\begin{tabular}{llllll}\n name & start\\_time & end\\_time & activity\\_time & finished & replication\\\\\n <chr> & <dbl> & <dbl> & <dbl> & <lgl> & <int>\\\\\n\\hline\n\t documents40  &  1.773393 &  1.893377 & 0.1199846 & TRUE & 1\\\\\n\t documents41  &  2.322054 &  2.970355 & 0.6483008 & TRUE & 1\\\\\n\t documents42  &  4.437891 &  5.088018 & 0.6501270 & TRUE & 1\\\\\n\t documents43  &  4.496584 &  6.139589 & 1.0515709 & TRUE & 1\\\\\n\t documents10  &  7.862870 &  8.170349 & 0.3074790 & TRUE & 1\\\\\n\t documents20  &  8.751629 &  8.897312 & 0.1456833 & TRUE & 1\\\\\n\t documents44  &  9.454486 &  9.935456 & 0.4809696 & TRUE & 1\\\\\n\t documents45  & 12.557795 & 13.566435 & 1.0086402 & TRUE & 1\\\\\n\t documents46  & 12.936661 & 14.563889 & 0.9974542 & TRUE & 1\\\\\n\t documents47  & 13.125726 & 15.156140 & 0.5922503 & TRUE & 1\\\\\n\t documents48  & 14.048232 & 16.366308 & 1.2101682 & TRUE & 1\\\\\n\t documents49  & 15.068695 & 16.569381 & 0.2030730 & TRUE & 1\\\\\n\t documents410 & 17.866448 & 18.426593 & 0.5601445 & TRUE & 1\\\\\n\t documents30  & 19.123685 & 19.320452 & 0.1967677 & TRUE & 1\\\\\n\t documents31  & 20.165845 & 20.727867 & 0.5620224 & TRUE & 1\\\\\n\t documents411 & 20.400130 & 20.750020 & 0.0221523 & TRUE & 1\\\\\n\t documents11  & 20.667557 & 21.192986 & 0.4429668 & TRUE & 1\\\\\n\t documents412 & 21.357145 & 23.057135 & 1.6999893 & TRUE & 1\\\\\n\t documents413 & 22.280737 & 23.653288 & 0.5961533 & TRUE & 1\\\\\n\t documents32  & 24.319501 & 24.659051 & 0.3395499 & TRUE & 1\\\\\n\t documents414 & 25.911699 & 26.260650 & 0.3489508 & TRUE & 1\\\\\n\t documents415 & 26.229751 & 27.805889 & 1.5452390 & TRUE & 1\\\\\n\t documents416 & 27.709137 & 28.323465 & 0.5175769 & TRUE & 1\\\\\n\t documents21  & 26.312346 & 28.978599 & 0.6551336 & TRUE & 1\\\\\n\t documents417 & 29.112486 & 29.234452 & 0.1219657 & TRUE & 1\\\\\n\t documents33  & 29.730971 & 30.005969 & 0.2749981 & TRUE & 1\\\\\n\t documents418 & 30.813803 & 31.482305 & 0.6685014 & TRUE & 1\\\\\n\t documents419 & 30.869509 & 32.200498 & 0.7181928 & TRUE & 1\\\\\n\t documents420 & 30.913621 & 34.436262 & 2.2357639 & TRUE & 1\\\\\n\t documents421 & 31.696343 & 34.596082 & 0.1598205 & TRUE & 1\\\\\n\t \u22ee & \u22ee & \u22ee & \u22ee & \u22ee & \u22ee\\\\\n\t documents47050 & 9975.273 & 9976.023 & 0.74989504 &  TRUE & 1\\\\\n\t documents47051 & 9975.899 & 9976.123 & 0.10041215 &  TRUE & 1\\\\\n\t documents47052 & 9976.135 & 9976.490 & 0.35531316 &  TRUE & 1\\\\\n\t documents47053 & 9978.388 & 9978.612 & 0.22350993 &  TRUE & 1\\\\\n\t documents47054 & 9978.581 & 9979.438 & 0.82585047 &  TRUE & 1\\\\\n\t documents47055 & 9980.037 & 9980.978 & 0.94113240 &  TRUE & 1\\\\\n\t documents47056 & 9980.062 & 9981.315 & 0.33680995 &  TRUE & 1\\\\\n\t documents21004 & 9979.885 & 9982.260 & 1.09706798 &  TRUE & 1\\\\\n\t documents31020 & 9982.409 & 9982.751 & 0.34168452 &  TRUE & 1\\\\\n\t documents47057 & 9982.415 & 9983.177 & 0.42628944 &  TRUE & 1\\\\\n\t documents47058 & 9983.547 & 9983.687 & 0.13984958 &  TRUE & 1\\\\\n\t documents47059 & 9986.973 & 9987.019 & 0.04576923 &  TRUE & 1\\\\\n\t documents47060 & 9988.130 & 9988.687 & 0.55688259 &  TRUE & 1\\\\\n\t documents47061 & 9988.415 & 9990.835 & 2.14794841 &  TRUE & 1\\\\\n\t documents31021 & 9990.284 & 9991.513 & 0.67822102 &  TRUE & 1\\\\\n\t documents21005 & 9990.246 & 9991.612 & 0.09846831 &  TRUE & 1\\\\\n\t documents1946  & 9989.155 & 9991.800 & 0.18835298 &  TRUE & 1\\\\\n\t documents47062 & 9991.939 & 9992.549 & 0.61069691 &  TRUE & 1\\\\\n\t documents47063 & 9993.580 & 9993.695 & 0.11457443 &  TRUE & 1\\\\\n\t documents31022 & 9994.392 & 9994.603 & 0.21103884 &  TRUE & 1\\\\\n\t documents47064 & 9995.578 & 9995.665 & 0.08753929 &  TRUE & 1\\\\\n\t documents31023 & 9996.233 & 9996.502 & 0.26934729 &  TRUE & 1\\\\\n\t documents1947  & 9996.191 & 9996.552 & 0.09118023 &  TRUE & 1\\\\\n\t documents31024 & 9996.757 & 9996.877 & 0.12040251 &  TRUE & 1\\\\\n\t documents47065 & 9999.084 & 9999.894 & 0.81006940 &  TRUE & 1\\\\\n\t documents47066 & 9999.241 & 9999.944 & 0.04984551 &  TRUE & 1\\\\\n\t documents47067 &   -1.000 &       NA &         NA & FALSE & 1\\\\\n\t documents31025 &   -1.000 &       NA &         NA & FALSE & 1\\\\\n\t documents1948  &   -1.000 &       NA &         NA & FALSE & 1\\\\\n\t documents21006 &   -1.000 &       NA &         NA & FALSE & 1\\\\\n\\end{tabular}\n",
                        "text/markdown": "\nA data.frame: 10050 \u00d7 6\n\n| name &lt;chr&gt; | start_time &lt;dbl&gt; | end_time &lt;dbl&gt; | activity_time &lt;dbl&gt; | finished &lt;lgl&gt; | replication &lt;int&gt; |\n|---|---|---|---|---|---|\n| documents40  |  1.773393 |  1.893377 | 0.1199846 | TRUE | 1 |\n| documents41  |  2.322054 |  2.970355 | 0.6483008 | TRUE | 1 |\n| documents42  |  4.437891 |  5.088018 | 0.6501270 | TRUE | 1 |\n| documents43  |  4.496584 |  6.139589 | 1.0515709 | TRUE | 1 |\n| documents10  |  7.862870 |  8.170349 | 0.3074790 | TRUE | 1 |\n| documents20  |  8.751629 |  8.897312 | 0.1456833 | TRUE | 1 |\n| documents44  |  9.454486 |  9.935456 | 0.4809696 | TRUE | 1 |\n| documents45  | 12.557795 | 13.566435 | 1.0086402 | TRUE | 1 |\n| documents46  | 12.936661 | 14.563889 | 0.9974542 | TRUE | 1 |\n| documents47  | 13.125726 | 15.156140 | 0.5922503 | TRUE | 1 |\n| documents48  | 14.048232 | 16.366308 | 1.2101682 | TRUE | 1 |\n| documents49  | 15.068695 | 16.569381 | 0.2030730 | TRUE | 1 |\n| documents410 | 17.866448 | 18.426593 | 0.5601445 | TRUE | 1 |\n| documents30  | 19.123685 | 19.320452 | 0.1967677 | TRUE | 1 |\n| documents31  | 20.165845 | 20.727867 | 0.5620224 | TRUE | 1 |\n| documents411 | 20.400130 | 20.750020 | 0.0221523 | TRUE | 1 |\n| documents11  | 20.667557 | 21.192986 | 0.4429668 | TRUE | 1 |\n| documents412 | 21.357145 | 23.057135 | 1.6999893 | TRUE | 1 |\n| documents413 | 22.280737 | 23.653288 | 0.5961533 | TRUE | 1 |\n| documents32  | 24.319501 | 24.659051 | 0.3395499 | TRUE | 1 |\n| documents414 | 25.911699 | 26.260650 | 0.3489508 | TRUE | 1 |\n| documents415 | 26.229751 | 27.805889 | 1.5452390 | TRUE | 1 |\n| documents416 | 27.709137 | 28.323465 | 0.5175769 | TRUE | 1 |\n| documents21  | 26.312346 | 28.978599 | 0.6551336 | TRUE | 1 |\n| documents417 | 29.112486 | 29.234452 | 0.1219657 | TRUE | 1 |\n| documents33  | 29.730971 | 30.005969 | 0.2749981 | TRUE | 1 |\n| documents418 | 30.813803 | 31.482305 | 0.6685014 | TRUE | 1 |\n| documents419 | 30.869509 | 32.200498 | 0.7181928 | TRUE | 1 |\n| documents420 | 30.913621 | 34.436262 | 2.2357639 | TRUE | 1 |\n| documents421 | 31.696343 | 34.596082 | 0.1598205 | TRUE | 1 |\n| \u22ee | \u22ee | \u22ee | \u22ee | \u22ee | \u22ee |\n| documents47050 | 9975.273 | 9976.023 | 0.74989504 |  TRUE | 1 |\n| documents47051 | 9975.899 | 9976.123 | 0.10041215 |  TRUE | 1 |\n| documents47052 | 9976.135 | 9976.490 | 0.35531316 |  TRUE | 1 |\n| documents47053 | 9978.388 | 9978.612 | 0.22350993 |  TRUE | 1 |\n| documents47054 | 9978.581 | 9979.438 | 0.82585047 |  TRUE | 1 |\n| documents47055 | 9980.037 | 9980.978 | 0.94113240 |  TRUE | 1 |\n| documents47056 | 9980.062 | 9981.315 | 0.33680995 |  TRUE | 1 |\n| documents21004 | 9979.885 | 9982.260 | 1.09706798 |  TRUE | 1 |\n| documents31020 | 9982.409 | 9982.751 | 0.34168452 |  TRUE | 1 |\n| documents47057 | 9982.415 | 9983.177 | 0.42628944 |  TRUE | 1 |\n| documents47058 | 9983.547 | 9983.687 | 0.13984958 |  TRUE | 1 |\n| documents47059 | 9986.973 | 9987.019 | 0.04576923 |  TRUE | 1 |\n| documents47060 | 9988.130 | 9988.687 | 0.55688259 |  TRUE | 1 |\n| documents47061 | 9988.415 | 9990.835 | 2.14794841 |  TRUE | 1 |\n| documents31021 | 9990.284 | 9991.513 | 0.67822102 |  TRUE | 1 |\n| documents21005 | 9990.246 | 9991.612 | 0.09846831 |  TRUE | 1 |\n| documents1946  | 9989.155 | 9991.800 | 0.18835298 |  TRUE | 1 |\n| documents47062 | 9991.939 | 9992.549 | 0.61069691 |  TRUE | 1 |\n| documents47063 | 9993.580 | 9993.695 | 0.11457443 |  TRUE | 1 |\n| documents31022 | 9994.392 | 9994.603 | 0.21103884 |  TRUE | 1 |\n| documents47064 | 9995.578 | 9995.665 | 0.08753929 |  TRUE | 1 |\n| documents31023 | 9996.233 | 9996.502 | 0.26934729 |  TRUE | 1 |\n| documents1947  | 9996.191 | 9996.552 | 0.09118023 |  TRUE | 1 |\n| documents31024 | 9996.757 | 9996.877 | 0.12040251 |  TRUE | 1 |\n| documents47065 | 9999.084 | 9999.894 | 0.81006940 |  TRUE | 1 |\n| documents47066 | 9999.241 | 9999.944 | 0.04984551 |  TRUE | 1 |\n| documents47067 |   -1.000 |       NA |         NA | FALSE | 1 |\n| documents31025 |   -1.000 |       NA |         NA | FALSE | 1 |\n| documents1948  |   -1.000 |       NA |         NA | FALSE | 1 |\n| documents21006 |   -1.000 |       NA |         NA | FALSE | 1 |\n\n",
                        "text/plain": "      name           start_time end_time  activity_time finished replication\n1     documents40     1.773393   1.893377 0.1199846     TRUE     1          \n2     documents41     2.322054   2.970355 0.6483008     TRUE     1          \n3     documents42     4.437891   5.088018 0.6501270     TRUE     1          \n4     documents43     4.496584   6.139589 1.0515709     TRUE     1          \n5     documents10     7.862870   8.170349 0.3074790     TRUE     1          \n6     documents20     8.751629   8.897312 0.1456833     TRUE     1          \n7     documents44     9.454486   9.935456 0.4809696     TRUE     1          \n8     documents45    12.557795  13.566435 1.0086402     TRUE     1          \n9     documents46    12.936661  14.563889 0.9974542     TRUE     1          \n10    documents47    13.125726  15.156140 0.5922503     TRUE     1          \n11    documents48    14.048232  16.366308 1.2101682     TRUE     1          \n12    documents49    15.068695  16.569381 0.2030730     TRUE     1          \n13    documents410   17.866448  18.426593 0.5601445     TRUE     1          \n14    documents30    19.123685  19.320452 0.1967677     TRUE     1          \n15    documents31    20.165845  20.727867 0.5620224     TRUE     1          \n16    documents411   20.400130  20.750020 0.0221523     TRUE     1          \n17    documents11    20.667557  21.192986 0.4429668     TRUE     1          \n18    documents412   21.357145  23.057135 1.6999893     TRUE     1          \n19    documents413   22.280737  23.653288 0.5961533     TRUE     1          \n20    documents32    24.319501  24.659051 0.3395499     TRUE     1          \n21    documents414   25.911699  26.260650 0.3489508     TRUE     1          \n22    documents415   26.229751  27.805889 1.5452390     TRUE     1          \n23    documents416   27.709137  28.323465 0.5175769     TRUE     1          \n24    documents21    26.312346  28.978599 0.6551336     TRUE     1          \n25    documents417   29.112486  29.234452 0.1219657     TRUE     1          \n26    documents33    29.730971  30.005969 0.2749981     TRUE     1          \n27    documents418   30.813803  31.482305 0.6685014     TRUE     1          \n28    documents419   30.869509  32.200498 0.7181928     TRUE     1          \n29    documents420   30.913621  34.436262 2.2357639     TRUE     1          \n30    documents421   31.696343  34.596082 0.1598205     TRUE     1          \n\u22ee     \u22ee              \u22ee          \u22ee         \u22ee             \u22ee        \u22ee          \n10021 documents47050 9975.273   9976.023  0.74989504     TRUE    1          \n10022 documents47051 9975.899   9976.123  0.10041215     TRUE    1          \n10023 documents47052 9976.135   9976.490  0.35531316     TRUE    1          \n10024 documents47053 9978.388   9978.612  0.22350993     TRUE    1          \n10025 documents47054 9978.581   9979.438  0.82585047     TRUE    1          \n10026 documents47055 9980.037   9980.978  0.94113240     TRUE    1          \n10027 documents47056 9980.062   9981.315  0.33680995     TRUE    1          \n10028 documents21004 9979.885   9982.260  1.09706798     TRUE    1          \n10029 documents31020 9982.409   9982.751  0.34168452     TRUE    1          \n10030 documents47057 9982.415   9983.177  0.42628944     TRUE    1          \n10031 documents47058 9983.547   9983.687  0.13984958     TRUE    1          \n10032 documents47059 9986.973   9987.019  0.04576923     TRUE    1          \n10033 documents47060 9988.130   9988.687  0.55688259     TRUE    1          \n10034 documents47061 9988.415   9990.835  2.14794841     TRUE    1          \n10035 documents31021 9990.284   9991.513  0.67822102     TRUE    1          \n10036 documents21005 9990.246   9991.612  0.09846831     TRUE    1          \n10037 documents1946  9989.155   9991.800  0.18835298     TRUE    1          \n10038 documents47062 9991.939   9992.549  0.61069691     TRUE    1          \n10039 documents47063 9993.580   9993.695  0.11457443     TRUE    1          \n10040 documents31022 9994.392   9994.603  0.21103884     TRUE    1          \n10041 documents47064 9995.578   9995.665  0.08753929     TRUE    1          \n10042 documents31023 9996.233   9996.502  0.26934729     TRUE    1          \n10043 documents1947  9996.191   9996.552  0.09118023     TRUE    1          \n10044 documents31024 9996.757   9996.877  0.12040251     TRUE    1          \n10045 documents47065 9999.084   9999.894  0.81006940     TRUE    1          \n10046 documents47066 9999.241   9999.944  0.04984551     TRUE    1          \n10047 documents47067   -1.000         NA          NA    FALSE    1          \n10048 documents31025   -1.000         NA          NA    FALSE    1          \n10049 documents1948    -1.000         NA          NA    FALSE    1          \n10050 documents21006   -1.000         NA          NA    FALSE    1          "
                    },
                    "metadata": {},
                    "output_type": "display_data"
                },
                {
                    "data": {
                        "text/html": "<table class=\"dataframe\">\n<caption>A data.frame: 20092 \u00d7 9</caption>\n<thead>\n\t<tr><th scope=col>resource</th><th scope=col>time</th><th scope=col>server</th><th scope=col>queue</th><th scope=col>capacity</th><th scope=col>queue_size</th><th scope=col>system</th><th scope=col>limit</th><th scope=col>replication</th></tr>\n\t<tr><th scope=col>&lt;chr&gt;</th><th scope=col>&lt;dbl&gt;</th><th scope=col>&lt;int&gt;</th><th scope=col>&lt;int&gt;</th><th scope=col>&lt;dbl&gt;</th><th scope=col>&lt;dbl&gt;</th><th scope=col>&lt;int&gt;</th><th scope=col>&lt;dbl&gt;</th><th scope=col>&lt;int&gt;</th></tr>\n</thead>\n<tbody>\n\t<tr><td>server</td><td> 1.773393</td><td>1</td><td>0</td><td>1</td><td>Inf</td><td>1</td><td>Inf</td><td>1</td></tr>\n\t<tr><td>server</td><td> 1.893377</td><td>0</td><td>0</td><td>1</td><td>Inf</td><td>0</td><td>Inf</td><td>1</td></tr>\n\t<tr><td>server</td><td> 2.322054</td><td>1</td><td>0</td><td>1</td><td>Inf</td><td>1</td><td>Inf</td><td>1</td></tr>\n\t<tr><td>server</td><td> 2.970355</td><td>0</td><td>0</td><td>1</td><td>Inf</td><td>0</td><td>Inf</td><td>1</td></tr>\n\t<tr><td>server</td><td> 4.437891</td><td>1</td><td>0</td><td>1</td><td>Inf</td><td>1</td><td>Inf</td><td>1</td></tr>\n\t<tr><td>server</td><td> 4.496584</td><td>1</td><td>1</td><td>1</td><td>Inf</td><td>2</td><td>Inf</td><td>1</td></tr>\n\t<tr><td>server</td><td> 5.088018</td><td>1</td><td>0</td><td>1</td><td>Inf</td><td>1</td><td>Inf</td><td>1</td></tr>\n\t<tr><td>server</td><td> 6.139589</td><td>0</td><td>0</td><td>1</td><td>Inf</td><td>0</td><td>Inf</td><td>1</td></tr>\n\t<tr><td>server</td><td> 7.862870</td><td>1</td><td>0</td><td>1</td><td>Inf</td><td>1</td><td>Inf</td><td>1</td></tr>\n\t<tr><td>server</td><td> 8.170349</td><td>0</td><td>0</td><td>1</td><td>Inf</td><td>0</td><td>Inf</td><td>1</td></tr>\n\t<tr><td>server</td><td> 8.751629</td><td>1</td><td>0</td><td>1</td><td>Inf</td><td>1</td><td>Inf</td><td>1</td></tr>\n\t<tr><td>server</td><td> 8.897312</td><td>0</td><td>0</td><td>1</td><td>Inf</td><td>0</td><td>Inf</td><td>1</td></tr>\n\t<tr><td>server</td><td> 9.454486</td><td>1</td><td>0</td><td>1</td><td>Inf</td><td>1</td><td>Inf</td><td>1</td></tr>\n\t<tr><td>server</td><td> 9.935456</td><td>0</td><td>0</td><td>1</td><td>Inf</td><td>0</td><td>Inf</td><td>1</td></tr>\n\t<tr><td>server</td><td>12.557795</td><td>1</td><td>0</td><td>1</td><td>Inf</td><td>1</td><td>Inf</td><td>1</td></tr>\n\t<tr><td>server</td><td>12.936661</td><td>1</td><td>1</td><td>1</td><td>Inf</td><td>2</td><td>Inf</td><td>1</td></tr>\n\t<tr><td>server</td><td>13.125726</td><td>1</td><td>2</td><td>1</td><td>Inf</td><td>3</td><td>Inf</td><td>1</td></tr>\n\t<tr><td>server</td><td>13.566435</td><td>1</td><td>1</td><td>1</td><td>Inf</td><td>2</td><td>Inf</td><td>1</td></tr>\n\t<tr><td>server</td><td>14.048232</td><td>1</td><td>2</td><td>1</td><td>Inf</td><td>3</td><td>Inf</td><td>1</td></tr>\n\t<tr><td>server</td><td>14.563889</td><td>1</td><td>1</td><td>1</td><td>Inf</td><td>2</td><td>Inf</td><td>1</td></tr>\n\t<tr><td>server</td><td>15.068695</td><td>1</td><td>2</td><td>1</td><td>Inf</td><td>3</td><td>Inf</td><td>1</td></tr>\n\t<tr><td>server</td><td>15.156140</td><td>1</td><td>1</td><td>1</td><td>Inf</td><td>2</td><td>Inf</td><td>1</td></tr>\n\t<tr><td>server</td><td>16.366308</td><td>1</td><td>0</td><td>1</td><td>Inf</td><td>1</td><td>Inf</td><td>1</td></tr>\n\t<tr><td>server</td><td>16.569381</td><td>0</td><td>0</td><td>1</td><td>Inf</td><td>0</td><td>Inf</td><td>1</td></tr>\n\t<tr><td>server</td><td>17.866448</td><td>1</td><td>0</td><td>1</td><td>Inf</td><td>1</td><td>Inf</td><td>1</td></tr>\n\t<tr><td>server</td><td>18.426593</td><td>0</td><td>0</td><td>1</td><td>Inf</td><td>0</td><td>Inf</td><td>1</td></tr>\n\t<tr><td>server</td><td>19.123685</td><td>1</td><td>0</td><td>1</td><td>Inf</td><td>1</td><td>Inf</td><td>1</td></tr>\n\t<tr><td>server</td><td>19.320452</td><td>0</td><td>0</td><td>1</td><td>Inf</td><td>0</td><td>Inf</td><td>1</td></tr>\n\t<tr><td>server</td><td>20.165845</td><td>1</td><td>0</td><td>1</td><td>Inf</td><td>1</td><td>Inf</td><td>1</td></tr>\n\t<tr><td>server</td><td>20.400130</td><td>1</td><td>1</td><td>1</td><td>Inf</td><td>2</td><td>Inf</td><td>1</td></tr>\n\t<tr><td>\u22ee</td><td>\u22ee</td><td>\u22ee</td><td>\u22ee</td><td>\u22ee</td><td>\u22ee</td><td>\u22ee</td><td>\u22ee</td><td>\u22ee</td></tr>\n\t<tr><td>server</td><td>9986.973</td><td>1</td><td>0</td><td>1</td><td>Inf</td><td>1</td><td>Inf</td><td>1</td></tr>\n\t<tr><td>server</td><td>9987.019</td><td>0</td><td>0</td><td>1</td><td>Inf</td><td>0</td><td>Inf</td><td>1</td></tr>\n\t<tr><td>server</td><td>9988.130</td><td>1</td><td>0</td><td>1</td><td>Inf</td><td>1</td><td>Inf</td><td>1</td></tr>\n\t<tr><td>server</td><td>9988.415</td><td>1</td><td>1</td><td>1</td><td>Inf</td><td>2</td><td>Inf</td><td>1</td></tr>\n\t<tr><td>server</td><td>9988.687</td><td>1</td><td>0</td><td>1</td><td>Inf</td><td>1</td><td>Inf</td><td>1</td></tr>\n\t<tr><td>server</td><td>9989.155</td><td>1</td><td>1</td><td>1</td><td>Inf</td><td>2</td><td>Inf</td><td>1</td></tr>\n\t<tr><td>server</td><td>9990.246</td><td>1</td><td>2</td><td>1</td><td>Inf</td><td>3</td><td>Inf</td><td>1</td></tr>\n\t<tr><td>server</td><td>9990.284</td><td>1</td><td>3</td><td>1</td><td>Inf</td><td>4</td><td>Inf</td><td>1</td></tr>\n\t<tr><td>server</td><td>9990.835</td><td>1</td><td>2</td><td>1</td><td>Inf</td><td>3</td><td>Inf</td><td>1</td></tr>\n\t<tr><td>server</td><td>9991.513</td><td>1</td><td>1</td><td>1</td><td>Inf</td><td>2</td><td>Inf</td><td>1</td></tr>\n\t<tr><td>server</td><td>9991.612</td><td>1</td><td>0</td><td>1</td><td>Inf</td><td>1</td><td>Inf</td><td>1</td></tr>\n\t<tr><td>server</td><td>9991.800</td><td>0</td><td>0</td><td>1</td><td>Inf</td><td>0</td><td>Inf</td><td>1</td></tr>\n\t<tr><td>server</td><td>9991.939</td><td>1</td><td>0</td><td>1</td><td>Inf</td><td>1</td><td>Inf</td><td>1</td></tr>\n\t<tr><td>server</td><td>9992.549</td><td>0</td><td>0</td><td>1</td><td>Inf</td><td>0</td><td>Inf</td><td>1</td></tr>\n\t<tr><td>server</td><td>9993.580</td><td>1</td><td>0</td><td>1</td><td>Inf</td><td>1</td><td>Inf</td><td>1</td></tr>\n\t<tr><td>server</td><td>9993.695</td><td>0</td><td>0</td><td>1</td><td>Inf</td><td>0</td><td>Inf</td><td>1</td></tr>\n\t<tr><td>server</td><td>9994.392</td><td>1</td><td>0</td><td>1</td><td>Inf</td><td>1</td><td>Inf</td><td>1</td></tr>\n\t<tr><td>server</td><td>9994.603</td><td>0</td><td>0</td><td>1</td><td>Inf</td><td>0</td><td>Inf</td><td>1</td></tr>\n\t<tr><td>server</td><td>9995.578</td><td>1</td><td>0</td><td>1</td><td>Inf</td><td>1</td><td>Inf</td><td>1</td></tr>\n\t<tr><td>server</td><td>9995.665</td><td>0</td><td>0</td><td>1</td><td>Inf</td><td>0</td><td>Inf</td><td>1</td></tr>\n\t<tr><td>server</td><td>9996.191</td><td>1</td><td>0</td><td>1</td><td>Inf</td><td>1</td><td>Inf</td><td>1</td></tr>\n\t<tr><td>server</td><td>9996.233</td><td>1</td><td>1</td><td>1</td><td>Inf</td><td>2</td><td>Inf</td><td>1</td></tr>\n\t<tr><td>server</td><td>9996.502</td><td>1</td><td>0</td><td>1</td><td>Inf</td><td>1</td><td>Inf</td><td>1</td></tr>\n\t<tr><td>server</td><td>9996.552</td><td>0</td><td>0</td><td>1</td><td>Inf</td><td>0</td><td>Inf</td><td>1</td></tr>\n\t<tr><td>server</td><td>9996.757</td><td>1</td><td>0</td><td>1</td><td>Inf</td><td>1</td><td>Inf</td><td>1</td></tr>\n\t<tr><td>server</td><td>9996.877</td><td>0</td><td>0</td><td>1</td><td>Inf</td><td>0</td><td>Inf</td><td>1</td></tr>\n\t<tr><td>server</td><td>9999.084</td><td>1</td><td>0</td><td>1</td><td>Inf</td><td>1</td><td>Inf</td><td>1</td></tr>\n\t<tr><td>server</td><td>9999.241</td><td>1</td><td>1</td><td>1</td><td>Inf</td><td>2</td><td>Inf</td><td>1</td></tr>\n\t<tr><td>server</td><td>9999.894</td><td>1</td><td>0</td><td>1</td><td>Inf</td><td>1</td><td>Inf</td><td>1</td></tr>\n\t<tr><td>server</td><td>9999.944</td><td>0</td><td>0</td><td>1</td><td>Inf</td><td>0</td><td>Inf</td><td>1</td></tr>\n</tbody>\n</table>\n",
                        "text/latex": "A data.frame: 20092 \u00d7 9\n\\begin{tabular}{lllllllll}\n resource & time & server & queue & capacity & queue\\_size & system & limit & replication\\\\\n <chr> & <dbl> & <int> & <int> & <dbl> & <dbl> & <int> & <dbl> & <int>\\\\\n\\hline\n\t server &  1.773393 & 1 & 0 & 1 & Inf & 1 & Inf & 1\\\\\n\t server &  1.893377 & 0 & 0 & 1 & Inf & 0 & Inf & 1\\\\\n\t server &  2.322054 & 1 & 0 & 1 & Inf & 1 & Inf & 1\\\\\n\t server &  2.970355 & 0 & 0 & 1 & Inf & 0 & Inf & 1\\\\\n\t server &  4.437891 & 1 & 0 & 1 & Inf & 1 & Inf & 1\\\\\n\t server &  4.496584 & 1 & 1 & 1 & Inf & 2 & Inf & 1\\\\\n\t server &  5.088018 & 1 & 0 & 1 & Inf & 1 & Inf & 1\\\\\n\t server &  6.139589 & 0 & 0 & 1 & Inf & 0 & Inf & 1\\\\\n\t server &  7.862870 & 1 & 0 & 1 & Inf & 1 & Inf & 1\\\\\n\t server &  8.170349 & 0 & 0 & 1 & Inf & 0 & Inf & 1\\\\\n\t server &  8.751629 & 1 & 0 & 1 & Inf & 1 & Inf & 1\\\\\n\t server &  8.897312 & 0 & 0 & 1 & Inf & 0 & Inf & 1\\\\\n\t server &  9.454486 & 1 & 0 & 1 & Inf & 1 & Inf & 1\\\\\n\t server &  9.935456 & 0 & 0 & 1 & Inf & 0 & Inf & 1\\\\\n\t server & 12.557795 & 1 & 0 & 1 & Inf & 1 & Inf & 1\\\\\n\t server & 12.936661 & 1 & 1 & 1 & Inf & 2 & Inf & 1\\\\\n\t server & 13.125726 & 1 & 2 & 1 & Inf & 3 & Inf & 1\\\\\n\t server & 13.566435 & 1 & 1 & 1 & Inf & 2 & Inf & 1\\\\\n\t server & 14.048232 & 1 & 2 & 1 & Inf & 3 & Inf & 1\\\\\n\t server & 14.563889 & 1 & 1 & 1 & Inf & 2 & Inf & 1\\\\\n\t server & 15.068695 & 1 & 2 & 1 & Inf & 3 & Inf & 1\\\\\n\t server & 15.156140 & 1 & 1 & 1 & Inf & 2 & Inf & 1\\\\\n\t server & 16.366308 & 1 & 0 & 1 & Inf & 1 & Inf & 1\\\\\n\t server & 16.569381 & 0 & 0 & 1 & Inf & 0 & Inf & 1\\\\\n\t server & 17.866448 & 1 & 0 & 1 & Inf & 1 & Inf & 1\\\\\n\t server & 18.426593 & 0 & 0 & 1 & Inf & 0 & Inf & 1\\\\\n\t server & 19.123685 & 1 & 0 & 1 & Inf & 1 & Inf & 1\\\\\n\t server & 19.320452 & 0 & 0 & 1 & Inf & 0 & Inf & 1\\\\\n\t server & 20.165845 & 1 & 0 & 1 & Inf & 1 & Inf & 1\\\\\n\t server & 20.400130 & 1 & 1 & 1 & Inf & 2 & Inf & 1\\\\\n\t \u22ee & \u22ee & \u22ee & \u22ee & \u22ee & \u22ee & \u22ee & \u22ee & \u22ee\\\\\n\t server & 9986.973 & 1 & 0 & 1 & Inf & 1 & Inf & 1\\\\\n\t server & 9987.019 & 0 & 0 & 1 & Inf & 0 & Inf & 1\\\\\n\t server & 9988.130 & 1 & 0 & 1 & Inf & 1 & Inf & 1\\\\\n\t server & 9988.415 & 1 & 1 & 1 & Inf & 2 & Inf & 1\\\\\n\t server & 9988.687 & 1 & 0 & 1 & Inf & 1 & Inf & 1\\\\\n\t server & 9989.155 & 1 & 1 & 1 & Inf & 2 & Inf & 1\\\\\n\t server & 9990.246 & 1 & 2 & 1 & Inf & 3 & Inf & 1\\\\\n\t server & 9990.284 & 1 & 3 & 1 & Inf & 4 & Inf & 1\\\\\n\t server & 9990.835 & 1 & 2 & 1 & Inf & 3 & Inf & 1\\\\\n\t server & 9991.513 & 1 & 1 & 1 & Inf & 2 & Inf & 1\\\\\n\t server & 9991.612 & 1 & 0 & 1 & Inf & 1 & Inf & 1\\\\\n\t server & 9991.800 & 0 & 0 & 1 & Inf & 0 & Inf & 1\\\\\n\t server & 9991.939 & 1 & 0 & 1 & Inf & 1 & Inf & 1\\\\\n\t server & 9992.549 & 0 & 0 & 1 & Inf & 0 & Inf & 1\\\\\n\t server & 9993.580 & 1 & 0 & 1 & Inf & 1 & Inf & 1\\\\\n\t server & 9993.695 & 0 & 0 & 1 & Inf & 0 & Inf & 1\\\\\n\t server & 9994.392 & 1 & 0 & 1 & Inf & 1 & Inf & 1\\\\\n\t server & 9994.603 & 0 & 0 & 1 & Inf & 0 & Inf & 1\\\\\n\t server & 9995.578 & 1 & 0 & 1 & Inf & 1 & Inf & 1\\\\\n\t server & 9995.665 & 0 & 0 & 1 & Inf & 0 & Inf & 1\\\\\n\t server & 9996.191 & 1 & 0 & 1 & Inf & 1 & Inf & 1\\\\\n\t server & 9996.233 & 1 & 1 & 1 & Inf & 2 & Inf & 1\\\\\n\t server & 9996.502 & 1 & 0 & 1 & Inf & 1 & Inf & 1\\\\\n\t server & 9996.552 & 0 & 0 & 1 & Inf & 0 & Inf & 1\\\\\n\t server & 9996.757 & 1 & 0 & 1 & Inf & 1 & Inf & 1\\\\\n\t server & 9996.877 & 0 & 0 & 1 & Inf & 0 & Inf & 1\\\\\n\t server & 9999.084 & 1 & 0 & 1 & Inf & 1 & Inf & 1\\\\\n\t server & 9999.241 & 1 & 1 & 1 & Inf & 2 & Inf & 1\\\\\n\t server & 9999.894 & 1 & 0 & 1 & Inf & 1 & Inf & 1\\\\\n\t server & 9999.944 & 0 & 0 & 1 & Inf & 0 & Inf & 1\\\\\n\\end{tabular}\n",
                        "text/markdown": "\nA data.frame: 20092 \u00d7 9\n\n| resource &lt;chr&gt; | time &lt;dbl&gt; | server &lt;int&gt; | queue &lt;int&gt; | capacity &lt;dbl&gt; | queue_size &lt;dbl&gt; | system &lt;int&gt; | limit &lt;dbl&gt; | replication &lt;int&gt; |\n|---|---|---|---|---|---|---|---|---|\n| server |  1.773393 | 1 | 0 | 1 | Inf | 1 | Inf | 1 |\n| server |  1.893377 | 0 | 0 | 1 | Inf | 0 | Inf | 1 |\n| server |  2.322054 | 1 | 0 | 1 | Inf | 1 | Inf | 1 |\n| server |  2.970355 | 0 | 0 | 1 | Inf | 0 | Inf | 1 |\n| server |  4.437891 | 1 | 0 | 1 | Inf | 1 | Inf | 1 |\n| server |  4.496584 | 1 | 1 | 1 | Inf | 2 | Inf | 1 |\n| server |  5.088018 | 1 | 0 | 1 | Inf | 1 | Inf | 1 |\n| server |  6.139589 | 0 | 0 | 1 | Inf | 0 | Inf | 1 |\n| server |  7.862870 | 1 | 0 | 1 | Inf | 1 | Inf | 1 |\n| server |  8.170349 | 0 | 0 | 1 | Inf | 0 | Inf | 1 |\n| server |  8.751629 | 1 | 0 | 1 | Inf | 1 | Inf | 1 |\n| server |  8.897312 | 0 | 0 | 1 | Inf | 0 | Inf | 1 |\n| server |  9.454486 | 1 | 0 | 1 | Inf | 1 | Inf | 1 |\n| server |  9.935456 | 0 | 0 | 1 | Inf | 0 | Inf | 1 |\n| server | 12.557795 | 1 | 0 | 1 | Inf | 1 | Inf | 1 |\n| server | 12.936661 | 1 | 1 | 1 | Inf | 2 | Inf | 1 |\n| server | 13.125726 | 1 | 2 | 1 | Inf | 3 | Inf | 1 |\n| server | 13.566435 | 1 | 1 | 1 | Inf | 2 | Inf | 1 |\n| server | 14.048232 | 1 | 2 | 1 | Inf | 3 | Inf | 1 |\n| server | 14.563889 | 1 | 1 | 1 | Inf | 2 | Inf | 1 |\n| server | 15.068695 | 1 | 2 | 1 | Inf | 3 | Inf | 1 |\n| server | 15.156140 | 1 | 1 | 1 | Inf | 2 | Inf | 1 |\n| server | 16.366308 | 1 | 0 | 1 | Inf | 1 | Inf | 1 |\n| server | 16.569381 | 0 | 0 | 1 | Inf | 0 | Inf | 1 |\n| server | 17.866448 | 1 | 0 | 1 | Inf | 1 | Inf | 1 |\n| server | 18.426593 | 0 | 0 | 1 | Inf | 0 | Inf | 1 |\n| server | 19.123685 | 1 | 0 | 1 | Inf | 1 | Inf | 1 |\n| server | 19.320452 | 0 | 0 | 1 | Inf | 0 | Inf | 1 |\n| server | 20.165845 | 1 | 0 | 1 | Inf | 1 | Inf | 1 |\n| server | 20.400130 | 1 | 1 | 1 | Inf | 2 | Inf | 1 |\n| \u22ee | \u22ee | \u22ee | \u22ee | \u22ee | \u22ee | \u22ee | \u22ee | \u22ee |\n| server | 9986.973 | 1 | 0 | 1 | Inf | 1 | Inf | 1 |\n| server | 9987.019 | 0 | 0 | 1 | Inf | 0 | Inf | 1 |\n| server | 9988.130 | 1 | 0 | 1 | Inf | 1 | Inf | 1 |\n| server | 9988.415 | 1 | 1 | 1 | Inf | 2 | Inf | 1 |\n| server | 9988.687 | 1 | 0 | 1 | Inf | 1 | Inf | 1 |\n| server | 9989.155 | 1 | 1 | 1 | Inf | 2 | Inf | 1 |\n| server | 9990.246 | 1 | 2 | 1 | Inf | 3 | Inf | 1 |\n| server | 9990.284 | 1 | 3 | 1 | Inf | 4 | Inf | 1 |\n| server | 9990.835 | 1 | 2 | 1 | Inf | 3 | Inf | 1 |\n| server | 9991.513 | 1 | 1 | 1 | Inf | 2 | Inf | 1 |\n| server | 9991.612 | 1 | 0 | 1 | Inf | 1 | Inf | 1 |\n| server | 9991.800 | 0 | 0 | 1 | Inf | 0 | Inf | 1 |\n| server | 9991.939 | 1 | 0 | 1 | Inf | 1 | Inf | 1 |\n| server | 9992.549 | 0 | 0 | 1 | Inf | 0 | Inf | 1 |\n| server | 9993.580 | 1 | 0 | 1 | Inf | 1 | Inf | 1 |\n| server | 9993.695 | 0 | 0 | 1 | Inf | 0 | Inf | 1 |\n| server | 9994.392 | 1 | 0 | 1 | Inf | 1 | Inf | 1 |\n| server | 9994.603 | 0 | 0 | 1 | Inf | 0 | Inf | 1 |\n| server | 9995.578 | 1 | 0 | 1 | Inf | 1 | Inf | 1 |\n| server | 9995.665 | 0 | 0 | 1 | Inf | 0 | Inf | 1 |\n| server | 9996.191 | 1 | 0 | 1 | Inf | 1 | Inf | 1 |\n| server | 9996.233 | 1 | 1 | 1 | Inf | 2 | Inf | 1 |\n| server | 9996.502 | 1 | 0 | 1 | Inf | 1 | Inf | 1 |\n| server | 9996.552 | 0 | 0 | 1 | Inf | 0 | Inf | 1 |\n| server | 9996.757 | 1 | 0 | 1 | Inf | 1 | Inf | 1 |\n| server | 9996.877 | 0 | 0 | 1 | Inf | 0 | Inf | 1 |\n| server | 9999.084 | 1 | 0 | 1 | Inf | 1 | Inf | 1 |\n| server | 9999.241 | 1 | 1 | 1 | Inf | 2 | Inf | 1 |\n| server | 9999.894 | 1 | 0 | 1 | Inf | 1 | Inf | 1 |\n| server | 9999.944 | 0 | 0 | 1 | Inf | 0 | Inf | 1 |\n\n",
                        "text/plain": "      resource time      server queue capacity queue_size system limit\n1     server    1.773393 1      0     1        Inf        1      Inf  \n2     server    1.893377 0      0     1        Inf        0      Inf  \n3     server    2.322054 1      0     1        Inf        1      Inf  \n4     server    2.970355 0      0     1        Inf        0      Inf  \n5     server    4.437891 1      0     1        Inf        1      Inf  \n6     server    4.496584 1      1     1        Inf        2      Inf  \n7     server    5.088018 1      0     1        Inf        1      Inf  \n8     server    6.139589 0      0     1        Inf        0      Inf  \n9     server    7.862870 1      0     1        Inf        1      Inf  \n10    server    8.170349 0      0     1        Inf        0      Inf  \n11    server    8.751629 1      0     1        Inf        1      Inf  \n12    server    8.897312 0      0     1        Inf        0      Inf  \n13    server    9.454486 1      0     1        Inf        1      Inf  \n14    server    9.935456 0      0     1        Inf        0      Inf  \n15    server   12.557795 1      0     1        Inf        1      Inf  \n16    server   12.936661 1      1     1        Inf        2      Inf  \n17    server   13.125726 1      2     1        Inf        3      Inf  \n18    server   13.566435 1      1     1        Inf        2      Inf  \n19    server   14.048232 1      2     1        Inf        3      Inf  \n20    server   14.563889 1      1     1        Inf        2      Inf  \n21    server   15.068695 1      2     1        Inf        3      Inf  \n22    server   15.156140 1      1     1        Inf        2      Inf  \n23    server   16.366308 1      0     1        Inf        1      Inf  \n24    server   16.569381 0      0     1        Inf        0      Inf  \n25    server   17.866448 1      0     1        Inf        1      Inf  \n26    server   18.426593 0      0     1        Inf        0      Inf  \n27    server   19.123685 1      0     1        Inf        1      Inf  \n28    server   19.320452 0      0     1        Inf        0      Inf  \n29    server   20.165845 1      0     1        Inf        1      Inf  \n30    server   20.400130 1      1     1        Inf        2      Inf  \n\u22ee     \u22ee        \u22ee         \u22ee      \u22ee     \u22ee        \u22ee          \u22ee      \u22ee    \n20063 server   9986.973  1      0     1        Inf        1      Inf  \n20064 server   9987.019  0      0     1        Inf        0      Inf  \n20065 server   9988.130  1      0     1        Inf        1      Inf  \n20066 server   9988.415  1      1     1        Inf        2      Inf  \n20067 server   9988.687  1      0     1        Inf        1      Inf  \n20068 server   9989.155  1      1     1        Inf        2      Inf  \n20069 server   9990.246  1      2     1        Inf        3      Inf  \n20070 server   9990.284  1      3     1        Inf        4      Inf  \n20071 server   9990.835  1      2     1        Inf        3      Inf  \n20072 server   9991.513  1      1     1        Inf        2      Inf  \n20073 server   9991.612  1      0     1        Inf        1      Inf  \n20074 server   9991.800  0      0     1        Inf        0      Inf  \n20075 server   9991.939  1      0     1        Inf        1      Inf  \n20076 server   9992.549  0      0     1        Inf        0      Inf  \n20077 server   9993.580  1      0     1        Inf        1      Inf  \n20078 server   9993.695  0      0     1        Inf        0      Inf  \n20079 server   9994.392  1      0     1        Inf        1      Inf  \n20080 server   9994.603  0      0     1        Inf        0      Inf  \n20081 server   9995.578  1      0     1        Inf        1      Inf  \n20082 server   9995.665  0      0     1        Inf        0      Inf  \n20083 server   9996.191  1      0     1        Inf        1      Inf  \n20084 server   9996.233  1      1     1        Inf        2      Inf  \n20085 server   9996.502  1      0     1        Inf        1      Inf  \n20086 server   9996.552  0      0     1        Inf        0      Inf  \n20087 server   9996.757  1      0     1        Inf        1      Inf  \n20088 server   9996.877  0      0     1        Inf        0      Inf  \n20089 server   9999.084  1      0     1        Inf        1      Inf  \n20090 server   9999.241  1      1     1        Inf        2      Inf  \n20091 server   9999.894  1      0     1        Inf        1      Inf  \n20092 server   9999.944  0      0     1        Inf        0      Inf  \n      replication\n1     1          \n2     1          \n3     1          \n4     1          \n5     1          \n6     1          \n7     1          \n8     1          \n9     1          \n10    1          \n11    1          \n12    1          \n13    1          \n14    1          \n15    1          \n16    1          \n17    1          \n18    1          \n19    1          \n20    1          \n21    1          \n22    1          \n23    1          \n24    1          \n25    1          \n26    1          \n27    1          \n28    1          \n29    1          \n30    1          \n\u22ee     \u22ee          \n20063 1          \n20064 1          \n20065 1          \n20066 1          \n20067 1          \n20068 1          \n20069 1          \n20070 1          \n20071 1          \n20072 1          \n20073 1          \n20074 1          \n20075 1          \n20076 1          \n20077 1          \n20078 1          \n20079 1          \n20080 1          \n20081 1          \n20082 1          \n20083 1          \n20084 1          \n20085 1          \n20086 1          \n20087 1          \n20088 1          \n20089 1          \n20090 1          \n20091 1          \n20092 1          "
                    },
                    "metadata": {},
                    "output_type": "display_data"
                }
            ],
            "source": "arrivals <- env %>% get_mon_arrivals(ongoing = TRUE) # Show ongoing tasks too.\nresources <- env %>% get_mon_resources()\narrivals\nresources"
        },
        {
            "cell_type": "markdown",
            "metadata": {},
            "source": "\u041e\u0442\u0444\u0438\u043b\u044c\u0442\u0440\u0443\u0435\u043c NA \u0437\u043d\u0430\u0447\u0435\u043d\u0438\u044f:"
        },
        {
            "cell_type": "code",
            "execution_count": 16,
            "metadata": {
                "trusted": true
            },
            "outputs": [],
            "source": "arrivals[\"end_time\"][arrivals[\"start_time\"] == -1] <- SIMULATION_TIME\narrivals[\"start_time\"][arrivals[\"start_time\"] == -1] <- SIMULATION_TIME\narrivals[\"end_time\"][is.na(arrivals[\"end_time\"])] <- SIMULATION_TIME\narrivals[\"activity_time\"][is.na(arrivals[\"activity_time\"])] <- 0"
        },
        {
            "cell_type": "markdown",
            "metadata": {},
            "source": "\u0420\u0430\u0437\u0434\u0435\u043b\u0438\u043c \u0437\u0430\u044f\u0432\u043a\u0438 \u043f\u043e \u043f\u0440\u0438\u043e\u0440\u0438\u0442\u0435\u0442\u0443 \u0438 \u043f\u043e\u0434\u0441\u0447\u0438\u0442\u0430\u0435\u043c \u0434\u043b\u044f \u043a\u0430\u0436\u0434\u043e\u0433\u043e \u043d\u0430\u0431\u043e\u0440\u0430 \u0434\u0430\u043d\u043d\u044b\u0445 \u0432\u0440\u0435\u043c\u044f:"
        },
        {
            "cell_type": "code",
            "execution_count": 21,
            "metadata": {
                "trusted": true
            },
            "outputs": [
                {
                    "data": {
                        "text/html": "<ol>\n\t<li>'documents1'</li>\n\t<li>'documents2'</li>\n\t<li>'documents3'</li>\n\t<li>'documents4'</li>\n</ol>\n",
                        "text/latex": "\\begin{enumerate}\n\\item 'documents1'\n\\item 'documents2'\n\\item 'documents3'\n\\item 'documents4'\n\\end{enumerate}\n",
                        "text/markdown": "1. 'documents1'\n2. 'documents2'\n3. 'documents3'\n4. 'documents4'\n\n\n",
                        "text/plain": "[[1]]\n[1] \"documents1\"\n\n[[2]]\n[1] \"documents2\"\n\n[[3]]\n[1] \"documents3\"\n\n[[4]]\n[1] \"documents4\"\n"
                    },
                    "metadata": {},
                    "output_type": "display_data"
                },
                {
                    "data": {
                        "text/html": "<table class=\"dataframe\">\n<caption>A data.frame: 4 \u00d7 2</caption>\n<thead>\n\t<tr><th></th><th scope=col>theoretical</th><th scope=col>practical</th></tr>\n\t<tr><th></th><th scope=col>&lt;dbl&gt;</th><th scope=col>&lt;list&gt;</th></tr>\n</thead>\n<tbody>\n\t<tr><th scope=row>1</th><td>5.786096</td><td>6.00358</td></tr>\n\t<tr><th scope=row>2</th><td>4.225534</td><td>4.579203</td></tr>\n\t<tr><th scope=row>3</th><td>3.370473</td><td>3.443136</td></tr>\n\t<tr><th scope=row>4</th><td>1.104573</td><td>1.176621</td></tr>\n</tbody>\n</table>\n",
                        "text/latex": "A data.frame: 4 \u00d7 2\n\\begin{tabular}{r|ll}\n  & theoretical & practical\\\\\n  & <dbl> & <list>\\\\\n\\hline\n\t1 & 5.786096 & 6.00358\\\\\n\t2 & 4.225534 & 4.579203\\\\\n\t3 & 3.370473 & 3.443136\\\\\n\t4 & 1.104573 & 1.176621\\\\\n\\end{tabular}\n",
                        "text/markdown": "\nA data.frame: 4 \u00d7 2\n\n| <!--/--> | theoretical &lt;dbl&gt; | practical &lt;list&gt; |\n|---|---|---|\n| 1 | 5.786096 | 6.00358 |\n| 2 | 4.225534 | 4.579203 |\n| 3 | 3.370473 | 3.443136 |\n| 4 | 1.104573 | 1.176621 |\n\n",
                        "text/plain": "  theoretical practical\n1 5.786096    6.00358  \n2 4.225534    4.579203 \n3 3.370473    3.443136 \n4 1.104573    1.176621 "
                    },
                    "metadata": {},
                    "output_type": "display_data"
                }
            ],
            "source": "patterns <- lapply(1:P, function(i) paste(\"documents\", i, sep = \"\"))\n\nresults$practical <- lapply(patterns, function(pattern) {\n    arrivals[grepl(arrivals$name, pattern = pattern, fixed = TRUE), ] %>%\n        with(mean(end_time - activity_time - start_time))\n})\npatterns\nresults"
        },
        {
            "cell_type": "markdown",
            "metadata": {},
            "source": "### \u0412\u044b\u0432\u043e\u0434\n\u041a\u0430\u043a \u0432\u0438\u0434\u043d\u043e, \u0442\u0435\u043e\u0440\u0435\u0442\u0438\u0447\u0435\u0441\u043a\u0438 \u0432\u044b\u0447\u0438\u0441\u043b\u0435\u043d\u043d\u044b\u0435 \u0437\u043d\u0430\u0447\u0435\u043d\u0438\u044f \u0441 \u043d\u0435\u043a\u043e\u0442\u043e\u0440\u043e\u0439 \u0442\u043e\u0447\u043d\u043e\u0441\u0442\u044c\u044e \u0441\u043e\u0432\u043f\u0430\u0434\u0430\u044e\u0442\n\u0441\u043e \u0437\u043d\u0430\u0447\u0435\u043d\u0438\u044f\u043c\u0438, \u043f\u043e\u043b\u0443\u0447\u0435\u043d\u043d\u044b\u043c\u0438 \u0442\u0435\u043e\u0440\u0435\u0442\u0438\u0447\u0435\u0441\u043a\u0438. \u041f\u0440\u0438 \u0443\u0432\u0435\u043b\u0438\u0447\u0435\u043d\u0438\u0438 \u043a\u043e\u043b\u0438\u0447\u0435\u0441\u0442\u0432\u0430\n\u044d\u043a\u0441\u043f\u0435\u0440\u0438\u043c\u0435\u043d\u0442\u043e\u0432 \ud835\udc41 \u0442\u043e\u0447\u043d\u043e\u0441\u0442\u044c \u0442\u043e\u043b\u044c\u043a\u043e \u0443\u0432\u0435\u043b\u0438\u0447\u0438\u0432\u0430\u0435\u0442\u0441\u044f."
        }
    ],
    "metadata": {
        "kernelspec": {
            "display_name": "R",
            "language": "R",
            "name": "ir"
        },
        "language_info": {
            "codemirror_mode": "r",
            "file_extension": ".r",
            "mimetype": "text/x-r-source",
            "name": "R",
            "pygments_lexer": "r",
            "version": "4.2.3"
        }
    },
    "nbformat": 4,
    "nbformat_minor": 5
}