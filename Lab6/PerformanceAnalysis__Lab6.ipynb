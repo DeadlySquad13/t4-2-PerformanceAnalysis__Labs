{
    "cells": [
        {
            "cell_type": "markdown",
            "metadata": {},
            "source": "# \u041b\u0430\u0431\u043e\u0440\u0430\u0442\u043e\u0440\u043d\u0430\u044f \u0440\u0430\u0431\u043e\u0442\u0430 6. \u041c\u0435\u0442\u043e\u0434 \u043a\u0432\u0430\u0437\u0438\u044d\u043a\u0432\u0438\u0432\u0430\u043b\u0435\u043d\u0442\u043d\u043e\u0433\u043e \u0443\u043a\u0440\u0443\u043f\u043d\u0435\u043d\u0438\u044f \u0441\u043e\u0441\u0442\u043e\u044f\u043d\u0438\u0439 \u043c\u043d\u043e\u0433\u043e\u043c\u0435\u0440\u043d\u044b\u0445 \u043c\u0430\u0440\u043a\u043e\u0432\u0441\u043a\u0438\u0445 \u043f\u0440\u043e\u0446\u0435\u0441\u0441\u043e\u0432 \u0440\u0430\u0437\u043c\u043d\u043e\u0436\u0435\u043d\u0438\u044f-\u0433\u0438\u0431\u0435\u043b\u0438\n## \u0417\u0430\u0434\u0430\u043d\u0438\u0435 1\n\n$K$ \u043f\u0440\u043e\u0433\u0440\u0430\u043c\u043c\u0438\u0441\u0442\u043e\u0432 \u043c\u043e\u0433\u0443\u0442 \u043f\u0438\u0441\u0430\u0442\u044c \u043f\u0440\u043e\u0433\u0440\u0430\u043c\u043c\u044b \u0434\u043b\u044f \u0432\u044b\u043f\u043e\u043b\u043d\u0435\u043d\u0438\u044f \u043d\u0430 \u043e\u0434\u043d\u043e\u043c \u0438\u0437 $M$ \u0441\u0435\u0440\u0432\u0435\u0440\u043e\u0432,\n\u043f\u0440\u0438 \u044d\u0442\u043e\u043c \u043f\u0440\u043e\u0433\u0440\u0430\u043c\u043c\u0430 \u043d\u0435 \u043f\u043e\u043f\u0430\u0434\u0430\u0435\u0442 \u0441\u0440\u0430\u0437\u0443 \u043d\u0430 \u0441\u0435\u0440\u0432\u0435\u0440,\n\u0430 \u043e\u0431\u0440\u0430\u0431\u0430\u0442\u044b\u0432\u0430\u0435\u0442\u0441\u044f \u043d\u0430 \u043e\u0434\u043d\u043e\u043c \u0438\u0437 $N$ \u0441\u043f\u0435\u0446\u0438\u0430\u043b\u044c\u043d\u044b\u0445 \u043a\u043e\u043c\u043f\u044c\u044e\u0442\u0435\u0440\u043e\u0432,\n\u043a\u043e\u0442\u043e\u0440\u044b\u0435 \u043f\u0440\u043e\u0432\u0435\u0440\u044f\u044e\u0442 \u043e\u0442\u0441\u0443\u0442\u0441\u0442\u0432\u0438\u0435 \u0432\u0438\u0440\u0443\u0441\u043e\u0432.\n\u0418\u043d\u0442\u0435\u043d\u0441\u0438\u0432\u043d\u043e\u0441\u0442\u044c \u0440\u0430\u0431\u043e\u0442\u044b \u043f\u0440\u043e\u0433\u0440\u0430\u043c\u043c\u0438\u0441\u0442\u043e\u0432 $\\lambda$,\n\u0438\u043d\u0442\u0435\u043d\u0441\u0438\u0432\u043d\u043e\u0441\u0442\u044c \u0440\u0430\u0431\u043e\u0442\u044b \u043a\u043e\u043c\u043f\u044c\u044e\u0442\u0435\u0440\u043e\u0432-\u0430\u043d\u0442\u0438\u0432\u0438\u0440\u0443\u0441\u043e\u0432 $\\nu$,\n\u0438\u043d\u0442\u0435\u043d\u0441\u0438\u0432\u043d\u043e\u0441\u0442\u044c \u0440\u0430\u0431\u043e\u0442\u044b \u043e\u0441\u043d\u043e\u0432\u043d\u044b\u0445 \u0441\u0435\u0440\u0432\u0435\u0440\u043e\u0432 $\\mu$,\n\u043f\u0440\u043e\u0433\u0440\u0430\u043c\u043c\u0430 \u043e\u043a\u0430\u0437\u044b\u0432\u0430\u0435\u0442\u0441\u044f \u0441 \u0432\u0438\u0440\u0443\u0441\u043e\u043c \u0441 \u0432\u0435\u0440\u043e\u044f\u0442\u043d\u043e\u0441\u0442\u044c\u044e $p$.\n\u0415\u0441\u043b\u0438 \u043f\u0440\u043e\u0433\u0440\u0430\u043c\u043c\u0430 \u0441 \u0432\u0438\u0440\u0443\u0441\u043e\u043c, \u043e\u043d\u0430 \u043f\u043e\u043b\u0443\u0447\u0430\u0435\u0442 \u043e\u0442\u043a\u0430\u0437 \u043e\u0431\u0441\u043b\u0443\u0436\u0438\u0432\u0430\u043d\u0438\u044f \u043d\u0430 \u043e\u0441\u043d\u043e\u0432\u043d\u044b\u0445\n\u0441\u0435\u0440\u0432\u0435\u0440\u0430\u0445. \u0414\u043b\u044f \u043a\u043e\u043c\u043f\u044c\u044e\u0442\u0435\u0440\u043e\u0432 \u043f\u043e \u043f\u0440\u043e\u0432\u0435\u0440\u043a\u0435 \u0432\u0438\u0440\u0443\u0441\u043e\u0432 \u0438\u043c\u0435\u0435\u0442\u0441\u044f \u043e\u0433\u0440\u0430\u043d\u0438\u0447\u0435\u043d\u0438\u0435 \u043f\u043e \u0434\u043b\u0438\u043d\u0435\n\u043e\u0447\u0435\u0440\u0435\u0434\u0438 $m_1$ , \u0434\u043b\u044f \u043e\u0441\u043d\u043e\u0432\u043d\u044b\u0445 \u0441\u0435\u0440\u0432\u0435\u0440\u043e\u0432 \u043e\u0433\u0440\u0430\u043d\u0438\u0447\u0435\u043d\u0438\u0435 \u043f\u043e \u0434\u043b\u0438\u043d\u0435 \u043e\u0447\u0435\u0440\u0435\u0434\u0438 $m_2$.\n\n- \u041d\u0430\u0440\u0438\u0441\u043e\u0432\u0430\u0442\u044c \u0433\u0440\u0430\u0444 \u0441\u043e\u0441\u0442\u043e\u044f\u043d\u0438\u0439 \u0441\u0438\u0441\u0442\u0435\u043c\u044b, \u0443\u0447\u0438\u0442\u044b\u0432\u0430\u044f \u043a\u043e\u043b\u0438\u0447\u0435\u0441\u0442\u0432\u043e \u043f\u0440\u043e\u0433\u0440\u0430\u043c\u043c\u0438\u0441\u0442\u043e\u0432,\n\u043a\u043e\u0442\u043e\u0440\u044b\u0435 \u043f\u0438\u0448\u0443\u0442 \u043f\u0440\u043e\u0433\u0440\u0430\u043c\u043c\u0443, \u043a\u043e\u043b\u0438\u0447\u0435\u0441\u0442\u0432\u043e \u043f\u0440\u043e\u0433\u0440\u0430\u043c\u043c \u043d\u0430 \u043a\u043e\u043c\u043f\u044c\u044e\u0442\u0435\u0440\u0430\u0445-\u0430\u043d\u0442\u0438\u0432\u0438\u0440\u0443\u0441\u0430\u0445,\n\u043a\u043e\u043b\u0438\u0447\u0435\u0441\u0442\u0432\u043e \u043f\u0440\u043e\u0433\u0440\u0430\u043c\u043c \u043d\u0430 \u0441\u0435\u0440\u0432\u0435\u0440\u0430\u0445;\n- \u041d\u0430\u043f\u0438\u0441\u0430\u0442\u044c \u0443\u0440\u0430\u0432\u043d\u0435\u043d\u0438\u044f \u041a\u043e\u043b\u043c\u043e\u0433\u043e\u0440\u043e\u0432\u0430 \u0434\u043b\u044f \u0432\u0435\u0440\u043e\u044f\u0442\u043d\u043e\u0441\u0442\u0435\u0439 \u0441\u043e\u0441\u0442\u043e\u044f\u043d\u0438\u0439, \u0444\u0438\u043d\u0430\u043b\u044c\u043d\u044b\u0445\n\u0432\u0435\u0440\u043e\u044f\u0442\u043d\u043e\u0441\u0442\u0435\u0439;\n- \u0422\u0440\u0435\u043c\u044f \u0441\u043f\u043e\u0441\u043e\u0431\u0430\u043c\u0438 (\u044d\u043a\u0441\u043f\u0435\u0440\u0438\u043c\u0435\u043d\u0442\u0430\u043b\u044c\u043d\u043e, \u043c\u0435\u0442\u043e\u0434\u043e\u043c \u0443\u043a\u0440\u0443\u043f\u043d\u0435\u043d\u0438\u044f \u0441\u043e\u0441\u0442\u043e\u044f\u043d\u0438\u0439, \u043f\u043e\n\u0443\u0440\u0430\u0432\u043d\u0435\u043d\u0438\u044f\u043c \u041a\u043e\u043b\u043c\u043e\u0433\u043e\u0440\u043e\u0432\u0430) \u043d\u0430\u0439\u0442\u0438 \u043e\u0441\u043d\u043e\u0432\u043d\u044b\u0435 \u0445\u0430\u0440\u0430\u043a\u0442\u0435\u0440\u0438\u0441\u0442\u0438\u043a\u0438 \u044d\u0444\u0444\u0435\u043a\u0442\u0438\u0432\u043d\u043e\u0441\u0442\u0438 \u0421\u041c\u041e:\n\u0441\u0440\u0435\u0434\u043d\u0435\u0435 \u0432\u0440\u0435\u043c\u044f \u043f\u0440\u0435\u0431\u044b\u0432\u0430\u043d\u0438\u044f \u0437\u0430\u044f\u0432\u043a\u0438 \u0432 \u0441\u0438\u0441\u0442\u0435\u043c\u0435, \u0430\u0431\u0441\u043e\u043b\u044e\u0442\u043d\u0443\u044e \u043f\u0440\u043e\u043f\u0443\u0441\u043a\u043d\u0443\u044e \u0441\u043f\u043e\u0441\u043e\u0431\u043d\u043e\u0441\u0442\u044c,\n\u0441\u0440\u0435\u0434\u043d\u0435\u0435 \u0447\u0438\u0441\u043b\u043e \u0437\u0430\u044f\u0432\u043e\u043a \u0432 \u0441\u0438\u0441\u0442\u0435\u043c\u0435."
        },
        {
            "cell_type": "code",
            "execution_count": 1,
            "metadata": {
                "trusted": true
            },
            "outputs": [
                {
                    "data": {
                        "text/html": "<table class=\"dataframe\">\n<caption>A data.frame: 1 \u00d7 9</caption>\n<thead>\n\t<tr><th scope=col>K</th><th scope=col>M</th><th scope=col>N</th><th scope=col>lambda</th><th scope=col>mu</th><th scope=col>nu</th><th scope=col>p</th><th scope=col>m1</th><th scope=col>m2</th></tr>\n\t<tr><th scope=col>&lt;int&gt;</th><th scope=col>&lt;int&gt;</th><th scope=col>&lt;int&gt;</th><th scope=col>&lt;dbl&gt;</th><th scope=col>&lt;dbl&gt;</th><th scope=col>&lt;dbl&gt;</th><th scope=col>&lt;dbl&gt;</th><th scope=col>&lt;int&gt;</th><th scope=col>&lt;int&gt;</th></tr>\n</thead>\n<tbody>\n\t<tr><td>4</td><td>3</td><td>1</td><td>0.2843995</td><td>0.1046501</td><td>0.7010575</td><td>0.52796</td><td>1</td><td>0</td></tr>\n</tbody>\n</table>\n",
                        "text/latex": "A data.frame: 1 \u00d7 9\n\\begin{tabular}{lllllllll}\n K & M & N & lambda & mu & nu & p & m1 & m2\\\\\n <int> & <int> & <int> & <dbl> & <dbl> & <dbl> & <dbl> & <int> & <int>\\\\\n\\hline\n\t 4 & 3 & 1 & 0.2843995 & 0.1046501 & 0.7010575 & 0.52796 & 1 & 0\\\\\n\\end{tabular}\n",
                        "text/markdown": "\nA data.frame: 1 \u00d7 9\n\n| K &lt;int&gt; | M &lt;int&gt; | N &lt;int&gt; | lambda &lt;dbl&gt; | mu &lt;dbl&gt; | nu &lt;dbl&gt; | p &lt;dbl&gt; | m1 &lt;int&gt; | m2 &lt;int&gt; |\n|---|---|---|---|---|---|---|---|---|\n| 4 | 3 | 1 | 0.2843995 | 0.1046501 | 0.7010575 | 0.52796 | 1 | 0 |\n\n",
                        "text/plain": "  K M N lambda    mu        nu        p       m1 m2\n1 4 3 1 0.2843995 0.1046501 0.7010575 0.52796 1  0 "
                    },
                    "metadata": {},
                    "output_type": "display_data"
                }
            ],
            "source": "Variant<-5\nset.seed(Variant) \nK<-sample(c(3:6),1)\nM<-sample(c(1:3),1)\nN<-sample(c(1:3),1)\nlambda<-runif(1)\nmu<-runif(1)\nnu<-runif(1)\np<-runif(1)\nm2<-sample(c(0:2),1)\nm1<-sample(c(0:2),1)\nView(data.frame(K,M,N,lambda,mu,nu,p,m1,m2))"
        },
        {
            "cell_type": "markdown",
            "metadata": {},
            "source": "\u0412\u0432\u0435\u0434\u0435\u043c \u0441\u043b\u0435\u0434\u0443\u044e\u0449\u0438\u0435 \u0441\u043e\u0441\u0442\u043e\u044f\u043d\u0438\u044f:\n- $S_{4000}$ - \u0432\u0441\u0435 \u043f\u0440\u043e\u0433\u0440\u0430\u043c\u043c\u0438\u0441\u0442\u044b \u043f\u0438\u0448\u0443\u0442 \u043f\u0440\u043e\u0433\u0440\u0430\u043c\u043c\u0443, \u0441\u0435\u0440\u0432\u0435\u0440\u0430 \u0438 \u043a\u043e\u043c\u043f\u044c\u044e\u0442\u0435\u0440\u044b\n\u0441\u0432\u043e\u0431\u043e\u0434\u043d\u044b;\n- $S_{3010}$ - \u0442\u0440\u0438 \u043f\u0440\u043e\u0433\u0440\u0430\u043c\u043c\u0438\u0441\u0442\u0430 \u043f\u0438\u0448\u0443\u0442 \u043f\u0440\u043e\u0433\u0440\u0430\u043c\u043c\u0443, \u043e\u0434\u043d\u0430 \u043f\u0440\u043e\u0433\u0440\u0430\u043c\u043c\u0430 \u043f\u0440\u043e\u0432\u0435\u0440\u044f\u0435\u0442\u0441\u044f \u043d\u0430\n\u0432\u0438\u0440\u0443\u0441;\n- $S_{3001}$ - \u0442\u0440\u0438 \u043f\u0440\u043e\u0433\u0440\u0430\u043c\u043c\u0438\u0441\u0442\u0430 \u043f\u0438\u0448\u0443\u0442 \u043f\u0440\u043e\u0433\u0440\u0430\u043c\u043c\u0443, \u043e\u0434\u043d\u0430 \u043f\u0440\u043e\u0433\u0440\u0430\u043c\u043c\u0430 \u0432\u044b\u043f\u043e\u043b\u043d\u044f\u0435\u0442\u0441\u044f\n\u043d\u0430 \u0441\u0435\u0440\u0432\u0435\u0440\u0435;\n- $S_{2110}$ - \u0434\u0432\u0430 \u043f\u0440\u043e\u0433\u0440\u0430\u043c\u043c\u0438\u0441\u0442\u0430 \u043f\u0438\u0448\u0443\u0442 \u043f\u0440\u043e\u0433\u0440\u0430\u043c\u043c\u0443, \u043e\u0434\u043d\u0430 \u043f\u0440\u043e\u0433\u0440\u0430\u043c\u043c\u0430 \u043f\u0440\u043e\u0432\u0435\u0440\u044f\u0435\u0442\u0441\u044f \u043d\u0430\n- $S_{2110}$ - \u0434\u0432\u0430 \u043f\u0440\u043e\u0433\u0440\u0430\u043c\u043c\u0438\u0441\u0442\u0430 \u043f\u0438\u0448\u0443\u0442 \u043f\u0440\u043e\u0433\u0440\u0430\u043c\u043c\u0443, \u043e\u0434\u043d\u0430 \u043f\u0440\u043e\u0433\u0440\u0430\u043c\u043c\u0430 \u043f\u0440\u043e\u0432\u0435\u0440\u044f\u0435\u0442\u0441\u044f \u043d\u0430\n\u0432\u0438\u0440\u0443\u0441, \u043e\u0434\u043d\u0430 \u0441\u0442\u043e\u0438\u0442 \u0432 \u043e\u0447\u0435\u0440\u0435\u0434\u0438;\n- $S_{2011}$ - \u0434\u0432\u0430 \u043f\u0440\u043e\u0433\u0440\u0430\u043c\u043c\u0438\u0441\u0442\u0430 \u043f\u0438\u0448\u0443\u0442 \u043f\u0440\u043e\u0433\u0440\u0430\u043c\u043c\u0443, \u043e\u0434\u043d\u0430 \u043f\u0440\u043e\u0433\u0440\u0430\u043c\u043c\u0430 \u043f\u0440\u043e\u0432\u0435\u0440\u044f\u0435\u0442\u0441\u044f \u043d\u0430\n\u0432\u0438\u0440\u0443\u0441, \u043e\u0434\u043d\u0430 \u0432\u044b\u043f\u043e\u043b\u043d\u044f\u0435\u0442\u0441\u044f \u043d\u0430 \u0441\u0435\u0440\u0432\u0435\u0440\u0435;\n- $S_{2002}$ - \u0434\u0432\u0430 \u043f\u0440\u043e\u0433\u0440\u0430\u043c\u043c\u0438\u0441\u0442\u0430 \u043f\u0438\u0448\u0443\u0442 \u043f\u0440\u043e\u0433\u0440\u0430\u043c\u043c\u0443, \u0434\u0432\u0435 \u0432\u044b\u043f\u043e\u043b\u043d\u044f\u044e\u0442\u0441\u044f \u043d\u0430 \u0441\u0435\u0440\u0432\u0435\u0440\u0435;\n- $S_{1111}$ - \u043e\u0434\u0438\u043d \u043f\u0440\u043e\u0433\u0440\u0430\u043c\u043c\u0438\u0441\u0442 \u043f\u0438\u0448\u0435\u0442 \u043f\u0440\u043e\u0433\u0440\u0430\u043c\u043c\u0443, \u043e\u0434\u043d\u0430 \u043f\u0440\u043e\u0433\u0440\u0430\u043c\u043c\u0430 \u0441\u0442\u043e\u0438\u0442\n\u0432 \u043e\u0447\u0435\u0440\u0435\u0434\u0438, \u043e\u0434\u043d\u0430 \u043f\u0440\u043e\u0433\u0440\u0430\u043c\u043c\u0430 \u043f\u0440\u043e\u0432\u0435\u0440\u044f\u0435\u0442\u0441\u044f \u043d\u0430 \u0432\u0438\u0440\u0443\u0441, \u0434\u0432\u0435 \u0432\u044b\u043f\u043e\u043b\u043d\u044f\u044e\u0442\u0441\u044f \u043d\u0430 \u0441\u0435\u0440\u0432\u0435\u0440\u0435;\n- $S_{1003}$ - \u043e\u0434\u0438\u043d \u043f\u0440\u043e\u0433\u0440\u0430\u043c\u043c\u0438\u0441\u0442 \u043f\u0438\u0448\u0435\u0442 \u043f\u0440\u043e\u0433\u0440\u0430\u043c\u043c\u0443, \u0442\u0440\u0438 \u0432\u044b\u043f\u043e\u043b\u043d\u044f\u044e\u0442\u0441\u044f \u043d\u0430\n- $S_{1012}$ - \u043e\u0434\u0438\u043d \u043f\u0440\u043e\u0433\u0440\u0430\u043c\u043c\u0438\u0441\u0442 \u043f\u0438\u0448\u0435\u0442 \u043f\u0440\u043e\u0433\u0440\u0430\u043c\u043c\u0443, \u043e\u0434\u043d\u0430 \u043f\u0440\u043e\u0433\u0440\u0430\u043c\u043c\u0430 \u043f\u0440\u043e\u0432\u0435\u0440\u044f\u0435\u0442\u0441\u044f\n\u043d\u0430 \u0432\u0438\u0440\u0443\u0441, \u0434\u0432\u0435 \u0432\u044b\u043f\u043e\u043b\u043d\u044f\u044e\u0442\u0441\u044f \u043d\u0430 \u0441\u0435\u0440\u0432\u0435\u0440\u0435;\n- $S_{1003}$ - \u043e\u0434\u0438\u043d \u043f\u0440\u043e\u0433\u0440\u0430\u043c\u043c\u0438\u0441\u0442 \u043f\u0438\u0448\u0435\u0442 \u043f\u0440\u043e\u0433\u0440\u0430\u043c\u043c\u0443, \u0442\u0440\u0438 \u0432\u044b\u043f\u043e\u043b\u043d\u044f\u044e\u0442\u0441\u044f \u043d\u0430\n\u0441\u0435\u0440\u0432\u0435\u0440\u0435;\n- $S_{0112}$ - \u0432\u0441\u0435 \u043f\u0440\u043e\u0433\u0440\u0430\u043c\u043c\u0438\u0441\u0442\u044b \u043e\u0436\u0438\u0434\u0430\u044e\u0442 \u043e\u0442\u0432\u0435\u0442\u0430, \u043e\u0434\u043d\u0430 \u043f\u0440\u043e\u0433\u0440\u0430\u043c\u043c\u0430 \u0441\u0442\u043e\u0438\u0442\n\u0432 \u043e\u0447\u0435\u0440\u0435\u0434\u0438, \u043e\u0434\u043d\u0430 \u043f\u0440\u043e\u0433\u0440\u0430\u043c\u043c\u0430 \u043f\u0440\u043e\u0432\u0435\u0440\u044f\u0435\u0442\u0441\u044f\n\u043d\u0430 \u0432\u0438\u0440\u0443\u0441, \u0434\u0432\u0435 \u0432\u044b\u043f\u043e\u043b\u043d\u044f\u044e\u0442\u0441\u044f \u043d\u0430 \u0441\u0435\u0440\u0432\u0435\u0440\u0435;\n- $S_{0013}$ - \u0432\u0441\u0435 \u043f\u0440\u043e\u0433\u0440\u0430\u043c\u043c\u0438\u0441\u0442\u044b \u043e\u0436\u0438\u0434\u0430\u044e\u0442 \u043e\u0442\u0432\u0435\u0442\u0430, \u043e\u0434\u043d\u0430 \u043f\u0440\u043e\u0433\u0440\u0430\u043c\u043c\u0430 \u043f\u0440\u043e\u0432\u0435\u0440\u044f\u0435\u0442\u0441\u044f \u043d\u0430\n\u0432\u0438\u0440\u0443\u0441, \u0442\u0440\u0438 \u0432\u044b\u043f\u043e\u043b\u043d\u044f\u044e\u0442\u0441\u044f \u043d\u0430 \u0441\u0435\u0440\u0432\u0435\u0440\u0435;"
        },
        {
            "cell_type": "markdown",
            "metadata": {},
            "source": "\u0422\u043e\u0433\u0434\u0430 \u0433\u0440\u0430\u0444 \u0441\u043e\u0441\u0442\u043e\u044f\u043d\u0438\u0439 \u0431\u0443\u0434\u0435\u0442 \u0432\u044b\u0433\u043b\u044f\u0434\u0435\u0442\u044c:\n![graph](./State_graph.png)"
        },
        {
            "cell_type": "markdown",
            "metadata": {},
            "source": "### \u0422\u0435\u043e\u0440\u0435\u0442\u0438\u0447\u0435\u0441\u043a\u0438 \u043f\u043e \u0443\u0440\u0430\u0432\u043d\u0435\u043d\u0438\u044f\u043c \u041a\u043e\u043b\u043c\u043e\u0433\u043e\u0440\u043e\u0432\u0430"
        },
        {
            "cell_type": "markdown",
            "metadata": {},
            "source": "\u041f\u043e \u0433\u0440\u0430\u0444\u0443 \u0441\u043e\u0441\u0442\u0430\u0432\u0438\u043c \u0443\u0440\u0430\u0432\u043d\u0435\u043d\u0438\u044f \u041a\u043e\u043b\u043c\u043e\u0433\u043e\u0440\u043e\u0432\u0430:\n$$\n\\begin{cases}\n\\frac{dP_{4000}(t)}{dt} = -4 \\lambda P_{4000}(t) + p \\nu P_{3010}(t) + \\mu P_{3001}(t) \\\\\n\\frac{dP_{3010}(t)}{dt} = -(3 \\lambda + p\\nu + (1-p)\\nu) P_{3010}(t) + 4 \\lambda P_{4000}(t) + p \\nu P_{2110}(t) + \\mu P_{2011}(t) \\\\\n\\frac{dP_{2110}(t)}{dt} = -(p\\nu + (1-p)\\nu) P_{2110}(t) + 3 \\lambda P_{3010}(t) + \\mu P_{1111} \\\\\n\\frac{dP_{3001}(t)}{dt} = -(3 \\lambda + \\mu) P_{3001}(t) + p \\nu P_{2011} + 2 \\mu P_{2002} + (1-p) \\nu P_{3010}(t) \\\\\n\\frac{dP_{2011}(t)}{dt} = -(2 \\lambda + p\\nu + (1-p)\\nu + \\mu) P_{2011}(t) + 3 \\lambda P_{3001}(t) + p \\nu P_{1111}(t) + 2 \\mu P_{1012}(t) + (1-p)\\nu P_{2110}(t) \\\\\n\\frac{dP_{1111}(t)}{dt} = -(p\\nu + (1-p)\\nu + \\mu) P_{1111}(t) + 2 \\lambda P_{2011}(t) + 2 \\mu P_{0112} \\\\\n\\frac{dP_{2002}(t)}{dt} = -(2 \\lambda + 2 \\mu) P_{2002}(t) + p \\nu P_{1012} + 3 \\mu P_{1003} + (1-p) \\nu P_{2011}(t) \\\\\n\\frac{dP_{1012}(t)}{dt} = -(\\lambda + p\\nu + (1-p)\\nu + 2 \\mu) P_{1012}(t) + 2 \\lambda P_{2002}(t) + p \\nu P_{0112}(t) + 3 \\mu P_{0013}(t) + (1-p)\\nu P_{1111}(t) \\\\\n\\frac{dP_{0112}(t)}{dt} = -(p\\nu + (1-p)\\nu + 2 \\mu) P_{0112}(t) + \\lambda P_{1012}(t) \\\\\n\\frac{dP_{1003}(t)}{dt} = -(\\lambda + 3 \\mu) P_{1003}(t) + p\\nu P_{0013}(t) + (1-p)\\nu P_{1012}(t) \\\\\n\\frac{dP_{0013}(t)}{dt} = -(p\\nu + 3 \\mu) P_{0013}(t) + \\lambda P_{1003}(t) + (1-p)\\nu P_{0112}(t)\n\\end{cases}\n$$\n\n\u0438 \u0443\u0440\u0430\u0432\u043d\u0435\u043d\u0438\u0435 \u043d\u043e\u0440\u043c\u0438\u0440\u043e\u0432\u043a\u0438:\n$$\nP_{4000}(t) + P_{3010}(t) + P_{2110}(t) + P_{3001}(t) + P_{2011}(t) + P_{1111}(t) + P_{2002}(t) + P_{1012}(t) + P_{0112}(t) + P_{1003}(t) + P_{0013}(t) = 1\n$$"
        },
        {
            "cell_type": "markdown",
            "metadata": {},
            "source": "\u0420\u0435\u0448\u0438\u043c \u044d\u0442\u0438 \u0443\u0440\u0430\u0432\u043d\u0435\u043d\u0438\u044f \u0441 \u043f\u043e\u043c\u043e\u0449\u044c\u044e \u043f\u0430\u043a\u0435\u0442\u0430 deSolve\n(\u0441\u043c. 75 \u0441\u0442\u0440. [\u0434\u043e\u043a\u0443\u043c\u0435\u043d\u0442\u0430\u0446\u0438\u0438](chrome-extension://gfbliohnnapiefjpjlpjnehglfpaknnc/pages/pdf_viewer.html?r=https://cran.r-project.org/web/packages/deSolve/deSolve.pdf)):"
        },
        {
            "cell_type": "code",
            "execution_count": 2,
            "metadata": {
                "trusted": true
            },
            "outputs": [
                {
                    "name": "stderr",
                    "output_type": "stream",
                    "text": "Loading required package: deSolve\n\n"
                }
            ],
            "source": "if (!require(\"deSolve\")) {\n    install.packages(\"deSolve\")\n}\nlibrary(deSolve)\n\node_system_equations <- function(Time, State, Pars) {\n    with(as.list(c(State, Pars)), {\n        dP_4000 <- -4 * lambda * abs(P_4000) + p * nu * abs(P_3010) + mu * abs(P_3001)\n        dP_3010 <- -(3 * lambda + p * nu + (1-p) * nu) * abs(P_3010) + 4 * lambda * abs(P_4000) + p * nu * abs(P_2110) + mu * abs(P_2011)\n        dP_2110 <- -(p * nu + (1-p) * nu) * abs(P_2110) + 3 * lambda * abs(P_3010) + mu * abs(P_1111)\n        dP_3001 <- -(3 * lambda + mu) * abs(P_3001) + p * nu * abs(P_2011) + 2 * mu * abs(P_2002) + (1-p) * nu * abs(P_3010)\n        dP_2011 <- -(2 * lambda + p* nu + (1-p) * nu + mu) * abs(P_2011) + 3 * lambda * abs(P_3001) + p * nu * abs(P_1111) + 2 * mu * abs(P_1012) + (1-p) * nu * abs(P_2110)\n        dP_1111 <- -(p * nu + (1-p) * nu + mu) * abs(P_1111) + 2 * lambda * abs(P_2011) + 2 * mu * abs(P_0112)\n        dP_2002 <- -(2 * lambda + 2 * mu) * abs(P_2002) + p * nu * abs(P_1012) + 3 * mu * abs(P_1003) + (1-p) * nu * abs(P_2011)\n        dP_1012 <- -(lambda + p * nu + (1-p) * nu + 2 * mu) * abs(P_1012) + 2 * lambda * abs(P_2002) + p * nu * abs(P_0112) + 3 * mu * abs(P_0013) + (1-p) * nu * abs(P_1111)\n        dP_0112 <- -(p * nu + (1-p) * nu + 2 * mu) * abs(P_0112) + lambda * abs(P_1012)\n        dP_1003 <- -(lambda + 3 * mu) * abs(P_1003) + p * nu * abs(P_0013) + (1-p) * nu * abs(P_1012)\n        dP_0013 <- -(p * nu + 3 * mu) * abs(P_0013) + lambda * abs(P_1003) + (1-p) * nu * abs(P_0112)\n        norm <- abs(P_4000) + abs(P_3010) + abs(P_2110) + abs(P_3001) + abs(P_2011) + abs(P_1111) + abs(P_2002) + abs(P_1012) + abs(P_0112) + abs(P_1003) + abs(P_0013)\n\n        # Specifying list of derivatives.\n        return(\n            list(c(\n                dP_4000,\n                dP_3010,\n                dP_2110,\n                dP_3001,\n                dP_2011,\n                dP_1111,\n                dP_2002,\n                dP_1012,\n                dP_0112,\n                dP_1003,\n                dP_0013,\n                norm\n            ))\n        )\n    })\n}"
        },
        {
            "cell_type": "markdown",
            "metadata": {},
            "source": "\u0423\u0440\u0430\u0432\u043d\u0435\u043d\u0438\u0435 \u043d\u043e\u0440\u043c\u0438\u0440\u043e\u0432\u043a\u0438 \u0432 \u0434\u0430\u043d\u043d\u043e\u043c \u043f\u0430\u043a\u0435\u0442\u0435 \u0437\u0430\u0434\u0430\u0442\u044c \u043d\u0430\u043f\u0440\u044f\u043c\u0443\u044e \u043d\u0435\u043b\u044c\u0437\u044f, \u043e\u043d\u043e \u0431\u0443\u0434\u0435\u0442\n\u0432\u043e\u0441\u043f\u0440\u0438\u043d\u0438\u043c\u0430\u0442\u044c\u0441\u044f \u043a\u0430\u043a \u0434\u0438\u0444\u0444\u0435\u0440\u0435\u043d\u0446\u0438\u0430\u043b\u044c\u043d\u043e\u0435 \u0443\u0440\u0430\u0432\u043d\u0435\u043d\u0438\u0435. \u041e\u0434\u043d\u0430\u043a\u043e \u0435\u0441\u043b\u0438 \u0435\u0433\u043e \u0443\u043f\u0443\u0441\u0442\u0438\u0442\u044c,\n\u0437\u043d\u0430\u0447\u0435\u043d\u0438\u044f $P_i$ \u0431\u0443\u0434\u0443\u0442 \u0432\u044b\u0445\u043e\u0434\u0438\u0442\u044c \u0437\u0430 \u043f\u0440\u0435\u0434\u0435\u043b\u044b $[0, 1]$.\n\n\u0422\u0430\u043a\u0436\u0435, \u0435\u0441\u043b\u0438 \u0435\u0433\u043e \u043e\u0441\u0442\u0430\u0432\u0438\u0442\u044c \u0438 \u0437\u0430\u0434\u0430\u0442\u044c \u0432 \u043d\u0430\u0447\u0430\u043b\u044c\u043d\u044b\u0445 \u0443\u0441\u043b\u043e\u0432\u0438\u044f\u0445 \u0440\u0430\u0432\u043d\u044b\u043c 1, \u043e\u043d\u043e \u0432\u0441\u0435\n\u0440\u0430\u0432\u043d\u043e \u0431\u0443\u0434\u0435\u0442 \u043f\u043e\u0441\u0442\u0435\u043f\u0435\u043d\u043d\u043e \u0440\u0430\u0441\u0442\u0438 \u0434\u043e $\\infty$, \u0434\u0435\u0441\u0442\u0430\u0431\u0438\u043b\u0438\u0437\u0438\u0440\u0443\u044f \u043f\u0440\u0438 \u044d\u0442\u043e\u043c $P_i$ (\n\u043e\u043d\u0438 \u0442\u043e\u0436\u0435 \u0431\u0443\u0434\u0443\u0442 \u0432\u044b\u0445\u043e\u0434\u0438\u0442\u044c \u0437\u0430 \u0430\u0434\u0435\u043a\u0432\u0430\u0442\u043d\u044b\u0435 \u043f\u0440\u0435\u0434\u0435\u043b\u044b).\n#\n\u041f\u043e\u044d\u0442\u043e\u043c\u0443 \u0431\u044b\u043b\u043e \u043f\u0440\u0438\u043d\u044f\u0442\u043e \u0440\u0435\u0448\u0435\u043d\u0438\u0435 \u043e\u0441\u0442\u0430\u0432\u0438\u0442\u044c \u0443\u0440\u0430\u0432\u043d\u0435\u043d\u0438\u0435 \u043d\u043e\u0440\u043c\u0438\u0440\u043e\u0432\u043a\u0438 \u043a\u0430\u043a\n\u0434\u0438\u0444\u0444\u0435\u0440\u0435\u043d\u0446\u0438\u0430\u043b\u044c\u043d\u043e\u0435, \u0432\u043e\u0441\u043f\u043e\u043b\u044c\u0437\u043e\u0432\u0430\u0432\u0448\u0438\u0441\u044c \u043f\u0440\u0438 \u044d\u0442\u043e\u043c \u0434\u043e\u043f\u043e\u043b\u043d\u0438\u0442\u0435\u043b\u044c\u043d\u044b\u043c \u043f\u0430\u0440\u0430\u043c\u0435\u0442\u0440\u043e\u043c\n`events`, \u043f\u043e\u0437\u0432\u043e\u043b\u044f\u044e\u0449\u0438\u043c \u0437\u0430\u0434\u0430\u0442\u044c \u0447\u0430\u0441\u0442\u0438\u0447\u043d\u044b\u0435 \u0447\u0430\u0441\u0442\u043d\u044b\u0435 \u0440\u0435\u0448\u0435\u043d\u0438\u044f \u0432 \u043b\u044e\u0431\u043e\u0439 \u043c\u043e\u043c\u0435\u043d\u0442\n\u0432\u0440\u0435\u043c\u0435\u043d\u0438. \u0422\u0430\u043a, \"\u043e\u0431\u043d\u0443\u043b\u044f\u044f\" \u0437\u043d\u0430\u0447\u0435\u043d\u0438\u0435 \u0443\u0440\u0430\u0432\u043d\u0435\u043d\u0438\u044f \u043d\u043e\u0440\u043c\u0438\u0440\u043e\u0432\u043a\u0438 \u0434\u043e 1 \u043a\u0430\u0436\u0434\u044b\u0435 10 \u0442\u0430\u043a\u0442\u043e\u0432,\n\u043c\u044b \u0441\u0442\u0430\u0431\u0438\u043b\u0438\u0437\u0438\u0440\u0443\u0435\u043c \u0440\u0435\u0437\u0443\u043b\u044c\u0442\u0430\u0442\u044b \u0432\u044b\u0447\u0438\u0441\u043b\u0435\u043d\u0438\u044f \u0441\u0438\u0441\u0442\u0435\u043c\u044b \u041e\u0414\u0423: \u043f\u043e \u0442\u0430\u0431\u043b\u0438\u0446\u0435 `output`\n\u0432\u0438\u0434\u043d\u043e, \u0447\u0442\u043e \u043f\u0435\u0440\u0435\u043c\u0435\u043d\u043d\u0430\u044f `norm` \u0447\u0430\u0441\u0442\u043e \u0441\u0442\u0430\u043d\u043e\u0432\u0438\u0442\u0441\u044f \u0432\u044b\u0448\u0435 1, \u043e\u0434\u043d\u0430\u043a\u043e \u0437\u043d\u0430\u0447\u0435\u043d\u0438\u044f\n$P_i$ \u0432\u0441\u0435 \u0440\u0430\u0432\u043d\u043e \u043d\u0430\u0445\u043e\u0434\u044f\u0442\u0441\u044f \u0432 $[0, 1]$ \u0438 \u0438\u0445 \u0441\u0443\u043c\u043c\u0430 \u0440\u0430\u0432\u043d\u0430 1. \u0418\u043c\u0435\u043d\u043d\u043e \u044d\u0442\u043e\u0433\u043e\n\u043c\u044b \u0438 \u0434\u043e\u0431\u0438\u0432\u0430\u043b\u0438\u0441\u044c."
        },
        {
            "cell_type": "code",
            "execution_count": 3,
            "metadata": {
                "trusted": true
            },
            "outputs": [
                {
                    "ename": "ERROR",
                    "evalue": "Error in eval(substitute(expr), data, enclos = parent.frame()): object 'P_4000' not found\n",
                    "output_type": "error",
                    "traceback": [
                        "Error in eval(substitute(expr), data, enclos = parent.frame()): object 'P_4000' not found\nTraceback:\n",
                        "1. ode(yini, times, ode_system_equations, pars, events = list(data = norm_equation_values))",
                        "2. lsoda(y, times, func, parms, ...)",
                        "3. checkFunc(Func2, times, y, rho)",
                        "4. eval(Func2(times[1], y), rho)",
                        "5. Func2(times[1], y)",
                        "6. func(time, state, parms, ...)",
                        "7. with(as.list(c(State, Pars)), {\n .     dP_4000 <- -4 * lambda * abs(P_4000) + p * nu * abs(P_3010) + \n .         mu * abs(P_3001)\n .     dP_3010 <- -(3 * lambda + p * nu + (1 - p) * nu) * abs(P_3010) + \n .         4 * lambda * abs(P_4000) + p * nu * abs(P_2110) + mu * \n .         abs(P_2011)\n .     dP_2110 <- -(p * nu + (1 - p) * nu) * abs(P_2110) + 3 * lambda * \n .         abs(P_3010) + mu * abs(P_1111)\n .     dP_3001 <- -(3 * lambda + mu) * abs(P_3001) + p * nu * abs(P_2011) + \n .         2 * mu * abs(P_2002) + (1 - p) * nu * abs(P_3010)\n .     dP_2011 <- -(2 * lambda + p * nu + (1 - p) * nu + mu) * abs(P_2011) + \n .         3 * lambda * abs(P_3001) + p * nu * abs(P_1111) + 2 * \n .         mu * abs(P_1012) + (1 - p) * nu * abs(P_2110)\n .     dP_1111 <- -(p * nu + (1 - p) * nu + mu) * abs(P_1111) + \n .         2 * lambda * abs(P_2011) + 2 * mu * abs(P_0112)\n .     dP_2002 <- -(2 * lambda + 2 * mu) * abs(P_2002) + p * nu * \n .         abs(P_1012) + 3 * mu * abs(P_1003) + (1 - p) * nu * abs(P_2011)\n .     dP_1012 <- -(lambda + p * nu + (1 - p) * nu + 2 * mu) * abs(P_1012) + \n .         2 * lambda * abs(P_2002) + p * nu * abs(P_0112) + 3 * \n .         mu * abs(P_0013) + (1 - p) * nu * abs(P_1111)\n .     dP_0112 <- -(p * nu + (1 - p) * nu + 2 * mu) * abs(P_0112) + \n .         lambda * abs(P_1012)\n .     dP_1003 <- -(lambda + 3 * mu) * abs(P_1003) + p * nu * abs(P_0013) + \n .         (1 - p) * nu * abs(P_1012)\n .     dP_0013 <- -(p * nu + 3 * mu) * abs(P_0013) + lambda * abs(P_1003) + \n .         (1 - p) * nu * abs(P_0112)\n .     norm <- abs(P_4000) + abs(P_3010) + abs(P_2110) + abs(P_3001) + \n .         abs(P_2011) + abs(P_1111) + abs(P_2002) + abs(P_1012) + \n .         abs(P_0112) + abs(P_1003) + abs(P_0013)\n .     return(list(c(dP_4000, dP_3010, dP_2110, dP_3001, dP_2011, \n .         dP_1111, dP_2002, dP_1012, dP_0112, dP_1003, dP_0013, \n .         norm)))\n . })   # at line 7-38 of file <text>",
                        "8. with.default(as.list(c(State, Pars)), {\n .     dP_4000 <- -4 * lambda * abs(P_4000) + p * nu * abs(P_3010) + \n .         mu * abs(P_3001)\n .     dP_3010 <- -(3 * lambda + p * nu + (1 - p) * nu) * abs(P_3010) + \n .         4 * lambda * abs(P_4000) + p * nu * abs(P_2110) + mu * \n .         abs(P_2011)\n .     dP_2110 <- -(p * nu + (1 - p) * nu) * abs(P_2110) + 3 * lambda * \n .         abs(P_3010) + mu * abs(P_1111)\n .     dP_3001 <- -(3 * lambda + mu) * abs(P_3001) + p * nu * abs(P_2011) + \n .         2 * mu * abs(P_2002) + (1 - p) * nu * abs(P_3010)\n .     dP_2011 <- -(2 * lambda + p * nu + (1 - p) * nu + mu) * abs(P_2011) + \n .         3 * lambda * abs(P_3001) + p * nu * abs(P_1111) + 2 * \n .         mu * abs(P_1012) + (1 - p) * nu * abs(P_2110)\n .     dP_1111 <- -(p * nu + (1 - p) * nu + mu) * abs(P_1111) + \n .         2 * lambda * abs(P_2011) + 2 * mu * abs(P_0112)\n .     dP_2002 <- -(2 * lambda + 2 * mu) * abs(P_2002) + p * nu * \n .         abs(P_1012) + 3 * mu * abs(P_1003) + (1 - p) * nu * abs(P_2011)\n .     dP_1012 <- -(lambda + p * nu + (1 - p) * nu + 2 * mu) * abs(P_1012) + \n .         2 * lambda * abs(P_2002) + p * nu * abs(P_0112) + 3 * \n .         mu * abs(P_0013) + (1 - p) * nu * abs(P_1111)\n .     dP_0112 <- -(p * nu + (1 - p) * nu + 2 * mu) * abs(P_0112) + \n .         lambda * abs(P_1012)\n .     dP_1003 <- -(lambda + 3 * mu) * abs(P_1003) + p * nu * abs(P_0013) + \n .         (1 - p) * nu * abs(P_1012)\n .     dP_0013 <- -(p * nu + 3 * mu) * abs(P_0013) + lambda * abs(P_1003) + \n .         (1 - p) * nu * abs(P_0112)\n .     norm <- abs(P_4000) + abs(P_3010) + abs(P_2110) + abs(P_3001) + \n .         abs(P_2011) + abs(P_1111) + abs(P_2002) + abs(P_1012) + \n .         abs(P_0112) + abs(P_1003) + abs(P_0013)\n .     return(list(c(dP_4000, dP_3010, dP_2110, dP_3001, dP_2011, \n .         dP_1111, dP_2002, dP_1012, dP_0112, dP_1003, dP_0013, \n .         norm)))\n . })",
                        "9. eval(substitute(expr), data, enclos = parent.frame())",
                        "10. eval(substitute(expr), data, enclos = parent.frame())"
                    ]
                }
            ],
            "source": "pars <- NULL\nyini <- c(\n    P_4000 = 1,\n    P_3010 = 0,\n    P_2110 = 0,\n    P_3001 = 0,\n    P_2011 = 0,\n    P_1111 = 0,\n    P_2002 = 0,\n    P_1012 = 0,\n    P_0112 = 0,\n    P_1003 = 0,\n    P_0013 = 0,\n    norm = 1\n)\n\n\nINITIAL_TIME <- 0\nFINISH_TIME <- 100000\n\nnorm_equation_values <- data.frame(\n    var = \"norm\",\n    time = INITIAL_TIME:FINISH_TIME,\n    value = 1,\n    method = \"replace\"\n)\n\nACCURACY <- 0.1\ntimes <- seq(INITIAL_TIME, FINISH_TIME, by = ACCURACY)\noutput <- ode(yini, times, ode_system_equations, pars, events = list(data = norm_equation_values))\noutput"
        },
        {
            "cell_type": "markdown",
            "metadata": {},
            "source": "\u0412\u044b\u0447\u0438\u0441\u043b\u0438\u043c \u0438\u043d\u0434\u0435\u043a\u0441 \u0441\u0442\u0440\u043e\u043a\u0438, \u043a\u043e\u0442\u043e\u0440\u0443\u044e \u043d\u0443\u0436\u043d\u043e \u0432\u0437\u044f\u0442\u044c \u0434\u043b\u044f \u043f\u043e\u043b\u0443\u0447\u0435\u043d\u0438\u044f \u0440\u0435\u0437\u0443\u043b\u044c\u0442\u0430\u0442\u0430 \u043f\u0440\u0438\n\u0437\u0430\u0434\u0430\u043d\u043e\u043c \u0432 \u0443\u0441\u043b\u043e\u0432\u0438\u0438 $t$:"
        },
        {
            "cell_type": "code",
            "execution_count": null,
            "metadata": {
                "trusted": true
            },
            "outputs": [],
            "source": "PRECISION_OF_ACCURACY <- 1\nt_index <- round(t, PRECISION_OF_ACCURACY) * 10^PRECISION_OF_ACCURACY + 1\nt_index"
        },
        {
            "cell_type": "markdown",
            "metadata": {},
            "source": "\u041f\u043e \u0434\u0430\u043d\u043d\u043e\u043c\u0443 \u0438\u043d\u0434\u0435\u043a\u0441\u0443 \u0438\u043c\u0435\u0435\u043c \u0431\u043b\u0438\u0436\u0430\u0439\u0448\u0438\u0439 \u0432\u0435\u043a\u0442\u043e\u0440 \u0437\u043d\u0430\u0447\u0435\u043d\u0438\u0439:"
        },
        {
            "cell_type": "code",
            "execution_count": null,
            "metadata": {
                "trusted": true
            },
            "outputs": [],
            "source": "results <- output[t_index, 1:12]\nresults"
        },
        {
            "cell_type": "markdown",
            "metadata": {},
            "source": "\u041f\u0440\u0438 $t \\rightarrow{} \\infty$ (\u0432\u0437\u044f\u043b\u0438 \u043f\u043e\u0441\u043b\u0435\u0434\u043d\u0438\u0439 \u0440\u0435\u0437\u0443\u043b\u044c\u0442\u0430\u0442, \u0431\u0440\u0430\u0442\u044c \u0437\u043d\u0430\u0447\u0435\u043d\u0438\u044f $t$\n\u0432\u044b\u0448\u0435 \u043d\u0435\u0442 \u0441\u043c\u044b\u0441\u043b\u0430, \u0442\u0430\u043a \u043a\u0430\u043a \u0432\u0438\u0434\u043d\u043e, \u0447\u0442\u043e \u0437\u043d\u0430\u0447\u0435\u043d\u0438\u044f $\\forall P_i$ \u0432 \u043a\u043e\u043d\u0446\u0435 \u0442\u0430\u0431\u043b\u0438\u0446\u044b\n\u0441\u0445\u043e\u0434\u044f\u0442\u0441\u044f):"
        },
        {
            "cell_type": "code",
            "execution_count": null,
            "metadata": {
                "trusted": true
            },
            "outputs": [],
            "source": "results <- output[nrow(output), 2:12]\nresults"
        },
        {
            "cell_type": "markdown",
            "metadata": {},
            "source": "\u041f\u043e\u0434\u0442\u0432\u0435\u0440\u0434\u0438\u043c, \u0447\u0442\u043e $\\sum P_i = 1$:"
        },
        {
            "cell_type": "code",
            "execution_count": null,
            "metadata": {
                "trusted": true
            },
            "outputs": [],
            "source": "sum(results)"
        },
        {
            "cell_type": "code",
            "execution_count": null,
            "metadata": {
                "trusted": true
            },
            "outputs": [],
            "source": "get_P <- function(P_index) {\n    return(as.numeric(results)[1 + P_index])\n}"
        },
        {
            "cell_type": "markdown",
            "metadata": {},
            "source": "#### \u0412\u0435\u0440\u043e\u044f\u0442\u043d\u043e\u0441\u0442\u044c \u043f\u0440\u043e\u0441\u0442\u043e\u044f\n\u0412\u0435\u0440\u043e\u044f\u0442\u043d\u043e\u0441\u0442\u044c \u043f\u0440\u043e\u0441\u0442\u043e\u044f \u0440\u0430\u0432\u043d\u0430 $P_0$:"
        },
        {
            "cell_type": "code",
            "execution_count": null,
            "metadata": {
                "trusted": true
            },
            "outputs": [],
            "source": "get_P(0)"
        },
        {
            "cell_type": "markdown",
            "metadata": {},
            "source": "#### \u0412\u0435\u0440\u043e\u044f\u0442\u043d\u043e\u0441\u0442\u044c \u043e\u0431\u0440\u0430\u0437\u043e\u0432\u0430\u043d\u0438\u044f \u043e\u0447\u0435\u0440\u0435\u0434\u0438\n\u0412\u0435\u0440\u043e\u044f\u0442\u043d\u043e\u0441\u0442\u044c \u043e\u0431\u0440\u0430\u0437\u043e\u0432\u0430\u043d\u0438\u044f \u043e\u0447\u0435\u0440\u0435\u0434\u0438 $P_{\\text{\u043e\u0447}}$ \u0440\u0430\u0432\u043d\u0430 \u043e\u0431\u0440\u0430\u0442\u043d\u043e\u0439 \u0432\u0435\u0440\u043e\u044f\u0442\u043d\u043e\u0441\u0442\u0438 $P_{\\overline{\\text{\u043e\u0447}}}$.\n\u0422\u0430, \u0432 \u0441\u0432\u043e\u044e \u043e\u0447\u0435\u0440\u0435\u0434\u044c, \u0440\u0430\u0432\u043d\u0430 \u0441\u0443\u043c\u043c\u0435 \u0432\u0435\u0440\u043e\u044f\u0442\u043d\u043e\u0441\u0442\u0435\u0439, \u0441\u043e\u043e\u0442\u0432\u0435\u0442\u0441\u0442\u0432\u0443\u044e\u0449\u0438\u0445 \u0441\u043e\u0441\u0442\u043e\u044f\u043d\u0438\u044f\u043c,\n\u0432 \u043a\u043e\u0442\u043e\u0440\u044b\u0445 \u043e\u0447\u0435\u0440\u0435\u0434\u044c \u043f\u0443\u0441\u0442\u0430.\n$$\nP_{\\text{\u043e\u0447}} = 1 - P_{\\overline{\\text{\u043e\u0447}}} = 1 - (P_0 + P_1 + P_{m + 1})\n$$"
        },
        {
            "cell_type": "code",
            "execution_count": null,
            "metadata": {
                "trusted": true
            },
            "outputs": [],
            "source": "1 - (get_P(0) + get_P(1) + get_P(m + 1))"
        },
        {
            "cell_type": "markdown",
            "metadata": {},
            "source": "#### \u0410\u0431\u0441\u043e\u043b\u044e\u0442\u043d\u0443\u044e \u043f\u0440\u043e\u043f\u0443\u0441\u043a\u043d\u0443\u044e \u0441\u043f\u043e\u0441\u043e\u0431\u043d\u043e\u0441\u0442\u044c\n \u0410\u0431\u0441\u043e\u043b\u044e\u0442\u043d\u0443\u044e \u043f\u0440\u043e\u043f\u0443\u0441\u043a\u043d\u0443\u044e \u0441\u043f\u043e\u0441\u043e\u0431\u043d\u043e\u0441\u0442\u044c \u0432\u044b\u0447\u0438\u0441\u043b\u0438\u043c \u043f\u043e \u0444\u043e\u0440\u043c\u0443\u043b\u0435:\n$$\n\\lambda'=\\lambda\\cdot(1-P_m(t)-P_{2m}(t))\n$$"
        },
        {
            "cell_type": "code",
            "execution_count": null,
            "metadata": {
                "trusted": true
            },
            "outputs": [],
            "source": "absolute_flow_capacity <- lambda * (1 - get_P(m) - get_P(2 * m))\nabsolute_flow_capacity"
        },
        {
            "cell_type": "markdown",
            "metadata": {},
            "source": "#### \u0421\u0440\u0435\u0434\u043d\u044e\u044e \u0434\u043b\u0438\u043d\u0443 \u043e\u0447\u0435\u0440\u0435\u0434\u0438\n\u0414\u043b\u044f \u0432\u044b\u0447\u0438\u0441\u043b\u0435\u043d\u0438\u044f \u0441\u0440\u0435\u0434\u043d\u0435\u0439 \u0434\u043b\u0438\u043d\u044b \u043e\u0447\u0435\u0440\u0435\u0434\u0438 \u043f\u0440\u043e\u0441\u0443\u043c\u043c\u0438\u0440\u0443\u0435\u043c \u043f\u0440\u043e\u0438\u0437\u0432\u0435\u0434\u0435\u043d\u0438\u044f \u0432\u0435\u0440\u043e\u044f\u0442\u043d\u043e\u0441\u0442\u0435\u0439\n\u043d\u0430 \u0441\u043e\u043e\u0442\u0432\u0435\u0442\u0441\u0442\u0432\u0443\u044e\u0449\u0438\u0435 \u044d\u0442\u0438\u043c \u0432\u0435\u0440\u043e\u044f\u0442\u043d\u043e\u0441\u0442\u044f\u043c \u0434\u043b\u0438\u043d\u044b \u043e\u0447\u0435\u0440\u0435\u0434\u0435\u0439.\n$$\nL_{\\text{\u043e\u0447}} = 1 \\cdot P_2(t) + 2 \\cdot P_3(t) + 3 \\cdot P_4(t) +\n\\text{...} + (m-1) \\cdot P_m + 1 \\cdot P_{m+2}(t) + 2 \\cdot P_{m+3}(t) +\n\\text{...} + (m - 1) \\cdot P_{2m}(t)\n$$"
        },
        {
            "cell_type": "code",
            "execution_count": null,
            "metadata": {
                "trusted": true
            },
            "outputs": [],
            "source": "# \u041f\u043e\u043b\u0443\u0447\u0430\u0435\u043c \u0434\u043b\u0438\u043d\u0443 \u043e\u0447\u0435\u0440\u0435\u0434\u0438 \u0432 \u0441\u0438\u0441\u0442\u0435\u043c\u0435 \u0434\u043b\u044f \u0437\u0430\u0434\u0430\u043d\u043d\u043e\u0433\u043e \u0438\u043d\u0434\u0435\u043a\u0441\u0430 \u0432\u0435\u0440\u043e\u044f\u0442\u043d\u043e\u0441\u0442\u0438.\nP.get_queue_length <- function(P_index) {\n    if (P_index < 1) {\n        return(0)\n    }\n\n    if (P_index <= m) {\n        return(P_index - 1)\n    }\n\n    return(P_index - m - 1)\n}\n\nP.get_product <- function(P_index) {\n    return(get_P(P_index) * P.get_queue_length(P_index))\n}\n\nmean_length <- sum(unlist(\n    lapply(c(2:m), P.get_product)\n)) + sum(unlist(\n    lapply(c((m + 2):(2 * m)), P.get_product)\n))\nmean_length"
        },
        {
            "cell_type": "markdown",
            "metadata": {},
            "source": "#### \u0421\u0440\u0435\u0434\u043d\u0435\u0435 \u0432\u0440\u0435\u043c\u044f \u043d\u0430\u0445\u043e\u0436\u0434\u0435\u043d\u0438\u044f \u0432 \u043e\u0447\u0435\u0440\u0435\u0434\u0438\n$$\nW_{\\text{\u043e\u0447}}=\\frac{L_{\\text{\u043e\u0447}}}{\\lambda'}\n$$"
        },
        {
            "cell_type": "code",
            "execution_count": null,
            "metadata": {
                "trusted": true
            },
            "outputs": [],
            "source": "W <- mean_length / absolute_flow_capacity\nW"
        },
        {
            "cell_type": "markdown",
            "metadata": {},
            "source": "#### \u0421\u0440\u0435\u0434\u043d\u0435\u0435 \u0447\u0438\u0441\u043b\u043e \u0437\u0430\u044f\u0432\u043e\u043a \u0432 \u0441\u0438\u0441\u0442\u0435\u043c\u0435\n\u0414\u043b\u044f \u0432\u044b\u0447\u0438\u0441\u043b\u0435\u043d\u0438\u044f \u0441\u0440\u0435\u0434\u043d\u0435\u0439 \u0434\u043b\u0438\u043d\u044b \u043e\u0447\u0435\u0440\u0435\u0434\u0438 \u043f\u0440\u043e\u0441\u0443\u043c\u043c\u0438\u0440\u0443\u0435\u043c \u043f\u0440\u043e\u0438\u0437\u0432\u0435\u0434\u0435\u043d\u0438\u044f \u0432\u0435\u0440\u043e\u044f\u0442\u043d\u043e\u0441\u0442\u0435\u0439\n\u043d\u0430 \u0441\u043e\u043e\u0442\u0432\u0435\u0442\u0441\u0442\u0432\u0443\u044e\u0449\u0438\u0435 \u044d\u0442\u0438\u043c \u0432\u0435\u0440\u043e\u044f\u0442\u043d\u043e\u0441\u0442\u044f\u043c \u0437\u043d\u0430\u0447\u0435\u043d\u0438\u044f \u0437\u0430\u044f\u0432\u043e\u043a \u0432 \u0441\u0438\u0441\u0442\u0435\u043c\u0435\n(\u0434\u043b\u0438\u043d\u044b \u043e\u0447\u0435\u0440\u0435\u0434\u0435\u0439 + \u043a\u043e\u043b\u0438\u0447\u0435\u0441\u0442\u0432\u043e \u0437\u0430\u044f\u0432\u043e\u043a \u043d\u0430 \u043e\u0431\u0441\u043b\u0443\u0436\u0438\u0432\u0430\u043d\u0438\u0438):\n$$\nL = (1 + 0) \\cdot P_1(t) + (1 + 1) \\cdot P_2(t) + (1 + 2) \\cdot P_3(t) +\n(1 + 3) \\cdot P_4(t) + \\text{...} + (1 + m - 1) \\cdot P_m +\n1 \\cdot P_{m+2}(t) + 2 \\cdot P_{m+3}(t) + \\text{...} + (m - 1) \\cdot P_{2m}(t)\n$$"
        },
        {
            "cell_type": "code",
            "execution_count": null,
            "metadata": {
                "trusted": true
            },
            "outputs": [],
            "source": "# \u041f\u043e\u043b\u0443\u0447\u0430\u0435\u043c \u043a\u043e\u043b\u0438\u0447\u0435\u0441\u0442\u0432\u043e \u0437\u0430\u044f\u0432\u043e\u043a \u043d\u0430 \u043e\u0431\u0441\u043b\u0443\u0436\u0438\u0432\u0430\u043d\u0438\u0438 \u0434\u043b\u044f \u0437\u0430\u0434\u0430\u043d\u043d\u043e\u0433\u043e \u0438\u043d\u0434\u0435\u043a\u0441\u0430 \u0432\u0435\u0440\u043e\u044f\u0442\u043d\u043e\u0441\u0442\u0438.\nP.get_number_of_requests_proccessed <- function(P_index) {\n    if (P_index > 0 && P_index <= m) {\n        return(1)\n    }\n\n    return(0)\n}\n\nP.get_product1 <- function(P_index) {\n    P.number_of_requests <- P.get_queue_length(P_index) + P.get_number_of_requests_proccessed(P_index)\n\n    return(get_P(P_index) * P.number_of_requests)\n}\n\nmean_number_of_requests <- sum(unlist(\n    lapply(c(2:m), P.get_product1)\n)) + sum(unlist(\n    lapply(c((m + 2):(2 * m)), P.get_product1)\n))\nmean_number_of_requests"
        },
        {
            "cell_type": "markdown",
            "metadata": {},
            "source": "#### \u0421\u0440\u0435\u0434\u043d\u0435\u0435 \u0432\u0440\u0435\u043c\u044f \u043d\u0430\u0445\u043e\u0436\u0434\u0435\u043d\u0438\u044f \u0437\u0430\u044f\u0432\u043e\u043a \u0432 \u0441\u0438\u0441\u0442\u0435\u043c\u0435\n$$\nT =\\frac{L}{\\lambda'}\n$$"
        },
        {
            "cell_type": "code",
            "execution_count": null,
            "metadata": {
                "trusted": true
            },
            "outputs": [],
            "source": "T <- mean_number_of_requests / absolute_flow_capacity\nT"
        },
        {
            "cell_type": "markdown",
            "metadata": {},
            "source": "### \u0427\u0438\u0441\u043b\u0435\u043d\u043d\u043e\n\u041f\u043e\u0441\u0442\u0440\u043e\u0438\u043c \u0441 \u043f\u043e\u043c\u043e\u0449\u044c\u044e \u043f\u0430\u043a\u0435\u0442\u0430 simmer \u0441\u0438\u043c\u0443\u043b\u044f\u0446\u0438\u044e \u0441\u0438\u0441\u0442\u0435\u043c\u044b $M/M/1/m$."
        },
        {
            "cell_type": "code",
            "execution_count": null,
            "metadata": {
                "trusted": true
            },
            "outputs": [],
            "source": "if (!require(\"simmer\")) {\n    install.packages(\"simmer\")\n}\nlibrary(simmer)\nif (!require(\"simmer.plot\")) {\n    install.packages(\"simmer.plot\")\n}\nlibrary(simmer.plot)\n\nMM1m.env <- simmer(\"SuperDuperSim\")\nMM1m.env"
        },
        {
            "cell_type": "markdown",
            "metadata": {},
            "source": "\u0417\u0430\u0434\u0430\u0434\u0438\u043c \u0442\u0440\u0430\u0435\u043a\u0442\u043e\u0440\u0438\u044e \u043e\u0442\u043a\u0430\u0437\u0430 \u0432 \u0441\u043b\u0443\u0447\u0430\u0435 \u043f\u043e\u043b\u043d\u043e\u0439 \u043e\u0447\u0435\u0440\u0435\u0434\u0438:"
        },
        {
            "cell_type": "code",
            "execution_count": null,
            "metadata": {
                "trusted": true
            },
            "outputs": [],
            "source": "m.queue <- trajectory(\"clients' path\") %>%\n    ## add an intake activity\n    seize(\"server\", amount = 1) %>%\n    timeout(function() rexp(1, 1 / mu)) %>%\n    release(\"server\", amount = 1)"
        },
        {
            "cell_type": "markdown",
            "metadata": {},
            "source": "\u0414\u043e\u0431\u0430\u0432\u0438\u043c \u0441\u0438\u043c\u0443\u043b\u044f\u0446\u0438\u044e \u043f\u043e\u043b\u043e\u043c\u043a\u0438 \u0441\u0438\u0441\u0442\u0435\u043c\u044b, \u0437\u0430\u0434\u0430\u0432 \u043c\u0435\u0445\u0430\u043d\u0438\u0437\u043c \u0441\u043c\u0435\u043d\u044b \u043f\u043e\u043b\u044f $capacity$ \u0440\u0435\u0441\u0443\u0440\u0441\u0430\n$server$ \u0441 1 \u043d\u0430 0 \u0438 \u043e\u0431\u0440\u0430\u0442\u043d\u043e \u0441 \u0438\u043d\u0442\u0435\u043d\u0441\u0438\u0432\u043d\u043e\u0441\u0442\u044c\u044e $\\gamma$ \u0438 $\\nu$ \u0441\u043e\u043e\u0442\u0432\u0435\u0442\u0441\u0442\u0432\u0435\u043d\u043d\u043e."
        },
        {
            "cell_type": "code",
            "execution_count": null,
            "metadata": {
                "trusted": true
            },
            "outputs": [],
            "source": "# Transform intervals timetable of chronologic points.\n# Example:\n# 1, 2, 0.5, 0.3, 0.2 -> 1, 3, 3.5, 3.8, 4\naccumulate <- function(intervals) {\n    timetable <- c()\n\n    for (interval_index in seq_along(intervals)) {\n        point <- intervals[interval_index]\n\n        if (interval_index > 1) {\n            point <- point + timetable[interval_index - 1]\n        }\n\n        timetable <- append(timetable, point)\n    }\n\n    return(timetable)\n}"
        },
        {
            "cell_type": "code",
            "execution_count": null,
            "metadata": {
                "trusted": true
            },
            "outputs": [],
            "source": "create_timetable <- function(number_of_points, break_intensity, repair_intensity) {\n    intervals <- c()\n\n    for (interval_index in 1:number_of_points) {\n        intensity <- break_intensity\n\n        if (interval_index %% 2 == 0) {\n            intensity <- repair_intensity\n        }\n\n        intervals <- append(intervals, rexp(1, 1 / intensity))\n    }\n\n\n    return(accumulate(intervals))\n}\n\ncreate_capacity_schedule <- function(number_of_points) {\n    stopifnot(number_of_points %% 2 == 0)\n\n    timetable <- create_timetable(\n        number_of_points,\n        break_intensity = gamma,\n        repair_intensity = nu\n    )\n\n    capacity_sequence <- rep(c(1, 0), times = number_of_points / 2)\n\n    period <- sum(timetable)\n\n    return(\n        schedule(\n            timetable,\n            capacity_sequence,\n            period\n        )\n    )\n}\n\ncapacity_schedule <- create_capacity_schedule(1000)"
        },
        {
            "cell_type": "code",
            "execution_count": null,
            "metadata": {
                "trusted": true
            },
            "outputs": [],
            "source": "SIMULATION_TIME <- FINISH_TIME\n\nMM1m.env %>%\n    add_resource(\n        \"server\",\n        capacity = capacity_schedule,\n        queue_size = m\n    ) %>%\n    add_generator(\"clients\", m.queue, function() rexp(1, lambda)) %>%\n    run(until = SIMULATION_TIME)"
        },
        {
            "cell_type": "code",
            "execution_count": null,
            "metadata": {
                "trusted": true
            },
            "outputs": [],
            "source": "arrivals <- get_mon_arrivals(MM1m.env)\narrivals"
        },
        {
            "cell_type": "markdown",
            "metadata": {},
            "source": "\u041b\u043e\u0433\u0438 \u0441\u0438\u043c\u0443\u043b\u044f\u0446\u0438\u0438:"
        },
        {
            "cell_type": "code",
            "execution_count": null,
            "metadata": {
                "trusted": true
            },
            "outputs": [],
            "source": "resources <- get_mon_resources(MM1m.env)\nresources"
        },
        {
            "cell_type": "markdown",
            "metadata": {},
            "source": "#### \u0412\u0435\u0440\u043e\u044f\u0442\u043d\u043e\u0441\u0442\u044c \u043f\u0440\u043e\u0441\u0442\u043e\u044f\n\u041f\u043e\u0434\u0441\u0447\u0438\u0442\u0430\u0435\u043c \u043e\u0442\u043d\u043e\u0448\u0435\u043d\u0438\u0435 \u043a\u043e\u043b\u0438\u0447\u0435\u0441\u0442\u0432\u0430 \u0441\u043e\u0441\u0442\u043e\u044f\u043d\u0438\u0439, \u043a\u043e\u0433\u0434\u0430 \u0441\u0438\u0441\u0442\u0435\u043c\u0430 \u043d\u0435 \u0437\u0430\u0433\u0440\u0443\u0436\u0435\u043d\u0430,\n\u043a \u043e\u0431\u0449\u0435\u043c\u0443 \u043a\u043e\u043b\u0438\u0447\u0435\u0441\u0442\u0432\u0443 \u0441\u043e\u0441\u0442\u043e\u044f\u043d\u0438\u0439."
        },
        {
            "cell_type": "code",
            "execution_count": null,
            "metadata": {
                "trusted": true
            },
            "outputs": [],
            "source": "free_states <- resources %>% subset(server == 0) %>% subset( capacity > 0)\nfree_states"
        },
        {
            "cell_type": "code",
            "execution_count": null,
            "metadata": {
                "trusted": true
            },
            "outputs": [],
            "source": "nrow(free_states) / nrow(resources)"
        },
        {
            "cell_type": "markdown",
            "metadata": {},
            "source": "#### \u0412\u0435\u0440\u043e\u044f\u0442\u043d\u043e\u0441\u0442\u044c \u043e\u0431\u0440\u0430\u0437\u043e\u0432\u0430\u043d\u0438\u044f \u043e\u0447\u0435\u0440\u0435\u0434\u0438\n\u0412\u044b\u0447\u0438\u0441\u043b\u0438\u043c \u0432\u0435\u0440\u043e\u044f\u0442\u043d\u043e\u0441\u0442\u044c \u043e\u0431\u0440\u0430\u0437\u043e\u0432\u0430\u043d\u0438\u044f \u043e\u0447\u0435\u0440\u0435\u0434\u0438, \u043f\u043e\u0434\u0441\u0447\u0438\u0442\u0430\u0432 \u043e\u0442\u043d\u043e\u0448\u0435\u043d\u0438\u0435 \u043a\u043e\u043b\u0438\u0447\u0435\u0441\u0442\u0432\u0430 \u0437\u0430\u043f\u0438\u0441\u0435\u0439,\n\u0432 \u043a\u043e\u0442\u043e\u0440\u044b\u0445 \u043e\u0447\u0435\u0440\u0435\u0434\u044c \u043d\u0435 \u043f\u0443\u0441\u0442\u0430, \u043a \u043e\u0431\u0449\u0435\u043c\u0443 \u043a\u043e\u043b\u0438\u0447\u0435\u0441\u0442\u0432\u0443 \u0437\u0430\u043f\u0438\u0441\u0435\u0439."
        },
        {
            "cell_type": "code",
            "execution_count": null,
            "metadata": {
                "trusted": true
            },
            "outputs": [],
            "source": "queue_unempty <- resources %>% subset(queue != 0)\nqueue_unempty"
        },
        {
            "cell_type": "code",
            "execution_count": null,
            "metadata": {
                "trusted": true
            },
            "outputs": [],
            "source": "nrow(queue_unempty) / nrow(resources)"
        },
        {
            "cell_type": "markdown",
            "metadata": {},
            "source": "#### \u0410\u0431\u0441\u043e\u043b\u044e\u0442\u043d\u0443\u044e \u043f\u0440\u043e\u043f\u0443\u0441\u043a\u043d\u0443\u044e \u0441\u043f\u043e\u0441\u043e\u0431\u043d\u043e\u0441\u0442\u044c\n \u0410\u0431\u0441\u043e\u043b\u044e\u0442\u043d\u0443\u044e \u043f\u0440\u043e\u043f\u0443\u0441\u043a\u043d\u0443\u044e \u0441\u043f\u043e\u0441\u043e\u0431\u043d\u043e\u0441\u0442\u044c \u0432\u044b\u0447\u0438\u0441\u043b\u0438\u043c \u043f\u043e \u0444\u043e\u0440\u043c\u0443\u043b\u0435:\n$$\n\\lambda'=\\lambda\\cdot(1-P_m(t)-P_{2m}(t))\n$$"
        },
        {
            "cell_type": "code",
            "execution_count": null,
            "metadata": {
                "trusted": true
            },
            "outputs": [],
            "source": "number_of_unfinished <- arrivals %>% with(sum(!finished))\nnumber_of_unfinished"
        },
        {
            "cell_type": "code",
            "execution_count": null,
            "metadata": {
                "trusted": true
            },
            "outputs": [],
            "source": "finish_probability <- number_of_unfinished / nrow(arrivals)\nfinish_probability"
        },
        {
            "cell_type": "code",
            "execution_count": null,
            "metadata": {
                "trusted": true
            },
            "outputs": [],
            "source": "absolute_flow_capacity <- lambda * finish_probability\nabsolute_flow_capacity"
        },
        {
            "cell_type": "markdown",
            "metadata": {},
            "source": "#### \u0421\u0440\u0435\u0434\u043d\u044e\u044e \u0434\u043b\u0438\u043d\u0443 \u043e\u0447\u0435\u0440\u0435\u0434\u0438"
        },
        {
            "cell_type": "code",
            "execution_count": null,
            "metadata": {
                "trusted": true
            },
            "outputs": [],
            "source": "mean_length <- resources %>% with(mean(queue))\nmean_length"
        },
        {
            "cell_type": "markdown",
            "metadata": {},
            "source": "#### \u0421\u0440\u0435\u0434\u043d\u0435\u0435 \u0432\u0440\u0435\u043c\u044f \u043d\u0430\u0445\u043e\u0436\u0434\u0435\u043d\u0438\u044f \u0432 \u043e\u0447\u0435\u0440\u0435\u0434\u0438\n\u041f\u043e\u0441\u0442\u0440\u043e\u0438\u043c \u0433\u0440\u0430\u0444\u0438\u043a \u0438 \u0441\u0440\u0430\u0432\u043d\u0438\u043c \u0435\u0433\u043e \u0441\u043e \u0437\u043d\u0430\u0447\u0435\u043d\u0438\u0435\u043c $W_\\text{\u043e\u0447}$ (\u0447\u0435\u0440\u043d\u0430\u044f \u0433\u043e\u0440\u0438\u0437\u043e\u043d\u0442\u0430\u043b\u044c\u043d\u0430\u044f \u043f\u0440\u044f\u043c\u0430\u044f), \u043d\u0430\u0439\u0434\u0435\u043d\u043d\u044b\u043c \u0442\u0435\u043e\u0440\u0435\u0442\u0438\u0447\u0435\u0441\u043a\u0438:"
        },
        {
            "cell_type": "code",
            "execution_count": null,
            "metadata": {
                "trusted": true
            },
            "outputs": [],
            "source": "plot(arrivals, metric = \"waiting_time\", names = \"server\", items = \"system\") +\n    coord_cartesian(xlim = c(0, SIMULATION_TIME), ylim = c(0, 100)) +\n    geom_hline(yintercept = W)"
        },
        {
            "cell_type": "markdown",
            "metadata": {},
            "source": "#### \u0421\u0440\u0435\u0434\u043d\u0435\u0435 \u0447\u0438\u0441\u043b\u043e \u0437\u0430\u044f\u0432\u043e\u043a \u0432 \u0441\u0438\u0441\u0442\u0435\u043c\u0435\n\u0421\u0440\u0435\u0434\u043d\u0435\u0435 \u0447\u0438\u0441\u043b\u043e \u0437\u0430\u044f\u0432\u043e\u043a \u0432 \u0441\u0438\u0441\u0442\u0435\u043c\u0435 \u0441\u0440\u0430\u0432\u043d\u0438\u043c \u0441 \u0442\u0435\u043e\u0440\u0435\u0442\u0438\u0447\u0435\u0441\u043a\u0438\u043c, \u043f\u0440\u043e\u0430\u043d\u0430\u043b\u0438\u0437\u0438\u0440\u0443\u044f \u0433\u0440\u0430\u0444\u0438\u043a \u0438\u0441\u043f\u043e\u043b\u044c\u0437\u043e\u0432\u0430\u043d\u0438\u044f\n\u0440\u0435\u0441\u0443\u0440\u0441\u0430 `server`:"
        },
        {
            "cell_type": "code",
            "execution_count": null,
            "metadata": {
                "trusted": true
            },
            "outputs": [],
            "source": "plot(resources, metric = \"usage\", names = \"server\", items = \"system\") +\n    geom_hline(yintercept = mean_number_of_requests)"
        },
        {
            "cell_type": "markdown",
            "metadata": {},
            "source": "\u041f\u043e \u044d\u0442\u043e\u043c\u0443 \u0433\u0440\u0430\u0444\u0438\u043a\u0443 \u0441\u043b\u043e\u0436\u043d\u043e \u0441\u0443\u0434\u0438\u0442\u044c, \u043f\u043e\u044d\u0442\u043e\u043c\u0443 \u0434\u043e\u043f\u043e\u043b\u043d\u0438\u0442\u0435\u043b\u044c\u043d\u043e \u0440\u0430\u0441\u0441\u0447\u0438\u0442\u0430\u0435\u043c \u0437\u043d\u0430\u0447\u0435\u043d\u0438\u0435,\n\u0432\u043e\u0441\u043f\u043e\u043b\u044c\u0437\u043e\u0432\u0430\u0432\u0448\u0438\u0441\u044c \u0442\u0430\u0431\u043b\u0438\u0446\u0435\u0439 \u0438\u0441\u043f\u043e\u043b\u044c\u0437\u043e\u0432\u0430\u043d\u0438\u044f \u0440\u0435\u0441\u0443\u0440\u0441\u043e\u0432:"
        },
        {
            "cell_type": "code",
            "execution_count": null,
            "metadata": {
                "trusted": true
            },
            "outputs": [],
            "source": "resources %>% with(mean(queue) + mean(server))"
        },
        {
            "cell_type": "markdown",
            "metadata": {},
            "source": "#### \u0421\u0440\u0435\u0434\u043d\u0435\u0435 \u0432\u0440\u0435\u043c\u044f \u043d\u0430\u0445\u043e\u0436\u0434\u0435\u043d\u0438\u044f \u0437\u0430\u044f\u0432\u043e\u043a \u0432 \u0441\u0438\u0441\u0442\u0435\u043c\u0435 $T$\n\u041f\u043e\u0441\u0442\u0443\u043f\u0438\u043c \u0441\u043e \u0441\u0440\u0435\u0434\u043d\u0438\u043c \u0432\u0440\u0435\u043c\u0435\u043d\u0435\u043c \u043d\u0430\u0445\u043e\u0436\u0434\u0435\u043d\u0438\u044f \u0437\u0430\u044f\u0432\u043e\u043a \u0432 \u0441\u0438\u0441\u0442\u0435\u043c\u0435 $T$ \u043f\u043e \u0430\u043d\u0430\u043b\u043e\u0433\u0438\u0438\n\u0441 $W$ - \u0441\u0440\u0430\u0432\u043d\u0438\u043c \u0434\u0432\u0430 \u0433\u0440\u0430\u0444\u0438\u043a\u0430:"
        },
        {
            "cell_type": "code",
            "execution_count": null,
            "metadata": {
                "trusted": true
            },
            "outputs": [],
            "source": "plot(arrivals, metric = \"flow_time\", names = \"server\", items = \"system\") +\n    coord_cartesian(xlim = c(0, 80000), ylim = c(0, 100)) +\n    geom_hline(yintercept = T)"
        },
        {
            "cell_type": "markdown",
            "metadata": {},
            "source": "### \u0412\u044b\u0432\u043e\u0434\u044b\n\u041a\u0430\u043a \u0432\u0438\u0434\u043d\u043e, \u0442\u0435\u043e\u0440\u0435\u0442\u0438\u0447\u0435\u0441\u043a\u0438 \u0432\u044b\u0447\u0438\u0441\u043b\u0435\u043d\u043d\u044b\u0435 \u0437\u043d\u0430\u0447\u0435\u043d\u0438\u044f \u0441 \u043d\u0435\u043a\u043e\u0442\u043e\u0440\u043e\u0439 \u0442\u043e\u0447\u043d\u043e\u0441\u0442\u044c\u044e \u0441\u043e\u0432\u043f\u0430\u0434\u0430\u044e\u0442\n\u0441\u043e \u0437\u043d\u0430\u0447\u0435\u043d\u0438\u044f\u043c\u0438, \u043f\u043e\u043b\u0443\u0447\u0435\u043d\u043d\u044b\u043c \u0447\u0438\u0441\u043b\u0435\u043d\u043d\u044b\u043c \u043c\u0435\u0442\u043e\u0434\u043e\u043c. \u041f\u0440\u0438 \u0443\u0432\u0435\u043b\u0438\u0447\u0435\u043d\u0438\u0438 \u043a\u043e\u043b\u0438\u0447\u0435\u0441\u0442\u0432\u0430\n\u044d\u043a\u0441\u043f\u0435\u0440\u0438\u043c\u0435\u043d\u0442\u043e\u0432 \ud835\udc41 \u0442\u043e\u0447\u043d\u043e\u0441\u0442\u044c \u0442\u043e\u043b\u044c\u043a\u043e \u0443\u0432\u0435\u043b\u0438\u0447\u0438\u0432\u0430\u0435\u0442\u0441\u044f."
        }
    ],
    "metadata": {
        "kernelspec": {
            "display_name": "R",
            "language": "R",
            "name": "ir"
        },
        "language_info": {
            "codemirror_mode": "r",
            "file_extension": ".r",
            "mimetype": "text/x-r-source",
            "name": "R",
            "pygments_lexer": "r",
            "version": "4.2.3"
        }
    },
    "nbformat": 4,
    "nbformat_minor": 5
}