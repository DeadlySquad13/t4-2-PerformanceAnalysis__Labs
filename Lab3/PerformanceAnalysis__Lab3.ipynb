{
    "cells": [
        {
            "cell_type": "markdown",
            "metadata": {},
            "source": "# \u041b\u0430\u0431\u043e\u0440\u0430\u0442\u043e\u0440\u043d\u0430\u044f \u0440\u0430\u0431\u043e\u0442\u0430 3. \u041c\u043e\u0434\u0435\u043b\u044c \u043e\u0434\u043d\u043e\u0444\u0430\u0437\u043d\u043e\u0439 \u043e\u0434\u043d\u043e\u043a\u0430\u043d\u0430\u043b\u044c\u043d\u043e\u0439 \u0437\u0430\u043c\u043a\u043d\u0443\u0442\u043e\u0439 \u0441\u0438\u0441\u0442\u0435\u043c\u044b \u043e\u0431\u0441\u043b\u0443\u0436\u0438\u0432\u0430\u043d\u0438\u044f\n## \u0417\u0430\u0434\u0430\u043d\u0438\u0435 1"
        },
        {
            "cell_type": "code",
            "execution_count": 1,
            "metadata": {
                "trusted": true
            },
            "outputs": [
                {
                    "data": {
                        "text/html": "<table class=\"dataframe\">\n<caption>A data.frame: 4 \u00d7 4</caption>\n<thead>\n\t<tr><th></th><th scope=col></th><th scope=col></th><th scope=col></th><th scope=col></th></tr>\n\t<tr><th></th><th scope=col>&lt;dbl&gt;</th><th scope=col>&lt;dbl&gt;</th><th scope=col>&lt;dbl&gt;</th><th scope=col>&lt;dbl&gt;</th></tr>\n</thead>\n<tbody>\n\t<tr><th scope=row>p1</th><td>0.3441331</td><td>0.4604769</td><td>0.1428322</td><td>0.05255779</td></tr>\n\t<tr><th scope=row>p2</th><td>0.0000000</td><td>0.3441697</td><td>0.2591911</td><td>0.39663917</td></tr>\n\t<tr><th scope=row>p3</th><td>0.0000000</td><td>0.0000000</td><td>0.8964781</td><td>0.10352190</td></tr>\n\t<tr><th scope=row>p4</th><td>0.0000000</td><td>0.0000000</td><td>0.0000000</td><td>1.00000000</td></tr>\n</tbody>\n</table>\n",
                        "text/latex": "A data.frame: 4 \u00d7 4\n\\begin{tabular}{r|llll}\n  &  &  &  & \\\\\n  & <dbl> & <dbl> & <dbl> & <dbl>\\\\\n\\hline\n\tp1 & 0.3441331 & 0.4604769 & 0.1428322 & 0.05255779\\\\\n\tp2 & 0.0000000 & 0.3441697 & 0.2591911 & 0.39663917\\\\\n\tp3 & 0.0000000 & 0.0000000 & 0.8964781 & 0.10352190\\\\\n\tp4 & 0.0000000 & 0.0000000 & 0.0000000 & 1.00000000\\\\\n\\end{tabular}\n",
                        "text/markdown": "\nA data.frame: 4 \u00d7 4\n\n| <!--/--> | <!----> &lt;dbl&gt; | <!----> &lt;dbl&gt; | <!----> &lt;dbl&gt; | <!----> &lt;dbl&gt; |\n|---|---|---|---|---|\n| p1 | 0.3441331 | 0.4604769 | 0.1428322 | 0.05255779 |\n| p2 | 0.0000000 | 0.3441697 | 0.2591911 | 0.39663917 |\n| p3 | 0.0000000 | 0.0000000 | 0.8964781 | 0.10352190 |\n| p4 | 0.0000000 | 0.0000000 | 0.0000000 | 1.00000000 |\n\n",
                        "text/plain": "                                           \np1 0.3441331 0.4604769 0.1428322 0.05255779\np2 0.0000000 0.3441697 0.2591911 0.39663917\np3 0.0000000 0.0000000 0.8964781 0.10352190\np4 0.0000000 0.0000000 0.0000000 1.00000000"
                    },
                    "metadata": {},
                    "output_type": "display_data"
                },
                {
                    "name": "stdout",
                    "output_type": "stream",
                    "text": "[1] \"k = 5\"\n"
                }
            ],
            "source": "variant <- 5\nset.seed(variant)\n\nk <- sample(c(4:9), 1)\n\npp1 <- runif(4)\npp2 <- runif(3)\npp3 <- runif(2)\n\np1 <- pp1 / sum(pp1)\np2 <- c(c(0), pp2 / sum(pp2))\np3 <- c(c(0, 0), pp3 / sum(pp3))\np4 <- c(0, 0, 0, 1)\n\nP <- data.frame()\n\nP <- rbind(P, p1, p2, p3, p4)\n\nrownames(P) <- c(\"p1\", \"p2\", \"p3\", \"p4\")\ncolnames(P) <- c(\"\", \"\", \"\", \"\")\n\nView(P)\n\nprint(paste(\"k =\", as.character(k)))"
        },
        {
            "cell_type": "markdown",
            "metadata": {},
            "source": "### \u0413\u0440\u0430\u0444 \u0441\u043e\u0441\u0442\u043e\u044f\u043d\u0438\u0439\n\u0421 \u0442\u043e\u0447\u043d\u043e\u0441\u0442\u044c\u044e \u0434\u043e \u0432\u0442\u043e\u0440\u043e\u0433\u043e \u0437\u043d\u0430\u043a\u0430 \u043f\u043e\u0441\u043b\u0435 \u0437\u0430\u043f\u044f\u0442\u043e\u0439\n![graph](./TransitionMatrix_graph--dot.png)"
        },
        {
            "cell_type": "markdown",
            "metadata": {},
            "source": "### \u0427\u0438\u0441\u043b\u0435\u043d\u043d\u043e\n\u0421\u0438\u043c\u0443\u043b\u0438\u0440\u0443\u0435\u043c \u043f\u0440\u043e\u0445\u043e\u0434 \u043f\u043e \u043c\u0430\u0442\u0440\u0438\u0446\u0435 \u043f\u0435\u0440\u0435\u0445\u043e\u0434\u043d\u044b\u0445 \u0432\u0435\u0440\u043e\u044f\u0442\u043d\u043e\u0441\u0442\u0435\u0439 \u0434\u043b\u044f \u0442\u0440\u0435\u0445 \u0441\u0446\u0435\u043d\u0430\u0440\u0438\u0435\u0432:\n1. k - 2 \u043e\u0441\u043c\u043e\u0442\u0440\u043e\u0432,\n2. k - 1 \u043e\u0441\u043c\u043e\u0442\u0440\u043e\u0432,\n3. k \u043e\u0441\u043c\u043e\u0442\u0440\u043e\u0432.\n\n\u0412\u044b\u043f\u043e\u043b\u043d\u0438\u0432 \u044d\u0442\u0443 \u043e\u043f\u0435\u0440\u0430\u0446\u0438\u044e N \u0440\u0430\u0437 \u0434\u043b\u044f \u043a\u0430\u0436\u0434\u043e\u0433\u043e \u0441\u0446\u0435\u043d\u0430\u0440\u0438\u044f, \u043f\u043e\u043b\u0443\u0447\u0438\u043c \u0442\u0440\u0438 \u0432\u0435\u043a\u0442\u043e\u0440\u0430,\n\u0441\u043e\u0434\u0435\u0440\u0436\u0430\u0449\u0438\u0435 N \u0441\u043e\u0441\u0442\u043e\u044f\u043d\u0438\u0439. \u042d\u0442\u043e \u0441\u043e\u0441\u0442\u043e\u044f\u043d\u0438\u044f, \u0432 \u043a\u043e\u0442\u043e\u0440\u044b\u0445 \u043e\u0441\u0442\u0430\u0432\u0430\u043b\u0430\u0441\u044c \u043c\u043e\u0434\u0435\u043b\u044c \u043f\u043e\u0441\u043b\u0435\n\u0441\u0438\u043c\u0443\u043b\u044f\u0446\u0438\u0438:\n$$\n  Scenario_i = \\{State_1 ... State_N\\}, i \\in \\{1, 2, 3\\}, \\\\\n  State \\in \\{S1, S2, S3, S4\\}\n$$"
        },
        {
            "cell_type": "code",
            "execution_count": 2,
            "metadata": {
                "trusted": true
            },
            "outputs": [],
            "source": "# \u041f\u043e\u043b\u0443\u0447\u0430\u0435\u043c \u0437\u043d\u0430\u0447\u0435\u043d\u0438\u0435, \u0441\u043e\u043e\u0442\u0432\u0435\u0442\u0441\u0442\u0432\u0443\u044e\u0449\u0435\u0435 \u043e\u0442\u0440\u0435\u0437\u043a\u0443.\n# v - \u0441\u043b\u0443\u0447\u0430\u0439\u043d\u0430\u044f \u0432\u0435\u043b\u0438\u0447\u0438\u043d\u0430. \u0415\u0441\u043b\u0438 \u043d\u0443\u0436\u043d\u043e \u0441\u0433\u0435\u043d\u0435\u0440\u0438\u0440\u043e\u0432\u0430\u0442\u044c \u0440\u0430\u0441\u043f\u0440\u0435\u0434\u0435\u043b\u0435\u043d\u0438\u0435 \u043f\u043e `p`, \u043d\u0443\u0436\u043d\u043e\n# \u043f\u043e\u0434\u0430\u0442\u044c runif(1)\n# X - \u0432\u0435\u043b\u0438\u0447\u0438\u043d\u044b, \u0441\u043e\u043e\u0442\u0432\u0435\u0442\u0441\u0442\u0432\u0443\u044e\u0449\u0438\u0435 \u043e\u0442\u0440\u0435\u0437\u043a\u0430\u043c.\n# \u0417\u0430 \u043e\u0442\u0440\u0435\u0437\u043a\u0438 \u043e\u0442\u0432\u0435\u0447\u0430\u0435\u0442 \u043f\u0430\u0440\u0430\u043c\u0435\u0442\u0440 p, \u0445\u0440\u0430\u043d\u044f\u0449\u0438\u0439 \u043f\u043e\u0441\u043b\u0435\u0434\u043e\u0432\u0430\u0442\u0435\u043b\u044c\u043d\u043e\u0441\u0442\u044c \u0434\u043b\u0438\u043d.\nget_value_in_range <- function(v, X, p) {\n    border <- 0\n    for (i in seq_along(p)) {\n        border <- border + p[i]\n        if (v < border) {\n            return(X[i])\n        }\n    }\n}"
        },
        {
            "cell_type": "code",
            "execution_count": 3,
            "metadata": {
                "trusted": true
            },
            "outputs": [],
            "source": "make_step <- function(current_state) {\n    possible_states <- P[current_state, ]\n\n    return(get_value_in_range(runif(1), 1:4, possible_states))\n}"
        },
        {
            "cell_type": "code",
            "execution_count": 4,
            "metadata": {
                "trusted": true
            },
            "outputs": [],
            "source": "walk <- function(starting_state, times) {\n    if (times == 0) {\n        return(starting_state)\n    }\n\n    next_state <- make_step(starting_state)\n\n    return(walk(next_state, times - 1))\n}"
        },
        {
            "cell_type": "code",
            "execution_count": 5,
            "metadata": {
                "trusted": true
            },
            "outputs": [],
            "source": "N <- 10000\ntest_walk <- function(first_state, k) {\n    results <- c()\n\n    for (i in 1:N) {\n        results <- append(results, walk(first_state, k))\n    }\n\n    return(results)\n}"
        },
        {
            "cell_type": "code",
            "execution_count": 6,
            "metadata": {
                "trusted": true
            },
            "outputs": [],
            "source": "first_state <- 1 # \u0412\u044b\u0431\u0440\u0430\u043b\u0438 \u043f\u0440\u043e\u0438\u0437\u0432\u043e\u043b\u044c\u043d\u043e\u0435."
        },
        {
            "cell_type": "code",
            "execution_count": 7,
            "metadata": {
                "trusted": true
            },
            "outputs": [],
            "source": "Scenario1 <- test_walk(first_state, k - 2)"
        },
        {
            "cell_type": "code",
            "execution_count": 8,
            "metadata": {
                "trusted": true
            },
            "outputs": [],
            "source": "Scenario2 <- test_walk(first_state, k - 1)"
        },
        {
            "cell_type": "code",
            "execution_count": 9,
            "metadata": {
                "trusted": true
            },
            "outputs": [],
            "source": "Scenario3 <- test_walk(first_state, k)"
        },
        {
            "cell_type": "markdown",
            "metadata": {},
            "source": "\u0412 \u043f\u043e\u043b\u0443\u0447\u0435\u043d\u043d\u044b\u0445 \u0441\u0446\u0435\u043d\u0430\u0440\u0438\u044f\u0445 \u043f\u043e\u0441\u0447\u0438\u0442\u0430\u0435\u043c \u0432\u0435\u0440\u043e\u044f\u0442\u043d\u043e\u0441\u0442\u0438 \u043f\u043e\u043b\u0443\u0447\u0435\u043d\u0438\u044f \u043a\u0430\u0436\u0434\u043e\u0433\u043e \u0441\u043e\u0441\u0442\u043e\u044f\u043d\u0438\u044f."
        },
        {
            "cell_type": "code",
            "execution_count": 10,
            "metadata": {
                "trusted": true
            },
            "outputs": [],
            "source": "get_probability <- function(States, state) {\n    number_of_states <- length(States[States == state])\n    number_of_all_states <- length(States)\n\n    return(number_of_states / number_of_all_states)\n}"
        },
        {
            "cell_type": "code",
            "execution_count": 11,
            "metadata": {
                "trusted": true
            },
            "outputs": [],
            "source": "get_probabilities_to_stay <- function(States) {\n    return(\n        unlist(\n            lapply(seq_along(P), function(state) get_probability(States, state))\n        )\n    )\n}"
        },
        {
            "cell_type": "code",
            "execution_count": 12,
            "metadata": {
                "trusted": true
            },
            "outputs": [],
            "source": "Scenario1Propabilities <- get_probabilities_to_stay(Scenario1)"
        },
        {
            "cell_type": "code",
            "execution_count": 13,
            "metadata": {
                "trusted": true
            },
            "outputs": [],
            "source": "Scenario2Propabilities <- get_probabilities_to_stay(Scenario2)"
        },
        {
            "cell_type": "code",
            "execution_count": 14,
            "metadata": {
                "trusted": true
            },
            "outputs": [],
            "source": "Scenario3Propabilities <- get_probabilities_to_stay(Scenario3)"
        },
        {
            "cell_type": "code",
            "execution_count": 15,
            "metadata": {
                "trusted": true
            },
            "outputs": [
                {
                    "data": {
                        "text/html": "<table class=\"dataframe\">\n<caption>A data.frame: 4 \u00d7 3</caption>\n<thead>\n\t<tr><th></th><th scope=col>k - 2</th><th scope=col>k - 1</th><th scope=col>k</th></tr>\n\t<tr><th></th><th scope=col>&lt;dbl&gt;</th><th scope=col>&lt;dbl&gt;</th><th scope=col>&lt;dbl&gt;</th></tr>\n</thead>\n<tbody>\n\t<tr><th scope=row>p1</th><td>0.0414</td><td>0.0144</td><td>0.006</td></tr>\n\t<tr><th scope=row>p2</th><td>0.1653</td><td>0.0805</td><td>0.032</td></tr>\n\t<tr><th scope=row>p3</th><td>0.3666</td><td>0.3701</td><td>0.358</td></tr>\n\t<tr><th scope=row>p4</th><td>0.4267</td><td>0.5350</td><td>0.604</td></tr>\n</tbody>\n</table>\n",
                        "text/latex": "A data.frame: 4 \u00d7 3\n\\begin{tabular}{r|lll}\n  & k - 2 & k - 1 & k\\\\\n  & <dbl> & <dbl> & <dbl>\\\\\n\\hline\n\tp1 & 0.0414 & 0.0144 & 0.006\\\\\n\tp2 & 0.1653 & 0.0805 & 0.032\\\\\n\tp3 & 0.3666 & 0.3701 & 0.358\\\\\n\tp4 & 0.4267 & 0.5350 & 0.604\\\\\n\\end{tabular}\n",
                        "text/markdown": "\nA data.frame: 4 \u00d7 3\n\n| <!--/--> | k - 2 &lt;dbl&gt; | k - 1 &lt;dbl&gt; | k &lt;dbl&gt; |\n|---|---|---|---|\n| p1 | 0.0414 | 0.0144 | 0.006 |\n| p2 | 0.1653 | 0.0805 | 0.032 |\n| p3 | 0.3666 | 0.3701 | 0.358 |\n| p4 | 0.4267 | 0.5350 | 0.604 |\n\n",
                        "text/plain": "   k - 2  k - 1  k    \np1 0.0414 0.0144 0.006\np2 0.1653 0.0805 0.032\np3 0.3666 0.3701 0.358\np4 0.4267 0.5350 0.604"
                    },
                    "metadata": {},
                    "output_type": "display_data"
                }
            ],
            "source": "results <- data.frame(\n    Scenario1Propabilities,\n    Scenario2Propabilities,\n    Scenario3Propabilities\n)\ncolnames(results) <- c(\"k - 2\", \"k - 1\", \"k\")\nrownames(results) <- rownames(P)\n\nresults"
        },
        {
            "cell_type": "markdown",
            "metadata": {},
            "source": "### \u0422\u0435\u043e\u0440\u0435\u0442\u0438\u0447\u0435\u0441\u043a\u0438"
        },
        {
            "cell_type": "code",
            "execution_count": 16,
            "metadata": {
                "trusted": true
            },
            "outputs": [
                {
                    "data": {
                        "text/html": "<table class=\"dataframe\">\n<caption>A matrix: 4 \u00d7 4 of type dbl</caption>\n<thead>\n\t<tr><th></th><th scope=col></th><th scope=col></th><th scope=col></th><th scope=col></th></tr>\n</thead>\n<tbody>\n\t<tr><th scope=row>p1</th><td>0.3441331</td><td>0.4604769</td><td>0.1428322</td><td>0.05255779</td></tr>\n\t<tr><th scope=row>p2</th><td>0.0000000</td><td>0.3441697</td><td>0.2591911</td><td>0.39663917</td></tr>\n\t<tr><th scope=row>p3</th><td>0.0000000</td><td>0.0000000</td><td>0.8964781</td><td>0.10352190</td></tr>\n\t<tr><th scope=row>p4</th><td>0.0000000</td><td>0.0000000</td><td>0.0000000</td><td>1.00000000</td></tr>\n</tbody>\n</table>\n",
                        "text/latex": "A matrix: 4 \u00d7 4 of type dbl\n\\begin{tabular}{r|llll}\n  &  &  &  & \\\\\n\\hline\n\tp1 & 0.3441331 & 0.4604769 & 0.1428322 & 0.05255779\\\\\n\tp2 & 0.0000000 & 0.3441697 & 0.2591911 & 0.39663917\\\\\n\tp3 & 0.0000000 & 0.0000000 & 0.8964781 & 0.10352190\\\\\n\tp4 & 0.0000000 & 0.0000000 & 0.0000000 & 1.00000000\\\\\n\\end{tabular}\n",
                        "text/markdown": "\nA matrix: 4 \u00d7 4 of type dbl\n\n| <!--/--> | <!----> | <!----> | <!----> | <!----> |\n|---|---|---|---|---|\n| p1 | 0.3441331 | 0.4604769 | 0.1428322 | 0.05255779 |\n| p2 | 0.0000000 | 0.3441697 | 0.2591911 | 0.39663917 |\n| p3 | 0.0000000 | 0.0000000 | 0.8964781 | 0.10352190 |\n| p4 | 0.0000000 | 0.0000000 | 0.0000000 | 1.00000000 |\n\n",
                        "text/plain": "                                           \np1 0.3441331 0.4604769 0.1428322 0.05255779\np2 0.0000000 0.3441697 0.2591911 0.39663917\np3 0.0000000 0.0000000 0.8964781 0.10352190\np4 0.0000000 0.0000000 0.0000000 1.00000000"
                    },
                    "metadata": {},
                    "output_type": "display_data"
                }
            ],
            "source": "initial_state_probabilities <- c(1, 0, 0, 0)\ntransition_matrix <- data.matrix(P)\ntransition_matrix"
        },
        {
            "cell_type": "code",
            "execution_count": 17,
            "metadata": {
                "trusted": true
            },
            "outputs": [
                {
                    "name": "stderr",
                    "output_type": "stream",
                    "text": "Loading required package: matrixcalc\n\n"
                },
                {
                    "data": {
                        "text/html": "<table class=\"dataframe\">\n<caption>A matrix: 1 \u00d7 4 of type dbl</caption>\n<thead>\n\t<tr><th scope=col></th><th scope=col></th><th scope=col></th><th scope=col></th></tr>\n</thead>\n<tbody>\n\t<tr><td>0.04075486</td><td>0.1636169</td><td>0.3649165</td><td>0.4307117</td></tr>\n</tbody>\n</table>\n",
                        "text/latex": "A matrix: 1 \u00d7 4 of type dbl\n\\begin{tabular}{llll}\n  &  &  & \\\\\n\\hline\n\t 0.04075486 & 0.1636169 & 0.3649165 & 0.4307117\\\\\n\\end{tabular}\n",
                        "text/markdown": "\nA matrix: 1 \u00d7 4 of type dbl\n\n| <!----> | <!----> | <!----> | <!----> |\n|---|---|---|---|\n| 0.04075486 | 0.1636169 | 0.3649165 | 0.4307117 |\n\n",
                        "text/plain": "                                             \n[1,] 0.04075486 0.1636169 0.3649165 0.4307117"
                    },
                    "metadata": {},
                    "output_type": "display_data"
                }
            ],
            "source": "if (!require(\"matrixcalc\")) {\n    install.packages(\"matrixcalc\")\n}\n\ninitial_state_probabilities %*% matrix.power(transition_matrix, k - 2)"
        },
        {
            "cell_type": "code",
            "execution_count": 18,
            "metadata": {
                "trusted": true
            },
            "outputs": [
                {
                    "data": {
                        "text/html": "<table class=\"dataframe\">\n<caption>A matrix: 1 \u00d7 4 of type dbl</caption>\n<thead>\n\t<tr><th scope=col></th><th scope=col></th><th scope=col></th><th scope=col></th></tr>\n</thead>\n<tbody>\n\t<tr><td>0.0140251</td><td>0.07507867</td><td>0.3753688</td><td>0.5355274</td></tr>\n</tbody>\n</table>\n",
                        "text/latex": "A matrix: 1 \u00d7 4 of type dbl\n\\begin{tabular}{llll}\n  &  &  & \\\\\n\\hline\n\t 0.0140251 & 0.07507867 & 0.3753688 & 0.5355274\\\\\n\\end{tabular}\n",
                        "text/markdown": "\nA matrix: 1 \u00d7 4 of type dbl\n\n| <!----> | <!----> | <!----> | <!----> |\n|---|---|---|---|\n| 0.0140251 | 0.07507867 | 0.3753688 | 0.5355274 |\n\n",
                        "text/plain": "                                             \n[1,] 0.0140251 0.07507867 0.3753688 0.5355274"
                    },
                    "metadata": {},
                    "output_type": "display_data"
                }
            ],
            "source": "initial_state_probabilities %*% matrix.power(transition_matrix, k - 1)"
        },
        {
            "cell_type": "code",
            "execution_count": 19,
            "metadata": {
                "trusted": true
            },
            "outputs": [
                {
                    "data": {
                        "text/html": "<table class=\"dataframe\">\n<caption>A matrix: 1 \u00d7 4 of type dbl</caption>\n<thead>\n\t<tr><th scope=col></th><th scope=col></th><th scope=col></th><th scope=col></th></tr>\n</thead>\n<tbody>\n\t<tr><td>0.004826501</td><td>0.03229804</td><td>0.3579729</td><td>0.6049026</td></tr>\n</tbody>\n</table>\n",
                        "text/latex": "A matrix: 1 \u00d7 4 of type dbl\n\\begin{tabular}{llll}\n  &  &  & \\\\\n\\hline\n\t 0.004826501 & 0.03229804 & 0.3579729 & 0.6049026\\\\\n\\end{tabular}\n",
                        "text/markdown": "\nA matrix: 1 \u00d7 4 of type dbl\n\n| <!----> | <!----> | <!----> | <!----> |\n|---|---|---|---|\n| 0.004826501 | 0.03229804 | 0.3579729 | 0.6049026 |\n\n",
                        "text/plain": "                                               \n[1,] 0.004826501 0.03229804 0.3579729 0.6049026"
                    },
                    "metadata": {},
                    "output_type": "display_data"
                }
            ],
            "source": "initial_state_probabilities %*% matrix.power(transition_matrix, k)"
        },
        {
            "cell_type": "markdown",
            "metadata": {},
            "source": "\u041a\u0430\u043a \u0432\u0438\u0434\u043d\u043e, \u0442\u0435\u043e\u0440\u0435\u0442\u0438\u0447\u0435\u0441\u043a\u0438 \u0432\u044b\u0447\u0438\u0441\u043b\u0435\u043d\u043d\u0430\u044f \u043c\u0430\u0442\u0440\u0438\u0446\u0430 \u0441 \u043d\u0435\u043a\u043e\u0442\u043e\u0440\u043e\u0439 \u0442\u043e\u0447\u043d\u043e\u0441\u0442\u044c\u044e \u0441\u043e\u0432\u043f\u0430\u0434\u0430\u0435\u0442\n\u0441\u043e \u0437\u043d\u0430\u0447\u0435\u043d\u0438\u044f\u043c\u0438, \u043f\u043e\u043b\u0443\u0447\u0435\u043d\u043d\u044b\u043c\u0438 \u0442\u0435\u043e\u0440\u0435\u0442\u0438\u0447\u0435\u0441\u043a\u0438. \u041f\u0440\u0438 \u0443\u0432\u0435\u043b\u0438\u0447\u0435\u043d\u0438\u0438 \u043a\u043e\u043b\u0438\u0447\u0435\u0441\u0442\u0432\u0430\n\u044d\u043a\u0441\u043f\u0435\u0440\u0438\u043c\u0435\u043d\u0442\u043e\u0432 $N$ \u0442\u043e\u0447\u043d\u043e\u0441\u0442\u044c \u0442\u043e\u043b\u044c\u043a\u043e \u0443\u0432\u0435\u043b\u0438\u0447\u0438\u0432\u0430\u0435\u0442\u0441\u044f."
        },
        {
            "cell_type": "markdown",
            "metadata": {},
            "source": "# \u0417\u0430\u0434\u0430\u043d\u0438\u0435 2"
        },
        {
            "cell_type": "code",
            "execution_count": 20,
            "metadata": {
                "trusted": true
            },
            "outputs": [
                {
                    "data": {
                        "text/html": "<table class=\"dataframe\">\n<caption>A data.frame: 1 \u00d7 3</caption>\n<thead>\n\t<tr><th scope=col>k</th><th scope=col>t1</th><th scope=col>t2</th></tr>\n\t<tr><th scope=col>&lt;int&gt;</th><th scope=col>&lt;dbl&gt;</th><th scope=col>&lt;int&gt;</th></tr>\n</thead>\n<tbody>\n\t<tr><td>11</td><td>100</td><td>4</td></tr>\n</tbody>\n</table>\n",
                        "text/latex": "A data.frame: 1 \u00d7 3\n\\begin{tabular}{lll}\n k & t1 & t2\\\\\n <int> & <dbl> & <int>\\\\\n\\hline\n\t 11 & 100 & 4\\\\\n\\end{tabular}\n",
                        "text/markdown": "\nA data.frame: 1 \u00d7 3\n\n| k &lt;int&gt; | t1 &lt;dbl&gt; | t2 &lt;int&gt; |\n|---|---|---|\n| 11 | 100 | 4 |\n\n",
                        "text/plain": "  k  t1  t2\n1 11 100 4 "
                    },
                    "metadata": {},
                    "output_type": "display_data"
                }
            ],
            "source": "variant <- 5\nset.seed(variant)\nk <- sample(c(10:25), 1)\n# \u0418\u043d\u0442\u0435\u0441\u0438\u0432\u043d\u043e\u0441\u0442\u044c \u043f\u043e\u043b\u0443\u0447\u0430\u043b\u0430\u0441\u044c \u0431\u043e\u043b\u044c\u0448\u0435 1, \u043f\u043e\u044d\u0442\u043e\u043c\u0443 \u0437\u0430\u043c\u0435\u043d\u0438\u043b \u0437\u043d\u0430\u0447\u0435\u043d\u0438\u0435.\n# t1 <- sample(c(14:20), 1)\nt1 <- 100\nt2 <- sample(c(2:5), 1)\nView(data.frame(k, t1, t2))"
        },
        {
            "cell_type": "markdown",
            "metadata": {},
            "source": "### \u0427\u0438\u0441\u043b\u0435\u043d\u043d\u043e"
        },
        {
            "cell_type": "markdown",
            "metadata": {},
            "source": "#### 1. \u0412\u0435\u0440\u043e\u044f\u0442\u043d\u043e\u0441\u0442\u044c \u0442\u043e\u0433\u043e, \u0447\u0442\u043e \u043f\u0440\u043e\u0433\u0440\u0430\u043c\u043c\u0430 \u043d\u0435 \u0431\u0443\u0434\u0435\u0442 \u0432\u044b\u043f\u043e\u043b\u043d\u0435\u043d\u0430 \u0441\u0440\u0430\u0437\u0443 \u0436\u0435, \u043a\u0430\u043a \u0442\u043e\u043b\u044c\u043a\u043e \u043e\u043d\u0430 \u043f\u043e\u0441\u0442\u0443\u043f\u0438\u043b\u0430 \u043d\u0430 \u0442\u0435\u0440\u043c\u0438\u043d\u0430\u043b\n\u043e\u043d\u0430  \u0436\u0435 \u043e\u0431\u0440\u0430\u0442\u043d\u0430\u044f \u0432\u0435\u0440\u043e\u044f\u0442\u043d\u043e\u0441\u0442\u044c \u0442\u043e\u0433\u043e, \u0447\u0442\u043e\n\u043f\u0440\u043e\u0433\u0440\u0430\u043c\u043c\u0430 **\u0431\u0443\u0434\u0435\u0442 \u0432\u044b\u043f\u043e\u043b\u043d\u0435\u043d\u0430** \u0441\u0440\u0430\u0437\u0443 \u0436\u0435, \u0442\u043e \u0435\u0441\u0442\u044c:"
        },
        {
            "cell_type": "code",
            "execution_count": 21,
            "metadata": {
                "trusted": true
            },
            "outputs": [
                {
                    "name": "stderr",
                    "output_type": "stream",
                    "text": "Loading required package: simmer\n\n"
                },
                {
                    "data": {
                        "text/plain": "simmer environment: SuperDuperSim | now: 0 | next: \n{ Monitor: in memory }"
                    },
                    "metadata": {},
                    "output_type": "display_data"
                }
            ],
            "source": "if (!require(\"simmer\")) {\n    install.packages(\"simmer\")\n}\nlibrary(simmer)\n\nenv <- simmer(\"SuperDuperSim\")\nenv"
        },
        {
            "cell_type": "code",
            "execution_count": 22,
            "metadata": {
                "trusted": true
            },
            "outputs": [],
            "source": "programmers <- trajectory(\"programmers' path\") %>%\n    ## add an intake activity\n    seize(\"server\", 1) %>%\n    timeout(function() rexp(1, 1 / t2)) %>%\n    release(\"server\", 1)"
        },
        {
            "cell_type": "code",
            "execution_count": 23,
            "metadata": {
                "trusted": true
            },
            "outputs": [
                {
                    "data": {
                        "text/plain": "simmer environment: SuperDuperSim | now: 0 | next: 0\n{ Monitor: in memory }\n{ Resource: server | monitored: TRUE | server status: 0(1) | queue status: 0(Inf) }\n{ Source: programmers | monitored: 1 | n_generated: 0 }"
                    },
                    "metadata": {},
                    "output_type": "display_data"
                }
            ],
            "source": "env %>%\n    add_resource(\"server\", 1) %>%\n    add_generator(\"programmers\", programmers, function() rexp(1, k / t1))"
        },
        {
            "cell_type": "code",
            "execution_count": 24,
            "metadata": {
                "trusted": true
            },
            "outputs": [
                {
                    "data": {
                        "text/plain": "simmer environment: SuperDuperSim | now: 1e+06 | next: 1000003.64991959\n{ Monitor: in memory }\n{ Resource: server | monitored: TRUE | server status: 0(1) | queue status: 0(Inf) }\n{ Source: programmers | monitored: 1 | n_generated: 109863 }"
                    },
                    "metadata": {},
                    "output_type": "display_data"
                }
            ],
            "source": "env %>%\n    reset() %>%\n    run(1000000)"
        },
        {
            "cell_type": "code",
            "execution_count": 25,
            "metadata": {
                "trusted": true
            },
            "outputs": [
                {
                    "data": {
                        "text/html": "<table class=\"dataframe\">\n<caption>A data.frame: 109862 \u00d7 6</caption>\n<thead>\n\t<tr><th scope=col>name</th><th scope=col>start_time</th><th scope=col>end_time</th><th scope=col>activity_time</th><th scope=col>finished</th><th scope=col>replication</th></tr>\n\t<tr><th scope=col>&lt;chr&gt;</th><th scope=col>&lt;dbl&gt;</th><th scope=col>&lt;dbl&gt;</th><th scope=col>&lt;dbl&gt;</th><th scope=col>&lt;lgl&gt;</th><th scope=col>&lt;int&gt;</th></tr>\n</thead>\n<tbody>\n\t<tr><td>programmers0 </td><td>  0.6594358</td><td>  0.8831157</td><td> 0.2236799</td><td>TRUE</td><td>1</td></tr>\n\t<tr><td>programmers1 </td><td>  4.3150260</td><td>  4.6212668</td><td> 0.3062408</td><td>TRUE</td><td>1</td></tr>\n\t<tr><td>programmers2 </td><td>  9.9138478</td><td> 17.9190320</td><td> 8.0051842</td><td>TRUE</td><td>1</td></tr>\n\t<tr><td>programmers3 </td><td> 17.8698740</td><td> 19.4576040</td><td> 1.5385720</td><td>TRUE</td><td>1</td></tr>\n\t<tr><td>programmers4 </td><td> 29.1721482</td><td> 35.1054429</td><td> 5.9332947</td><td>TRUE</td><td>1</td></tr>\n\t<tr><td>programmers5 </td><td> 30.5038747</td><td> 35.2700306</td><td> 0.1645877</td><td>TRUE</td><td>1</td></tr>\n\t<tr><td>programmers6 </td><td> 37.6994602</td><td> 51.6025574</td><td>13.9030972</td><td>TRUE</td><td>1</td></tr>\n\t<tr><td>programmers7 </td><td> 44.9153141</td><td> 56.7244325</td><td> 5.1218751</td><td>TRUE</td><td>1</td></tr>\n\t<tr><td>programmers8 </td><td> 56.5868526</td><td> 63.7487193</td><td> 7.0242868</td><td>TRUE</td><td>1</td></tr>\n\t<tr><td>programmers9 </td><td> 62.3336902</td><td> 72.4511103</td><td> 8.7023910</td><td>TRUE</td><td>1</td></tr>\n\t<tr><td>programmers10</td><td> 65.7981326</td><td> 77.3769300</td><td> 4.9258197</td><td>TRUE</td><td>1</td></tr>\n\t<tr><td>programmers11</td><td> 71.1364843</td><td> 82.2481213</td><td> 4.8711913</td><td>TRUE</td><td>1</td></tr>\n\t<tr><td>programmers12</td><td> 73.5510920</td><td> 85.1404492</td><td> 2.8923279</td><td>TRUE</td><td>1</td></tr>\n\t<tr><td>programmers13</td><td> 74.7560498</td><td> 92.9859908</td><td> 7.8455416</td><td>TRUE</td><td>1</td></tr>\n\t<tr><td>programmers14</td><td> 80.6354114</td><td> 93.9777229</td><td> 0.9917320</td><td>TRUE</td><td>1</td></tr>\n\t<tr><td>programmers15</td><td> 87.1390792</td><td>101.0827494</td><td> 7.1050265</td><td>TRUE</td><td>1</td></tr>\n\t<tr><td>programmers16</td><td>100.5709119</td><td>101.5189982</td><td> 0.4362489</td><td>TRUE</td><td>1</td></tr>\n\t<tr><td>programmers17</td><td>106.7880374</td><td>108.5267597</td><td> 1.7387224</td><td>TRUE</td><td>1</td></tr>\n\t<tr><td>programmers18</td><td>111.9988044</td><td>114.6824956</td><td> 2.6836913</td><td>TRUE</td><td>1</td></tr>\n\t<tr><td>programmers19</td><td>126.8821800</td><td>126.9903635</td><td> 0.1081835</td><td>TRUE</td><td>1</td></tr>\n\t<tr><td>programmers20</td><td>162.5195562</td><td>165.1095201</td><td> 2.5899639</td><td>TRUE</td><td>1</td></tr>\n\t<tr><td>programmers21</td><td>170.7986854</td><td>180.9807358</td><td>10.1820504</td><td>TRUE</td><td>1</td></tr>\n\t<tr><td>programmers22</td><td>189.6671145</td><td>191.9323588</td><td> 2.2652443</td><td>TRUE</td><td>1</td></tr>\n\t<tr><td>programmers23</td><td>196.2839065</td><td>197.1757980</td><td> 0.8918916</td><td>TRUE</td><td>1</td></tr>\n\t<tr><td>programmers24</td><td>205.2758064</td><td>209.4243436</td><td> 4.1485373</td><td>TRUE</td><td>1</td></tr>\n\t<tr><td>programmers25</td><td>209.1488623</td><td>214.5473706</td><td> 5.1230270</td><td>TRUE</td><td>1</td></tr>\n\t<tr><td>programmers26</td><td>226.2996956</td><td>228.8273465</td><td> 2.5276509</td><td>TRUE</td><td>1</td></tr>\n\t<tr><td>programmers27</td><td>235.2435912</td><td>240.0144764</td><td> 4.7708852</td><td>TRUE</td><td>1</td></tr>\n\t<tr><td>programmers28</td><td>250.8230871</td><td>251.9281459</td><td> 1.1050587</td><td>TRUE</td><td>1</td></tr>\n\t<tr><td>programmers29</td><td>252.1768019</td><td>252.3330145</td><td> 0.1562126</td><td>TRUE</td><td>1</td></tr>\n\t<tr><td>\u22ee</td><td>\u22ee</td><td>\u22ee</td><td>\u22ee</td><td>\u22ee</td><td>\u22ee</td></tr>\n\t<tr><td>programmers109832</td><td>999670.5</td><td>999673.4</td><td> 2.91229250</td><td>TRUE</td><td>1</td></tr>\n\t<tr><td>programmers109833</td><td>999676.2</td><td>999683.2</td><td> 7.01487456</td><td>TRUE</td><td>1</td></tr>\n\t<tr><td>programmers109834</td><td>999696.7</td><td>999696.9</td><td> 0.22333244</td><td>TRUE</td><td>1</td></tr>\n\t<tr><td>programmers109835</td><td>999702.3</td><td>999706.1</td><td> 3.81184346</td><td>TRUE</td><td>1</td></tr>\n\t<tr><td>programmers109836</td><td>999730.7</td><td>999736.5</td><td> 5.81429703</td><td>TRUE</td><td>1</td></tr>\n\t<tr><td>programmers109837</td><td>999755.6</td><td>999759.0</td><td> 3.32625050</td><td>TRUE</td><td>1</td></tr>\n\t<tr><td>programmers109838</td><td>999760.2</td><td>999760.4</td><td> 0.15675987</td><td>TRUE</td><td>1</td></tr>\n\t<tr><td>programmers109839</td><td>999777.5</td><td>999781.6</td><td> 4.12754888</td><td>TRUE</td><td>1</td></tr>\n\t<tr><td>programmers109840</td><td>999782.5</td><td>999782.7</td><td> 0.23502627</td><td>TRUE</td><td>1</td></tr>\n\t<tr><td>programmers109841</td><td>999782.7</td><td>999787.2</td><td> 4.43165035</td><td>TRUE</td><td>1</td></tr>\n\t<tr><td>programmers109842</td><td>999794.3</td><td>999797.7</td><td> 3.31074800</td><td>TRUE</td><td>1</td></tr>\n\t<tr><td>programmers109843</td><td>999804.2</td><td>999804.4</td><td> 0.17101299</td><td>TRUE</td><td>1</td></tr>\n\t<tr><td>programmers109844</td><td>999806.1</td><td>999820.6</td><td>14.52681017</td><td>TRUE</td><td>1</td></tr>\n\t<tr><td>programmers109845</td><td>999810.7</td><td>999838.7</td><td>18.12958856</td><td>TRUE</td><td>1</td></tr>\n\t<tr><td>programmers109846</td><td>999835.8</td><td>999844.9</td><td> 6.21326446</td><td>TRUE</td><td>1</td></tr>\n\t<tr><td>programmers109847</td><td>999841.2</td><td>999848.2</td><td> 3.29803753</td><td>TRUE</td><td>1</td></tr>\n\t<tr><td>programmers109848</td><td>999875.5</td><td>999876.1</td><td> 0.63113514</td><td>TRUE</td><td>1</td></tr>\n\t<tr><td>programmers109849</td><td>999876.0</td><td>999885.8</td><td> 9.62467996</td><td>TRUE</td><td>1</td></tr>\n\t<tr><td>programmers109850</td><td>999881.0</td><td>999895.3</td><td> 9.59485558</td><td>TRUE</td><td>1</td></tr>\n\t<tr><td>programmers109851</td><td>999887.2</td><td>999906.0</td><td>10.60831586</td><td>TRUE</td><td>1</td></tr>\n\t<tr><td>programmers109852</td><td>999890.7</td><td>999912.2</td><td> 6.26526176</td><td>TRUE</td><td>1</td></tr>\n\t<tr><td>programmers109853</td><td>999906.2</td><td>999912.3</td><td> 0.04591410</td><td>TRUE</td><td>1</td></tr>\n\t<tr><td>programmers109854</td><td>999917.8</td><td>999920.7</td><td> 2.92671201</td><td>TRUE</td><td>1</td></tr>\n\t<tr><td>programmers109855</td><td>999922.6</td><td>999923.3</td><td> 0.69297291</td><td>TRUE</td><td>1</td></tr>\n\t<tr><td>programmers109856</td><td>999932.0</td><td>999937.7</td><td> 5.67036328</td><td>TRUE</td><td>1</td></tr>\n\t<tr><td>programmers109857</td><td>999951.6</td><td>999953.4</td><td> 1.78687870</td><td>TRUE</td><td>1</td></tr>\n\t<tr><td>programmers109858</td><td>999968.5</td><td>999969.7</td><td> 1.21645728</td><td>TRUE</td><td>1</td></tr>\n\t<tr><td>programmers109859</td><td>999980.6</td><td>999984.0</td><td> 3.36070111</td><td>TRUE</td><td>1</td></tr>\n\t<tr><td>programmers109860</td><td>999981.9</td><td>999984.1</td><td> 0.07285372</td><td>TRUE</td><td>1</td></tr>\n\t<tr><td>programmers109861</td><td>999986.2</td><td>999987.7</td><td> 1.51563342</td><td>TRUE</td><td>1</td></tr>\n</tbody>\n</table>\n",
                        "text/latex": "A data.frame: 109862 \u00d7 6\n\\begin{tabular}{llllll}\n name & start\\_time & end\\_time & activity\\_time & finished & replication\\\\\n <chr> & <dbl> & <dbl> & <dbl> & <lgl> & <int>\\\\\n\\hline\n\t programmers0  &   0.6594358 &   0.8831157 &  0.2236799 & TRUE & 1\\\\\n\t programmers1  &   4.3150260 &   4.6212668 &  0.3062408 & TRUE & 1\\\\\n\t programmers2  &   9.9138478 &  17.9190320 &  8.0051842 & TRUE & 1\\\\\n\t programmers3  &  17.8698740 &  19.4576040 &  1.5385720 & TRUE & 1\\\\\n\t programmers4  &  29.1721482 &  35.1054429 &  5.9332947 & TRUE & 1\\\\\n\t programmers5  &  30.5038747 &  35.2700306 &  0.1645877 & TRUE & 1\\\\\n\t programmers6  &  37.6994602 &  51.6025574 & 13.9030972 & TRUE & 1\\\\\n\t programmers7  &  44.9153141 &  56.7244325 &  5.1218751 & TRUE & 1\\\\\n\t programmers8  &  56.5868526 &  63.7487193 &  7.0242868 & TRUE & 1\\\\\n\t programmers9  &  62.3336902 &  72.4511103 &  8.7023910 & TRUE & 1\\\\\n\t programmers10 &  65.7981326 &  77.3769300 &  4.9258197 & TRUE & 1\\\\\n\t programmers11 &  71.1364843 &  82.2481213 &  4.8711913 & TRUE & 1\\\\\n\t programmers12 &  73.5510920 &  85.1404492 &  2.8923279 & TRUE & 1\\\\\n\t programmers13 &  74.7560498 &  92.9859908 &  7.8455416 & TRUE & 1\\\\\n\t programmers14 &  80.6354114 &  93.9777229 &  0.9917320 & TRUE & 1\\\\\n\t programmers15 &  87.1390792 & 101.0827494 &  7.1050265 & TRUE & 1\\\\\n\t programmers16 & 100.5709119 & 101.5189982 &  0.4362489 & TRUE & 1\\\\\n\t programmers17 & 106.7880374 & 108.5267597 &  1.7387224 & TRUE & 1\\\\\n\t programmers18 & 111.9988044 & 114.6824956 &  2.6836913 & TRUE & 1\\\\\n\t programmers19 & 126.8821800 & 126.9903635 &  0.1081835 & TRUE & 1\\\\\n\t programmers20 & 162.5195562 & 165.1095201 &  2.5899639 & TRUE & 1\\\\\n\t programmers21 & 170.7986854 & 180.9807358 & 10.1820504 & TRUE & 1\\\\\n\t programmers22 & 189.6671145 & 191.9323588 &  2.2652443 & TRUE & 1\\\\\n\t programmers23 & 196.2839065 & 197.1757980 &  0.8918916 & TRUE & 1\\\\\n\t programmers24 & 205.2758064 & 209.4243436 &  4.1485373 & TRUE & 1\\\\\n\t programmers25 & 209.1488623 & 214.5473706 &  5.1230270 & TRUE & 1\\\\\n\t programmers26 & 226.2996956 & 228.8273465 &  2.5276509 & TRUE & 1\\\\\n\t programmers27 & 235.2435912 & 240.0144764 &  4.7708852 & TRUE & 1\\\\\n\t programmers28 & 250.8230871 & 251.9281459 &  1.1050587 & TRUE & 1\\\\\n\t programmers29 & 252.1768019 & 252.3330145 &  0.1562126 & TRUE & 1\\\\\n\t \u22ee & \u22ee & \u22ee & \u22ee & \u22ee & \u22ee\\\\\n\t programmers109832 & 999670.5 & 999673.4 &  2.91229250 & TRUE & 1\\\\\n\t programmers109833 & 999676.2 & 999683.2 &  7.01487456 & TRUE & 1\\\\\n\t programmers109834 & 999696.7 & 999696.9 &  0.22333244 & TRUE & 1\\\\\n\t programmers109835 & 999702.3 & 999706.1 &  3.81184346 & TRUE & 1\\\\\n\t programmers109836 & 999730.7 & 999736.5 &  5.81429703 & TRUE & 1\\\\\n\t programmers109837 & 999755.6 & 999759.0 &  3.32625050 & TRUE & 1\\\\\n\t programmers109838 & 999760.2 & 999760.4 &  0.15675987 & TRUE & 1\\\\\n\t programmers109839 & 999777.5 & 999781.6 &  4.12754888 & TRUE & 1\\\\\n\t programmers109840 & 999782.5 & 999782.7 &  0.23502627 & TRUE & 1\\\\\n\t programmers109841 & 999782.7 & 999787.2 &  4.43165035 & TRUE & 1\\\\\n\t programmers109842 & 999794.3 & 999797.7 &  3.31074800 & TRUE & 1\\\\\n\t programmers109843 & 999804.2 & 999804.4 &  0.17101299 & TRUE & 1\\\\\n\t programmers109844 & 999806.1 & 999820.6 & 14.52681017 & TRUE & 1\\\\\n\t programmers109845 & 999810.7 & 999838.7 & 18.12958856 & TRUE & 1\\\\\n\t programmers109846 & 999835.8 & 999844.9 &  6.21326446 & TRUE & 1\\\\\n\t programmers109847 & 999841.2 & 999848.2 &  3.29803753 & TRUE & 1\\\\\n\t programmers109848 & 999875.5 & 999876.1 &  0.63113514 & TRUE & 1\\\\\n\t programmers109849 & 999876.0 & 999885.8 &  9.62467996 & TRUE & 1\\\\\n\t programmers109850 & 999881.0 & 999895.3 &  9.59485558 & TRUE & 1\\\\\n\t programmers109851 & 999887.2 & 999906.0 & 10.60831586 & TRUE & 1\\\\\n\t programmers109852 & 999890.7 & 999912.2 &  6.26526176 & TRUE & 1\\\\\n\t programmers109853 & 999906.2 & 999912.3 &  0.04591410 & TRUE & 1\\\\\n\t programmers109854 & 999917.8 & 999920.7 &  2.92671201 & TRUE & 1\\\\\n\t programmers109855 & 999922.6 & 999923.3 &  0.69297291 & TRUE & 1\\\\\n\t programmers109856 & 999932.0 & 999937.7 &  5.67036328 & TRUE & 1\\\\\n\t programmers109857 & 999951.6 & 999953.4 &  1.78687870 & TRUE & 1\\\\\n\t programmers109858 & 999968.5 & 999969.7 &  1.21645728 & TRUE & 1\\\\\n\t programmers109859 & 999980.6 & 999984.0 &  3.36070111 & TRUE & 1\\\\\n\t programmers109860 & 999981.9 & 999984.1 &  0.07285372 & TRUE & 1\\\\\n\t programmers109861 & 999986.2 & 999987.7 &  1.51563342 & TRUE & 1\\\\\n\\end{tabular}\n",
                        "text/markdown": "\nA data.frame: 109862 \u00d7 6\n\n| name &lt;chr&gt; | start_time &lt;dbl&gt; | end_time &lt;dbl&gt; | activity_time &lt;dbl&gt; | finished &lt;lgl&gt; | replication &lt;int&gt; |\n|---|---|---|---|---|---|\n| programmers0  |   0.6594358 |   0.8831157 |  0.2236799 | TRUE | 1 |\n| programmers1  |   4.3150260 |   4.6212668 |  0.3062408 | TRUE | 1 |\n| programmers2  |   9.9138478 |  17.9190320 |  8.0051842 | TRUE | 1 |\n| programmers3  |  17.8698740 |  19.4576040 |  1.5385720 | TRUE | 1 |\n| programmers4  |  29.1721482 |  35.1054429 |  5.9332947 | TRUE | 1 |\n| programmers5  |  30.5038747 |  35.2700306 |  0.1645877 | TRUE | 1 |\n| programmers6  |  37.6994602 |  51.6025574 | 13.9030972 | TRUE | 1 |\n| programmers7  |  44.9153141 |  56.7244325 |  5.1218751 | TRUE | 1 |\n| programmers8  |  56.5868526 |  63.7487193 |  7.0242868 | TRUE | 1 |\n| programmers9  |  62.3336902 |  72.4511103 |  8.7023910 | TRUE | 1 |\n| programmers10 |  65.7981326 |  77.3769300 |  4.9258197 | TRUE | 1 |\n| programmers11 |  71.1364843 |  82.2481213 |  4.8711913 | TRUE | 1 |\n| programmers12 |  73.5510920 |  85.1404492 |  2.8923279 | TRUE | 1 |\n| programmers13 |  74.7560498 |  92.9859908 |  7.8455416 | TRUE | 1 |\n| programmers14 |  80.6354114 |  93.9777229 |  0.9917320 | TRUE | 1 |\n| programmers15 |  87.1390792 | 101.0827494 |  7.1050265 | TRUE | 1 |\n| programmers16 | 100.5709119 | 101.5189982 |  0.4362489 | TRUE | 1 |\n| programmers17 | 106.7880374 | 108.5267597 |  1.7387224 | TRUE | 1 |\n| programmers18 | 111.9988044 | 114.6824956 |  2.6836913 | TRUE | 1 |\n| programmers19 | 126.8821800 | 126.9903635 |  0.1081835 | TRUE | 1 |\n| programmers20 | 162.5195562 | 165.1095201 |  2.5899639 | TRUE | 1 |\n| programmers21 | 170.7986854 | 180.9807358 | 10.1820504 | TRUE | 1 |\n| programmers22 | 189.6671145 | 191.9323588 |  2.2652443 | TRUE | 1 |\n| programmers23 | 196.2839065 | 197.1757980 |  0.8918916 | TRUE | 1 |\n| programmers24 | 205.2758064 | 209.4243436 |  4.1485373 | TRUE | 1 |\n| programmers25 | 209.1488623 | 214.5473706 |  5.1230270 | TRUE | 1 |\n| programmers26 | 226.2996956 | 228.8273465 |  2.5276509 | TRUE | 1 |\n| programmers27 | 235.2435912 | 240.0144764 |  4.7708852 | TRUE | 1 |\n| programmers28 | 250.8230871 | 251.9281459 |  1.1050587 | TRUE | 1 |\n| programmers29 | 252.1768019 | 252.3330145 |  0.1562126 | TRUE | 1 |\n| \u22ee | \u22ee | \u22ee | \u22ee | \u22ee | \u22ee |\n| programmers109832 | 999670.5 | 999673.4 |  2.91229250 | TRUE | 1 |\n| programmers109833 | 999676.2 | 999683.2 |  7.01487456 | TRUE | 1 |\n| programmers109834 | 999696.7 | 999696.9 |  0.22333244 | TRUE | 1 |\n| programmers109835 | 999702.3 | 999706.1 |  3.81184346 | TRUE | 1 |\n| programmers109836 | 999730.7 | 999736.5 |  5.81429703 | TRUE | 1 |\n| programmers109837 | 999755.6 | 999759.0 |  3.32625050 | TRUE | 1 |\n| programmers109838 | 999760.2 | 999760.4 |  0.15675987 | TRUE | 1 |\n| programmers109839 | 999777.5 | 999781.6 |  4.12754888 | TRUE | 1 |\n| programmers109840 | 999782.5 | 999782.7 |  0.23502627 | TRUE | 1 |\n| programmers109841 | 999782.7 | 999787.2 |  4.43165035 | TRUE | 1 |\n| programmers109842 | 999794.3 | 999797.7 |  3.31074800 | TRUE | 1 |\n| programmers109843 | 999804.2 | 999804.4 |  0.17101299 | TRUE | 1 |\n| programmers109844 | 999806.1 | 999820.6 | 14.52681017 | TRUE | 1 |\n| programmers109845 | 999810.7 | 999838.7 | 18.12958856 | TRUE | 1 |\n| programmers109846 | 999835.8 | 999844.9 |  6.21326446 | TRUE | 1 |\n| programmers109847 | 999841.2 | 999848.2 |  3.29803753 | TRUE | 1 |\n| programmers109848 | 999875.5 | 999876.1 |  0.63113514 | TRUE | 1 |\n| programmers109849 | 999876.0 | 999885.8 |  9.62467996 | TRUE | 1 |\n| programmers109850 | 999881.0 | 999895.3 |  9.59485558 | TRUE | 1 |\n| programmers109851 | 999887.2 | 999906.0 | 10.60831586 | TRUE | 1 |\n| programmers109852 | 999890.7 | 999912.2 |  6.26526176 | TRUE | 1 |\n| programmers109853 | 999906.2 | 999912.3 |  0.04591410 | TRUE | 1 |\n| programmers109854 | 999917.8 | 999920.7 |  2.92671201 | TRUE | 1 |\n| programmers109855 | 999922.6 | 999923.3 |  0.69297291 | TRUE | 1 |\n| programmers109856 | 999932.0 | 999937.7 |  5.67036328 | TRUE | 1 |\n| programmers109857 | 999951.6 | 999953.4 |  1.78687870 | TRUE | 1 |\n| programmers109858 | 999968.5 | 999969.7 |  1.21645728 | TRUE | 1 |\n| programmers109859 | 999980.6 | 999984.0 |  3.36070111 | TRUE | 1 |\n| programmers109860 | 999981.9 | 999984.1 |  0.07285372 | TRUE | 1 |\n| programmers109861 | 999986.2 | 999987.7 |  1.51563342 | TRUE | 1 |\n\n",
                        "text/plain": "       name              start_time  end_time    activity_time finished\n1      programmers0        0.6594358   0.8831157  0.2236799    TRUE    \n2      programmers1        4.3150260   4.6212668  0.3062408    TRUE    \n3      programmers2        9.9138478  17.9190320  8.0051842    TRUE    \n4      programmers3       17.8698740  19.4576040  1.5385720    TRUE    \n5      programmers4       29.1721482  35.1054429  5.9332947    TRUE    \n6      programmers5       30.5038747  35.2700306  0.1645877    TRUE    \n7      programmers6       37.6994602  51.6025574 13.9030972    TRUE    \n8      programmers7       44.9153141  56.7244325  5.1218751    TRUE    \n9      programmers8       56.5868526  63.7487193  7.0242868    TRUE    \n10     programmers9       62.3336902  72.4511103  8.7023910    TRUE    \n11     programmers10      65.7981326  77.3769300  4.9258197    TRUE    \n12     programmers11      71.1364843  82.2481213  4.8711913    TRUE    \n13     programmers12      73.5510920  85.1404492  2.8923279    TRUE    \n14     programmers13      74.7560498  92.9859908  7.8455416    TRUE    \n15     programmers14      80.6354114  93.9777229  0.9917320    TRUE    \n16     programmers15      87.1390792 101.0827494  7.1050265    TRUE    \n17     programmers16     100.5709119 101.5189982  0.4362489    TRUE    \n18     programmers17     106.7880374 108.5267597  1.7387224    TRUE    \n19     programmers18     111.9988044 114.6824956  2.6836913    TRUE    \n20     programmers19     126.8821800 126.9903635  0.1081835    TRUE    \n21     programmers20     162.5195562 165.1095201  2.5899639    TRUE    \n22     programmers21     170.7986854 180.9807358 10.1820504    TRUE    \n23     programmers22     189.6671145 191.9323588  2.2652443    TRUE    \n24     programmers23     196.2839065 197.1757980  0.8918916    TRUE    \n25     programmers24     205.2758064 209.4243436  4.1485373    TRUE    \n26     programmers25     209.1488623 214.5473706  5.1230270    TRUE    \n27     programmers26     226.2996956 228.8273465  2.5276509    TRUE    \n28     programmers27     235.2435912 240.0144764  4.7708852    TRUE    \n29     programmers28     250.8230871 251.9281459  1.1050587    TRUE    \n30     programmers29     252.1768019 252.3330145  0.1562126    TRUE    \n\u22ee      \u22ee                 \u22ee           \u22ee           \u22ee             \u22ee       \n109833 programmers109832 999670.5    999673.4     2.91229250   TRUE    \n109834 programmers109833 999676.2    999683.2     7.01487456   TRUE    \n109835 programmers109834 999696.7    999696.9     0.22333244   TRUE    \n109836 programmers109835 999702.3    999706.1     3.81184346   TRUE    \n109837 programmers109836 999730.7    999736.5     5.81429703   TRUE    \n109838 programmers109837 999755.6    999759.0     3.32625050   TRUE    \n109839 programmers109838 999760.2    999760.4     0.15675987   TRUE    \n109840 programmers109839 999777.5    999781.6     4.12754888   TRUE    \n109841 programmers109840 999782.5    999782.7     0.23502627   TRUE    \n109842 programmers109841 999782.7    999787.2     4.43165035   TRUE    \n109843 programmers109842 999794.3    999797.7     3.31074800   TRUE    \n109844 programmers109843 999804.2    999804.4     0.17101299   TRUE    \n109845 programmers109844 999806.1    999820.6    14.52681017   TRUE    \n109846 programmers109845 999810.7    999838.7    18.12958856   TRUE    \n109847 programmers109846 999835.8    999844.9     6.21326446   TRUE    \n109848 programmers109847 999841.2    999848.2     3.29803753   TRUE    \n109849 programmers109848 999875.5    999876.1     0.63113514   TRUE    \n109850 programmers109849 999876.0    999885.8     9.62467996   TRUE    \n109851 programmers109850 999881.0    999895.3     9.59485558   TRUE    \n109852 programmers109851 999887.2    999906.0    10.60831586   TRUE    \n109853 programmers109852 999890.7    999912.2     6.26526176   TRUE    \n109854 programmers109853 999906.2    999912.3     0.04591410   TRUE    \n109855 programmers109854 999917.8    999920.7     2.92671201   TRUE    \n109856 programmers109855 999922.6    999923.3     0.69297291   TRUE    \n109857 programmers109856 999932.0    999937.7     5.67036328   TRUE    \n109858 programmers109857 999951.6    999953.4     1.78687870   TRUE    \n109859 programmers109858 999968.5    999969.7     1.21645728   TRUE    \n109860 programmers109859 999980.6    999984.0     3.36070111   TRUE    \n109861 programmers109860 999981.9    999984.1     0.07285372   TRUE    \n109862 programmers109861 999986.2    999987.7     1.51563342   TRUE    \n       replication\n1      1          \n2      1          \n3      1          \n4      1          \n5      1          \n6      1          \n7      1          \n8      1          \n9      1          \n10     1          \n11     1          \n12     1          \n13     1          \n14     1          \n15     1          \n16     1          \n17     1          \n18     1          \n19     1          \n20     1          \n21     1          \n22     1          \n23     1          \n24     1          \n25     1          \n26     1          \n27     1          \n28     1          \n29     1          \n30     1          \n\u22ee      \u22ee          \n109833 1          \n109834 1          \n109835 1          \n109836 1          \n109837 1          \n109838 1          \n109839 1          \n109840 1          \n109841 1          \n109842 1          \n109843 1          \n109844 1          \n109845 1          \n109846 1          \n109847 1          \n109848 1          \n109849 1          \n109850 1          \n109851 1          \n109852 1          \n109853 1          \n109854 1          \n109855 1          \n109856 1          \n109857 1          \n109858 1          \n109859 1          \n109860 1          \n109861 1          \n109862 1          "
                    },
                    "metadata": {},
                    "output_type": "display_data"
                }
            ],
            "source": "activities <- env %>% get_mon_arrivals()\nactivities"
        },
        {
            "cell_type": "code",
            "execution_count": 26,
            "metadata": {
                "trusted": true
            },
            "outputs": [
                {
                    "data": {
                        "text/html": "<table class=\"dataframe\">\n<caption>A data.frame: 219724 \u00d7 9</caption>\n<thead>\n\t<tr><th scope=col>resource</th><th scope=col>time</th><th scope=col>server</th><th scope=col>queue</th><th scope=col>capacity</th><th scope=col>queue_size</th><th scope=col>system</th><th scope=col>limit</th><th scope=col>replication</th></tr>\n\t<tr><th scope=col>&lt;chr&gt;</th><th scope=col>&lt;dbl&gt;</th><th scope=col>&lt;int&gt;</th><th scope=col>&lt;int&gt;</th><th scope=col>&lt;dbl&gt;</th><th scope=col>&lt;dbl&gt;</th><th scope=col>&lt;int&gt;</th><th scope=col>&lt;dbl&gt;</th><th scope=col>&lt;int&gt;</th></tr>\n</thead>\n<tbody>\n\t<tr><td>server</td><td> 0.6594358</td><td>1</td><td>0</td><td>1</td><td>Inf</td><td>1</td><td>Inf</td><td>1</td></tr>\n\t<tr><td>server</td><td> 0.8831157</td><td>0</td><td>0</td><td>1</td><td>Inf</td><td>0</td><td>Inf</td><td>1</td></tr>\n\t<tr><td>server</td><td> 4.3150260</td><td>1</td><td>0</td><td>1</td><td>Inf</td><td>1</td><td>Inf</td><td>1</td></tr>\n\t<tr><td>server</td><td> 4.6212668</td><td>0</td><td>0</td><td>1</td><td>Inf</td><td>0</td><td>Inf</td><td>1</td></tr>\n\t<tr><td>server</td><td> 9.9138478</td><td>1</td><td>0</td><td>1</td><td>Inf</td><td>1</td><td>Inf</td><td>1</td></tr>\n\t<tr><td>server</td><td>17.8698740</td><td>1</td><td>1</td><td>1</td><td>Inf</td><td>2</td><td>Inf</td><td>1</td></tr>\n\t<tr><td>server</td><td>17.9190320</td><td>1</td><td>0</td><td>1</td><td>Inf</td><td>1</td><td>Inf</td><td>1</td></tr>\n\t<tr><td>server</td><td>19.4576040</td><td>0</td><td>0</td><td>1</td><td>Inf</td><td>0</td><td>Inf</td><td>1</td></tr>\n\t<tr><td>server</td><td>29.1721482</td><td>1</td><td>0</td><td>1</td><td>Inf</td><td>1</td><td>Inf</td><td>1</td></tr>\n\t<tr><td>server</td><td>30.5038747</td><td>1</td><td>1</td><td>1</td><td>Inf</td><td>2</td><td>Inf</td><td>1</td></tr>\n\t<tr><td>server</td><td>35.1054429</td><td>1</td><td>0</td><td>1</td><td>Inf</td><td>1</td><td>Inf</td><td>1</td></tr>\n\t<tr><td>server</td><td>35.2700306</td><td>0</td><td>0</td><td>1</td><td>Inf</td><td>0</td><td>Inf</td><td>1</td></tr>\n\t<tr><td>server</td><td>37.6994602</td><td>1</td><td>0</td><td>1</td><td>Inf</td><td>1</td><td>Inf</td><td>1</td></tr>\n\t<tr><td>server</td><td>44.9153141</td><td>1</td><td>1</td><td>1</td><td>Inf</td><td>2</td><td>Inf</td><td>1</td></tr>\n\t<tr><td>server</td><td>51.6025574</td><td>1</td><td>0</td><td>1</td><td>Inf</td><td>1</td><td>Inf</td><td>1</td></tr>\n\t<tr><td>server</td><td>56.5868526</td><td>1</td><td>1</td><td>1</td><td>Inf</td><td>2</td><td>Inf</td><td>1</td></tr>\n\t<tr><td>server</td><td>56.7244325</td><td>1</td><td>0</td><td>1</td><td>Inf</td><td>1</td><td>Inf</td><td>1</td></tr>\n\t<tr><td>server</td><td>62.3336902</td><td>1</td><td>1</td><td>1</td><td>Inf</td><td>2</td><td>Inf</td><td>1</td></tr>\n\t<tr><td>server</td><td>63.7487193</td><td>1</td><td>0</td><td>1</td><td>Inf</td><td>1</td><td>Inf</td><td>1</td></tr>\n\t<tr><td>server</td><td>65.7981326</td><td>1</td><td>1</td><td>1</td><td>Inf</td><td>2</td><td>Inf</td><td>1</td></tr>\n\t<tr><td>server</td><td>71.1364843</td><td>1</td><td>2</td><td>1</td><td>Inf</td><td>3</td><td>Inf</td><td>1</td></tr>\n\t<tr><td>server</td><td>72.4511103</td><td>1</td><td>1</td><td>1</td><td>Inf</td><td>2</td><td>Inf</td><td>1</td></tr>\n\t<tr><td>server</td><td>73.5510920</td><td>1</td><td>2</td><td>1</td><td>Inf</td><td>3</td><td>Inf</td><td>1</td></tr>\n\t<tr><td>server</td><td>74.7560498</td><td>1</td><td>3</td><td>1</td><td>Inf</td><td>4</td><td>Inf</td><td>1</td></tr>\n\t<tr><td>server</td><td>77.3769300</td><td>1</td><td>2</td><td>1</td><td>Inf</td><td>3</td><td>Inf</td><td>1</td></tr>\n\t<tr><td>server</td><td>80.6354114</td><td>1</td><td>3</td><td>1</td><td>Inf</td><td>4</td><td>Inf</td><td>1</td></tr>\n\t<tr><td>server</td><td>82.2481213</td><td>1</td><td>2</td><td>1</td><td>Inf</td><td>3</td><td>Inf</td><td>1</td></tr>\n\t<tr><td>server</td><td>85.1404492</td><td>1</td><td>1</td><td>1</td><td>Inf</td><td>2</td><td>Inf</td><td>1</td></tr>\n\t<tr><td>server</td><td>87.1390792</td><td>1</td><td>2</td><td>1</td><td>Inf</td><td>3</td><td>Inf</td><td>1</td></tr>\n\t<tr><td>server</td><td>92.9859908</td><td>1</td><td>1</td><td>1</td><td>Inf</td><td>2</td><td>Inf</td><td>1</td></tr>\n\t<tr><td>\u22ee</td><td>\u22ee</td><td>\u22ee</td><td>\u22ee</td><td>\u22ee</td><td>\u22ee</td><td>\u22ee</td><td>\u22ee</td><td>\u22ee</td></tr>\n\t<tr><td>server</td><td>999844.9</td><td>1</td><td>0</td><td>1</td><td>Inf</td><td>1</td><td>Inf</td><td>1</td></tr>\n\t<tr><td>server</td><td>999848.2</td><td>0</td><td>0</td><td>1</td><td>Inf</td><td>0</td><td>Inf</td><td>1</td></tr>\n\t<tr><td>server</td><td>999875.5</td><td>1</td><td>0</td><td>1</td><td>Inf</td><td>1</td><td>Inf</td><td>1</td></tr>\n\t<tr><td>server</td><td>999876.0</td><td>1</td><td>1</td><td>1</td><td>Inf</td><td>2</td><td>Inf</td><td>1</td></tr>\n\t<tr><td>server</td><td>999876.1</td><td>1</td><td>0</td><td>1</td><td>Inf</td><td>1</td><td>Inf</td><td>1</td></tr>\n\t<tr><td>server</td><td>999881.0</td><td>1</td><td>1</td><td>1</td><td>Inf</td><td>2</td><td>Inf</td><td>1</td></tr>\n\t<tr><td>server</td><td>999885.8</td><td>1</td><td>0</td><td>1</td><td>Inf</td><td>1</td><td>Inf</td><td>1</td></tr>\n\t<tr><td>server</td><td>999887.2</td><td>1</td><td>1</td><td>1</td><td>Inf</td><td>2</td><td>Inf</td><td>1</td></tr>\n\t<tr><td>server</td><td>999890.7</td><td>1</td><td>2</td><td>1</td><td>Inf</td><td>3</td><td>Inf</td><td>1</td></tr>\n\t<tr><td>server</td><td>999895.3</td><td>1</td><td>1</td><td>1</td><td>Inf</td><td>2</td><td>Inf</td><td>1</td></tr>\n\t<tr><td>server</td><td>999906.0</td><td>1</td><td>0</td><td>1</td><td>Inf</td><td>1</td><td>Inf</td><td>1</td></tr>\n\t<tr><td>server</td><td>999906.2</td><td>1</td><td>1</td><td>1</td><td>Inf</td><td>2</td><td>Inf</td><td>1</td></tr>\n\t<tr><td>server</td><td>999912.2</td><td>1</td><td>0</td><td>1</td><td>Inf</td><td>1</td><td>Inf</td><td>1</td></tr>\n\t<tr><td>server</td><td>999912.3</td><td>0</td><td>0</td><td>1</td><td>Inf</td><td>0</td><td>Inf</td><td>1</td></tr>\n\t<tr><td>server</td><td>999917.8</td><td>1</td><td>0</td><td>1</td><td>Inf</td><td>1</td><td>Inf</td><td>1</td></tr>\n\t<tr><td>server</td><td>999920.7</td><td>0</td><td>0</td><td>1</td><td>Inf</td><td>0</td><td>Inf</td><td>1</td></tr>\n\t<tr><td>server</td><td>999922.6</td><td>1</td><td>0</td><td>1</td><td>Inf</td><td>1</td><td>Inf</td><td>1</td></tr>\n\t<tr><td>server</td><td>999923.3</td><td>0</td><td>0</td><td>1</td><td>Inf</td><td>0</td><td>Inf</td><td>1</td></tr>\n\t<tr><td>server</td><td>999932.0</td><td>1</td><td>0</td><td>1</td><td>Inf</td><td>1</td><td>Inf</td><td>1</td></tr>\n\t<tr><td>server</td><td>999937.7</td><td>0</td><td>0</td><td>1</td><td>Inf</td><td>0</td><td>Inf</td><td>1</td></tr>\n\t<tr><td>server</td><td>999951.6</td><td>1</td><td>0</td><td>1</td><td>Inf</td><td>1</td><td>Inf</td><td>1</td></tr>\n\t<tr><td>server</td><td>999953.4</td><td>0</td><td>0</td><td>1</td><td>Inf</td><td>0</td><td>Inf</td><td>1</td></tr>\n\t<tr><td>server</td><td>999968.5</td><td>1</td><td>0</td><td>1</td><td>Inf</td><td>1</td><td>Inf</td><td>1</td></tr>\n\t<tr><td>server</td><td>999969.7</td><td>0</td><td>0</td><td>1</td><td>Inf</td><td>0</td><td>Inf</td><td>1</td></tr>\n\t<tr><td>server</td><td>999980.6</td><td>1</td><td>0</td><td>1</td><td>Inf</td><td>1</td><td>Inf</td><td>1</td></tr>\n\t<tr><td>server</td><td>999981.9</td><td>1</td><td>1</td><td>1</td><td>Inf</td><td>2</td><td>Inf</td><td>1</td></tr>\n\t<tr><td>server</td><td>999984.0</td><td>1</td><td>0</td><td>1</td><td>Inf</td><td>1</td><td>Inf</td><td>1</td></tr>\n\t<tr><td>server</td><td>999984.1</td><td>0</td><td>0</td><td>1</td><td>Inf</td><td>0</td><td>Inf</td><td>1</td></tr>\n\t<tr><td>server</td><td>999986.2</td><td>1</td><td>0</td><td>1</td><td>Inf</td><td>1</td><td>Inf</td><td>1</td></tr>\n\t<tr><td>server</td><td>999987.7</td><td>0</td><td>0</td><td>1</td><td>Inf</td><td>0</td><td>Inf</td><td>1</td></tr>\n</tbody>\n</table>\n",
                        "text/latex": "A data.frame: 219724 \u00d7 9\n\\begin{tabular}{lllllllll}\n resource & time & server & queue & capacity & queue\\_size & system & limit & replication\\\\\n <chr> & <dbl> & <int> & <int> & <dbl> & <dbl> & <int> & <dbl> & <int>\\\\\n\\hline\n\t server &  0.6594358 & 1 & 0 & 1 & Inf & 1 & Inf & 1\\\\\n\t server &  0.8831157 & 0 & 0 & 1 & Inf & 0 & Inf & 1\\\\\n\t server &  4.3150260 & 1 & 0 & 1 & Inf & 1 & Inf & 1\\\\\n\t server &  4.6212668 & 0 & 0 & 1 & Inf & 0 & Inf & 1\\\\\n\t server &  9.9138478 & 1 & 0 & 1 & Inf & 1 & Inf & 1\\\\\n\t server & 17.8698740 & 1 & 1 & 1 & Inf & 2 & Inf & 1\\\\\n\t server & 17.9190320 & 1 & 0 & 1 & Inf & 1 & Inf & 1\\\\\n\t server & 19.4576040 & 0 & 0 & 1 & Inf & 0 & Inf & 1\\\\\n\t server & 29.1721482 & 1 & 0 & 1 & Inf & 1 & Inf & 1\\\\\n\t server & 30.5038747 & 1 & 1 & 1 & Inf & 2 & Inf & 1\\\\\n\t server & 35.1054429 & 1 & 0 & 1 & Inf & 1 & Inf & 1\\\\\n\t server & 35.2700306 & 0 & 0 & 1 & Inf & 0 & Inf & 1\\\\\n\t server & 37.6994602 & 1 & 0 & 1 & Inf & 1 & Inf & 1\\\\\n\t server & 44.9153141 & 1 & 1 & 1 & Inf & 2 & Inf & 1\\\\\n\t server & 51.6025574 & 1 & 0 & 1 & Inf & 1 & Inf & 1\\\\\n\t server & 56.5868526 & 1 & 1 & 1 & Inf & 2 & Inf & 1\\\\\n\t server & 56.7244325 & 1 & 0 & 1 & Inf & 1 & Inf & 1\\\\\n\t server & 62.3336902 & 1 & 1 & 1 & Inf & 2 & Inf & 1\\\\\n\t server & 63.7487193 & 1 & 0 & 1 & Inf & 1 & Inf & 1\\\\\n\t server & 65.7981326 & 1 & 1 & 1 & Inf & 2 & Inf & 1\\\\\n\t server & 71.1364843 & 1 & 2 & 1 & Inf & 3 & Inf & 1\\\\\n\t server & 72.4511103 & 1 & 1 & 1 & Inf & 2 & Inf & 1\\\\\n\t server & 73.5510920 & 1 & 2 & 1 & Inf & 3 & Inf & 1\\\\\n\t server & 74.7560498 & 1 & 3 & 1 & Inf & 4 & Inf & 1\\\\\n\t server & 77.3769300 & 1 & 2 & 1 & Inf & 3 & Inf & 1\\\\\n\t server & 80.6354114 & 1 & 3 & 1 & Inf & 4 & Inf & 1\\\\\n\t server & 82.2481213 & 1 & 2 & 1 & Inf & 3 & Inf & 1\\\\\n\t server & 85.1404492 & 1 & 1 & 1 & Inf & 2 & Inf & 1\\\\\n\t server & 87.1390792 & 1 & 2 & 1 & Inf & 3 & Inf & 1\\\\\n\t server & 92.9859908 & 1 & 1 & 1 & Inf & 2 & Inf & 1\\\\\n\t \u22ee & \u22ee & \u22ee & \u22ee & \u22ee & \u22ee & \u22ee & \u22ee & \u22ee\\\\\n\t server & 999844.9 & 1 & 0 & 1 & Inf & 1 & Inf & 1\\\\\n\t server & 999848.2 & 0 & 0 & 1 & Inf & 0 & Inf & 1\\\\\n\t server & 999875.5 & 1 & 0 & 1 & Inf & 1 & Inf & 1\\\\\n\t server & 999876.0 & 1 & 1 & 1 & Inf & 2 & Inf & 1\\\\\n\t server & 999876.1 & 1 & 0 & 1 & Inf & 1 & Inf & 1\\\\\n\t server & 999881.0 & 1 & 1 & 1 & Inf & 2 & Inf & 1\\\\\n\t server & 999885.8 & 1 & 0 & 1 & Inf & 1 & Inf & 1\\\\\n\t server & 999887.2 & 1 & 1 & 1 & Inf & 2 & Inf & 1\\\\\n\t server & 999890.7 & 1 & 2 & 1 & Inf & 3 & Inf & 1\\\\\n\t server & 999895.3 & 1 & 1 & 1 & Inf & 2 & Inf & 1\\\\\n\t server & 999906.0 & 1 & 0 & 1 & Inf & 1 & Inf & 1\\\\\n\t server & 999906.2 & 1 & 1 & 1 & Inf & 2 & Inf & 1\\\\\n\t server & 999912.2 & 1 & 0 & 1 & Inf & 1 & Inf & 1\\\\\n\t server & 999912.3 & 0 & 0 & 1 & Inf & 0 & Inf & 1\\\\\n\t server & 999917.8 & 1 & 0 & 1 & Inf & 1 & Inf & 1\\\\\n\t server & 999920.7 & 0 & 0 & 1 & Inf & 0 & Inf & 1\\\\\n\t server & 999922.6 & 1 & 0 & 1 & Inf & 1 & Inf & 1\\\\\n\t server & 999923.3 & 0 & 0 & 1 & Inf & 0 & Inf & 1\\\\\n\t server & 999932.0 & 1 & 0 & 1 & Inf & 1 & Inf & 1\\\\\n\t server & 999937.7 & 0 & 0 & 1 & Inf & 0 & Inf & 1\\\\\n\t server & 999951.6 & 1 & 0 & 1 & Inf & 1 & Inf & 1\\\\\n\t server & 999953.4 & 0 & 0 & 1 & Inf & 0 & Inf & 1\\\\\n\t server & 999968.5 & 1 & 0 & 1 & Inf & 1 & Inf & 1\\\\\n\t server & 999969.7 & 0 & 0 & 1 & Inf & 0 & Inf & 1\\\\\n\t server & 999980.6 & 1 & 0 & 1 & Inf & 1 & Inf & 1\\\\\n\t server & 999981.9 & 1 & 1 & 1 & Inf & 2 & Inf & 1\\\\\n\t server & 999984.0 & 1 & 0 & 1 & Inf & 1 & Inf & 1\\\\\n\t server & 999984.1 & 0 & 0 & 1 & Inf & 0 & Inf & 1\\\\\n\t server & 999986.2 & 1 & 0 & 1 & Inf & 1 & Inf & 1\\\\\n\t server & 999987.7 & 0 & 0 & 1 & Inf & 0 & Inf & 1\\\\\n\\end{tabular}\n",
                        "text/markdown": "\nA data.frame: 219724 \u00d7 9\n\n| resource &lt;chr&gt; | time &lt;dbl&gt; | server &lt;int&gt; | queue &lt;int&gt; | capacity &lt;dbl&gt; | queue_size &lt;dbl&gt; | system &lt;int&gt; | limit &lt;dbl&gt; | replication &lt;int&gt; |\n|---|---|---|---|---|---|---|---|---|\n| server |  0.6594358 | 1 | 0 | 1 | Inf | 1 | Inf | 1 |\n| server |  0.8831157 | 0 | 0 | 1 | Inf | 0 | Inf | 1 |\n| server |  4.3150260 | 1 | 0 | 1 | Inf | 1 | Inf | 1 |\n| server |  4.6212668 | 0 | 0 | 1 | Inf | 0 | Inf | 1 |\n| server |  9.9138478 | 1 | 0 | 1 | Inf | 1 | Inf | 1 |\n| server | 17.8698740 | 1 | 1 | 1 | Inf | 2 | Inf | 1 |\n| server | 17.9190320 | 1 | 0 | 1 | Inf | 1 | Inf | 1 |\n| server | 19.4576040 | 0 | 0 | 1 | Inf | 0 | Inf | 1 |\n| server | 29.1721482 | 1 | 0 | 1 | Inf | 1 | Inf | 1 |\n| server | 30.5038747 | 1 | 1 | 1 | Inf | 2 | Inf | 1 |\n| server | 35.1054429 | 1 | 0 | 1 | Inf | 1 | Inf | 1 |\n| server | 35.2700306 | 0 | 0 | 1 | Inf | 0 | Inf | 1 |\n| server | 37.6994602 | 1 | 0 | 1 | Inf | 1 | Inf | 1 |\n| server | 44.9153141 | 1 | 1 | 1 | Inf | 2 | Inf | 1 |\n| server | 51.6025574 | 1 | 0 | 1 | Inf | 1 | Inf | 1 |\n| server | 56.5868526 | 1 | 1 | 1 | Inf | 2 | Inf | 1 |\n| server | 56.7244325 | 1 | 0 | 1 | Inf | 1 | Inf | 1 |\n| server | 62.3336902 | 1 | 1 | 1 | Inf | 2 | Inf | 1 |\n| server | 63.7487193 | 1 | 0 | 1 | Inf | 1 | Inf | 1 |\n| server | 65.7981326 | 1 | 1 | 1 | Inf | 2 | Inf | 1 |\n| server | 71.1364843 | 1 | 2 | 1 | Inf | 3 | Inf | 1 |\n| server | 72.4511103 | 1 | 1 | 1 | Inf | 2 | Inf | 1 |\n| server | 73.5510920 | 1 | 2 | 1 | Inf | 3 | Inf | 1 |\n| server | 74.7560498 | 1 | 3 | 1 | Inf | 4 | Inf | 1 |\n| server | 77.3769300 | 1 | 2 | 1 | Inf | 3 | Inf | 1 |\n| server | 80.6354114 | 1 | 3 | 1 | Inf | 4 | Inf | 1 |\n| server | 82.2481213 | 1 | 2 | 1 | Inf | 3 | Inf | 1 |\n| server | 85.1404492 | 1 | 1 | 1 | Inf | 2 | Inf | 1 |\n| server | 87.1390792 | 1 | 2 | 1 | Inf | 3 | Inf | 1 |\n| server | 92.9859908 | 1 | 1 | 1 | Inf | 2 | Inf | 1 |\n| \u22ee | \u22ee | \u22ee | \u22ee | \u22ee | \u22ee | \u22ee | \u22ee | \u22ee |\n| server | 999844.9 | 1 | 0 | 1 | Inf | 1 | Inf | 1 |\n| server | 999848.2 | 0 | 0 | 1 | Inf | 0 | Inf | 1 |\n| server | 999875.5 | 1 | 0 | 1 | Inf | 1 | Inf | 1 |\n| server | 999876.0 | 1 | 1 | 1 | Inf | 2 | Inf | 1 |\n| server | 999876.1 | 1 | 0 | 1 | Inf | 1 | Inf | 1 |\n| server | 999881.0 | 1 | 1 | 1 | Inf | 2 | Inf | 1 |\n| server | 999885.8 | 1 | 0 | 1 | Inf | 1 | Inf | 1 |\n| server | 999887.2 | 1 | 1 | 1 | Inf | 2 | Inf | 1 |\n| server | 999890.7 | 1 | 2 | 1 | Inf | 3 | Inf | 1 |\n| server | 999895.3 | 1 | 1 | 1 | Inf | 2 | Inf | 1 |\n| server | 999906.0 | 1 | 0 | 1 | Inf | 1 | Inf | 1 |\n| server | 999906.2 | 1 | 1 | 1 | Inf | 2 | Inf | 1 |\n| server | 999912.2 | 1 | 0 | 1 | Inf | 1 | Inf | 1 |\n| server | 999912.3 | 0 | 0 | 1 | Inf | 0 | Inf | 1 |\n| server | 999917.8 | 1 | 0 | 1 | Inf | 1 | Inf | 1 |\n| server | 999920.7 | 0 | 0 | 1 | Inf | 0 | Inf | 1 |\n| server | 999922.6 | 1 | 0 | 1 | Inf | 1 | Inf | 1 |\n| server | 999923.3 | 0 | 0 | 1 | Inf | 0 | Inf | 1 |\n| server | 999932.0 | 1 | 0 | 1 | Inf | 1 | Inf | 1 |\n| server | 999937.7 | 0 | 0 | 1 | Inf | 0 | Inf | 1 |\n| server | 999951.6 | 1 | 0 | 1 | Inf | 1 | Inf | 1 |\n| server | 999953.4 | 0 | 0 | 1 | Inf | 0 | Inf | 1 |\n| server | 999968.5 | 1 | 0 | 1 | Inf | 1 | Inf | 1 |\n| server | 999969.7 | 0 | 0 | 1 | Inf | 0 | Inf | 1 |\n| server | 999980.6 | 1 | 0 | 1 | Inf | 1 | Inf | 1 |\n| server | 999981.9 | 1 | 1 | 1 | Inf | 2 | Inf | 1 |\n| server | 999984.0 | 1 | 0 | 1 | Inf | 1 | Inf | 1 |\n| server | 999984.1 | 0 | 0 | 1 | Inf | 0 | Inf | 1 |\n| server | 999986.2 | 1 | 0 | 1 | Inf | 1 | Inf | 1 |\n| server | 999987.7 | 0 | 0 | 1 | Inf | 0 | Inf | 1 |\n\n",
                        "text/plain": "       resource time       server queue capacity queue_size system limit\n1      server    0.6594358 1      0     1        Inf        1      Inf  \n2      server    0.8831157 0      0     1        Inf        0      Inf  \n3      server    4.3150260 1      0     1        Inf        1      Inf  \n4      server    4.6212668 0      0     1        Inf        0      Inf  \n5      server    9.9138478 1      0     1        Inf        1      Inf  \n6      server   17.8698740 1      1     1        Inf        2      Inf  \n7      server   17.9190320 1      0     1        Inf        1      Inf  \n8      server   19.4576040 0      0     1        Inf        0      Inf  \n9      server   29.1721482 1      0     1        Inf        1      Inf  \n10     server   30.5038747 1      1     1        Inf        2      Inf  \n11     server   35.1054429 1      0     1        Inf        1      Inf  \n12     server   35.2700306 0      0     1        Inf        0      Inf  \n13     server   37.6994602 1      0     1        Inf        1      Inf  \n14     server   44.9153141 1      1     1        Inf        2      Inf  \n15     server   51.6025574 1      0     1        Inf        1      Inf  \n16     server   56.5868526 1      1     1        Inf        2      Inf  \n17     server   56.7244325 1      0     1        Inf        1      Inf  \n18     server   62.3336902 1      1     1        Inf        2      Inf  \n19     server   63.7487193 1      0     1        Inf        1      Inf  \n20     server   65.7981326 1      1     1        Inf        2      Inf  \n21     server   71.1364843 1      2     1        Inf        3      Inf  \n22     server   72.4511103 1      1     1        Inf        2      Inf  \n23     server   73.5510920 1      2     1        Inf        3      Inf  \n24     server   74.7560498 1      3     1        Inf        4      Inf  \n25     server   77.3769300 1      2     1        Inf        3      Inf  \n26     server   80.6354114 1      3     1        Inf        4      Inf  \n27     server   82.2481213 1      2     1        Inf        3      Inf  \n28     server   85.1404492 1      1     1        Inf        2      Inf  \n29     server   87.1390792 1      2     1        Inf        3      Inf  \n30     server   92.9859908 1      1     1        Inf        2      Inf  \n\u22ee      \u22ee        \u22ee          \u22ee      \u22ee     \u22ee        \u22ee          \u22ee      \u22ee    \n219695 server   999844.9   1      0     1        Inf        1      Inf  \n219696 server   999848.2   0      0     1        Inf        0      Inf  \n219697 server   999875.5   1      0     1        Inf        1      Inf  \n219698 server   999876.0   1      1     1        Inf        2      Inf  \n219699 server   999876.1   1      0     1        Inf        1      Inf  \n219700 server   999881.0   1      1     1        Inf        2      Inf  \n219701 server   999885.8   1      0     1        Inf        1      Inf  \n219702 server   999887.2   1      1     1        Inf        2      Inf  \n219703 server   999890.7   1      2     1        Inf        3      Inf  \n219704 server   999895.3   1      1     1        Inf        2      Inf  \n219705 server   999906.0   1      0     1        Inf        1      Inf  \n219706 server   999906.2   1      1     1        Inf        2      Inf  \n219707 server   999912.2   1      0     1        Inf        1      Inf  \n219708 server   999912.3   0      0     1        Inf        0      Inf  \n219709 server   999917.8   1      0     1        Inf        1      Inf  \n219710 server   999920.7   0      0     1        Inf        0      Inf  \n219711 server   999922.6   1      0     1        Inf        1      Inf  \n219712 server   999923.3   0      0     1        Inf        0      Inf  \n219713 server   999932.0   1      0     1        Inf        1      Inf  \n219714 server   999937.7   0      0     1        Inf        0      Inf  \n219715 server   999951.6   1      0     1        Inf        1      Inf  \n219716 server   999953.4   0      0     1        Inf        0      Inf  \n219717 server   999968.5   1      0     1        Inf        1      Inf  \n219718 server   999969.7   0      0     1        Inf        0      Inf  \n219719 server   999980.6   1      0     1        Inf        1      Inf  \n219720 server   999981.9   1      1     1        Inf        2      Inf  \n219721 server   999984.0   1      0     1        Inf        1      Inf  \n219722 server   999984.1   0      0     1        Inf        0      Inf  \n219723 server   999986.2   1      0     1        Inf        1      Inf  \n219724 server   999987.7   0      0     1        Inf        0      Inf  \n       replication\n1      1          \n2      1          \n3      1          \n4      1          \n5      1          \n6      1          \n7      1          \n8      1          \n9      1          \n10     1          \n11     1          \n12     1          \n13     1          \n14     1          \n15     1          \n16     1          \n17     1          \n18     1          \n19     1          \n20     1          \n21     1          \n22     1          \n23     1          \n24     1          \n25     1          \n26     1          \n27     1          \n28     1          \n29     1          \n30     1          \n\u22ee      \u22ee          \n219695 1          \n219696 1          \n219697 1          \n219698 1          \n219699 1          \n219700 1          \n219701 1          \n219702 1          \n219703 1          \n219704 1          \n219705 1          \n219706 1          \n219707 1          \n219708 1          \n219709 1          \n219710 1          \n219711 1          \n219712 1          \n219713 1          \n219714 1          \n219715 1          \n219716 1          \n219717 1          \n219718 1          \n219719 1          \n219720 1          \n219721 1          \n219722 1          \n219723 1          \n219724 1          "
                    },
                    "metadata": {},
                    "output_type": "display_data"
                }
            ],
            "source": "resources <- env %>% get_mon_resources()\nresources"
        },
        {
            "cell_type": "markdown",
            "metadata": {},
            "source": "#### 1. \u0412\u0435\u0440\u043e\u044f\u0442\u043d\u043e\u0441\u0442\u044c \u0442\u043e\u0433\u043e, \u0447\u0442\u043e \u043f\u0440\u043e\u0433\u0440\u0430\u043c\u043c\u0430 \u043d\u0435 \u0431\u0443\u0434\u0435\u0442 \u0432\u044b\u043f\u043e\u043b\u043d\u0435\u043d\u0430 \u0441\u0440\u0430\u0437\u0443 \u0436\u0435, \u043a\u0430\u043a \u0442\u043e\u043b\u044c\u043a\u043e \u043e\u043d\u0430 \u043f\u043e\u0441\u0442\u0443\u043f\u0438\u043b\u0430 \u043d\u0430 \u0442\u0435\u0440\u043c\u0438\u043d\u0430\u043b\n\u043e\u043d\u0430  \u0436\u0435 \u043e\u0431\u0440\u0430\u0442\u043d\u0430\u044f \u0432\u0435\u0440\u043e\u044f\u0442\u043d\u043e\u0441\u0442\u044c \u0442\u043e\u0433\u043e, \u0447\u0442\u043e\n\u043f\u0440\u043e\u0433\u0440\u0430\u043c\u043c\u0430 **\u0431\u0443\u0434\u0435\u0442 \u0432\u044b\u043f\u043e\u043b\u043d\u0435\u043d\u0430** \u0441\u0440\u0430\u0437\u0443 \u0436\u0435, \u0442\u043e \u0435\u0441\u0442\u044c:"
        },
        {
            "cell_type": "code",
            "execution_count": 27,
            "metadata": {
                "trusted": true
            },
            "outputs": [
                {
                    "data": {
                        "text/html": "48168",
                        "text/latex": "48168",
                        "text/markdown": "48168",
                        "text/plain": "[1] 48168"
                    },
                    "metadata": {},
                    "output_type": "display_data"
                },
                {
                    "data": {
                        "text/html": "109862",
                        "text/latex": "109862",
                        "text/markdown": "109862",
                        "text/plain": "[1] 109862"
                    },
                    "metadata": {},
                    "output_type": "display_data"
                }
            ],
            "source": "EPS <- 0.0001 # \u0414\u043e\u043b\u0436\u043d\u043e \u0431\u044b\u0442\u044c 0, \u043d\u043e \u0432 \u043c\u043e\u0434\u0435\u043b\u0438 \u043f\u0440\u0438\u0441\u0443\u0442\u0441\u0442\u0432\u0443\u044e\u0442 \u043d\u0435\u043a\u043e\u0442\u043e\u0440\u044b\u0435 \u043f\u043e\u0433\u0440\u0435\u0448\u043d\u043e\u0441\u0442\u0438.\nqueue <- resources$queue\nincome_count <- length(activities$name)\nprograms_starts <- length(\n    subset(activities, (activities$end_time - activities$start_time - activities$activity_time) > EPS)$name\n)\n\nprograms_starts\nincome_count"
        },
        {
            "cell_type": "code",
            "execution_count": 28,
            "metadata": {
                "trusted": true
            },
            "outputs": [
                {
                    "data": {
                        "text/html": "0.438440953195827",
                        "text/latex": "0.438440953195827",
                        "text/markdown": "0.438440953195827",
                        "text/plain": "[1] 0.438441"
                    },
                    "metadata": {},
                    "output_type": "display_data"
                }
            ],
            "source": "program_wont_be_executed_immediately <- programs_starts / income_count\nprogram_wont_be_executed_immediately"
        },
        {
            "cell_type": "markdown",
            "metadata": {},
            "source": "#### 2. \u0421\u0440\u0435\u0434\u043d\u0435\u0435 \u0432\u0440\u0435\u043c\u044f \u0434\u043e \u043f\u043e\u043b\u0443\u0447\u0435\u043d\u0438\u044f \u043f\u043e\u043b\u044c\u0437\u043e\u0432\u0430\u0442\u0435\u043b\u0435\u043c \u0440\u0435\u0437\u0443\u043b\u044c\u0442\u0430\u0442\u043e\u0432 \u0440\u0435\u0430\u043b\u0438\u0437\u0430\u0446\u0438\u0438."
        },
        {
            "cell_type": "code",
            "execution_count": 38,
            "metadata": {
                "trusted": true
            },
            "outputs": [
                {
                    "data": {
                        "text/html": "7.14403699322814",
                        "text/latex": "7.14403699322814",
                        "text/markdown": "7.14403699322814",
                        "text/plain": "[1] 7.144037"
                    },
                    "metadata": {},
                    "output_type": "display_data"
                }
            ],
            "source": "finished_activity_time <- mean(activities$end_time - activities$start_time)\nfinished_activity_time"
        },
        {
            "cell_type": "markdown",
            "metadata": {},
            "source": "#### 3. \u0421\u0440\u0435\u0434\u043d\u0435\u0435 \u043a\u043e\u043b\u0438\u0447\u0435\u0441\u0442\u0432\u043e \u043f\u0440\u043e\u0433\u0440\u0430\u043c\u043c, \u043e\u0436\u0438\u0434\u0430\u044e\u0449\u0438\u0445 \u0432\u044b\u043f\u043e\u043b\u043d\u0435\u043d\u0438\u044f \u043d\u0430 \u0441\u0435\u0440\u0432\u0435\u0440\u0435."
        },
        {
            "cell_type": "code",
            "execution_count": 30,
            "metadata": {
                "trusted": true
            },
            "outputs": [
                {
                    "data": {
                        "text/html": "0.342315684402642",
                        "text/latex": "0.342315684402642",
                        "text/markdown": "0.342315684402642",
                        "text/plain": "[1] 0.3423157"
                    },
                    "metadata": {},
                    "output_type": "display_data"
                }
            ],
            "source": "mean_queue <- program_wont_be_executed_immediately^2 / (1 - program_wont_be_executed_immediately)\nmean_queue"
        },
        {
            "cell_type": "markdown",
            "metadata": {},
            "source": "### \u0422\u0435\u043e\u0440\u0435\u0442\u0438\u0447\u0435\u0441\u043a\u0438"
        },
        {
            "cell_type": "markdown",
            "metadata": {},
            "source": "#### 1. \u0412\u0435\u0440\u043e\u044f\u0442\u043d\u043e\u0441\u0442\u044c \u0442\u043e\u0433\u043e, \u0447\u0442\u043e \u043f\u0440\u043e\u0433\u0440\u0430\u043c\u043c\u0430 \u043d\u0435 \u0431\u0443\u0434\u0435\u0442 \u0432\u044b\u043f\u043e\u043b\u043d\u0435\u043d\u0430 \u0441\u0440\u0430\u0437\u0443 \u0436\u0435, \u043a\u0430\u043a \u0442\u043e\u043b\u044c\u043a\u043e \u043e\u043d\u0430 \u043f\u043e\u0441\u0442\u0443\u043f\u0438\u043b\u0430 \u043d\u0430 \u0442\u0435\u0440\u043c\u0438\u043d\u0430\u043b\n\u043e\u043d\u0430  \u0436\u0435 \u043e\u0431\u0440\u0430\u0442\u043d\u0430\u044f \u0432\u0435\u0440\u043e\u044f\u0442\u043d\u043e\u0441\u0442\u044c \u0442\u043e\u0433\u043e, \u0447\u0442\u043e\n\u043f\u0440\u043e\u0433\u0440\u0430\u043c\u043c\u0430 **\u0431\u0443\u0434\u0435\u0442 \u0432\u044b\u043f\u043e\u043b\u043d\u0435\u043d\u0430** \u0441\u0440\u0430\u0437\u0443 \u0436\u0435, \u0442\u043e \u0435\u0441\u0442\u044c:\n$$\n1 - P_0 = 1 - (1 - \\rho) = \\rho = \\frac{\\lambda}{\\mu}\n$$\n\u0433\u0434\u0435 $\\lambda$ - \u0438\u043d\u0442\u0435\u043d\u0441\u0438\u0432\u043d\u043e\u0441\u0442\u044c, \u0441 \u043a\u043e\u0442\u043e\u0440\u043e\u0439 \u0437\u0430\u044f\u0432\u043a\u0438 \u043f\u0440\u0438\u0445\u043e\u0434\u044f\u0442:\n$$\n\\lambda = \\frac{k}{t_1} \\\\\n$$"
        },
        {
            "cell_type": "code",
            "execution_count": 31,
            "metadata": {
                "trusted": true
            },
            "outputs": [
                {
                    "data": {
                        "text/html": "0.11",
                        "text/latex": "0.11",
                        "text/markdown": "0.11",
                        "text/plain": "[1] 0.11"
                    },
                    "metadata": {},
                    "output_type": "display_data"
                }
            ],
            "source": "income_intensity <- k / t1\nincome_intensity"
        },
        {
            "cell_type": "markdown",
            "metadata": {},
            "source": "\u0430 $\\mu$ - \u0438\u043d\u0442\u0435\u043d\u0441\u0438\u0432\u043d\u043e\u0441\u0442\u044c \u043e\u0431\u0441\u043b\u0443\u0436\u0438\u0432\u0430\u043d\u0438\u044f:\n$$\n\\mu = \\frac{1}{t_2}\n$$"
        },
        {
            "cell_type": "code",
            "execution_count": 32,
            "metadata": {
                "trusted": true
            },
            "outputs": [
                {
                    "data": {
                        "text/html": "0.25",
                        "text/latex": "0.25",
                        "text/markdown": "0.25",
                        "text/plain": "[1] 0.25"
                    },
                    "metadata": {},
                    "output_type": "display_data"
                }
            ],
            "source": "process_intensity <- 1 / t2\nprocess_intensity"
        },
        {
            "cell_type": "code",
            "execution_count": 33,
            "metadata": {
                "trusted": true
            },
            "outputs": [
                {
                    "data": {
                        "text/html": "0.44",
                        "text/latex": "0.44",
                        "text/markdown": "0.44",
                        "text/plain": "[1] 0.44"
                    },
                    "metadata": {},
                    "output_type": "display_data"
                }
            ],
            "source": "program_wont_be_executed_immediately <- income_intensity / process_intensity\nprogram_wont_be_executed_immediately"
        },
        {
            "cell_type": "markdown",
            "metadata": {},
            "source": "#### 2. \u0421\u0440\u0435\u0434\u043d\u0435\u0435 \u0432\u0440\u0435\u043c\u044f \u0434\u043e \u043f\u043e\u043b\u0443\u0447\u0435\u043d\u0438\u044f \u043f\u043e\u043b\u044c\u0437\u043e\u0432\u0430\u0442\u0435\u043b\u0435\u043c \u0440\u0435\u0437\u0443\u043b\u044c\u0442\u0430\u0442\u043e\u0432 \u0440\u0435\u0430\u043b\u0438\u0437\u0430\u0446\u0438\u0438.\n\n\u041e\u043d\u043e \u0436\u0435 \u0441\u0440\u0435\u0434\u043d\u0435\u0435 \u0432\u0440\u0435\u043c\u044f \u043f\u0440\u0435\u0431\u044b\u0432\u0430\u043d\u0438\u044f \u0437\u0430\u044f\u0432\u043a\u0438 \u0432 \u0441\u0438\u0441\u0442\u0435\u043c\u0435 \u043f\u043e \u0444\u043e\u0440\u043c\u0443\u043b\u0435 \u041b\u0438\u0442\u0442\u043b\u0430:\n$$\nT_{\\text{\u0441\u0438\u0441\u0442}} = \\frac{1}{\\mu(1 - \\rho)}\n$$"
        },
        {
            "cell_type": "code",
            "execution_count": 34,
            "metadata": {
                "trusted": true
            },
            "outputs": [
                {
                    "data": {
                        "text/html": "7.14285714285714",
                        "text/latex": "7.14285714285714",
                        "text/markdown": "7.14285714285714",
                        "text/plain": "[1] 7.142857"
                    },
                    "metadata": {},
                    "output_type": "display_data"
                }
            ],
            "source": "time_to_get <- 1 / process_intensity / (1 - program_wont_be_executed_immediately)\ntime_to_get"
        },
        {
            "cell_type": "markdown",
            "metadata": {},
            "source": "#### 3. \u0421\u0440\u0435\u0434\u043d\u0435\u0435 \u043a\u043e\u043b\u0438\u0447\u0435\u0441\u0442\u0432\u043e \u043f\u0440\u043e\u0433\u0440\u0430\u043c\u043c, \u043e\u0436\u0438\u0434\u0430\u044e\u0449\u0438\u0445 \u0432\u044b\u043f\u043e\u043b\u043d\u0435\u043d\u0438\u044f \u043d\u0430 \u0441\u0435\u0440\u0432\u0435\u0440\u0435.\n\n\u041e\u043d\u0430 \u0436\u0435 \u0441\u0440\u0435\u0434\u043d\u044f\u044f \u0434\u043b\u0438\u043d\u0430 \u043e\u0447\u0435\u0440\u0435\u0434\u0438 $L_{\\text{\u043e\u0447}} = \\frac{\\rho ^ 2}{1 - \\rho}$:"
        },
        {
            "cell_type": "code",
            "execution_count": 35,
            "metadata": {
                "trusted": true
            },
            "outputs": [
                {
                    "data": {
                        "text/html": "0.345714285714286",
                        "text/latex": "0.345714285714286",
                        "text/markdown": "0.345714285714286",
                        "text/plain": "[1] 0.3457143"
                    },
                    "metadata": {},
                    "output_type": "display_data"
                }
            ],
            "source": "mean_queue <- program_wont_be_executed_immediately^2 / (1 - program_wont_be_executed_immediately)\nmean_queue"
        },
        {
            "cell_type": "markdown",
            "metadata": {},
            "source": "\u041a\u0430\u043a \u0432\u0438\u0434\u043d\u043e, \u0432\u0441\u0435 \u0437\u043d\u0430\u0447\u0435\u043d\u0438\u044f \u0441\u043e\u0448\u043b\u0438\u0441\u044c."
        }
    ],
    "metadata": {
        "kernelspec": {
            "display_name": "R",
            "language": "R",
            "name": "ir"
        },
        "language_info": {
            "codemirror_mode": "r",
            "file_extension": ".r",
            "mimetype": "text/x-r-source",
            "name": "R",
            "pygments_lexer": "r",
            "version": "4.2.2"
        }
    },
    "nbformat": 4,
    "nbformat_minor": 5
}