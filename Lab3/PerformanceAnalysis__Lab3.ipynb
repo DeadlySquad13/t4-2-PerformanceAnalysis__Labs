{
    "cells": [
        {
            "cell_type": "markdown",
            "metadata": {},
            "source": "# \u041b\u0430\u0431\u043e\u0440\u0430\u0442\u043e\u0440\u043d\u0430\u044f \u0440\u0430\u0431\u043e\u0442\u0430 3. \u041c\u043e\u0434\u0435\u043b\u044c \u043e\u0434\u043d\u043e\u0444\u0430\u0437\u043d\u043e\u0439 \u043e\u0434\u043d\u043e\u043a\u0430\u043d\u0430\u043b\u044c\u043d\u043e\u0439 \u0437\u0430\u043c\u043a\u043d\u0443\u0442\u043e\u0439 \u0441\u0438\u0441\u0442\u0435\u043c\u044b \u043e\u0431\u0441\u043b\u0443\u0436\u0438\u0432\u0430\u043d\u0438\u044f\n## \u0417\u0430\u0434\u0430\u043d\u0438\u0435 1"
        },
        {
            "cell_type": "code",
            "execution_count": null,
            "metadata": {
                "trusted": true
            },
            "outputs": [],
            "source": "variant <- 5\nset.seed(variant)\n\nk <- sample(c(4:9), 1)\n\npp1 <- runif(4)\npp2 <- runif(3)\npp3 <- runif(2)\n\np1 <- pp1 / sum(pp1)\np2 <- c(c(0), pp2 / sum(pp2))\np3 <- c(c(0, 0), pp3 / sum(pp3))\np4 <- c(0, 0, 0, 1)\n\nP <- data.frame()\n\nP <- rbind(P, p1, p2, p3, p4)\n\nrownames(P) <- c(\"p1\", \"p2\", \"p3\", \"p4\")\ncolnames(P) <- c(\"\", \"\", \"\", \"\")\n\nView(P)\n\nprint(paste(\"k =\", as.character(k)))"
        },
        {
            "cell_type": "markdown",
            "metadata": {},
            "source": "### \u0427\u0438\u0441\u043b\u0435\u043d\u043d\u043e\n\u0421\u0438\u043c\u0443\u043b\u0438\u0440\u0443\u0435\u043c \u043f\u0440\u043e\u0445\u043e\u0434 \u043f\u043e \u043c\u0430\u0442\u0440\u0438\u0446\u0435 \u043f\u0435\u0440\u0435\u0445\u043e\u0434\u043d\u044b\u0445 \u0432\u0435\u0440\u043e\u044f\u0442\u043d\u043e\u0441\u0442\u0435\u0439 \u0434\u043b\u044f \u0442\u0440\u0435\u0445 \u0441\u0446\u0435\u043d\u0430\u0440\u0438\u0435\u0432:\n1. k - 2 \u043e\u0441\u043c\u043e\u0442\u0440\u043e\u0432,\n2. k - 1 \u043e\u0441\u043c\u043e\u0442\u0440\u043e\u0432,\n3. k \u043e\u0441\u043c\u043e\u0442\u0440\u043e\u0432.\n\n\u0412\u044b\u043f\u043e\u043b\u043d\u0438\u0432 \u044d\u0442\u0443 \u043e\u043f\u0435\u0440\u0430\u0446\u0438\u044e N \u0440\u0430\u0437 \u0434\u043b\u044f \u043a\u0430\u0436\u0434\u043e\u0433\u043e \u0441\u0446\u0435\u043d\u0430\u0440\u0438\u044f, \u043f\u043e\u043b\u0443\u0447\u0438\u043c \u0442\u0440\u0438 \u0432\u0435\u043a\u0442\u043e\u0440\u0430,\n\u0441\u043e\u0434\u0435\u0440\u0436\u0430\u0449\u0438\u0435 N \u0441\u043e\u0441\u0442\u043e\u044f\u043d\u0438\u0439. \u042d\u0442\u043e \u0441\u043e\u0441\u0442\u043e\u044f\u043d\u0438\u044f, \u0432 \u043a\u043e\u0442\u043e\u0440\u044b\u0445 \u043e\u0441\u0442\u0430\u0432\u0430\u043b\u0430\u0441\u044c \u043c\u043e\u0434\u0435\u043b\u044c \u043f\u043e\u0441\u043b\u0435\n\u0441\u0438\u043c\u0443\u043b\u044f\u0446\u0438\u0438:\n$$\n  Scenario_i = \\{State_1 ... State_N\\}, i \\in \\{1, 2, 3\\}, \\\\\n  State \\in \\{S1, S2, S3, S4\\}\n$$"
        },
        {
            "cell_type": "code",
            "execution_count": null,
            "metadata": {
                "trusted": true
            },
            "outputs": [],
            "source": "# \u041f\u043e\u043b\u0443\u0447\u0430\u0435\u043c \u0437\u043d\u0430\u0447\u0435\u043d\u0438\u0435, \u0441\u043e\u043e\u0442\u0432\u0435\u0442\u0441\u0442\u0432\u0443\u044e\u0449\u0435\u0435 \u043e\u0442\u0440\u0435\u0437\u043a\u0443.\n# v - \u0441\u043b\u0443\u0447\u0430\u0439\u043d\u0430\u044f \u0432\u0435\u043b\u0438\u0447\u0438\u043d\u0430. \u0415\u0441\u043b\u0438 \u043d\u0443\u0436\u043d\u043e \u0441\u0433\u0435\u043d\u0435\u0440\u0438\u0440\u043e\u0432\u0430\u0442\u044c \u0440\u0430\u0441\u043f\u0440\u0435\u0434\u0435\u043b\u0435\u043d\u0438\u0435 \u043f\u043e `p`, \u043d\u0443\u0436\u043d\u043e\n# \u043f\u043e\u0434\u0430\u0442\u044c runif(1)\n# X - \u0432\u0435\u043b\u0438\u0447\u0438\u043d\u044b, \u0441\u043e\u043e\u0442\u0432\u0435\u0442\u0441\u0442\u0432\u0443\u044e\u0449\u0438\u0435 \u043e\u0442\u0440\u0435\u0437\u043a\u0430\u043c.\n# \u0417\u0430 \u043e\u0442\u0440\u0435\u0437\u043a\u0438 \u043e\u0442\u0432\u0435\u0447\u0430\u0435\u0442 \u043f\u0430\u0440\u0430\u043c\u0435\u0442\u0440 p, \u0445\u0440\u0430\u043d\u044f\u0449\u0438\u0439 \u043f\u043e\u0441\u043b\u0435\u0434\u043e\u0432\u0430\u0442\u0435\u043b\u044c\u043d\u043e\u0441\u0442\u044c \u0434\u043b\u0438\u043d.\nget_value_in_range <- function(v, X, p) {\n    border <- 0\n    for (i in seq_along(p)) {\n        border <- border + p[i]\n        if (v < border) {\n            return(X[i])\n        }\n    }\n}"
        },
        {
            "cell_type": "code",
            "execution_count": null,
            "metadata": {
                "trusted": true
            },
            "outputs": [],
            "source": "make_step <- function(current_state) {\n    possible_states <- P[current_state, ]\n\n    return(get_value_in_range(runif(1), 1:4, possible_states))\n}"
        },
        {
            "cell_type": "code",
            "execution_count": null,
            "metadata": {
                "trusted": true
            },
            "outputs": [],
            "source": "walk <- function(starting_state, times) {\n    if (times < 0) {\n        return(starting_state)\n    }\n\n    next_state <- make_step(starting_state)\n\n    return(walk(next_state, times - 1))\n}"
        },
        {
            "cell_type": "code",
            "execution_count": null,
            "metadata": {
                "trusted": true
            },
            "outputs": [],
            "source": "N <- 10000\ntest_walk <- function(first_state, k) {\n    results <- c()\n\n    for (i in 1:N) {\n        results <- append(results, walk(first_state, k))\n    }\n\n    return(results)\n}"
        },
        {
            "cell_type": "code",
            "execution_count": null,
            "metadata": {
                "trusted": true
            },
            "outputs": [],
            "source": "first_state <- 1 # \u0412\u044b\u0431\u0440\u0430\u043b\u0438 \u043f\u0440\u043e\u0438\u0437\u0432\u043e\u043b\u044c\u043d\u043e\u0435."
        },
        {
            "cell_type": "code",
            "execution_count": null,
            "metadata": {
                "trusted": true
            },
            "outputs": [],
            "source": "Scenario1 <- test_walk(first_state, k - 2)"
        },
        {
            "cell_type": "code",
            "execution_count": null,
            "metadata": {
                "trusted": true
            },
            "outputs": [],
            "source": "Scenario2 <- test_walk(first_state, k - 1)"
        },
        {
            "cell_type": "code",
            "execution_count": null,
            "metadata": {
                "trusted": true
            },
            "outputs": [],
            "source": "Scenario3 <- test_walk(first_state, k)"
        },
        {
            "cell_type": "markdown",
            "metadata": {},
            "source": "\u0412 \u043f\u043e\u043b\u0443\u0447\u0435\u043d\u043d\u044b\u0445 \u0441\u0446\u0435\u043d\u0430\u0440\u0438\u044f\u0445 \u043f\u043e\u0441\u0447\u0438\u0442\u0430\u0435\u043c \u0432\u0435\u0440\u043e\u044f\u0442\u043d\u043e\u0441\u0442\u0438 \u043f\u043e\u043b\u0443\u0447\u0435\u043d\u0438\u044f \u043a\u0430\u0436\u0434\u043e\u0433\u043e \u0441\u043e\u0441\u0442\u043e\u044f\u043d\u0438\u044f."
        },
        {
            "cell_type": "code",
            "execution_count": null,
            "metadata": {
                "trusted": true
            },
            "outputs": [],
            "source": "get_probability <- function(States, state) {\n    number_of_states <- length(States[States == state])\n    number_of_all_states <- length(States)\n\n    return(number_of_states / number_of_all_states)\n}"
        },
        {
            "cell_type": "code",
            "execution_count": null,
            "metadata": {
                "trusted": true
            },
            "outputs": [],
            "source": "get_probabilities_to_stay <- function(States) {\n    return(\n        unlist(\n            lapply(seq_along(P), function(state) get_probability(States, state))\n        )\n    )\n}"
        },
        {
            "cell_type": "code",
            "execution_count": null,
            "metadata": {
                "trusted": true
            },
            "outputs": [],
            "source": "Scenario1Propabilities <- get_probabilities_to_stay(Scenario1)"
        },
        {
            "cell_type": "code",
            "execution_count": null,
            "metadata": {
                "trusted": true
            },
            "outputs": [],
            "source": "Scenario2Propabilities <- get_probabilities_to_stay(Scenario2)"
        },
        {
            "cell_type": "code",
            "execution_count": null,
            "metadata": {
                "trusted": true
            },
            "outputs": [],
            "source": "Scenario3Propabilities <- get_probabilities_to_stay(Scenario3)"
        },
        {
            "cell_type": "code",
            "execution_count": null,
            "metadata": {
                "trusted": true
            },
            "outputs": [],
            "source": "results <- data.frame(\n    Scenario1Propabilities,\n    Scenario2Propabilities,\n    Scenario3Propabilities\n)\ncolnames(results) <- c(\"k - 2\", \"k - 1\", \"k\")\nrownames(results) <- rownames(P)\n\nresults"
        },
        {
            "cell_type": "markdown",
            "metadata": {},
            "source": "### \u0422\u0435\u043e\u0440\u0435\u0442\u0438\u0447\u0435\u0441\u043a\u0438"
        },
        {
            "cell_type": "code",
            "execution_count": null,
            "metadata": {
                "trusted": true
            },
            "outputs": [],
            "source": "initial_state_probabilities <- c(1, 0, 0, 0)\ntransition_matrix <- data.matrix(P)\ntransition_matrix"
        },
        {
            "cell_type": "code",
            "execution_count": null,
            "metadata": {
                "trusted": true
            },
            "outputs": [],
            "source": "if (!require(\"matrixcalc\")) {\n    install.packages(\"matrixcalc\")\n}\n\ninitial_state_probabilities %*% matrix.power(transition_matrix, k)"
        },
        {
            "cell_type": "markdown",
            "metadata": {},
            "source": "\u041a\u0430\u043a \u0432\u0438\u0434\u043d\u043e, \u0442\u0435\u043e\u0440\u0435\u0442\u0438\u0447\u0435\u0441\u043a\u0438 \u0432\u044b\u0447\u0438\u0441\u043b\u0435\u043d\u043d\u0430\u044f \u043c\u0430\u0442\u0440\u0438\u0446\u0430 \u0441 \u043d\u0435\u043a\u043e\u0442\u043e\u0440\u043e\u0439 \u0442\u043e\u0447\u043d\u043e\u0441\u0442\u044c\u044e \u0441\u043e\u0432\u043f\u0430\u0434\u0430\u0435\u0442\n\u0441\u043e \u0437\u043d\u0430\u0447\u0435\u043d\u0438\u044f\u043c\u0438, \u043f\u043e\u043b\u0443\u0447\u0435\u043d\u043d\u044b\u043c\u0438 \u0442\u0435\u043e\u0440\u0435\u0442\u0438\u0447\u0435\u0441\u043a\u0438. \u041f\u0440\u0438 \u0443\u0432\u0435\u043b\u0438\u0447\u0435\u043d\u0438\u0438 \u043a\u043e\u043b\u0438\u0447\u0435\u0441\u0442\u0432\u0430\n\u044d\u043a\u0441\u043f\u0435\u0440\u0438\u043c\u0435\u043d\u0442\u043e\u0432 $N$ \u0442\u043e\u0447\u043d\u043e\u0441\u0442\u044c \u0442\u043e\u043b\u044c\u043a\u043e \u0443\u0432\u0435\u043b\u0438\u0447\u0438\u0432\u0430\u0435\u0442\u0441\u044f."
        },
        {
            "cell_type": "markdown",
            "metadata": {},
            "source": "# \u0417\u0430\u0434\u0430\u043d\u0438\u0435 2"
        },
        {
            "cell_type": "code",
            "execution_count": 28,
            "metadata": {
                "trusted": true
            },
            "outputs": [
                {
                    "data": {
                        "text/html": "<table class=\"dataframe\">\n<caption>A data.frame: 1 \u00d7 3</caption>\n<thead>\n\t<tr><th scope=col>k</th><th scope=col>t1</th><th scope=col>t2</th></tr>\n\t<tr><th scope=col>&lt;int&gt;</th><th scope=col>&lt;dbl&gt;</th><th scope=col>&lt;int&gt;</th></tr>\n</thead>\n<tbody>\n\t<tr><td>11</td><td>50</td><td>4</td></tr>\n</tbody>\n</table>\n",
                        "text/latex": "A data.frame: 1 \u00d7 3\n\\begin{tabular}{lll}\n k & t1 & t2\\\\\n <int> & <dbl> & <int>\\\\\n\\hline\n\t 11 & 50 & 4\\\\\n\\end{tabular}\n",
                        "text/markdown": "\nA data.frame: 1 \u00d7 3\n\n| k &lt;int&gt; | t1 &lt;dbl&gt; | t2 &lt;int&gt; |\n|---|---|---|\n| 11 | 50 | 4 |\n\n",
                        "text/plain": "  k  t1 t2\n1 11 50 4 "
                    },
                    "metadata": {},
                    "output_type": "display_data"
                }
            ],
            "source": "variant <- 5\nset.seed(variant)\nk <- sample(c(10:25), 1)\n# \u0418\u043d\u0442\u0435\u0441\u0438\u0432\u043d\u043e\u0441\u0442\u044c \u043f\u043e\u043b\u0443\u0447\u0430\u043b\u0430\u0441\u044c \u0431\u043e\u043b\u044c\u0448\u0435 1, \u043f\u043e\u044d\u0442\u043e\u043c\u0443 \u0437\u0430\u043c\u0435\u043d\u0438\u043b \u0437\u043d\u0430\u0447\u0435\u043d\u0438\u0435.\n# t1 <- sample(c(14:20), 1)\nt1 <- 50\nt2 <- sample(c(2:5), 1)\nView(data.frame(k, t1, t2))"
        },
        {
            "cell_type": "markdown",
            "metadata": {},
            "source": "### \u0427\u0438\u0441\u043b\u0435\u043d\u043d\u043e"
        },
        {
            "cell_type": "code",
            "execution_count": null,
            "metadata": {
                "trusted": true
            },
            "outputs": [],
            "source": "if (!require(\"simmer\")) {\n    install.packages(\"simmer\")\n}\nlibrary(simmer)\n\nset.seed(42)\n\nenv <- simmer(\"SuperDuperSim\")\nenv"
        },
        {
            "cell_type": "code",
            "execution_count": null,
            "metadata": {
                "trusted": true
            },
            "outputs": [],
            "source": "programmers <- trajectory(\"programmers' path\") %>%\n    ## add an intake activity\n    seize(\"server\", 1) %>%\n    timeout(function() rnorm(1, 5)) %>%\n    release(\"server\", 1)"
        },
        {
            "cell_type": "code",
            "execution_count": null,
            "metadata": {
                "trusted": true
            },
            "outputs": [],
            "source": "env %>%\n    add_resource(\"server\", 1) %>%\n    add_generator(\"programmers\", programmers, function() {\n        return(10)\n    })\n# , function() rnorm(1, 0.1, 2))"
        },
        {
            "cell_type": "code",
            "execution_count": null,
            "metadata": {
                "trusted": true
            },
            "outputs": [],
            "source": "env %>%\n    run(50) %>%\n    now()\nenv %>% peek(3)"
        },
        {
            "cell_type": "code",
            "execution_count": null,
            "metadata": {
                "trusted": true
            },
            "outputs": [],
            "source": "env %>% get_n_generated(\"programmers\")"
        },
        {
            "cell_type": "code",
            "execution_count": null,
            "metadata": {
                "trusted": true
            },
            "outputs": [],
            "source": "env %>% get_queue_count(\"server\")"
        },
        {
            "cell_type": "code",
            "execution_count": null,
            "metadata": {
                "trusted": true
            },
            "outputs": [],
            "source": "env %>% get_mon_resources()"
        },
        {
            "cell_type": "markdown",
            "metadata": {},
            "source": "### \u0422\u0435\u043e\u0440\u0435\u0442\u0438\u0447\u0435\u0441\u043a\u0438"
        },
        {
            "cell_type": "markdown",
            "metadata": {},
            "source": "#### 1. \u0412\u0435\u0440\u043e\u044f\u0442\u043d\u043e\u0441\u0442\u044c \u0442\u043e\u0433\u043e, \u0447\u0442\u043e \u043f\u0440\u043e\u0433\u0440\u0430\u043c\u043c\u0430 \u043d\u0435 \u0431\u0443\u0434\u0435\u0442 \u0432\u044b\u043f\u043e\u043b\u043d\u0435\u043d\u0430 \u0441\u0440\u0430\u0437\u0443 \u0436\u0435, \u043a\u0430\u043a \u0442\u043e\u043b\u044c\u043a\u043e\n\u043e\u043d\u0430 \u043f\u043e\u0441\u0442\u0443\u043f\u0438\u043b\u0430 \u043d\u0430 \u0442\u0435\u0440\u043c\u0438\u043d\u0430\u043b - \u043e\u043d\u0430  \u0436\u0435 \u043e\u0431\u0440\u0430\u0442\u043d\u0430\u044f \u0432\u0435\u0440\u043e\u044f\u0442\u043d\u043e\u0441\u0442\u044c \u0442\u043e\u0433\u043e, \u0447\u0442\u043e\n\u043f\u0440\u043e\u0433\u0440\u0430\u043c\u043c\u0430 **\u0431\u0443\u0434\u0435\u0442 \u0432\u044b\u043f\u043e\u043b\u043d\u0435\u043d\u0430** \u0441\u0440\u0430\u0437\u0443 \u0436\u0435, \u0442\u043e \u0435\u0441\u0442\u044c:\n$$\n1 - P_0 = 1 - (1 - \\rho) = \\rho = \\frac{\\lambda}{\\mu}\n$$\n\u0433\u0434\u0435 $\\lambda$ - \u0438\u043d\u0442\u0435\u043d\u0441\u0438\u0432\u043d\u043e\u0441\u0442\u044c, \u0441 \u043a\u043e\u0442\u043e\u0440\u043e\u0439 \u0437\u0430\u044f\u0432\u043a\u0438 \u043f\u0440\u0438\u0445\u043e\u0434\u044f\u0442:\n$$\n\\lambda = \\frac{k}{t_1} \\\\\n$$"
        },
        {
            "cell_type": "code",
            "execution_count": 29,
            "metadata": {
                "trusted": true
            },
            "outputs": [
                {
                    "data": {
                        "text/html": "0.22",
                        "text/latex": "0.22",
                        "text/markdown": "0.22",
                        "text/plain": "[1] 0.22"
                    },
                    "metadata": {},
                    "output_type": "display_data"
                }
            ],
            "source": "income_intensity <- k / t1\nincome_intensity"
        },
        {
            "cell_type": "markdown",
            "metadata": {},
            "source": "\u0430 $\\mu$ - \u0438\u043d\u0442\u0435\u043d\u0441\u0438\u0432\u043d\u043e\u0441\u0442\u044c \u043e\u0431\u0441\u043b\u0443\u0436\u0438\u0432\u0430\u043d\u0438\u044f:\n$$\n\\mu = \\frac{1}{t_2}\n$$"
        },
        {
            "cell_type": "code",
            "execution_count": 30,
            "metadata": {
                "trusted": true
            },
            "outputs": [
                {
                    "data": {
                        "text/html": "0.25",
                        "text/latex": "0.25",
                        "text/markdown": "0.25",
                        "text/plain": "[1] 0.25"
                    },
                    "metadata": {},
                    "output_type": "display_data"
                }
            ],
            "source": "process_intensity <- 1 / t2\nprocess_intensity"
        },
        {
            "cell_type": "code",
            "execution_count": 31,
            "metadata": {
                "trusted": true
            },
            "outputs": [
                {
                    "data": {
                        "text/html": "0.88",
                        "text/latex": "0.88",
                        "text/markdown": "0.88",
                        "text/plain": "[1] 0.88"
                    },
                    "metadata": {},
                    "output_type": "display_data"
                }
            ],
            "source": "program_wont_be_executed_immediately <- income_intensity / process_intensity\nprogram_wont_be_executed_immediately"
        },
        {
            "cell_type": "markdown",
            "metadata": {},
            "source": "#### 2. \u0421\u0440\u0435\u0434\u043d\u0435\u0435 \u0432\u0440\u0435\u043c\u044f \u0434\u043e \u043f\u043e\u043b\u0443\u0447\u0435\u043d\u0438\u044f \u043f\u043e\u043b\u044c\u0437\u043e\u0432\u0430\u0442\u0435\u043b\u0435\u043c \u0440\u0435\u0437\u0443\u043b\u044c\u0442\u0430\u0442\u043e\u0432 \u0440\u0435\u0430\u043b\u0438\u0437\u0430\u0446\u0438\u0438.\n\n\u041e\u043d\u043e \u0436\u0435 \u0441\u0440\u0435\u0434\u043d\u0435\u0435 \u0432\u0440\u0435\u043c\u044f \u043f\u0440\u0435\u0431\u044b\u0432\u0430\u043d\u0438\u044f \u0437\u0430\u044f\u0432\u043a\u0438 \u0432 \u0441\u0438\u0441\u0442\u0435\u043c\u0435 \u043f\u043e \u0444\u043e\u0440\u043c\u0443\u043b\u0435 \u041b\u0438\u0442\u0442\u043b\u0430:\n$$\nT_{\\text{\u0441\u0438\u0441\u0442}} = \\frac{1}{\\mu(1 - \\rho)}\n$$"
        },
        {
            "cell_type": "code",
            "execution_count": 32,
            "metadata": {
                "trusted": true
            },
            "outputs": [
                {
                    "data": {
                        "text/html": "33.3333333333333",
                        "text/latex": "33.3333333333333",
                        "text/markdown": "33.3333333333333",
                        "text/plain": "[1] 33.33333"
                    },
                    "metadata": {},
                    "output_type": "display_data"
                }
            ],
            "source": "time_to_get <- 1 / process_intensity / (1 - program_wont_be_executed_immediately)\ntime_to_get"
        },
        {
            "cell_type": "markdown",
            "metadata": {},
            "source": "#### 3. \u0421\u0440\u0435\u0434\u043d\u0435\u0435 \u043a\u043e\u043b\u0438\u0447\u0435\u0441\u0442\u0432\u043e \u043f\u0440\u043e\u0433\u0440\u0430\u043c\u043c, \u043e\u0436\u0438\u0434\u0430\u044e\u0449\u0438\u0445 \u0432\u044b\u043f\u043e\u043b\u043d\u0435\u043d\u0438\u044f \u043d\u0430 \u0441\u0435\u0440\u0432\u0435\u0440\u0435.\n\n\u041e\u043d\u0430 \u0436\u0435 \u0441\u0440\u0435\u0434\u043d\u044f\u044f \u0434\u043b\u0438\u043d\u0430 \u043e\u0447\u0435\u0440\u0435\u0434\u0438 $L_{\\text{\u043e\u0447}} = \\frac{\\rho ^ 2}{1 - \\rho}$:"
        },
        {
            "cell_type": "code",
            "execution_count": 33,
            "metadata": {
                "trusted": true
            },
            "outputs": [
                {
                    "data": {
                        "text/html": "6.45333333333333",
                        "text/latex": "6.45333333333333",
                        "text/markdown": "6.45333333333333",
                        "text/plain": "[1] 6.453333"
                    },
                    "metadata": {},
                    "output_type": "display_data"
                }
            ],
            "source": "mean_queue <- program_wont_be_executed_immediately^2 / (1 - program_wont_be_executed_immediately)\nmean_queue"
        }
    ],
    "metadata": {
        "kernelspec": {
            "display_name": "R",
            "language": "R",
            "name": "ir"
        },
        "language_info": {
            "codemirror_mode": "r",
            "file_extension": ".r",
            "mimetype": "text/x-r-source",
            "name": "R",
            "pygments_lexer": "r",
            "version": "4.2.2"
        }
    },
    "nbformat": 4,
    "nbformat_minor": 5
}