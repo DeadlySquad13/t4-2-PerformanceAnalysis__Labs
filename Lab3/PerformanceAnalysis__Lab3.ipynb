{
    "cells": [
        {
            "cell_type": "markdown",
            "metadata": {},
            "source": "# \u041b\u0430\u0431\u043e\u0440\u0430\u0442\u043e\u0440\u043d\u0430\u044f \u0440\u0430\u0431\u043e\u0442\u0430 3. \u041c\u043e\u0434\u0435\u043b\u044c \u043e\u0434\u043d\u043e\u0444\u0430\u0437\u043d\u043e\u0439 \u043e\u0434\u043d\u043e\u043a\u0430\u043d\u0430\u043b\u044c\u043d\u043e\u0439 \u0437\u0430\u043c\u043a\u043d\u0443\u0442\u043e\u0439 \u0441\u0438\u0441\u0442\u0435\u043c\u044b \u043e\u0431\u0441\u043b\u0443\u0436\u0438\u0432\u0430\u043d\u0438\u044f\n## \u0417\u0430\u0434\u0430\u043d\u0438\u0435 1"
        },
        {
            "cell_type": "code",
            "execution_count": null,
            "metadata": {
                "trusted": true
            },
            "outputs": [],
            "source": "variant <- 5\nset.seed(variant)\n\nk <- sample(c(4:9), 1)\n\npp1 <- runif(4)\npp2 <- runif(3)\npp3 <- runif(2)\n\np1 <- pp1 / sum(pp1)\np2 <- c(c(0), pp2 / sum(pp2))\np3 <- c(c(0, 0), pp3 / sum(pp3))\np4 <- c(0, 0, 0, 1)\n\nP <- data.frame()\n\nP <- rbind(P, p1, p2, p3, p4)\n\nrownames(P) <- c(\"p1\", \"p2\", \"p3\", \"p4\")\ncolnames(P) <- c(\"\", \"\", \"\", \"\")\n\nView(P)\n\nprint(paste(\"k =\", as.character(k)))"
        },
        {
            "cell_type": "markdown",
            "metadata": {},
            "source": "### \u0413\u0440\u0430\u0444 \u0441\u043e\u0441\u0442\u043e\u044f\u043d\u0438\u0439\n\u0421 \u0442\u043e\u0447\u043d\u043e\u0441\u0442\u044c\u044e \u0434\u043e \u0432\u0442\u043e\u0440\u043e\u0433\u043e \u0437\u043d\u0430\u043a\u0430 \u043f\u043e\u0441\u043b\u0435 \u0437\u0430\u043f\u044f\u0442\u043e\u0439\n![graph](./TransitionMatrix_graph--dot.png)"
        },
        {
            "cell_type": "markdown",
            "metadata": {},
            "source": "### \u0427\u0438\u0441\u043b\u0435\u043d\u043d\u043e\n\u0421\u0438\u043c\u0443\u043b\u0438\u0440\u0443\u0435\u043c \u043f\u0440\u043e\u0445\u043e\u0434 \u043f\u043e \u043c\u0430\u0442\u0440\u0438\u0446\u0435 \u043f\u0435\u0440\u0435\u0445\u043e\u0434\u043d\u044b\u0445 \u0432\u0435\u0440\u043e\u044f\u0442\u043d\u043e\u0441\u0442\u0435\u0439 \u0434\u043b\u044f \u0442\u0440\u0435\u0445 \u0441\u0446\u0435\u043d\u0430\u0440\u0438\u0435\u0432:\n1. k - 2 \u043e\u0441\u043c\u043e\u0442\u0440\u043e\u0432,\n2. k - 1 \u043e\u0441\u043c\u043e\u0442\u0440\u043e\u0432,\n3. k \u043e\u0441\u043c\u043e\u0442\u0440\u043e\u0432.\n\n\u0412\u044b\u043f\u043e\u043b\u043d\u0438\u0432 \u044d\u0442\u0443 \u043e\u043f\u0435\u0440\u0430\u0446\u0438\u044e N \u0440\u0430\u0437 \u0434\u043b\u044f \u043a\u0430\u0436\u0434\u043e\u0433\u043e \u0441\u0446\u0435\u043d\u0430\u0440\u0438\u044f, \u043f\u043e\u043b\u0443\u0447\u0438\u043c \u0442\u0440\u0438 \u0432\u0435\u043a\u0442\u043e\u0440\u0430,\n\u0441\u043e\u0434\u0435\u0440\u0436\u0430\u0449\u0438\u0435 N \u0441\u043e\u0441\u0442\u043e\u044f\u043d\u0438\u0439. \u042d\u0442\u043e \u0441\u043e\u0441\u0442\u043e\u044f\u043d\u0438\u044f, \u0432 \u043a\u043e\u0442\u043e\u0440\u044b\u0445 \u043e\u0441\u0442\u0430\u0432\u0430\u043b\u0430\u0441\u044c \u043c\u043e\u0434\u0435\u043b\u044c \u043f\u043e\u0441\u043b\u0435\n\u0441\u0438\u043c\u0443\u043b\u044f\u0446\u0438\u0438:\n$$\n  Scenario_i = \\{State_1 ... State_N\\}, i \\in \\{1, 2, 3\\}, \\\\\n  State \\in \\{S1, S2, S3, S4\\}\n$$"
        },
        {
            "cell_type": "code",
            "execution_count": null,
            "metadata": {
                "trusted": true
            },
            "outputs": [],
            "source": "# \u041f\u043e\u043b\u0443\u0447\u0430\u0435\u043c \u0437\u043d\u0430\u0447\u0435\u043d\u0438\u0435, \u0441\u043e\u043e\u0442\u0432\u0435\u0442\u0441\u0442\u0432\u0443\u044e\u0449\u0435\u0435 \u043e\u0442\u0440\u0435\u0437\u043a\u0443.\n# v - \u0441\u043b\u0443\u0447\u0430\u0439\u043d\u0430\u044f \u0432\u0435\u043b\u0438\u0447\u0438\u043d\u0430. \u0415\u0441\u043b\u0438 \u043d\u0443\u0436\u043d\u043e \u0441\u0433\u0435\u043d\u0435\u0440\u0438\u0440\u043e\u0432\u0430\u0442\u044c \u0440\u0430\u0441\u043f\u0440\u0435\u0434\u0435\u043b\u0435\u043d\u0438\u0435 \u043f\u043e `p`, \u043d\u0443\u0436\u043d\u043e\n# \u043f\u043e\u0434\u0430\u0442\u044c runif(1)\n# X - \u0432\u0435\u043b\u0438\u0447\u0438\u043d\u044b, \u0441\u043e\u043e\u0442\u0432\u0435\u0442\u0441\u0442\u0432\u0443\u044e\u0449\u0438\u0435 \u043e\u0442\u0440\u0435\u0437\u043a\u0430\u043c.\n# \u0417\u0430 \u043e\u0442\u0440\u0435\u0437\u043a\u0438 \u043e\u0442\u0432\u0435\u0447\u0430\u0435\u0442 \u043f\u0430\u0440\u0430\u043c\u0435\u0442\u0440 p, \u0445\u0440\u0430\u043d\u044f\u0449\u0438\u0439 \u043f\u043e\u0441\u043b\u0435\u0434\u043e\u0432\u0430\u0442\u0435\u043b\u044c\u043d\u043e\u0441\u0442\u044c \u0434\u043b\u0438\u043d.\nget_value_in_range <- function(v, X, p) {\n    border <- 0\n    for (i in seq_along(p)) {\n        border <- border + p[i]\n        if (v < border) {\n            return(X[i])\n        }\n    }\n}"
        },
        {
            "cell_type": "code",
            "execution_count": null,
            "metadata": {
                "trusted": true
            },
            "outputs": [],
            "source": "make_step <- function(current_state) {\n    possible_states <- P[current_state, ]\n\n    return(get_value_in_range(runif(1), 1:4, possible_states))\n}"
        },
        {
            "cell_type": "code",
            "execution_count": null,
            "metadata": {
                "trusted": true
            },
            "outputs": [],
            "source": "walk <- function(starting_state, times) {\n    if (times == 0) {\n        return(starting_state)\n    }\n\n    next_state <- make_step(starting_state)\n\n    return(walk(next_state, times - 1))\n}"
        },
        {
            "cell_type": "code",
            "execution_count": null,
            "metadata": {
                "trusted": true
            },
            "outputs": [],
            "source": "N <- 10000\ntest_walk <- function(first_state, k) {\n    results <- c()\n\n    for (i in 1:N) {\n        results <- append(results, walk(first_state, k))\n    }\n\n    return(results)\n}"
        },
        {
            "cell_type": "code",
            "execution_count": null,
            "metadata": {
                "trusted": true
            },
            "outputs": [],
            "source": "first_state <- 1 # \u0412\u044b\u0431\u0440\u0430\u043b\u0438 \u043f\u0440\u043e\u0438\u0437\u0432\u043e\u043b\u044c\u043d\u043e\u0435."
        },
        {
            "cell_type": "code",
            "execution_count": null,
            "metadata": {
                "trusted": true
            },
            "outputs": [],
            "source": "Scenario1 <- test_walk(first_state, k - 2)"
        },
        {
            "cell_type": "code",
            "execution_count": null,
            "metadata": {
                "trusted": true
            },
            "outputs": [],
            "source": "Scenario2 <- test_walk(first_state, k - 1)"
        },
        {
            "cell_type": "code",
            "execution_count": null,
            "metadata": {
                "trusted": true
            },
            "outputs": [],
            "source": "Scenario3 <- test_walk(first_state, k)"
        },
        {
            "cell_type": "markdown",
            "metadata": {},
            "source": "\u0412 \u043f\u043e\u043b\u0443\u0447\u0435\u043d\u043d\u044b\u0445 \u0441\u0446\u0435\u043d\u0430\u0440\u0438\u044f\u0445 \u043f\u043e\u0441\u0447\u0438\u0442\u0430\u0435\u043c \u0432\u0435\u0440\u043e\u044f\u0442\u043d\u043e\u0441\u0442\u0438 \u043f\u043e\u043b\u0443\u0447\u0435\u043d\u0438\u044f \u043a\u0430\u0436\u0434\u043e\u0433\u043e \u0441\u043e\u0441\u0442\u043e\u044f\u043d\u0438\u044f."
        },
        {
            "cell_type": "code",
            "execution_count": null,
            "metadata": {
                "trusted": true
            },
            "outputs": [],
            "source": "get_probability <- function(States, state) {\n    number_of_states <- length(States[States == state])\n    number_of_all_states <- length(States)\n\n    return(number_of_states / number_of_all_states)\n}"
        },
        {
            "cell_type": "code",
            "execution_count": null,
            "metadata": {
                "trusted": true
            },
            "outputs": [],
            "source": "get_probabilities_to_stay <- function(States) {\n    return(\n        unlist(\n            lapply(seq_along(P), function(state) get_probability(States, state))\n        )\n    )\n}"
        },
        {
            "cell_type": "code",
            "execution_count": null,
            "metadata": {
                "trusted": true
            },
            "outputs": [],
            "source": "Scenario1Propabilities <- get_probabilities_to_stay(Scenario1)"
        },
        {
            "cell_type": "code",
            "execution_count": null,
            "metadata": {
                "trusted": true
            },
            "outputs": [],
            "source": "Scenario2Propabilities <- get_probabilities_to_stay(Scenario2)"
        },
        {
            "cell_type": "code",
            "execution_count": null,
            "metadata": {
                "trusted": true
            },
            "outputs": [],
            "source": "Scenario3Propabilities <- get_probabilities_to_stay(Scenario3)"
        },
        {
            "cell_type": "code",
            "execution_count": null,
            "metadata": {
                "trusted": true
            },
            "outputs": [],
            "source": "results <- data.frame(\n    Scenario1Propabilities,\n    Scenario2Propabilities,\n    Scenario3Propabilities\n)\ncolnames(results) <- c(\"k - 2\", \"k - 1\", \"k\")\nrownames(results) <- rownames(P)\n\nresults"
        },
        {
            "cell_type": "markdown",
            "metadata": {},
            "source": "### \u0422\u0435\u043e\u0440\u0435\u0442\u0438\u0447\u0435\u0441\u043a\u0438"
        },
        {
            "cell_type": "code",
            "execution_count": null,
            "metadata": {
                "trusted": true
            },
            "outputs": [],
            "source": "initial_state_probabilities <- c(1, 0, 0, 0)\ntransition_matrix <- data.matrix(P)\ntransition_matrix"
        },
        {
            "cell_type": "code",
            "execution_count": null,
            "metadata": {
                "trusted": true
            },
            "outputs": [],
            "source": "if (!require(\"matrixcalc\")) {\n    install.packages(\"matrixcalc\")\n}\n\ninitial_state_probabilities %*% matrix.power(transition_matrix, k)"
        },
        {
            "cell_type": "markdown",
            "metadata": {},
            "source": "\u041a\u0430\u043a \u0432\u0438\u0434\u043d\u043e, \u0442\u0435\u043e\u0440\u0435\u0442\u0438\u0447\u0435\u0441\u043a\u0438 \u0432\u044b\u0447\u0438\u0441\u043b\u0435\u043d\u043d\u0430\u044f \u043c\u0430\u0442\u0440\u0438\u0446\u0430 \u0441 \u043d\u0435\u043a\u043e\u0442\u043e\u0440\u043e\u0439 \u0442\u043e\u0447\u043d\u043e\u0441\u0442\u044c\u044e \u0441\u043e\u0432\u043f\u0430\u0434\u0430\u0435\u0442\n\u0441\u043e \u0437\u043d\u0430\u0447\u0435\u043d\u0438\u044f\u043c\u0438, \u043f\u043e\u043b\u0443\u0447\u0435\u043d\u043d\u044b\u043c\u0438 \u0442\u0435\u043e\u0440\u0435\u0442\u0438\u0447\u0435\u0441\u043a\u0438. \u041f\u0440\u0438 \u0443\u0432\u0435\u043b\u0438\u0447\u0435\u043d\u0438\u0438 \u043a\u043e\u043b\u0438\u0447\u0435\u0441\u0442\u0432\u0430\n\u044d\u043a\u0441\u043f\u0435\u0440\u0438\u043c\u0435\u043d\u0442\u043e\u0432 $N$ \u0442\u043e\u0447\u043d\u043e\u0441\u0442\u044c \u0442\u043e\u043b\u044c\u043a\u043e \u0443\u0432\u0435\u043b\u0438\u0447\u0438\u0432\u0430\u0435\u0442\u0441\u044f."
        },
        {
            "cell_type": "markdown",
            "metadata": {},
            "source": "# \u0417\u0430\u0434\u0430\u043d\u0438\u0435 2"
        },
        {
            "cell_type": "code",
            "execution_count": 76,
            "metadata": {
                "trusted": true
            },
            "outputs": [
                {
                    "data": {
                        "text/html": "<table class=\"dataframe\">\n<caption>A data.frame: 1 \u00d7 3</caption>\n<thead>\n\t<tr><th scope=col>k</th><th scope=col>t1</th><th scope=col>t2</th></tr>\n\t<tr><th scope=col>&lt;int&gt;</th><th scope=col>&lt;dbl&gt;</th><th scope=col>&lt;int&gt;</th></tr>\n</thead>\n<tbody>\n\t<tr><td>11</td><td>50</td><td>4</td></tr>\n</tbody>\n</table>\n",
                        "text/latex": "A data.frame: 1 \u00d7 3\n\\begin{tabular}{lll}\n k & t1 & t2\\\\\n <int> & <dbl> & <int>\\\\\n\\hline\n\t 11 & 50 & 4\\\\\n\\end{tabular}\n",
                        "text/markdown": "\nA data.frame: 1 \u00d7 3\n\n| k &lt;int&gt; | t1 &lt;dbl&gt; | t2 &lt;int&gt; |\n|---|---|---|\n| 11 | 50 | 4 |\n\n",
                        "text/plain": "  k  t1 t2\n1 11 50 4 "
                    },
                    "metadata": {},
                    "output_type": "display_data"
                }
            ],
            "source": "variant <- 5\nset.seed(variant)\nk <- sample(c(10:25), 1)\n# \u0418\u043d\u0442\u0435\u0441\u0438\u0432\u043d\u043e\u0441\u0442\u044c \u043f\u043e\u043b\u0443\u0447\u0430\u043b\u0430\u0441\u044c \u0431\u043e\u043b\u044c\u0448\u0435 1, \u043f\u043e\u044d\u0442\u043e\u043c\u0443 \u0437\u0430\u043c\u0435\u043d\u0438\u043b \u0437\u043d\u0430\u0447\u0435\u043d\u0438\u0435.\n# t1 <- sample(c(14:20), 1)\nt1 <- 50\nt2 <- sample(c(2:5), 1)\nView(data.frame(k, t1, t2))"
        },
        {
            "cell_type": "markdown",
            "metadata": {},
            "source": "### \u0427\u0438\u0441\u043b\u0435\u043d\u043d\u043e"
        },
        {
            "cell_type": "markdown",
            "metadata": {},
            "source": "#### 1. \u0412\u0435\u0440\u043e\u044f\u0442\u043d\u043e\u0441\u0442\u044c \u0442\u043e\u0433\u043e, \u0447\u0442\u043e \u043f\u0440\u043e\u0433\u0440\u0430\u043c\u043c\u0430 \u043d\u0435 \u0431\u0443\u0434\u0435\u0442 \u0432\u044b\u043f\u043e\u043b\u043d\u0435\u043d\u0430 \u0441\u0440\u0430\u0437\u0443 \u0436\u0435, \u043a\u0430\u043a \u0442\u043e\u043b\u044c\u043a\u043e \u043e\u043d\u0430 \u043f\u043e\u0441\u0442\u0443\u043f\u0438\u043b\u0430 \u043d\u0430 \u0442\u0435\u0440\u043c\u0438\u043d\u0430\u043b\n\u043e\u043d\u0430  \u0436\u0435 \u043e\u0431\u0440\u0430\u0442\u043d\u0430\u044f \u0432\u0435\u0440\u043e\u044f\u0442\u043d\u043e\u0441\u0442\u044c \u0442\u043e\u0433\u043e, \u0447\u0442\u043e\n\u043f\u0440\u043e\u0433\u0440\u0430\u043c\u043c\u0430 **\u0431\u0443\u0434\u0435\u0442 \u0432\u044b\u043f\u043e\u043b\u043d\u0435\u043d\u0430** \u0441\u0440\u0430\u0437\u0443 \u0436\u0435, \u0442\u043e \u0435\u0441\u0442\u044c:"
        },
        {
            "cell_type": "code",
            "execution_count": 77,
            "metadata": {
                "trusted": true
            },
            "outputs": [
                {
                    "data": {
                        "text/plain": "simmer environment: SuperDuperSim | now: 0 | next: \n{ Monitor: in memory }"
                    },
                    "metadata": {},
                    "output_type": "display_data"
                }
            ],
            "source": "if (!require(\"simmer\")) {\n    install.packages(\"simmer\")\n}\nlibrary(simmer)\n\nenv <- simmer(\"SuperDuperSim\")\nenv"
        },
        {
            "cell_type": "code",
            "execution_count": 78,
            "metadata": {
                "trusted": true
            },
            "outputs": [],
            "source": "programmers <- trajectory(\"programmers' path\") %>%\n    ## add an intake activity\n    seize(\"server\", 1) %>%\n    timeout(function() rexp(1, 1 / t2)) %>%\n    release(\"server\", 1)"
        },
        {
            "cell_type": "code",
            "execution_count": 79,
            "metadata": {
                "trusted": true
            },
            "outputs": [
                {
                    "data": {
                        "text/plain": "simmer environment: SuperDuperSim | now: 0 | next: 0\n{ Monitor: in memory }\n{ Resource: server | monitored: TRUE | server status: 0(1) | queue status: 0(Inf) }\n{ Source: programmers | monitored: 1 | n_generated: 0 }"
                    },
                    "metadata": {},
                    "output_type": "display_data"
                }
            ],
            "source": "env %>%\n    add_resource(\"server\", 1) %>%\n    add_generator(\"programmers\", programmers, function() rexp(1, k / t1))\n# , function() rnorm(1, 0.1, 2))"
        },
        {
            "cell_type": "code",
            "execution_count": 80,
            "metadata": {
                "trusted": true
            },
            "outputs": [
                {
                    "data": {
                        "text/plain": "simmer environment: SuperDuperSim | now: 500 | next: 502.279847724964\n{ Monitor: in memory }\n{ Resource: server | monitored: TRUE | server status: 1(1) | queue status: 2(Inf) }\n{ Source: programmers | monitored: 1 | n_generated: 109 }"
                    },
                    "metadata": {},
                    "output_type": "display_data"
                }
            ],
            "source": "env %>%\n    reset() %>%\n    run(500)"
        },
        {
            "cell_type": "code",
            "execution_count": 82,
            "metadata": {
                "trusted": true
            },
            "outputs": [
                {
                    "data": {
                        "text/html": "<table class=\"dataframe\">\n<caption>A data.frame: 213 \u00d7 9</caption>\n<thead>\n\t<tr><th scope=col>resource</th><th scope=col>time</th><th scope=col>server</th><th scope=col>queue</th><th scope=col>capacity</th><th scope=col>queue_size</th><th scope=col>system</th><th scope=col>limit</th><th scope=col>replication</th></tr>\n\t<tr><th scope=col>&lt;chr&gt;</th><th scope=col>&lt;dbl&gt;</th><th scope=col>&lt;int&gt;</th><th scope=col>&lt;int&gt;</th><th scope=col>&lt;dbl&gt;</th><th scope=col>&lt;dbl&gt;</th><th scope=col>&lt;int&gt;</th><th scope=col>&lt;dbl&gt;</th><th scope=col>&lt;int&gt;</th></tr>\n</thead>\n<tbody>\n\t<tr><td>server</td><td> 0.3297179</td><td>1</td><td>0</td><td>1</td><td>Inf</td><td>1</td><td>Inf</td><td>1</td></tr>\n\t<tr><td>server</td><td> 0.5533978</td><td>0</td><td>0</td><td>1</td><td>Inf</td><td>0</td><td>Inf</td><td>1</td></tr>\n\t<tr><td>server</td><td> 2.1575130</td><td>1</td><td>0</td><td>1</td><td>Inf</td><td>1</td><td>Inf</td><td>1</td></tr>\n\t<tr><td>server</td><td> 2.4637538</td><td>0</td><td>0</td><td>1</td><td>Inf</td><td>0</td><td>Inf</td><td>1</td></tr>\n\t<tr><td>server</td><td> 4.9569239</td><td>1</td><td>0</td><td>1</td><td>Inf</td><td>1</td><td>Inf</td><td>1</td></tr>\n\t<tr><td>server</td><td> 8.9349370</td><td>1</td><td>1</td><td>1</td><td>Inf</td><td>2</td><td>Inf</td><td>1</td></tr>\n\t<tr><td>server</td><td>12.9621081</td><td>1</td><td>0</td><td>1</td><td>Inf</td><td>1</td><td>Inf</td><td>1</td></tr>\n\t<tr><td>server</td><td>14.5006801</td><td>0</td><td>0</td><td>1</td><td>Inf</td><td>0</td><td>Inf</td><td>1</td></tr>\n\t<tr><td>server</td><td>14.5860741</td><td>1</td><td>0</td><td>1</td><td>Inf</td><td>1</td><td>Inf</td><td>1</td></tr>\n\t<tr><td>server</td><td>15.2519374</td><td>1</td><td>1</td><td>1</td><td>Inf</td><td>2</td><td>Inf</td><td>1</td></tr>\n\t<tr><td>server</td><td>18.8497301</td><td>1</td><td>2</td><td>1</td><td>Inf</td><td>3</td><td>Inf</td><td>1</td></tr>\n\t<tr><td>server</td><td>19.0367616</td><td>1</td><td>3</td><td>1</td><td>Inf</td><td>4</td><td>Inf</td><td>1</td></tr>\n\t<tr><td>server</td><td>20.5193688</td><td>1</td><td>2</td><td>1</td><td>Inf</td><td>3</td><td>Inf</td><td>1</td></tr>\n\t<tr><td>server</td><td>22.6446885</td><td>1</td><td>3</td><td>1</td><td>Inf</td><td>4</td><td>Inf</td><td>1</td></tr>\n\t<tr><td>server</td><td>28.4804578</td><td>1</td><td>4</td><td>1</td><td>Inf</td><td>5</td><td>Inf</td><td>1</td></tr>\n\t<tr><td>server</td><td>34.3007704</td><td>1</td><td>5</td><td>1</td><td>Inf</td><td>6</td><td>Inf</td><td>1</td></tr>\n\t<tr><td>server</td><td>34.4224660</td><td>1</td><td>4</td><td>1</td><td>Inf</td><td>5</td><td>Inf</td><td>1</td></tr>\n\t<tr><td>server</td><td>37.1741892</td><td>1</td><td>5</td><td>1</td><td>Inf</td><td>6</td><td>Inf</td><td>1</td></tr>\n\t<tr><td>server</td><td>38.9064104</td><td>1</td><td>6</td><td>1</td><td>Inf</td><td>7</td><td>Inf</td><td>1</td></tr>\n\t<tr><td>server</td><td>41.4467528</td><td>1</td><td>5</td><td>1</td><td>Inf</td><td>6</td><td>Inf</td><td>1</td></tr>\n\t<tr><td>server</td><td>43.7956275</td><td>1</td><td>4</td><td>1</td><td>Inf</td><td>5</td><td>Inf</td><td>1</td></tr>\n\t<tr><td>server</td><td>44.8580549</td><td>1</td><td>3</td><td>1</td><td>Inf</td><td>4</td><td>Inf</td><td>1</td></tr>\n\t<tr><td>server</td><td>48.7954910</td><td>1</td><td>4</td><td>1</td><td>Inf</td><td>5</td><td>Inf</td><td>1</td></tr>\n\t<tr><td>server</td><td>49.3979699</td><td>1</td><td>5</td><td>1</td><td>Inf</td><td>6</td><td>Inf</td><td>1</td></tr>\n\t<tr><td>server</td><td>49.7838746</td><td>1</td><td>4</td><td>1</td><td>Inf</td><td>5</td><td>Inf</td><td>1</td></tr>\n\t<tr><td>server</td><td>52.3376507</td><td>1</td><td>5</td><td>1</td><td>Inf</td><td>6</td><td>Inf</td><td>1</td></tr>\n\t<tr><td>server</td><td>54.6550659</td><td>1</td><td>4</td><td>1</td><td>Inf</td><td>5</td><td>Inf</td><td>1</td></tr>\n\t<tr><td>server</td><td>55.5894846</td><td>1</td><td>5</td><td>1</td><td>Inf</td><td>6</td><td>Inf</td><td>1</td></tr>\n\t<tr><td>server</td><td>57.5473938</td><td>1</td><td>4</td><td>1</td><td>Inf</td><td>5</td><td>Inf</td><td>1</td></tr>\n\t<tr><td>server</td><td>63.4574002</td><td>1</td><td>3</td><td>1</td><td>Inf</td><td>4</td><td>Inf</td><td>1</td></tr>\n\t<tr><td>\u22ee</td><td>\u22ee</td><td>\u22ee</td><td>\u22ee</td><td>\u22ee</td><td>\u22ee</td><td>\u22ee</td><td>\u22ee</td><td>\u22ee</td></tr>\n\t<tr><td>server</td><td>426.3803</td><td>1</td><td>5</td><td>1</td><td>Inf</td><td>6</td><td>Inf</td><td>1</td></tr>\n\t<tr><td>server</td><td>427.3403</td><td>1</td><td>6</td><td>1</td><td>Inf</td><td>7</td><td>Inf</td><td>1</td></tr>\n\t<tr><td>server</td><td>429.6837</td><td>1</td><td>7</td><td>1</td><td>Inf</td><td>8</td><td>Inf</td><td>1</td></tr>\n\t<tr><td>server</td><td>432.9221</td><td>1</td><td>8</td><td>1</td><td>Inf</td><td>9</td><td>Inf</td><td>1</td></tr>\n\t<tr><td>server</td><td>437.9537</td><td>1</td><td>7</td><td>1</td><td>Inf</td><td>8</td><td>Inf</td><td>1</td></tr>\n\t<tr><td>server</td><td>441.1184</td><td>1</td><td>6</td><td>1</td><td>Inf</td><td>7</td><td>Inf</td><td>1</td></tr>\n\t<tr><td>server</td><td>444.7605</td><td>1</td><td>5</td><td>1</td><td>Inf</td><td>6</td><td>Inf</td><td>1</td></tr>\n\t<tr><td>server</td><td>451.7801</td><td>1</td><td>6</td><td>1</td><td>Inf</td><td>7</td><td>Inf</td><td>1</td></tr>\n\t<tr><td>server</td><td>453.8726</td><td>1</td><td>5</td><td>1</td><td>Inf</td><td>6</td><td>Inf</td><td>1</td></tr>\n\t<tr><td>server</td><td>459.2877</td><td>1</td><td>6</td><td>1</td><td>Inf</td><td>7</td><td>Inf</td><td>1</td></tr>\n\t<tr><td>server</td><td>462.3009</td><td>1</td><td>5</td><td>1</td><td>Inf</td><td>6</td><td>Inf</td><td>1</td></tr>\n\t<tr><td>server</td><td>463.3414</td><td>1</td><td>4</td><td>1</td><td>Inf</td><td>5</td><td>Inf</td><td>1</td></tr>\n\t<tr><td>server</td><td>463.9691</td><td>1</td><td>5</td><td>1</td><td>Inf</td><td>6</td><td>Inf</td><td>1</td></tr>\n\t<tr><td>server</td><td>464.4179</td><td>1</td><td>6</td><td>1</td><td>Inf</td><td>7</td><td>Inf</td><td>1</td></tr>\n\t<tr><td>server</td><td>466.7570</td><td>1</td><td>5</td><td>1</td><td>Inf</td><td>6</td><td>Inf</td><td>1</td></tr>\n\t<tr><td>server</td><td>467.8049</td><td>1</td><td>6</td><td>1</td><td>Inf</td><td>7</td><td>Inf</td><td>1</td></tr>\n\t<tr><td>server</td><td>469.9444</td><td>1</td><td>5</td><td>1</td><td>Inf</td><td>6</td><td>Inf</td><td>1</td></tr>\n\t<tr><td>server</td><td>476.3932</td><td>1</td><td>4</td><td>1</td><td>Inf</td><td>5</td><td>Inf</td><td>1</td></tr>\n\t<tr><td>server</td><td>479.0737</td><td>1</td><td>3</td><td>1</td><td>Inf</td><td>4</td><td>Inf</td><td>1</td></tr>\n\t<tr><td>server</td><td>479.3594</td><td>1</td><td>2</td><td>1</td><td>Inf</td><td>3</td><td>Inf</td><td>1</td></tr>\n\t<tr><td>server</td><td>479.4265</td><td>1</td><td>3</td><td>1</td><td>Inf</td><td>4</td><td>Inf</td><td>1</td></tr>\n\t<tr><td>server</td><td>484.3836</td><td>1</td><td>2</td><td>1</td><td>Inf</td><td>3</td><td>Inf</td><td>1</td></tr>\n\t<tr><td>server</td><td>487.0666</td><td>1</td><td>3</td><td>1</td><td>Inf</td><td>4</td><td>Inf</td><td>1</td></tr>\n\t<tr><td>server</td><td>487.1074</td><td>1</td><td>4</td><td>1</td><td>Inf</td><td>5</td><td>Inf</td><td>1</td></tr>\n\t<tr><td>server</td><td>488.7639</td><td>1</td><td>3</td><td>1</td><td>Inf</td><td>4</td><td>Inf</td><td>1</td></tr>\n\t<tr><td>server</td><td>489.5668</td><td>1</td><td>4</td><td>1</td><td>Inf</td><td>5</td><td>Inf</td><td>1</td></tr>\n\t<tr><td>server</td><td>493.4322</td><td>1</td><td>3</td><td>1</td><td>Inf</td><td>4</td><td>Inf</td><td>1</td></tr>\n\t<tr><td>server</td><td>494.5755</td><td>1</td><td>2</td><td>1</td><td>Inf</td><td>3</td><td>Inf</td><td>1</td></tr>\n\t<tr><td>server</td><td>498.6545</td><td>1</td><td>1</td><td>1</td><td>Inf</td><td>2</td><td>Inf</td><td>1</td></tr>\n\t<tr><td>server</td><td>499.8461</td><td>1</td><td>2</td><td>1</td><td>Inf</td><td>3</td><td>Inf</td><td>1</td></tr>\n</tbody>\n</table>\n",
                        "text/latex": "A data.frame: 213 \u00d7 9\n\\begin{tabular}{lllllllll}\n resource & time & server & queue & capacity & queue\\_size & system & limit & replication\\\\\n <chr> & <dbl> & <int> & <int> & <dbl> & <dbl> & <int> & <dbl> & <int>\\\\\n\\hline\n\t server &  0.3297179 & 1 & 0 & 1 & Inf & 1 & Inf & 1\\\\\n\t server &  0.5533978 & 0 & 0 & 1 & Inf & 0 & Inf & 1\\\\\n\t server &  2.1575130 & 1 & 0 & 1 & Inf & 1 & Inf & 1\\\\\n\t server &  2.4637538 & 0 & 0 & 1 & Inf & 0 & Inf & 1\\\\\n\t server &  4.9569239 & 1 & 0 & 1 & Inf & 1 & Inf & 1\\\\\n\t server &  8.9349370 & 1 & 1 & 1 & Inf & 2 & Inf & 1\\\\\n\t server & 12.9621081 & 1 & 0 & 1 & Inf & 1 & Inf & 1\\\\\n\t server & 14.5006801 & 0 & 0 & 1 & Inf & 0 & Inf & 1\\\\\n\t server & 14.5860741 & 1 & 0 & 1 & Inf & 1 & Inf & 1\\\\\n\t server & 15.2519374 & 1 & 1 & 1 & Inf & 2 & Inf & 1\\\\\n\t server & 18.8497301 & 1 & 2 & 1 & Inf & 3 & Inf & 1\\\\\n\t server & 19.0367616 & 1 & 3 & 1 & Inf & 4 & Inf & 1\\\\\n\t server & 20.5193688 & 1 & 2 & 1 & Inf & 3 & Inf & 1\\\\\n\t server & 22.6446885 & 1 & 3 & 1 & Inf & 4 & Inf & 1\\\\\n\t server & 28.4804578 & 1 & 4 & 1 & Inf & 5 & Inf & 1\\\\\n\t server & 34.3007704 & 1 & 5 & 1 & Inf & 6 & Inf & 1\\\\\n\t server & 34.4224660 & 1 & 4 & 1 & Inf & 5 & Inf & 1\\\\\n\t server & 37.1741892 & 1 & 5 & 1 & Inf & 6 & Inf & 1\\\\\n\t server & 38.9064104 & 1 & 6 & 1 & Inf & 7 & Inf & 1\\\\\n\t server & 41.4467528 & 1 & 5 & 1 & Inf & 6 & Inf & 1\\\\\n\t server & 43.7956275 & 1 & 4 & 1 & Inf & 5 & Inf & 1\\\\\n\t server & 44.8580549 & 1 & 3 & 1 & Inf & 4 & Inf & 1\\\\\n\t server & 48.7954910 & 1 & 4 & 1 & Inf & 5 & Inf & 1\\\\\n\t server & 49.3979699 & 1 & 5 & 1 & Inf & 6 & Inf & 1\\\\\n\t server & 49.7838746 & 1 & 4 & 1 & Inf & 5 & Inf & 1\\\\\n\t server & 52.3376507 & 1 & 5 & 1 & Inf & 6 & Inf & 1\\\\\n\t server & 54.6550659 & 1 & 4 & 1 & Inf & 5 & Inf & 1\\\\\n\t server & 55.5894846 & 1 & 5 & 1 & Inf & 6 & Inf & 1\\\\\n\t server & 57.5473938 & 1 & 4 & 1 & Inf & 5 & Inf & 1\\\\\n\t server & 63.4574002 & 1 & 3 & 1 & Inf & 4 & Inf & 1\\\\\n\t \u22ee & \u22ee & \u22ee & \u22ee & \u22ee & \u22ee & \u22ee & \u22ee & \u22ee\\\\\n\t server & 426.3803 & 1 & 5 & 1 & Inf & 6 & Inf & 1\\\\\n\t server & 427.3403 & 1 & 6 & 1 & Inf & 7 & Inf & 1\\\\\n\t server & 429.6837 & 1 & 7 & 1 & Inf & 8 & Inf & 1\\\\\n\t server & 432.9221 & 1 & 8 & 1 & Inf & 9 & Inf & 1\\\\\n\t server & 437.9537 & 1 & 7 & 1 & Inf & 8 & Inf & 1\\\\\n\t server & 441.1184 & 1 & 6 & 1 & Inf & 7 & Inf & 1\\\\\n\t server & 444.7605 & 1 & 5 & 1 & Inf & 6 & Inf & 1\\\\\n\t server & 451.7801 & 1 & 6 & 1 & Inf & 7 & Inf & 1\\\\\n\t server & 453.8726 & 1 & 5 & 1 & Inf & 6 & Inf & 1\\\\\n\t server & 459.2877 & 1 & 6 & 1 & Inf & 7 & Inf & 1\\\\\n\t server & 462.3009 & 1 & 5 & 1 & Inf & 6 & Inf & 1\\\\\n\t server & 463.3414 & 1 & 4 & 1 & Inf & 5 & Inf & 1\\\\\n\t server & 463.9691 & 1 & 5 & 1 & Inf & 6 & Inf & 1\\\\\n\t server & 464.4179 & 1 & 6 & 1 & Inf & 7 & Inf & 1\\\\\n\t server & 466.7570 & 1 & 5 & 1 & Inf & 6 & Inf & 1\\\\\n\t server & 467.8049 & 1 & 6 & 1 & Inf & 7 & Inf & 1\\\\\n\t server & 469.9444 & 1 & 5 & 1 & Inf & 6 & Inf & 1\\\\\n\t server & 476.3932 & 1 & 4 & 1 & Inf & 5 & Inf & 1\\\\\n\t server & 479.0737 & 1 & 3 & 1 & Inf & 4 & Inf & 1\\\\\n\t server & 479.3594 & 1 & 2 & 1 & Inf & 3 & Inf & 1\\\\\n\t server & 479.4265 & 1 & 3 & 1 & Inf & 4 & Inf & 1\\\\\n\t server & 484.3836 & 1 & 2 & 1 & Inf & 3 & Inf & 1\\\\\n\t server & 487.0666 & 1 & 3 & 1 & Inf & 4 & Inf & 1\\\\\n\t server & 487.1074 & 1 & 4 & 1 & Inf & 5 & Inf & 1\\\\\n\t server & 488.7639 & 1 & 3 & 1 & Inf & 4 & Inf & 1\\\\\n\t server & 489.5668 & 1 & 4 & 1 & Inf & 5 & Inf & 1\\\\\n\t server & 493.4322 & 1 & 3 & 1 & Inf & 4 & Inf & 1\\\\\n\t server & 494.5755 & 1 & 2 & 1 & Inf & 3 & Inf & 1\\\\\n\t server & 498.6545 & 1 & 1 & 1 & Inf & 2 & Inf & 1\\\\\n\t server & 499.8461 & 1 & 2 & 1 & Inf & 3 & Inf & 1\\\\\n\\end{tabular}\n",
                        "text/markdown": "\nA data.frame: 213 \u00d7 9\n\n| resource &lt;chr&gt; | time &lt;dbl&gt; | server &lt;int&gt; | queue &lt;int&gt; | capacity &lt;dbl&gt; | queue_size &lt;dbl&gt; | system &lt;int&gt; | limit &lt;dbl&gt; | replication &lt;int&gt; |\n|---|---|---|---|---|---|---|---|---|\n| server |  0.3297179 | 1 | 0 | 1 | Inf | 1 | Inf | 1 |\n| server |  0.5533978 | 0 | 0 | 1 | Inf | 0 | Inf | 1 |\n| server |  2.1575130 | 1 | 0 | 1 | Inf | 1 | Inf | 1 |\n| server |  2.4637538 | 0 | 0 | 1 | Inf | 0 | Inf | 1 |\n| server |  4.9569239 | 1 | 0 | 1 | Inf | 1 | Inf | 1 |\n| server |  8.9349370 | 1 | 1 | 1 | Inf | 2 | Inf | 1 |\n| server | 12.9621081 | 1 | 0 | 1 | Inf | 1 | Inf | 1 |\n| server | 14.5006801 | 0 | 0 | 1 | Inf | 0 | Inf | 1 |\n| server | 14.5860741 | 1 | 0 | 1 | Inf | 1 | Inf | 1 |\n| server | 15.2519374 | 1 | 1 | 1 | Inf | 2 | Inf | 1 |\n| server | 18.8497301 | 1 | 2 | 1 | Inf | 3 | Inf | 1 |\n| server | 19.0367616 | 1 | 3 | 1 | Inf | 4 | Inf | 1 |\n| server | 20.5193688 | 1 | 2 | 1 | Inf | 3 | Inf | 1 |\n| server | 22.6446885 | 1 | 3 | 1 | Inf | 4 | Inf | 1 |\n| server | 28.4804578 | 1 | 4 | 1 | Inf | 5 | Inf | 1 |\n| server | 34.3007704 | 1 | 5 | 1 | Inf | 6 | Inf | 1 |\n| server | 34.4224660 | 1 | 4 | 1 | Inf | 5 | Inf | 1 |\n| server | 37.1741892 | 1 | 5 | 1 | Inf | 6 | Inf | 1 |\n| server | 38.9064104 | 1 | 6 | 1 | Inf | 7 | Inf | 1 |\n| server | 41.4467528 | 1 | 5 | 1 | Inf | 6 | Inf | 1 |\n| server | 43.7956275 | 1 | 4 | 1 | Inf | 5 | Inf | 1 |\n| server | 44.8580549 | 1 | 3 | 1 | Inf | 4 | Inf | 1 |\n| server | 48.7954910 | 1 | 4 | 1 | Inf | 5 | Inf | 1 |\n| server | 49.3979699 | 1 | 5 | 1 | Inf | 6 | Inf | 1 |\n| server | 49.7838746 | 1 | 4 | 1 | Inf | 5 | Inf | 1 |\n| server | 52.3376507 | 1 | 5 | 1 | Inf | 6 | Inf | 1 |\n| server | 54.6550659 | 1 | 4 | 1 | Inf | 5 | Inf | 1 |\n| server | 55.5894846 | 1 | 5 | 1 | Inf | 6 | Inf | 1 |\n| server | 57.5473938 | 1 | 4 | 1 | Inf | 5 | Inf | 1 |\n| server | 63.4574002 | 1 | 3 | 1 | Inf | 4 | Inf | 1 |\n| \u22ee | \u22ee | \u22ee | \u22ee | \u22ee | \u22ee | \u22ee | \u22ee | \u22ee |\n| server | 426.3803 | 1 | 5 | 1 | Inf | 6 | Inf | 1 |\n| server | 427.3403 | 1 | 6 | 1 | Inf | 7 | Inf | 1 |\n| server | 429.6837 | 1 | 7 | 1 | Inf | 8 | Inf | 1 |\n| server | 432.9221 | 1 | 8 | 1 | Inf | 9 | Inf | 1 |\n| server | 437.9537 | 1 | 7 | 1 | Inf | 8 | Inf | 1 |\n| server | 441.1184 | 1 | 6 | 1 | Inf | 7 | Inf | 1 |\n| server | 444.7605 | 1 | 5 | 1 | Inf | 6 | Inf | 1 |\n| server | 451.7801 | 1 | 6 | 1 | Inf | 7 | Inf | 1 |\n| server | 453.8726 | 1 | 5 | 1 | Inf | 6 | Inf | 1 |\n| server | 459.2877 | 1 | 6 | 1 | Inf | 7 | Inf | 1 |\n| server | 462.3009 | 1 | 5 | 1 | Inf | 6 | Inf | 1 |\n| server | 463.3414 | 1 | 4 | 1 | Inf | 5 | Inf | 1 |\n| server | 463.9691 | 1 | 5 | 1 | Inf | 6 | Inf | 1 |\n| server | 464.4179 | 1 | 6 | 1 | Inf | 7 | Inf | 1 |\n| server | 466.7570 | 1 | 5 | 1 | Inf | 6 | Inf | 1 |\n| server | 467.8049 | 1 | 6 | 1 | Inf | 7 | Inf | 1 |\n| server | 469.9444 | 1 | 5 | 1 | Inf | 6 | Inf | 1 |\n| server | 476.3932 | 1 | 4 | 1 | Inf | 5 | Inf | 1 |\n| server | 479.0737 | 1 | 3 | 1 | Inf | 4 | Inf | 1 |\n| server | 479.3594 | 1 | 2 | 1 | Inf | 3 | Inf | 1 |\n| server | 479.4265 | 1 | 3 | 1 | Inf | 4 | Inf | 1 |\n| server | 484.3836 | 1 | 2 | 1 | Inf | 3 | Inf | 1 |\n| server | 487.0666 | 1 | 3 | 1 | Inf | 4 | Inf | 1 |\n| server | 487.1074 | 1 | 4 | 1 | Inf | 5 | Inf | 1 |\n| server | 488.7639 | 1 | 3 | 1 | Inf | 4 | Inf | 1 |\n| server | 489.5668 | 1 | 4 | 1 | Inf | 5 | Inf | 1 |\n| server | 493.4322 | 1 | 3 | 1 | Inf | 4 | Inf | 1 |\n| server | 494.5755 | 1 | 2 | 1 | Inf | 3 | Inf | 1 |\n| server | 498.6545 | 1 | 1 | 1 | Inf | 2 | Inf | 1 |\n| server | 499.8461 | 1 | 2 | 1 | Inf | 3 | Inf | 1 |\n\n",
                        "text/plain": "    resource time       server queue capacity queue_size system limit\n1   server    0.3297179 1      0     1        Inf        1      Inf  \n2   server    0.5533978 0      0     1        Inf        0      Inf  \n3   server    2.1575130 1      0     1        Inf        1      Inf  \n4   server    2.4637538 0      0     1        Inf        0      Inf  \n5   server    4.9569239 1      0     1        Inf        1      Inf  \n6   server    8.9349370 1      1     1        Inf        2      Inf  \n7   server   12.9621081 1      0     1        Inf        1      Inf  \n8   server   14.5006801 0      0     1        Inf        0      Inf  \n9   server   14.5860741 1      0     1        Inf        1      Inf  \n10  server   15.2519374 1      1     1        Inf        2      Inf  \n11  server   18.8497301 1      2     1        Inf        3      Inf  \n12  server   19.0367616 1      3     1        Inf        4      Inf  \n13  server   20.5193688 1      2     1        Inf        3      Inf  \n14  server   22.6446885 1      3     1        Inf        4      Inf  \n15  server   28.4804578 1      4     1        Inf        5      Inf  \n16  server   34.3007704 1      5     1        Inf        6      Inf  \n17  server   34.4224660 1      4     1        Inf        5      Inf  \n18  server   37.1741892 1      5     1        Inf        6      Inf  \n19  server   38.9064104 1      6     1        Inf        7      Inf  \n20  server   41.4467528 1      5     1        Inf        6      Inf  \n21  server   43.7956275 1      4     1        Inf        5      Inf  \n22  server   44.8580549 1      3     1        Inf        4      Inf  \n23  server   48.7954910 1      4     1        Inf        5      Inf  \n24  server   49.3979699 1      5     1        Inf        6      Inf  \n25  server   49.7838746 1      4     1        Inf        5      Inf  \n26  server   52.3376507 1      5     1        Inf        6      Inf  \n27  server   54.6550659 1      4     1        Inf        5      Inf  \n28  server   55.5894846 1      5     1        Inf        6      Inf  \n29  server   57.5473938 1      4     1        Inf        5      Inf  \n30  server   63.4574002 1      3     1        Inf        4      Inf  \n\u22ee   \u22ee        \u22ee          \u22ee      \u22ee     \u22ee        \u22ee          \u22ee      \u22ee    \n184 server   426.3803   1      5     1        Inf        6      Inf  \n185 server   427.3403   1      6     1        Inf        7      Inf  \n186 server   429.6837   1      7     1        Inf        8      Inf  \n187 server   432.9221   1      8     1        Inf        9      Inf  \n188 server   437.9537   1      7     1        Inf        8      Inf  \n189 server   441.1184   1      6     1        Inf        7      Inf  \n190 server   444.7605   1      5     1        Inf        6      Inf  \n191 server   451.7801   1      6     1        Inf        7      Inf  \n192 server   453.8726   1      5     1        Inf        6      Inf  \n193 server   459.2877   1      6     1        Inf        7      Inf  \n194 server   462.3009   1      5     1        Inf        6      Inf  \n195 server   463.3414   1      4     1        Inf        5      Inf  \n196 server   463.9691   1      5     1        Inf        6      Inf  \n197 server   464.4179   1      6     1        Inf        7      Inf  \n198 server   466.7570   1      5     1        Inf        6      Inf  \n199 server   467.8049   1      6     1        Inf        7      Inf  \n200 server   469.9444   1      5     1        Inf        6      Inf  \n201 server   476.3932   1      4     1        Inf        5      Inf  \n202 server   479.0737   1      3     1        Inf        4      Inf  \n203 server   479.3594   1      2     1        Inf        3      Inf  \n204 server   479.4265   1      3     1        Inf        4      Inf  \n205 server   484.3836   1      2     1        Inf        3      Inf  \n206 server   487.0666   1      3     1        Inf        4      Inf  \n207 server   487.1074   1      4     1        Inf        5      Inf  \n208 server   488.7639   1      3     1        Inf        4      Inf  \n209 server   489.5668   1      4     1        Inf        5      Inf  \n210 server   493.4322   1      3     1        Inf        4      Inf  \n211 server   494.5755   1      2     1        Inf        3      Inf  \n212 server   498.6545   1      1     1        Inf        2      Inf  \n213 server   499.8461   1      2     1        Inf        3      Inf  \n    replication\n1   1          \n2   1          \n3   1          \n4   1          \n5   1          \n6   1          \n7   1          \n8   1          \n9   1          \n10  1          \n11  1          \n12  1          \n13  1          \n14  1          \n15  1          \n16  1          \n17  1          \n18  1          \n19  1          \n20  1          \n21  1          \n22  1          \n23  1          \n24  1          \n25  1          \n26  1          \n27  1          \n28  1          \n29  1          \n30  1          \n\u22ee   \u22ee          \n184 1          \n185 1          \n186 1          \n187 1          \n188 1          \n189 1          \n190 1          \n191 1          \n192 1          \n193 1          \n194 1          \n195 1          \n196 1          \n197 1          \n198 1          \n199 1          \n200 1          \n201 1          \n202 1          \n203 1          \n204 1          \n205 1          \n206 1          \n207 1          \n208 1          \n209 1          \n210 1          \n211 1          \n212 1          \n213 1          "
                    },
                    "metadata": {},
                    "output_type": "display_data"
                }
            ],
            "source": "df <- env %>% get_mon_resources()\ndf"
        },
        {
            "cell_type": "code",
            "execution_count": 89,
            "metadata": {
                "trusted": true
            },
            "outputs": [],
            "source": "queue <- df$queue\nincome_count <- length(queue)\nprograms_held <- length(queue[queue != 0])"
        },
        {
            "cell_type": "code",
            "execution_count": 93,
            "metadata": {
                "trusted": true
            },
            "outputs": [
                {
                    "data": {
                        "text/html": "0.873239436619718",
                        "text/latex": "0.873239436619718",
                        "text/markdown": "0.873239436619718",
                        "text/plain": "[1] 0.8732394"
                    },
                    "metadata": {},
                    "output_type": "display_data"
                }
            ],
            "source": "program_wont_be_executed_immediately <- programs_held / income_count\nprogram_wont_be_executed_immediately"
        },
        {
            "cell_type": "markdown",
            "metadata": {},
            "source": "### \u0422\u0435\u043e\u0440\u0435\u0442\u0438\u0447\u0435\u0441\u043a\u0438"
        },
        {
            "cell_type": "markdown",
            "metadata": {},
            "source": "#### 1. \u0412\u0435\u0440\u043e\u044f\u0442\u043d\u043e\u0441\u0442\u044c \u0442\u043e\u0433\u043e, \u0447\u0442\u043e \u043f\u0440\u043e\u0433\u0440\u0430\u043c\u043c\u0430 \u043d\u0435 \u0431\u0443\u0434\u0435\u0442 \u0432\u044b\u043f\u043e\u043b\u043d\u0435\u043d\u0430 \u0441\u0440\u0430\u0437\u0443 \u0436\u0435, \u043a\u0430\u043a \u0442\u043e\u043b\u044c\u043a\u043e \u043e\u043d\u0430 \u043f\u043e\u0441\u0442\u0443\u043f\u0438\u043b\u0430 \u043d\u0430 \u0442\u0435\u0440\u043c\u0438\u043d\u0430\u043b\n\u043e\u043d\u0430  \u0436\u0435 \u043e\u0431\u0440\u0430\u0442\u043d\u0430\u044f \u0432\u0435\u0440\u043e\u044f\u0442\u043d\u043e\u0441\u0442\u044c \u0442\u043e\u0433\u043e, \u0447\u0442\u043e\n\u043f\u0440\u043e\u0433\u0440\u0430\u043c\u043c\u0430 **\u0431\u0443\u0434\u0435\u0442 \u0432\u044b\u043f\u043e\u043b\u043d\u0435\u043d\u0430** \u0441\u0440\u0430\u0437\u0443 \u0436\u0435, \u0442\u043e \u0435\u0441\u0442\u044c:\n$$\n1 - P_0 = 1 - (1 - \\rho) = \\rho = \\frac{\\lambda}{\\mu}\n$$\n\u0433\u0434\u0435 $\\lambda$ - \u0438\u043d\u0442\u0435\u043d\u0441\u0438\u0432\u043d\u043e\u0441\u0442\u044c, \u0441 \u043a\u043e\u0442\u043e\u0440\u043e\u0439 \u0437\u0430\u044f\u0432\u043a\u0438 \u043f\u0440\u0438\u0445\u043e\u0434\u044f\u0442:\n$$\n\\lambda = \\frac{k}{t_1} \\\\\n$$"
        },
        {
            "cell_type": "code",
            "execution_count": null,
            "metadata": {
                "trusted": true
            },
            "outputs": [],
            "source": "income_intensity <- k / t1\nincome_intensity"
        },
        {
            "cell_type": "markdown",
            "metadata": {},
            "source": "\u0430 $\\mu$ - \u0438\u043d\u0442\u0435\u043d\u0441\u0438\u0432\u043d\u043e\u0441\u0442\u044c \u043e\u0431\u0441\u043b\u0443\u0436\u0438\u0432\u0430\u043d\u0438\u044f:\n$$\n\\mu = \\frac{1}{t_2}\n$$"
        },
        {
            "cell_type": "code",
            "execution_count": null,
            "metadata": {
                "trusted": true
            },
            "outputs": [],
            "source": "process_intensity <- 1 / t2\nprocess_intensity"
        },
        {
            "cell_type": "code",
            "execution_count": null,
            "metadata": {
                "trusted": true
            },
            "outputs": [],
            "source": "program_wont_be_executed_immediately <- income_intensity / process_intensity\nprogram_wont_be_executed_immediately"
        },
        {
            "cell_type": "markdown",
            "metadata": {},
            "source": "#### 2. \u0421\u0440\u0435\u0434\u043d\u0435\u0435 \u0432\u0440\u0435\u043c\u044f \u0434\u043e \u043f\u043e\u043b\u0443\u0447\u0435\u043d\u0438\u044f \u043f\u043e\u043b\u044c\u0437\u043e\u0432\u0430\u0442\u0435\u043b\u0435\u043c \u0440\u0435\u0437\u0443\u043b\u044c\u0442\u0430\u0442\u043e\u0432 \u0440\u0435\u0430\u043b\u0438\u0437\u0430\u0446\u0438\u0438.\n\n\u041e\u043d\u043e \u0436\u0435 \u0441\u0440\u0435\u0434\u043d\u0435\u0435 \u0432\u0440\u0435\u043c\u044f \u043f\u0440\u0435\u0431\u044b\u0432\u0430\u043d\u0438\u044f \u0437\u0430\u044f\u0432\u043a\u0438 \u0432 \u0441\u0438\u0441\u0442\u0435\u043c\u0435 \u043f\u043e \u0444\u043e\u0440\u043c\u0443\u043b\u0435 \u041b\u0438\u0442\u0442\u043b\u0430:\n$$\nT_{\\text{\u0441\u0438\u0441\u0442}} = \\frac{1}{\\mu(1 - \\rho)}\n$$"
        },
        {
            "cell_type": "code",
            "execution_count": null,
            "metadata": {
                "trusted": true
            },
            "outputs": [],
            "source": "time_to_get <- 1 / process_intensity / (1 - program_wont_be_executed_immediately)\ntime_to_get"
        },
        {
            "cell_type": "markdown",
            "metadata": {},
            "source": "#### 3. \u0421\u0440\u0435\u0434\u043d\u0435\u0435 \u043a\u043e\u043b\u0438\u0447\u0435\u0441\u0442\u0432\u043e \u043f\u0440\u043e\u0433\u0440\u0430\u043c\u043c, \u043e\u0436\u0438\u0434\u0430\u044e\u0449\u0438\u0445 \u0432\u044b\u043f\u043e\u043b\u043d\u0435\u043d\u0438\u044f \u043d\u0430 \u0441\u0435\u0440\u0432\u0435\u0440\u0435.\n\n\u041e\u043d\u0430 \u0436\u0435 \u0441\u0440\u0435\u0434\u043d\u044f\u044f \u0434\u043b\u0438\u043d\u0430 \u043e\u0447\u0435\u0440\u0435\u0434\u0438 $L_{\\text{\u043e\u0447}} = \\frac{\\rho ^ 2}{1 - \\rho}$:"
        },
        {
            "cell_type": "code",
            "execution_count": null,
            "metadata": {
                "trusted": true
            },
            "outputs": [],
            "source": "mean_queue <- program_wont_be_executed_immediately^2 / (1 - program_wont_be_executed_immediately)\nmean_queue"
        }
    ],
    "metadata": {
        "kernelspec": {
            "display_name": "R",
            "language": "R",
            "name": "ir"
        },
        "language_info": {
            "codemirror_mode": "r",
            "file_extension": ".r",
            "mimetype": "text/x-r-source",
            "name": "R",
            "pygments_lexer": "r",
            "version": "4.2.2"
        }
    },
    "nbformat": 4,
    "nbformat_minor": 5
}