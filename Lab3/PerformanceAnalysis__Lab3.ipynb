{
    "cells": [
        {
            "cell_type": "markdown",
            "metadata": {},
            "source": "# \u041b\u0430\u0431\u043e\u0440\u0430\u0442\u043e\u0440\u043d\u0430\u044f \u0440\u0430\u0431\u043e\u0442\u0430 3. \u041c\u043e\u0434\u0435\u043b\u044c \u043e\u0434\u043d\u043e\u0444\u0430\u0437\u043d\u043e\u0439 \u043e\u0434\u043d\u043e\u043a\u0430\u043d\u0430\u043b\u044c\u043d\u043e\u0439 \u0437\u0430\u043c\u043a\u043d\u0443\u0442\u043e\u0439 \u0441\u0438\u0441\u0442\u0435\u043c\u044b \u043e\u0431\u0441\u043b\u0443\u0436\u0438\u0432\u0430\u043d\u0438\u044f\n## \u0417\u0430\u0434\u0430\u043d\u0438\u0435 1"
        },
        {
            "cell_type": "code",
            "execution_count": null,
            "metadata": {
                "trusted": true
            },
            "outputs": [],
            "source": "variant <- 5\nset.seed(variant)\n\nk <- sample(c(4:9), 1)\n\npp1 <- runif(4)\npp2 <- runif(3)\npp3 <- runif(2)\n\np1 <- pp1 / sum(pp1)\np2 <- c(c(0), pp2 / sum(pp2))\np3 <- c(c(0, 0), pp3 / sum(pp3))\np4 <- c(0, 0, 0, 1)\n\nP <- data.frame()\n\nP <- rbind(P, p1, p2, p3, p4)\n\nrownames(P) <- c(\"p1\", \"p2\", \"p3\", \"p4\")\ncolnames(P) <- c(\"\", \"\", \"\", \"\")\n\nView(P)\n\nprint(paste(\"k =\", as.character(k)))"
        },
        {
            "cell_type": "markdown",
            "metadata": {},
            "source": "### \u0413\u0440\u0430\u0444 \u0441\u043e\u0441\u0442\u043e\u044f\u043d\u0438\u0439\n\u0421 \u0442\u043e\u0447\u043d\u043e\u0441\u0442\u044c\u044e \u0434\u043e \u0432\u0442\u043e\u0440\u043e\u0433\u043e \u0437\u043d\u0430\u043a\u0430 \u043f\u043e\u0441\u043b\u0435 \u0437\u0430\u043f\u044f\u0442\u043e\u0439\n![graph](./TransitionMatrix_graph--dot.png)"
        },
        {
            "cell_type": "markdown",
            "metadata": {},
            "source": "### \u0427\u0438\u0441\u043b\u0435\u043d\u043d\u043e\n\u0421\u0438\u043c\u0443\u043b\u0438\u0440\u0443\u0435\u043c \u043f\u0440\u043e\u0445\u043e\u0434 \u043f\u043e \u043c\u0430\u0442\u0440\u0438\u0446\u0435 \u043f\u0435\u0440\u0435\u0445\u043e\u0434\u043d\u044b\u0445 \u0432\u0435\u0440\u043e\u044f\u0442\u043d\u043e\u0441\u0442\u0435\u0439 \u0434\u043b\u044f \u0442\u0440\u0435\u0445 \u0441\u0446\u0435\u043d\u0430\u0440\u0438\u0435\u0432:\n1. k - 2 \u043e\u0441\u043c\u043e\u0442\u0440\u043e\u0432,\n2. k - 1 \u043e\u0441\u043c\u043e\u0442\u0440\u043e\u0432,\n3. k \u043e\u0441\u043c\u043e\u0442\u0440\u043e\u0432.\n\n\u0412\u044b\u043f\u043e\u043b\u043d\u0438\u0432 \u044d\u0442\u0443 \u043e\u043f\u0435\u0440\u0430\u0446\u0438\u044e N \u0440\u0430\u0437 \u0434\u043b\u044f \u043a\u0430\u0436\u0434\u043e\u0433\u043e \u0441\u0446\u0435\u043d\u0430\u0440\u0438\u044f, \u043f\u043e\u043b\u0443\u0447\u0438\u043c \u0442\u0440\u0438 \u0432\u0435\u043a\u0442\u043e\u0440\u0430,\n\u0441\u043e\u0434\u0435\u0440\u0436\u0430\u0449\u0438\u0435 N \u0441\u043e\u0441\u0442\u043e\u044f\u043d\u0438\u0439. \u042d\u0442\u043e \u0441\u043e\u0441\u0442\u043e\u044f\u043d\u0438\u044f, \u0432 \u043a\u043e\u0442\u043e\u0440\u044b\u0445 \u043e\u0441\u0442\u0430\u0432\u0430\u043b\u0430\u0441\u044c \u043c\u043e\u0434\u0435\u043b\u044c \u043f\u043e\u0441\u043b\u0435\n\u0441\u0438\u043c\u0443\u043b\u044f\u0446\u0438\u0438:\n$$\n  Scenario_i = \\{State_1 ... State_N\\}, i \\in \\{1, 2, 3\\}, \\\\\n  State \\in \\{S1, S2, S3, S4\\}\n$$"
        },
        {
            "cell_type": "code",
            "execution_count": null,
            "metadata": {
                "trusted": true
            },
            "outputs": [],
            "source": "# \u041f\u043e\u043b\u0443\u0447\u0430\u0435\u043c \u0437\u043d\u0430\u0447\u0435\u043d\u0438\u0435, \u0441\u043e\u043e\u0442\u0432\u0435\u0442\u0441\u0442\u0432\u0443\u044e\u0449\u0435\u0435 \u043e\u0442\u0440\u0435\u0437\u043a\u0443.\n# v - \u0441\u043b\u0443\u0447\u0430\u0439\u043d\u0430\u044f \u0432\u0435\u043b\u0438\u0447\u0438\u043d\u0430. \u0415\u0441\u043b\u0438 \u043d\u0443\u0436\u043d\u043e \u0441\u0433\u0435\u043d\u0435\u0440\u0438\u0440\u043e\u0432\u0430\u0442\u044c \u0440\u0430\u0441\u043f\u0440\u0435\u0434\u0435\u043b\u0435\u043d\u0438\u0435 \u043f\u043e `p`, \u043d\u0443\u0436\u043d\u043e\n# \u043f\u043e\u0434\u0430\u0442\u044c runif(1)\n# X - \u0432\u0435\u043b\u0438\u0447\u0438\u043d\u044b, \u0441\u043e\u043e\u0442\u0432\u0435\u0442\u0441\u0442\u0432\u0443\u044e\u0449\u0438\u0435 \u043e\u0442\u0440\u0435\u0437\u043a\u0430\u043c.\n# \u0417\u0430 \u043e\u0442\u0440\u0435\u0437\u043a\u0438 \u043e\u0442\u0432\u0435\u0447\u0430\u0435\u0442 \u043f\u0430\u0440\u0430\u043c\u0435\u0442\u0440 p, \u0445\u0440\u0430\u043d\u044f\u0449\u0438\u0439 \u043f\u043e\u0441\u043b\u0435\u0434\u043e\u0432\u0430\u0442\u0435\u043b\u044c\u043d\u043e\u0441\u0442\u044c \u0434\u043b\u0438\u043d.\nget_value_in_range <- function(v, X, p) {\n    border <- 0\n    for (i in seq_along(p)) {\n        border <- border + p[i]\n        if (v < border) {\n            return(X[i])\n        }\n    }\n}"
        },
        {
            "cell_type": "code",
            "execution_count": null,
            "metadata": {
                "trusted": true
            },
            "outputs": [],
            "source": "make_step <- function(current_state) {\n    possible_states <- P[current_state, ]\n\n    return(get_value_in_range(runif(1), 1:4, possible_states))\n}"
        },
        {
            "cell_type": "code",
            "execution_count": null,
            "metadata": {
                "trusted": true
            },
            "outputs": [],
            "source": "walk <- function(starting_state, times) {\n    if (times == 0) {\n        return(starting_state)\n    }\n\n    next_state <- make_step(starting_state)\n\n    return(walk(next_state, times - 1))\n}"
        },
        {
            "cell_type": "code",
            "execution_count": null,
            "metadata": {
                "trusted": true
            },
            "outputs": [],
            "source": "N <- 10000\ntest_walk <- function(first_state, k) {\n    results <- c()\n\n    for (i in 1:N) {\n        results <- append(results, walk(first_state, k))\n    }\n\n    return(results)\n}"
        },
        {
            "cell_type": "code",
            "execution_count": null,
            "metadata": {
                "trusted": true
            },
            "outputs": [],
            "source": "first_state <- 1 # \u0412\u044b\u0431\u0440\u0430\u043b\u0438 \u043f\u0440\u043e\u0438\u0437\u0432\u043e\u043b\u044c\u043d\u043e\u0435."
        },
        {
            "cell_type": "code",
            "execution_count": null,
            "metadata": {
                "trusted": true
            },
            "outputs": [],
            "source": "Scenario1 <- test_walk(first_state, k - 2)"
        },
        {
            "cell_type": "code",
            "execution_count": null,
            "metadata": {
                "trusted": true
            },
            "outputs": [],
            "source": "Scenario2 <- test_walk(first_state, k - 1)"
        },
        {
            "cell_type": "code",
            "execution_count": null,
            "metadata": {
                "trusted": true
            },
            "outputs": [],
            "source": "Scenario3 <- test_walk(first_state, k)"
        },
        {
            "cell_type": "markdown",
            "metadata": {},
            "source": "\u0412 \u043f\u043e\u043b\u0443\u0447\u0435\u043d\u043d\u044b\u0445 \u0441\u0446\u0435\u043d\u0430\u0440\u0438\u044f\u0445 \u043f\u043e\u0441\u0447\u0438\u0442\u0430\u0435\u043c \u0432\u0435\u0440\u043e\u044f\u0442\u043d\u043e\u0441\u0442\u0438 \u043f\u043e\u043b\u0443\u0447\u0435\u043d\u0438\u044f \u043a\u0430\u0436\u0434\u043e\u0433\u043e \u0441\u043e\u0441\u0442\u043e\u044f\u043d\u0438\u044f."
        },
        {
            "cell_type": "code",
            "execution_count": null,
            "metadata": {
                "trusted": true
            },
            "outputs": [],
            "source": "get_probability <- function(States, state) {\n    number_of_states <- length(States[States == state])\n    number_of_all_states <- length(States)\n\n    return(number_of_states / number_of_all_states)\n}"
        },
        {
            "cell_type": "code",
            "execution_count": null,
            "metadata": {
                "trusted": true
            },
            "outputs": [],
            "source": "get_probabilities_to_stay <- function(States) {\n    return(\n        unlist(\n            lapply(seq_along(P), function(state) get_probability(States, state))\n        )\n    )\n}"
        },
        {
            "cell_type": "code",
            "execution_count": null,
            "metadata": {
                "trusted": true
            },
            "outputs": [],
            "source": "Scenario1Propabilities <- get_probabilities_to_stay(Scenario1)"
        },
        {
            "cell_type": "code",
            "execution_count": null,
            "metadata": {
                "trusted": true
            },
            "outputs": [],
            "source": "Scenario2Propabilities <- get_probabilities_to_stay(Scenario2)"
        },
        {
            "cell_type": "code",
            "execution_count": null,
            "metadata": {
                "trusted": true
            },
            "outputs": [],
            "source": "Scenario3Propabilities <- get_probabilities_to_stay(Scenario3)"
        },
        {
            "cell_type": "code",
            "execution_count": null,
            "metadata": {
                "trusted": true
            },
            "outputs": [],
            "source": "results <- data.frame(\n    Scenario1Propabilities,\n    Scenario2Propabilities,\n    Scenario3Propabilities\n)\ncolnames(results) <- c(\"k - 2\", \"k - 1\", \"k\")\nrownames(results) <- rownames(P)\n\nresults"
        },
        {
            "cell_type": "markdown",
            "metadata": {},
            "source": "### \u0422\u0435\u043e\u0440\u0435\u0442\u0438\u0447\u0435\u0441\u043a\u0438"
        },
        {
            "cell_type": "code",
            "execution_count": null,
            "metadata": {
                "trusted": true
            },
            "outputs": [],
            "source": "initial_state_probabilities <- c(1, 0, 0, 0)\ntransition_matrix <- data.matrix(P)\ntransition_matrix"
        },
        {
            "cell_type": "code",
            "execution_count": null,
            "metadata": {
                "trusted": true
            },
            "outputs": [],
            "source": "if (!require(\"matrixcalc\")) {\n    install.packages(\"matrixcalc\")\n}\n\ninitial_state_probabilities %*% matrix.power(transition_matrix, k - 2)"
        },
        {
            "cell_type": "code",
            "execution_count": null,
            "metadata": {
                "trusted": true
            },
            "outputs": [],
            "source": "initial_state_probabilities %*% matrix.power(transition_matrix, k - 1)"
        },
        {
            "cell_type": "code",
            "execution_count": null,
            "metadata": {
                "trusted": true
            },
            "outputs": [],
            "source": "initial_state_probabilities %*% matrix.power(transition_matrix, k)"
        },
        {
            "cell_type": "markdown",
            "metadata": {},
            "source": "\u041a\u0430\u043a \u0432\u0438\u0434\u043d\u043e, \u0442\u0435\u043e\u0440\u0435\u0442\u0438\u0447\u0435\u0441\u043a\u0438 \u0432\u044b\u0447\u0438\u0441\u043b\u0435\u043d\u043d\u0430\u044f \u043c\u0430\u0442\u0440\u0438\u0446\u0430 \u0441 \u043d\u0435\u043a\u043e\u0442\u043e\u0440\u043e\u0439 \u0442\u043e\u0447\u043d\u043e\u0441\u0442\u044c\u044e \u0441\u043e\u0432\u043f\u0430\u0434\u0430\u0435\u0442\n\u0441\u043e \u0437\u043d\u0430\u0447\u0435\u043d\u0438\u044f\u043c\u0438, \u043f\u043e\u043b\u0443\u0447\u0435\u043d\u043d\u044b\u043c\u0438 \u0442\u0435\u043e\u0440\u0435\u0442\u0438\u0447\u0435\u0441\u043a\u0438. \u041f\u0440\u0438 \u0443\u0432\u0435\u043b\u0438\u0447\u0435\u043d\u0438\u0438 \u043a\u043e\u043b\u0438\u0447\u0435\u0441\u0442\u0432\u0430\n\u044d\u043a\u0441\u043f\u0435\u0440\u0438\u043c\u0435\u043d\u0442\u043e\u0432 $N$ \u0442\u043e\u0447\u043d\u043e\u0441\u0442\u044c \u0442\u043e\u043b\u044c\u043a\u043e \u0443\u0432\u0435\u043b\u0438\u0447\u0438\u0432\u0430\u0435\u0442\u0441\u044f."
        },
        {
            "cell_type": "markdown",
            "metadata": {},
            "source": "# \u0417\u0430\u0434\u0430\u043d\u0438\u0435 2"
        },
        {
            "cell_type": "code",
            "execution_count": null,
            "metadata": {
                "trusted": true
            },
            "outputs": [],
            "source": "variant <- 5\nset.seed(variant)\nk <- sample(c(10:25), 1)\n# \u0418\u043d\u0442\u0435\u0441\u0438\u0432\u043d\u043e\u0441\u0442\u044c \u043f\u043e\u043b\u0443\u0447\u0430\u043b\u0430\u0441\u044c \u0431\u043e\u043b\u044c\u0448\u0435 1, \u043f\u043e\u044d\u0442\u043e\u043c\u0443 \u0437\u0430\u043c\u0435\u043d\u0438\u043b \u0437\u043d\u0430\u0447\u0435\u043d\u0438\u0435.\n# t1 <- sample(c(14:20), 1)\nt1 <- 100\nt2 <- sample(c(2:5), 1)\nView(data.frame(k, t1, t2))"
        },
        {
            "cell_type": "markdown",
            "metadata": {},
            "source": "### \u0427\u0438\u0441\u043b\u0435\u043d\u043d\u043e"
        },
        {
            "cell_type": "markdown",
            "metadata": {},
            "source": "#### 1. \u0412\u0435\u0440\u043e\u044f\u0442\u043d\u043e\u0441\u0442\u044c \u0442\u043e\u0433\u043e, \u0447\u0442\u043e \u043f\u0440\u043e\u0433\u0440\u0430\u043c\u043c\u0430 \u043d\u0435 \u0431\u0443\u0434\u0435\u0442 \u0432\u044b\u043f\u043e\u043b\u043d\u0435\u043d\u0430 \u0441\u0440\u0430\u0437\u0443 \u0436\u0435, \u043a\u0430\u043a \u0442\u043e\u043b\u044c\u043a\u043e \u043e\u043d\u0430 \u043f\u043e\u0441\u0442\u0443\u043f\u0438\u043b\u0430 \u043d\u0430 \u0442\u0435\u0440\u043c\u0438\u043d\u0430\u043b\n\u043e\u043d\u0430  \u0436\u0435 \u043e\u0431\u0440\u0430\u0442\u043d\u0430\u044f \u0432\u0435\u0440\u043e\u044f\u0442\u043d\u043e\u0441\u0442\u044c \u0442\u043e\u0433\u043e, \u0447\u0442\u043e\n\u043f\u0440\u043e\u0433\u0440\u0430\u043c\u043c\u0430 **\u0431\u0443\u0434\u0435\u0442 \u0432\u044b\u043f\u043e\u043b\u043d\u0435\u043d\u0430** \u0441\u0440\u0430\u0437\u0443 \u0436\u0435, \u0442\u043e \u0435\u0441\u0442\u044c:"
        },
        {
            "cell_type": "code",
            "execution_count": null,
            "metadata": {
                "trusted": true
            },
            "outputs": [],
            "source": "if (!require(\"simmer\")) {\n    install.packages(\"simmer\")\n}\nlibrary(simmer)\n\nenv <- simmer(\"SuperDuperSim\")\nenv"
        },
        {
            "cell_type": "code",
            "execution_count": null,
            "metadata": {
                "trusted": true
            },
            "outputs": [],
            "source": "programmers <- trajectory(\"programmers' path\") %>%\n    ## add an intake activity\n    seize(\"server\", 1) %>%\n    timeout(function() rexp(1, 1 / t2)) %>%\n    release(\"server\", 1)"
        },
        {
            "cell_type": "code",
            "execution_count": null,
            "metadata": {
                "trusted": true
            },
            "outputs": [],
            "source": "env %>%\n    add_resource(\"server\", 1) %>%\n    add_generator(\"programmers\", programmers, function() rexp(1, k / t1))"
        },
        {
            "cell_type": "code",
            "execution_count": null,
            "metadata": {
                "trusted": true
            },
            "outputs": [],
            "source": "env %>%\n    reset() %>%\n    run(1000000)"
        },
        {
            "cell_type": "code",
            "execution_count": null,
            "metadata": {
                "trusted": true
            },
            "outputs": [],
            "source": "activities <- env %>% get_mon_arrivals()\nactivities"
        },
        {
            "cell_type": "code",
            "execution_count": null,
            "metadata": {
                "trusted": true
            },
            "outputs": [],
            "source": "resources <- env %>% get_mon_resources()\nresources"
        },
        {
            "cell_type": "markdown",
            "metadata": {},
            "source": "#### 1. \u0412\u0435\u0440\u043e\u044f\u0442\u043d\u043e\u0441\u0442\u044c \u0442\u043e\u0433\u043e, \u0447\u0442\u043e \u043f\u0440\u043e\u0433\u0440\u0430\u043c\u043c\u0430 \u043d\u0435 \u0431\u0443\u0434\u0435\u0442 \u0432\u044b\u043f\u043e\u043b\u043d\u0435\u043d\u0430 \u0441\u0440\u0430\u0437\u0443 \u0436\u0435, \u043a\u0430\u043a \u0442\u043e\u043b\u044c\u043a\u043e \u043e\u043d\u0430 \u043f\u043e\u0441\u0442\u0443\u043f\u0438\u043b\u0430 \u043d\u0430 \u0442\u0435\u0440\u043c\u0438\u043d\u0430\u043b\n\u043e\u043d\u0430  \u0436\u0435 \u043e\u0431\u0440\u0430\u0442\u043d\u0430\u044f \u0432\u0435\u0440\u043e\u044f\u0442\u043d\u043e\u0441\u0442\u044c \u0442\u043e\u0433\u043e, \u0447\u0442\u043e\n\u043f\u0440\u043e\u0433\u0440\u0430\u043c\u043c\u0430 **\u0431\u0443\u0434\u0435\u0442 \u0432\u044b\u043f\u043e\u043b\u043d\u0435\u043d\u0430** \u0441\u0440\u0430\u0437\u0443 \u0436\u0435, \u0442\u043e \u0435\u0441\u0442\u044c:"
        },
        {
            "cell_type": "code",
            "execution_count": null,
            "metadata": {
                "trusted": true
            },
            "outputs": [],
            "source": "EPS <- 0.0001 # \u0414\u043e\u043b\u0436\u043d\u043e \u0431\u044b\u0442\u044c 0, \u043d\u043e \u0432 \u043c\u043e\u0434\u0435\u043b\u0438 \u043f\u0440\u0438\u0441\u0443\u0442\u0441\u0442\u0432\u0443\u044e\u0442 \u043d\u0435\u043a\u043e\u0442\u043e\u0440\u044b\u0435 \u043f\u043e\u0433\u0440\u0435\u0448\u043d\u043e\u0441\u0442\u0438.\nqueue <- resources$queue\nincome_count <- length(activities$name)\nprograms_starts <- length(\n    subset(activities, (activities$end_time - activities$start_time - activities$activity_time) > EPS)$name\n)\n\nprograms_starts\nincome_count"
        },
        {
            "cell_type": "code",
            "execution_count": null,
            "metadata": {
                "trusted": true
            },
            "outputs": [],
            "source": "program_wont_be_executed_immediately <- programs_starts / income_count\nprogram_wont_be_executed_immediately"
        },
        {
            "cell_type": "markdown",
            "metadata": {},
            "source": "#### 2. \u0421\u0440\u0435\u0434\u043d\u0435\u0435 \u0432\u0440\u0435\u043c\u044f \u0434\u043e \u043f\u043e\u043b\u0443\u0447\u0435\u043d\u0438\u044f \u043f\u043e\u043b\u044c\u0437\u043e\u0432\u0430\u0442\u0435\u043b\u0435\u043c \u0440\u0435\u0437\u0443\u043b\u044c\u0442\u0430\u0442\u043e\u0432 \u0440\u0435\u0430\u043b\u0438\u0437\u0430\u0446\u0438\u0438."
        },
        {
            "cell_type": "code",
            "execution_count": null,
            "metadata": {
                "trusted": true
            },
            "outputs": [],
            "source": "finished_activity_time <- mean(activities$end_time - activities$start_time)\nfinished_activity_time"
        },
        {
            "cell_type": "markdown",
            "metadata": {},
            "source": "#### 3. \u0421\u0440\u0435\u0434\u043d\u0435\u0435 \u043a\u043e\u043b\u0438\u0447\u0435\u0441\u0442\u0432\u043e \u043f\u0440\u043e\u0433\u0440\u0430\u043c\u043c, \u043e\u0436\u0438\u0434\u0430\u044e\u0449\u0438\u0445 \u0432\u044b\u043f\u043e\u043b\u043d\u0435\u043d\u0438\u044f \u043d\u0430 \u0441\u0435\u0440\u0432\u0435\u0440\u0435."
        },
        {
            "cell_type": "code",
            "execution_count": null,
            "metadata": {
                "trusted": true
            },
            "outputs": [],
            "source": "mean_queue <- program_wont_be_executed_immediately^2 / (1 - program_wont_be_executed_immediately)\nmean_queue"
        },
        {
            "cell_type": "markdown",
            "metadata": {},
            "source": "### \u0422\u0435\u043e\u0440\u0435\u0442\u0438\u0447\u0435\u0441\u043a\u0438"
        },
        {
            "cell_type": "markdown",
            "metadata": {},
            "source": "#### 1. \u0412\u0435\u0440\u043e\u044f\u0442\u043d\u043e\u0441\u0442\u044c \u0442\u043e\u0433\u043e, \u0447\u0442\u043e \u043f\u0440\u043e\u0433\u0440\u0430\u043c\u043c\u0430 \u043d\u0435 \u0431\u0443\u0434\u0435\u0442 \u0432\u044b\u043f\u043e\u043b\u043d\u0435\u043d\u0430 \u0441\u0440\u0430\u0437\u0443 \u0436\u0435, \u043a\u0430\u043a \u0442\u043e\u043b\u044c\u043a\u043e \u043e\u043d\u0430 \u043f\u043e\u0441\u0442\u0443\u043f\u0438\u043b\u0430 \u043d\u0430 \u0442\u0435\u0440\u043c\u0438\u043d\u0430\u043b\n\u043e\u043d\u0430  \u0436\u0435 \u043e\u0431\u0440\u0430\u0442\u043d\u0430\u044f \u0432\u0435\u0440\u043e\u044f\u0442\u043d\u043e\u0441\u0442\u044c \u0442\u043e\u0433\u043e, \u0447\u0442\u043e\n\u043f\u0440\u043e\u0433\u0440\u0430\u043c\u043c\u0430 **\u0431\u0443\u0434\u0435\u0442 \u0432\u044b\u043f\u043e\u043b\u043d\u0435\u043d\u0430** \u0441\u0440\u0430\u0437\u0443 \u0436\u0435, \u0442\u043e \u0435\u0441\u0442\u044c:\n$$\n1 - P_0 = 1 - (1 - \\rho) = \\rho = \\frac{\\lambda}{\\mu}\n$$\n\u0433\u0434\u0435 $\\lambda$ - \u0438\u043d\u0442\u0435\u043d\u0441\u0438\u0432\u043d\u043e\u0441\u0442\u044c, \u0441 \u043a\u043e\u0442\u043e\u0440\u043e\u0439 \u0437\u0430\u044f\u0432\u043a\u0438 \u043f\u0440\u0438\u0445\u043e\u0434\u044f\u0442:\n$$\n\\lambda = \\frac{k}{t_1} \\\\\n$$"
        },
        {
            "cell_type": "code",
            "execution_count": null,
            "metadata": {
                "trusted": true
            },
            "outputs": [],
            "source": "income_intensity <- k / t1\nincome_intensity"
        },
        {
            "cell_type": "markdown",
            "metadata": {},
            "source": "\u0430 $\\mu$ - \u0438\u043d\u0442\u0435\u043d\u0441\u0438\u0432\u043d\u043e\u0441\u0442\u044c \u043e\u0431\u0441\u043b\u0443\u0436\u0438\u0432\u0430\u043d\u0438\u044f:\n$$\n\\mu = \\frac{1}{t_2}\n$$"
        },
        {
            "cell_type": "code",
            "execution_count": null,
            "metadata": {
                "trusted": true
            },
            "outputs": [],
            "source": "process_intensity <- 1 / t2\nprocess_intensity"
        },
        {
            "cell_type": "code",
            "execution_count": null,
            "metadata": {
                "trusted": true
            },
            "outputs": [],
            "source": "program_wont_be_executed_immediately <- income_intensity / process_intensity\nprogram_wont_be_executed_immediately"
        },
        {
            "cell_type": "markdown",
            "metadata": {},
            "source": "#### 2. \u0421\u0440\u0435\u0434\u043d\u0435\u0435 \u0432\u0440\u0435\u043c\u044f \u0434\u043e \u043f\u043e\u043b\u0443\u0447\u0435\u043d\u0438\u044f \u043f\u043e\u043b\u044c\u0437\u043e\u0432\u0430\u0442\u0435\u043b\u0435\u043c \u0440\u0435\u0437\u0443\u043b\u044c\u0442\u0430\u0442\u043e\u0432 \u0440\u0435\u0430\u043b\u0438\u0437\u0430\u0446\u0438\u0438.\n\n\u041e\u043d\u043e \u0436\u0435 \u0441\u0440\u0435\u0434\u043d\u0435\u0435 \u0432\u0440\u0435\u043c\u044f \u043f\u0440\u0435\u0431\u044b\u0432\u0430\u043d\u0438\u044f \u0437\u0430\u044f\u0432\u043a\u0438 \u0432 \u0441\u0438\u0441\u0442\u0435\u043c\u0435 \u043f\u043e \u0444\u043e\u0440\u043c\u0443\u043b\u0435 \u041b\u0438\u0442\u0442\u043b\u0430:\n$$\nT_{\\text{\u0441\u0438\u0441\u0442}} = \\frac{1}{\\mu(1 - \\rho)}\n$$"
        },
        {
            "cell_type": "code",
            "execution_count": null,
            "metadata": {
                "trusted": true
            },
            "outputs": [],
            "source": "time_to_get <- 1 / process_intensity / (1 - program_wont_be_executed_immediately)\ntime_to_get"
        },
        {
            "cell_type": "markdown",
            "metadata": {},
            "source": "#### 3. \u0421\u0440\u0435\u0434\u043d\u0435\u0435 \u043a\u043e\u043b\u0438\u0447\u0435\u0441\u0442\u0432\u043e \u043f\u0440\u043e\u0433\u0440\u0430\u043c\u043c, \u043e\u0436\u0438\u0434\u0430\u044e\u0449\u0438\u0445 \u0432\u044b\u043f\u043e\u043b\u043d\u0435\u043d\u0438\u044f \u043d\u0430 \u0441\u0435\u0440\u0432\u0435\u0440\u0435.\n\n\u041e\u043d\u0430 \u0436\u0435 \u0441\u0440\u0435\u0434\u043d\u044f\u044f \u0434\u043b\u0438\u043d\u0430 \u043e\u0447\u0435\u0440\u0435\u0434\u0438 $L_{\\text{\u043e\u0447}} = \\frac{\\rho ^ 2}{1 - \\rho}$:"
        },
        {
            "cell_type": "code",
            "execution_count": null,
            "metadata": {
                "trusted": true
            },
            "outputs": [],
            "source": "mean_queue <- program_wont_be_executed_immediately^2 / (1 - program_wont_be_executed_immediately)\nmean_queue"
        },
        {
            "cell_type": "markdown",
            "metadata": {},
            "source": "\u041a\u0430\u043a \u0432\u0438\u0434\u043d\u043e, \u0432\u0441\u0435 \u0437\u043d\u0430\u0447\u0435\u043d\u0438\u044f \u0441\u043e\u0448\u043b\u0438\u0441\u044c.\n\n## \u0414\u043e\u043f\u043e\u043b\u043d\u0438\u0442\u0435\u043b\u044c\u043d\u043e\u0435 \u0437\u0430\u0434\u0430\u043d\u0438\u0435\n\u041d\u0430\u0439\u0442\u0438 \u0432\u0435\u0440\u043e\u044f\u0442\u043d\u043e\u0441\u0442\u044c  \u0442\u043e\u0433\u043e, \u0447\u0442\u043e \u0442\u043e\u0447\u043a\u0430 \u043f\u043e\u0441\u043b\u0435 $k$\n\u0448\u0430\u0433\u043e\u0432 \u043e\u043a\u0430\u0436\u0435\u0442\u0441\u044f \u043e\u0442 \u043d\u0430\u0447\u0430\u043b\u0430 \u043a\u043e\u043e\u0440\u0434\u0438\u043d\u0430\u0442 \u043d\u0435 \u0434\u0430\u043b\u044c\u0448\u0435, \u0447\u0435\u043c \u043d\u0430 \u0440\u0430\u0441\u0441\u0442\u043e\u044f\u043d\u0438\u0438, \u0440\u0430\u0432\u043d\u043e\u043c $m$."
        },
        {
            "cell_type": "markdown",
            "metadata": {},
            "source": "$$\nP P_0\n$$"
        },
        {
            "cell_type": "code",
            "execution_count": 23,
            "metadata": {
                "trusted": true
            },
            "outputs": [
                {
                    "data": {
                        "text/html": "<table class=\"dataframe\">\n<caption>A data.frame: 1 \u00d7 5</caption>\n<thead>\n\t<tr><th scope=col>p1</th><th scope=col>p2</th><th scope=col>p3</th><th scope=col>k</th><th scope=col>m</th></tr>\n\t<tr><th scope=col>&lt;dbl&gt;</th><th scope=col>&lt;dbl&gt;</th><th scope=col>&lt;dbl&gt;</th><th scope=col>&lt;int&gt;</th><th scope=col>&lt;int&gt;</th></tr>\n</thead>\n<tbody>\n\t<tr><td>0.1110878</td><td>0.3801893</td><td>0.5087229</td><td>6</td><td>1</td></tr>\n</tbody>\n</table>\n",
                        "text/latex": "A data.frame: 1 \u00d7 5\n\\begin{tabular}{lllll}\n p1 & p2 & p3 & k & m\\\\\n <dbl> & <dbl> & <dbl> & <int> & <int>\\\\\n\\hline\n\t 0.1110878 & 0.3801893 & 0.5087229 & 6 & 1\\\\\n\\end{tabular}\n",
                        "text/markdown": "\nA data.frame: 1 \u00d7 5\n\n| p1 &lt;dbl&gt; | p2 &lt;dbl&gt; | p3 &lt;dbl&gt; | k &lt;int&gt; | m &lt;int&gt; |\n|---|---|---|---|---|\n| 0.1110878 | 0.3801893 | 0.5087229 | 6 | 1 |\n\n",
                        "text/plain": "  p1        p2        p3        k m\n1 0.1110878 0.3801893 0.5087229 6 1"
                    },
                    "metadata": {},
                    "output_type": "display_data"
                }
            ],
            "source": "variant <- 5\nset.seed(variant)\n\npp <- runif(3)\n\nS <- pp[1] / sum(pp)\nR <- pp[2] / sum(pp)\nL <- pp[3] / sum(pp)\n\nk <- sample(c(4:8), 1)\nm <- sample(c(1:k), 1)\n\nView(data.frame(p1, p2, p3, k, m))"
        },
        {
            "cell_type": "markdown",
            "metadata": {},
            "source": "\u0418\u043d\u044b\u043c\u0438 \u0441\u043b\u043e\u0432\u0430\u043c\u0438, \u043e\u043d\u0430 \u043d\u0435 \u0434\u043e\u043b\u0436\u043d\u0430 \u043e\u0441\u0442\u0430\u0442\u044c\u0441\u044f \u0432 0, 1 \u0438\u043b\u0438 -1.\n\u0414\u043b\u044f \u044d\u0442\u043e\u0433\u043e \u0441\u043e\u0441\u0442\u0430\u0432\u0438\u043c \u043c\u0430\u0442\u0440\u0438\u0446\u0443 \u043f\u0435\u0440\u0435\u0445\u043e\u0434\u043e\u0432. \u0412\u0441\u0435\u0433\u043e \u0432 \u043d\u0435\u0439 \u0431\u0443\u0434\u0435\u0442 $1 + 2 \\cdot k$\n\u0441\u0442\u043e\u043b\u0431\u0446\u043e\u0432."
        },
        {
            "cell_type": "markdown",
            "metadata": {},
            "source": "\\begin{pmatrix}\nS & R & L & 0 & 0 & ... & 0 \\\\\nL & S & 0 & R & 0 & ... & 0 \\\\\nR & 0 & S & 0 & L & ... & 0 \\\\\n0 & L & 0 & S &  ... & & ... \\\\\n0 & 0 & R & ... &  ... & &  L \\text{ \u0438\u043b\u0438 } R^1 \\\\\n... & ... & ... & & & & 0 \\\\\n0 & 0 & ... & 0 & R \\text{ \u0438\u043b\u0438 } L^1 & 0 & S\n\\end{pmatrix}\n\n---\nS - \u0432\u0435\u0440\u043e\u044f\u0442\u043d\u043e\u0441\u0442\u044c \u043e\u0441\u0442\u0430\u0442\u044c\u0441\u044f,\nL - \u0432\u0435\u0440\u043e\u044f\u0442\u043d\u043e\u0441\u0442\u044c \u043f\u0435\u0440\u0435\u043c\u0435\u0441\u0442\u0438\u0442\u044c\u0441\u044f \u0432\u043b\u0435\u0432\u043e,\nR - \u0432\u0435\u0440\u043e\u044f\u0442\u043d\u043e\u0441\u0442\u044c \u043f\u0435\u0440\u0435\u043c\u0435\u0441\u0442\u0438\u0442\u044c\u0441\u044f \u0432\u043f\u0440\u0430\u0432\u043e,\n1. \u0417\u0430\u0432\u0438\u0441\u0438\u0442 \u043e\u0442 \u0447\u0435\u0442\u043d\u043e\u0441\u0442\u0438 \u043a\u043e\u043b\u0438\u0447\u0435\u0441\u0442\u0432\u0430 \u0441\u0442\u043e\u043b\u0431\u0446\u043e\u0432"
        },
        {
            "cell_type": "code",
            "execution_count": 24,
            "metadata": {
                "trusted": true
            },
            "outputs": [
                {
                    "data": {
                        "text/html": "<table class=\"dataframe\">\n<caption>A data.frame: 13 \u00d7 13</caption>\n<thead>\n\t<tr><th scope=col>c.0.111087761458379..0.508722901943024..0.380189336598597..0..</th><th scope=col>c.0.380189336598597..0.111087761458379..0..0.508722901943024..</th><th scope=col>c.0.508722901943024..0..0.111087761458379..0..0.380189336598597..</th><th scope=col>c.0..0.380189336598597..0..0.111087761458379..0..0.508722901943024..</th><th scope=col>c.0..0..0.508722901943024..0..0.111087761458379..0..0.380189336598597..</th><th scope=col>c.0..0..0..0.380189336598597..0..0.111087761458379..0..0.508722901943024..</th><th scope=col>c.0..0..0..0..0.508722901943024..0..0.111087761458379..0..0.380189336598597..</th><th scope=col>c.0..0..0..0..0..0.380189336598597..0..0.111087761458379..0..</th><th scope=col>c.0..0..0..0..0..0..0.508722901943024..0..0.111087761458379..</th><th scope=col>c.0..0..0..0..0..0..0..0.380189336598597..0..0.111087761458379..</th><th scope=col>c.0..0..0..0..0..0..0..0..0.508722901943024..0..0.111087761458379..</th><th scope=col>c.0..0..0..0..0..0..0..0..0..0.380189336598597..0..0.111087761458379..</th><th scope=col>c.0..0..0..0..0..0..0..0..0..0..0.508722901943024..0..0.111087761458379</th></tr>\n\t<tr><th scope=col>&lt;dbl&gt;</th><th scope=col>&lt;dbl&gt;</th><th scope=col>&lt;dbl&gt;</th><th scope=col>&lt;dbl&gt;</th><th scope=col>&lt;dbl&gt;</th><th scope=col>&lt;dbl&gt;</th><th scope=col>&lt;dbl&gt;</th><th scope=col>&lt;dbl&gt;</th><th scope=col>&lt;dbl&gt;</th><th scope=col>&lt;dbl&gt;</th><th scope=col>&lt;dbl&gt;</th><th scope=col>&lt;dbl&gt;</th><th scope=col>&lt;dbl&gt;</th></tr>\n</thead>\n<tbody>\n\t<tr><td>0.1110878</td><td>0.3801893</td><td>0.5087229</td><td>0.0000000</td><td>0.0000000</td><td>0.0000000</td><td>0.0000000</td><td>0.0000000</td><td>0.0000000</td><td>0.0000000</td><td>0.0000000</td><td>0.0000000</td><td>0.0000000</td></tr>\n\t<tr><td>0.5087229</td><td>0.1110878</td><td>0.0000000</td><td>0.3801893</td><td>0.0000000</td><td>0.0000000</td><td>0.0000000</td><td>0.0000000</td><td>0.0000000</td><td>0.0000000</td><td>0.0000000</td><td>0.0000000</td><td>0.0000000</td></tr>\n\t<tr><td>0.3801893</td><td>0.0000000</td><td>0.1110878</td><td>0.0000000</td><td>0.5087229</td><td>0.0000000</td><td>0.0000000</td><td>0.0000000</td><td>0.0000000</td><td>0.0000000</td><td>0.0000000</td><td>0.0000000</td><td>0.0000000</td></tr>\n\t<tr><td>0.0000000</td><td>0.5087229</td><td>0.0000000</td><td>0.1110878</td><td>0.0000000</td><td>0.3801893</td><td>0.0000000</td><td>0.0000000</td><td>0.0000000</td><td>0.0000000</td><td>0.0000000</td><td>0.0000000</td><td>0.0000000</td></tr>\n\t<tr><td>0.0000000</td><td>0.0000000</td><td>0.3801893</td><td>0.0000000</td><td>0.1110878</td><td>0.0000000</td><td>0.5087229</td><td>0.0000000</td><td>0.0000000</td><td>0.0000000</td><td>0.0000000</td><td>0.0000000</td><td>0.0000000</td></tr>\n\t<tr><td>0.0000000</td><td>0.0000000</td><td>0.0000000</td><td>0.5087229</td><td>0.0000000</td><td>0.1110878</td><td>0.0000000</td><td>0.3801893</td><td>0.0000000</td><td>0.0000000</td><td>0.0000000</td><td>0.0000000</td><td>0.0000000</td></tr>\n\t<tr><td>0.0000000</td><td>0.0000000</td><td>0.0000000</td><td>0.0000000</td><td>0.3801893</td><td>0.0000000</td><td>0.1110878</td><td>0.0000000</td><td>0.5087229</td><td>0.0000000</td><td>0.0000000</td><td>0.0000000</td><td>0.0000000</td></tr>\n\t<tr><td>0.0000000</td><td>0.0000000</td><td>0.0000000</td><td>0.0000000</td><td>0.0000000</td><td>0.5087229</td><td>0.0000000</td><td>0.1110878</td><td>0.0000000</td><td>0.3801893</td><td>0.0000000</td><td>0.0000000</td><td>0.0000000</td></tr>\n\t<tr><td>0.0000000</td><td>0.0000000</td><td>0.0000000</td><td>0.0000000</td><td>0.0000000</td><td>0.0000000</td><td>0.3801893</td><td>0.0000000</td><td>0.1110878</td><td>0.0000000</td><td>0.5087229</td><td>0.0000000</td><td>0.0000000</td></tr>\n\t<tr><td>0.0000000</td><td>0.0000000</td><td>0.0000000</td><td>0.0000000</td><td>0.0000000</td><td>0.0000000</td><td>0.0000000</td><td>0.5087229</td><td>0.0000000</td><td>0.1110878</td><td>0.0000000</td><td>0.3801893</td><td>0.0000000</td></tr>\n\t<tr><td>0.0000000</td><td>0.0000000</td><td>0.0000000</td><td>0.0000000</td><td>0.0000000</td><td>0.0000000</td><td>0.0000000</td><td>0.0000000</td><td>0.3801893</td><td>0.0000000</td><td>0.1110878</td><td>0.0000000</td><td>0.5087229</td></tr>\n\t<tr><td>0.0000000</td><td>0.0000000</td><td>0.0000000</td><td>0.0000000</td><td>0.0000000</td><td>0.0000000</td><td>0.0000000</td><td>0.0000000</td><td>0.0000000</td><td>0.5087229</td><td>0.0000000</td><td>0.1110878</td><td>0.0000000</td></tr>\n\t<tr><td>0.0000000</td><td>0.0000000</td><td>0.0000000</td><td>0.0000000</td><td>0.0000000</td><td>0.0000000</td><td>0.0000000</td><td>0.0000000</td><td>0.0000000</td><td>0.0000000</td><td>0.3801893</td><td>0.0000000</td><td>0.1110878</td></tr>\n</tbody>\n</table>\n",
                        "text/latex": "A data.frame: 13 \u00d7 13\n\\begin{tabular}{lllllllllllll}\n c.0.111087761458379..0.508722901943024..0.380189336598597..0.. & c.0.380189336598597..0.111087761458379..0..0.508722901943024.. & c.0.508722901943024..0..0.111087761458379..0..0.380189336598597.. & c.0..0.380189336598597..0..0.111087761458379..0..0.508722901943024.. & c.0..0..0.508722901943024..0..0.111087761458379..0..0.380189336598597.. & c.0..0..0..0.380189336598597..0..0.111087761458379..0..0.508722901943024.. & c.0..0..0..0..0.508722901943024..0..0.111087761458379..0..0.380189336598597.. & c.0..0..0..0..0..0.380189336598597..0..0.111087761458379..0.. & c.0..0..0..0..0..0..0.508722901943024..0..0.111087761458379.. & c.0..0..0..0..0..0..0..0.380189336598597..0..0.111087761458379.. & c.0..0..0..0..0..0..0..0..0.508722901943024..0..0.111087761458379.. & c.0..0..0..0..0..0..0..0..0..0.380189336598597..0..0.111087761458379.. & c.0..0..0..0..0..0..0..0..0..0..0.508722901943024..0..0.111087761458379\\\\\n <dbl> & <dbl> & <dbl> & <dbl> & <dbl> & <dbl> & <dbl> & <dbl> & <dbl> & <dbl> & <dbl> & <dbl> & <dbl>\\\\\n\\hline\n\t 0.1110878 & 0.3801893 & 0.5087229 & 0.0000000 & 0.0000000 & 0.0000000 & 0.0000000 & 0.0000000 & 0.0000000 & 0.0000000 & 0.0000000 & 0.0000000 & 0.0000000\\\\\n\t 0.5087229 & 0.1110878 & 0.0000000 & 0.3801893 & 0.0000000 & 0.0000000 & 0.0000000 & 0.0000000 & 0.0000000 & 0.0000000 & 0.0000000 & 0.0000000 & 0.0000000\\\\\n\t 0.3801893 & 0.0000000 & 0.1110878 & 0.0000000 & 0.5087229 & 0.0000000 & 0.0000000 & 0.0000000 & 0.0000000 & 0.0000000 & 0.0000000 & 0.0000000 & 0.0000000\\\\\n\t 0.0000000 & 0.5087229 & 0.0000000 & 0.1110878 & 0.0000000 & 0.3801893 & 0.0000000 & 0.0000000 & 0.0000000 & 0.0000000 & 0.0000000 & 0.0000000 & 0.0000000\\\\\n\t 0.0000000 & 0.0000000 & 0.3801893 & 0.0000000 & 0.1110878 & 0.0000000 & 0.5087229 & 0.0000000 & 0.0000000 & 0.0000000 & 0.0000000 & 0.0000000 & 0.0000000\\\\\n\t 0.0000000 & 0.0000000 & 0.0000000 & 0.5087229 & 0.0000000 & 0.1110878 & 0.0000000 & 0.3801893 & 0.0000000 & 0.0000000 & 0.0000000 & 0.0000000 & 0.0000000\\\\\n\t 0.0000000 & 0.0000000 & 0.0000000 & 0.0000000 & 0.3801893 & 0.0000000 & 0.1110878 & 0.0000000 & 0.5087229 & 0.0000000 & 0.0000000 & 0.0000000 & 0.0000000\\\\\n\t 0.0000000 & 0.0000000 & 0.0000000 & 0.0000000 & 0.0000000 & 0.5087229 & 0.0000000 & 0.1110878 & 0.0000000 & 0.3801893 & 0.0000000 & 0.0000000 & 0.0000000\\\\\n\t 0.0000000 & 0.0000000 & 0.0000000 & 0.0000000 & 0.0000000 & 0.0000000 & 0.3801893 & 0.0000000 & 0.1110878 & 0.0000000 & 0.5087229 & 0.0000000 & 0.0000000\\\\\n\t 0.0000000 & 0.0000000 & 0.0000000 & 0.0000000 & 0.0000000 & 0.0000000 & 0.0000000 & 0.5087229 & 0.0000000 & 0.1110878 & 0.0000000 & 0.3801893 & 0.0000000\\\\\n\t 0.0000000 & 0.0000000 & 0.0000000 & 0.0000000 & 0.0000000 & 0.0000000 & 0.0000000 & 0.0000000 & 0.3801893 & 0.0000000 & 0.1110878 & 0.0000000 & 0.5087229\\\\\n\t 0.0000000 & 0.0000000 & 0.0000000 & 0.0000000 & 0.0000000 & 0.0000000 & 0.0000000 & 0.0000000 & 0.0000000 & 0.5087229 & 0.0000000 & 0.1110878 & 0.0000000\\\\\n\t 0.0000000 & 0.0000000 & 0.0000000 & 0.0000000 & 0.0000000 & 0.0000000 & 0.0000000 & 0.0000000 & 0.0000000 & 0.0000000 & 0.3801893 & 0.0000000 & 0.1110878\\\\\n\\end{tabular}\n",
                        "text/markdown": "\nA data.frame: 13 \u00d7 13\n\n| c.0.111087761458379..0.508722901943024..0.380189336598597..0.. &lt;dbl&gt; | c.0.380189336598597..0.111087761458379..0..0.508722901943024.. &lt;dbl&gt; | c.0.508722901943024..0..0.111087761458379..0..0.380189336598597.. &lt;dbl&gt; | c.0..0.380189336598597..0..0.111087761458379..0..0.508722901943024.. &lt;dbl&gt; | c.0..0..0.508722901943024..0..0.111087761458379..0..0.380189336598597.. &lt;dbl&gt; | c.0..0..0..0.380189336598597..0..0.111087761458379..0..0.508722901943024.. &lt;dbl&gt; | c.0..0..0..0..0.508722901943024..0..0.111087761458379..0..0.380189336598597.. &lt;dbl&gt; | c.0..0..0..0..0..0.380189336598597..0..0.111087761458379..0.. &lt;dbl&gt; | c.0..0..0..0..0..0..0.508722901943024..0..0.111087761458379.. &lt;dbl&gt; | c.0..0..0..0..0..0..0..0.380189336598597..0..0.111087761458379.. &lt;dbl&gt; | c.0..0..0..0..0..0..0..0..0.508722901943024..0..0.111087761458379.. &lt;dbl&gt; | c.0..0..0..0..0..0..0..0..0..0.380189336598597..0..0.111087761458379.. &lt;dbl&gt; | c.0..0..0..0..0..0..0..0..0..0..0.508722901943024..0..0.111087761458379 &lt;dbl&gt; |\n|---|---|---|---|---|---|---|---|---|---|---|---|---|\n| 0.1110878 | 0.3801893 | 0.5087229 | 0.0000000 | 0.0000000 | 0.0000000 | 0.0000000 | 0.0000000 | 0.0000000 | 0.0000000 | 0.0000000 | 0.0000000 | 0.0000000 |\n| 0.5087229 | 0.1110878 | 0.0000000 | 0.3801893 | 0.0000000 | 0.0000000 | 0.0000000 | 0.0000000 | 0.0000000 | 0.0000000 | 0.0000000 | 0.0000000 | 0.0000000 |\n| 0.3801893 | 0.0000000 | 0.1110878 | 0.0000000 | 0.5087229 | 0.0000000 | 0.0000000 | 0.0000000 | 0.0000000 | 0.0000000 | 0.0000000 | 0.0000000 | 0.0000000 |\n| 0.0000000 | 0.5087229 | 0.0000000 | 0.1110878 | 0.0000000 | 0.3801893 | 0.0000000 | 0.0000000 | 0.0000000 | 0.0000000 | 0.0000000 | 0.0000000 | 0.0000000 |\n| 0.0000000 | 0.0000000 | 0.3801893 | 0.0000000 | 0.1110878 | 0.0000000 | 0.5087229 | 0.0000000 | 0.0000000 | 0.0000000 | 0.0000000 | 0.0000000 | 0.0000000 |\n| 0.0000000 | 0.0000000 | 0.0000000 | 0.5087229 | 0.0000000 | 0.1110878 | 0.0000000 | 0.3801893 | 0.0000000 | 0.0000000 | 0.0000000 | 0.0000000 | 0.0000000 |\n| 0.0000000 | 0.0000000 | 0.0000000 | 0.0000000 | 0.3801893 | 0.0000000 | 0.1110878 | 0.0000000 | 0.5087229 | 0.0000000 | 0.0000000 | 0.0000000 | 0.0000000 |\n| 0.0000000 | 0.0000000 | 0.0000000 | 0.0000000 | 0.0000000 | 0.5087229 | 0.0000000 | 0.1110878 | 0.0000000 | 0.3801893 | 0.0000000 | 0.0000000 | 0.0000000 |\n| 0.0000000 | 0.0000000 | 0.0000000 | 0.0000000 | 0.0000000 | 0.0000000 | 0.3801893 | 0.0000000 | 0.1110878 | 0.0000000 | 0.5087229 | 0.0000000 | 0.0000000 |\n| 0.0000000 | 0.0000000 | 0.0000000 | 0.0000000 | 0.0000000 | 0.0000000 | 0.0000000 | 0.5087229 | 0.0000000 | 0.1110878 | 0.0000000 | 0.3801893 | 0.0000000 |\n| 0.0000000 | 0.0000000 | 0.0000000 | 0.0000000 | 0.0000000 | 0.0000000 | 0.0000000 | 0.0000000 | 0.3801893 | 0.0000000 | 0.1110878 | 0.0000000 | 0.5087229 |\n| 0.0000000 | 0.0000000 | 0.0000000 | 0.0000000 | 0.0000000 | 0.0000000 | 0.0000000 | 0.0000000 | 0.0000000 | 0.5087229 | 0.0000000 | 0.1110878 | 0.0000000 |\n| 0.0000000 | 0.0000000 | 0.0000000 | 0.0000000 | 0.0000000 | 0.0000000 | 0.0000000 | 0.0000000 | 0.0000000 | 0.0000000 | 0.3801893 | 0.0000000 | 0.1110878 |\n\n",
                        "text/plain": "   c.0.111087761458379..0.508722901943024..0.380189336598597..0..\n1  0.1110878                                                     \n2  0.5087229                                                     \n3  0.3801893                                                     \n4  0.0000000                                                     \n5  0.0000000                                                     \n6  0.0000000                                                     \n7  0.0000000                                                     \n8  0.0000000                                                     \n9  0.0000000                                                     \n10 0.0000000                                                     \n11 0.0000000                                                     \n12 0.0000000                                                     \n13 0.0000000                                                     \n   c.0.380189336598597..0.111087761458379..0..0.508722901943024..\n1  0.3801893                                                     \n2  0.1110878                                                     \n3  0.0000000                                                     \n4  0.5087229                                                     \n5  0.0000000                                                     \n6  0.0000000                                                     \n7  0.0000000                                                     \n8  0.0000000                                                     \n9  0.0000000                                                     \n10 0.0000000                                                     \n11 0.0000000                                                     \n12 0.0000000                                                     \n13 0.0000000                                                     \n   c.0.508722901943024..0..0.111087761458379..0..0.380189336598597..\n1  0.5087229                                                        \n2  0.0000000                                                        \n3  0.1110878                                                        \n4  0.0000000                                                        \n5  0.3801893                                                        \n6  0.0000000                                                        \n7  0.0000000                                                        \n8  0.0000000                                                        \n9  0.0000000                                                        \n10 0.0000000                                                        \n11 0.0000000                                                        \n12 0.0000000                                                        \n13 0.0000000                                                        \n   c.0..0.380189336598597..0..0.111087761458379..0..0.508722901943024..\n1  0.0000000                                                           \n2  0.3801893                                                           \n3  0.0000000                                                           \n4  0.1110878                                                           \n5  0.0000000                                                           \n6  0.5087229                                                           \n7  0.0000000                                                           \n8  0.0000000                                                           \n9  0.0000000                                                           \n10 0.0000000                                                           \n11 0.0000000                                                           \n12 0.0000000                                                           \n13 0.0000000                                                           \n   c.0..0..0.508722901943024..0..0.111087761458379..0..0.380189336598597..\n1  0.0000000                                                              \n2  0.0000000                                                              \n3  0.5087229                                                              \n4  0.0000000                                                              \n5  0.1110878                                                              \n6  0.0000000                                                              \n7  0.3801893                                                              \n8  0.0000000                                                              \n9  0.0000000                                                              \n10 0.0000000                                                              \n11 0.0000000                                                              \n12 0.0000000                                                              \n13 0.0000000                                                              \n   c.0..0..0..0.380189336598597..0..0.111087761458379..0..0.508722901943024..\n1  0.0000000                                                                 \n2  0.0000000                                                                 \n3  0.0000000                                                                 \n4  0.3801893                                                                 \n5  0.0000000                                                                 \n6  0.1110878                                                                 \n7  0.0000000                                                                 \n8  0.5087229                                                                 \n9  0.0000000                                                                 \n10 0.0000000                                                                 \n11 0.0000000                                                                 \n12 0.0000000                                                                 \n13 0.0000000                                                                 \n   c.0..0..0..0..0.508722901943024..0..0.111087761458379..0..0.380189336598597..\n1  0.0000000                                                                    \n2  0.0000000                                                                    \n3  0.0000000                                                                    \n4  0.0000000                                                                    \n5  0.5087229                                                                    \n6  0.0000000                                                                    \n7  0.1110878                                                                    \n8  0.0000000                                                                    \n9  0.3801893                                                                    \n10 0.0000000                                                                    \n11 0.0000000                                                                    \n12 0.0000000                                                                    \n13 0.0000000                                                                    \n   c.0..0..0..0..0..0.380189336598597..0..0.111087761458379..0..\n1  0.0000000                                                    \n2  0.0000000                                                    \n3  0.0000000                                                    \n4  0.0000000                                                    \n5  0.0000000                                                    \n6  0.3801893                                                    \n7  0.0000000                                                    \n8  0.1110878                                                    \n9  0.0000000                                                    \n10 0.5087229                                                    \n11 0.0000000                                                    \n12 0.0000000                                                    \n13 0.0000000                                                    \n   c.0..0..0..0..0..0..0.508722901943024..0..0.111087761458379..\n1  0.0000000                                                    \n2  0.0000000                                                    \n3  0.0000000                                                    \n4  0.0000000                                                    \n5  0.0000000                                                    \n6  0.0000000                                                    \n7  0.5087229                                                    \n8  0.0000000                                                    \n9  0.1110878                                                    \n10 0.0000000                                                    \n11 0.3801893                                                    \n12 0.0000000                                                    \n13 0.0000000                                                    \n   c.0..0..0..0..0..0..0..0.380189336598597..0..0.111087761458379..\n1  0.0000000                                                       \n2  0.0000000                                                       \n3  0.0000000                                                       \n4  0.0000000                                                       \n5  0.0000000                                                       \n6  0.0000000                                                       \n7  0.0000000                                                       \n8  0.3801893                                                       \n9  0.0000000                                                       \n10 0.1110878                                                       \n11 0.0000000                                                       \n12 0.5087229                                                       \n13 0.0000000                                                       \n   c.0..0..0..0..0..0..0..0..0.508722901943024..0..0.111087761458379..\n1  0.0000000                                                          \n2  0.0000000                                                          \n3  0.0000000                                                          \n4  0.0000000                                                          \n5  0.0000000                                                          \n6  0.0000000                                                          \n7  0.0000000                                                          \n8  0.0000000                                                          \n9  0.5087229                                                          \n10 0.0000000                                                          \n11 0.1110878                                                          \n12 0.0000000                                                          \n13 0.3801893                                                          \n   c.0..0..0..0..0..0..0..0..0..0.380189336598597..0..0.111087761458379..\n1  0.0000000                                                             \n2  0.0000000                                                             \n3  0.0000000                                                             \n4  0.0000000                                                             \n5  0.0000000                                                             \n6  0.0000000                                                             \n7  0.0000000                                                             \n8  0.0000000                                                             \n9  0.0000000                                                             \n10 0.3801893                                                             \n11 0.0000000                                                             \n12 0.1110878                                                             \n13 0.0000000                                                             \n   c.0..0..0..0..0..0..0..0..0..0..0.508722901943024..0..0.111087761458379\n1  0.0000000                                                              \n2  0.0000000                                                              \n3  0.0000000                                                              \n4  0.0000000                                                              \n5  0.0000000                                                              \n6  0.0000000                                                              \n7  0.0000000                                                              \n8  0.0000000                                                              \n9  0.0000000                                                              \n10 0.0000000                                                              \n11 0.5087229                                                              \n12 0.0000000                                                              \n13 0.1110878                                                              "
                    },
                    "metadata": {},
                    "output_type": "display_data"
                }
            ],
            "source": "initial_state_probabilities <- c(1, 0, 0, 0, 0, 0, 0, 0, 0, 0, 0, 0, 0)\n\ntransition_matrix <- data.frame()\nrbind(\n    transition_matrix,\n    c(S, R, L, 0, 0, 0, 0, 0, 0, 0, 0, 0, 0, 0, 0),\n    c(L, S, 0, R, 0, 0, 0, 0, 0, 0, 0, 0, 0, 0, 0),\n    c(R, 0, S, 0, L, 0, 0, 0, 0, 0, 0, 0, 0, 0, 0),\n    c(0, L, 0, S, 0, R, 0, 0, 0, 0, 0, 0, 0, 0, 0),\n    c(0, 0, R, 0, S, 0, L, 0, 0, 0, 0, 0, 0, 0, 0),\n    c(0, 0, 0, L, 0, S, 0, R, 0, 0, 0, 0, 0, 0, 0),\n    c(0, 0, 0, 0, R, 0, S, 0, L, 0, 0, 0, 0, 0, 0),\n    c(0, 0, 0, 0, 0, L, 0, S, 0, R, 0, 0, 0, 0, 0),\n    c(0, 0, 0, 0, 0, 0, R, 0, S, 0, L, 0, 0, 0, 0),\n    c(0, 0, 0, 0, 0, 0, 0, L, 0, S, 0, R, 0, 0, 0),\n    c(0, 0, 0, 0, 0, 0, 0, 0, R, 0, S, 0, L, 0, 0),\n    c(0, 0, 0, 0, 0, 0, 0, 0, 0, L, 0, S, 0, R, 0),\n    c(0, 0, 0, 0, 0, 0, 0, 0, 0, 0, R, 0, S, 0, L),\n    c(0, 0, 0, 0, 0, 0, 0, 0, 0, 0, 0, L, 0, 1, 0),\n    c(0, 0, 0, 0, 0, 0, 0, 0, 0, 0, 0, 0, R, 0, 1)\n)"
        },
        {
            "cell_type": "code",
            "execution_count": 26,
            "metadata": {
                "trusted": true
            },
            "outputs": [
                {
                    "data": {
                        "text/html": "",
                        "text/latex": "",
                        "text/markdown": "",
                        "text/plain": "<0 x 0 matrix>"
                    },
                    "metadata": {},
                    "output_type": "display_data"
                }
            ],
            "source": "if (!require(\"matrixcalc\")) {\n    install.packages(\"matrixcalc\")\n}\n\nkek <- initial_state_probabilities %*% matrix.power(data.matrix(transition_matrix), k)\nkek"
        }
    ],
    "metadata": {
        "kernelspec": {
            "display_name": "R",
            "language": "R",
            "name": "ir"
        },
        "language_info": {
            "codemirror_mode": "r",
            "file_extension": ".r",
            "mimetype": "text/x-r-source",
            "name": "R",
            "pygments_lexer": "r",
            "version": "4.2.2"
        }
    },
    "nbformat": 4,
    "nbformat_minor": 5
}