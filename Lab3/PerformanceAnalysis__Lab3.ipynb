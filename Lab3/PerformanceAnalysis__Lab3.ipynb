{
    "cells": [
        {
            "cell_type": "code",
            "execution_count": 1,
            "metadata": {
                "trusted": true
            },
            "outputs": [
                {
                    "data": {
                        "text/html": "<table class=\"dataframe\">\n<caption>A data.frame: 4 \u00d7 4</caption>\n<thead>\n\t<tr><th></th><th scope=col></th><th scope=col></th><th scope=col></th><th scope=col></th></tr>\n\t<tr><th></th><th scope=col>&lt;dbl&gt;</th><th scope=col>&lt;dbl&gt;</th><th scope=col>&lt;dbl&gt;</th><th scope=col>&lt;dbl&gt;</th></tr>\n</thead>\n<tbody>\n\t<tr><th scope=row>p1</th><td>0.3441331</td><td>0.4604769</td><td>0.1428322</td><td>0.05255779</td></tr>\n\t<tr><th scope=row>p2</th><td>0.0000000</td><td>0.3441697</td><td>0.2591911</td><td>0.39663917</td></tr>\n\t<tr><th scope=row>p3</th><td>0.0000000</td><td>0.0000000</td><td>0.8964781</td><td>0.10352190</td></tr>\n\t<tr><th scope=row>p4</th><td>0.0000000</td><td>0.0000000</td><td>0.0000000</td><td>1.00000000</td></tr>\n</tbody>\n</table>\n",
                        "text/latex": "A data.frame: 4 \u00d7 4\n\\begin{tabular}{r|llll}\n  &  &  &  & \\\\\n  & <dbl> & <dbl> & <dbl> & <dbl>\\\\\n\\hline\n\tp1 & 0.3441331 & 0.4604769 & 0.1428322 & 0.05255779\\\\\n\tp2 & 0.0000000 & 0.3441697 & 0.2591911 & 0.39663917\\\\\n\tp3 & 0.0000000 & 0.0000000 & 0.8964781 & 0.10352190\\\\\n\tp4 & 0.0000000 & 0.0000000 & 0.0000000 & 1.00000000\\\\\n\\end{tabular}\n",
                        "text/markdown": "\nA data.frame: 4 \u00d7 4\n\n| <!--/--> | <!----> &lt;dbl&gt; | <!----> &lt;dbl&gt; | <!----> &lt;dbl&gt; | <!----> &lt;dbl&gt; |\n|---|---|---|---|---|\n| p1 | 0.3441331 | 0.4604769 | 0.1428322 | 0.05255779 |\n| p2 | 0.0000000 | 0.3441697 | 0.2591911 | 0.39663917 |\n| p3 | 0.0000000 | 0.0000000 | 0.8964781 | 0.10352190 |\n| p4 | 0.0000000 | 0.0000000 | 0.0000000 | 1.00000000 |\n\n",
                        "text/plain": "                                           \np1 0.3441331 0.4604769 0.1428322 0.05255779\np2 0.0000000 0.3441697 0.2591911 0.39663917\np3 0.0000000 0.0000000 0.8964781 0.10352190\np4 0.0000000 0.0000000 0.0000000 1.00000000"
                    },
                    "metadata": {},
                    "output_type": "display_data"
                },
                {
                    "name": "stdout",
                    "output_type": "stream",
                    "text": "[1] \"k = 5\"\n"
                }
            ],
            "source": "variant <- 5\nset.seed(variant)\nk <- sample(c(4:9), 1)\npp1 <- runif(4)\npp2 <- runif(3)\npp3 <- runif(2)\np1 <- pp1 / sum(pp1)\np2 <- c(c(0), pp2 / sum(pp2))\np3 <- c(c(0, 0), pp3 / sum(pp3))\np4 <- c(0, 0, 0, 1)\nP <- data.frame()\nP <- rbind(P, p1)\nP <- rbind(P, p2)\nP <- rbind(P, p3)\nP <- rbind(P, p4)\nrownames(P) <- c(\"p1\", \"p2\", \"p3\", \"p4\")\ncolnames(P) <- c(\"\", \"\", \"\", \"\")\nView(P)\nprint(paste(\"k =\", as.character(k)))"
        },
        {
            "cell_type": "code",
            "execution_count": 2,
            "metadata": {
                "trusted": true
            },
            "outputs": [],
            "source": "# \u041f\u043e\u043b\u0443\u0447\u0430\u0435\u043c \u0437\u043d\u0430\u0447\u0435\u043d\u0438\u0435, \u0441\u043e\u043e\u0442\u0432\u0435\u0442\u0441\u0442\u0432\u0443\u044e\u0449\u0435\u0435 \u043e\u0442\u0440\u0435\u0437\u043a\u0443.\n# v - \u0441\u043b\u0443\u0447\u0430\u0439\u043d\u0430\u044f \u0432\u0435\u043b\u0438\u0447\u0438\u043d\u0430. \u0415\u0441\u043b\u0438 \u043d\u0443\u0436\u043d\u043e \u0441\u0433\u0435\u043d\u0435\u0440\u0438\u0440\u043e\u0432\u0430\u0442\u044c \u0440\u0430\u0441\u043f\u0440\u0435\u0434\u0435\u043b\u0435\u043d\u0438\u0435 \u043f\u043e `p`, \u043d\u0443\u0436\u043d\u043e\n# \u043f\u043e\u0434\u0430\u0442\u044c runif(1)\n# X - \u0432\u0435\u043b\u0438\u0447\u0438\u043d\u044b, \u0441\u043e\u043e\u0442\u0432\u0435\u0442\u0441\u0442\u0432\u0443\u044e\u0449\u0438\u0435 \u043e\u0442\u0440\u0435\u0437\u043a\u0430\u043c.\n# \u0417\u0430 \u043e\u0442\u0440\u0435\u0437\u043a\u0438 \u043e\u0442\u0432\u0435\u0447\u0430\u0435\u0442 \u043f\u0430\u0440\u0430\u043c\u0435\u0442\u0440 p, \u0445\u0440\u0430\u043d\u044f\u0449\u0438\u0439 \u043f\u043e\u0441\u043b\u0435\u0434\u043e\u0432\u0430\u0442\u0435\u043b\u044c\u043d\u043e\u0441\u0442\u044c \u0434\u043b\u0438\u043d.\nget_value_in_range <- function(v, X, p) {\n    border <- 0\n    for (i in seq_along(p)) {\n        border <- border + p[i]\n        if (v < border) {\n            return(X[i])\n        }\n    }\n}"
        },
        {
            "cell_type": "code",
            "execution_count": 3,
            "metadata": {
                "trusted": true
            },
            "outputs": [
                {
                    "data": {
                        "text/html": "1",
                        "text/latex": "1",
                        "text/markdown": "1",
                        "text/plain": "[1] 1"
                    },
                    "metadata": {},
                    "output_type": "display_data"
                }
            ],
            "source": "make_step <- function(current_state) {\n    possible_states <- P[current_state, ]\n\n    return(get_value_in_range(runif(1), 1:4, possible_states))\n}"
        },
        {
            "cell_type": "code",
            "execution_count": 4,
            "metadata": {
                "trusted": true
            },
            "outputs": [],
            "source": "walk <- function(starting_state, times) {\n    if (times < 0) {\n        return(starting_state)\n    }\n\n    next_state <- make_step(starting_state)\n\n    return(walk(next_state, times - 1))\n}"
        },
        {
            "cell_type": "code",
            "execution_count": 5,
            "metadata": {
                "trusted": true
            },
            "outputs": [],
            "source": "N <- 1000\ntest_walk <- function(first_state, k) {\n    results <- c()\n\n    for (i in 1:N) {\n        results <- append(results, walk(first_state, k))\n    }\n\n    return(results)\n}"
        },
        {
            "cell_type": "code",
            "execution_count": 6,
            "metadata": {
                "trusted": true
            },
            "outputs": [],
            "source": "first_state <- 1"
        },
        {
            "cell_type": "code",
            "execution_count": 7,
            "metadata": {
                "trusted": true
            },
            "outputs": [],
            "source": "S1 <- test_walk(first_state, k - 2)"
        },
        {
            "cell_type": "code",
            "execution_count": 8,
            "metadata": {
                "trusted": true
            },
            "outputs": [],
            "source": "S2 <- test_walk(first_state, k - 1)"
        },
        {
            "cell_type": "code",
            "execution_count": 9,
            "metadata": {
                "trusted": true
            },
            "outputs": [],
            "source": "S3 <- test_walk(first_state, k)"
        },
        {
            "cell_type": "code",
            "execution_count": 23,
            "metadata": {
                "trusted": true
            },
            "outputs": [],
            "source": "get_probability <- function(States, state) {\n    number_of_states <- length(States[States == state])\n    number_of_all_states <- length(States)\n\n    return(number_of_states / number_of_all_states)\n}"
        },
        {
            "cell_type": "code",
            "execution_count": 24,
            "metadata": {
                "trusted": true
            },
            "outputs": [],
            "source": "get_probabilities_to_stay <- function(States) {\n    return(\n        lapply(seq_along(P), function(state) get_probability(States, state))\n    )\n}"
        },
        {
            "cell_type": "code",
            "execution_count": 12,
            "metadata": {
                "trusted": true
            },
            "outputs": [
                {
                    "data": {
                        "text/html": "<ol>\n\t<li>0.016</li>\n\t<li>0.074</li>\n\t<li>0.35</li>\n\t<li>0.56</li>\n</ol>\n",
                        "text/latex": "\\begin{enumerate}\n\\item 0.016\n\\item 0.074\n\\item 0.35\n\\item 0.56\n\\end{enumerate}\n",
                        "text/markdown": "1. 0.016\n2. 0.074\n3. 0.35\n4. 0.56\n\n\n",
                        "text/plain": "[[1]]\n[1] 0.016\n\n[[2]]\n[1] 0.074\n\n[[3]]\n[1] 0.35\n\n[[4]]\n[1] 0.56\n"
                    },
                    "metadata": {},
                    "output_type": "display_data"
                }
            ],
            "source": "get_probabilities_to_stay(S1)"
        },
        {
            "cell_type": "code",
            "execution_count": 13,
            "metadata": {
                "trusted": true
            },
            "outputs": [
                {
                    "data": {
                        "text/html": "<ol>\n\t<li>0.003</li>\n\t<li>0.033</li>\n\t<li>0.372</li>\n\t<li>0.592</li>\n</ol>\n",
                        "text/latex": "\\begin{enumerate}\n\\item 0.003\n\\item 0.033\n\\item 0.372\n\\item 0.592\n\\end{enumerate}\n",
                        "text/markdown": "1. 0.003\n2. 0.033\n3. 0.372\n4. 0.592\n\n\n",
                        "text/plain": "[[1]]\n[1] 0.003\n\n[[2]]\n[1] 0.033\n\n[[3]]\n[1] 0.372\n\n[[4]]\n[1] 0.592\n"
                    },
                    "metadata": {},
                    "output_type": "display_data"
                }
            ],
            "source": "get_probabilities_to_stay(S2)"
        },
        {
            "cell_type": "code",
            "execution_count": 14,
            "metadata": {
                "trusted": true
            },
            "outputs": [
                {
                    "data": {
                        "text/html": "<ol>\n\t<li>0.002</li>\n\t<li>0.017</li>\n\t<li>0.352</li>\n\t<li>0.629</li>\n</ol>\n",
                        "text/latex": "\\begin{enumerate}\n\\item 0.002\n\\item 0.017\n\\item 0.352\n\\item 0.629\n\\end{enumerate}\n",
                        "text/markdown": "1. 0.002\n2. 0.017\n3. 0.352\n4. 0.629\n\n\n",
                        "text/plain": "[[1]]\n[1] 0.002\n\n[[2]]\n[1] 0.017\n\n[[3]]\n[1] 0.352\n\n[[4]]\n[1] 0.629\n"
                    },
                    "metadata": {},
                    "output_type": "display_data"
                }
            ],
            "source": "get_probabilities_to_stay(S3)"
        },
        {
            "cell_type": "markdown",
            "metadata": {},
            "source": "# # \u0417\u0430\u0434\u0430\u043d\u0438\u0435 2"
        },
        {
            "cell_type": "code",
            "execution_count": 15,
            "metadata": {
                "trusted": true
            },
            "outputs": [
                {
                    "data": {
                        "text/html": "<table class=\"dataframe\">\n<caption>A data.frame: 1 \u00d7 3</caption>\n<thead>\n\t<tr><th scope=col>k</th><th scope=col>t1</th><th scope=col>t2</th></tr>\n\t<tr><th scope=col>&lt;int&gt;</th><th scope=col>&lt;int&gt;</th><th scope=col>&lt;int&gt;</th></tr>\n</thead>\n<tbody>\n\t<tr><td>11</td><td>16</td><td>2</td></tr>\n</tbody>\n</table>\n",
                        "text/latex": "A data.frame: 1 \u00d7 3\n\\begin{tabular}{lll}\n k & t1 & t2\\\\\n <int> & <int> & <int>\\\\\n\\hline\n\t 11 & 16 & 2\\\\\n\\end{tabular}\n",
                        "text/markdown": "\nA data.frame: 1 \u00d7 3\n\n| k &lt;int&gt; | t1 &lt;int&gt; | t2 &lt;int&gt; |\n|---|---|---|\n| 11 | 16 | 2 |\n\n",
                        "text/plain": "  k  t1 t2\n1 11 16 2 "
                    },
                    "metadata": {},
                    "output_type": "display_data"
                }
            ],
            "source": "variant <- 5\nset.seed(variant)\nk <- sample(c(10:25), 1)\nt1 <- sample(c(14:20), 1)\nt2 <- sample(c(2:5), 1)\nView(data.frame(k, t1, t2))"
        },
        {
            "cell_type": "code",
            "execution_count": 16,
            "metadata": {
                "trusted": true
            },
            "outputs": [
                {
                    "name": "stderr",
                    "output_type": "stream",
                    "text": "Loading required package: simmer\n\nWarning message in library(package, lib.loc = lib.loc, character.only = TRUE, logical.return = TRUE, :\n\"there is no package called 'simmer'\"\nInstalling package into 'C:/Users/\u0410\u043b\u0435\u043a\u0441\u0430\u043d\u0434\u0440/scoop/persist/r/site-library'\n(as 'lib' is unspecified)\n\nalso installing the dependencies 'Rcpp', 'BH'\n\n\n"
                },
                {
                    "name": "stdout",
                    "output_type": "stream",
                    "text": "package 'Rcpp' successfully unpacked and MD5 sums checked\npackage 'BH' successfully unpacked and MD5 sums checked\npackage 'simmer' successfully unpacked and MD5 sums checked\n\nThe downloaded binary packages are in\n\tC:\\Users\\\u0410\u043b\u0435\u043a\u0441\u0430\u043d\u0434\u0440\\AppData\\Local\\Temp\\RtmpqMZumL\\downloaded_packages\n"
                },
                {
                    "data": {
                        "text/plain": "simmer environment: SuperDuperSim | now: 0 | next: \n{ Monitor: in memory }"
                    },
                    "metadata": {},
                    "output_type": "display_data"
                }
            ],
            "source": "if (!require(\"simmer\")) {\n    install.packages(\"simmer\")\n}\nlibrary(simmer)\n\nset.seed(42)\n\nenv <- simmer(\"SuperDuperSim\")\nenv"
        },
        {
            "cell_type": "code",
            "execution_count": 17,
            "metadata": {
                "trusted": true
            },
            "outputs": [],
            "source": "programmers <- trajectory(\"programmers' path\") %>%\n    ## add an intake activity\n    seize(\"server\", 1) %>%\n    timeout(function() rnorm(1, 5)) %>%\n    release(\"server\", 1)"
        },
        {
            "cell_type": "code",
            "execution_count": 18,
            "metadata": {
                "trusted": true
            },
            "outputs": [
                {
                    "data": {
                        "text/plain": "simmer environment: SuperDuperSim | now: 0 | next: 0\n{ Monitor: in memory }\n{ Resource: server | monitored: TRUE | server status: 0(1) | queue status: 0(Inf) }\n{ Source: programmers | monitored: 1 | n_generated: 0 }"
                    },
                    "metadata": {},
                    "output_type": "display_data"
                }
            ],
            "source": "env %>%\n    add_resource(\"server\", 1) %>%\n    add_generator(\"programmers\", programmers, function() {\n        return(10)\n    })\n# , function() rnorm(1, 0.1, 2))"
        },
        {
            "cell_type": "code",
            "execution_count": 19,
            "metadata": {
                "trusted": true
            },
            "outputs": [
                {
                    "data": {
                        "text/html": "50",
                        "text/latex": "50",
                        "text/markdown": "50",
                        "text/plain": "[1] 50"
                    },
                    "metadata": {},
                    "output_type": "display_data"
                },
                {
                    "data": {
                        "text/html": "<style>\n.list-inline {list-style: none; margin:0; padding: 0}\n.list-inline>li {display: inline-block}\n.list-inline>li:not(:last-child)::after {content: \"\\00b7\"; padding: 0 .5ex}\n</style>\n<ol class=list-inline><li>50</li><li>50</li></ol>\n",
                        "text/latex": "\\begin{enumerate*}\n\\item 50\n\\item 50\n\\end{enumerate*}\n",
                        "text/markdown": "1. 50\n2. 50\n\n\n",
                        "text/plain": "[1] 50 50"
                    },
                    "metadata": {},
                    "output_type": "display_data"
                }
            ],
            "source": "env %>%\n    run(50) %>%\n    now()\nenv %>% peek(3)"
        },
        {
            "cell_type": "code",
            "execution_count": 20,
            "metadata": {
                "trusted": true
            },
            "outputs": [
                {
                    "data": {
                        "text/html": "5",
                        "text/latex": "5",
                        "text/markdown": "5",
                        "text/plain": "[1] 5"
                    },
                    "metadata": {},
                    "output_type": "display_data"
                }
            ],
            "source": "env %>% get_n_generated(\"programmers\")"
        },
        {
            "cell_type": "code",
            "execution_count": 21,
            "metadata": {
                "trusted": true
            },
            "outputs": [
                {
                    "data": {
                        "text/html": "0",
                        "text/latex": "0",
                        "text/markdown": "0",
                        "text/plain": "[1] 0"
                    },
                    "metadata": {},
                    "output_type": "display_data"
                }
            ],
            "source": "env %>% get_queue_count(\"server\")"
        },
        {
            "cell_type": "code",
            "execution_count": 22,
            "metadata": {
                "trusted": true
            },
            "outputs": [
                {
                    "data": {
                        "text/html": "<table class=\"dataframe\">\n<caption>A data.frame: 8 \u00d7 9</caption>\n<thead>\n\t<tr><th scope=col>resource</th><th scope=col>time</th><th scope=col>server</th><th scope=col>queue</th><th scope=col>capacity</th><th scope=col>queue_size</th><th scope=col>system</th><th scope=col>limit</th><th scope=col>replication</th></tr>\n\t<tr><th scope=col>&lt;chr&gt;</th><th scope=col>&lt;dbl&gt;</th><th scope=col>&lt;int&gt;</th><th scope=col>&lt;int&gt;</th><th scope=col>&lt;dbl&gt;</th><th scope=col>&lt;dbl&gt;</th><th scope=col>&lt;int&gt;</th><th scope=col>&lt;dbl&gt;</th><th scope=col>&lt;int&gt;</th></tr>\n</thead>\n<tbody>\n\t<tr><td>server</td><td>10.00000</td><td>1</td><td>0</td><td>1</td><td>Inf</td><td>1</td><td>Inf</td><td>1</td></tr>\n\t<tr><td>server</td><td>16.37096</td><td>0</td><td>0</td><td>1</td><td>Inf</td><td>0</td><td>Inf</td><td>1</td></tr>\n\t<tr><td>server</td><td>20.00000</td><td>1</td><td>0</td><td>1</td><td>Inf</td><td>1</td><td>Inf</td><td>1</td></tr>\n\t<tr><td>server</td><td>24.43530</td><td>0</td><td>0</td><td>1</td><td>Inf</td><td>0</td><td>Inf</td><td>1</td></tr>\n\t<tr><td>server</td><td>30.00000</td><td>1</td><td>0</td><td>1</td><td>Inf</td><td>1</td><td>Inf</td><td>1</td></tr>\n\t<tr><td>server</td><td>35.36313</td><td>0</td><td>0</td><td>1</td><td>Inf</td><td>0</td><td>Inf</td><td>1</td></tr>\n\t<tr><td>server</td><td>40.00000</td><td>1</td><td>0</td><td>1</td><td>Inf</td><td>1</td><td>Inf</td><td>1</td></tr>\n\t<tr><td>server</td><td>45.63286</td><td>0</td><td>0</td><td>1</td><td>Inf</td><td>0</td><td>Inf</td><td>1</td></tr>\n</tbody>\n</table>\n",
                        "text/latex": "A data.frame: 8 \u00d7 9\n\\begin{tabular}{lllllllll}\n resource & time & server & queue & capacity & queue\\_size & system & limit & replication\\\\\n <chr> & <dbl> & <int> & <int> & <dbl> & <dbl> & <int> & <dbl> & <int>\\\\\n\\hline\n\t server & 10.00000 & 1 & 0 & 1 & Inf & 1 & Inf & 1\\\\\n\t server & 16.37096 & 0 & 0 & 1 & Inf & 0 & Inf & 1\\\\\n\t server & 20.00000 & 1 & 0 & 1 & Inf & 1 & Inf & 1\\\\\n\t server & 24.43530 & 0 & 0 & 1 & Inf & 0 & Inf & 1\\\\\n\t server & 30.00000 & 1 & 0 & 1 & Inf & 1 & Inf & 1\\\\\n\t server & 35.36313 & 0 & 0 & 1 & Inf & 0 & Inf & 1\\\\\n\t server & 40.00000 & 1 & 0 & 1 & Inf & 1 & Inf & 1\\\\\n\t server & 45.63286 & 0 & 0 & 1 & Inf & 0 & Inf & 1\\\\\n\\end{tabular}\n",
                        "text/markdown": "\nA data.frame: 8 \u00d7 9\n\n| resource &lt;chr&gt; | time &lt;dbl&gt; | server &lt;int&gt; | queue &lt;int&gt; | capacity &lt;dbl&gt; | queue_size &lt;dbl&gt; | system &lt;int&gt; | limit &lt;dbl&gt; | replication &lt;int&gt; |\n|---|---|---|---|---|---|---|---|---|\n| server | 10.00000 | 1 | 0 | 1 | Inf | 1 | Inf | 1 |\n| server | 16.37096 | 0 | 0 | 1 | Inf | 0 | Inf | 1 |\n| server | 20.00000 | 1 | 0 | 1 | Inf | 1 | Inf | 1 |\n| server | 24.43530 | 0 | 0 | 1 | Inf | 0 | Inf | 1 |\n| server | 30.00000 | 1 | 0 | 1 | Inf | 1 | Inf | 1 |\n| server | 35.36313 | 0 | 0 | 1 | Inf | 0 | Inf | 1 |\n| server | 40.00000 | 1 | 0 | 1 | Inf | 1 | Inf | 1 |\n| server | 45.63286 | 0 | 0 | 1 | Inf | 0 | Inf | 1 |\n\n",
                        "text/plain": "  resource time     server queue capacity queue_size system limit replication\n1 server   10.00000 1      0     1        Inf        1      Inf   1          \n2 server   16.37096 0      0     1        Inf        0      Inf   1          \n3 server   20.00000 1      0     1        Inf        1      Inf   1          \n4 server   24.43530 0      0     1        Inf        0      Inf   1          \n5 server   30.00000 1      0     1        Inf        1      Inf   1          \n6 server   35.36313 0      0     1        Inf        0      Inf   1          \n7 server   40.00000 1      0     1        Inf        1      Inf   1          \n8 server   45.63286 0      0     1        Inf        0      Inf   1          "
                    },
                    "metadata": {},
                    "output_type": "display_data"
                }
            ],
            "source": "env %>% get_mon_resources()"
        }
    ],
    "metadata": {
        "kernelspec": {
            "display_name": "R",
            "language": "R",
            "name": "ir"
        },
        "language_info": {
            "codemirror_mode": "r",
            "file_extension": ".r",
            "mimetype": "text/x-r-source",
            "name": "R",
            "pygments_lexer": "r",
            "version": "4.2.2"
        }
    },
    "nbformat": 4,
    "nbformat_minor": 5
}