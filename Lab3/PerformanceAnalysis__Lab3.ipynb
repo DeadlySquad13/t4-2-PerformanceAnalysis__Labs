{
    "cells": [
        {
            "cell_type": "markdown",
            "metadata": {},
            "source": "# \u041b\u0430\u0431\u043e\u0440\u0430\u0442\u043e\u0440\u043d\u0430\u044f \u0440\u0430\u0431\u043e\u0442\u0430 3. \u041c\u043e\u0434\u0435\u043b\u044c \u043e\u0434\u043d\u043e\u0444\u0430\u0437\u043d\u043e\u0439 \u043e\u0434\u043d\u043e\u043a\u0430\u043d\u0430\u043b\u044c\u043d\u043e\u0439 \u0437\u0430\u043c\u043a\u043d\u0443\u0442\u043e\u0439 \u0441\u0438\u0441\u0442\u0435\u043c\u044b \u043e\u0431\u0441\u043b\u0443\u0436\u0438\u0432\u0430\u043d\u0438\u044f\n## \u0417\u0430\u0434\u0430\u043d\u0438\u0435 1"
        },
        {
            "cell_type": "code",
            "execution_count": 1,
            "metadata": {
                "trusted": true
            },
            "outputs": [
                {
                    "data": {
                        "text/html": "<table class=\"dataframe\">\n<caption>A data.frame: 4 \u00d7 4</caption>\n<thead>\n\t<tr><th></th><th scope=col></th><th scope=col></th><th scope=col></th><th scope=col></th></tr>\n\t<tr><th></th><th scope=col>&lt;dbl&gt;</th><th scope=col>&lt;dbl&gt;</th><th scope=col>&lt;dbl&gt;</th><th scope=col>&lt;dbl&gt;</th></tr>\n</thead>\n<tbody>\n\t<tr><th scope=row>p1</th><td>0.3441331</td><td>0.4604769</td><td>0.1428322</td><td>0.05255779</td></tr>\n\t<tr><th scope=row>p2</th><td>0.0000000</td><td>0.3441697</td><td>0.2591911</td><td>0.39663917</td></tr>\n\t<tr><th scope=row>p3</th><td>0.0000000</td><td>0.0000000</td><td>0.8964781</td><td>0.10352190</td></tr>\n\t<tr><th scope=row>p4</th><td>0.0000000</td><td>0.0000000</td><td>0.0000000</td><td>1.00000000</td></tr>\n</tbody>\n</table>\n",
                        "text/latex": "A data.frame: 4 \u00d7 4\n\\begin{tabular}{r|llll}\n  &  &  &  & \\\\\n  & <dbl> & <dbl> & <dbl> & <dbl>\\\\\n\\hline\n\tp1 & 0.3441331 & 0.4604769 & 0.1428322 & 0.05255779\\\\\n\tp2 & 0.0000000 & 0.3441697 & 0.2591911 & 0.39663917\\\\\n\tp3 & 0.0000000 & 0.0000000 & 0.8964781 & 0.10352190\\\\\n\tp4 & 0.0000000 & 0.0000000 & 0.0000000 & 1.00000000\\\\\n\\end{tabular}\n",
                        "text/markdown": "\nA data.frame: 4 \u00d7 4\n\n| <!--/--> | <!----> &lt;dbl&gt; | <!----> &lt;dbl&gt; | <!----> &lt;dbl&gt; | <!----> &lt;dbl&gt; |\n|---|---|---|---|---|\n| p1 | 0.3441331 | 0.4604769 | 0.1428322 | 0.05255779 |\n| p2 | 0.0000000 | 0.3441697 | 0.2591911 | 0.39663917 |\n| p3 | 0.0000000 | 0.0000000 | 0.8964781 | 0.10352190 |\n| p4 | 0.0000000 | 0.0000000 | 0.0000000 | 1.00000000 |\n\n",
                        "text/plain": "                                           \np1 0.3441331 0.4604769 0.1428322 0.05255779\np2 0.0000000 0.3441697 0.2591911 0.39663917\np3 0.0000000 0.0000000 0.8964781 0.10352190\np4 0.0000000 0.0000000 0.0000000 1.00000000"
                    },
                    "metadata": {},
                    "output_type": "display_data"
                },
                {
                    "name": "stdout",
                    "output_type": "stream",
                    "text": "[1] \"k = 5\"\n"
                }
            ],
            "source": "variant <- 5\nset.seed(variant)\n\nk <- sample(c(4:9), 1)\n\npp1 <- runif(4)\npp2 <- runif(3)\npp3 <- runif(2)\n\np1 <- pp1 / sum(pp1)\np2 <- c(c(0), pp2 / sum(pp2))\np3 <- c(c(0, 0), pp3 / sum(pp3))\np4 <- c(0, 0, 0, 1)\n\nP <- data.frame()\n\nP <- rbind(P, p1, p2, p3, p4)\n\nrownames(P) <- c(\"p1\", \"p2\", \"p3\", \"p4\")\ncolnames(P) <- c(\"\", \"\", \"\", \"\")\n\nView(P)\n\nprint(paste(\"k =\", as.character(k)))"
        },
        {
            "cell_type": "markdown",
            "metadata": {},
            "source": "### \u0427\u0438\u0441\u043b\u0435\u043d\u043d\u043e\n\u0421\u0438\u043c\u0443\u043b\u0438\u0440\u0443\u0435\u043c \u043f\u0440\u043e\u0445\u043e\u0434 \u043f\u043e \u043c\u0430\u0442\u0440\u0438\u0446\u0435 \u043f\u0435\u0440\u0435\u0445\u043e\u0434\u043d\u044b\u0445 \u0432\u0435\u0440\u043e\u044f\u0442\u043d\u043e\u0441\u0442\u0435\u0439 \u0434\u043b\u044f \u0442\u0440\u0435\u0445 \u0441\u0446\u0435\u043d\u0430\u0440\u0438\u0435\u0432:\n1. k - 2 \u043e\u0441\u043c\u043e\u0442\u0440\u043e\u0432,\n2. k - 1 \u043e\u0441\u043c\u043e\u0442\u0440\u043e\u0432,\n3. k \u043e\u0441\u043c\u043e\u0442\u0440\u043e\u0432.\n\n\u0412\u044b\u043f\u043e\u043b\u043d\u0438\u0432 \u044d\u0442\u0443 \u043e\u043f\u0435\u0440\u0430\u0446\u0438\u044e N \u0440\u0430\u0437 \u0434\u043b\u044f \u043a\u0430\u0436\u0434\u043e\u0433\u043e \u0441\u0446\u0435\u043d\u0430\u0440\u0438\u044f, \u043f\u043e\u043b\u0443\u0447\u0438\u043c \u0442\u0440\u0438 \u0432\u0435\u043a\u0442\u043e\u0440\u0430,\n\u0441\u043e\u0434\u0435\u0440\u0436\u0430\u0449\u0438\u0435 N \u0441\u043e\u0441\u0442\u043e\u044f\u043d\u0438\u0439. \u042d\u0442\u043e \u0441\u043e\u0441\u0442\u043e\u044f\u043d\u0438\u044f, \u0432 \u043a\u043e\u0442\u043e\u0440\u044b\u0445 \u043e\u0441\u0442\u0430\u0432\u0430\u043b\u0430\u0441\u044c \u043c\u043e\u0434\u0435\u043b\u044c \u043f\u043e\u0441\u043b\u0435\n\u0441\u0438\u043c\u0443\u043b\u044f\u0446\u0438\u0438:\n$$\n  Scenario_i = \\{State_1 ... State_N\\}, i \\in \\{1, 2, 3\\}, \\\\\n  State \\in \\{S1, S2, S3, S4\\}\n$$"
        },
        {
            "cell_type": "code",
            "execution_count": 2,
            "metadata": {
                "trusted": true
            },
            "outputs": [],
            "source": "# \u041f\u043e\u043b\u0443\u0447\u0430\u0435\u043c \u0437\u043d\u0430\u0447\u0435\u043d\u0438\u0435, \u0441\u043e\u043e\u0442\u0432\u0435\u0442\u0441\u0442\u0432\u0443\u044e\u0449\u0435\u0435 \u043e\u0442\u0440\u0435\u0437\u043a\u0443.\n# v - \u0441\u043b\u0443\u0447\u0430\u0439\u043d\u0430\u044f \u0432\u0435\u043b\u0438\u0447\u0438\u043d\u0430. \u0415\u0441\u043b\u0438 \u043d\u0443\u0436\u043d\u043e \u0441\u0433\u0435\u043d\u0435\u0440\u0438\u0440\u043e\u0432\u0430\u0442\u044c \u0440\u0430\u0441\u043f\u0440\u0435\u0434\u0435\u043b\u0435\u043d\u0438\u0435 \u043f\u043e `p`, \u043d\u0443\u0436\u043d\u043e\n# \u043f\u043e\u0434\u0430\u0442\u044c runif(1)\n# X - \u0432\u0435\u043b\u0438\u0447\u0438\u043d\u044b, \u0441\u043e\u043e\u0442\u0432\u0435\u0442\u0441\u0442\u0432\u0443\u044e\u0449\u0438\u0435 \u043e\u0442\u0440\u0435\u0437\u043a\u0430\u043c.\n# \u0417\u0430 \u043e\u0442\u0440\u0435\u0437\u043a\u0438 \u043e\u0442\u0432\u0435\u0447\u0430\u0435\u0442 \u043f\u0430\u0440\u0430\u043c\u0435\u0442\u0440 p, \u0445\u0440\u0430\u043d\u044f\u0449\u0438\u0439 \u043f\u043e\u0441\u043b\u0435\u0434\u043e\u0432\u0430\u0442\u0435\u043b\u044c\u043d\u043e\u0441\u0442\u044c \u0434\u043b\u0438\u043d.\nget_value_in_range <- function(v, X, p) {\n    border <- 0\n    for (i in seq_along(p)) {\n        border <- border + p[i]\n        if (v < border) {\n            return(X[i])\n        }\n    }\n}"
        },
        {
            "cell_type": "code",
            "execution_count": 3,
            "metadata": {
                "trusted": true
            },
            "outputs": [],
            "source": "make_step <- function(current_state) {\n    possible_states <- P[current_state, ]\n\n    return(get_value_in_range(runif(1), 1:4, possible_states))\n}"
        },
        {
            "cell_type": "code",
            "execution_count": 4,
            "metadata": {
                "trusted": true
            },
            "outputs": [],
            "source": "walk <- function(starting_state, times) {\n    if (times < 0) {\n        return(starting_state)\n    }\n\n    next_state <- make_step(starting_state)\n\n    return(walk(next_state, times - 1))\n}"
        },
        {
            "cell_type": "code",
            "execution_count": 5,
            "metadata": {
                "trusted": true
            },
            "outputs": [],
            "source": "N <- 10000\ntest_walk <- function(first_state, k) {\n    results <- c()\n\n    for (i in 1:N) {\n        results <- append(results, walk(first_state, k))\n    }\n\n    return(results)\n}"
        },
        {
            "cell_type": "code",
            "execution_count": 6,
            "metadata": {
                "trusted": true
            },
            "outputs": [],
            "source": "first_state <- 1 # \u0412\u044b\u0431\u0440\u0430\u043b\u0438 \u043f\u0440\u043e\u0438\u0437\u0432\u043e\u043b\u044c\u043d\u043e\u0435."
        },
        {
            "cell_type": "code",
            "execution_count": 7,
            "metadata": {
                "trusted": true
            },
            "outputs": [],
            "source": "Scenario1 <- test_walk(first_state, k - 2)"
        },
        {
            "cell_type": "code",
            "execution_count": 8,
            "metadata": {
                "trusted": true
            },
            "outputs": [],
            "source": "Scenario2 <- test_walk(first_state, k - 1)"
        },
        {
            "cell_type": "code",
            "execution_count": 9,
            "metadata": {
                "trusted": true
            },
            "outputs": [],
            "source": "Scenario3 <- test_walk(first_state, k)"
        },
        {
            "cell_type": "markdown",
            "metadata": {},
            "source": "\u0412 \u043f\u043e\u043b\u0443\u0447\u0435\u043d\u043d\u044b\u0445 \u0441\u0446\u0435\u043d\u0430\u0440\u0438\u044f\u0445 \u043f\u043e\u0441\u0447\u0438\u0442\u0430\u0435\u043c \u0432\u0435\u0440\u043e\u044f\u0442\u043d\u043e\u0441\u0442\u0438 \u043f\u043e\u043b\u0443\u0447\u0435\u043d\u0438\u044f \u043a\u0430\u0436\u0434\u043e\u0433\u043e \u0441\u043e\u0441\u0442\u043e\u044f\u043d\u0438\u044f."
        },
        {
            "cell_type": "code",
            "execution_count": 10,
            "metadata": {
                "trusted": true
            },
            "outputs": [],
            "source": "get_probability <- function(States, state) {\n    number_of_states <- length(States[States == state])\n    number_of_all_states <- length(States)\n\n    return(number_of_states / number_of_all_states)\n}"
        },
        {
            "cell_type": "code",
            "execution_count": 11,
            "metadata": {
                "trusted": true
            },
            "outputs": [],
            "source": "get_probabilities_to_stay <- function(States) {\n    return(\n        unlist(\n            lapply(seq_along(P), function(state) get_probability(States, state))\n        )\n    )\n}"
        },
        {
            "cell_type": "code",
            "execution_count": 12,
            "metadata": {
                "trusted": true
            },
            "outputs": [],
            "source": "Scenario1Propabilities <- get_probabilities_to_stay(Scenario1)"
        },
        {
            "cell_type": "code",
            "execution_count": 13,
            "metadata": {
                "trusted": true
            },
            "outputs": [],
            "source": "Scenario2Propabilities <- get_probabilities_to_stay(Scenario2)"
        },
        {
            "cell_type": "code",
            "execution_count": 14,
            "metadata": {
                "trusted": true
            },
            "outputs": [],
            "source": "Scenario3Propabilities <- get_probabilities_to_stay(Scenario3)"
        },
        {
            "cell_type": "code",
            "execution_count": 15,
            "metadata": {
                "trusted": true
            },
            "outputs": [
                {
                    "data": {
                        "text/html": "<table class=\"dataframe\">\n<caption>A data.frame: 4 \u00d7 3</caption>\n<thead>\n\t<tr><th></th><th scope=col>k - 2</th><th scope=col>k - 1</th><th scope=col>k</th></tr>\n\t<tr><th></th><th scope=col>&lt;dbl&gt;</th><th scope=col>&lt;dbl&gt;</th><th scope=col>&lt;dbl&gt;</th></tr>\n</thead>\n<tbody>\n\t<tr><th scope=row>p1</th><td>0.0146</td><td>0.0050</td><td>0.0021</td></tr>\n\t<tr><th scope=row>p2</th><td>0.0791</td><td>0.0345</td><td>0.0159</td></tr>\n\t<tr><th scope=row>p3</th><td>0.3725</td><td>0.3600</td><td>0.3284</td></tr>\n\t<tr><th scope=row>p4</th><td>0.5338</td><td>0.6005</td><td>0.6536</td></tr>\n</tbody>\n</table>\n",
                        "text/latex": "A data.frame: 4 \u00d7 3\n\\begin{tabular}{r|lll}\n  & k - 2 & k - 1 & k\\\\\n  & <dbl> & <dbl> & <dbl>\\\\\n\\hline\n\tp1 & 0.0146 & 0.0050 & 0.0021\\\\\n\tp2 & 0.0791 & 0.0345 & 0.0159\\\\\n\tp3 & 0.3725 & 0.3600 & 0.3284\\\\\n\tp4 & 0.5338 & 0.6005 & 0.6536\\\\\n\\end{tabular}\n",
                        "text/markdown": "\nA data.frame: 4 \u00d7 3\n\n| <!--/--> | k - 2 &lt;dbl&gt; | k - 1 &lt;dbl&gt; | k &lt;dbl&gt; |\n|---|---|---|---|\n| p1 | 0.0146 | 0.0050 | 0.0021 |\n| p2 | 0.0791 | 0.0345 | 0.0159 |\n| p3 | 0.3725 | 0.3600 | 0.3284 |\n| p4 | 0.5338 | 0.6005 | 0.6536 |\n\n",
                        "text/plain": "   k - 2  k - 1  k     \np1 0.0146 0.0050 0.0021\np2 0.0791 0.0345 0.0159\np3 0.3725 0.3600 0.3284\np4 0.5338 0.6005 0.6536"
                    },
                    "metadata": {},
                    "output_type": "display_data"
                }
            ],
            "source": "results <- data.frame(\n    Scenario1Propabilities,\n    Scenario2Propabilities,\n    Scenario3Propabilities\n)\ncolnames(results) <- c(\"k - 2\", \"k - 1\", \"k\")\nrownames(results) <- rownames(P)\n\nresults"
        },
        {
            "cell_type": "markdown",
            "metadata": {},
            "source": "### \u0422\u0435\u043e\u0440\u0435\u0442\u0438\u0447\u0435\u0441\u043a\u0438"
        },
        {
            "cell_type": "code",
            "execution_count": 16,
            "metadata": {
                "trusted": true
            },
            "outputs": [
                {
                    "data": {
                        "text/html": "<table class=\"dataframe\">\n<caption>A matrix: 4 \u00d7 4 of type dbl</caption>\n<thead>\n\t<tr><th></th><th scope=col></th><th scope=col></th><th scope=col></th><th scope=col></th></tr>\n</thead>\n<tbody>\n\t<tr><th scope=row>p1</th><td>0.3441331</td><td>0.4604769</td><td>0.1428322</td><td>0.05255779</td></tr>\n\t<tr><th scope=row>p2</th><td>0.0000000</td><td>0.3441697</td><td>0.2591911</td><td>0.39663917</td></tr>\n\t<tr><th scope=row>p3</th><td>0.0000000</td><td>0.0000000</td><td>0.8964781</td><td>0.10352190</td></tr>\n\t<tr><th scope=row>p4</th><td>0.0000000</td><td>0.0000000</td><td>0.0000000</td><td>1.00000000</td></tr>\n</tbody>\n</table>\n",
                        "text/latex": "A matrix: 4 \u00d7 4 of type dbl\n\\begin{tabular}{r|llll}\n  &  &  &  & \\\\\n\\hline\n\tp1 & 0.3441331 & 0.4604769 & 0.1428322 & 0.05255779\\\\\n\tp2 & 0.0000000 & 0.3441697 & 0.2591911 & 0.39663917\\\\\n\tp3 & 0.0000000 & 0.0000000 & 0.8964781 & 0.10352190\\\\\n\tp4 & 0.0000000 & 0.0000000 & 0.0000000 & 1.00000000\\\\\n\\end{tabular}\n",
                        "text/markdown": "\nA matrix: 4 \u00d7 4 of type dbl\n\n| <!--/--> | <!----> | <!----> | <!----> | <!----> |\n|---|---|---|---|---|\n| p1 | 0.3441331 | 0.4604769 | 0.1428322 | 0.05255779 |\n| p2 | 0.0000000 | 0.3441697 | 0.2591911 | 0.39663917 |\n| p3 | 0.0000000 | 0.0000000 | 0.8964781 | 0.10352190 |\n| p4 | 0.0000000 | 0.0000000 | 0.0000000 | 1.00000000 |\n\n",
                        "text/plain": "                                           \np1 0.3441331 0.4604769 0.1428322 0.05255779\np2 0.0000000 0.3441697 0.2591911 0.39663917\np3 0.0000000 0.0000000 0.8964781 0.10352190\np4 0.0000000 0.0000000 0.0000000 1.00000000"
                    },
                    "metadata": {},
                    "output_type": "display_data"
                }
            ],
            "source": "initial_state_probabilities <- c(1, 0, 0, 0)\ntransition_matrix <- data.matrix(P)\ntransition_matrix"
        },
        {
            "cell_type": "code",
            "execution_count": 17,
            "metadata": {
                "trusted": true
            },
            "outputs": [
                {
                    "name": "stderr",
                    "output_type": "stream",
                    "text": "Loading required package: matrixcalc\n\n"
                },
                {
                    "data": {
                        "text/html": "<table class=\"dataframe\">\n<caption>A matrix: 1 \u00d7 4 of type dbl</caption>\n<thead>\n\t<tr><th scope=col></th><th scope=col></th><th scope=col></th><th scope=col></th></tr>\n</thead>\n<tbody>\n\t<tr><td>0.004826501</td><td>0.03229804</td><td>0.3579729</td><td>0.6049026</td></tr>\n</tbody>\n</table>\n",
                        "text/latex": "A matrix: 1 \u00d7 4 of type dbl\n\\begin{tabular}{llll}\n  &  &  & \\\\\n\\hline\n\t 0.004826501 & 0.03229804 & 0.3579729 & 0.6049026\\\\\n\\end{tabular}\n",
                        "text/markdown": "\nA matrix: 1 \u00d7 4 of type dbl\n\n| <!----> | <!----> | <!----> | <!----> |\n|---|---|---|---|\n| 0.004826501 | 0.03229804 | 0.3579729 | 0.6049026 |\n\n",
                        "text/plain": "                                               \n[1,] 0.004826501 0.03229804 0.3579729 0.6049026"
                    },
                    "metadata": {},
                    "output_type": "display_data"
                }
            ],
            "source": "if (!require(\"matrixcalc\")) {\n    install.packages(\"matrixcalc\")\n}\n\ninitial_state_probabilities %*% matrix.power(transition_matrix, k)"
        },
        {
            "cell_type": "markdown",
            "metadata": {},
            "source": "\u041a\u0430\u043a \u0432\u0438\u0434\u043d\u043e, \u0442\u0435\u043e\u0440\u0435\u0442\u0438\u0447\u0435\u0441\u043a\u0438 \u0432\u044b\u0447\u0438\u0441\u043b\u0435\u043d\u043d\u0430\u044f \u043c\u0430\u0442\u0440\u0438\u0446\u0430 \u0441 \u043d\u0435\u043a\u043e\u0442\u043e\u0440\u043e\u0439 \u0442\u043e\u0447\u043d\u043e\u0441\u0442\u044c\u044e \u0441\u043e\u0432\u043f\u0430\u0434\u0430\u0435\u0442\n\u0441\u043e \u0437\u043d\u0430\u0447\u0435\u043d\u0438\u044f\u043c\u0438, \u043f\u043e\u043b\u0443\u0447\u0435\u043d\u043d\u044b\u043c\u0438 \u0442\u0435\u043e\u0440\u0435\u0442\u0438\u0447\u0435\u0441\u043a\u0438. \u041f\u0440\u0438 \u0443\u0432\u0435\u043b\u0438\u0447\u0435\u043d\u0438\u0438 \u043a\u043e\u043b\u0438\u0447\u0435\u0441\u0442\u0432\u0430\n\u044d\u043a\u0441\u043f\u0435\u0440\u0438\u043c\u0435\u043d\u0442\u043e\u0432 $N$ \u0442\u043e\u0447\u043d\u043e\u0441\u0442\u044c \u0442\u043e\u043b\u044c\u043a\u043e \u0443\u0432\u0435\u043b\u0438\u0447\u0438\u0432\u0430\u0435\u0442\u0441\u044f."
        },
        {
            "cell_type": "markdown",
            "metadata": {},
            "source": "# \u0417\u0430\u0434\u0430\u043d\u0438\u0435 2"
        },
        {
            "cell_type": "code",
            "execution_count": null,
            "metadata": {
                "trusted": true
            },
            "outputs": [],
            "source": "variant <- 5\nset.seed(variant)\nk <- sample(c(10:25), 1)\nt1 <- sample(c(14:20), 1)\nt2 <- sample(c(2:5), 1)\nView(data.frame(k, t1, t2))"
        },
        {
            "cell_type": "code",
            "execution_count": null,
            "metadata": {
                "trusted": true
            },
            "outputs": [],
            "source": "if (!require(\"simmer\")) {\n    install.packages(\"simmer\")\n}\nlibrary(simmer)\n\nset.seed(42)\n\nenv <- simmer(\"SuperDuperSim\")\nenv"
        },
        {
            "cell_type": "code",
            "execution_count": null,
            "metadata": {
                "trusted": true
            },
            "outputs": [],
            "source": "programmers <- trajectory(\"programmers' path\") %>%\n    ## add an intake activity\n    seize(\"server\", 1) %>%\n    timeout(function() rnorm(1, 5)) %>%\n    release(\"server\", 1)"
        },
        {
            "cell_type": "code",
            "execution_count": null,
            "metadata": {
                "trusted": true
            },
            "outputs": [],
            "source": "env %>%\n    add_resource(\"server\", 1) %>%\n    add_generator(\"programmers\", programmers, function() {\n        return(10)\n    })\n# , function() rnorm(1, 0.1, 2))"
        },
        {
            "cell_type": "code",
            "execution_count": null,
            "metadata": {
                "trusted": true
            },
            "outputs": [],
            "source": "env %>%\n    run(50) %>%\n    now()\nenv %>% peek(3)"
        },
        {
            "cell_type": "code",
            "execution_count": null,
            "metadata": {
                "trusted": true
            },
            "outputs": [],
            "source": "env %>% get_n_generated(\"programmers\")"
        },
        {
            "cell_type": "code",
            "execution_count": null,
            "metadata": {
                "trusted": true
            },
            "outputs": [],
            "source": "env %>% get_queue_count(\"server\")"
        },
        {
            "cell_type": "code",
            "execution_count": null,
            "metadata": {
                "trusted": true
            },
            "outputs": [],
            "source": "env %>% get_mon_resources()"
        }
    ],
    "metadata": {
        "kernelspec": {
            "display_name": "R",
            "language": "R",
            "name": "ir"
        },
        "language_info": {
            "codemirror_mode": "r",
            "file_extension": ".r",
            "mimetype": "text/x-r-source",
            "name": "R",
            "pygments_lexer": "r",
            "version": "4.2.2"
        }
    },
    "nbformat": 4,
    "nbformat_minor": 5
}