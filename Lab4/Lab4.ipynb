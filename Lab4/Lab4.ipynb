{
    "cells": [
        {
            "cell_type": "markdown",
            "metadata": {},
            "source": "# \u041b\u0430\u0431\u043e\u0440\u0430\u0442\u043e\u0440\u043d\u0430\u044f \u0440\u0430\u0431\u043e\u0442\u0430 \u2116 4. \u041c\u043e\u0434\u0435\u043b\u044c \u043e\u0434\u043d\u043e\u0444\u0430\u0437\u043d\u043e\u0439 \u043c\u043d\u043e\u0433\u043e\u043a\u0430\u043d\u0430\u043b\u044c\u043d\u043e\u0439 \u0437\u0430\u043c\u043a\u043d\u0443\u0442\u043e\u0439 \u0441\u0438\u0441\u0442\u0435\u043c\u044b \u043e\u0431\u0441\u043b\u0443\u0436\u0438\u0432\u0430\u043d\u0438\u044f\n\u0412\u044b\u043f\u043e\u043b\u043d\u0438\u043b \u041f\u0430\u043a\u0430\u043b\u043e \u0410\u043b\u0435\u043a\u0441\u0430\u043d\u0434\u0440 \u0421\u0435\u0440\u0433\u0435\u0435\u0432\u0438\u0447, \u0441\u0442\u0443\u0434\u0435\u043d\u0442 \u0420\u04225-81\u0411\n\n\u0412\u0430\u0440\u0438\u0430\u043d\u0442 \u2116 5\n\n## \u0417\u0430\u0434\u0430\u043d\u0438\u0435 \u2116 1\n\u0412\u044b\u0447\u0438\u0441\u043b\u0438\u0442\u0435\u043b\u044c\u043d\u044b\u0439 \u0446\u0435\u043d\u0442\u0440 \u0444\u0438\u0440\u043c\u044b \u0441\u043e\u0441\u0442\u043e\u0438\u0442 \u0438\u0437 $m$\n \u0433\u043b\u0430\u0432\u043d\u044b\u0445 \u0441\u0435\u0440\u0432\u0435\u0440\u043e\u0432 \u043a\u043e\u043b\u043b\u0435\u043a\u0442\u0438\u0432\u043d\u043e\u0433\u043e \u043f\u043e\u043b\u044c\u0437\u043e\u0432\u0430\u043d\u0438\u044f. \u0427\u0438\u0441\u043b\u043e \u0440\u0430\u0431\u043e\u0442\u0430\u044e\u0449\u0438\u0445 \u0432 \u0446\u0435\u043d\u0442\u0440\u0435\n \u043f\u0440\u043e\u0433\u0440\u0430\u043c\u043c\u0438\u0441\u0442\u043e\u0432 \u0432 \u043b\u044e\u0431\u043e\u0439 \u043c\u043e\u043c\u0435\u043d\u0442 \u0432\u0440\u0435\u043c\u0435\u043d\u0438 \u0440\u0430\u0432\u043d\u043e\n$k$. \u041a\u0430\u0436\u0434\u044b\u0439 \u043f\u0440\u043e\u0433\u0440\u0430\u043c\u043c\u0438\u0441\u0442 \u0433\u043e\u0442\u043e\u0432\u0438\u0442 \u0441\u0432\u043e\u044e \u043f\u0440\u043e\u0433\u0440\u0430\u043c\u043c\u0443 \u0438 \u0447\u0435\u0440\u0435\u0437 \u0442\u0435\u0440\u043c\u0438\u043d\u0430\u043b \u043f\u0435\u0440\u0435\u0434\u0430\u0435\u0442 \u0435\u0435\n\u043d\u0430 \u0441\u0435\u0440\u0432\u0435\u0440 \u0434\u043b\u044f \u0432\u044b\u043f\u043e\u043b\u043d\u0435\u043d\u0438\u044f, \u043a\u0443\u0434\u0430 \u043e\u043d\u0430 \u0441\u0440\u0430\u0437\u0443 \u043f\u043e\u043f\u0430\u0434\u0430\u0435\u0442. \u0412\u0440\u0435\u043c\u044f \u043f\u043e\u0434\u0433\u043e\u0442\u043e\u0432\u043a\u0438 \u043f\u0440\u043e\u0433\u0440\u0430\u043c\u043c\n\u0438\u043c\u0435\u0435\u0442 \u044d\u043a\u0441\u043f\u043e\u043d\u0435\u043d\u0446\u0438\u0430\u043b\u044c\u043d\u043e\u0435 \u0440\u0430\u0441\u043f\u0440\u0435\u0434\u0435\u043b\u0435\u043d\u0438\u0435 \u0441\u043e \u0441\u0440\u0435\u0434\u043d\u0438\u043c \u0437\u043d\u0430\u0447\u0435\u043d\u0438\u0435\u043c\n$t_1$ \u043c\u0438\u043d. \u0412\u0440\u0435\u043c\u044f \u0432\u044b\u043f\u043e\u043b\u043d\u0435\u043d\u0438\u044f \u043f\u0440\u043e\u0433\u0440\u0430\u043c\u043c\u044b \u043d\u0430 \u043b\u044e\u0431\u043e\u043c \u0438\u0437 \u0441\u0435\u0440\u0432\u0435\u0440\u043e\u0432 \u0438\u043c\u0435\u0435\u0442 \u044d\u043a\u0441\u043f\u043e\u043d\u0435\u043d\u0446\u0438\u0430\u043b\u044c\u043d\u043e\u0435\n \u0440\u0430\u0441\u043f\u0440\u0435\u0434\u0435\u043b\u0435\u043d\u0438\u0435 \u0441\u043e \u0441\u0440\u0435\u0434\u043d\u0438\u043c \u0437\u043d\u0430\u0447\u0435\u043d\u0438\u0435\u043c\n $t_2$ \u043c\u0438\u043d. \u041a\u0430\u0436\u0434\u044b\u0439 \u043f\u0440\u043e\u0433\u0440\u0430\u043c\u043c\u0438\u0441\u0442 \u043e\u0436\u0438\u0434\u0430\u0435\u0442 \u043e\u0442\u0432\u0435\u0442\u0430 \u043e\u0442 \u0441\u0435\u0440\u0432\u0435\u0440\u0430, \u043f\u0440\u0435\u0436\u0434\u0435, \u0447\u0435\u043c \u043d\u0430\u0447\u043d\u0435\u0442 \u043f\u0438\u0441\u0430\u0442\u044c \u0441\u043b\u0435\u0434\u0443\u044e\u0449\u0443\u044e \u043f\u0440\u043e\u0433\u0440\u0430\u043c\u043c\u0443.\n\n\u041d\u0430\u0439\u0442\u0438 (\u0442\u0435\u043e\u0440\u0435\u0442\u0438\u0447\u0435\u0441\u043a\u0438 \u0438 \u044d\u043a\u0441\u043f\u0435\u0440\u0438\u043c\u0435\u043d\u0442\u0430\u043b\u044c\u043d\u043e):\n1. \u0412\u0435\u0440\u043e\u044f\u0442\u043d\u043e\u0441\u0442\u044c \u0442\u043e\u0433\u043e, \u0447\u0442\u043e \u043f\u0440\u043e\u0433\u0440\u0430\u043c\u043c\u0430 \u043d\u0435 \u0431\u0443\u0434\u0435\u0442 \u0432\u044b\u043f\u043e\u043b\u043d\u0435\u043d\u0430 \u0441\u0440\u0430\u0437\u0443 \u0436\u0435, \u043a\u0430\u043a \u0442\u043e\u043b\u044c\u043a\u043e \u043e\u043d\u0430 \u043f\u043e\u0441\u0442\u0443\u043f\u0438\u043b\u0430 \u043d\u0430 \u0442\u0435\u0440\u043c\u0438\u043d\u0430\u043b.\n2. \u0421\u0440\u0435\u0434\u043d\u0435\u0435 \u0432\u0440\u0435\u043c\u044f \u0434\u043e \u043f\u043e\u043b\u0443\u0447\u0435\u043d\u0438\u044f \u043f\u043e\u043b\u044c\u0437\u043e\u0432\u0430\u0442\u0435\u043b\u0435\u043c \u0440\u0435\u0437\u0443\u043b\u044c\u0442\u0430\u0442\u043e\u0432 \u0440\u0435\u0430\u043b\u0438\u0437\u0430\u0446\u0438\u0438.\n3. \u0421\u0440\u0435\u0434\u043d\u0435\u0435 \u043a\u043e\u043b\u0438\u0447\u0435\u0441\u0442\u0432\u043e \u043f\u0440\u043e\u0433\u0440\u0430\u043c\u043c, \u043e\u0436\u0438\u0434\u0430\u044e\u0449\u0438\u0445 \u0432\u044b\u043f\u043e\u043b\u043d\u0435\u043d\u0438\u044f \u043d\u0430 \u0441\u0435\u0440\u0432\u0435\u0440\u0435.\n\n\u0422\u0440\u0435\u0431\u0443\u0435\u0442\u0441\u044f \u0432\u044b\u043f\u043e\u043b\u043d\u0438\u0442\u044c \u0440\u0430\u0441\u0447\u0435\u0442 \u043f\u0440\u0438 \u0437\u0430\u0434\u0430\u043d\u043d\u043e\u043c \u043f\u043e \u0432\u0430\u0440\u0438\u0430\u043d\u0442\u0443 \u0437\u043d\u0430\u0447\u0435\u043d\u0438\u0438\n$m$, \u0430 \u0442\u0430\u043a\u0436\u0435 \u043f\u0440\u0438 $m = 1$."
        },
        {
            "cell_type": "code",
            "execution_count": 44,
            "metadata": {
                "trusted": true
            },
            "outputs": [
                {
                    "data": {
                        "text/html": "<table class=\"dataframe\">\n<caption>A data.frame: 1 \u00d7 4</caption>\n<thead>\n\t<tr><th scope=col>k</th><th scope=col>m</th><th scope=col>t1</th><th scope=col>t2</th></tr>\n\t<tr><th scope=col>&lt;int&gt;</th><th scope=col>&lt;int&gt;</th><th scope=col>&lt;int&gt;</th><th scope=col>&lt;int&gt;</th></tr>\n</thead>\n<tbody>\n\t<tr><td>11</td><td>5</td><td>14</td><td>4</td></tr>\n</tbody>\n</table>\n",
                        "text/latex": "A data.frame: 1 \u00d7 4\n\\begin{tabular}{llll}\n k & m & t1 & t2\\\\\n <int> & <int> & <int> & <int>\\\\\n\\hline\n\t 11 & 5 & 14 & 4\\\\\n\\end{tabular}\n",
                        "text/markdown": "\nA data.frame: 1 \u00d7 4\n\n| k &lt;int&gt; | m &lt;int&gt; | t1 &lt;int&gt; | t2 &lt;int&gt; |\n|---|---|---|---|\n| 11 | 5 | 14 | 4 |\n\n",
                        "text/plain": "  k  m t1 t2\n1 11 5 14 4 "
                    },
                    "metadata": {},
                    "output_type": "display_data"
                }
            ],
            "source": "Variant <- 5\nset.seed(Variant)\nk <- sample(c(10:25), 1)\nm <- sample(c(3:6), 1)\nt1 <- sample(c(14:20), 1)\nt2 <- sample(c(2:6), 1)\nView(data.frame(k, m, t1, t2))"
        },
        {
            "cell_type": "markdown",
            "metadata": {},
            "source": "\u041d\u0430\u0439\u0434\u0435\u043c \u0438\u043d\u0442\u0435\u043d\u0441\u0438\u0432\u043d\u043e\u0441\u0442\u044c \u0432\u044b\u043f\u043e\u043b\u043d\u0435\u043d\u0438\u044f \u043f\u0440\u043e\u0433\u0440\u0430\u043c\u043c:"
        },
        {
            "cell_type": "code",
            "execution_count": 45,
            "metadata": {
                "trusted": true
            },
            "outputs": [
                {
                    "data": {
                        "text/html": "0.0714285714285714",
                        "text/latex": "0.0714285714285714",
                        "text/markdown": "0.0714285714285714",
                        "text/plain": "[1] 0.07142857"
                    },
                    "metadata": {},
                    "output_type": "display_data"
                }
            ],
            "source": "lambda_1 <- 1 / t1\nlambda_1"
        },
        {
            "cell_type": "markdown",
            "metadata": {},
            "source": "\u0418\u043d\u0442\u0435\u043d\u0441\u0438\u0432\u043d\u043e\u0441\u0442\u044c \u043f\u043e\u0441\u0442\u0443\u043f\u043b\u0435\u043d\u0438\u044f \u043f\u0440\u043e\u0433\u0440\u0430\u043c\u043c \u043e\u0442 $k$ \u043f\u0440\u043e\u0433\u0440\u0430\u043c\u043c\u0438\u0441\u0442\u043e\u0432:"
        },
        {
            "cell_type": "code",
            "execution_count": 46,
            "metadata": {
                "trusted": true
            },
            "outputs": [
                {
                    "data": {
                        "text/html": "0.785714285714286",
                        "text/latex": "0.785714285714286",
                        "text/markdown": "0.785714285714286",
                        "text/plain": "[1] 0.7857143"
                    },
                    "metadata": {},
                    "output_type": "display_data"
                }
            ],
            "source": "lambda_k <- k * lambda_1\nlambda_k"
        },
        {
            "cell_type": "markdown",
            "metadata": {},
            "source": "\u0418\u043d\u0442\u0435\u043d\u0441\u0438\u0432\u043d\u043e\u0441\u0442\u044c \u0432\u044b\u043f\u043e\u043b\u043d\u0435\u043d\u0438\u044f \u043f\u0440\u043e\u0433\u0440\u0430\u043c\u043c:"
        },
        {
            "cell_type": "code",
            "execution_count": 61,
            "metadata": {
                "trusted": true
            },
            "outputs": [
                {
                    "data": {
                        "text/html": "0.25",
                        "text/latex": "0.25",
                        "text/markdown": "0.25",
                        "text/plain": "[1] 0.25"
                    },
                    "metadata": {},
                    "output_type": "display_data"
                }
            ],
            "source": "miu <- 1 / t2\nmiu"
        },
        {
            "cell_type": "markdown",
            "metadata": {},
            "source": "\u0418\u043d\u0442\u0435\u043d\u0441\u0438\u0432\u043d\u043e\u0441\u0442\u044c \u0432\u044b\u043f\u043e\u043b\u043d\u0435\u043d\u0438\u044f \u043f\u0440\u043e\u0433\u0440\u0430\u043c\u043c \u043c\u0435\u043d\u044c\u0448\u0435 \u0438\u043d\u0442\u0435\u043d\u0441\u0438\u0432\u043d\u043e\u0441\u0442\u0438 \u043f\u043e\u0441\u0442\u0443\u043f\u043b\u0435\u043d\u0438\u044f,\n\u0441\u043b\u0435\u0434\u043e\u0432\u0430\u0442\u0435\u043b\u044c\u043d\u043e \u043e\u0447\u0435\u0440\u0435\u0434\u044c \u0432 \u043d\u0430\u0448\u0435\u0439 \u0441\u0438\u0441\u0442\u0435\u043c\u0435 \u0431\u0443\u0434\u0435\u0442 \u0431\u0435\u0441\u043a\u043e\u043d\u0435\u0447\u043d\u043e \u0440\u0430\u0441\u0442\u0438. \u0421\u043e\u0433\u043b\u0430\u0441\u043d\u043e\n\u0443\u043a\u0430\u0437\u0430\u043d\u0438\u044f\u043c \u043f\u0440\u0435\u043f\u043e\u0434\u0430\u0432\u0430\u0442\u0435\u043b\u044f, \u0438\u0437\u043c\u0435\u043d\u0438\u043c \u043d\u0430\u0447\u0430\u043b\u044c\u043d\u044b\u0435 \u043f\u0430\u0440\u0430\u043c\u0435\u0442\u0440\u044b \u0442\u0430\u043a, \u0447\u0442\u043e\u0431\u044b \u043d\u0435\u0440\u0430\u0432\u0435\u043d\u0441\u0442\u0432\u043e\n\u043e\u0431\u0440\u0430\u0442\u0438\u043b\u043e\u0441\u044c:"
        },
        {
            "cell_type": "code",
            "execution_count": 62,
            "metadata": {
                "trusted": true
            },
            "outputs": [
                {
                    "data": {
                        "text/html": "0.244444444444444",
                        "text/latex": "0.244444444444444",
                        "text/markdown": "0.244444444444444",
                        "text/plain": "[1] 0.2444444"
                    },
                    "metadata": {},
                    "output_type": "display_data"
                }
            ],
            "source": "t1 <- 45\nlambda_k <- k / t1\nlambda_k"
        },
        {
            "cell_type": "markdown",
            "metadata": {},
            "source": "\u0418\u0442\u043e\u0433\u043e \u0438\u043c\u0435\u0435\u043c \u0441\u043b\u0435\u0434\u0443\u044e\u0449\u0438\u0435 \u043d\u0430\u0447\u0430\u043b\u044c\u043d\u044b\u0435 \u0432\u0435\u043b\u0438\u0447\u0438\u043d\u044b:"
        },
        {
            "cell_type": "code",
            "execution_count": 63,
            "metadata": {
                "trusted": true
            },
            "outputs": [
                {
                    "data": {
                        "text/html": "<table class=\"dataframe\">\n<caption>A data.frame: 1 \u00d7 4</caption>\n<thead>\n\t<tr><th scope=col>k</th><th scope=col>m</th><th scope=col>t1</th><th scope=col>t2</th></tr>\n\t<tr><th scope=col>&lt;int&gt;</th><th scope=col>&lt;int&gt;</th><th scope=col>&lt;dbl&gt;</th><th scope=col>&lt;int&gt;</th></tr>\n</thead>\n<tbody>\n\t<tr><td>11</td><td>5</td><td>45</td><td>4</td></tr>\n</tbody>\n</table>\n",
                        "text/latex": "A data.frame: 1 \u00d7 4\n\\begin{tabular}{llll}\n k & m & t1 & t2\\\\\n <int> & <int> & <dbl> & <int>\\\\\n\\hline\n\t 11 & 5 & 45 & 4\\\\\n\\end{tabular}\n",
                        "text/markdown": "\nA data.frame: 1 \u00d7 4\n\n| k &lt;int&gt; | m &lt;int&gt; | t1 &lt;dbl&gt; | t2 &lt;int&gt; |\n|---|---|---|---|\n| 11 | 5 | 45 | 4 |\n\n",
                        "text/plain": "  k  m t1 t2\n1 11 5 45 4 "
                    },
                    "metadata": {},
                    "output_type": "display_data"
                }
            ],
            "source": "View(data.frame(k, m, t1, t2))"
        },
        {
            "cell_type": "markdown",
            "metadata": {},
            "source": "### \u0422\u0435\u043e\u0440\u0435\u0442\u0438\u0447\u0435\u0441\u043a\u0438"
        },
        {
            "cell_type": "markdown",
            "metadata": {},
            "source": "#### 1. \u0412\u0435\u0440\u043e\u044f\u0442\u043d\u043e\u0441\u0442\u044c \u0442\u043e\u0433\u043e, \u0447\u0442\u043e \u043f\u0440\u043e\u0433\u0440\u0430\u043c\u043c\u0430 \u043d\u0435 \u0431\u0443\u0434\u0435\u0442 \u0432\u044b\u043f\u043e\u043b\u043d\u0435\u043d\u0430 \u0441\u0440\u0430\u0437\u0443 \u0436\u0435, \u043a\u0430\u043a \u0442\u043e\u043b\u044c\u043a\u043e \u043e\u043d\u0430 \u043f\u043e\u0441\u0442\u0443\u043f\u0438\u043b\u0430 \u043d\u0430 \u0442\u0435\u0440\u043c\u0438\u043d\u0430\u043b\n\u041c\u044b \u0438\u043c\u0435\u0435\u043c \u0434\u0435\u043b\u043e \u0441 \u043c\u043d\u043e\u0433\u043e\u043a\u0430\u043d\u0430\u043b\u044c\u043d\u043e\u0439 **\u0437\u0430\u043c\u043a\u043d\u0443\u0442\u043e\u0439** \u0421\u041c\u041e \u0441 \u043d\u0435\u043e\u0433\u0440\u0430\u043d\u0438\u0447\u0435\u043d\u043d\u043e\u0439 \u043e\u0447\u0435\u0440\u0435\u0434\u044c\u044e\n$M / M / m / \\infty$. \u0421\u043b\u0435\u0434\u043e\u0432\u0430\u0442\u0435\u043b\u044c\u043d\u043e:\n\n$$\nP_0 = \\left(\n  \\sum_{i = 0}^m \\frac{k! \\rho^i}{\\left(k - i \\right)!i!}\n  +\n  \\sum_{i = 1}^{k - m} \\frac{k! \\rho^{m + i}}{m! \\cdot (k - m - i)!m^i}\n\\right) ^ {-1}\n$$\n\u0433\u0434\u0435 $\\rho = \\frac{\\lambda}{\\mu}$"
        },
        {
            "cell_type": "code",
            "execution_count": 64,
            "metadata": {
                "trusted": true
            },
            "outputs": [
                {
                    "data": {
                        "text/html": "0.285714285714286",
                        "text/latex": "0.285714285714286",
                        "text/markdown": "0.285714285714286",
                        "text/plain": "[1] 0.2857143"
                    },
                    "metadata": {},
                    "output_type": "display_data"
                }
            ],
            "source": "ro <- lambda_1 / miu\nro"
        },
        {
            "cell_type": "code",
            "execution_count": 65,
            "metadata": {
                "trusted": true
            },
            "outputs": [
                {
                    "data": {
                        "text/html": "0.0667957897961127",
                        "text/latex": "0.0667957897961127",
                        "text/markdown": "0.0667957897961127",
                        "text/plain": "[1] 0.06679579"
                    },
                    "metadata": {},
                    "output_type": "display_data"
                }
            ],
            "source": "i1 <- 1:m\nparts_of_sum1 <- c(factorial(k) * ro^i1 / (factorial((k - i1)) * factorial(i1)))\n\ni2 <- 1:(k-m)\nparts_of_sum2 <- c(factorial(k) * ro^(m+i2) / (factorial(m) * factorial((k - m - i2)) * m^i2))\n\nP0 <- (sum(parts_of_sum1) + sum(parts_of_sum2))^(-1)\nP0"
        },
        {
            "cell_type": "markdown",
            "metadata": {},
            "source": "\u0422\u043e\u0433\u0434\u0430 \u0432\u0435\u0440\u043e\u044f\u0442\u043d\u043e\u0441\u0442\u044c \u0442\u043e\u0433\u043e, \u0447\u0442\u043e $i$ \u0441\u0435\u0440\u0432\u0435\u0440\u043e\u0432 \u0437\u0430\u043d\u044f\u0442\u043e:\n$$\nP_i = P_0 \\cdot \\frac{k! \\rho^i}{\\left(k - i \\right)!i!}\n$$\n\n\u0414\u043b\u044f \u044d\u0442\u043e\u0433\u043e \u0432\u043e\u0441\u043f\u043e\u043b\u044c\u0437\u0443\u0435\u043c\u0441\u044f \u0443\u0436\u0435 \u0441\u043e\u0437\u0434\u0430\u043d\u043d\u044b\u043c \u043c\u0430\u0441\u0441\u0438\u0432\u043e\u043c \u0447\u0430\u0441\u0442\u0435\u0439 \u0441\u0443\u043c\u043c\u044b:"
        },
        {
            "cell_type": "code",
            "execution_count": 68,
            "metadata": {
                "trusted": true
            },
            "outputs": [],
            "source": "get_Pi <- function(part) part * P0"
        },
        {
            "cell_type": "code",
            "execution_count": 69,
            "metadata": {
                "trusted": true
            },
            "outputs": [
                {
                    "data": {
                        "text/html": "<ol>\n\t<li>0.209929625073497</li>\n\t<li>0.29989946439071</li>\n\t<li>0.257056683763466</li>\n\t<li>0.146889533579123</li>\n</ol>\n",
                        "text/latex": "\\begin{enumerate}\n\\item 0.209929625073497\n\\item 0.29989946439071\n\\item 0.257056683763466\n\\item 0.146889533579123\n\\end{enumerate}\n",
                        "text/markdown": "1. 0.209929625073497\n2. 0.29989946439071\n3. 0.257056683763466\n4. 0.146889533579123\n\n\n",
                        "text/plain": "[[1]]\n[1] 0.2099296\n\n[[2]]\n[1] 0.2998995\n\n[[3]]\n[1] 0.2570567\n\n[[4]]\n[1] 0.1468895\n"
                    },
                    "metadata": {},
                    "output_type": "display_data"
                }
            ],
            "source": "Pi <- lapply(parts_of_sum1[1:m-1], get_Pi)\nPi"
        },
        {
            "cell_type": "markdown",
            "metadata": {},
            "source": "\u0422\u043e\u0433\u0434\u0430 $\\sum_{i = 0}^{m - 1} P_i$ -  \u0432\u0435\u0440\u043e\u044f\u0442\u043d\u043e\u0441\u0442\u044c \u0442\u043e\u0433\u043e, \u0447\u0442\u043e \u0445\u043e\u0442\u044f \u0431\u044b \u043e\u0434\u0438\u043d \u0441\u0435\u0440\u0432\u0435\u0440\n\u0431\u0443\u0434\u0435\u0442 \u0434\u043e\u0441\u0442\u0443\u043f\u0435\u043d. \u0421\u043b\u0435\u0434\u043e\u0432\u0430\u0442\u0435\u043b\u044c\u043d\u043e, \u043e\u0431\u0440\u0430\u0442\u043d\u0430\u044f \u0432\u0435\u0440\u043e\u044f\u0442\u043d\u043e\u0441\u0442\u044c \u0438 \u0431\u0443\u0434\u0435\u0442 \u043d\u0430\u0448\u0438\u043c \u043e\u0442\u0432\u0435\u0442\u043e\u043c."
        },
        {
            "cell_type": "code",
            "execution_count": 70,
            "metadata": {
                "trusted": true
            },
            "outputs": [
                {
                    "data": {
                        "text/html": "0.153020482989316",
                        "text/latex": "0.153020482989316",
                        "text/markdown": "0.153020482989316",
                        "text/plain": "[1] 0.1530205"
                    },
                    "metadata": {},
                    "output_type": "display_data"
                }
            ],
            "source": "probability <- 1 - sum(unlist(Pi)) + P0\nprobability"
        },
        {
            "cell_type": "markdown",
            "metadata": {},
            "source": "#### 2. \u0421\u0440\u0435\u0434\u043d\u0435\u0435 \u0432\u0440\u0435\u043c\u044f \u0434\u043e \u043f\u043e\u043b\u0443\u0447\u0435\u043d\u0438\u044f \u043f\u043e\u043b\u044c\u0437\u043e\u0432\u0430\u0442\u0435\u043b\u0435\u043c \u0440\u0435\u0437\u0443\u043b\u044c\u0442\u0430\u0442\u043e\u0432 \u0440\u0435\u0430\u043b\u0438\u0437\u0430\u0446\u0438\u0438.\n\u041f\u043e \u0444\u043e\u0440\u043c\u0443\u043b\u0435 \u041b\u0438\u0442\u0442\u043b\u0430, \u043f\u043e\u0434\u0445\u043e\u0434\u044f\u0449\u0435\u0439 \u0434\u043b\u044f \u0421\u041c\u041e \u043b\u044e\u0431\u043e\u0433\u043e \u0432\u0438\u0434\u0430 \u0438\u043c\u0435\u0435\u043c:\n$$\nT_{\\text{\u0441\u0438\u0441\u0442}} = \\frac{L_{\\text{\u0441\u0438\u0441\u0442}}}{\\Lambda} \\\\\n\\Lambda = (k - L_{\\text{\u0441\u0438\u0441\u0442}}) \\cdot \\lambda \\\\\nL_{\\text{\u0441\u0438\u0441\u0442}} = \\sum_{i = 1}^k \\left(P_i \\cdot i \\right)\n$$"
        },
        {
            "cell_type": "code",
            "execution_count": 77,
            "metadata": {
                "trusted": true
            },
            "outputs": [
                {
                    "data": {
                        "text/html": "0.913775306806796",
                        "text/latex": "0.913775306806796",
                        "text/markdown": "0.913775306806796",
                        "text/plain": "[1] 0.9137753"
                    },
                    "metadata": {},
                    "output_type": "display_data"
                }
            ],
            "source": "Pi_queue <- mapply(function(Pi, i) Pi * i, Pi[1:k], 1:k)\nLsys <- sum(unlist(Pi))\nLsys"
        },
        {
            "cell_type": "code",
            "execution_count": 78,
            "metadata": {
                "trusted": true
            },
            "outputs": [
                {
                    "data": {
                        "text/html": "0.720444620942372",
                        "text/latex": "0.720444620942372",
                        "text/markdown": "0.720444620942372",
                        "text/plain": "[1] 0.7204446"
                    },
                    "metadata": {},
                    "output_type": "display_data"
                }
            ],
            "source": "Lambda <- (k - Lsys) * lambda_1\nLambda"
        },
        {
            "cell_type": "code",
            "execution_count": 80,
            "metadata": {
                "trusted": true
            },
            "outputs": [
                {
                    "data": {
                        "text/html": "1.2683491280864",
                        "text/latex": "1.2683491280864",
                        "text/markdown": "1.2683491280864",
                        "text/plain": "[1] 1.268349"
                    },
                    "metadata": {},
                    "output_type": "display_data"
                }
            ],
            "source": "T <- Lsys / Lambda\nT"
        },
        {
            "cell_type": "markdown",
            "metadata": {},
            "source": "#### 3. \u0421\u0440\u0435\u0434\u043d\u0435\u0435 \u043a\u043e\u043b\u0438\u0447\u0435\u0441\u0442\u0432\u043e \u043f\u0440\u043e\u0433\u0440\u0430\u043c\u043c, \u043e\u0436\u0438\u0434\u0430\u044e\u0449\u0438\u0445 \u0432\u044b\u043f\u043e\u043b\u043d\u0435\u043d\u0438\u044f \u043d\u0430 \u0441\u0435\u0440\u0432\u0435\u0440\u0435.\n\u041e\u043d\u0430 \u0436\u0435 \u0441\u0440\u0435\u0434\u043d\u044f\u044f \u0434\u043b\u0438\u043d\u0430 \u043e\u0447\u0435\u0440\u0435\u0434\u0438:\n$$\nL_{\\text{\u043e\u0447}} = \\frac{\\rho^{m+1}}{m! \\cdot m} \\cdot P_0 \\cdot\n\\frac{1}{\\left( 1 - \\frac{\\rho}{m} \\right)^2}\n$$"
        },
        {
            "cell_type": "code",
            "execution_count": 82,
            "metadata": {
                "trusted": true
            },
            "outputs": [
                {
                    "data": {
                        "text/html": "6.81236300466201e-08",
                        "text/latex": "6.81236300466201e-08",
                        "text/markdown": "6.81236300466201e-08",
                        "text/plain": "[1] 6.812363e-08"
                    },
                    "metadata": {},
                    "output_type": "display_data"
                }
            ],
            "source": "Lqueue <- ro ^ (m+1) / (factorial(m) * m) * P0 * 1 / (1 - ro / m) ^ 2\nLqueue"
        },
        {
            "cell_type": "markdown",
            "metadata": {},
            "source": "\u041a\u0430\u043a \u0432\u0438\u0434\u043d\u043e, \u043e\u0447\u0435\u0440\u0435\u0434\u044c \u0441\u0438\u0441\u0442\u0435\u043c\u0430 \u0440\u0430\u0431\u043e\u0442\u0430\u0435\u0442 \u0434\u043e\u0441\u0442\u0430\u0442\u043e\u0447\u043d\u043e \u0431\u044b\u0441\u0442\u0440\u043e, \u0447\u0442\u043e\u0431\u044b \u043d\u0435 \u043d\u0430\u043a\u0430\u043f\u043b\u0438\u0432\u0430\u0442\u044c \u043e\u0447\u0435\u0440\u0435\u0434\u044c.\n\u042d\u0442\u043e \u043f\u043e\u0434\u0442\u0432\u0435\u0440\u0436\u0434\u0430\u0435\u0442\u0441\u044f \u0438 \u043f\u0440\u0438 \u0441\u0440\u0430\u0432\u043d\u0435\u043d\u0438\u0438 \u0438\u043d\u0442\u0435\u043d\u0441\u0438\u0432\u043d\u043e\u0441\u0442\u0435\u0439 \u043f\u043e\u0441\u0442\u0443\u043f\u043b\u0435\u043d\u0438\u044f / \u043e\u0431\u0440\u0430\u0431\u043e\u0442\u043a\u0438 \u043f\u0440\u043e\u0433\u0440\u0430\u043c\u043c."
        }
    ],
    "metadata": {
        "kernelspec": {
            "display_name": "R",
            "language": "R",
            "name": "ir"
        },
        "language_info": {
            "codemirror_mode": "r",
            "file_extension": ".r",
            "mimetype": "text/x-r-source",
            "name": "R",
            "pygments_lexer": "r",
            "version": "4.2.2"
        }
    },
    "nbformat": 4,
    "nbformat_minor": 5
}