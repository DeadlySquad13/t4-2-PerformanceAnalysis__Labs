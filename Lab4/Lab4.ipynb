{
    "cells": [
        {
            "cell_type": "markdown",
            "metadata": {},
            "source": "# \u041b\u0430\u0431\u043e\u0440\u0430\u0442\u043e\u0440\u043d\u0430\u044f \u0440\u0430\u0431\u043e\u0442\u0430 \u2116 4. \u041c\u043e\u0434\u0435\u043b\u044c \u043e\u0434\u043d\u043e\u0444\u0430\u0437\u043d\u043e\u0439 \u043c\u043d\u043e\u0433\u043e\u043a\u0430\u043d\u0430\u043b\u044c\u043d\u043e\u0439 \u0437\u0430\u043c\u043a\u043d\u0443\u0442\u043e\u0439 \u0441\u0438\u0441\u0442\u0435\u043c\u044b \u043e\u0431\u0441\u043b\u0443\u0436\u0438\u0432\u0430\u043d\u0438\u044f\n\u0412\u044b\u043f\u043e\u043b\u043d\u0438\u043b \u041f\u0430\u043a\u0430\u043b\u043e \u0410\u043b\u0435\u043a\u0441\u0430\u043d\u0434\u0440 \u0421\u0435\u0440\u0433\u0435\u0435\u0432\u0438\u0447, \u0441\u0442\u0443\u0434\u0435\u043d\u0442 \u0420\u04225-81\u0411\n\n\u0412\u0430\u0440\u0438\u0430\u043d\u0442 \u2116 5\n\n## \u0417\u0430\u0434\u0430\u043d\u0438\u0435 \u2116 1\n\u0412\u044b\u0447\u0438\u0441\u043b\u0438\u0442\u0435\u043b\u044c\u043d\u044b\u0439 \u0446\u0435\u043d\u0442\u0440 \u0444\u0438\u0440\u043c\u044b \u0441\u043e\u0441\u0442\u043e\u0438\u0442 \u0438\u0437 $m$\n \u0433\u043b\u0430\u0432\u043d\u044b\u0445 \u0441\u0435\u0440\u0432\u0435\u0440\u043e\u0432 \u043a\u043e\u043b\u043b\u0435\u043a\u0442\u0438\u0432\u043d\u043e\u0433\u043e \u043f\u043e\u043b\u044c\u0437\u043e\u0432\u0430\u043d\u0438\u044f. \u0427\u0438\u0441\u043b\u043e \u0440\u0430\u0431\u043e\u0442\u0430\u044e\u0449\u0438\u0445 \u0432 \u0446\u0435\u043d\u0442\u0440\u0435\n \u043f\u0440\u043e\u0433\u0440\u0430\u043c\u043c\u0438\u0441\u0442\u043e\u0432 \u0432 \u043b\u044e\u0431\u043e\u0439 \u043c\u043e\u043c\u0435\u043d\u0442 \u0432\u0440\u0435\u043c\u0435\u043d\u0438 \u0440\u0430\u0432\u043d\u043e\n$k$. \u041a\u0430\u0436\u0434\u044b\u0439 \u043f\u0440\u043e\u0433\u0440\u0430\u043c\u043c\u0438\u0441\u0442 \u0433\u043e\u0442\u043e\u0432\u0438\u0442 \u0441\u0432\u043e\u044e \u043f\u0440\u043e\u0433\u0440\u0430\u043c\u043c\u0443 \u0438 \u0447\u0435\u0440\u0435\u0437 \u0442\u0435\u0440\u043c\u0438\u043d\u0430\u043b \u043f\u0435\u0440\u0435\u0434\u0430\u0435\u0442 \u0435\u0435\n\u043d\u0430 \u0441\u0435\u0440\u0432\u0435\u0440 \u0434\u043b\u044f \u0432\u044b\u043f\u043e\u043b\u043d\u0435\u043d\u0438\u044f, \u043a\u0443\u0434\u0430 \u043e\u043d\u0430 \u0441\u0440\u0430\u0437\u0443 \u043f\u043e\u043f\u0430\u0434\u0430\u0435\u0442. \u0412\u0440\u0435\u043c\u044f \u043f\u043e\u0434\u0433\u043e\u0442\u043e\u0432\u043a\u0438 \u043f\u0440\u043e\u0433\u0440\u0430\u043c\u043c\n\u0438\u043c\u0435\u0435\u0442 \u044d\u043a\u0441\u043f\u043e\u043d\u0435\u043d\u0446\u0438\u0430\u043b\u044c\u043d\u043e\u0435 \u0440\u0430\u0441\u043f\u0440\u0435\u0434\u0435\u043b\u0435\u043d\u0438\u0435 \u0441\u043e \u0441\u0440\u0435\u0434\u043d\u0438\u043c \u0437\u043d\u0430\u0447\u0435\u043d\u0438\u0435\u043c\n$t_1$ \u043c\u0438\u043d. \u0412\u0440\u0435\u043c\u044f \u0432\u044b\u043f\u043e\u043b\u043d\u0435\u043d\u0438\u044f \u043f\u0440\u043e\u0433\u0440\u0430\u043c\u043c\u044b \u043d\u0430 \u043b\u044e\u0431\u043e\u043c \u0438\u0437 \u0441\u0435\u0440\u0432\u0435\u0440\u043e\u0432 \u0438\u043c\u0435\u0435\u0442 \u044d\u043a\u0441\u043f\u043e\u043d\u0435\u043d\u0446\u0438\u0430\u043b\u044c\u043d\u043e\u0435\n \u0440\u0430\u0441\u043f\u0440\u0435\u0434\u0435\u043b\u0435\u043d\u0438\u0435 \u0441\u043e \u0441\u0440\u0435\u0434\u043d\u0438\u043c \u0437\u043d\u0430\u0447\u0435\u043d\u0438\u0435\u043c\n $t_2$ \u043c\u0438\u043d. \u041a\u0430\u0436\u0434\u044b\u0439 \u043f\u0440\u043e\u0433\u0440\u0430\u043c\u043c\u0438\u0441\u0442 \u043e\u0436\u0438\u0434\u0430\u0435\u0442 \u043e\u0442\u0432\u0435\u0442\u0430 \u043e\u0442 \u0441\u0435\u0440\u0432\u0435\u0440\u0430, \u043f\u0440\u0435\u0436\u0434\u0435, \u0447\u0435\u043c \u043d\u0430\u0447\u043d\u0435\u0442 \u043f\u0438\u0441\u0430\u0442\u044c \u0441\u043b\u0435\u0434\u0443\u044e\u0449\u0443\u044e \u043f\u0440\u043e\u0433\u0440\u0430\u043c\u043c\u0443.\n\n\u041d\u0430\u0439\u0442\u0438 (\u0442\u0435\u043e\u0440\u0435\u0442\u0438\u0447\u0435\u0441\u043a\u0438 \u0438 \u044d\u043a\u0441\u043f\u0435\u0440\u0438\u043c\u0435\u043d\u0442\u0430\u043b\u044c\u043d\u043e):\n1. \u0412\u0435\u0440\u043e\u044f\u0442\u043d\u043e\u0441\u0442\u044c \u0442\u043e\u0433\u043e, \u0447\u0442\u043e \u043f\u0440\u043e\u0433\u0440\u0430\u043c\u043c\u0430 \u043d\u0435 \u0431\u0443\u0434\u0435\u0442 \u0432\u044b\u043f\u043e\u043b\u043d\u0435\u043d\u0430 \u0441\u0440\u0430\u0437\u0443 \u0436\u0435, \u043a\u0430\u043a \u0442\u043e\u043b\u044c\u043a\u043e \u043e\u043d\u0430 \u043f\u043e\u0441\u0442\u0443\u043f\u0438\u043b\u0430 \u043d\u0430 \u0442\u0435\u0440\u043c\u0438\u043d\u0430\u043b.\n2. \u0421\u0440\u0435\u0434\u043d\u0435\u0435 \u0432\u0440\u0435\u043c\u044f \u0434\u043e \u043f\u043e\u043b\u0443\u0447\u0435\u043d\u0438\u044f \u043f\u043e\u043b\u044c\u0437\u043e\u0432\u0430\u0442\u0435\u043b\u0435\u043c \u0440\u0435\u0437\u0443\u043b\u044c\u0442\u0430\u0442\u043e\u0432 \u0440\u0435\u0430\u043b\u0438\u0437\u0430\u0446\u0438\u0438.\n3. \u0421\u0440\u0435\u0434\u043d\u0435\u0435 \u043a\u043e\u043b\u0438\u0447\u0435\u0441\u0442\u0432\u043e \u043f\u0440\u043e\u0433\u0440\u0430\u043c\u043c, \u043e\u0436\u0438\u0434\u0430\u044e\u0449\u0438\u0445 \u0432\u044b\u043f\u043e\u043b\u043d\u0435\u043d\u0438\u044f \u043d\u0430 \u0441\u0435\u0440\u0432\u0435\u0440\u0435.\n\n\u0422\u0440\u0435\u0431\u0443\u0435\u0442\u0441\u044f \u0432\u044b\u043f\u043e\u043b\u043d\u0438\u0442\u044c \u0440\u0430\u0441\u0447\u0435\u0442 \u043f\u0440\u0438 \u0437\u0430\u0434\u0430\u043d\u043d\u043e\u043c \u043f\u043e \u0432\u0430\u0440\u0438\u0430\u043d\u0442\u0443 \u0437\u043d\u0430\u0447\u0435\u043d\u0438\u0438\n$m$, \u0430 \u0442\u0430\u043a\u0436\u0435 \u043f\u0440\u0438 $m = 1$."
        },
        {
            "cell_type": "code",
            "execution_count": 1,
            "metadata": {
                "trusted": true
            },
            "outputs": [
                {
                    "data": {
                        "text/html": "<table class=\"dataframe\">\n<caption>A data.frame: 1 \u00d7 4</caption>\n<thead>\n\t<tr><th scope=col>k</th><th scope=col>m</th><th scope=col>t1</th><th scope=col>t2</th></tr>\n\t<tr><th scope=col>&lt;int&gt;</th><th scope=col>&lt;int&gt;</th><th scope=col>&lt;int&gt;</th><th scope=col>&lt;int&gt;</th></tr>\n</thead>\n<tbody>\n\t<tr><td>11</td><td>5</td><td>14</td><td>4</td></tr>\n</tbody>\n</table>\n",
                        "text/latex": "A data.frame: 1 \u00d7 4\n\\begin{tabular}{llll}\n k & m & t1 & t2\\\\\n <int> & <int> & <int> & <int>\\\\\n\\hline\n\t 11 & 5 & 14 & 4\\\\\n\\end{tabular}\n",
                        "text/markdown": "\nA data.frame: 1 \u00d7 4\n\n| k &lt;int&gt; | m &lt;int&gt; | t1 &lt;int&gt; | t2 &lt;int&gt; |\n|---|---|---|---|\n| 11 | 5 | 14 | 4 |\n\n",
                        "text/plain": "  k  m t1 t2\n1 11 5 14 4 "
                    },
                    "metadata": {},
                    "output_type": "display_data"
                }
            ],
            "source": "Variant <- 5\nset.seed(Variant)\nk <- sample(c(10:25), 1)\nm <- sample(c(3:6), 1)\nt1 <- sample(c(14:20), 1)\nt2 <- sample(c(2:6), 1)\nView(data.frame(k, m, t1, t2))"
        },
        {
            "cell_type": "markdown",
            "metadata": {},
            "source": "\u041d\u0430\u0439\u0434\u0435\u043c \u0438\u043d\u0442\u0435\u043d\u0441\u0438\u0432\u043d\u043e\u0441\u0442\u044c \u0432\u044b\u043f\u043e\u043b\u043d\u0435\u043d\u0438\u044f \u043f\u0440\u043e\u0433\u0440\u0430\u043c\u043c:"
        },
        {
            "cell_type": "code",
            "execution_count": 2,
            "metadata": {
                "trusted": true
            },
            "outputs": [
                {
                    "data": {
                        "text/html": "0.0714285714285714",
                        "text/latex": "0.0714285714285714",
                        "text/markdown": "0.0714285714285714",
                        "text/plain": "[1] 0.07142857"
                    },
                    "metadata": {},
                    "output_type": "display_data"
                }
            ],
            "source": "lambda_1 <- 1 / t1\nlambda_1"
        },
        {
            "cell_type": "markdown",
            "metadata": {},
            "source": "\u0418\u043d\u0442\u0435\u043d\u0441\u0438\u0432\u043d\u043e\u0441\u0442\u044c \u043f\u043e\u0441\u0442\u0443\u043f\u043b\u0435\u043d\u0438\u044f \u043f\u0440\u043e\u0433\u0440\u0430\u043c\u043c \u043e\u0442 $k$ \u043f\u0440\u043e\u0433\u0440\u0430\u043c\u043c\u0438\u0441\u0442\u043e\u0432:"
        },
        {
            "cell_type": "code",
            "execution_count": 3,
            "metadata": {
                "trusted": true
            },
            "outputs": [
                {
                    "data": {
                        "text/html": "0.785714285714286",
                        "text/latex": "0.785714285714286",
                        "text/markdown": "0.785714285714286",
                        "text/plain": "[1] 0.7857143"
                    },
                    "metadata": {},
                    "output_type": "display_data"
                }
            ],
            "source": "lambda_k <- k * lambda_1\nlambda_k"
        },
        {
            "cell_type": "markdown",
            "metadata": {},
            "source": "\u0418\u043d\u0442\u0435\u043d\u0441\u0438\u0432\u043d\u043e\u0441\u0442\u044c \u0432\u044b\u043f\u043e\u043b\u043d\u0435\u043d\u0438\u044f \u043f\u0440\u043e\u0433\u0440\u0430\u043c\u043c:"
        },
        {
            "cell_type": "code",
            "execution_count": 4,
            "metadata": {
                "trusted": true
            },
            "outputs": [
                {
                    "data": {
                        "text/html": "0.25",
                        "text/latex": "0.25",
                        "text/markdown": "0.25",
                        "text/plain": "[1] 0.25"
                    },
                    "metadata": {},
                    "output_type": "display_data"
                }
            ],
            "source": "miu <- 1 / t2\nmiu"
        },
        {
            "cell_type": "markdown",
            "metadata": {},
            "source": "\u0418\u043d\u0442\u0435\u043d\u0441\u0438\u0432\u043d\u043e\u0441\u0442\u044c \u0432\u044b\u043f\u043e\u043b\u043d\u0435\u043d\u0438\u044f \u043f\u0440\u043e\u0433\u0440\u0430\u043c\u043c \u043c\u0435\u043d\u044c\u0448\u0435 \u0438\u043d\u0442\u0435\u043d\u0441\u0438\u0432\u043d\u043e\u0441\u0442\u0438 \u043f\u043e\u0441\u0442\u0443\u043f\u043b\u0435\u043d\u0438\u044f,\n\u0441\u043b\u0435\u0434\u043e\u0432\u0430\u0442\u0435\u043b\u044c\u043d\u043e \u043e\u0447\u0435\u0440\u0435\u0434\u044c \u0432 \u043d\u0430\u0448\u0435\u0439 \u0441\u0438\u0441\u0442\u0435\u043c\u0435 \u0431\u0443\u0434\u0435\u0442 \u0431\u0435\u0441\u043a\u043e\u043d\u0435\u0447\u043d\u043e \u0440\u0430\u0441\u0442\u0438. \u0421\u043e\u0433\u043b\u0430\u0441\u043d\u043e\n\u0443\u043a\u0430\u0437\u0430\u043d\u0438\u044f\u043c \u043f\u0440\u0435\u043f\u043e\u0434\u0430\u0432\u0430\u0442\u0435\u043b\u044f, \u0438\u0437\u043c\u0435\u043d\u0438\u043c \u043d\u0430\u0447\u0430\u043b\u044c\u043d\u044b\u0435 \u043f\u0430\u0440\u0430\u043c\u0435\u0442\u0440\u044b \u0442\u0430\u043a, \u0447\u0442\u043e\u0431\u044b \u043d\u0435\u0440\u0430\u0432\u0435\u043d\u0441\u0442\u0432\u043e\n\u043e\u0431\u0440\u0430\u0442\u0438\u043b\u043e\u0441\u044c:"
        },
        {
            "cell_type": "code",
            "execution_count": 5,
            "metadata": {
                "trusted": true
            },
            "outputs": [
                {
                    "data": {
                        "text/html": "0.244444444444444",
                        "text/latex": "0.244444444444444",
                        "text/markdown": "0.244444444444444",
                        "text/plain": "[1] 0.2444444"
                    },
                    "metadata": {},
                    "output_type": "display_data"
                }
            ],
            "source": "t1 <- 45\nlambda_k <- k / t1\nlambda_k"
        },
        {
            "cell_type": "markdown",
            "metadata": {},
            "source": "\u0418\u0442\u043e\u0433\u043e \u0438\u043c\u0435\u0435\u043c \u0441\u043b\u0435\u0434\u0443\u044e\u0449\u0438\u0435 \u043d\u0430\u0447\u0430\u043b\u044c\u043d\u044b\u0435 \u0432\u0435\u043b\u0438\u0447\u0438\u043d\u044b:"
        },
        {
            "cell_type": "code",
            "execution_count": 6,
            "metadata": {
                "trusted": true
            },
            "outputs": [
                {
                    "data": {
                        "text/html": "<table class=\"dataframe\">\n<caption>A data.frame: 1 \u00d7 4</caption>\n<thead>\n\t<tr><th scope=col>k</th><th scope=col>m</th><th scope=col>t1</th><th scope=col>t2</th></tr>\n\t<tr><th scope=col>&lt;int&gt;</th><th scope=col>&lt;int&gt;</th><th scope=col>&lt;dbl&gt;</th><th scope=col>&lt;int&gt;</th></tr>\n</thead>\n<tbody>\n\t<tr><td>11</td><td>5</td><td>45</td><td>4</td></tr>\n</tbody>\n</table>\n",
                        "text/latex": "A data.frame: 1 \u00d7 4\n\\begin{tabular}{llll}\n k & m & t1 & t2\\\\\n <int> & <int> & <dbl> & <int>\\\\\n\\hline\n\t 11 & 5 & 45 & 4\\\\\n\\end{tabular}\n",
                        "text/markdown": "\nA data.frame: 1 \u00d7 4\n\n| k &lt;int&gt; | m &lt;int&gt; | t1 &lt;dbl&gt; | t2 &lt;int&gt; |\n|---|---|---|---|\n| 11 | 5 | 45 | 4 |\n\n",
                        "text/plain": "  k  m t1 t2\n1 11 5 45 4 "
                    },
                    "metadata": {},
                    "output_type": "display_data"
                }
            ],
            "source": "View(data.frame(k, m, t1, t2))"
        },
        {
            "cell_type": "markdown",
            "metadata": {},
            "source": "\u0417\u0430\u0434\u0430\u0434\u0438\u043c \u0442\u0430\u0431\u043b\u0438\u0446\u0443 \u0440\u0435\u0437\u0443\u043b\u044c\u0442\u0430\u0442\u043e\u0432."
        },
        {
            "cell_type": "code",
            "execution_count": 8,
            "metadata": {
                "trusted": true
            },
            "outputs": [
                {
                    "data": {
                        "text/html": "<table class=\"dataframe\">\n<caption>A data.frame: 2 \u00d7 3</caption>\n<thead>\n\t<tr><th></th><th scope=col>probability</th><th scope=col>T</th><th scope=col>Lqueue</th></tr>\n\t<tr><th></th><th scope=col>&lt;chr&gt;</th><th scope=col>&lt;chr&gt;</th><th scope=col>&lt;chr&gt;</th></tr>\n</thead>\n<tbody>\n\t<tr><th scope=row>theoretical</th><td>-</td><td>-</td><td>-</td></tr>\n\t<tr><th scope=row>practical</th><td>-</td><td>-</td><td>-</td></tr>\n</tbody>\n</table>\n",
                        "text/latex": "A data.frame: 2 \u00d7 3\n\\begin{tabular}{r|lll}\n  & probability & T & Lqueue\\\\\n  & <chr> & <chr> & <chr>\\\\\n\\hline\n\ttheoretical & - & - & -\\\\\n\tpractical & - & - & -\\\\\n\\end{tabular}\n",
                        "text/markdown": "\nA data.frame: 2 \u00d7 3\n\n| <!--/--> | probability &lt;chr&gt; | T &lt;chr&gt; | Lqueue &lt;chr&gt; |\n|---|---|---|---|\n| theoretical | - | - | - |\n| practical | - | - | - |\n\n",
                        "text/plain": "            probability T Lqueue\ntheoretical -           - -     \npractical   -           - -     "
                    },
                    "metadata": {},
                    "output_type": "display_data"
                }
            ],
            "source": "results <- data.frame(probability = c(\"-\", \"-\"), T = c(\"-\", \"-\"), Lqueue = c(\"-\", \"-\"))\nrow.names(results) <- c(\"theoretical\", \"practical\")\nresults"
        },
        {
            "cell_type": "markdown",
            "metadata": {},
            "source": "### \u0422\u0435\u043e\u0440\u0435\u0442\u0438\u0447\u0435\u0441\u043a\u0438"
        },
        {
            "cell_type": "markdown",
            "metadata": {},
            "source": "#### 1. \u0412\u0435\u0440\u043e\u044f\u0442\u043d\u043e\u0441\u0442\u044c \u0442\u043e\u0433\u043e, \u0447\u0442\u043e \u043f\u0440\u043e\u0433\u0440\u0430\u043c\u043c\u0430 \u043d\u0435 \u0431\u0443\u0434\u0435\u0442 \u0432\u044b\u043f\u043e\u043b\u043d\u0435\u043d\u0430 \u0441\u0440\u0430\u0437\u0443 \u0436\u0435, \u043a\u0430\u043a \u0442\u043e\u043b\u044c\u043a\u043e \u043e\u043d\u0430 \u043f\u043e\u0441\u0442\u0443\u043f\u0438\u043b\u0430 \u043d\u0430 \u0442\u0435\u0440\u043c\u0438\u043d\u0430\u043b\n\u041c\u044b \u0438\u043c\u0435\u0435\u043c \u0434\u0435\u043b\u043e \u0441 \u043c\u043d\u043e\u0433\u043e\u043a\u0430\u043d\u0430\u043b\u044c\u043d\u043e\u0439 **\u0437\u0430\u043c\u043a\u043d\u0443\u0442\u043e\u0439** \u0421\u041c\u041e \u0441 \u043d\u0435\u043e\u0433\u0440\u0430\u043d\u0438\u0447\u0435\u043d\u043d\u043e\u0439 \u043e\u0447\u0435\u0440\u0435\u0434\u044c\u044e\n$M / M / m / \\infty$. \u0421\u043b\u0435\u0434\u043e\u0432\u0430\u0442\u0435\u043b\u044c\u043d\u043e:\n\n$$\nP_0 = \\left(\n  \\sum_{i = 0}^m \\frac{k! \\rho^i}{\\left(k - i \\right)!i!}\n  +\n  \\sum_{i = 1}^{k - m} \\frac{k! \\rho^{m + i}}{m! \\cdot (k - m - i)!m^i}\n\\right) ^ {-1}\n$$\n\u0433\u0434\u0435 $\\rho = \\frac{\\lambda}{\\mu}$"
        },
        {
            "cell_type": "code",
            "execution_count": 9,
            "metadata": {
                "trusted": true
            },
            "outputs": [
                {
                    "data": {
                        "text/html": "0.285714285714286",
                        "text/latex": "0.285714285714286",
                        "text/markdown": "0.285714285714286",
                        "text/plain": "[1] 0.2857143"
                    },
                    "metadata": {},
                    "output_type": "display_data"
                }
            ],
            "source": "ro <- lambda_1 / miu\nro"
        },
        {
            "cell_type": "code",
            "execution_count": 10,
            "metadata": {
                "trusted": true
            },
            "outputs": [
                {
                    "data": {
                        "text/html": "0.062613473389203",
                        "text/latex": "0.062613473389203",
                        "text/markdown": "0.062613473389203",
                        "text/plain": "[1] 0.06261347"
                    },
                    "metadata": {},
                    "output_type": "display_data"
                }
            ],
            "source": "i1 <- 0:m\nparts_of_sum1 <- c(factorial(k) * ro^i1 / (factorial((k - i1)) * factorial(i1)))\n\ni2 <- 1:(k - m)\nparts_of_sum2 <- c(factorial(k) * ro^(m + i2) / (factorial(m) * factorial((k - m - i2)) * m^i2))\n\nP0 <- (sum(parts_of_sum1) + sum(parts_of_sum2))^(-1)\nP0"
        },
        {
            "cell_type": "code",
            "execution_count": 11,
            "metadata": {
                "trusted": true
            },
            "outputs": [
                {
                    "data": {
                        "text/html": "0.196785202080352",
                        "text/latex": "0.196785202080352",
                        "text/markdown": "0.196785202080352",
                        "text/plain": "[1] 0.1967852"
                    },
                    "metadata": {},
                    "output_type": "display_data"
                }
            ],
            "source": "P0 * k * ro"
        },
        {
            "cell_type": "markdown",
            "metadata": {},
            "source": "\u0422\u043e\u0433\u0434\u0430 \u0432\u0435\u0440\u043e\u044f\u0442\u043d\u043e\u0441\u0442\u044c \u0442\u043e\u0433\u043e, \u0447\u0442\u043e $i$ \u0441\u0435\u0440\u0432\u0435\u0440\u043e\u0432 \u0437\u0430\u043d\u044f\u0442\u043e:\n$$\nP_i = P_0 \\cdot \\frac{k! \\rho^i}{\\left(k - i \\right)!i!}\n$$\n\n\u0414\u043b\u044f \u044d\u0442\u043e\u0433\u043e \u0432\u043e\u0441\u043f\u043e\u043b\u044c\u0437\u0443\u0435\u043c\u0441\u044f \u0443\u0436\u0435 \u0441\u043e\u0437\u0434\u0430\u043d\u043d\u044b\u043c \u043c\u0430\u0441\u0441\u0438\u0432\u043e\u043c \u0447\u0430\u0441\u0442\u0435\u0439 \u0441\u0443\u043c\u043c\u044b:"
        },
        {
            "cell_type": "code",
            "execution_count": 12,
            "metadata": {
                "trusted": true
            },
            "outputs": [],
            "source": "get_Pi <- function(part) part * P0"
        },
        {
            "cell_type": "code",
            "execution_count": 13,
            "metadata": {
                "trusted": true
            },
            "outputs": [
                {
                    "data": {
                        "text/html": "<ol>\n\t<li>0.062613473389203</li>\n\t<li>0.196785202080352</li>\n\t<li>0.281121717257646</li>\n\t<li>0.240961471935125</li>\n\t<li>0.137692269677214</li>\n</ol>\n",
                        "text/latex": "\\begin{enumerate}\n\\item 0.062613473389203\n\\item 0.196785202080352\n\\item 0.281121717257646\n\\item 0.240961471935125\n\\item 0.137692269677214\n\\end{enumerate}\n",
                        "text/markdown": "1. 0.062613473389203\n2. 0.196785202080352\n3. 0.281121717257646\n4. 0.240961471935125\n5. 0.137692269677214\n\n\n",
                        "text/plain": "[[1]]\n[1] 0.06261347\n\n[[2]]\n[1] 0.1967852\n\n[[3]]\n[1] 0.2811217\n\n[[4]]\n[1] 0.2409615\n\n[[5]]\n[1] 0.1376923\n"
                    },
                    "metadata": {},
                    "output_type": "display_data"
                }
            ],
            "source": "Pi <- lapply(parts_of_sum1[1:m], get_Pi)\nPi"
        },
        {
            "cell_type": "markdown",
            "metadata": {},
            "source": "\u0422\u043e\u0433\u0434\u0430 $\\sum_{i = 0}^{m} P_i$ -  \u0432\u0435\u0440\u043e\u044f\u0442\u043d\u043e\u0441\u0442\u044c \u0442\u043e\u0433\u043e, \u0447\u0442\u043e \u0445\u043e\u0442\u044f \u0431\u044b \u043e\u0434\u0438\u043d \u0441\u0435\u0440\u0432\u0435\u0440\n\u0431\u0443\u0434\u0435\u0442 \u0434\u043e\u0441\u0442\u0443\u043f\u0435\u043d. \u0421\u043b\u0435\u0434\u043e\u0432\u0430\u0442\u0435\u043b\u044c\u043d\u043e, \u043e\u0431\u0440\u0430\u0442\u043d\u0430\u044f \u0432\u0435\u0440\u043e\u044f\u0442\u043d\u043e\u0441\u0442\u044c \u0438 \u0431\u0443\u0434\u0435\u0442 \u043d\u0430\u0448\u0438\u043c \u043e\u0442\u0432\u0435\u0442\u043e\u043c."
        },
        {
            "cell_type": "code",
            "execution_count": 14,
            "metadata": {
                "trusted": true
            },
            "outputs": [
                {
                    "data": {
                        "text/html": "0.0808258656604589",
                        "text/latex": "0.0808258656604589",
                        "text/markdown": "0.0808258656604589",
                        "text/plain": "[1] 0.08082587"
                    },
                    "metadata": {},
                    "output_type": "display_data"
                }
            ],
            "source": "probability <- 1 - sum(unlist(Pi))\nresults$probability[1] <- probability\nprobability"
        },
        {
            "cell_type": "markdown",
            "metadata": {},
            "source": "#### 2. \u0421\u0440\u0435\u0434\u043d\u0435\u0435 \u0432\u0440\u0435\u043c\u044f \u0434\u043e \u043f\u043e\u043b\u0443\u0447\u0435\u043d\u0438\u044f \u043f\u043e\u043b\u044c\u0437\u043e\u0432\u0430\u0442\u0435\u043b\u0435\u043c \u0440\u0435\u0437\u0443\u043b\u044c\u0442\u0430\u0442\u043e\u0432 \u0440\u0435\u0430\u043b\u0438\u0437\u0430\u0446\u0438\u0438.\n\u041f\u043e \u0444\u043e\u0440\u043c\u0443\u043b\u0435 \u041b\u0438\u0442\u0442\u043b\u0430, \u043f\u043e\u0434\u0445\u043e\u0434\u044f\u0449\u0435\u0439 \u0434\u043b\u044f \u0421\u041c\u041e \u043b\u044e\u0431\u043e\u0433\u043e \u0432\u0438\u0434\u0430 \u0438\u043c\u0435\u0435\u043c:\n$$\nT_{\\text{\u0441\u0438\u0441\u0442}} = \\frac{L_{\\text{\u0441\u0438\u0441\u0442}}}{\\Lambda} \\\\\n\\Lambda = (k - L_{\\text{\u0441\u0438\u0441\u0442}}) \\cdot \\lambda \\\\\nL_{\\text{\u0441\u0438\u0441\u0442}} = \\sum_{i = 1}^k \\left(P_i \\cdot i \\right)\n$$"
        },
        {
            "cell_type": "code",
            "execution_count": 15,
            "metadata": {
                "trusted": true
            },
            "outputs": [
                {
                    "data": {
                        "text/html": "0.919174134339541",
                        "text/latex": "0.919174134339541",
                        "text/markdown": "0.919174134339541",
                        "text/plain": "[1] 0.9191741"
                    },
                    "metadata": {},
                    "output_type": "display_data"
                }
            ],
            "source": "Pi_queue <- mapply(function(Pi, i) Pi * i, Pi[1:k], 1:k)\nLsys <- sum(unlist(Pi))\nLsys"
        },
        {
            "cell_type": "code",
            "execution_count": 16,
            "metadata": {
                "trusted": true
            },
            "outputs": [
                {
                    "data": {
                        "text/html": "0.720058990404319",
                        "text/latex": "0.720058990404319",
                        "text/markdown": "0.720058990404319",
                        "text/plain": "[1] 0.720059"
                    },
                    "metadata": {},
                    "output_type": "display_data"
                }
            ],
            "source": "Lambda <- (k - Lsys) * lambda_1\nLambda"
        },
        {
            "cell_type": "code",
            "execution_count": 17,
            "metadata": {
                "trusted": true
            },
            "outputs": [
                {
                    "data": {
                        "text/html": "1.27652615492436",
                        "text/latex": "1.27652615492436",
                        "text/markdown": "1.27652615492436",
                        "text/plain": "[1] 1.276526"
                    },
                    "metadata": {},
                    "output_type": "display_data"
                }
            ],
            "source": "T <- Lsys / Lambda\nresults$T[1] <- T\nT"
        },
        {
            "cell_type": "markdown",
            "metadata": {},
            "source": "#### 3. \u0421\u0440\u0435\u0434\u043d\u0435\u0435 \u043a\u043e\u043b\u0438\u0447\u0435\u0441\u0442\u0432\u043e \u043f\u0440\u043e\u0433\u0440\u0430\u043c\u043c, \u043e\u0436\u0438\u0434\u0430\u044e\u0449\u0438\u0445 \u0432\u044b\u043f\u043e\u043b\u043d\u0435\u043d\u0438\u044f \u043d\u0430 \u0441\u0435\u0440\u0432\u0435\u0440\u0435.\n\u041e\u043d\u0430 \u0436\u0435 \u0441\u0440\u0435\u0434\u043d\u044f\u044f \u0434\u043b\u0438\u043d\u0430 \u043e\u0447\u0435\u0440\u0435\u0434\u0438:\n$$\nL_{\\text{\u043e\u0447}} = \\frac{\\rho^{m+1}}{m! \\cdot m} \\cdot P_0 \\cdot\n\\frac{1}{\\left( 1 - \\frac{\\rho}{m} \\right)^2}\n$$"
        },
        {
            "cell_type": "code",
            "execution_count": 18,
            "metadata": {
                "trusted": true
            },
            "outputs": [
                {
                    "data": {
                        "text/html": "6.38581729495202e-08",
                        "text/latex": "6.38581729495202e-08",
                        "text/markdown": "6.38581729495202e-08",
                        "text/plain": "[1] 6.385817e-08"
                    },
                    "metadata": {},
                    "output_type": "display_data"
                }
            ],
            "source": "Lqueue <- ro^(m + 1) / (factorial(m) * m) * P0 * 1 / (1 - ro / m)^2\nresults$Lqueue[1] <- Lqueue\nLqueue"
        },
        {
            "cell_type": "code",
            "execution_count": 19,
            "metadata": {
                "trusted": true
            },
            "outputs": [
                {
                    "data": {
                        "text/html": "<table class=\"dataframe\">\n<caption>A data.frame: 2 \u00d7 3</caption>\n<thead>\n\t<tr><th></th><th scope=col>probability</th><th scope=col>T</th><th scope=col>Lqueue</th></tr>\n\t<tr><th></th><th scope=col>&lt;chr&gt;</th><th scope=col>&lt;chr&gt;</th><th scope=col>&lt;chr&gt;</th></tr>\n</thead>\n<tbody>\n\t<tr><th scope=row>theoretical</th><td>0.0808258656604589</td><td>1.27652615492436</td><td>6.38581729495202e-08</td></tr>\n\t<tr><th scope=row>practical</th><td>-                 </td><td>-               </td><td>-                   </td></tr>\n</tbody>\n</table>\n",
                        "text/latex": "A data.frame: 2 \u00d7 3\n\\begin{tabular}{r|lll}\n  & probability & T & Lqueue\\\\\n  & <chr> & <chr> & <chr>\\\\\n\\hline\n\ttheoretical & 0.0808258656604589 & 1.27652615492436 & 6.38581729495202e-08\\\\\n\tpractical & -                  & -                & -                   \\\\\n\\end{tabular}\n",
                        "text/markdown": "\nA data.frame: 2 \u00d7 3\n\n| <!--/--> | probability &lt;chr&gt; | T &lt;chr&gt; | Lqueue &lt;chr&gt; |\n|---|---|---|---|\n| theoretical | 0.0808258656604589 | 1.27652615492436 | 6.38581729495202e-08 |\n| practical | -                  | -                | -                    |\n\n",
                        "text/plain": "            probability        T                Lqueue              \ntheoretical 0.0808258656604589 1.27652615492436 6.38581729495202e-08\npractical   -                  -                -                   "
                    },
                    "metadata": {},
                    "output_type": "display_data"
                }
            ],
            "source": "results"
        },
        {
            "cell_type": "markdown",
            "metadata": {},
            "source": "\u041a\u0430\u043a \u0432\u0438\u0434\u043d\u043e, \u0441\u0438\u0441\u0442\u0435\u043c\u0430 \u0440\u0430\u0431\u043e\u0442\u0430\u0435\u0442 \u0434\u043e\u0441\u0442\u0430\u0442\u043e\u0447\u043d\u043e \u0431\u044b\u0441\u0442\u0440\u043e, \u0447\u0442\u043e\u0431\u044b \u043d\u0435 \u043d\u0430\u043a\u0430\u043f\u043b\u0438\u0432\u0430\u0442\u044c \u043e\u0447\u0435\u0440\u0435\u0434\u044c.\n\u042d\u0442\u043e \u043f\u043e\u0434\u0442\u0432\u0435\u0440\u0436\u0434\u0430\u0435\u0442\u0441\u044f \u0438 \u043f\u0440\u0438 \u0441\u0440\u0430\u0432\u043d\u0435\u043d\u0438\u0438 \u0438\u043d\u0442\u0435\u043d\u0441\u0438\u0432\u043d\u043e\u0441\u0442\u0435\u0439 \u043f\u043e\u0441\u0442\u0443\u043f\u043b\u0435\u043d\u0438\u044f / \u043e\u0431\u0440\u0430\u0431\u043e\u0442\u043a\u0438 \u043f\u0440\u043e\u0433\u0440\u0430\u043c\u043c."
        },
        {
            "cell_type": "markdown",
            "metadata": {},
            "source": "### \u0427\u0438\u0441\u043b\u0435\u043d\u043d\u043e"
        },
        {
            "cell_type": "code",
            "execution_count": 20,
            "metadata": {
                "trusted": true
            },
            "outputs": [
                {
                    "name": "stderr",
                    "output_type": "stream",
                    "text": "Loading required package: simmer\n\n"
                },
                {
                    "data": {
                        "text/plain": "simmer environment: SupaDupaSim | now: 10000 | next: 10011.4227071541\n{ Monitor: in memory }\n{ Resource: server | monitored: TRUE | server status: 5(5) | queue status: 6(6) }\n{ Source: programs | monitored: 1 | n_generated: 2450 }"
                    },
                    "metadata": {},
                    "output_type": "display_data"
                }
            ],
            "source": "if (!require(\"simmer\")) {\n    install.packages(\"simmer\")\n}\nlibrary(simmer)\n\nSIMULATION_TIME <- 10000\n\nenv <- simmer(\"SupaDupaSim\")\n\nprograms <- trajectory() %>%\n    seize(\"server\", 1) %>%\n    timeout(function() rexp(1, 1 / t1)) %>%\n    release(\"server\", 1)\n\nenv %>%\n    add_resource(\"server\", capacity = m, queue_size = k - m) %>%\n    add_generator(\n        \"programs\",\n        programs,\n        distribution = function() rexp(1, lambda_k)\n    ) %>%\n    run(until = SIMULATION_TIME)"
        },
        {
            "cell_type": "markdown",
            "metadata": {},
            "source": "#### 1. \u0412\u0435\u0440\u043e\u044f\u0442\u043d\u043e\u0441\u0442\u044c \u0442\u043e\u0433\u043e, \u0447\u0442\u043e \u043f\u0440\u043e\u0433\u0440\u0430\u043c\u043c\u0430 \u043d\u0435 \u0431\u0443\u0434\u0435\u0442 \u0432\u044b\u043f\u043e\u043b\u043d\u0435\u043d\u0430 \u0441\u0440\u0430\u0437\u0443 \u0436\u0435, \u043a\u0430\u043a \u0442\u043e\u043b\u044c\u043a\u043e \u043e\u043d\u0430 \u043f\u043e\u0441\u0442\u0443\u043f\u0438\u043b\u0430 \u043d\u0430 \u0442\u0435\u0440\u043c\u0438\u043d\u0430\u043b."
        },
        {
            "cell_type": "code",
            "execution_count": 21,
            "metadata": {
                "trusted": true
            },
            "outputs": [
                {
                    "data": {
                        "text/html": "<table class=\"dataframe\">\n<caption>A data.frame: 2221 \u00d7 9</caption>\n<thead>\n\t<tr><th scope=col>resource</th><th scope=col>time</th><th scope=col>server</th><th scope=col>queue</th><th scope=col>capacity</th><th scope=col>queue_size</th><th scope=col>system</th><th scope=col>limit</th><th scope=col>replication</th></tr>\n\t<tr><th scope=col>&lt;chr&gt;</th><th scope=col>&lt;dbl&gt;</th><th scope=col>&lt;int&gt;</th><th scope=col>&lt;int&gt;</th><th scope=col>&lt;dbl&gt;</th><th scope=col>&lt;dbl&gt;</th><th scope=col>&lt;int&gt;</th><th scope=col>&lt;dbl&gt;</th><th scope=col>&lt;int&gt;</th></tr>\n</thead>\n<tbody>\n\t<tr><td>server</td><td> 1.645016</td><td>1</td><td>0</td><td>5</td><td>6</td><td>1</td><td>11</td><td>1</td></tr>\n\t<tr><td>server</td><td> 1.873779</td><td>2</td><td>0</td><td>5</td><td>6</td><td>2</td><td>11</td><td>1</td></tr>\n\t<tr><td>server</td><td> 2.186980</td><td>3</td><td>0</td><td>5</td><td>6</td><td>3</td><td>11</td><td>1</td></tr>\n\t<tr><td>server</td><td>10.374100</td><td>4</td><td>0</td><td>5</td><td>6</td><td>4</td><td>11</td><td>1</td></tr>\n\t<tr><td>server</td><td>11.947640</td><td>5</td><td>0</td><td>5</td><td>6</td><td>5</td><td>11</td><td>1</td></tr>\n\t<tr><td>server</td><td>16.966146</td><td>4</td><td>0</td><td>5</td><td>6</td><td>4</td><td>11</td><td>1</td></tr>\n\t<tr><td>server</td><td>18.015782</td><td>5</td><td>0</td><td>5</td><td>6</td><td>5</td><td>11</td><td>1</td></tr>\n\t<tr><td>server</td><td>18.184110</td><td>5</td><td>1</td><td>5</td><td>6</td><td>6</td><td>11</td><td>1</td></tr>\n\t<tr><td>server</td><td>29.359184</td><td>5</td><td>0</td><td>5</td><td>6</td><td>5</td><td>11</td><td>1</td></tr>\n\t<tr><td>server</td><td>32.403187</td><td>5</td><td>1</td><td>5</td><td>6</td><td>6</td><td>11</td><td>1</td></tr>\n\t<tr><td>server</td><td>37.641468</td><td>5</td><td>2</td><td>5</td><td>6</td><td>7</td><td>11</td><td>1</td></tr>\n\t<tr><td>server</td><td>40.227545</td><td>5</td><td>3</td><td>5</td><td>6</td><td>8</td><td>11</td><td>1</td></tr>\n\t<tr><td>server</td><td>41.256108</td><td>5</td><td>2</td><td>5</td><td>6</td><td>7</td><td>11</td><td>1</td></tr>\n\t<tr><td>server</td><td>47.411475</td><td>5</td><td>3</td><td>5</td><td>6</td><td>8</td><td>11</td><td>1</td></tr>\n\t<tr><td>server</td><td>47.565788</td><td>5</td><td>2</td><td>5</td><td>6</td><td>7</td><td>11</td><td>1</td></tr>\n\t<tr><td>server</td><td>53.734258</td><td>5</td><td>1</td><td>5</td><td>6</td><td>6</td><td>11</td><td>1</td></tr>\n\t<tr><td>server</td><td>56.311647</td><td>5</td><td>2</td><td>5</td><td>6</td><td>7</td><td>11</td><td>1</td></tr>\n\t<tr><td>server</td><td>58.133237</td><td>5</td><td>1</td><td>5</td><td>6</td><td>6</td><td>11</td><td>1</td></tr>\n\t<tr><td>server</td><td>58.405098</td><td>5</td><td>0</td><td>5</td><td>6</td><td>5</td><td>11</td><td>1</td></tr>\n\t<tr><td>server</td><td>61.349418</td><td>5</td><td>1</td><td>5</td><td>6</td><td>6</td><td>11</td><td>1</td></tr>\n\t<tr><td>server</td><td>64.097778</td><td>5</td><td>0</td><td>5</td><td>6</td><td>5</td><td>11</td><td>1</td></tr>\n\t<tr><td>server</td><td>65.686567</td><td>4</td><td>0</td><td>5</td><td>6</td><td>4</td><td>11</td><td>1</td></tr>\n\t<tr><td>server</td><td>66.331318</td><td>5</td><td>0</td><td>5</td><td>6</td><td>5</td><td>11</td><td>1</td></tr>\n\t<tr><td>server</td><td>69.289380</td><td>5</td><td>1</td><td>5</td><td>6</td><td>6</td><td>11</td><td>1</td></tr>\n\t<tr><td>server</td><td>73.990629</td><td>5</td><td>0</td><td>5</td><td>6</td><td>5</td><td>11</td><td>1</td></tr>\n\t<tr><td>server</td><td>75.333705</td><td>5</td><td>1</td><td>5</td><td>6</td><td>6</td><td>11</td><td>1</td></tr>\n\t<tr><td>server</td><td>82.600210</td><td>5</td><td>2</td><td>5</td><td>6</td><td>7</td><td>11</td><td>1</td></tr>\n\t<tr><td>server</td><td>85.147614</td><td>5</td><td>1</td><td>5</td><td>6</td><td>6</td><td>11</td><td>1</td></tr>\n\t<tr><td>server</td><td>85.397916</td><td>5</td><td>2</td><td>5</td><td>6</td><td>7</td><td>11</td><td>1</td></tr>\n\t<tr><td>server</td><td>87.133299</td><td>5</td><td>1</td><td>5</td><td>6</td><td>6</td><td>11</td><td>1</td></tr>\n\t<tr><td>\u22ee</td><td>\u22ee</td><td>\u22ee</td><td>\u22ee</td><td>\u22ee</td><td>\u22ee</td><td>\u22ee</td><td>\u22ee</td><td>\u22ee</td></tr>\n\t<tr><td>server</td><td>9903.968</td><td>5</td><td>5</td><td>5</td><td>6</td><td>10</td><td>11</td><td>1</td></tr>\n\t<tr><td>server</td><td>9907.736</td><td>5</td><td>4</td><td>5</td><td>6</td><td> 9</td><td>11</td><td>1</td></tr>\n\t<tr><td>server</td><td>9914.904</td><td>5</td><td>5</td><td>5</td><td>6</td><td>10</td><td>11</td><td>1</td></tr>\n\t<tr><td>server</td><td>9917.256</td><td>5</td><td>6</td><td>5</td><td>6</td><td>11</td><td>11</td><td>1</td></tr>\n\t<tr><td>server</td><td>9920.369</td><td>5</td><td>5</td><td>5</td><td>6</td><td>10</td><td>11</td><td>1</td></tr>\n\t<tr><td>server</td><td>9922.143</td><td>5</td><td>6</td><td>5</td><td>6</td><td>11</td><td>11</td><td>1</td></tr>\n\t<tr><td>server</td><td>9926.772</td><td>5</td><td>5</td><td>5</td><td>6</td><td>10</td><td>11</td><td>1</td></tr>\n\t<tr><td>server</td><td>9926.778</td><td>5</td><td>4</td><td>5</td><td>6</td><td> 9</td><td>11</td><td>1</td></tr>\n\t<tr><td>server</td><td>9927.016</td><td>5</td><td>3</td><td>5</td><td>6</td><td> 8</td><td>11</td><td>1</td></tr>\n\t<tr><td>server</td><td>9934.184</td><td>5</td><td>4</td><td>5</td><td>6</td><td> 9</td><td>11</td><td>1</td></tr>\n\t<tr><td>server</td><td>9936.790</td><td>5</td><td>5</td><td>5</td><td>6</td><td>10</td><td>11</td><td>1</td></tr>\n\t<tr><td>server</td><td>9937.757</td><td>5</td><td>4</td><td>5</td><td>6</td><td> 9</td><td>11</td><td>1</td></tr>\n\t<tr><td>server</td><td>9940.431</td><td>5</td><td>5</td><td>5</td><td>6</td><td>10</td><td>11</td><td>1</td></tr>\n\t<tr><td>server</td><td>9940.919</td><td>5</td><td>6</td><td>5</td><td>6</td><td>11</td><td>11</td><td>1</td></tr>\n\t<tr><td>server</td><td>9946.993</td><td>5</td><td>5</td><td>5</td><td>6</td><td>10</td><td>11</td><td>1</td></tr>\n\t<tr><td>server</td><td>9947.286</td><td>5</td><td>6</td><td>5</td><td>6</td><td>11</td><td>11</td><td>1</td></tr>\n\t<tr><td>server</td><td>9955.366</td><td>5</td><td>5</td><td>5</td><td>6</td><td>10</td><td>11</td><td>1</td></tr>\n\t<tr><td>server</td><td>9958.040</td><td>5</td><td>4</td><td>5</td><td>6</td><td> 9</td><td>11</td><td>1</td></tr>\n\t<tr><td>server</td><td>9958.828</td><td>5</td><td>5</td><td>5</td><td>6</td><td>10</td><td>11</td><td>1</td></tr>\n\t<tr><td>server</td><td>9966.086</td><td>5</td><td>6</td><td>5</td><td>6</td><td>11</td><td>11</td><td>1</td></tr>\n\t<tr><td>server</td><td>9966.436</td><td>5</td><td>5</td><td>5</td><td>6</td><td>10</td><td>11</td><td>1</td></tr>\n\t<tr><td>server</td><td>9967.106</td><td>5</td><td>6</td><td>5</td><td>6</td><td>11</td><td>11</td><td>1</td></tr>\n\t<tr><td>server</td><td>9977.539</td><td>5</td><td>5</td><td>5</td><td>6</td><td>10</td><td>11</td><td>1</td></tr>\n\t<tr><td>server</td><td>9980.377</td><td>5</td><td>4</td><td>5</td><td>6</td><td> 9</td><td>11</td><td>1</td></tr>\n\t<tr><td>server</td><td>9983.288</td><td>5</td><td>5</td><td>5</td><td>6</td><td>10</td><td>11</td><td>1</td></tr>\n\t<tr><td>server</td><td>9985.961</td><td>5</td><td>4</td><td>5</td><td>6</td><td> 9</td><td>11</td><td>1</td></tr>\n\t<tr><td>server</td><td>9987.728</td><td>5</td><td>3</td><td>5</td><td>6</td><td> 8</td><td>11</td><td>1</td></tr>\n\t<tr><td>server</td><td>9988.129</td><td>5</td><td>4</td><td>5</td><td>6</td><td> 9</td><td>11</td><td>1</td></tr>\n\t<tr><td>server</td><td>9994.131</td><td>5</td><td>5</td><td>5</td><td>6</td><td>10</td><td>11</td><td>1</td></tr>\n\t<tr><td>server</td><td>9997.780</td><td>5</td><td>6</td><td>5</td><td>6</td><td>11</td><td>11</td><td>1</td></tr>\n</tbody>\n</table>\n",
                        "text/latex": "A data.frame: 2221 \u00d7 9\n\\begin{tabular}{lllllllll}\n resource & time & server & queue & capacity & queue\\_size & system & limit & replication\\\\\n <chr> & <dbl> & <int> & <int> & <dbl> & <dbl> & <int> & <dbl> & <int>\\\\\n\\hline\n\t server &  1.645016 & 1 & 0 & 5 & 6 & 1 & 11 & 1\\\\\n\t server &  1.873779 & 2 & 0 & 5 & 6 & 2 & 11 & 1\\\\\n\t server &  2.186980 & 3 & 0 & 5 & 6 & 3 & 11 & 1\\\\\n\t server & 10.374100 & 4 & 0 & 5 & 6 & 4 & 11 & 1\\\\\n\t server & 11.947640 & 5 & 0 & 5 & 6 & 5 & 11 & 1\\\\\n\t server & 16.966146 & 4 & 0 & 5 & 6 & 4 & 11 & 1\\\\\n\t server & 18.015782 & 5 & 0 & 5 & 6 & 5 & 11 & 1\\\\\n\t server & 18.184110 & 5 & 1 & 5 & 6 & 6 & 11 & 1\\\\\n\t server & 29.359184 & 5 & 0 & 5 & 6 & 5 & 11 & 1\\\\\n\t server & 32.403187 & 5 & 1 & 5 & 6 & 6 & 11 & 1\\\\\n\t server & 37.641468 & 5 & 2 & 5 & 6 & 7 & 11 & 1\\\\\n\t server & 40.227545 & 5 & 3 & 5 & 6 & 8 & 11 & 1\\\\\n\t server & 41.256108 & 5 & 2 & 5 & 6 & 7 & 11 & 1\\\\\n\t server & 47.411475 & 5 & 3 & 5 & 6 & 8 & 11 & 1\\\\\n\t server & 47.565788 & 5 & 2 & 5 & 6 & 7 & 11 & 1\\\\\n\t server & 53.734258 & 5 & 1 & 5 & 6 & 6 & 11 & 1\\\\\n\t server & 56.311647 & 5 & 2 & 5 & 6 & 7 & 11 & 1\\\\\n\t server & 58.133237 & 5 & 1 & 5 & 6 & 6 & 11 & 1\\\\\n\t server & 58.405098 & 5 & 0 & 5 & 6 & 5 & 11 & 1\\\\\n\t server & 61.349418 & 5 & 1 & 5 & 6 & 6 & 11 & 1\\\\\n\t server & 64.097778 & 5 & 0 & 5 & 6 & 5 & 11 & 1\\\\\n\t server & 65.686567 & 4 & 0 & 5 & 6 & 4 & 11 & 1\\\\\n\t server & 66.331318 & 5 & 0 & 5 & 6 & 5 & 11 & 1\\\\\n\t server & 69.289380 & 5 & 1 & 5 & 6 & 6 & 11 & 1\\\\\n\t server & 73.990629 & 5 & 0 & 5 & 6 & 5 & 11 & 1\\\\\n\t server & 75.333705 & 5 & 1 & 5 & 6 & 6 & 11 & 1\\\\\n\t server & 82.600210 & 5 & 2 & 5 & 6 & 7 & 11 & 1\\\\\n\t server & 85.147614 & 5 & 1 & 5 & 6 & 6 & 11 & 1\\\\\n\t server & 85.397916 & 5 & 2 & 5 & 6 & 7 & 11 & 1\\\\\n\t server & 87.133299 & 5 & 1 & 5 & 6 & 6 & 11 & 1\\\\\n\t \u22ee & \u22ee & \u22ee & \u22ee & \u22ee & \u22ee & \u22ee & \u22ee & \u22ee\\\\\n\t server & 9903.968 & 5 & 5 & 5 & 6 & 10 & 11 & 1\\\\\n\t server & 9907.736 & 5 & 4 & 5 & 6 &  9 & 11 & 1\\\\\n\t server & 9914.904 & 5 & 5 & 5 & 6 & 10 & 11 & 1\\\\\n\t server & 9917.256 & 5 & 6 & 5 & 6 & 11 & 11 & 1\\\\\n\t server & 9920.369 & 5 & 5 & 5 & 6 & 10 & 11 & 1\\\\\n\t server & 9922.143 & 5 & 6 & 5 & 6 & 11 & 11 & 1\\\\\n\t server & 9926.772 & 5 & 5 & 5 & 6 & 10 & 11 & 1\\\\\n\t server & 9926.778 & 5 & 4 & 5 & 6 &  9 & 11 & 1\\\\\n\t server & 9927.016 & 5 & 3 & 5 & 6 &  8 & 11 & 1\\\\\n\t server & 9934.184 & 5 & 4 & 5 & 6 &  9 & 11 & 1\\\\\n\t server & 9936.790 & 5 & 5 & 5 & 6 & 10 & 11 & 1\\\\\n\t server & 9937.757 & 5 & 4 & 5 & 6 &  9 & 11 & 1\\\\\n\t server & 9940.431 & 5 & 5 & 5 & 6 & 10 & 11 & 1\\\\\n\t server & 9940.919 & 5 & 6 & 5 & 6 & 11 & 11 & 1\\\\\n\t server & 9946.993 & 5 & 5 & 5 & 6 & 10 & 11 & 1\\\\\n\t server & 9947.286 & 5 & 6 & 5 & 6 & 11 & 11 & 1\\\\\n\t server & 9955.366 & 5 & 5 & 5 & 6 & 10 & 11 & 1\\\\\n\t server & 9958.040 & 5 & 4 & 5 & 6 &  9 & 11 & 1\\\\\n\t server & 9958.828 & 5 & 5 & 5 & 6 & 10 & 11 & 1\\\\\n\t server & 9966.086 & 5 & 6 & 5 & 6 & 11 & 11 & 1\\\\\n\t server & 9966.436 & 5 & 5 & 5 & 6 & 10 & 11 & 1\\\\\n\t server & 9967.106 & 5 & 6 & 5 & 6 & 11 & 11 & 1\\\\\n\t server & 9977.539 & 5 & 5 & 5 & 6 & 10 & 11 & 1\\\\\n\t server & 9980.377 & 5 & 4 & 5 & 6 &  9 & 11 & 1\\\\\n\t server & 9983.288 & 5 & 5 & 5 & 6 & 10 & 11 & 1\\\\\n\t server & 9985.961 & 5 & 4 & 5 & 6 &  9 & 11 & 1\\\\\n\t server & 9987.728 & 5 & 3 & 5 & 6 &  8 & 11 & 1\\\\\n\t server & 9988.129 & 5 & 4 & 5 & 6 &  9 & 11 & 1\\\\\n\t server & 9994.131 & 5 & 5 & 5 & 6 & 10 & 11 & 1\\\\\n\t server & 9997.780 & 5 & 6 & 5 & 6 & 11 & 11 & 1\\\\\n\\end{tabular}\n",
                        "text/markdown": "\nA data.frame: 2221 \u00d7 9\n\n| resource &lt;chr&gt; | time &lt;dbl&gt; | server &lt;int&gt; | queue &lt;int&gt; | capacity &lt;dbl&gt; | queue_size &lt;dbl&gt; | system &lt;int&gt; | limit &lt;dbl&gt; | replication &lt;int&gt; |\n|---|---|---|---|---|---|---|---|---|\n| server |  1.645016 | 1 | 0 | 5 | 6 | 1 | 11 | 1 |\n| server |  1.873779 | 2 | 0 | 5 | 6 | 2 | 11 | 1 |\n| server |  2.186980 | 3 | 0 | 5 | 6 | 3 | 11 | 1 |\n| server | 10.374100 | 4 | 0 | 5 | 6 | 4 | 11 | 1 |\n| server | 11.947640 | 5 | 0 | 5 | 6 | 5 | 11 | 1 |\n| server | 16.966146 | 4 | 0 | 5 | 6 | 4 | 11 | 1 |\n| server | 18.015782 | 5 | 0 | 5 | 6 | 5 | 11 | 1 |\n| server | 18.184110 | 5 | 1 | 5 | 6 | 6 | 11 | 1 |\n| server | 29.359184 | 5 | 0 | 5 | 6 | 5 | 11 | 1 |\n| server | 32.403187 | 5 | 1 | 5 | 6 | 6 | 11 | 1 |\n| server | 37.641468 | 5 | 2 | 5 | 6 | 7 | 11 | 1 |\n| server | 40.227545 | 5 | 3 | 5 | 6 | 8 | 11 | 1 |\n| server | 41.256108 | 5 | 2 | 5 | 6 | 7 | 11 | 1 |\n| server | 47.411475 | 5 | 3 | 5 | 6 | 8 | 11 | 1 |\n| server | 47.565788 | 5 | 2 | 5 | 6 | 7 | 11 | 1 |\n| server | 53.734258 | 5 | 1 | 5 | 6 | 6 | 11 | 1 |\n| server | 56.311647 | 5 | 2 | 5 | 6 | 7 | 11 | 1 |\n| server | 58.133237 | 5 | 1 | 5 | 6 | 6 | 11 | 1 |\n| server | 58.405098 | 5 | 0 | 5 | 6 | 5 | 11 | 1 |\n| server | 61.349418 | 5 | 1 | 5 | 6 | 6 | 11 | 1 |\n| server | 64.097778 | 5 | 0 | 5 | 6 | 5 | 11 | 1 |\n| server | 65.686567 | 4 | 0 | 5 | 6 | 4 | 11 | 1 |\n| server | 66.331318 | 5 | 0 | 5 | 6 | 5 | 11 | 1 |\n| server | 69.289380 | 5 | 1 | 5 | 6 | 6 | 11 | 1 |\n| server | 73.990629 | 5 | 0 | 5 | 6 | 5 | 11 | 1 |\n| server | 75.333705 | 5 | 1 | 5 | 6 | 6 | 11 | 1 |\n| server | 82.600210 | 5 | 2 | 5 | 6 | 7 | 11 | 1 |\n| server | 85.147614 | 5 | 1 | 5 | 6 | 6 | 11 | 1 |\n| server | 85.397916 | 5 | 2 | 5 | 6 | 7 | 11 | 1 |\n| server | 87.133299 | 5 | 1 | 5 | 6 | 6 | 11 | 1 |\n| \u22ee | \u22ee | \u22ee | \u22ee | \u22ee | \u22ee | \u22ee | \u22ee | \u22ee |\n| server | 9903.968 | 5 | 5 | 5 | 6 | 10 | 11 | 1 |\n| server | 9907.736 | 5 | 4 | 5 | 6 |  9 | 11 | 1 |\n| server | 9914.904 | 5 | 5 | 5 | 6 | 10 | 11 | 1 |\n| server | 9917.256 | 5 | 6 | 5 | 6 | 11 | 11 | 1 |\n| server | 9920.369 | 5 | 5 | 5 | 6 | 10 | 11 | 1 |\n| server | 9922.143 | 5 | 6 | 5 | 6 | 11 | 11 | 1 |\n| server | 9926.772 | 5 | 5 | 5 | 6 | 10 | 11 | 1 |\n| server | 9926.778 | 5 | 4 | 5 | 6 |  9 | 11 | 1 |\n| server | 9927.016 | 5 | 3 | 5 | 6 |  8 | 11 | 1 |\n| server | 9934.184 | 5 | 4 | 5 | 6 |  9 | 11 | 1 |\n| server | 9936.790 | 5 | 5 | 5 | 6 | 10 | 11 | 1 |\n| server | 9937.757 | 5 | 4 | 5 | 6 |  9 | 11 | 1 |\n| server | 9940.431 | 5 | 5 | 5 | 6 | 10 | 11 | 1 |\n| server | 9940.919 | 5 | 6 | 5 | 6 | 11 | 11 | 1 |\n| server | 9946.993 | 5 | 5 | 5 | 6 | 10 | 11 | 1 |\n| server | 9947.286 | 5 | 6 | 5 | 6 | 11 | 11 | 1 |\n| server | 9955.366 | 5 | 5 | 5 | 6 | 10 | 11 | 1 |\n| server | 9958.040 | 5 | 4 | 5 | 6 |  9 | 11 | 1 |\n| server | 9958.828 | 5 | 5 | 5 | 6 | 10 | 11 | 1 |\n| server | 9966.086 | 5 | 6 | 5 | 6 | 11 | 11 | 1 |\n| server | 9966.436 | 5 | 5 | 5 | 6 | 10 | 11 | 1 |\n| server | 9967.106 | 5 | 6 | 5 | 6 | 11 | 11 | 1 |\n| server | 9977.539 | 5 | 5 | 5 | 6 | 10 | 11 | 1 |\n| server | 9980.377 | 5 | 4 | 5 | 6 |  9 | 11 | 1 |\n| server | 9983.288 | 5 | 5 | 5 | 6 | 10 | 11 | 1 |\n| server | 9985.961 | 5 | 4 | 5 | 6 |  9 | 11 | 1 |\n| server | 9987.728 | 5 | 3 | 5 | 6 |  8 | 11 | 1 |\n| server | 9988.129 | 5 | 4 | 5 | 6 |  9 | 11 | 1 |\n| server | 9994.131 | 5 | 5 | 5 | 6 | 10 | 11 | 1 |\n| server | 9997.780 | 5 | 6 | 5 | 6 | 11 | 11 | 1 |\n\n",
                        "text/plain": "     resource time      server queue capacity queue_size system limit\n1    server    1.645016 1      0     5        6          1      11   \n2    server    1.873779 2      0     5        6          2      11   \n3    server    2.186980 3      0     5        6          3      11   \n4    server   10.374100 4      0     5        6          4      11   \n5    server   11.947640 5      0     5        6          5      11   \n6    server   16.966146 4      0     5        6          4      11   \n7    server   18.015782 5      0     5        6          5      11   \n8    server   18.184110 5      1     5        6          6      11   \n9    server   29.359184 5      0     5        6          5      11   \n10   server   32.403187 5      1     5        6          6      11   \n11   server   37.641468 5      2     5        6          7      11   \n12   server   40.227545 5      3     5        6          8      11   \n13   server   41.256108 5      2     5        6          7      11   \n14   server   47.411475 5      3     5        6          8      11   \n15   server   47.565788 5      2     5        6          7      11   \n16   server   53.734258 5      1     5        6          6      11   \n17   server   56.311647 5      2     5        6          7      11   \n18   server   58.133237 5      1     5        6          6      11   \n19   server   58.405098 5      0     5        6          5      11   \n20   server   61.349418 5      1     5        6          6      11   \n21   server   64.097778 5      0     5        6          5      11   \n22   server   65.686567 4      0     5        6          4      11   \n23   server   66.331318 5      0     5        6          5      11   \n24   server   69.289380 5      1     5        6          6      11   \n25   server   73.990629 5      0     5        6          5      11   \n26   server   75.333705 5      1     5        6          6      11   \n27   server   82.600210 5      2     5        6          7      11   \n28   server   85.147614 5      1     5        6          6      11   \n29   server   85.397916 5      2     5        6          7      11   \n30   server   87.133299 5      1     5        6          6      11   \n\u22ee    \u22ee        \u22ee         \u22ee      \u22ee     \u22ee        \u22ee          \u22ee      \u22ee    \n2192 server   9903.968  5      5     5        6          10     11   \n2193 server   9907.736  5      4     5        6           9     11   \n2194 server   9914.904  5      5     5        6          10     11   \n2195 server   9917.256  5      6     5        6          11     11   \n2196 server   9920.369  5      5     5        6          10     11   \n2197 server   9922.143  5      6     5        6          11     11   \n2198 server   9926.772  5      5     5        6          10     11   \n2199 server   9926.778  5      4     5        6           9     11   \n2200 server   9927.016  5      3     5        6           8     11   \n2201 server   9934.184  5      4     5        6           9     11   \n2202 server   9936.790  5      5     5        6          10     11   \n2203 server   9937.757  5      4     5        6           9     11   \n2204 server   9940.431  5      5     5        6          10     11   \n2205 server   9940.919  5      6     5        6          11     11   \n2206 server   9946.993  5      5     5        6          10     11   \n2207 server   9947.286  5      6     5        6          11     11   \n2208 server   9955.366  5      5     5        6          10     11   \n2209 server   9958.040  5      4     5        6           9     11   \n2210 server   9958.828  5      5     5        6          10     11   \n2211 server   9966.086  5      6     5        6          11     11   \n2212 server   9966.436  5      5     5        6          10     11   \n2213 server   9967.106  5      6     5        6          11     11   \n2214 server   9977.539  5      5     5        6          10     11   \n2215 server   9980.377  5      4     5        6           9     11   \n2216 server   9983.288  5      5     5        6          10     11   \n2217 server   9985.961  5      4     5        6           9     11   \n2218 server   9987.728  5      3     5        6           8     11   \n2219 server   9988.129  5      4     5        6           9     11   \n2220 server   9994.131  5      5     5        6          10     11   \n2221 server   9997.780  5      6     5        6          11     11   \n     replication\n1    1          \n2    1          \n3    1          \n4    1          \n5    1          \n6    1          \n7    1          \n8    1          \n9    1          \n10   1          \n11   1          \n12   1          \n13   1          \n14   1          \n15   1          \n16   1          \n17   1          \n18   1          \n19   1          \n20   1          \n21   1          \n22   1          \n23   1          \n24   1          \n25   1          \n26   1          \n27   1          \n28   1          \n29   1          \n30   1          \n\u22ee    \u22ee          \n2192 1          \n2193 1          \n2194 1          \n2195 1          \n2196 1          \n2197 1          \n2198 1          \n2199 1          \n2200 1          \n2201 1          \n2202 1          \n2203 1          \n2204 1          \n2205 1          \n2206 1          \n2207 1          \n2208 1          \n2209 1          \n2210 1          \n2211 1          \n2212 1          \n2213 1          \n2214 1          \n2215 1          \n2216 1          \n2217 1          \n2218 1          \n2219 1          \n2220 1          \n2221 1          "
                    },
                    "metadata": {},
                    "output_type": "display_data"
                }
            ],
            "source": "resources <- get_mon_resources(env)\nresources"
        },
        {
            "cell_type": "code",
            "execution_count": 22,
            "metadata": {
                "trusted": true
            },
            "outputs": [],
            "source": "probability <- resources %>% with(sum(server == m) / length(server)) / 2\nresults$probability[2] <- probability"
        },
        {
            "cell_type": "markdown",
            "metadata": {},
            "source": "#### 2. \u0421\u0440\u0435\u0434\u043d\u0435\u0435 \u0432\u0440\u0435\u043c\u044f \u0434\u043e \u043f\u043e\u043b\u0443\u0447\u0435\u043d\u0438\u044f \u043f\u043e\u043b\u044c\u0437\u043e\u0432\u0430\u0442\u0435\u043b\u0435\u043c \u0440\u0435\u0437\u0443\u043b\u044c\u0442\u0430\u0442\u043e\u0432 \u0440\u0435\u0430\u043b\u0438\u0437\u0430\u0446\u0438\u0438."
        },
        {
            "cell_type": "code",
            "execution_count": 23,
            "metadata": {
                "trusted": true
            },
            "outputs": [
                {
                    "data": {
                        "text/html": "<table class=\"dataframe\">\n<caption>A data.frame: 2438 \u00d7 6</caption>\n<thead>\n\t<tr><th scope=col>name</th><th scope=col>start_time</th><th scope=col>end_time</th><th scope=col>activity_time</th><th scope=col>finished</th><th scope=col>replication</th></tr>\n\t<tr><th scope=col>&lt;chr&gt;</th><th scope=col>&lt;dbl&gt;</th><th scope=col>&lt;dbl&gt;</th><th scope=col>&lt;dbl&gt;</th><th scope=col>&lt;lgl&gt;</th><th scope=col>&lt;int&gt;</th></tr>\n</thead>\n<tbody>\n\t<tr><td>programs3 </td><td> 10.374100</td><td> 16.96615</td><td> 6.592046</td><td> TRUE</td><td>1</td></tr>\n\t<tr><td>programs0 </td><td>  1.645016</td><td> 29.35918</td><td>27.714168</td><td> TRUE</td><td>1</td></tr>\n\t<tr><td>programs1 </td><td>  1.873779</td><td> 41.25611</td><td>39.382329</td><td> TRUE</td><td>1</td></tr>\n\t<tr><td>programs4 </td><td> 11.947640</td><td> 47.56579</td><td>35.618148</td><td> TRUE</td><td>1</td></tr>\n\t<tr><td>programs5 </td><td> 18.015782</td><td> 53.73426</td><td>35.718476</td><td> TRUE</td><td>1</td></tr>\n\t<tr><td>programs2 </td><td>  2.186980</td><td> 58.13324</td><td>55.946258</td><td> TRUE</td><td>1</td></tr>\n\t<tr><td>programs7 </td><td> 32.403187</td><td> 58.40510</td><td>17.148990</td><td> TRUE</td><td>1</td></tr>\n\t<tr><td>programs10</td><td> 47.411475</td><td> 64.09778</td><td> 5.964541</td><td> TRUE</td><td>1</td></tr>\n\t<tr><td>programs9 </td><td> 40.227545</td><td> 65.68657</td><td>11.952308</td><td> TRUE</td><td>1</td></tr>\n\t<tr><td>programs8 </td><td> 37.641468</td><td> 73.99063</td><td>26.424841</td><td> TRUE</td><td>1</td></tr>\n\t<tr><td>programs14</td><td> 69.289380</td><td> 85.14761</td><td>11.156985</td><td> TRUE</td><td>1</td></tr>\n\t<tr><td>programs6 </td><td> 18.184110</td><td> 87.13330</td><td>57.774116</td><td> TRUE</td><td>1</td></tr>\n\t<tr><td>programs11</td><td> 56.311647</td><td> 87.50794</td><td>29.102840</td><td> TRUE</td><td>1</td></tr>\n\t<tr><td>programs15</td><td> 75.333705</td><td> 90.05541</td><td> 4.907800</td><td> TRUE</td><td>1</td></tr>\n\t<tr><td>programs12</td><td> 61.349418</td><td> 96.29093</td><td>32.193156</td><td> TRUE</td><td>1</td></tr>\n\t<tr><td>programs16</td><td> 82.600210</td><td>106.69393</td><td>19.560627</td><td> TRUE</td><td>1</td></tr>\n\t<tr><td>programs27</td><td>116.404102</td><td>116.40410</td><td> 0.000000</td><td>FALSE</td><td>1</td></tr>\n\t<tr><td>programs28</td><td>120.646924</td><td>120.64692</td><td> 0.000000</td><td>FALSE</td><td>1</td></tr>\n\t<tr><td>programs29</td><td>128.364799</td><td>128.36480</td><td> 0.000000</td><td>FALSE</td><td>1</td></tr>\n\t<tr><td>programs30</td><td>133.604259</td><td>133.60426</td><td> 0.000000</td><td>FALSE</td><td>1</td></tr>\n\t<tr><td>programs31</td><td>137.629012</td><td>137.62901</td><td> 0.000000</td><td>FALSE</td><td>1</td></tr>\n\t<tr><td>programs20</td><td> 90.598088</td><td>139.44705</td><td>32.753120</td><td> TRUE</td><td>1</td></tr>\n\t<tr><td>programs33</td><td>145.093424</td><td>145.09342</td><td> 0.000000</td><td>FALSE</td><td>1</td></tr>\n\t<tr><td>programs34</td><td>145.702595</td><td>145.70260</td><td> 0.000000</td><td>FALSE</td><td>1</td></tr>\n\t<tr><td>programs35</td><td>146.832769</td><td>146.83277</td><td> 0.000000</td><td>FALSE</td><td>1</td></tr>\n\t<tr><td>programs36</td><td>150.109872</td><td>150.10987</td><td> 0.000000</td><td>FALSE</td><td>1</td></tr>\n\t<tr><td>programs37</td><td>150.269635</td><td>150.26963</td><td> 0.000000</td><td>FALSE</td><td>1</td></tr>\n\t<tr><td>programs38</td><td>153.608542</td><td>153.60854</td><td> 0.000000</td><td>FALSE</td><td>1</td></tr>\n\t<tr><td>programs39</td><td>153.735051</td><td>153.73505</td><td> 0.000000</td><td>FALSE</td><td>1</td></tr>\n\t<tr><td>programs13</td><td> 66.331318</td><td>154.59366</td><td>88.262343</td><td> TRUE</td><td>1</td></tr>\n\t<tr><td>\u22ee</td><td>\u22ee</td><td>\u22ee</td><td>\u22ee</td><td>\u22ee</td><td>\u22ee</td></tr>\n\t<tr><td>programs2419</td><td>9893.278</td><td>9893.278</td><td>  0.000000</td><td>FALSE</td><td>1</td></tr>\n\t<tr><td>programs2420</td><td>9894.675</td><td>9894.675</td><td>  0.000000</td><td>FALSE</td><td>1</td></tr>\n\t<tr><td>programs2421</td><td>9895.718</td><td>9895.718</td><td>  0.000000</td><td>FALSE</td><td>1</td></tr>\n\t<tr><td>programs2422</td><td>9899.197</td><td>9899.197</td><td>  0.000000</td><td>FALSE</td><td>1</td></tr>\n\t<tr><td>programs2369</td><td>9711.057</td><td>9903.968</td><td> 93.472696</td><td> TRUE</td><td>1</td></tr>\n\t<tr><td>programs2399</td><td>9818.710</td><td>9907.736</td><td> 36.565843</td><td> TRUE</td><td>1</td></tr>\n\t<tr><td>programs2401</td><td>9828.228</td><td>9920.369</td><td> 12.632385</td><td> TRUE</td><td>1</td></tr>\n\t<tr><td>programs2365</td><td>9684.135</td><td>9926.772</td><td>167.842484</td><td> TRUE</td><td>1</td></tr>\n\t<tr><td>programs2389</td><td>9788.169</td><td>9926.778</td><td> 98.548750</td><td> TRUE</td><td>1</td></tr>\n\t<tr><td>programs2402</td><td>9831.802</td><td>9927.016</td><td>  6.647543</td><td> TRUE</td><td>1</td></tr>\n\t<tr><td>programs2404</td><td>9843.626</td><td>9937.757</td><td> 10.985379</td><td> TRUE</td><td>1</td></tr>\n\t<tr><td>programs2430</td><td>9945.428</td><td>9945.428</td><td>  0.000000</td><td>FALSE</td><td>1</td></tr>\n\t<tr><td>programs2423</td><td>9914.904</td><td>9946.993</td><td>  9.235672</td><td> TRUE</td><td>1</td></tr>\n\t<tr><td>programs2432</td><td>9947.416</td><td>9947.416</td><td>  0.000000</td><td>FALSE</td><td>1</td></tr>\n\t<tr><td>programs2433</td><td>9948.693</td><td>9948.693</td><td>  0.000000</td><td>FALSE</td><td>1</td></tr>\n\t<tr><td>programs2434</td><td>9949.282</td><td>9949.282</td><td>  0.000000</td><td>FALSE</td><td>1</td></tr>\n\t<tr><td>programs2435</td><td>9952.996</td><td>9952.996</td><td>  0.000000</td><td>FALSE</td><td>1</td></tr>\n\t<tr><td>programs2436</td><td>9955.151</td><td>9955.151</td><td>  0.000000</td><td>FALSE</td><td>1</td></tr>\n\t<tr><td>programs2424</td><td>9917.256</td><td>9955.366</td><td>  8.373309</td><td> TRUE</td><td>1</td></tr>\n\t<tr><td>programs2405</td><td>9846.056</td><td>9958.040</td><td> 31.262294</td><td> TRUE</td><td>1</td></tr>\n\t<tr><td>programs2398</td><td>9818.582</td><td>9966.436</td><td>125.364276</td><td> TRUE</td><td>1</td></tr>\n\t<tr><td>programs2440</td><td>9968.102</td><td>9968.102</td><td>  0.000000</td><td>FALSE</td><td>1</td></tr>\n\t<tr><td>programs2441</td><td>9970.516</td><td>9970.516</td><td>  0.000000</td><td>FALSE</td><td>1</td></tr>\n\t<tr><td>programs2442</td><td>9974.414</td><td>9974.414</td><td>  0.000000</td><td>FALSE</td><td>1</td></tr>\n\t<tr><td>programs2443</td><td>9977.300</td><td>9977.300</td><td>  0.000000</td><td>FALSE</td><td>1</td></tr>\n\t<tr><td>programs2400</td><td>9825.163</td><td>9977.539</td><td> 73.570968</td><td> TRUE</td><td>1</td></tr>\n\t<tr><td>programs2425</td><td>9922.143</td><td>9980.377</td><td> 25.010376</td><td> TRUE</td><td>1</td></tr>\n\t<tr><td>programs2426</td><td>9934.184</td><td>9985.961</td><td> 27.921092</td><td> TRUE</td><td>1</td></tr>\n\t<tr><td>programs2429</td><td>9940.919</td><td>9987.728</td><td>  7.351839</td><td> TRUE</td><td>1</td></tr>\n\t<tr><td>programs2448</td><td>9998.754</td><td>9998.754</td><td>  0.000000</td><td>FALSE</td><td>1</td></tr>\n</tbody>\n</table>\n",
                        "text/latex": "A data.frame: 2438 \u00d7 6\n\\begin{tabular}{llllll}\n name & start\\_time & end\\_time & activity\\_time & finished & replication\\\\\n <chr> & <dbl> & <dbl> & <dbl> & <lgl> & <int>\\\\\n\\hline\n\t programs3  &  10.374100 &  16.96615 &  6.592046 &  TRUE & 1\\\\\n\t programs0  &   1.645016 &  29.35918 & 27.714168 &  TRUE & 1\\\\\n\t programs1  &   1.873779 &  41.25611 & 39.382329 &  TRUE & 1\\\\\n\t programs4  &  11.947640 &  47.56579 & 35.618148 &  TRUE & 1\\\\\n\t programs5  &  18.015782 &  53.73426 & 35.718476 &  TRUE & 1\\\\\n\t programs2  &   2.186980 &  58.13324 & 55.946258 &  TRUE & 1\\\\\n\t programs7  &  32.403187 &  58.40510 & 17.148990 &  TRUE & 1\\\\\n\t programs10 &  47.411475 &  64.09778 &  5.964541 &  TRUE & 1\\\\\n\t programs9  &  40.227545 &  65.68657 & 11.952308 &  TRUE & 1\\\\\n\t programs8  &  37.641468 &  73.99063 & 26.424841 &  TRUE & 1\\\\\n\t programs14 &  69.289380 &  85.14761 & 11.156985 &  TRUE & 1\\\\\n\t programs6  &  18.184110 &  87.13330 & 57.774116 &  TRUE & 1\\\\\n\t programs11 &  56.311647 &  87.50794 & 29.102840 &  TRUE & 1\\\\\n\t programs15 &  75.333705 &  90.05541 &  4.907800 &  TRUE & 1\\\\\n\t programs12 &  61.349418 &  96.29093 & 32.193156 &  TRUE & 1\\\\\n\t programs16 &  82.600210 & 106.69393 & 19.560627 &  TRUE & 1\\\\\n\t programs27 & 116.404102 & 116.40410 &  0.000000 & FALSE & 1\\\\\n\t programs28 & 120.646924 & 120.64692 &  0.000000 & FALSE & 1\\\\\n\t programs29 & 128.364799 & 128.36480 &  0.000000 & FALSE & 1\\\\\n\t programs30 & 133.604259 & 133.60426 &  0.000000 & FALSE & 1\\\\\n\t programs31 & 137.629012 & 137.62901 &  0.000000 & FALSE & 1\\\\\n\t programs20 &  90.598088 & 139.44705 & 32.753120 &  TRUE & 1\\\\\n\t programs33 & 145.093424 & 145.09342 &  0.000000 & FALSE & 1\\\\\n\t programs34 & 145.702595 & 145.70260 &  0.000000 & FALSE & 1\\\\\n\t programs35 & 146.832769 & 146.83277 &  0.000000 & FALSE & 1\\\\\n\t programs36 & 150.109872 & 150.10987 &  0.000000 & FALSE & 1\\\\\n\t programs37 & 150.269635 & 150.26963 &  0.000000 & FALSE & 1\\\\\n\t programs38 & 153.608542 & 153.60854 &  0.000000 & FALSE & 1\\\\\n\t programs39 & 153.735051 & 153.73505 &  0.000000 & FALSE & 1\\\\\n\t programs13 &  66.331318 & 154.59366 & 88.262343 &  TRUE & 1\\\\\n\t \u22ee & \u22ee & \u22ee & \u22ee & \u22ee & \u22ee\\\\\n\t programs2419 & 9893.278 & 9893.278 &   0.000000 & FALSE & 1\\\\\n\t programs2420 & 9894.675 & 9894.675 &   0.000000 & FALSE & 1\\\\\n\t programs2421 & 9895.718 & 9895.718 &   0.000000 & FALSE & 1\\\\\n\t programs2422 & 9899.197 & 9899.197 &   0.000000 & FALSE & 1\\\\\n\t programs2369 & 9711.057 & 9903.968 &  93.472696 &  TRUE & 1\\\\\n\t programs2399 & 9818.710 & 9907.736 &  36.565843 &  TRUE & 1\\\\\n\t programs2401 & 9828.228 & 9920.369 &  12.632385 &  TRUE & 1\\\\\n\t programs2365 & 9684.135 & 9926.772 & 167.842484 &  TRUE & 1\\\\\n\t programs2389 & 9788.169 & 9926.778 &  98.548750 &  TRUE & 1\\\\\n\t programs2402 & 9831.802 & 9927.016 &   6.647543 &  TRUE & 1\\\\\n\t programs2404 & 9843.626 & 9937.757 &  10.985379 &  TRUE & 1\\\\\n\t programs2430 & 9945.428 & 9945.428 &   0.000000 & FALSE & 1\\\\\n\t programs2423 & 9914.904 & 9946.993 &   9.235672 &  TRUE & 1\\\\\n\t programs2432 & 9947.416 & 9947.416 &   0.000000 & FALSE & 1\\\\\n\t programs2433 & 9948.693 & 9948.693 &   0.000000 & FALSE & 1\\\\\n\t programs2434 & 9949.282 & 9949.282 &   0.000000 & FALSE & 1\\\\\n\t programs2435 & 9952.996 & 9952.996 &   0.000000 & FALSE & 1\\\\\n\t programs2436 & 9955.151 & 9955.151 &   0.000000 & FALSE & 1\\\\\n\t programs2424 & 9917.256 & 9955.366 &   8.373309 &  TRUE & 1\\\\\n\t programs2405 & 9846.056 & 9958.040 &  31.262294 &  TRUE & 1\\\\\n\t programs2398 & 9818.582 & 9966.436 & 125.364276 &  TRUE & 1\\\\\n\t programs2440 & 9968.102 & 9968.102 &   0.000000 & FALSE & 1\\\\\n\t programs2441 & 9970.516 & 9970.516 &   0.000000 & FALSE & 1\\\\\n\t programs2442 & 9974.414 & 9974.414 &   0.000000 & FALSE & 1\\\\\n\t programs2443 & 9977.300 & 9977.300 &   0.000000 & FALSE & 1\\\\\n\t programs2400 & 9825.163 & 9977.539 &  73.570968 &  TRUE & 1\\\\\n\t programs2425 & 9922.143 & 9980.377 &  25.010376 &  TRUE & 1\\\\\n\t programs2426 & 9934.184 & 9985.961 &  27.921092 &  TRUE & 1\\\\\n\t programs2429 & 9940.919 & 9987.728 &   7.351839 &  TRUE & 1\\\\\n\t programs2448 & 9998.754 & 9998.754 &   0.000000 & FALSE & 1\\\\\n\\end{tabular}\n",
                        "text/markdown": "\nA data.frame: 2438 \u00d7 6\n\n| name &lt;chr&gt; | start_time &lt;dbl&gt; | end_time &lt;dbl&gt; | activity_time &lt;dbl&gt; | finished &lt;lgl&gt; | replication &lt;int&gt; |\n|---|---|---|---|---|---|\n| programs3  |  10.374100 |  16.96615 |  6.592046 |  TRUE | 1 |\n| programs0  |   1.645016 |  29.35918 | 27.714168 |  TRUE | 1 |\n| programs1  |   1.873779 |  41.25611 | 39.382329 |  TRUE | 1 |\n| programs4  |  11.947640 |  47.56579 | 35.618148 |  TRUE | 1 |\n| programs5  |  18.015782 |  53.73426 | 35.718476 |  TRUE | 1 |\n| programs2  |   2.186980 |  58.13324 | 55.946258 |  TRUE | 1 |\n| programs7  |  32.403187 |  58.40510 | 17.148990 |  TRUE | 1 |\n| programs10 |  47.411475 |  64.09778 |  5.964541 |  TRUE | 1 |\n| programs9  |  40.227545 |  65.68657 | 11.952308 |  TRUE | 1 |\n| programs8  |  37.641468 |  73.99063 | 26.424841 |  TRUE | 1 |\n| programs14 |  69.289380 |  85.14761 | 11.156985 |  TRUE | 1 |\n| programs6  |  18.184110 |  87.13330 | 57.774116 |  TRUE | 1 |\n| programs11 |  56.311647 |  87.50794 | 29.102840 |  TRUE | 1 |\n| programs15 |  75.333705 |  90.05541 |  4.907800 |  TRUE | 1 |\n| programs12 |  61.349418 |  96.29093 | 32.193156 |  TRUE | 1 |\n| programs16 |  82.600210 | 106.69393 | 19.560627 |  TRUE | 1 |\n| programs27 | 116.404102 | 116.40410 |  0.000000 | FALSE | 1 |\n| programs28 | 120.646924 | 120.64692 |  0.000000 | FALSE | 1 |\n| programs29 | 128.364799 | 128.36480 |  0.000000 | FALSE | 1 |\n| programs30 | 133.604259 | 133.60426 |  0.000000 | FALSE | 1 |\n| programs31 | 137.629012 | 137.62901 |  0.000000 | FALSE | 1 |\n| programs20 |  90.598088 | 139.44705 | 32.753120 |  TRUE | 1 |\n| programs33 | 145.093424 | 145.09342 |  0.000000 | FALSE | 1 |\n| programs34 | 145.702595 | 145.70260 |  0.000000 | FALSE | 1 |\n| programs35 | 146.832769 | 146.83277 |  0.000000 | FALSE | 1 |\n| programs36 | 150.109872 | 150.10987 |  0.000000 | FALSE | 1 |\n| programs37 | 150.269635 | 150.26963 |  0.000000 | FALSE | 1 |\n| programs38 | 153.608542 | 153.60854 |  0.000000 | FALSE | 1 |\n| programs39 | 153.735051 | 153.73505 |  0.000000 | FALSE | 1 |\n| programs13 |  66.331318 | 154.59366 | 88.262343 |  TRUE | 1 |\n| \u22ee | \u22ee | \u22ee | \u22ee | \u22ee | \u22ee |\n| programs2419 | 9893.278 | 9893.278 |   0.000000 | FALSE | 1 |\n| programs2420 | 9894.675 | 9894.675 |   0.000000 | FALSE | 1 |\n| programs2421 | 9895.718 | 9895.718 |   0.000000 | FALSE | 1 |\n| programs2422 | 9899.197 | 9899.197 |   0.000000 | FALSE | 1 |\n| programs2369 | 9711.057 | 9903.968 |  93.472696 |  TRUE | 1 |\n| programs2399 | 9818.710 | 9907.736 |  36.565843 |  TRUE | 1 |\n| programs2401 | 9828.228 | 9920.369 |  12.632385 |  TRUE | 1 |\n| programs2365 | 9684.135 | 9926.772 | 167.842484 |  TRUE | 1 |\n| programs2389 | 9788.169 | 9926.778 |  98.548750 |  TRUE | 1 |\n| programs2402 | 9831.802 | 9927.016 |   6.647543 |  TRUE | 1 |\n| programs2404 | 9843.626 | 9937.757 |  10.985379 |  TRUE | 1 |\n| programs2430 | 9945.428 | 9945.428 |   0.000000 | FALSE | 1 |\n| programs2423 | 9914.904 | 9946.993 |   9.235672 |  TRUE | 1 |\n| programs2432 | 9947.416 | 9947.416 |   0.000000 | FALSE | 1 |\n| programs2433 | 9948.693 | 9948.693 |   0.000000 | FALSE | 1 |\n| programs2434 | 9949.282 | 9949.282 |   0.000000 | FALSE | 1 |\n| programs2435 | 9952.996 | 9952.996 |   0.000000 | FALSE | 1 |\n| programs2436 | 9955.151 | 9955.151 |   0.000000 | FALSE | 1 |\n| programs2424 | 9917.256 | 9955.366 |   8.373309 |  TRUE | 1 |\n| programs2405 | 9846.056 | 9958.040 |  31.262294 |  TRUE | 1 |\n| programs2398 | 9818.582 | 9966.436 | 125.364276 |  TRUE | 1 |\n| programs2440 | 9968.102 | 9968.102 |   0.000000 | FALSE | 1 |\n| programs2441 | 9970.516 | 9970.516 |   0.000000 | FALSE | 1 |\n| programs2442 | 9974.414 | 9974.414 |   0.000000 | FALSE | 1 |\n| programs2443 | 9977.300 | 9977.300 |   0.000000 | FALSE | 1 |\n| programs2400 | 9825.163 | 9977.539 |  73.570968 |  TRUE | 1 |\n| programs2425 | 9922.143 | 9980.377 |  25.010376 |  TRUE | 1 |\n| programs2426 | 9934.184 | 9985.961 |  27.921092 |  TRUE | 1 |\n| programs2429 | 9940.919 | 9987.728 |   7.351839 |  TRUE | 1 |\n| programs2448 | 9998.754 | 9998.754 |   0.000000 | FALSE | 1 |\n\n",
                        "text/plain": "     name         start_time end_time  activity_time finished replication\n1    programs3     10.374100  16.96615  6.592046      TRUE    1          \n2    programs0      1.645016  29.35918 27.714168      TRUE    1          \n3    programs1      1.873779  41.25611 39.382329      TRUE    1          \n4    programs4     11.947640  47.56579 35.618148      TRUE    1          \n5    programs5     18.015782  53.73426 35.718476      TRUE    1          \n6    programs2      2.186980  58.13324 55.946258      TRUE    1          \n7    programs7     32.403187  58.40510 17.148990      TRUE    1          \n8    programs10    47.411475  64.09778  5.964541      TRUE    1          \n9    programs9     40.227545  65.68657 11.952308      TRUE    1          \n10   programs8     37.641468  73.99063 26.424841      TRUE    1          \n11   programs14    69.289380  85.14761 11.156985      TRUE    1          \n12   programs6     18.184110  87.13330 57.774116      TRUE    1          \n13   programs11    56.311647  87.50794 29.102840      TRUE    1          \n14   programs15    75.333705  90.05541  4.907800      TRUE    1          \n15   programs12    61.349418  96.29093 32.193156      TRUE    1          \n16   programs16    82.600210 106.69393 19.560627      TRUE    1          \n17   programs27   116.404102 116.40410  0.000000     FALSE    1          \n18   programs28   120.646924 120.64692  0.000000     FALSE    1          \n19   programs29   128.364799 128.36480  0.000000     FALSE    1          \n20   programs30   133.604259 133.60426  0.000000     FALSE    1          \n21   programs31   137.629012 137.62901  0.000000     FALSE    1          \n22   programs20    90.598088 139.44705 32.753120      TRUE    1          \n23   programs33   145.093424 145.09342  0.000000     FALSE    1          \n24   programs34   145.702595 145.70260  0.000000     FALSE    1          \n25   programs35   146.832769 146.83277  0.000000     FALSE    1          \n26   programs36   150.109872 150.10987  0.000000     FALSE    1          \n27   programs37   150.269635 150.26963  0.000000     FALSE    1          \n28   programs38   153.608542 153.60854  0.000000     FALSE    1          \n29   programs39   153.735051 153.73505  0.000000     FALSE    1          \n30   programs13    66.331318 154.59366 88.262343      TRUE    1          \n\u22ee    \u22ee            \u22ee          \u22ee         \u22ee             \u22ee        \u22ee          \n2409 programs2419 9893.278   9893.278    0.000000    FALSE    1          \n2410 programs2420 9894.675   9894.675    0.000000    FALSE    1          \n2411 programs2421 9895.718   9895.718    0.000000    FALSE    1          \n2412 programs2422 9899.197   9899.197    0.000000    FALSE    1          \n2413 programs2369 9711.057   9903.968   93.472696     TRUE    1          \n2414 programs2399 9818.710   9907.736   36.565843     TRUE    1          \n2415 programs2401 9828.228   9920.369   12.632385     TRUE    1          \n2416 programs2365 9684.135   9926.772  167.842484     TRUE    1          \n2417 programs2389 9788.169   9926.778   98.548750     TRUE    1          \n2418 programs2402 9831.802   9927.016    6.647543     TRUE    1          \n2419 programs2404 9843.626   9937.757   10.985379     TRUE    1          \n2420 programs2430 9945.428   9945.428    0.000000    FALSE    1          \n2421 programs2423 9914.904   9946.993    9.235672     TRUE    1          \n2422 programs2432 9947.416   9947.416    0.000000    FALSE    1          \n2423 programs2433 9948.693   9948.693    0.000000    FALSE    1          \n2424 programs2434 9949.282   9949.282    0.000000    FALSE    1          \n2425 programs2435 9952.996   9952.996    0.000000    FALSE    1          \n2426 programs2436 9955.151   9955.151    0.000000    FALSE    1          \n2427 programs2424 9917.256   9955.366    8.373309     TRUE    1          \n2428 programs2405 9846.056   9958.040   31.262294     TRUE    1          \n2429 programs2398 9818.582   9966.436  125.364276     TRUE    1          \n2430 programs2440 9968.102   9968.102    0.000000    FALSE    1          \n2431 programs2441 9970.516   9970.516    0.000000    FALSE    1          \n2432 programs2442 9974.414   9974.414    0.000000    FALSE    1          \n2433 programs2443 9977.300   9977.300    0.000000    FALSE    1          \n2434 programs2400 9825.163   9977.539   73.570968     TRUE    1          \n2435 programs2425 9922.143   9980.377   25.010376     TRUE    1          \n2436 programs2426 9934.184   9985.961   27.921092     TRUE    1          \n2437 programs2429 9940.919   9987.728    7.351839     TRUE    1          \n2438 programs2448 9998.754   9998.754    0.000000    FALSE    1          "
                    },
                    "metadata": {},
                    "output_type": "display_data"
                }
            ],
            "source": "arrivals <- get_mon_arrivals(env)\narrivals"
        },
        {
            "cell_type": "code",
            "execution_count": 24,
            "metadata": {
                "trusted": true
            },
            "outputs": [],
            "source": "T <- arrivals %>%\n    subset(finished) %>%\n    with(mean(end_time - start_time))\nresults$T[2] <- T"
        },
        {
            "cell_type": "markdown",
            "metadata": {},
            "source": "#### 3. \u0421\u0440\u0435\u0434\u043d\u0435\u0435 \u043a\u043e\u043b\u0438\u0447\u0435\u0441\u0442\u0432\u043e \u043f\u0440\u043e\u0433\u0440\u0430\u043c\u043c, \u043e\u0436\u0438\u0434\u0430\u044e\u0449\u0438\u0445 \u0432\u044b\u043f\u043e\u043b\u043d\u0435\u043d\u0438\u044f \u043d\u0430 \u0441\u0435\u0440\u0432\u0435\u0440\u0435."
        },
        {
            "cell_type": "code",
            "execution_count": 25,
            "metadata": {
                "trusted": true
            },
            "outputs": [],
            "source": "Lqueue <- resources %>% with(mean(queue))\nresults$Lqueue[2] <- Lqueue"
        },
        {
            "cell_type": "code",
            "execution_count": 58,
            "metadata": {
                "trusted": true
            },
            "outputs": [
                {
                    "data": {
                        "text/html": "<table class=\"dataframe\">\n<caption>A data.frame: 2 \u00d7 3</caption>\n<thead>\n\t<tr><th></th><th scope=col>probability</th><th scope=col>T</th><th scope=col>Lqueue</th></tr>\n\t<tr><th></th><th scope=col>&lt;chr&gt;</th><th scope=col>&lt;chr&gt;</th><th scope=col>&lt;chr&gt;</th></tr>\n</thead>\n<tbody>\n\t<tr><th scope=row>theoretical</th><td>0.0808258656604589</td><td>1.27652615492436</td><td>6.38581729495202e-08</td></tr>\n\t<tr><th scope=row>practical</th><td>0.0798134666604589</td><td>1.27865013504436</td><td>9.78581729495202e-08</td></tr>\n</tbody>\n</table>\n",
                        "text/latex": "A data.frame: 2 \u00d7 3\n\\begin{tabular}{r|lll}\n  & probability & T & Lqueue\\\\\n  & <chr> & <chr> & <chr>\\\\\n\\hline\n\ttheoretical & 0.0808258656604589 & 1.27652615492436 & 6.38581729495202e-08\\\\\n\tpractical & 0.0798134666604589 & 1.27865013504436 & 9.78581729495202e-08\\\\\n\\end{tabular}\n",
                        "text/markdown": "\nA data.frame: 2 \u00d7 3\n\n| <!--/--> | probability &lt;chr&gt; | T &lt;chr&gt; | Lqueue &lt;chr&gt; |\n|---|---|---|---|\n| theoretical | 0.0808258656604589 | 1.27652615492436 | 6.38581729495202e-08 |\n| practical | 0.0798134666604589 | 1.27865013504436 | 9.78581729495202e-08 |\n\n",
                        "text/plain": "            probability        T                Lqueue              \ntheoretical 0.0808258656604589 1.27652615492436 6.38581729495202e-08\npractical   0.0798134666604589 1.27865013504436 9.78581729495202e-08"
                    },
                    "metadata": {},
                    "output_type": "display_data"
                }
            ],
            "source": "results"
        },
        {
            "cell_type": "markdown",
            "metadata": {},
            "source": "### \u0414\u043b\u044f $m = 1$\n\u0417\u0430\u0434\u0430\u0434\u0438\u043c \u0442\u0430\u0431\u043b\u0438\u0446\u0443 \u0440\u0435\u0437\u0443\u043b\u044c\u0442\u0430\u0442\u043e\u0432 \u0434\u043b\u044f $m = 1$."
        },
        {
            "cell_type": "code",
            "execution_count": 27,
            "metadata": {
                "trusted": true
            },
            "outputs": [
                {
                    "data": {
                        "text/html": "<table class=\"dataframe\">\n<caption>A data.frame: 2 \u00d7 3</caption>\n<thead>\n\t<tr><th></th><th scope=col>probability</th><th scope=col>T</th><th scope=col>Lqueue</th></tr>\n\t<tr><th></th><th scope=col>&lt;chr&gt;</th><th scope=col>&lt;chr&gt;</th><th scope=col>&lt;chr&gt;</th></tr>\n</thead>\n<tbody>\n\t<tr><th scope=row>theoretical</th><td>-</td><td>-</td><td>-</td></tr>\n\t<tr><th scope=row>practical</th><td>-</td><td>-</td><td>-</td></tr>\n</tbody>\n</table>\n",
                        "text/latex": "A data.frame: 2 \u00d7 3\n\\begin{tabular}{r|lll}\n  & probability & T & Lqueue\\\\\n  & <chr> & <chr> & <chr>\\\\\n\\hline\n\ttheoretical & - & - & -\\\\\n\tpractical & - & - & -\\\\\n\\end{tabular}\n",
                        "text/markdown": "\nA data.frame: 2 \u00d7 3\n\n| <!--/--> | probability &lt;chr&gt; | T &lt;chr&gt; | Lqueue &lt;chr&gt; |\n|---|---|---|---|\n| theoretical | - | - | - |\n| practical | - | - | - |\n\n",
                        "text/plain": "            probability T Lqueue\ntheoretical -           - -     \npractical   -           - -     "
                    },
                    "metadata": {},
                    "output_type": "display_data"
                }
            ],
            "source": "mm1.results <- data.frame(probability = c(\"-\", \"-\"), T = c(\"-\", \"-\"), Lqueue = c(\"-\", \"-\"))\nrow.names(mm1.results) <- c(\"theoretical\", \"practical\")\nmm1.results"
        },
        {
            "cell_type": "markdown",
            "metadata": {},
            "source": "### \u0422\u0435\u043e\u0440\u0435\u0442\u0438\u0447\u0435\u0441\u043a\u0438 \u0434\u043b\u044f $m = 1$"
        },
        {
            "cell_type": "markdown",
            "metadata": {},
            "source": "#### 1. \u0412\u0435\u0440\u043e\u044f\u0442\u043d\u043e\u0441\u0442\u044c \u0442\u043e\u0433\u043e, \u0447\u0442\u043e \u043f\u0440\u043e\u0433\u0440\u0430\u043c\u043c\u0430 \u043d\u0435 \u0431\u0443\u0434\u0435\u0442 \u0432\u044b\u043f\u043e\u043b\u043d\u0435\u043d\u0430 \u0441\u0440\u0430\u0437\u0443 \u0436\u0435, \u043a\u0430\u043a \u0442\u043e\u043b\u044c\u043a\u043e \u043e\u043d\u0430 \u043f\u043e\u0441\u0442\u0443\u043f\u0438\u043b\u0430 \u043d\u0430 \u0442\u0435\u0440\u043c\u0438\u043d\u0430\u043b.\n\n$$\n1 - P_0 = \\frac{\\lambda}{\\mu}\n$$"
        },
        {
            "cell_type": "code",
            "execution_count": 28,
            "metadata": {
                "trusted": true
            },
            "outputs": [
                {
                    "data": {
                        "text/html": "0.285714285714286",
                        "text/latex": "0.285714285714286",
                        "text/markdown": "0.285714285714286",
                        "text/plain": "[1] 0.2857143"
                    },
                    "metadata": {},
                    "output_type": "display_data"
                }
            ],
            "source": "mm1.probability <- lambda_1 / miu\nmm1.results$probability[1] <- mm1.probability\nmm1.probability"
        },
        {
            "cell_type": "markdown",
            "metadata": {},
            "source": "#### 2. \u0421\u0440\u0435\u0434\u043d\u0435\u0435 \u0432\u0440\u0435\u043c\u044f \u0434\u043e \u043f\u043e\u043b\u0443\u0447\u0435\u043d\u0438\u044f \u043f\u043e\u043b\u044c\u0437\u043e\u0432\u0430\u0442\u0435\u043b\u0435\u043c \u0440\u0435\u0437\u0443\u043b\u044c\u0442\u0430\u0442\u043e\u0432 \u0440\u0435\u0430\u043b\u0438\u0437\u0430\u0446\u0438\u0438.\n\u0412\u044b\u0447\u0438\u0441\u043b\u0438\u043c \u0441\u0440\u0435\u0434\u043d\u0435\u0435 \u0432\u0440\u0435\u043c\u044f \u0434\u043e \u043f\u043e\u043b\u0443\u0447\u0435\u043d\u0438\u044f \u043f\u043e\u043b\u044c\u0437\u043e\u0432\u0430\u0442\u0435\u043b\u0435\u043c \u0440\u0435\u0437\u0443\u043b\u044c\u0442\u0430\u0442\u043e\u0432 \u0440\u0435\u0430\u043b\u0438\u0437\u0430\u0446\u0438\u0438:\n\n$$\nT_{\\text{\u0441\u0438\u0441\u0442}} = \\frac{1}{\\mu(1 - \\rho)}\n$$"
        },
        {
            "cell_type": "code",
            "execution_count": 29,
            "metadata": {
                "trusted": true
            },
            "outputs": [
                {
                    "data": {
                        "text/html": "5.6",
                        "text/latex": "5.6",
                        "text/markdown": "5.6",
                        "text/plain": "[1] 5.6"
                    },
                    "metadata": {},
                    "output_type": "display_data"
                }
            ],
            "source": "mm1.T <- 1 / (miu * (1 - ro))\nmm1.results$T[1] <- mm1.T\nmm1.T"
        },
        {
            "cell_type": "markdown",
            "metadata": {},
            "source": "#### 3. \u0421\u0440\u0435\u0434\u043d\u0435\u0435 \u043a\u043e\u043b\u0438\u0447\u0435\u0441\u0442\u0432\u043e \u043f\u0440\u043e\u0433\u0440\u0430\u043c\u043c, \u043e\u0436\u0438\u0434\u0430\u044e\u0449\u0438\u0445 \u0432\u044b\u043f\u043e\u043b\u043d\u0435\u043d\u0438\u044f \u043d\u0430 \u0441\u0435\u0440\u0432\u0435\u0440\u0435.\n\u041e\u043d\u0430 \u0436\u0435 \u0441\u0440\u0435\u0434\u043d\u044f\u044f \u0434\u043b\u0438\u043d\u0430 \u043e\u0447\u0435\u0440\u0435\u0434\u0438:\n$$\nL_{\\text{\u043e\u0447}} = \\frac{\\rho^{2}}{1 - \\rho}\n$$"
        },
        {
            "cell_type": "code",
            "execution_count": 30,
            "metadata": {
                "trusted": true
            },
            "outputs": [
                {
                    "data": {
                        "text/html": "0.114285714285714",
                        "text/latex": "0.114285714285714",
                        "text/markdown": "0.114285714285714",
                        "text/plain": "[1] 0.1142857"
                    },
                    "metadata": {},
                    "output_type": "display_data"
                }
            ],
            "source": "mm1.Lqueue <- ro^2 / (1 - ro)\nmm1.results$Lqueue[1] <- mm1.Lqueue\nmm1.Lqueue"
        },
        {
            "cell_type": "code",
            "execution_count": 31,
            "metadata": {
                "trusted": true
            },
            "outputs": [
                {
                    "data": {
                        "text/html": "<table class=\"dataframe\">\n<caption>A data.frame: 2 \u00d7 3</caption>\n<thead>\n\t<tr><th></th><th scope=col>probability</th><th scope=col>T</th><th scope=col>Lqueue</th></tr>\n\t<tr><th></th><th scope=col>&lt;chr&gt;</th><th scope=col>&lt;chr&gt;</th><th scope=col>&lt;chr&gt;</th></tr>\n</thead>\n<tbody>\n\t<tr><th scope=row>theoretical</th><td>0.285714285714286</td><td>5.6</td><td>0.114285714285714</td></tr>\n\t<tr><th scope=row>practical</th><td>-                </td><td>-  </td><td>-                </td></tr>\n</tbody>\n</table>\n",
                        "text/latex": "A data.frame: 2 \u00d7 3\n\\begin{tabular}{r|lll}\n  & probability & T & Lqueue\\\\\n  & <chr> & <chr> & <chr>\\\\\n\\hline\n\ttheoretical & 0.285714285714286 & 5.6 & 0.114285714285714\\\\\n\tpractical & -                 & -   & -                \\\\\n\\end{tabular}\n",
                        "text/markdown": "\nA data.frame: 2 \u00d7 3\n\n| <!--/--> | probability &lt;chr&gt; | T &lt;chr&gt; | Lqueue &lt;chr&gt; |\n|---|---|---|---|\n| theoretical | 0.285714285714286 | 5.6 | 0.114285714285714 |\n| practical | -                 | -   | -                 |\n\n",
                        "text/plain": "            probability       T   Lqueue           \ntheoretical 0.285714285714286 5.6 0.114285714285714\npractical   -                 -   -                "
                    },
                    "metadata": {},
                    "output_type": "display_data"
                }
            ],
            "source": "mm1.results"
        },
        {
            "cell_type": "markdown",
            "metadata": {},
            "source": "\u041a\u0430\u043a \u0432\u0438\u0434\u043d\u043e, \u0441\u0438\u0441\u0442\u0435\u043c\u0430 \u043f\u0440\u0438 $m=1$ \u0440\u0430\u0431\u043e\u0442\u0430\u0435\u0442 \u0445\u0443\u0436\u0435 \u0438\u0441\u0445\u043e\u0434\u043d\u043e\u0439."
        },
        {
            "cell_type": "markdown",
            "metadata": {},
            "source": "### \u0427\u0438\u0441\u043b\u0435\u043d\u043d\u043e \u0434\u043b\u044f $m = 1$"
        },
        {
            "cell_type": "code",
            "execution_count": 32,
            "metadata": {
                "trusted": true
            },
            "outputs": [
                {
                    "data": {
                        "text/plain": "simmer environment: SupaDupaSim | now: 10000 | next: 10012.5486004343\n{ Monitor: in memory }\n{ Resource: server | monitored: TRUE | server status: 1(1) | queue status: 10(10) }\n{ Source: programs | monitored: 1 | n_generated: 2475 }"
                    },
                    "metadata": {},
                    "output_type": "display_data"
                }
            ],
            "source": "if (!require(\"simmer\")) {\n    install.packages(\"simmer\")\n}\nlibrary(simmer)\n\nSIMULATION_TIME <- 10000\n\nenv <- simmer(\"SupaDupaSim\")\n\nprograms <- trajectory() %>%\n    seize(\"server\", 1) %>%\n    timeout(function() rexp(1, 1 / t1)) %>%\n    release(\"server\", 1)\n\nenv %>%\n    add_resource(\"server\", capacity = 1, queue_size = k - 1) %>%\n    add_generator(\n        \"programs\",\n        programs,\n        distribution = function() rexp(1, lambda_k)\n    ) %>%\n    run(until = SIMULATION_TIME)"
        },
        {
            "cell_type": "markdown",
            "metadata": {},
            "source": "#### 1. \u0412\u0435\u0440\u043e\u044f\u0442\u043d\u043e\u0441\u0442\u044c \u0442\u043e\u0433\u043e, \u0447\u0442\u043e \u043f\u0440\u043e\u0433\u0440\u0430\u043c\u043c\u0430 \u043d\u0435 \u0431\u0443\u0434\u0435\u0442 \u0432\u044b\u043f\u043e\u043b\u043d\u0435\u043d\u0430 \u0441\u0440\u0430\u0437\u0443 \u0436\u0435, \u043a\u0430\u043a \u0442\u043e\u043b\u044c\u043a\u043e \u043e\u043d\u0430 \u043f\u043e\u0441\u0442\u0443\u043f\u0438\u043b\u0430 \u043d\u0430 \u0442\u0435\u0440\u043c\u0438\u043d\u0430\u043b."
        },
        {
            "cell_type": "code",
            "execution_count": 33,
            "metadata": {
                "trusted": true
            },
            "outputs": [],
            "source": "mm1.resources <- get_mon_resources(env)"
        },
        {
            "cell_type": "code",
            "execution_count": 34,
            "metadata": {
                "trusted": true
            },
            "outputs": [],
            "source": "mm1.probability <- mm1.resources %>% with(sum(server == 1) / length(server))\nmm1.results$probability[2] <- mm1.probability"
        },
        {
            "cell_type": "markdown",
            "metadata": {},
            "source": "#### 2. \u0421\u0440\u0435\u0434\u043d\u0435\u0435 \u0432\u0440\u0435\u043c\u044f \u0434\u043e \u043f\u043e\u043b\u0443\u0447\u0435\u043d\u0438\u044f \u043f\u043e\u043b\u044c\u0437\u043e\u0432\u0430\u0442\u0435\u043b\u0435\u043c \u0440\u0435\u0437\u0443\u043b\u044c\u0442\u0430\u0442\u043e\u0432 \u0440\u0435\u0430\u043b\u0438\u0437\u0430\u0446\u0438\u0438."
        },
        {
            "cell_type": "code",
            "execution_count": 35,
            "metadata": {
                "trusted": true
            },
            "outputs": [],
            "source": "mm1.arrivals <- get_mon_arrivals(env)"
        },
        {
            "cell_type": "code",
            "execution_count": 36,
            "metadata": {
                "trusted": true
            },
            "outputs": [],
            "source": "mm1.T <- mm1.arrivals %>%\n    subset(finished) %>%\n    with(mean(end_time - start_time))\nmm1.results$T[2] <- T"
        },
        {
            "cell_type": "markdown",
            "metadata": {},
            "source": "#### 3. \u0421\u0440\u0435\u0434\u043d\u0435\u0435 \u043a\u043e\u043b\u0438\u0447\u0435\u0441\u0442\u0432\u043e \u043f\u0440\u043e\u0433\u0440\u0430\u043c\u043c, \u043e\u0436\u0438\u0434\u0430\u044e\u0449\u0438\u0445 \u0432\u044b\u043f\u043e\u043b\u043d\u0435\u043d\u0438\u044f \u043d\u0430 \u0441\u0435\u0440\u0432\u0435\u0440\u0435."
        },
        {
            "cell_type": "code",
            "execution_count": 37,
            "metadata": {
                "trusted": true
            },
            "outputs": [],
            "source": "mm1.Lqueue <- mm1.resources %>% with(mean(queue))\nmm1.results$Lqueue[2] <- mm1.Lqueue"
        },
        {
            "cell_type": "code",
            "execution_count": 70,
            "metadata": {
                "trusted": true
            },
            "outputs": [
                {
                    "data": {
                        "text/html": "<table class=\"dataframe\">\n<caption>A data.frame: 2 \u00d7 3</caption>\n<thead>\n\t<tr><th></th><th scope=col>probability</th><th scope=col>T</th><th scope=col>Lqueue</th></tr>\n\t<tr><th></th><th scope=col>&lt;chr&gt;</th><th scope=col>&lt;chr&gt;</th><th scope=col>&lt;chr&gt;</th></tr>\n</thead>\n<tbody>\n\t<tr><th scope=row>theoretical</th><td>0.285714285714286</td><td>5.6         </td><td>0.114285714285714</td></tr>\n\t<tr><th scope=row>practical</th><td>0.275590295714286</td><td>5.6212398012</td><td>0.178285714285714</td></tr>\n</tbody>\n</table>\n",
                        "text/latex": "A data.frame: 2 \u00d7 3\n\\begin{tabular}{r|lll}\n  & probability & T & Lqueue\\\\\n  & <chr> & <chr> & <chr>\\\\\n\\hline\n\ttheoretical & 0.285714285714286 & 5.6          & 0.114285714285714\\\\\n\tpractical & 0.275590295714286 & 5.6212398012 & 0.178285714285714\\\\\n\\end{tabular}\n",
                        "text/markdown": "\nA data.frame: 2 \u00d7 3\n\n| <!--/--> | probability &lt;chr&gt; | T &lt;chr&gt; | Lqueue &lt;chr&gt; |\n|---|---|---|---|\n| theoretical | 0.285714285714286 | 5.6          | 0.114285714285714 |\n| practical | 0.275590295714286 | 5.6212398012 | 0.178285714285714 |\n\n",
                        "text/plain": "            probability       T            Lqueue           \ntheoretical 0.285714285714286 5.6          0.114285714285714\npractical   0.275590295714286 5.6212398012 0.178285714285714"
                    },
                    "metadata": {},
                    "output_type": "display_data"
                }
            ],
            "source": "mm1.results"
        }
    ],
    "metadata": {
        "kernelspec": {
            "display_name": "R",
            "language": "R",
            "name": "ir"
        },
        "language_info": {
            "codemirror_mode": "r",
            "file_extension": ".r",
            "mimetype": "text/x-r-source",
            "name": "R",
            "pygments_lexer": "r",
            "version": "4.2.3"
        }
    },
    "nbformat": 4,
    "nbformat_minor": 5
}