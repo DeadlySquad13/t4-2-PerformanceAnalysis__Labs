{
    "cells": [
        {
            "cell_type": "markdown",
            "metadata": {},
            "source": "# \u041b\u0430\u0431\u043e\u0440\u0430\u0442\u043e\u0440\u043d\u0430\u044f \u0440\u0430\u0431\u043e\u0442\u0430 \u2116 4. \u041c\u043e\u0434\u0435\u043b\u044c \u043e\u0434\u043d\u043e\u0444\u0430\u0437\u043d\u043e\u0439 \u043c\u043d\u043e\u0433\u043e\u043a\u0430\u043d\u0430\u043b\u044c\u043d\u043e\u0439 \u0437\u0430\u043c\u043a\u043d\u0443\u0442\u043e\u0439 \u0441\u0438\u0441\u0442\u0435\u043c\u044b \u043e\u0431\u0441\u043b\u0443\u0436\u0438\u0432\u0430\u043d\u0438\u044f\n\u0412\u044b\u043f\u043e\u043b\u043d\u0438\u043b \u041f\u0430\u043a\u0430\u043b\u043e \u0410\u043b\u0435\u043a\u0441\u0430\u043d\u0434\u0440 \u0421\u0435\u0440\u0433\u0435\u0435\u0432\u0438\u0447, \u0441\u0442\u0443\u0434\u0435\u043d\u0442 \u0420\u04225-81\u0411\n\n\u0412\u0430\u0440\u0438\u0430\u043d\u0442 \u2116 5\n\n## \u0417\u0430\u0434\u0430\u043d\u0438\u0435 \u2116 1\n\u0412\u044b\u0447\u0438\u0441\u043b\u0438\u0442\u0435\u043b\u044c\u043d\u044b\u0439 \u0446\u0435\u043d\u0442\u0440 \u0444\u0438\u0440\u043c\u044b \u0441\u043e\u0441\u0442\u043e\u0438\u0442 \u0438\u0437 $m$\n \u0433\u043b\u0430\u0432\u043d\u044b\u0445 \u0441\u0435\u0440\u0432\u0435\u0440\u043e\u0432 \u043a\u043e\u043b\u043b\u0435\u043a\u0442\u0438\u0432\u043d\u043e\u0433\u043e \u043f\u043e\u043b\u044c\u0437\u043e\u0432\u0430\u043d\u0438\u044f. \u0427\u0438\u0441\u043b\u043e \u0440\u0430\u0431\u043e\u0442\u0430\u044e\u0449\u0438\u0445 \u0432 \u0446\u0435\u043d\u0442\u0440\u0435\n \u043f\u0440\u043e\u0433\u0440\u0430\u043c\u043c\u0438\u0441\u0442\u043e\u0432 \u0432 \u043b\u044e\u0431\u043e\u0439 \u043c\u043e\u043c\u0435\u043d\u0442 \u0432\u0440\u0435\u043c\u0435\u043d\u0438 \u0440\u0430\u0432\u043d\u043e\n$k$. \u041a\u0430\u0436\u0434\u044b\u0439 \u043f\u0440\u043e\u0433\u0440\u0430\u043c\u043c\u0438\u0441\u0442 \u0433\u043e\u0442\u043e\u0432\u0438\u0442 \u0441\u0432\u043e\u044e \u043f\u0440\u043e\u0433\u0440\u0430\u043c\u043c\u0443 \u0438 \u0447\u0435\u0440\u0435\u0437 \u0442\u0435\u0440\u043c\u0438\u043d\u0430\u043b \u043f\u0435\u0440\u0435\u0434\u0430\u0435\u0442 \u0435\u0435\n\u043d\u0430 \u0441\u0435\u0440\u0432\u0435\u0440 \u0434\u043b\u044f \u0432\u044b\u043f\u043e\u043b\u043d\u0435\u043d\u0438\u044f, \u043a\u0443\u0434\u0430 \u043e\u043d\u0430 \u0441\u0440\u0430\u0437\u0443 \u043f\u043e\u043f\u0430\u0434\u0430\u0435\u0442. \u0412\u0440\u0435\u043c\u044f \u043f\u043e\u0434\u0433\u043e\u0442\u043e\u0432\u043a\u0438 \u043f\u0440\u043e\u0433\u0440\u0430\u043c\u043c\n\u0438\u043c\u0435\u0435\u0442 \u044d\u043a\u0441\u043f\u043e\u043d\u0435\u043d\u0446\u0438\u0430\u043b\u044c\u043d\u043e\u0435 \u0440\u0430\u0441\u043f\u0440\u0435\u0434\u0435\u043b\u0435\u043d\u0438\u0435 \u0441\u043e \u0441\u0440\u0435\u0434\u043d\u0438\u043c \u0437\u043d\u0430\u0447\u0435\u043d\u0438\u0435\u043c\n$t_1$ \u043c\u0438\u043d. \u0412\u0440\u0435\u043c\u044f \u0432\u044b\u043f\u043e\u043b\u043d\u0435\u043d\u0438\u044f \u043f\u0440\u043e\u0433\u0440\u0430\u043c\u043c\u044b \u043d\u0430 \u043b\u044e\u0431\u043e\u043c \u0438\u0437 \u0441\u0435\u0440\u0432\u0435\u0440\u043e\u0432 \u0438\u043c\u0435\u0435\u0442 \u044d\u043a\u0441\u043f\u043e\u043d\u0435\u043d\u0446\u0438\u0430\u043b\u044c\u043d\u043e\u0435\n \u0440\u0430\u0441\u043f\u0440\u0435\u0434\u0435\u043b\u0435\u043d\u0438\u0435 \u0441\u043e \u0441\u0440\u0435\u0434\u043d\u0438\u043c \u0437\u043d\u0430\u0447\u0435\u043d\u0438\u0435\u043c\n $t_2$ \u043c\u0438\u043d. \u041a\u0430\u0436\u0434\u044b\u0439 \u043f\u0440\u043e\u0433\u0440\u0430\u043c\u043c\u0438\u0441\u0442 \u043e\u0436\u0438\u0434\u0430\u0435\u0442 \u043e\u0442\u0432\u0435\u0442\u0430 \u043e\u0442 \u0441\u0435\u0440\u0432\u0435\u0440\u0430, \u043f\u0440\u0435\u0436\u0434\u0435, \u0447\u0435\u043c \u043d\u0430\u0447\u043d\u0435\u0442 \u043f\u0438\u0441\u0430\u0442\u044c \u0441\u043b\u0435\u0434\u0443\u044e\u0449\u0443\u044e \u043f\u0440\u043e\u0433\u0440\u0430\u043c\u043c\u0443.\n\n\u041d\u0430\u0439\u0442\u0438 (\u0442\u0435\u043e\u0440\u0435\u0442\u0438\u0447\u0435\u0441\u043a\u0438 \u0438 \u044d\u043a\u0441\u043f\u0435\u0440\u0438\u043c\u0435\u043d\u0442\u0430\u043b\u044c\u043d\u043e):\n1. \u0412\u0435\u0440\u043e\u044f\u0442\u043d\u043e\u0441\u0442\u044c \u0442\u043e\u0433\u043e, \u0447\u0442\u043e \u043f\u0440\u043e\u0433\u0440\u0430\u043c\u043c\u0430 \u043d\u0435 \u0431\u0443\u0434\u0435\u0442 \u0432\u044b\u043f\u043e\u043b\u043d\u0435\u043d\u0430 \u0441\u0440\u0430\u0437\u0443 \u0436\u0435, \u043a\u0430\u043a \u0442\u043e\u043b\u044c\u043a\u043e \u043e\u043d\u0430 \u043f\u043e\u0441\u0442\u0443\u043f\u0438\u043b\u0430 \u043d\u0430 \u0442\u0435\u0440\u043c\u0438\u043d\u0430\u043b.\n2. \u0421\u0440\u0435\u0434\u043d\u0435\u0435 \u0432\u0440\u0435\u043c\u044f \u0434\u043e \u043f\u043e\u043b\u0443\u0447\u0435\u043d\u0438\u044f \u043f\u043e\u043b\u044c\u0437\u043e\u0432\u0430\u0442\u0435\u043b\u0435\u043c \u0440\u0435\u0437\u0443\u043b\u044c\u0442\u0430\u0442\u043e\u0432 \u0440\u0435\u0430\u043b\u0438\u0437\u0430\u0446\u0438\u0438.\n3. \u0421\u0440\u0435\u0434\u043d\u0435\u0435 \u043a\u043e\u043b\u0438\u0447\u0435\u0441\u0442\u0432\u043e \u043f\u0440\u043e\u0433\u0440\u0430\u043c\u043c, \u043e\u0436\u0438\u0434\u0430\u044e\u0449\u0438\u0445 \u0432\u044b\u043f\u043e\u043b\u043d\u0435\u043d\u0438\u044f \u043d\u0430 \u0441\u0435\u0440\u0432\u0435\u0440\u0435.\n\n\u0422\u0440\u0435\u0431\u0443\u0435\u0442\u0441\u044f \u0432\u044b\u043f\u043e\u043b\u043d\u0438\u0442\u044c \u0440\u0430\u0441\u0447\u0435\u0442 \u043f\u0440\u0438 \u0437\u0430\u0434\u0430\u043d\u043d\u043e\u043c \u043f\u043e \u0432\u0430\u0440\u0438\u0430\u043d\u0442\u0443 \u0437\u043d\u0430\u0447\u0435\u043d\u0438\u0438\n$m$, \u0430 \u0442\u0430\u043a\u0436\u0435 \u043f\u0440\u0438 $m = 1$."
        },
        {
            "cell_type": "code",
            "execution_count": 20,
            "metadata": {
                "trusted": true
            },
            "outputs": [
                {
                    "data": {
                        "text/html": "<table class=\"dataframe\">\n<caption>A data.frame: 1 \u00d7 4</caption>\n<thead>\n\t<tr><th scope=col>k</th><th scope=col>m</th><th scope=col>t1</th><th scope=col>t2</th></tr>\n\t<tr><th scope=col>&lt;int&gt;</th><th scope=col>&lt;int&gt;</th><th scope=col>&lt;int&gt;</th><th scope=col>&lt;int&gt;</th></tr>\n</thead>\n<tbody>\n\t<tr><td>11</td><td>5</td><td>14</td><td>4</td></tr>\n</tbody>\n</table>\n",
                        "text/latex": "A data.frame: 1 \u00d7 4\n\\begin{tabular}{llll}\n k & m & t1 & t2\\\\\n <int> & <int> & <int> & <int>\\\\\n\\hline\n\t 11 & 5 & 14 & 4\\\\\n\\end{tabular}\n",
                        "text/markdown": "\nA data.frame: 1 \u00d7 4\n\n| k &lt;int&gt; | m &lt;int&gt; | t1 &lt;int&gt; | t2 &lt;int&gt; |\n|---|---|---|---|\n| 11 | 5 | 14 | 4 |\n\n",
                        "text/plain": "  k  m t1 t2\n1 11 5 14 4 "
                    },
                    "metadata": {},
                    "output_type": "display_data"
                }
            ],
            "source": "Variant <- 5\nset.seed(Variant)\nk <- sample(c(10:25), 1)\nm <- sample(c(3:6), 1)\nt1 <- sample(c(14:20), 1)\nt2 <- sample(c(2:6), 1)\nView(data.frame(k, m, t1, t2))"
        },
        {
            "cell_type": "markdown",
            "metadata": {},
            "source": "\u041d\u0430\u0439\u0434\u0435\u043c \u0438\u043d\u0442\u0435\u043d\u0441\u0438\u0432\u043d\u043e\u0441\u0442\u044c \u0432\u044b\u043f\u043e\u043b\u043d\u0435\u043d\u0438\u044f \u043f\u0440\u043e\u0433\u0440\u0430\u043c\u043c:"
        },
        {
            "cell_type": "code",
            "execution_count": 21,
            "metadata": {
                "trusted": true
            },
            "outputs": [
                {
                    "data": {
                        "text/html": "0.0714285714285714",
                        "text/latex": "0.0714285714285714",
                        "text/markdown": "0.0714285714285714",
                        "text/plain": "[1] 0.07142857"
                    },
                    "metadata": {},
                    "output_type": "display_data"
                }
            ],
            "source": "lambda_1 <- 1 / t1\nlambda_1"
        },
        {
            "cell_type": "markdown",
            "metadata": {},
            "source": "\u0418\u043d\u0442\u0435\u043d\u0441\u0438\u0432\u043d\u043e\u0441\u0442\u044c \u043f\u043e\u0441\u0442\u0443\u043f\u043b\u0435\u043d\u0438\u044f \u043f\u0440\u043e\u0433\u0440\u0430\u043c\u043c \u043e\u0442 $k$ \u043f\u0440\u043e\u0433\u0440\u0430\u043c\u043c\u0438\u0441\u0442\u043e\u0432:"
        },
        {
            "cell_type": "code",
            "execution_count": 22,
            "metadata": {
                "trusted": true
            },
            "outputs": [
                {
                    "data": {
                        "text/html": "0.785714285714286",
                        "text/latex": "0.785714285714286",
                        "text/markdown": "0.785714285714286",
                        "text/plain": "[1] 0.7857143"
                    },
                    "metadata": {},
                    "output_type": "display_data"
                }
            ],
            "source": "lambda_k <- k * lambda_1\nlambda_k"
        },
        {
            "cell_type": "markdown",
            "metadata": {},
            "source": "\u0418\u043d\u0442\u0435\u043d\u0441\u0438\u0432\u043d\u043e\u0441\u0442\u044c \u0432\u044b\u043f\u043e\u043b\u043d\u0435\u043d\u0438\u044f \u043f\u0440\u043e\u0433\u0440\u0430\u043c\u043c:"
        },
        {
            "cell_type": "code",
            "execution_count": 23,
            "metadata": {
                "trusted": true
            },
            "outputs": [
                {
                    "data": {
                        "text/html": "0.25",
                        "text/latex": "0.25",
                        "text/markdown": "0.25",
                        "text/plain": "[1] 0.25"
                    },
                    "metadata": {},
                    "output_type": "display_data"
                }
            ],
            "source": "miu <- 1 / t2\nmiu"
        },
        {
            "cell_type": "markdown",
            "metadata": {},
            "source": "\u0418\u043d\u0442\u0435\u043d\u0441\u0438\u0432\u043d\u043e\u0441\u0442\u044c \u0432\u044b\u043f\u043e\u043b\u043d\u0435\u043d\u0438\u044f \u043f\u0440\u043e\u0433\u0440\u0430\u043c\u043c \u043c\u0435\u043d\u044c\u0448\u0435 \u0438\u043d\u0442\u0435\u043d\u0441\u0438\u0432\u043d\u043e\u0441\u0442\u0438 \u043f\u043e\u0441\u0442\u0443\u043f\u043b\u0435\u043d\u0438\u044f,\n\u0441\u043b\u0435\u0434\u043e\u0432\u0430\u0442\u0435\u043b\u044c\u043d\u043e \u043e\u0447\u0435\u0440\u0435\u0434\u044c \u0432 \u043d\u0430\u0448\u0435\u0439 \u0441\u0438\u0441\u0442\u0435\u043c\u0435 \u0431\u0443\u0434\u0435\u0442 \u0431\u0435\u0441\u043a\u043e\u043d\u0435\u0447\u043d\u043e \u0440\u0430\u0441\u0442\u0438. \u0421\u043e\u0433\u043b\u0430\u0441\u043d\u043e\n\u0443\u043a\u0430\u0437\u0430\u043d\u0438\u044f\u043c \u043f\u0440\u0435\u043f\u043e\u0434\u0430\u0432\u0430\u0442\u0435\u043b\u044f, \u0438\u0437\u043c\u0435\u043d\u0438\u043c \u043d\u0430\u0447\u0430\u043b\u044c\u043d\u044b\u0435 \u043f\u0430\u0440\u0430\u043c\u0435\u0442\u0440\u044b \u0442\u0430\u043a, \u0447\u0442\u043e\u0431\u044b \u043d\u0435\u0440\u0430\u0432\u0435\u043d\u0441\u0442\u0432\u043e\n\u043e\u0431\u0440\u0430\u0442\u0438\u043b\u043e\u0441\u044c:"
        },
        {
            "cell_type": "code",
            "execution_count": 202,
            "metadata": {
                "trusted": true
            },
            "outputs": [
                {
                    "data": {
                        "text/html": "0.244444444444444",
                        "text/latex": "0.244444444444444",
                        "text/markdown": "0.244444444444444",
                        "text/plain": "[1] 0.2444444"
                    },
                    "metadata": {},
                    "output_type": "display_data"
                }
            ],
            "source": "t1 <- 45\nlambda_k <- k / t1\nlambda_k"
        },
        {
            "cell_type": "markdown",
            "metadata": {},
            "source": "\u0418\u0442\u043e\u0433\u043e \u0438\u043c\u0435\u0435\u043c \u0441\u043b\u0435\u0434\u0443\u044e\u0449\u0438\u0435 \u043d\u0430\u0447\u0430\u043b\u044c\u043d\u044b\u0435 \u0432\u0435\u043b\u0438\u0447\u0438\u043d\u044b:"
        },
        {
            "cell_type": "code",
            "execution_count": 203,
            "metadata": {
                "trusted": true
            },
            "outputs": [
                {
                    "data": {
                        "text/html": "<table class=\"dataframe\">\n<caption>A data.frame: 1 \u00d7 4</caption>\n<thead>\n\t<tr><th scope=col>k</th><th scope=col>m</th><th scope=col>t1</th><th scope=col>t2</th></tr>\n\t<tr><th scope=col>&lt;int&gt;</th><th scope=col>&lt;int&gt;</th><th scope=col>&lt;dbl&gt;</th><th scope=col>&lt;int&gt;</th></tr>\n</thead>\n<tbody>\n\t<tr><td>11</td><td>5</td><td>45</td><td>4</td></tr>\n</tbody>\n</table>\n",
                        "text/latex": "A data.frame: 1 \u00d7 4\n\\begin{tabular}{llll}\n k & m & t1 & t2\\\\\n <int> & <int> & <dbl> & <int>\\\\\n\\hline\n\t 11 & 5 & 45 & 4\\\\\n\\end{tabular}\n",
                        "text/markdown": "\nA data.frame: 1 \u00d7 4\n\n| k &lt;int&gt; | m &lt;int&gt; | t1 &lt;dbl&gt; | t2 &lt;int&gt; |\n|---|---|---|---|\n| 11 | 5 | 45 | 4 |\n\n",
                        "text/plain": "  k  m t1 t2\n1 11 5 45 4 "
                    },
                    "metadata": {},
                    "output_type": "display_data"
                }
            ],
            "source": "View(data.frame(k, m, t1, t2))"
        },
        {
            "cell_type": "code",
            "execution_count": null,
            "metadata": {
                "trusted": true
            },
            "outputs": [],
            "source": "# \u0417\u0430\u0434\u0430\u0434\u0438\u043c \u0442\u0430\u0431\u043b\u0438\u0446\u0443 \u0440\u0435\u0437\u0443\u043b\u044c\u0442\u0430\u0442\u043e\u0432."
        },
        {
            "cell_type": "code",
            "execution_count": 204,
            "metadata": {
                "trusted": true
            },
            "outputs": [
                {
                    "data": {
                        "text/html": "<table class=\"dataframe\">\n<caption>A data.frame: 2 \u00d7 3</caption>\n<thead>\n\t<tr><th></th><th scope=col>probability</th><th scope=col>T</th><th scope=col>Lqueue</th></tr>\n\t<tr><th></th><th scope=col>&lt;chr&gt;</th><th scope=col>&lt;chr&gt;</th><th scope=col>&lt;chr&gt;</th></tr>\n</thead>\n<tbody>\n\t<tr><th scope=row>theoretical</th><td>-</td><td>-</td><td>-</td></tr>\n\t<tr><th scope=row>practical</th><td>-</td><td>-</td><td>-</td></tr>\n</tbody>\n</table>\n",
                        "text/latex": "A data.frame: 2 \u00d7 3\n\\begin{tabular}{r|lll}\n  & probability & T & Lqueue\\\\\n  & <chr> & <chr> & <chr>\\\\\n\\hline\n\ttheoretical & - & - & -\\\\\n\tpractical & - & - & -\\\\\n\\end{tabular}\n",
                        "text/markdown": "\nA data.frame: 2 \u00d7 3\n\n| <!--/--> | probability &lt;chr&gt; | T &lt;chr&gt; | Lqueue &lt;chr&gt; |\n|---|---|---|---|\n| theoretical | - | - | - |\n| practical | - | - | - |\n\n",
                        "text/plain": "            probability T Lqueue\ntheoretical -           - -     \npractical   -           - -     "
                    },
                    "metadata": {},
                    "output_type": "display_data"
                }
            ],
            "source": "results <- data.frame(probability = c(\"-\", \"-\"), T = c(\"-\", \"-\"), Lqueue = c(\"-\", \"-\"))\nrow.names(results) <- c('theoretical', 'practical')\nresults"
        },
        {
            "cell_type": "markdown",
            "metadata": {},
            "source": "### \u0422\u0435\u043e\u0440\u0435\u0442\u0438\u0447\u0435\u0441\u043a\u0438"
        },
        {
            "cell_type": "markdown",
            "metadata": {},
            "source": "#### 1. \u0412\u0435\u0440\u043e\u044f\u0442\u043d\u043e\u0441\u0442\u044c \u0442\u043e\u0433\u043e, \u0447\u0442\u043e \u043f\u0440\u043e\u0433\u0440\u0430\u043c\u043c\u0430 \u043d\u0435 \u0431\u0443\u0434\u0435\u0442 \u0432\u044b\u043f\u043e\u043b\u043d\u0435\u043d\u0430 \u0441\u0440\u0430\u0437\u0443 \u0436\u0435, \u043a\u0430\u043a \u0442\u043e\u043b\u044c\u043a\u043e \u043e\u043d\u0430 \u043f\u043e\u0441\u0442\u0443\u043f\u0438\u043b\u0430 \u043d\u0430 \u0442\u0435\u0440\u043c\u0438\u043d\u0430\u043b\n\u041c\u044b \u0438\u043c\u0435\u0435\u043c \u0434\u0435\u043b\u043e \u0441 \u043c\u043d\u043e\u0433\u043e\u043a\u0430\u043d\u0430\u043b\u044c\u043d\u043e\u0439 **\u0437\u0430\u043c\u043a\u043d\u0443\u0442\u043e\u0439** \u0421\u041c\u041e \u0441 \u043d\u0435\u043e\u0433\u0440\u0430\u043d\u0438\u0447\u0435\u043d\u043d\u043e\u0439 \u043e\u0447\u0435\u0440\u0435\u0434\u044c\u044e\n$M / M / m / \\infty$. \u0421\u043b\u0435\u0434\u043e\u0432\u0430\u0442\u0435\u043b\u044c\u043d\u043e:\n\n$$\nP_0 = \\left(\n  \\sum_{i = 0}^m \\frac{k! \\rho^i}{\\left(k - i \\right)!i!}\n  +\n  \\sum_{i = 1}^{k - m} \\frac{k! \\rho^{m + i}}{m! \\cdot (k - m - i)!m^i}\n\\right) ^ {-1}\n$$\n\u0433\u0434\u0435 $\\rho = \\frac{\\lambda}{\\mu}$"
        },
        {
            "cell_type": "code",
            "execution_count": 205,
            "metadata": {
                "trusted": true
            },
            "outputs": [
                {
                    "data": {
                        "text/html": "0.285714285714286",
                        "text/latex": "0.285714285714286",
                        "text/markdown": "0.285714285714286",
                        "text/plain": "[1] 0.2857143"
                    },
                    "metadata": {},
                    "output_type": "display_data"
                }
            ],
            "source": "ro <- lambda_1 / miu\nro"
        },
        {
            "cell_type": "code",
            "execution_count": 206,
            "metadata": {
                "trusted": true
            },
            "outputs": [
                {
                    "data": {
                        "text/html": "0.062613473389203",
                        "text/latex": "0.062613473389203",
                        "text/markdown": "0.062613473389203",
                        "text/plain": "[1] 0.06261347"
                    },
                    "metadata": {},
                    "output_type": "display_data"
                }
            ],
            "source": "i1 <- 0:m\nparts_of_sum1 <- c(factorial(k) * ro^i1 / (factorial((k - i1)) * factorial(i1)))\n\ni2 <- 1:(k - m)\nparts_of_sum2 <- c(factorial(k) * ro^(m + i2) / (factorial(m) * factorial((k - m - i2)) * m^i2))\n\nP0 <- (sum(parts_of_sum1) + sum(parts_of_sum2))^(-1)\nP0"
        },
        {
            "cell_type": "code",
            "execution_count": 207,
            "metadata": {
                "trusted": true
            },
            "outputs": [
                {
                    "data": {
                        "text/html": "0.196785202080352",
                        "text/latex": "0.196785202080352",
                        "text/markdown": "0.196785202080352",
                        "text/plain": "[1] 0.1967852"
                    },
                    "metadata": {},
                    "output_type": "display_data"
                }
            ],
            "source": "P0 * k * ro"
        },
        {
            "cell_type": "markdown",
            "metadata": {},
            "source": "\u0422\u043e\u0433\u0434\u0430 \u0432\u0435\u0440\u043e\u044f\u0442\u043d\u043e\u0441\u0442\u044c \u0442\u043e\u0433\u043e, \u0447\u0442\u043e $i$ \u0441\u0435\u0440\u0432\u0435\u0440\u043e\u0432 \u0437\u0430\u043d\u044f\u0442\u043e:\n$$\nP_i = P_0 \\cdot \\frac{k! \\rho^i}{\\left(k - i \\right)!i!}\n$$\n\n\u0414\u043b\u044f \u044d\u0442\u043e\u0433\u043e \u0432\u043e\u0441\u043f\u043e\u043b\u044c\u0437\u0443\u0435\u043c\u0441\u044f \u0443\u0436\u0435 \u0441\u043e\u0437\u0434\u0430\u043d\u043d\u044b\u043c \u043c\u0430\u0441\u0441\u0438\u0432\u043e\u043c \u0447\u0430\u0441\u0442\u0435\u0439 \u0441\u0443\u043c\u043c\u044b:"
        },
        {
            "cell_type": "code",
            "execution_count": 208,
            "metadata": {
                "trusted": true
            },
            "outputs": [],
            "source": "get_Pi <- function(part) part * P0"
        },
        {
            "cell_type": "code",
            "execution_count": 209,
            "metadata": {
                "trusted": true
            },
            "outputs": [
                {
                    "data": {
                        "text/html": "<ol>\n\t<li>0.062613473389203</li>\n\t<li>0.196785202080352</li>\n\t<li>0.281121717257646</li>\n\t<li>0.240961471935125</li>\n\t<li>0.137692269677214</li>\n</ol>\n",
                        "text/latex": "\\begin{enumerate}\n\\item 0.062613473389203\n\\item 0.196785202080352\n\\item 0.281121717257646\n\\item 0.240961471935125\n\\item 0.137692269677214\n\\end{enumerate}\n",
                        "text/markdown": "1. 0.062613473389203\n2. 0.196785202080352\n3. 0.281121717257646\n4. 0.240961471935125\n5. 0.137692269677214\n\n\n",
                        "text/plain": "[[1]]\n[1] 0.06261347\n\n[[2]]\n[1] 0.1967852\n\n[[3]]\n[1] 0.2811217\n\n[[4]]\n[1] 0.2409615\n\n[[5]]\n[1] 0.1376923\n"
                    },
                    "metadata": {},
                    "output_type": "display_data"
                }
            ],
            "source": "Pi <- lapply(parts_of_sum1[1:m], get_Pi)\nPi"
        },
        {
            "cell_type": "markdown",
            "metadata": {},
            "source": "\u0422\u043e\u0433\u0434\u0430 $\\sum_{i = 0}^{m} P_i$ -  \u0432\u0435\u0440\u043e\u044f\u0442\u043d\u043e\u0441\u0442\u044c \u0442\u043e\u0433\u043e, \u0447\u0442\u043e \u0445\u043e\u0442\u044f \u0431\u044b \u043e\u0434\u0438\u043d \u0441\u0435\u0440\u0432\u0435\u0440\n\u0431\u0443\u0434\u0435\u0442 \u0434\u043e\u0441\u0442\u0443\u043f\u0435\u043d. \u0421\u043b\u0435\u0434\u043e\u0432\u0430\u0442\u0435\u043b\u044c\u043d\u043e, \u043e\u0431\u0440\u0430\u0442\u043d\u0430\u044f \u0432\u0435\u0440\u043e\u044f\u0442\u043d\u043e\u0441\u0442\u044c \u0438 \u0431\u0443\u0434\u0435\u0442 \u043d\u0430\u0448\u0438\u043c \u043e\u0442\u0432\u0435\u0442\u043e\u043c."
        },
        {
            "cell_type": "code",
            "execution_count": 375,
            "metadata": {
                "trusted": true
            },
            "outputs": [
                {
                    "data": {
                        "text/html": "0.0808258656604589",
                        "text/latex": "0.0808258656604589",
                        "text/markdown": "0.0808258656604589",
                        "text/plain": "[1] 0.08082587"
                    },
                    "metadata": {},
                    "output_type": "display_data"
                }
            ],
            "source": "probability <- 1 - sum(unlist(Pi))\nresults$probability[1] <- probability\nprobability"
        },
        {
            "cell_type": "markdown",
            "metadata": {},
            "source": "#### 2. \u0421\u0440\u0435\u0434\u043d\u0435\u0435 \u0432\u0440\u0435\u043c\u044f \u0434\u043e \u043f\u043e\u043b\u0443\u0447\u0435\u043d\u0438\u044f \u043f\u043e\u043b\u044c\u0437\u043e\u0432\u0430\u0442\u0435\u043b\u0435\u043c \u0440\u0435\u0437\u0443\u043b\u044c\u0442\u0430\u0442\u043e\u0432 \u0440\u0435\u0430\u043b\u0438\u0437\u0430\u0446\u0438\u0438.\n\u041f\u043e \u0444\u043e\u0440\u043c\u0443\u043b\u0435 \u041b\u0438\u0442\u0442\u043b\u0430, \u043f\u043e\u0434\u0445\u043e\u0434\u044f\u0449\u0435\u0439 \u0434\u043b\u044f \u0421\u041c\u041e \u043b\u044e\u0431\u043e\u0433\u043e \u0432\u0438\u0434\u0430 \u0438\u043c\u0435\u0435\u043c:\n$$\nT_{\\text{\u0441\u0438\u0441\u0442}} = \\frac{L_{\\text{\u0441\u0438\u0441\u0442}}}{\\Lambda} \\\\\n\\Lambda = (k - L_{\\text{\u0441\u0438\u0441\u0442}}) \\cdot \\lambda \\\\\nL_{\\text{\u0441\u0438\u0441\u0442}} = \\sum_{i = 1}^k \\left(P_i \\cdot i \\right)\n$$"
        },
        {
            "cell_type": "code",
            "execution_count": 211,
            "metadata": {
                "trusted": true
            },
            "outputs": [
                {
                    "data": {
                        "text/html": "0.919174134339541",
                        "text/latex": "0.919174134339541",
                        "text/markdown": "0.919174134339541",
                        "text/plain": "[1] 0.9191741"
                    },
                    "metadata": {},
                    "output_type": "display_data"
                }
            ],
            "source": "Pi_queue <- mapply(function(Pi, i) Pi * i, Pi[1:k], 1:k)\nLsys <- sum(unlist(Pi))\nLsys"
        },
        {
            "cell_type": "code",
            "execution_count": 212,
            "metadata": {
                "trusted": true
            },
            "outputs": [
                {
                    "data": {
                        "text/html": "0.720058990404319",
                        "text/latex": "0.720058990404319",
                        "text/markdown": "0.720058990404319",
                        "text/plain": "[1] 0.720059"
                    },
                    "metadata": {},
                    "output_type": "display_data"
                }
            ],
            "source": "Lambda <- (k - Lsys) * lambda_1\nLambda"
        },
        {
            "cell_type": "code",
            "execution_count": 213,
            "metadata": {
                "trusted": true
            },
            "outputs": [
                {
                    "data": {
                        "text/html": "1.27652615492436",
                        "text/latex": "1.27652615492436",
                        "text/markdown": "1.27652615492436",
                        "text/plain": "[1] 1.276526"
                    },
                    "metadata": {},
                    "output_type": "display_data"
                }
            ],
            "source": "T <- Lsys / Lambda\nresults$T[1] <- T\nT"
        },
        {
            "cell_type": "markdown",
            "metadata": {},
            "source": "#### 3. \u0421\u0440\u0435\u0434\u043d\u0435\u0435 \u043a\u043e\u043b\u0438\u0447\u0435\u0441\u0442\u0432\u043e \u043f\u0440\u043e\u0433\u0440\u0430\u043c\u043c, \u043e\u0436\u0438\u0434\u0430\u044e\u0449\u0438\u0445 \u0432\u044b\u043f\u043e\u043b\u043d\u0435\u043d\u0438\u044f \u043d\u0430 \u0441\u0435\u0440\u0432\u0435\u0440\u0435.\n\u041e\u043d\u0430 \u0436\u0435 \u0441\u0440\u0435\u0434\u043d\u044f\u044f \u0434\u043b\u0438\u043d\u0430 \u043e\u0447\u0435\u0440\u0435\u0434\u0438:\n$$\nL_{\\text{\u043e\u0447}} = \\frac{\\rho^{m+1}}{m! \\cdot m} \\cdot P_0 \\cdot\n\\frac{1}{\\left( 1 - \\frac{\\rho}{m} \\right)^2}\n$$"
        },
        {
            "cell_type": "code",
            "execution_count": 214,
            "metadata": {
                "trusted": true
            },
            "outputs": [
                {
                    "data": {
                        "text/html": "6.38581729495202e-08",
                        "text/latex": "6.38581729495202e-08",
                        "text/markdown": "6.38581729495202e-08",
                        "text/plain": "[1] 6.385817e-08"
                    },
                    "metadata": {},
                    "output_type": "display_data"
                }
            ],
            "source": "Lqueue <- ro^(m + 1) / (factorial(m) * m) * P0 * 1 / (1 - ro / m)^2\nresults$Lqueue[1] <- Lqueue\nLqueue"
        },
        {
            "cell_type": "code",
            "execution_count": 215,
            "metadata": {
                "trusted": true
            },
            "outputs": [
                {
                    "data": {
                        "text/html": "<table class=\"dataframe\">\n<caption>A data.frame: 2 \u00d7 3</caption>\n<thead>\n\t<tr><th></th><th scope=col>probability</th><th scope=col>T</th><th scope=col>Lqueue</th></tr>\n\t<tr><th></th><th scope=col>&lt;chr&gt;</th><th scope=col>&lt;chr&gt;</th><th scope=col>&lt;chr&gt;</th></tr>\n</thead>\n<tbody>\n\t<tr><th scope=row>theoretical</th><td>0.0808258656604589</td><td>1.27652615492436</td><td>6.38581729495202e-08</td></tr>\n\t<tr><th scope=row>practical</th><td>-                 </td><td>-               </td><td>-                   </td></tr>\n</tbody>\n</table>\n",
                        "text/latex": "A data.frame: 2 \u00d7 3\n\\begin{tabular}{r|lll}\n  & probability & T & Lqueue\\\\\n  & <chr> & <chr> & <chr>\\\\\n\\hline\n\ttheoretical & 0.0808258656604589 & 1.27652615492436 & 6.38581729495202e-08\\\\\n\tpractical & -                  & -                & -                   \\\\\n\\end{tabular}\n",
                        "text/markdown": "\nA data.frame: 2 \u00d7 3\n\n| <!--/--> | probability &lt;chr&gt; | T &lt;chr&gt; | Lqueue &lt;chr&gt; |\n|---|---|---|---|\n| theoretical | 0.0808258656604589 | 1.27652615492436 | 6.38581729495202e-08 |\n| practical | -                  | -                | -                    |\n\n",
                        "text/plain": "            probability        T                Lqueue              \ntheoretical 0.0808258656604589 1.27652615492436 6.38581729495202e-08\npractical   -                  -                -                   "
                    },
                    "metadata": {},
                    "output_type": "display_data"
                }
            ],
            "source": "results"
        },
        {
            "cell_type": "markdown",
            "metadata": {},
            "source": "\u041a\u0430\u043a \u0432\u0438\u0434\u043d\u043e, \u043e\u0447\u0435\u0440\u0435\u0434\u044c \u0441\u0438\u0441\u0442\u0435\u043c\u0430 \u0440\u0430\u0431\u043e\u0442\u0430\u0435\u0442 \u0434\u043e\u0441\u0442\u0430\u0442\u043e\u0447\u043d\u043e \u0431\u044b\u0441\u0442\u0440\u043e, \u0447\u0442\u043e\u0431\u044b \u043d\u0435 \u043d\u0430\u043a\u0430\u043f\u043b\u0438\u0432\u0430\u0442\u044c \u043e\u0447\u0435\u0440\u0435\u0434\u044c.\n\u042d\u0442\u043e \u043f\u043e\u0434\u0442\u0432\u0435\u0440\u0436\u0434\u0430\u0435\u0442\u0441\u044f \u0438 \u043f\u0440\u0438 \u0441\u0440\u0430\u0432\u043d\u0435\u043d\u0438\u0438 \u0438\u043d\u0442\u0435\u043d\u0441\u0438\u0432\u043d\u043e\u0441\u0442\u0435\u0439 \u043f\u043e\u0441\u0442\u0443\u043f\u043b\u0435\u043d\u0438\u044f / \u043e\u0431\u0440\u0430\u0431\u043e\u0442\u043a\u0438 \u043f\u0440\u043e\u0433\u0440\u0430\u043c\u043c."
        },
        {
            "cell_type": "markdown",
            "metadata": {},
            "source": "### \u0427\u0438\u0441\u043b\u0435\u043d\u043d\u043e"
        },
        {
            "cell_type": "code",
            "execution_count": 278,
            "metadata": {
                "trusted": true
            },
            "outputs": [
                {
                    "data": {
                        "text/plain": "simmer environment: SupaDupaSim | now: 10000 | next: 10000.8185453627\n{ Monitor: in memory }\n{ Resource: server | monitored: TRUE | server status: 5(5) | queue status: 5(6) }\n{ Source: programs | monitored: 1 | n_generated: 2372 }"
                    },
                    "metadata": {},
                    "output_type": "display_data"
                }
            ],
            "source": "if (!require(\"simmer\")) {\n    install.packages(\"simmer\")\n}\nlibrary(simmer)\n\nSIMULATION_TIME <- 10000\n\nenv <- simmer(\"SupaDupaSim\")\n\nprograms <- trajectory() %>%\n    seize(\"server\", 1) %>%\n    timeout(function() rexp(1, 1 / t1)) %>%\n    release(\"server\", 1)\n\nenv %>%\n    add_resource(\"server\", capacity = m, queue_size = k - m) %>%\n    add_generator(\n        \"programs\",\n        programs,\n        distribution = function() rexp(1, lambda_k)\n    ) %>%\n    run(until = SIMULATION_TIME)"
        },
        {
            "cell_type": "markdown",
            "metadata": {},
            "source": "#### 1. \u0412\u0435\u0440\u043e\u044f\u0442\u043d\u043e\u0441\u0442\u044c \u0442\u043e\u0433\u043e, \u0447\u0442\u043e \u043f\u0440\u043e\u0433\u0440\u0430\u043c\u043c\u0430 \u043d\u0435 \u0431\u0443\u0434\u0435\u0442 \u0432\u044b\u043f\u043e\u043b\u043d\u0435\u043d\u0430 \u0441\u0440\u0430\u0437\u0443 \u0436\u0435, \u043a\u0430\u043a \u0442\u043e\u043b\u044c\u043a\u043e \u043e\u043d\u0430 \u043f\u043e\u0441\u0442\u0443\u043f\u0438\u043b\u0430 \u043d\u0430 \u0442\u0435\u0440\u043c\u0438\u043d\u0430\u043b."
        },
        {
            "cell_type": "code",
            "execution_count": 292,
            "metadata": {
                "trusted": true
            },
            "outputs": [
                {
                    "data": {
                        "text/html": "<table class=\"dataframe\">\n<caption>A data.frame: 2222 \u00d7 9</caption>\n<thead>\n\t<tr><th scope=col>resource</th><th scope=col>time</th><th scope=col>server</th><th scope=col>queue</th><th scope=col>capacity</th><th scope=col>queue_size</th><th scope=col>system</th><th scope=col>limit</th><th scope=col>replication</th></tr>\n\t<tr><th scope=col>&lt;chr&gt;</th><th scope=col>&lt;dbl&gt;</th><th scope=col>&lt;int&gt;</th><th scope=col>&lt;int&gt;</th><th scope=col>&lt;dbl&gt;</th><th scope=col>&lt;dbl&gt;</th><th scope=col>&lt;int&gt;</th><th scope=col>&lt;dbl&gt;</th><th scope=col>&lt;int&gt;</th></tr>\n</thead>\n<tbody>\n\t<tr><td>server</td><td>  7.074665</td><td>1</td><td>0</td><td>5</td><td>6</td><td> 1</td><td>11</td><td>1</td></tr>\n\t<tr><td>server</td><td> 10.818545</td><td>2</td><td>0</td><td>5</td><td>6</td><td> 2</td><td>11</td><td>1</td></tr>\n\t<tr><td>server</td><td> 12.748086</td><td>3</td><td>0</td><td>5</td><td>6</td><td> 3</td><td>11</td><td>1</td></tr>\n\t<tr><td>server</td><td> 13.705893</td><td>4</td><td>0</td><td>5</td><td>6</td><td> 4</td><td>11</td><td>1</td></tr>\n\t<tr><td>server</td><td> 17.441328</td><td>5</td><td>0</td><td>5</td><td>6</td><td> 5</td><td>11</td><td>1</td></tr>\n\t<tr><td>server</td><td> 17.879268</td><td>5</td><td>1</td><td>5</td><td>6</td><td> 6</td><td>11</td><td>1</td></tr>\n\t<tr><td>server</td><td> 20.928459</td><td>5</td><td>2</td><td>5</td><td>6</td><td> 7</td><td>11</td><td>1</td></tr>\n\t<tr><td>server</td><td> 22.757949</td><td>5</td><td>3</td><td>5</td><td>6</td><td> 8</td><td>11</td><td>1</td></tr>\n\t<tr><td>server</td><td> 24.259523</td><td>5</td><td>4</td><td>5</td><td>6</td><td> 9</td><td>11</td><td>1</td></tr>\n\t<tr><td>server</td><td> 26.985521</td><td>5</td><td>5</td><td>5</td><td>6</td><td>10</td><td>11</td><td>1</td></tr>\n\t<tr><td>server</td><td> 36.864386</td><td>5</td><td>6</td><td>5</td><td>6</td><td>11</td><td>11</td><td>1</td></tr>\n\t<tr><td>server</td><td> 52.074665</td><td>5</td><td>5</td><td>5</td><td>6</td><td>10</td><td>11</td><td>1</td></tr>\n\t<tr><td>server</td><td> 54.585201</td><td>5</td><td>6</td><td>5</td><td>6</td><td>11</td><td>11</td><td>1</td></tr>\n\t<tr><td>server</td><td> 55.818545</td><td>5</td><td>5</td><td>5</td><td>6</td><td>10</td><td>11</td><td>1</td></tr>\n\t<tr><td>server</td><td> 57.748086</td><td>5</td><td>4</td><td>5</td><td>6</td><td> 9</td><td>11</td><td>1</td></tr>\n\t<tr><td>server</td><td> 58.705893</td><td>5</td><td>3</td><td>5</td><td>6</td><td> 8</td><td>11</td><td>1</td></tr>\n\t<tr><td>server</td><td> 59.608678</td><td>5</td><td>4</td><td>5</td><td>6</td><td> 9</td><td>11</td><td>1</td></tr>\n\t<tr><td>server</td><td> 60.283691</td><td>5</td><td>5</td><td>5</td><td>6</td><td>10</td><td>11</td><td>1</td></tr>\n\t<tr><td>server</td><td> 62.441328</td><td>5</td><td>4</td><td>5</td><td>6</td><td> 9</td><td>11</td><td>1</td></tr>\n\t<tr><td>server</td><td> 63.906043</td><td>5</td><td>5</td><td>5</td><td>6</td><td>10</td><td>11</td><td>1</td></tr>\n\t<tr><td>server</td><td> 64.914542</td><td>5</td><td>6</td><td>5</td><td>6</td><td>11</td><td>11</td><td>1</td></tr>\n\t<tr><td>server</td><td> 97.074665</td><td>5</td><td>5</td><td>5</td><td>6</td><td>10</td><td>11</td><td>1</td></tr>\n\t<tr><td>server</td><td> 98.578831</td><td>5</td><td>6</td><td>5</td><td>6</td><td>11</td><td>11</td><td>1</td></tr>\n\t<tr><td>server</td><td>100.818545</td><td>5</td><td>5</td><td>5</td><td>6</td><td>10</td><td>11</td><td>1</td></tr>\n\t<tr><td>server</td><td>100.850781</td><td>5</td><td>6</td><td>5</td><td>6</td><td>11</td><td>11</td><td>1</td></tr>\n\t<tr><td>server</td><td>102.748086</td><td>5</td><td>5</td><td>5</td><td>6</td><td>10</td><td>11</td><td>1</td></tr>\n\t<tr><td>server</td><td>103.705893</td><td>5</td><td>4</td><td>5</td><td>6</td><td> 9</td><td>11</td><td>1</td></tr>\n\t<tr><td>server</td><td>106.354749</td><td>5</td><td>5</td><td>5</td><td>6</td><td>10</td><td>11</td><td>1</td></tr>\n\t<tr><td>server</td><td>107.195441</td><td>5</td><td>6</td><td>5</td><td>6</td><td>11</td><td>11</td><td>1</td></tr>\n\t<tr><td>server</td><td>107.441328</td><td>5</td><td>5</td><td>5</td><td>6</td><td>10</td><td>11</td><td>1</td></tr>\n\t<tr><td>\u22ee</td><td>\u22ee</td><td>\u22ee</td><td>\u22ee</td><td>\u22ee</td><td>\u22ee</td><td>\u22ee</td><td>\u22ee</td><td>\u22ee</td></tr>\n\t<tr><td>server</td><td>9863.241</td><td>5</td><td>6</td><td>5</td><td>6</td><td>11</td><td>11</td><td>1</td></tr>\n\t<tr><td>server</td><td>9865.819</td><td>5</td><td>5</td><td>5</td><td>6</td><td>10</td><td>11</td><td>1</td></tr>\n\t<tr><td>server</td><td>9866.530</td><td>5</td><td>6</td><td>5</td><td>6</td><td>11</td><td>11</td><td>1</td></tr>\n\t<tr><td>server</td><td>9867.748</td><td>5</td><td>5</td><td>5</td><td>6</td><td>10</td><td>11</td><td>1</td></tr>\n\t<tr><td>server</td><td>9868.706</td><td>5</td><td>4</td><td>5</td><td>6</td><td> 9</td><td>11</td><td>1</td></tr>\n\t<tr><td>server</td><td>9872.371</td><td>5</td><td>5</td><td>5</td><td>6</td><td>10</td><td>11</td><td>1</td></tr>\n\t<tr><td>server</td><td>9872.441</td><td>5</td><td>4</td><td>5</td><td>6</td><td> 9</td><td>11</td><td>1</td></tr>\n\t<tr><td>server</td><td>9890.401</td><td>5</td><td>5</td><td>5</td><td>6</td><td>10</td><td>11</td><td>1</td></tr>\n\t<tr><td>server</td><td>9893.614</td><td>5</td><td>6</td><td>5</td><td>6</td><td>11</td><td>11</td><td>1</td></tr>\n\t<tr><td>server</td><td>9907.075</td><td>5</td><td>5</td><td>5</td><td>6</td><td>10</td><td>11</td><td>1</td></tr>\n\t<tr><td>server</td><td>9910.503</td><td>5</td><td>6</td><td>5</td><td>6</td><td>11</td><td>11</td><td>1</td></tr>\n\t<tr><td>server</td><td>9910.819</td><td>5</td><td>5</td><td>5</td><td>6</td><td>10</td><td>11</td><td>1</td></tr>\n\t<tr><td>server</td><td>9911.963</td><td>5</td><td>6</td><td>5</td><td>6</td><td>11</td><td>11</td><td>1</td></tr>\n\t<tr><td>server</td><td>9912.748</td><td>5</td><td>5</td><td>5</td><td>6</td><td>10</td><td>11</td><td>1</td></tr>\n\t<tr><td>server</td><td>9913.706</td><td>5</td><td>4</td><td>5</td><td>6</td><td> 9</td><td>11</td><td>1</td></tr>\n\t<tr><td>server</td><td>9917.441</td><td>5</td><td>3</td><td>5</td><td>6</td><td> 8</td><td>11</td><td>1</td></tr>\n\t<tr><td>server</td><td>9927.127</td><td>5</td><td>4</td><td>5</td><td>6</td><td> 9</td><td>11</td><td>1</td></tr>\n\t<tr><td>server</td><td>9927.326</td><td>5</td><td>5</td><td>5</td><td>6</td><td>10</td><td>11</td><td>1</td></tr>\n\t<tr><td>server</td><td>9927.354</td><td>5</td><td>6</td><td>5</td><td>6</td><td>11</td><td>11</td><td>1</td></tr>\n\t<tr><td>server</td><td>9952.075</td><td>5</td><td>5</td><td>5</td><td>6</td><td>10</td><td>11</td><td>1</td></tr>\n\t<tr><td>server</td><td>9954.665</td><td>5</td><td>6</td><td>5</td><td>6</td><td>11</td><td>11</td><td>1</td></tr>\n\t<tr><td>server</td><td>9955.819</td><td>5</td><td>5</td><td>5</td><td>6</td><td>10</td><td>11</td><td>1</td></tr>\n\t<tr><td>server</td><td>9957.748</td><td>5</td><td>4</td><td>5</td><td>6</td><td> 9</td><td>11</td><td>1</td></tr>\n\t<tr><td>server</td><td>9958.706</td><td>5</td><td>3</td><td>5</td><td>6</td><td> 8</td><td>11</td><td>1</td></tr>\n\t<tr><td>server</td><td>9959.132</td><td>5</td><td>4</td><td>5</td><td>6</td><td> 9</td><td>11</td><td>1</td></tr>\n\t<tr><td>server</td><td>9959.205</td><td>5</td><td>5</td><td>5</td><td>6</td><td>10</td><td>11</td><td>1</td></tr>\n\t<tr><td>server</td><td>9962.441</td><td>5</td><td>4</td><td>5</td><td>6</td><td> 9</td><td>11</td><td>1</td></tr>\n\t<tr><td>server</td><td>9965.899</td><td>5</td><td>5</td><td>5</td><td>6</td><td>10</td><td>11</td><td>1</td></tr>\n\t<tr><td>server</td><td>9968.398</td><td>5</td><td>6</td><td>5</td><td>6</td><td>11</td><td>11</td><td>1</td></tr>\n\t<tr><td>server</td><td>9997.075</td><td>5</td><td>5</td><td>5</td><td>6</td><td>10</td><td>11</td><td>1</td></tr>\n</tbody>\n</table>\n",
                        "text/latex": "A data.frame: 2222 \u00d7 9\n\\begin{tabular}{lllllllll}\n resource & time & server & queue & capacity & queue\\_size & system & limit & replication\\\\\n <chr> & <dbl> & <int> & <int> & <dbl> & <dbl> & <int> & <dbl> & <int>\\\\\n\\hline\n\t server &   7.074665 & 1 & 0 & 5 & 6 &  1 & 11 & 1\\\\\n\t server &  10.818545 & 2 & 0 & 5 & 6 &  2 & 11 & 1\\\\\n\t server &  12.748086 & 3 & 0 & 5 & 6 &  3 & 11 & 1\\\\\n\t server &  13.705893 & 4 & 0 & 5 & 6 &  4 & 11 & 1\\\\\n\t server &  17.441328 & 5 & 0 & 5 & 6 &  5 & 11 & 1\\\\\n\t server &  17.879268 & 5 & 1 & 5 & 6 &  6 & 11 & 1\\\\\n\t server &  20.928459 & 5 & 2 & 5 & 6 &  7 & 11 & 1\\\\\n\t server &  22.757949 & 5 & 3 & 5 & 6 &  8 & 11 & 1\\\\\n\t server &  24.259523 & 5 & 4 & 5 & 6 &  9 & 11 & 1\\\\\n\t server &  26.985521 & 5 & 5 & 5 & 6 & 10 & 11 & 1\\\\\n\t server &  36.864386 & 5 & 6 & 5 & 6 & 11 & 11 & 1\\\\\n\t server &  52.074665 & 5 & 5 & 5 & 6 & 10 & 11 & 1\\\\\n\t server &  54.585201 & 5 & 6 & 5 & 6 & 11 & 11 & 1\\\\\n\t server &  55.818545 & 5 & 5 & 5 & 6 & 10 & 11 & 1\\\\\n\t server &  57.748086 & 5 & 4 & 5 & 6 &  9 & 11 & 1\\\\\n\t server &  58.705893 & 5 & 3 & 5 & 6 &  8 & 11 & 1\\\\\n\t server &  59.608678 & 5 & 4 & 5 & 6 &  9 & 11 & 1\\\\\n\t server &  60.283691 & 5 & 5 & 5 & 6 & 10 & 11 & 1\\\\\n\t server &  62.441328 & 5 & 4 & 5 & 6 &  9 & 11 & 1\\\\\n\t server &  63.906043 & 5 & 5 & 5 & 6 & 10 & 11 & 1\\\\\n\t server &  64.914542 & 5 & 6 & 5 & 6 & 11 & 11 & 1\\\\\n\t server &  97.074665 & 5 & 5 & 5 & 6 & 10 & 11 & 1\\\\\n\t server &  98.578831 & 5 & 6 & 5 & 6 & 11 & 11 & 1\\\\\n\t server & 100.818545 & 5 & 5 & 5 & 6 & 10 & 11 & 1\\\\\n\t server & 100.850781 & 5 & 6 & 5 & 6 & 11 & 11 & 1\\\\\n\t server & 102.748086 & 5 & 5 & 5 & 6 & 10 & 11 & 1\\\\\n\t server & 103.705893 & 5 & 4 & 5 & 6 &  9 & 11 & 1\\\\\n\t server & 106.354749 & 5 & 5 & 5 & 6 & 10 & 11 & 1\\\\\n\t server & 107.195441 & 5 & 6 & 5 & 6 & 11 & 11 & 1\\\\\n\t server & 107.441328 & 5 & 5 & 5 & 6 & 10 & 11 & 1\\\\\n\t \u22ee & \u22ee & \u22ee & \u22ee & \u22ee & \u22ee & \u22ee & \u22ee & \u22ee\\\\\n\t server & 9863.241 & 5 & 6 & 5 & 6 & 11 & 11 & 1\\\\\n\t server & 9865.819 & 5 & 5 & 5 & 6 & 10 & 11 & 1\\\\\n\t server & 9866.530 & 5 & 6 & 5 & 6 & 11 & 11 & 1\\\\\n\t server & 9867.748 & 5 & 5 & 5 & 6 & 10 & 11 & 1\\\\\n\t server & 9868.706 & 5 & 4 & 5 & 6 &  9 & 11 & 1\\\\\n\t server & 9872.371 & 5 & 5 & 5 & 6 & 10 & 11 & 1\\\\\n\t server & 9872.441 & 5 & 4 & 5 & 6 &  9 & 11 & 1\\\\\n\t server & 9890.401 & 5 & 5 & 5 & 6 & 10 & 11 & 1\\\\\n\t server & 9893.614 & 5 & 6 & 5 & 6 & 11 & 11 & 1\\\\\n\t server & 9907.075 & 5 & 5 & 5 & 6 & 10 & 11 & 1\\\\\n\t server & 9910.503 & 5 & 6 & 5 & 6 & 11 & 11 & 1\\\\\n\t server & 9910.819 & 5 & 5 & 5 & 6 & 10 & 11 & 1\\\\\n\t server & 9911.963 & 5 & 6 & 5 & 6 & 11 & 11 & 1\\\\\n\t server & 9912.748 & 5 & 5 & 5 & 6 & 10 & 11 & 1\\\\\n\t server & 9913.706 & 5 & 4 & 5 & 6 &  9 & 11 & 1\\\\\n\t server & 9917.441 & 5 & 3 & 5 & 6 &  8 & 11 & 1\\\\\n\t server & 9927.127 & 5 & 4 & 5 & 6 &  9 & 11 & 1\\\\\n\t server & 9927.326 & 5 & 5 & 5 & 6 & 10 & 11 & 1\\\\\n\t server & 9927.354 & 5 & 6 & 5 & 6 & 11 & 11 & 1\\\\\n\t server & 9952.075 & 5 & 5 & 5 & 6 & 10 & 11 & 1\\\\\n\t server & 9954.665 & 5 & 6 & 5 & 6 & 11 & 11 & 1\\\\\n\t server & 9955.819 & 5 & 5 & 5 & 6 & 10 & 11 & 1\\\\\n\t server & 9957.748 & 5 & 4 & 5 & 6 &  9 & 11 & 1\\\\\n\t server & 9958.706 & 5 & 3 & 5 & 6 &  8 & 11 & 1\\\\\n\t server & 9959.132 & 5 & 4 & 5 & 6 &  9 & 11 & 1\\\\\n\t server & 9959.205 & 5 & 5 & 5 & 6 & 10 & 11 & 1\\\\\n\t server & 9962.441 & 5 & 4 & 5 & 6 &  9 & 11 & 1\\\\\n\t server & 9965.899 & 5 & 5 & 5 & 6 & 10 & 11 & 1\\\\\n\t server & 9968.398 & 5 & 6 & 5 & 6 & 11 & 11 & 1\\\\\n\t server & 9997.075 & 5 & 5 & 5 & 6 & 10 & 11 & 1\\\\\n\\end{tabular}\n",
                        "text/markdown": "\nA data.frame: 2222 \u00d7 9\n\n| resource &lt;chr&gt; | time &lt;dbl&gt; | server &lt;int&gt; | queue &lt;int&gt; | capacity &lt;dbl&gt; | queue_size &lt;dbl&gt; | system &lt;int&gt; | limit &lt;dbl&gt; | replication &lt;int&gt; |\n|---|---|---|---|---|---|---|---|---|\n| server |   7.074665 | 1 | 0 | 5 | 6 |  1 | 11 | 1 |\n| server |  10.818545 | 2 | 0 | 5 | 6 |  2 | 11 | 1 |\n| server |  12.748086 | 3 | 0 | 5 | 6 |  3 | 11 | 1 |\n| server |  13.705893 | 4 | 0 | 5 | 6 |  4 | 11 | 1 |\n| server |  17.441328 | 5 | 0 | 5 | 6 |  5 | 11 | 1 |\n| server |  17.879268 | 5 | 1 | 5 | 6 |  6 | 11 | 1 |\n| server |  20.928459 | 5 | 2 | 5 | 6 |  7 | 11 | 1 |\n| server |  22.757949 | 5 | 3 | 5 | 6 |  8 | 11 | 1 |\n| server |  24.259523 | 5 | 4 | 5 | 6 |  9 | 11 | 1 |\n| server |  26.985521 | 5 | 5 | 5 | 6 | 10 | 11 | 1 |\n| server |  36.864386 | 5 | 6 | 5 | 6 | 11 | 11 | 1 |\n| server |  52.074665 | 5 | 5 | 5 | 6 | 10 | 11 | 1 |\n| server |  54.585201 | 5 | 6 | 5 | 6 | 11 | 11 | 1 |\n| server |  55.818545 | 5 | 5 | 5 | 6 | 10 | 11 | 1 |\n| server |  57.748086 | 5 | 4 | 5 | 6 |  9 | 11 | 1 |\n| server |  58.705893 | 5 | 3 | 5 | 6 |  8 | 11 | 1 |\n| server |  59.608678 | 5 | 4 | 5 | 6 |  9 | 11 | 1 |\n| server |  60.283691 | 5 | 5 | 5 | 6 | 10 | 11 | 1 |\n| server |  62.441328 | 5 | 4 | 5 | 6 |  9 | 11 | 1 |\n| server |  63.906043 | 5 | 5 | 5 | 6 | 10 | 11 | 1 |\n| server |  64.914542 | 5 | 6 | 5 | 6 | 11 | 11 | 1 |\n| server |  97.074665 | 5 | 5 | 5 | 6 | 10 | 11 | 1 |\n| server |  98.578831 | 5 | 6 | 5 | 6 | 11 | 11 | 1 |\n| server | 100.818545 | 5 | 5 | 5 | 6 | 10 | 11 | 1 |\n| server | 100.850781 | 5 | 6 | 5 | 6 | 11 | 11 | 1 |\n| server | 102.748086 | 5 | 5 | 5 | 6 | 10 | 11 | 1 |\n| server | 103.705893 | 5 | 4 | 5 | 6 |  9 | 11 | 1 |\n| server | 106.354749 | 5 | 5 | 5 | 6 | 10 | 11 | 1 |\n| server | 107.195441 | 5 | 6 | 5 | 6 | 11 | 11 | 1 |\n| server | 107.441328 | 5 | 5 | 5 | 6 | 10 | 11 | 1 |\n| \u22ee | \u22ee | \u22ee | \u22ee | \u22ee | \u22ee | \u22ee | \u22ee | \u22ee |\n| server | 9863.241 | 5 | 6 | 5 | 6 | 11 | 11 | 1 |\n| server | 9865.819 | 5 | 5 | 5 | 6 | 10 | 11 | 1 |\n| server | 9866.530 | 5 | 6 | 5 | 6 | 11 | 11 | 1 |\n| server | 9867.748 | 5 | 5 | 5 | 6 | 10 | 11 | 1 |\n| server | 9868.706 | 5 | 4 | 5 | 6 |  9 | 11 | 1 |\n| server | 9872.371 | 5 | 5 | 5 | 6 | 10 | 11 | 1 |\n| server | 9872.441 | 5 | 4 | 5 | 6 |  9 | 11 | 1 |\n| server | 9890.401 | 5 | 5 | 5 | 6 | 10 | 11 | 1 |\n| server | 9893.614 | 5 | 6 | 5 | 6 | 11 | 11 | 1 |\n| server | 9907.075 | 5 | 5 | 5 | 6 | 10 | 11 | 1 |\n| server | 9910.503 | 5 | 6 | 5 | 6 | 11 | 11 | 1 |\n| server | 9910.819 | 5 | 5 | 5 | 6 | 10 | 11 | 1 |\n| server | 9911.963 | 5 | 6 | 5 | 6 | 11 | 11 | 1 |\n| server | 9912.748 | 5 | 5 | 5 | 6 | 10 | 11 | 1 |\n| server | 9913.706 | 5 | 4 | 5 | 6 |  9 | 11 | 1 |\n| server | 9917.441 | 5 | 3 | 5 | 6 |  8 | 11 | 1 |\n| server | 9927.127 | 5 | 4 | 5 | 6 |  9 | 11 | 1 |\n| server | 9927.326 | 5 | 5 | 5 | 6 | 10 | 11 | 1 |\n| server | 9927.354 | 5 | 6 | 5 | 6 | 11 | 11 | 1 |\n| server | 9952.075 | 5 | 5 | 5 | 6 | 10 | 11 | 1 |\n| server | 9954.665 | 5 | 6 | 5 | 6 | 11 | 11 | 1 |\n| server | 9955.819 | 5 | 5 | 5 | 6 | 10 | 11 | 1 |\n| server | 9957.748 | 5 | 4 | 5 | 6 |  9 | 11 | 1 |\n| server | 9958.706 | 5 | 3 | 5 | 6 |  8 | 11 | 1 |\n| server | 9959.132 | 5 | 4 | 5 | 6 |  9 | 11 | 1 |\n| server | 9959.205 | 5 | 5 | 5 | 6 | 10 | 11 | 1 |\n| server | 9962.441 | 5 | 4 | 5 | 6 |  9 | 11 | 1 |\n| server | 9965.899 | 5 | 5 | 5 | 6 | 10 | 11 | 1 |\n| server | 9968.398 | 5 | 6 | 5 | 6 | 11 | 11 | 1 |\n| server | 9997.075 | 5 | 5 | 5 | 6 | 10 | 11 | 1 |\n\n",
                        "text/plain": "     resource time       server queue capacity queue_size system limit\n1    server     7.074665 1      0     5        6           1     11   \n2    server    10.818545 2      0     5        6           2     11   \n3    server    12.748086 3      0     5        6           3     11   \n4    server    13.705893 4      0     5        6           4     11   \n5    server    17.441328 5      0     5        6           5     11   \n6    server    17.879268 5      1     5        6           6     11   \n7    server    20.928459 5      2     5        6           7     11   \n8    server    22.757949 5      3     5        6           8     11   \n9    server    24.259523 5      4     5        6           9     11   \n10   server    26.985521 5      5     5        6          10     11   \n11   server    36.864386 5      6     5        6          11     11   \n12   server    52.074665 5      5     5        6          10     11   \n13   server    54.585201 5      6     5        6          11     11   \n14   server    55.818545 5      5     5        6          10     11   \n15   server    57.748086 5      4     5        6           9     11   \n16   server    58.705893 5      3     5        6           8     11   \n17   server    59.608678 5      4     5        6           9     11   \n18   server    60.283691 5      5     5        6          10     11   \n19   server    62.441328 5      4     5        6           9     11   \n20   server    63.906043 5      5     5        6          10     11   \n21   server    64.914542 5      6     5        6          11     11   \n22   server    97.074665 5      5     5        6          10     11   \n23   server    98.578831 5      6     5        6          11     11   \n24   server   100.818545 5      5     5        6          10     11   \n25   server   100.850781 5      6     5        6          11     11   \n26   server   102.748086 5      5     5        6          10     11   \n27   server   103.705893 5      4     5        6           9     11   \n28   server   106.354749 5      5     5        6          10     11   \n29   server   107.195441 5      6     5        6          11     11   \n30   server   107.441328 5      5     5        6          10     11   \n\u22ee    \u22ee        \u22ee          \u22ee      \u22ee     \u22ee        \u22ee          \u22ee      \u22ee    \n2193 server   9863.241   5      6     5        6          11     11   \n2194 server   9865.819   5      5     5        6          10     11   \n2195 server   9866.530   5      6     5        6          11     11   \n2196 server   9867.748   5      5     5        6          10     11   \n2197 server   9868.706   5      4     5        6           9     11   \n2198 server   9872.371   5      5     5        6          10     11   \n2199 server   9872.441   5      4     5        6           9     11   \n2200 server   9890.401   5      5     5        6          10     11   \n2201 server   9893.614   5      6     5        6          11     11   \n2202 server   9907.075   5      5     5        6          10     11   \n2203 server   9910.503   5      6     5        6          11     11   \n2204 server   9910.819   5      5     5        6          10     11   \n2205 server   9911.963   5      6     5        6          11     11   \n2206 server   9912.748   5      5     5        6          10     11   \n2207 server   9913.706   5      4     5        6           9     11   \n2208 server   9917.441   5      3     5        6           8     11   \n2209 server   9927.127   5      4     5        6           9     11   \n2210 server   9927.326   5      5     5        6          10     11   \n2211 server   9927.354   5      6     5        6          11     11   \n2212 server   9952.075   5      5     5        6          10     11   \n2213 server   9954.665   5      6     5        6          11     11   \n2214 server   9955.819   5      5     5        6          10     11   \n2215 server   9957.748   5      4     5        6           9     11   \n2216 server   9958.706   5      3     5        6           8     11   \n2217 server   9959.132   5      4     5        6           9     11   \n2218 server   9959.205   5      5     5        6          10     11   \n2219 server   9962.441   5      4     5        6           9     11   \n2220 server   9965.899   5      5     5        6          10     11   \n2221 server   9968.398   5      6     5        6          11     11   \n2222 server   9997.075   5      5     5        6          10     11   \n     replication\n1    1          \n2    1          \n3    1          \n4    1          \n5    1          \n6    1          \n7    1          \n8    1          \n9    1          \n10   1          \n11   1          \n12   1          \n13   1          \n14   1          \n15   1          \n16   1          \n17   1          \n18   1          \n19   1          \n20   1          \n21   1          \n22   1          \n23   1          \n24   1          \n25   1          \n26   1          \n27   1          \n28   1          \n29   1          \n30   1          \n\u22ee    \u22ee          \n2193 1          \n2194 1          \n2195 1          \n2196 1          \n2197 1          \n2198 1          \n2199 1          \n2200 1          \n2201 1          \n2202 1          \n2203 1          \n2204 1          \n2205 1          \n2206 1          \n2207 1          \n2208 1          \n2209 1          \n2210 1          \n2211 1          \n2212 1          \n2213 1          \n2214 1          \n2215 1          \n2216 1          \n2217 1          \n2218 1          \n2219 1          \n2220 1          \n2221 1          \n2222 1          "
                    },
                    "metadata": {},
                    "output_type": "display_data"
                }
            ],
            "source": "resources <- get_mon_resources(env)\nresources"
        },
        {
            "cell_type": "code",
            "execution_count": 368,
            "metadata": {
                "trusted": true
            },
            "outputs": [],
            "source": "probability <- resources %>% with(sum(server == m) / length(server)) / 2\nresults$probability[2] <- probability"
        },
        {
            "cell_type": "markdown",
            "metadata": {},
            "source": "#### 2. \u0421\u0440\u0435\u0434\u043d\u0435\u0435 \u0432\u0440\u0435\u043c\u044f \u0434\u043e \u043f\u043e\u043b\u0443\u0447\u0435\u043d\u0438\u044f \u043f\u043e\u043b\u044c\u0437\u043e\u0432\u0430\u0442\u0435\u043b\u0435\u043c \u0440\u0435\u0437\u0443\u043b\u044c\u0442\u0430\u0442\u043e\u0432 \u0440\u0435\u0430\u043b\u0438\u0437\u0430\u0446\u0438\u0438."
        },
        {
            "cell_type": "code",
            "execution_count": 369,
            "metadata": {
                "trusted": true
            },
            "outputs": [
                {
                    "data": {
                        "text/html": "<table class=\"dataframe\">\n<caption>A data.frame: 2465 \u00d7 6</caption>\n<thead>\n\t<tr><th scope=col>name</th><th scope=col>start_time</th><th scope=col>end_time</th><th scope=col>activity_time</th><th scope=col>finished</th><th scope=col>replication</th></tr>\n\t<tr><th scope=col>&lt;chr&gt;</th><th scope=col>&lt;dbl&gt;</th><th scope=col>&lt;dbl&gt;</th><th scope=col>&lt;dbl&gt;</th><th scope=col>&lt;lgl&gt;</th><th scope=col>&lt;int&gt;</th></tr>\n</thead>\n<tbody>\n\t<tr><td>programs0 </td><td> 11.18959</td><td> 28.86244</td><td>17.67285</td><td> TRUE</td><td>1</td></tr>\n\t<tr><td>programs12</td><td> 52.71184</td><td> 52.71184</td><td> 0.00000</td><td>FALSE</td><td>1</td></tr>\n\t<tr><td>programs13</td><td> 53.70097</td><td> 53.70097</td><td> 0.00000</td><td>FALSE</td><td>1</td></tr>\n\t<tr><td>programs14</td><td> 61.51837</td><td> 61.51837</td><td> 0.00000</td><td>FALSE</td><td>1</td></tr>\n\t<tr><td>programs15</td><td> 63.05941</td><td> 63.05941</td><td> 0.00000</td><td>FALSE</td><td>1</td></tr>\n\t<tr><td>programs16</td><td> 68.87075</td><td> 68.87075</td><td> 0.00000</td><td>FALSE</td><td>1</td></tr>\n\t<tr><td>programs1 </td><td> 21.15970</td><td> 71.38553</td><td>42.52309</td><td> TRUE</td><td>1</td></tr>\n\t<tr><td>programs18</td><td> 76.97138</td><td> 76.97138</td><td> 0.00000</td><td>FALSE</td><td>1</td></tr>\n\t<tr><td>programs19</td><td> 78.18275</td><td> 78.18275</td><td> 0.00000</td><td>FALSE</td><td>1</td></tr>\n\t<tr><td>programs2 </td><td> 22.03158</td><td> 85.78104</td><td>14.39551</td><td> TRUE</td><td>1</td></tr>\n\t<tr><td>programs21</td><td> 87.26746</td><td> 87.26746</td><td> 0.00000</td><td>FALSE</td><td>1</td></tr>\n\t<tr><td>programs22</td><td> 87.97488</td><td> 87.97488</td><td> 0.00000</td><td>FALSE</td><td>1</td></tr>\n\t<tr><td>programs23</td><td> 88.52955</td><td> 88.52955</td><td> 0.00000</td><td>FALSE</td><td>1</td></tr>\n\t<tr><td>programs24</td><td> 93.90172</td><td> 93.90172</td><td> 0.00000</td><td>FALSE</td><td>1</td></tr>\n\t<tr><td>programs25</td><td>100.40522</td><td>100.40522</td><td> 0.00000</td><td>FALSE</td><td>1</td></tr>\n\t<tr><td>programs26</td><td>103.50409</td><td>103.50409</td><td> 0.00000</td><td>FALSE</td><td>1</td></tr>\n\t<tr><td>programs3 </td><td> 22.06753</td><td>106.24199</td><td>20.46095</td><td> TRUE</td><td>1</td></tr>\n\t<tr><td>programs28</td><td>109.37218</td><td>109.37218</td><td> 0.00000</td><td>FALSE</td><td>1</td></tr>\n\t<tr><td>programs4 </td><td> 30.82348</td><td>117.43338</td><td>11.19139</td><td> TRUE</td><td>1</td></tr>\n\t<tr><td>programs30</td><td>125.62787</td><td>125.62787</td><td> 0.00000</td><td>FALSE</td><td>1</td></tr>\n\t<tr><td>programs31</td><td>128.40542</td><td>128.40542</td><td> 0.00000</td><td>FALSE</td><td>1</td></tr>\n\t<tr><td>programs32</td><td>129.59904</td><td>129.59904</td><td> 0.00000</td><td>FALSE</td><td>1</td></tr>\n\t<tr><td>programs33</td><td>134.91804</td><td>134.91804</td><td> 0.00000</td><td>FALSE</td><td>1</td></tr>\n\t<tr><td>programs5 </td><td> 34.96247</td><td>140.38481</td><td>22.95142</td><td> TRUE</td><td>1</td></tr>\n\t<tr><td>programs35</td><td>144.12671</td><td>144.12671</td><td> 0.00000</td><td>FALSE</td><td>1</td></tr>\n\t<tr><td>programs36</td><td>146.23249</td><td>146.23249</td><td> 0.00000</td><td>FALSE</td><td>1</td></tr>\n\t<tr><td>programs37</td><td>153.39813</td><td>153.39813</td><td> 0.00000</td><td>FALSE</td><td>1</td></tr>\n\t<tr><td>programs38</td><td>155.50394</td><td>155.50394</td><td> 0.00000</td><td>FALSE</td><td>1</td></tr>\n\t<tr><td>programs39</td><td>161.84490</td><td>161.84490</td><td> 0.00000</td><td>FALSE</td><td>1</td></tr>\n\t<tr><td>programs40</td><td>162.01619</td><td>162.01619</td><td> 0.00000</td><td>FALSE</td><td>1</td></tr>\n\t<tr><td>\u22ee</td><td>\u22ee</td><td>\u22ee</td><td>\u22ee</td><td>\u22ee</td><td>\u22ee</td></tr>\n\t<tr><td>programs2446</td><td>9870.402</td><td>9870.402</td><td> 0.00000</td><td>FALSE</td><td>1</td></tr>\n\t<tr><td>programs2447</td><td>9884.620</td><td>9884.620</td><td> 0.00000</td><td>FALSE</td><td>1</td></tr>\n\t<tr><td>programs2448</td><td>9892.498</td><td>9892.498</td><td> 0.00000</td><td>FALSE</td><td>1</td></tr>\n\t<tr><td>programs2449</td><td>9895.868</td><td>9895.868</td><td> 0.00000</td><td>FALSE</td><td>1</td></tr>\n\t<tr><td>programs2450</td><td>9896.409</td><td>9896.409</td><td> 0.00000</td><td>FALSE</td><td>1</td></tr>\n\t<tr><td>programs2451</td><td>9896.619</td><td>9896.619</td><td> 0.00000</td><td>FALSE</td><td>1</td></tr>\n\t<tr><td>programs2452</td><td>9901.876</td><td>9901.876</td><td> 0.00000</td><td>FALSE</td><td>1</td></tr>\n\t<tr><td>programs2453</td><td>9909.361</td><td>9909.361</td><td> 0.00000</td><td>FALSE</td><td>1</td></tr>\n\t<tr><td>programs2454</td><td>9912.378</td><td>9912.378</td><td> 0.00000</td><td>FALSE</td><td>1</td></tr>\n\t<tr><td>programs2364</td><td>9535.463</td><td>9913.068</td><td>72.96337</td><td> TRUE</td><td>1</td></tr>\n\t<tr><td>programs2456</td><td>9917.754</td><td>9917.754</td><td> 0.00000</td><td>FALSE</td><td>1</td></tr>\n\t<tr><td>programs2457</td><td>9919.805</td><td>9919.805</td><td> 0.00000</td><td>FALSE</td><td>1</td></tr>\n\t<tr><td>programs2458</td><td>9921.043</td><td>9921.043</td><td> 0.00000</td><td>FALSE</td><td>1</td></tr>\n\t<tr><td>programs2459</td><td>9924.003</td><td>9924.003</td><td> 0.00000</td><td>FALSE</td><td>1</td></tr>\n\t<tr><td>programs2460</td><td>9926.095</td><td>9926.095</td><td> 0.00000</td><td>FALSE</td><td>1</td></tr>\n\t<tr><td>programs2461</td><td>9933.528</td><td>9933.528</td><td> 0.00000</td><td>FALSE</td><td>1</td></tr>\n\t<tr><td>programs2462</td><td>9950.700</td><td>9950.700</td><td> 0.00000</td><td>FALSE</td><td>1</td></tr>\n\t<tr><td>programs2463</td><td>9952.214</td><td>9952.214</td><td> 0.00000</td><td>FALSE</td><td>1</td></tr>\n\t<tr><td>programs2464</td><td>9961.160</td><td>9961.160</td><td> 0.00000</td><td>FALSE</td><td>1</td></tr>\n\t<tr><td>programs2465</td><td>9967.464</td><td>9967.464</td><td> 0.00000</td><td>FALSE</td><td>1</td></tr>\n\t<tr><td>programs2466</td><td>9968.796</td><td>9968.796</td><td> 0.00000</td><td>FALSE</td><td>1</td></tr>\n\t<tr><td>programs2467</td><td>9970.198</td><td>9970.198</td><td> 0.00000</td><td>FALSE</td><td>1</td></tr>\n\t<tr><td>programs2468</td><td>9970.590</td><td>9970.590</td><td> 0.00000</td><td>FALSE</td><td>1</td></tr>\n\t<tr><td>programs2469</td><td>9970.974</td><td>9970.974</td><td> 0.00000</td><td>FALSE</td><td>1</td></tr>\n\t<tr><td>programs2470</td><td>9972.361</td><td>9972.361</td><td> 0.00000</td><td>FALSE</td><td>1</td></tr>\n\t<tr><td>programs2471</td><td>9973.924</td><td>9973.924</td><td> 0.00000</td><td>FALSE</td><td>1</td></tr>\n\t<tr><td>programs2472</td><td>9977.327</td><td>9977.327</td><td> 0.00000</td><td>FALSE</td><td>1</td></tr>\n\t<tr><td>programs2473</td><td>9986.032</td><td>9986.032</td><td> 0.00000</td><td>FALSE</td><td>1</td></tr>\n\t<tr><td>programs2474</td><td>9987.795</td><td>9987.795</td><td> 0.00000</td><td>FALSE</td><td>1</td></tr>\n\t<tr><td>programs2475</td><td>9999.695</td><td>9999.695</td><td> 0.00000</td><td>FALSE</td><td>1</td></tr>\n</tbody>\n</table>\n",
                        "text/latex": "A data.frame: 2465 \u00d7 6\n\\begin{tabular}{llllll}\n name & start\\_time & end\\_time & activity\\_time & finished & replication\\\\\n <chr> & <dbl> & <dbl> & <dbl> & <lgl> & <int>\\\\\n\\hline\n\t programs0  &  11.18959 &  28.86244 & 17.67285 &  TRUE & 1\\\\\n\t programs12 &  52.71184 &  52.71184 &  0.00000 & FALSE & 1\\\\\n\t programs13 &  53.70097 &  53.70097 &  0.00000 & FALSE & 1\\\\\n\t programs14 &  61.51837 &  61.51837 &  0.00000 & FALSE & 1\\\\\n\t programs15 &  63.05941 &  63.05941 &  0.00000 & FALSE & 1\\\\\n\t programs16 &  68.87075 &  68.87075 &  0.00000 & FALSE & 1\\\\\n\t programs1  &  21.15970 &  71.38553 & 42.52309 &  TRUE & 1\\\\\n\t programs18 &  76.97138 &  76.97138 &  0.00000 & FALSE & 1\\\\\n\t programs19 &  78.18275 &  78.18275 &  0.00000 & FALSE & 1\\\\\n\t programs2  &  22.03158 &  85.78104 & 14.39551 &  TRUE & 1\\\\\n\t programs21 &  87.26746 &  87.26746 &  0.00000 & FALSE & 1\\\\\n\t programs22 &  87.97488 &  87.97488 &  0.00000 & FALSE & 1\\\\\n\t programs23 &  88.52955 &  88.52955 &  0.00000 & FALSE & 1\\\\\n\t programs24 &  93.90172 &  93.90172 &  0.00000 & FALSE & 1\\\\\n\t programs25 & 100.40522 & 100.40522 &  0.00000 & FALSE & 1\\\\\n\t programs26 & 103.50409 & 103.50409 &  0.00000 & FALSE & 1\\\\\n\t programs3  &  22.06753 & 106.24199 & 20.46095 &  TRUE & 1\\\\\n\t programs28 & 109.37218 & 109.37218 &  0.00000 & FALSE & 1\\\\\n\t programs4  &  30.82348 & 117.43338 & 11.19139 &  TRUE & 1\\\\\n\t programs30 & 125.62787 & 125.62787 &  0.00000 & FALSE & 1\\\\\n\t programs31 & 128.40542 & 128.40542 &  0.00000 & FALSE & 1\\\\\n\t programs32 & 129.59904 & 129.59904 &  0.00000 & FALSE & 1\\\\\n\t programs33 & 134.91804 & 134.91804 &  0.00000 & FALSE & 1\\\\\n\t programs5  &  34.96247 & 140.38481 & 22.95142 &  TRUE & 1\\\\\n\t programs35 & 144.12671 & 144.12671 &  0.00000 & FALSE & 1\\\\\n\t programs36 & 146.23249 & 146.23249 &  0.00000 & FALSE & 1\\\\\n\t programs37 & 153.39813 & 153.39813 &  0.00000 & FALSE & 1\\\\\n\t programs38 & 155.50394 & 155.50394 &  0.00000 & FALSE & 1\\\\\n\t programs39 & 161.84490 & 161.84490 &  0.00000 & FALSE & 1\\\\\n\t programs40 & 162.01619 & 162.01619 &  0.00000 & FALSE & 1\\\\\n\t \u22ee & \u22ee & \u22ee & \u22ee & \u22ee & \u22ee\\\\\n\t programs2446 & 9870.402 & 9870.402 &  0.00000 & FALSE & 1\\\\\n\t programs2447 & 9884.620 & 9884.620 &  0.00000 & FALSE & 1\\\\\n\t programs2448 & 9892.498 & 9892.498 &  0.00000 & FALSE & 1\\\\\n\t programs2449 & 9895.868 & 9895.868 &  0.00000 & FALSE & 1\\\\\n\t programs2450 & 9896.409 & 9896.409 &  0.00000 & FALSE & 1\\\\\n\t programs2451 & 9896.619 & 9896.619 &  0.00000 & FALSE & 1\\\\\n\t programs2452 & 9901.876 & 9901.876 &  0.00000 & FALSE & 1\\\\\n\t programs2453 & 9909.361 & 9909.361 &  0.00000 & FALSE & 1\\\\\n\t programs2454 & 9912.378 & 9912.378 &  0.00000 & FALSE & 1\\\\\n\t programs2364 & 9535.463 & 9913.068 & 72.96337 &  TRUE & 1\\\\\n\t programs2456 & 9917.754 & 9917.754 &  0.00000 & FALSE & 1\\\\\n\t programs2457 & 9919.805 & 9919.805 &  0.00000 & FALSE & 1\\\\\n\t programs2458 & 9921.043 & 9921.043 &  0.00000 & FALSE & 1\\\\\n\t programs2459 & 9924.003 & 9924.003 &  0.00000 & FALSE & 1\\\\\n\t programs2460 & 9926.095 & 9926.095 &  0.00000 & FALSE & 1\\\\\n\t programs2461 & 9933.528 & 9933.528 &  0.00000 & FALSE & 1\\\\\n\t programs2462 & 9950.700 & 9950.700 &  0.00000 & FALSE & 1\\\\\n\t programs2463 & 9952.214 & 9952.214 &  0.00000 & FALSE & 1\\\\\n\t programs2464 & 9961.160 & 9961.160 &  0.00000 & FALSE & 1\\\\\n\t programs2465 & 9967.464 & 9967.464 &  0.00000 & FALSE & 1\\\\\n\t programs2466 & 9968.796 & 9968.796 &  0.00000 & FALSE & 1\\\\\n\t programs2467 & 9970.198 & 9970.198 &  0.00000 & FALSE & 1\\\\\n\t programs2468 & 9970.590 & 9970.590 &  0.00000 & FALSE & 1\\\\\n\t programs2469 & 9970.974 & 9970.974 &  0.00000 & FALSE & 1\\\\\n\t programs2470 & 9972.361 & 9972.361 &  0.00000 & FALSE & 1\\\\\n\t programs2471 & 9973.924 & 9973.924 &  0.00000 & FALSE & 1\\\\\n\t programs2472 & 9977.327 & 9977.327 &  0.00000 & FALSE & 1\\\\\n\t programs2473 & 9986.032 & 9986.032 &  0.00000 & FALSE & 1\\\\\n\t programs2474 & 9987.795 & 9987.795 &  0.00000 & FALSE & 1\\\\\n\t programs2475 & 9999.695 & 9999.695 &  0.00000 & FALSE & 1\\\\\n\\end{tabular}\n",
                        "text/markdown": "\nA data.frame: 2465 \u00d7 6\n\n| name &lt;chr&gt; | start_time &lt;dbl&gt; | end_time &lt;dbl&gt; | activity_time &lt;dbl&gt; | finished &lt;lgl&gt; | replication &lt;int&gt; |\n|---|---|---|---|---|---|\n| programs0  |  11.18959 |  28.86244 | 17.67285 |  TRUE | 1 |\n| programs12 |  52.71184 |  52.71184 |  0.00000 | FALSE | 1 |\n| programs13 |  53.70097 |  53.70097 |  0.00000 | FALSE | 1 |\n| programs14 |  61.51837 |  61.51837 |  0.00000 | FALSE | 1 |\n| programs15 |  63.05941 |  63.05941 |  0.00000 | FALSE | 1 |\n| programs16 |  68.87075 |  68.87075 |  0.00000 | FALSE | 1 |\n| programs1  |  21.15970 |  71.38553 | 42.52309 |  TRUE | 1 |\n| programs18 |  76.97138 |  76.97138 |  0.00000 | FALSE | 1 |\n| programs19 |  78.18275 |  78.18275 |  0.00000 | FALSE | 1 |\n| programs2  |  22.03158 |  85.78104 | 14.39551 |  TRUE | 1 |\n| programs21 |  87.26746 |  87.26746 |  0.00000 | FALSE | 1 |\n| programs22 |  87.97488 |  87.97488 |  0.00000 | FALSE | 1 |\n| programs23 |  88.52955 |  88.52955 |  0.00000 | FALSE | 1 |\n| programs24 |  93.90172 |  93.90172 |  0.00000 | FALSE | 1 |\n| programs25 | 100.40522 | 100.40522 |  0.00000 | FALSE | 1 |\n| programs26 | 103.50409 | 103.50409 |  0.00000 | FALSE | 1 |\n| programs3  |  22.06753 | 106.24199 | 20.46095 |  TRUE | 1 |\n| programs28 | 109.37218 | 109.37218 |  0.00000 | FALSE | 1 |\n| programs4  |  30.82348 | 117.43338 | 11.19139 |  TRUE | 1 |\n| programs30 | 125.62787 | 125.62787 |  0.00000 | FALSE | 1 |\n| programs31 | 128.40542 | 128.40542 |  0.00000 | FALSE | 1 |\n| programs32 | 129.59904 | 129.59904 |  0.00000 | FALSE | 1 |\n| programs33 | 134.91804 | 134.91804 |  0.00000 | FALSE | 1 |\n| programs5  |  34.96247 | 140.38481 | 22.95142 |  TRUE | 1 |\n| programs35 | 144.12671 | 144.12671 |  0.00000 | FALSE | 1 |\n| programs36 | 146.23249 | 146.23249 |  0.00000 | FALSE | 1 |\n| programs37 | 153.39813 | 153.39813 |  0.00000 | FALSE | 1 |\n| programs38 | 155.50394 | 155.50394 |  0.00000 | FALSE | 1 |\n| programs39 | 161.84490 | 161.84490 |  0.00000 | FALSE | 1 |\n| programs40 | 162.01619 | 162.01619 |  0.00000 | FALSE | 1 |\n| \u22ee | \u22ee | \u22ee | \u22ee | \u22ee | \u22ee |\n| programs2446 | 9870.402 | 9870.402 |  0.00000 | FALSE | 1 |\n| programs2447 | 9884.620 | 9884.620 |  0.00000 | FALSE | 1 |\n| programs2448 | 9892.498 | 9892.498 |  0.00000 | FALSE | 1 |\n| programs2449 | 9895.868 | 9895.868 |  0.00000 | FALSE | 1 |\n| programs2450 | 9896.409 | 9896.409 |  0.00000 | FALSE | 1 |\n| programs2451 | 9896.619 | 9896.619 |  0.00000 | FALSE | 1 |\n| programs2452 | 9901.876 | 9901.876 |  0.00000 | FALSE | 1 |\n| programs2453 | 9909.361 | 9909.361 |  0.00000 | FALSE | 1 |\n| programs2454 | 9912.378 | 9912.378 |  0.00000 | FALSE | 1 |\n| programs2364 | 9535.463 | 9913.068 | 72.96337 |  TRUE | 1 |\n| programs2456 | 9917.754 | 9917.754 |  0.00000 | FALSE | 1 |\n| programs2457 | 9919.805 | 9919.805 |  0.00000 | FALSE | 1 |\n| programs2458 | 9921.043 | 9921.043 |  0.00000 | FALSE | 1 |\n| programs2459 | 9924.003 | 9924.003 |  0.00000 | FALSE | 1 |\n| programs2460 | 9926.095 | 9926.095 |  0.00000 | FALSE | 1 |\n| programs2461 | 9933.528 | 9933.528 |  0.00000 | FALSE | 1 |\n| programs2462 | 9950.700 | 9950.700 |  0.00000 | FALSE | 1 |\n| programs2463 | 9952.214 | 9952.214 |  0.00000 | FALSE | 1 |\n| programs2464 | 9961.160 | 9961.160 |  0.00000 | FALSE | 1 |\n| programs2465 | 9967.464 | 9967.464 |  0.00000 | FALSE | 1 |\n| programs2466 | 9968.796 | 9968.796 |  0.00000 | FALSE | 1 |\n| programs2467 | 9970.198 | 9970.198 |  0.00000 | FALSE | 1 |\n| programs2468 | 9970.590 | 9970.590 |  0.00000 | FALSE | 1 |\n| programs2469 | 9970.974 | 9970.974 |  0.00000 | FALSE | 1 |\n| programs2470 | 9972.361 | 9972.361 |  0.00000 | FALSE | 1 |\n| programs2471 | 9973.924 | 9973.924 |  0.00000 | FALSE | 1 |\n| programs2472 | 9977.327 | 9977.327 |  0.00000 | FALSE | 1 |\n| programs2473 | 9986.032 | 9986.032 |  0.00000 | FALSE | 1 |\n| programs2474 | 9987.795 | 9987.795 |  0.00000 | FALSE | 1 |\n| programs2475 | 9999.695 | 9999.695 |  0.00000 | FALSE | 1 |\n\n",
                        "text/plain": "     name         start_time end_time  activity_time finished replication\n1    programs0     11.18959   28.86244 17.67285       TRUE    1          \n2    programs12    52.71184   52.71184  0.00000      FALSE    1          \n3    programs13    53.70097   53.70097  0.00000      FALSE    1          \n4    programs14    61.51837   61.51837  0.00000      FALSE    1          \n5    programs15    63.05941   63.05941  0.00000      FALSE    1          \n6    programs16    68.87075   68.87075  0.00000      FALSE    1          \n7    programs1     21.15970   71.38553 42.52309       TRUE    1          \n8    programs18    76.97138   76.97138  0.00000      FALSE    1          \n9    programs19    78.18275   78.18275  0.00000      FALSE    1          \n10   programs2     22.03158   85.78104 14.39551       TRUE    1          \n11   programs21    87.26746   87.26746  0.00000      FALSE    1          \n12   programs22    87.97488   87.97488  0.00000      FALSE    1          \n13   programs23    88.52955   88.52955  0.00000      FALSE    1          \n14   programs24    93.90172   93.90172  0.00000      FALSE    1          \n15   programs25   100.40522  100.40522  0.00000      FALSE    1          \n16   programs26   103.50409  103.50409  0.00000      FALSE    1          \n17   programs3     22.06753  106.24199 20.46095       TRUE    1          \n18   programs28   109.37218  109.37218  0.00000      FALSE    1          \n19   programs4     30.82348  117.43338 11.19139       TRUE    1          \n20   programs30   125.62787  125.62787  0.00000      FALSE    1          \n21   programs31   128.40542  128.40542  0.00000      FALSE    1          \n22   programs32   129.59904  129.59904  0.00000      FALSE    1          \n23   programs33   134.91804  134.91804  0.00000      FALSE    1          \n24   programs5     34.96247  140.38481 22.95142       TRUE    1          \n25   programs35   144.12671  144.12671  0.00000      FALSE    1          \n26   programs36   146.23249  146.23249  0.00000      FALSE    1          \n27   programs37   153.39813  153.39813  0.00000      FALSE    1          \n28   programs38   155.50394  155.50394  0.00000      FALSE    1          \n29   programs39   161.84490  161.84490  0.00000      FALSE    1          \n30   programs40   162.01619  162.01619  0.00000      FALSE    1          \n\u22ee    \u22ee            \u22ee          \u22ee         \u22ee             \u22ee        \u22ee          \n2436 programs2446 9870.402   9870.402   0.00000      FALSE    1          \n2437 programs2447 9884.620   9884.620   0.00000      FALSE    1          \n2438 programs2448 9892.498   9892.498   0.00000      FALSE    1          \n2439 programs2449 9895.868   9895.868   0.00000      FALSE    1          \n2440 programs2450 9896.409   9896.409   0.00000      FALSE    1          \n2441 programs2451 9896.619   9896.619   0.00000      FALSE    1          \n2442 programs2452 9901.876   9901.876   0.00000      FALSE    1          \n2443 programs2453 9909.361   9909.361   0.00000      FALSE    1          \n2444 programs2454 9912.378   9912.378   0.00000      FALSE    1          \n2445 programs2364 9535.463   9913.068  72.96337       TRUE    1          \n2446 programs2456 9917.754   9917.754   0.00000      FALSE    1          \n2447 programs2457 9919.805   9919.805   0.00000      FALSE    1          \n2448 programs2458 9921.043   9921.043   0.00000      FALSE    1          \n2449 programs2459 9924.003   9924.003   0.00000      FALSE    1          \n2450 programs2460 9926.095   9926.095   0.00000      FALSE    1          \n2451 programs2461 9933.528   9933.528   0.00000      FALSE    1          \n2452 programs2462 9950.700   9950.700   0.00000      FALSE    1          \n2453 programs2463 9952.214   9952.214   0.00000      FALSE    1          \n2454 programs2464 9961.160   9961.160   0.00000      FALSE    1          \n2455 programs2465 9967.464   9967.464   0.00000      FALSE    1          \n2456 programs2466 9968.796   9968.796   0.00000      FALSE    1          \n2457 programs2467 9970.198   9970.198   0.00000      FALSE    1          \n2458 programs2468 9970.590   9970.590   0.00000      FALSE    1          \n2459 programs2469 9970.974   9970.974   0.00000      FALSE    1          \n2460 programs2470 9972.361   9972.361   0.00000      FALSE    1          \n2461 programs2471 9973.924   9973.924   0.00000      FALSE    1          \n2462 programs2472 9977.327   9977.327   0.00000      FALSE    1          \n2463 programs2473 9986.032   9986.032   0.00000      FALSE    1          \n2464 programs2474 9987.795   9987.795   0.00000      FALSE    1          \n2465 programs2475 9999.695   9999.695   0.00000      FALSE    1          "
                    },
                    "metadata": {},
                    "output_type": "display_data"
                }
            ],
            "source": "arrivals <- get_mon_arrivals(env)\narrivals"
        },
        {
            "cell_type": "code",
            "execution_count": 370,
            "metadata": {
                "trusted": true
            },
            "outputs": [],
            "source": "T <-arrivals %>% subset(finished) %>% with(mean(end_time - start_time))\nresults$T[2] <- T"
        },
        {
            "cell_type": "markdown",
            "metadata": {},
            "source": "#### 3. \u0421\u0440\u0435\u0434\u043d\u0435\u0435 \u043a\u043e\u043b\u0438\u0447\u0435\u0441\u0442\u0432\u043e \u043f\u0440\u043e\u0433\u0440\u0430\u043c\u043c, \u043e\u0436\u0438\u0434\u0430\u044e\u0449\u0438\u0445 \u0432\u044b\u043f\u043e\u043b\u043d\u0435\u043d\u0438\u044f \u043d\u0430 \u0441\u0435\u0440\u0432\u0435\u0440\u0435."
        },
        {
            "cell_type": "code",
            "execution_count": 371,
            "metadata": {
                "trusted": true
            },
            "outputs": [],
            "source": "Lqueue <- resources %>% with(mean(queue))\nresults$Lqueue[2] <- Lqueue"
        },
        {
            "cell_type": "code",
            "execution_count": 372,
            "metadata": {
                "trusted": true
            },
            "outputs": [
                {
                    "data": {
                        "text/html": "<table class=\"dataframe\">\n<caption>A data.frame: 2 \u00d7 3</caption>\n<thead>\n\t<tr><th></th><th scope=col>probability</th><th scope=col>T</th><th scope=col>Lqueue</th></tr>\n\t<tr><th></th><th scope=col>&lt;chr&gt;</th><th scope=col>&lt;chr&gt;</th><th scope=col>&lt;chr&gt;</th></tr>\n</thead>\n<tbody>\n\t<tr><th scope=row>theoretical</th><td>0.0808258656604589</td><td>1.27652615492436</td><td>0.114285714285714</td></tr>\n\t<tr><th scope=row>practical</th><td>0                 </td><td>484.169901066834</td><td>9.25173210161663 </td></tr>\n</tbody>\n</table>\n",
                        "text/latex": "A data.frame: 2 \u00d7 3\n\\begin{tabular}{r|lll}\n  & probability & T & Lqueue\\\\\n  & <chr> & <chr> & <chr>\\\\\n\\hline\n\ttheoretical & 0.0808258656604589 & 1.27652615492436 & 0.114285714285714\\\\\n\tpractical & 0                  & 484.169901066834 & 9.25173210161663 \\\\\n\\end{tabular}\n",
                        "text/markdown": "\nA data.frame: 2 \u00d7 3\n\n| <!--/--> | probability &lt;chr&gt; | T &lt;chr&gt; | Lqueue &lt;chr&gt; |\n|---|---|---|---|\n| theoretical | 0.0808258656604589 | 1.27652615492436 | 0.114285714285714 |\n| practical | 0                  | 484.169901066834 | 9.25173210161663  |\n\n",
                        "text/plain": "            probability        T                Lqueue           \ntheoretical 0.0808258656604589 1.27652615492436 0.114285714285714\npractical   0                  484.169901066834 9.25173210161663 "
                    },
                    "metadata": {},
                    "output_type": "display_data"
                }
            ],
            "source": "results"
        },
        {
            "cell_type": "markdown",
            "metadata": {},
            "source": "### \u0414\u043b\u044f $m = 1$\n\u0417\u0430\u0434\u0430\u0434\u0438\u043c \u0442\u0430\u0431\u043b\u0438\u0446\u0443 \u0440\u0435\u0437\u0443\u043b\u044c\u0442\u0430\u0442\u043e\u0432 \u0434\u043b\u044f $m = 1$."
        },
        {
            "cell_type": "code",
            "execution_count": 366,
            "metadata": {
                "trusted": true
            },
            "outputs": [
                {
                    "data": {
                        "text/html": "<table class=\"dataframe\">\n<caption>A data.frame: 2 \u00d7 3</caption>\n<thead>\n\t<tr><th></th><th scope=col>probability</th><th scope=col>T</th><th scope=col>Lqueue</th></tr>\n\t<tr><th></th><th scope=col>&lt;chr&gt;</th><th scope=col>&lt;chr&gt;</th><th scope=col>&lt;chr&gt;</th></tr>\n</thead>\n<tbody>\n\t<tr><th scope=row>theoretical</th><td>-</td><td>-</td><td>-</td></tr>\n\t<tr><th scope=row>practical</th><td>-</td><td>-</td><td>-</td></tr>\n</tbody>\n</table>\n",
                        "text/latex": "A data.frame: 2 \u00d7 3\n\\begin{tabular}{r|lll}\n  & probability & T & Lqueue\\\\\n  & <chr> & <chr> & <chr>\\\\\n\\hline\n\ttheoretical & - & - & -\\\\\n\tpractical & - & - & -\\\\\n\\end{tabular}\n",
                        "text/markdown": "\nA data.frame: 2 \u00d7 3\n\n| <!--/--> | probability &lt;chr&gt; | T &lt;chr&gt; | Lqueue &lt;chr&gt; |\n|---|---|---|---|\n| theoretical | - | - | - |\n| practical | - | - | - |\n\n",
                        "text/plain": "            probability T Lqueue\ntheoretical -           - -     \npractical   -           - -     "
                    },
                    "metadata": {},
                    "output_type": "display_data"
                }
            ],
            "source": "mm1.results <- data.frame(probability = c(\"-\", \"-\"), T = c(\"-\", \"-\"), Lqueue = c(\"-\", \"-\"))\nrow.names(mm1.results) <- c('theoretical', 'practical')\nmm1.results"
        },
        {
            "cell_type": "markdown",
            "metadata": {},
            "source": "### \u0422\u0435\u043e\u0440\u0435\u0442\u0438\u0447\u0435\u0441\u043a\u0438 \u0434\u043b\u044f $m = 1$"
        },
        {
            "cell_type": "markdown",
            "metadata": {},
            "source": "#### 1. \u0412\u0435\u0440\u043e\u044f\u0442\u043d\u043e\u0441\u0442\u044c \u0442\u043e\u0433\u043e, \u0447\u0442\u043e \u043f\u0440\u043e\u0433\u0440\u0430\u043c\u043c\u0430 \u043d\u0435 \u0431\u0443\u0434\u0435\u0442 \u0432\u044b\u043f\u043e\u043b\u043d\u0435\u043d\u0430 \u0441\u0440\u0430\u0437\u0443 \u0436\u0435, \u043a\u0430\u043a \u0442\u043e\u043b\u044c\u043a\u043e \u043e\u043d\u0430 \u043f\u043e\u0441\u0442\u0443\u043f\u0438\u043b\u0430 \u043d\u0430 \u0442\u0435\u0440\u043c\u0438\u043d\u0430\u043b.\n\n$$\n1 - P_0 = \\frac{\\lambda}{\\mu}\n$$"
        },
        {
            "cell_type": "code",
            "execution_count": 354,
            "metadata": {
                "trusted": true
            },
            "outputs": [
                {
                    "data": {
                        "text/html": "0.285714285714286",
                        "text/latex": "0.285714285714286",
                        "text/markdown": "0.285714285714286",
                        "text/plain": "[1] 0.2857143"
                    },
                    "metadata": {},
                    "output_type": "display_data"
                }
            ],
            "source": "mm1.probability <- lambda_1 / miu\nmm1.results$probability[1] <- mm1.probability\nmm1.probability"
        },
        {
            "cell_type": "markdown",
            "metadata": {},
            "source": "#### 2. \u0421\u0440\u0435\u0434\u043d\u0435\u0435 \u0432\u0440\u0435\u043c\u044f \u0434\u043e \u043f\u043e\u043b\u0443\u0447\u0435\u043d\u0438\u044f \u043f\u043e\u043b\u044c\u0437\u043e\u0432\u0430\u0442\u0435\u043b\u0435\u043c \u0440\u0435\u0437\u0443\u043b\u044c\u0442\u0430\u0442\u043e\u0432 \u0440\u0435\u0430\u043b\u0438\u0437\u0430\u0446\u0438\u0438.\n\u0412\u044b\u0447\u0438\u0441\u043b\u0438\u043c \u0441\u0440\u0435\u0434\u043d\u0435\u0435 \u0432\u0440\u0435\u043c\u044f \u0434\u043e \u043f\u043e\u043b\u0443\u0447\u0435\u043d\u0438\u044f \u043f\u043e\u043b\u044c\u0437\u043e\u0432\u0430\u0442\u0435\u043b\u0435\u043c \u0440\u0435\u0437\u0443\u043b\u044c\u0442\u0430\u0442\u043e\u0432 \u0440\u0435\u0430\u043b\u0438\u0437\u0430\u0446\u0438\u0438:\n\n$$\nT_{\\text{\u0441\u0438\u0441\u0442}} = \\frac{1}{\\mu(1 - \\rho)}\n$$"
        },
        {
            "cell_type": "code",
            "execution_count": 355,
            "metadata": {
                "trusted": true
            },
            "outputs": [
                {
                    "data": {
                        "text/html": "5.6",
                        "text/latex": "5.6",
                        "text/markdown": "5.6",
                        "text/plain": "[1] 5.6"
                    },
                    "metadata": {},
                    "output_type": "display_data"
                }
            ],
            "source": "mm1.T <- 1 / (miu * (1 - ro))\nmm1.results$T[1] <- mm1.T\nmm1.T"
        },
        {
            "cell_type": "markdown",
            "metadata": {},
            "source": "#### 3. \u0421\u0440\u0435\u0434\u043d\u0435\u0435 \u043a\u043e\u043b\u0438\u0447\u0435\u0441\u0442\u0432\u043e \u043f\u0440\u043e\u0433\u0440\u0430\u043c\u043c, \u043e\u0436\u0438\u0434\u0430\u044e\u0449\u0438\u0445 \u0432\u044b\u043f\u043e\u043b\u043d\u0435\u043d\u0438\u044f \u043d\u0430 \u0441\u0435\u0440\u0432\u0435\u0440\u0435.\n\u041e\u043d\u0430 \u0436\u0435 \u0441\u0440\u0435\u0434\u043d\u044f\u044f \u0434\u043b\u0438\u043d\u0430 \u043e\u0447\u0435\u0440\u0435\u0434\u0438:\n$$\nL_{\\text{\u043e\u0447}} = \\frac{\\rho^{2}}{1 - \\rho}\n$$"
        },
        {
            "cell_type": "code",
            "execution_count": 356,
            "metadata": {
                "trusted": true
            },
            "outputs": [
                {
                    "data": {
                        "text/html": "0.114285714285714",
                        "text/latex": "0.114285714285714",
                        "text/markdown": "0.114285714285714",
                        "text/plain": "[1] 0.1142857"
                    },
                    "metadata": {},
                    "output_type": "display_data"
                }
            ],
            "source": "mm1.Lqueue <- ro^2 / (1 - ro)\nmm1.results$Lqueue[1] <- mm1.Lqueue\nmm1.Lqueue"
        },
        {
            "cell_type": "code",
            "execution_count": 357,
            "metadata": {
                "trusted": true
            },
            "outputs": [
                {
                    "data": {
                        "text/html": "<table class=\"dataframe\">\n<caption>A data.frame: 2 \u00d7 3</caption>\n<thead>\n\t<tr><th></th><th scope=col>probability</th><th scope=col>T</th><th scope=col>Lqueue</th></tr>\n\t<tr><th></th><th scope=col>&lt;chr&gt;</th><th scope=col>&lt;chr&gt;</th><th scope=col>&lt;chr&gt;</th></tr>\n</thead>\n<tbody>\n\t<tr><th scope=row>theoretical</th><td>0.285714285714286</td><td>5.6             </td><td>0.114285714285714</td></tr>\n\t<tr><th scope=row>practical</th><td>0.297389012783001</td><td>5.56810237849018</td><td>0.110123789102398</td></tr>\n</tbody>\n</table>\n",
                        "text/latex": "A data.frame: 2 \u00d7 3\n\\begin{tabular}{r|lll}\n  & probability & T & Lqueue\\\\\n  & <chr> & <chr> & <chr>\\\\\n\\hline\n\ttheoretical & 0.285714285714286 & 5.6              & 0.114285714285714\\\\\n\tpractical & 0.297389012783001 & 5.56810237849018 & 0.110123789102398\\\\\n\\end{tabular}\n",
                        "text/markdown": "\nA data.frame: 2 \u00d7 3\n\n| <!--/--> | probability &lt;chr&gt; | T &lt;chr&gt; | Lqueue &lt;chr&gt; |\n|---|---|---|---|\n| theoretical | 0.285714285714286 | 5.6              | 0.114285714285714 |\n| practical | 0.297389012783001 | 5.56810237849018 | 0.110123789102398 |\n\n",
                        "text/plain": "            probability       T                Lqueue           \ntheoretical 0.285714285714286 5.6              0.114285714285714\npractical   0.297389012783001 5.56810237849018 0.110123789102398"
                    },
                    "metadata": {},
                    "output_type": "display_data"
                }
            ],
            "source": "mm1.results"
        },
        {
            "cell_type": "markdown",
            "metadata": {},
            "source": "\u041a\u0430\u043a \u0432\u0438\u0434\u043d\u043e, \u043e\u0447\u0435\u0440\u0435\u0434\u044c \u0441\u0438\u0441\u0442\u0435\u043c\u0430 \u0440\u0430\u0431\u043e\u0442\u0430\u0435\u0442 \u0434\u043e\u0441\u0442\u0430\u0442\u043e\u0447\u043d\u043e \u0431\u044b\u0441\u0442\u0440\u043e, \u0447\u0442\u043e\u0431\u044b \u043d\u0435 \u043d\u0430\u043a\u0430\u043f\u043b\u0438\u0432\u0430\u0442\u044c \u043e\u0447\u0435\u0440\u0435\u0434\u044c.\n\u042d\u0442\u043e \u043f\u043e\u0434\u0442\u0432\u0435\u0440\u0436\u0434\u0430\u0435\u0442\u0441\u044f \u0438 \u043f\u0440\u0438 \u0441\u0440\u0430\u0432\u043d\u0435\u043d\u0438\u0438 \u0438\u043d\u0442\u0435\u043d\u0441\u0438\u0432\u043d\u043e\u0441\u0442\u0435\u0439 \u043f\u043e\u0441\u0442\u0443\u043f\u043b\u0435\u043d\u0438\u044f / \u043e\u0431\u0440\u0430\u0431\u043e\u0442\u043a\u0438 \u043f\u0440\u043e\u0433\u0440\u0430\u043c\u043c."
        },
        {
            "cell_type": "markdown",
            "metadata": {},
            "source": "### \u0427\u0438\u0441\u043b\u0435\u043d\u043d\u043e \u0434\u043b\u044f $m = 1$"
        },
        {
            "cell_type": "code",
            "execution_count": 358,
            "metadata": {
                "trusted": true
            },
            "outputs": [
                {
                    "data": {
                        "text/plain": "simmer environment: SupaDupaSim | now: 10000 | next: 10000.1278464687\n{ Monitor: in memory }\n{ Resource: server | monitored: TRUE | server status: 1(1) | queue status: 10(10) }\n{ Source: programs | monitored: 1 | n_generated: 2477 }"
                    },
                    "metadata": {},
                    "output_type": "display_data"
                }
            ],
            "source": "if (!require(\"simmer\")) {\n    install.packages(\"simmer\")\n}\nlibrary(simmer)\n\nSIMULATION_TIME <- 10000\n\nenv <- simmer(\"SupaDupaSim\")\n\nprograms <- trajectory() %>%\n    seize(\"server\", 1) %>%\n    timeout(function() rexp(1, 1 / t1)) %>%\n    release(\"server\", 1)\n\nenv %>%\n    add_resource(\"server\", capacity = 1, queue_size = k - 1) %>%\n    add_generator(\n        \"programs\",\n        programs,\n        distribution = function() rexp(1, lambda_k)\n    ) %>%\n    run(until = SIMULATION_TIME)"
        },
        {
            "cell_type": "markdown",
            "metadata": {},
            "source": "#### 1. \u0412\u0435\u0440\u043e\u044f\u0442\u043d\u043e\u0441\u0442\u044c \u0442\u043e\u0433\u043e, \u0447\u0442\u043e \u043f\u0440\u043e\u0433\u0440\u0430\u043c\u043c\u0430 \u043d\u0435 \u0431\u0443\u0434\u0435\u0442 \u0432\u044b\u043f\u043e\u043b\u043d\u0435\u043d\u0430 \u0441\u0440\u0430\u0437\u0443 \u0436\u0435, \u043a\u0430\u043a \u0442\u043e\u043b\u044c\u043a\u043e \u043e\u043d\u0430 \u043f\u043e\u0441\u0442\u0443\u043f\u0438\u043b\u0430 \u043d\u0430 \u0442\u0435\u0440\u043c\u0438\u043d\u0430\u043b."
        },
        {
            "cell_type": "code",
            "execution_count": 359,
            "metadata": {
                "trusted": true
            },
            "outputs": [],
            "source": "mm1.resources <- get_mon_resources(env)"
        },
        {
            "cell_type": "code",
            "execution_count": 360,
            "metadata": {
                "trusted": true
            },
            "outputs": [],
            "source": "mm1.probability <- mm1.resources %>% with(sum(server == 1) / length(server))\nmm1.results$probability[2] <- mm1.probability"
        },
        {
            "cell_type": "markdown",
            "metadata": {},
            "source": "#### 2. \u0421\u0440\u0435\u0434\u043d\u0435\u0435 \u0432\u0440\u0435\u043c\u044f \u0434\u043e \u043f\u043e\u043b\u0443\u0447\u0435\u043d\u0438\u044f \u043f\u043e\u043b\u044c\u0437\u043e\u0432\u0430\u0442\u0435\u043b\u0435\u043c \u0440\u0435\u0437\u0443\u043b\u044c\u0442\u0430\u0442\u043e\u0432 \u0440\u0435\u0430\u043b\u0438\u0437\u0430\u0446\u0438\u0438."
        },
        {
            "cell_type": "code",
            "execution_count": 361,
            "metadata": {
                "trusted": true
            },
            "outputs": [],
            "source": "mm1.arrivals <- get_mon_arrivals(env)"
        },
        {
            "cell_type": "code",
            "execution_count": 362,
            "metadata": {
                "trusted": true
            },
            "outputs": [],
            "source": "mm1.T <- mm1.arrivals %>% subset(finished) %>% with(mean(end_time - start_time))\nmm1.results$T[2] <- T"
        },
        {
            "cell_type": "markdown",
            "metadata": {},
            "source": "#### 3. \u0421\u0440\u0435\u0434\u043d\u0435\u0435 \u043a\u043e\u043b\u0438\u0447\u0435\u0441\u0442\u0432\u043e \u043f\u0440\u043e\u0433\u0440\u0430\u043c\u043c, \u043e\u0436\u0438\u0434\u0430\u044e\u0449\u0438\u0445 \u0432\u044b\u043f\u043e\u043b\u043d\u0435\u043d\u0438\u044f \u043d\u0430 \u0441\u0435\u0440\u0432\u0435\u0440\u0435."
        },
        {
            "cell_type": "code",
            "execution_count": 363,
            "metadata": {
                "trusted": true
            },
            "outputs": [],
            "source": "mm1.Lqueue <- mm1.resources %>% with(mean(queue))\nmm1.results$Lqueue[2] <- mm1.Lqueue"
        },
        {
            "cell_type": "code",
            "execution_count": 365,
            "metadata": {
                "trusted": true
            },
            "outputs": [
                {
                    "data": {
                        "text/html": "<table class=\"dataframe\">\n<caption>A data.frame: 2 \u00d7 3</caption>\n<thead>\n\t<tr><th></th><th scope=col>probability</th><th scope=col>T</th><th scope=col>Lqueue</th></tr>\n\t<tr><th></th><th scope=col>&lt;chr&gt;</th><th scope=col>&lt;chr&gt;</th><th scope=col>&lt;chr&gt;</th></tr>\n</thead>\n<tbody>\n\t<tr><th scope=row>theoretical</th><td>0.285714285714286</td><td>5.6             </td><td>0.114285714285714</td></tr>\n\t<tr><th scope=row>practical</th><td>0.297389012783001</td><td>5.56810237849018</td><td>0.110123789102398</td></tr>\n</tbody>\n</table>\n",
                        "text/latex": "A data.frame: 2 \u00d7 3\n\\begin{tabular}{r|lll}\n  & probability & T & Lqueue\\\\\n  & <chr> & <chr> & <chr>\\\\\n\\hline\n\ttheoretical & 0.285714285714286 & 5.6              & 0.114285714285714\\\\\n\tpractical & 0.297389012783001 & 5.56810237849018 & 0.110123789102398\\\\\n\\end{tabular}\n",
                        "text/markdown": "\nA data.frame: 2 \u00d7 3\n\n| <!--/--> | probability &lt;chr&gt; | T &lt;chr&gt; | Lqueue &lt;chr&gt; |\n|---|---|---|---|\n| theoretical | 0.285714285714286 | 5.6              | 0.114285714285714 |\n| practical | 0.297389012783001 | 5.56810237849018 | 0.110123789102398 |\n\n",
                        "text/plain": "            probability       T                Lqueue           \ntheoretical 0.285714285714286 5.6              0.114285714285714\npractical   0.297389012783001 5.56810237849018 0.110123789102398"
                    },
                    "metadata": {},
                    "output_type": "display_data"
                }
            ],
            "source": "mm1.results"
        }
    ],
    "metadata": {
        "kernelspec": {
            "display_name": "R",
            "language": "R",
            "name": "ir"
        },
        "language_info": {
            "codemirror_mode": "r",
            "file_extension": ".r",
            "mimetype": "text/x-r-source",
            "name": "R",
            "pygments_lexer": "r",
            "version": "4.2.3"
        }
    },
    "nbformat": 4,
    "nbformat_minor": 5
}