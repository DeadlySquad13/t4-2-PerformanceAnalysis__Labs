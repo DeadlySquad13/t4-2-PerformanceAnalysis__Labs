{
    "cells": [
        {
            "cell_type": "markdown",
            "metadata": {},
            "source": "# \u041b\u0430\u0431\u043e\u0440\u0430\u0442\u043e\u0440\u043d\u0430\u044f \u0440\u0430\u0431\u043e\u0442\u0430 \u2116 4. \u041c\u043e\u0434\u0435\u043b\u044c \u043e\u0434\u043d\u043e\u0444\u0430\u0437\u043d\u043e\u0439 \u043c\u043d\u043e\u0433\u043e\u043a\u0430\u043d\u0430\u043b\u044c\u043d\u043e\u0439 \u0437\u0430\u043c\u043a\u043d\u0443\u0442\u043e\u0439 \u0441\u0438\u0441\u0442\u0435\u043c\u044b \u043e\u0431\u0441\u043b\u0443\u0436\u0438\u0432\u0430\u043d\u0438\u044f\n\u0412\u044b\u043f\u043e\u043b\u043d\u0438\u043b \u041f\u0430\u043a\u0430\u043b\u043e \u0410\u043b\u0435\u043a\u0441\u0430\u043d\u0434\u0440 \u0421\u0435\u0440\u0433\u0435\u0435\u0432\u0438\u0447, \u0441\u0442\u0443\u0434\u0435\u043d\u0442 \u0420\u04225-81\u0411\n\n\u0412\u0430\u0440\u0438\u0430\u043d\u0442 \u2116 5\n\n## \u0417\u0430\u0434\u0430\u043d\u0438\u0435 \u2116 1\n\u0412\u044b\u0447\u0438\u0441\u043b\u0438\u0442\u0435\u043b\u044c\u043d\u044b\u0439 \u0446\u0435\u043d\u0442\u0440 \u0444\u0438\u0440\u043c\u044b \u0441\u043e\u0441\u0442\u043e\u0438\u0442 \u0438\u0437 $m$\n \u0433\u043b\u0430\u0432\u043d\u044b\u0445 \u0441\u0435\u0440\u0432\u0435\u0440\u043e\u0432 \u043a\u043e\u043b\u043b\u0435\u043a\u0442\u0438\u0432\u043d\u043e\u0433\u043e \u043f\u043e\u043b\u044c\u0437\u043e\u0432\u0430\u043d\u0438\u044f. \u0427\u0438\u0441\u043b\u043e \u0440\u0430\u0431\u043e\u0442\u0430\u044e\u0449\u0438\u0445 \u0432 \u0446\u0435\u043d\u0442\u0440\u0435\n \u043f\u0440\u043e\u0433\u0440\u0430\u043c\u043c\u0438\u0441\u0442\u043e\u0432 \u0432 \u043b\u044e\u0431\u043e\u0439 \u043c\u043e\u043c\u0435\u043d\u0442 \u0432\u0440\u0435\u043c\u0435\u043d\u0438 \u0440\u0430\u0432\u043d\u043e\n$k$. \u041a\u0430\u0436\u0434\u044b\u0439 \u043f\u0440\u043e\u0433\u0440\u0430\u043c\u043c\u0438\u0441\u0442 \u0433\u043e\u0442\u043e\u0432\u0438\u0442 \u0441\u0432\u043e\u044e \u043f\u0440\u043e\u0433\u0440\u0430\u043c\u043c\u0443 \u0438 \u0447\u0435\u0440\u0435\u0437 \u0442\u0435\u0440\u043c\u0438\u043d\u0430\u043b \u043f\u0435\u0440\u0435\u0434\u0430\u0435\u0442 \u0435\u0435\n\u043d\u0430 \u0441\u0435\u0440\u0432\u0435\u0440 \u0434\u043b\u044f \u0432\u044b\u043f\u043e\u043b\u043d\u0435\u043d\u0438\u044f, \u043a\u0443\u0434\u0430 \u043e\u043d\u0430 \u0441\u0440\u0430\u0437\u0443 \u043f\u043e\u043f\u0430\u0434\u0430\u0435\u0442. \u0412\u0440\u0435\u043c\u044f \u043f\u043e\u0434\u0433\u043e\u0442\u043e\u0432\u043a\u0438 \u043f\u0440\u043e\u0433\u0440\u0430\u043c\u043c\n\u0438\u043c\u0435\u0435\u0442 \u044d\u043a\u0441\u043f\u043e\u043d\u0435\u043d\u0446\u0438\u0430\u043b\u044c\u043d\u043e\u0435 \u0440\u0430\u0441\u043f\u0440\u0435\u0434\u0435\u043b\u0435\u043d\u0438\u0435 \u0441\u043e \u0441\u0440\u0435\u0434\u043d\u0438\u043c \u0437\u043d\u0430\u0447\u0435\u043d\u0438\u0435\u043c\n$t_1$ \u043c\u0438\u043d. \u0412\u0440\u0435\u043c\u044f \u0432\u044b\u043f\u043e\u043b\u043d\u0435\u043d\u0438\u044f \u043f\u0440\u043e\u0433\u0440\u0430\u043c\u043c\u044b \u043d\u0430 \u043b\u044e\u0431\u043e\u043c \u0438\u0437 \u0441\u0435\u0440\u0432\u0435\u0440\u043e\u0432 \u0438\u043c\u0435\u0435\u0442 \u044d\u043a\u0441\u043f\u043e\u043d\u0435\u043d\u0446\u0438\u0430\u043b\u044c\u043d\u043e\u0435\n \u0440\u0430\u0441\u043f\u0440\u0435\u0434\u0435\u043b\u0435\u043d\u0438\u0435 \u0441\u043e \u0441\u0440\u0435\u0434\u043d\u0438\u043c \u0437\u043d\u0430\u0447\u0435\u043d\u0438\u0435\u043c\n $t_2$ \u043c\u0438\u043d. \u041a\u0430\u0436\u0434\u044b\u0439 \u043f\u0440\u043e\u0433\u0440\u0430\u043c\u043c\u0438\u0441\u0442 \u043e\u0436\u0438\u0434\u0430\u0435\u0442 \u043e\u0442\u0432\u0435\u0442\u0430 \u043e\u0442 \u0441\u0435\u0440\u0432\u0435\u0440\u0430, \u043f\u0440\u0435\u0436\u0434\u0435, \u0447\u0435\u043c \u043d\u0430\u0447\u043d\u0435\u0442 \u043f\u0438\u0441\u0430\u0442\u044c \u0441\u043b\u0435\u0434\u0443\u044e\u0449\u0443\u044e \u043f\u0440\u043e\u0433\u0440\u0430\u043c\u043c\u0443.\n\n\u041d\u0430\u0439\u0442\u0438 (\u0442\u0435\u043e\u0440\u0435\u0442\u0438\u0447\u0435\u0441\u043a\u0438 \u0438 \u044d\u043a\u0441\u043f\u0435\u0440\u0438\u043c\u0435\u043d\u0442\u0430\u043b\u044c\u043d\u043e):\n1. \u0412\u0435\u0440\u043e\u044f\u0442\u043d\u043e\u0441\u0442\u044c \u0442\u043e\u0433\u043e, \u0447\u0442\u043e \u043f\u0440\u043e\u0433\u0440\u0430\u043c\u043c\u0430 \u043d\u0435 \u0431\u0443\u0434\u0435\u0442 \u0432\u044b\u043f\u043e\u043b\u043d\u0435\u043d\u0430 \u0441\u0440\u0430\u0437\u0443 \u0436\u0435, \u043a\u0430\u043a \u0442\u043e\u043b\u044c\u043a\u043e \u043e\u043d\u0430 \u043f\u043e\u0441\u0442\u0443\u043f\u0438\u043b\u0430 \u043d\u0430 \u0442\u0435\u0440\u043c\u0438\u043d\u0430\u043b.\n2. \u0421\u0440\u0435\u0434\u043d\u0435\u0435 \u0432\u0440\u0435\u043c\u044f \u0434\u043e \u043f\u043e\u043b\u0443\u0447\u0435\u043d\u0438\u044f \u043f\u043e\u043b\u044c\u0437\u043e\u0432\u0430\u0442\u0435\u043b\u0435\u043c \u0440\u0435\u0437\u0443\u043b\u044c\u0442\u0430\u0442\u043e\u0432 \u0440\u0435\u0430\u043b\u0438\u0437\u0430\u0446\u0438\u0438.\n3. \u0421\u0440\u0435\u0434\u043d\u0435\u0435 \u043a\u043e\u043b\u0438\u0447\u0435\u0441\u0442\u0432\u043e \u043f\u0440\u043e\u0433\u0440\u0430\u043c\u043c, \u043e\u0436\u0438\u0434\u0430\u044e\u0449\u0438\u0445 \u0432\u044b\u043f\u043e\u043b\u043d\u0435\u043d\u0438\u044f \u043d\u0430 \u0441\u0435\u0440\u0432\u0435\u0440\u0435.\n\n\u0422\u0440\u0435\u0431\u0443\u0435\u0442\u0441\u044f \u0432\u044b\u043f\u043e\u043b\u043d\u0438\u0442\u044c \u0440\u0430\u0441\u0447\u0435\u0442 \u043f\u0440\u0438 \u0437\u0430\u0434\u0430\u043d\u043d\u043e\u043c \u043f\u043e \u0432\u0430\u0440\u0438\u0430\u043d\u0442\u0443 \u0437\u043d\u0430\u0447\u0435\u043d\u0438\u0438\n$m$, \u0430 \u0442\u0430\u043a\u0436\u0435 \u043f\u0440\u0438 $m = 1$."
        },
        {
            "cell_type": "code",
            "execution_count": 20,
            "metadata": {
                "trusted": true
            },
            "outputs": [
                {
                    "data": {
                        "text/html": "<table class=\"dataframe\">\n<caption>A data.frame: 1 \u00d7 4</caption>\n<thead>\n\t<tr><th scope=col>k</th><th scope=col>m</th><th scope=col>t1</th><th scope=col>t2</th></tr>\n\t<tr><th scope=col>&lt;int&gt;</th><th scope=col>&lt;int&gt;</th><th scope=col>&lt;int&gt;</th><th scope=col>&lt;int&gt;</th></tr>\n</thead>\n<tbody>\n\t<tr><td>11</td><td>5</td><td>14</td><td>4</td></tr>\n</tbody>\n</table>\n",
                        "text/latex": "A data.frame: 1 \u00d7 4\n\\begin{tabular}{llll}\n k & m & t1 & t2\\\\\n <int> & <int> & <int> & <int>\\\\\n\\hline\n\t 11 & 5 & 14 & 4\\\\\n\\end{tabular}\n",
                        "text/markdown": "\nA data.frame: 1 \u00d7 4\n\n| k &lt;int&gt; | m &lt;int&gt; | t1 &lt;int&gt; | t2 &lt;int&gt; |\n|---|---|---|---|\n| 11 | 5 | 14 | 4 |\n\n",
                        "text/plain": "  k  m t1 t2\n1 11 5 14 4 "
                    },
                    "metadata": {},
                    "output_type": "display_data"
                }
            ],
            "source": "Variant <- 5\nset.seed(Variant)\nk <- sample(c(10:25), 1)\nm <- sample(c(3:6), 1)\nt1 <- sample(c(14:20), 1)\nt2 <- sample(c(2:6), 1)\nView(data.frame(k, m, t1, t2))"
        },
        {
            "cell_type": "markdown",
            "metadata": {},
            "source": "\u041d\u0430\u0439\u0434\u0435\u043c \u0438\u043d\u0442\u0435\u043d\u0441\u0438\u0432\u043d\u043e\u0441\u0442\u044c \u0432\u044b\u043f\u043e\u043b\u043d\u0435\u043d\u0438\u044f \u043f\u0440\u043e\u0433\u0440\u0430\u043c\u043c:"
        },
        {
            "cell_type": "code",
            "execution_count": 21,
            "metadata": {
                "trusted": true
            },
            "outputs": [
                {
                    "data": {
                        "text/html": "0.0714285714285714",
                        "text/latex": "0.0714285714285714",
                        "text/markdown": "0.0714285714285714",
                        "text/plain": "[1] 0.07142857"
                    },
                    "metadata": {},
                    "output_type": "display_data"
                }
            ],
            "source": "lambda_1 <- 1 / t1\nlambda_1"
        },
        {
            "cell_type": "markdown",
            "metadata": {},
            "source": "\u0418\u043d\u0442\u0435\u043d\u0441\u0438\u0432\u043d\u043e\u0441\u0442\u044c \u043f\u043e\u0441\u0442\u0443\u043f\u043b\u0435\u043d\u0438\u044f \u043f\u0440\u043e\u0433\u0440\u0430\u043c\u043c \u043e\u0442 $k$ \u043f\u0440\u043e\u0433\u0440\u0430\u043c\u043c\u0438\u0441\u0442\u043e\u0432:"
        },
        {
            "cell_type": "code",
            "execution_count": 22,
            "metadata": {
                "trusted": true
            },
            "outputs": [
                {
                    "data": {
                        "text/html": "0.785714285714286",
                        "text/latex": "0.785714285714286",
                        "text/markdown": "0.785714285714286",
                        "text/plain": "[1] 0.7857143"
                    },
                    "metadata": {},
                    "output_type": "display_data"
                }
            ],
            "source": "lambda_k <- k * lambda_1\nlambda_k"
        },
        {
            "cell_type": "markdown",
            "metadata": {},
            "source": "\u0418\u043d\u0442\u0435\u043d\u0441\u0438\u0432\u043d\u043e\u0441\u0442\u044c \u0432\u044b\u043f\u043e\u043b\u043d\u0435\u043d\u0438\u044f \u043f\u0440\u043e\u0433\u0440\u0430\u043c\u043c:"
        },
        {
            "cell_type": "code",
            "execution_count": 23,
            "metadata": {
                "trusted": true
            },
            "outputs": [
                {
                    "data": {
                        "text/html": "0.25",
                        "text/latex": "0.25",
                        "text/markdown": "0.25",
                        "text/plain": "[1] 0.25"
                    },
                    "metadata": {},
                    "output_type": "display_data"
                }
            ],
            "source": "miu <- 1 / t2\nmiu"
        },
        {
            "cell_type": "markdown",
            "metadata": {},
            "source": "\u0418\u043d\u0442\u0435\u043d\u0441\u0438\u0432\u043d\u043e\u0441\u0442\u044c \u0432\u044b\u043f\u043e\u043b\u043d\u0435\u043d\u0438\u044f \u043f\u0440\u043e\u0433\u0440\u0430\u043c\u043c \u043c\u0435\u043d\u044c\u0448\u0435 \u0438\u043d\u0442\u0435\u043d\u0441\u0438\u0432\u043d\u043e\u0441\u0442\u0438 \u043f\u043e\u0441\u0442\u0443\u043f\u043b\u0435\u043d\u0438\u044f,\n\u0441\u043b\u0435\u0434\u043e\u0432\u0430\u0442\u0435\u043b\u044c\u043d\u043e \u043e\u0447\u0435\u0440\u0435\u0434\u044c \u0432 \u043d\u0430\u0448\u0435\u0439 \u0441\u0438\u0441\u0442\u0435\u043c\u0435 \u0431\u0443\u0434\u0435\u0442 \u0431\u0435\u0441\u043a\u043e\u043d\u0435\u0447\u043d\u043e \u0440\u0430\u0441\u0442\u0438. \u0421\u043e\u0433\u043b\u0430\u0441\u043d\u043e\n\u0443\u043a\u0430\u0437\u0430\u043d\u0438\u044f\u043c \u043f\u0440\u0435\u043f\u043e\u0434\u0430\u0432\u0430\u0442\u0435\u043b\u044f, \u0438\u0437\u043c\u0435\u043d\u0438\u043c \u043d\u0430\u0447\u0430\u043b\u044c\u043d\u044b\u0435 \u043f\u0430\u0440\u0430\u043c\u0435\u0442\u0440\u044b \u0442\u0430\u043a, \u0447\u0442\u043e\u0431\u044b \u043d\u0435\u0440\u0430\u0432\u0435\u043d\u0441\u0442\u0432\u043e\n\u043e\u0431\u0440\u0430\u0442\u0438\u043b\u043e\u0441\u044c:"
        },
        {
            "cell_type": "code",
            "execution_count": 202,
            "metadata": {
                "trusted": true
            },
            "outputs": [
                {
                    "data": {
                        "text/html": "0.244444444444444",
                        "text/latex": "0.244444444444444",
                        "text/markdown": "0.244444444444444",
                        "text/plain": "[1] 0.2444444"
                    },
                    "metadata": {},
                    "output_type": "display_data"
                }
            ],
            "source": "t1 <- 45\nlambda_k <- k / t1\nlambda_k"
        },
        {
            "cell_type": "markdown",
            "metadata": {},
            "source": "\u0418\u0442\u043e\u0433\u043e \u0438\u043c\u0435\u0435\u043c \u0441\u043b\u0435\u0434\u0443\u044e\u0449\u0438\u0435 \u043d\u0430\u0447\u0430\u043b\u044c\u043d\u044b\u0435 \u0432\u0435\u043b\u0438\u0447\u0438\u043d\u044b:"
        },
        {
            "cell_type": "code",
            "execution_count": 203,
            "metadata": {
                "trusted": true
            },
            "outputs": [
                {
                    "data": {
                        "text/html": "<table class=\"dataframe\">\n<caption>A data.frame: 1 \u00d7 4</caption>\n<thead>\n\t<tr><th scope=col>k</th><th scope=col>m</th><th scope=col>t1</th><th scope=col>t2</th></tr>\n\t<tr><th scope=col>&lt;int&gt;</th><th scope=col>&lt;int&gt;</th><th scope=col>&lt;dbl&gt;</th><th scope=col>&lt;int&gt;</th></tr>\n</thead>\n<tbody>\n\t<tr><td>11</td><td>5</td><td>45</td><td>4</td></tr>\n</tbody>\n</table>\n",
                        "text/latex": "A data.frame: 1 \u00d7 4\n\\begin{tabular}{llll}\n k & m & t1 & t2\\\\\n <int> & <int> & <dbl> & <int>\\\\\n\\hline\n\t 11 & 5 & 45 & 4\\\\\n\\end{tabular}\n",
                        "text/markdown": "\nA data.frame: 1 \u00d7 4\n\n| k &lt;int&gt; | m &lt;int&gt; | t1 &lt;dbl&gt; | t2 &lt;int&gt; |\n|---|---|---|---|\n| 11 | 5 | 45 | 4 |\n\n",
                        "text/plain": "  k  m t1 t2\n1 11 5 45 4 "
                    },
                    "metadata": {},
                    "output_type": "display_data"
                }
            ],
            "source": "View(data.frame(k, m, t1, t2))"
        },
        {
            "cell_type": "code",
            "execution_count": null,
            "metadata": {
                "trusted": true
            },
            "outputs": [],
            "source": "# \u0417\u0430\u0434\u0430\u0434\u0438\u043c \u0442\u0430\u0431\u043b\u0438\u0446\u0443 \u0440\u0435\u0437\u0443\u043b\u044c\u0442\u0430\u0442\u043e\u0432."
        },
        {
            "cell_type": "code",
            "execution_count": 204,
            "metadata": {
                "trusted": true
            },
            "outputs": [
                {
                    "data": {
                        "text/html": "<table class=\"dataframe\">\n<caption>A data.frame: 2 \u00d7 3</caption>\n<thead>\n\t<tr><th></th><th scope=col>probability</th><th scope=col>T</th><th scope=col>Lqueue</th></tr>\n\t<tr><th></th><th scope=col>&lt;chr&gt;</th><th scope=col>&lt;chr&gt;</th><th scope=col>&lt;chr&gt;</th></tr>\n</thead>\n<tbody>\n\t<tr><th scope=row>theoretical</th><td>-</td><td>-</td><td>-</td></tr>\n\t<tr><th scope=row>practical</th><td>-</td><td>-</td><td>-</td></tr>\n</tbody>\n</table>\n",
                        "text/latex": "A data.frame: 2 \u00d7 3\n\\begin{tabular}{r|lll}\n  & probability & T & Lqueue\\\\\n  & <chr> & <chr> & <chr>\\\\\n\\hline\n\ttheoretical & - & - & -\\\\\n\tpractical & - & - & -\\\\\n\\end{tabular}\n",
                        "text/markdown": "\nA data.frame: 2 \u00d7 3\n\n| <!--/--> | probability &lt;chr&gt; | T &lt;chr&gt; | Lqueue &lt;chr&gt; |\n|---|---|---|---|\n| theoretical | - | - | - |\n| practical | - | - | - |\n\n",
                        "text/plain": "            probability T Lqueue\ntheoretical -           - -     \npractical   -           - -     "
                    },
                    "metadata": {},
                    "output_type": "display_data"
                }
            ],
            "source": "results <- data.frame(probability = c(\"-\", \"-\"), T = c(\"-\", \"-\"), Lqueue = c(\"-\", \"-\"))\nrow.names(results) <- c('theoretical', 'practical')\nresults"
        },
        {
            "cell_type": "markdown",
            "metadata": {},
            "source": "### \u0422\u0435\u043e\u0440\u0435\u0442\u0438\u0447\u0435\u0441\u043a\u0438"
        },
        {
            "cell_type": "markdown",
            "metadata": {},
            "source": "#### 1. \u0412\u0435\u0440\u043e\u044f\u0442\u043d\u043e\u0441\u0442\u044c \u0442\u043e\u0433\u043e, \u0447\u0442\u043e \u043f\u0440\u043e\u0433\u0440\u0430\u043c\u043c\u0430 \u043d\u0435 \u0431\u0443\u0434\u0435\u0442 \u0432\u044b\u043f\u043e\u043b\u043d\u0435\u043d\u0430 \u0441\u0440\u0430\u0437\u0443 \u0436\u0435, \u043a\u0430\u043a \u0442\u043e\u043b\u044c\u043a\u043e \u043e\u043d\u0430 \u043f\u043e\u0441\u0442\u0443\u043f\u0438\u043b\u0430 \u043d\u0430 \u0442\u0435\u0440\u043c\u0438\u043d\u0430\u043b\n\u041c\u044b \u0438\u043c\u0435\u0435\u043c \u0434\u0435\u043b\u043e \u0441 \u043c\u043d\u043e\u0433\u043e\u043a\u0430\u043d\u0430\u043b\u044c\u043d\u043e\u0439 **\u0437\u0430\u043c\u043a\u043d\u0443\u0442\u043e\u0439** \u0421\u041c\u041e \u0441 \u043d\u0435\u043e\u0433\u0440\u0430\u043d\u0438\u0447\u0435\u043d\u043d\u043e\u0439 \u043e\u0447\u0435\u0440\u0435\u0434\u044c\u044e\n$M / M / m / \\infty$. \u0421\u043b\u0435\u0434\u043e\u0432\u0430\u0442\u0435\u043b\u044c\u043d\u043e:\n\n$$\nP_0 = \\left(\n  \\sum_{i = 0}^m \\frac{k! \\rho^i}{\\left(k - i \\right)!i!}\n  +\n  \\sum_{i = 1}^{k - m} \\frac{k! \\rho^{m + i}}{m! \\cdot (k - m - i)!m^i}\n\\right) ^ {-1}\n$$\n\u0433\u0434\u0435 $\\rho = \\frac{\\lambda}{\\mu}$"
        },
        {
            "cell_type": "code",
            "execution_count": 205,
            "metadata": {
                "trusted": true
            },
            "outputs": [
                {
                    "data": {
                        "text/html": "0.285714285714286",
                        "text/latex": "0.285714285714286",
                        "text/markdown": "0.285714285714286",
                        "text/plain": "[1] 0.2857143"
                    },
                    "metadata": {},
                    "output_type": "display_data"
                }
            ],
            "source": "ro <- lambda_1 / miu\nro"
        },
        {
            "cell_type": "code",
            "execution_count": 206,
            "metadata": {
                "trusted": true
            },
            "outputs": [
                {
                    "data": {
                        "text/html": "0.062613473389203",
                        "text/latex": "0.062613473389203",
                        "text/markdown": "0.062613473389203",
                        "text/plain": "[1] 0.06261347"
                    },
                    "metadata": {},
                    "output_type": "display_data"
                }
            ],
            "source": "i1 <- 0:m\nparts_of_sum1 <- c(factorial(k) * ro^i1 / (factorial((k - i1)) * factorial(i1)))\n\ni2 <- 1:(k - m)\nparts_of_sum2 <- c(factorial(k) * ro^(m + i2) / (factorial(m) * factorial((k - m - i2)) * m^i2))\n\nP0 <- (sum(parts_of_sum1) + sum(parts_of_sum2))^(-1)\nP0"
        },
        {
            "cell_type": "code",
            "execution_count": 207,
            "metadata": {
                "trusted": true
            },
            "outputs": [
                {
                    "data": {
                        "text/html": "0.196785202080352",
                        "text/latex": "0.196785202080352",
                        "text/markdown": "0.196785202080352",
                        "text/plain": "[1] 0.1967852"
                    },
                    "metadata": {},
                    "output_type": "display_data"
                }
            ],
            "source": "P0 * k * ro"
        },
        {
            "cell_type": "markdown",
            "metadata": {},
            "source": "\u0422\u043e\u0433\u0434\u0430 \u0432\u0435\u0440\u043e\u044f\u0442\u043d\u043e\u0441\u0442\u044c \u0442\u043e\u0433\u043e, \u0447\u0442\u043e $i$ \u0441\u0435\u0440\u0432\u0435\u0440\u043e\u0432 \u0437\u0430\u043d\u044f\u0442\u043e:\n$$\nP_i = P_0 \\cdot \\frac{k! \\rho^i}{\\left(k - i \\right)!i!}\n$$\n\n\u0414\u043b\u044f \u044d\u0442\u043e\u0433\u043e \u0432\u043e\u0441\u043f\u043e\u043b\u044c\u0437\u0443\u0435\u043c\u0441\u044f \u0443\u0436\u0435 \u0441\u043e\u0437\u0434\u0430\u043d\u043d\u044b\u043c \u043c\u0430\u0441\u0441\u0438\u0432\u043e\u043c \u0447\u0430\u0441\u0442\u0435\u0439 \u0441\u0443\u043c\u043c\u044b:"
        },
        {
            "cell_type": "code",
            "execution_count": 208,
            "metadata": {
                "trusted": true
            },
            "outputs": [],
            "source": "get_Pi <- function(part) part * P0"
        },
        {
            "cell_type": "code",
            "execution_count": 209,
            "metadata": {
                "trusted": true
            },
            "outputs": [
                {
                    "data": {
                        "text/html": "<ol>\n\t<li>0.062613473389203</li>\n\t<li>0.196785202080352</li>\n\t<li>0.281121717257646</li>\n\t<li>0.240961471935125</li>\n\t<li>0.137692269677214</li>\n</ol>\n",
                        "text/latex": "\\begin{enumerate}\n\\item 0.062613473389203\n\\item 0.196785202080352\n\\item 0.281121717257646\n\\item 0.240961471935125\n\\item 0.137692269677214\n\\end{enumerate}\n",
                        "text/markdown": "1. 0.062613473389203\n2. 0.196785202080352\n3. 0.281121717257646\n4. 0.240961471935125\n5. 0.137692269677214\n\n\n",
                        "text/plain": "[[1]]\n[1] 0.06261347\n\n[[2]]\n[1] 0.1967852\n\n[[3]]\n[1] 0.2811217\n\n[[4]]\n[1] 0.2409615\n\n[[5]]\n[1] 0.1376923\n"
                    },
                    "metadata": {},
                    "output_type": "display_data"
                }
            ],
            "source": "Pi <- lapply(parts_of_sum1[1:m], get_Pi)\nPi"
        },
        {
            "cell_type": "markdown",
            "metadata": {},
            "source": "\u0422\u043e\u0433\u0434\u0430 $\\sum_{i = 0}^{m} P_i$ -  \u0432\u0435\u0440\u043e\u044f\u0442\u043d\u043e\u0441\u0442\u044c \u0442\u043e\u0433\u043e, \u0447\u0442\u043e \u0445\u043e\u0442\u044f \u0431\u044b \u043e\u0434\u0438\u043d \u0441\u0435\u0440\u0432\u0435\u0440\n\u0431\u0443\u0434\u0435\u0442 \u0434\u043e\u0441\u0442\u0443\u043f\u0435\u043d. \u0421\u043b\u0435\u0434\u043e\u0432\u0430\u0442\u0435\u043b\u044c\u043d\u043e, \u043e\u0431\u0440\u0430\u0442\u043d\u0430\u044f \u0432\u0435\u0440\u043e\u044f\u0442\u043d\u043e\u0441\u0442\u044c \u0438 \u0431\u0443\u0434\u0435\u0442 \u043d\u0430\u0448\u0438\u043c \u043e\u0442\u0432\u0435\u0442\u043e\u043c."
        },
        {
            "cell_type": "code",
            "execution_count": 220,
            "metadata": {
                "trusted": true
            },
            "outputs": [
                {
                    "data": {
                        "text/html": "0.0808258656604589",
                        "text/latex": "0.0808258656604589",
                        "text/markdown": "0.0808258656604589",
                        "text/plain": "[1] 0.08082587"
                    },
                    "metadata": {},
                    "output_type": "display_data"
                }
            ],
            "source": "probability <- 1 - sum(unlist(Pi))\nresults$probability[1] <- probability\nprobability"
        },
        {
            "cell_type": "markdown",
            "metadata": {},
            "source": "#### 2. \u0421\u0440\u0435\u0434\u043d\u0435\u0435 \u0432\u0440\u0435\u043c\u044f \u0434\u043e \u043f\u043e\u043b\u0443\u0447\u0435\u043d\u0438\u044f \u043f\u043e\u043b\u044c\u0437\u043e\u0432\u0430\u0442\u0435\u043b\u0435\u043c \u0440\u0435\u0437\u0443\u043b\u044c\u0442\u0430\u0442\u043e\u0432 \u0440\u0435\u0430\u043b\u0438\u0437\u0430\u0446\u0438\u0438.\n\u041f\u043e \u0444\u043e\u0440\u043c\u0443\u043b\u0435 \u041b\u0438\u0442\u0442\u043b\u0430, \u043f\u043e\u0434\u0445\u043e\u0434\u044f\u0449\u0435\u0439 \u0434\u043b\u044f \u0421\u041c\u041e \u043b\u044e\u0431\u043e\u0433\u043e \u0432\u0438\u0434\u0430 \u0438\u043c\u0435\u0435\u043c:\n$$\nT_{\\text{\u0441\u0438\u0441\u0442}} = \\frac{L_{\\text{\u0441\u0438\u0441\u0442}}}{\\Lambda} \\\\\n\\Lambda = (k - L_{\\text{\u0441\u0438\u0441\u0442}}) \\cdot \\lambda \\\\\nL_{\\text{\u0441\u0438\u0441\u0442}} = \\sum_{i = 1}^k \\left(P_i \\cdot i \\right)\n$$"
        },
        {
            "cell_type": "code",
            "execution_count": 211,
            "metadata": {
                "trusted": true
            },
            "outputs": [
                {
                    "data": {
                        "text/html": "0.919174134339541",
                        "text/latex": "0.919174134339541",
                        "text/markdown": "0.919174134339541",
                        "text/plain": "[1] 0.9191741"
                    },
                    "metadata": {},
                    "output_type": "display_data"
                }
            ],
            "source": "Pi_queue <- mapply(function(Pi, i) Pi * i, Pi[1:k], 1:k)\nLsys <- sum(unlist(Pi))\nLsys"
        },
        {
            "cell_type": "code",
            "execution_count": 212,
            "metadata": {
                "trusted": true
            },
            "outputs": [
                {
                    "data": {
                        "text/html": "0.720058990404319",
                        "text/latex": "0.720058990404319",
                        "text/markdown": "0.720058990404319",
                        "text/plain": "[1] 0.720059"
                    },
                    "metadata": {},
                    "output_type": "display_data"
                }
            ],
            "source": "Lambda <- (k - Lsys) * lambda_1\nLambda"
        },
        {
            "cell_type": "code",
            "execution_count": 213,
            "metadata": {
                "trusted": true
            },
            "outputs": [
                {
                    "data": {
                        "text/html": "1.27652615492436",
                        "text/latex": "1.27652615492436",
                        "text/markdown": "1.27652615492436",
                        "text/plain": "[1] 1.276526"
                    },
                    "metadata": {},
                    "output_type": "display_data"
                }
            ],
            "source": "T <- Lsys / Lambda\nresults$T[1] <- T\nT"
        },
        {
            "cell_type": "markdown",
            "metadata": {},
            "source": "#### 3. \u0421\u0440\u0435\u0434\u043d\u0435\u0435 \u043a\u043e\u043b\u0438\u0447\u0435\u0441\u0442\u0432\u043e \u043f\u0440\u043e\u0433\u0440\u0430\u043c\u043c, \u043e\u0436\u0438\u0434\u0430\u044e\u0449\u0438\u0445 \u0432\u044b\u043f\u043e\u043b\u043d\u0435\u043d\u0438\u044f \u043d\u0430 \u0441\u0435\u0440\u0432\u0435\u0440\u0435.\n\u041e\u043d\u0430 \u0436\u0435 \u0441\u0440\u0435\u0434\u043d\u044f\u044f \u0434\u043b\u0438\u043d\u0430 \u043e\u0447\u0435\u0440\u0435\u0434\u0438:\n$$\nL_{\\text{\u043e\u0447}} = \\frac{\\rho^{m+1}}{m! \\cdot m} \\cdot P_0 \\cdot\n\\frac{1}{\\left( 1 - \\frac{\\rho}{m} \\right)^2}\n$$"
        },
        {
            "cell_type": "code",
            "execution_count": 214,
            "metadata": {
                "trusted": true
            },
            "outputs": [
                {
                    "data": {
                        "text/html": "6.38581729495202e-08",
                        "text/latex": "6.38581729495202e-08",
                        "text/markdown": "6.38581729495202e-08",
                        "text/plain": "[1] 6.385817e-08"
                    },
                    "metadata": {},
                    "output_type": "display_data"
                }
            ],
            "source": "Lqueue <- ro^(m + 1) / (factorial(m) * m) * P0 * 1 / (1 - ro / m)^2\nresults$Lqueue[1] <- Lqueue\nLqueue"
        },
        {
            "cell_type": "code",
            "execution_count": 215,
            "metadata": {
                "trusted": true
            },
            "outputs": [
                {
                    "data": {
                        "text/html": "<table class=\"dataframe\">\n<caption>A data.frame: 2 \u00d7 3</caption>\n<thead>\n\t<tr><th></th><th scope=col>probability</th><th scope=col>T</th><th scope=col>Lqueue</th></tr>\n\t<tr><th></th><th scope=col>&lt;chr&gt;</th><th scope=col>&lt;chr&gt;</th><th scope=col>&lt;chr&gt;</th></tr>\n</thead>\n<tbody>\n\t<tr><th scope=row>theoretical</th><td>0.0808258656604589</td><td>1.27652615492436</td><td>6.38581729495202e-08</td></tr>\n\t<tr><th scope=row>practical</th><td>-                 </td><td>-               </td><td>-                   </td></tr>\n</tbody>\n</table>\n",
                        "text/latex": "A data.frame: 2 \u00d7 3\n\\begin{tabular}{r|lll}\n  & probability & T & Lqueue\\\\\n  & <chr> & <chr> & <chr>\\\\\n\\hline\n\ttheoretical & 0.0808258656604589 & 1.27652615492436 & 6.38581729495202e-08\\\\\n\tpractical & -                  & -                & -                   \\\\\n\\end{tabular}\n",
                        "text/markdown": "\nA data.frame: 2 \u00d7 3\n\n| <!--/--> | probability &lt;chr&gt; | T &lt;chr&gt; | Lqueue &lt;chr&gt; |\n|---|---|---|---|\n| theoretical | 0.0808258656604589 | 1.27652615492436 | 6.38581729495202e-08 |\n| practical | -                  | -                | -                    |\n\n",
                        "text/plain": "            probability        T                Lqueue              \ntheoretical 0.0808258656604589 1.27652615492436 6.38581729495202e-08\npractical   -                  -                -                   "
                    },
                    "metadata": {},
                    "output_type": "display_data"
                }
            ],
            "source": "results"
        },
        {
            "cell_type": "markdown",
            "metadata": {},
            "source": "\u041a\u0430\u043a \u0432\u0438\u0434\u043d\u043e, \u043e\u0447\u0435\u0440\u0435\u0434\u044c \u0441\u0438\u0441\u0442\u0435\u043c\u0430 \u0440\u0430\u0431\u043e\u0442\u0430\u0435\u0442 \u0434\u043e\u0441\u0442\u0430\u0442\u043e\u0447\u043d\u043e \u0431\u044b\u0441\u0442\u0440\u043e, \u0447\u0442\u043e\u0431\u044b \u043d\u0435 \u043d\u0430\u043a\u0430\u043f\u043b\u0438\u0432\u0430\u0442\u044c \u043e\u0447\u0435\u0440\u0435\u0434\u044c.\n\u042d\u0442\u043e \u043f\u043e\u0434\u0442\u0432\u0435\u0440\u0436\u0434\u0430\u0435\u0442\u0441\u044f \u0438 \u043f\u0440\u0438 \u0441\u0440\u0430\u0432\u043d\u0435\u043d\u0438\u0438 \u0438\u043d\u0442\u0435\u043d\u0441\u0438\u0432\u043d\u043e\u0441\u0442\u0435\u0439 \u043f\u043e\u0441\u0442\u0443\u043f\u043b\u0435\u043d\u0438\u044f / \u043e\u0431\u0440\u0430\u0431\u043e\u0442\u043a\u0438 \u043f\u0440\u043e\u0433\u0440\u0430\u043c\u043c."
        },
        {
            "cell_type": "markdown",
            "metadata": {},
            "source": "### \u0427\u0438\u0441\u043b\u0435\u043d\u043d\u043e"
        },
        {
            "cell_type": "code",
            "execution_count": 261,
            "metadata": {
                "trusted": true
            },
            "outputs": [
                {
                    "data": {
                        "text/plain": "simmer environment: SupaDupaSim | now: 10000 | next: 10002.8850006089\n{ Monitor: in memory }\n{ Resource: server | monitored: TRUE | server status: 5(5) | queue status: 6(6) }\n{ Source: programs | monitored: 1 | n_generated: 2423 }"
                    },
                    "metadata": {},
                    "output_type": "display_data"
                }
            ],
            "source": "if (!require(\"simmer\")) {\n    install.packages(\"simmer\")\n}\nlibrary(simmer)\n\nSIMULATION_TIME <- 10000\n\nenv <- simmer(\"SupaDupaSim\")\n\nlimit_programs_in_system <- trajectory() %>%\n    leave(\n        function() as.integer(\n            get_queue_count(env, \"server\") + get_seized(env, \"server\") >= k\n        )\n    )\n\nprograms <- trajectory() %>%\n    # join(limit_programs_in_system) %>%\n    seize(\"server\", 1) %>%\n    timeout(function() rexp(1, 1 / t1)) %>%\n    release(\"server\", 1)\n\nenv %>%\n    add_resource(\"server\", capacity = m, queue_size = k - m) %>%\n    add_generator(\n        \"programs\",\n        programs,\n        distribution = function() rexp(1, lambda_k)\n    ) %>%\n    run(until = SIMULATION_TIME)"
        },
        {
            "cell_type": "markdown",
            "metadata": {},
            "source": "#### 1. \u0412\u0435\u0440\u043e\u044f\u0442\u043d\u043e\u0441\u0442\u044c \u0442\u043e\u0433\u043e, \u0447\u0442\u043e \u043f\u0440\u043e\u0433\u0440\u0430\u043c\u043c\u0430 \u043d\u0435 \u0431\u0443\u0434\u0435\u0442 \u0432\u044b\u043f\u043e\u043b\u043d\u0435\u043d\u0430 \u0441\u0440\u0430\u0437\u0443 \u0436\u0435, \u043a\u0430\u043a \u0442\u043e\u043b\u044c\u043a\u043e \u043e\u043d\u0430 \u043f\u043e\u0441\u0442\u0443\u043f\u0438\u043b\u0430 \u043d\u0430 \u0442\u0435\u0440\u043c\u0438\u043d\u0430\u043b."
        },
        {
            "cell_type": "code",
            "execution_count": 262,
            "metadata": {
                "trusted": true
            },
            "outputs": [
                {
                    "data": {
                        "text/html": "<table class=\"dataframe\">\n<caption>A data.frame: 2189 \u00d7 9</caption>\n<thead>\n\t<tr><th scope=col>resource</th><th scope=col>time</th><th scope=col>server</th><th scope=col>queue</th><th scope=col>capacity</th><th scope=col>queue_size</th><th scope=col>system</th><th scope=col>limit</th><th scope=col>replication</th></tr>\n\t<tr><th scope=col>&lt;chr&gt;</th><th scope=col>&lt;dbl&gt;</th><th scope=col>&lt;int&gt;</th><th scope=col>&lt;int&gt;</th><th scope=col>&lt;dbl&gt;</th><th scope=col>&lt;dbl&gt;</th><th scope=col>&lt;int&gt;</th><th scope=col>&lt;dbl&gt;</th><th scope=col>&lt;int&gt;</th></tr>\n</thead>\n<tbody>\n\t<tr><td>server</td><td> 16.67226</td><td>1</td><td>0</td><td>5</td><td>6</td><td> 1</td><td>11</td><td>1</td></tr>\n\t<tr><td>server</td><td> 31.24034</td><td>2</td><td>0</td><td>5</td><td>6</td><td> 2</td><td>11</td><td>1</td></tr>\n\t<tr><td>server</td><td> 35.81829</td><td>3</td><td>0</td><td>5</td><td>6</td><td> 3</td><td>11</td><td>1</td></tr>\n\t<tr><td>server</td><td> 36.64213</td><td>2</td><td>0</td><td>5</td><td>6</td><td> 2</td><td>11</td><td>1</td></tr>\n\t<tr><td>server</td><td> 40.92799</td><td>3</td><td>0</td><td>5</td><td>6</td><td> 3</td><td>11</td><td>1</td></tr>\n\t<tr><td>server</td><td> 51.37941</td><td>4</td><td>0</td><td>5</td><td>6</td><td> 4</td><td>11</td><td>1</td></tr>\n\t<tr><td>server</td><td> 57.45350</td><td>5</td><td>0</td><td>5</td><td>6</td><td> 5</td><td>11</td><td>1</td></tr>\n\t<tr><td>server</td><td> 57.73664</td><td>4</td><td>0</td><td>5</td><td>6</td><td> 4</td><td>11</td><td>1</td></tr>\n\t<tr><td>server</td><td> 59.29181</td><td>3</td><td>0</td><td>5</td><td>6</td><td> 3</td><td>11</td><td>1</td></tr>\n\t<tr><td>server</td><td> 61.09685</td><td>4</td><td>0</td><td>5</td><td>6</td><td> 4</td><td>11</td><td>1</td></tr>\n\t<tr><td>server</td><td> 63.68863</td><td>5</td><td>0</td><td>5</td><td>6</td><td> 5</td><td>11</td><td>1</td></tr>\n\t<tr><td>server</td><td> 64.42635</td><td>5</td><td>1</td><td>5</td><td>6</td><td> 6</td><td>11</td><td>1</td></tr>\n\t<tr><td>server</td><td> 66.07562</td><td>5</td><td>2</td><td>5</td><td>6</td><td> 7</td><td>11</td><td>1</td></tr>\n\t<tr><td>server</td><td> 69.50342</td><td>5</td><td>3</td><td>5</td><td>6</td><td> 8</td><td>11</td><td>1</td></tr>\n\t<tr><td>server</td><td> 71.03113</td><td>5</td><td>4</td><td>5</td><td>6</td><td> 9</td><td>11</td><td>1</td></tr>\n\t<tr><td>server</td><td> 77.48185</td><td>5</td><td>5</td><td>5</td><td>6</td><td>10</td><td>11</td><td>1</td></tr>\n\t<tr><td>server</td><td> 79.67768</td><td>5</td><td>6</td><td>5</td><td>6</td><td>11</td><td>11</td><td>1</td></tr>\n\t<tr><td>server</td><td> 97.41570</td><td>5</td><td>5</td><td>5</td><td>6</td><td>10</td><td>11</td><td>1</td></tr>\n\t<tr><td>server</td><td>100.95869</td><td>5</td><td>4</td><td>5</td><td>6</td><td> 9</td><td>11</td><td>1</td></tr>\n\t<tr><td>server</td><td>102.75857</td><td>5</td><td>3</td><td>5</td><td>6</td><td> 8</td><td>11</td><td>1</td></tr>\n\t<tr><td>server</td><td>104.74673</td><td>5</td><td>4</td><td>5</td><td>6</td><td> 9</td><td>11</td><td>1</td></tr>\n\t<tr><td>server</td><td>109.49688</td><td>5</td><td>5</td><td>5</td><td>6</td><td>10</td><td>11</td><td>1</td></tr>\n\t<tr><td>server</td><td>110.51717</td><td>5</td><td>6</td><td>5</td><td>6</td><td>11</td><td>11</td><td>1</td></tr>\n\t<tr><td>server</td><td>115.43282</td><td>5</td><td>5</td><td>5</td><td>6</td><td>10</td><td>11</td><td>1</td></tr>\n\t<tr><td>server</td><td>116.33314</td><td>5</td><td>4</td><td>5</td><td>6</td><td> 9</td><td>11</td><td>1</td></tr>\n\t<tr><td>server</td><td>117.05312</td><td>5</td><td>5</td><td>5</td><td>6</td><td>10</td><td>11</td><td>1</td></tr>\n\t<tr><td>server</td><td>118.87933</td><td>5</td><td>6</td><td>5</td><td>6</td><td>11</td><td>11</td><td>1</td></tr>\n\t<tr><td>server</td><td>151.85885</td><td>5</td><td>5</td><td>5</td><td>6</td><td>10</td><td>11</td><td>1</td></tr>\n\t<tr><td>server</td><td>153.25390</td><td>5</td><td>6</td><td>5</td><td>6</td><td>11</td><td>11</td><td>1</td></tr>\n\t<tr><td>server</td><td>156.62320</td><td>5</td><td>5</td><td>5</td><td>6</td><td>10</td><td>11</td><td>1</td></tr>\n\t<tr><td>\u22ee</td><td>\u22ee</td><td>\u22ee</td><td>\u22ee</td><td>\u22ee</td><td>\u22ee</td><td>\u22ee</td><td>\u22ee</td><td>\u22ee</td></tr>\n\t<tr><td>server</td><td>9850.159</td><td>5</td><td>5</td><td>5</td><td>6</td><td>10</td><td>11</td><td>1</td></tr>\n\t<tr><td>server</td><td>9851.045</td><td>5</td><td>6</td><td>5</td><td>6</td><td>11</td><td>11</td><td>1</td></tr>\n\t<tr><td>server</td><td>9863.170</td><td>5</td><td>5</td><td>5</td><td>6</td><td>10</td><td>11</td><td>1</td></tr>\n\t<tr><td>server</td><td>9865.351</td><td>5</td><td>4</td><td>5</td><td>6</td><td> 9</td><td>11</td><td>1</td></tr>\n\t<tr><td>server</td><td>9866.231</td><td>5</td><td>3</td><td>5</td><td>6</td><td> 8</td><td>11</td><td>1</td></tr>\n\t<tr><td>server</td><td>9868.796</td><td>5</td><td>2</td><td>5</td><td>6</td><td> 7</td><td>11</td><td>1</td></tr>\n\t<tr><td>server</td><td>9870.576</td><td>5</td><td>3</td><td>5</td><td>6</td><td> 8</td><td>11</td><td>1</td></tr>\n\t<tr><td>server</td><td>9871.555</td><td>5</td><td>2</td><td>5</td><td>6</td><td> 7</td><td>11</td><td>1</td></tr>\n\t<tr><td>server</td><td>9871.864</td><td>5</td><td>3</td><td>5</td><td>6</td><td> 8</td><td>11</td><td>1</td></tr>\n\t<tr><td>server</td><td>9872.161</td><td>5</td><td>4</td><td>5</td><td>6</td><td> 9</td><td>11</td><td>1</td></tr>\n\t<tr><td>server</td><td>9878.679</td><td>5</td><td>5</td><td>5</td><td>6</td><td>10</td><td>11</td><td>1</td></tr>\n\t<tr><td>server</td><td>9890.151</td><td>5</td><td>4</td><td>5</td><td>6</td><td> 9</td><td>11</td><td>1</td></tr>\n\t<tr><td>server</td><td>9902.985</td><td>5</td><td>5</td><td>5</td><td>6</td><td>10</td><td>11</td><td>1</td></tr>\n\t<tr><td>server</td><td>9908.342</td><td>5</td><td>6</td><td>5</td><td>6</td><td>11</td><td>11</td><td>1</td></tr>\n\t<tr><td>server</td><td>9919.537</td><td>5</td><td>5</td><td>5</td><td>6</td><td>10</td><td>11</td><td>1</td></tr>\n\t<tr><td>server</td><td>9921.073</td><td>5</td><td>4</td><td>5</td><td>6</td><td> 9</td><td>11</td><td>1</td></tr>\n\t<tr><td>server</td><td>9925.355</td><td>5</td><td>3</td><td>5</td><td>6</td><td> 8</td><td>11</td><td>1</td></tr>\n\t<tr><td>server</td><td>9926.083</td><td>5</td><td>2</td><td>5</td><td>6</td><td> 7</td><td>11</td><td>1</td></tr>\n\t<tr><td>server</td><td>9926.651</td><td>5</td><td>1</td><td>5</td><td>6</td><td> 6</td><td>11</td><td>1</td></tr>\n\t<tr><td>server</td><td>9935.650</td><td>5</td><td>2</td><td>5</td><td>6</td><td> 7</td><td>11</td><td>1</td></tr>\n\t<tr><td>server</td><td>9936.470</td><td>5</td><td>1</td><td>5</td><td>6</td><td> 6</td><td>11</td><td>1</td></tr>\n\t<tr><td>server</td><td>9944.970</td><td>5</td><td>2</td><td>5</td><td>6</td><td> 7</td><td>11</td><td>1</td></tr>\n\t<tr><td>server</td><td>9946.735</td><td>5</td><td>3</td><td>5</td><td>6</td><td> 8</td><td>11</td><td>1</td></tr>\n\t<tr><td>server</td><td>9947.351</td><td>5</td><td>4</td><td>5</td><td>6</td><td> 9</td><td>11</td><td>1</td></tr>\n\t<tr><td>server</td><td>9952.185</td><td>5</td><td>5</td><td>5</td><td>6</td><td>10</td><td>11</td><td>1</td></tr>\n\t<tr><td>server</td><td>9957.585</td><td>5</td><td>6</td><td>5</td><td>6</td><td>11</td><td>11</td><td>1</td></tr>\n\t<tr><td>server</td><td>9965.967</td><td>5</td><td>5</td><td>5</td><td>6</td><td>10</td><td>11</td><td>1</td></tr>\n\t<tr><td>server</td><td>9967.779</td><td>5</td><td>4</td><td>5</td><td>6</td><td> 9</td><td>11</td><td>1</td></tr>\n\t<tr><td>server</td><td>9973.628</td><td>5</td><td>5</td><td>5</td><td>6</td><td>10</td><td>11</td><td>1</td></tr>\n\t<tr><td>server</td><td>9974.803</td><td>5</td><td>6</td><td>5</td><td>6</td><td>11</td><td>11</td><td>1</td></tr>\n</tbody>\n</table>\n",
                        "text/latex": "A data.frame: 2189 \u00d7 9\n\\begin{tabular}{lllllllll}\n resource & time & server & queue & capacity & queue\\_size & system & limit & replication\\\\\n <chr> & <dbl> & <int> & <int> & <dbl> & <dbl> & <int> & <dbl> & <int>\\\\\n\\hline\n\t server &  16.67226 & 1 & 0 & 5 & 6 &  1 & 11 & 1\\\\\n\t server &  31.24034 & 2 & 0 & 5 & 6 &  2 & 11 & 1\\\\\n\t server &  35.81829 & 3 & 0 & 5 & 6 &  3 & 11 & 1\\\\\n\t server &  36.64213 & 2 & 0 & 5 & 6 &  2 & 11 & 1\\\\\n\t server &  40.92799 & 3 & 0 & 5 & 6 &  3 & 11 & 1\\\\\n\t server &  51.37941 & 4 & 0 & 5 & 6 &  4 & 11 & 1\\\\\n\t server &  57.45350 & 5 & 0 & 5 & 6 &  5 & 11 & 1\\\\\n\t server &  57.73664 & 4 & 0 & 5 & 6 &  4 & 11 & 1\\\\\n\t server &  59.29181 & 3 & 0 & 5 & 6 &  3 & 11 & 1\\\\\n\t server &  61.09685 & 4 & 0 & 5 & 6 &  4 & 11 & 1\\\\\n\t server &  63.68863 & 5 & 0 & 5 & 6 &  5 & 11 & 1\\\\\n\t server &  64.42635 & 5 & 1 & 5 & 6 &  6 & 11 & 1\\\\\n\t server &  66.07562 & 5 & 2 & 5 & 6 &  7 & 11 & 1\\\\\n\t server &  69.50342 & 5 & 3 & 5 & 6 &  8 & 11 & 1\\\\\n\t server &  71.03113 & 5 & 4 & 5 & 6 &  9 & 11 & 1\\\\\n\t server &  77.48185 & 5 & 5 & 5 & 6 & 10 & 11 & 1\\\\\n\t server &  79.67768 & 5 & 6 & 5 & 6 & 11 & 11 & 1\\\\\n\t server &  97.41570 & 5 & 5 & 5 & 6 & 10 & 11 & 1\\\\\n\t server & 100.95869 & 5 & 4 & 5 & 6 &  9 & 11 & 1\\\\\n\t server & 102.75857 & 5 & 3 & 5 & 6 &  8 & 11 & 1\\\\\n\t server & 104.74673 & 5 & 4 & 5 & 6 &  9 & 11 & 1\\\\\n\t server & 109.49688 & 5 & 5 & 5 & 6 & 10 & 11 & 1\\\\\n\t server & 110.51717 & 5 & 6 & 5 & 6 & 11 & 11 & 1\\\\\n\t server & 115.43282 & 5 & 5 & 5 & 6 & 10 & 11 & 1\\\\\n\t server & 116.33314 & 5 & 4 & 5 & 6 &  9 & 11 & 1\\\\\n\t server & 117.05312 & 5 & 5 & 5 & 6 & 10 & 11 & 1\\\\\n\t server & 118.87933 & 5 & 6 & 5 & 6 & 11 & 11 & 1\\\\\n\t server & 151.85885 & 5 & 5 & 5 & 6 & 10 & 11 & 1\\\\\n\t server & 153.25390 & 5 & 6 & 5 & 6 & 11 & 11 & 1\\\\\n\t server & 156.62320 & 5 & 5 & 5 & 6 & 10 & 11 & 1\\\\\n\t \u22ee & \u22ee & \u22ee & \u22ee & \u22ee & \u22ee & \u22ee & \u22ee & \u22ee\\\\\n\t server & 9850.159 & 5 & 5 & 5 & 6 & 10 & 11 & 1\\\\\n\t server & 9851.045 & 5 & 6 & 5 & 6 & 11 & 11 & 1\\\\\n\t server & 9863.170 & 5 & 5 & 5 & 6 & 10 & 11 & 1\\\\\n\t server & 9865.351 & 5 & 4 & 5 & 6 &  9 & 11 & 1\\\\\n\t server & 9866.231 & 5 & 3 & 5 & 6 &  8 & 11 & 1\\\\\n\t server & 9868.796 & 5 & 2 & 5 & 6 &  7 & 11 & 1\\\\\n\t server & 9870.576 & 5 & 3 & 5 & 6 &  8 & 11 & 1\\\\\n\t server & 9871.555 & 5 & 2 & 5 & 6 &  7 & 11 & 1\\\\\n\t server & 9871.864 & 5 & 3 & 5 & 6 &  8 & 11 & 1\\\\\n\t server & 9872.161 & 5 & 4 & 5 & 6 &  9 & 11 & 1\\\\\n\t server & 9878.679 & 5 & 5 & 5 & 6 & 10 & 11 & 1\\\\\n\t server & 9890.151 & 5 & 4 & 5 & 6 &  9 & 11 & 1\\\\\n\t server & 9902.985 & 5 & 5 & 5 & 6 & 10 & 11 & 1\\\\\n\t server & 9908.342 & 5 & 6 & 5 & 6 & 11 & 11 & 1\\\\\n\t server & 9919.537 & 5 & 5 & 5 & 6 & 10 & 11 & 1\\\\\n\t server & 9921.073 & 5 & 4 & 5 & 6 &  9 & 11 & 1\\\\\n\t server & 9925.355 & 5 & 3 & 5 & 6 &  8 & 11 & 1\\\\\n\t server & 9926.083 & 5 & 2 & 5 & 6 &  7 & 11 & 1\\\\\n\t server & 9926.651 & 5 & 1 & 5 & 6 &  6 & 11 & 1\\\\\n\t server & 9935.650 & 5 & 2 & 5 & 6 &  7 & 11 & 1\\\\\n\t server & 9936.470 & 5 & 1 & 5 & 6 &  6 & 11 & 1\\\\\n\t server & 9944.970 & 5 & 2 & 5 & 6 &  7 & 11 & 1\\\\\n\t server & 9946.735 & 5 & 3 & 5 & 6 &  8 & 11 & 1\\\\\n\t server & 9947.351 & 5 & 4 & 5 & 6 &  9 & 11 & 1\\\\\n\t server & 9952.185 & 5 & 5 & 5 & 6 & 10 & 11 & 1\\\\\n\t server & 9957.585 & 5 & 6 & 5 & 6 & 11 & 11 & 1\\\\\n\t server & 9965.967 & 5 & 5 & 5 & 6 & 10 & 11 & 1\\\\\n\t server & 9967.779 & 5 & 4 & 5 & 6 &  9 & 11 & 1\\\\\n\t server & 9973.628 & 5 & 5 & 5 & 6 & 10 & 11 & 1\\\\\n\t server & 9974.803 & 5 & 6 & 5 & 6 & 11 & 11 & 1\\\\\n\\end{tabular}\n",
                        "text/markdown": "\nA data.frame: 2189 \u00d7 9\n\n| resource &lt;chr&gt; | time &lt;dbl&gt; | server &lt;int&gt; | queue &lt;int&gt; | capacity &lt;dbl&gt; | queue_size &lt;dbl&gt; | system &lt;int&gt; | limit &lt;dbl&gt; | replication &lt;int&gt; |\n|---|---|---|---|---|---|---|---|---|\n| server |  16.67226 | 1 | 0 | 5 | 6 |  1 | 11 | 1 |\n| server |  31.24034 | 2 | 0 | 5 | 6 |  2 | 11 | 1 |\n| server |  35.81829 | 3 | 0 | 5 | 6 |  3 | 11 | 1 |\n| server |  36.64213 | 2 | 0 | 5 | 6 |  2 | 11 | 1 |\n| server |  40.92799 | 3 | 0 | 5 | 6 |  3 | 11 | 1 |\n| server |  51.37941 | 4 | 0 | 5 | 6 |  4 | 11 | 1 |\n| server |  57.45350 | 5 | 0 | 5 | 6 |  5 | 11 | 1 |\n| server |  57.73664 | 4 | 0 | 5 | 6 |  4 | 11 | 1 |\n| server |  59.29181 | 3 | 0 | 5 | 6 |  3 | 11 | 1 |\n| server |  61.09685 | 4 | 0 | 5 | 6 |  4 | 11 | 1 |\n| server |  63.68863 | 5 | 0 | 5 | 6 |  5 | 11 | 1 |\n| server |  64.42635 | 5 | 1 | 5 | 6 |  6 | 11 | 1 |\n| server |  66.07562 | 5 | 2 | 5 | 6 |  7 | 11 | 1 |\n| server |  69.50342 | 5 | 3 | 5 | 6 |  8 | 11 | 1 |\n| server |  71.03113 | 5 | 4 | 5 | 6 |  9 | 11 | 1 |\n| server |  77.48185 | 5 | 5 | 5 | 6 | 10 | 11 | 1 |\n| server |  79.67768 | 5 | 6 | 5 | 6 | 11 | 11 | 1 |\n| server |  97.41570 | 5 | 5 | 5 | 6 | 10 | 11 | 1 |\n| server | 100.95869 | 5 | 4 | 5 | 6 |  9 | 11 | 1 |\n| server | 102.75857 | 5 | 3 | 5 | 6 |  8 | 11 | 1 |\n| server | 104.74673 | 5 | 4 | 5 | 6 |  9 | 11 | 1 |\n| server | 109.49688 | 5 | 5 | 5 | 6 | 10 | 11 | 1 |\n| server | 110.51717 | 5 | 6 | 5 | 6 | 11 | 11 | 1 |\n| server | 115.43282 | 5 | 5 | 5 | 6 | 10 | 11 | 1 |\n| server | 116.33314 | 5 | 4 | 5 | 6 |  9 | 11 | 1 |\n| server | 117.05312 | 5 | 5 | 5 | 6 | 10 | 11 | 1 |\n| server | 118.87933 | 5 | 6 | 5 | 6 | 11 | 11 | 1 |\n| server | 151.85885 | 5 | 5 | 5 | 6 | 10 | 11 | 1 |\n| server | 153.25390 | 5 | 6 | 5 | 6 | 11 | 11 | 1 |\n| server | 156.62320 | 5 | 5 | 5 | 6 | 10 | 11 | 1 |\n| \u22ee | \u22ee | \u22ee | \u22ee | \u22ee | \u22ee | \u22ee | \u22ee | \u22ee |\n| server | 9850.159 | 5 | 5 | 5 | 6 | 10 | 11 | 1 |\n| server | 9851.045 | 5 | 6 | 5 | 6 | 11 | 11 | 1 |\n| server | 9863.170 | 5 | 5 | 5 | 6 | 10 | 11 | 1 |\n| server | 9865.351 | 5 | 4 | 5 | 6 |  9 | 11 | 1 |\n| server | 9866.231 | 5 | 3 | 5 | 6 |  8 | 11 | 1 |\n| server | 9868.796 | 5 | 2 | 5 | 6 |  7 | 11 | 1 |\n| server | 9870.576 | 5 | 3 | 5 | 6 |  8 | 11 | 1 |\n| server | 9871.555 | 5 | 2 | 5 | 6 |  7 | 11 | 1 |\n| server | 9871.864 | 5 | 3 | 5 | 6 |  8 | 11 | 1 |\n| server | 9872.161 | 5 | 4 | 5 | 6 |  9 | 11 | 1 |\n| server | 9878.679 | 5 | 5 | 5 | 6 | 10 | 11 | 1 |\n| server | 9890.151 | 5 | 4 | 5 | 6 |  9 | 11 | 1 |\n| server | 9902.985 | 5 | 5 | 5 | 6 | 10 | 11 | 1 |\n| server | 9908.342 | 5 | 6 | 5 | 6 | 11 | 11 | 1 |\n| server | 9919.537 | 5 | 5 | 5 | 6 | 10 | 11 | 1 |\n| server | 9921.073 | 5 | 4 | 5 | 6 |  9 | 11 | 1 |\n| server | 9925.355 | 5 | 3 | 5 | 6 |  8 | 11 | 1 |\n| server | 9926.083 | 5 | 2 | 5 | 6 |  7 | 11 | 1 |\n| server | 9926.651 | 5 | 1 | 5 | 6 |  6 | 11 | 1 |\n| server | 9935.650 | 5 | 2 | 5 | 6 |  7 | 11 | 1 |\n| server | 9936.470 | 5 | 1 | 5 | 6 |  6 | 11 | 1 |\n| server | 9944.970 | 5 | 2 | 5 | 6 |  7 | 11 | 1 |\n| server | 9946.735 | 5 | 3 | 5 | 6 |  8 | 11 | 1 |\n| server | 9947.351 | 5 | 4 | 5 | 6 |  9 | 11 | 1 |\n| server | 9952.185 | 5 | 5 | 5 | 6 | 10 | 11 | 1 |\n| server | 9957.585 | 5 | 6 | 5 | 6 | 11 | 11 | 1 |\n| server | 9965.967 | 5 | 5 | 5 | 6 | 10 | 11 | 1 |\n| server | 9967.779 | 5 | 4 | 5 | 6 |  9 | 11 | 1 |\n| server | 9973.628 | 5 | 5 | 5 | 6 | 10 | 11 | 1 |\n| server | 9974.803 | 5 | 6 | 5 | 6 | 11 | 11 | 1 |\n\n",
                        "text/plain": "     resource time      server queue capacity queue_size system limit\n1    server    16.67226 1      0     5        6           1     11   \n2    server    31.24034 2      0     5        6           2     11   \n3    server    35.81829 3      0     5        6           3     11   \n4    server    36.64213 2      0     5        6           2     11   \n5    server    40.92799 3      0     5        6           3     11   \n6    server    51.37941 4      0     5        6           4     11   \n7    server    57.45350 5      0     5        6           5     11   \n8    server    57.73664 4      0     5        6           4     11   \n9    server    59.29181 3      0     5        6           3     11   \n10   server    61.09685 4      0     5        6           4     11   \n11   server    63.68863 5      0     5        6           5     11   \n12   server    64.42635 5      1     5        6           6     11   \n13   server    66.07562 5      2     5        6           7     11   \n14   server    69.50342 5      3     5        6           8     11   \n15   server    71.03113 5      4     5        6           9     11   \n16   server    77.48185 5      5     5        6          10     11   \n17   server    79.67768 5      6     5        6          11     11   \n18   server    97.41570 5      5     5        6          10     11   \n19   server   100.95869 5      4     5        6           9     11   \n20   server   102.75857 5      3     5        6           8     11   \n21   server   104.74673 5      4     5        6           9     11   \n22   server   109.49688 5      5     5        6          10     11   \n23   server   110.51717 5      6     5        6          11     11   \n24   server   115.43282 5      5     5        6          10     11   \n25   server   116.33314 5      4     5        6           9     11   \n26   server   117.05312 5      5     5        6          10     11   \n27   server   118.87933 5      6     5        6          11     11   \n28   server   151.85885 5      5     5        6          10     11   \n29   server   153.25390 5      6     5        6          11     11   \n30   server   156.62320 5      5     5        6          10     11   \n\u22ee    \u22ee        \u22ee         \u22ee      \u22ee     \u22ee        \u22ee          \u22ee      \u22ee    \n2160 server   9850.159  5      5     5        6          10     11   \n2161 server   9851.045  5      6     5        6          11     11   \n2162 server   9863.170  5      5     5        6          10     11   \n2163 server   9865.351  5      4     5        6           9     11   \n2164 server   9866.231  5      3     5        6           8     11   \n2165 server   9868.796  5      2     5        6           7     11   \n2166 server   9870.576  5      3     5        6           8     11   \n2167 server   9871.555  5      2     5        6           7     11   \n2168 server   9871.864  5      3     5        6           8     11   \n2169 server   9872.161  5      4     5        6           9     11   \n2170 server   9878.679  5      5     5        6          10     11   \n2171 server   9890.151  5      4     5        6           9     11   \n2172 server   9902.985  5      5     5        6          10     11   \n2173 server   9908.342  5      6     5        6          11     11   \n2174 server   9919.537  5      5     5        6          10     11   \n2175 server   9921.073  5      4     5        6           9     11   \n2176 server   9925.355  5      3     5        6           8     11   \n2177 server   9926.083  5      2     5        6           7     11   \n2178 server   9926.651  5      1     5        6           6     11   \n2179 server   9935.650  5      2     5        6           7     11   \n2180 server   9936.470  5      1     5        6           6     11   \n2181 server   9944.970  5      2     5        6           7     11   \n2182 server   9946.735  5      3     5        6           8     11   \n2183 server   9947.351  5      4     5        6           9     11   \n2184 server   9952.185  5      5     5        6          10     11   \n2185 server   9957.585  5      6     5        6          11     11   \n2186 server   9965.967  5      5     5        6          10     11   \n2187 server   9967.779  5      4     5        6           9     11   \n2188 server   9973.628  5      5     5        6          10     11   \n2189 server   9974.803  5      6     5        6          11     11   \n     replication\n1    1          \n2    1          \n3    1          \n4    1          \n5    1          \n6    1          \n7    1          \n8    1          \n9    1          \n10   1          \n11   1          \n12   1          \n13   1          \n14   1          \n15   1          \n16   1          \n17   1          \n18   1          \n19   1          \n20   1          \n21   1          \n22   1          \n23   1          \n24   1          \n25   1          \n26   1          \n27   1          \n28   1          \n29   1          \n30   1          \n\u22ee    \u22ee          \n2160 1          \n2161 1          \n2162 1          \n2163 1          \n2164 1          \n2165 1          \n2166 1          \n2167 1          \n2168 1          \n2169 1          \n2170 1          \n2171 1          \n2172 1          \n2173 1          \n2174 1          \n2175 1          \n2176 1          \n2177 1          \n2178 1          \n2179 1          \n2180 1          \n2181 1          \n2182 1          \n2183 1          \n2184 1          \n2185 1          \n2186 1          \n2187 1          \n2188 1          \n2189 1          "
                    },
                    "metadata": {},
                    "output_type": "display_data"
                }
            ],
            "source": "resources <- get_mon_resources(env)\nresources"
        },
        {
            "cell_type": "code",
            "execution_count": 264,
            "metadata": {
                "trusted": true
            },
            "outputs": [],
            "source": "probability <- resources %>% with(sum(server == m) / length(server)) / 2\nresults$probability[2] <- probability"
        },
        {
            "cell_type": "markdown",
            "metadata": {},
            "source": "#### 2. \u0421\u0440\u0435\u0434\u043d\u0435\u0435 \u0432\u0440\u0435\u043c\u044f \u0434\u043e \u043f\u043e\u043b\u0443\u0447\u0435\u043d\u0438\u044f \u043f\u043e\u043b\u044c\u0437\u043e\u0432\u0430\u0442\u0435\u043b\u0435\u043c \u0440\u0435\u0437\u0443\u043b\u044c\u0442\u0430\u0442\u043e\u0432 \u0440\u0435\u0430\u043b\u0438\u0437\u0430\u0446\u0438\u0438."
        },
        {
            "cell_type": "code",
            "execution_count": 265,
            "metadata": {
                "trusted": true
            },
            "outputs": [
                {
                    "data": {
                        "text/html": "<table class=\"dataframe\">\n<caption>A data.frame: 2411 \u00d7 6</caption>\n<thead>\n\t<tr><th scope=col>name</th><th scope=col>start_time</th><th scope=col>end_time</th><th scope=col>activity_time</th><th scope=col>finished</th><th scope=col>replication</th></tr>\n\t<tr><th scope=col>&lt;chr&gt;</th><th scope=col>&lt;dbl&gt;</th><th scope=col>&lt;dbl&gt;</th><th scope=col>&lt;dbl&gt;</th><th scope=col>&lt;lgl&gt;</th><th scope=col>&lt;int&gt;</th></tr>\n</thead>\n<tbody>\n\t<tr><td>programs2 </td><td> 35.81829</td><td> 36.64213</td><td>  0.8238416</td><td> TRUE</td><td>1</td></tr>\n\t<tr><td>programs0 </td><td> 16.67226</td><td> 57.73664</td><td> 41.0643827</td><td> TRUE</td><td>1</td></tr>\n\t<tr><td>programs4 </td><td> 51.37941</td><td> 59.29181</td><td>  7.9124009</td><td> TRUE</td><td>1</td></tr>\n\t<tr><td>programs14</td><td> 80.04084</td><td> 80.04084</td><td>  0.0000000</td><td>FALSE</td><td>1</td></tr>\n\t<tr><td>programs15</td><td> 81.16490</td><td> 81.16490</td><td>  0.0000000</td><td>FALSE</td><td>1</td></tr>\n\t<tr><td>programs16</td><td> 95.57392</td><td> 95.57392</td><td>  0.0000000</td><td>FALSE</td><td>1</td></tr>\n\t<tr><td>programs5 </td><td> 57.45350</td><td> 97.41570</td><td> 39.9622043</td><td> TRUE</td><td>1</td></tr>\n\t<tr><td>programs1 </td><td> 31.24034</td><td>100.95869</td><td> 69.7183571</td><td> TRUE</td><td>1</td></tr>\n\t<tr><td>programs7 </td><td> 63.68863</td><td>102.75857</td><td> 39.0699411</td><td> TRUE</td><td>1</td></tr>\n\t<tr><td>programs10</td><td> 69.50342</td><td>115.43282</td><td> 12.6742505</td><td> TRUE</td><td>1</td></tr>\n\t<tr><td>programs11</td><td> 71.03113</td><td>116.33314</td><td>  0.9003244</td><td> TRUE</td><td>1</td></tr>\n\t<tr><td>programs22</td><td>120.20919</td><td>120.20919</td><td>  0.0000000</td><td>FALSE</td><td>1</td></tr>\n\t<tr><td>programs23</td><td>126.10427</td><td>126.10427</td><td>  0.0000000</td><td>FALSE</td><td>1</td></tr>\n\t<tr><td>programs24</td><td>135.45862</td><td>135.45862</td><td>  0.0000000</td><td>FALSE</td><td>1</td></tr>\n\t<tr><td>programs25</td><td>145.65122</td><td>145.65122</td><td>  0.0000000</td><td>FALSE</td><td>1</td></tr>\n\t<tr><td>programs12</td><td> 77.48185</td><td>151.85885</td><td> 35.5257063</td><td> TRUE</td><td>1</td></tr>\n\t<tr><td>programs27</td><td>155.57645</td><td>155.57645</td><td>  0.0000000</td><td>FALSE</td><td>1</td></tr>\n\t<tr><td>programs6 </td><td> 61.09685</td><td>156.62320</td><td> 95.5263474</td><td> TRUE</td><td>1</td></tr>\n\t<tr><td>programs8 </td><td> 64.42635</td><td>160.78155</td><td> 63.3658509</td><td> TRUE</td><td>1</td></tr>\n\t<tr><td>programs13</td><td> 79.67768</td><td>163.97669</td><td> 12.1178423</td><td> TRUE</td><td>1</td></tr>\n\t<tr><td>programs19</td><td>110.51717</td><td>167.49997</td><td>  3.5232758</td><td> TRUE</td><td>1</td></tr>\n\t<tr><td>programs18</td><td>109.49688</td><td>175.35839</td><td> 14.5768438</td><td> TRUE</td><td>1</td></tr>\n\t<tr><td>programs17</td><td>104.74673</td><td>178.76462</td><td> 22.1414227</td><td> TRUE</td><td>1</td></tr>\n\t<tr><td>programs21</td><td>118.87933</td><td>186.77025</td><td> 11.4118528</td><td> TRUE</td><td>1</td></tr>\n\t<tr><td>programs20</td><td>117.05312</td><td>191.14170</td><td> 23.6417298</td><td> TRUE</td><td>1</td></tr>\n\t<tr><td>programs26</td><td>153.25390</td><td>195.98582</td><td> 17.2211971</td><td> TRUE</td><td>1</td></tr>\n\t<tr><td>programs3 </td><td> 40.92799</td><td>204.30960</td><td>163.3816172</td><td> TRUE</td><td>1</td></tr>\n\t<tr><td>programs29</td><td>169.99611</td><td>207.18057</td><td> 16.0388680</td><td> TRUE</td><td>1</td></tr>\n\t<tr><td>programs32</td><td>184.66366</td><td>207.70257</td><td>  0.5220065</td><td> TRUE</td><td>1</td></tr>\n\t<tr><td>programs28</td><td>167.81758</td><td>215.24123</td><td> 28.4709799</td><td> TRUE</td><td>1</td></tr>\n\t<tr><td>\u22ee</td><td>\u22ee</td><td>\u22ee</td><td>\u22ee</td><td>\u22ee</td><td>\u22ee</td></tr>\n\t<tr><td>programs2392</td><td>9857.839</td><td>9857.839</td><td> 0.000000</td><td>FALSE</td><td>1</td></tr>\n\t<tr><td>programs2361</td><td>9765.031</td><td>9863.170</td><td>82.917023</td><td> TRUE</td><td>1</td></tr>\n\t<tr><td>programs2369</td><td>9792.739</td><td>9865.351</td><td>43.614402</td><td> TRUE</td><td>1</td></tr>\n\t<tr><td>programs2377</td><td>9814.039</td><td>9866.231</td><td>16.072126</td><td> TRUE</td><td>1</td></tr>\n\t<tr><td>programs2368</td><td>9792.660</td><td>9868.796</td><td>51.094802</td><td> TRUE</td><td>1</td></tr>\n\t<tr><td>programs2381</td><td>9822.947</td><td>9871.555</td><td> 5.323441</td><td> TRUE</td><td>1</td></tr>\n\t<tr><td>programs2380</td><td>9821.582</td><td>9890.151</td><td>24.800024</td><td> TRUE</td><td>1</td></tr>\n\t<tr><td>programs2399</td><td>9908.720</td><td>9908.720</td><td> 0.000000</td><td>FALSE</td><td>1</td></tr>\n\t<tr><td>programs2400</td><td>9913.408</td><td>9913.408</td><td> 0.000000</td><td>FALSE</td><td>1</td></tr>\n\t<tr><td>programs2401</td><td>9917.015</td><td>9917.015</td><td> 0.000000</td><td>FALSE</td><td>1</td></tr>\n\t<tr><td>programs2379</td><td>9816.808</td><td>9919.537</td><td>56.367414</td><td> TRUE</td><td>1</td></tr>\n\t<tr><td>programs2390</td><td>9851.045</td><td>9921.073</td><td>30.922405</td><td> TRUE</td><td>1</td></tr>\n\t<tr><td>programs2373</td><td>9808.669</td><td>9925.355</td><td>88.902643</td><td> TRUE</td><td>1</td></tr>\n\t<tr><td>programs2386</td><td>9841.617</td><td>9926.083</td><td>54.527968</td><td> TRUE</td><td>1</td></tr>\n\t<tr><td>programs2393</td><td>9870.576</td><td>9926.651</td><td> 7.113823</td><td> TRUE</td><td>1</td></tr>\n\t<tr><td>programs2397</td><td>9902.985</td><td>9936.470</td><td> 9.818807</td><td> TRUE</td><td>1</td></tr>\n\t<tr><td>programs2408</td><td>9957.835</td><td>9957.835</td><td> 0.000000</td><td>FALSE</td><td>1</td></tr>\n\t<tr><td>programs2409</td><td>9959.049</td><td>9959.049</td><td> 0.000000</td><td>FALSE</td><td>1</td></tr>\n\t<tr><td>programs2410</td><td>9961.760</td><td>9961.760</td><td> 0.000000</td><td>FALSE</td><td>1</td></tr>\n\t<tr><td>programs2411</td><td>9962.502</td><td>9962.502</td><td> 0.000000</td><td>FALSE</td><td>1</td></tr>\n\t<tr><td>programs2412</td><td>9964.540</td><td>9964.540</td><td> 0.000000</td><td>FALSE</td><td>1</td></tr>\n\t<tr><td>programs2394</td><td>9871.864</td><td>9965.967</td><td>44.893681</td><td> TRUE</td><td>1</td></tr>\n\t<tr><td>programs2384</td><td>9832.892</td><td>9967.779</td><td>98.982853</td><td> TRUE</td><td>1</td></tr>\n\t<tr><td>programs2415</td><td>9975.139</td><td>9975.139</td><td> 0.000000</td><td>FALSE</td><td>1</td></tr>\n\t<tr><td>programs2416</td><td>9979.925</td><td>9979.925</td><td> 0.000000</td><td>FALSE</td><td>1</td></tr>\n\t<tr><td>programs2417</td><td>9985.736</td><td>9985.736</td><td> 0.000000</td><td>FALSE</td><td>1</td></tr>\n\t<tr><td>programs2418</td><td>9986.541</td><td>9986.541</td><td> 0.000000</td><td>FALSE</td><td>1</td></tr>\n\t<tr><td>programs2419</td><td>9989.168</td><td>9989.168</td><td> 0.000000</td><td>FALSE</td><td>1</td></tr>\n\t<tr><td>programs2420</td><td>9996.003</td><td>9996.003</td><td> 0.000000</td><td>FALSE</td><td>1</td></tr>\n\t<tr><td>programs2421</td><td>9999.064</td><td>9999.064</td><td> 0.000000</td><td>FALSE</td><td>1</td></tr>\n</tbody>\n</table>\n",
                        "text/latex": "A data.frame: 2411 \u00d7 6\n\\begin{tabular}{llllll}\n name & start\\_time & end\\_time & activity\\_time & finished & replication\\\\\n <chr> & <dbl> & <dbl> & <dbl> & <lgl> & <int>\\\\\n\\hline\n\t programs2  &  35.81829 &  36.64213 &   0.8238416 &  TRUE & 1\\\\\n\t programs0  &  16.67226 &  57.73664 &  41.0643827 &  TRUE & 1\\\\\n\t programs4  &  51.37941 &  59.29181 &   7.9124009 &  TRUE & 1\\\\\n\t programs14 &  80.04084 &  80.04084 &   0.0000000 & FALSE & 1\\\\\n\t programs15 &  81.16490 &  81.16490 &   0.0000000 & FALSE & 1\\\\\n\t programs16 &  95.57392 &  95.57392 &   0.0000000 & FALSE & 1\\\\\n\t programs5  &  57.45350 &  97.41570 &  39.9622043 &  TRUE & 1\\\\\n\t programs1  &  31.24034 & 100.95869 &  69.7183571 &  TRUE & 1\\\\\n\t programs7  &  63.68863 & 102.75857 &  39.0699411 &  TRUE & 1\\\\\n\t programs10 &  69.50342 & 115.43282 &  12.6742505 &  TRUE & 1\\\\\n\t programs11 &  71.03113 & 116.33314 &   0.9003244 &  TRUE & 1\\\\\n\t programs22 & 120.20919 & 120.20919 &   0.0000000 & FALSE & 1\\\\\n\t programs23 & 126.10427 & 126.10427 &   0.0000000 & FALSE & 1\\\\\n\t programs24 & 135.45862 & 135.45862 &   0.0000000 & FALSE & 1\\\\\n\t programs25 & 145.65122 & 145.65122 &   0.0000000 & FALSE & 1\\\\\n\t programs12 &  77.48185 & 151.85885 &  35.5257063 &  TRUE & 1\\\\\n\t programs27 & 155.57645 & 155.57645 &   0.0000000 & FALSE & 1\\\\\n\t programs6  &  61.09685 & 156.62320 &  95.5263474 &  TRUE & 1\\\\\n\t programs8  &  64.42635 & 160.78155 &  63.3658509 &  TRUE & 1\\\\\n\t programs13 &  79.67768 & 163.97669 &  12.1178423 &  TRUE & 1\\\\\n\t programs19 & 110.51717 & 167.49997 &   3.5232758 &  TRUE & 1\\\\\n\t programs18 & 109.49688 & 175.35839 &  14.5768438 &  TRUE & 1\\\\\n\t programs17 & 104.74673 & 178.76462 &  22.1414227 &  TRUE & 1\\\\\n\t programs21 & 118.87933 & 186.77025 &  11.4118528 &  TRUE & 1\\\\\n\t programs20 & 117.05312 & 191.14170 &  23.6417298 &  TRUE & 1\\\\\n\t programs26 & 153.25390 & 195.98582 &  17.2211971 &  TRUE & 1\\\\\n\t programs3  &  40.92799 & 204.30960 & 163.3816172 &  TRUE & 1\\\\\n\t programs29 & 169.99611 & 207.18057 &  16.0388680 &  TRUE & 1\\\\\n\t programs32 & 184.66366 & 207.70257 &   0.5220065 &  TRUE & 1\\\\\n\t programs28 & 167.81758 & 215.24123 &  28.4709799 &  TRUE & 1\\\\\n\t \u22ee & \u22ee & \u22ee & \u22ee & \u22ee & \u22ee\\\\\n\t programs2392 & 9857.839 & 9857.839 &  0.000000 & FALSE & 1\\\\\n\t programs2361 & 9765.031 & 9863.170 & 82.917023 &  TRUE & 1\\\\\n\t programs2369 & 9792.739 & 9865.351 & 43.614402 &  TRUE & 1\\\\\n\t programs2377 & 9814.039 & 9866.231 & 16.072126 &  TRUE & 1\\\\\n\t programs2368 & 9792.660 & 9868.796 & 51.094802 &  TRUE & 1\\\\\n\t programs2381 & 9822.947 & 9871.555 &  5.323441 &  TRUE & 1\\\\\n\t programs2380 & 9821.582 & 9890.151 & 24.800024 &  TRUE & 1\\\\\n\t programs2399 & 9908.720 & 9908.720 &  0.000000 & FALSE & 1\\\\\n\t programs2400 & 9913.408 & 9913.408 &  0.000000 & FALSE & 1\\\\\n\t programs2401 & 9917.015 & 9917.015 &  0.000000 & FALSE & 1\\\\\n\t programs2379 & 9816.808 & 9919.537 & 56.367414 &  TRUE & 1\\\\\n\t programs2390 & 9851.045 & 9921.073 & 30.922405 &  TRUE & 1\\\\\n\t programs2373 & 9808.669 & 9925.355 & 88.902643 &  TRUE & 1\\\\\n\t programs2386 & 9841.617 & 9926.083 & 54.527968 &  TRUE & 1\\\\\n\t programs2393 & 9870.576 & 9926.651 &  7.113823 &  TRUE & 1\\\\\n\t programs2397 & 9902.985 & 9936.470 &  9.818807 &  TRUE & 1\\\\\n\t programs2408 & 9957.835 & 9957.835 &  0.000000 & FALSE & 1\\\\\n\t programs2409 & 9959.049 & 9959.049 &  0.000000 & FALSE & 1\\\\\n\t programs2410 & 9961.760 & 9961.760 &  0.000000 & FALSE & 1\\\\\n\t programs2411 & 9962.502 & 9962.502 &  0.000000 & FALSE & 1\\\\\n\t programs2412 & 9964.540 & 9964.540 &  0.000000 & FALSE & 1\\\\\n\t programs2394 & 9871.864 & 9965.967 & 44.893681 &  TRUE & 1\\\\\n\t programs2384 & 9832.892 & 9967.779 & 98.982853 &  TRUE & 1\\\\\n\t programs2415 & 9975.139 & 9975.139 &  0.000000 & FALSE & 1\\\\\n\t programs2416 & 9979.925 & 9979.925 &  0.000000 & FALSE & 1\\\\\n\t programs2417 & 9985.736 & 9985.736 &  0.000000 & FALSE & 1\\\\\n\t programs2418 & 9986.541 & 9986.541 &  0.000000 & FALSE & 1\\\\\n\t programs2419 & 9989.168 & 9989.168 &  0.000000 & FALSE & 1\\\\\n\t programs2420 & 9996.003 & 9996.003 &  0.000000 & FALSE & 1\\\\\n\t programs2421 & 9999.064 & 9999.064 &  0.000000 & FALSE & 1\\\\\n\\end{tabular}\n",
                        "text/markdown": "\nA data.frame: 2411 \u00d7 6\n\n| name &lt;chr&gt; | start_time &lt;dbl&gt; | end_time &lt;dbl&gt; | activity_time &lt;dbl&gt; | finished &lt;lgl&gt; | replication &lt;int&gt; |\n|---|---|---|---|---|---|\n| programs2  |  35.81829 |  36.64213 |   0.8238416 |  TRUE | 1 |\n| programs0  |  16.67226 |  57.73664 |  41.0643827 |  TRUE | 1 |\n| programs4  |  51.37941 |  59.29181 |   7.9124009 |  TRUE | 1 |\n| programs14 |  80.04084 |  80.04084 |   0.0000000 | FALSE | 1 |\n| programs15 |  81.16490 |  81.16490 |   0.0000000 | FALSE | 1 |\n| programs16 |  95.57392 |  95.57392 |   0.0000000 | FALSE | 1 |\n| programs5  |  57.45350 |  97.41570 |  39.9622043 |  TRUE | 1 |\n| programs1  |  31.24034 | 100.95869 |  69.7183571 |  TRUE | 1 |\n| programs7  |  63.68863 | 102.75857 |  39.0699411 |  TRUE | 1 |\n| programs10 |  69.50342 | 115.43282 |  12.6742505 |  TRUE | 1 |\n| programs11 |  71.03113 | 116.33314 |   0.9003244 |  TRUE | 1 |\n| programs22 | 120.20919 | 120.20919 |   0.0000000 | FALSE | 1 |\n| programs23 | 126.10427 | 126.10427 |   0.0000000 | FALSE | 1 |\n| programs24 | 135.45862 | 135.45862 |   0.0000000 | FALSE | 1 |\n| programs25 | 145.65122 | 145.65122 |   0.0000000 | FALSE | 1 |\n| programs12 |  77.48185 | 151.85885 |  35.5257063 |  TRUE | 1 |\n| programs27 | 155.57645 | 155.57645 |   0.0000000 | FALSE | 1 |\n| programs6  |  61.09685 | 156.62320 |  95.5263474 |  TRUE | 1 |\n| programs8  |  64.42635 | 160.78155 |  63.3658509 |  TRUE | 1 |\n| programs13 |  79.67768 | 163.97669 |  12.1178423 |  TRUE | 1 |\n| programs19 | 110.51717 | 167.49997 |   3.5232758 |  TRUE | 1 |\n| programs18 | 109.49688 | 175.35839 |  14.5768438 |  TRUE | 1 |\n| programs17 | 104.74673 | 178.76462 |  22.1414227 |  TRUE | 1 |\n| programs21 | 118.87933 | 186.77025 |  11.4118528 |  TRUE | 1 |\n| programs20 | 117.05312 | 191.14170 |  23.6417298 |  TRUE | 1 |\n| programs26 | 153.25390 | 195.98582 |  17.2211971 |  TRUE | 1 |\n| programs3  |  40.92799 | 204.30960 | 163.3816172 |  TRUE | 1 |\n| programs29 | 169.99611 | 207.18057 |  16.0388680 |  TRUE | 1 |\n| programs32 | 184.66366 | 207.70257 |   0.5220065 |  TRUE | 1 |\n| programs28 | 167.81758 | 215.24123 |  28.4709799 |  TRUE | 1 |\n| \u22ee | \u22ee | \u22ee | \u22ee | \u22ee | \u22ee |\n| programs2392 | 9857.839 | 9857.839 |  0.000000 | FALSE | 1 |\n| programs2361 | 9765.031 | 9863.170 | 82.917023 |  TRUE | 1 |\n| programs2369 | 9792.739 | 9865.351 | 43.614402 |  TRUE | 1 |\n| programs2377 | 9814.039 | 9866.231 | 16.072126 |  TRUE | 1 |\n| programs2368 | 9792.660 | 9868.796 | 51.094802 |  TRUE | 1 |\n| programs2381 | 9822.947 | 9871.555 |  5.323441 |  TRUE | 1 |\n| programs2380 | 9821.582 | 9890.151 | 24.800024 |  TRUE | 1 |\n| programs2399 | 9908.720 | 9908.720 |  0.000000 | FALSE | 1 |\n| programs2400 | 9913.408 | 9913.408 |  0.000000 | FALSE | 1 |\n| programs2401 | 9917.015 | 9917.015 |  0.000000 | FALSE | 1 |\n| programs2379 | 9816.808 | 9919.537 | 56.367414 |  TRUE | 1 |\n| programs2390 | 9851.045 | 9921.073 | 30.922405 |  TRUE | 1 |\n| programs2373 | 9808.669 | 9925.355 | 88.902643 |  TRUE | 1 |\n| programs2386 | 9841.617 | 9926.083 | 54.527968 |  TRUE | 1 |\n| programs2393 | 9870.576 | 9926.651 |  7.113823 |  TRUE | 1 |\n| programs2397 | 9902.985 | 9936.470 |  9.818807 |  TRUE | 1 |\n| programs2408 | 9957.835 | 9957.835 |  0.000000 | FALSE | 1 |\n| programs2409 | 9959.049 | 9959.049 |  0.000000 | FALSE | 1 |\n| programs2410 | 9961.760 | 9961.760 |  0.000000 | FALSE | 1 |\n| programs2411 | 9962.502 | 9962.502 |  0.000000 | FALSE | 1 |\n| programs2412 | 9964.540 | 9964.540 |  0.000000 | FALSE | 1 |\n| programs2394 | 9871.864 | 9965.967 | 44.893681 |  TRUE | 1 |\n| programs2384 | 9832.892 | 9967.779 | 98.982853 |  TRUE | 1 |\n| programs2415 | 9975.139 | 9975.139 |  0.000000 | FALSE | 1 |\n| programs2416 | 9979.925 | 9979.925 |  0.000000 | FALSE | 1 |\n| programs2417 | 9985.736 | 9985.736 |  0.000000 | FALSE | 1 |\n| programs2418 | 9986.541 | 9986.541 |  0.000000 | FALSE | 1 |\n| programs2419 | 9989.168 | 9989.168 |  0.000000 | FALSE | 1 |\n| programs2420 | 9996.003 | 9996.003 |  0.000000 | FALSE | 1 |\n| programs2421 | 9999.064 | 9999.064 |  0.000000 | FALSE | 1 |\n\n",
                        "text/plain": "     name         start_time end_time  activity_time finished replication\n1    programs2     35.81829   36.64213   0.8238416    TRUE    1          \n2    programs0     16.67226   57.73664  41.0643827    TRUE    1          \n3    programs4     51.37941   59.29181   7.9124009    TRUE    1          \n4    programs14    80.04084   80.04084   0.0000000   FALSE    1          \n5    programs15    81.16490   81.16490   0.0000000   FALSE    1          \n6    programs16    95.57392   95.57392   0.0000000   FALSE    1          \n7    programs5     57.45350   97.41570  39.9622043    TRUE    1          \n8    programs1     31.24034  100.95869  69.7183571    TRUE    1          \n9    programs7     63.68863  102.75857  39.0699411    TRUE    1          \n10   programs10    69.50342  115.43282  12.6742505    TRUE    1          \n11   programs11    71.03113  116.33314   0.9003244    TRUE    1          \n12   programs22   120.20919  120.20919   0.0000000   FALSE    1          \n13   programs23   126.10427  126.10427   0.0000000   FALSE    1          \n14   programs24   135.45862  135.45862   0.0000000   FALSE    1          \n15   programs25   145.65122  145.65122   0.0000000   FALSE    1          \n16   programs12    77.48185  151.85885  35.5257063    TRUE    1          \n17   programs27   155.57645  155.57645   0.0000000   FALSE    1          \n18   programs6     61.09685  156.62320  95.5263474    TRUE    1          \n19   programs8     64.42635  160.78155  63.3658509    TRUE    1          \n20   programs13    79.67768  163.97669  12.1178423    TRUE    1          \n21   programs19   110.51717  167.49997   3.5232758    TRUE    1          \n22   programs18   109.49688  175.35839  14.5768438    TRUE    1          \n23   programs17   104.74673  178.76462  22.1414227    TRUE    1          \n24   programs21   118.87933  186.77025  11.4118528    TRUE    1          \n25   programs20   117.05312  191.14170  23.6417298    TRUE    1          \n26   programs26   153.25390  195.98582  17.2211971    TRUE    1          \n27   programs3     40.92799  204.30960 163.3816172    TRUE    1          \n28   programs29   169.99611  207.18057  16.0388680    TRUE    1          \n29   programs32   184.66366  207.70257   0.5220065    TRUE    1          \n30   programs28   167.81758  215.24123  28.4709799    TRUE    1          \n\u22ee    \u22ee            \u22ee          \u22ee         \u22ee             \u22ee        \u22ee          \n2382 programs2392 9857.839   9857.839   0.000000     FALSE    1          \n2383 programs2361 9765.031   9863.170  82.917023      TRUE    1          \n2384 programs2369 9792.739   9865.351  43.614402      TRUE    1          \n2385 programs2377 9814.039   9866.231  16.072126      TRUE    1          \n2386 programs2368 9792.660   9868.796  51.094802      TRUE    1          \n2387 programs2381 9822.947   9871.555   5.323441      TRUE    1          \n2388 programs2380 9821.582   9890.151  24.800024      TRUE    1          \n2389 programs2399 9908.720   9908.720   0.000000     FALSE    1          \n2390 programs2400 9913.408   9913.408   0.000000     FALSE    1          \n2391 programs2401 9917.015   9917.015   0.000000     FALSE    1          \n2392 programs2379 9816.808   9919.537  56.367414      TRUE    1          \n2393 programs2390 9851.045   9921.073  30.922405      TRUE    1          \n2394 programs2373 9808.669   9925.355  88.902643      TRUE    1          \n2395 programs2386 9841.617   9926.083  54.527968      TRUE    1          \n2396 programs2393 9870.576   9926.651   7.113823      TRUE    1          \n2397 programs2397 9902.985   9936.470   9.818807      TRUE    1          \n2398 programs2408 9957.835   9957.835   0.000000     FALSE    1          \n2399 programs2409 9959.049   9959.049   0.000000     FALSE    1          \n2400 programs2410 9961.760   9961.760   0.000000     FALSE    1          \n2401 programs2411 9962.502   9962.502   0.000000     FALSE    1          \n2402 programs2412 9964.540   9964.540   0.000000     FALSE    1          \n2403 programs2394 9871.864   9965.967  44.893681      TRUE    1          \n2404 programs2384 9832.892   9967.779  98.982853      TRUE    1          \n2405 programs2415 9975.139   9975.139   0.000000     FALSE    1          \n2406 programs2416 9979.925   9979.925   0.000000     FALSE    1          \n2407 programs2417 9985.736   9985.736   0.000000     FALSE    1          \n2408 programs2418 9986.541   9986.541   0.000000     FALSE    1          \n2409 programs2419 9989.168   9989.168   0.000000     FALSE    1          \n2410 programs2420 9996.003   9996.003   0.000000     FALSE    1          \n2411 programs2421 9999.064   9999.064   0.000000     FALSE    1          "
                    },
                    "metadata": {},
                    "output_type": "display_data"
                }
            ],
            "source": "arrivals <- get_mon_arrivals(env)\narrivals"
        },
        {
            "cell_type": "code",
            "execution_count": 266,
            "metadata": {
                "trusted": true
            },
            "outputs": [],
            "source": "T <-arrivals %>% subset(finished) %>% with(mean(end_time - start_time))\nresults$T[2] <- T"
        },
        {
            "cell_type": "markdown",
            "metadata": {},
            "source": "#### 3. \u0421\u0440\u0435\u0434\u043d\u0435\u0435 \u043a\u043e\u043b\u0438\u0447\u0435\u0441\u0442\u0432\u043e \u043f\u0440\u043e\u0433\u0440\u0430\u043c\u043c, \u043e\u0436\u0438\u0434\u0430\u044e\u0449\u0438\u0445 \u0432\u044b\u043f\u043e\u043b\u043d\u0435\u043d\u0438\u044f \u043d\u0430 \u0441\u0435\u0440\u0432\u0435\u0440\u0435."
        },
        {
            "cell_type": "code",
            "execution_count": 272,
            "metadata": {
                "trusted": true
            },
            "outputs": [
                {
                    "data": {
                        "text/html": "4.71037003197807",
                        "text/latex": "4.71037003197807",
                        "text/markdown": "4.71037003197807",
                        "text/plain": "[1] 4.71037"
                    },
                    "metadata": {},
                    "output_type": "display_data"
                }
            ],
            "source": "Lqueue <- resources %>% with(mean(queue))\nresults$Lqueue[2] <- Lqueue"
        },
        {
            "cell_type": "code",
            "execution_count": 277,
            "metadata": {
                "trusted": true
            },
            "outputs": [
                {
                    "data": {
                        "text/html": "<table class=\"dataframe\">\n<caption>A data.frame: 2 \u00d7 3</caption>\n<thead>\n\t<tr><th></th><th scope=col>probability</th><th scope=col>T</th><th scope=col>Lqueue</th></tr>\n\t<tr><th></th><th scope=col>&lt;chr&gt;</th><th scope=col>&lt;chr&gt;</th><th scope=col>&lt;chr&gt;</th></tr>\n</thead>\n<tbody>\n\t<tr><th scope=row>theoretical</th><td>0.0808258656604589</td><td>1.27652615492436</td><td>6.38581729495202e-08</td></tr>\n\t<tr><th scope=row>practical</th><td>0.0921233708490012</td><td>1.24012378913035</td><td>7.38192123038837e-08</td></tr>\n</tbody>\n</table>\n",
                        "text/latex": "A data.frame: 2 \u00d7 3\n\\begin{tabular}{r|lll}\n  & probability & T & Lqueue\\\\\n  & <chr> & <chr> & <chr>\\\\\n\\hline\n\ttheoretical & 0.0808258656604589 & 1.27652615492436 & 6.38581729495202e-08\\\\\n\tpractical & 0.0921233708490012 & 1.24012378913035 & 7.38192123038837e-08\\\\\n\\end{tabular}\n",
                        "text/markdown": "\nA data.frame: 2 \u00d7 3\n\n| <!--/--> | probability &lt;chr&gt; | T &lt;chr&gt; | Lqueue &lt;chr&gt; |\n|---|---|---|---|\n| theoretical | 0.0808258656604589 | 1.27652615492436 | 6.38581729495202e-08 |\n| practical | 0.0921233708490012 | 1.24012378913035 | 7.38192123038837e-08 |\n\n",
                        "text/plain": "            probability        T                Lqueue              \ntheoretical 0.0808258656604589 1.27652615492436 6.38581729495202e-08\npractical   0.0921233708490012 1.24012378913035 7.38192123038837e-08"
                    },
                    "metadata": {},
                    "output_type": "display_data"
                }
            ],
            "source": "results"
        }
    ],
    "metadata": {
        "kernelspec": {
            "display_name": "R",
            "language": "R",
            "name": "ir"
        },
        "language_info": {
            "codemirror_mode": "r",
            "file_extension": ".r",
            "mimetype": "text/x-r-source",
            "name": "R",
            "pygments_lexer": "r",
            "version": "4.2.3"
        }
    },
    "nbformat": 4,
    "nbformat_minor": 5
}