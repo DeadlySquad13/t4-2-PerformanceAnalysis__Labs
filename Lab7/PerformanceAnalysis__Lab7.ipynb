{
    "cells": [
        {
            "cell_type": "markdown",
            "metadata": {},
            "source": "# \u041b\u0430\u0431\u043e\u0440\u0430\u0442\u043e\u0440\u043d\u0430\u044f \u0440\u0430\u0431\u043e\u0442\u0430 7. \u0423\u043f\u0440\u0430\u0432\u043b\u0435\u043d\u0438\u0435 \u0440\u0435\u0441\u0443\u0440\u0441\u0430\u043c\u0438 \u0432 \u043e\u0434\u043d\u043e\u043f\u0440\u043e\u0446\u0435\u0441\u0441\u043e\u0440\u043d\u043e\u0439 \u0441\u0438\u0441\u0442\u0435\u043c\u0435 \u0441 \u043d\u0435\u043e\u0434\u043d\u043e\u0440\u043e\u0434\u043d\u044b\u043c\u0438 \u0437\u0430\u044f\u0432\u043a\u0430\u043c\u0438\n\u0412\u044b\u043f\u043e\u043b\u043d\u0438\u043b: \u041f\u0430\u043a\u0430\u043b\u043e \u0410\u043b\u0435\u043a\u0441\u0430\u043d\u0434\u0440 \u0421\u0435\u0440\u0433\u0435\u0435\u0432\u0438\u0447, \u0441\u0442\u0443\u0434\u0435\u043d\u0442 \u0420\u04225-81\u0411\n\n## \u0417\u0430\u0434\u0430\u043d\u0438\u0435 1\n\u0412 \u043e\u0434\u043d\u043e\u043f\u0440\u043e\u0446\u0435\u0441\u0441\u043e\u0440\u043d\u0443\u044e \u0441\u0438\u0441\u0442\u0435\u043c\u0443 \u0441\u043b\u0443\u0447\u0430\u0439\u043d\u044b\u043c \u043e\u0431\u0440\u0430\u0437\u043e\u043c \u043f\u043e\u0441\u0442\u0443\u043f\u0430\u044e\u0442 \u043d\u0430 \u0432\u044b\u043f\u043e\u043b\u043d\u0435\u043d\u0438\u0435 $m$\n\u0440\u0430\u0437\u043d\u044b\u0445 \u0442\u0438\u043f\u043e\u0432 \u043f\u0440\u043e\u0433\u0440\u0430\u043c\u043c, \u043e\u0442\u043b\u0438\u0447\u0430\u044e\u0449\u0438\u0445\u0441\u044f \u0438\u0437\u0432\u0435\u0441\u0442\u043d\u043e\u0439 \u0442\u0440\u0443\u0434\u043e\u0435\u043c\u043a\u043e\u0441\u0442\u044c\u044e\n$Q_1, Q_2,\\dots, Q_m$.\n\u0412\u0445\u043e\u0434\u044f\u0449\u0438\u0439 \u043f\u043e\u0442\u043e\u043a \u043f\u0440\u043e\u0441\u0442\u0435\u0439\u0448\u0438\u0439 \u0441 \u0438\u043d\u0442\u0435\u043d\u0441\u0438\u0432\u043d\u043e\u0441\u0442\u044c\u044e $\\lambda$.\n\n\u041f\u0440\u0435\u0434\u0441\u0442\u0430\u0432\u0438\u0432 \u0434\u0430\u043d\u043d\u0443\u044e \u0441\u0438\u0441\u0442\u0435\u043c\u0443 \u043a\u0430\u043a \u043e\u0434\u043d\u043e\u043a\u0430\u043d\u0430\u043b\u044c\u043d\u0443\u044e \u0421\u041c\u041e \u0441 \u043d\u0435\u043e\u0433\u0440\u0430\u043d\u0438\u0447\u0435\u043d\u043d\u043e\u0439 \u043e\u0447\u0435\u0440\u0435\u0434\u044c\u044e,\n\u0432\u044b\u0447\u0438\u0441\u043b\u0438\u0442\u044c \u0441\u0440\u0435\u0434\u043d\u0435\u0435 \u0432\u0440\u0435\u043c\u044f \u043e\u0431\u0441\u043b\u0443\u0436\u0438\u0432\u0430\u043d\u0438\u044f \u043f\u0440\u043e\u0433\u0440\u0430\u043c\u043c, \u0441\u0447\u0438\u0442\u0430\u044f \u0434\u043b\u0438\u0442\u0435\u043b\u044c\u043d\u043e\u0441\u0442\u044c\n\u043e\u0431\u0441\u043b\u0443\u0436\u0438\u0432\u0430\u043d\u0438\u044f \u0441\u043b\u0443\u0447\u0430\u0439\u043d\u043e\u0439 \u0432\u0435\u043b\u0438\u0447\u0438\u043d\u043e\u0439 (\u0442\u0435\u043e\u0440\u0435\u0442\u0438\u0447\u0435\u0441\u043a\u0438 \u0438 \u044d\u043a\u0441\u043f\u0435\u0440\u0438\u043c\u0435\u043d\u0442\u0430\u043b\u044c\u043d\u043e).\n\n\u0420\u0435\u0430\u043b\u0438\u0437\u043e\u0432\u0430\u0442\u044c \u0430\u043b\u0433\u043e\u0440\u0438\u0442\u043c SPT, \u0432\u044b\u0431\u0438\u0440\u0430\u044f \u0438\u0437 \u043e\u0447\u0435\u0440\u0435\u0434\u0438 \u0437\u0430\u044f\u0432\u043a\u0438 \u0432 \u0441\u043e\u043e\u0442\u0432\u0435\u0442\u0441\u0442\u0432\u0438\u0438 \u0441 \u0438\u0445\n\u043f\u0440\u0438\u043e\u0440\u0438\u0442\u0435\u0442\u043e\u043c \u043f\u043e \u0442\u0440\u0443\u0434\u043e\u0435\u043c\u043a\u043e\u0441\u0442\u0438. \u0420\u0430\u0441\u0441\u0447\u0438\u0442\u0430\u0442\u044c \u0441\u0440\u0435\u0434\u043d\u0435\u0435 \u0432\u0440\u0435\u043c\u044f \u043e\u0431\u0441\u043b\u0443\u0436\u0438\u0432\u0430\u043d\u0438\u044f \u043f\u0440\u043e\u0433\u0440\u0430\u043c\u043c.\n\u0421\u0440\u0430\u0432\u043d\u0438\u0442\u044c \u043f\u043e\u043b\u0443\u0447\u0435\u043d\u043d\u044b\u0435 \u0440\u0435\u0437\u0443\u043b\u044c\u0442\u0430\u0442\u044b.\n\n\u0420\u0435\u0430\u043b\u0438\u0437\u043e\u0432\u0430\u0442\u044c \u0430\u043b\u0433\u043e\u0440\u0438\u0442\u043c RR \u043f\u0440\u0438 \u0437\u0430\u0434\u0430\u043d\u043d\u043e\u043c \u043a\u0432\u0430\u043d\u0442\u0435 \u0432\u0440\u0435\u043c\u0435\u043d\u0438 $q$. \u041e\u0446\u0435\u043d\u0438\u0442\u044c \u0441\u0440\u0435\u0434\u043d\u0435\u0435 \u0432\u0440\u0435\u043c\u044f\n\u043e\u0431\u0441\u043b\u0443\u0436\u0438\u0432\u0430\u043d\u0438\u044f \u043f\u0440\u043e\u0433\u0440\u0430\u043c\u043c. \u0421\u0440\u0430\u0432\u043d\u0438\u0442\u044c \u043f\u043e\u043b\u0443\u0447\u0435\u043d\u043d\u044b\u0435 \u0440\u0435\u0437\u0443\u043b\u044c\u0442\u0430\u0442\u044b. \u0412\u044b\u044f\u0441\u043d\u0438\u0442\u044c, \u043a\u0430\u043a \u0432\u043b\u0438\u044f\u0435\u0442\n\u0432\u0435\u043b\u0438\u0447\u0438\u043d\u0430 \u043a\u0432\u0430\u043d\u0442\u0430 \u043d\u0430 \u0441\u0440\u0435\u0434\u043d\u0435\u0435 \u0432\u0440\u0435\u043c\u044f \u043e\u0431\u0441\u043b\u0443\u0436\u0438\u0432\u0430\u043d\u0438\u044f \u043f\u0440\u043e\u0433\u0440\u0430\u043c\u043c."
        },
        {
            "cell_type": "code",
            "execution_count": 226,
            "metadata": {
                "trusted": true
            },
            "outputs": [
                {
                    "data": {
                        "text/html": "<table class=\"dataframe\">\n<caption>A data.frame: 1 \u00d7 3</caption>\n<thead>\n\t<tr><th scope=col>m</th><th scope=col>q</th><th scope=col>lambda</th></tr>\n\t<tr><th scope=col>&lt;int&gt;</th><th scope=col>&lt;int&gt;</th><th scope=col>&lt;dbl&gt;</th></tr>\n</thead>\n<tbody>\n\t<tr><td>7</td><td>1</td><td>1.401915</td></tr>\n</tbody>\n</table>\n",
                        "text/latex": "A data.frame: 1 \u00d7 3\n\\begin{tabular}{lll}\n m & q & lambda\\\\\n <int> & <int> & <dbl>\\\\\n\\hline\n\t 7 & 1 & 1.401915\\\\\n\\end{tabular}\n",
                        "text/markdown": "\nA data.frame: 1 \u00d7 3\n\n| m &lt;int&gt; | q &lt;int&gt; | lambda &lt;dbl&gt; |\n|---|---|---|\n| 7 | 1 | 1.401915 |\n\n",
                        "text/plain": "  m q lambda  \n1 7 1 1.401915"
                    },
                    "metadata": {},
                    "output_type": "display_data"
                },
                {
                    "name": "stdout",
                    "output_type": "stream",
                    "text": "[1] 0.2417931 1.3403831 0.1863999 2.0529013 0.2552007 2.9172096 6.6709868\n"
                }
            ],
            "source": "Variant <- 5\nset.seed(Variant)\nm <- sample(c(6:20), 1)\nlambda <- runif(1, 0.1, 2)\nQ <- rexp(m, 0.3)\nq <- sample(c(1:4), 1)\nView(data.frame(m, q, lambda))\nprint(Q)"
        },
        {
            "cell_type": "markdown",
            "metadata": {},
            "source": "\u0417\u0430\u0432\u0435\u0434\u0435\u043c \u0442\u0430\u0431\u043b\u0438\u0446\u0443 \u0440\u0435\u0437\u0443\u043b\u044c\u0442\u0430\u0442\u043e\u0432"
        },
        {
            "cell_type": "code",
            "execution_count": 229,
            "metadata": {
                "trusted": true
            },
            "outputs": [
                {
                    "data": {
                        "text/html": "<table class=\"dataframe\">\n<caption>A data.frame: 1 \u00d7 4</caption>\n<thead>\n\t<tr><th scope=col>M/M/1/infty theoretical</th><th scope=col>M/M/1/infty practical</th><th scope=col>SPT</th><th scope=col>Round Robin</th></tr>\n\t<tr><th scope=col>&lt;dbl&gt;</th><th scope=col>&lt;dbl&gt;</th><th scope=col>&lt;dbl&gt;</th><th scope=col>&lt;dbl&gt;</th></tr>\n</thead>\n<tbody>\n\t<tr><td>0</td><td>0</td><td>0</td><td>0</td></tr>\n</tbody>\n</table>\n",
                        "text/latex": "A data.frame: 1 \u00d7 4\n\\begin{tabular}{llll}\n M/M/1/infty theoretical & M/M/1/infty practical & SPT & Round Robin\\\\\n <dbl> & <dbl> & <dbl> & <dbl>\\\\\n\\hline\n\t 0 & 0 & 0 & 0\\\\\n\\end{tabular}\n",
                        "text/markdown": "\nA data.frame: 1 \u00d7 4\n\n| M/M/1/infty theoretical &lt;dbl&gt; | M/M/1/infty practical &lt;dbl&gt; | SPT &lt;dbl&gt; | Round Robin &lt;dbl&gt; |\n|---|---|---|---|\n| 0 | 0 | 0 | 0 |\n\n",
                        "text/plain": "  M/M/1/infty theoretical M/M/1/infty practical SPT Round Robin\n1 0                       0                     0   0          "
                    },
                    "metadata": {},
                    "output_type": "display_data"
                }
            ],
            "source": "results <- data.frame(0, 0, 0, 0)\ncolnames(results) <- c(\"M/M/1/infty theoretical\", \"M/M/1/infty practical\", \"SPT\", \"Round Robin\")\nresults"
        },
        {
            "cell_type": "markdown",
            "metadata": {},
            "source": "### \u0421\u041c\u041e \u0432\u0438\u0434\u0430 $\u041c/\u041c/1/\\infty$\n\u041f\u0440\u0435\u0434\u0441\u0442\u0430\u0432\u0438\u043c \u0434\u0430\u043d\u043d\u0443\u044e \u0441\u0438\u0441\u0442\u0435\u043c\u0443 \u043a\u0430\u043a \u043e\u0434\u043d\u043e\u043a\u0430\u043d\u0430\u043b\u044c\u043d\u0443\u044e \u0421\u041c\u041e \u0441 \u043d\u0435\u043e\u0433\u0440\u0430\u043d\u0438\u0447\u0435\u043d\u043d\u043e\u0439 \u043e\u0447\u0435\u0440\u0435\u0434\u044c\u044e."
        },
        {
            "cell_type": "markdown",
            "metadata": {},
            "source": "#### \u0422\u0435\u043e\u0440\u0435\u0442\u0438\u0447\u0435\u0441\u043a\u0438"
        },
        {
            "cell_type": "code",
            "execution_count": 230,
            "metadata": {
                "trusted": true
            },
            "outputs": [
                {
                    "data": {
                        "text/html": "0.512262296607328",
                        "text/latex": "0.512262296607328",
                        "text/markdown": "0.512262296607328",
                        "text/plain": "[1] 0.5122623"
                    },
                    "metadata": {},
                    "output_type": "display_data"
                }
            ],
            "source": "t2 <- mean(Q)\nmu <- 1 / t2\nmu"
        },
        {
            "cell_type": "code",
            "execution_count": 231,
            "metadata": {
                "trusted": true
            },
            "outputs": [
                {
                    "data": {
                        "text/html": "2.73671386914812",
                        "text/latex": "2.73671386914812",
                        "text/markdown": "2.73671386914812",
                        "text/plain": "[1] 2.736714"
                    },
                    "metadata": {},
                    "output_type": "display_data"
                }
            ],
            "source": "y <- lambda / mu\ny"
        },
        {
            "cell_type": "markdown",
            "metadata": {},
            "source": "\u0422\u0430\u043a \u043a\u0430\u043a $y > 1$, \u043f\u043e\u043c\u0435\u043d\u044f\u0435\u043c $\\lambda$."
        },
        {
            "cell_type": "code",
            "execution_count": 232,
            "metadata": {
                "trusted": true
            },
            "outputs": [],
            "source": "lambda <- 0.3"
        },
        {
            "cell_type": "code",
            "execution_count": 233,
            "metadata": {
                "trusted": true
            },
            "outputs": [
                {
                    "data": {
                        "text/html": "0.512262296607328",
                        "text/latex": "0.512262296607328",
                        "text/markdown": "0.512262296607328",
                        "text/plain": "[1] 0.5122623"
                    },
                    "metadata": {},
                    "output_type": "display_data"
                }
            ],
            "source": "t2 <- mean(Q)\nmu <- 1 / t2\nmu"
        },
        {
            "cell_type": "code",
            "execution_count": 234,
            "metadata": {
                "trusted": true
            },
            "outputs": [
                {
                    "data": {
                        "text/html": "0.585637479054922",
                        "text/latex": "0.585637479054922",
                        "text/markdown": "0.585637479054922",
                        "text/plain": "[1] 0.5856375"
                    },
                    "metadata": {},
                    "output_type": "display_data"
                }
            ],
            "source": "y <- lambda / mu\ny"
        },
        {
            "cell_type": "code",
            "execution_count": 235,
            "metadata": {
                "trusted": true
            },
            "outputs": [
                {
                    "data": {
                        "text/html": "<table class=\"dataframe\">\n<caption>A data.frame: 1 \u00d7 4</caption>\n<thead>\n\t<tr><th scope=col>M/M/1/infty theoretical</th><th scope=col>M/M/1/infty practical</th><th scope=col>SPT</th><th scope=col>Round Robin</th></tr>\n\t<tr><th scope=col>&lt;dbl&gt;</th><th scope=col>&lt;dbl&gt;</th><th scope=col>&lt;dbl&gt;</th><th scope=col>&lt;dbl&gt;</th></tr>\n</thead>\n<tbody>\n\t<tr><td>4.711152</td><td>0</td><td>0</td><td>0</td></tr>\n</tbody>\n</table>\n",
                        "text/latex": "A data.frame: 1 \u00d7 4\n\\begin{tabular}{llll}\n M/M/1/infty theoretical & M/M/1/infty practical & SPT & Round Robin\\\\\n <dbl> & <dbl> & <dbl> & <dbl>\\\\\n\\hline\n\t 4.711152 & 0 & 0 & 0\\\\\n\\end{tabular}\n",
                        "text/markdown": "\nA data.frame: 1 \u00d7 4\n\n| M/M/1/infty theoretical &lt;dbl&gt; | M/M/1/infty practical &lt;dbl&gt; | SPT &lt;dbl&gt; | Round Robin &lt;dbl&gt; |\n|---|---|---|---|\n| 4.711152 | 0 | 0 | 0 |\n\n",
                        "text/plain": "  M/M/1/infty theoretical M/M/1/infty practical SPT Round Robin\n1 4.711152                0                     0   0          "
                    },
                    "metadata": {},
                    "output_type": "display_data"
                }
            ],
            "source": "results[1] <- 1 / mu / (1 - y)\nresults"
        },
        {
            "cell_type": "markdown",
            "metadata": {},
            "source": "#### \u0427\u0438\u0441\u043b\u0435\u043d\u043d\u043e"
        },
        {
            "cell_type": "code",
            "execution_count": 236,
            "metadata": {
                "trusted": true
            },
            "outputs": [
                {
                    "data": {
                        "text/plain": "simmer environment: SuperDuperSim | now: 0 | next: \n{ Monitor: in memory }"
                    },
                    "metadata": {},
                    "output_type": "display_data"
                }
            ],
            "source": "if (!require(\"simmer\")) {\n    install.packages(\"simmer\")\n}\nlibrary(simmer)\n\nenv <- simmer(\"SuperDuperSim\")\nenv"
        },
        {
            "cell_type": "code",
            "execution_count": 237,
            "metadata": {
                "trusted": true
            },
            "outputs": [],
            "source": "programs <- trajectory(\"programs' path\") %>%\n    seize(\"server\", amount = 1) %>%\n    timeout(function() rexp(1, mu)) %>%\n    release(\"server\", amount = 1)"
        },
        {
            "cell_type": "code",
            "execution_count": 238,
            "metadata": {
                "trusted": true
            },
            "outputs": [
                {
                    "data": {
                        "text/plain": "simmer environment: SuperDuperSim | now: 10000 | next: 10003.7234989748\n{ Monitor: in memory }\n{ Resource: server | monitored: TRUE | server status: 0(1) | queue status: 0(Inf) }\n{ Source: programs | monitored: 1 | n_generated: 3029 }"
                    },
                    "metadata": {},
                    "output_type": "display_data"
                }
            ],
            "source": "SIMULATION_TIME <- 10000\n\nenv %>%\n    add_resource(\"server\", 1) %>%\n    add_generator(\"programs\", programs, function() rexp(1, lambda)) %>%\n    run(until = SIMULATION_TIME)"
        },
        {
            "cell_type": "code",
            "execution_count": 239,
            "metadata": {
                "trusted": true
            },
            "outputs": [
                {
                    "data": {
                        "text/html": "<table class=\"dataframe\">\n<caption>A data.frame: 3028 \u00d7 6</caption>\n<thead>\n\t<tr><th scope=col>name</th><th scope=col>start_time</th><th scope=col>end_time</th><th scope=col>activity_time</th><th scope=col>finished</th><th scope=col>replication</th></tr>\n\t<tr><th scope=col>&lt;chr&gt;</th><th scope=col>&lt;dbl&gt;</th><th scope=col>&lt;dbl&gt;</th><th scope=col>&lt;dbl&gt;</th><th scope=col>&lt;lgl&gt;</th><th scope=col>&lt;int&gt;</th></tr>\n</thead>\n<tbody>\n\t<tr><td>programs0 </td><td> 1.282143</td><td>  4.177776</td><td>2.89563311</td><td>TRUE</td><td>1</td></tr>\n\t<tr><td>programs1 </td><td> 1.770443</td><td>  4.258100</td><td>0.08032395</td><td>TRUE</td><td>1</td></tr>\n\t<tr><td>programs2 </td><td> 4.408824</td><td> 11.193970</td><td>6.78514566</td><td>TRUE</td><td>1</td></tr>\n\t<tr><td>programs3 </td><td> 7.054637</td><td> 13.693605</td><td>2.49963501</td><td>TRUE</td><td>1</td></tr>\n\t<tr><td>programs4 </td><td>11.334202</td><td> 14.437538</td><td>0.74393268</td><td>TRUE</td><td>1</td></tr>\n\t<tr><td>programs5 </td><td>13.441375</td><td> 18.684576</td><td>4.24703859</td><td>TRUE</td><td>1</td></tr>\n\t<tr><td>programs6 </td><td>19.294948</td><td> 19.813446</td><td>0.51849776</td><td>TRUE</td><td>1</td></tr>\n\t<tr><td>programs7 </td><td>21.252343</td><td> 21.511088</td><td>0.25874508</td><td>TRUE</td><td>1</td></tr>\n\t<tr><td>programs8 </td><td>25.357193</td><td> 27.734487</td><td>2.37729349</td><td>TRUE</td><td>1</td></tr>\n\t<tr><td>programs9 </td><td>27.512959</td><td> 29.146033</td><td>1.41154636</td><td>TRUE</td><td>1</td></tr>\n\t<tr><td>programs10</td><td>29.897637</td><td> 32.781905</td><td>2.88426771</td><td>TRUE</td><td>1</td></tr>\n\t<tr><td>programs11</td><td>36.435589</td><td> 39.903063</td><td>3.46747484</td><td>TRUE</td><td>1</td></tr>\n\t<tr><td>programs12</td><td>37.262032</td><td> 41.021991</td><td>1.11892750</td><td>TRUE</td><td>1</td></tr>\n\t<tr><td>programs13</td><td>39.541645</td><td> 44.217954</td><td>3.19596296</td><td>TRUE</td><td>1</td></tr>\n\t<tr><td>programs14</td><td>39.905185</td><td> 44.270751</td><td>0.05279693</td><td>TRUE</td><td>1</td></tr>\n\t<tr><td>programs15</td><td>41.354121</td><td> 46.048559</td><td>1.77780840</td><td>TRUE</td><td>1</td></tr>\n\t<tr><td>programs16</td><td>43.590530</td><td> 47.312542</td><td>1.26398325</td><td>TRUE</td><td>1</td></tr>\n\t<tr><td>programs17</td><td>56.657568</td><td> 61.626727</td><td>4.96915860</td><td>TRUE</td><td>1</td></tr>\n\t<tr><td>programs18</td><td>63.575992</td><td> 64.681502</td><td>1.10550996</td><td>TRUE</td><td>1</td></tr>\n\t<tr><td>programs19</td><td>66.002149</td><td> 66.437420</td><td>0.43527094</td><td>TRUE</td><td>1</td></tr>\n\t<tr><td>programs20</td><td>69.299179</td><td> 71.323795</td><td>2.02461576</td><td>TRUE</td><td>1</td></tr>\n\t<tr><td>programs21</td><td>70.719299</td><td> 73.823992</td><td>2.50019717</td><td>TRUE</td><td>1</td></tr>\n\t<tr><td>programs22</td><td>77.007938</td><td> 78.241511</td><td>1.23357258</td><td>TRUE</td><td>1</td></tr>\n\t<tr><td>programs23</td><td>80.287367</td><td> 82.615708</td><td>2.32834101</td><td>TRUE</td><td>1</td></tr>\n\t<tr><td>programs24</td><td>85.999849</td><td> 86.539152</td><td>0.53930317</td><td>TRUE</td><td>1</td></tr>\n\t<tr><td>programs25</td><td>86.496211</td><td> 86.615388</td><td>0.07623663</td><td>TRUE</td><td>1</td></tr>\n\t<tr><td>programs26</td><td>89.166443</td><td> 89.226811</td><td>0.06036833</td><td>TRUE</td><td>1</td></tr>\n\t<tr><td>programs27</td><td>91.887034</td><td> 93.598747</td><td>1.71171283</td><td>TRUE</td><td>1</td></tr>\n\t<tr><td>programs28</td><td>93.716145</td><td> 99.044777</td><td>5.32863272</td><td>TRUE</td><td>1</td></tr>\n\t<tr><td>programs29</td><td>96.934503</td><td>101.795605</td><td>2.75082762</td><td>TRUE</td><td>1</td></tr>\n\t<tr><td>\u22ee</td><td>\u22ee</td><td>\u22ee</td><td>\u22ee</td><td>\u22ee</td><td>\u22ee</td></tr>\n\t<tr><td>programs2998</td><td>9893.039</td><td>9893.712</td><td>0.67331424</td><td>TRUE</td><td>1</td></tr>\n\t<tr><td>programs2999</td><td>9893.081</td><td>9893.803</td><td>0.09058212</td><td>TRUE</td><td>1</td></tr>\n\t<tr><td>programs3000</td><td>9894.571</td><td>9897.507</td><td>2.93579354</td><td>TRUE</td><td>1</td></tr>\n\t<tr><td>programs3001</td><td>9899.744</td><td>9899.828</td><td>0.08385302</td><td>TRUE</td><td>1</td></tr>\n\t<tr><td>programs3002</td><td>9904.314</td><td>9911.612</td><td>7.29751625</td><td>TRUE</td><td>1</td></tr>\n\t<tr><td>programs3003</td><td>9904.368</td><td>9918.439</td><td>6.82691028</td><td>TRUE</td><td>1</td></tr>\n\t<tr><td>programs3004</td><td>9904.762</td><td>9922.103</td><td>3.66471008</td><td>TRUE</td><td>1</td></tr>\n\t<tr><td>programs3005</td><td>9909.004</td><td>9923.810</td><td>1.70627227</td><td>TRUE</td><td>1</td></tr>\n\t<tr><td>programs3006</td><td>9911.815</td><td>9925.236</td><td>1.42602718</td><td>TRUE</td><td>1</td></tr>\n\t<tr><td>programs3007</td><td>9917.946</td><td>9929.589</td><td>4.35348689</td><td>TRUE</td><td>1</td></tr>\n\t<tr><td>programs3008</td><td>9918.736</td><td>9932.509</td><td>2.91995605</td><td>TRUE</td><td>1</td></tr>\n\t<tr><td>programs3009</td><td>9919.194</td><td>9935.636</td><td>3.12719825</td><td>TRUE</td><td>1</td></tr>\n\t<tr><td>programs3010</td><td>9926.447</td><td>9936.312</td><td>0.67594094</td><td>TRUE</td><td>1</td></tr>\n\t<tr><td>programs3011</td><td>9930.780</td><td>9936.390</td><td>0.07809025</td><td>TRUE</td><td>1</td></tr>\n\t<tr><td>programs3012</td><td>9939.587</td><td>9940.156</td><td>0.56891055</td><td>TRUE</td><td>1</td></tr>\n\t<tr><td>programs3013</td><td>9940.819</td><td>9942.904</td><td>2.08540741</td><td>TRUE</td><td>1</td></tr>\n\t<tr><td>programs3014</td><td>9943.490</td><td>9946.412</td><td>2.92232538</td><td>TRUE</td><td>1</td></tr>\n\t<tr><td>programs3015</td><td>9953.215</td><td>9953.262</td><td>0.04691518</td><td>TRUE</td><td>1</td></tr>\n\t<tr><td>programs3016</td><td>9953.799</td><td>9956.951</td><td>3.15196239</td><td>TRUE</td><td>1</td></tr>\n\t<tr><td>programs3017</td><td>9959.510</td><td>9959.837</td><td>0.32728097</td><td>TRUE</td><td>1</td></tr>\n\t<tr><td>programs3018</td><td>9960.377</td><td>9960.418</td><td>0.04113925</td><td>TRUE</td><td>1</td></tr>\n\t<tr><td>programs3019</td><td>9961.151</td><td>9961.405</td><td>0.25369398</td><td>TRUE</td><td>1</td></tr>\n\t<tr><td>programs3020</td><td>9962.026</td><td>9962.147</td><td>0.12124270</td><td>TRUE</td><td>1</td></tr>\n\t<tr><td>programs3021</td><td>9962.533</td><td>9962.772</td><td>0.23845486</td><td>TRUE</td><td>1</td></tr>\n\t<tr><td>programs3022</td><td>9967.758</td><td>9967.817</td><td>0.05896114</td><td>TRUE</td><td>1</td></tr>\n\t<tr><td>programs3023</td><td>9970.145</td><td>9971.735</td><td>1.59029341</td><td>TRUE</td><td>1</td></tr>\n\t<tr><td>programs3024</td><td>9970.879</td><td>9973.680</td><td>1.94455044</td><td>TRUE</td><td>1</td></tr>\n\t<tr><td>programs3025</td><td>9975.187</td><td>9975.255</td><td>0.06768385</td><td>TRUE</td><td>1</td></tr>\n\t<tr><td>programs3026</td><td>9994.006</td><td>9994.542</td><td>0.53577973</td><td>TRUE</td><td>1</td></tr>\n\t<tr><td>programs3027</td><td>9994.695</td><td>9996.120</td><td>1.42418317</td><td>TRUE</td><td>1</td></tr>\n</tbody>\n</table>\n",
                        "text/latex": "A data.frame: 3028 \u00d7 6\n\\begin{tabular}{llllll}\n name & start\\_time & end\\_time & activity\\_time & finished & replication\\\\\n <chr> & <dbl> & <dbl> & <dbl> & <lgl> & <int>\\\\\n\\hline\n\t programs0  &  1.282143 &   4.177776 & 2.89563311 & TRUE & 1\\\\\n\t programs1  &  1.770443 &   4.258100 & 0.08032395 & TRUE & 1\\\\\n\t programs2  &  4.408824 &  11.193970 & 6.78514566 & TRUE & 1\\\\\n\t programs3  &  7.054637 &  13.693605 & 2.49963501 & TRUE & 1\\\\\n\t programs4  & 11.334202 &  14.437538 & 0.74393268 & TRUE & 1\\\\\n\t programs5  & 13.441375 &  18.684576 & 4.24703859 & TRUE & 1\\\\\n\t programs6  & 19.294948 &  19.813446 & 0.51849776 & TRUE & 1\\\\\n\t programs7  & 21.252343 &  21.511088 & 0.25874508 & TRUE & 1\\\\\n\t programs8  & 25.357193 &  27.734487 & 2.37729349 & TRUE & 1\\\\\n\t programs9  & 27.512959 &  29.146033 & 1.41154636 & TRUE & 1\\\\\n\t programs10 & 29.897637 &  32.781905 & 2.88426771 & TRUE & 1\\\\\n\t programs11 & 36.435589 &  39.903063 & 3.46747484 & TRUE & 1\\\\\n\t programs12 & 37.262032 &  41.021991 & 1.11892750 & TRUE & 1\\\\\n\t programs13 & 39.541645 &  44.217954 & 3.19596296 & TRUE & 1\\\\\n\t programs14 & 39.905185 &  44.270751 & 0.05279693 & TRUE & 1\\\\\n\t programs15 & 41.354121 &  46.048559 & 1.77780840 & TRUE & 1\\\\\n\t programs16 & 43.590530 &  47.312542 & 1.26398325 & TRUE & 1\\\\\n\t programs17 & 56.657568 &  61.626727 & 4.96915860 & TRUE & 1\\\\\n\t programs18 & 63.575992 &  64.681502 & 1.10550996 & TRUE & 1\\\\\n\t programs19 & 66.002149 &  66.437420 & 0.43527094 & TRUE & 1\\\\\n\t programs20 & 69.299179 &  71.323795 & 2.02461576 & TRUE & 1\\\\\n\t programs21 & 70.719299 &  73.823992 & 2.50019717 & TRUE & 1\\\\\n\t programs22 & 77.007938 &  78.241511 & 1.23357258 & TRUE & 1\\\\\n\t programs23 & 80.287367 &  82.615708 & 2.32834101 & TRUE & 1\\\\\n\t programs24 & 85.999849 &  86.539152 & 0.53930317 & TRUE & 1\\\\\n\t programs25 & 86.496211 &  86.615388 & 0.07623663 & TRUE & 1\\\\\n\t programs26 & 89.166443 &  89.226811 & 0.06036833 & TRUE & 1\\\\\n\t programs27 & 91.887034 &  93.598747 & 1.71171283 & TRUE & 1\\\\\n\t programs28 & 93.716145 &  99.044777 & 5.32863272 & TRUE & 1\\\\\n\t programs29 & 96.934503 & 101.795605 & 2.75082762 & TRUE & 1\\\\\n\t \u22ee & \u22ee & \u22ee & \u22ee & \u22ee & \u22ee\\\\\n\t programs2998 & 9893.039 & 9893.712 & 0.67331424 & TRUE & 1\\\\\n\t programs2999 & 9893.081 & 9893.803 & 0.09058212 & TRUE & 1\\\\\n\t programs3000 & 9894.571 & 9897.507 & 2.93579354 & TRUE & 1\\\\\n\t programs3001 & 9899.744 & 9899.828 & 0.08385302 & TRUE & 1\\\\\n\t programs3002 & 9904.314 & 9911.612 & 7.29751625 & TRUE & 1\\\\\n\t programs3003 & 9904.368 & 9918.439 & 6.82691028 & TRUE & 1\\\\\n\t programs3004 & 9904.762 & 9922.103 & 3.66471008 & TRUE & 1\\\\\n\t programs3005 & 9909.004 & 9923.810 & 1.70627227 & TRUE & 1\\\\\n\t programs3006 & 9911.815 & 9925.236 & 1.42602718 & TRUE & 1\\\\\n\t programs3007 & 9917.946 & 9929.589 & 4.35348689 & TRUE & 1\\\\\n\t programs3008 & 9918.736 & 9932.509 & 2.91995605 & TRUE & 1\\\\\n\t programs3009 & 9919.194 & 9935.636 & 3.12719825 & TRUE & 1\\\\\n\t programs3010 & 9926.447 & 9936.312 & 0.67594094 & TRUE & 1\\\\\n\t programs3011 & 9930.780 & 9936.390 & 0.07809025 & TRUE & 1\\\\\n\t programs3012 & 9939.587 & 9940.156 & 0.56891055 & TRUE & 1\\\\\n\t programs3013 & 9940.819 & 9942.904 & 2.08540741 & TRUE & 1\\\\\n\t programs3014 & 9943.490 & 9946.412 & 2.92232538 & TRUE & 1\\\\\n\t programs3015 & 9953.215 & 9953.262 & 0.04691518 & TRUE & 1\\\\\n\t programs3016 & 9953.799 & 9956.951 & 3.15196239 & TRUE & 1\\\\\n\t programs3017 & 9959.510 & 9959.837 & 0.32728097 & TRUE & 1\\\\\n\t programs3018 & 9960.377 & 9960.418 & 0.04113925 & TRUE & 1\\\\\n\t programs3019 & 9961.151 & 9961.405 & 0.25369398 & TRUE & 1\\\\\n\t programs3020 & 9962.026 & 9962.147 & 0.12124270 & TRUE & 1\\\\\n\t programs3021 & 9962.533 & 9962.772 & 0.23845486 & TRUE & 1\\\\\n\t programs3022 & 9967.758 & 9967.817 & 0.05896114 & TRUE & 1\\\\\n\t programs3023 & 9970.145 & 9971.735 & 1.59029341 & TRUE & 1\\\\\n\t programs3024 & 9970.879 & 9973.680 & 1.94455044 & TRUE & 1\\\\\n\t programs3025 & 9975.187 & 9975.255 & 0.06768385 & TRUE & 1\\\\\n\t programs3026 & 9994.006 & 9994.542 & 0.53577973 & TRUE & 1\\\\\n\t programs3027 & 9994.695 & 9996.120 & 1.42418317 & TRUE & 1\\\\\n\\end{tabular}\n",
                        "text/markdown": "\nA data.frame: 3028 \u00d7 6\n\n| name &lt;chr&gt; | start_time &lt;dbl&gt; | end_time &lt;dbl&gt; | activity_time &lt;dbl&gt; | finished &lt;lgl&gt; | replication &lt;int&gt; |\n|---|---|---|---|---|---|\n| programs0  |  1.282143 |   4.177776 | 2.89563311 | TRUE | 1 |\n| programs1  |  1.770443 |   4.258100 | 0.08032395 | TRUE | 1 |\n| programs2  |  4.408824 |  11.193970 | 6.78514566 | TRUE | 1 |\n| programs3  |  7.054637 |  13.693605 | 2.49963501 | TRUE | 1 |\n| programs4  | 11.334202 |  14.437538 | 0.74393268 | TRUE | 1 |\n| programs5  | 13.441375 |  18.684576 | 4.24703859 | TRUE | 1 |\n| programs6  | 19.294948 |  19.813446 | 0.51849776 | TRUE | 1 |\n| programs7  | 21.252343 |  21.511088 | 0.25874508 | TRUE | 1 |\n| programs8  | 25.357193 |  27.734487 | 2.37729349 | TRUE | 1 |\n| programs9  | 27.512959 |  29.146033 | 1.41154636 | TRUE | 1 |\n| programs10 | 29.897637 |  32.781905 | 2.88426771 | TRUE | 1 |\n| programs11 | 36.435589 |  39.903063 | 3.46747484 | TRUE | 1 |\n| programs12 | 37.262032 |  41.021991 | 1.11892750 | TRUE | 1 |\n| programs13 | 39.541645 |  44.217954 | 3.19596296 | TRUE | 1 |\n| programs14 | 39.905185 |  44.270751 | 0.05279693 | TRUE | 1 |\n| programs15 | 41.354121 |  46.048559 | 1.77780840 | TRUE | 1 |\n| programs16 | 43.590530 |  47.312542 | 1.26398325 | TRUE | 1 |\n| programs17 | 56.657568 |  61.626727 | 4.96915860 | TRUE | 1 |\n| programs18 | 63.575992 |  64.681502 | 1.10550996 | TRUE | 1 |\n| programs19 | 66.002149 |  66.437420 | 0.43527094 | TRUE | 1 |\n| programs20 | 69.299179 |  71.323795 | 2.02461576 | TRUE | 1 |\n| programs21 | 70.719299 |  73.823992 | 2.50019717 | TRUE | 1 |\n| programs22 | 77.007938 |  78.241511 | 1.23357258 | TRUE | 1 |\n| programs23 | 80.287367 |  82.615708 | 2.32834101 | TRUE | 1 |\n| programs24 | 85.999849 |  86.539152 | 0.53930317 | TRUE | 1 |\n| programs25 | 86.496211 |  86.615388 | 0.07623663 | TRUE | 1 |\n| programs26 | 89.166443 |  89.226811 | 0.06036833 | TRUE | 1 |\n| programs27 | 91.887034 |  93.598747 | 1.71171283 | TRUE | 1 |\n| programs28 | 93.716145 |  99.044777 | 5.32863272 | TRUE | 1 |\n| programs29 | 96.934503 | 101.795605 | 2.75082762 | TRUE | 1 |\n| \u22ee | \u22ee | \u22ee | \u22ee | \u22ee | \u22ee |\n| programs2998 | 9893.039 | 9893.712 | 0.67331424 | TRUE | 1 |\n| programs2999 | 9893.081 | 9893.803 | 0.09058212 | TRUE | 1 |\n| programs3000 | 9894.571 | 9897.507 | 2.93579354 | TRUE | 1 |\n| programs3001 | 9899.744 | 9899.828 | 0.08385302 | TRUE | 1 |\n| programs3002 | 9904.314 | 9911.612 | 7.29751625 | TRUE | 1 |\n| programs3003 | 9904.368 | 9918.439 | 6.82691028 | TRUE | 1 |\n| programs3004 | 9904.762 | 9922.103 | 3.66471008 | TRUE | 1 |\n| programs3005 | 9909.004 | 9923.810 | 1.70627227 | TRUE | 1 |\n| programs3006 | 9911.815 | 9925.236 | 1.42602718 | TRUE | 1 |\n| programs3007 | 9917.946 | 9929.589 | 4.35348689 | TRUE | 1 |\n| programs3008 | 9918.736 | 9932.509 | 2.91995605 | TRUE | 1 |\n| programs3009 | 9919.194 | 9935.636 | 3.12719825 | TRUE | 1 |\n| programs3010 | 9926.447 | 9936.312 | 0.67594094 | TRUE | 1 |\n| programs3011 | 9930.780 | 9936.390 | 0.07809025 | TRUE | 1 |\n| programs3012 | 9939.587 | 9940.156 | 0.56891055 | TRUE | 1 |\n| programs3013 | 9940.819 | 9942.904 | 2.08540741 | TRUE | 1 |\n| programs3014 | 9943.490 | 9946.412 | 2.92232538 | TRUE | 1 |\n| programs3015 | 9953.215 | 9953.262 | 0.04691518 | TRUE | 1 |\n| programs3016 | 9953.799 | 9956.951 | 3.15196239 | TRUE | 1 |\n| programs3017 | 9959.510 | 9959.837 | 0.32728097 | TRUE | 1 |\n| programs3018 | 9960.377 | 9960.418 | 0.04113925 | TRUE | 1 |\n| programs3019 | 9961.151 | 9961.405 | 0.25369398 | TRUE | 1 |\n| programs3020 | 9962.026 | 9962.147 | 0.12124270 | TRUE | 1 |\n| programs3021 | 9962.533 | 9962.772 | 0.23845486 | TRUE | 1 |\n| programs3022 | 9967.758 | 9967.817 | 0.05896114 | TRUE | 1 |\n| programs3023 | 9970.145 | 9971.735 | 1.59029341 | TRUE | 1 |\n| programs3024 | 9970.879 | 9973.680 | 1.94455044 | TRUE | 1 |\n| programs3025 | 9975.187 | 9975.255 | 0.06768385 | TRUE | 1 |\n| programs3026 | 9994.006 | 9994.542 | 0.53577973 | TRUE | 1 |\n| programs3027 | 9994.695 | 9996.120 | 1.42418317 | TRUE | 1 |\n\n",
                        "text/plain": "     name         start_time end_time   activity_time finished replication\n1    programs0     1.282143    4.177776 2.89563311    TRUE     1          \n2    programs1     1.770443    4.258100 0.08032395    TRUE     1          \n3    programs2     4.408824   11.193970 6.78514566    TRUE     1          \n4    programs3     7.054637   13.693605 2.49963501    TRUE     1          \n5    programs4    11.334202   14.437538 0.74393268    TRUE     1          \n6    programs5    13.441375   18.684576 4.24703859    TRUE     1          \n7    programs6    19.294948   19.813446 0.51849776    TRUE     1          \n8    programs7    21.252343   21.511088 0.25874508    TRUE     1          \n9    programs8    25.357193   27.734487 2.37729349    TRUE     1          \n10   programs9    27.512959   29.146033 1.41154636    TRUE     1          \n11   programs10   29.897637   32.781905 2.88426771    TRUE     1          \n12   programs11   36.435589   39.903063 3.46747484    TRUE     1          \n13   programs12   37.262032   41.021991 1.11892750    TRUE     1          \n14   programs13   39.541645   44.217954 3.19596296    TRUE     1          \n15   programs14   39.905185   44.270751 0.05279693    TRUE     1          \n16   programs15   41.354121   46.048559 1.77780840    TRUE     1          \n17   programs16   43.590530   47.312542 1.26398325    TRUE     1          \n18   programs17   56.657568   61.626727 4.96915860    TRUE     1          \n19   programs18   63.575992   64.681502 1.10550996    TRUE     1          \n20   programs19   66.002149   66.437420 0.43527094    TRUE     1          \n21   programs20   69.299179   71.323795 2.02461576    TRUE     1          \n22   programs21   70.719299   73.823992 2.50019717    TRUE     1          \n23   programs22   77.007938   78.241511 1.23357258    TRUE     1          \n24   programs23   80.287367   82.615708 2.32834101    TRUE     1          \n25   programs24   85.999849   86.539152 0.53930317    TRUE     1          \n26   programs25   86.496211   86.615388 0.07623663    TRUE     1          \n27   programs26   89.166443   89.226811 0.06036833    TRUE     1          \n28   programs27   91.887034   93.598747 1.71171283    TRUE     1          \n29   programs28   93.716145   99.044777 5.32863272    TRUE     1          \n30   programs29   96.934503  101.795605 2.75082762    TRUE     1          \n\u22ee    \u22ee            \u22ee          \u22ee          \u22ee             \u22ee        \u22ee          \n2999 programs2998 9893.039   9893.712   0.67331424    TRUE     1          \n3000 programs2999 9893.081   9893.803   0.09058212    TRUE     1          \n3001 programs3000 9894.571   9897.507   2.93579354    TRUE     1          \n3002 programs3001 9899.744   9899.828   0.08385302    TRUE     1          \n3003 programs3002 9904.314   9911.612   7.29751625    TRUE     1          \n3004 programs3003 9904.368   9918.439   6.82691028    TRUE     1          \n3005 programs3004 9904.762   9922.103   3.66471008    TRUE     1          \n3006 programs3005 9909.004   9923.810   1.70627227    TRUE     1          \n3007 programs3006 9911.815   9925.236   1.42602718    TRUE     1          \n3008 programs3007 9917.946   9929.589   4.35348689    TRUE     1          \n3009 programs3008 9918.736   9932.509   2.91995605    TRUE     1          \n3010 programs3009 9919.194   9935.636   3.12719825    TRUE     1          \n3011 programs3010 9926.447   9936.312   0.67594094    TRUE     1          \n3012 programs3011 9930.780   9936.390   0.07809025    TRUE     1          \n3013 programs3012 9939.587   9940.156   0.56891055    TRUE     1          \n3014 programs3013 9940.819   9942.904   2.08540741    TRUE     1          \n3015 programs3014 9943.490   9946.412   2.92232538    TRUE     1          \n3016 programs3015 9953.215   9953.262   0.04691518    TRUE     1          \n3017 programs3016 9953.799   9956.951   3.15196239    TRUE     1          \n3018 programs3017 9959.510   9959.837   0.32728097    TRUE     1          \n3019 programs3018 9960.377   9960.418   0.04113925    TRUE     1          \n3020 programs3019 9961.151   9961.405   0.25369398    TRUE     1          \n3021 programs3020 9962.026   9962.147   0.12124270    TRUE     1          \n3022 programs3021 9962.533   9962.772   0.23845486    TRUE     1          \n3023 programs3022 9967.758   9967.817   0.05896114    TRUE     1          \n3024 programs3023 9970.145   9971.735   1.59029341    TRUE     1          \n3025 programs3024 9970.879   9973.680   1.94455044    TRUE     1          \n3026 programs3025 9975.187   9975.255   0.06768385    TRUE     1          \n3027 programs3026 9994.006   9994.542   0.53577973    TRUE     1          \n3028 programs3027 9994.695   9996.120   1.42418317    TRUE     1          "
                    },
                    "metadata": {},
                    "output_type": "display_data"
                }
            ],
            "source": "arrivals <- env %>%\n    get_mon_arrivals()\narrivals"
        },
        {
            "cell_type": "code",
            "execution_count": 240,
            "metadata": {
                "trusted": true
            },
            "outputs": [
                {
                    "data": {
                        "text/html": "<table class=\"dataframe\">\n<caption>A data.frame: 1 \u00d7 4</caption>\n<thead>\n\t<tr><th scope=col>M/M/1/infty theoretical</th><th scope=col>M/M/1/infty practical</th><th scope=col>SPT</th><th scope=col>Round Robin</th></tr>\n\t<tr><th scope=col>&lt;dbl&gt;</th><th scope=col>&lt;dbl&gt;</th><th scope=col>&lt;dbl&gt;</th><th scope=col>&lt;dbl&gt;</th></tr>\n</thead>\n<tbody>\n\t<tr><td>4.711152</td><td>4.906583</td><td>0</td><td>0</td></tr>\n</tbody>\n</table>\n",
                        "text/latex": "A data.frame: 1 \u00d7 4\n\\begin{tabular}{llll}\n M/M/1/infty theoretical & M/M/1/infty practical & SPT & Round Robin\\\\\n <dbl> & <dbl> & <dbl> & <dbl>\\\\\n\\hline\n\t 4.711152 & 4.906583 & 0 & 0\\\\\n\\end{tabular}\n",
                        "text/markdown": "\nA data.frame: 1 \u00d7 4\n\n| M/M/1/infty theoretical &lt;dbl&gt; | M/M/1/infty practical &lt;dbl&gt; | SPT &lt;dbl&gt; | Round Robin &lt;dbl&gt; |\n|---|---|---|---|\n| 4.711152 | 4.906583 | 0 | 0 |\n\n",
                        "text/plain": "  M/M/1/infty theoretical M/M/1/infty practical SPT Round Robin\n1 4.711152                4.906583              0   0          "
                    },
                    "metadata": {},
                    "output_type": "display_data"
                }
            ],
            "source": "results[2] <- mean(arrivals %>% with(end_time - start_time))\nresults"
        },
        {
            "cell_type": "markdown",
            "metadata": {},
            "source": "### \u0410\u043b\u0433\u043e\u0440\u0438\u0442\u043c SPT"
        },
        {
            "cell_type": "code",
            "execution_count": 246,
            "metadata": {
                "trusted": true
            },
            "outputs": [
                {
                    "data": {
                        "text/plain": "simmer environment: SuperDuperSptSim | now: 0 | next: \n{ Monitor: in memory }"
                    },
                    "metadata": {},
                    "output_type": "display_data"
                }
            ],
            "source": "if (!require(\"simmer\")) {\n    install.packages(\"simmer\")\n}\nlibrary(simmer)\n\nspt.env <- simmer(\"SuperDuperSptSim\")\nspt.env"
        },
        {
            "cell_type": "markdown",
            "metadata": {},
            "source": "\u0414\u043e\u0431\u0430\u0432\u0438\u043c $m$ \u0433\u0435\u043d\u0435\u0440\u0430\u0442\u043e\u0440\u043e\u0432. \u041a\u0430\u0436\u0434\u044b\u0439 \u0431\u0443\u0434\u0435\u0442 \u0438\u043c\u0435\u0442\u044c \u043f\u0440\u0438\u043e\u0440\u0438\u0442\u0435\u0442 \u0432 \u0437\u0430\u0432\u0438\u0441\u0438\u043c\u043e\u0441\u0442\u0438 \u043e\u0442\n\u0441\u043a\u043e\u0440\u043e\u0441\u0442\u0438 \u0432\u044b\u043f\u043e\u043b\u043d\u0435\u043d\u0438\u044f \u043f\u0440\u043e\u0433\u0440\u0430\u043c\u043c\u044b. \u0413\u0435\u043d\u0435\u0440\u0430\u0442\u043e\u0440, \u0441\u043e\u0437\u0434\u0430\u044e\u0449\u0438\u0439 \u043f\u0440\u043e\u0433\u0440\u0430\u043c\u043c\u044b \u0441 \u043d\u0430\u0438\u0431\u043e\u043b\u044c\u0448\u0435\u0439\n\u0434\u043b\u0438\u0442\u0435\u043b\u044c\u043d\u043e\u0441\u0442\u044c\u044e \u0432\u044b\u043f\u043e\u043b\u043d\u0435\u043d\u0438\u044f, \u0431\u0443\u0434\u0435\u0442 \u0438\u043c\u0435\u0442\u044c \u043d\u0430\u0438\u043c\u0435\u043d\u044c\u0448\u0438\u0439 \u043f\u0440\u0438\u043e\u0440\u0438\u0442\u0435\u0442."
        },
        {
            "cell_type": "code",
            "execution_count": 253,
            "metadata": {
                "trusted": true
            },
            "outputs": [
                {
                    "name": "stderr",
                    "output_type": "stream",
                    "text": "Warning message in add_resource_(.env$sim_obj, i, positive(capacity), positive(queue_size), :\n\u201cresource 'server' already defined\u201d\n"
                },
                {
                    "data": {
                        "text/plain": "simmer environment: SuperDuperSptSim | now: 10000 | next: 10000.7444924952\n{ Monitor: in memory }\n{ Resource: server | monitored: TRUE | server status: 0(1) | queue status: 0(Inf) }\n{ Source: programs1 | monitored: 1 | n_generated: 419 }\n{ Source: programs2 | monitored: 1 | n_generated: 420 }\n{ Source: programs3 | monitored: 1 | n_generated: 417 }\n{ Source: programs4 | monitored: 1 | n_generated: 452 }\n{ Source: programs5 | monitored: 1 | n_generated: 425 }\n{ Source: programs6 | monitored: 1 | n_generated: 404 }\n{ Source: programs7 | monitored: 1 | n_generated: 406 }"
                    },
                    "metadata": {},
                    "output_type": "display_data"
                },
                {
                    "name": "stderr",
                    "output_type": "stream",
                    "text": "Warning message in add_generator_(.env$sim_obj, i, trajectory, distribution, mon, :\n\u201cprocess 'programs1' already defined\u201d\nWarning message in add_generator_(.env$sim_obj, i, trajectory, distribution, mon, :\n\u201cprocess 'programs2' already defined\u201d\nWarning message in add_generator_(.env$sim_obj, i, trajectory, distribution, mon, :\n\u201cprocess 'programs3' already defined\u201d\nWarning message in add_generator_(.env$sim_obj, i, trajectory, distribution, mon, :\n\u201cprocess 'programs4' already defined\u201d\nWarning message in add_generator_(.env$sim_obj, i, trajectory, distribution, mon, :\n\u201cprocess 'programs5' already defined\u201d\nWarning message in add_generator_(.env$sim_obj, i, trajectory, distribution, mon, :\n\u201cprocess 'programs6' already defined\u201d\nWarning message in add_generator_(.env$sim_obj, i, trajectory, distribution, mon, :\n\u201cprocess 'programs7' already defined\u201d\n"
                },
                {
                    "data": {
                        "text/plain": "simmer environment: SuperDuperSptSim | now: 1e+05 | next: 100000.396731431\n{ Monitor: in memory }\n{ Resource: server | monitored: TRUE | server status: 0(1) | queue status: 0(Inf) }\n{ Source: programs1 | monitored: 1 | n_generated: 4278 }\n{ Source: programs2 | monitored: 1 | n_generated: 4212 }\n{ Source: programs3 | monitored: 1 | n_generated: 4228 }\n{ Source: programs4 | monitored: 1 | n_generated: 4283 }\n{ Source: programs5 | monitored: 1 | n_generated: 4328 }\n{ Source: programs6 | monitored: 1 | n_generated: 4217 }\n{ Source: programs7 | monitored: 1 | n_generated: 4198 }"
                    },
                    "metadata": {},
                    "output_type": "display_data"
                }
            ],
            "source": "SIMULATION_TIME <- 100000\n\nspt.env %>%\n    add_resource(\"server\", 1)\n\nQ_sorted_decr <- sort(Q, decreasing = TRUE)\n\nspt.programs_trajectory <- function(time_to_execute) {\n    return(\n        trajectory(\"programs' path\") %>%\n            seize(\"server\", 1) %>%\n            timeout(function() rexp(1, 1 / time_to_execute)) %>%\n            release(\"server\", 1)\n    )\n}\n\nfor (Q_i in seq_along(Q_sorted_decr)) {\n    priority <- Q_i\n\n    name <- paste0(\"programs\", Q_i)\n\n    spt.env %>% add_generator(\n        name,\n        spt.programs_trajectory(Q_sorted_decr[Q_i]),\n        priority = priority,\n        preemptible = priority,\n        distribution = function() rexp(1, lambda / m)\n    )\n}\n\nspt.env %>%\n    run(until = SIMULATION_TIME)"
        },
        {
            "cell_type": "code",
            "execution_count": 251,
            "metadata": {
                "trusted": true
            },
            "outputs": [
                {
                    "data": {
                        "text/html": "<table class=\"dataframe\">\n<caption>A data.frame: 2936 \u00d7 6</caption>\n<thead>\n\t<tr><th scope=col>name</th><th scope=col>start_time</th><th scope=col>end_time</th><th scope=col>activity_time</th><th scope=col>finished</th><th scope=col>replication</th></tr>\n\t<tr><th scope=col>&lt;chr&gt;</th><th scope=col>&lt;dbl&gt;</th><th scope=col>&lt;dbl&gt;</th><th scope=col>&lt;dbl&gt;</th><th scope=col>&lt;lgl&gt;</th><th scope=col>&lt;int&gt;</th></tr>\n</thead>\n<tbody>\n\t<tr><td>programs20</td><td>  5.369646</td><td>  5.456885</td><td>0.087238432</td><td>TRUE</td><td>1</td></tr>\n\t<tr><td>programs40</td><td> 11.208208</td><td> 11.245917</td><td>0.037709016</td><td>TRUE</td><td>1</td></tr>\n\t<tr><td>programs21</td><td> 13.728700</td><td> 14.131183</td><td>0.402482958</td><td>TRUE</td><td>1</td></tr>\n\t<tr><td>programs50</td><td> 14.359118</td><td> 14.505468</td><td>0.146350310</td><td>TRUE</td><td>1</td></tr>\n\t<tr><td>programs30</td><td> 28.487273</td><td> 28.787825</td><td>0.300551426</td><td>TRUE</td><td>1</td></tr>\n\t<tr><td>programs22</td><td> 31.953079</td><td> 31.971580</td><td>0.018501405</td><td>TRUE</td><td>1</td></tr>\n\t<tr><td>programs60</td><td> 32.701031</td><td> 32.774976</td><td>0.073944568</td><td>TRUE</td><td>1</td></tr>\n\t<tr><td>programs51</td><td> 33.627934</td><td> 33.791295</td><td>0.163361372</td><td>TRUE</td><td>1</td></tr>\n\t<tr><td>programs70</td><td> 36.289504</td><td> 36.372560</td><td>0.083056266</td><td>TRUE</td><td>1</td></tr>\n\t<tr><td>programs31</td><td> 44.004797</td><td> 44.093883</td><td>0.089086069</td><td>TRUE</td><td>1</td></tr>\n\t<tr><td>programs23</td><td> 46.790555</td><td> 46.845625</td><td>0.055069577</td><td>TRUE</td><td>1</td></tr>\n\t<tr><td>programs41</td><td> 46.998082</td><td> 47.162644</td><td>0.164561640</td><td>TRUE</td><td>1</td></tr>\n\t<tr><td>programs24</td><td> 52.893036</td><td> 53.277115</td><td>0.384079023</td><td>TRUE</td><td>1</td></tr>\n\t<tr><td>programs52</td><td> 53.817538</td><td> 53.923057</td><td>0.105519134</td><td>TRUE</td><td>1</td></tr>\n\t<tr><td>programs25</td><td> 54.838846</td><td> 54.930189</td><td>0.091342871</td><td>TRUE</td><td>1</td></tr>\n\t<tr><td>programs32</td><td> 55.861760</td><td> 56.027896</td><td>0.166135952</td><td>TRUE</td><td>1</td></tr>\n\t<tr><td>programs71</td><td> 61.563075</td><td> 61.620085</td><td>0.057010201</td><td>TRUE</td><td>1</td></tr>\n\t<tr><td>programs61</td><td> 61.743193</td><td> 61.752418</td><td>0.009224677</td><td>TRUE</td><td>1</td></tr>\n\t<tr><td>programs42</td><td> 65.707146</td><td> 65.753021</td><td>0.045874364</td><td>TRUE</td><td>1</td></tr>\n\t<tr><td>programs33</td><td> 69.069340</td><td> 69.206388</td><td>0.137047347</td><td>TRUE</td><td>1</td></tr>\n\t<tr><td>programs34</td><td> 76.264278</td><td> 76.378517</td><td>0.114239189</td><td>TRUE</td><td>1</td></tr>\n\t<tr><td>programs72</td><td> 87.305321</td><td> 87.411570</td><td>0.106248719</td><td>TRUE</td><td>1</td></tr>\n\t<tr><td>programs73</td><td>102.359985</td><td>102.706957</td><td>0.346971900</td><td>TRUE</td><td>1</td></tr>\n\t<tr><td>programs26</td><td>107.529544</td><td>107.692111</td><td>0.162566985</td><td>TRUE</td><td>1</td></tr>\n\t<tr><td>programs27</td><td>108.568652</td><td>108.602826</td><td>0.034173663</td><td>TRUE</td><td>1</td></tr>\n\t<tr><td>programs35</td><td>109.262783</td><td>109.296780</td><td>0.033996673</td><td>TRUE</td><td>1</td></tr>\n\t<tr><td>programs28</td><td>110.202407</td><td>110.342707</td><td>0.140300436</td><td>TRUE</td><td>1</td></tr>\n\t<tr><td>programs36</td><td>110.211929</td><td>110.402481</td><td>0.059773907</td><td>TRUE</td><td>1</td></tr>\n\t<tr><td>programs62</td><td>111.659392</td><td>111.662848</td><td>0.003456202</td><td>TRUE</td><td>1</td></tr>\n\t<tr><td>programs37</td><td>121.968004</td><td>122.205535</td><td>0.237531037</td><td>TRUE</td><td>1</td></tr>\n\t<tr><td>\u22ee</td><td>\u22ee</td><td>\u22ee</td><td>\u22ee</td><td>\u22ee</td><td>\u22ee</td></tr>\n\t<tr><td>programs5417</td><td>9904.986</td><td>9905.416</td><td>0.43026813</td><td>TRUE</td><td>1</td></tr>\n\t<tr><td>programs7400</td><td>9906.034</td><td>9906.080</td><td>0.04663870</td><td>TRUE</td><td>1</td></tr>\n\t<tr><td>programs3412</td><td>9908.968</td><td>9909.084</td><td>0.11578447</td><td>TRUE</td><td>1</td></tr>\n\t<tr><td>programs1414</td><td>9913.451</td><td>9913.527</td><td>0.07672511</td><td>TRUE</td><td>1</td></tr>\n\t<tr><td>programs5418</td><td>9914.224</td><td>9914.551</td><td>0.32690818</td><td>TRUE</td><td>1</td></tr>\n\t<tr><td>programs2415</td><td>9914.523</td><td>9914.655</td><td>0.10427192</td><td>TRUE</td><td>1</td></tr>\n\t<tr><td>programs5419</td><td>9916.427</td><td>9916.500</td><td>0.07221554</td><td>TRUE</td><td>1</td></tr>\n\t<tr><td>programs4448</td><td>9917.067</td><td>9917.308</td><td>0.24069845</td><td>TRUE</td><td>1</td></tr>\n\t<tr><td>programs7401</td><td>9918.634</td><td>9919.095</td><td>0.46073700</td><td>TRUE</td><td>1</td></tr>\n\t<tr><td>programs3413</td><td>9927.362</td><td>9927.573</td><td>0.21038705</td><td>TRUE</td><td>1</td></tr>\n\t<tr><td>programs4449</td><td>9928.689</td><td>9928.764</td><td>0.07541064</td><td>TRUE</td><td>1</td></tr>\n\t<tr><td>programs1415</td><td>9929.048</td><td>9929.214</td><td>0.16625584</td><td>TRUE</td><td>1</td></tr>\n\t<tr><td>programs3414</td><td>9932.106</td><td>9932.588</td><td>0.48180911</td><td>TRUE</td><td>1</td></tr>\n\t<tr><td>programs6400</td><td>9933.389</td><td>9933.424</td><td>0.03442509</td><td>TRUE</td><td>1</td></tr>\n\t<tr><td>programs6401</td><td>9934.161</td><td>9934.384</td><td>0.22286046</td><td>TRUE</td><td>1</td></tr>\n\t<tr><td>programs1416</td><td>9953.980</td><td>9954.010</td><td>0.02971536</td><td>TRUE</td><td>1</td></tr>\n\t<tr><td>programs3415</td><td>9954.996</td><td>9955.235</td><td>0.23903527</td><td>TRUE</td><td>1</td></tr>\n\t<tr><td>programs5420</td><td>9961.774</td><td>9962.043</td><td>0.26914887</td><td>TRUE</td><td>1</td></tr>\n\t<tr><td>programs7402</td><td>9965.708</td><td>9965.965</td><td>0.25676455</td><td>TRUE</td><td>1</td></tr>\n\t<tr><td>programs4450</td><td>9973.296</td><td>9973.337</td><td>0.04084660</td><td>TRUE</td><td>1</td></tr>\n\t<tr><td>programs6402</td><td>9974.417</td><td>9974.440</td><td>0.02285250</td><td>TRUE</td><td>1</td></tr>\n\t<tr><td>programs5421</td><td>9978.258</td><td>9978.330</td><td>0.07166211</td><td>TRUE</td><td>1</td></tr>\n\t<tr><td>programs7403</td><td>9981.380</td><td>9981.452</td><td>0.07199200</td><td>TRUE</td><td>1</td></tr>\n\t<tr><td>programs5422</td><td>9988.975</td><td>9989.190</td><td>0.21528743</td><td>TRUE</td><td>1</td></tr>\n\t<tr><td>programs2416</td><td>9989.704</td><td>9989.827</td><td>0.12323076</td><td>TRUE</td><td>1</td></tr>\n\t<tr><td>programs7404</td><td>9991.558</td><td>9991.713</td><td>0.15495279</td><td>TRUE</td><td>1</td></tr>\n\t<tr><td>programs1417</td><td>9994.632</td><td>9994.782</td><td>0.14999204</td><td>TRUE</td><td>1</td></tr>\n\t<tr><td>programs5423</td><td>9995.747</td><td>9996.266</td><td>0.51952763</td><td>TRUE</td><td>1</td></tr>\n\t<tr><td>programs2417</td><td>9995.934</td><td>9996.345</td><td>0.07883941</td><td>TRUE</td><td>1</td></tr>\n\t<tr><td>programs2418</td><td>9999.400</td><td>9999.670</td><td>0.26985745</td><td>TRUE</td><td>1</td></tr>\n</tbody>\n</table>\n",
                        "text/latex": "A data.frame: 2936 \u00d7 6\n\\begin{tabular}{llllll}\n name & start\\_time & end\\_time & activity\\_time & finished & replication\\\\\n <chr> & <dbl> & <dbl> & <dbl> & <lgl> & <int>\\\\\n\\hline\n\t programs20 &   5.369646 &   5.456885 & 0.087238432 & TRUE & 1\\\\\n\t programs40 &  11.208208 &  11.245917 & 0.037709016 & TRUE & 1\\\\\n\t programs21 &  13.728700 &  14.131183 & 0.402482958 & TRUE & 1\\\\\n\t programs50 &  14.359118 &  14.505468 & 0.146350310 & TRUE & 1\\\\\n\t programs30 &  28.487273 &  28.787825 & 0.300551426 & TRUE & 1\\\\\n\t programs22 &  31.953079 &  31.971580 & 0.018501405 & TRUE & 1\\\\\n\t programs60 &  32.701031 &  32.774976 & 0.073944568 & TRUE & 1\\\\\n\t programs51 &  33.627934 &  33.791295 & 0.163361372 & TRUE & 1\\\\\n\t programs70 &  36.289504 &  36.372560 & 0.083056266 & TRUE & 1\\\\\n\t programs31 &  44.004797 &  44.093883 & 0.089086069 & TRUE & 1\\\\\n\t programs23 &  46.790555 &  46.845625 & 0.055069577 & TRUE & 1\\\\\n\t programs41 &  46.998082 &  47.162644 & 0.164561640 & TRUE & 1\\\\\n\t programs24 &  52.893036 &  53.277115 & 0.384079023 & TRUE & 1\\\\\n\t programs52 &  53.817538 &  53.923057 & 0.105519134 & TRUE & 1\\\\\n\t programs25 &  54.838846 &  54.930189 & 0.091342871 & TRUE & 1\\\\\n\t programs32 &  55.861760 &  56.027896 & 0.166135952 & TRUE & 1\\\\\n\t programs71 &  61.563075 &  61.620085 & 0.057010201 & TRUE & 1\\\\\n\t programs61 &  61.743193 &  61.752418 & 0.009224677 & TRUE & 1\\\\\n\t programs42 &  65.707146 &  65.753021 & 0.045874364 & TRUE & 1\\\\\n\t programs33 &  69.069340 &  69.206388 & 0.137047347 & TRUE & 1\\\\\n\t programs34 &  76.264278 &  76.378517 & 0.114239189 & TRUE & 1\\\\\n\t programs72 &  87.305321 &  87.411570 & 0.106248719 & TRUE & 1\\\\\n\t programs73 & 102.359985 & 102.706957 & 0.346971900 & TRUE & 1\\\\\n\t programs26 & 107.529544 & 107.692111 & 0.162566985 & TRUE & 1\\\\\n\t programs27 & 108.568652 & 108.602826 & 0.034173663 & TRUE & 1\\\\\n\t programs35 & 109.262783 & 109.296780 & 0.033996673 & TRUE & 1\\\\\n\t programs28 & 110.202407 & 110.342707 & 0.140300436 & TRUE & 1\\\\\n\t programs36 & 110.211929 & 110.402481 & 0.059773907 & TRUE & 1\\\\\n\t programs62 & 111.659392 & 111.662848 & 0.003456202 & TRUE & 1\\\\\n\t programs37 & 121.968004 & 122.205535 & 0.237531037 & TRUE & 1\\\\\n\t \u22ee & \u22ee & \u22ee & \u22ee & \u22ee & \u22ee\\\\\n\t programs5417 & 9904.986 & 9905.416 & 0.43026813 & TRUE & 1\\\\\n\t programs7400 & 9906.034 & 9906.080 & 0.04663870 & TRUE & 1\\\\\n\t programs3412 & 9908.968 & 9909.084 & 0.11578447 & TRUE & 1\\\\\n\t programs1414 & 9913.451 & 9913.527 & 0.07672511 & TRUE & 1\\\\\n\t programs5418 & 9914.224 & 9914.551 & 0.32690818 & TRUE & 1\\\\\n\t programs2415 & 9914.523 & 9914.655 & 0.10427192 & TRUE & 1\\\\\n\t programs5419 & 9916.427 & 9916.500 & 0.07221554 & TRUE & 1\\\\\n\t programs4448 & 9917.067 & 9917.308 & 0.24069845 & TRUE & 1\\\\\n\t programs7401 & 9918.634 & 9919.095 & 0.46073700 & TRUE & 1\\\\\n\t programs3413 & 9927.362 & 9927.573 & 0.21038705 & TRUE & 1\\\\\n\t programs4449 & 9928.689 & 9928.764 & 0.07541064 & TRUE & 1\\\\\n\t programs1415 & 9929.048 & 9929.214 & 0.16625584 & TRUE & 1\\\\\n\t programs3414 & 9932.106 & 9932.588 & 0.48180911 & TRUE & 1\\\\\n\t programs6400 & 9933.389 & 9933.424 & 0.03442509 & TRUE & 1\\\\\n\t programs6401 & 9934.161 & 9934.384 & 0.22286046 & TRUE & 1\\\\\n\t programs1416 & 9953.980 & 9954.010 & 0.02971536 & TRUE & 1\\\\\n\t programs3415 & 9954.996 & 9955.235 & 0.23903527 & TRUE & 1\\\\\n\t programs5420 & 9961.774 & 9962.043 & 0.26914887 & TRUE & 1\\\\\n\t programs7402 & 9965.708 & 9965.965 & 0.25676455 & TRUE & 1\\\\\n\t programs4450 & 9973.296 & 9973.337 & 0.04084660 & TRUE & 1\\\\\n\t programs6402 & 9974.417 & 9974.440 & 0.02285250 & TRUE & 1\\\\\n\t programs5421 & 9978.258 & 9978.330 & 0.07166211 & TRUE & 1\\\\\n\t programs7403 & 9981.380 & 9981.452 & 0.07199200 & TRUE & 1\\\\\n\t programs5422 & 9988.975 & 9989.190 & 0.21528743 & TRUE & 1\\\\\n\t programs2416 & 9989.704 & 9989.827 & 0.12323076 & TRUE & 1\\\\\n\t programs7404 & 9991.558 & 9991.713 & 0.15495279 & TRUE & 1\\\\\n\t programs1417 & 9994.632 & 9994.782 & 0.14999204 & TRUE & 1\\\\\n\t programs5423 & 9995.747 & 9996.266 & 0.51952763 & TRUE & 1\\\\\n\t programs2417 & 9995.934 & 9996.345 & 0.07883941 & TRUE & 1\\\\\n\t programs2418 & 9999.400 & 9999.670 & 0.26985745 & TRUE & 1\\\\\n\\end{tabular}\n",
                        "text/markdown": "\nA data.frame: 2936 \u00d7 6\n\n| name &lt;chr&gt; | start_time &lt;dbl&gt; | end_time &lt;dbl&gt; | activity_time &lt;dbl&gt; | finished &lt;lgl&gt; | replication &lt;int&gt; |\n|---|---|---|---|---|---|\n| programs20 |   5.369646 |   5.456885 | 0.087238432 | TRUE | 1 |\n| programs40 |  11.208208 |  11.245917 | 0.037709016 | TRUE | 1 |\n| programs21 |  13.728700 |  14.131183 | 0.402482958 | TRUE | 1 |\n| programs50 |  14.359118 |  14.505468 | 0.146350310 | TRUE | 1 |\n| programs30 |  28.487273 |  28.787825 | 0.300551426 | TRUE | 1 |\n| programs22 |  31.953079 |  31.971580 | 0.018501405 | TRUE | 1 |\n| programs60 |  32.701031 |  32.774976 | 0.073944568 | TRUE | 1 |\n| programs51 |  33.627934 |  33.791295 | 0.163361372 | TRUE | 1 |\n| programs70 |  36.289504 |  36.372560 | 0.083056266 | TRUE | 1 |\n| programs31 |  44.004797 |  44.093883 | 0.089086069 | TRUE | 1 |\n| programs23 |  46.790555 |  46.845625 | 0.055069577 | TRUE | 1 |\n| programs41 |  46.998082 |  47.162644 | 0.164561640 | TRUE | 1 |\n| programs24 |  52.893036 |  53.277115 | 0.384079023 | TRUE | 1 |\n| programs52 |  53.817538 |  53.923057 | 0.105519134 | TRUE | 1 |\n| programs25 |  54.838846 |  54.930189 | 0.091342871 | TRUE | 1 |\n| programs32 |  55.861760 |  56.027896 | 0.166135952 | TRUE | 1 |\n| programs71 |  61.563075 |  61.620085 | 0.057010201 | TRUE | 1 |\n| programs61 |  61.743193 |  61.752418 | 0.009224677 | TRUE | 1 |\n| programs42 |  65.707146 |  65.753021 | 0.045874364 | TRUE | 1 |\n| programs33 |  69.069340 |  69.206388 | 0.137047347 | TRUE | 1 |\n| programs34 |  76.264278 |  76.378517 | 0.114239189 | TRUE | 1 |\n| programs72 |  87.305321 |  87.411570 | 0.106248719 | TRUE | 1 |\n| programs73 | 102.359985 | 102.706957 | 0.346971900 | TRUE | 1 |\n| programs26 | 107.529544 | 107.692111 | 0.162566985 | TRUE | 1 |\n| programs27 | 108.568652 | 108.602826 | 0.034173663 | TRUE | 1 |\n| programs35 | 109.262783 | 109.296780 | 0.033996673 | TRUE | 1 |\n| programs28 | 110.202407 | 110.342707 | 0.140300436 | TRUE | 1 |\n| programs36 | 110.211929 | 110.402481 | 0.059773907 | TRUE | 1 |\n| programs62 | 111.659392 | 111.662848 | 0.003456202 | TRUE | 1 |\n| programs37 | 121.968004 | 122.205535 | 0.237531037 | TRUE | 1 |\n| \u22ee | \u22ee | \u22ee | \u22ee | \u22ee | \u22ee |\n| programs5417 | 9904.986 | 9905.416 | 0.43026813 | TRUE | 1 |\n| programs7400 | 9906.034 | 9906.080 | 0.04663870 | TRUE | 1 |\n| programs3412 | 9908.968 | 9909.084 | 0.11578447 | TRUE | 1 |\n| programs1414 | 9913.451 | 9913.527 | 0.07672511 | TRUE | 1 |\n| programs5418 | 9914.224 | 9914.551 | 0.32690818 | TRUE | 1 |\n| programs2415 | 9914.523 | 9914.655 | 0.10427192 | TRUE | 1 |\n| programs5419 | 9916.427 | 9916.500 | 0.07221554 | TRUE | 1 |\n| programs4448 | 9917.067 | 9917.308 | 0.24069845 | TRUE | 1 |\n| programs7401 | 9918.634 | 9919.095 | 0.46073700 | TRUE | 1 |\n| programs3413 | 9927.362 | 9927.573 | 0.21038705 | TRUE | 1 |\n| programs4449 | 9928.689 | 9928.764 | 0.07541064 | TRUE | 1 |\n| programs1415 | 9929.048 | 9929.214 | 0.16625584 | TRUE | 1 |\n| programs3414 | 9932.106 | 9932.588 | 0.48180911 | TRUE | 1 |\n| programs6400 | 9933.389 | 9933.424 | 0.03442509 | TRUE | 1 |\n| programs6401 | 9934.161 | 9934.384 | 0.22286046 | TRUE | 1 |\n| programs1416 | 9953.980 | 9954.010 | 0.02971536 | TRUE | 1 |\n| programs3415 | 9954.996 | 9955.235 | 0.23903527 | TRUE | 1 |\n| programs5420 | 9961.774 | 9962.043 | 0.26914887 | TRUE | 1 |\n| programs7402 | 9965.708 | 9965.965 | 0.25676455 | TRUE | 1 |\n| programs4450 | 9973.296 | 9973.337 | 0.04084660 | TRUE | 1 |\n| programs6402 | 9974.417 | 9974.440 | 0.02285250 | TRUE | 1 |\n| programs5421 | 9978.258 | 9978.330 | 0.07166211 | TRUE | 1 |\n| programs7403 | 9981.380 | 9981.452 | 0.07199200 | TRUE | 1 |\n| programs5422 | 9988.975 | 9989.190 | 0.21528743 | TRUE | 1 |\n| programs2416 | 9989.704 | 9989.827 | 0.12323076 | TRUE | 1 |\n| programs7404 | 9991.558 | 9991.713 | 0.15495279 | TRUE | 1 |\n| programs1417 | 9994.632 | 9994.782 | 0.14999204 | TRUE | 1 |\n| programs5423 | 9995.747 | 9996.266 | 0.51952763 | TRUE | 1 |\n| programs2417 | 9995.934 | 9996.345 | 0.07883941 | TRUE | 1 |\n| programs2418 | 9999.400 | 9999.670 | 0.26985745 | TRUE | 1 |\n\n",
                        "text/plain": "     name         start_time end_time   activity_time finished replication\n1    programs20     5.369646   5.456885 0.087238432   TRUE     1          \n2    programs40    11.208208  11.245917 0.037709016   TRUE     1          \n3    programs21    13.728700  14.131183 0.402482958   TRUE     1          \n4    programs50    14.359118  14.505468 0.146350310   TRUE     1          \n5    programs30    28.487273  28.787825 0.300551426   TRUE     1          \n6    programs22    31.953079  31.971580 0.018501405   TRUE     1          \n7    programs60    32.701031  32.774976 0.073944568   TRUE     1          \n8    programs51    33.627934  33.791295 0.163361372   TRUE     1          \n9    programs70    36.289504  36.372560 0.083056266   TRUE     1          \n10   programs31    44.004797  44.093883 0.089086069   TRUE     1          \n11   programs23    46.790555  46.845625 0.055069577   TRUE     1          \n12   programs41    46.998082  47.162644 0.164561640   TRUE     1          \n13   programs24    52.893036  53.277115 0.384079023   TRUE     1          \n14   programs52    53.817538  53.923057 0.105519134   TRUE     1          \n15   programs25    54.838846  54.930189 0.091342871   TRUE     1          \n16   programs32    55.861760  56.027896 0.166135952   TRUE     1          \n17   programs71    61.563075  61.620085 0.057010201   TRUE     1          \n18   programs61    61.743193  61.752418 0.009224677   TRUE     1          \n19   programs42    65.707146  65.753021 0.045874364   TRUE     1          \n20   programs33    69.069340  69.206388 0.137047347   TRUE     1          \n21   programs34    76.264278  76.378517 0.114239189   TRUE     1          \n22   programs72    87.305321  87.411570 0.106248719   TRUE     1          \n23   programs73   102.359985 102.706957 0.346971900   TRUE     1          \n24   programs26   107.529544 107.692111 0.162566985   TRUE     1          \n25   programs27   108.568652 108.602826 0.034173663   TRUE     1          \n26   programs35   109.262783 109.296780 0.033996673   TRUE     1          \n27   programs28   110.202407 110.342707 0.140300436   TRUE     1          \n28   programs36   110.211929 110.402481 0.059773907   TRUE     1          \n29   programs62   111.659392 111.662848 0.003456202   TRUE     1          \n30   programs37   121.968004 122.205535 0.237531037   TRUE     1          \n\u22ee    \u22ee            \u22ee          \u22ee          \u22ee             \u22ee        \u22ee          \n2907 programs5417 9904.986   9905.416   0.43026813    TRUE     1          \n2908 programs7400 9906.034   9906.080   0.04663870    TRUE     1          \n2909 programs3412 9908.968   9909.084   0.11578447    TRUE     1          \n2910 programs1414 9913.451   9913.527   0.07672511    TRUE     1          \n2911 programs5418 9914.224   9914.551   0.32690818    TRUE     1          \n2912 programs2415 9914.523   9914.655   0.10427192    TRUE     1          \n2913 programs5419 9916.427   9916.500   0.07221554    TRUE     1          \n2914 programs4448 9917.067   9917.308   0.24069845    TRUE     1          \n2915 programs7401 9918.634   9919.095   0.46073700    TRUE     1          \n2916 programs3413 9927.362   9927.573   0.21038705    TRUE     1          \n2917 programs4449 9928.689   9928.764   0.07541064    TRUE     1          \n2918 programs1415 9929.048   9929.214   0.16625584    TRUE     1          \n2919 programs3414 9932.106   9932.588   0.48180911    TRUE     1          \n2920 programs6400 9933.389   9933.424   0.03442509    TRUE     1          \n2921 programs6401 9934.161   9934.384   0.22286046    TRUE     1          \n2922 programs1416 9953.980   9954.010   0.02971536    TRUE     1          \n2923 programs3415 9954.996   9955.235   0.23903527    TRUE     1          \n2924 programs5420 9961.774   9962.043   0.26914887    TRUE     1          \n2925 programs7402 9965.708   9965.965   0.25676455    TRUE     1          \n2926 programs4450 9973.296   9973.337   0.04084660    TRUE     1          \n2927 programs6402 9974.417   9974.440   0.02285250    TRUE     1          \n2928 programs5421 9978.258   9978.330   0.07166211    TRUE     1          \n2929 programs7403 9981.380   9981.452   0.07199200    TRUE     1          \n2930 programs5422 9988.975   9989.190   0.21528743    TRUE     1          \n2931 programs2416 9989.704   9989.827   0.12323076    TRUE     1          \n2932 programs7404 9991.558   9991.713   0.15495279    TRUE     1          \n2933 programs1417 9994.632   9994.782   0.14999204    TRUE     1          \n2934 programs5423 9995.747   9996.266   0.51952763    TRUE     1          \n2935 programs2417 9995.934   9996.345   0.07883941    TRUE     1          \n2936 programs2418 9999.400   9999.670   0.26985745    TRUE     1          "
                    },
                    "metadata": {},
                    "output_type": "display_data"
                }
            ],
            "source": "spt.arrivals <- spt.env %>%\n    get_mon_arrivals()\nspt.arrivals"
        },
        {
            "cell_type": "code",
            "execution_count": 252,
            "metadata": {
                "trusted": true
            },
            "outputs": [
                {
                    "data": {
                        "text/html": "<table class=\"dataframe\">\n<caption>A data.frame: 1 \u00d7 4</caption>\n<thead>\n\t<tr><th scope=col>M/M/1/infty theoretical</th><th scope=col>M/M/1/infty practical</th><th scope=col>SPT</th><th scope=col>Round Robin</th></tr>\n\t<tr><th scope=col>&lt;dbl&gt;</th><th scope=col>&lt;dbl&gt;</th><th scope=col>&lt;dbl&gt;</th><th scope=col>&lt;dbl&gt;</th></tr>\n</thead>\n<tbody>\n\t<tr><td>4.711152</td><td>4.906583</td><td>0.1928865</td><td>0</td></tr>\n</tbody>\n</table>\n",
                        "text/latex": "A data.frame: 1 \u00d7 4\n\\begin{tabular}{llll}\n M/M/1/infty theoretical & M/M/1/infty practical & SPT & Round Robin\\\\\n <dbl> & <dbl> & <dbl> & <dbl>\\\\\n\\hline\n\t 4.711152 & 4.906583 & 0.1928865 & 0\\\\\n\\end{tabular}\n",
                        "text/markdown": "\nA data.frame: 1 \u00d7 4\n\n| M/M/1/infty theoretical &lt;dbl&gt; | M/M/1/infty practical &lt;dbl&gt; | SPT &lt;dbl&gt; | Round Robin &lt;dbl&gt; |\n|---|---|---|---|\n| 4.711152 | 4.906583 | 0.1928865 | 0 |\n\n",
                        "text/plain": "  M/M/1/infty theoretical M/M/1/infty practical SPT       Round Robin\n1 4.711152                4.906583              0.1928865 0          "
                    },
                    "metadata": {},
                    "output_type": "display_data"
                }
            ],
            "source": "results[3] <- mean(spt.arrivals %>% with(end_time - start_time))\nresults"
        },
        {
            "cell_type": "markdown",
            "metadata": {},
            "source": "### \u0410\u043b\u0433\u043e\u0440\u0438\u0442\u043c Round Robin\n\u0420\u0435\u0430\u043b\u0438\u0437\u0443\u0435\u043c Round Robin \u0441 \u043f\u043e\u043c\u043e\u0449\u044c\u044e simmer, \u0432\u043e\u0441\u043f\u043e\u043b\u044c\u0437\u043e\u0432\u0430\u0432\u0448\u0438\u0441\u044c \u043c\u0435\u0445\u0430\u043d\u0438\u0437\u043c\u043e\u043c select,\n\u0432\u044b\u0431\u0438\u0440\u0430\u044e\u0449\u0438\u043c \u0438\u0437 \u043e\u0447\u0435\u0440\u0435\u0434\u0438 \u0437\u043d\u0430\u0447\u0435\u043d\u0438\u0435 \u043f\u043e \u043e\u043f\u0440\u0435\u0434\u0435\u043b\u0435\u043d\u043d\u043e\u0439 \u0441\u0442\u0440\u0430\u0442\u0435\u0433\u0438\u0438."
        },
        {
            "cell_type": "code",
            "execution_count": 170,
            "metadata": {
                "trusted": true
            },
            "outputs": [
                {
                    "data": {
                        "text/plain": "simmer environment: SuperDuperSim | now: 0 | next: \n{ Monitor: in memory }"
                    },
                    "metadata": {},
                    "output_type": "display_data"
                }
            ],
            "source": "if (!require(\"simmer\")) {\n    install.packages(\"simmer\")\n}\nlibrary(simmer)\n\nenv <- simmer(\"SuperDuperSim\")\nenv"
        },
        {
            "cell_type": "code",
            "execution_count": 171,
            "metadata": {
                "trusted": true
            },
            "outputs": [],
            "source": "programs <- trajectory(\"programs' path\") %>%\n    select(\"server\", \"round-robin\") %>%\n    seize_selected(1) %>%\n    timeout(function() rexp(1, mu)) %>%\n    release_selected(1)"
        },
        {
            "cell_type": "code",
            "execution_count": 172,
            "metadata": {
                "trusted": true
            },
            "outputs": [
                {
                    "data": {
                        "text/plain": "simmer environment: SuperDuperSim | now: 10000 | next: 10000.6880190946\n{ Monitor: in memory }\n{ Resource: server | monitored: TRUE | server status: 0(1) | queue status: 0(Inf) }\n{ Source: programs | monitored: 1 | n_generated: 2958 }"
                    },
                    "metadata": {},
                    "output_type": "display_data"
                }
            ],
            "source": "SIMULATION_TIME <- 10000\n\nenv %>%\n    add_resource(\"server\", 1) %>%\n    add_generator(\"programs\", programs, function() rexp(1, lambda)) %>%\n    run(until = SIMULATION_TIME)"
        },
        {
            "cell_type": "code",
            "execution_count": 173,
            "metadata": {
                "trusted": true
            },
            "outputs": [
                {
                    "data": {
                        "text/html": "<table class=\"dataframe\">\n<caption>A data.frame: 2957 \u00d7 6</caption>\n<thead>\n\t<tr><th scope=col>name</th><th scope=col>start_time</th><th scope=col>end_time</th><th scope=col>activity_time</th><th scope=col>finished</th><th scope=col>replication</th></tr>\n\t<tr><th scope=col>&lt;chr&gt;</th><th scope=col>&lt;dbl&gt;</th><th scope=col>&lt;dbl&gt;</th><th scope=col>&lt;dbl&gt;</th><th scope=col>&lt;lgl&gt;</th><th scope=col>&lt;int&gt;</th></tr>\n</thead>\n<tbody>\n\t<tr><td>programs0 </td><td>11.71948</td><td>11.72665</td><td> 0.007171833</td><td>TRUE</td><td>1</td></tr>\n\t<tr><td>programs1 </td><td>11.97214</td><td>16.47420</td><td> 4.502058210</td><td>TRUE</td><td>1</td></tr>\n\t<tr><td>programs2 </td><td>13.18187</td><td>19.27042</td><td> 2.796220815</td><td>TRUE</td><td>1</td></tr>\n\t<tr><td>programs3 </td><td>13.84978</td><td>19.41637</td><td> 0.145955088</td><td>TRUE</td><td>1</td></tr>\n\t<tr><td>programs4 </td><td>17.25988</td><td>19.73762</td><td> 0.321247764</td><td>TRUE</td><td>1</td></tr>\n\t<tr><td>programs5 </td><td>17.36269</td><td>21.07808</td><td> 1.340459151</td><td>TRUE</td><td>1</td></tr>\n\t<tr><td>programs6 </td><td>18.08577</td><td>21.35824</td><td> 0.280164119</td><td>TRUE</td><td>1</td></tr>\n\t<tr><td>programs7 </td><td>32.47119</td><td>33.76257</td><td> 1.291385800</td><td>TRUE</td><td>1</td></tr>\n\t<tr><td>programs8 </td><td>34.91324</td><td>35.59000</td><td> 0.676756013</td><td>TRUE</td><td>1</td></tr>\n\t<tr><td>programs9 </td><td>36.16733</td><td>39.87009</td><td> 3.702759465</td><td>TRUE</td><td>1</td></tr>\n\t<tr><td>programs10</td><td>36.82855</td><td>40.17639</td><td> 0.306295905</td><td>TRUE</td><td>1</td></tr>\n\t<tr><td>programs11</td><td>43.44342</td><td>44.11235</td><td> 0.668926978</td><td>TRUE</td><td>1</td></tr>\n\t<tr><td>programs12</td><td>46.78095</td><td>49.40036</td><td> 2.619408653</td><td>TRUE</td><td>1</td></tr>\n\t<tr><td>programs13</td><td>47.13424</td><td>54.38930</td><td> 4.988945310</td><td>TRUE</td><td>1</td></tr>\n\t<tr><td>programs14</td><td>48.85160</td><td>55.70312</td><td> 1.313814951</td><td>TRUE</td><td>1</td></tr>\n\t<tr><td>programs15</td><td>49.40080</td><td>57.88088</td><td> 2.177755976</td><td>TRUE</td><td>1</td></tr>\n\t<tr><td>programs16</td><td>53.00131</td><td>57.96396</td><td> 0.083085647</td><td>TRUE</td><td>1</td></tr>\n\t<tr><td>programs17</td><td>59.44899</td><td>70.14387</td><td>10.694884904</td><td>TRUE</td><td>1</td></tr>\n\t<tr><td>programs18</td><td>59.74826</td><td>75.24464</td><td> 5.100773956</td><td>TRUE</td><td>1</td></tr>\n\t<tr><td>programs19</td><td>60.01428</td><td>77.67736</td><td> 2.432720162</td><td>TRUE</td><td>1</td></tr>\n\t<tr><td>programs20</td><td>63.49780</td><td>78.99838</td><td> 1.321015163</td><td>TRUE</td><td>1</td></tr>\n\t<tr><td>programs21</td><td>66.18696</td><td>79.65157</td><td> 0.653185620</td><td>TRUE</td><td>1</td></tr>\n\t<tr><td>programs22</td><td>69.65671</td><td>80.22896</td><td> 0.577398604</td><td>TRUE</td><td>1</td></tr>\n\t<tr><td>programs23</td><td>70.43782</td><td>82.28904</td><td> 2.060078702</td><td>TRUE</td><td>1</td></tr>\n\t<tr><td>programs24</td><td>74.28298</td><td>82.34628</td><td> 0.057235235</td><td>TRUE</td><td>1</td></tr>\n\t<tr><td>programs25</td><td>83.30709</td><td>84.60361</td><td> 1.296519986</td><td>TRUE</td><td>1</td></tr>\n\t<tr><td>programs26</td><td>85.11055</td><td>87.54752</td><td> 2.436970147</td><td>TRUE</td><td>1</td></tr>\n\t<tr><td>programs27</td><td>86.85936</td><td>88.37623</td><td> 0.828706894</td><td>TRUE</td><td>1</td></tr>\n\t<tr><td>programs28</td><td>87.75041</td><td>89.72742</td><td> 1.351195085</td><td>TRUE</td><td>1</td></tr>\n\t<tr><td>programs29</td><td>89.66340</td><td>89.77667</td><td> 0.049241356</td><td>TRUE</td><td>1</td></tr>\n\t<tr><td>\u22ee</td><td>\u22ee</td><td>\u22ee</td><td>\u22ee</td><td>\u22ee</td><td>\u22ee</td></tr>\n\t<tr><td>programs2927</td><td>9896.046</td><td>9900.292</td><td>1.36170397</td><td>TRUE</td><td>1</td></tr>\n\t<tr><td>programs2928</td><td>9897.124</td><td>9901.633</td><td>1.34161613</td><td>TRUE</td><td>1</td></tr>\n\t<tr><td>programs2929</td><td>9901.007</td><td>9906.305</td><td>4.67219854</td><td>TRUE</td><td>1</td></tr>\n\t<tr><td>programs2930</td><td>9906.613</td><td>9906.632</td><td>0.01821685</td><td>TRUE</td><td>1</td></tr>\n\t<tr><td>programs2931</td><td>9907.271</td><td>9911.480</td><td>4.20907861</td><td>TRUE</td><td>1</td></tr>\n\t<tr><td>programs2932</td><td>9908.463</td><td>9919.556</td><td>8.07536205</td><td>TRUE</td><td>1</td></tr>\n\t<tr><td>programs2933</td><td>9914.285</td><td>9919.652</td><td>0.09603397</td><td>TRUE</td><td>1</td></tr>\n\t<tr><td>programs2934</td><td>9919.210</td><td>9920.946</td><td>1.29463532</td><td>TRUE</td><td>1</td></tr>\n\t<tr><td>programs2935</td><td>9932.277</td><td>9932.948</td><td>0.67091500</td><td>TRUE</td><td>1</td></tr>\n\t<tr><td>programs2936</td><td>9933.574</td><td>9938.109</td><td>4.53435872</td><td>TRUE</td><td>1</td></tr>\n\t<tr><td>programs2937</td><td>9933.863</td><td>9939.369</td><td>1.26035566</td><td>TRUE</td><td>1</td></tr>\n\t<tr><td>programs2938</td><td>9936.139</td><td>9940.257</td><td>0.88755576</td><td>TRUE</td><td>1</td></tr>\n\t<tr><td>programs2939</td><td>9939.907</td><td>9943.507</td><td>3.25056359</td><td>TRUE</td><td>1</td></tr>\n\t<tr><td>programs2940</td><td>9940.727</td><td>9946.825</td><td>3.31758268</td><td>TRUE</td><td>1</td></tr>\n\t<tr><td>programs2941</td><td>9943.090</td><td>9947.523</td><td>0.69786464</td><td>TRUE</td><td>1</td></tr>\n\t<tr><td>programs2942</td><td>9944.267</td><td>9948.669</td><td>1.14635832</td><td>TRUE</td><td>1</td></tr>\n\t<tr><td>programs2943</td><td>9951.073</td><td>9952.987</td><td>1.91438564</td><td>TRUE</td><td>1</td></tr>\n\t<tr><td>programs2944</td><td>9951.345</td><td>9957.419</td><td>4.43207936</td><td>TRUE</td><td>1</td></tr>\n\t<tr><td>programs2945</td><td>9953.960</td><td>9961.559</td><td>4.13950353</td><td>TRUE</td><td>1</td></tr>\n\t<tr><td>programs2946</td><td>9954.374</td><td>9966.629</td><td>5.07007989</td><td>TRUE</td><td>1</td></tr>\n\t<tr><td>programs2947</td><td>9954.577</td><td>9970.102</td><td>3.47338113</td><td>TRUE</td><td>1</td></tr>\n\t<tr><td>programs2948</td><td>9964.116</td><td>9972.397</td><td>2.29447546</td><td>TRUE</td><td>1</td></tr>\n\t<tr><td>programs2949</td><td>9967.148</td><td>9973.966</td><td>1.56893928</td><td>TRUE</td><td>1</td></tr>\n\t<tr><td>programs2950</td><td>9969.577</td><td>9974.547</td><td>0.58078429</td><td>TRUE</td><td>1</td></tr>\n\t<tr><td>programs2951</td><td>9984.146</td><td>9988.564</td><td>4.41792150</td><td>TRUE</td><td>1</td></tr>\n\t<tr><td>programs2952</td><td>9984.242</td><td>9990.701</td><td>2.13719085</td><td>TRUE</td><td>1</td></tr>\n\t<tr><td>programs2953</td><td>9987.091</td><td>9991.906</td><td>1.20476413</td><td>TRUE</td><td>1</td></tr>\n\t<tr><td>programs2954</td><td>9987.918</td><td>9993.886</td><td>1.98017937</td><td>TRUE</td><td>1</td></tr>\n\t<tr><td>programs2955</td><td>9987.923</td><td>9994.380</td><td>0.49382873</td><td>TRUE</td><td>1</td></tr>\n\t<tr><td>programs2956</td><td>9995.290</td><td>9996.525</td><td>1.23537596</td><td>TRUE</td><td>1</td></tr>\n</tbody>\n</table>\n",
                        "text/latex": "A data.frame: 2957 \u00d7 6\n\\begin{tabular}{llllll}\n name & start\\_time & end\\_time & activity\\_time & finished & replication\\\\\n <chr> & <dbl> & <dbl> & <dbl> & <lgl> & <int>\\\\\n\\hline\n\t programs0  & 11.71948 & 11.72665 &  0.007171833 & TRUE & 1\\\\\n\t programs1  & 11.97214 & 16.47420 &  4.502058210 & TRUE & 1\\\\\n\t programs2  & 13.18187 & 19.27042 &  2.796220815 & TRUE & 1\\\\\n\t programs3  & 13.84978 & 19.41637 &  0.145955088 & TRUE & 1\\\\\n\t programs4  & 17.25988 & 19.73762 &  0.321247764 & TRUE & 1\\\\\n\t programs5  & 17.36269 & 21.07808 &  1.340459151 & TRUE & 1\\\\\n\t programs6  & 18.08577 & 21.35824 &  0.280164119 & TRUE & 1\\\\\n\t programs7  & 32.47119 & 33.76257 &  1.291385800 & TRUE & 1\\\\\n\t programs8  & 34.91324 & 35.59000 &  0.676756013 & TRUE & 1\\\\\n\t programs9  & 36.16733 & 39.87009 &  3.702759465 & TRUE & 1\\\\\n\t programs10 & 36.82855 & 40.17639 &  0.306295905 & TRUE & 1\\\\\n\t programs11 & 43.44342 & 44.11235 &  0.668926978 & TRUE & 1\\\\\n\t programs12 & 46.78095 & 49.40036 &  2.619408653 & TRUE & 1\\\\\n\t programs13 & 47.13424 & 54.38930 &  4.988945310 & TRUE & 1\\\\\n\t programs14 & 48.85160 & 55.70312 &  1.313814951 & TRUE & 1\\\\\n\t programs15 & 49.40080 & 57.88088 &  2.177755976 & TRUE & 1\\\\\n\t programs16 & 53.00131 & 57.96396 &  0.083085647 & TRUE & 1\\\\\n\t programs17 & 59.44899 & 70.14387 & 10.694884904 & TRUE & 1\\\\\n\t programs18 & 59.74826 & 75.24464 &  5.100773956 & TRUE & 1\\\\\n\t programs19 & 60.01428 & 77.67736 &  2.432720162 & TRUE & 1\\\\\n\t programs20 & 63.49780 & 78.99838 &  1.321015163 & TRUE & 1\\\\\n\t programs21 & 66.18696 & 79.65157 &  0.653185620 & TRUE & 1\\\\\n\t programs22 & 69.65671 & 80.22896 &  0.577398604 & TRUE & 1\\\\\n\t programs23 & 70.43782 & 82.28904 &  2.060078702 & TRUE & 1\\\\\n\t programs24 & 74.28298 & 82.34628 &  0.057235235 & TRUE & 1\\\\\n\t programs25 & 83.30709 & 84.60361 &  1.296519986 & TRUE & 1\\\\\n\t programs26 & 85.11055 & 87.54752 &  2.436970147 & TRUE & 1\\\\\n\t programs27 & 86.85936 & 88.37623 &  0.828706894 & TRUE & 1\\\\\n\t programs28 & 87.75041 & 89.72742 &  1.351195085 & TRUE & 1\\\\\n\t programs29 & 89.66340 & 89.77667 &  0.049241356 & TRUE & 1\\\\\n\t \u22ee & \u22ee & \u22ee & \u22ee & \u22ee & \u22ee\\\\\n\t programs2927 & 9896.046 & 9900.292 & 1.36170397 & TRUE & 1\\\\\n\t programs2928 & 9897.124 & 9901.633 & 1.34161613 & TRUE & 1\\\\\n\t programs2929 & 9901.007 & 9906.305 & 4.67219854 & TRUE & 1\\\\\n\t programs2930 & 9906.613 & 9906.632 & 0.01821685 & TRUE & 1\\\\\n\t programs2931 & 9907.271 & 9911.480 & 4.20907861 & TRUE & 1\\\\\n\t programs2932 & 9908.463 & 9919.556 & 8.07536205 & TRUE & 1\\\\\n\t programs2933 & 9914.285 & 9919.652 & 0.09603397 & TRUE & 1\\\\\n\t programs2934 & 9919.210 & 9920.946 & 1.29463532 & TRUE & 1\\\\\n\t programs2935 & 9932.277 & 9932.948 & 0.67091500 & TRUE & 1\\\\\n\t programs2936 & 9933.574 & 9938.109 & 4.53435872 & TRUE & 1\\\\\n\t programs2937 & 9933.863 & 9939.369 & 1.26035566 & TRUE & 1\\\\\n\t programs2938 & 9936.139 & 9940.257 & 0.88755576 & TRUE & 1\\\\\n\t programs2939 & 9939.907 & 9943.507 & 3.25056359 & TRUE & 1\\\\\n\t programs2940 & 9940.727 & 9946.825 & 3.31758268 & TRUE & 1\\\\\n\t programs2941 & 9943.090 & 9947.523 & 0.69786464 & TRUE & 1\\\\\n\t programs2942 & 9944.267 & 9948.669 & 1.14635832 & TRUE & 1\\\\\n\t programs2943 & 9951.073 & 9952.987 & 1.91438564 & TRUE & 1\\\\\n\t programs2944 & 9951.345 & 9957.419 & 4.43207936 & TRUE & 1\\\\\n\t programs2945 & 9953.960 & 9961.559 & 4.13950353 & TRUE & 1\\\\\n\t programs2946 & 9954.374 & 9966.629 & 5.07007989 & TRUE & 1\\\\\n\t programs2947 & 9954.577 & 9970.102 & 3.47338113 & TRUE & 1\\\\\n\t programs2948 & 9964.116 & 9972.397 & 2.29447546 & TRUE & 1\\\\\n\t programs2949 & 9967.148 & 9973.966 & 1.56893928 & TRUE & 1\\\\\n\t programs2950 & 9969.577 & 9974.547 & 0.58078429 & TRUE & 1\\\\\n\t programs2951 & 9984.146 & 9988.564 & 4.41792150 & TRUE & 1\\\\\n\t programs2952 & 9984.242 & 9990.701 & 2.13719085 & TRUE & 1\\\\\n\t programs2953 & 9987.091 & 9991.906 & 1.20476413 & TRUE & 1\\\\\n\t programs2954 & 9987.918 & 9993.886 & 1.98017937 & TRUE & 1\\\\\n\t programs2955 & 9987.923 & 9994.380 & 0.49382873 & TRUE & 1\\\\\n\t programs2956 & 9995.290 & 9996.525 & 1.23537596 & TRUE & 1\\\\\n\\end{tabular}\n",
                        "text/markdown": "\nA data.frame: 2957 \u00d7 6\n\n| name &lt;chr&gt; | start_time &lt;dbl&gt; | end_time &lt;dbl&gt; | activity_time &lt;dbl&gt; | finished &lt;lgl&gt; | replication &lt;int&gt; |\n|---|---|---|---|---|---|\n| programs0  | 11.71948 | 11.72665 |  0.007171833 | TRUE | 1 |\n| programs1  | 11.97214 | 16.47420 |  4.502058210 | TRUE | 1 |\n| programs2  | 13.18187 | 19.27042 |  2.796220815 | TRUE | 1 |\n| programs3  | 13.84978 | 19.41637 |  0.145955088 | TRUE | 1 |\n| programs4  | 17.25988 | 19.73762 |  0.321247764 | TRUE | 1 |\n| programs5  | 17.36269 | 21.07808 |  1.340459151 | TRUE | 1 |\n| programs6  | 18.08577 | 21.35824 |  0.280164119 | TRUE | 1 |\n| programs7  | 32.47119 | 33.76257 |  1.291385800 | TRUE | 1 |\n| programs8  | 34.91324 | 35.59000 |  0.676756013 | TRUE | 1 |\n| programs9  | 36.16733 | 39.87009 |  3.702759465 | TRUE | 1 |\n| programs10 | 36.82855 | 40.17639 |  0.306295905 | TRUE | 1 |\n| programs11 | 43.44342 | 44.11235 |  0.668926978 | TRUE | 1 |\n| programs12 | 46.78095 | 49.40036 |  2.619408653 | TRUE | 1 |\n| programs13 | 47.13424 | 54.38930 |  4.988945310 | TRUE | 1 |\n| programs14 | 48.85160 | 55.70312 |  1.313814951 | TRUE | 1 |\n| programs15 | 49.40080 | 57.88088 |  2.177755976 | TRUE | 1 |\n| programs16 | 53.00131 | 57.96396 |  0.083085647 | TRUE | 1 |\n| programs17 | 59.44899 | 70.14387 | 10.694884904 | TRUE | 1 |\n| programs18 | 59.74826 | 75.24464 |  5.100773956 | TRUE | 1 |\n| programs19 | 60.01428 | 77.67736 |  2.432720162 | TRUE | 1 |\n| programs20 | 63.49780 | 78.99838 |  1.321015163 | TRUE | 1 |\n| programs21 | 66.18696 | 79.65157 |  0.653185620 | TRUE | 1 |\n| programs22 | 69.65671 | 80.22896 |  0.577398604 | TRUE | 1 |\n| programs23 | 70.43782 | 82.28904 |  2.060078702 | TRUE | 1 |\n| programs24 | 74.28298 | 82.34628 |  0.057235235 | TRUE | 1 |\n| programs25 | 83.30709 | 84.60361 |  1.296519986 | TRUE | 1 |\n| programs26 | 85.11055 | 87.54752 |  2.436970147 | TRUE | 1 |\n| programs27 | 86.85936 | 88.37623 |  0.828706894 | TRUE | 1 |\n| programs28 | 87.75041 | 89.72742 |  1.351195085 | TRUE | 1 |\n| programs29 | 89.66340 | 89.77667 |  0.049241356 | TRUE | 1 |\n| \u22ee | \u22ee | \u22ee | \u22ee | \u22ee | \u22ee |\n| programs2927 | 9896.046 | 9900.292 | 1.36170397 | TRUE | 1 |\n| programs2928 | 9897.124 | 9901.633 | 1.34161613 | TRUE | 1 |\n| programs2929 | 9901.007 | 9906.305 | 4.67219854 | TRUE | 1 |\n| programs2930 | 9906.613 | 9906.632 | 0.01821685 | TRUE | 1 |\n| programs2931 | 9907.271 | 9911.480 | 4.20907861 | TRUE | 1 |\n| programs2932 | 9908.463 | 9919.556 | 8.07536205 | TRUE | 1 |\n| programs2933 | 9914.285 | 9919.652 | 0.09603397 | TRUE | 1 |\n| programs2934 | 9919.210 | 9920.946 | 1.29463532 | TRUE | 1 |\n| programs2935 | 9932.277 | 9932.948 | 0.67091500 | TRUE | 1 |\n| programs2936 | 9933.574 | 9938.109 | 4.53435872 | TRUE | 1 |\n| programs2937 | 9933.863 | 9939.369 | 1.26035566 | TRUE | 1 |\n| programs2938 | 9936.139 | 9940.257 | 0.88755576 | TRUE | 1 |\n| programs2939 | 9939.907 | 9943.507 | 3.25056359 | TRUE | 1 |\n| programs2940 | 9940.727 | 9946.825 | 3.31758268 | TRUE | 1 |\n| programs2941 | 9943.090 | 9947.523 | 0.69786464 | TRUE | 1 |\n| programs2942 | 9944.267 | 9948.669 | 1.14635832 | TRUE | 1 |\n| programs2943 | 9951.073 | 9952.987 | 1.91438564 | TRUE | 1 |\n| programs2944 | 9951.345 | 9957.419 | 4.43207936 | TRUE | 1 |\n| programs2945 | 9953.960 | 9961.559 | 4.13950353 | TRUE | 1 |\n| programs2946 | 9954.374 | 9966.629 | 5.07007989 | TRUE | 1 |\n| programs2947 | 9954.577 | 9970.102 | 3.47338113 | TRUE | 1 |\n| programs2948 | 9964.116 | 9972.397 | 2.29447546 | TRUE | 1 |\n| programs2949 | 9967.148 | 9973.966 | 1.56893928 | TRUE | 1 |\n| programs2950 | 9969.577 | 9974.547 | 0.58078429 | TRUE | 1 |\n| programs2951 | 9984.146 | 9988.564 | 4.41792150 | TRUE | 1 |\n| programs2952 | 9984.242 | 9990.701 | 2.13719085 | TRUE | 1 |\n| programs2953 | 9987.091 | 9991.906 | 1.20476413 | TRUE | 1 |\n| programs2954 | 9987.918 | 9993.886 | 1.98017937 | TRUE | 1 |\n| programs2955 | 9987.923 | 9994.380 | 0.49382873 | TRUE | 1 |\n| programs2956 | 9995.290 | 9996.525 | 1.23537596 | TRUE | 1 |\n\n",
                        "text/plain": "     name         start_time end_time activity_time finished replication\n1    programs0    11.71948   11.72665  0.007171833  TRUE     1          \n2    programs1    11.97214   16.47420  4.502058210  TRUE     1          \n3    programs2    13.18187   19.27042  2.796220815  TRUE     1          \n4    programs3    13.84978   19.41637  0.145955088  TRUE     1          \n5    programs4    17.25988   19.73762  0.321247764  TRUE     1          \n6    programs5    17.36269   21.07808  1.340459151  TRUE     1          \n7    programs6    18.08577   21.35824  0.280164119  TRUE     1          \n8    programs7    32.47119   33.76257  1.291385800  TRUE     1          \n9    programs8    34.91324   35.59000  0.676756013  TRUE     1          \n10   programs9    36.16733   39.87009  3.702759465  TRUE     1          \n11   programs10   36.82855   40.17639  0.306295905  TRUE     1          \n12   programs11   43.44342   44.11235  0.668926978  TRUE     1          \n13   programs12   46.78095   49.40036  2.619408653  TRUE     1          \n14   programs13   47.13424   54.38930  4.988945310  TRUE     1          \n15   programs14   48.85160   55.70312  1.313814951  TRUE     1          \n16   programs15   49.40080   57.88088  2.177755976  TRUE     1          \n17   programs16   53.00131   57.96396  0.083085647  TRUE     1          \n18   programs17   59.44899   70.14387 10.694884904  TRUE     1          \n19   programs18   59.74826   75.24464  5.100773956  TRUE     1          \n20   programs19   60.01428   77.67736  2.432720162  TRUE     1          \n21   programs20   63.49780   78.99838  1.321015163  TRUE     1          \n22   programs21   66.18696   79.65157  0.653185620  TRUE     1          \n23   programs22   69.65671   80.22896  0.577398604  TRUE     1          \n24   programs23   70.43782   82.28904  2.060078702  TRUE     1          \n25   programs24   74.28298   82.34628  0.057235235  TRUE     1          \n26   programs25   83.30709   84.60361  1.296519986  TRUE     1          \n27   programs26   85.11055   87.54752  2.436970147  TRUE     1          \n28   programs27   86.85936   88.37623  0.828706894  TRUE     1          \n29   programs28   87.75041   89.72742  1.351195085  TRUE     1          \n30   programs29   89.66340   89.77667  0.049241356  TRUE     1          \n\u22ee    \u22ee            \u22ee          \u22ee        \u22ee             \u22ee        \u22ee          \n2928 programs2927 9896.046   9900.292 1.36170397    TRUE     1          \n2929 programs2928 9897.124   9901.633 1.34161613    TRUE     1          \n2930 programs2929 9901.007   9906.305 4.67219854    TRUE     1          \n2931 programs2930 9906.613   9906.632 0.01821685    TRUE     1          \n2932 programs2931 9907.271   9911.480 4.20907861    TRUE     1          \n2933 programs2932 9908.463   9919.556 8.07536205    TRUE     1          \n2934 programs2933 9914.285   9919.652 0.09603397    TRUE     1          \n2935 programs2934 9919.210   9920.946 1.29463532    TRUE     1          \n2936 programs2935 9932.277   9932.948 0.67091500    TRUE     1          \n2937 programs2936 9933.574   9938.109 4.53435872    TRUE     1          \n2938 programs2937 9933.863   9939.369 1.26035566    TRUE     1          \n2939 programs2938 9936.139   9940.257 0.88755576    TRUE     1          \n2940 programs2939 9939.907   9943.507 3.25056359    TRUE     1          \n2941 programs2940 9940.727   9946.825 3.31758268    TRUE     1          \n2942 programs2941 9943.090   9947.523 0.69786464    TRUE     1          \n2943 programs2942 9944.267   9948.669 1.14635832    TRUE     1          \n2944 programs2943 9951.073   9952.987 1.91438564    TRUE     1          \n2945 programs2944 9951.345   9957.419 4.43207936    TRUE     1          \n2946 programs2945 9953.960   9961.559 4.13950353    TRUE     1          \n2947 programs2946 9954.374   9966.629 5.07007989    TRUE     1          \n2948 programs2947 9954.577   9970.102 3.47338113    TRUE     1          \n2949 programs2948 9964.116   9972.397 2.29447546    TRUE     1          \n2950 programs2949 9967.148   9973.966 1.56893928    TRUE     1          \n2951 programs2950 9969.577   9974.547 0.58078429    TRUE     1          \n2952 programs2951 9984.146   9988.564 4.41792150    TRUE     1          \n2953 programs2952 9984.242   9990.701 2.13719085    TRUE     1          \n2954 programs2953 9987.091   9991.906 1.20476413    TRUE     1          \n2955 programs2954 9987.918   9993.886 1.98017937    TRUE     1          \n2956 programs2955 9987.923   9994.380 0.49382873    TRUE     1          \n2957 programs2956 9995.290   9996.525 1.23537596    TRUE     1          "
                    },
                    "metadata": {},
                    "output_type": "display_data"
                }
            ],
            "source": "arrivals <- env %>%\n    get_mon_arrivals()\narrivals"
        },
        {
            "cell_type": "code",
            "execution_count": 185,
            "metadata": {
                "trusted": true
            },
            "outputs": [
                {
                    "data": {
                        "text/html": "<table class=\"dataframe\">\n<caption>A data.frame: 1 \u00d7 5</caption>\n<thead>\n\t<tr><th scope=col>M/M/1/infty theoretical</th><th scope=col>M/M/1/infty practical</th><th scope=col>SPT theoretical</th><th scope=col>SPT practical</th><th scope=col>Round Robin</th></tr>\n\t<tr><th scope=col>&lt;dbl&gt;</th><th scope=col>&lt;dbl&gt;</th><th scope=col>&lt;dbl&gt;</th><th scope=col>&lt;dbl&gt;</th><th scope=col>&lt;dbl&gt;</th></tr>\n</thead>\n<tbody>\n\t<tr><td>4.711152</td><td>4.545182</td><td>4.008172</td><td>2.5598</td><td>4.91254</td></tr>\n</tbody>\n</table>\n",
                        "text/latex": "A data.frame: 1 \u00d7 5\n\\begin{tabular}{lllll}\n M/M/1/infty theoretical & M/M/1/infty practical & SPT theoretical & SPT practical & Round Robin\\\\\n <dbl> & <dbl> & <dbl> & <dbl> & <dbl>\\\\\n\\hline\n\t 4.711152 & 4.545182 & 4.008172 & 2.5598 & 4.91254\\\\\n\\end{tabular}\n",
                        "text/markdown": "\nA data.frame: 1 \u00d7 5\n\n| M/M/1/infty theoretical &lt;dbl&gt; | M/M/1/infty practical &lt;dbl&gt; | SPT theoretical &lt;dbl&gt; | SPT practical &lt;dbl&gt; | Round Robin &lt;dbl&gt; |\n|---|---|---|---|---|\n| 4.711152 | 4.545182 | 4.008172 | 2.5598 | 4.91254 |\n\n",
                        "text/plain": "  M/M/1/infty theoretical M/M/1/infty practical SPT theoretical SPT practical\n1 4.711152                4.545182              4.008172        2.5598       \n  Round Robin\n1 4.91254    "
                    },
                    "metadata": {},
                    "output_type": "display_data"
                }
            ],
            "source": "results[5] <- mean(arrivals %>% with(end_time - start_time))\nresults"
        },
        {
            "cell_type": "markdown",
            "metadata": {},
            "source": "\u041a\u0430\u043a \u0432\u0438\u0434\u043d\u043e, \u043f\u0440\u0430\u043a\u0442\u0438\u0447\u0435\u0441\u043a\u0438\u0435 \u0432\u044b\u0447\u0438\u0441\u043b\u0435\u043d\u0438\u044f \u0441\u043e\u0432\u043f\u0430\u0434\u0430\u044e\u0442 \u0442\u0435\u043e\u0440\u0435\u0442\u0438\u0447\u0435\u0441\u043a\u0438\u043c\u0438 \u0441 \u043d\u0435\u043a\u043e\u0442\u043e\u0440\u043e\u0439\n\u043f\u043e\u0433\u0440\u0435\u0448\u043d\u043e\u0441\u0442\u044c\u044e, \u043a\u043e\u0442\u043e\u0440\u0430\u044f \u0443\u043c\u0435\u043d\u044c\u0448\u0430\u0435\u0442\u0441\u044f \u043f\u0440\u0438 \u0443\u0432\u0435\u043b\u0438\u0447\u0435\u043d\u0438\u0438 \u0447\u0438\u0441\u043b\u0430 \u044d\u043a\u0441\u043f\u0435\u0440\u0438\u043c\u0435\u043d\u0442\u043e\u0432.\n\n\u041f\u0440\u0438 \u044d\u0442\u043e\u043c \u0441\u0438\u0441\u0442\u0435\u043c\u0430, \u0432\u044b\u043f\u043e\u043b\u043d\u0435\u043d\u043d\u0430\u044f \u0441 \u043f\u043e\u043c\u043e\u0449\u044c\u044e \u0430\u043b\u0433\u043e\u0440\u0438\u0442\u043c\u0430 Round Robin \u043e\u043a\u0430\u0437\u0430\u043b\u0430\u0441\u044c\n\u0431\u044b\u0441\u0442\u0440\u0435\u0435 \u043e\u0431\u044b\u0447\u043d\u043e\u0439 \u0441\u0438\u0441\u0442\u0435\u043c\u044b, \u0430 \u0441\u0438\u0441\u0442\u0435\u043c\u0430, \u0440\u0435\u0430\u043b\u0438\u0437\u043e\u0432\u0430\u043d\u043d\u0430\u044f \u0441 \u0430\u043b\u0433\u043e\u0440\u0438\u0442\u043c\u043e\u043c SPT - \u0441\u0430\u043c\u043e\u0439\n\u0431\u044b\u0441\u0442\u0440\u043e\u0439."
        }
    ],
    "metadata": {
        "kernelspec": {
            "display_name": "R",
            "language": "R",
            "name": "ir"
        },
        "language_info": {
            "codemirror_mode": "r",
            "file_extension": ".r",
            "mimetype": "text/x-r-source",
            "name": "R",
            "pygments_lexer": "r",
            "version": "4.2.3"
        }
    },
    "nbformat": 4,
    "nbformat_minor": 5
}