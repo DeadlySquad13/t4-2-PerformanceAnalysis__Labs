{
    "cells": [
        {
            "cell_type": "markdown",
            "metadata": {},
            "source": "# \u041b\u0430\u0431\u043e\u0440\u0430\u0442\u043e\u0440\u043d\u0430\u044f \u0440\u0430\u0431\u043e\u0442\u0430 7. \u0423\u043f\u0440\u0430\u0432\u043b\u0435\u043d\u0438\u0435 \u0440\u0435\u0441\u0443\u0440\u0441\u0430\u043c\u0438 \u0432 \u043e\u0434\u043d\u043e\u043f\u0440\u043e\u0446\u0435\u0441\u0441\u043e\u0440\u043d\u043e\u0439 \u0441\u0438\u0441\u0442\u0435\u043c\u0435 \u0441 \u043d\u0435\u043e\u0434\u043d\u043e\u0440\u043e\u0434\u043d\u044b\u043c\u0438 \u0437\u0430\u044f\u0432\u043a\u0430\u043c\u0438\n\u0412\u044b\u043f\u043e\u043b\u043d\u0438\u043b: \u041f\u0430\u043a\u0430\u043b\u043e \u0410\u043b\u0435\u043a\u0441\u0430\u043d\u0434\u0440 \u0421\u0435\u0440\u0433\u0435\u0435\u0432\u0438\u0447, \u0441\u0442\u0443\u0434\u0435\u043d\u0442 \u0420\u04225-81\u0411\n\n## \u0417\u0430\u0434\u0430\u043d\u0438\u0435 1\n\u0412 \u043e\u0434\u043d\u043e\u043f\u0440\u043e\u0446\u0435\u0441\u0441\u043e\u0440\u043d\u0443\u044e \u0441\u0438\u0441\u0442\u0435\u043c\u0443 \u0441\u043b\u0443\u0447\u0430\u0439\u043d\u044b\u043c \u043e\u0431\u0440\u0430\u0437\u043e\u043c \u043f\u043e\u0441\u0442\u0443\u043f\u0430\u044e\u0442 \u043d\u0430 \u0432\u044b\u043f\u043e\u043b\u043d\u0435\u043d\u0438\u0435 $m$\n\u0440\u0430\u0437\u043d\u044b\u0445 \u0442\u0438\u043f\u043e\u0432 \u043f\u0440\u043e\u0433\u0440\u0430\u043c\u043c, \u043e\u0442\u043b\u0438\u0447\u0430\u044e\u0449\u0438\u0445\u0441\u044f \u0438\u0437\u0432\u0435\u0441\u0442\u043d\u043e\u0439 \u0442\u0440\u0443\u0434\u043e\u0435\u043c\u043a\u043e\u0441\u0442\u044c\u044e\n$Q_1, Q_2,\\dots, Q_m$.\n\u0412\u0445\u043e\u0434\u044f\u0449\u0438\u0439 \u043f\u043e\u0442\u043e\u043a \u043f\u0440\u043e\u0441\u0442\u0435\u0439\u0448\u0438\u0439 \u0441 \u0438\u043d\u0442\u0435\u043d\u0441\u0438\u0432\u043d\u043e\u0441\u0442\u044c\u044e $\\lambda$.\n\n\u041f\u0440\u0435\u0434\u0441\u0442\u0430\u0432\u0438\u0432 \u0434\u0430\u043d\u043d\u0443\u044e \u0441\u0438\u0441\u0442\u0435\u043c\u0443 \u043a\u0430\u043a \u043e\u0434\u043d\u043e\u043a\u0430\u043d\u0430\u043b\u044c\u043d\u0443\u044e \u0421\u041c\u041e \u0441 \u043d\u0435\u043e\u0433\u0440\u0430\u043d\u0438\u0447\u0435\u043d\u043d\u043e\u0439 \u043e\u0447\u0435\u0440\u0435\u0434\u044c\u044e,\n\u0432\u044b\u0447\u0438\u0441\u043b\u0438\u0442\u044c \u0441\u0440\u0435\u0434\u043d\u0435\u0435 \u0432\u0440\u0435\u043c\u044f \u043e\u0431\u0441\u043b\u0443\u0436\u0438\u0432\u0430\u043d\u0438\u044f \u043f\u0440\u043e\u0433\u0440\u0430\u043c\u043c, \u0441\u0447\u0438\u0442\u0430\u044f \u0434\u043b\u0438\u0442\u0435\u043b\u044c\u043d\u043e\u0441\u0442\u044c\n\u043e\u0431\u0441\u043b\u0443\u0436\u0438\u0432\u0430\u043d\u0438\u044f \u0441\u043b\u0443\u0447\u0430\u0439\u043d\u043e\u0439 \u0432\u0435\u043b\u0438\u0447\u0438\u043d\u043e\u0439 (\u0442\u0435\u043e\u0440\u0435\u0442\u0438\u0447\u0435\u0441\u043a\u0438 \u0438 \u044d\u043a\u0441\u043f\u0435\u0440\u0438\u043c\u0435\u043d\u0442\u0430\u043b\u044c\u043d\u043e).\n\n\u0420\u0435\u0430\u043b\u0438\u0437\u043e\u0432\u0430\u0442\u044c \u0430\u043b\u0433\u043e\u0440\u0438\u0442\u043c SPT, \u0432\u044b\u0431\u0438\u0440\u0430\u044f \u0438\u0437 \u043e\u0447\u0435\u0440\u0435\u0434\u0438 \u0437\u0430\u044f\u0432\u043a\u0438 \u0432 \u0441\u043e\u043e\u0442\u0432\u0435\u0442\u0441\u0442\u0432\u0438\u0438 \u0441 \u0438\u0445\n\u043f\u0440\u0438\u043e\u0440\u0438\u0442\u0435\u0442\u043e\u043c \u043f\u043e \u0442\u0440\u0443\u0434\u043e\u0435\u043c\u043a\u043e\u0441\u0442\u0438. \u0420\u0430\u0441\u0441\u0447\u0438\u0442\u0430\u0442\u044c \u0441\u0440\u0435\u0434\u043d\u0435\u0435 \u0432\u0440\u0435\u043c\u044f \u043e\u0431\u0441\u043b\u0443\u0436\u0438\u0432\u0430\u043d\u0438\u044f \u043f\u0440\u043e\u0433\u0440\u0430\u043c\u043c.\n\u0421\u0440\u0430\u0432\u043d\u0438\u0442\u044c \u043f\u043e\u043b\u0443\u0447\u0435\u043d\u043d\u044b\u0435 \u0440\u0435\u0437\u0443\u043b\u044c\u0442\u0430\u0442\u044b.\n\n\u0420\u0435\u0430\u043b\u0438\u0437\u043e\u0432\u0430\u0442\u044c \u0430\u043b\u0433\u043e\u0440\u0438\u0442\u043c RR \u043f\u0440\u0438 \u0437\u0430\u0434\u0430\u043d\u043d\u043e\u043c \u043a\u0432\u0430\u043d\u0442\u0435 \u0432\u0440\u0435\u043c\u0435\u043d\u0438 $q$. \u041e\u0446\u0435\u043d\u0438\u0442\u044c \u0441\u0440\u0435\u0434\u043d\u0435\u0435 \u0432\u0440\u0435\u043c\u044f\n\u043e\u0431\u0441\u043b\u0443\u0436\u0438\u0432\u0430\u043d\u0438\u044f \u043f\u0440\u043e\u0433\u0440\u0430\u043c\u043c. \u0421\u0440\u0430\u0432\u043d\u0438\u0442\u044c \u043f\u043e\u043b\u0443\u0447\u0435\u043d\u043d\u044b\u0435 \u0440\u0435\u0437\u0443\u043b\u044c\u0442\u0430\u0442\u044b. \u0412\u044b\u044f\u0441\u043d\u0438\u0442\u044c, \u043a\u0430\u043a \u0432\u043b\u0438\u044f\u0435\u0442\n\u0432\u0435\u043b\u0438\u0447\u0438\u043d\u0430 \u043a\u0432\u0430\u043d\u0442\u0430 \u043d\u0430 \u0441\u0440\u0435\u0434\u043d\u0435\u0435 \u0432\u0440\u0435\u043c\u044f \u043e\u0431\u0441\u043b\u0443\u0436\u0438\u0432\u0430\u043d\u0438\u044f \u043f\u0440\u043e\u0433\u0440\u0430\u043c\u043c."
        },
        {
            "cell_type": "code",
            "execution_count": 1,
            "metadata": {
                "trusted": true
            },
            "outputs": [
                {
                    "data": {
                        "text/html": "<table class=\"dataframe\">\n<caption>A data.frame: 1 \u00d7 3</caption>\n<thead>\n\t<tr><th scope=col>m</th><th scope=col>q</th><th scope=col>lambda</th></tr>\n\t<tr><th scope=col>&lt;int&gt;</th><th scope=col>&lt;int&gt;</th><th scope=col>&lt;dbl&gt;</th></tr>\n</thead>\n<tbody>\n\t<tr><td>7</td><td>1</td><td>1.401915</td></tr>\n</tbody>\n</table>\n",
                        "text/latex": "A data.frame: 1 \u00d7 3\n\\begin{tabular}{lll}\n m & q & lambda\\\\\n <int> & <int> & <dbl>\\\\\n\\hline\n\t 7 & 1 & 1.401915\\\\\n\\end{tabular}\n",
                        "text/markdown": "\nA data.frame: 1 \u00d7 3\n\n| m &lt;int&gt; | q &lt;int&gt; | lambda &lt;dbl&gt; |\n|---|---|---|\n| 7 | 1 | 1.401915 |\n\n",
                        "text/plain": "  m q lambda  \n1 7 1 1.401915"
                    },
                    "metadata": {},
                    "output_type": "display_data"
                },
                {
                    "name": "stdout",
                    "output_type": "stream",
                    "text": "[1] 0.2417931 1.3403831 0.1863999 2.0529013 0.2552007 2.9172096 6.6709868\n"
                }
            ],
            "source": "Variant <- 5\nset.seed(Variant)\nm <- sample(c(6:20), 1)\nlambda <- runif(1, 0.1, 2)\nQ <- rexp(m, 0.3)\nq <- sample(c(1:4), 1)\nView(data.frame(m, q, lambda))\nprint(Q)"
        },
        {
            "cell_type": "markdown",
            "metadata": {},
            "source": "\u0417\u0430\u0432\u0435\u0434\u0435\u043c \u0442\u0430\u0431\u043b\u0438\u0446\u0443 \u0440\u0435\u0437\u0443\u043b\u044c\u0442\u0430\u0442\u043e\u0432"
        },
        {
            "cell_type": "code",
            "execution_count": 59,
            "metadata": {
                "trusted": true
            },
            "outputs": [],
            "source": "results <- data.frame(0, 0, 0, 0, 0)\ncolnames(results) <- c(\"M/M/1/infty theoretical\", \"M/M/1/infty practical\", \"SPT theoretical\", \"SPT practical\", \"Round Robin\")"
        },
        {
            "cell_type": "markdown",
            "metadata": {},
            "source": "### \u0421\u041c\u041e \u0432\u0438\u0434\u0430 $\u041c/\u041c/1/\\infty$\n\u041f\u0440\u0435\u0434\u0441\u0442\u0430\u0432\u0438\u043c \u0434\u0430\u043d\u043d\u0443\u044e \u0441\u0438\u0441\u0442\u0435\u043c\u0443 \u043a\u0430\u043a \u043e\u0434\u043d\u043e\u043a\u0430\u043d\u0430\u043b\u044c\u043d\u0443\u044e \u0421\u041c\u041e \u0441 \u043d\u0435\u043e\u0433\u0440\u0430\u043d\u0438\u0447\u0435\u043d\u043d\u043e\u0439 \u043e\u0447\u0435\u0440\u0435\u0434\u044c\u044e."
        },
        {
            "cell_type": "markdown",
            "metadata": {},
            "source": "#### \u0422\u0435\u043e\u0440\u0435\u0442\u0438\u0447\u0435\u0441\u043a\u0438"
        },
        {
            "cell_type": "code",
            "execution_count": 72,
            "metadata": {
                "trusted": true
            },
            "outputs": [
                {
                    "data": {
                        "text/html": "0.512262296607328",
                        "text/latex": "0.512262296607328",
                        "text/markdown": "0.512262296607328",
                        "text/plain": "[1] 0.5122623"
                    },
                    "metadata": {},
                    "output_type": "display_data"
                }
            ],
            "source": "t2 <- mean(Q)\nmu <- 1 / t2\nmu"
        },
        {
            "cell_type": "code",
            "execution_count": 73,
            "metadata": {
                "trusted": true
            },
            "outputs": [
                {
                    "data": {
                        "text/html": "2.73671386914812",
                        "text/latex": "2.73671386914812",
                        "text/markdown": "2.73671386914812",
                        "text/plain": "[1] 2.736714"
                    },
                    "metadata": {},
                    "output_type": "display_data"
                }
            ],
            "source": "y <- lambda / mu\ny"
        },
        {
            "cell_type": "markdown",
            "metadata": {},
            "source": "\u0422\u0430\u043a \u043a\u0430\u043a $y > 1$, \u043f\u043e\u043c\u0435\u043d\u044f\u0435\u043c $\\lambda$."
        },
        {
            "cell_type": "code",
            "execution_count": 75,
            "metadata": {
                "trusted": true
            },
            "outputs": [],
            "source": "lambda <- 0.3"
        },
        {
            "cell_type": "code",
            "execution_count": 76,
            "metadata": {
                "trusted": true
            },
            "outputs": [
                {
                    "data": {
                        "text/html": "0.512262296607328",
                        "text/latex": "0.512262296607328",
                        "text/markdown": "0.512262296607328",
                        "text/plain": "[1] 0.5122623"
                    },
                    "metadata": {},
                    "output_type": "display_data"
                }
            ],
            "source": "t2 <- mean(Q)\nmu <- 1 / t2\nmu"
        },
        {
            "cell_type": "code",
            "execution_count": 77,
            "metadata": {
                "trusted": true
            },
            "outputs": [
                {
                    "data": {
                        "text/html": "0.585637479054922",
                        "text/latex": "0.585637479054922",
                        "text/markdown": "0.585637479054922",
                        "text/plain": "[1] 0.5856375"
                    },
                    "metadata": {},
                    "output_type": "display_data"
                }
            ],
            "source": "y <- lambda / mu\ny"
        },
        {
            "cell_type": "code",
            "execution_count": 78,
            "metadata": {
                "trusted": true
            },
            "outputs": [
                {
                    "data": {
                        "text/html": "<table class=\"dataframe\">\n<caption>A data.frame: 1 \u00d7 5</caption>\n<thead>\n\t<tr><th scope=col>M/M/1/infty theoretical</th><th scope=col>M/M/1/infty practical</th><th scope=col>SPT theoretical</th><th scope=col>SPT practical</th><th scope=col>Round Robin</th></tr>\n\t<tr><th scope=col>&lt;dbl&gt;</th><th scope=col>&lt;dbl&gt;</th><th scope=col>&lt;dbl&gt;</th><th scope=col>&lt;dbl&gt;</th><th scope=col>&lt;dbl&gt;</th></tr>\n</thead>\n<tbody>\n\t<tr><td>4.711152</td><td>3.662282</td><td>4.008172</td><td>2.5725</td><td>2.5725</td></tr>\n</tbody>\n</table>\n",
                        "text/latex": "A data.frame: 1 \u00d7 5\n\\begin{tabular}{lllll}\n M/M/1/infty theoretical & M/M/1/infty practical & SPT theoretical & SPT practical & Round Robin\\\\\n <dbl> & <dbl> & <dbl> & <dbl> & <dbl>\\\\\n\\hline\n\t 4.711152 & 3.662282 & 4.008172 & 2.5725 & 2.5725\\\\\n\\end{tabular}\n",
                        "text/markdown": "\nA data.frame: 1 \u00d7 5\n\n| M/M/1/infty theoretical &lt;dbl&gt; | M/M/1/infty practical &lt;dbl&gt; | SPT theoretical &lt;dbl&gt; | SPT practical &lt;dbl&gt; | Round Robin &lt;dbl&gt; |\n|---|---|---|---|---|\n| 4.711152 | 3.662282 | 4.008172 | 2.5725 | 2.5725 |\n\n",
                        "text/plain": "  M/M/1/infty theoretical M/M/1/infty practical SPT theoretical SPT practical\n1 4.711152                3.662282              4.008172        2.5725       \n  Round Robin\n1 2.5725     "
                    },
                    "metadata": {},
                    "output_type": "display_data"
                }
            ],
            "source": "results[1] <- 1 / mu / (1 - y)\nresults"
        },
        {
            "cell_type": "markdown",
            "metadata": {},
            "source": "#### \u0427\u0438\u0441\u043b\u0435\u043d\u043d\u043e"
        },
        {
            "cell_type": "code",
            "execution_count": 111,
            "metadata": {
                "trusted": true
            },
            "outputs": [
                {
                    "data": {
                        "text/plain": "simmer environment: SuperDuperSim | now: 0 | next: \n{ Monitor: in memory }"
                    },
                    "metadata": {},
                    "output_type": "display_data"
                }
            ],
            "source": "if (!require(\"simmer\")) {\n    install.packages(\"simmer\")\n}\nlibrary(simmer)\n\nenv <- simmer(\"SuperDuperSim\")\nenv"
        },
        {
            "cell_type": "code",
            "execution_count": 112,
            "metadata": {
                "trusted": true
            },
            "outputs": [],
            "source": "programs <- trajectory(\"programs' path\") %>%\n    seize(\"server\", amount = 1) %>%\n    timeout(function() rexp(1, mu)) %>%\n    release(\"server\", amount = 1)"
        },
        {
            "cell_type": "code",
            "execution_count": 113,
            "metadata": {
                "trusted": true
            },
            "outputs": [
                {
                    "data": {
                        "text/plain": "simmer environment: SuperDuperSim | now: 10000 | next: 10001.2542877312\n{ Monitor: in memory }\n{ Resource: server | monitored: TRUE | server status: 1(1) | queue status: 0(Inf) }\n{ Source: programs | monitored: 1 | n_generated: 2942 }"
                    },
                    "metadata": {},
                    "output_type": "display_data"
                }
            ],
            "source": "SIMULATION_TIME <- 10000\n\nenv %>%\n    add_resource(\"server\", 1) %>%\n    add_generator(\"programs\", programs, function() rexp(1, lambda)) %>%\n    run(until = SIMULATION_TIME)"
        },
        {
            "cell_type": "code",
            "execution_count": 115,
            "metadata": {
                "trusted": true
            },
            "outputs": [
                {
                    "data": {
                        "text/html": "<table class=\"dataframe\">\n<caption>A data.frame: 2940 \u00d7 6</caption>\n<thead>\n\t<tr><th scope=col>name</th><th scope=col>start_time</th><th scope=col>end_time</th><th scope=col>activity_time</th><th scope=col>finished</th><th scope=col>replication</th></tr>\n\t<tr><th scope=col>&lt;chr&gt;</th><th scope=col>&lt;dbl&gt;</th><th scope=col>&lt;dbl&gt;</th><th scope=col>&lt;dbl&gt;</th><th scope=col>&lt;lgl&gt;</th><th scope=col>&lt;int&gt;</th></tr>\n</thead>\n<tbody>\n\t<tr><td>programs0 </td><td>  4.263362</td><td>  5.042783</td><td>0.779421017</td><td>TRUE</td><td>1</td></tr>\n\t<tr><td>programs1 </td><td>  6.746470</td><td>  7.256152</td><td>0.509681929</td><td>TRUE</td><td>1</td></tr>\n\t<tr><td>programs2 </td><td>  7.619343</td><td>  7.906546</td><td>0.287202954</td><td>TRUE</td><td>1</td></tr>\n\t<tr><td>programs3 </td><td>  8.957836</td><td> 11.773471</td><td>2.815635448</td><td>TRUE</td><td>1</td></tr>\n\t<tr><td>programs4 </td><td>  9.077252</td><td> 11.812946</td><td>0.039474524</td><td>TRUE</td><td>1</td></tr>\n\t<tr><td>programs5 </td><td>  9.511587</td><td> 13.207806</td><td>1.394859912</td><td>TRUE</td><td>1</td></tr>\n\t<tr><td>programs6 </td><td> 10.964045</td><td> 13.508030</td><td>0.300223750</td><td>TRUE</td><td>1</td></tr>\n\t<tr><td>programs7 </td><td> 11.346586</td><td> 14.121309</td><td>0.613279763</td><td>TRUE</td><td>1</td></tr>\n\t<tr><td>programs8 </td><td> 15.411978</td><td> 15.416274</td><td>0.004295376</td><td>TRUE</td><td>1</td></tr>\n\t<tr><td>programs9 </td><td> 25.481838</td><td> 27.835618</td><td>2.353779683</td><td>TRUE</td><td>1</td></tr>\n\t<tr><td>programs10</td><td> 26.647788</td><td> 29.581235</td><td>1.745617334</td><td>TRUE</td><td>1</td></tr>\n\t<tr><td>programs11</td><td> 32.062856</td><td> 33.297000</td><td>1.234143744</td><td>TRUE</td><td>1</td></tr>\n\t<tr><td>programs12</td><td> 33.903699</td><td> 35.184015</td><td>1.280315672</td><td>TRUE</td><td>1</td></tr>\n\t<tr><td>programs13</td><td> 35.194710</td><td> 35.736647</td><td>0.541936576</td><td>TRUE</td><td>1</td></tr>\n\t<tr><td>programs14</td><td> 35.521669</td><td> 36.646309</td><td>0.909662505</td><td>TRUE</td><td>1</td></tr>\n\t<tr><td>programs15</td><td> 46.112319</td><td> 46.622180</td><td>0.509861106</td><td>TRUE</td><td>1</td></tr>\n\t<tr><td>programs16</td><td> 53.389250</td><td> 54.245607</td><td>0.856357185</td><td>TRUE</td><td>1</td></tr>\n\t<tr><td>programs17</td><td> 55.323676</td><td> 57.088830</td><td>1.765153620</td><td>TRUE</td><td>1</td></tr>\n\t<tr><td>programs18</td><td> 71.164921</td><td> 74.403307</td><td>3.238385446</td><td>TRUE</td><td>1</td></tr>\n\t<tr><td>programs19</td><td> 71.668868</td><td> 75.194337</td><td>0.791029989</td><td>TRUE</td><td>1</td></tr>\n\t<tr><td>programs20</td><td> 74.377428</td><td> 79.239595</td><td>4.045258920</td><td>TRUE</td><td>1</td></tr>\n\t<tr><td>programs21</td><td> 83.215663</td><td> 84.135141</td><td>0.919477833</td><td>TRUE</td><td>1</td></tr>\n\t<tr><td>programs22</td><td> 84.777808</td><td> 89.232767</td><td>4.454958509</td><td>TRUE</td><td>1</td></tr>\n\t<tr><td>programs23</td><td> 84.992465</td><td> 89.907537</td><td>0.674769846</td><td>TRUE</td><td>1</td></tr>\n\t<tr><td>programs24</td><td> 88.013623</td><td> 90.396007</td><td>0.488469986</td><td>TRUE</td><td>1</td></tr>\n\t<tr><td>programs25</td><td> 89.086598</td><td> 91.721551</td><td>1.325543980</td><td>TRUE</td><td>1</td></tr>\n\t<tr><td>programs26</td><td> 91.111522</td><td> 95.461373</td><td>3.739822035</td><td>TRUE</td><td>1</td></tr>\n\t<tr><td>programs27</td><td> 93.963762</td><td> 97.433401</td><td>1.972028584</td><td>TRUE</td><td>1</td></tr>\n\t<tr><td>programs28</td><td> 94.759723</td><td> 98.274374</td><td>0.840972425</td><td>TRUE</td><td>1</td></tr>\n\t<tr><td>programs29</td><td>101.824363</td><td>102.324220</td><td>0.499856618</td><td>TRUE</td><td>1</td></tr>\n\t<tr><td>\u22ee</td><td>\u22ee</td><td>\u22ee</td><td>\u22ee</td><td>\u22ee</td><td>\u22ee</td></tr>\n\t<tr><td>programs2910</td><td>9917.242</td><td>9918.782</td><td>1.3822747</td><td>TRUE</td><td>1</td></tr>\n\t<tr><td>programs2911</td><td>9923.528</td><td>9924.855</td><td>1.3274217</td><td>TRUE</td><td>1</td></tr>\n\t<tr><td>programs2912</td><td>9923.622</td><td>9925.136</td><td>0.2806573</td><td>TRUE</td><td>1</td></tr>\n\t<tr><td>programs2913</td><td>9924.593</td><td>9926.053</td><td>0.9169311</td><td>TRUE</td><td>1</td></tr>\n\t<tr><td>programs2914</td><td>9930.160</td><td>9933.117</td><td>2.9569675</td><td>TRUE</td><td>1</td></tr>\n\t<tr><td>programs2915</td><td>9940.125</td><td>9940.409</td><td>0.2835620</td><td>TRUE</td><td>1</td></tr>\n\t<tr><td>programs2916</td><td>9941.637</td><td>9948.559</td><td>6.9223508</td><td>TRUE</td><td>1</td></tr>\n\t<tr><td>programs2917</td><td>9945.958</td><td>9949.570</td><td>1.0108689</td><td>TRUE</td><td>1</td></tr>\n\t<tr><td>programs2918</td><td>9947.045</td><td>9950.174</td><td>0.6041330</td><td>TRUE</td><td>1</td></tr>\n\t<tr><td>programs2919</td><td>9950.548</td><td>9951.203</td><td>0.6550939</td><td>TRUE</td><td>1</td></tr>\n\t<tr><td>programs2920</td><td>9951.394</td><td>9952.233</td><td>0.8390330</td><td>TRUE</td><td>1</td></tr>\n\t<tr><td>programs2921</td><td>9952.003</td><td>9953.829</td><td>1.5965470</td><td>TRUE</td><td>1</td></tr>\n\t<tr><td>programs2922</td><td>9955.191</td><td>9959.221</td><td>4.0296112</td><td>TRUE</td><td>1</td></tr>\n\t<tr><td>programs2923</td><td>9962.500</td><td>9964.648</td><td>2.1482776</td><td>TRUE</td><td>1</td></tr>\n\t<tr><td>programs2924</td><td>9965.940</td><td>9968.370</td><td>2.4305513</td><td>TRUE</td><td>1</td></tr>\n\t<tr><td>programs2925</td><td>9968.663</td><td>9969.766</td><td>1.1034190</td><td>TRUE</td><td>1</td></tr>\n\t<tr><td>programs2926</td><td>9971.695</td><td>9973.840</td><td>2.1453155</td><td>TRUE</td><td>1</td></tr>\n\t<tr><td>programs2927</td><td>9973.975</td><td>9975.317</td><td>1.3422552</td><td>TRUE</td><td>1</td></tr>\n\t<tr><td>programs2928</td><td>9977.757</td><td>9979.395</td><td>1.6379545</td><td>TRUE</td><td>1</td></tr>\n\t<tr><td>programs2929</td><td>9979.227</td><td>9983.316</td><td>3.9215354</td><td>TRUE</td><td>1</td></tr>\n\t<tr><td>programs2930</td><td>9979.554</td><td>9983.705</td><td>0.3885508</td><td>TRUE</td><td>1</td></tr>\n\t<tr><td>programs2931</td><td>9980.543</td><td>9983.847</td><td>0.1424298</td><td>TRUE</td><td>1</td></tr>\n\t<tr><td>programs2932</td><td>9981.447</td><td>9984.192</td><td>0.3443478</td><td>TRUE</td><td>1</td></tr>\n\t<tr><td>programs2933</td><td>9984.031</td><td>9987.422</td><td>3.2299710</td><td>TRUE</td><td>1</td></tr>\n\t<tr><td>programs2934</td><td>9985.179</td><td>9989.709</td><td>2.2872964</td><td>TRUE</td><td>1</td></tr>\n\t<tr><td>programs2935</td><td>9989.279</td><td>9991.610</td><td>1.9007564</td><td>TRUE</td><td>1</td></tr>\n\t<tr><td>programs2936</td><td>9990.576</td><td>9994.076</td><td>2.4662241</td><td>TRUE</td><td>1</td></tr>\n\t<tr><td>programs2937</td><td>9991.931</td><td>9998.529</td><td>4.4529946</td><td>TRUE</td><td>1</td></tr>\n\t<tr><td>programs2938</td><td>9993.054</td><td>9999.062</td><td>0.5331805</td><td>TRUE</td><td>1</td></tr>\n\t<tr><td>programs2939</td><td>9995.372</td><td>9999.826</td><td>0.7643564</td><td>TRUE</td><td>1</td></tr>\n</tbody>\n</table>\n",
                        "text/latex": "A data.frame: 2940 \u00d7 6\n\\begin{tabular}{llllll}\n name & start\\_time & end\\_time & activity\\_time & finished & replication\\\\\n <chr> & <dbl> & <dbl> & <dbl> & <lgl> & <int>\\\\\n\\hline\n\t programs0  &   4.263362 &   5.042783 & 0.779421017 & TRUE & 1\\\\\n\t programs1  &   6.746470 &   7.256152 & 0.509681929 & TRUE & 1\\\\\n\t programs2  &   7.619343 &   7.906546 & 0.287202954 & TRUE & 1\\\\\n\t programs3  &   8.957836 &  11.773471 & 2.815635448 & TRUE & 1\\\\\n\t programs4  &   9.077252 &  11.812946 & 0.039474524 & TRUE & 1\\\\\n\t programs5  &   9.511587 &  13.207806 & 1.394859912 & TRUE & 1\\\\\n\t programs6  &  10.964045 &  13.508030 & 0.300223750 & TRUE & 1\\\\\n\t programs7  &  11.346586 &  14.121309 & 0.613279763 & TRUE & 1\\\\\n\t programs8  &  15.411978 &  15.416274 & 0.004295376 & TRUE & 1\\\\\n\t programs9  &  25.481838 &  27.835618 & 2.353779683 & TRUE & 1\\\\\n\t programs10 &  26.647788 &  29.581235 & 1.745617334 & TRUE & 1\\\\\n\t programs11 &  32.062856 &  33.297000 & 1.234143744 & TRUE & 1\\\\\n\t programs12 &  33.903699 &  35.184015 & 1.280315672 & TRUE & 1\\\\\n\t programs13 &  35.194710 &  35.736647 & 0.541936576 & TRUE & 1\\\\\n\t programs14 &  35.521669 &  36.646309 & 0.909662505 & TRUE & 1\\\\\n\t programs15 &  46.112319 &  46.622180 & 0.509861106 & TRUE & 1\\\\\n\t programs16 &  53.389250 &  54.245607 & 0.856357185 & TRUE & 1\\\\\n\t programs17 &  55.323676 &  57.088830 & 1.765153620 & TRUE & 1\\\\\n\t programs18 &  71.164921 &  74.403307 & 3.238385446 & TRUE & 1\\\\\n\t programs19 &  71.668868 &  75.194337 & 0.791029989 & TRUE & 1\\\\\n\t programs20 &  74.377428 &  79.239595 & 4.045258920 & TRUE & 1\\\\\n\t programs21 &  83.215663 &  84.135141 & 0.919477833 & TRUE & 1\\\\\n\t programs22 &  84.777808 &  89.232767 & 4.454958509 & TRUE & 1\\\\\n\t programs23 &  84.992465 &  89.907537 & 0.674769846 & TRUE & 1\\\\\n\t programs24 &  88.013623 &  90.396007 & 0.488469986 & TRUE & 1\\\\\n\t programs25 &  89.086598 &  91.721551 & 1.325543980 & TRUE & 1\\\\\n\t programs26 &  91.111522 &  95.461373 & 3.739822035 & TRUE & 1\\\\\n\t programs27 &  93.963762 &  97.433401 & 1.972028584 & TRUE & 1\\\\\n\t programs28 &  94.759723 &  98.274374 & 0.840972425 & TRUE & 1\\\\\n\t programs29 & 101.824363 & 102.324220 & 0.499856618 & TRUE & 1\\\\\n\t \u22ee & \u22ee & \u22ee & \u22ee & \u22ee & \u22ee\\\\\n\t programs2910 & 9917.242 & 9918.782 & 1.3822747 & TRUE & 1\\\\\n\t programs2911 & 9923.528 & 9924.855 & 1.3274217 & TRUE & 1\\\\\n\t programs2912 & 9923.622 & 9925.136 & 0.2806573 & TRUE & 1\\\\\n\t programs2913 & 9924.593 & 9926.053 & 0.9169311 & TRUE & 1\\\\\n\t programs2914 & 9930.160 & 9933.117 & 2.9569675 & TRUE & 1\\\\\n\t programs2915 & 9940.125 & 9940.409 & 0.2835620 & TRUE & 1\\\\\n\t programs2916 & 9941.637 & 9948.559 & 6.9223508 & TRUE & 1\\\\\n\t programs2917 & 9945.958 & 9949.570 & 1.0108689 & TRUE & 1\\\\\n\t programs2918 & 9947.045 & 9950.174 & 0.6041330 & TRUE & 1\\\\\n\t programs2919 & 9950.548 & 9951.203 & 0.6550939 & TRUE & 1\\\\\n\t programs2920 & 9951.394 & 9952.233 & 0.8390330 & TRUE & 1\\\\\n\t programs2921 & 9952.003 & 9953.829 & 1.5965470 & TRUE & 1\\\\\n\t programs2922 & 9955.191 & 9959.221 & 4.0296112 & TRUE & 1\\\\\n\t programs2923 & 9962.500 & 9964.648 & 2.1482776 & TRUE & 1\\\\\n\t programs2924 & 9965.940 & 9968.370 & 2.4305513 & TRUE & 1\\\\\n\t programs2925 & 9968.663 & 9969.766 & 1.1034190 & TRUE & 1\\\\\n\t programs2926 & 9971.695 & 9973.840 & 2.1453155 & TRUE & 1\\\\\n\t programs2927 & 9973.975 & 9975.317 & 1.3422552 & TRUE & 1\\\\\n\t programs2928 & 9977.757 & 9979.395 & 1.6379545 & TRUE & 1\\\\\n\t programs2929 & 9979.227 & 9983.316 & 3.9215354 & TRUE & 1\\\\\n\t programs2930 & 9979.554 & 9983.705 & 0.3885508 & TRUE & 1\\\\\n\t programs2931 & 9980.543 & 9983.847 & 0.1424298 & TRUE & 1\\\\\n\t programs2932 & 9981.447 & 9984.192 & 0.3443478 & TRUE & 1\\\\\n\t programs2933 & 9984.031 & 9987.422 & 3.2299710 & TRUE & 1\\\\\n\t programs2934 & 9985.179 & 9989.709 & 2.2872964 & TRUE & 1\\\\\n\t programs2935 & 9989.279 & 9991.610 & 1.9007564 & TRUE & 1\\\\\n\t programs2936 & 9990.576 & 9994.076 & 2.4662241 & TRUE & 1\\\\\n\t programs2937 & 9991.931 & 9998.529 & 4.4529946 & TRUE & 1\\\\\n\t programs2938 & 9993.054 & 9999.062 & 0.5331805 & TRUE & 1\\\\\n\t programs2939 & 9995.372 & 9999.826 & 0.7643564 & TRUE & 1\\\\\n\\end{tabular}\n",
                        "text/markdown": "\nA data.frame: 2940 \u00d7 6\n\n| name &lt;chr&gt; | start_time &lt;dbl&gt; | end_time &lt;dbl&gt; | activity_time &lt;dbl&gt; | finished &lt;lgl&gt; | replication &lt;int&gt; |\n|---|---|---|---|---|---|\n| programs0  |   4.263362 |   5.042783 | 0.779421017 | TRUE | 1 |\n| programs1  |   6.746470 |   7.256152 | 0.509681929 | TRUE | 1 |\n| programs2  |   7.619343 |   7.906546 | 0.287202954 | TRUE | 1 |\n| programs3  |   8.957836 |  11.773471 | 2.815635448 | TRUE | 1 |\n| programs4  |   9.077252 |  11.812946 | 0.039474524 | TRUE | 1 |\n| programs5  |   9.511587 |  13.207806 | 1.394859912 | TRUE | 1 |\n| programs6  |  10.964045 |  13.508030 | 0.300223750 | TRUE | 1 |\n| programs7  |  11.346586 |  14.121309 | 0.613279763 | TRUE | 1 |\n| programs8  |  15.411978 |  15.416274 | 0.004295376 | TRUE | 1 |\n| programs9  |  25.481838 |  27.835618 | 2.353779683 | TRUE | 1 |\n| programs10 |  26.647788 |  29.581235 | 1.745617334 | TRUE | 1 |\n| programs11 |  32.062856 |  33.297000 | 1.234143744 | TRUE | 1 |\n| programs12 |  33.903699 |  35.184015 | 1.280315672 | TRUE | 1 |\n| programs13 |  35.194710 |  35.736647 | 0.541936576 | TRUE | 1 |\n| programs14 |  35.521669 |  36.646309 | 0.909662505 | TRUE | 1 |\n| programs15 |  46.112319 |  46.622180 | 0.509861106 | TRUE | 1 |\n| programs16 |  53.389250 |  54.245607 | 0.856357185 | TRUE | 1 |\n| programs17 |  55.323676 |  57.088830 | 1.765153620 | TRUE | 1 |\n| programs18 |  71.164921 |  74.403307 | 3.238385446 | TRUE | 1 |\n| programs19 |  71.668868 |  75.194337 | 0.791029989 | TRUE | 1 |\n| programs20 |  74.377428 |  79.239595 | 4.045258920 | TRUE | 1 |\n| programs21 |  83.215663 |  84.135141 | 0.919477833 | TRUE | 1 |\n| programs22 |  84.777808 |  89.232767 | 4.454958509 | TRUE | 1 |\n| programs23 |  84.992465 |  89.907537 | 0.674769846 | TRUE | 1 |\n| programs24 |  88.013623 |  90.396007 | 0.488469986 | TRUE | 1 |\n| programs25 |  89.086598 |  91.721551 | 1.325543980 | TRUE | 1 |\n| programs26 |  91.111522 |  95.461373 | 3.739822035 | TRUE | 1 |\n| programs27 |  93.963762 |  97.433401 | 1.972028584 | TRUE | 1 |\n| programs28 |  94.759723 |  98.274374 | 0.840972425 | TRUE | 1 |\n| programs29 | 101.824363 | 102.324220 | 0.499856618 | TRUE | 1 |\n| \u22ee | \u22ee | \u22ee | \u22ee | \u22ee | \u22ee |\n| programs2910 | 9917.242 | 9918.782 | 1.3822747 | TRUE | 1 |\n| programs2911 | 9923.528 | 9924.855 | 1.3274217 | TRUE | 1 |\n| programs2912 | 9923.622 | 9925.136 | 0.2806573 | TRUE | 1 |\n| programs2913 | 9924.593 | 9926.053 | 0.9169311 | TRUE | 1 |\n| programs2914 | 9930.160 | 9933.117 | 2.9569675 | TRUE | 1 |\n| programs2915 | 9940.125 | 9940.409 | 0.2835620 | TRUE | 1 |\n| programs2916 | 9941.637 | 9948.559 | 6.9223508 | TRUE | 1 |\n| programs2917 | 9945.958 | 9949.570 | 1.0108689 | TRUE | 1 |\n| programs2918 | 9947.045 | 9950.174 | 0.6041330 | TRUE | 1 |\n| programs2919 | 9950.548 | 9951.203 | 0.6550939 | TRUE | 1 |\n| programs2920 | 9951.394 | 9952.233 | 0.8390330 | TRUE | 1 |\n| programs2921 | 9952.003 | 9953.829 | 1.5965470 | TRUE | 1 |\n| programs2922 | 9955.191 | 9959.221 | 4.0296112 | TRUE | 1 |\n| programs2923 | 9962.500 | 9964.648 | 2.1482776 | TRUE | 1 |\n| programs2924 | 9965.940 | 9968.370 | 2.4305513 | TRUE | 1 |\n| programs2925 | 9968.663 | 9969.766 | 1.1034190 | TRUE | 1 |\n| programs2926 | 9971.695 | 9973.840 | 2.1453155 | TRUE | 1 |\n| programs2927 | 9973.975 | 9975.317 | 1.3422552 | TRUE | 1 |\n| programs2928 | 9977.757 | 9979.395 | 1.6379545 | TRUE | 1 |\n| programs2929 | 9979.227 | 9983.316 | 3.9215354 | TRUE | 1 |\n| programs2930 | 9979.554 | 9983.705 | 0.3885508 | TRUE | 1 |\n| programs2931 | 9980.543 | 9983.847 | 0.1424298 | TRUE | 1 |\n| programs2932 | 9981.447 | 9984.192 | 0.3443478 | TRUE | 1 |\n| programs2933 | 9984.031 | 9987.422 | 3.2299710 | TRUE | 1 |\n| programs2934 | 9985.179 | 9989.709 | 2.2872964 | TRUE | 1 |\n| programs2935 | 9989.279 | 9991.610 | 1.9007564 | TRUE | 1 |\n| programs2936 | 9990.576 | 9994.076 | 2.4662241 | TRUE | 1 |\n| programs2937 | 9991.931 | 9998.529 | 4.4529946 | TRUE | 1 |\n| programs2938 | 9993.054 | 9999.062 | 0.5331805 | TRUE | 1 |\n| programs2939 | 9995.372 | 9999.826 | 0.7643564 | TRUE | 1 |\n\n",
                        "text/plain": "     name         start_time end_time   activity_time finished replication\n1    programs0      4.263362   5.042783 0.779421017   TRUE     1          \n2    programs1      6.746470   7.256152 0.509681929   TRUE     1          \n3    programs2      7.619343   7.906546 0.287202954   TRUE     1          \n4    programs3      8.957836  11.773471 2.815635448   TRUE     1          \n5    programs4      9.077252  11.812946 0.039474524   TRUE     1          \n6    programs5      9.511587  13.207806 1.394859912   TRUE     1          \n7    programs6     10.964045  13.508030 0.300223750   TRUE     1          \n8    programs7     11.346586  14.121309 0.613279763   TRUE     1          \n9    programs8     15.411978  15.416274 0.004295376   TRUE     1          \n10   programs9     25.481838  27.835618 2.353779683   TRUE     1          \n11   programs10    26.647788  29.581235 1.745617334   TRUE     1          \n12   programs11    32.062856  33.297000 1.234143744   TRUE     1          \n13   programs12    33.903699  35.184015 1.280315672   TRUE     1          \n14   programs13    35.194710  35.736647 0.541936576   TRUE     1          \n15   programs14    35.521669  36.646309 0.909662505   TRUE     1          \n16   programs15    46.112319  46.622180 0.509861106   TRUE     1          \n17   programs16    53.389250  54.245607 0.856357185   TRUE     1          \n18   programs17    55.323676  57.088830 1.765153620   TRUE     1          \n19   programs18    71.164921  74.403307 3.238385446   TRUE     1          \n20   programs19    71.668868  75.194337 0.791029989   TRUE     1          \n21   programs20    74.377428  79.239595 4.045258920   TRUE     1          \n22   programs21    83.215663  84.135141 0.919477833   TRUE     1          \n23   programs22    84.777808  89.232767 4.454958509   TRUE     1          \n24   programs23    84.992465  89.907537 0.674769846   TRUE     1          \n25   programs24    88.013623  90.396007 0.488469986   TRUE     1          \n26   programs25    89.086598  91.721551 1.325543980   TRUE     1          \n27   programs26    91.111522  95.461373 3.739822035   TRUE     1          \n28   programs27    93.963762  97.433401 1.972028584   TRUE     1          \n29   programs28    94.759723  98.274374 0.840972425   TRUE     1          \n30   programs29   101.824363 102.324220 0.499856618   TRUE     1          \n\u22ee    \u22ee            \u22ee          \u22ee          \u22ee             \u22ee        \u22ee          \n2911 programs2910 9917.242   9918.782   1.3822747     TRUE     1          \n2912 programs2911 9923.528   9924.855   1.3274217     TRUE     1          \n2913 programs2912 9923.622   9925.136   0.2806573     TRUE     1          \n2914 programs2913 9924.593   9926.053   0.9169311     TRUE     1          \n2915 programs2914 9930.160   9933.117   2.9569675     TRUE     1          \n2916 programs2915 9940.125   9940.409   0.2835620     TRUE     1          \n2917 programs2916 9941.637   9948.559   6.9223508     TRUE     1          \n2918 programs2917 9945.958   9949.570   1.0108689     TRUE     1          \n2919 programs2918 9947.045   9950.174   0.6041330     TRUE     1          \n2920 programs2919 9950.548   9951.203   0.6550939     TRUE     1          \n2921 programs2920 9951.394   9952.233   0.8390330     TRUE     1          \n2922 programs2921 9952.003   9953.829   1.5965470     TRUE     1          \n2923 programs2922 9955.191   9959.221   4.0296112     TRUE     1          \n2924 programs2923 9962.500   9964.648   2.1482776     TRUE     1          \n2925 programs2924 9965.940   9968.370   2.4305513     TRUE     1          \n2926 programs2925 9968.663   9969.766   1.1034190     TRUE     1          \n2927 programs2926 9971.695   9973.840   2.1453155     TRUE     1          \n2928 programs2927 9973.975   9975.317   1.3422552     TRUE     1          \n2929 programs2928 9977.757   9979.395   1.6379545     TRUE     1          \n2930 programs2929 9979.227   9983.316   3.9215354     TRUE     1          \n2931 programs2930 9979.554   9983.705   0.3885508     TRUE     1          \n2932 programs2931 9980.543   9983.847   0.1424298     TRUE     1          \n2933 programs2932 9981.447   9984.192   0.3443478     TRUE     1          \n2934 programs2933 9984.031   9987.422   3.2299710     TRUE     1          \n2935 programs2934 9985.179   9989.709   2.2872964     TRUE     1          \n2936 programs2935 9989.279   9991.610   1.9007564     TRUE     1          \n2937 programs2936 9990.576   9994.076   2.4662241     TRUE     1          \n2938 programs2937 9991.931   9998.529   4.4529946     TRUE     1          \n2939 programs2938 9993.054   9999.062   0.5331805     TRUE     1          \n2940 programs2939 9995.372   9999.826   0.7643564     TRUE     1          "
                    },
                    "metadata": {},
                    "output_type": "display_data"
                }
            ],
            "source": "arrivals <- env %>%\n    get_mon_arrivals()\narrivals"
        },
        {
            "cell_type": "code",
            "execution_count": 116,
            "metadata": {
                "trusted": true
            },
            "outputs": [
                {
                    "data": {
                        "text/html": "<table class=\"dataframe\">\n<caption>A data.frame: 1 \u00d7 5</caption>\n<thead>\n\t<tr><th scope=col>M/M/1/infty theoretical</th><th scope=col>M/M/1/infty practical</th><th scope=col>SPT theoretical</th><th scope=col>SPT practical</th><th scope=col>Round Robin</th></tr>\n\t<tr><th scope=col>&lt;dbl&gt;</th><th scope=col>&lt;dbl&gt;</th><th scope=col>&lt;dbl&gt;</th><th scope=col>&lt;dbl&gt;</th><th scope=col>&lt;dbl&gt;</th></tr>\n</thead>\n<tbody>\n\t<tr><td>4.711152</td><td>4.545182</td><td>4.008172</td><td>2.5725</td><td>2.5725</td></tr>\n</tbody>\n</table>\n",
                        "text/latex": "A data.frame: 1 \u00d7 5\n\\begin{tabular}{lllll}\n M/M/1/infty theoretical & M/M/1/infty practical & SPT theoretical & SPT practical & Round Robin\\\\\n <dbl> & <dbl> & <dbl> & <dbl> & <dbl>\\\\\n\\hline\n\t 4.711152 & 4.545182 & 4.008172 & 2.5725 & 2.5725\\\\\n\\end{tabular}\n",
                        "text/markdown": "\nA data.frame: 1 \u00d7 5\n\n| M/M/1/infty theoretical &lt;dbl&gt; | M/M/1/infty practical &lt;dbl&gt; | SPT theoretical &lt;dbl&gt; | SPT practical &lt;dbl&gt; | Round Robin &lt;dbl&gt; |\n|---|---|---|---|---|\n| 4.711152 | 4.545182 | 4.008172 | 2.5725 | 2.5725 |\n\n",
                        "text/plain": "  M/M/1/infty theoretical M/M/1/infty practical SPT theoretical SPT practical\n1 4.711152                4.545182              4.008172        2.5725       \n  Round Robin\n1 2.5725     "
                    },
                    "metadata": {},
                    "output_type": "display_data"
                }
            ],
            "source": "results[2] <- mean(arrivals %>% with(end_time - start_time))\nresults"
        },
        {
            "cell_type": "markdown",
            "metadata": {},
            "source": "### \u0410\u043b\u0433\u043e\u0440\u0438\u0442\u043c SPT\n\n#### \u0422\u0435\u043e\u0440\u0435\u0442\u0438\u0447\u0435\u0441\u043a\u0438\n\u0421\u0440\u0435\u0434\u043d\u0435\u0435 \u0432\u0440\u0435\u043c\u044f \u043e\u0431\u0441\u043b\u0443\u0436\u0438\u0432\u0430\u043d\u0438\u044f \u0441\u043a\u043b\u0430\u0434\u044b\u0432\u0430\u0435\u0442\u0441\u044f \u0438\u0437 \u043e\u0436\u0438\u0434\u0430\u043d\u0438\u044f \u0432 \u043e\u0447\u0435\u0440\u0435\u0434\u0438 \u0438 \u0432\u0440\u0435\u043c\u0435\u043d\u0438\n\u0432\u044b\u043f\u043e\u043b\u043d\u0435\u043d\u0438\u044f, \u0443\u0441\u0440\u0435\u0434\u043d\u0435\u043d\u043d\u044b\u043c \u043f\u043e \u0432\u0441\u0435\u043c \u0437\u0430\u044f\u0432\u043a\u0430\u043c:\n$$\nT_{\\text{\u0441\u0438\u0441\u0442}} = \\frac{1}{m} \\left( Q'_1 + \\left( Q'_1 + Q'_2 \\right) +\n\\left(Q'_1 + Q'_2 + Q'_3 \\right) + \\dots + \\sum^m_{i = 1}Q'_i \\right)\n$$\n\u0433\u0434\u0435 $Q'_i$ - $i$-\u0439 \u044d\u043b\u0435\u043c\u0435\u043d\u0442 \u043c\u0430\u0441\u0441\u0438\u0432\u0430 $Q'$,\n**\u043e\u0442\u0441\u043e\u0440\u0442\u0438\u0440\u043e\u0432\u0430\u043d\u043d\u043e\u0433\u043e \u043f\u043e \u0432\u043e\u0437\u0440\u0430\u0441\u0442\u0430\u043d\u0438\u044e** \u043c\u0430\u0441\u0441\u0438\u0432\u0430 Q."
        },
        {
            "cell_type": "code",
            "execution_count": 117,
            "metadata": {
                "trusted": true
            },
            "outputs": [
                {
                    "data": {
                        "text/html": "<style>\n.list-inline {list-style: none; margin:0; padding: 0}\n.list-inline>li {display: inline-block}\n.list-inline>li:not(:last-child)::after {content: \"\\00b7\"; padding: 0 .5ex}\n</style>\n<ol class=list-inline><li>0.18639989507695</li><li>0.241793137076307</li><li>0.255200661621331</li><li>1.34038306151827</li><li>2.05290133909633</li><li>2.91720958101713</li><li>6.6709868358752</li></ol>\n",
                        "text/latex": "\\begin{enumerate*}\n\\item 0.18639989507695\n\\item 0.241793137076307\n\\item 0.255200661621331\n\\item 1.34038306151827\n\\item 2.05290133909633\n\\item 2.91720958101713\n\\item 6.6709868358752\n\\end{enumerate*}\n",
                        "text/markdown": "1. 0.18639989507695\n2. 0.241793137076307\n3. 0.255200661621331\n4. 1.34038306151827\n5. 2.05290133909633\n6. 2.91720958101713\n7. 6.6709868358752\n\n\n",
                        "text/plain": "[1] 0.1863999 0.2417931 0.2552007 1.3403831 2.0529013 2.9172096 6.6709868"
                    },
                    "metadata": {},
                    "output_type": "display_data"
                }
            ],
            "source": "Q_sorted <- sort(Q)\nQ_sorted"
        },
        {
            "cell_type": "markdown",
            "metadata": {},
            "source": "\u0421\u0443\u043c\u043c\u044b \u043f\u0435\u0440\u0432\u044b\u0445 i \u044d\u043b\u0435\u043c\u0435\u043d\u0442\u043e\u0432:"
        },
        {
            "cell_type": "code",
            "execution_count": 118,
            "metadata": {
                "trusted": true
            },
            "outputs": [
                {
                    "data": {
                        "text/html": "<ol>\n\t<li>0.18639989507695</li>\n\t<li>0.428193032153257</li>\n\t<li>0.683393693774588</li>\n\t<li>2.02377675529286</li>\n\t<li>4.07667809438919</li>\n\t<li>6.99388767540631</li>\n\t<li>13.6648745112815</li>\n</ol>\n",
                        "text/latex": "\\begin{enumerate}\n\\item 0.18639989507695\n\\item 0.428193032153257\n\\item 0.683393693774588\n\\item 2.02377675529286\n\\item 4.07667809438919\n\\item 6.99388767540631\n\\item 13.6648745112815\n\\end{enumerate}\n",
                        "text/markdown": "1. 0.18639989507695\n2. 0.428193032153257\n3. 0.683393693774588\n4. 2.02377675529286\n5. 4.07667809438919\n6. 6.99388767540631\n7. 13.6648745112815\n\n\n",
                        "text/plain": "[[1]]\n[1] 0.1863999\n\n[[2]]\n[1] 0.428193\n\n[[3]]\n[1] 0.6833937\n\n[[4]]\n[1] 2.023777\n\n[[5]]\n[1] 4.076678\n\n[[6]]\n[1] 6.993888\n\n[[7]]\n[1] 13.66487\n"
                    },
                    "metadata": {},
                    "output_type": "display_data"
                }
            ],
            "source": "Q_progression_sums <- lapply(\n    seq_along(Q_sorted),\n    function(i) sum(head(Q_sorted, i))\n)\nQ_progression_sums"
        },
        {
            "cell_type": "markdown",
            "metadata": {},
            "source": "\u0418\u0442\u043e\u0433\u043e\u0432\u0430\u044f \u0441\u0443\u043c\u043c\u0430"
        },
        {
            "cell_type": "code",
            "execution_count": 4,
            "metadata": {
                "trusted": true
            },
            "outputs": [
                {
                    "data": {
                        "text/html": "28.0572036573747",
                        "text/latex": "28.0572036573747",
                        "text/markdown": "28.0572036573747",
                        "text/plain": "[1] 28.0572"
                    },
                    "metadata": {},
                    "output_type": "display_data"
                }
            ],
            "source": "sum_of_Q_progression_sums <- sum(unlist(Q_progression_sums))\nsum_of_Q_progression_sums"
        },
        {
            "cell_type": "code",
            "execution_count": 119,
            "metadata": {
                "trusted": true
            },
            "outputs": [
                {
                    "data": {
                        "text/html": "<table class=\"dataframe\">\n<caption>A data.frame: 1 \u00d7 5</caption>\n<thead>\n\t<tr><th scope=col>M/M/1/infty theoretical</th><th scope=col>M/M/1/infty practical</th><th scope=col>SPT theoretical</th><th scope=col>SPT practical</th><th scope=col>Round Robin</th></tr>\n\t<tr><th scope=col>&lt;dbl&gt;</th><th scope=col>&lt;dbl&gt;</th><th scope=col>&lt;dbl&gt;</th><th scope=col>&lt;dbl&gt;</th><th scope=col>&lt;dbl&gt;</th></tr>\n</thead>\n<tbody>\n\t<tr><td>4.711152</td><td>4.545182</td><td>4.008172</td><td>2.5725</td><td>2.5725</td></tr>\n</tbody>\n</table>\n",
                        "text/latex": "A data.frame: 1 \u00d7 5\n\\begin{tabular}{lllll}\n M/M/1/infty theoretical & M/M/1/infty practical & SPT theoretical & SPT practical & Round Robin\\\\\n <dbl> & <dbl> & <dbl> & <dbl> & <dbl>\\\\\n\\hline\n\t 4.711152 & 4.545182 & 4.008172 & 2.5725 & 2.5725\\\\\n\\end{tabular}\n",
                        "text/markdown": "\nA data.frame: 1 \u00d7 5\n\n| M/M/1/infty theoretical &lt;dbl&gt; | M/M/1/infty practical &lt;dbl&gt; | SPT theoretical &lt;dbl&gt; | SPT practical &lt;dbl&gt; | Round Robin &lt;dbl&gt; |\n|---|---|---|---|---|\n| 4.711152 | 4.545182 | 4.008172 | 2.5725 | 2.5725 |\n\n",
                        "text/plain": "  M/M/1/infty theoretical M/M/1/infty practical SPT theoretical SPT practical\n1 4.711152                4.545182              4.008172        2.5725       \n  Round Robin\n1 2.5725     "
                    },
                    "metadata": {},
                    "output_type": "display_data"
                }
            ],
            "source": "results[3] <- 1 / m * sum_of_Q_progression_sums\nresults"
        },
        {
            "cell_type": "markdown",
            "metadata": {},
            "source": "#### \u0427\u0438\u0441\u043b\u0435\u043d\u043d\u043e\n\u0420\u0435\u0430\u043b\u0438\u0437\u0443\u0435\u043c SPT \u0441 \u043f\u043e\u043c\u043e\u0449\u044c\u044e simmer, \u0432\u043e\u0441\u043f\u043e\u043b\u044c\u0437\u043e\u0432\u0430\u0432\u0448\u0438\u0441\u044c \u043c\u0435\u0445\u0430\u043d\u0438\u0437\u043c\u043e\u043c select,\n\u0432\u044b\u0431\u0438\u0440\u0430\u044e\u0449\u0438\u043c \u0438\u0437 \u043e\u0447\u0435\u0440\u0435\u0434\u0438 \u0437\u043d\u0430\u0447\u0435\u043d\u0438\u0435 \u043f\u043e \u043e\u043f\u0440\u0435\u0434\u0435\u043b\u0435\u043d\u043d\u043e\u0439 \u0441\u0442\u0440\u0430\u0442\u0435\u0433\u0438\u0438."
        },
        {
            "cell_type": "code",
            "execution_count": 219,
            "metadata": {
                "trusted": true
            },
            "outputs": [
                {
                    "data": {
                        "text/plain": "simmer environment: SuperDuperSptSim | now: 0 | next: \n{ Monitor: in memory }"
                    },
                    "metadata": {},
                    "output_type": "display_data"
                }
            ],
            "source": "if (!require(\"simmer\")) {\n    install.packages(\"simmer\")\n}\nlibrary(simmer)\n\nspt.env <- simmer(\"SuperDuperSptSim\")\nspt.env"
        },
        {
            "cell_type": "markdown",
            "metadata": {},
            "source": "\u0414\u043e\u0431\u0430\u0432\u0438\u043c $m$ \u0433\u0435\u043d\u0435\u0440\u0430\u0442\u043e\u0440\u043e\u0432. \u041a\u0430\u0436\u0434\u044b\u0439 \u0431\u0443\u0434\u0435\u0442 \u0438\u043c\u0435\u0442\u044c \u043f\u0440\u0438\u043e\u0440\u0438\u0442\u0435\u0442 \u0432 \u0437\u0430\u0432\u0438\u0441\u0438\u043c\u043e\u0441\u0442\u0438 \u043e\u0442\n\u0441\u043a\u043e\u0440\u043e\u0441\u0442\u0438 \u0432\u044b\u043f\u043e\u043b\u043d\u0435\u043d\u0438\u044f \u043f\u0440\u043e\u0433\u0440\u0430\u043c\u043c\u044b. \u0413\u0435\u043d\u0435\u0440\u0430\u0442\u043e\u0440, \u0441\u043e\u0437\u0434\u0430\u044e\u0449\u0438\u0439 \u043f\u0440\u043e\u0433\u0440\u0430\u043c\u043c\u044b \u0441 \u043d\u0430\u0438\u0431\u043e\u043b\u044c\u0448\u0435\u0439\n\u0434\u043b\u0438\u0442\u0435\u043b\u044c\u043d\u043e\u0441\u0442\u044c\u044e \u0432\u044b\u043f\u043e\u043b\u043d\u0435\u043d\u0438\u044f, \u0431\u0443\u0434\u0435\u0442 \u0438\u043c\u0435\u0442\u044c \u043d\u0430\u0438\u043c\u0435\u043d\u044c\u0448\u0438\u0439 \u043f\u0440\u0438\u043e\u0440\u0438\u0442\u0435\u0442."
        },
        {
            "cell_type": "code",
            "execution_count": 220,
            "metadata": {
                "trusted": true
            },
            "outputs": [
                {
                    "data": {
                        "text/plain": "simmer environment: SuperDuperSptSim | now: 0 | next: \n{ Monitor: in memory }\n{ Resource: server | monitored: TRUE | server status: 0(1) | queue status: 0(Inf) }"
                    },
                    "metadata": {},
                    "output_type": "display_data"
                },
                {
                    "data": {
                        "text/plain": "simmer environment: SuperDuperSptSim | now: 10000 | next: 10001.7134950434\n{ Monitor: in memory }\n{ Resource: server | monitored: TRUE | server status: 0(1) | queue status: 0(Inf) }\n{ Source: programs1 | monitored: 1 | n_generated: 424 }\n{ Source: programs2 | monitored: 1 | n_generated: 447 }\n{ Source: programs3 | monitored: 1 | n_generated: 445 }\n{ Source: programs4 | monitored: 1 | n_generated: 431 }\n{ Source: programs5 | monitored: 1 | n_generated: 423 }\n{ Source: programs6 | monitored: 1 | n_generated: 445 }\n{ Source: programs7 | monitored: 1 | n_generated: 398 }"
                    },
                    "metadata": {},
                    "output_type": "display_data"
                }
            ],
            "source": "SIMULATION_TIME <- 10000\n\nspt.env %>%\n    add_resource(\"server\", 1)\n\nQ_sorted_decr <- sort(Q, decreasing = TRUE)\n\nspt.programs_trajectory <- function(time_to_execute) {\n    return(\n        trajectory(\"programs' path\") %>%\n            seize(\"server\", 1) %>%\n            timeout(function() rexp(1, 1 / time_to_execute)) %>%\n            release(\"server\", 1)\n    )\n}\n\nfor (Q_i in seq_along(Q_sorted_decr)) {\n    priority <- Q_i\n\n    name <- paste0(\"programs\", Q_i)\n\n    spt.env %>% add_generator(\n        name,\n        spt.programs_trajectory(Q_sorted_decr[Q_i]),\n        priority = priority,\n        preemptible = priority,\n        distribution = function() rexp(1, lambda / m)\n    )\n}\n\nspt.env %>%\n    run(until = SIMULATION_TIME)"
        },
        {
            "cell_type": "code",
            "execution_count": 221,
            "metadata": {
                "trusted": true
            },
            "outputs": [
                {
                    "data": {
                        "text/html": "<table class=\"dataframe\">\n<caption>A data.frame: 3006 \u00d7 6</caption>\n<thead>\n\t<tr><th scope=col>name</th><th scope=col>start_time</th><th scope=col>end_time</th><th scope=col>activity_time</th><th scope=col>finished</th><th scope=col>replication</th></tr>\n\t<tr><th scope=col>&lt;chr&gt;</th><th scope=col>&lt;dbl&gt;</th><th scope=col>&lt;dbl&gt;</th><th scope=col>&lt;dbl&gt;</th><th scope=col>&lt;lgl&gt;</th><th scope=col>&lt;int&gt;</th></tr>\n</thead>\n<tbody>\n\t<tr><td>programs60</td><td>  8.963183</td><td>  9.331645</td><td>0.36846195</td><td>TRUE</td><td>1</td></tr>\n\t<tr><td>programs30</td><td> 12.968233</td><td> 13.187424</td><td>0.21919104</td><td>TRUE</td><td>1</td></tr>\n\t<tr><td>programs61</td><td> 13.436932</td><td> 13.936521</td><td>0.49958874</td><td>TRUE</td><td>1</td></tr>\n\t<tr><td>programs20</td><td> 14.372574</td><td> 15.095163</td><td>0.72258944</td><td>TRUE</td><td>1</td></tr>\n\t<tr><td>programs62</td><td> 18.145967</td><td> 18.282460</td><td>0.13649244</td><td>TRUE</td><td>1</td></tr>\n\t<tr><td>programs10</td><td> 19.990619</td><td> 20.031901</td><td>0.04128154</td><td>TRUE</td><td>1</td></tr>\n\t<tr><td>programs21</td><td> 21.401813</td><td> 21.556375</td><td>0.15456209</td><td>TRUE</td><td>1</td></tr>\n\t<tr><td>programs50</td><td> 39.493284</td><td> 39.592314</td><td>0.09902948</td><td>TRUE</td><td>1</td></tr>\n\t<tr><td>programs22</td><td> 47.252065</td><td> 47.503320</td><td>0.25125458</td><td>TRUE</td><td>1</td></tr>\n\t<tr><td>programs70</td><td> 50.411658</td><td> 50.509228</td><td>0.09757002</td><td>TRUE</td><td>1</td></tr>\n\t<tr><td>programs11</td><td> 51.711118</td><td> 51.817478</td><td>0.10636030</td><td>TRUE</td><td>1</td></tr>\n\t<tr><td>programs63</td><td> 54.358152</td><td> 54.740850</td><td>0.38269812</td><td>TRUE</td><td>1</td></tr>\n\t<tr><td>programs64</td><td> 62.588531</td><td> 63.205588</td><td>0.61705685</td><td>TRUE</td><td>1</td></tr>\n\t<tr><td>programs71</td><td> 70.479649</td><td> 70.650018</td><td>0.17036885</td><td>TRUE</td><td>1</td></tr>\n\t<tr><td>programs31</td><td> 71.130998</td><td> 71.612296</td><td>0.48129724</td><td>TRUE</td><td>1</td></tr>\n\t<tr><td>programs51</td><td> 81.599255</td><td> 81.878386</td><td>0.27913115</td><td>TRUE</td><td>1</td></tr>\n\t<tr><td>programs65</td><td> 81.711292</td><td> 81.909127</td><td>0.03074065</td><td>TRUE</td><td>1</td></tr>\n\t<tr><td>programs66</td><td> 84.123051</td><td> 84.252032</td><td>0.12898093</td><td>TRUE</td><td>1</td></tr>\n\t<tr><td>programs67</td><td> 84.331795</td><td> 84.364178</td><td>0.03238247</td><td>TRUE</td><td>1</td></tr>\n\t<tr><td>programs32</td><td> 85.831091</td><td> 85.882070</td><td>0.05097906</td><td>TRUE</td><td>1</td></tr>\n\t<tr><td>programs33</td><td> 86.984420</td><td> 87.142840</td><td>0.15842083</td><td>TRUE</td><td>1</td></tr>\n\t<tr><td>programs40</td><td> 89.917612</td><td> 90.221091</td><td>0.30347879</td><td>TRUE</td><td>1</td></tr>\n\t<tr><td>programs34</td><td> 90.150827</td><td> 90.255775</td><td>0.03468403</td><td>TRUE</td><td>1</td></tr>\n\t<tr><td>programs35</td><td> 95.228163</td><td> 95.544089</td><td>0.31592558</td><td>TRUE</td><td>1</td></tr>\n\t<tr><td>programs52</td><td> 95.510482</td><td> 95.712175</td><td>0.16808592</td><td>TRUE</td><td>1</td></tr>\n\t<tr><td>programs72</td><td>100.359870</td><td>100.424364</td><td>0.06449420</td><td>TRUE</td><td>1</td></tr>\n\t<tr><td>programs53</td><td>102.053072</td><td>102.172461</td><td>0.11938981</td><td>TRUE</td><td>1</td></tr>\n\t<tr><td>programs41</td><td>103.169033</td><td>103.261081</td><td>0.09204742</td><td>TRUE</td><td>1</td></tr>\n\t<tr><td>programs12</td><td>109.126382</td><td>110.249470</td><td>1.12308771</td><td>TRUE</td><td>1</td></tr>\n\t<tr><td>programs54</td><td>109.321711</td><td>110.541634</td><td>0.29216413</td><td>TRUE</td><td>1</td></tr>\n\t<tr><td>\u22ee</td><td>\u22ee</td><td>\u22ee</td><td>\u22ee</td><td>\u22ee</td><td>\u22ee</td></tr>\n\t<tr><td>programs3442</td><td>9902.945</td><td>9903.043</td><td>0.098047170</td><td>TRUE</td><td>1</td></tr>\n\t<tr><td>programs5417</td><td>9903.309</td><td>9903.432</td><td>0.123162472</td><td>TRUE</td><td>1</td></tr>\n\t<tr><td>programs7392</td><td>9906.940</td><td>9906.978</td><td>0.037771005</td><td>TRUE</td><td>1</td></tr>\n\t<tr><td>programs1417</td><td>9910.768</td><td>9910.800</td><td>0.032430054</td><td>TRUE</td><td>1</td></tr>\n\t<tr><td>programs5418</td><td>9914.170</td><td>9914.543</td><td>0.372482805</td><td>TRUE</td><td>1</td></tr>\n\t<tr><td>programs7393</td><td>9914.381</td><td>9914.661</td><td>0.118122911</td><td>TRUE</td><td>1</td></tr>\n\t<tr><td>programs4423</td><td>9914.261</td><td>9914.693</td><td>0.032608620</td><td>TRUE</td><td>1</td></tr>\n\t<tr><td>programs4424</td><td>9918.561</td><td>9918.789</td><td>0.228096758</td><td>TRUE</td><td>1</td></tr>\n\t<tr><td>programs6441</td><td>9927.236</td><td>9927.544</td><td>0.308057986</td><td>TRUE</td><td>1</td></tr>\n\t<tr><td>programs7394</td><td>9929.620</td><td>9929.957</td><td>0.337581872</td><td>TRUE</td><td>1</td></tr>\n\t<tr><td>programs6442</td><td>9933.432</td><td>9933.528</td><td>0.096161544</td><td>TRUE</td><td>1</td></tr>\n\t<tr><td>programs1418</td><td>9934.564</td><td>9934.567</td><td>0.002090153</td><td>TRUE</td><td>1</td></tr>\n\t<tr><td>programs5419</td><td>9936.581</td><td>9936.600</td><td>0.019091346</td><td>TRUE</td><td>1</td></tr>\n\t<tr><td>programs2444</td><td>9940.222</td><td>9940.294</td><td>0.071558667</td><td>TRUE</td><td>1</td></tr>\n\t<tr><td>programs3443</td><td>9947.931</td><td>9948.040</td><td>0.108629183</td><td>TRUE</td><td>1</td></tr>\n\t<tr><td>programs4425</td><td>9949.415</td><td>9949.714</td><td>0.299078978</td><td>TRUE</td><td>1</td></tr>\n\t<tr><td>programs4426</td><td>9958.915</td><td>9959.440</td><td>0.525337309</td><td>TRUE</td><td>1</td></tr>\n\t<tr><td>programs6443</td><td>9965.605</td><td>9965.627</td><td>0.022283722</td><td>TRUE</td><td>1</td></tr>\n\t<tr><td>programs7395</td><td>9967.078</td><td>9967.125</td><td>0.046688098</td><td>TRUE</td><td>1</td></tr>\n\t<tr><td>programs5420</td><td>9967.313</td><td>9967.375</td><td>0.061580909</td><td>TRUE</td><td>1</td></tr>\n\t<tr><td>programs5421</td><td>9968.582</td><td>9968.680</td><td>0.098059645</td><td>TRUE</td><td>1</td></tr>\n\t<tr><td>programs7396</td><td>9976.358</td><td>9976.511</td><td>0.153394896</td><td>TRUE</td><td>1</td></tr>\n\t<tr><td>programs1419</td><td>9977.499</td><td>9977.547</td><td>0.047758691</td><td>TRUE</td><td>1</td></tr>\n\t<tr><td>programs2445</td><td>9979.866</td><td>9979.899</td><td>0.033132645</td><td>TRUE</td><td>1</td></tr>\n\t<tr><td>programs1420</td><td>9982.411</td><td>9982.452</td><td>0.041447654</td><td>TRUE</td><td>1</td></tr>\n\t<tr><td>programs4427</td><td>9988.736</td><td>9988.863</td><td>0.127282140</td><td>TRUE</td><td>1</td></tr>\n\t<tr><td>programs1421</td><td>9988.805</td><td>9989.014</td><td>0.150804720</td><td>TRUE</td><td>1</td></tr>\n\t<tr><td>programs4428</td><td>9990.078</td><td>9990.287</td><td>0.209380553</td><td>TRUE</td><td>1</td></tr>\n\t<tr><td>programs4429</td><td>9997.460</td><td>9997.837</td><td>0.377394434</td><td>TRUE</td><td>1</td></tr>\n\t<tr><td>programs1422</td><td>9998.494</td><td>9998.767</td><td>0.273558167</td><td>TRUE</td><td>1</td></tr>\n</tbody>\n</table>\n",
                        "text/latex": "A data.frame: 3006 \u00d7 6\n\\begin{tabular}{llllll}\n name & start\\_time & end\\_time & activity\\_time & finished & replication\\\\\n <chr> & <dbl> & <dbl> & <dbl> & <lgl> & <int>\\\\\n\\hline\n\t programs60 &   8.963183 &   9.331645 & 0.36846195 & TRUE & 1\\\\\n\t programs30 &  12.968233 &  13.187424 & 0.21919104 & TRUE & 1\\\\\n\t programs61 &  13.436932 &  13.936521 & 0.49958874 & TRUE & 1\\\\\n\t programs20 &  14.372574 &  15.095163 & 0.72258944 & TRUE & 1\\\\\n\t programs62 &  18.145967 &  18.282460 & 0.13649244 & TRUE & 1\\\\\n\t programs10 &  19.990619 &  20.031901 & 0.04128154 & TRUE & 1\\\\\n\t programs21 &  21.401813 &  21.556375 & 0.15456209 & TRUE & 1\\\\\n\t programs50 &  39.493284 &  39.592314 & 0.09902948 & TRUE & 1\\\\\n\t programs22 &  47.252065 &  47.503320 & 0.25125458 & TRUE & 1\\\\\n\t programs70 &  50.411658 &  50.509228 & 0.09757002 & TRUE & 1\\\\\n\t programs11 &  51.711118 &  51.817478 & 0.10636030 & TRUE & 1\\\\\n\t programs63 &  54.358152 &  54.740850 & 0.38269812 & TRUE & 1\\\\\n\t programs64 &  62.588531 &  63.205588 & 0.61705685 & TRUE & 1\\\\\n\t programs71 &  70.479649 &  70.650018 & 0.17036885 & TRUE & 1\\\\\n\t programs31 &  71.130998 &  71.612296 & 0.48129724 & TRUE & 1\\\\\n\t programs51 &  81.599255 &  81.878386 & 0.27913115 & TRUE & 1\\\\\n\t programs65 &  81.711292 &  81.909127 & 0.03074065 & TRUE & 1\\\\\n\t programs66 &  84.123051 &  84.252032 & 0.12898093 & TRUE & 1\\\\\n\t programs67 &  84.331795 &  84.364178 & 0.03238247 & TRUE & 1\\\\\n\t programs32 &  85.831091 &  85.882070 & 0.05097906 & TRUE & 1\\\\\n\t programs33 &  86.984420 &  87.142840 & 0.15842083 & TRUE & 1\\\\\n\t programs40 &  89.917612 &  90.221091 & 0.30347879 & TRUE & 1\\\\\n\t programs34 &  90.150827 &  90.255775 & 0.03468403 & TRUE & 1\\\\\n\t programs35 &  95.228163 &  95.544089 & 0.31592558 & TRUE & 1\\\\\n\t programs52 &  95.510482 &  95.712175 & 0.16808592 & TRUE & 1\\\\\n\t programs72 & 100.359870 & 100.424364 & 0.06449420 & TRUE & 1\\\\\n\t programs53 & 102.053072 & 102.172461 & 0.11938981 & TRUE & 1\\\\\n\t programs41 & 103.169033 & 103.261081 & 0.09204742 & TRUE & 1\\\\\n\t programs12 & 109.126382 & 110.249470 & 1.12308771 & TRUE & 1\\\\\n\t programs54 & 109.321711 & 110.541634 & 0.29216413 & TRUE & 1\\\\\n\t \u22ee & \u22ee & \u22ee & \u22ee & \u22ee & \u22ee\\\\\n\t programs3442 & 9902.945 & 9903.043 & 0.098047170 & TRUE & 1\\\\\n\t programs5417 & 9903.309 & 9903.432 & 0.123162472 & TRUE & 1\\\\\n\t programs7392 & 9906.940 & 9906.978 & 0.037771005 & TRUE & 1\\\\\n\t programs1417 & 9910.768 & 9910.800 & 0.032430054 & TRUE & 1\\\\\n\t programs5418 & 9914.170 & 9914.543 & 0.372482805 & TRUE & 1\\\\\n\t programs7393 & 9914.381 & 9914.661 & 0.118122911 & TRUE & 1\\\\\n\t programs4423 & 9914.261 & 9914.693 & 0.032608620 & TRUE & 1\\\\\n\t programs4424 & 9918.561 & 9918.789 & 0.228096758 & TRUE & 1\\\\\n\t programs6441 & 9927.236 & 9927.544 & 0.308057986 & TRUE & 1\\\\\n\t programs7394 & 9929.620 & 9929.957 & 0.337581872 & TRUE & 1\\\\\n\t programs6442 & 9933.432 & 9933.528 & 0.096161544 & TRUE & 1\\\\\n\t programs1418 & 9934.564 & 9934.567 & 0.002090153 & TRUE & 1\\\\\n\t programs5419 & 9936.581 & 9936.600 & 0.019091346 & TRUE & 1\\\\\n\t programs2444 & 9940.222 & 9940.294 & 0.071558667 & TRUE & 1\\\\\n\t programs3443 & 9947.931 & 9948.040 & 0.108629183 & TRUE & 1\\\\\n\t programs4425 & 9949.415 & 9949.714 & 0.299078978 & TRUE & 1\\\\\n\t programs4426 & 9958.915 & 9959.440 & 0.525337309 & TRUE & 1\\\\\n\t programs6443 & 9965.605 & 9965.627 & 0.022283722 & TRUE & 1\\\\\n\t programs7395 & 9967.078 & 9967.125 & 0.046688098 & TRUE & 1\\\\\n\t programs5420 & 9967.313 & 9967.375 & 0.061580909 & TRUE & 1\\\\\n\t programs5421 & 9968.582 & 9968.680 & 0.098059645 & TRUE & 1\\\\\n\t programs7396 & 9976.358 & 9976.511 & 0.153394896 & TRUE & 1\\\\\n\t programs1419 & 9977.499 & 9977.547 & 0.047758691 & TRUE & 1\\\\\n\t programs2445 & 9979.866 & 9979.899 & 0.033132645 & TRUE & 1\\\\\n\t programs1420 & 9982.411 & 9982.452 & 0.041447654 & TRUE & 1\\\\\n\t programs4427 & 9988.736 & 9988.863 & 0.127282140 & TRUE & 1\\\\\n\t programs1421 & 9988.805 & 9989.014 & 0.150804720 & TRUE & 1\\\\\n\t programs4428 & 9990.078 & 9990.287 & 0.209380553 & TRUE & 1\\\\\n\t programs4429 & 9997.460 & 9997.837 & 0.377394434 & TRUE & 1\\\\\n\t programs1422 & 9998.494 & 9998.767 & 0.273558167 & TRUE & 1\\\\\n\\end{tabular}\n",
                        "text/markdown": "\nA data.frame: 3006 \u00d7 6\n\n| name &lt;chr&gt; | start_time &lt;dbl&gt; | end_time &lt;dbl&gt; | activity_time &lt;dbl&gt; | finished &lt;lgl&gt; | replication &lt;int&gt; |\n|---|---|---|---|---|---|\n| programs60 |   8.963183 |   9.331645 | 0.36846195 | TRUE | 1 |\n| programs30 |  12.968233 |  13.187424 | 0.21919104 | TRUE | 1 |\n| programs61 |  13.436932 |  13.936521 | 0.49958874 | TRUE | 1 |\n| programs20 |  14.372574 |  15.095163 | 0.72258944 | TRUE | 1 |\n| programs62 |  18.145967 |  18.282460 | 0.13649244 | TRUE | 1 |\n| programs10 |  19.990619 |  20.031901 | 0.04128154 | TRUE | 1 |\n| programs21 |  21.401813 |  21.556375 | 0.15456209 | TRUE | 1 |\n| programs50 |  39.493284 |  39.592314 | 0.09902948 | TRUE | 1 |\n| programs22 |  47.252065 |  47.503320 | 0.25125458 | TRUE | 1 |\n| programs70 |  50.411658 |  50.509228 | 0.09757002 | TRUE | 1 |\n| programs11 |  51.711118 |  51.817478 | 0.10636030 | TRUE | 1 |\n| programs63 |  54.358152 |  54.740850 | 0.38269812 | TRUE | 1 |\n| programs64 |  62.588531 |  63.205588 | 0.61705685 | TRUE | 1 |\n| programs71 |  70.479649 |  70.650018 | 0.17036885 | TRUE | 1 |\n| programs31 |  71.130998 |  71.612296 | 0.48129724 | TRUE | 1 |\n| programs51 |  81.599255 |  81.878386 | 0.27913115 | TRUE | 1 |\n| programs65 |  81.711292 |  81.909127 | 0.03074065 | TRUE | 1 |\n| programs66 |  84.123051 |  84.252032 | 0.12898093 | TRUE | 1 |\n| programs67 |  84.331795 |  84.364178 | 0.03238247 | TRUE | 1 |\n| programs32 |  85.831091 |  85.882070 | 0.05097906 | TRUE | 1 |\n| programs33 |  86.984420 |  87.142840 | 0.15842083 | TRUE | 1 |\n| programs40 |  89.917612 |  90.221091 | 0.30347879 | TRUE | 1 |\n| programs34 |  90.150827 |  90.255775 | 0.03468403 | TRUE | 1 |\n| programs35 |  95.228163 |  95.544089 | 0.31592558 | TRUE | 1 |\n| programs52 |  95.510482 |  95.712175 | 0.16808592 | TRUE | 1 |\n| programs72 | 100.359870 | 100.424364 | 0.06449420 | TRUE | 1 |\n| programs53 | 102.053072 | 102.172461 | 0.11938981 | TRUE | 1 |\n| programs41 | 103.169033 | 103.261081 | 0.09204742 | TRUE | 1 |\n| programs12 | 109.126382 | 110.249470 | 1.12308771 | TRUE | 1 |\n| programs54 | 109.321711 | 110.541634 | 0.29216413 | TRUE | 1 |\n| \u22ee | \u22ee | \u22ee | \u22ee | \u22ee | \u22ee |\n| programs3442 | 9902.945 | 9903.043 | 0.098047170 | TRUE | 1 |\n| programs5417 | 9903.309 | 9903.432 | 0.123162472 | TRUE | 1 |\n| programs7392 | 9906.940 | 9906.978 | 0.037771005 | TRUE | 1 |\n| programs1417 | 9910.768 | 9910.800 | 0.032430054 | TRUE | 1 |\n| programs5418 | 9914.170 | 9914.543 | 0.372482805 | TRUE | 1 |\n| programs7393 | 9914.381 | 9914.661 | 0.118122911 | TRUE | 1 |\n| programs4423 | 9914.261 | 9914.693 | 0.032608620 | TRUE | 1 |\n| programs4424 | 9918.561 | 9918.789 | 0.228096758 | TRUE | 1 |\n| programs6441 | 9927.236 | 9927.544 | 0.308057986 | TRUE | 1 |\n| programs7394 | 9929.620 | 9929.957 | 0.337581872 | TRUE | 1 |\n| programs6442 | 9933.432 | 9933.528 | 0.096161544 | TRUE | 1 |\n| programs1418 | 9934.564 | 9934.567 | 0.002090153 | TRUE | 1 |\n| programs5419 | 9936.581 | 9936.600 | 0.019091346 | TRUE | 1 |\n| programs2444 | 9940.222 | 9940.294 | 0.071558667 | TRUE | 1 |\n| programs3443 | 9947.931 | 9948.040 | 0.108629183 | TRUE | 1 |\n| programs4425 | 9949.415 | 9949.714 | 0.299078978 | TRUE | 1 |\n| programs4426 | 9958.915 | 9959.440 | 0.525337309 | TRUE | 1 |\n| programs6443 | 9965.605 | 9965.627 | 0.022283722 | TRUE | 1 |\n| programs7395 | 9967.078 | 9967.125 | 0.046688098 | TRUE | 1 |\n| programs5420 | 9967.313 | 9967.375 | 0.061580909 | TRUE | 1 |\n| programs5421 | 9968.582 | 9968.680 | 0.098059645 | TRUE | 1 |\n| programs7396 | 9976.358 | 9976.511 | 0.153394896 | TRUE | 1 |\n| programs1419 | 9977.499 | 9977.547 | 0.047758691 | TRUE | 1 |\n| programs2445 | 9979.866 | 9979.899 | 0.033132645 | TRUE | 1 |\n| programs1420 | 9982.411 | 9982.452 | 0.041447654 | TRUE | 1 |\n| programs4427 | 9988.736 | 9988.863 | 0.127282140 | TRUE | 1 |\n| programs1421 | 9988.805 | 9989.014 | 0.150804720 | TRUE | 1 |\n| programs4428 | 9990.078 | 9990.287 | 0.209380553 | TRUE | 1 |\n| programs4429 | 9997.460 | 9997.837 | 0.377394434 | TRUE | 1 |\n| programs1422 | 9998.494 | 9998.767 | 0.273558167 | TRUE | 1 |\n\n",
                        "text/plain": "     name         start_time end_time   activity_time finished replication\n1    programs60     8.963183   9.331645 0.36846195    TRUE     1          \n2    programs30    12.968233  13.187424 0.21919104    TRUE     1          \n3    programs61    13.436932  13.936521 0.49958874    TRUE     1          \n4    programs20    14.372574  15.095163 0.72258944    TRUE     1          \n5    programs62    18.145967  18.282460 0.13649244    TRUE     1          \n6    programs10    19.990619  20.031901 0.04128154    TRUE     1          \n7    programs21    21.401813  21.556375 0.15456209    TRUE     1          \n8    programs50    39.493284  39.592314 0.09902948    TRUE     1          \n9    programs22    47.252065  47.503320 0.25125458    TRUE     1          \n10   programs70    50.411658  50.509228 0.09757002    TRUE     1          \n11   programs11    51.711118  51.817478 0.10636030    TRUE     1          \n12   programs63    54.358152  54.740850 0.38269812    TRUE     1          \n13   programs64    62.588531  63.205588 0.61705685    TRUE     1          \n14   programs71    70.479649  70.650018 0.17036885    TRUE     1          \n15   programs31    71.130998  71.612296 0.48129724    TRUE     1          \n16   programs51    81.599255  81.878386 0.27913115    TRUE     1          \n17   programs65    81.711292  81.909127 0.03074065    TRUE     1          \n18   programs66    84.123051  84.252032 0.12898093    TRUE     1          \n19   programs67    84.331795  84.364178 0.03238247    TRUE     1          \n20   programs32    85.831091  85.882070 0.05097906    TRUE     1          \n21   programs33    86.984420  87.142840 0.15842083    TRUE     1          \n22   programs40    89.917612  90.221091 0.30347879    TRUE     1          \n23   programs34    90.150827  90.255775 0.03468403    TRUE     1          \n24   programs35    95.228163  95.544089 0.31592558    TRUE     1          \n25   programs52    95.510482  95.712175 0.16808592    TRUE     1          \n26   programs72   100.359870 100.424364 0.06449420    TRUE     1          \n27   programs53   102.053072 102.172461 0.11938981    TRUE     1          \n28   programs41   103.169033 103.261081 0.09204742    TRUE     1          \n29   programs12   109.126382 110.249470 1.12308771    TRUE     1          \n30   programs54   109.321711 110.541634 0.29216413    TRUE     1          \n\u22ee    \u22ee            \u22ee          \u22ee          \u22ee             \u22ee        \u22ee          \n2977 programs3442 9902.945   9903.043   0.098047170   TRUE     1          \n2978 programs5417 9903.309   9903.432   0.123162472   TRUE     1          \n2979 programs7392 9906.940   9906.978   0.037771005   TRUE     1          \n2980 programs1417 9910.768   9910.800   0.032430054   TRUE     1          \n2981 programs5418 9914.170   9914.543   0.372482805   TRUE     1          \n2982 programs7393 9914.381   9914.661   0.118122911   TRUE     1          \n2983 programs4423 9914.261   9914.693   0.032608620   TRUE     1          \n2984 programs4424 9918.561   9918.789   0.228096758   TRUE     1          \n2985 programs6441 9927.236   9927.544   0.308057986   TRUE     1          \n2986 programs7394 9929.620   9929.957   0.337581872   TRUE     1          \n2987 programs6442 9933.432   9933.528   0.096161544   TRUE     1          \n2988 programs1418 9934.564   9934.567   0.002090153   TRUE     1          \n2989 programs5419 9936.581   9936.600   0.019091346   TRUE     1          \n2990 programs2444 9940.222   9940.294   0.071558667   TRUE     1          \n2991 programs3443 9947.931   9948.040   0.108629183   TRUE     1          \n2992 programs4425 9949.415   9949.714   0.299078978   TRUE     1          \n2993 programs4426 9958.915   9959.440   0.525337309   TRUE     1          \n2994 programs6443 9965.605   9965.627   0.022283722   TRUE     1          \n2995 programs7395 9967.078   9967.125   0.046688098   TRUE     1          \n2996 programs5420 9967.313   9967.375   0.061580909   TRUE     1          \n2997 programs5421 9968.582   9968.680   0.098059645   TRUE     1          \n2998 programs7396 9976.358   9976.511   0.153394896   TRUE     1          \n2999 programs1419 9977.499   9977.547   0.047758691   TRUE     1          \n3000 programs2445 9979.866   9979.899   0.033132645   TRUE     1          \n3001 programs1420 9982.411   9982.452   0.041447654   TRUE     1          \n3002 programs4427 9988.736   9988.863   0.127282140   TRUE     1          \n3003 programs1421 9988.805   9989.014   0.150804720   TRUE     1          \n3004 programs4428 9990.078   9990.287   0.209380553   TRUE     1          \n3005 programs4429 9997.460   9997.837   0.377394434   TRUE     1          \n3006 programs1422 9998.494   9998.767   0.273558167   TRUE     1          "
                    },
                    "metadata": {},
                    "output_type": "display_data"
                }
            ],
            "source": "spt.arrivals <- spt.env %>%\n    get_mon_arrivals()\nspt.arrivals"
        },
        {
            "cell_type": "code",
            "execution_count": 222,
            "metadata": {
                "trusted": true
            },
            "outputs": [
                {
                    "data": {
                        "text/html": "<table class=\"dataframe\">\n<caption>A data.frame: 1 \u00d7 5</caption>\n<thead>\n\t<tr><th scope=col>M/M/1/infty theoretical</th><th scope=col>M/M/1/infty practical</th><th scope=col>SPT theoretical</th><th scope=col>SPT practical</th><th scope=col>Round Robin</th></tr>\n\t<tr><th scope=col>&lt;dbl&gt;</th><th scope=col>&lt;dbl&gt;</th><th scope=col>&lt;dbl&gt;</th><th scope=col>&lt;dbl&gt;</th><th scope=col>&lt;dbl&gt;</th></tr>\n</thead>\n<tbody>\n\t<tr><td>4.711152</td><td>4.545182</td><td>4.008172</td><td>2.5598</td><td>0.1931421</td></tr>\n</tbody>\n</table>\n",
                        "text/latex": "A data.frame: 1 \u00d7 5\n\\begin{tabular}{lllll}\n M/M/1/infty theoretical & M/M/1/infty practical & SPT theoretical & SPT practical & Round Robin\\\\\n <dbl> & <dbl> & <dbl> & <dbl> & <dbl>\\\\\n\\hline\n\t 4.711152 & 4.545182 & 4.008172 & 2.5598 & 0.1931421\\\\\n\\end{tabular}\n",
                        "text/markdown": "\nA data.frame: 1 \u00d7 5\n\n| M/M/1/infty theoretical &lt;dbl&gt; | M/M/1/infty practical &lt;dbl&gt; | SPT theoretical &lt;dbl&gt; | SPT practical &lt;dbl&gt; | Round Robin &lt;dbl&gt; |\n|---|---|---|---|---|\n| 4.711152 | 4.545182 | 4.008172 | 2.5598 | 0.1931421 |\n\n",
                        "text/plain": "  M/M/1/infty theoretical M/M/1/infty practical SPT theoretical SPT practical\n1 4.711152                4.545182              4.008172        2.5598       \n  Round Robin\n1 0.1931421  "
                    },
                    "metadata": {},
                    "output_type": "display_data"
                }
            ],
            "source": "results[5] <- mean(spt.arrivals %>% with(end_time - start_time))\nresults"
        },
        {
            "cell_type": "markdown",
            "metadata": {},
            "source": "### \u0410\u043b\u0433\u043e\u0440\u0438\u0442\u043c Round Robin\n\u0420\u0435\u0430\u043b\u0438\u0437\u0443\u0435\u043c Round Robin \u0441 \u043f\u043e\u043c\u043e\u0449\u044c\u044e simmer, \u0432\u043e\u0441\u043f\u043e\u043b\u044c\u0437\u043e\u0432\u0430\u0432\u0448\u0438\u0441\u044c \u043c\u0435\u0445\u0430\u043d\u0438\u0437\u043c\u043e\u043c select,\n\u0432\u044b\u0431\u0438\u0440\u0430\u044e\u0449\u0438\u043c \u0438\u0437 \u043e\u0447\u0435\u0440\u0435\u0434\u0438 \u0437\u043d\u0430\u0447\u0435\u043d\u0438\u0435 \u043f\u043e \u043e\u043f\u0440\u0435\u0434\u0435\u043b\u0435\u043d\u043d\u043e\u0439 \u0441\u0442\u0440\u0430\u0442\u0435\u0433\u0438\u0438."
        },
        {
            "cell_type": "code",
            "execution_count": 170,
            "metadata": {
                "trusted": true
            },
            "outputs": [
                {
                    "data": {
                        "text/plain": "simmer environment: SuperDuperSim | now: 0 | next: \n{ Monitor: in memory }"
                    },
                    "metadata": {},
                    "output_type": "display_data"
                }
            ],
            "source": "if (!require(\"simmer\")) {\n    install.packages(\"simmer\")\n}\nlibrary(simmer)\n\nenv <- simmer(\"SuperDuperSim\")\nenv"
        },
        {
            "cell_type": "code",
            "execution_count": 171,
            "metadata": {
                "trusted": true
            },
            "outputs": [],
            "source": "programs <- trajectory(\"programs' path\") %>%\n    select(\"server\", \"round-robin\") %>%\n    seize_selected(1) %>%\n    timeout(function() rexp(1, mu)) %>%\n    release_selected(1)"
        },
        {
            "cell_type": "code",
            "execution_count": 172,
            "metadata": {
                "trusted": true
            },
            "outputs": [
                {
                    "data": {
                        "text/plain": "simmer environment: SuperDuperSim | now: 10000 | next: 10000.6880190946\n{ Monitor: in memory }\n{ Resource: server | monitored: TRUE | server status: 0(1) | queue status: 0(Inf) }\n{ Source: programs | monitored: 1 | n_generated: 2958 }"
                    },
                    "metadata": {},
                    "output_type": "display_data"
                }
            ],
            "source": "SIMULATION_TIME <- 10000\n\nenv %>%\n    add_resource(\"server\", 1) %>%\n    add_generator(\"programs\", programs, function() rexp(1, lambda)) %>%\n    run(until = SIMULATION_TIME)"
        },
        {
            "cell_type": "code",
            "execution_count": 173,
            "metadata": {
                "trusted": true
            },
            "outputs": [
                {
                    "data": {
                        "text/html": "<table class=\"dataframe\">\n<caption>A data.frame: 2957 \u00d7 6</caption>\n<thead>\n\t<tr><th scope=col>name</th><th scope=col>start_time</th><th scope=col>end_time</th><th scope=col>activity_time</th><th scope=col>finished</th><th scope=col>replication</th></tr>\n\t<tr><th scope=col>&lt;chr&gt;</th><th scope=col>&lt;dbl&gt;</th><th scope=col>&lt;dbl&gt;</th><th scope=col>&lt;dbl&gt;</th><th scope=col>&lt;lgl&gt;</th><th scope=col>&lt;int&gt;</th></tr>\n</thead>\n<tbody>\n\t<tr><td>programs0 </td><td>11.71948</td><td>11.72665</td><td> 0.007171833</td><td>TRUE</td><td>1</td></tr>\n\t<tr><td>programs1 </td><td>11.97214</td><td>16.47420</td><td> 4.502058210</td><td>TRUE</td><td>1</td></tr>\n\t<tr><td>programs2 </td><td>13.18187</td><td>19.27042</td><td> 2.796220815</td><td>TRUE</td><td>1</td></tr>\n\t<tr><td>programs3 </td><td>13.84978</td><td>19.41637</td><td> 0.145955088</td><td>TRUE</td><td>1</td></tr>\n\t<tr><td>programs4 </td><td>17.25988</td><td>19.73762</td><td> 0.321247764</td><td>TRUE</td><td>1</td></tr>\n\t<tr><td>programs5 </td><td>17.36269</td><td>21.07808</td><td> 1.340459151</td><td>TRUE</td><td>1</td></tr>\n\t<tr><td>programs6 </td><td>18.08577</td><td>21.35824</td><td> 0.280164119</td><td>TRUE</td><td>1</td></tr>\n\t<tr><td>programs7 </td><td>32.47119</td><td>33.76257</td><td> 1.291385800</td><td>TRUE</td><td>1</td></tr>\n\t<tr><td>programs8 </td><td>34.91324</td><td>35.59000</td><td> 0.676756013</td><td>TRUE</td><td>1</td></tr>\n\t<tr><td>programs9 </td><td>36.16733</td><td>39.87009</td><td> 3.702759465</td><td>TRUE</td><td>1</td></tr>\n\t<tr><td>programs10</td><td>36.82855</td><td>40.17639</td><td> 0.306295905</td><td>TRUE</td><td>1</td></tr>\n\t<tr><td>programs11</td><td>43.44342</td><td>44.11235</td><td> 0.668926978</td><td>TRUE</td><td>1</td></tr>\n\t<tr><td>programs12</td><td>46.78095</td><td>49.40036</td><td> 2.619408653</td><td>TRUE</td><td>1</td></tr>\n\t<tr><td>programs13</td><td>47.13424</td><td>54.38930</td><td> 4.988945310</td><td>TRUE</td><td>1</td></tr>\n\t<tr><td>programs14</td><td>48.85160</td><td>55.70312</td><td> 1.313814951</td><td>TRUE</td><td>1</td></tr>\n\t<tr><td>programs15</td><td>49.40080</td><td>57.88088</td><td> 2.177755976</td><td>TRUE</td><td>1</td></tr>\n\t<tr><td>programs16</td><td>53.00131</td><td>57.96396</td><td> 0.083085647</td><td>TRUE</td><td>1</td></tr>\n\t<tr><td>programs17</td><td>59.44899</td><td>70.14387</td><td>10.694884904</td><td>TRUE</td><td>1</td></tr>\n\t<tr><td>programs18</td><td>59.74826</td><td>75.24464</td><td> 5.100773956</td><td>TRUE</td><td>1</td></tr>\n\t<tr><td>programs19</td><td>60.01428</td><td>77.67736</td><td> 2.432720162</td><td>TRUE</td><td>1</td></tr>\n\t<tr><td>programs20</td><td>63.49780</td><td>78.99838</td><td> 1.321015163</td><td>TRUE</td><td>1</td></tr>\n\t<tr><td>programs21</td><td>66.18696</td><td>79.65157</td><td> 0.653185620</td><td>TRUE</td><td>1</td></tr>\n\t<tr><td>programs22</td><td>69.65671</td><td>80.22896</td><td> 0.577398604</td><td>TRUE</td><td>1</td></tr>\n\t<tr><td>programs23</td><td>70.43782</td><td>82.28904</td><td> 2.060078702</td><td>TRUE</td><td>1</td></tr>\n\t<tr><td>programs24</td><td>74.28298</td><td>82.34628</td><td> 0.057235235</td><td>TRUE</td><td>1</td></tr>\n\t<tr><td>programs25</td><td>83.30709</td><td>84.60361</td><td> 1.296519986</td><td>TRUE</td><td>1</td></tr>\n\t<tr><td>programs26</td><td>85.11055</td><td>87.54752</td><td> 2.436970147</td><td>TRUE</td><td>1</td></tr>\n\t<tr><td>programs27</td><td>86.85936</td><td>88.37623</td><td> 0.828706894</td><td>TRUE</td><td>1</td></tr>\n\t<tr><td>programs28</td><td>87.75041</td><td>89.72742</td><td> 1.351195085</td><td>TRUE</td><td>1</td></tr>\n\t<tr><td>programs29</td><td>89.66340</td><td>89.77667</td><td> 0.049241356</td><td>TRUE</td><td>1</td></tr>\n\t<tr><td>\u22ee</td><td>\u22ee</td><td>\u22ee</td><td>\u22ee</td><td>\u22ee</td><td>\u22ee</td></tr>\n\t<tr><td>programs2927</td><td>9896.046</td><td>9900.292</td><td>1.36170397</td><td>TRUE</td><td>1</td></tr>\n\t<tr><td>programs2928</td><td>9897.124</td><td>9901.633</td><td>1.34161613</td><td>TRUE</td><td>1</td></tr>\n\t<tr><td>programs2929</td><td>9901.007</td><td>9906.305</td><td>4.67219854</td><td>TRUE</td><td>1</td></tr>\n\t<tr><td>programs2930</td><td>9906.613</td><td>9906.632</td><td>0.01821685</td><td>TRUE</td><td>1</td></tr>\n\t<tr><td>programs2931</td><td>9907.271</td><td>9911.480</td><td>4.20907861</td><td>TRUE</td><td>1</td></tr>\n\t<tr><td>programs2932</td><td>9908.463</td><td>9919.556</td><td>8.07536205</td><td>TRUE</td><td>1</td></tr>\n\t<tr><td>programs2933</td><td>9914.285</td><td>9919.652</td><td>0.09603397</td><td>TRUE</td><td>1</td></tr>\n\t<tr><td>programs2934</td><td>9919.210</td><td>9920.946</td><td>1.29463532</td><td>TRUE</td><td>1</td></tr>\n\t<tr><td>programs2935</td><td>9932.277</td><td>9932.948</td><td>0.67091500</td><td>TRUE</td><td>1</td></tr>\n\t<tr><td>programs2936</td><td>9933.574</td><td>9938.109</td><td>4.53435872</td><td>TRUE</td><td>1</td></tr>\n\t<tr><td>programs2937</td><td>9933.863</td><td>9939.369</td><td>1.26035566</td><td>TRUE</td><td>1</td></tr>\n\t<tr><td>programs2938</td><td>9936.139</td><td>9940.257</td><td>0.88755576</td><td>TRUE</td><td>1</td></tr>\n\t<tr><td>programs2939</td><td>9939.907</td><td>9943.507</td><td>3.25056359</td><td>TRUE</td><td>1</td></tr>\n\t<tr><td>programs2940</td><td>9940.727</td><td>9946.825</td><td>3.31758268</td><td>TRUE</td><td>1</td></tr>\n\t<tr><td>programs2941</td><td>9943.090</td><td>9947.523</td><td>0.69786464</td><td>TRUE</td><td>1</td></tr>\n\t<tr><td>programs2942</td><td>9944.267</td><td>9948.669</td><td>1.14635832</td><td>TRUE</td><td>1</td></tr>\n\t<tr><td>programs2943</td><td>9951.073</td><td>9952.987</td><td>1.91438564</td><td>TRUE</td><td>1</td></tr>\n\t<tr><td>programs2944</td><td>9951.345</td><td>9957.419</td><td>4.43207936</td><td>TRUE</td><td>1</td></tr>\n\t<tr><td>programs2945</td><td>9953.960</td><td>9961.559</td><td>4.13950353</td><td>TRUE</td><td>1</td></tr>\n\t<tr><td>programs2946</td><td>9954.374</td><td>9966.629</td><td>5.07007989</td><td>TRUE</td><td>1</td></tr>\n\t<tr><td>programs2947</td><td>9954.577</td><td>9970.102</td><td>3.47338113</td><td>TRUE</td><td>1</td></tr>\n\t<tr><td>programs2948</td><td>9964.116</td><td>9972.397</td><td>2.29447546</td><td>TRUE</td><td>1</td></tr>\n\t<tr><td>programs2949</td><td>9967.148</td><td>9973.966</td><td>1.56893928</td><td>TRUE</td><td>1</td></tr>\n\t<tr><td>programs2950</td><td>9969.577</td><td>9974.547</td><td>0.58078429</td><td>TRUE</td><td>1</td></tr>\n\t<tr><td>programs2951</td><td>9984.146</td><td>9988.564</td><td>4.41792150</td><td>TRUE</td><td>1</td></tr>\n\t<tr><td>programs2952</td><td>9984.242</td><td>9990.701</td><td>2.13719085</td><td>TRUE</td><td>1</td></tr>\n\t<tr><td>programs2953</td><td>9987.091</td><td>9991.906</td><td>1.20476413</td><td>TRUE</td><td>1</td></tr>\n\t<tr><td>programs2954</td><td>9987.918</td><td>9993.886</td><td>1.98017937</td><td>TRUE</td><td>1</td></tr>\n\t<tr><td>programs2955</td><td>9987.923</td><td>9994.380</td><td>0.49382873</td><td>TRUE</td><td>1</td></tr>\n\t<tr><td>programs2956</td><td>9995.290</td><td>9996.525</td><td>1.23537596</td><td>TRUE</td><td>1</td></tr>\n</tbody>\n</table>\n",
                        "text/latex": "A data.frame: 2957 \u00d7 6\n\\begin{tabular}{llllll}\n name & start\\_time & end\\_time & activity\\_time & finished & replication\\\\\n <chr> & <dbl> & <dbl> & <dbl> & <lgl> & <int>\\\\\n\\hline\n\t programs0  & 11.71948 & 11.72665 &  0.007171833 & TRUE & 1\\\\\n\t programs1  & 11.97214 & 16.47420 &  4.502058210 & TRUE & 1\\\\\n\t programs2  & 13.18187 & 19.27042 &  2.796220815 & TRUE & 1\\\\\n\t programs3  & 13.84978 & 19.41637 &  0.145955088 & TRUE & 1\\\\\n\t programs4  & 17.25988 & 19.73762 &  0.321247764 & TRUE & 1\\\\\n\t programs5  & 17.36269 & 21.07808 &  1.340459151 & TRUE & 1\\\\\n\t programs6  & 18.08577 & 21.35824 &  0.280164119 & TRUE & 1\\\\\n\t programs7  & 32.47119 & 33.76257 &  1.291385800 & TRUE & 1\\\\\n\t programs8  & 34.91324 & 35.59000 &  0.676756013 & TRUE & 1\\\\\n\t programs9  & 36.16733 & 39.87009 &  3.702759465 & TRUE & 1\\\\\n\t programs10 & 36.82855 & 40.17639 &  0.306295905 & TRUE & 1\\\\\n\t programs11 & 43.44342 & 44.11235 &  0.668926978 & TRUE & 1\\\\\n\t programs12 & 46.78095 & 49.40036 &  2.619408653 & TRUE & 1\\\\\n\t programs13 & 47.13424 & 54.38930 &  4.988945310 & TRUE & 1\\\\\n\t programs14 & 48.85160 & 55.70312 &  1.313814951 & TRUE & 1\\\\\n\t programs15 & 49.40080 & 57.88088 &  2.177755976 & TRUE & 1\\\\\n\t programs16 & 53.00131 & 57.96396 &  0.083085647 & TRUE & 1\\\\\n\t programs17 & 59.44899 & 70.14387 & 10.694884904 & TRUE & 1\\\\\n\t programs18 & 59.74826 & 75.24464 &  5.100773956 & TRUE & 1\\\\\n\t programs19 & 60.01428 & 77.67736 &  2.432720162 & TRUE & 1\\\\\n\t programs20 & 63.49780 & 78.99838 &  1.321015163 & TRUE & 1\\\\\n\t programs21 & 66.18696 & 79.65157 &  0.653185620 & TRUE & 1\\\\\n\t programs22 & 69.65671 & 80.22896 &  0.577398604 & TRUE & 1\\\\\n\t programs23 & 70.43782 & 82.28904 &  2.060078702 & TRUE & 1\\\\\n\t programs24 & 74.28298 & 82.34628 &  0.057235235 & TRUE & 1\\\\\n\t programs25 & 83.30709 & 84.60361 &  1.296519986 & TRUE & 1\\\\\n\t programs26 & 85.11055 & 87.54752 &  2.436970147 & TRUE & 1\\\\\n\t programs27 & 86.85936 & 88.37623 &  0.828706894 & TRUE & 1\\\\\n\t programs28 & 87.75041 & 89.72742 &  1.351195085 & TRUE & 1\\\\\n\t programs29 & 89.66340 & 89.77667 &  0.049241356 & TRUE & 1\\\\\n\t \u22ee & \u22ee & \u22ee & \u22ee & \u22ee & \u22ee\\\\\n\t programs2927 & 9896.046 & 9900.292 & 1.36170397 & TRUE & 1\\\\\n\t programs2928 & 9897.124 & 9901.633 & 1.34161613 & TRUE & 1\\\\\n\t programs2929 & 9901.007 & 9906.305 & 4.67219854 & TRUE & 1\\\\\n\t programs2930 & 9906.613 & 9906.632 & 0.01821685 & TRUE & 1\\\\\n\t programs2931 & 9907.271 & 9911.480 & 4.20907861 & TRUE & 1\\\\\n\t programs2932 & 9908.463 & 9919.556 & 8.07536205 & TRUE & 1\\\\\n\t programs2933 & 9914.285 & 9919.652 & 0.09603397 & TRUE & 1\\\\\n\t programs2934 & 9919.210 & 9920.946 & 1.29463532 & TRUE & 1\\\\\n\t programs2935 & 9932.277 & 9932.948 & 0.67091500 & TRUE & 1\\\\\n\t programs2936 & 9933.574 & 9938.109 & 4.53435872 & TRUE & 1\\\\\n\t programs2937 & 9933.863 & 9939.369 & 1.26035566 & TRUE & 1\\\\\n\t programs2938 & 9936.139 & 9940.257 & 0.88755576 & TRUE & 1\\\\\n\t programs2939 & 9939.907 & 9943.507 & 3.25056359 & TRUE & 1\\\\\n\t programs2940 & 9940.727 & 9946.825 & 3.31758268 & TRUE & 1\\\\\n\t programs2941 & 9943.090 & 9947.523 & 0.69786464 & TRUE & 1\\\\\n\t programs2942 & 9944.267 & 9948.669 & 1.14635832 & TRUE & 1\\\\\n\t programs2943 & 9951.073 & 9952.987 & 1.91438564 & TRUE & 1\\\\\n\t programs2944 & 9951.345 & 9957.419 & 4.43207936 & TRUE & 1\\\\\n\t programs2945 & 9953.960 & 9961.559 & 4.13950353 & TRUE & 1\\\\\n\t programs2946 & 9954.374 & 9966.629 & 5.07007989 & TRUE & 1\\\\\n\t programs2947 & 9954.577 & 9970.102 & 3.47338113 & TRUE & 1\\\\\n\t programs2948 & 9964.116 & 9972.397 & 2.29447546 & TRUE & 1\\\\\n\t programs2949 & 9967.148 & 9973.966 & 1.56893928 & TRUE & 1\\\\\n\t programs2950 & 9969.577 & 9974.547 & 0.58078429 & TRUE & 1\\\\\n\t programs2951 & 9984.146 & 9988.564 & 4.41792150 & TRUE & 1\\\\\n\t programs2952 & 9984.242 & 9990.701 & 2.13719085 & TRUE & 1\\\\\n\t programs2953 & 9987.091 & 9991.906 & 1.20476413 & TRUE & 1\\\\\n\t programs2954 & 9987.918 & 9993.886 & 1.98017937 & TRUE & 1\\\\\n\t programs2955 & 9987.923 & 9994.380 & 0.49382873 & TRUE & 1\\\\\n\t programs2956 & 9995.290 & 9996.525 & 1.23537596 & TRUE & 1\\\\\n\\end{tabular}\n",
                        "text/markdown": "\nA data.frame: 2957 \u00d7 6\n\n| name &lt;chr&gt; | start_time &lt;dbl&gt; | end_time &lt;dbl&gt; | activity_time &lt;dbl&gt; | finished &lt;lgl&gt; | replication &lt;int&gt; |\n|---|---|---|---|---|---|\n| programs0  | 11.71948 | 11.72665 |  0.007171833 | TRUE | 1 |\n| programs1  | 11.97214 | 16.47420 |  4.502058210 | TRUE | 1 |\n| programs2  | 13.18187 | 19.27042 |  2.796220815 | TRUE | 1 |\n| programs3  | 13.84978 | 19.41637 |  0.145955088 | TRUE | 1 |\n| programs4  | 17.25988 | 19.73762 |  0.321247764 | TRUE | 1 |\n| programs5  | 17.36269 | 21.07808 |  1.340459151 | TRUE | 1 |\n| programs6  | 18.08577 | 21.35824 |  0.280164119 | TRUE | 1 |\n| programs7  | 32.47119 | 33.76257 |  1.291385800 | TRUE | 1 |\n| programs8  | 34.91324 | 35.59000 |  0.676756013 | TRUE | 1 |\n| programs9  | 36.16733 | 39.87009 |  3.702759465 | TRUE | 1 |\n| programs10 | 36.82855 | 40.17639 |  0.306295905 | TRUE | 1 |\n| programs11 | 43.44342 | 44.11235 |  0.668926978 | TRUE | 1 |\n| programs12 | 46.78095 | 49.40036 |  2.619408653 | TRUE | 1 |\n| programs13 | 47.13424 | 54.38930 |  4.988945310 | TRUE | 1 |\n| programs14 | 48.85160 | 55.70312 |  1.313814951 | TRUE | 1 |\n| programs15 | 49.40080 | 57.88088 |  2.177755976 | TRUE | 1 |\n| programs16 | 53.00131 | 57.96396 |  0.083085647 | TRUE | 1 |\n| programs17 | 59.44899 | 70.14387 | 10.694884904 | TRUE | 1 |\n| programs18 | 59.74826 | 75.24464 |  5.100773956 | TRUE | 1 |\n| programs19 | 60.01428 | 77.67736 |  2.432720162 | TRUE | 1 |\n| programs20 | 63.49780 | 78.99838 |  1.321015163 | TRUE | 1 |\n| programs21 | 66.18696 | 79.65157 |  0.653185620 | TRUE | 1 |\n| programs22 | 69.65671 | 80.22896 |  0.577398604 | TRUE | 1 |\n| programs23 | 70.43782 | 82.28904 |  2.060078702 | TRUE | 1 |\n| programs24 | 74.28298 | 82.34628 |  0.057235235 | TRUE | 1 |\n| programs25 | 83.30709 | 84.60361 |  1.296519986 | TRUE | 1 |\n| programs26 | 85.11055 | 87.54752 |  2.436970147 | TRUE | 1 |\n| programs27 | 86.85936 | 88.37623 |  0.828706894 | TRUE | 1 |\n| programs28 | 87.75041 | 89.72742 |  1.351195085 | TRUE | 1 |\n| programs29 | 89.66340 | 89.77667 |  0.049241356 | TRUE | 1 |\n| \u22ee | \u22ee | \u22ee | \u22ee | \u22ee | \u22ee |\n| programs2927 | 9896.046 | 9900.292 | 1.36170397 | TRUE | 1 |\n| programs2928 | 9897.124 | 9901.633 | 1.34161613 | TRUE | 1 |\n| programs2929 | 9901.007 | 9906.305 | 4.67219854 | TRUE | 1 |\n| programs2930 | 9906.613 | 9906.632 | 0.01821685 | TRUE | 1 |\n| programs2931 | 9907.271 | 9911.480 | 4.20907861 | TRUE | 1 |\n| programs2932 | 9908.463 | 9919.556 | 8.07536205 | TRUE | 1 |\n| programs2933 | 9914.285 | 9919.652 | 0.09603397 | TRUE | 1 |\n| programs2934 | 9919.210 | 9920.946 | 1.29463532 | TRUE | 1 |\n| programs2935 | 9932.277 | 9932.948 | 0.67091500 | TRUE | 1 |\n| programs2936 | 9933.574 | 9938.109 | 4.53435872 | TRUE | 1 |\n| programs2937 | 9933.863 | 9939.369 | 1.26035566 | TRUE | 1 |\n| programs2938 | 9936.139 | 9940.257 | 0.88755576 | TRUE | 1 |\n| programs2939 | 9939.907 | 9943.507 | 3.25056359 | TRUE | 1 |\n| programs2940 | 9940.727 | 9946.825 | 3.31758268 | TRUE | 1 |\n| programs2941 | 9943.090 | 9947.523 | 0.69786464 | TRUE | 1 |\n| programs2942 | 9944.267 | 9948.669 | 1.14635832 | TRUE | 1 |\n| programs2943 | 9951.073 | 9952.987 | 1.91438564 | TRUE | 1 |\n| programs2944 | 9951.345 | 9957.419 | 4.43207936 | TRUE | 1 |\n| programs2945 | 9953.960 | 9961.559 | 4.13950353 | TRUE | 1 |\n| programs2946 | 9954.374 | 9966.629 | 5.07007989 | TRUE | 1 |\n| programs2947 | 9954.577 | 9970.102 | 3.47338113 | TRUE | 1 |\n| programs2948 | 9964.116 | 9972.397 | 2.29447546 | TRUE | 1 |\n| programs2949 | 9967.148 | 9973.966 | 1.56893928 | TRUE | 1 |\n| programs2950 | 9969.577 | 9974.547 | 0.58078429 | TRUE | 1 |\n| programs2951 | 9984.146 | 9988.564 | 4.41792150 | TRUE | 1 |\n| programs2952 | 9984.242 | 9990.701 | 2.13719085 | TRUE | 1 |\n| programs2953 | 9987.091 | 9991.906 | 1.20476413 | TRUE | 1 |\n| programs2954 | 9987.918 | 9993.886 | 1.98017937 | TRUE | 1 |\n| programs2955 | 9987.923 | 9994.380 | 0.49382873 | TRUE | 1 |\n| programs2956 | 9995.290 | 9996.525 | 1.23537596 | TRUE | 1 |\n\n",
                        "text/plain": "     name         start_time end_time activity_time finished replication\n1    programs0    11.71948   11.72665  0.007171833  TRUE     1          \n2    programs1    11.97214   16.47420  4.502058210  TRUE     1          \n3    programs2    13.18187   19.27042  2.796220815  TRUE     1          \n4    programs3    13.84978   19.41637  0.145955088  TRUE     1          \n5    programs4    17.25988   19.73762  0.321247764  TRUE     1          \n6    programs5    17.36269   21.07808  1.340459151  TRUE     1          \n7    programs6    18.08577   21.35824  0.280164119  TRUE     1          \n8    programs7    32.47119   33.76257  1.291385800  TRUE     1          \n9    programs8    34.91324   35.59000  0.676756013  TRUE     1          \n10   programs9    36.16733   39.87009  3.702759465  TRUE     1          \n11   programs10   36.82855   40.17639  0.306295905  TRUE     1          \n12   programs11   43.44342   44.11235  0.668926978  TRUE     1          \n13   programs12   46.78095   49.40036  2.619408653  TRUE     1          \n14   programs13   47.13424   54.38930  4.988945310  TRUE     1          \n15   programs14   48.85160   55.70312  1.313814951  TRUE     1          \n16   programs15   49.40080   57.88088  2.177755976  TRUE     1          \n17   programs16   53.00131   57.96396  0.083085647  TRUE     1          \n18   programs17   59.44899   70.14387 10.694884904  TRUE     1          \n19   programs18   59.74826   75.24464  5.100773956  TRUE     1          \n20   programs19   60.01428   77.67736  2.432720162  TRUE     1          \n21   programs20   63.49780   78.99838  1.321015163  TRUE     1          \n22   programs21   66.18696   79.65157  0.653185620  TRUE     1          \n23   programs22   69.65671   80.22896  0.577398604  TRUE     1          \n24   programs23   70.43782   82.28904  2.060078702  TRUE     1          \n25   programs24   74.28298   82.34628  0.057235235  TRUE     1          \n26   programs25   83.30709   84.60361  1.296519986  TRUE     1          \n27   programs26   85.11055   87.54752  2.436970147  TRUE     1          \n28   programs27   86.85936   88.37623  0.828706894  TRUE     1          \n29   programs28   87.75041   89.72742  1.351195085  TRUE     1          \n30   programs29   89.66340   89.77667  0.049241356  TRUE     1          \n\u22ee    \u22ee            \u22ee          \u22ee        \u22ee             \u22ee        \u22ee          \n2928 programs2927 9896.046   9900.292 1.36170397    TRUE     1          \n2929 programs2928 9897.124   9901.633 1.34161613    TRUE     1          \n2930 programs2929 9901.007   9906.305 4.67219854    TRUE     1          \n2931 programs2930 9906.613   9906.632 0.01821685    TRUE     1          \n2932 programs2931 9907.271   9911.480 4.20907861    TRUE     1          \n2933 programs2932 9908.463   9919.556 8.07536205    TRUE     1          \n2934 programs2933 9914.285   9919.652 0.09603397    TRUE     1          \n2935 programs2934 9919.210   9920.946 1.29463532    TRUE     1          \n2936 programs2935 9932.277   9932.948 0.67091500    TRUE     1          \n2937 programs2936 9933.574   9938.109 4.53435872    TRUE     1          \n2938 programs2937 9933.863   9939.369 1.26035566    TRUE     1          \n2939 programs2938 9936.139   9940.257 0.88755576    TRUE     1          \n2940 programs2939 9939.907   9943.507 3.25056359    TRUE     1          \n2941 programs2940 9940.727   9946.825 3.31758268    TRUE     1          \n2942 programs2941 9943.090   9947.523 0.69786464    TRUE     1          \n2943 programs2942 9944.267   9948.669 1.14635832    TRUE     1          \n2944 programs2943 9951.073   9952.987 1.91438564    TRUE     1          \n2945 programs2944 9951.345   9957.419 4.43207936    TRUE     1          \n2946 programs2945 9953.960   9961.559 4.13950353    TRUE     1          \n2947 programs2946 9954.374   9966.629 5.07007989    TRUE     1          \n2948 programs2947 9954.577   9970.102 3.47338113    TRUE     1          \n2949 programs2948 9964.116   9972.397 2.29447546    TRUE     1          \n2950 programs2949 9967.148   9973.966 1.56893928    TRUE     1          \n2951 programs2950 9969.577   9974.547 0.58078429    TRUE     1          \n2952 programs2951 9984.146   9988.564 4.41792150    TRUE     1          \n2953 programs2952 9984.242   9990.701 2.13719085    TRUE     1          \n2954 programs2953 9987.091   9991.906 1.20476413    TRUE     1          \n2955 programs2954 9987.918   9993.886 1.98017937    TRUE     1          \n2956 programs2955 9987.923   9994.380 0.49382873    TRUE     1          \n2957 programs2956 9995.290   9996.525 1.23537596    TRUE     1          "
                    },
                    "metadata": {},
                    "output_type": "display_data"
                }
            ],
            "source": "arrivals <- env %>%\n    get_mon_arrivals()\narrivals"
        },
        {
            "cell_type": "code",
            "execution_count": 185,
            "metadata": {
                "trusted": true
            },
            "outputs": [
                {
                    "data": {
                        "text/html": "<table class=\"dataframe\">\n<caption>A data.frame: 1 \u00d7 5</caption>\n<thead>\n\t<tr><th scope=col>M/M/1/infty theoretical</th><th scope=col>M/M/1/infty practical</th><th scope=col>SPT theoretical</th><th scope=col>SPT practical</th><th scope=col>Round Robin</th></tr>\n\t<tr><th scope=col>&lt;dbl&gt;</th><th scope=col>&lt;dbl&gt;</th><th scope=col>&lt;dbl&gt;</th><th scope=col>&lt;dbl&gt;</th><th scope=col>&lt;dbl&gt;</th></tr>\n</thead>\n<tbody>\n\t<tr><td>4.711152</td><td>4.545182</td><td>4.008172</td><td>2.5598</td><td>4.91254</td></tr>\n</tbody>\n</table>\n",
                        "text/latex": "A data.frame: 1 \u00d7 5\n\\begin{tabular}{lllll}\n M/M/1/infty theoretical & M/M/1/infty practical & SPT theoretical & SPT practical & Round Robin\\\\\n <dbl> & <dbl> & <dbl> & <dbl> & <dbl>\\\\\n\\hline\n\t 4.711152 & 4.545182 & 4.008172 & 2.5598 & 4.91254\\\\\n\\end{tabular}\n",
                        "text/markdown": "\nA data.frame: 1 \u00d7 5\n\n| M/M/1/infty theoretical &lt;dbl&gt; | M/M/1/infty practical &lt;dbl&gt; | SPT theoretical &lt;dbl&gt; | SPT practical &lt;dbl&gt; | Round Robin &lt;dbl&gt; |\n|---|---|---|---|---|\n| 4.711152 | 4.545182 | 4.008172 | 2.5598 | 4.91254 |\n\n",
                        "text/plain": "  M/M/1/infty theoretical M/M/1/infty practical SPT theoretical SPT practical\n1 4.711152                4.545182              4.008172        2.5598       \n  Round Robin\n1 4.91254    "
                    },
                    "metadata": {},
                    "output_type": "display_data"
                }
            ],
            "source": "results[5] <- mean(arrivals %>% with(end_time - start_time))\nresults"
        },
        {
            "cell_type": "markdown",
            "metadata": {},
            "source": "\u041a\u0430\u043a \u0432\u0438\u0434\u043d\u043e, \u043f\u0440\u0430\u043a\u0442\u0438\u0447\u0435\u0441\u043a\u0438\u0435 \u0432\u044b\u0447\u0438\u0441\u043b\u0435\u043d\u0438\u044f \u0441\u043e\u0432\u043f\u0430\u0434\u0430\u044e\u0442 \u0442\u0435\u043e\u0440\u0435\u0442\u0438\u0447\u0435\u0441\u043a\u0438\u043c\u0438 \u0441 \u043d\u0435\u043a\u043e\u0442\u043e\u0440\u043e\u0439\n\u043f\u043e\u0433\u0440\u0435\u0448\u043d\u043e\u0441\u0442\u044c\u044e, \u043a\u043e\u0442\u043e\u0440\u0430\u044f \u0443\u043c\u0435\u043d\u044c\u0448\u0430\u0435\u0442\u0441\u044f \u043f\u0440\u0438 \u0443\u0432\u0435\u043b\u0438\u0447\u0435\u043d\u0438\u0438 \u0447\u0438\u0441\u043b\u0430 \u044d\u043a\u0441\u043f\u0435\u0440\u0438\u043c\u0435\u043d\u0442\u043e\u0432.\n\n\u041f\u0440\u0438 \u044d\u0442\u043e\u043c \u0441\u0438\u0441\u0442\u0435\u043c\u0430, \u0432\u044b\u043f\u043e\u043b\u043d\u0435\u043d\u043d\u0430\u044f \u0441 \u043f\u043e\u043c\u043e\u0449\u044c\u044e \u0430\u043b\u0433\u043e\u0440\u0438\u0442\u043c\u0430 Round Robin \u043e\u043a\u0430\u0437\u0430\u043b\u0430\u0441\u044c\n\u0431\u044b\u0441\u0442\u0440\u0435\u0435 \u043e\u0431\u044b\u0447\u043d\u043e\u0439 \u0441\u0438\u0441\u0442\u0435\u043c\u044b, \u0430 \u0441\u0438\u0441\u0442\u0435\u043c\u0430, \u0440\u0435\u0430\u043b\u0438\u0437\u043e\u0432\u0430\u043d\u043d\u0430\u044f \u0441 \u0430\u043b\u0433\u043e\u0440\u0438\u0442\u043c\u043e\u043c SPT - \u0441\u0430\u043c\u043e\u0439\n\u0431\u044b\u0441\u0442\u0440\u043e\u0439."
        }
    ],
    "metadata": {
        "kernelspec": {
            "display_name": "R",
            "language": "R",
            "name": "ir"
        },
        "language_info": {
            "codemirror_mode": "r",
            "file_extension": ".r",
            "mimetype": "text/x-r-source",
            "name": "R",
            "pygments_lexer": "r",
            "version": "4.2.3"
        }
    },
    "nbformat": 4,
    "nbformat_minor": 5
}