{
    "cells": [
        {
            "cell_type": "markdown",
            "metadata": {},
            "source": "# \u041b\u0430\u0431\u043e\u0440\u0430\u0442\u043e\u0440\u043d\u0430\u044f \u0440\u0430\u0431\u043e\u0442\u0430 7. \u0423\u043f\u0440\u0430\u0432\u043b\u0435\u043d\u0438\u0435 \u0440\u0435\u0441\u0443\u0440\u0441\u0430\u043c\u0438 \u0432 \u043e\u0434\u043d\u043e\u043f\u0440\u043e\u0446\u0435\u0441\u0441\u043e\u0440\u043d\u043e\u0439 \u0441\u0438\u0441\u0442\u0435\u043c\u0435 \u0441 \u043d\u0435\u043e\u0434\u043d\u043e\u0440\u043e\u0434\u043d\u044b\u043c\u0438 \u0437\u0430\u044f\u0432\u043a\u0430\u043c\u0438\n\u0412\u044b\u043f\u043e\u043b\u043d\u0438\u043b: \u041f\u0430\u043a\u0430\u043b\u043e \u0410\u043b\u0435\u043a\u0441\u0430\u043d\u0434\u0440 \u0421\u0435\u0440\u0433\u0435\u0435\u0432\u0438\u0447, \u0441\u0442\u0443\u0434\u0435\u043d\u0442 \u0420\u04225-81\u0411\n\n## \u0417\u0430\u0434\u0430\u043d\u0438\u0435 1\n\u0412 \u043e\u0434\u043d\u043e\u043f\u0440\u043e\u0446\u0435\u0441\u0441\u043e\u0440\u043d\u0443\u044e \u0441\u0438\u0441\u0442\u0435\u043c\u0443 \u0441\u043b\u0443\u0447\u0430\u0439\u043d\u044b\u043c \u043e\u0431\u0440\u0430\u0437\u043e\u043c \u043f\u043e\u0441\u0442\u0443\u043f\u0430\u044e\u0442 \u043d\u0430 \u0432\u044b\u043f\u043e\u043b\u043d\u0435\u043d\u0438\u0435 $m$\n\u0440\u0430\u0437\u043d\u044b\u0445 \u0442\u0438\u043f\u043e\u0432 \u043f\u0440\u043e\u0433\u0440\u0430\u043c\u043c, \u043e\u0442\u043b\u0438\u0447\u0430\u044e\u0449\u0438\u0445\u0441\u044f \u0438\u0437\u0432\u0435\u0441\u0442\u043d\u043e\u0439 \u0442\u0440\u0443\u0434\u043e\u0435\u043c\u043a\u043e\u0441\u0442\u044c\u044e\n$Q_1, Q_2,\\dots, Q_m$.\n\u0412\u0445\u043e\u0434\u044f\u0449\u0438\u0439 \u043f\u043e\u0442\u043e\u043a \u043f\u0440\u043e\u0441\u0442\u0435\u0439\u0448\u0438\u0439 \u0441 \u0438\u043d\u0442\u0435\u043d\u0441\u0438\u0432\u043d\u043e\u0441\u0442\u044c\u044e $\\lambda$.\n\n\u041f\u0440\u0435\u0434\u0441\u0442\u0430\u0432\u0438\u0432 \u0434\u0430\u043d\u043d\u0443\u044e \u0441\u0438\u0441\u0442\u0435\u043c\u0443 \u043a\u0430\u043a \u043e\u0434\u043d\u043e\u043a\u0430\u043d\u0430\u043b\u044c\u043d\u0443\u044e \u0421\u041c\u041e \u0441 \u043d\u0435\u043e\u0433\u0440\u0430\u043d\u0438\u0447\u0435\u043d\u043d\u043e\u0439 \u043e\u0447\u0435\u0440\u0435\u0434\u044c\u044e,\n\u0432\u044b\u0447\u0438\u0441\u043b\u0438\u0442\u044c \u0441\u0440\u0435\u0434\u043d\u0435\u0435 \u0432\u0440\u0435\u043c\u044f \u043e\u0431\u0441\u043b\u0443\u0436\u0438\u0432\u0430\u043d\u0438\u044f \u043f\u0440\u043e\u0433\u0440\u0430\u043c\u043c, \u0441\u0447\u0438\u0442\u0430\u044f \u0434\u043b\u0438\u0442\u0435\u043b\u044c\u043d\u043e\u0441\u0442\u044c\n\u043e\u0431\u0441\u043b\u0443\u0436\u0438\u0432\u0430\u043d\u0438\u044f \u0441\u043b\u0443\u0447\u0430\u0439\u043d\u043e\u0439 \u0432\u0435\u043b\u0438\u0447\u0438\u043d\u043e\u0439 (\u0442\u0435\u043e\u0440\u0435\u0442\u0438\u0447\u0435\u0441\u043a\u0438 \u0438 \u044d\u043a\u0441\u043f\u0435\u0440\u0438\u043c\u0435\u043d\u0442\u0430\u043b\u044c\u043d\u043e).\n\n\u0420\u0435\u0430\u043b\u0438\u0437\u043e\u0432\u0430\u0442\u044c \u0430\u043b\u0433\u043e\u0440\u0438\u0442\u043c SPT, \u0432\u044b\u0431\u0438\u0440\u0430\u044f \u0438\u0437 \u043e\u0447\u0435\u0440\u0435\u0434\u0438 \u0437\u0430\u044f\u0432\u043a\u0438 \u0432 \u0441\u043e\u043e\u0442\u0432\u0435\u0442\u0441\u0442\u0432\u0438\u0438 \u0441 \u0438\u0445\n\u043f\u0440\u0438\u043e\u0440\u0438\u0442\u0435\u0442\u043e\u043c \u043f\u043e \u0442\u0440\u0443\u0434\u043e\u0435\u043c\u043a\u043e\u0441\u0442\u0438. \u0420\u0430\u0441\u0441\u0447\u0438\u0442\u0430\u0442\u044c \u0441\u0440\u0435\u0434\u043d\u0435\u0435 \u0432\u0440\u0435\u043c\u044f \u043e\u0431\u0441\u043b\u0443\u0436\u0438\u0432\u0430\u043d\u0438\u044f \u043f\u0440\u043e\u0433\u0440\u0430\u043c\u043c.\n\u0421\u0440\u0430\u0432\u043d\u0438\u0442\u044c \u043f\u043e\u043b\u0443\u0447\u0435\u043d\u043d\u044b\u0435 \u0440\u0435\u0437\u0443\u043b\u044c\u0442\u0430\u0442\u044b.\n\n\u0420\u0435\u0430\u043b\u0438\u0437\u043e\u0432\u0430\u0442\u044c \u0430\u043b\u0433\u043e\u0440\u0438\u0442\u043c RR \u043f\u0440\u0438 \u0437\u0430\u0434\u0430\u043d\u043d\u043e\u043c \u043a\u0432\u0430\u043d\u0442\u0435 \u0432\u0440\u0435\u043c\u0435\u043d\u0438 $q$. \u041e\u0446\u0435\u043d\u0438\u0442\u044c \u0441\u0440\u0435\u0434\u043d\u0435\u0435 \u0432\u0440\u0435\u043c\u044f\n\u043e\u0431\u0441\u043b\u0443\u0436\u0438\u0432\u0430\u043d\u0438\u044f \u043f\u0440\u043e\u0433\u0440\u0430\u043c\u043c. \u0421\u0440\u0430\u0432\u043d\u0438\u0442\u044c \u043f\u043e\u043b\u0443\u0447\u0435\u043d\u043d\u044b\u0435 \u0440\u0435\u0437\u0443\u043b\u044c\u0442\u0430\u0442\u044b. \u0412\u044b\u044f\u0441\u043d\u0438\u0442\u044c, \u043a\u0430\u043a \u0432\u043b\u0438\u044f\u0435\u0442\n\u0432\u0435\u043b\u0438\u0447\u0438\u043d\u0430 \u043a\u0432\u0430\u043d\u0442\u0430 \u043d\u0430 \u0441\u0440\u0435\u0434\u043d\u0435\u0435 \u0432\u0440\u0435\u043c\u044f \u043e\u0431\u0441\u043b\u0443\u0436\u0438\u0432\u0430\u043d\u0438\u044f \u043f\u0440\u043e\u0433\u0440\u0430\u043c\u043c."
        },
        {
            "cell_type": "code",
            "execution_count": 1,
            "metadata": {
                "trusted": true
            },
            "outputs": [
                {
                    "data": {
                        "text/html": "<table class=\"dataframe\">\n<caption>A data.frame: 1 \u00d7 3</caption>\n<thead>\n\t<tr><th scope=col>m</th><th scope=col>q</th><th scope=col>lambda</th></tr>\n\t<tr><th scope=col>&lt;int&gt;</th><th scope=col>&lt;int&gt;</th><th scope=col>&lt;dbl&gt;</th></tr>\n</thead>\n<tbody>\n\t<tr><td>7</td><td>1</td><td>1.401915</td></tr>\n</tbody>\n</table>\n",
                        "text/latex": "A data.frame: 1 \u00d7 3\n\\begin{tabular}{lll}\n m & q & lambda\\\\\n <int> & <int> & <dbl>\\\\\n\\hline\n\t 7 & 1 & 1.401915\\\\\n\\end{tabular}\n",
                        "text/markdown": "\nA data.frame: 1 \u00d7 3\n\n| m &lt;int&gt; | q &lt;int&gt; | lambda &lt;dbl&gt; |\n|---|---|---|\n| 7 | 1 | 1.401915 |\n\n",
                        "text/plain": "  m q lambda  \n1 7 1 1.401915"
                    },
                    "metadata": {},
                    "output_type": "display_data"
                },
                {
                    "name": "stdout",
                    "output_type": "stream",
                    "text": "[1] 0.2417931 1.3403831 0.1863999 2.0529013 0.2552007 2.9172096 6.6709868\n"
                }
            ],
            "source": "Variant <- 5\nset.seed(Variant)\nm <- sample(c(6:20), 1)\nlambda <- runif(1, 0.1, 2)\nQ <- rexp(m, 0.3)\nq <- sample(c(1:4), 1)\nView(data.frame(m, q, lambda))\nprint(Q)"
        },
        {
            "cell_type": "markdown",
            "metadata": {},
            "source": "\u0417\u0430\u0432\u0435\u0434\u0435\u043c \u0442\u0430\u0431\u043b\u0438\u0446\u0443 \u0440\u0435\u0437\u0443\u043b\u044c\u0442\u0430\u0442\u043e\u0432"
        },
        {
            "cell_type": "code",
            "execution_count": 53,
            "metadata": {
                "trusted": true
            },
            "outputs": [
                {
                    "data": {
                        "text/html": "<table class=\"dataframe\">\n<caption>A data.frame: 1 \u00d7 4</caption>\n<thead>\n\t<tr><th scope=col>M/M/1/infty theoretical</th><th scope=col>M/M/1/infty practical</th><th scope=col>SPT</th><th scope=col>Round Robin</th></tr>\n\t<tr><th scope=col>&lt;chr&gt;</th><th scope=col>&lt;chr&gt;</th><th scope=col>&lt;chr&gt;</th><th scope=col>&lt;chr&gt;</th></tr>\n</thead>\n<tbody>\n\t<tr><td>-</td><td>-</td><td>-</td><td>-</td></tr>\n</tbody>\n</table>\n",
                        "text/latex": "A data.frame: 1 \u00d7 4\n\\begin{tabular}{llll}\n M/M/1/infty theoretical & M/M/1/infty practical & SPT & Round Robin\\\\\n <chr> & <chr> & <chr> & <chr>\\\\\n\\hline\n\t - & - & - & -\\\\\n\\end{tabular}\n",
                        "text/markdown": "\nA data.frame: 1 \u00d7 4\n\n| M/M/1/infty theoretical &lt;chr&gt; | M/M/1/infty practical &lt;chr&gt; | SPT &lt;chr&gt; | Round Robin &lt;chr&gt; |\n|---|---|---|---|\n| - | - | - | - |\n\n",
                        "text/plain": "  M/M/1/infty theoretical M/M/1/infty practical SPT Round Robin\n1 -                       -                     -   -          "
                    },
                    "metadata": {},
                    "output_type": "display_data"
                }
            ],
            "source": "results <- data.frame(\"-\", \"-\", \"-\", \"-\")\ncolnames(results) <- c(\"M/M/1/infty theoretical\", \"M/M/1/infty practical\", \"SPT\", \"Round Robin\")\nresults"
        },
        {
            "cell_type": "markdown",
            "metadata": {},
            "source": "### \u0421\u041c\u041e \u0432\u0438\u0434\u0430 $\u041c/\u041c/1/\\infty$\n\u041f\u0440\u0435\u0434\u0441\u0442\u0430\u0432\u0438\u043c \u0434\u0430\u043d\u043d\u0443\u044e \u0441\u0438\u0441\u0442\u0435\u043c\u0443 \u043a\u0430\u043a \u043e\u0434\u043d\u043e\u043a\u0430\u043d\u0430\u043b\u044c\u043d\u0443\u044e \u0421\u041c\u041e \u0441 \u043d\u0435\u043e\u0433\u0440\u0430\u043d\u0438\u0447\u0435\u043d\u043d\u043e\u0439 \u043e\u0447\u0435\u0440\u0435\u0434\u044c\u044e."
        },
        {
            "cell_type": "markdown",
            "metadata": {},
            "source": "#### \u0422\u0435\u043e\u0440\u0435\u0442\u0438\u0447\u0435\u0441\u043a\u0438"
        },
        {
            "cell_type": "code",
            "execution_count": 3,
            "metadata": {
                "trusted": true
            },
            "outputs": [
                {
                    "data": {
                        "text/html": "0.512262296607328",
                        "text/latex": "0.512262296607328",
                        "text/markdown": "0.512262296607328",
                        "text/plain": "[1] 0.5122623"
                    },
                    "metadata": {},
                    "output_type": "display_data"
                }
            ],
            "source": "t2 <- mean(Q)\nmu <- 1 / t2\nmu"
        },
        {
            "cell_type": "code",
            "execution_count": 4,
            "metadata": {
                "trusted": true
            },
            "outputs": [
                {
                    "data": {
                        "text/html": "2.73671386914812",
                        "text/latex": "2.73671386914812",
                        "text/markdown": "2.73671386914812",
                        "text/plain": "[1] 2.736714"
                    },
                    "metadata": {},
                    "output_type": "display_data"
                }
            ],
            "source": "y <- lambda / mu\ny"
        },
        {
            "cell_type": "markdown",
            "metadata": {},
            "source": "\u0422\u0430\u043a \u043a\u0430\u043a $y > 1$, \u043f\u043e\u043c\u0435\u043d\u044f\u0435\u043c $\\lambda$, \u0447\u0442\u043e\u0431\u044b \u0432 \u0441\u0438\u0441\u0442\u0435\u043c\u0435 \u043d\u0435 \u043e\u0431\u0440\u0430\u0437\u043e\u0432\u044b\u0432\u0430\u043b\u0430\u0441\u044c\n\u0431\u0435\u0441\u043a\u043e\u043d\u0435\u0447\u043d\u0430\u044f \u043e\u0447\u0435\u0440\u0435\u0434\u044c."
        },
        {
            "cell_type": "code",
            "execution_count": 48,
            "metadata": {
                "trusted": true
            },
            "outputs": [],
            "source": "lambda <- 0.31"
        },
        {
            "cell_type": "code",
            "execution_count": 49,
            "metadata": {
                "trusted": true
            },
            "outputs": [
                {
                    "data": {
                        "text/html": "0.512262296607328",
                        "text/latex": "0.512262296607328",
                        "text/markdown": "0.512262296607328",
                        "text/plain": "[1] 0.5122623"
                    },
                    "metadata": {},
                    "output_type": "display_data"
                }
            ],
            "source": "t2 <- mean(Q)\nmu <- 1 / t2\nmu"
        },
        {
            "cell_type": "code",
            "execution_count": 50,
            "metadata": {
                "trusted": true
            },
            "outputs": [
                {
                    "data": {
                        "text/html": "0.605158728356753",
                        "text/latex": "0.605158728356753",
                        "text/markdown": "0.605158728356753",
                        "text/plain": "[1] 0.6051587"
                    },
                    "metadata": {},
                    "output_type": "display_data"
                }
            ],
            "source": "y <- lambda / mu\ny"
        },
        {
            "cell_type": "code",
            "execution_count": 54,
            "metadata": {
                "trusted": true
            },
            "outputs": [
                {
                    "data": {
                        "text/html": "<table class=\"dataframe\">\n<caption>A data.frame: 1 \u00d7 4</caption>\n<thead>\n\t<tr><th scope=col>M/M/1/infty theoretical</th><th scope=col>M/M/1/infty practical</th><th scope=col>SPT</th><th scope=col>Round Robin</th></tr>\n\t<tr><th scope=col>&lt;dbl&gt;</th><th scope=col>&lt;chr&gt;</th><th scope=col>&lt;chr&gt;</th><th scope=col>&lt;chr&gt;</th></tr>\n</thead>\n<tbody>\n\t<tr><td>4.944075</td><td>-</td><td>-</td><td>-</td></tr>\n</tbody>\n</table>\n",
                        "text/latex": "A data.frame: 1 \u00d7 4\n\\begin{tabular}{llll}\n M/M/1/infty theoretical & M/M/1/infty practical & SPT & Round Robin\\\\\n <dbl> & <chr> & <chr> & <chr>\\\\\n\\hline\n\t 4.944075 & - & - & -\\\\\n\\end{tabular}\n",
                        "text/markdown": "\nA data.frame: 1 \u00d7 4\n\n| M/M/1/infty theoretical &lt;dbl&gt; | M/M/1/infty practical &lt;chr&gt; | SPT &lt;chr&gt; | Round Robin &lt;chr&gt; |\n|---|---|---|---|\n| 4.944075 | - | - | - |\n\n",
                        "text/plain": "  M/M/1/infty theoretical M/M/1/infty practical SPT Round Robin\n1 4.944075                -                     -   -          "
                    },
                    "metadata": {},
                    "output_type": "display_data"
                }
            ],
            "source": "results[1] <- 1 / mu / (1 - y)\nresults"
        },
        {
            "cell_type": "markdown",
            "metadata": {},
            "source": "#### \u0427\u0438\u0441\u043b\u0435\u043d\u043d\u043e"
        },
        {
            "cell_type": "code",
            "execution_count": 9,
            "metadata": {
                "trusted": true
            },
            "outputs": [
                {
                    "name": "stderr",
                    "output_type": "stream",
                    "text": "Loading required package: simmer\n\n"
                },
                {
                    "data": {
                        "text/plain": "simmer environment: SuperDuperSim | now: 0 | next: \n{ Monitor: in memory }"
                    },
                    "metadata": {},
                    "output_type": "display_data"
                }
            ],
            "source": "if (!require(\"simmer\")) {\n    install.packages(\"simmer\")\n}\nlibrary(simmer)\n\nenv <- simmer(\"SuperDuperSim\")\nenv"
        },
        {
            "cell_type": "code",
            "execution_count": 10,
            "metadata": {
                "trusted": true
            },
            "outputs": [],
            "source": "programs <- trajectory(\"programs' path\") %>%\n    seize(\"server\", amount = 1) %>%\n    timeout(function() rexp(1, mu)) %>%\n    release(\"server\", amount = 1)"
        },
        {
            "cell_type": "code",
            "execution_count": 11,
            "metadata": {
                "trusted": true
            },
            "outputs": [
                {
                    "data": {
                        "text/plain": "simmer environment: SuperDuperSim | now: 10000 | next: 10003.7234989748\n{ Monitor: in memory }\n{ Resource: server | monitored: TRUE | server status: 0(1) | queue status: 0(Inf) }\n{ Source: programs | monitored: 1 | n_generated: 3029 }"
                    },
                    "metadata": {},
                    "output_type": "display_data"
                }
            ],
            "source": "SIMULATION_TIME <- 10000\n\nenv %>%\n    add_resource(\"server\", 1) %>%\n    add_generator(\"programs\", programs, function() rexp(1, lambda)) %>%\n    run(until = SIMULATION_TIME)"
        },
        {
            "cell_type": "code",
            "execution_count": 12,
            "metadata": {
                "trusted": true
            },
            "outputs": [
                {
                    "data": {
                        "text/html": "<table class=\"dataframe\">\n<caption>A data.frame: 3028 \u00d7 6</caption>\n<thead>\n\t<tr><th scope=col>name</th><th scope=col>start_time</th><th scope=col>end_time</th><th scope=col>activity_time</th><th scope=col>finished</th><th scope=col>replication</th></tr>\n\t<tr><th scope=col>&lt;chr&gt;</th><th scope=col>&lt;dbl&gt;</th><th scope=col>&lt;dbl&gt;</th><th scope=col>&lt;dbl&gt;</th><th scope=col>&lt;lgl&gt;</th><th scope=col>&lt;int&gt;</th></tr>\n</thead>\n<tbody>\n\t<tr><td>programs0 </td><td> 1.282143</td><td>  4.177776</td><td>2.89563311</td><td>TRUE</td><td>1</td></tr>\n\t<tr><td>programs1 </td><td> 1.770443</td><td>  4.258100</td><td>0.08032395</td><td>TRUE</td><td>1</td></tr>\n\t<tr><td>programs2 </td><td> 4.408824</td><td> 11.193970</td><td>6.78514566</td><td>TRUE</td><td>1</td></tr>\n\t<tr><td>programs3 </td><td> 7.054637</td><td> 13.693605</td><td>2.49963501</td><td>TRUE</td><td>1</td></tr>\n\t<tr><td>programs4 </td><td>11.334202</td><td> 14.437538</td><td>0.74393268</td><td>TRUE</td><td>1</td></tr>\n\t<tr><td>programs5 </td><td>13.441375</td><td> 18.684576</td><td>4.24703859</td><td>TRUE</td><td>1</td></tr>\n\t<tr><td>programs6 </td><td>19.294948</td><td> 19.813446</td><td>0.51849776</td><td>TRUE</td><td>1</td></tr>\n\t<tr><td>programs7 </td><td>21.252343</td><td> 21.511088</td><td>0.25874508</td><td>TRUE</td><td>1</td></tr>\n\t<tr><td>programs8 </td><td>25.357193</td><td> 27.734487</td><td>2.37729349</td><td>TRUE</td><td>1</td></tr>\n\t<tr><td>programs9 </td><td>27.512959</td><td> 29.146033</td><td>1.41154636</td><td>TRUE</td><td>1</td></tr>\n\t<tr><td>programs10</td><td>29.897637</td><td> 32.781905</td><td>2.88426771</td><td>TRUE</td><td>1</td></tr>\n\t<tr><td>programs11</td><td>36.435589</td><td> 39.903063</td><td>3.46747484</td><td>TRUE</td><td>1</td></tr>\n\t<tr><td>programs12</td><td>37.262032</td><td> 41.021991</td><td>1.11892750</td><td>TRUE</td><td>1</td></tr>\n\t<tr><td>programs13</td><td>39.541645</td><td> 44.217954</td><td>3.19596296</td><td>TRUE</td><td>1</td></tr>\n\t<tr><td>programs14</td><td>39.905185</td><td> 44.270751</td><td>0.05279693</td><td>TRUE</td><td>1</td></tr>\n\t<tr><td>programs15</td><td>41.354121</td><td> 46.048559</td><td>1.77780840</td><td>TRUE</td><td>1</td></tr>\n\t<tr><td>programs16</td><td>43.590530</td><td> 47.312542</td><td>1.26398325</td><td>TRUE</td><td>1</td></tr>\n\t<tr><td>programs17</td><td>56.657568</td><td> 61.626727</td><td>4.96915860</td><td>TRUE</td><td>1</td></tr>\n\t<tr><td>programs18</td><td>63.575992</td><td> 64.681502</td><td>1.10550996</td><td>TRUE</td><td>1</td></tr>\n\t<tr><td>programs19</td><td>66.002149</td><td> 66.437420</td><td>0.43527094</td><td>TRUE</td><td>1</td></tr>\n\t<tr><td>programs20</td><td>69.299179</td><td> 71.323795</td><td>2.02461576</td><td>TRUE</td><td>1</td></tr>\n\t<tr><td>programs21</td><td>70.719299</td><td> 73.823992</td><td>2.50019717</td><td>TRUE</td><td>1</td></tr>\n\t<tr><td>programs22</td><td>77.007938</td><td> 78.241511</td><td>1.23357258</td><td>TRUE</td><td>1</td></tr>\n\t<tr><td>programs23</td><td>80.287367</td><td> 82.615708</td><td>2.32834101</td><td>TRUE</td><td>1</td></tr>\n\t<tr><td>programs24</td><td>85.999849</td><td> 86.539152</td><td>0.53930317</td><td>TRUE</td><td>1</td></tr>\n\t<tr><td>programs25</td><td>86.496211</td><td> 86.615388</td><td>0.07623663</td><td>TRUE</td><td>1</td></tr>\n\t<tr><td>programs26</td><td>89.166443</td><td> 89.226811</td><td>0.06036833</td><td>TRUE</td><td>1</td></tr>\n\t<tr><td>programs27</td><td>91.887034</td><td> 93.598747</td><td>1.71171283</td><td>TRUE</td><td>1</td></tr>\n\t<tr><td>programs28</td><td>93.716145</td><td> 99.044777</td><td>5.32863272</td><td>TRUE</td><td>1</td></tr>\n\t<tr><td>programs29</td><td>96.934503</td><td>101.795605</td><td>2.75082762</td><td>TRUE</td><td>1</td></tr>\n\t<tr><td>\u22ee</td><td>\u22ee</td><td>\u22ee</td><td>\u22ee</td><td>\u22ee</td><td>\u22ee</td></tr>\n\t<tr><td>programs2998</td><td>9893.039</td><td>9893.712</td><td>0.67331424</td><td>TRUE</td><td>1</td></tr>\n\t<tr><td>programs2999</td><td>9893.081</td><td>9893.803</td><td>0.09058212</td><td>TRUE</td><td>1</td></tr>\n\t<tr><td>programs3000</td><td>9894.571</td><td>9897.507</td><td>2.93579354</td><td>TRUE</td><td>1</td></tr>\n\t<tr><td>programs3001</td><td>9899.744</td><td>9899.828</td><td>0.08385302</td><td>TRUE</td><td>1</td></tr>\n\t<tr><td>programs3002</td><td>9904.314</td><td>9911.612</td><td>7.29751625</td><td>TRUE</td><td>1</td></tr>\n\t<tr><td>programs3003</td><td>9904.368</td><td>9918.439</td><td>6.82691028</td><td>TRUE</td><td>1</td></tr>\n\t<tr><td>programs3004</td><td>9904.762</td><td>9922.103</td><td>3.66471008</td><td>TRUE</td><td>1</td></tr>\n\t<tr><td>programs3005</td><td>9909.004</td><td>9923.810</td><td>1.70627227</td><td>TRUE</td><td>1</td></tr>\n\t<tr><td>programs3006</td><td>9911.815</td><td>9925.236</td><td>1.42602718</td><td>TRUE</td><td>1</td></tr>\n\t<tr><td>programs3007</td><td>9917.946</td><td>9929.589</td><td>4.35348689</td><td>TRUE</td><td>1</td></tr>\n\t<tr><td>programs3008</td><td>9918.736</td><td>9932.509</td><td>2.91995605</td><td>TRUE</td><td>1</td></tr>\n\t<tr><td>programs3009</td><td>9919.194</td><td>9935.636</td><td>3.12719825</td><td>TRUE</td><td>1</td></tr>\n\t<tr><td>programs3010</td><td>9926.447</td><td>9936.312</td><td>0.67594094</td><td>TRUE</td><td>1</td></tr>\n\t<tr><td>programs3011</td><td>9930.780</td><td>9936.390</td><td>0.07809025</td><td>TRUE</td><td>1</td></tr>\n\t<tr><td>programs3012</td><td>9939.587</td><td>9940.156</td><td>0.56891055</td><td>TRUE</td><td>1</td></tr>\n\t<tr><td>programs3013</td><td>9940.819</td><td>9942.904</td><td>2.08540741</td><td>TRUE</td><td>1</td></tr>\n\t<tr><td>programs3014</td><td>9943.490</td><td>9946.412</td><td>2.92232538</td><td>TRUE</td><td>1</td></tr>\n\t<tr><td>programs3015</td><td>9953.215</td><td>9953.262</td><td>0.04691518</td><td>TRUE</td><td>1</td></tr>\n\t<tr><td>programs3016</td><td>9953.799</td><td>9956.951</td><td>3.15196239</td><td>TRUE</td><td>1</td></tr>\n\t<tr><td>programs3017</td><td>9959.510</td><td>9959.837</td><td>0.32728097</td><td>TRUE</td><td>1</td></tr>\n\t<tr><td>programs3018</td><td>9960.377</td><td>9960.418</td><td>0.04113925</td><td>TRUE</td><td>1</td></tr>\n\t<tr><td>programs3019</td><td>9961.151</td><td>9961.405</td><td>0.25369398</td><td>TRUE</td><td>1</td></tr>\n\t<tr><td>programs3020</td><td>9962.026</td><td>9962.147</td><td>0.12124270</td><td>TRUE</td><td>1</td></tr>\n\t<tr><td>programs3021</td><td>9962.533</td><td>9962.772</td><td>0.23845486</td><td>TRUE</td><td>1</td></tr>\n\t<tr><td>programs3022</td><td>9967.758</td><td>9967.817</td><td>0.05896114</td><td>TRUE</td><td>1</td></tr>\n\t<tr><td>programs3023</td><td>9970.145</td><td>9971.735</td><td>1.59029341</td><td>TRUE</td><td>1</td></tr>\n\t<tr><td>programs3024</td><td>9970.879</td><td>9973.680</td><td>1.94455044</td><td>TRUE</td><td>1</td></tr>\n\t<tr><td>programs3025</td><td>9975.187</td><td>9975.255</td><td>0.06768385</td><td>TRUE</td><td>1</td></tr>\n\t<tr><td>programs3026</td><td>9994.006</td><td>9994.542</td><td>0.53577973</td><td>TRUE</td><td>1</td></tr>\n\t<tr><td>programs3027</td><td>9994.695</td><td>9996.120</td><td>1.42418317</td><td>TRUE</td><td>1</td></tr>\n</tbody>\n</table>\n",
                        "text/latex": "A data.frame: 3028 \u00d7 6\n\\begin{tabular}{llllll}\n name & start\\_time & end\\_time & activity\\_time & finished & replication\\\\\n <chr> & <dbl> & <dbl> & <dbl> & <lgl> & <int>\\\\\n\\hline\n\t programs0  &  1.282143 &   4.177776 & 2.89563311 & TRUE & 1\\\\\n\t programs1  &  1.770443 &   4.258100 & 0.08032395 & TRUE & 1\\\\\n\t programs2  &  4.408824 &  11.193970 & 6.78514566 & TRUE & 1\\\\\n\t programs3  &  7.054637 &  13.693605 & 2.49963501 & TRUE & 1\\\\\n\t programs4  & 11.334202 &  14.437538 & 0.74393268 & TRUE & 1\\\\\n\t programs5  & 13.441375 &  18.684576 & 4.24703859 & TRUE & 1\\\\\n\t programs6  & 19.294948 &  19.813446 & 0.51849776 & TRUE & 1\\\\\n\t programs7  & 21.252343 &  21.511088 & 0.25874508 & TRUE & 1\\\\\n\t programs8  & 25.357193 &  27.734487 & 2.37729349 & TRUE & 1\\\\\n\t programs9  & 27.512959 &  29.146033 & 1.41154636 & TRUE & 1\\\\\n\t programs10 & 29.897637 &  32.781905 & 2.88426771 & TRUE & 1\\\\\n\t programs11 & 36.435589 &  39.903063 & 3.46747484 & TRUE & 1\\\\\n\t programs12 & 37.262032 &  41.021991 & 1.11892750 & TRUE & 1\\\\\n\t programs13 & 39.541645 &  44.217954 & 3.19596296 & TRUE & 1\\\\\n\t programs14 & 39.905185 &  44.270751 & 0.05279693 & TRUE & 1\\\\\n\t programs15 & 41.354121 &  46.048559 & 1.77780840 & TRUE & 1\\\\\n\t programs16 & 43.590530 &  47.312542 & 1.26398325 & TRUE & 1\\\\\n\t programs17 & 56.657568 &  61.626727 & 4.96915860 & TRUE & 1\\\\\n\t programs18 & 63.575992 &  64.681502 & 1.10550996 & TRUE & 1\\\\\n\t programs19 & 66.002149 &  66.437420 & 0.43527094 & TRUE & 1\\\\\n\t programs20 & 69.299179 &  71.323795 & 2.02461576 & TRUE & 1\\\\\n\t programs21 & 70.719299 &  73.823992 & 2.50019717 & TRUE & 1\\\\\n\t programs22 & 77.007938 &  78.241511 & 1.23357258 & TRUE & 1\\\\\n\t programs23 & 80.287367 &  82.615708 & 2.32834101 & TRUE & 1\\\\\n\t programs24 & 85.999849 &  86.539152 & 0.53930317 & TRUE & 1\\\\\n\t programs25 & 86.496211 &  86.615388 & 0.07623663 & TRUE & 1\\\\\n\t programs26 & 89.166443 &  89.226811 & 0.06036833 & TRUE & 1\\\\\n\t programs27 & 91.887034 &  93.598747 & 1.71171283 & TRUE & 1\\\\\n\t programs28 & 93.716145 &  99.044777 & 5.32863272 & TRUE & 1\\\\\n\t programs29 & 96.934503 & 101.795605 & 2.75082762 & TRUE & 1\\\\\n\t \u22ee & \u22ee & \u22ee & \u22ee & \u22ee & \u22ee\\\\\n\t programs2998 & 9893.039 & 9893.712 & 0.67331424 & TRUE & 1\\\\\n\t programs2999 & 9893.081 & 9893.803 & 0.09058212 & TRUE & 1\\\\\n\t programs3000 & 9894.571 & 9897.507 & 2.93579354 & TRUE & 1\\\\\n\t programs3001 & 9899.744 & 9899.828 & 0.08385302 & TRUE & 1\\\\\n\t programs3002 & 9904.314 & 9911.612 & 7.29751625 & TRUE & 1\\\\\n\t programs3003 & 9904.368 & 9918.439 & 6.82691028 & TRUE & 1\\\\\n\t programs3004 & 9904.762 & 9922.103 & 3.66471008 & TRUE & 1\\\\\n\t programs3005 & 9909.004 & 9923.810 & 1.70627227 & TRUE & 1\\\\\n\t programs3006 & 9911.815 & 9925.236 & 1.42602718 & TRUE & 1\\\\\n\t programs3007 & 9917.946 & 9929.589 & 4.35348689 & TRUE & 1\\\\\n\t programs3008 & 9918.736 & 9932.509 & 2.91995605 & TRUE & 1\\\\\n\t programs3009 & 9919.194 & 9935.636 & 3.12719825 & TRUE & 1\\\\\n\t programs3010 & 9926.447 & 9936.312 & 0.67594094 & TRUE & 1\\\\\n\t programs3011 & 9930.780 & 9936.390 & 0.07809025 & TRUE & 1\\\\\n\t programs3012 & 9939.587 & 9940.156 & 0.56891055 & TRUE & 1\\\\\n\t programs3013 & 9940.819 & 9942.904 & 2.08540741 & TRUE & 1\\\\\n\t programs3014 & 9943.490 & 9946.412 & 2.92232538 & TRUE & 1\\\\\n\t programs3015 & 9953.215 & 9953.262 & 0.04691518 & TRUE & 1\\\\\n\t programs3016 & 9953.799 & 9956.951 & 3.15196239 & TRUE & 1\\\\\n\t programs3017 & 9959.510 & 9959.837 & 0.32728097 & TRUE & 1\\\\\n\t programs3018 & 9960.377 & 9960.418 & 0.04113925 & TRUE & 1\\\\\n\t programs3019 & 9961.151 & 9961.405 & 0.25369398 & TRUE & 1\\\\\n\t programs3020 & 9962.026 & 9962.147 & 0.12124270 & TRUE & 1\\\\\n\t programs3021 & 9962.533 & 9962.772 & 0.23845486 & TRUE & 1\\\\\n\t programs3022 & 9967.758 & 9967.817 & 0.05896114 & TRUE & 1\\\\\n\t programs3023 & 9970.145 & 9971.735 & 1.59029341 & TRUE & 1\\\\\n\t programs3024 & 9970.879 & 9973.680 & 1.94455044 & TRUE & 1\\\\\n\t programs3025 & 9975.187 & 9975.255 & 0.06768385 & TRUE & 1\\\\\n\t programs3026 & 9994.006 & 9994.542 & 0.53577973 & TRUE & 1\\\\\n\t programs3027 & 9994.695 & 9996.120 & 1.42418317 & TRUE & 1\\\\\n\\end{tabular}\n",
                        "text/markdown": "\nA data.frame: 3028 \u00d7 6\n\n| name &lt;chr&gt; | start_time &lt;dbl&gt; | end_time &lt;dbl&gt; | activity_time &lt;dbl&gt; | finished &lt;lgl&gt; | replication &lt;int&gt; |\n|---|---|---|---|---|---|\n| programs0  |  1.282143 |   4.177776 | 2.89563311 | TRUE | 1 |\n| programs1  |  1.770443 |   4.258100 | 0.08032395 | TRUE | 1 |\n| programs2  |  4.408824 |  11.193970 | 6.78514566 | TRUE | 1 |\n| programs3  |  7.054637 |  13.693605 | 2.49963501 | TRUE | 1 |\n| programs4  | 11.334202 |  14.437538 | 0.74393268 | TRUE | 1 |\n| programs5  | 13.441375 |  18.684576 | 4.24703859 | TRUE | 1 |\n| programs6  | 19.294948 |  19.813446 | 0.51849776 | TRUE | 1 |\n| programs7  | 21.252343 |  21.511088 | 0.25874508 | TRUE | 1 |\n| programs8  | 25.357193 |  27.734487 | 2.37729349 | TRUE | 1 |\n| programs9  | 27.512959 |  29.146033 | 1.41154636 | TRUE | 1 |\n| programs10 | 29.897637 |  32.781905 | 2.88426771 | TRUE | 1 |\n| programs11 | 36.435589 |  39.903063 | 3.46747484 | TRUE | 1 |\n| programs12 | 37.262032 |  41.021991 | 1.11892750 | TRUE | 1 |\n| programs13 | 39.541645 |  44.217954 | 3.19596296 | TRUE | 1 |\n| programs14 | 39.905185 |  44.270751 | 0.05279693 | TRUE | 1 |\n| programs15 | 41.354121 |  46.048559 | 1.77780840 | TRUE | 1 |\n| programs16 | 43.590530 |  47.312542 | 1.26398325 | TRUE | 1 |\n| programs17 | 56.657568 |  61.626727 | 4.96915860 | TRUE | 1 |\n| programs18 | 63.575992 |  64.681502 | 1.10550996 | TRUE | 1 |\n| programs19 | 66.002149 |  66.437420 | 0.43527094 | TRUE | 1 |\n| programs20 | 69.299179 |  71.323795 | 2.02461576 | TRUE | 1 |\n| programs21 | 70.719299 |  73.823992 | 2.50019717 | TRUE | 1 |\n| programs22 | 77.007938 |  78.241511 | 1.23357258 | TRUE | 1 |\n| programs23 | 80.287367 |  82.615708 | 2.32834101 | TRUE | 1 |\n| programs24 | 85.999849 |  86.539152 | 0.53930317 | TRUE | 1 |\n| programs25 | 86.496211 |  86.615388 | 0.07623663 | TRUE | 1 |\n| programs26 | 89.166443 |  89.226811 | 0.06036833 | TRUE | 1 |\n| programs27 | 91.887034 |  93.598747 | 1.71171283 | TRUE | 1 |\n| programs28 | 93.716145 |  99.044777 | 5.32863272 | TRUE | 1 |\n| programs29 | 96.934503 | 101.795605 | 2.75082762 | TRUE | 1 |\n| \u22ee | \u22ee | \u22ee | \u22ee | \u22ee | \u22ee |\n| programs2998 | 9893.039 | 9893.712 | 0.67331424 | TRUE | 1 |\n| programs2999 | 9893.081 | 9893.803 | 0.09058212 | TRUE | 1 |\n| programs3000 | 9894.571 | 9897.507 | 2.93579354 | TRUE | 1 |\n| programs3001 | 9899.744 | 9899.828 | 0.08385302 | TRUE | 1 |\n| programs3002 | 9904.314 | 9911.612 | 7.29751625 | TRUE | 1 |\n| programs3003 | 9904.368 | 9918.439 | 6.82691028 | TRUE | 1 |\n| programs3004 | 9904.762 | 9922.103 | 3.66471008 | TRUE | 1 |\n| programs3005 | 9909.004 | 9923.810 | 1.70627227 | TRUE | 1 |\n| programs3006 | 9911.815 | 9925.236 | 1.42602718 | TRUE | 1 |\n| programs3007 | 9917.946 | 9929.589 | 4.35348689 | TRUE | 1 |\n| programs3008 | 9918.736 | 9932.509 | 2.91995605 | TRUE | 1 |\n| programs3009 | 9919.194 | 9935.636 | 3.12719825 | TRUE | 1 |\n| programs3010 | 9926.447 | 9936.312 | 0.67594094 | TRUE | 1 |\n| programs3011 | 9930.780 | 9936.390 | 0.07809025 | TRUE | 1 |\n| programs3012 | 9939.587 | 9940.156 | 0.56891055 | TRUE | 1 |\n| programs3013 | 9940.819 | 9942.904 | 2.08540741 | TRUE | 1 |\n| programs3014 | 9943.490 | 9946.412 | 2.92232538 | TRUE | 1 |\n| programs3015 | 9953.215 | 9953.262 | 0.04691518 | TRUE | 1 |\n| programs3016 | 9953.799 | 9956.951 | 3.15196239 | TRUE | 1 |\n| programs3017 | 9959.510 | 9959.837 | 0.32728097 | TRUE | 1 |\n| programs3018 | 9960.377 | 9960.418 | 0.04113925 | TRUE | 1 |\n| programs3019 | 9961.151 | 9961.405 | 0.25369398 | TRUE | 1 |\n| programs3020 | 9962.026 | 9962.147 | 0.12124270 | TRUE | 1 |\n| programs3021 | 9962.533 | 9962.772 | 0.23845486 | TRUE | 1 |\n| programs3022 | 9967.758 | 9967.817 | 0.05896114 | TRUE | 1 |\n| programs3023 | 9970.145 | 9971.735 | 1.59029341 | TRUE | 1 |\n| programs3024 | 9970.879 | 9973.680 | 1.94455044 | TRUE | 1 |\n| programs3025 | 9975.187 | 9975.255 | 0.06768385 | TRUE | 1 |\n| programs3026 | 9994.006 | 9994.542 | 0.53577973 | TRUE | 1 |\n| programs3027 | 9994.695 | 9996.120 | 1.42418317 | TRUE | 1 |\n\n",
                        "text/plain": "     name         start_time end_time   activity_time finished replication\n1    programs0     1.282143    4.177776 2.89563311    TRUE     1          \n2    programs1     1.770443    4.258100 0.08032395    TRUE     1          \n3    programs2     4.408824   11.193970 6.78514566    TRUE     1          \n4    programs3     7.054637   13.693605 2.49963501    TRUE     1          \n5    programs4    11.334202   14.437538 0.74393268    TRUE     1          \n6    programs5    13.441375   18.684576 4.24703859    TRUE     1          \n7    programs6    19.294948   19.813446 0.51849776    TRUE     1          \n8    programs7    21.252343   21.511088 0.25874508    TRUE     1          \n9    programs8    25.357193   27.734487 2.37729349    TRUE     1          \n10   programs9    27.512959   29.146033 1.41154636    TRUE     1          \n11   programs10   29.897637   32.781905 2.88426771    TRUE     1          \n12   programs11   36.435589   39.903063 3.46747484    TRUE     1          \n13   programs12   37.262032   41.021991 1.11892750    TRUE     1          \n14   programs13   39.541645   44.217954 3.19596296    TRUE     1          \n15   programs14   39.905185   44.270751 0.05279693    TRUE     1          \n16   programs15   41.354121   46.048559 1.77780840    TRUE     1          \n17   programs16   43.590530   47.312542 1.26398325    TRUE     1          \n18   programs17   56.657568   61.626727 4.96915860    TRUE     1          \n19   programs18   63.575992   64.681502 1.10550996    TRUE     1          \n20   programs19   66.002149   66.437420 0.43527094    TRUE     1          \n21   programs20   69.299179   71.323795 2.02461576    TRUE     1          \n22   programs21   70.719299   73.823992 2.50019717    TRUE     1          \n23   programs22   77.007938   78.241511 1.23357258    TRUE     1          \n24   programs23   80.287367   82.615708 2.32834101    TRUE     1          \n25   programs24   85.999849   86.539152 0.53930317    TRUE     1          \n26   programs25   86.496211   86.615388 0.07623663    TRUE     1          \n27   programs26   89.166443   89.226811 0.06036833    TRUE     1          \n28   programs27   91.887034   93.598747 1.71171283    TRUE     1          \n29   programs28   93.716145   99.044777 5.32863272    TRUE     1          \n30   programs29   96.934503  101.795605 2.75082762    TRUE     1          \n\u22ee    \u22ee            \u22ee          \u22ee          \u22ee             \u22ee        \u22ee          \n2999 programs2998 9893.039   9893.712   0.67331424    TRUE     1          \n3000 programs2999 9893.081   9893.803   0.09058212    TRUE     1          \n3001 programs3000 9894.571   9897.507   2.93579354    TRUE     1          \n3002 programs3001 9899.744   9899.828   0.08385302    TRUE     1          \n3003 programs3002 9904.314   9911.612   7.29751625    TRUE     1          \n3004 programs3003 9904.368   9918.439   6.82691028    TRUE     1          \n3005 programs3004 9904.762   9922.103   3.66471008    TRUE     1          \n3006 programs3005 9909.004   9923.810   1.70627227    TRUE     1          \n3007 programs3006 9911.815   9925.236   1.42602718    TRUE     1          \n3008 programs3007 9917.946   9929.589   4.35348689    TRUE     1          \n3009 programs3008 9918.736   9932.509   2.91995605    TRUE     1          \n3010 programs3009 9919.194   9935.636   3.12719825    TRUE     1          \n3011 programs3010 9926.447   9936.312   0.67594094    TRUE     1          \n3012 programs3011 9930.780   9936.390   0.07809025    TRUE     1          \n3013 programs3012 9939.587   9940.156   0.56891055    TRUE     1          \n3014 programs3013 9940.819   9942.904   2.08540741    TRUE     1          \n3015 programs3014 9943.490   9946.412   2.92232538    TRUE     1          \n3016 programs3015 9953.215   9953.262   0.04691518    TRUE     1          \n3017 programs3016 9953.799   9956.951   3.15196239    TRUE     1          \n3018 programs3017 9959.510   9959.837   0.32728097    TRUE     1          \n3019 programs3018 9960.377   9960.418   0.04113925    TRUE     1          \n3020 programs3019 9961.151   9961.405   0.25369398    TRUE     1          \n3021 programs3020 9962.026   9962.147   0.12124270    TRUE     1          \n3022 programs3021 9962.533   9962.772   0.23845486    TRUE     1          \n3023 programs3022 9967.758   9967.817   0.05896114    TRUE     1          \n3024 programs3023 9970.145   9971.735   1.59029341    TRUE     1          \n3025 programs3024 9970.879   9973.680   1.94455044    TRUE     1          \n3026 programs3025 9975.187   9975.255   0.06768385    TRUE     1          \n3027 programs3026 9994.006   9994.542   0.53577973    TRUE     1          \n3028 programs3027 9994.695   9996.120   1.42418317    TRUE     1          "
                    },
                    "metadata": {},
                    "output_type": "display_data"
                }
            ],
            "source": "arrivals <- env %>%\n    get_mon_arrivals()\narrivals"
        },
        {
            "cell_type": "code",
            "execution_count": 55,
            "metadata": {
                "trusted": true
            },
            "outputs": [
                {
                    "data": {
                        "text/html": "<table class=\"dataframe\">\n<caption>A data.frame: 1 \u00d7 4</caption>\n<thead>\n\t<tr><th scope=col>M/M/1/infty theoretical</th><th scope=col>M/M/1/infty practical</th><th scope=col>SPT</th><th scope=col>Round Robin</th></tr>\n\t<tr><th scope=col>&lt;dbl&gt;</th><th scope=col>&lt;dbl&gt;</th><th scope=col>&lt;chr&gt;</th><th scope=col>&lt;chr&gt;</th></tr>\n</thead>\n<tbody>\n\t<tr><td>4.944075</td><td>4.906583</td><td>-</td><td>-</td></tr>\n</tbody>\n</table>\n",
                        "text/latex": "A data.frame: 1 \u00d7 4\n\\begin{tabular}{llll}\n M/M/1/infty theoretical & M/M/1/infty practical & SPT & Round Robin\\\\\n <dbl> & <dbl> & <chr> & <chr>\\\\\n\\hline\n\t 4.944075 & 4.906583 & - & -\\\\\n\\end{tabular}\n",
                        "text/markdown": "\nA data.frame: 1 \u00d7 4\n\n| M/M/1/infty theoretical &lt;dbl&gt; | M/M/1/infty practical &lt;dbl&gt; | SPT &lt;chr&gt; | Round Robin &lt;chr&gt; |\n|---|---|---|---|\n| 4.944075 | 4.906583 | - | - |\n\n",
                        "text/plain": "  M/M/1/infty theoretical M/M/1/infty practical SPT Round Robin\n1 4.944075                4.906583              -   -          "
                    },
                    "metadata": {},
                    "output_type": "display_data"
                }
            ],
            "source": "results[2] <- mean(arrivals %>% with(end_time - start_time))\nresults"
        },
        {
            "cell_type": "markdown",
            "metadata": {},
            "source": "### \u0410\u043b\u0433\u043e\u0440\u0438\u0442\u043c SPT"
        },
        {
            "cell_type": "code",
            "execution_count": 14,
            "metadata": {
                "trusted": true
            },
            "outputs": [
                {
                    "data": {
                        "text/plain": "simmer environment: SuperDuperSptSim | now: 0 | next: \n{ Monitor: in memory }"
                    },
                    "metadata": {},
                    "output_type": "display_data"
                }
            ],
            "source": "if (!require(\"simmer\")) {\n    install.packages(\"simmer\")\n}\nlibrary(simmer)\n\nspt.env <- simmer(\"SuperDuperSptSim\")\nspt.env"
        },
        {
            "cell_type": "markdown",
            "metadata": {},
            "source": "\u0414\u043e\u0431\u0430\u0432\u0438\u043c $m$ \u0433\u0435\u043d\u0435\u0440\u0430\u0442\u043e\u0440\u043e\u0432. \u041a\u0430\u0436\u0434\u044b\u0439 \u0431\u0443\u0434\u0435\u0442 \u0438\u043c\u0435\u0442\u044c \u043f\u0440\u0438\u043e\u0440\u0438\u0442\u0435\u0442 \u0432 \u0437\u0430\u0432\u0438\u0441\u0438\u043c\u043e\u0441\u0442\u0438 \u043e\u0442\n\u0441\u043a\u043e\u0440\u043e\u0441\u0442\u0438 \u0432\u044b\u043f\u043e\u043b\u043d\u0435\u043d\u0438\u044f \u043f\u0440\u043e\u0433\u0440\u0430\u043c\u043c\u044b. \u0413\u0435\u043d\u0435\u0440\u0430\u0442\u043e\u0440, \u0441\u043e\u0437\u0434\u0430\u044e\u0449\u0438\u0439 \u043f\u0440\u043e\u0433\u0440\u0430\u043c\u043c\u044b \u0441 \u043d\u0430\u0438\u0431\u043e\u043b\u044c\u0448\u0435\u0439\n\u0434\u043b\u0438\u0442\u0435\u043b\u044c\u043d\u043e\u0441\u0442\u044c\u044e \u0432\u044b\u043f\u043e\u043b\u043d\u0435\u043d\u0438\u044f, \u0431\u0443\u0434\u0435\u0442 \u0438\u043c\u0435\u0442\u044c \u043d\u0430\u0438\u043c\u0435\u043d\u044c\u0448\u0438\u0439 \u043f\u0440\u0438\u043e\u0440\u0438\u0442\u0435\u0442."
        },
        {
            "cell_type": "code",
            "execution_count": 15,
            "metadata": {
                "trusted": true
            },
            "outputs": [
                {
                    "data": {
                        "text/plain": "simmer environment: SuperDuperSptSim | now: 0 | next: \n{ Monitor: in memory }\n{ Resource: server | monitored: TRUE | server status: 0(1) | queue status: 0(Inf) }"
                    },
                    "metadata": {},
                    "output_type": "display_data"
                },
                {
                    "data": {
                        "text/plain": "simmer environment: SuperDuperSptSim | now: 1e+05 | next: 100004.231080445\n{ Monitor: in memory }\n{ Resource: server | monitored: TRUE | server status: 0(1) | queue status: 0(Inf) }\n{ Source: programs1 | monitored: 1 | n_generated: 4270 }\n{ Source: programs2 | monitored: 1 | n_generated: 4238 }\n{ Source: programs3 | monitored: 1 | n_generated: 4265 }\n{ Source: programs4 | monitored: 1 | n_generated: 4219 }\n{ Source: programs5 | monitored: 1 | n_generated: 4199 }\n{ Source: programs6 | monitored: 1 | n_generated: 4267 }\n{ Source: programs7 | monitored: 1 | n_generated: 4282 }"
                    },
                    "metadata": {},
                    "output_type": "display_data"
                }
            ],
            "source": "SIMULATION_TIME <- 100000\n\nspt.env %>%\n    add_resource(\"server\", 1)\n\nQ_sorted_decr <- sort(Q, decreasing = TRUE)\n\nspt.programs_trajectory <- function(time_to_execute) {\n    return(\n        trajectory(\"programs' path\") %>%\n            seize(\"server\", 1) %>%\n            timeout(time_to_execute) %>%\n            release(\"server\", 1)\n    )\n}\n\nfor (Q_i in seq_along(Q_sorted_decr)) {\n    priority <- Q_i\n\n    name <- paste0(\"programs\", Q_i)\n\n    spt.env %>% add_generator(\n        name,\n        spt.programs_trajectory(Q_sorted_decr[Q_i]),\n        priority = priority,\n        preemptible = priority,\n        distribution = function() rexp(1, lambda / m)\n    )\n}\n\nspt.env %>%\n    run(until = SIMULATION_TIME)"
        },
        {
            "cell_type": "code",
            "execution_count": 16,
            "metadata": {
                "trusted": true
            },
            "outputs": [
                {
                    "data": {
                        "text/html": "<table class=\"dataframe\">\n<caption>A data.frame: 29733 \u00d7 6</caption>\n<thead>\n\t<tr><th scope=col>name</th><th scope=col>start_time</th><th scope=col>end_time</th><th scope=col>activity_time</th><th scope=col>finished</th><th scope=col>replication</th></tr>\n\t<tr><th scope=col>&lt;chr&gt;</th><th scope=col>&lt;dbl&gt;</th><th scope=col>&lt;dbl&gt;</th><th scope=col>&lt;dbl&gt;</th><th scope=col>&lt;lgl&gt;</th><th scope=col>&lt;int&gt;</th></tr>\n</thead>\n<tbody>\n\t<tr><td>programs10</td><td>  3.139379</td><td>  9.810366</td><td>6.6709868</td><td>TRUE</td><td>1</td></tr>\n\t<tr><td>programs70</td><td>  5.394727</td><td>  9.996766</td><td>0.1863999</td><td>TRUE</td><td>1</td></tr>\n\t<tr><td>programs11</td><td>  7.332261</td><td> 16.667752</td><td>6.6709868</td><td>TRUE</td><td>1</td></tr>\n\t<tr><td>programs50</td><td> 11.933127</td><td> 16.922953</td><td>0.2552007</td><td>TRUE</td><td>1</td></tr>\n\t<tr><td>programs40</td><td> 12.175471</td><td> 18.263336</td><td>1.3403831</td><td>TRUE</td><td>1</td></tr>\n\t<tr><td>programs30</td><td> 13.050160</td><td> 20.316237</td><td>2.0529013</td><td>TRUE</td><td>1</td></tr>\n\t<tr><td>programs41</td><td> 19.239142</td><td> 21.656620</td><td>1.3403831</td><td>TRUE</td><td>1</td></tr>\n\t<tr><td>programs31</td><td> 19.806402</td><td> 23.709522</td><td>2.0529013</td><td>TRUE</td><td>1</td></tr>\n\t<tr><td>programs20</td><td> 22.848134</td><td> 26.626731</td><td>2.9172096</td><td>TRUE</td><td>1</td></tr>\n\t<tr><td>programs71</td><td> 32.808558</td><td> 32.994958</td><td>0.1863999</td><td>TRUE</td><td>1</td></tr>\n\t<tr><td>programs32</td><td> 34.964973</td><td> 37.017875</td><td>2.0529013</td><td>TRUE</td><td>1</td></tr>\n\t<tr><td>programs12</td><td> 48.957529</td><td> 55.628516</td><td>6.6709868</td><td>TRUE</td><td>1</td></tr>\n\t<tr><td>programs72</td><td> 49.216849</td><td> 55.814916</td><td>0.1863999</td><td>TRUE</td><td>1</td></tr>\n\t<tr><td>programs51</td><td> 49.455153</td><td> 56.070117</td><td>0.2552007</td><td>TRUE</td><td>1</td></tr>\n\t<tr><td>programs42</td><td> 53.570548</td><td> 57.410500</td><td>1.3403831</td><td>TRUE</td><td>1</td></tr>\n\t<tr><td>programs73</td><td> 59.874315</td><td> 60.060714</td><td>0.1863999</td><td>TRUE</td><td>1</td></tr>\n\t<tr><td>programs21</td><td> 67.813731</td><td> 70.730941</td><td>2.9172096</td><td>TRUE</td><td>1</td></tr>\n\t<tr><td>programs33</td><td> 69.019191</td><td> 72.783842</td><td>2.0529013</td><td>TRUE</td><td>1</td></tr>\n\t<tr><td>programs60</td><td> 70.875333</td><td> 73.025635</td><td>0.2417931</td><td>TRUE</td><td>1</td></tr>\n\t<tr><td>programs22</td><td> 69.978242</td><td> 75.942845</td><td>2.9172096</td><td>TRUE</td><td>1</td></tr>\n\t<tr><td>programs13</td><td> 69.954514</td><td> 82.613832</td><td>6.6709868</td><td>TRUE</td><td>1</td></tr>\n\t<tr><td>programs52</td><td> 77.049533</td><td> 82.869032</td><td>0.2552007</td><td>TRUE</td><td>1</td></tr>\n\t<tr><td>programs14</td><td> 82.829752</td><td> 89.540019</td><td>6.6709868</td><td>TRUE</td><td>1</td></tr>\n\t<tr><td>programs61</td><td> 86.923195</td><td> 89.781812</td><td>0.2417931</td><td>TRUE</td><td>1</td></tr>\n\t<tr><td>programs23</td><td> 83.674544</td><td> 92.699022</td><td>2.9172096</td><td>TRUE</td><td>1</td></tr>\n\t<tr><td>programs15</td><td> 91.255674</td><td> 99.370009</td><td>6.6709868</td><td>TRUE</td><td>1</td></tr>\n\t<tr><td>programs74</td><td> 96.785868</td><td> 99.556408</td><td>0.1863999</td><td>TRUE</td><td>1</td></tr>\n\t<tr><td>programs43</td><td>100.292921</td><td>101.633304</td><td>1.3403831</td><td>TRUE</td><td>1</td></tr>\n\t<tr><td>programs44</td><td>102.942604</td><td>104.282987</td><td>1.3403831</td><td>TRUE</td><td>1</td></tr>\n\t<tr><td>programs53</td><td>104.553726</td><td>104.808927</td><td>0.2552007</td><td>TRUE</td><td>1</td></tr>\n\t<tr><td>\u22ee</td><td>\u22ee</td><td>\u22ee</td><td>\u22ee</td><td>\u22ee</td><td>\u22ee</td></tr>\n\t<tr><td>programs44210</td><td>99893.66</td><td>99901.43</td><td>1.3403831</td><td>TRUE</td><td>1</td></tr>\n\t<tr><td>programs44211</td><td>99897.86</td><td>99902.77</td><td>1.3403831</td><td>TRUE</td><td>1</td></tr>\n\t<tr><td>programs34259</td><td>99898.09</td><td>99904.83</td><td>2.0529013</td><td>TRUE</td><td>1</td></tr>\n\t<tr><td>programs44212</td><td>99904.49</td><td>99906.17</td><td>1.3403831</td><td>TRUE</td><td>1</td></tr>\n\t<tr><td>programs34260</td><td>99900.61</td><td>99908.22</td><td>2.0529013</td><td>TRUE</td><td>1</td></tr>\n\t<tr><td>programs24232</td><td>99906.44</td><td>99911.14</td><td>2.9172096</td><td>TRUE</td><td>1</td></tr>\n\t<tr><td>programs34261</td><td>99909.56</td><td>99913.19</td><td>2.0529013</td><td>TRUE</td><td>1</td></tr>\n\t<tr><td>programs64262</td><td>99911.28</td><td>99913.43</td><td>0.2417931</td><td>TRUE</td><td>1</td></tr>\n\t<tr><td>programs14266</td><td>99902.88</td><td>99920.10</td><td>6.6709868</td><td>TRUE</td><td>1</td></tr>\n\t<tr><td>programs24233</td><td>99916.04</td><td>99923.02</td><td>2.9172096</td><td>TRUE</td><td>1</td></tr>\n\t<tr><td>programs14267</td><td>99903.20</td><td>99929.69</td><td>6.6709868</td><td>TRUE</td><td>1</td></tr>\n\t<tr><td>programs14268</td><td>99907.64</td><td>99936.36</td><td>6.6709868</td><td>TRUE</td><td>1</td></tr>\n\t<tr><td>programs74277</td><td>99929.79</td><td>99936.55</td><td>0.1863999</td><td>TRUE</td><td>1</td></tr>\n\t<tr><td>programs54197</td><td>99931.93</td><td>99936.80</td><td>0.2552007</td><td>TRUE</td><td>1</td></tr>\n\t<tr><td>programs44213</td><td>99930.31</td><td>99938.14</td><td>1.3403831</td><td>TRUE</td><td>1</td></tr>\n\t<tr><td>programs44214</td><td>99930.53</td><td>99939.48</td><td>1.3403831</td><td>TRUE</td><td>1</td></tr>\n\t<tr><td>programs24234</td><td>99939.81</td><td>99942.72</td><td>2.9172096</td><td>TRUE</td><td>1</td></tr>\n\t<tr><td>programs34262</td><td>99941.33</td><td>99944.78</td><td>2.0529013</td><td>TRUE</td><td>1</td></tr>\n\t<tr><td>programs64263</td><td>99944.68</td><td>99945.02</td><td>0.2417931</td><td>TRUE</td><td>1</td></tr>\n\t<tr><td>programs74278</td><td>99944.92</td><td>99945.20</td><td>0.1863999</td><td>TRUE</td><td>1</td></tr>\n\t<tr><td>programs44215</td><td>99943.73</td><td>99946.54</td><td>1.3403831</td><td>TRUE</td><td>1</td></tr>\n\t<tr><td>programs64264</td><td>99958.48</td><td>99958.72</td><td>0.2417931</td><td>TRUE</td><td>1</td></tr>\n\t<tr><td>programs44216</td><td>99966.88</td><td>99968.22</td><td>1.3403831</td><td>TRUE</td><td>1</td></tr>\n\t<tr><td>programs34263</td><td>99968.40</td><td>99970.46</td><td>2.0529013</td><td>TRUE</td><td>1</td></tr>\n\t<tr><td>programs74279</td><td>99974.95</td><td>99975.13</td><td>0.1863999</td><td>TRUE</td><td>1</td></tr>\n\t<tr><td>programs24235</td><td>99977.06</td><td>99979.98</td><td>2.9172096</td><td>TRUE</td><td>1</td></tr>\n\t<tr><td>programs64265</td><td>99988.63</td><td>99988.87</td><td>0.2417931</td><td>TRUE</td><td>1</td></tr>\n\t<tr><td>programs74280</td><td>99988.68</td><td>99989.06</td><td>0.1863999</td><td>TRUE</td><td>1</td></tr>\n\t<tr><td>programs24236</td><td>99990.10</td><td>99993.02</td><td>2.9172096</td><td>TRUE</td><td>1</td></tr>\n\t<tr><td>programs44217</td><td>99992.29</td><td>99994.36</td><td>1.3403831</td><td>TRUE</td><td>1</td></tr>\n</tbody>\n</table>\n",
                        "text/latex": "A data.frame: 29733 \u00d7 6\n\\begin{tabular}{llllll}\n name & start\\_time & end\\_time & activity\\_time & finished & replication\\\\\n <chr> & <dbl> & <dbl> & <dbl> & <lgl> & <int>\\\\\n\\hline\n\t programs10 &   3.139379 &   9.810366 & 6.6709868 & TRUE & 1\\\\\n\t programs70 &   5.394727 &   9.996766 & 0.1863999 & TRUE & 1\\\\\n\t programs11 &   7.332261 &  16.667752 & 6.6709868 & TRUE & 1\\\\\n\t programs50 &  11.933127 &  16.922953 & 0.2552007 & TRUE & 1\\\\\n\t programs40 &  12.175471 &  18.263336 & 1.3403831 & TRUE & 1\\\\\n\t programs30 &  13.050160 &  20.316237 & 2.0529013 & TRUE & 1\\\\\n\t programs41 &  19.239142 &  21.656620 & 1.3403831 & TRUE & 1\\\\\n\t programs31 &  19.806402 &  23.709522 & 2.0529013 & TRUE & 1\\\\\n\t programs20 &  22.848134 &  26.626731 & 2.9172096 & TRUE & 1\\\\\n\t programs71 &  32.808558 &  32.994958 & 0.1863999 & TRUE & 1\\\\\n\t programs32 &  34.964973 &  37.017875 & 2.0529013 & TRUE & 1\\\\\n\t programs12 &  48.957529 &  55.628516 & 6.6709868 & TRUE & 1\\\\\n\t programs72 &  49.216849 &  55.814916 & 0.1863999 & TRUE & 1\\\\\n\t programs51 &  49.455153 &  56.070117 & 0.2552007 & TRUE & 1\\\\\n\t programs42 &  53.570548 &  57.410500 & 1.3403831 & TRUE & 1\\\\\n\t programs73 &  59.874315 &  60.060714 & 0.1863999 & TRUE & 1\\\\\n\t programs21 &  67.813731 &  70.730941 & 2.9172096 & TRUE & 1\\\\\n\t programs33 &  69.019191 &  72.783842 & 2.0529013 & TRUE & 1\\\\\n\t programs60 &  70.875333 &  73.025635 & 0.2417931 & TRUE & 1\\\\\n\t programs22 &  69.978242 &  75.942845 & 2.9172096 & TRUE & 1\\\\\n\t programs13 &  69.954514 &  82.613832 & 6.6709868 & TRUE & 1\\\\\n\t programs52 &  77.049533 &  82.869032 & 0.2552007 & TRUE & 1\\\\\n\t programs14 &  82.829752 &  89.540019 & 6.6709868 & TRUE & 1\\\\\n\t programs61 &  86.923195 &  89.781812 & 0.2417931 & TRUE & 1\\\\\n\t programs23 &  83.674544 &  92.699022 & 2.9172096 & TRUE & 1\\\\\n\t programs15 &  91.255674 &  99.370009 & 6.6709868 & TRUE & 1\\\\\n\t programs74 &  96.785868 &  99.556408 & 0.1863999 & TRUE & 1\\\\\n\t programs43 & 100.292921 & 101.633304 & 1.3403831 & TRUE & 1\\\\\n\t programs44 & 102.942604 & 104.282987 & 1.3403831 & TRUE & 1\\\\\n\t programs53 & 104.553726 & 104.808927 & 0.2552007 & TRUE & 1\\\\\n\t \u22ee & \u22ee & \u22ee & \u22ee & \u22ee & \u22ee\\\\\n\t programs44210 & 99893.66 & 99901.43 & 1.3403831 & TRUE & 1\\\\\n\t programs44211 & 99897.86 & 99902.77 & 1.3403831 & TRUE & 1\\\\\n\t programs34259 & 99898.09 & 99904.83 & 2.0529013 & TRUE & 1\\\\\n\t programs44212 & 99904.49 & 99906.17 & 1.3403831 & TRUE & 1\\\\\n\t programs34260 & 99900.61 & 99908.22 & 2.0529013 & TRUE & 1\\\\\n\t programs24232 & 99906.44 & 99911.14 & 2.9172096 & TRUE & 1\\\\\n\t programs34261 & 99909.56 & 99913.19 & 2.0529013 & TRUE & 1\\\\\n\t programs64262 & 99911.28 & 99913.43 & 0.2417931 & TRUE & 1\\\\\n\t programs14266 & 99902.88 & 99920.10 & 6.6709868 & TRUE & 1\\\\\n\t programs24233 & 99916.04 & 99923.02 & 2.9172096 & TRUE & 1\\\\\n\t programs14267 & 99903.20 & 99929.69 & 6.6709868 & TRUE & 1\\\\\n\t programs14268 & 99907.64 & 99936.36 & 6.6709868 & TRUE & 1\\\\\n\t programs74277 & 99929.79 & 99936.55 & 0.1863999 & TRUE & 1\\\\\n\t programs54197 & 99931.93 & 99936.80 & 0.2552007 & TRUE & 1\\\\\n\t programs44213 & 99930.31 & 99938.14 & 1.3403831 & TRUE & 1\\\\\n\t programs44214 & 99930.53 & 99939.48 & 1.3403831 & TRUE & 1\\\\\n\t programs24234 & 99939.81 & 99942.72 & 2.9172096 & TRUE & 1\\\\\n\t programs34262 & 99941.33 & 99944.78 & 2.0529013 & TRUE & 1\\\\\n\t programs64263 & 99944.68 & 99945.02 & 0.2417931 & TRUE & 1\\\\\n\t programs74278 & 99944.92 & 99945.20 & 0.1863999 & TRUE & 1\\\\\n\t programs44215 & 99943.73 & 99946.54 & 1.3403831 & TRUE & 1\\\\\n\t programs64264 & 99958.48 & 99958.72 & 0.2417931 & TRUE & 1\\\\\n\t programs44216 & 99966.88 & 99968.22 & 1.3403831 & TRUE & 1\\\\\n\t programs34263 & 99968.40 & 99970.46 & 2.0529013 & TRUE & 1\\\\\n\t programs74279 & 99974.95 & 99975.13 & 0.1863999 & TRUE & 1\\\\\n\t programs24235 & 99977.06 & 99979.98 & 2.9172096 & TRUE & 1\\\\\n\t programs64265 & 99988.63 & 99988.87 & 0.2417931 & TRUE & 1\\\\\n\t programs74280 & 99988.68 & 99989.06 & 0.1863999 & TRUE & 1\\\\\n\t programs24236 & 99990.10 & 99993.02 & 2.9172096 & TRUE & 1\\\\\n\t programs44217 & 99992.29 & 99994.36 & 1.3403831 & TRUE & 1\\\\\n\\end{tabular}\n",
                        "text/markdown": "\nA data.frame: 29733 \u00d7 6\n\n| name &lt;chr&gt; | start_time &lt;dbl&gt; | end_time &lt;dbl&gt; | activity_time &lt;dbl&gt; | finished &lt;lgl&gt; | replication &lt;int&gt; |\n|---|---|---|---|---|---|\n| programs10 |   3.139379 |   9.810366 | 6.6709868 | TRUE | 1 |\n| programs70 |   5.394727 |   9.996766 | 0.1863999 | TRUE | 1 |\n| programs11 |   7.332261 |  16.667752 | 6.6709868 | TRUE | 1 |\n| programs50 |  11.933127 |  16.922953 | 0.2552007 | TRUE | 1 |\n| programs40 |  12.175471 |  18.263336 | 1.3403831 | TRUE | 1 |\n| programs30 |  13.050160 |  20.316237 | 2.0529013 | TRUE | 1 |\n| programs41 |  19.239142 |  21.656620 | 1.3403831 | TRUE | 1 |\n| programs31 |  19.806402 |  23.709522 | 2.0529013 | TRUE | 1 |\n| programs20 |  22.848134 |  26.626731 | 2.9172096 | TRUE | 1 |\n| programs71 |  32.808558 |  32.994958 | 0.1863999 | TRUE | 1 |\n| programs32 |  34.964973 |  37.017875 | 2.0529013 | TRUE | 1 |\n| programs12 |  48.957529 |  55.628516 | 6.6709868 | TRUE | 1 |\n| programs72 |  49.216849 |  55.814916 | 0.1863999 | TRUE | 1 |\n| programs51 |  49.455153 |  56.070117 | 0.2552007 | TRUE | 1 |\n| programs42 |  53.570548 |  57.410500 | 1.3403831 | TRUE | 1 |\n| programs73 |  59.874315 |  60.060714 | 0.1863999 | TRUE | 1 |\n| programs21 |  67.813731 |  70.730941 | 2.9172096 | TRUE | 1 |\n| programs33 |  69.019191 |  72.783842 | 2.0529013 | TRUE | 1 |\n| programs60 |  70.875333 |  73.025635 | 0.2417931 | TRUE | 1 |\n| programs22 |  69.978242 |  75.942845 | 2.9172096 | TRUE | 1 |\n| programs13 |  69.954514 |  82.613832 | 6.6709868 | TRUE | 1 |\n| programs52 |  77.049533 |  82.869032 | 0.2552007 | TRUE | 1 |\n| programs14 |  82.829752 |  89.540019 | 6.6709868 | TRUE | 1 |\n| programs61 |  86.923195 |  89.781812 | 0.2417931 | TRUE | 1 |\n| programs23 |  83.674544 |  92.699022 | 2.9172096 | TRUE | 1 |\n| programs15 |  91.255674 |  99.370009 | 6.6709868 | TRUE | 1 |\n| programs74 |  96.785868 |  99.556408 | 0.1863999 | TRUE | 1 |\n| programs43 | 100.292921 | 101.633304 | 1.3403831 | TRUE | 1 |\n| programs44 | 102.942604 | 104.282987 | 1.3403831 | TRUE | 1 |\n| programs53 | 104.553726 | 104.808927 | 0.2552007 | TRUE | 1 |\n| \u22ee | \u22ee | \u22ee | \u22ee | \u22ee | \u22ee |\n| programs44210 | 99893.66 | 99901.43 | 1.3403831 | TRUE | 1 |\n| programs44211 | 99897.86 | 99902.77 | 1.3403831 | TRUE | 1 |\n| programs34259 | 99898.09 | 99904.83 | 2.0529013 | TRUE | 1 |\n| programs44212 | 99904.49 | 99906.17 | 1.3403831 | TRUE | 1 |\n| programs34260 | 99900.61 | 99908.22 | 2.0529013 | TRUE | 1 |\n| programs24232 | 99906.44 | 99911.14 | 2.9172096 | TRUE | 1 |\n| programs34261 | 99909.56 | 99913.19 | 2.0529013 | TRUE | 1 |\n| programs64262 | 99911.28 | 99913.43 | 0.2417931 | TRUE | 1 |\n| programs14266 | 99902.88 | 99920.10 | 6.6709868 | TRUE | 1 |\n| programs24233 | 99916.04 | 99923.02 | 2.9172096 | TRUE | 1 |\n| programs14267 | 99903.20 | 99929.69 | 6.6709868 | TRUE | 1 |\n| programs14268 | 99907.64 | 99936.36 | 6.6709868 | TRUE | 1 |\n| programs74277 | 99929.79 | 99936.55 | 0.1863999 | TRUE | 1 |\n| programs54197 | 99931.93 | 99936.80 | 0.2552007 | TRUE | 1 |\n| programs44213 | 99930.31 | 99938.14 | 1.3403831 | TRUE | 1 |\n| programs44214 | 99930.53 | 99939.48 | 1.3403831 | TRUE | 1 |\n| programs24234 | 99939.81 | 99942.72 | 2.9172096 | TRUE | 1 |\n| programs34262 | 99941.33 | 99944.78 | 2.0529013 | TRUE | 1 |\n| programs64263 | 99944.68 | 99945.02 | 0.2417931 | TRUE | 1 |\n| programs74278 | 99944.92 | 99945.20 | 0.1863999 | TRUE | 1 |\n| programs44215 | 99943.73 | 99946.54 | 1.3403831 | TRUE | 1 |\n| programs64264 | 99958.48 | 99958.72 | 0.2417931 | TRUE | 1 |\n| programs44216 | 99966.88 | 99968.22 | 1.3403831 | TRUE | 1 |\n| programs34263 | 99968.40 | 99970.46 | 2.0529013 | TRUE | 1 |\n| programs74279 | 99974.95 | 99975.13 | 0.1863999 | TRUE | 1 |\n| programs24235 | 99977.06 | 99979.98 | 2.9172096 | TRUE | 1 |\n| programs64265 | 99988.63 | 99988.87 | 0.2417931 | TRUE | 1 |\n| programs74280 | 99988.68 | 99989.06 | 0.1863999 | TRUE | 1 |\n| programs24236 | 99990.10 | 99993.02 | 2.9172096 | TRUE | 1 |\n| programs44217 | 99992.29 | 99994.36 | 1.3403831 | TRUE | 1 |\n\n",
                        "text/plain": "      name          start_time end_time   activity_time finished replication\n1     programs10      3.139379   9.810366 6.6709868     TRUE     1          \n2     programs70      5.394727   9.996766 0.1863999     TRUE     1          \n3     programs11      7.332261  16.667752 6.6709868     TRUE     1          \n4     programs50     11.933127  16.922953 0.2552007     TRUE     1          \n5     programs40     12.175471  18.263336 1.3403831     TRUE     1          \n6     programs30     13.050160  20.316237 2.0529013     TRUE     1          \n7     programs41     19.239142  21.656620 1.3403831     TRUE     1          \n8     programs31     19.806402  23.709522 2.0529013     TRUE     1          \n9     programs20     22.848134  26.626731 2.9172096     TRUE     1          \n10    programs71     32.808558  32.994958 0.1863999     TRUE     1          \n11    programs32     34.964973  37.017875 2.0529013     TRUE     1          \n12    programs12     48.957529  55.628516 6.6709868     TRUE     1          \n13    programs72     49.216849  55.814916 0.1863999     TRUE     1          \n14    programs51     49.455153  56.070117 0.2552007     TRUE     1          \n15    programs42     53.570548  57.410500 1.3403831     TRUE     1          \n16    programs73     59.874315  60.060714 0.1863999     TRUE     1          \n17    programs21     67.813731  70.730941 2.9172096     TRUE     1          \n18    programs33     69.019191  72.783842 2.0529013     TRUE     1          \n19    programs60     70.875333  73.025635 0.2417931     TRUE     1          \n20    programs22     69.978242  75.942845 2.9172096     TRUE     1          \n21    programs13     69.954514  82.613832 6.6709868     TRUE     1          \n22    programs52     77.049533  82.869032 0.2552007     TRUE     1          \n23    programs14     82.829752  89.540019 6.6709868     TRUE     1          \n24    programs61     86.923195  89.781812 0.2417931     TRUE     1          \n25    programs23     83.674544  92.699022 2.9172096     TRUE     1          \n26    programs15     91.255674  99.370009 6.6709868     TRUE     1          \n27    programs74     96.785868  99.556408 0.1863999     TRUE     1          \n28    programs43    100.292921 101.633304 1.3403831     TRUE     1          \n29    programs44    102.942604 104.282987 1.3403831     TRUE     1          \n30    programs53    104.553726 104.808927 0.2552007     TRUE     1          \n\u22ee     \u22ee             \u22ee          \u22ee          \u22ee             \u22ee        \u22ee          \n29704 programs44210 99893.66   99901.43   1.3403831     TRUE     1          \n29705 programs44211 99897.86   99902.77   1.3403831     TRUE     1          \n29706 programs34259 99898.09   99904.83   2.0529013     TRUE     1          \n29707 programs44212 99904.49   99906.17   1.3403831     TRUE     1          \n29708 programs34260 99900.61   99908.22   2.0529013     TRUE     1          \n29709 programs24232 99906.44   99911.14   2.9172096     TRUE     1          \n29710 programs34261 99909.56   99913.19   2.0529013     TRUE     1          \n29711 programs64262 99911.28   99913.43   0.2417931     TRUE     1          \n29712 programs14266 99902.88   99920.10   6.6709868     TRUE     1          \n29713 programs24233 99916.04   99923.02   2.9172096     TRUE     1          \n29714 programs14267 99903.20   99929.69   6.6709868     TRUE     1          \n29715 programs14268 99907.64   99936.36   6.6709868     TRUE     1          \n29716 programs74277 99929.79   99936.55   0.1863999     TRUE     1          \n29717 programs54197 99931.93   99936.80   0.2552007     TRUE     1          \n29718 programs44213 99930.31   99938.14   1.3403831     TRUE     1          \n29719 programs44214 99930.53   99939.48   1.3403831     TRUE     1          \n29720 programs24234 99939.81   99942.72   2.9172096     TRUE     1          \n29721 programs34262 99941.33   99944.78   2.0529013     TRUE     1          \n29722 programs64263 99944.68   99945.02   0.2417931     TRUE     1          \n29723 programs74278 99944.92   99945.20   0.1863999     TRUE     1          \n29724 programs44215 99943.73   99946.54   1.3403831     TRUE     1          \n29725 programs64264 99958.48   99958.72   0.2417931     TRUE     1          \n29726 programs44216 99966.88   99968.22   1.3403831     TRUE     1          \n29727 programs34263 99968.40   99970.46   2.0529013     TRUE     1          \n29728 programs74279 99974.95   99975.13   0.1863999     TRUE     1          \n29729 programs24235 99977.06   99979.98   2.9172096     TRUE     1          \n29730 programs64265 99988.63   99988.87   0.2417931     TRUE     1          \n29731 programs74280 99988.68   99989.06   0.1863999     TRUE     1          \n29732 programs24236 99990.10   99993.02   2.9172096     TRUE     1          \n29733 programs44217 99992.29   99994.36   1.3403831     TRUE     1          "
                    },
                    "metadata": {},
                    "output_type": "display_data"
                }
            ],
            "source": "spt.arrivals <- spt.env %>%\n    get_mon_arrivals()\nspt.arrivals"
        },
        {
            "cell_type": "code",
            "execution_count": 56,
            "metadata": {
                "trusted": true
            },
            "outputs": [
                {
                    "data": {
                        "text/html": "<table class=\"dataframe\">\n<caption>A data.frame: 1 \u00d7 4</caption>\n<thead>\n\t<tr><th scope=col>M/M/1/infty theoretical</th><th scope=col>M/M/1/infty practical</th><th scope=col>SPT</th><th scope=col>Round Robin</th></tr>\n\t<tr><th scope=col>&lt;dbl&gt;</th><th scope=col>&lt;dbl&gt;</th><th scope=col>&lt;dbl&gt;</th><th scope=col>&lt;chr&gt;</th></tr>\n</thead>\n<tbody>\n\t<tr><td>4.944075</td><td>4.906583</td><td>3.865118</td><td>-</td></tr>\n</tbody>\n</table>\n",
                        "text/latex": "A data.frame: 1 \u00d7 4\n\\begin{tabular}{llll}\n M/M/1/infty theoretical & M/M/1/infty practical & SPT & Round Robin\\\\\n <dbl> & <dbl> & <dbl> & <chr>\\\\\n\\hline\n\t 4.944075 & 4.906583 & 3.865118 & -\\\\\n\\end{tabular}\n",
                        "text/markdown": "\nA data.frame: 1 \u00d7 4\n\n| M/M/1/infty theoretical &lt;dbl&gt; | M/M/1/infty practical &lt;dbl&gt; | SPT &lt;dbl&gt; | Round Robin &lt;chr&gt; |\n|---|---|---|---|\n| 4.944075 | 4.906583 | 3.865118 | - |\n\n",
                        "text/plain": "  M/M/1/infty theoretical M/M/1/infty practical SPT      Round Robin\n1 4.944075                4.906583              3.865118 -          "
                    },
                    "metadata": {},
                    "output_type": "display_data"
                }
            ],
            "source": "results[3] <- mean(spt.arrivals %>% with(end_time - start_time))\nresults"
        },
        {
            "cell_type": "markdown",
            "metadata": {},
            "source": "### \u0410\u043b\u0433\u043e\u0440\u0438\u0442\u043c Round Robin\n\u0420\u0435\u0430\u043b\u0438\u0437\u0443\u0435\u043c Round Robin \u0441 \u043f\u043e\u043c\u043e\u0449\u044c\u044e simmer. \u0414\u043b\u044f \u044d\u0442\u043e\u0433\u043e \u0432\u043e\u0441\u043f\u043e\u043b\u044c\u0437\u0443\u0435\u043c\u0441\u044f \u043c\u0435\u0445\u0430\u043d\u0438\u0437\u043c\u043e\u043c\n`leave` \u0438 `handle_unfinished`.\n\u0410\u043b\u0433\u043e\u0440\u0438\u0442\u043c \u0440\u0435\u0430\u043b\u0438\u0437\u0430\u0446\u0438\u0438 \u043c\u0435\u0442\u043e\u0434\u0430 Round Robin:\n\n1. \u0423\u0441\u0442\u0430\u043d\u0430\u0432\u043b\u0438\u0432\u0430\u0435\u043c \u043a\u0430\u0436\u0434\u043e\u0439 \u043f\u0440\u043e\u0433\u0440\u0430\u043c\u043c\u0435, \u043f\u043e\u044f\u0432\u0438\u0432\u0448\u0435\u0439\u0441\u044f \u0432 \u0441\u0438\u0441\u0442\u0435\u043c\u0435, \u0430\u0442\u0440\u0438\u0431\u0443\u0442\n`execution_time` $\\in Q$. \u0412 \u043f\u043e\u0441\u043b\u0435\u0434\u0443\u044e\u0449\u0435\u043c \u044d\u0442\u043e\u0442 \u0430\u0442\u0440\u0438\u0431\u0443\u0442 \u0431\u0443\u0434\u0435\u0442 \u043e\u0431\u043d\u043e\u0432\u043b\u044f\u0442\u044c\u0441\u044f, \u0445\u0440\u0430\u043d\u044f\n\u0437\u043d\u0430\u0447\u0435\u043d\u0438\u0435 \u0432\u0440\u0435\u043c\u0435\u043d\u0438, \u043a\u043e\u0442\u043e\u0440\u043e\u0435 \u043e\u0441\u0442\u0430\u043b\u043e\u0441\u044c \u0434\u043e \u0432\u044b\u043f\u043e\u043b\u043d\u0435\u043d\u0438\u044f \u043f\u0440\u043e\u0433\u0440\u0430\u043c\u043c\u044b.\n\n2. \u0417\u0430\u043d\u0438\u043c\u0430\u0435\u043c \u0440\u0435\u0441\u0443\u0440\u0441 (\u0441\u0435\u0440\u0432\u0435\u0440) \u043d\u0430 \u0432\u0440\u0435\u043c\u044f $ = min(q, \\text{execution_time})$.\n\n3. \u041e\u0441\u0432\u043e\u0431\u043e\u0436\u0434\u0430\u0435\u043c \u0440\u0435\u0441\u0443\u0440\u0441 (\u0441\u0435\u0440\u0432\u0435\u0440).\n\n4. \u0423\u043c\u0435\u043d\u044c\u0448\u0430\u0435\u043c `execution_time` \u043d\u0430 `q`.\n\n5. \u0415\u0441\u043b\u0438 $\\text{execution_time} <= 0$, \u043f\u0440\u043e\u0433\u0440\u0430\u043c\u043c\u0430 \u0432\u044b\u043f\u043e\u043b\u043d\u0438\u043b\u0430\u0441\u044c.\n\n6. \u0415\u0441\u043b\u0438 $\\text{execution_time} > 0$, \u0432\u044b\u0432\u043e\u0434\u0438\u043c \u043f\u0440\u043e\u0433\u0440\u0430\u043c\u043c\u0443 \u0438\u0437 \u0442\u0440\u0430\u0435\u043a\u0442\u043e\u0440\u0438\u0438 \u0441 \u043f\u043e\u043c\u043e\u0449\u044c\u044e\n`leave`.\n\n7. \u041f\u0435\u0440\u0435\u0445\u0432\u0430\u0442\u044b\u0432\u0430\u0435\u043c \u043f\u0440\u043e\u0433\u0440\u0430\u043c\u043c\u0443, \u043f\u043e\u043a\u0438\u043d\u0443\u0432\u0448\u0443\u044e \u0442\u0440\u0430\u0435\u043a\u0442\u043e\u0440\u0438\u044e, \u0441 \u043f\u043e\u043c\u043e\u0449\u044c\u044e\n`handle_unfinished`, \u0438 \u043e\u0442\u043f\u0440\u0430\u0432\u043b\u044f\u0435\u043c \u0435\u0451 \u0441\u043d\u043e\u0432\u0430 \u0432 \u044d\u0442\u0443 \u0436\u0435 \u0442\u0440\u0430\u0435\u043a\u0442\u043e\u0440\u0438\u044e. \u0422\u0430\u043a, \u043c\u044b \u043f\u043e \u0444\u0430\u043a\u0442\u0443\n\u043e\u0441\u0432\u043e\u0431\u043e\u0436\u0434\u0430\u0435\u043c \u0440\u0435\u0441\u0443\u0440\u0441 \u0434\u043b\u044f \u0441\u043b\u0435\u0434\u0443\u044e\u0449\u0438\u0445 \u043f\u0440\u043e\u0433\u0440\u0430\u043c\u043c, \u0430 \u0442\u0435\u043a\u0443\u0449\u0443\u044e \u043f\u0440\u043e\u0433\u0440\u0430\u043c\u043c\u0443 \u043e\u0442\u043f\u0440\u0430\u0432\u043b\u044f\u0435\u043c\n\u0432 \u043a\u043e\u043d\u0435\u0446 \u043e\u0447\u0435\u0440\u0435\u0434\u0438, \u043a\u0430\u043a \u044d\u0442\u043e \u0438 \u043d\u0443\u0436\u043d\u043e \u0432 Round Robin.\n\n\u0412\u044b\u043f\u043e\u043b\u043d\u044f\u0435\u043c \u043f\u0443\u043d\u043a\u0442\u044b 2-7 \u0434\u043b\u044f \u043a\u0430\u0436\u0434\u043e\u0439 \u043f\u0440\u043e\u0433\u0440\u0430\u043c\u043c\u044b. \u0417\u0430\u043c\u0435\u0447\u0443, \u0447\u0442\u043e \u043f\u0440\u0438 \u043f\u0435\u0440\u0435\u0445\u043e\u0434\u0435 \u043f\u0440\u043e\u0433\u0440\u0430\u043c\u043c\u044b\n\u0432 `handle_unfinished`, \u0443 \u043d\u0435\u0435 \u0431\u0443\u0434\u0435\u0442 \u043e\u0431\u043d\u043e\u0432\u043b\u0435\u043d\u043d\u043e\u0435 \u0437\u043d\u0430\u0447\u0435\u043d\u0438\u0435 `execution_time` (\u0441\n\u0432\u044b\u0447\u0442\u0435\u043d\u043d\u044b\u043c \u043a\u0432\u0430\u043d\u0442\u043e\u043c).\n\u0421\u043b\u0435\u0434\u043e\u0432\u0430\u0442\u0435\u043b\u044c\u043d\u043e, \u043f\u0440\u043e\u0433\u0440\u0430\u043c\u043c\u0430, \u043f\u0440\u043e\u0445\u043e\u0434\u044f \u0446\u0438\u043a\u043b, \u0431\u0443\u0434\u0435\u0442 \u043f\u043e\u0442\u0438\u0445\u043e\u043d\u0435\u0447\u043a\u0443 \u0438\u0441\u043f\u043e\u043b\u043d\u044f\u0442\u044c\u0441\u044f."
        },
        {
            "cell_type": "code",
            "execution_count": 18,
            "metadata": {
                "trusted": true
            },
            "outputs": [
                {
                    "name": "stderr",
                    "output_type": "stream",
                    "text": "Loading required package: parallel\n\n"
                }
            ],
            "source": "if (!require(\"simmer\")) {\n    install.packages(\"simmer\")\n}\nlibrary(simmer)\n\nif (!require(\"parallel\")) {\n    install.packages(\"parallel\")\n}\nlibrary(parallel)"
        },
        {
            "cell_type": "markdown",
            "metadata": {},
            "source": "Round Robin \u043f\u043e\u043a\u0430\u0437\u044b\u0432\u0430\u0435\u0442 \u043e\u0447\u0435\u043d\u044c \u043a\u043e\u043b\u0435\u0431\u043b\u044e\u0449\u0438\u0435\u0441\u044f \u0440\u0435\u0437\u0443\u043b\u044c\u0442\u0430\u0442\u044b \u0432 \u0437\u0430\u0432\u0438\u0441\u0438\u043c\u043e\u0441\u0442\u0438 \u043e\u0442 \u043f\u043e\u0440\u044f\u0434\u043a\u0430\n\u0437\u0430\u044f\u0432\u043e\u043a, \u043f\u0440\u0438\u0445\u043e\u0434\u044f\u0449\u0438\u0445 \u0432 \u0441\u0438\u0441\u0442\u0435\u043c\u0443. \u0414\u043b\u044f \u0447\u0438\u0441\u0442\u043e\u0442\u044b \u044d\u043a\u0441\u043f\u0435\u0440\u0438\u043c\u0435\u043d\u0442\u0430, \u0432\u043e\u0441\u043f\u043e\u043b\u044c\u0437\u0443\u0435\u043c\u0441\u044f \u043f\u0430\u043a\u0435\u0442\u043e\u043c parallel,\n\u043f\u043e\u0437\u0432\u043e\u043b\u044f\u044e\u0449\u0438\u043c \u0437\u0430\u043f\u0443\u0441\u0442\u0438\u0442\u044c \u043f\u0430\u0440\u0430\u043b\u043b\u0435\u043b\u044c\u043d\u043e N \u0441\u0438\u043c\u0443\u043b\u044f\u0446\u0438\u0439, \u0438\u0441\u043f\u043e\u043b\u044c\u0437\u0443\u044f \u0432\u0441\u044e \u043c\u043e\u0449\u044c \u043c\u0435\u0445\u0430\u043d\u0438\u0437\u043c\u0430\n`fork` \u043e\u043f\u0435\u0440\u0430\u0446\u0438\u043e\u043d\u043d\u044b\u0445 \u0441\u0438\u0441\u0442\u0435\u043c \u043d\u0430 \u0431\u0430\u0437\u0435 Unix."
        },
        {
            "cell_type": "code",
            "execution_count": 33,
            "metadata": {
                "trusted": true
            },
            "outputs": [],
            "source": "rr.simulate <- function(simulation_time, q) {\n    return(function(i) {\n        rr.env <- simmer(\"SuperDuperRoundRobinSim\")\n\n        rr.execute_program_for_quant <- trajectory() %>%\n            seize(\"server\", 1) %>%\n            timeout(function() min(get_attribute(rr.env, \"execution_time\"), q)) %>%\n            set_attribute(\"execution_time\", -q, mod = \"+\") %>%\n            release(\"server\", 1) %>%\n            leave(\n                function() get_attribute(rr.env, \"execution_time\") > 0\n            )\n\n        rr.programs <- trajectory() %>%\n            set_attribute(\"execution_time\", function() sample(Q, 1)) %>%\n            handle_unfinished(\n                trajectory() %>%\n                    log_(\n                        function() paste0(\"preempteed with execution_time: \", get_attribute(rr.env, \"execution_time\")),\n                        level = 1\n                    ) %>%\n                    join(rr.execute_program_for_quant)\n            ) %>%\n            join(rr.execute_program_for_quant)\n\n        rr.env %>%\n            add_resource(\"server\", 1, preemptive = TRUE) %>%\n            add_generator(\n                \"programs\",\n                rr.programs,\n                priority = 1,\n                preemptible = 1,\n                restart = TRUE,\n                distribution = function() rexp(1, lambda)\n            ) %>%\n            run(until = simulation_time) %>%\n            wrap()\n    })\n}"
        },
        {
            "cell_type": "markdown",
            "metadata": {},
            "source": "\u0422\u0430\u043a\u0436\u0435 \u0437\u0430\u043f\u0443\u0441\u0442\u0438\u043c \u044d\u0442\u0438 N \u0441\u0438\u043c\u0443\u043b\u044f\u0446\u0438\u0439 \u0434\u043b\u044f \u0440\u044f\u0434\u0430 \u0437\u043d\u0430\u0447\u0435\u043d\u0438\u0439 \u0440\u0430\u0437\u043d\u044b\u0445 $q$, \u0447\u0442\u043e\u0431\u044b \u043f\u043e\u0441\u043c\u043e\u0442\u0440\u0435\u0442\u044c, \u043a\u0430\u043a \u043c\u0435\u043d\u044f\u0435\u0442\u0441\u044f\n\u044d\u0444\u0444\u0435\u043a\u0442\u0438\u0432\u043d\u043e\u0441\u0442\u044c \u0430\u043b\u0433\u043e\u0440\u0438\u0442\u043c\u0430 \u0432 \u0437\u0430\u0432\u0438\u0441\u0438\u043c\u043e\u0441\u0442\u0438 \u043e\u0442 \u0437\u043d\u0430\u0447\u0435\u043d\u0438\u044f \u043a\u0432\u0430\u043d\u0442\u0430."
        },
        {
            "cell_type": "code",
            "execution_count": 42,
            "metadata": {
                "trusted": true
            },
            "outputs": [],
            "source": "SIMULATION_TIME <- 50000\nN <- 2\n\nquants <- c(0.01 * q, 0.1 * q, q, 2 * q, 3 * q, 4 * q, 5 * q)\n\nrr.results <- mclapply(quants, function(quant) {\n    rr.envs <- mclapply(1:N, rr.simulate(SIMULATION_TIME, quant))\n\n    rr.arrivals <- rr.envs %>%\n        get_mon_arrivals()\n\n    return(mean(rr.arrivals %>% with(end_time - start_time)))\n})"
        },
        {
            "cell_type": "code",
            "execution_count": 43,
            "metadata": {
                "trusted": true
            },
            "outputs": [
                {
                    "data": {
                        "text/html": "<style>\n.list-inline {list-style: none; margin:0; padding: 0}\n.list-inline>li {display: inline-block}\n.list-inline>li:not(:last-child)::after {content: \"\\00b7\"; padding: 0 .5ex}\n</style>\n<ol class=list-inline><li>4.65494074708904</li><li>4.7410714459645</li><li>4.79554416964938</li><li>5.18429242193237</li><li>4.99353782921248</li><li>4.70804460742238</li><li>4.9515202294431</li></ol>\n",
                        "text/latex": "\\begin{enumerate*}\n\\item 4.65494074708904\n\\item 4.7410714459645\n\\item 4.79554416964938\n\\item 5.18429242193237\n\\item 4.99353782921248\n\\item 4.70804460742238\n\\item 4.9515202294431\n\\end{enumerate*}\n",
                        "text/markdown": "1. 4.65494074708904\n2. 4.7410714459645\n3. 4.79554416964938\n4. 5.18429242193237\n5. 4.99353782921248\n6. 4.70804460742238\n7. 4.9515202294431\n\n\n",
                        "text/plain": "[1] 4.654941 4.741071 4.795544 5.184292 4.993538 4.708045 4.951520"
                    },
                    "metadata": {},
                    "output_type": "display_data"
                }
            ],
            "source": "unlist(rr.results)"
        },
        {
            "cell_type": "code",
            "execution_count": 32,
            "metadata": {
                "trusted": true
            },
            "outputs": [
                {
                    "data": {
                        "text/html": "<table class=\"dataframe\">\n<caption>A data.frame: 7 \u00d7 2</caption>\n<thead>\n\t<tr><th scope=col>quant</th><th scope=col>result</th></tr>\n\t<tr><th scope=col>&lt;dbl&gt;</th><th scope=col>&lt;dbl&gt;</th></tr>\n</thead>\n<tbody>\n\t<tr><td>0.01</td><td>4.636532</td></tr>\n\t<tr><td>0.10</td><td>4.866035</td></tr>\n\t<tr><td>1.00</td><td>5.357112</td></tr>\n\t<tr><td>2.00</td><td>5.394939</td></tr>\n\t<tr><td>3.00</td><td>4.695806</td></tr>\n\t<tr><td>4.00</td><td>4.585076</td></tr>\n\t<tr><td>5.00</td><td>5.065363</td></tr>\n</tbody>\n</table>\n",
                        "text/latex": "A data.frame: 7 \u00d7 2\n\\begin{tabular}{ll}\n quant & result\\\\\n <dbl> & <dbl>\\\\\n\\hline\n\t 0.01 & 4.636532\\\\\n\t 0.10 & 4.866035\\\\\n\t 1.00 & 5.357112\\\\\n\t 2.00 & 5.394939\\\\\n\t 3.00 & 4.695806\\\\\n\t 4.00 & 4.585076\\\\\n\t 5.00 & 5.065363\\\\\n\\end{tabular}\n",
                        "text/markdown": "\nA data.frame: 7 \u00d7 2\n\n| quant &lt;dbl&gt; | result &lt;dbl&gt; |\n|---|---|\n| 0.01 | 4.636532 |\n| 0.10 | 4.866035 |\n| 1.00 | 5.357112 |\n| 2.00 | 5.394939 |\n| 3.00 | 4.695806 |\n| 4.00 | 4.585076 |\n| 5.00 | 5.065363 |\n\n",
                        "text/plain": "  quant result  \n1 0.01  4.636532\n2 0.10  4.866035\n3 1.00  5.357112\n4 2.00  5.394939\n5 3.00  4.695806\n6 4.00  4.585076\n7 5.00  5.065363"
                    },
                    "metadata": {},
                    "output_type": "display_data"
                }
            ],
            "source": "rr.experiments <- data.frame(quant = quants, result = unlist(rr.results))\nrr.experiments"
        },
        {
            "cell_type": "code",
            "execution_count": 57,
            "metadata": {
                "trusted": true
            },
            "outputs": [
                {
                    "data": {
                        "text/html": "<table class=\"dataframe\">\n<caption>A data.frame: 1 \u00d7 4</caption>\n<thead>\n\t<tr><th scope=col>M/M/1/infty theoretical</th><th scope=col>M/M/1/infty practical</th><th scope=col>SPT</th><th scope=col>Round Robin</th></tr>\n\t<tr><th scope=col>&lt;dbl&gt;</th><th scope=col>&lt;dbl&gt;</th><th scope=col>&lt;dbl&gt;</th><th scope=col>&lt;dbl&gt;</th></tr>\n</thead>\n<tbody>\n\t<tr><td>4.944075</td><td>4.906583</td><td>3.865118</td><td>4.741071</td></tr>\n</tbody>\n</table>\n",
                        "text/latex": "A data.frame: 1 \u00d7 4\n\\begin{tabular}{llll}\n M/M/1/infty theoretical & M/M/1/infty practical & SPT & Round Robin\\\\\n <dbl> & <dbl> & <dbl> & <dbl>\\\\\n\\hline\n\t 4.944075 & 4.906583 & 3.865118 & 4.741071\\\\\n\\end{tabular}\n",
                        "text/markdown": "\nA data.frame: 1 \u00d7 4\n\n| M/M/1/infty theoretical &lt;dbl&gt; | M/M/1/infty practical &lt;dbl&gt; | SPT &lt;dbl&gt; | Round Robin &lt;dbl&gt; |\n|---|---|---|---|\n| 4.944075 | 4.906583 | 3.865118 | 4.741071 |\n\n",
                        "text/plain": "  M/M/1/infty theoretical M/M/1/infty practical SPT      Round Robin\n1 4.944075                4.906583              3.865118 4.741071   "
                    },
                    "metadata": {},
                    "output_type": "display_data"
                }
            ],
            "source": "results[4] <- unlist(rr.results)[2]\nresults"
        },
        {
            "cell_type": "markdown",
            "metadata": {},
            "source": "## \u0412\u044b\u0432\u043e\u0434 \u043f\u043e Round Robin \u0434\u043b\u044f \u0440\u0430\u0437\u043d\u044b\u0445 $q$\n\u041f\u043e \u043f\u043e\u043b\u0443\u0447\u0435\u043d\u043d\u044b\u043c \u0434\u0430\u043d\u043d\u044b\u043c \u043c\u043e\u0436\u043d\u043e \u0437\u0430\u043c\u0435\u0442\u0438\u0442\u044c, \u0447\u0442\u043e \u0441\u0438\u0441\u0442\u0435\u043c\u0430 \u0434\u0435\u043c\u043e\u043d\u0441\u0442\u0440\u0438\u0440\u0443\u0435\u0442 \u043b\u0443\u0447\u0448\u0438\u0435\n\u0437\u043d\u0430\u0447\u0435\u043d\u0438\u044f \u043f\u0440\u0438 \u043c\u0430\u043b\u044b\u0445 $q \\le 1$, \u043f\u0440\u0438\u0447\u0435\u043c \u0447\u0435\u043c \u043a\u0432\u0430\u043d\u0442 \u043c\u0435\u043d\u044c\u0448\u0435, \u0442\u0435\u043c \u0431\u043b\u0438\u0436\u0435 \u0440\u0435\u0437\u0443\u043b\u044c\u0442\u0430\u0442\n\u043a SPT. \u041f\u0440\u0438 $q > 1$ \u0441\u0438\u0441\u0442\u0435\u043c\u0430 \u043d\u0430\u0447\u0438\u043d\u0430\u0435\u0442 \u0441\u0442\u0440\u0435\u043c\u0438\u0442\u044c\u0441\u044f \u043a \u0437\u043d\u0430\u0447\u0435\u043d\u0438\u044f\u043c, \u043f\u043e\u043b\u0443\u0447\u0435\u043d\u043d\u044b\u0445 \u043f\u0440\u0438\n\u0441\u0438\u043c\u0443\u043b\u044f\u0446\u0438\u0438 \u043e\u0431\u044b\u0447\u043d\u043e\u0439 $M/M/1/\\infty$, \u0438 \u043a\u043e\u043b\u0435\u0431\u0430\u0442\u044c\u0441\u044f \u043e\u043a\u043e\u043b\u043e \u043d\u0438\u0445.\n\n\u0421\u043c\u0435\u044e \u043f\u0440\u0435\u0434\u043f\u043e\u043b\u043e\u0436\u0438\u0442\u044c, \u0447\u0442\u043e \u0434\u0430\u043d\u043d\u044b\u0435 \u0442\u0430\u043a\u0436\u0435 \u0441\u0438\u043b\u044c\u043d\u043e \u0437\u0430\u0432\u0438\u0441\u044f\u0442 \u043e\u0442 \u0432\u0435\u043a\u0442\u043e\u0440\u0430 $Q$.\n\u0427\u0435\u043c \u0431\u043e\u043b\u044c\u0448\u0435 \u0441\u0440\u0435\u0434\u043d\u0435\u0435 \u0437\u043d\u0430\u0447\u0435\u043d\u0438\u0435 $Q$, \u0442\u0435\u043c \"\u043d\u0435\u043f\u0440\u0438\u0445\u043e\u0442\u043b\u0438\u0432\u0435\u0435\" \u0431\u0443\u0434\u0435\u0442 \u0441\u0438\u0441\u0442\u0435\u043c\u0430 \u043a \u0432\u0435\u043b\u0438\u0447\u0438\u043d\u0435\n$q$, \u0430 \u0437\u043d\u0430\u0447\u0438\u0442 \u043a\u0440\u0438\u0442\u0438\u0447\u0435\u0441\u043a\u043e\u0435 \u0437\u043d\u0430\u0447\u0435\u043d\u0438\u0435 \u043a\u0432\u0430\u043d\u0442\u0430, \u043f\u0440\u0438 \u043a\u043e\u0442\u043e\u0440\u043e\u043c \u0441\u0438\u0441\u0442\u0435\u043c\u0430 \u0431\u0443\u0434\u0435\u0442\n\u0441\u0442\u0430\u043d\u043e\u0432\u0438\u0442\u044c\u0441\u044f \u044d\u0444\u0444\u0435\u043a\u0442\u0438\u0432\u043d\u0435\u0435, \u0431\u0443\u0434\u0435\u0442 \u0432\u044b\u0448\u0435."
        },
        {
            "cell_type": "markdown",
            "metadata": {},
            "source": "## \u0412\u044b\u0432\u043e\u0434\n\u041a\u0430\u043a \u0432\u0438\u0434\u043d\u043e, \u0441\u0438\u0441\u0442\u0435\u043c\u0430, \u0432\u044b\u043f\u043e\u043b\u043d\u0435\u043d\u043d\u0430\u044f \u0441 \u043f\u043e\u043c\u043e\u0449\u044c\u044e \u0430\u043b\u0433\u043e\u0440\u0438\u0442\u043c\u0430 Round Robin \u043e\u043a\u0430\u0437\u0430\u043b\u0430\u0441\u044c\n\u044d\u0444\u0444\u0435\u043a\u0442\u0438\u0432\u043d\u0435\u0435 \u043e\u0431\u044b\u0447\u043d\u043e\u0439 \u0441\u0438\u0441\u0442\u0435\u043c\u044b, \u0430 \u0441\u0438\u0441\u0442\u0435\u043c\u0430, \u0440\u0435\u0430\u043b\u0438\u0437\u043e\u0432\u0430\u043d\u043d\u0430\u044f \u0441 \u0430\u043b\u0433\u043e\u0440\u0438\u0442\u043c\u043e\u043c SPT - \u0441\u0430\u043c\u043e\u0439\n\u044d\u0444\u0444\u0435\u043a\u0442\u0438\u0432\u043d\u043e\u0439 (\u0441 \u0442\u043e\u0447\u043a\u0438 \u0437\u0440\u0435\u043d\u0438\u044f \u0441\u0440\u0435\u0434\u043d\u0435\u0433\u043e \u0432\u0440\u0435\u043c\u0435\u043d\u0438 \u043f\u0440\u0435\u0431\u044b\u0432\u0430\u043d\u0438\u044f \u0432 \u0441\u0438\u0441\u0442\u0435\u043c\u0435)."
        }
    ],
    "metadata": {
        "kernelspec": {
            "display_name": "R",
            "language": "R",
            "name": "ir"
        },
        "language_info": {
            "codemirror_mode": "r",
            "file_extension": ".r",
            "mimetype": "text/x-r-source",
            "name": "R",
            "pygments_lexer": "r",
            "version": "4.2.3"
        }
    },
    "nbformat": 4,
    "nbformat_minor": 5
}