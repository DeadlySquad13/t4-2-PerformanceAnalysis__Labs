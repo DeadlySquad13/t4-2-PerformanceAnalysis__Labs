{
    "cells": [
        {
            "cell_type": "markdown",
            "metadata": {},
            "source": "# \u041b\u0430\u0431\u043e\u0440\u0430\u0442\u043e\u0440\u043d\u0430\u044f \u0440\u0430\u0431\u043e\u0442\u0430 7. \u0423\u043f\u0440\u0430\u0432\u043b\u0435\u043d\u0438\u0435 \u0440\u0435\u0441\u0443\u0440\u0441\u0430\u043c\u0438 \u0432 \u043e\u0434\u043d\u043e\u043f\u0440\u043e\u0446\u0435\u0441\u0441\u043e\u0440\u043d\u043e\u0439 \u0441\u0438\u0441\u0442\u0435\u043c\u0435 \u0441 \u043d\u0435\u043e\u0434\u043d\u043e\u0440\u043e\u0434\u043d\u044b\u043c\u0438 \u0437\u0430\u044f\u0432\u043a\u0430\u043c\u0438\n\u0412\u044b\u043f\u043e\u043b\u043d\u0438\u043b: \u041f\u0430\u043a\u0430\u043b\u043e \u0410\u043b\u0435\u043a\u0441\u0430\u043d\u0434\u0440 \u0421\u0435\u0440\u0433\u0435\u0435\u0432\u0438\u0447, \u0441\u0442\u0443\u0434\u0435\u043d\u0442 \u0420\u04225-81\u0411\n\n## \u0417\u0430\u0434\u0430\u043d\u0438\u0435 1\n\u0412 \u043e\u0434\u043d\u043e\u043f\u0440\u043e\u0446\u0435\u0441\u0441\u043e\u0440\u043d\u0443\u044e \u0441\u0438\u0441\u0442\u0435\u043c\u0443 \u0441\u043b\u0443\u0447\u0430\u0439\u043d\u044b\u043c \u043e\u0431\u0440\u0430\u0437\u043e\u043c \u043f\u043e\u0441\u0442\u0443\u043f\u0430\u044e\u0442 \u043d\u0430 \u0432\u044b\u043f\u043e\u043b\u043d\u0435\u043d\u0438\u0435 $m$\n\u0440\u0430\u0437\u043d\u044b\u0445 \u0442\u0438\u043f\u043e\u0432 \u043f\u0440\u043e\u0433\u0440\u0430\u043c\u043c, \u043e\u0442\u043b\u0438\u0447\u0430\u044e\u0449\u0438\u0445\u0441\u044f \u0438\u0437\u0432\u0435\u0441\u0442\u043d\u043e\u0439 \u0442\u0440\u0443\u0434\u043e\u0435\u043c\u043a\u043e\u0441\u0442\u044c\u044e\n$Q_1, Q_2,\\dots, Q_m$.\n\u0412\u0445\u043e\u0434\u044f\u0449\u0438\u0439 \u043f\u043e\u0442\u043e\u043a \u043f\u0440\u043e\u0441\u0442\u0435\u0439\u0448\u0438\u0439 \u0441 \u0438\u043d\u0442\u0435\u043d\u0441\u0438\u0432\u043d\u043e\u0441\u0442\u044c\u044e $\\lambda$.\n\n\u041f\u0440\u0435\u0434\u0441\u0442\u0430\u0432\u0438\u0432 \u0434\u0430\u043d\u043d\u0443\u044e \u0441\u0438\u0441\u0442\u0435\u043c\u0443 \u043a\u0430\u043a \u043e\u0434\u043d\u043e\u043a\u0430\u043d\u0430\u043b\u044c\u043d\u0443\u044e \u0421\u041c\u041e \u0441 \u043d\u0435\u043e\u0433\u0440\u0430\u043d\u0438\u0447\u0435\u043d\u043d\u043e\u0439 \u043e\u0447\u0435\u0440\u0435\u0434\u044c\u044e,\n\u0432\u044b\u0447\u0438\u0441\u043b\u0438\u0442\u044c \u0441\u0440\u0435\u0434\u043d\u0435\u0435 \u0432\u0440\u0435\u043c\u044f \u043e\u0431\u0441\u043b\u0443\u0436\u0438\u0432\u0430\u043d\u0438\u044f \u043f\u0440\u043e\u0433\u0440\u0430\u043c\u043c, \u0441\u0447\u0438\u0442\u0430\u044f \u0434\u043b\u0438\u0442\u0435\u043b\u044c\u043d\u043e\u0441\u0442\u044c\n\u043e\u0431\u0441\u043b\u0443\u0436\u0438\u0432\u0430\u043d\u0438\u044f \u0441\u043b\u0443\u0447\u0430\u0439\u043d\u043e\u0439 \u0432\u0435\u043b\u0438\u0447\u0438\u043d\u043e\u0439 (\u0442\u0435\u043e\u0440\u0435\u0442\u0438\u0447\u0435\u0441\u043a\u0438 \u0438 \u044d\u043a\u0441\u043f\u0435\u0440\u0438\u043c\u0435\u043d\u0442\u0430\u043b\u044c\u043d\u043e).\n\n\u0420\u0435\u0430\u043b\u0438\u0437\u043e\u0432\u0430\u0442\u044c \u0430\u043b\u0433\u043e\u0440\u0438\u0442\u043c SPT, \u0432\u044b\u0431\u0438\u0440\u0430\u044f \u0438\u0437 \u043e\u0447\u0435\u0440\u0435\u0434\u0438 \u0437\u0430\u044f\u0432\u043a\u0438 \u0432 \u0441\u043e\u043e\u0442\u0432\u0435\u0442\u0441\u0442\u0432\u0438\u0438 \u0441 \u0438\u0445\n\u043f\u0440\u0438\u043e\u0440\u0438\u0442\u0435\u0442\u043e\u043c \u043f\u043e \u0442\u0440\u0443\u0434\u043e\u0435\u043c\u043a\u043e\u0441\u0442\u0438. \u0420\u0430\u0441\u0441\u0447\u0438\u0442\u0430\u0442\u044c \u0441\u0440\u0435\u0434\u043d\u0435\u0435 \u0432\u0440\u0435\u043c\u044f \u043e\u0431\u0441\u043b\u0443\u0436\u0438\u0432\u0430\u043d\u0438\u044f \u043f\u0440\u043e\u0433\u0440\u0430\u043c\u043c.\n\u0421\u0440\u0430\u0432\u043d\u0438\u0442\u044c \u043f\u043e\u043b\u0443\u0447\u0435\u043d\u043d\u044b\u0435 \u0440\u0435\u0437\u0443\u043b\u044c\u0442\u0430\u0442\u044b.\n\n\u0420\u0435\u0430\u043b\u0438\u0437\u043e\u0432\u0430\u0442\u044c \u0430\u043b\u0433\u043e\u0440\u0438\u0442\u043c RR \u043f\u0440\u0438 \u0437\u0430\u0434\u0430\u043d\u043d\u043e\u043c \u043a\u0432\u0430\u043d\u0442\u0435 \u0432\u0440\u0435\u043c\u0435\u043d\u0438 $q$. \u041e\u0446\u0435\u043d\u0438\u0442\u044c \u0441\u0440\u0435\u0434\u043d\u0435\u0435 \u0432\u0440\u0435\u043c\u044f\n\u043e\u0431\u0441\u043b\u0443\u0436\u0438\u0432\u0430\u043d\u0438\u044f \u043f\u0440\u043e\u0433\u0440\u0430\u043c\u043c. \u0421\u0440\u0430\u0432\u043d\u0438\u0442\u044c \u043f\u043e\u043b\u0443\u0447\u0435\u043d\u043d\u044b\u0435 \u0440\u0435\u0437\u0443\u043b\u044c\u0442\u0430\u0442\u044b. \u0412\u044b\u044f\u0441\u043d\u0438\u0442\u044c, \u043a\u0430\u043a \u0432\u043b\u0438\u044f\u0435\u0442\n\u0432\u0435\u043b\u0438\u0447\u0438\u043d\u0430 \u043a\u0432\u0430\u043d\u0442\u0430 \u043d\u0430 \u0441\u0440\u0435\u0434\u043d\u0435\u0435 \u0432\u0440\u0435\u043c\u044f \u043e\u0431\u0441\u043b\u0443\u0436\u0438\u0432\u0430\u043d\u0438\u044f \u043f\u0440\u043e\u0433\u0440\u0430\u043c\u043c."
        },
        {
            "cell_type": "code",
            "execution_count": null,
            "metadata": {
                "trusted": true
            },
            "outputs": [],
            "source": "Variant <- 5\nset.seed(Variant)\nm <- sample(c(6:20), 1)\nlambda <- runif(1, 0.1, 2)\nQ <- rexp(m, 0.3)\nq <- sample(c(1:4), 1)\nView(data.frame(m, q, lambda))\nprint(Q)"
        },
        {
            "cell_type": "markdown",
            "metadata": {},
            "source": "### \u0421\u041c\u041e \u0432\u0438\u0434\u0430 $\u041c/\u041c/1/\\infty$\n\u041f\u0440\u0435\u0434\u0441\u0442\u0430\u0432\u0438\u043c \u0434\u0430\u043d\u043d\u0443\u044e \u0441\u0438\u0441\u0442\u0435\u043c\u0443 \u043a\u0430\u043a \u043e\u0434\u043d\u043e\u043a\u0430\u043d\u0430\u043b\u044c\u043d\u0443\u044e \u0421\u041c\u041e \u0441 \u043d\u0435\u043e\u0433\u0440\u0430\u043d\u0438\u0447\u0435\u043d\u043d\u043e\u0439 \u043e\u0447\u0435\u0440\u0435\u0434\u044c\u044e.\n\n#### \u0422\u0435\u043e\u0440\u0435\u0442\u0438\u0447\u0435\u0441\u043a\u0438\n#### \u0427\u0438\u0441\u043b\u0435\u043d\u043d\u043e"
        },
        {
            "cell_type": "markdown",
            "metadata": {},
            "source": "### \u0410\u043b\u0433\u043e\u0440\u0438\u0442\u043c SPT\n\n#### \u0422\u0435\u043e\u0440\u0435\u0442\u0438\u0447\u0435\u0441\u043a\u0438\n\u0421\u0440\u0435\u0434\u043d\u0435\u0435 \u0432\u0440\u0435\u043c\u044f \u043e\u0431\u0441\u043b\u0443\u0436\u0438\u0432\u0430\u043d\u0438\u044f \u0441\u043a\u043b\u0430\u0434\u044b\u0432\u0430\u0435\u0442\u0441\u044f \u0438\u0437 \u043e\u0436\u0438\u0434\u0430\u043d\u0438\u044f \u0432 \u043e\u0447\u0435\u0440\u0435\u0434\u0438 \u0438 \u0432\u0440\u0435\u043c\u0435\u043d\u0438\n\u0432\u044b\u043f\u043e\u043b\u043d\u0435\u043d\u0438\u044f, \u0443\u0441\u0440\u0435\u0434\u043d\u0435\u043d\u043d\u044b\u043c \u043f\u043e \u0432\u0441\u0435\u043c \u0437\u0430\u044f\u0432\u043a\u0430\u043c:\n$$\nT_{\\text{\u0441\u0438\u0441\u0442}} = \\frac{1}{m} \\left( Q'_1 + \\left( Q'_1 + Q'_2 \\right) +\n\\left(Q'_1 + Q'_2 + Q'_3 \\right) + \\dots + \\sum^m_{i = 1}Q'_i \\right)\n$$\n\u0433\u0434\u0435 $Q'_i$ - $i$-\u0439 \u044d\u043b\u0435\u043c\u0435\u043d\u0442 \u043c\u0430\u0441\u0441\u0438\u0432\u0430 $Q'$,\n**\u043e\u0442\u0441\u043e\u0440\u0442\u0438\u0440\u043e\u0432\u0430\u043d\u043d\u043e\u0433\u043e \u043f\u043e \u0432\u043e\u0437\u0440\u0430\u0441\u0442\u0430\u043d\u0438\u044e** \u043c\u0430\u0441\u0441\u0438\u0432\u0430 Q."
        },
        {
            "cell_type": "code",
            "execution_count": null,
            "metadata": {
                "trusted": true
            },
            "outputs": [],
            "source": "Q_sorted <- sort(Q)\nQ_sorted"
        },
        {
            "cell_type": "markdown",
            "metadata": {},
            "source": "\u0421\u0443\u043c\u043c\u044b \u043f\u0435\u0440\u0432\u044b\u0445 i \u044d\u043b\u0435\u043c\u0435\u043d\u0442\u043e\u0432:"
        },
        {
            "cell_type": "code",
            "execution_count": null,
            "metadata": {
                "trusted": true
            },
            "outputs": [],
            "source": "Q_progression_sums <- lapply(\n    seq_along(Q_sorted),\n    function(i) sum(head(Q_sorted, i))\n)\nQ_progression_sums"
        },
        {
            "cell_type": "markdown",
            "metadata": {},
            "source": "\u0418\u0442\u043e\u0433\u043e\u0432\u0430\u044f \u0441\u0443\u043c\u043c\u0430"
        },
        {
            "cell_type": "code",
            "execution_count": null,
            "metadata": {
                "trusted": true
            },
            "outputs": [],
            "source": "sum_of_Q_progression_sums <- sum(unlist(Q_progression_sums))\nsum_of_Q_progression_sums"
        },
        {
            "cell_type": "code",
            "execution_count": null,
            "metadata": {
                "trusted": true
            },
            "outputs": [],
            "source": "T_spt <- 1 / m * sum_of_Q_progression_sums\nT_spt"
        },
        {
            "cell_type": "markdown",
            "metadata": {},
            "source": "#### \u0427\u0438\u0441\u043b\u0435\u043d\u043d\u043e"
        },
        {
            "cell_type": "markdown",
            "metadata": {},
            "source": "### \u0410\u043b\u0433\u043e\u0440\u0438\u0442\u043c Round Robin\n\u0420\u0435\u0430\u043b\u0438\u0437\u0443\u0435\u043c round robin."
        },
        {
            "cell_type": "code",
            "execution_count": null,
            "metadata": {
                "trusted": true
            },
            "outputs": [],
            "source": "N <- 10000\nprograms <- sample(Q, N, replace = TRUE)\nprograms"
        },
        {
            "cell_type": "code",
            "execution_count": null,
            "metadata": {
                "trusted": true
            },
            "outputs": [],
            "source": "time <- 0\n\ntask_schedule <- programs\n\nwhile (length(task_schedule) > 0) {\n    time <- time + q\n    task_schedule[1] <- task_schedule[1] - q\n\n    if (task_schedule[1] <= 0) {\n        task_schedule <- tail(task_schedule, length(task_schedule) - 1)\n    }\n}\n\ntime / N"
        },
        {
            "cell_type": "code",
            "execution_count": null,
            "metadata": {
                "trusted": true
            },
            "outputs": [],
            "source": "if (!require(\"simmer\")) {\n    install.packages(\"simmer\")\n}\nlibrary(simmer)\n\nenv <- simmer(\"SuperDuperSim\")\nenv"
        },
        {
            "cell_type": "code",
            "execution_count": null,
            "metadata": {
                "trusted": true
            },
            "outputs": [],
            "source": "programs <- trajectory(\"programs' path\") %>%\n    select(paste0(\"doctor\", 1:3), \"round-robin\") %>%\n    seize_selected(1) %>%\n    timeout(5) %>%\n    release_selected(1)"
        },
        {
            "cell_type": "code",
            "execution_count": null,
            "metadata": {
                "trusted": true
            },
            "outputs": [],
            "source": "env %>%\n    add_resource(\"server\", 1) %>%\n    add_generator(\"programmers\", programs, function() rexp(1, k / t1))\nadd_generator(\"programmers\", programs, function() rexp(1, k / t1))"
        }
    ],
    "metadata": {
        "kernelspec": {
            "display_name": "R",
            "language": "R",
            "name": "ir"
        },
        "language_info": {
            "codemirror_mode": "r",
            "file_extension": ".r",
            "mimetype": "text/x-r-source",
            "name": "R",
            "pygments_lexer": "r",
            "version": "4.2.3"
        }
    },
    "nbformat": 4,
    "nbformat_minor": 5
}