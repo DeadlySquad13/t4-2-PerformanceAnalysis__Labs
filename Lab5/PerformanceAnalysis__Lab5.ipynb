{
    "cells": [
        {
            "cell_type": "markdown",
            "metadata": {},
            "source": "# \u041b\u0430\u0431\u043e\u0440\u0430\u0442\u043e\u0440\u043d\u0430\u044f \u0440\u0430\u0431\u043e\u0442\u0430 5. \u0420\u0435\u043a\u043e\u043c\u0435\u043d\u0434\u0430\u0446\u0438\u0438 \u043f\u043e \u0444\u043e\u0440\u043c\u0430\u043b\u0438\u0437\u0430\u0446\u0438\u0438 \u0438 \u0440\u0430\u0441\u0447\u0435\u0442\u0430\u043c \u0445\u0430\u0440\u0430\u043a\u0442\u0435\u0440\u0438\u0441\u0442\u0438\u043a \u043f\u043e\u0434\u0441\u0438\u0441\u0442\u0435\u043c \u041a\u0418\u0421 \u0432 \u0432\u0438\u0434\u0435 \u0440\u0430\u0437\u043e\u043c\u043a\u043d\u0443\u0442\u044b\u0445 \u0438\u043b\u0438 \u0437\u0430\u043c\u043a\u043d\u0443\u0442\u044b\u0445 \u0441\u0442\u043e\u0445\u0430\u0441\u0442\u0438\u0447\u0435\u0441\u043a\u0438\u0445 \u043c\u043e\u0434\u0435\u043b\u0435\u0439\n## \u0417\u0430\u0434\u0430\u043d\u0438\u0435 1\n\n\u0414\u043b\u044f \u043e\u0434\u043d\u043e\u043a\u0430\u043d\u0430\u043b\u044c\u043d\u043e\u0439 \u0441\u0438\u0441\u0442\u0435\u043c\u044b \u043c\u0430\u0441\u0441\u043e\u0432\u043e\u0433\u043e \u043e\u0431\u0441\u043b\u0443\u0436\u0438\u0432\u0430\u043d\u0438\u044f \u0441 \u043e\u0433\u0440\u0430\u043d\u0438\u0447\u0435\u043d\u0438\u0435\u043c \u043d\u0430 \u0434\u043b\u0438\u043d\u0443\n\u043e\u0447\u0435\u0440\u0435\u0434\u0438 $m$ \u0441\u043e\u0441\u0442\u0430\u0432\u044c\u0442\u0435 \u0434\u0438\u0444\u0444\u0435\u0440\u0435\u043d\u0446\u0438\u0430\u043b\u044c\u043d\u044b\u0435 \u0443\u0440\u0430\u0432\u043d\u0435\u043d\u0438\u044f \u0434\u043b\u044f \u0432\u0435\u0440\u043e\u044f\u0442\u043d\u043e\u0441\u0442\u0435\u0439 \u043d\u0430\u0445\u043e\u0436\u0434\u0435\u043d\u0438\u044f\n\u0432 \u0437\u0430\u0434\u0430\u043d\u043d\u044b\u0445 \u0441\u043e\u0441\u0442\u043e\u044f\u043d\u0438\u044f\u0445 \u0432 \u0437\u0430\u0432\u0438\u0441\u0438\u043c\u043e\u0441\u0442\u0438 \u043e\u0442 \u0432\u0440\u0435\u043c\u0435\u043d\u0438. \u041d\u0430\u0439\u0434\u0438\u0442\u0435 \u044d\u0442\u0438 \u0432\u0435\u0440\u043e\u044f\u0442\u043d\u043e\u0441\u0442\u0438 \u043f\u0440\u0438\n\u043e\u043f\u0440\u0435\u0434\u0435\u043b\u0435\u043d\u043d\u043e\u043c \u0432 \u0441\u043e\u043e\u0442\u0432\u0435\u0442\u0441\u0442\u0432\u0438\u0438 \u0441 \u0432\u0430\u0440\u0438\u0430\u043d\u0442\u043e\u043c \u0437\u043d\u0430\u0447\u0435\u043d\u0438\u0438 $t$, \u0430 \u0442\u0430\u043a\u0436\u0435 \u043f\u0440\u0438 $t\n\\xrightarrow{} 0$. \u041a\u0430\u043d\u0430\u043b \u0438\u043d\u043e\u0433\u0434\u0430 \u043c\u043e\u0436\u0435\u0442 \u0432\u044b\u0445\u043e\u0434\u0438\u0442\u044c \u0438\u0437 \u0441\u0442\u0440\u043e\u044f. \u0417\u0430\u044f\u0432\u043a\u0430, \u043a\u043e\u0442\u043e\u0440\u0430\u044f\n\u043e\u0431\u0441\u043b\u0443\u0436\u0438\u0432\u0430\u0435\u0442\u0441\u044f \u0432 \u043c\u043e\u043c\u0435\u043d\u0442 \u043e\u0442\u043a\u0430\u0437\u0430 \u043a\u0430\u043d\u0430\u043b\u0430 \u0441\u0442\u0430\u0432\u0438\u0442\u0441\u044f \u0432 \u043e\u0447\u0435\u0440\u0435\u0434\u044c, \u0435\u0441\u043b\u0438 \u0442\u0430\u043c \u0435\u0441\u0442\u044c \u043c\u0435\u0441\u0442\u0430,\n\u0432 \u043f\u0440\u043e\u0442\u0438\u0432\u043d\u043e\u043c \u0441\u043b\u0443\u0447\u0430\u0435 \u043e\u043d\u0430 \u043f\u043e\u043a\u0438\u0434\u0430\u0435\u0442 \u0441\u0438\u0441\u0442\u0435\u043c\u0443 \u043d\u0435\u043e\u0431\u0441\u043b\u0443\u0436\u0435\u043d\u043d\u043e\u0439. \u0412\u0445\u043e\u0434\u044f\u0449\u0438\u0439 \u043f\u043e\u0442\u043e\u043a, \u043f\u043e\u0442\u043e\u043a\n\u043e\u0431\u0441\u043b\u0443\u0436\u0438\u0432\u0430\u043d\u0438\u044f, \u043f\u043e\u0442\u043e\u043a \u043e\u0442\u043a\u0430\u0437\u043e\u0432 \u0438 \u043f\u043e\u0442\u043e\u043a \u0432\u043e\u0441\u0441\u0442\u0430\u043d\u043e\u0432\u043b\u0435\u043d\u0438\u044f \u043f\u0440\u043e\u0441\u0442\u0435\u0439\u0448\u0438\u0435\n\u0441 \u0441\u043e\u043e\u0442\u0432\u0435\u0442\u0441\u0442\u0432\u0443\u044e\u0449\u0438\u043c\u0438 \u0438\u043d\u0442\u0435\u043d\u0441\u0438\u0432\u043d\u043e\u0441\u0442\u044f\u043c\u0438 $\\lambda, \\mu, \\nu, \\gamma$. \u041a\u043e\u043b\u0438\u0447\u0435\u0441\u0442\u0432\u043e\n\u043a\u043b\u0438\u0435\u043d\u0442\u043e\u0432, \u043e\u0442 \u043a\u043e\u0442\u043e\u0440\u044b\u0445 \u043c\u043e\u0433\u0443\u0442 \u043f\u043e\u0441\u0442\u0443\u043f\u0430\u0442\u044c \u0437\u0430\u044f\u0432\u043a\u0438 \u043d\u0430 \u043e\u0431\u0441\u043b\u0443\u0436\u0438\u0432\u0430\u043d\u0438\u0435 $k$. \u041d\u0430\u0447\u0430\u043b\u044c\u043d\u044b\u0435\n\u0443\u0441\u043b\u043e\u0432\u0438\u044f $P_0(0) = 1$."
        },
        {
            "cell_type": "code",
            "execution_count": null,
            "metadata": {
                "trusted": true
            },
            "outputs": [],
            "source": "Variant <- 5\nset.seed(Variant)\nm <- sample(c(4:18), 1)\n\nmu <- runif(1)\n\nlambda <- runif(1)\nif (lambda > mu) {\n    current <- lambda\n    lambda <- mu\n    mu <- current\n}\n\ngamma <- runif(1)\n\nnu <- runif(1)\n\nif (gamma < nu) {\n    current <- nu\n    nu <- gamma\n    gamma <- current\n}\n\nif (sample(c(0:1), 1)) {\n    k <- sample(c(4:7), 1)\n} else {\n    k <- \"inf\"\n}\nt <- runif(1)\nView(data.frame(lambda, mu, nu, gamma, k, m, t))"
        },
        {
            "cell_type": "markdown",
            "metadata": {},
            "source": "\u0412\u0432\u0435\u0434\u0435\u043c \u0441\u043b\u0435\u0434\u0443\u044e\u0449\u0438\u0435 \u0441\u043e\u0441\u0442\u043e\u044f\u043d\u0438\u044f:\n- $S_0$ - \u043d\u0435\u0442 \u0432\u044b\u043f\u043e\u043b\u043d\u044f\u0435\u043c\u044b\u0445 \u0437\u0430\u0434\u0430\u0447, \u0421\u041c\u041e \u0433\u043e\u0442\u043e\u0432\u0430 \u0432\u044b\u043f\u043e\u043b\u043d\u044f\u0442\u044c \u0432\u043d\u0435\u0448\u043d\u0438\u0435 \u0437\u0430\u0434\u0430\u0447\u0438;\n- $S_1$ - \u0421\u041c\u041e \u0437\u0430\u043d\u044f\u0442\u0430 \u0432\u044b\u043f\u043e\u043b\u043d\u0435\u043d\u0438\u0435\u043c \u0432\u043d\u0435\u0448\u043d\u0435\u0439 \u0437\u0430\u0434\u0430\u0447\u0438, \u043e\u0447\u0435\u0440\u0435\u0434\u0438 \u043d\u0435\u0442;\n- $S_2$ - \u0421\u041c\u041e \u0437\u0430\u043d\u044f\u0442\u0430 \u0432\u044b\u043f\u043e\u043b\u043d\u0435\u043d\u0438\u0435\u043c \u0432\u043d\u0435\u0448\u043d\u0435\u0439 \u0437\u0430\u0434\u0430\u0447\u0438, \u0432 \u043e\u0447\u0435\u0440\u0435\u0434\u0438 \u043e\u0434\u043d\u0430 \u0437\u0430\u0434\u0430\u0447\u0430;\n- ...\n- $S_m$ - \u0421\u041c\u041e \u0437\u0430\u043d\u044f\u0442\u0430 \u0432\u044b\u043f\u043e\u043b\u043d\u0435\u043d\u0438\u0435\u043c \u0432\u043d\u0435\u0448\u043d\u0435\u0439 \u0437\u0430\u0434\u0430\u0447\u0438, \u0432 \u043e\u0447\u0435\u0440\u0435\u0434\u0438 $m$ \u0437\u0430\u0434\u0430\u0447;\n- $S_{m+1}$ - \u0421\u041c\u041e \u0432\u044b\u0448\u043b\u0430 \u0438\u0437 \u0441\u0442\u0440\u043e\u044f, \u0432 \u043e\u0447\u0435\u0440\u0435\u0434\u0438 \u043d\u0435\u0442 \u0437\u0430\u0434\u0430\u0447;\n- $S_{m+2}$ - \u0421\u041c\u041e \u0432\u044b\u0448\u043b\u0430 \u0438\u0437 \u0441\u0442\u0440\u043e\u044f, \u0432 \u043e\u0447\u0435\u0440\u0435\u0434\u0438 \u043e\u0434\u043d\u0430 \u0437\u0430\u0434\u0430\u0447\u0430;\n- ...\n- $S_{2m}$ - \u0421\u041c\u041e \u0432\u044b\u0448\u043b\u0430 \u0438\u0437 \u0441\u0442\u0440\u043e\u044f, \u0432 \u043e\u0447\u0435\u0440\u0435\u0434\u0438 m \u0437\u0430\u0434\u0430\u0447."
        },
        {
            "cell_type": "markdown",
            "metadata": {},
            "source": "\u0422\u043e\u0433\u0434\u0430 \u0433\u0440\u0430\u0444 \u0441\u043e\u0441\u0442\u043e\u044f\u043d\u0438\u0439 \u0431\u0443\u0434\u0435\u0442 \u0432\u044b\u0433\u043b\u044f\u0434\u0435\u0442\u044c:\n![graph](./State_graph.png)\n\u0412 \u0431\u0438\u0440\u044e\u0437\u043e\u0432\u043e\u043c \u043a\u043b\u0430\u0441\u0442\u0435\u0440\u0435 \u043d\u0430\u0445\u043e\u0434\u044f\u0442\u0441\u044f \u0441\u043e\u0441\u0442\u043e\u044f\u043d\u0438\u044f, \u043a\u043e\u0433\u0434\u0430 \u0421\u041c\u041e \u0432 \u0440\u0430\u0431\u043e\u0447\u0435\u043c \u0441\u043e\u0441\u0442\u043e\u044f\u043d\u0438\u0438.\n\u0412 \u0437\u0435\u043b\u0435\u043d\u043e\u043c - \u043a\u043e\u0433\u0434\u0430 \u0432\u044b\u0448\u043b\u0430 \u0438\u0437 \u0441\u0442\u0440\u043e\u044f."
        },
        {
            "cell_type": "markdown",
            "metadata": {},
            "source": "\u041f\u043e \u0433\u0440\u0430\u0444\u0443 \u0441\u043e\u0441\u0442\u0430\u0432\u0438\u043c \u0443\u0440\u0430\u0432\u043d\u0435\u043d\u0438\u044f \u041a\u043e\u043b\u043c\u043e\u0433\u043e\u0440\u043e\u0432\u0430:\n$$\n\\begin{cases}\n\\frac{dP_0(t)}{dt} = -(\\lambda + \\nu)P_0(t) + \\mu\\cdot P_1(t) + \\gamma \\cdot P_6(t) \\\\\n\\frac{dP_1(t)}{dt} = -(\\lambda + \\nu + \\mu)P_1(t) + \\lambda \\cdot P_0(t) + \\mu \\cdot P_2(t) + \\gamma \\cdot P_7(t) \\\\\n\\frac{dP_2(t)}{dt} = -(\\lambda + \\nu + \\mu)P_2(t) + \\lambda \\cdot P_1(t) + \\mu \\cdot P_3(t) + \\gamma \\cdot P_8(t) \\\\\n\\frac{dP_3(t)}{dt} = -(\\lambda + \\nu + \\mu)P_3(t) + \\lambda \\cdot P_2(t) + \\mu \\cdot P_4(t) + \\gamma \\cdot P_9(t) \\\\\n\\frac{dP_4(t)}{dt} = -(\\lambda + \\nu + \\mu)P_4(t) + \\lambda \\cdot P_3(t) + \\mu \\cdot P_5(t) + \\gamma \\cdot P_{10}(t) \\\\\n\\frac{dP_5(t)}{dt} = -(\\nu + \\mu)P_5(t) + \\lambda \\cdot P_4(t) \\\\\n\\frac{dP_6(t)}{dt}  = -(\\gamma + \\lambda)P_6(t) + \\nu \\cdot P_0(t) \\\\\n\\frac{dP_7(t)}{dt}  = -(\\gamma + \\lambda)P_7(t) + \\lambda \\cdot P_6(t) + \\nu \\cdot P_1(t) \\\\\n\\frac{dP_8(t)}{dt}  = -(\\gamma + \\lambda)P_8(t) + \\lambda \\cdot P_7(t) + \\nu \\cdot P_2(t) \\\\\n\\frac{dP_9(t)}{dt}  = -(\\gamma + \\lambda)P_9(t) + \\lambda \\cdot P_{8}(t) + \\nu \\cdot P_3(t) \\\\\n\\frac{dP_{10}(t)}{dt} = -\\gamma \\cdot P_{10}(t) + \\lambda \\cdot P_{9}(t) + \\nu \\cdot P_4(t) + \\nu \\cdot P_5(t)\n\\end{cases}\n$$\n\n\u0438 \u0443\u0440\u0430\u0432\u043d\u0435\u043d\u0438\u0435 \u043d\u043e\u0440\u043c\u0438\u0440\u043e\u0432\u043a\u0438:\n$$\nP_0(t) + P_1(t) + P_2(t) + P_3(t) + P_4(t) + P_5(t) + P_6(t) + P_7(t) + P_8(t) + P_9(t) + P_{10}(t) = 1\n$$"
        },
        {
            "cell_type": "markdown",
            "metadata": {},
            "source": "\u0420\u0435\u0448\u0438\u043c \u044d\u0442\u0438 \u0443\u0440\u0430\u0432\u043d\u0435\u043d\u0438\u044f \u0441 \u043f\u043e\u043c\u043e\u0449\u044c\u044e \u043f\u0430\u043a\u0435\u0442\u0430 deSolve\n(\u0441\u043c. 75 \u0441\u0442\u0440. [\u0434\u043e\u043a\u0443\u043c\u0435\u043d\u0442\u0430\u0446\u0438\u0438](chrome-extension://gfbliohnnapiefjpjlpjnehglfpaknnc/pages/pdf_viewer.html?r=https://cran.r-project.org/web/packages/deSolve/deSolve.pdf)):"
        },
        {
            "cell_type": "code",
            "execution_count": null,
            "metadata": {
                "trusted": true
            },
            "outputs": [],
            "source": "if (!require(\"deSolve\")) {\n    install.packages(\"deSolve\")\n}\nlibrary(deSolve)\n\node_system_equations <- function(Time, State, Pars) {\n    with(as.list(c(State, Pars)), {\n        dP_0 <- -(lambda + nu) * P_0 + mu * P_1 + gamma * P_6\n        dP_1 <- -(lambda + nu + mu) * P_1 + lambda * P_0 + mu * P_2 + gamma * P_7\n        dP_2 <- -(lambda + nu + mu) * P_2 + lambda * P_1 + mu * P_3 + gamma * P_8\n        dP_3 <- -(lambda + nu + mu) * P_3 + lambda * P_2 + mu * P_4 + gamma * P_9\n        dP_4 <- -(lambda + nu + mu) * P_4 + lambda * P_3 + mu * P_5 + gamma * P_10\n        dP_5 <- -(nu + mu) * P_5 + lambda * P_4\n        dP_6 <- -(gamma + lambda) * P_6 + nu * P_0\n        dP_7 <- -(gamma + lambda) * P_6 + lambda * P_5 + nu * P_0\n        dP_8 <- -(gamma + lambda) * P_7 + lambda * P_6 + nu * P_1\n        dP_8 <- -(gamma + lambda) * P_8 + lambda * P_7 + nu * P_2\n        dP_9 <- -(gamma + lambda) * P_9 + lambda * P_8 + nu * P_3\n        dP_10 <- -gamma * P_10 + lambda * P_9 + nu * P_4 + nu * P_5\n\n        # Specifying list of derivatives.\n        return(\n            list(\n                c(dP_0, dP_1, dP_2, dP_3, dP_4, dP_5, dP_6, dP_7, dP_8, dP_9, dP_10)\n            )\n        )\n    })\n}"
        },
        {
            "cell_type": "code",
            "execution_count": null,
            "metadata": {
                "trusted": true
            },
            "outputs": [],
            "source": "pars <- c(norm_equation = 1)\nyini <- c(\n    P_0 = 1,\n    P_1 = 0,\n    P_2 = 0,\n    P_3 = 0,\n    P_4 = 0,\n    P_5 = 0,\n    P_6 = 0,\n    P_7 = 0,\n    P_8 = 0,\n    P_9 = 0,\n    P_10 = 0\n)\n\nACCURACY <- 0.001\ntimes <- seq(0, 1, by = ACCURACY)\noutput <- ode(yini, times, ode_system_equations, pars)\noutput"
        },
        {
            "cell_type": "markdown",
            "metadata": {},
            "source": "\u0412\u044b\u0447\u0438\u0441\u043b\u0438\u043c \u0438\u043d\u0434\u0435\u043a\u0441 \u0441\u0442\u0440\u043e\u043a\u0438, \u043a\u043e\u0442\u043e\u0440\u0443\u044e \u043d\u0443\u0436\u043d\u043e \u0432\u0437\u044f\u0442\u044c \u0434\u043b\u044f \u043f\u043e\u043b\u0443\u0447\u0435\u043d\u0438\u044f \u0440\u0435\u0437\u0443\u043b\u044c\u0442\u0430\u0442\u0430 \u043f\u0440\u0438\n\u0437\u0430\u0434\u0430\u043d\u043e\u043c \u0432 \u0443\u0441\u043b\u043e\u0432\u0438\u0438 $t$:"
        },
        {
            "cell_type": "code",
            "execution_count": null,
            "metadata": {
                "trusted": true
            },
            "outputs": [],
            "source": "PRECISION_OF_ACCURACY <- 3\nt_index <- round(t, PRECISION_OF_ACCURACY) * 10^PRECISION_OF_ACCURACY + 1\nprint(t_index)\nresults <- output[t_index, 1:12]\nresults"
        },
        {
            "cell_type": "code",
            "execution_count": null,
            "metadata": {
                "trusted": true
            },
            "outputs": [],
            "source": "# index - index of P.\nget_P <- function(index) {\n    return(as.numeric(results)[2 + index])\n}"
        },
        {
            "cell_type": "markdown",
            "metadata": {},
            "source": "### \u0412\u0435\u0440\u043e\u044f\u0442\u043d\u043e\u0441\u0442\u044c \u043f\u0440\u043e\u0441\u0442\u043e\u044f\n\u0412\u0435\u0440\u043e\u044f\u0442\u043d\u043e\u0441\u0442\u044c \u043f\u0440\u043e\u0441\u0442\u043e\u044f \u0440\u0430\u0432\u043d\u0430 $P_0$:"
        },
        {
            "cell_type": "code",
            "execution_count": null,
            "metadata": {
                "trusted": true
            },
            "outputs": [],
            "source": "get_P(0)"
        },
        {
            "cell_type": "markdown",
            "metadata": {},
            "source": "### \u0412\u0435\u0440\u043e\u044f\u0442\u043d\u043e\u0441\u0442\u044c \u043e\u0431\u0440\u0430\u0437\u043e\u0432\u0430\u043d\u0438\u044f \u043e\u0447\u0435\u0440\u0435\u0434\u0438\n\u0412\u0435\u0440\u043e\u044f\u0442\u043d\u043e\u0441\u0442\u044c \u043e\u0431\u0440\u0430\u0437\u043e\u0432\u0430\u043d\u0438\u044f \u043e\u0447\u0435\u0440\u0435\u0434\u0438 $P_{\\text{\u043e\u0447}}$ \u0440\u0430\u0432\u043d\u0430 \u043e\u0431\u0440\u0430\u0442\u043d\u043e\u0439 \u0432\u0435\u0440\u043e\u044f\u0442\u043d\u043e\u0441\u0442\u0438 $P_{\\overline{\\text{\u043e\u0447}}}$.\n\u0422\u0430, \u0432 \u0441\u0432\u043e\u044e \u043e\u0447\u0435\u0440\u0435\u0434\u044c, \u0440\u0430\u0432\u043d\u0430 \u0441\u0443\u043c\u043c\u0435 \u0432\u0435\u0440\u043e\u044f\u0442\u043d\u043e\u0441\u0442\u0435\u0439, \u0441\u043e\u043e\u0442\u0432\u0435\u0442\u0441\u0442\u0432\u0443\u044e\u0449\u0438\u0445 \u0441\u043e\u0441\u0442\u043e\u044f\u043d\u0438\u044f\u043c,\n\u0432 \u043a\u043e\u0442\u043e\u0440\u044b\u0445 \u043e\u0447\u0435\u0440\u0435\u0434\u044c \u043f\u0443\u0441\u0442\u0430.\n$$\nP_{\\text{\u043e\u0447}} = 1 - P_{\\overline{\\text{\u043e\u0447}}} = 1 - (P_0 + P_1 + P_{m + 1})\n$$"
        },
        {
            "cell_type": "code",
            "execution_count": null,
            "metadata": {
                "trusted": true
            },
            "outputs": [],
            "source": "1 - get_P(0) + get_P(1) + get_P(m + 1)"
        },
        {
            "cell_type": "markdown",
            "metadata": {},
            "source": "### \u0410\u0431\u0441\u043e\u043b\u044e\u0442\u043d\u0443\u044e \u043f\u0440\u043e\u043f\u0443\u0441\u043a\u043d\u0443\u044e \u0441\u043f\u043e\u0441\u043e\u0431\u043d\u043e\u0441\u0442\u044c\n \u0410\u0431\u0441\u043e\u043b\u044e\u0442\u043d\u0443\u044e \u043f\u0440\u043e\u043f\u0443\u0441\u043a\u043d\u0443\u044e \u0441\u043f\u043e\u0441\u043e\u0431\u043d\u043e\u0441\u0442\u044c \u0432\u044b\u0447\u0438\u0441\u043b\u0438\u043c \u043f\u043e \u0444\u043e\u0440\u043c\u0443\u043b\u0435:\n$$\n\\lambda'=\\lambda\\cdot(1-P_m(t)-P_{2m}(t))\n$$"
        },
        {
            "cell_type": "code",
            "execution_count": null,
            "metadata": {
                "trusted": true
            },
            "outputs": [],
            "source": "absolute_flow_capacity <- lambda * (1 - get_P(m) - get_P(2 * m))\nabsolute_flow_capacity"
        },
        {
            "cell_type": "markdown",
            "metadata": {},
            "source": "### \u0421\u0440\u0435\u0434\u043d\u044e\u044e \u0434\u043b\u0438\u043d\u0443 \u043e\u0447\u0435\u0440\u0435\u0434\u0438\n\u0414\u043b\u044f \u0432\u044b\u0447\u0438\u0441\u043b\u0435\u043d\u0438\u044f \u0441\u0440\u0435\u0434\u043d\u0435\u0439 \u0434\u043b\u0438\u043d\u044b \u043e\u0447\u0435\u0440\u0435\u0434\u0438 \u043f\u0440\u043e\u0441\u0443\u043c\u043c\u0438\u0440\u0443\u0435\u043c \u043f\u0440\u043e\u0438\u0437\u0432\u0435\u0434\u0435\u043d\u0438\u044f \u0432\u0435\u0440\u043e\u044f\u0442\u043d\u043e\u0441\u0442\u0435\u0439\n\u043d\u0430 \u0441\u043e\u043e\u0442\u0432\u0435\u0442\u0441\u0442\u0432\u0443\u044e\u0449\u0438\u0435 \u044d\u0442\u0438\u043c \u0432\u0435\u0440\u043e\u044f\u0442\u043d\u043e\u0441\u0442\u044f\u043c \u0434\u043b\u0438\u043d\u044b \u043e\u0447\u0435\u0440\u0435\u0434\u0435\u0439.\n$$\nL_{\\text{\u043e\u0447}} = 1 \\cdot P_2(t) + 2 \\cdot P_3(t) + 3 \\cdot P_4(t) + \\text{...} + (m-1) \\cdot P_m\n+ 1 \\cdot P_{m+2}(t) + 2 \\cdot P_{m+3}(t) + \\text{...} + (m - 1) \\cdot P_{2m}(t)\n$$"
        },
        {
            "cell_type": "code",
            "execution_count": null,
            "metadata": {
                "trusted": true
            },
            "outputs": [],
            "source": "# \u041f\u043e\u043b\u0443\u0447\u0430\u0435\u043c \u0434\u043b\u0438\u043d\u0443 \u043e\u0447\u0435\u0440\u0435\u0434\u0438 \u0432 \u0441\u0438\u0441\u0442\u0435\u043c\u0435 \u0434\u043b\u044f \u0437\u0430\u0434\u0430\u043d\u043d\u043e\u0433\u043e \u0438\u043d\u0434\u0435\u043a\u0441\u0430 \u0432\u0435\u0440\u043e\u044f\u0442\u043d\u043e\u0441\u0442\u0438.\nP.get_queue_length <- function(P_index) {\n    if (P_index < 1) {\n        return(0)\n    }\n\n    if (P_index <= m) {\n        return(P_index - 1)\n    }\n\n    return(P_index - m - 1)\n}\n\nP.get_product <- function(P_index) {\n    return(get_P(P_index) * P.get_queue_length(P_index))\n}\n\nmean_length <- sum(unlist(\n    lapply(c(2:m), P.get_product)\n)) + sum(unlist(\n    lapply(c((m + 2):(2 * m)), P.get_product)\n))\nmean_length\n\n\n# ### \u0421\u0440\u0435\u0434\u043d\u0435\u0435 \u0432\u0440\u0435\u043c\u044f \u043d\u0430\u0445\u043e\u0436\u0434\u0435\u043d\u0438\u044f \u0432 \u043e\u0447\u0435\u0440\u0435\u0434\u0438\n# $$\n# W_{\\text{\u043e\u0447}}=\\frac{L_{\\text{\u043e\u0447}}}{\\lambda'}\n# $$"
        },
        {
            "cell_type": "code",
            "execution_count": null,
            "metadata": {
                "trusted": true
            },
            "outputs": [],
            "source": "mean_length / absolute_flow_capacity"
        },
        {
            "cell_type": "markdown",
            "metadata": {},
            "source": "### \u0421\u0440\u0435\u0434\u043d\u0435\u0435 \u0447\u0438\u0441\u043b\u043e \u0437\u0430\u044f\u0432\u043e\u043a \u0432 \u0441\u0438\u0441\u0442\u0435\u043c\u0435\n\u0414\u043b\u044f \u0432\u044b\u0447\u0438\u0441\u043b\u0435\u043d\u0438\u044f \u0441\u0440\u0435\u0434\u043d\u0435\u0439 \u0434\u043b\u0438\u043d\u044b \u043e\u0447\u0435\u0440\u0435\u0434\u0438 \u043f\u0440\u043e\u0441\u0443\u043c\u043c\u0438\u0440\u0443\u0435\u043c \u043f\u0440\u043e\u0438\u0437\u0432\u0435\u0434\u0435\u043d\u0438\u044f \u0432\u0435\u0440\u043e\u044f\u0442\u043d\u043e\u0441\u0442\u0435\u0439\n\u043d\u0430 \u0441\u043e\u043e\u0442\u0432\u0435\u0442\u0441\u0442\u0432\u0443\u044e\u0449\u0438\u0435 \u044d\u0442\u0438\u043c \u0432\u0435\u0440\u043e\u044f\u0442\u043d\u043e\u0441\u0442\u044f\u043c \u0437\u043d\u0430\u0447\u0435\u043d\u0438\u044f \u0437\u0430\u044f\u0432\u043e\u043a \u0432 \u0441\u0438\u0441\u0442\u0435\u043c\u0435(\u0434\u043b\u0438\u043d\u044b \u043e\u0447\u0435\u0440\u0435\u0434\u0435\u0439 + \u043a\u043e\u043b\u0438\u0447\u0435\u0441\u0442\u0432\u043e \u0437\u0430\u044f\u0432\u043e\u043a \u043d\u0430\n\u043e\u0431\u0441\u043b\u0443\u0436\u0438\u0432\u0430\u043d\u0438\u0438):\n$$\nL = (1 + 0) \\cdot P_1(t) + (1 + 1) \\cdot P_2(t) + (1 + 2) \\cdot P_3(t) + (1 + 3) \\cdot P_4(t) + \\text{...} + (1 + m - 1) \\cdot P_m\n+ 1 \\cdot P_{m+2}(t) + 2 \\cdot P_{m+3}(t) + \\text{...} + (m - 1) \\cdot P_{2m}(t)\n$$"
        },
        {
            "cell_type": "code",
            "execution_count": null,
            "metadata": {
                "trusted": true
            },
            "outputs": [],
            "source": "# \u041f\u043e\u043b\u0443\u0447\u0430\u0435\u043c \u043a\u043e\u043b\u0438\u0447\u0435\u0441\u0442\u0432\u043e \u0437\u0430\u044f\u0432\u043e\u043a \u043d\u0430 \u043e\u0431\u0441\u043b\u0443\u0436\u0438\u0432\u0430\u043d\u0438\u0438 \u0434\u043b\u044f \u0437\u0430\u0434\u0430\u043d\u043d\u043e\u0433\u043e \u0438\u043d\u0434\u0435\u043a\u0441\u0430 \u0432\u0435\u0440\u043e\u044f\u0442\u043d\u043e\u0441\u0442\u0438.\nP.get_number_of_requests_proccessed <- function(P_index) {\n    if (P_index > 0 && P_index <= m) {\n        return(1)\n    }\n\n    return(0)\n}\n\nP.get_product1 <- function(P_index) {\n    P.number_of_requests <- P.get_queue_length(P_index) + P.get_number_of_requests_proccessed(P_index)\n\n    return(get_P(P_index) * P.number_of_requests)\n}\n\nmean_number_of_requests <- sum(unlist(\n    lapply(c(2:m), P.get_product1)\n)) + sum(unlist(\n    lapply(c((m + 2):(2 * m)), P.get_product1)\n))\nmean_number_of_requests"
        },
        {
            "cell_type": "markdown",
            "metadata": {},
            "source": "### \u0421\u0440\u0435\u0434\u043d\u0435\u0435 \u0432\u0440\u0435\u043c\u044f \u043d\u0430\u0445\u043e\u0436\u0434\u0435\u043d\u0438\u044f \u0437\u0430\u044f\u0432\u043e\u043a \u0432 \u0441\u0438\u0441\u0442\u0435\u043c\u0435\n$$\nT =\\frac{L}{\\lambda'}\n$$"
        },
        {
            "cell_type": "code",
            "execution_count": null,
            "metadata": {
                "trusted": true
            },
            "outputs": [],
            "source": "mean_number_of_requests / absolute_flow_capacity"
        }
    ],
    "metadata": {
        "kernelspec": {
            "display_name": "R",
            "language": "R",
            "name": "ir"
        },
        "language_info": {
            "codemirror_mode": "r",
            "file_extension": ".r",
            "mimetype": "text/x-r-source",
            "name": "R",
            "pygments_lexer": "r",
            "version": "4.2.2"
        }
    },
    "nbformat": 4,
    "nbformat_minor": 5
}